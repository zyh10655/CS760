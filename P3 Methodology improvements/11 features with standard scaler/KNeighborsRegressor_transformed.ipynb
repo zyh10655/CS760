{
 "cells": [
  {
   "cell_type": "code",
   "execution_count": 14,
   "id": "ad39c398",
   "metadata": {},
   "outputs": [],
   "source": [
    "from sklearn.neighbors import KNeighborsRegressor\n",
    "from pathlib import Path\n",
    "import pandas as pd\n",
    "import numpy as np\n",
    "from sklearn.svm import LinearSVR\n",
    "from sklearn.model_selection import ParameterGrid\n",
    "from sklearn.metrics import mean_squared_error, mean_absolute_error\n",
    "from sklearn.model_selection import cross_val_score\n",
    "import optuna as opt\n",
    "from sklearn.preprocessing import StandardScaler\n",
    "from optuna.samplers import RandomSampler\n",
    "from optuna.samplers import TPESampler\n",
    "from sklearn.preprocessing import MinMaxScaler"
   ]
  },
  {
   "cell_type": "code",
   "execution_count": 3,
   "id": "dc3b5a0b",
   "metadata": {},
   "outputs": [
    {
     "name": "stdout",
     "output_type": "stream",
     "text": [
      "/Users/antonyjiao/Desktop/UOA Master of DS/COMPSCI 760/ready data\n"
     ]
    }
   ],
   "source": [
    "CWD = Path.cwd()\n",
    "DATA_DIR = CWD.parent / \"ready data\"\n",
    "print(DATA_DIR)"
   ]
  },
  {
   "cell_type": "code",
   "execution_count": 4,
   "id": "be69caea",
   "metadata": {},
   "outputs": [],
   "source": [
    "train = pd.read_parquet(DATA_DIR/\"train_main.parquet.snappy\")\n",
    "val = pd.read_parquet(DATA_DIR/\"val_main.parquet.snappy\")\n",
    "test = pd.read_parquet(DATA_DIR/\"test_main.parquet.snappy\")"
   ]
  },
  {
   "cell_type": "code",
   "execution_count": 5,
   "id": "f64c513b",
   "metadata": {},
   "outputs": [],
   "source": [
    "X_train = train.iloc[:,1:-1]\n",
    "y_train = train.iloc[:,-1]\n",
    "\n",
    "X_val = val.iloc[:,1:-1]\n",
    "y_val = val.iloc[:,-1]\n",
    "\n",
    "X_test = test.iloc[:,1:-1]\n",
    "y_test = test.iloc[:,-1]"
   ]
  },
  {
   "cell_type": "code",
   "execution_count": 6,
   "id": "d6e79690",
   "metadata": {},
   "outputs": [
    {
     "data": {
      "text/html": [
       "<div>\n",
       "<style scoped>\n",
       "    .dataframe tbody tr th:only-of-type {\n",
       "        vertical-align: middle;\n",
       "    }\n",
       "\n",
       "    .dataframe tbody tr th {\n",
       "        vertical-align: top;\n",
       "    }\n",
       "\n",
       "    .dataframe thead th {\n",
       "        text-align: right;\n",
       "    }\n",
       "</style>\n",
       "<table border=\"1\" class=\"dataframe\">\n",
       "  <thead>\n",
       "    <tr style=\"text-align: right;\">\n",
       "      <th></th>\n",
       "      <th>r_stars</th>\n",
       "      <th>r_stars_square</th>\n",
       "      <th>r_length</th>\n",
       "      <th>u_friends_count</th>\n",
       "      <th>u_review_count</th>\n",
       "      <th>u_month_age</th>\n",
       "      <th>b_stars</th>\n",
       "      <th>b_review_count</th>\n",
       "      <th>r_sen</th>\n",
       "      <th>r_sub</th>\n",
       "      <th>r_rea</th>\n",
       "    </tr>\n",
       "  </thead>\n",
       "  <tbody>\n",
       "    <tr>\n",
       "      <th>0</th>\n",
       "      <td>5</td>\n",
       "      <td>25</td>\n",
       "      <td>54</td>\n",
       "      <td>1</td>\n",
       "      <td>2</td>\n",
       "      <td>23.093032</td>\n",
       "      <td>4.0</td>\n",
       "      <td>7400</td>\n",
       "      <td>0.197348</td>\n",
       "      <td>0.293939</td>\n",
       "      <td>72.22</td>\n",
       "    </tr>\n",
       "    <tr>\n",
       "      <th>1</th>\n",
       "      <td>1</td>\n",
       "      <td>1</td>\n",
       "      <td>224</td>\n",
       "      <td>47</td>\n",
       "      <td>43</td>\n",
       "      <td>57.182693</td>\n",
       "      <td>3.0</td>\n",
       "      <td>27</td>\n",
       "      <td>0.088636</td>\n",
       "      <td>0.320328</td>\n",
       "      <td>89.28</td>\n",
       "    </tr>\n",
       "    <tr>\n",
       "      <th>2</th>\n",
       "      <td>4</td>\n",
       "      <td>16</td>\n",
       "      <td>18</td>\n",
       "      <td>35</td>\n",
       "      <td>112</td>\n",
       "      <td>44.484607</td>\n",
       "      <td>4.0</td>\n",
       "      <td>103</td>\n",
       "      <td>0.368750</td>\n",
       "      <td>0.412500</td>\n",
       "      <td>87.72</td>\n",
       "    </tr>\n",
       "    <tr>\n",
       "      <th>3</th>\n",
       "      <td>5</td>\n",
       "      <td>25</td>\n",
       "      <td>86</td>\n",
       "      <td>156</td>\n",
       "      <td>21</td>\n",
       "      <td>28.229579</td>\n",
       "      <td>5.0</td>\n",
       "      <td>5</td>\n",
       "      <td>0.150000</td>\n",
       "      <td>0.485000</td>\n",
       "      <td>49.86</td>\n",
       "    </tr>\n",
       "    <tr>\n",
       "      <th>4</th>\n",
       "      <td>5</td>\n",
       "      <td>25</td>\n",
       "      <td>79</td>\n",
       "      <td>6660</td>\n",
       "      <td>2492</td>\n",
       "      <td>40.995708</td>\n",
       "      <td>4.0</td>\n",
       "      <td>709</td>\n",
       "      <td>0.345833</td>\n",
       "      <td>0.541667</td>\n",
       "      <td>57.78</td>\n",
       "    </tr>\n",
       "  </tbody>\n",
       "</table>\n",
       "</div>"
      ],
      "text/plain": [
       "   r_stars  r_stars_square  r_length  u_friends_count  u_review_count  \\\n",
       "0        5              25        54                1               2   \n",
       "1        1               1       224               47              43   \n",
       "2        4              16        18               35             112   \n",
       "3        5              25        86              156              21   \n",
       "4        5              25        79             6660            2492   \n",
       "\n",
       "   u_month_age  b_stars  b_review_count     r_sen     r_sub  r_rea  \n",
       "0    23.093032      4.0            7400  0.197348  0.293939  72.22  \n",
       "1    57.182693      3.0              27  0.088636  0.320328  89.28  \n",
       "2    44.484607      4.0             103  0.368750  0.412500  87.72  \n",
       "3    28.229579      5.0               5  0.150000  0.485000  49.86  \n",
       "4    40.995708      4.0             709  0.345833  0.541667  57.78  "
      ]
     },
     "execution_count": 6,
     "metadata": {},
     "output_type": "execute_result"
    }
   ],
   "source": [
    "X_train.head()"
   ]
  },
  {
   "cell_type": "code",
   "execution_count": 7,
   "id": "c90a02bc",
   "metadata": {},
   "outputs": [],
   "source": [
    "# standardise the features\n",
    "\n",
    "ss = StandardScaler()\n",
    "X_train = ss.fit_transform(X_train)\n",
    "X_val = ss.transform(X_val)\n",
    "X_test = ss.transform(X_test)\n"
   ]
  },
  {
   "cell_type": "code",
   "execution_count": 8,
   "id": "6866bf35",
   "metadata": {},
   "outputs": [],
   "source": [
    "y_train = y_train.values\n",
    "y_val = y_val.values\n",
    "y_test = y_test.values"
   ]
  },
  {
   "cell_type": "markdown",
   "id": "bd168778",
   "metadata": {},
   "source": [
    "# Use Optuna to tune paramaters"
   ]
  },
  {
   "cell_type": "code",
   "execution_count": 9,
   "id": "237d144f",
   "metadata": {},
   "outputs": [],
   "source": [
    "def objective(trial):\n",
    "    params = {\n",
    "       \"n_neighbors\":trial.suggest_int('n_neighbors', 2, 100),\n",
    "       \"weights\":trial.suggest_categorical(\"weights\", ['uniform', 'distance']),\n",
    "       \"metric\":trial.suggest_categorical(\"metric\", ['euclidean', 'manhattan', 'minkowski'])\n",
    "  }\n",
    "\n",
    "\n",
    "    model = KNeighborsRegressor(**params)\n",
    "  \n",
    "    model.fit(X_train, y_train)\n",
    "    y_pred = model.predict(X_val)\n",
    "\n",
    "    return mean_squared_error(y_val, y_pred, squared=False)"
   ]
  },
  {
   "cell_type": "code",
   "execution_count": 9,
   "id": "570f0cc4",
   "metadata": {
    "scrolled": true
   },
   "outputs": [
    {
     "name": "stderr",
     "output_type": "stream",
     "text": [
      "\u001b[32m[I 2022-09-23 19:42:04,426]\u001b[0m A new study created in memory with name: no-name-dd804a4f-6d29-4856-92bb-2f6d2a400277\u001b[0m\n",
      "\u001b[32m[I 2022-09-23 19:53:00,295]\u001b[0m Trial 0 finished with value: 3.620883718995509 and parameters: {'n_neighbors': 45, 'weights': 'distance', 'metric': 'euclidean'}. Best is trial 0 with value: 3.620883718995509.\u001b[0m\n",
      "\u001b[32m[I 2022-09-23 20:10:46,259]\u001b[0m Trial 1 finished with value: 3.609878495125395 and parameters: {'n_neighbors': 22, 'weights': 'uniform', 'metric': 'manhattan'}. Best is trial 1 with value: 3.609878495125395.\u001b[0m\n",
      "\u001b[32m[I 2022-09-23 20:26:05,522]\u001b[0m Trial 2 finished with value: 3.6291339735255135 and parameters: {'n_neighbors': 15, 'weights': 'uniform', 'metric': 'manhattan'}. Best is trial 1 with value: 3.609878495125395.\u001b[0m\n",
      "\u001b[32m[I 2022-09-23 20:56:32,327]\u001b[0m Trial 3 finished with value: 3.588847833144679 and parameters: {'n_neighbors': 85, 'weights': 'distance', 'metric': 'manhattan'}. Best is trial 3 with value: 3.588847833144679.\u001b[0m\n",
      "\u001b[32m[I 2022-09-23 21:03:11,870]\u001b[0m Trial 4 finished with value: 3.696933354665565 and parameters: {'n_neighbors': 14, 'weights': 'uniform', 'metric': 'minkowski'}. Best is trial 3 with value: 3.588847833144679.\u001b[0m\n",
      "\u001b[32m[I 2022-09-23 21:27:29,419]\u001b[0m Trial 5 finished with value: 3.580062318234638 and parameters: {'n_neighbors': 48, 'weights': 'distance', 'metric': 'manhattan'}. Best is trial 5 with value: 3.580062318234638.\u001b[0m\n",
      "\u001b[32m[I 2022-09-23 21:57:14,282]\u001b[0m Trial 6 finished with value: 3.599684212397612 and parameters: {'n_neighbors': 80, 'weights': 'uniform', 'metric': 'manhattan'}. Best is trial 5 with value: 3.580062318234638.\u001b[0m\n",
      "\u001b[32m[I 2022-09-23 22:12:02,862]\u001b[0m Trial 7 finished with value: 3.621619979142951 and parameters: {'n_neighbors': 90, 'weights': 'distance', 'metric': 'minkowski'}. Best is trial 5 with value: 3.580062318234638.\u001b[0m\n",
      "\u001b[32m[I 2022-09-23 22:23:58,467]\u001b[0m Trial 8 finished with value: 3.627596256334599 and parameters: {'n_neighbors': 55, 'weights': 'uniform', 'metric': 'minkowski'}. Best is trial 5 with value: 3.580062318234638.\u001b[0m\n",
      "\u001b[32m[I 2022-09-23 22:46:59,199]\u001b[0m Trial 9 finished with value: 3.581995416978922 and parameters: {'n_neighbors': 42, 'weights': 'distance', 'metric': 'manhattan'}. Best is trial 5 with value: 3.580062318234638.\u001b[0m\n",
      "\u001b[32m[I 2022-09-23 22:59:17,287]\u001b[0m Trial 10 finished with value: 3.6197582915299105 and parameters: {'n_neighbors': 59, 'weights': 'distance', 'metric': 'euclidean'}. Best is trial 5 with value: 3.580062318234638.\u001b[0m\n",
      "\u001b[32m[I 2022-09-23 23:21:22,745]\u001b[0m Trial 11 finished with value: 3.5813163121835454 and parameters: {'n_neighbors': 38, 'weights': 'distance', 'metric': 'manhattan'}. Best is trial 5 with value: 3.580062318234638.\u001b[0m\n",
      "\u001b[32m[I 2022-09-23 23:42:18,099]\u001b[0m Trial 12 finished with value: 3.5826803665925433 and parameters: {'n_neighbors': 33, 'weights': 'distance', 'metric': 'manhattan'}. Best is trial 5 with value: 3.580062318234638.\u001b[0m\n",
      "\u001b[32m[I 2022-09-24 00:09:49,519]\u001b[0m Trial 13 finished with value: 3.5820578333498694 and parameters: {'n_neighbors': 65, 'weights': 'distance', 'metric': 'manhattan'}. Best is trial 5 with value: 3.580062318234638.\u001b[0m\n",
      "\u001b[32m[I 2022-09-24 00:19:26,270]\u001b[0m Trial 14 finished with value: 3.6321784356249402 and parameters: {'n_neighbors': 30, 'weights': 'distance', 'metric': 'euclidean'}. Best is trial 5 with value: 3.580062318234638.\u001b[0m\n",
      "\u001b[32m[I 2022-09-24 00:30:37,123]\u001b[0m Trial 15 finished with value: 3.7872594464104696 and parameters: {'n_neighbors': 6, 'weights': 'distance', 'metric': 'manhattan'}. Best is trial 5 with value: 3.580062318234638.\u001b[0m\n",
      "\u001b[32m[I 2022-09-24 00:59:22,062]\u001b[0m Trial 16 finished with value: 3.5829770541904655 and parameters: {'n_neighbors': 68, 'weights': 'distance', 'metric': 'manhattan'}. Best is trial 5 with value: 3.580062318234638.\u001b[0m\n",
      "\u001b[32m[I 2022-09-24 01:22:29,868]\u001b[0m Trial 17 finished with value: 3.58172884078234 and parameters: {'n_neighbors': 40, 'weights': 'distance', 'metric': 'manhattan'}. Best is trial 5 with value: 3.580062318234638.\u001b[0m\n",
      "\u001b[32m[I 2022-09-24 01:34:18,608]\u001b[0m Trial 18 finished with value: 3.6201277240835066 and parameters: {'n_neighbors': 51, 'weights': 'distance', 'metric': 'euclidean'}. Best is trial 5 with value: 3.580062318234638.\u001b[0m\n",
      "\u001b[32m[I 2022-09-24 01:50:03,732]\u001b[0m Trial 19 finished with value: 3.6215750124929103 and parameters: {'n_neighbors': 98, 'weights': 'distance', 'metric': 'minkowski'}. Best is trial 5 with value: 3.580062318234638.\u001b[0m\n",
      "\u001b[32m[I 2022-09-24 02:19:32,527]\u001b[0m Trial 20 finished with value: 3.585234439831942 and parameters: {'n_neighbors': 74, 'weights': 'distance', 'metric': 'manhattan'}. Best is trial 5 with value: 3.580062318234638.\u001b[0m\n",
      "\u001b[32m[I 2022-09-24 02:41:55,857]\u001b[0m Trial 21 finished with value: 3.5809114251422973 and parameters: {'n_neighbors': 37, 'weights': 'distance', 'metric': 'manhattan'}. Best is trial 5 with value: 3.580062318234638.\u001b[0m\n",
      "\u001b[32m[I 2022-09-24 03:03:02,152]\u001b[0m Trial 22 finished with value: 3.582894257936255 and parameters: {'n_neighbors': 32, 'weights': 'distance', 'metric': 'manhattan'}. Best is trial 5 with value: 3.580062318234638.\u001b[0m\n",
      "\u001b[32m[I 2022-09-24 03:22:09,765]\u001b[0m Trial 23 finished with value: 3.592401320666864 and parameters: {'n_neighbors': 25, 'weights': 'distance', 'metric': 'manhattan'}. Best is trial 5 with value: 3.580062318234638.\u001b[0m\n",
      "\u001b[32m[I 2022-09-24 03:47:11,180]\u001b[0m Trial 24 finished with value: 3.579421611685314 and parameters: {'n_neighbors': 49, 'weights': 'distance', 'metric': 'manhattan'}. Best is trial 24 with value: 3.579421611685314.\u001b[0m\n",
      "\u001b[32m[I 2022-09-24 04:12:00,688]\u001b[0m Trial 25 finished with value: 3.580062318234638 and parameters: {'n_neighbors': 48, 'weights': 'distance', 'metric': 'manhattan'}. Best is trial 24 with value: 3.579421611685314.\u001b[0m\n",
      "\u001b[32m[I 2022-09-24 04:36:44,019]\u001b[0m Trial 26 finished with value: 3.5919828565335212 and parameters: {'n_neighbors': 48, 'weights': 'uniform', 'metric': 'manhattan'}. Best is trial 24 with value: 3.579421611685314.\u001b[0m\n",
      "\u001b[32m[I 2022-09-24 05:03:52,999]\u001b[0m Trial 27 finished with value: 3.5807024353391297 and parameters: {'n_neighbors': 60, 'weights': 'distance', 'metric': 'manhattan'}. Best is trial 24 with value: 3.579421611685314.\u001b[0m\n",
      "\u001b[32m[I 2022-09-24 05:15:56,070]\u001b[0m Trial 28 finished with value: 3.6199946347985663 and parameters: {'n_neighbors': 53, 'weights': 'distance', 'metric': 'minkowski'}. Best is trial 24 with value: 3.579421611685314.\u001b[0m\n",
      "\u001b[32m[I 2022-09-24 05:27:17,491]\u001b[0m Trial 29 finished with value: 3.621226668866072 and parameters: {'n_neighbors': 46, 'weights': 'distance', 'metric': 'euclidean'}. Best is trial 24 with value: 3.579421611685314.\u001b[0m\n",
      "\u001b[32m[I 2022-09-24 05:40:50,488]\u001b[0m Trial 30 finished with value: 3.619573419757046 and parameters: {'n_neighbors': 69, 'weights': 'distance', 'metric': 'euclidean'}. Best is trial 24 with value: 3.579421611685314.\u001b[0m\n",
      "\u001b[32m[I 2022-09-24 06:07:03,119]\u001b[0m Trial 31 finished with value: 3.579160505360945 and parameters: {'n_neighbors': 55, 'weights': 'distance', 'metric': 'manhattan'}. Best is trial 31 with value: 3.579160505360945.\u001b[0m\n",
      "\u001b[32m[I 2022-09-24 06:33:58,963]\u001b[0m Trial 32 finished with value: 3.5795988175802336 and parameters: {'n_neighbors': 58, 'weights': 'distance', 'metric': 'manhattan'}. Best is trial 31 with value: 3.579160505360945.\u001b[0m\n",
      "\u001b[32m[I 2022-09-24 07:01:08,491]\u001b[0m Trial 33 finished with value: 3.5807024353391297 and parameters: {'n_neighbors': 60, 'weights': 'distance', 'metric': 'manhattan'}. Best is trial 31 with value: 3.579160505360945.\u001b[0m\n",
      "\u001b[32m[I 2022-09-24 07:27:31,777]\u001b[0m Trial 34 finished with value: 3.5911656604520945 and parameters: {'n_neighbors': 56, 'weights': 'uniform', 'metric': 'manhattan'}. Best is trial 31 with value: 3.579160505360945.\u001b[0m\n",
      "\u001b[32m[I 2022-09-24 07:57:15,248]\u001b[0m Trial 35 finished with value: 3.5853129327479167 and parameters: {'n_neighbors': 75, 'weights': 'distance', 'metric': 'manhattan'}. Best is trial 31 with value: 3.579160505360945.\u001b[0m\n",
      "\u001b[32m[I 2022-09-24 08:24:58,476]\u001b[0m Trial 36 finished with value: 3.594014803757894 and parameters: {'n_neighbors': 63, 'weights': 'uniform', 'metric': 'manhattan'}. Best is trial 31 with value: 3.579160505360945.\u001b[0m\n"
     ]
    },
    {
     "name": "stderr",
     "output_type": "stream",
     "text": [
      "\u001b[32m[I 2022-09-24 08:48:59,878]\u001b[0m Trial 37 finished with value: 3.5806089589792314 and parameters: {'n_neighbors': 44, 'weights': 'distance', 'metric': 'manhattan'}. Best is trial 31 with value: 3.579160505360945.\u001b[0m\n",
      "\u001b[32m[I 2022-09-24 09:14:32,367]\u001b[0m Trial 38 finished with value: 3.5785219808313804 and parameters: {'n_neighbors': 51, 'weights': 'distance', 'metric': 'manhattan'}. Best is trial 38 with value: 3.5785219808313804.\u001b[0m\n",
      "\u001b[32m[I 2022-09-24 09:28:20,595]\u001b[0m Trial 39 finished with value: 3.6273855217256035 and parameters: {'n_neighbors': 72, 'weights': 'uniform', 'metric': 'minkowski'}. Best is trial 38 with value: 3.5785219808313804.\u001b[0m\n",
      "\u001b[32m[I 2022-09-24 09:59:19,875]\u001b[0m Trial 40 finished with value: 3.5882148389817408 and parameters: {'n_neighbors': 83, 'weights': 'distance', 'metric': 'manhattan'}. Best is trial 38 with value: 3.5785219808313804.\u001b[0m\n",
      "\u001b[32m[I 2022-09-24 10:24:35,356]\u001b[0m Trial 41 finished with value: 3.5788850029602086 and parameters: {'n_neighbors': 50, 'weights': 'distance', 'metric': 'manhattan'}. Best is trial 38 with value: 3.5785219808313804.\u001b[0m\n",
      "\u001b[32m[I 2022-09-24 10:50:31,589]\u001b[0m Trial 42 finished with value: 3.578512758979803 and parameters: {'n_neighbors': 53, 'weights': 'distance', 'metric': 'manhattan'}. Best is trial 42 with value: 3.578512758979803.\u001b[0m\n",
      "\u001b[32m[I 2022-09-24 11:16:10,321]\u001b[0m Trial 43 finished with value: 3.578512758979803 and parameters: {'n_neighbors': 53, 'weights': 'distance', 'metric': 'manhattan'}. Best is trial 42 with value: 3.578512758979803.\u001b[0m\n",
      "\u001b[32m[I 2022-09-24 11:42:01,879]\u001b[0m Trial 44 finished with value: 3.578512758979803 and parameters: {'n_neighbors': 53, 'weights': 'distance', 'metric': 'manhattan'}. Best is trial 42 with value: 3.578512758979803.\u001b[0m\n",
      "\u001b[32m[I 2022-09-24 12:05:19,030]\u001b[0m Trial 45 finished with value: 3.5819636066589022 and parameters: {'n_neighbors': 41, 'weights': 'distance', 'metric': 'manhattan'}. Best is trial 42 with value: 3.578512758979803.\u001b[0m\n",
      "\u001b[32m[I 2022-09-24 12:33:10,926]\u001b[0m Trial 46 finished with value: 3.5817362091177083 and parameters: {'n_neighbors': 64, 'weights': 'distance', 'metric': 'manhattan'}. Best is trial 42 with value: 3.578512758979803.\u001b[0m\n",
      "\u001b[32m[I 2022-09-24 12:45:12,057]\u001b[0m Trial 47 finished with value: 3.627664554633975 and parameters: {'n_neighbors': 53, 'weights': 'uniform', 'metric': 'minkowski'}. Best is trial 42 with value: 3.578512758979803.\u001b[0m\n",
      "\u001b[32m[I 2022-09-24 13:07:36,426]\u001b[0m Trial 48 finished with value: 3.5809114251422973 and parameters: {'n_neighbors': 37, 'weights': 'distance', 'metric': 'manhattan'}. Best is trial 42 with value: 3.578512758979803.\u001b[0m\n",
      "\u001b[32m[I 2022-09-24 13:18:38,742]\u001b[0m Trial 49 finished with value: 3.6205352183278756 and parameters: {'n_neighbors': 44, 'weights': 'distance', 'metric': 'euclidean'}. Best is trial 42 with value: 3.578512758979803.\u001b[0m\n"
     ]
    },
    {
     "data": {
      "text/plain": [
       "{'n_neighbors': 53, 'weights': 'distance', 'metric': 'manhattan'}"
      ]
     },
     "execution_count": 9,
     "metadata": {},
     "output_type": "execute_result"
    }
   ],
   "source": [
    "RANDOM_SEED = 2\n",
    "study = opt.create_study(direction='minimize', sampler=TPESampler(seed=RANDOM_SEED))\n",
    "study.optimize(objective, n_trials=50)\n",
    "study.best_params"
   ]
  },
  {
   "cell_type": "markdown",
   "id": "27246431",
   "metadata": {},
   "source": [
    "## Fit the best model"
   ]
  },
  {
   "cell_type": "code",
   "execution_count": 8,
   "id": "9fdf0d6e",
   "metadata": {},
   "outputs": [
    {
     "data": {
      "text/html": [
       "<style>#sk-container-id-1 {color: black;background-color: white;}#sk-container-id-1 pre{padding: 0;}#sk-container-id-1 div.sk-toggleable {background-color: white;}#sk-container-id-1 label.sk-toggleable__label {cursor: pointer;display: block;width: 100%;margin-bottom: 0;padding: 0.3em;box-sizing: border-box;text-align: center;}#sk-container-id-1 label.sk-toggleable__label-arrow:before {content: \"▸\";float: left;margin-right: 0.25em;color: #696969;}#sk-container-id-1 label.sk-toggleable__label-arrow:hover:before {color: black;}#sk-container-id-1 div.sk-estimator:hover label.sk-toggleable__label-arrow:before {color: black;}#sk-container-id-1 div.sk-toggleable__content {max-height: 0;max-width: 0;overflow: hidden;text-align: left;background-color: #f0f8ff;}#sk-container-id-1 div.sk-toggleable__content pre {margin: 0.2em;color: black;border-radius: 0.25em;background-color: #f0f8ff;}#sk-container-id-1 input.sk-toggleable__control:checked~div.sk-toggleable__content {max-height: 200px;max-width: 100%;overflow: auto;}#sk-container-id-1 input.sk-toggleable__control:checked~label.sk-toggleable__label-arrow:before {content: \"▾\";}#sk-container-id-1 div.sk-estimator input.sk-toggleable__control:checked~label.sk-toggleable__label {background-color: #d4ebff;}#sk-container-id-1 div.sk-label input.sk-toggleable__control:checked~label.sk-toggleable__label {background-color: #d4ebff;}#sk-container-id-1 input.sk-hidden--visually {border: 0;clip: rect(1px 1px 1px 1px);clip: rect(1px, 1px, 1px, 1px);height: 1px;margin: -1px;overflow: hidden;padding: 0;position: absolute;width: 1px;}#sk-container-id-1 div.sk-estimator {font-family: monospace;background-color: #f0f8ff;border: 1px dotted black;border-radius: 0.25em;box-sizing: border-box;margin-bottom: 0.5em;}#sk-container-id-1 div.sk-estimator:hover {background-color: #d4ebff;}#sk-container-id-1 div.sk-parallel-item::after {content: \"\";width: 100%;border-bottom: 1px solid gray;flex-grow: 1;}#sk-container-id-1 div.sk-label:hover label.sk-toggleable__label {background-color: #d4ebff;}#sk-container-id-1 div.sk-serial::before {content: \"\";position: absolute;border-left: 1px solid gray;box-sizing: border-box;top: 0;bottom: 0;left: 50%;z-index: 0;}#sk-container-id-1 div.sk-serial {display: flex;flex-direction: column;align-items: center;background-color: white;padding-right: 0.2em;padding-left: 0.2em;position: relative;}#sk-container-id-1 div.sk-item {position: relative;z-index: 1;}#sk-container-id-1 div.sk-parallel {display: flex;align-items: stretch;justify-content: center;background-color: white;position: relative;}#sk-container-id-1 div.sk-item::before, #sk-container-id-1 div.sk-parallel-item::before {content: \"\";position: absolute;border-left: 1px solid gray;box-sizing: border-box;top: 0;bottom: 0;left: 50%;z-index: -1;}#sk-container-id-1 div.sk-parallel-item {display: flex;flex-direction: column;z-index: 1;position: relative;background-color: white;}#sk-container-id-1 div.sk-parallel-item:first-child::after {align-self: flex-end;width: 50%;}#sk-container-id-1 div.sk-parallel-item:last-child::after {align-self: flex-start;width: 50%;}#sk-container-id-1 div.sk-parallel-item:only-child::after {width: 0;}#sk-container-id-1 div.sk-dashed-wrapped {border: 1px dashed gray;margin: 0 0.4em 0.5em 0.4em;box-sizing: border-box;padding-bottom: 0.4em;background-color: white;}#sk-container-id-1 div.sk-label label {font-family: monospace;font-weight: bold;display: inline-block;line-height: 1.2em;}#sk-container-id-1 div.sk-label-container {text-align: center;}#sk-container-id-1 div.sk-container {/* jupyter's `normalize.less` sets `[hidden] { display: none; }` but bootstrap.min.css set `[hidden] { display: none !important; }` so we also need the `!important` here to be able to override the default hidden behavior on the sphinx rendered scikit-learn.org. See: https://github.com/scikit-learn/scikit-learn/issues/21755 */display: inline-block !important;position: relative;}#sk-container-id-1 div.sk-text-repr-fallback {display: none;}</style><div id=\"sk-container-id-1\" class=\"sk-top-container\"><div class=\"sk-text-repr-fallback\"><pre>KNeighborsRegressor(metric=&#x27;manhattan&#x27;, n_neighbors=53, weights=&#x27;distance&#x27;)</pre><b>In a Jupyter environment, please rerun this cell to show the HTML representation or trust the notebook. <br />On GitHub, the HTML representation is unable to render, please try loading this page with nbviewer.org.</b></div><div class=\"sk-container\" hidden><div class=\"sk-item\"><div class=\"sk-estimator sk-toggleable\"><input class=\"sk-toggleable__control sk-hidden--visually\" id=\"sk-estimator-id-1\" type=\"checkbox\" checked><label for=\"sk-estimator-id-1\" class=\"sk-toggleable__label sk-toggleable__label-arrow\">KNeighborsRegressor</label><div class=\"sk-toggleable__content\"><pre>KNeighborsRegressor(metric=&#x27;manhattan&#x27;, n_neighbors=53, weights=&#x27;distance&#x27;)</pre></div></div></div></div></div>"
      ],
      "text/plain": [
       "KNeighborsRegressor(metric='manhattan', n_neighbors=53, weights='distance')"
      ]
     },
     "execution_count": 8,
     "metadata": {},
     "output_type": "execute_result"
    }
   ],
   "source": [
    "model = KNeighborsRegressor(n_neighbors=53, weights='distance', metric='manhattan')\n",
    "model.fit(X_train, y_train)"
   ]
  },
  {
   "cell_type": "code",
   "execution_count": 11,
   "id": "3e290fef",
   "metadata": {},
   "outputs": [],
   "source": [
    "def predict_scores(model, X, y_true):\n",
    "    y_pred = model.predict(X)\n",
    "    rmse = mean_squared_error(y_true, y_pred, squared=False)\n",
    "    mae = mean_absolute_error(y_true, y_pred)\n",
    "    return {\"RMSE\": rmse, \"MAE\": mae}"
   ]
  },
  {
   "cell_type": "code",
   "execution_count": 11,
   "id": "3e7e7649",
   "metadata": {},
   "outputs": [
    {
     "name": "stdout",
     "output_type": "stream",
     "text": [
      "Train\n"
     ]
    },
    {
     "data": {
      "text/plain": [
       "{'RMSE': 0.0011014642774033146, 'MAE': 1.4558682652747272e-06}"
      ]
     },
     "execution_count": 11,
     "metadata": {},
     "output_type": "execute_result"
    }
   ],
   "source": [
    "print(\"Train\")\n",
    "predict_scores(model, X_train, y_train)"
   ]
  },
  {
   "cell_type": "code",
   "execution_count": 12,
   "id": "1ded180f",
   "metadata": {},
   "outputs": [
    {
     "name": "stdout",
     "output_type": "stream",
     "text": [
      "Test\n"
     ]
    },
    {
     "data": {
      "text/plain": [
       "{'RMSE': 3.8658359875544495, 'MAE': 1.5875182972464363}"
      ]
     },
     "execution_count": 12,
     "metadata": {},
     "output_type": "execute_result"
    }
   ],
   "source": [
    "print(\"Test\")\n",
    "predict_scores(model, X_test, y_test)"
   ]
  },
  {
   "cell_type": "code",
   "execution_count": 12,
   "id": "73c933a7",
   "metadata": {},
   "outputs": [
    {
     "name": "stdout",
     "output_type": "stream",
     "text": [
      "Train\n",
      "Test\n"
     ]
    },
    {
     "data": {
      "text/plain": [
       "{'RMSE': 3.906448855073718, 'MAE': 1.6141914358684413}"
      ]
     },
     "execution_count": 12,
     "metadata": {},
     "output_type": "execute_result"
    }
   ],
   "source": [
    "# Try decrease the n_neighbors\n",
    "model = KNeighborsRegressor(n_neighbors=20, weights='distance', metric='manhattan')\n",
    "model.fit(X_train, y_train)\n",
    "print(\"Train\")\n",
    "predict_scores(model, X_train, y_train)\n",
    "print(\"Test\")\n",
    "predict_scores(model, X_test, y_test)"
   ]
  },
  {
   "cell_type": "markdown",
   "id": "f77f9ea4",
   "metadata": {},
   "source": [
    "# MinMaxScaler Dataset"
   ]
  },
  {
   "cell_type": "code",
   "execution_count": 15,
   "id": "559bceb4",
   "metadata": {},
   "outputs": [],
   "source": [
    "train = pd.read_parquet(DATA_DIR/\"train_main.parquet.snappy\")\n",
    "val = pd.read_parquet(DATA_DIR/\"val_main.parquet.snappy\")\n",
    "test = pd.read_parquet(DATA_DIR/\"test_main.parquet.snappy\")\n",
    "X_train = train.iloc[:,1:-1]\n",
    "y_train = train.iloc[:,-1]\n",
    "\n",
    "X_val = val.iloc[:,1:-1]\n",
    "y_val = val.iloc[:,-1]\n",
    "\n",
    "X_test = test.iloc[:,1:-1]\n",
    "y_test = test.iloc[:,-1]\n",
    "\n",
    "ss = MinMaxScaler() # MinMaxScaler transfer\n",
    "X_train = ss.fit_transform(X_train)\n",
    "X_val = ss.transform(X_val)\n",
    "X_test = ss.transform(X_test)\n",
    "\n",
    "y_train = y_train.values\n",
    "y_val = y_val.values\n",
    "y_test = y_test.values"
   ]
  },
  {
   "cell_type": "code",
   "execution_count": 17,
   "id": "cccdc8f4",
   "metadata": {},
   "outputs": [
    {
     "name": "stdout",
     "output_type": "stream",
     "text": [
      "On training set: RMSE: 0.0011014642774033146 MAE 1.4558682652747272e-06\n",
      "On test set: RMSE: 3.993717421325375 MAE 1.6110233225428847\n"
     ]
    }
   ],
   "source": [
    "model = KNeighborsRegressor(n_neighbors=53, weights='distance', metric='manhattan')\n",
    "model.fit(X_train, y_train)\n",
    "\n",
    "y_pred_train = model.predict(X_train)\n",
    "y_pred_test  = model.predict(X_test)\n",
    "\n",
    "\n",
    "mae = mean_absolute_error(y_train, y_pred_train)\n",
    "mse = mean_squared_error(y_train, y_pred_train)\n",
    "rmse = np.sqrt(mse)\n",
    "print(\"On training set: RMSE:\", rmse, \"MAE\", mae)\n",
    "\n",
    "#Prediction(test) \n",
    "mae = mean_absolute_error(y_test, y_pred_test)\n",
    "mse = mean_squared_error(y_test, y_pred_test)\n",
    "rmse = np.sqrt(mse)\n",
    "print(\"On test set: RMSE:\", rmse, \"MAE\", mae)"
   ]
  },
  {
   "cell_type": "code",
   "execution_count": null,
   "id": "1d04ede1",
   "metadata": {},
   "outputs": [],
   "source": []
  }
 ],
 "metadata": {
  "kernelspec": {
   "display_name": "Python 3 (ipykernel)",
   "language": "python",
   "name": "python3"
  },
  "language_info": {
   "codemirror_mode": {
    "name": "ipython",
    "version": 3
   },
   "file_extension": ".py",
   "mimetype": "text/x-python",
   "name": "python",
   "nbconvert_exporter": "python",
   "pygments_lexer": "ipython3",
   "version": "3.9.12"
  }
 },
 "nbformat": 4,
 "nbformat_minor": 5
}
