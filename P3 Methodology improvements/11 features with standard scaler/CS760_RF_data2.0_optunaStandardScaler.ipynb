{
 "cells": [
  {
   "cell_type": "markdown",
   "id": "c3d9a16d-9c1e-439f-a59c-b5451c278b43",
   "metadata": {},
   "source": [
    "## Random Forest with StandardScaler and optuna on dataset2.0\n",
    "dataset: 11 features, normalizsation of useful vote removed\n",
    "\n",
    "20220926"
   ]
  },
  {
   "cell_type": "code",
   "execution_count": 1,
   "id": "a2e5b6b0-5345-44ef-9b8a-9ba09966c51c",
   "metadata": {},
   "outputs": [],
   "source": [
    "import pandas as pd\n",
    "import numpy as np\n",
    "from numpy import random\n",
    "import matplotlib.pyplot as plt\n",
    "from sklearn.linear_model import SGDRegressor\n",
    "from sklearn.linear_model import LinearRegression\n",
    "from sklearn.metrics import mean_absolute_error\n",
    "from sklearn.metrics import mean_squared_error\n",
    "from sklearn.pipeline import make_pipeline\n",
    "from sklearn.preprocessing import StandardScaler\n",
    "import re\n",
    "from sklearn.ensemble import RandomForestRegressor\n",
    "from sklearn.model_selection import GridSearchCV\n",
    "from sklearn.model_selection import ParameterGrid\n",
    "import optuna as opt\n",
    "import warnings\n",
    "warnings.filterwarnings(\"ignore\")\n",
    "import time"
   ]
  },
  {
   "cell_type": "code",
   "execution_count": 2,
   "id": "de644270-d411-4800-af36-c069e2b72916",
   "metadata": {},
   "outputs": [],
   "source": [
    "#import data\n",
    "train_df = pd.read_parquet(\"train_main.parquet.snappy\")\n",
    "test_df = pd.read_parquet(\"test_main.parquet.snappy\")\n",
    "val_df = pd.read_parquet(\"val_main.parquet.snappy\")"
   ]
  },
  {
   "cell_type": "code",
   "execution_count": 3,
   "id": "56c9ba29-2361-4d5c-b216-b8a79e6d99d8",
   "metadata": {},
   "outputs": [],
   "source": [
    "X_train = train_df.drop(['r_id','r_useful'],axis=1)\n",
    "y_train = train_df['r_useful']\n",
    "X_test = test_df.drop(['r_id','r_useful'],axis=1)\n",
    "y_test = test_df['r_useful']\n",
    "X_val = val_df.drop(['r_id','r_useful'],axis=1)\n",
    "y_val = val_df['r_useful']\n",
    "\n",
    "# standardise the features\n",
    "ss = StandardScaler()\n",
    "X_train = ss.fit_transform(X_train)\n",
    "X_val = ss.transform(X_val)\n",
    "X_test = ss.transform(X_test)"
   ]
  },
  {
   "cell_type": "code",
   "execution_count": null,
   "id": "a2addcfb-1658-46d5-986e-39ceeab72236",
   "metadata": {},
   "outputs": [],
   "source": []
  },
  {
   "cell_type": "code",
   "execution_count": 6,
   "id": "598e0872-b50d-45df-8c2d-42829367c5a0",
   "metadata": {},
   "outputs": [],
   "source": [
    "def objective(trial):\n",
    "    start = time.time()\n",
    "    params = {\n",
    "        \"n_estimators\": trial.suggest_int('n_estimators', 1, 500, 50),\n",
    "        \"max_depth\": trial.suggest_int('max_depth', 1, 500, 50),\n",
    "        \"min_samples_split\": trial.suggest_int('min_samples_split', 2, 20),\n",
    "        \"max_features\" : trial.suggest_categorical(\"max_features\", ['sqrt', 'log2']),\n",
    "        \"min_samples_leaf\": trial.suggest_int('min_samples_leaf', 1, 20), \n",
    "        \"random_state\": 760, \n",
    "        \"n_jobs\": -1\n",
    "    }\n",
    "    print(\"Currently running with:\")\n",
    "    print(params)\n",
    "    \n",
    "    model = RandomForestRegressor(**params)\n",
    "    \n",
    "    model.fit(X_train, y_train)\n",
    "    y_pred = model.predict(X_val)\n",
    "    print(\"Time cost:\", time.time()-start)\n",
    "    return mean_squared_error(y_val, y_pred, squared=False)"
   ]
  },
  {
   "cell_type": "code",
   "execution_count": 7,
   "id": "dc6a648c-a11b-43b4-b337-3d92d505e0b6",
   "metadata": {},
   "outputs": [
    {
     "name": "stderr",
     "output_type": "stream",
     "text": [
      "\u001b[32m[I 2022-09-26 17:07:54,407]\u001b[0m A new study created in memory with name: no-name-792aad30-3e29-4e5a-a262-fd6fb6e389f9\u001b[0m\n"
     ]
    },
    {
     "name": "stdout",
     "output_type": "stream",
     "text": [
      "Currently running with:\n",
      "{'n_estimators': 1, 'max_depth': 151, 'min_samples_split': 6, 'max_features': 'log2', 'min_samples_leaf': 8, 'random_state': 760, 'n_jobs': -1}\n"
     ]
    },
    {
     "name": "stderr",
     "output_type": "stream",
     "text": [
      "\u001b[32m[I 2022-09-26 17:07:59,122]\u001b[0m Trial 0 finished with value: 3.9679400799878497 and parameters: {'n_estimators': 1, 'max_depth': 151, 'min_samples_split': 6, 'max_features': 'log2', 'min_samples_leaf': 8}. Best is trial 0 with value: 3.9679400799878497.\u001b[0m\n"
     ]
    },
    {
     "name": "stdout",
     "output_type": "stream",
     "text": [
      "Time cost: 4.710000276565552\n",
      "Currently running with:\n",
      "{'n_estimators': 401, 'max_depth': 1, 'min_samples_split': 5, 'max_features': 'sqrt', 'min_samples_leaf': 1, 'random_state': 760, 'n_jobs': -1}\n"
     ]
    },
    {
     "name": "stderr",
     "output_type": "stream",
     "text": [
      "\u001b[32m[I 2022-09-26 17:08:33,939]\u001b[0m Trial 1 finished with value: 3.961959658873423 and parameters: {'n_estimators': 401, 'max_depth': 1, 'min_samples_split': 5, 'max_features': 'sqrt', 'min_samples_leaf': 1}. Best is trial 1 with value: 3.961959658873423.\u001b[0m\n"
     ]
    },
    {
     "name": "stdout",
     "output_type": "stream",
     "text": [
      "Time cost: 34.81500029563904\n",
      "Currently running with:\n",
      "{'n_estimators': 151, 'max_depth': 451, 'min_samples_split': 12, 'max_features': 'sqrt', 'min_samples_leaf': 3, 'random_state': 760, 'n_jobs': -1}\n"
     ]
    },
    {
     "name": "stderr",
     "output_type": "stream",
     "text": [
      "\u001b[32m[I 2022-09-26 17:10:33,731]\u001b[0m Trial 2 finished with value: 3.329658456414616 and parameters: {'n_estimators': 151, 'max_depth': 451, 'min_samples_split': 12, 'max_features': 'sqrt', 'min_samples_leaf': 3}. Best is trial 2 with value: 3.329658456414616.\u001b[0m\n"
     ]
    },
    {
     "name": "stdout",
     "output_type": "stream",
     "text": [
      "Time cost: 119.66299939155579\n",
      "Currently running with:\n",
      "{'n_estimators': 351, 'max_depth': 451, 'min_samples_split': 16, 'max_features': 'log2', 'min_samples_leaf': 9, 'random_state': 760, 'n_jobs': -1}\n"
     ]
    },
    {
     "name": "stderr",
     "output_type": "stream",
     "text": [
      "\u001b[32m[I 2022-09-26 17:15:02,450]\u001b[0m Trial 3 finished with value: 3.367904964982319 and parameters: {'n_estimators': 351, 'max_depth': 451, 'min_samples_split': 16, 'max_features': 'log2', 'min_samples_leaf': 9}. Best is trial 2 with value: 3.329658456414616.\u001b[0m\n"
     ]
    },
    {
     "name": "stdout",
     "output_type": "stream",
     "text": [
      "Time cost: 268.55871057510376\n",
      "Currently running with:\n",
      "{'n_estimators': 101, 'max_depth': 301, 'min_samples_split': 6, 'max_features': 'sqrt', 'min_samples_leaf': 2, 'random_state': 760, 'n_jobs': -1}\n"
     ]
    },
    {
     "name": "stderr",
     "output_type": "stream",
     "text": [
      "\u001b[32m[I 2022-09-26 17:16:25,028]\u001b[0m Trial 4 finished with value: 3.310562884123113 and parameters: {'n_estimators': 101, 'max_depth': 301, 'min_samples_split': 6, 'max_features': 'sqrt', 'min_samples_leaf': 2}. Best is trial 4 with value: 3.310562884123113.\u001b[0m\n"
     ]
    },
    {
     "name": "stdout",
     "output_type": "stream",
     "text": [
      "Time cost: 82.42200064659119\n",
      "Currently running with:\n",
      "{'n_estimators': 251, 'max_depth': 301, 'min_samples_split': 3, 'max_features': 'sqrt', 'min_samples_leaf': 15, 'random_state': 760, 'n_jobs': -1}\n"
     ]
    },
    {
     "name": "stderr",
     "output_type": "stream",
     "text": [
      "\u001b[32m[I 2022-09-26 17:19:34,321]\u001b[0m Trial 5 finished with value: 3.4077617930921402 and parameters: {'n_estimators': 251, 'max_depth': 301, 'min_samples_split': 3, 'max_features': 'sqrt', 'min_samples_leaf': 15}. Best is trial 4 with value: 3.310562884123113.\u001b[0m\n"
     ]
    },
    {
     "name": "stdout",
     "output_type": "stream",
     "text": [
      "Time cost: 189.21600127220154\n",
      "Currently running with:\n",
      "{'n_estimators': 1, 'max_depth': 251, 'min_samples_split': 19, 'max_features': 'sqrt', 'min_samples_leaf': 2, 'random_state': 760, 'n_jobs': -1}\n"
     ]
    },
    {
     "name": "stderr",
     "output_type": "stream",
     "text": [
      "\u001b[32m[I 2022-09-26 17:19:39,146]\u001b[0m Trial 6 finished with value: 4.406359771972848 and parameters: {'n_estimators': 1, 'max_depth': 251, 'min_samples_split': 19, 'max_features': 'sqrt', 'min_samples_leaf': 2}. Best is trial 4 with value: 3.310562884123113.\u001b[0m\n"
     ]
    },
    {
     "name": "stdout",
     "output_type": "stream",
     "text": [
      "Time cost: 4.822999000549316\n",
      "Currently running with:\n",
      "{'n_estimators': 1, 'max_depth': 101, 'min_samples_split': 6, 'max_features': 'sqrt', 'min_samples_leaf': 7, 'random_state': 760, 'n_jobs': -1}\n"
     ]
    },
    {
     "name": "stderr",
     "output_type": "stream",
     "text": [
      "\u001b[32m[I 2022-09-26 17:19:43,767]\u001b[0m Trial 7 finished with value: 4.331251769391874 and parameters: {'n_estimators': 1, 'max_depth': 101, 'min_samples_split': 6, 'max_features': 'sqrt', 'min_samples_leaf': 7}. Best is trial 4 with value: 3.310562884123113.\u001b[0m\n"
     ]
    },
    {
     "name": "stdout",
     "output_type": "stream",
     "text": [
      "Time cost: 4.610999345779419\n",
      "Currently running with:\n",
      "{'n_estimators': 101, 'max_depth': 401, 'min_samples_split': 16, 'max_features': 'log2', 'min_samples_leaf': 4, 'random_state': 760, 'n_jobs': -1}\n"
     ]
    },
    {
     "name": "stderr",
     "output_type": "stream",
     "text": [
      "\u001b[32m[I 2022-09-26 17:21:03,658]\u001b[0m Trial 8 finished with value: 3.335731380774115 and parameters: {'n_estimators': 101, 'max_depth': 401, 'min_samples_split': 16, 'max_features': 'log2', 'min_samples_leaf': 4}. Best is trial 4 with value: 3.310562884123113.\u001b[0m\n"
     ]
    },
    {
     "name": "stdout",
     "output_type": "stream",
     "text": [
      "Time cost: 79.82359838485718\n",
      "Currently running with:\n",
      "{'n_estimators': 451, 'max_depth': 351, 'min_samples_split': 3, 'max_features': 'sqrt', 'min_samples_leaf': 15, 'random_state': 760, 'n_jobs': -1}\n"
     ]
    },
    {
     "name": "stderr",
     "output_type": "stream",
     "text": [
      "\u001b[32m[I 2022-09-26 17:26:57,915]\u001b[0m Trial 9 finished with value: 3.4089002866503573 and parameters: {'n_estimators': 451, 'max_depth': 351, 'min_samples_split': 3, 'max_features': 'sqrt', 'min_samples_leaf': 15}. Best is trial 4 with value: 3.310562884123113.\u001b[0m\n"
     ]
    },
    {
     "name": "stdout",
     "output_type": "stream",
     "text": [
      "Time cost: 354.0706994533539\n",
      "Currently running with:\n",
      "{'n_estimators': 251, 'max_depth': 201, 'min_samples_split': 10, 'max_features': 'log2', 'min_samples_leaf': 19, 'random_state': 760, 'n_jobs': -1}\n"
     ]
    },
    {
     "name": "stderr",
     "output_type": "stream",
     "text": [
      "\u001b[32m[I 2022-09-26 17:30:27,729]\u001b[0m Trial 10 finished with value: 3.418398025235414 and parameters: {'n_estimators': 251, 'max_depth': 201, 'min_samples_split': 10, 'max_features': 'log2', 'min_samples_leaf': 19}. Best is trial 4 with value: 3.310562884123113.\u001b[0m\n"
     ]
    },
    {
     "name": "stdout",
     "output_type": "stream",
     "text": [
      "Time cost: 209.75668597221375\n",
      "Currently running with:\n",
      "{'n_estimators': 151, 'max_depth': 451, 'min_samples_split': 10, 'max_features': 'sqrt', 'min_samples_leaf': 5, 'random_state': 760, 'n_jobs': -1}\n"
     ]
    },
    {
     "name": "stderr",
     "output_type": "stream",
     "text": [
      "\u001b[32m[I 2022-09-26 17:32:41,571]\u001b[0m Trial 11 finished with value: 3.3404377770838494 and parameters: {'n_estimators': 151, 'max_depth': 451, 'min_samples_split': 10, 'max_features': 'sqrt', 'min_samples_leaf': 5}. Best is trial 4 with value: 3.310562884123113.\u001b[0m\n"
     ]
    },
    {
     "name": "stdout",
     "output_type": "stream",
     "text": [
      "Time cost: 133.70075130462646\n",
      "Currently running with:\n",
      "{'n_estimators': 151, 'max_depth': 351, 'min_samples_split': 13, 'max_features': 'sqrt', 'min_samples_leaf': 1, 'random_state': 760, 'n_jobs': -1}\n"
     ]
    },
    {
     "name": "stderr",
     "output_type": "stream",
     "text": [
      "\u001b[32m[I 2022-09-26 17:34:56,362]\u001b[0m Trial 12 finished with value: 3.3134467003884707 and parameters: {'n_estimators': 151, 'max_depth': 351, 'min_samples_split': 13, 'max_features': 'sqrt', 'min_samples_leaf': 1}. Best is trial 4 with value: 3.310562884123113.\u001b[0m\n"
     ]
    },
    {
     "name": "stdout",
     "output_type": "stream",
     "text": [
      "Time cost: 134.63265585899353\n",
      "Currently running with:\n",
      "{'n_estimators': 101, 'max_depth': 301, 'min_samples_split': 13, 'max_features': 'sqrt', 'min_samples_leaf': 12, 'random_state': 760, 'n_jobs': -1}\n"
     ]
    },
    {
     "name": "stderr",
     "output_type": "stream",
     "text": [
      "\u001b[32m[I 2022-09-26 17:36:25,539]\u001b[0m Trial 13 finished with value: 3.39058935777441 and parameters: {'n_estimators': 101, 'max_depth': 301, 'min_samples_split': 13, 'max_features': 'sqrt', 'min_samples_leaf': 12}. Best is trial 4 with value: 3.310562884123113.\u001b[0m\n"
     ]
    },
    {
     "name": "stdout",
     "output_type": "stream",
     "text": [
      "Time cost: 89.13480877876282\n",
      "Currently running with:\n",
      "{'n_estimators': 201, 'max_depth': 351, 'min_samples_split': 8, 'max_features': 'sqrt', 'min_samples_leaf': 1, 'random_state': 760, 'n_jobs': -1}\n",
      "Time cost: 176.23971509933472\n"
     ]
    },
    {
     "name": "stderr",
     "output_type": "stream",
     "text": [
      "\u001b[32m[I 2022-09-26 17:39:22,242]\u001b[0m Trial 14 finished with value: 3.2974346916736867 and parameters: {'n_estimators': 201, 'max_depth': 351, 'min_samples_split': 8, 'max_features': 'sqrt', 'min_samples_leaf': 1}. Best is trial 14 with value: 3.2974346916736867.\u001b[0m\n"
     ]
    },
    {
     "name": "stdout",
     "output_type": "stream",
     "text": [
      "Currently running with:\n",
      "{'n_estimators': 301, 'max_depth': 301, 'min_samples_split': 8, 'max_features': 'sqrt', 'min_samples_leaf': 6, 'random_state': 760, 'n_jobs': -1}\n",
      "Time cost: 284.7501368522644\n"
     ]
    },
    {
     "name": "stderr",
     "output_type": "stream",
     "text": [
      "\u001b[32m[I 2022-09-26 17:44:07,267]\u001b[0m Trial 15 finished with value: 3.3391676236652543 and parameters: {'n_estimators': 301, 'max_depth': 301, 'min_samples_split': 8, 'max_features': 'sqrt', 'min_samples_leaf': 6}. Best is trial 14 with value: 3.2974346916736867.\u001b[0m\n"
     ]
    },
    {
     "name": "stdout",
     "output_type": "stream",
     "text": [
      "Currently running with:\n",
      "{'n_estimators': 201, 'max_depth': 201, 'min_samples_split': 8, 'max_features': 'sqrt', 'min_samples_leaf': 12, 'random_state': 760, 'n_jobs': -1}\n"
     ]
    },
    {
     "name": "stderr",
     "output_type": "stream",
     "text": [
      "\u001b[32m[I 2022-09-26 17:47:13,818]\u001b[0m Trial 16 finished with value: 3.390661411740683 and parameters: {'n_estimators': 201, 'max_depth': 201, 'min_samples_split': 8, 'max_features': 'sqrt', 'min_samples_leaf': 12}. Best is trial 14 with value: 3.2974346916736867.\u001b[0m\n"
     ]
    },
    {
     "name": "stdout",
     "output_type": "stream",
     "text": [
      "Time cost: 186.46903586387634\n",
      "Currently running with:\n",
      "{'n_estimators': 101, 'max_depth': 351, 'min_samples_split': 2, 'max_features': 'sqrt', 'min_samples_leaf': 4, 'random_state': 760, 'n_jobs': -1}\n"
     ]
    },
    {
     "name": "stderr",
     "output_type": "stream",
     "text": [
      "\u001b[32m[I 2022-09-26 17:48:49,215]\u001b[0m Trial 17 finished with value: 3.3236696722714396 and parameters: {'n_estimators': 101, 'max_depth': 351, 'min_samples_split': 2, 'max_features': 'sqrt', 'min_samples_leaf': 4}. Best is trial 14 with value: 3.2974346916736867.\u001b[0m\n"
     ]
    },
    {
     "name": "stdout",
     "output_type": "stream",
     "text": [
      "Time cost: 95.27032518386841\n",
      "Currently running with:\n",
      "{'n_estimators': 51, 'max_depth': 251, 'min_samples_split': 8, 'max_features': 'log2', 'min_samples_leaf': 10, 'random_state': 760, 'n_jobs': -1}\n"
     ]
    },
    {
     "name": "stderr",
     "output_type": "stream",
     "text": [
      "\u001b[32m[I 2022-09-26 17:49:31,490]\u001b[0m Trial 18 finished with value: 3.382906776411591 and parameters: {'n_estimators': 51, 'max_depth': 251, 'min_samples_split': 8, 'max_features': 'log2', 'min_samples_leaf': 10}. Best is trial 14 with value: 3.2974346916736867.\u001b[0m\n"
     ]
    },
    {
     "name": "stdout",
     "output_type": "stream",
     "text": [
      "Time cost: 42.25160455703735\n",
      "Currently running with:\n",
      "{'n_estimators': 201, 'max_depth': 51, 'min_samples_split': 4, 'max_features': 'sqrt', 'min_samples_leaf': 20, 'random_state': 760, 'n_jobs': -1}\n"
     ]
    },
    {
     "name": "stderr",
     "output_type": "stream",
     "text": [
      "\u001b[32m[I 2022-09-26 17:52:14,733]\u001b[0m Trial 19 finished with value: 3.4290743788183953 and parameters: {'n_estimators': 201, 'max_depth': 51, 'min_samples_split': 4, 'max_features': 'sqrt', 'min_samples_leaf': 20}. Best is trial 14 with value: 3.2974346916736867.\u001b[0m\n"
     ]
    },
    {
     "name": "stdout",
     "output_type": "stream",
     "text": [
      "Time cost: 163.1960961818695\n",
      "Currently running with:\n",
      "{'n_estimators': 301, 'max_depth': 401, 'min_samples_split': 7, 'max_features': 'sqrt', 'min_samples_leaf': 6, 'random_state': 760, 'n_jobs': -1}\n",
      "Time cost: 263.8040416240692\n"
     ]
    },
    {
     "name": "stderr",
     "output_type": "stream",
     "text": [
      "\u001b[32m[I 2022-09-26 17:56:38,860]\u001b[0m Trial 20 finished with value: 3.3391676236652543 and parameters: {'n_estimators': 301, 'max_depth': 401, 'min_samples_split': 7, 'max_features': 'sqrt', 'min_samples_leaf': 6}. Best is trial 14 with value: 3.2974346916736867.\u001b[0m\n"
     ]
    },
    {
     "name": "stdout",
     "output_type": "stream",
     "text": [
      "Currently running with:\n",
      "{'n_estimators': 151, 'max_depth': 351, 'min_samples_split': 14, 'max_features': 'sqrt', 'min_samples_leaf': 2, 'random_state': 760, 'n_jobs': -1}\n"
     ]
    },
    {
     "name": "stderr",
     "output_type": "stream",
     "text": [
      "\u001b[32m[I 2022-09-26 17:58:54,383]\u001b[0m Trial 21 finished with value: 3.311576853933687 and parameters: {'n_estimators': 151, 'max_depth': 351, 'min_samples_split': 14, 'max_features': 'sqrt', 'min_samples_leaf': 2}. Best is trial 14 with value: 3.2974346916736867.\u001b[0m\n"
     ]
    },
    {
     "name": "stdout",
     "output_type": "stream",
     "text": [
      "Time cost: 135.3823037147522\n",
      "Currently running with:\n",
      "{'n_estimators': 201, 'max_depth': 401, 'min_samples_split': 17, 'max_features': 'sqrt', 'min_samples_leaf': 3, 'random_state': 760, 'n_jobs': -1}\n"
     ]
    },
    {
     "name": "stderr",
     "output_type": "stream",
     "text": [
      "\u001b[32m[I 2022-09-26 18:01:51,093]\u001b[0m Trial 22 finished with value: 3.330198978357088 and parameters: {'n_estimators': 201, 'max_depth': 401, 'min_samples_split': 17, 'max_features': 'sqrt', 'min_samples_leaf': 3}. Best is trial 14 with value: 3.2974346916736867.\u001b[0m\n"
     ]
    },
    {
     "name": "stdout",
     "output_type": "stream",
     "text": [
      "Time cost: 176.55797147750854\n",
      "Currently running with:\n",
      "{'n_estimators': 51, 'max_depth': 301, 'min_samples_split': 10, 'max_features': 'sqrt', 'min_samples_leaf': 1, 'random_state': 760, 'n_jobs': -1}\n"
     ]
    },
    {
     "name": "stderr",
     "output_type": "stream",
     "text": [
      "\u001b[32m[I 2022-09-26 18:02:32,662]\u001b[0m Trial 23 finished with value: 3.318040689063954 and parameters: {'n_estimators': 51, 'max_depth': 301, 'min_samples_split': 10, 'max_features': 'sqrt', 'min_samples_leaf': 1}. Best is trial 14 with value: 3.2974346916736867.\u001b[0m\n"
     ]
    },
    {
     "name": "stdout",
     "output_type": "stream",
     "text": [
      "Time cost: 41.51500129699707\n",
      "Currently running with:\n",
      "{'n_estimators': 151, 'max_depth': 351, 'min_samples_split': 14, 'max_features': 'sqrt', 'min_samples_leaf': 3, 'random_state': 760, 'n_jobs': -1}\n"
     ]
    },
    {
     "name": "stderr",
     "output_type": "stream",
     "text": [
      "\u001b[32m[I 2022-09-26 18:04:30,226]\u001b[0m Trial 24 finished with value: 3.324477534508913 and parameters: {'n_estimators': 151, 'max_depth': 351, 'min_samples_split': 14, 'max_features': 'sqrt', 'min_samples_leaf': 3}. Best is trial 14 with value: 3.2974346916736867.\u001b[0m\n"
     ]
    },
    {
     "name": "stdout",
     "output_type": "stream",
     "text": [
      "Time cost: 117.44179344177246\n",
      "Currently running with:\n",
      "{'n_estimators': 51, 'max_depth': 251, 'min_samples_split': 11, 'max_features': 'sqrt', 'min_samples_leaf': 4, 'random_state': 760, 'n_jobs': -1}\n"
     ]
    },
    {
     "name": "stderr",
     "output_type": "stream",
     "text": [
      "\u001b[32m[I 2022-09-26 18:05:09,010]\u001b[0m Trial 25 finished with value: 3.337047169420452 and parameters: {'n_estimators': 51, 'max_depth': 251, 'min_samples_split': 11, 'max_features': 'sqrt', 'min_samples_leaf': 4}. Best is trial 14 with value: 3.2974346916736867.\u001b[0m\n"
     ]
    },
    {
     "name": "stdout",
     "output_type": "stream",
     "text": [
      "Time cost: 38.737374782562256\n",
      "Currently running with:\n",
      "{'n_estimators': 251, 'max_depth': 401, 'min_samples_split': 9, 'max_features': 'log2', 'min_samples_leaf': 1, 'random_state': 760, 'n_jobs': -1}\n",
      "Time cost: 192.87590956687927\n"
     ]
    },
    {
     "name": "stderr",
     "output_type": "stream",
     "text": [
      "\u001b[32m[I 2022-09-26 18:08:22,361]\u001b[0m Trial 26 finished with value: 3.2999357298899876 and parameters: {'n_estimators': 251, 'max_depth': 401, 'min_samples_split': 9, 'max_features': 'log2', 'min_samples_leaf': 1}. Best is trial 14 with value: 3.2974346916736867.\u001b[0m\n"
     ]
    },
    {
     "name": "stdout",
     "output_type": "stream",
     "text": [
      "Currently running with:\n",
      "{'n_estimators': 301, 'max_depth': 401, 'min_samples_split': 7, 'max_features': 'log2', 'min_samples_leaf': 1, 'random_state': 760, 'n_jobs': -1}\n",
      "Time cost: 231.8336317539215\n"
     ]
    },
    {
     "name": "stderr",
     "output_type": "stream",
     "text": [
      "\u001b[32m[I 2022-09-26 18:12:14,981]\u001b[0m Trial 27 finished with value: 3.2937019739271634 and parameters: {'n_estimators': 301, 'max_depth': 401, 'min_samples_split': 7, 'max_features': 'log2', 'min_samples_leaf': 1}. Best is trial 27 with value: 3.2937019739271634.\u001b[0m\n"
     ]
    },
    {
     "name": "stdout",
     "output_type": "stream",
     "text": [
      "Currently running with:\n",
      "{'n_estimators': 301, 'max_depth': 401, 'min_samples_split': 9, 'max_features': 'log2', 'min_samples_leaf': 6, 'random_state': 760, 'n_jobs': -1}\n",
      "Time cost: 225.02555966377258\n"
     ]
    },
    {
     "name": "stderr",
     "output_type": "stream",
     "text": [
      "\u001b[32m[I 2022-09-26 18:16:00,236]\u001b[0m Trial 28 finished with value: 3.3391676236652543 and parameters: {'n_estimators': 301, 'max_depth': 401, 'min_samples_split': 9, 'max_features': 'log2', 'min_samples_leaf': 6}. Best is trial 27 with value: 3.2937019739271634.\u001b[0m\n"
     ]
    },
    {
     "name": "stdout",
     "output_type": "stream",
     "text": [
      "Currently running with:\n",
      "{'n_estimators': 351, 'max_depth': 451, 'min_samples_split': 7, 'max_features': 'log2', 'min_samples_leaf': 8, 'random_state': 760, 'n_jobs': -1}\n",
      "Time cost: 259.3686158657074\n"
     ]
    },
    {
     "name": "stderr",
     "output_type": "stream",
     "text": [
      "\u001b[32m[I 2022-09-26 18:20:19,819]\u001b[0m Trial 29 finished with value: 3.3641964083289557 and parameters: {'n_estimators': 351, 'max_depth': 451, 'min_samples_split': 7, 'max_features': 'log2', 'min_samples_leaf': 8}. Best is trial 27 with value: 3.2937019739271634.\u001b[0m\n"
     ]
    },
    {
     "name": "stdout",
     "output_type": "stream",
     "text": [
      "Currently running with:\n",
      "{'n_estimators': 251, 'max_depth': 401, 'min_samples_split': 5, 'max_features': 'log2', 'min_samples_leaf': 1, 'random_state': 760, 'n_jobs': -1}\n",
      "Time cost: 195.66731882095337\n"
     ]
    },
    {
     "name": "stderr",
     "output_type": "stream",
     "text": [
      "\u001b[32m[I 2022-09-26 18:23:36,273]\u001b[0m Trial 30 finished with value: 3.2849702774778318 and parameters: {'n_estimators': 251, 'max_depth': 401, 'min_samples_split': 5, 'max_features': 'log2', 'min_samples_leaf': 1}. Best is trial 30 with value: 3.2849702774778318.\u001b[0m\n"
     ]
    },
    {
     "name": "stdout",
     "output_type": "stream",
     "text": [
      "Currently running with:\n",
      "{'n_estimators': 251, 'max_depth': 401, 'min_samples_split': 5, 'max_features': 'log2', 'min_samples_leaf': 1, 'random_state': 760, 'n_jobs': -1}\n",
      "Time cost: 194.54951333999634\n"
     ]
    },
    {
     "name": "stderr",
     "output_type": "stream",
     "text": [
      "\u001b[32m[I 2022-09-26 18:26:51,460]\u001b[0m Trial 31 finished with value: 3.2849702774778318 and parameters: {'n_estimators': 251, 'max_depth': 401, 'min_samples_split': 5, 'max_features': 'log2', 'min_samples_leaf': 1}. Best is trial 30 with value: 3.2849702774778318.\u001b[0m\n"
     ]
    },
    {
     "name": "stdout",
     "output_type": "stream",
     "text": [
      "Currently running with:\n",
      "{'n_estimators': 351, 'max_depth': 401, 'min_samples_split': 5, 'max_features': 'log2', 'min_samples_leaf': 1, 'random_state': 760, 'n_jobs': -1}\n",
      "Time cost: 270.6945266723633\n"
     ]
    },
    {
     "name": "stderr",
     "output_type": "stream",
     "text": [
      "\u001b[32m[I 2022-09-26 18:31:23,095]\u001b[0m Trial 32 finished with value: 3.2855996771908256 and parameters: {'n_estimators': 351, 'max_depth': 401, 'min_samples_split': 5, 'max_features': 'log2', 'min_samples_leaf': 1}. Best is trial 30 with value: 3.2849702774778318.\u001b[0m\n"
     ]
    },
    {
     "name": "stdout",
     "output_type": "stream",
     "text": [
      "Currently running with:\n",
      "{'n_estimators': 351, 'max_depth': 451, 'min_samples_split': 5, 'max_features': 'log2', 'min_samples_leaf': 3, 'random_state': 760, 'n_jobs': -1}\n",
      "Time cost: 267.00911688804626\n"
     ]
    },
    {
     "name": "stderr",
     "output_type": "stream",
     "text": [
      "\u001b[32m[I 2022-09-26 18:35:50,749]\u001b[0m Trial 33 finished with value: 3.303472884773958 and parameters: {'n_estimators': 351, 'max_depth': 451, 'min_samples_split': 5, 'max_features': 'log2', 'min_samples_leaf': 3}. Best is trial 30 with value: 3.2849702774778318.\u001b[0m\n"
     ]
    },
    {
     "name": "stdout",
     "output_type": "stream",
     "text": [
      "Currently running with:\n",
      "{'n_estimators': 401, 'max_depth': 401, 'min_samples_split': 5, 'max_features': 'log2', 'min_samples_leaf': 5, 'random_state': 760, 'n_jobs': -1}\n",
      "Time cost: 300.15660309791565\n"
     ]
    },
    {
     "name": "stderr",
     "output_type": "stream",
     "text": [
      "\u001b[32m[I 2022-09-26 18:40:51,228]\u001b[0m Trial 34 finished with value: 3.3342443030454163 and parameters: {'n_estimators': 401, 'max_depth': 401, 'min_samples_split': 5, 'max_features': 'log2', 'min_samples_leaf': 5}. Best is trial 30 with value: 3.2849702774778318.\u001b[0m\n"
     ]
    },
    {
     "name": "stdout",
     "output_type": "stream",
     "text": [
      "Currently running with:\n",
      "{'n_estimators': 401, 'max_depth': 451, 'min_samples_split': 4, 'max_features': 'log2', 'min_samples_leaf': 2, 'random_state': 760, 'n_jobs': -1}\n",
      "Time cost: 309.57565093040466\n"
     ]
    },
    {
     "name": "stderr",
     "output_type": "stream",
     "text": [
      "\u001b[32m[I 2022-09-26 18:46:02,087]\u001b[0m Trial 35 finished with value: 3.289258508177192 and parameters: {'n_estimators': 401, 'max_depth': 451, 'min_samples_split': 4, 'max_features': 'log2', 'min_samples_leaf': 2}. Best is trial 30 with value: 3.2849702774778318.\u001b[0m\n"
     ]
    },
    {
     "name": "stdout",
     "output_type": "stream",
     "text": [
      "Currently running with:\n",
      "{'n_estimators': 451, 'max_depth': 451, 'min_samples_split': 2, 'max_features': 'log2', 'min_samples_leaf': 2, 'random_state': 760, 'n_jobs': -1}\n",
      "Time cost: 349.2734613418579\n"
     ]
    },
    {
     "name": "stderr",
     "output_type": "stream",
     "text": [
      "\u001b[32m[I 2022-09-26 18:51:52,859]\u001b[0m Trial 36 finished with value: 3.290291050329043 and parameters: {'n_estimators': 451, 'max_depth': 451, 'min_samples_split': 2, 'max_features': 'log2', 'min_samples_leaf': 2}. Best is trial 30 with value: 3.2849702774778318.\u001b[0m\n"
     ]
    },
    {
     "name": "stdout",
     "output_type": "stream",
     "text": [
      "Currently running with:\n",
      "{'n_estimators': 401, 'max_depth': 451, 'min_samples_split': 4, 'max_features': 'log2', 'min_samples_leaf': 3, 'random_state': 760, 'n_jobs': -1}\n",
      "Time cost: 303.9979431629181\n"
     ]
    },
    {
     "name": "stderr",
     "output_type": "stream",
     "text": [
      "\u001b[32m[I 2022-09-26 18:56:57,444]\u001b[0m Trial 37 finished with value: 3.3021344527146477 and parameters: {'n_estimators': 401, 'max_depth': 451, 'min_samples_split': 4, 'max_features': 'log2', 'min_samples_leaf': 3}. Best is trial 30 with value: 3.2849702774778318.\u001b[0m\n"
     ]
    },
    {
     "name": "stdout",
     "output_type": "stream",
     "text": [
      "Currently running with:\n",
      "{'n_estimators': 401, 'max_depth': 1, 'min_samples_split': 4, 'max_features': 'log2', 'min_samples_leaf': 5, 'random_state': 760, 'n_jobs': -1}\n"
     ]
    },
    {
     "name": "stderr",
     "output_type": "stream",
     "text": [
      "\u001b[32m[I 2022-09-26 18:57:30,189]\u001b[0m Trial 38 finished with value: 3.9619596588734236 and parameters: {'n_estimators': 401, 'max_depth': 1, 'min_samples_split': 4, 'max_features': 'log2', 'min_samples_leaf': 5}. Best is trial 30 with value: 3.2849702774778318.\u001b[0m\n"
     ]
    },
    {
     "name": "stdout",
     "output_type": "stream",
     "text": [
      "Time cost: 32.740076541900635\n",
      "Currently running with:\n",
      "{'n_estimators': 351, 'max_depth': 451, 'min_samples_split': 6, 'max_features': 'log2', 'min_samples_leaf': 2, 'random_state': 760, 'n_jobs': -1}\n",
      "Time cost: 276.28396224975586\n"
     ]
    },
    {
     "name": "stderr",
     "output_type": "stream",
     "text": [
      "\u001b[32m[I 2022-09-26 19:02:07,257]\u001b[0m Trial 39 finished with value: 3.2944226207513236 and parameters: {'n_estimators': 351, 'max_depth': 451, 'min_samples_split': 6, 'max_features': 'log2', 'min_samples_leaf': 2}. Best is trial 30 with value: 3.2849702774778318.\u001b[0m\n"
     ]
    },
    {
     "name": "stdout",
     "output_type": "stream",
     "text": [
      "Currently running with:\n",
      "{'n_estimators': 451, 'max_depth': 401, 'min_samples_split': 3, 'max_features': 'log2', 'min_samples_leaf': 8, 'random_state': 760, 'n_jobs': -1}\n"
     ]
    },
    {
     "name": "stderr",
     "output_type": "stream",
     "text": [
      "\u001b[32m[I 2022-09-26 19:07:40,594]\u001b[0m Trial 40 finished with value: 3.363800596739312 and parameters: {'n_estimators': 451, 'max_depth': 401, 'min_samples_split': 3, 'max_features': 'log2', 'min_samples_leaf': 8}. Best is trial 30 with value: 3.2849702774778318.\u001b[0m\n"
     ]
    },
    {
     "name": "stdout",
     "output_type": "stream",
     "text": [
      "Time cost: 333.14928817749023\n",
      "Currently running with:\n",
      "{'n_estimators': 451, 'max_depth': 451, 'min_samples_split': 2, 'max_features': 'log2', 'min_samples_leaf': 2, 'random_state': 760, 'n_jobs': -1}\n",
      "Time cost: 347.02111625671387\n"
     ]
    },
    {
     "name": "stderr",
     "output_type": "stream",
     "text": [
      "\u001b[32m[I 2022-09-26 19:13:28,768]\u001b[0m Trial 41 finished with value: 3.290291050329043 and parameters: {'n_estimators': 451, 'max_depth': 451, 'min_samples_split': 2, 'max_features': 'log2', 'min_samples_leaf': 2}. Best is trial 30 with value: 3.2849702774778318.\u001b[0m\n"
     ]
    },
    {
     "name": "stdout",
     "output_type": "stream",
     "text": [
      "Currently running with:\n",
      "{'n_estimators': 451, 'max_depth': 451, 'min_samples_split': 2, 'max_features': 'log2', 'min_samples_leaf': 4, 'random_state': 760, 'n_jobs': -1}\n",
      "Time cost: 338.7918076515198\n"
     ]
    },
    {
     "name": "stderr",
     "output_type": "stream",
     "text": [
      "\u001b[32m[I 2022-09-26 19:19:08,237]\u001b[0m Trial 42 finished with value: 3.318998720613918 and parameters: {'n_estimators': 451, 'max_depth': 451, 'min_samples_split': 2, 'max_features': 'log2', 'min_samples_leaf': 4}. Best is trial 30 with value: 3.2849702774778318.\u001b[0m\n"
     ]
    },
    {
     "name": "stdout",
     "output_type": "stream",
     "text": [
      "Currently running with:\n",
      "{'n_estimators': 401, 'max_depth': 451, 'min_samples_split': 3, 'max_features': 'log2', 'min_samples_leaf': 2, 'random_state': 760, 'n_jobs': -1}\n",
      "Time cost: 610.4492099285126\n"
     ]
    },
    {
     "name": "stderr",
     "output_type": "stream",
     "text": [
      "\u001b[32m[I 2022-09-26 19:29:21,223]\u001b[0m Trial 43 finished with value: 3.289258508177192 and parameters: {'n_estimators': 401, 'max_depth': 451, 'min_samples_split': 3, 'max_features': 'log2', 'min_samples_leaf': 2}. Best is trial 30 with value: 3.2849702774778318.\u001b[0m\n"
     ]
    },
    {
     "name": "stdout",
     "output_type": "stream",
     "text": [
      "Currently running with:\n",
      "{'n_estimators': 401, 'max_depth': 401, 'min_samples_split': 5, 'max_features': 'log2', 'min_samples_leaf': 2, 'random_state': 760, 'n_jobs': -1}\n",
      "Time cost: 361.1850004196167\n"
     ]
    },
    {
     "name": "stderr",
     "output_type": "stream",
     "text": [
      "\u001b[32m[I 2022-09-26 19:35:23,918]\u001b[0m Trial 44 finished with value: 3.2975673803842747 and parameters: {'n_estimators': 401, 'max_depth': 401, 'min_samples_split': 5, 'max_features': 'log2', 'min_samples_leaf': 2}. Best is trial 30 with value: 3.2849702774778318.\u001b[0m\n"
     ]
    },
    {
     "name": "stdout",
     "output_type": "stream",
     "text": [
      "Currently running with:\n",
      "{'n_estimators': 251, 'max_depth': 151, 'min_samples_split': 3, 'max_features': 'log2', 'min_samples_leaf': 17, 'random_state': 760, 'n_jobs': -1}\n"
     ]
    },
    {
     "name": "stderr",
     "output_type": "stream",
     "text": [
      "\u001b[32m[I 2022-09-26 19:38:26,268]\u001b[0m Trial 45 finished with value: 3.416888082955115 and parameters: {'n_estimators': 251, 'max_depth': 151, 'min_samples_split': 3, 'max_features': 'log2', 'min_samples_leaf': 17}. Best is trial 30 with value: 3.2849702774778318.\u001b[0m\n"
     ]
    },
    {
     "name": "stdout",
     "output_type": "stream",
     "text": [
      "Time cost: 182.27100038528442\n",
      "Currently running with:\n",
      "{'n_estimators': 351, 'max_depth': 351, 'min_samples_split': 6, 'max_features': 'log2', 'min_samples_leaf': 1, 'random_state': 760, 'n_jobs': -1}\n",
      "Time cost: 290.01796555519104\n"
     ]
    },
    {
     "name": "stderr",
     "output_type": "stream",
     "text": [
      "\u001b[32m[I 2022-09-26 19:43:17,543]\u001b[0m Trial 46 finished with value: 3.289407764946518 and parameters: {'n_estimators': 351, 'max_depth': 351, 'min_samples_split': 6, 'max_features': 'log2', 'min_samples_leaf': 1}. Best is trial 30 with value: 3.2849702774778318.\u001b[0m\n"
     ]
    },
    {
     "name": "stdout",
     "output_type": "stream",
     "text": [
      "Currently running with:\n",
      "{'n_estimators': 351, 'max_depth': 451, 'min_samples_split': 4, 'max_features': 'log2', 'min_samples_leaf': 4, 'random_state': 760, 'n_jobs': -1}\n",
      "Time cost: 279.7081706523895\n"
     ]
    },
    {
     "name": "stderr",
     "output_type": "stream",
     "text": [
      "\u001b[32m[I 2022-09-26 19:47:57,883]\u001b[0m Trial 47 finished with value: 3.320207616981503 and parameters: {'n_estimators': 351, 'max_depth': 451, 'min_samples_split': 4, 'max_features': 'log2', 'min_samples_leaf': 4}. Best is trial 30 with value: 3.2849702774778318.\u001b[0m\n"
     ]
    },
    {
     "name": "stdout",
     "output_type": "stream",
     "text": [
      "Currently running with:\n",
      "{'n_estimators': 401, 'max_depth': 401, 'min_samples_split': 5, 'max_features': 'log2', 'min_samples_leaf': 3, 'random_state': 760, 'n_jobs': -1}\n",
      "Time cost: 305.42399883270264\n"
     ]
    },
    {
     "name": "stderr",
     "output_type": "stream",
     "text": [
      "\u001b[32m[I 2022-09-26 19:53:04,055]\u001b[0m Trial 48 finished with value: 3.3021344527146477 and parameters: {'n_estimators': 401, 'max_depth': 401, 'min_samples_split': 5, 'max_features': 'log2', 'min_samples_leaf': 3}. Best is trial 30 with value: 3.2849702774778318.\u001b[0m\n"
     ]
    },
    {
     "name": "stdout",
     "output_type": "stream",
     "text": [
      "Currently running with:\n",
      "{'n_estimators': 301, 'max_depth': 351, 'min_samples_split': 6, 'max_features': 'log2', 'min_samples_leaf': 1, 'random_state': 760, 'n_jobs': -1}\n",
      "Time cost: 231.83333611488342\n"
     ]
    },
    {
     "name": "stderr",
     "output_type": "stream",
     "text": [
      "\u001b[32m[I 2022-09-26 19:56:56,337]\u001b[0m Trial 49 finished with value: 3.288576658416398 and parameters: {'n_estimators': 301, 'max_depth': 351, 'min_samples_split': 6, 'max_features': 'log2', 'min_samples_leaf': 1}. Best is trial 30 with value: 3.2849702774778318.\u001b[0m\n"
     ]
    },
    {
     "data": {
      "text/plain": [
       "{'n_estimators': 251,\n",
       " 'max_depth': 401,\n",
       " 'min_samples_split': 5,\n",
       " 'max_features': 'log2',\n",
       " 'min_samples_leaf': 1}"
      ]
     },
     "execution_count": 7,
     "metadata": {},
     "output_type": "execute_result"
    }
   ],
   "source": [
    "study = opt.create_study(direction='minimize')\n",
    "study.optimize(objective, n_trials=50)\n",
    "study.best_params"
   ]
  },
  {
   "cell_type": "code",
   "execution_count": 8,
   "id": "bd92cd76-d91f-49c4-ae9c-42ef3422c9b2",
   "metadata": {},
   "outputs": [
    {
     "name": "stdout",
     "output_type": "stream",
     "text": [
      "\n",
      " model train score -> RMSE: 2.1576167544353106 MAE: 0.7695524561956715\n",
      "\n",
      " model val score -> RMSE: 3.2849702774778318 MAE: 1.5578832094537869\n",
      "\n",
      " model test score -> RMSE: 3.60868735954618 MAE: 1.570931916082599\n"
     ]
    }
   ],
   "source": [
    "#optimal model\n",
    "# n_estimators': 251, 'max_depth': 401, 'min_samples_split': 5, 'max_features': 'log2', 'min_samples_leaf': 1\n",
    "omodel = RandomForestRegressor(n_estimators = 251, \n",
    "                               max_depth = 401, \n",
    "                               min_samples_leaf= 1,\n",
    "                               min_samples_split= 5,\n",
    "                               max_features= 'log2', random_state = 760, n_jobs=-1)\n",
    "omodel.fit(X_train, y_train)\n",
    "#predict train set results\n",
    "y_pred = omodel.predict(X_train)\n",
    "rmse = mean_squared_error(y_train, y_pred, squared=False)\n",
    "mae = mean_absolute_error(y_train, y_pred) \n",
    "print(f\"\\n model train score -> RMSE:\", rmse, \"MAE:\", mae)\n",
    "\n",
    "#predict validation set results\n",
    "y_pred_val = omodel.predict(X_val)\n",
    "rmse = mean_squared_error(y_val, y_pred_val, squared=False)\n",
    "mae = mean_absolute_error(y_val, y_pred_val) \n",
    "print(f\"\\n model val score -> RMSE:\", rmse, \"MAE:\", mae)\n",
    "\n",
    "#predict test set results\n",
    "y_pred_test = omodel.predict(X_test)\n",
    "rmse = mean_squared_error(y_test, y_pred_test, squared=False)\n",
    "mae = mean_absolute_error(y_test, y_pred_test) \n",
    "print(f\"\\n model test score -> RMSE:\", rmse, \"MAE:\", mae)"
   ]
  },
  {
   "cell_type": "code",
   "execution_count": null,
   "id": "d7318535-cd5d-4ff8-927b-907b1db48a2b",
   "metadata": {},
   "outputs": [],
   "source": []
  }
 ],
 "metadata": {
  "kernelspec": {
   "display_name": "Python 3 (ipykernel)",
   "language": "python",
   "name": "python3"
  },
  "language_info": {
   "codemirror_mode": {
    "name": "ipython",
    "version": 3
   },
   "file_extension": ".py",
   "mimetype": "text/x-python",
   "name": "python",
   "nbconvert_exporter": "python",
   "pygments_lexer": "ipython3",
   "version": "3.10.6"
  }
 },
 "nbformat": 4,
 "nbformat_minor": 5
}
