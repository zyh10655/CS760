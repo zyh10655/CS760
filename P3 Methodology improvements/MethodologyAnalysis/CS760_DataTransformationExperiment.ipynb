{
 "cells": [
  {
   "cell_type": "markdown",
   "id": "6280b481-3775-4e7d-adf3-14e1a60fc7e0",
   "metadata": {},
   "source": [
    "## Data Transformation and Baseline Results Comparison\n",
    "Trying Yeo-Johnson Transformation, Standard Scaler, Robust Scaler, MinMax Sclaer on data(11 features, normalizsation of useful vote removed)"
   ]
  },
  {
   "cell_type": "code",
   "execution_count": 1,
   "id": "1a13bc1c-aee0-44fd-a204-0b2382048ff4",
   "metadata": {},
   "outputs": [],
   "source": [
    "import pandas as pd\n",
    "import numpy as np\n",
    "from scipy import stats\n",
    "import matplotlib.pyplot as plt\n",
    "# from sklearn.preprocessing import power_transform\n",
    "from sklearn.pipeline import make_pipeline\n",
    "from sklearn.preprocessing import StandardScaler\n",
    "from sklearn.linear_model import SGDRegressor\n",
    "from sklearn.metrics import mean_absolute_error\n",
    "from sklearn.metrics import mean_squared_error"
   ]
  },
  {
   "cell_type": "code",
   "execution_count": 2,
   "id": "a603f33a-fccd-4431-bc4a-ba8747498c68",
   "metadata": {},
   "outputs": [],
   "source": [
    "#import data\n",
    "train_df = pd.read_parquet(\"train_main.parquet.snappy\")\n",
    "test_df = pd.read_parquet(\"test_main.parquet.snappy\")\n",
    "val_df = pd.read_parquet(\"val_main.parquet.snappy\")"
   ]
  },
  {
   "cell_type": "code",
   "execution_count": 3,
   "id": "8e0b4ebd-bc87-4f02-a09d-8f20c0736f5e",
   "metadata": {},
   "outputs": [],
   "source": [
    "# skewed features: \n",
    "# review length(r_length)\n",
    "# friends count(u_friends_count)\n",
    "# review count(u_review_count)\n",
    "# age of account(u_month_age)\n",
    "# busniess review count(b_review_count)\n",
    "# review usefulness(r_useful) [target variable]"
   ]
  },
  {
   "cell_type": "markdown",
   "id": "4196b7ff-9d5f-4049-af07-b7394584c01c",
   "metadata": {},
   "source": [
    "### PART I. Transformation on Skewed Features only\n",
    "### (a). Yeo-Johnson Transformation\n",
    "\n",
    "Power transforms are a family of parametric, monotonic transformations that are applied to make data more Gaussian-like. This is useful for modeling issues related to heteroscedasticity (non-constant variance), or other situations where normality is desired. Yeo-Johnson supports both positive or negative data"
   ]
  },
  {
   "cell_type": "code",
   "execution_count": 4,
   "id": "70672952-1c14-455b-abbd-2c7217952b09",
   "metadata": {},
   "outputs": [],
   "source": [
    "from sklearn.preprocessing import PowerTransformer\n",
    "pt = PowerTransformer()\n",
    "# scale skewed\n",
    "yeo_train_df = train_df.copy(deep=True)\n",
    "yeo_train_df[['r_length', 'u_friends_count', 'u_review_count', 'u_month_age', 'b_review_count']] = pt.fit_transform(train_df[['r_length', 'u_friends_count', 'u_review_count', 'u_month_age', 'b_review_count']])\n",
    "\n",
    "yeo_test_df = test_df.copy(deep=True)\n",
    "yeo_test_df[['r_length', 'u_friends_count', 'u_review_count', 'u_month_age', 'b_review_count']] = pt.transform(test_df[['r_length', 'u_friends_count', 'u_review_count', 'u_month_age', 'b_review_count']])\n",
    "\n",
    "yeo_val_df = val_df.copy(deep=True)\n",
    "yeo_val_df[['r_length', 'u_friends_count', 'u_review_count', 'u_month_age', 'b_review_count']] = pt.transform(val_df[['r_length', 'u_friends_count', 'u_review_count', 'u_month_age', 'b_review_count']])\n",
    "# yeo_val_df"
   ]
  },
  {
   "cell_type": "code",
   "execution_count": 5,
   "id": "3d37ad49-ac2e-4d47-a26e-82b162905845",
   "metadata": {},
   "outputs": [
    {
     "data": {
      "image/png": "[encoded data removed]",
      "text/plain": [
       "<Figure size 432x288 with 1 Axes>"
      ]
     },
     "metadata": {
      "needs_background": "light"
     },
     "output_type": "display_data"
    },
    {
     "data": {
      "image/png": "[encoded data removed]",
      "text/plain": [
       "<Figure size 432x288 with 1 Axes>"
      ]
     },
     "metadata": {
      "needs_background": "light"
     },
     "output_type": "display_data"
    }
   ],
   "source": [
    "# plot example\n",
    "plt.hist(train_df.r_length); plt.title(\"Raw\"); plt.show()\n",
    "plt.hist(yeo_train_df.r_length); plt.title(\"Yeo-Johnson(Power)\");"
   ]
  },
  {
   "cell_type": "markdown",
   "id": "84904efd-a002-4219-b7e3-04d168f11597",
   "metadata": {},
   "source": [
    "#### fit model and compare results with baseline"
   ]
  },
  {
   "cell_type": "code",
   "execution_count": 6,
   "id": "984b119e-3047-4a08-a607-f67601a1fb65",
   "metadata": {},
   "outputs": [],
   "source": [
    "X_train = yeo_train_df.drop(['r_id','r_useful'],axis=1)\n",
    "y_train = yeo_train_df['r_useful']\n",
    "X_test = yeo_test_df.drop(['r_id','r_useful'],axis=1)\n",
    "y_test = yeo_test_df['r_useful']\n",
    "X_val = yeo_val_df.drop(['r_id','r_useful'],axis=1)\n",
    "y_val = yeo_val_df['r_useful']"
   ]
  },
  {
   "cell_type": "code",
   "execution_count": 7,
   "id": "b24881c3-40aa-4c11-b0b2-715d2f2f7d1a",
   "metadata": {},
   "outputs": [
    {
     "name": "stdout",
     "output_type": "stream",
     "text": [
      "MLR(sgd) On Yeo-Johnson Transformed data: \n",
      "On training set: RMSE: 4.563690417754582 MAE 1.7756398712604309\n",
      "On test set: RMSE: 4.148671549599623 MAE 1.778230752372799\n",
      "Baseline results: \n",
      "On training set: RMSE: 4.471520980420466 MAE 1.6702892342459608\n",
      "On test set: RMSE: 4.049626636870791 MAE 1.6721592006498984\n"
     ]
    }
   ],
   "source": [
    "# MLR(sgd)\n",
    "y_sgd = make_pipeline(StandardScaler(), SGDRegressor(max_iter=1000))\n",
    "# do we need to standard sclae the whole data agian?\n",
    "# y_sgd = SGDRegressor(max_iter=1000)\n",
    "y_sgd.fit(X_train, y_train)\n",
    "\n",
    "y_pred_train_sgd = y_sgd.predict(X_train)\n",
    "y_pred_test_sgd  = y_sgd.predict(X_test)\n",
    "\n",
    "mae = mean_absolute_error(y_train, y_pred_train_sgd)\n",
    "mse = mean_squared_error(y_train, y_pred_train_sgd)\n",
    "rmse = np.sqrt(mse)\n",
    "print(\"MLR(sgd) On Yeo-Johnson Transformed data: \")\n",
    "print(\"On training set: RMSE:\", rmse, \"MAE\", mae)\n",
    "\n",
    "#Prediction(test) \n",
    "mae = mean_absolute_error(y_test, y_pred_test_sgd)\n",
    "mse = mean_squared_error(y_test, y_pred_test_sgd)\n",
    "rmse = np.sqrt(mse)\n",
    "print(\"On test set: RMSE:\", rmse, \"MAE\", mae)\n",
    "\n",
    "print(\"Baseline results: \")\n",
    "print(\"On training set: RMSE: 4.471520980420466 MAE 1.6702892342459608\")\n",
    "print(\"On test set: RMSE: 4.049626636870791 MAE 1.6721592006498984\")"
   ]
  },
  {
   "cell_type": "code",
   "execution_count": 8,
   "id": "d56a90a1-c3d9-4bb5-8353-9f3169b7ae73",
   "metadata": {},
   "outputs": [
    {
     "data": {
      "image/png": "[encoded data removed]",
      "text/plain": [
       "<Figure size 432x288 with 1 Axes>"
      ]
     },
     "metadata": {
      "needs_background": "light"
     },
     "output_type": "display_data"
    }
   ],
   "source": [
    "plt.scatter(y_train, y_pred_train_sgd)\n",
    "plt.xlabel(\"Actual vote: $Y_i$\")\n",
    "plt.ylabel(\"Predicted vote: $\\hat{Y}_i$\")\n",
    "plt.title(\"Yeo-Johnson Transformaed Predicted vote vs Actual vote\")\n",
    "plt.show()"
   ]
  },
  {
   "cell_type": "markdown",
   "id": "64d24b25-707d-4568-8474-f04763b32dc6",
   "metadata": {},
   "source": [
    "### (b). StandardScaler\n",
    "using sklearn.preprocessing.StandardScaler()\n",
    "\n",
    "StandardScaler removes the mean and scales the data to unit variance. This operation is performed feature-wise in an independent way. StandardScaler can be influenced by outliers (if they exist in the dataset) since it involves the estimation of the empirical mean and standard deviation of each feature"
   ]
  },
  {
   "cell_type": "code",
   "execution_count": 9,
   "id": "28476449-4a05-4eda-b45e-64428a122cf3",
   "metadata": {},
   "outputs": [],
   "source": [
    "from sklearn.preprocessing import StandardScaler\n",
    "\n",
    "scaler = StandardScaler()\n",
    "\n",
    "# scale skewed and target features\n",
    "std_train_df = train_df.copy(deep=True)\n",
    "std_train_df[['r_length', 'u_friends_count', 'u_review_count', 'u_month_age', 'b_review_count']] = scaler.fit_transform(train_df[['r_length', 'u_friends_count', 'u_review_count', 'u_month_age', 'b_review_count']])\n",
    "\n",
    "std_test_df = test_df.copy(deep=True)\n",
    "std_test_df[['r_length', 'u_friends_count', 'u_review_count', 'u_month_age', 'b_review_count']] = scaler.transform(test_df[['r_length', 'u_friends_count', 'u_review_count', 'u_month_age', 'b_review_count']])\n",
    "\n",
    "std_val_df = val_df.copy(deep=True)\n",
    "std_val_df[['r_length', 'u_friends_count', 'u_review_count', 'u_month_age', 'b_review_count']] = scaler.transform(val_df[['r_length', 'u_friends_count', 'u_review_count', 'u_month_age', 'b_review_count']])\n",
    "# std_val_df"
   ]
  },
  {
   "cell_type": "code",
   "execution_count": 10,
   "id": "32ce1b15-fba8-4f1b-afc5-1e61d88ad65e",
   "metadata": {},
   "outputs": [
    {
     "data": {
      "image/png": "[encoded data removed]",
      "text/plain": [
       "<Figure size 432x288 with 1 Axes>"
      ]
     },
     "metadata": {
      "needs_background": "light"
     },
     "output_type": "display_data"
    },
    {
     "data": {
      "image/png": "[encoded data removed]",
      "text/plain": [
       "<Figure size 432x288 with 1 Axes>"
      ]
     },
     "metadata": {
      "needs_background": "light"
     },
     "output_type": "display_data"
    }
   ],
   "source": [
    "# plot example\n",
    "plt.hist(train_df.r_length); plt.title(\"Raw\"); plt.show()\n",
    "plt.hist(std_train_df.r_length); plt.title(\"Standard\");"
   ]
  },
  {
   "cell_type": "markdown",
   "id": "edbe586e-894b-4b62-ba8c-3e1db0946ed9",
   "metadata": {},
   "source": [
    "#### fit model and compare with baseline"
   ]
  },
  {
   "cell_type": "code",
   "execution_count": 11,
   "id": "b06b656a-b915-4c30-91dd-5dd8236069d3",
   "metadata": {},
   "outputs": [],
   "source": [
    "X_train = std_train_df.drop(['r_id','r_useful'],axis=1)\n",
    "y_train = std_train_df['r_useful']\n",
    "X_test = std_test_df.drop(['r_id','r_useful'],axis=1)\n",
    "y_test = std_test_df['r_useful']\n",
    "X_val = std_val_df.drop(['r_id','r_useful'],axis=1)\n",
    "y_val = std_val_df['r_useful']"
   ]
  },
  {
   "cell_type": "code",
   "execution_count": 12,
   "id": "dc7c955f-4c31-4990-8ee9-b5a99d90c484",
   "metadata": {},
   "outputs": [
    {
     "name": "stdout",
     "output_type": "stream",
     "text": [
      "MLR(sgd) On StandardScaler Transformed data: \n",
      "On training set: RMSE: 4.47464039120345 MAE 1.6872885876504484\n",
      "On test set: RMSE: 4.052646133622046 MAE 1.68855985796349\n"
     ]
    }
   ],
   "source": [
    "# MLR(sgd)\n",
    "s_sgd = make_pipeline(StandardScaler(), SGDRegressor(max_iter=1000)) \n",
    "# do we need to standard sclae the whole data agian?\n",
    "# without pipeline standardscaler of the whole data, RMSE and MAE are slightly higher, by 0.1 in RMSE for both train and test; 0.05 in MAE for both\n",
    "# s_sgd = SGDRegressor(max_iter=1000)\n",
    "s_sgd.fit(X_train, y_train)\n",
    "\n",
    "y_pred_train_sgd = s_sgd.predict(X_train)\n",
    "y_pred_test_sgd  = s_sgd.predict(X_test)\n",
    "\n",
    "mae = mean_absolute_error(y_train, y_pred_train_sgd)\n",
    "mse = mean_squared_error(y_train, y_pred_train_sgd)\n",
    "rmse = np.sqrt(mse)\n",
    "print(\"MLR(sgd) On StandardScaler Transformed data: \")\n",
    "print(\"On training set: RMSE:\", rmse, \"MAE\", mae)\n",
    "\n",
    "#Prediction(test) \n",
    "mae = mean_absolute_error(y_test, y_pred_test_sgd)\n",
    "mse = mean_squared_error(y_test, y_pred_test_sgd)\n",
    "rmse = np.sqrt(mse)\n",
    "print(\"On test set: RMSE:\", rmse, \"MAE\", mae)"
   ]
  },
  {
   "cell_type": "code",
   "execution_count": 13,
   "id": "6fbe828e-6646-4a9c-84c4-52c567efcea2",
   "metadata": {},
   "outputs": [
    {
     "data": {
      "image/png": "[encoded data removed]",
      "text/plain": [
       "<Figure size 432x288 with 1 Axes>"
      ]
     },
     "metadata": {
      "needs_background": "light"
     },
     "output_type": "display_data"
    }
   ],
   "source": [
    "plt.scatter(y_train, y_pred_train_sgd)\n",
    "plt.xlabel(\"Actual vote: $Y_i$\")\n",
    "plt.ylabel(\"Predicted vote: $\\hat{Y}_i$\")\n",
    "plt.title(\"StandardScaled Predicted vote vs Actual vote\")\n",
    "plt.show()"
   ]
  },
  {
   "cell_type": "markdown",
   "id": "993fc92b-86dd-462f-964f-1476507c9a97",
   "metadata": {},
   "source": [
    "### (c). RobustScaler Transformation\n",
    "\n",
    "using sklearn.preprocessing.RobustScaler\n",
    "\n",
    "Scale features using statistics that are robust to outliers. This Scaler removes the median and scales the data according to the quantile range"
   ]
  },
  {
   "cell_type": "code",
   "execution_count": 14,
   "id": "0ad44a55-3784-4694-8db1-4857a0ea06d5",
   "metadata": {},
   "outputs": [],
   "source": [
    "from sklearn.preprocessing import RobustScaler\n",
    "\n",
    "scaler = RobustScaler()\n",
    "\n",
    "# scale skewed and target features\n",
    "rbs_train_df = train_df.copy(deep=True)\n",
    "rbs_train_df[['r_length', 'u_friends_count', 'u_review_count', 'u_month_age', 'b_review_count']] = scaler.fit_transform(train_df[['r_length', 'u_friends_count', 'u_review_count', 'u_month_age', 'b_review_count']])\n",
    "\n",
    "rbs_test_df = test_df.copy(deep=True)\n",
    "rbs_test_df[['r_length', 'u_friends_count', 'u_review_count', 'u_month_age', 'b_review_count']] = scaler.transform(test_df[['r_length', 'u_friends_count', 'u_review_count', 'u_month_age', 'b_review_count']])\n",
    "\n",
    "rbs_val_df = val_df.copy(deep=True)\n",
    "rbs_val_df[['r_length', 'u_friends_count', 'u_review_count', 'u_month_age', 'b_review_count']] = scaler.transform(val_df[['r_length', 'u_friends_count', 'u_review_count', 'u_month_age', 'b_review_count']])\n",
    "# rbs_val_df"
   ]
  },
  {
   "cell_type": "code",
   "execution_count": 15,
   "id": "d4f90658-d2d3-4156-8f23-b5a015735f35",
   "metadata": {},
   "outputs": [
    {
     "data": {
      "image/png": "[encoded data removed]",
      "text/plain": [
       "<Figure size 432x288 with 1 Axes>"
      ]
     },
     "metadata": {
      "needs_background": "light"
     },
     "output_type": "display_data"
    },
    {
     "data": {
      "image/png": "[encoded data removed]",
      "text/plain": [
       "<Figure size 432x288 with 1 Axes>"
      ]
     },
     "metadata": {
      "needs_background": "light"
     },
     "output_type": "display_data"
    }
   ],
   "source": [
    "# plot example\n",
    "plt.hist(train_df.r_length); plt.title(\"Raw\"); plt.show()\n",
    "plt.hist(rbs_train_df.r_length); plt.title(\"RobustScaler\");"
   ]
  },
  {
   "cell_type": "markdown",
   "id": "2f694996-73f7-4cd8-bcf9-071852998937",
   "metadata": {},
   "source": [
    "#### fit model and compare with baseline"
   ]
  },
  {
   "cell_type": "code",
   "execution_count": 16,
   "id": "7cd3df05-16aa-410a-b6aa-ff060d02eb82",
   "metadata": {},
   "outputs": [],
   "source": [
    "X_train = rbs_train_df.drop(['r_id','r_useful'],axis=1)\n",
    "y_train = rbs_train_df['r_useful']\n",
    "X_test = rbs_test_df.drop(['r_id','r_useful'],axis=1)\n",
    "y_test = rbs_test_df['r_useful']\n",
    "X_val = rbs_val_df.drop(['r_id','r_useful'],axis=1)\n",
    "y_val = rbs_val_df['r_useful']"
   ]
  },
  {
   "cell_type": "code",
   "execution_count": 17,
   "id": "86f0dc66-c2ff-4cd1-b6e5-aaaf6e69f823",
   "metadata": {},
   "outputs": [
    {
     "name": "stdout",
     "output_type": "stream",
     "text": [
      "MLR(sgd) On RobustScaler Transformed data: \n",
      "On training set: RMSE: 4.47464039120345 MAE 1.6872885876504484\n",
      "On test set: RMSE: 4.052646133622046 MAE 1.68855985796349\n"
     ]
    }
   ],
   "source": [
    "# MLR(sgd)\n",
    "r_sgd = make_pipeline(StandardScaler(), SGDRegressor(max_iter=1000)) \n",
    "r_sgd.fit(X_train, y_train)\n",
    "\n",
    "pred_train_sgd = r_sgd.predict(X_train)\n",
    "pred_test_sgd  = r_sgd.predict(X_test)\n",
    "\n",
    "mae = mean_absolute_error(y_train, y_pred_train_sgd)\n",
    "mse = mean_squared_error(y_train, y_pred_train_sgd)\n",
    "rmse = np.sqrt(mse)\n",
    "print(\"MLR(sgd) On RobustScaler Transformed data: \")\n",
    "print(\"On training set: RMSE:\", rmse, \"MAE\", mae)\n",
    "\n",
    "#Prediction(test) \n",
    "mae = mean_absolute_error(y_test, y_pred_test_sgd)\n",
    "mse = mean_squared_error(y_test, y_pred_test_sgd)\n",
    "rmse = np.sqrt(mse)\n",
    "print(\"On test set: RMSE:\", rmse, \"MAE\", mae)\n"
   ]
  },
  {
   "cell_type": "code",
   "execution_count": 18,
   "id": "ad4ef70f-f515-4465-bc3b-1582b6b42ea0",
   "metadata": {},
   "outputs": [
    {
     "data": {
      "image/png": "[encoded data removed]",
      "text/plain": [
       "<Figure size 432x288 with 1 Axes>"
      ]
     },
     "metadata": {
      "needs_background": "light"
     },
     "output_type": "display_data"
    }
   ],
   "source": [
    "plt.scatter(y_train, y_pred_train_sgd)\n",
    "plt.xlabel(\"Actual vote: $Y_i$\")\n",
    "plt.ylabel(\"Predicted vote: $\\hat{Y}_i$\")\n",
    "plt.title(\"RobustScaled Predicted vote vs Actual vote\")\n",
    "plt.show()"
   ]
  },
  {
   "cell_type": "markdown",
   "id": "63405fb4-bc0e-4f15-87c0-9b069b880a04",
   "metadata": {},
   "source": [
    "#### Conclusion: not much change in model performance when the 3 different types of transformation are applied to skewed features only. "
   ]
  },
  {
   "cell_type": "code",
   "execution_count": null,
   "id": "3e8e00d0-afb4-46f2-a9e5-da81134fa057",
   "metadata": {},
   "outputs": [],
   "source": []
  },
  {
   "cell_type": "code",
   "execution_count": null,
   "id": "278e708f-87be-4ec7-ac52-4939a8f0f5b2",
   "metadata": {},
   "outputs": [],
   "source": []
  },
  {
   "cell_type": "markdown",
   "id": "6272d1d5-27e0-47d2-b073-2bf6159ad8f2",
   "metadata": {},
   "source": [
    "### PART II. Transformation on skewed features and target variable (Not working)\n",
    "may continue to investigate futhure later if have time\n",
    "#### (a). Yeo-Johnson Transformation"
   ]
  },
  {
   "cell_type": "code",
   "execution_count": 19,
   "id": "d25addb9-799d-4624-87f8-a6c51b26c140",
   "metadata": {},
   "outputs": [
    {
     "name": "stderr",
     "output_type": "stream",
     "text": [
      "C:\\Users\\Administrator\\AppData\\Local\\Programs\\Python\\Python310\\lib\\site-packages\\sklearn\\utils\\validation.py:1111: DataConversionWarning: A column-vector y was passed when a 1d array was expected. Please change the shape of y to (n_samples, ), for example using ravel().\n",
      "  y = column_or_1d(y, warn=True)\n"
     ]
    },
    {
     "data": {
      "text/html": [
       "<style>#sk-container-id-1 {color: black;background-color: white;}#sk-container-id-1 pre{padding: 0;}#sk-container-id-1 div.sk-toggleable {background-color: white;}#sk-container-id-1 label.sk-toggleable__label {cursor: pointer;display: block;width: 100%;margin-bottom: 0;padding: 0.3em;box-sizing: border-box;text-align: center;}#sk-container-id-1 label.sk-toggleable__label-arrow:before {content: \"▸\";float: left;margin-right: 0.25em;color: #696969;}#sk-container-id-1 label.sk-toggleable__label-arrow:hover:before {color: black;}#sk-container-id-1 div.sk-estimator:hover label.sk-toggleable__label-arrow:before {color: black;}#sk-container-id-1 div.sk-toggleable__content {max-height: 0;max-width: 0;overflow: hidden;text-align: left;background-color: #f0f8ff;}#sk-container-id-1 div.sk-toggleable__content pre {margin: 0.2em;color: black;border-radius: 0.25em;background-color: #f0f8ff;}#sk-container-id-1 input.sk-toggleable__control:checked~div.sk-toggleable__content {max-height: 200px;max-width: 100%;overflow: auto;}#sk-container-id-1 input.sk-toggleable__control:checked~label.sk-toggleable__label-arrow:before {content: \"▾\";}#sk-container-id-1 div.sk-estimator input.sk-toggleable__control:checked~label.sk-toggleable__label {background-color: #d4ebff;}#sk-container-id-1 div.sk-label input.sk-toggleable__control:checked~label.sk-toggleable__label {background-color: #d4ebff;}#sk-container-id-1 input.sk-hidden--visually {border: 0;clip: rect(1px 1px 1px 1px);clip: rect(1px, 1px, 1px, 1px);height: 1px;margin: -1px;overflow: hidden;padding: 0;position: absolute;width: 1px;}#sk-container-id-1 div.sk-estimator {font-family: monospace;background-color: #f0f8ff;border: 1px dotted black;border-radius: 0.25em;box-sizing: border-box;margin-bottom: 0.5em;}#sk-container-id-1 div.sk-estimator:hover {background-color: #d4ebff;}#sk-container-id-1 div.sk-parallel-item::after {content: \"\";width: 100%;border-bottom: 1px solid gray;flex-grow: 1;}#sk-container-id-1 div.sk-label:hover label.sk-toggleable__label {background-color: #d4ebff;}#sk-container-id-1 div.sk-serial::before {content: \"\";position: absolute;border-left: 1px solid gray;box-sizing: border-box;top: 0;bottom: 0;left: 50%;z-index: 0;}#sk-container-id-1 div.sk-serial {display: flex;flex-direction: column;align-items: center;background-color: white;padding-right: 0.2em;padding-left: 0.2em;position: relative;}#sk-container-id-1 div.sk-item {position: relative;z-index: 1;}#sk-container-id-1 div.sk-parallel {display: flex;align-items: stretch;justify-content: center;background-color: white;position: relative;}#sk-container-id-1 div.sk-item::before, #sk-container-id-1 div.sk-parallel-item::before {content: \"\";position: absolute;border-left: 1px solid gray;box-sizing: border-box;top: 0;bottom: 0;left: 50%;z-index: -1;}#sk-container-id-1 div.sk-parallel-item {display: flex;flex-direction: column;z-index: 1;position: relative;background-color: white;}#sk-container-id-1 div.sk-parallel-item:first-child::after {align-self: flex-end;width: 50%;}#sk-container-id-1 div.sk-parallel-item:last-child::after {align-self: flex-start;width: 50%;}#sk-container-id-1 div.sk-parallel-item:only-child::after {width: 0;}#sk-container-id-1 div.sk-dashed-wrapped {border: 1px dashed gray;margin: 0 0.4em 0.5em 0.4em;box-sizing: border-box;padding-bottom: 0.4em;background-color: white;}#sk-container-id-1 div.sk-label label {font-family: monospace;font-weight: bold;display: inline-block;line-height: 1.2em;}#sk-container-id-1 div.sk-label-container {text-align: center;}#sk-container-id-1 div.sk-container {/* jupyter's `normalize.less` sets `[hidden] { display: none; }` but bootstrap.min.css set `[hidden] { display: none !important; }` so we also need the `!important` here to be able to override the default hidden behavior on the sphinx rendered scikit-learn.org. See: https://github.com/scikit-learn/scikit-learn/issues/21755 */display: inline-block !important;position: relative;}#sk-container-id-1 div.sk-text-repr-fallback {display: none;}</style><div id=\"sk-container-id-1\" class=\"sk-top-container\"><div class=\"sk-text-repr-fallback\"><pre>Pipeline(steps=[(&#x27;standardscaler&#x27;, StandardScaler()),\n",
       "                (&#x27;sgdregressor&#x27;, SGDRegressor())])</pre><b>In a Jupyter environment, please rerun this cell to show the HTML representation or trust the notebook. <br />On GitHub, the HTML representation is unable to render, please try loading this page with nbviewer.org.</b></div><div class=\"sk-container\" hidden><div class=\"sk-item sk-dashed-wrapped\"><div class=\"sk-label-container\"><div class=\"sk-label sk-toggleable\"><input class=\"sk-toggleable__control sk-hidden--visually\" id=\"sk-estimator-id-1\" type=\"checkbox\" ><label for=\"sk-estimator-id-1\" class=\"sk-toggleable__label sk-toggleable__label-arrow\">Pipeline</label><div class=\"sk-toggleable__content\"><pre>Pipeline(steps=[(&#x27;standardscaler&#x27;, StandardScaler()),\n",
       "                (&#x27;sgdregressor&#x27;, SGDRegressor())])</pre></div></div></div><div class=\"sk-serial\"><div class=\"sk-item\"><div class=\"sk-estimator sk-toggleable\"><input class=\"sk-toggleable__control sk-hidden--visually\" id=\"sk-estimator-id-2\" type=\"checkbox\" ><label for=\"sk-estimator-id-2\" class=\"sk-toggleable__label sk-toggleable__label-arrow\">StandardScaler</label><div class=\"sk-toggleable__content\"><pre>StandardScaler()</pre></div></div></div><div class=\"sk-item\"><div class=\"sk-estimator sk-toggleable\"><input class=\"sk-toggleable__control sk-hidden--visually\" id=\"sk-estimator-id-3\" type=\"checkbox\" ><label for=\"sk-estimator-id-3\" class=\"sk-toggleable__label sk-toggleable__label-arrow\">SGDRegressor</label><div class=\"sk-toggleable__content\"><pre>SGDRegressor()</pre></div></div></div></div></div></div></div>"
      ],
      "text/plain": [
       "Pipeline(steps=[('standardscaler', StandardScaler()),\n",
       "                ('sgdregressor', SGDRegressor())])"
      ]
     },
     "execution_count": 19,
     "metadata": {},
     "output_type": "execute_result"
    }
   ],
   "source": [
    "X_train = yeo_train_df.drop(['r_id','r_useful'],axis=1)\n",
    "y_train = yeo_train_df['r_useful']\n",
    "X_test = yeo_test_df.drop(['r_id','r_useful'],axis=1)\n",
    "y_test = yeo_test_df['r_useful']\n",
    "X_val = yeo_val_df.drop(['r_id','r_useful'],axis=1)\n",
    "y_val = yeo_val_df['r_useful']\n",
    "\n",
    "# transform target\n",
    "y_train = pt.fit_transform(np.reshape(y_train.values, (-1,1)))\n",
    "y_test = pt.transform(np.reshape(y_test.values, (-1,1)))\n",
    "y_val = pt.transform(np.reshape(y_val.values, (-1,1)))\n",
    "\n",
    "# MLR(sgd)\n",
    "y_sgd = make_pipeline(StandardScaler(), SGDRegressor(max_iter=1000)) \n",
    "y_sgd.fit(X_train, y_train)"
   ]
  },
  {
   "cell_type": "code",
   "execution_count": 20,
   "id": "274f9dad-63ff-4cbf-9ccc-509dc8edcef5",
   "metadata": {},
   "outputs": [
    {
     "ename": "ValueError",
     "evalue": "Input contains NaN.",
     "output_type": "error",
     "traceback": [
      "\u001b[1;31m---------------------------------------------------------------------------\u001b[0m",
      "\u001b[1;31mValueError\u001b[0m                                Traceback (most recent call last)",
      "Input \u001b[1;32mIn [20]\u001b[0m, in \u001b[0;36m<cell line: 10>\u001b[1;34m()\u001b[0m\n\u001b[0;32m      5\u001b[0m y_pred_test_sgd \u001b[38;5;241m=\u001b[39m pt\u001b[38;5;241m.\u001b[39minverse_transform(np\u001b[38;5;241m.\u001b[39mreshape(y_pred_test_sgd, (\u001b[38;5;241m-\u001b[39m\u001b[38;5;241m1\u001b[39m,\u001b[38;5;241m1\u001b[39m)))\n\u001b[0;32m      9\u001b[0m \u001b[38;5;66;03m# i_y_train = pt.inverse_transform(y_train)\u001b[39;00m\n\u001b[1;32m---> 10\u001b[0m mae \u001b[38;5;241m=\u001b[39m \u001b[43mmean_absolute_error\u001b[49m\u001b[43m(\u001b[49m\u001b[43my_train\u001b[49m\u001b[43m,\u001b[49m\u001b[43m \u001b[49m\u001b[43my_pred_train_sgd\u001b[49m\u001b[43m)\u001b[49m\n\u001b[0;32m     11\u001b[0m mse \u001b[38;5;241m=\u001b[39m mean_squared_error(y_train, y_pred_train_sgd)\n\u001b[0;32m     12\u001b[0m rmse \u001b[38;5;241m=\u001b[39m np\u001b[38;5;241m.\u001b[39msqrt(mse)\n",
      "File \u001b[1;32m~\\AppData\\Local\\Programs\\Python\\Python310\\lib\\site-packages\\sklearn\\metrics\\_regression.py:196\u001b[0m, in \u001b[0;36mmean_absolute_error\u001b[1;34m(y_true, y_pred, sample_weight, multioutput)\u001b[0m\n\u001b[0;32m    141\u001b[0m \u001b[38;5;28;01mdef\u001b[39;00m \u001b[38;5;21mmean_absolute_error\u001b[39m(\n\u001b[0;32m    142\u001b[0m     y_true, y_pred, \u001b[38;5;241m*\u001b[39m, sample_weight\u001b[38;5;241m=\u001b[39m\u001b[38;5;28;01mNone\u001b[39;00m, multioutput\u001b[38;5;241m=\u001b[39m\u001b[38;5;124m\"\u001b[39m\u001b[38;5;124muniform_average\u001b[39m\u001b[38;5;124m\"\u001b[39m\n\u001b[0;32m    143\u001b[0m ):\n\u001b[0;32m    144\u001b[0m     \u001b[38;5;124;03m\"\"\"Mean absolute error regression loss.\u001b[39;00m\n\u001b[0;32m    145\u001b[0m \n\u001b[0;32m    146\u001b[0m \u001b[38;5;124;03m    Read more in the :ref:`User Guide <mean_absolute_error>`.\u001b[39;00m\n\u001b[1;32m   (...)\u001b[0m\n\u001b[0;32m    194\u001b[0m \u001b[38;5;124;03m    0.85...\u001b[39;00m\n\u001b[0;32m    195\u001b[0m \u001b[38;5;124;03m    \"\"\"\u001b[39;00m\n\u001b[1;32m--> 196\u001b[0m     y_type, y_true, y_pred, multioutput \u001b[38;5;241m=\u001b[39m \u001b[43m_check_reg_targets\u001b[49m\u001b[43m(\u001b[49m\n\u001b[0;32m    197\u001b[0m \u001b[43m        \u001b[49m\u001b[43my_true\u001b[49m\u001b[43m,\u001b[49m\u001b[43m \u001b[49m\u001b[43my_pred\u001b[49m\u001b[43m,\u001b[49m\u001b[43m \u001b[49m\u001b[43mmultioutput\u001b[49m\n\u001b[0;32m    198\u001b[0m \u001b[43m    \u001b[49m\u001b[43m)\u001b[49m\n\u001b[0;32m    199\u001b[0m     check_consistent_length(y_true, y_pred, sample_weight)\n\u001b[0;32m    200\u001b[0m     output_errors \u001b[38;5;241m=\u001b[39m np\u001b[38;5;241m.\u001b[39maverage(np\u001b[38;5;241m.\u001b[39mabs(y_pred \u001b[38;5;241m-\u001b[39m y_true), weights\u001b[38;5;241m=\u001b[39msample_weight, axis\u001b[38;5;241m=\u001b[39m\u001b[38;5;241m0\u001b[39m)\n",
      "File \u001b[1;32m~\\AppData\\Local\\Programs\\Python\\Python310\\lib\\site-packages\\sklearn\\metrics\\_regression.py:102\u001b[0m, in \u001b[0;36m_check_reg_targets\u001b[1;34m(y_true, y_pred, multioutput, dtype)\u001b[0m\n\u001b[0;32m    100\u001b[0m check_consistent_length(y_true, y_pred)\n\u001b[0;32m    101\u001b[0m y_true \u001b[38;5;241m=\u001b[39m check_array(y_true, ensure_2d\u001b[38;5;241m=\u001b[39m\u001b[38;5;28;01mFalse\u001b[39;00m, dtype\u001b[38;5;241m=\u001b[39mdtype)\n\u001b[1;32m--> 102\u001b[0m y_pred \u001b[38;5;241m=\u001b[39m \u001b[43mcheck_array\u001b[49m\u001b[43m(\u001b[49m\u001b[43my_pred\u001b[49m\u001b[43m,\u001b[49m\u001b[43m \u001b[49m\u001b[43mensure_2d\u001b[49m\u001b[38;5;241;43m=\u001b[39;49m\u001b[38;5;28;43;01mFalse\u001b[39;49;00m\u001b[43m,\u001b[49m\u001b[43m \u001b[49m\u001b[43mdtype\u001b[49m\u001b[38;5;241;43m=\u001b[39;49m\u001b[43mdtype\u001b[49m\u001b[43m)\u001b[49m\n\u001b[0;32m    104\u001b[0m \u001b[38;5;28;01mif\u001b[39;00m y_true\u001b[38;5;241m.\u001b[39mndim \u001b[38;5;241m==\u001b[39m \u001b[38;5;241m1\u001b[39m:\n\u001b[0;32m    105\u001b[0m     y_true \u001b[38;5;241m=\u001b[39m y_true\u001b[38;5;241m.\u001b[39mreshape((\u001b[38;5;241m-\u001b[39m\u001b[38;5;241m1\u001b[39m, \u001b[38;5;241m1\u001b[39m))\n",
      "File \u001b[1;32m~\\AppData\\Local\\Programs\\Python\\Python310\\lib\\site-packages\\sklearn\\utils\\validation.py:899\u001b[0m, in \u001b[0;36mcheck_array\u001b[1;34m(array, accept_sparse, accept_large_sparse, dtype, order, copy, force_all_finite, ensure_2d, allow_nd, ensure_min_samples, ensure_min_features, estimator, input_name)\u001b[0m\n\u001b[0;32m    893\u001b[0m         \u001b[38;5;28;01mraise\u001b[39;00m \u001b[38;5;167;01mValueError\u001b[39;00m(\n\u001b[0;32m    894\u001b[0m             \u001b[38;5;124m\"\u001b[39m\u001b[38;5;124mFound array with dim \u001b[39m\u001b[38;5;132;01m%d\u001b[39;00m\u001b[38;5;124m. \u001b[39m\u001b[38;5;132;01m%s\u001b[39;00m\u001b[38;5;124m expected <= 2.\u001b[39m\u001b[38;5;124m\"\u001b[39m\n\u001b[0;32m    895\u001b[0m             \u001b[38;5;241m%\u001b[39m (array\u001b[38;5;241m.\u001b[39mndim, estimator_name)\n\u001b[0;32m    896\u001b[0m         )\n\u001b[0;32m    898\u001b[0m     \u001b[38;5;28;01mif\u001b[39;00m force_all_finite:\n\u001b[1;32m--> 899\u001b[0m         \u001b[43m_assert_all_finite\u001b[49m\u001b[43m(\u001b[49m\n\u001b[0;32m    900\u001b[0m \u001b[43m            \u001b[49m\u001b[43marray\u001b[49m\u001b[43m,\u001b[49m\n\u001b[0;32m    901\u001b[0m \u001b[43m            \u001b[49m\u001b[43minput_name\u001b[49m\u001b[38;5;241;43m=\u001b[39;49m\u001b[43minput_name\u001b[49m\u001b[43m,\u001b[49m\n\u001b[0;32m    902\u001b[0m \u001b[43m            \u001b[49m\u001b[43mestimator_name\u001b[49m\u001b[38;5;241;43m=\u001b[39;49m\u001b[43mestimator_name\u001b[49m\u001b[43m,\u001b[49m\n\u001b[0;32m    903\u001b[0m \u001b[43m            \u001b[49m\u001b[43mallow_nan\u001b[49m\u001b[38;5;241;43m=\u001b[39;49m\u001b[43mforce_all_finite\u001b[49m\u001b[43m \u001b[49m\u001b[38;5;241;43m==\u001b[39;49m\u001b[43m \u001b[49m\u001b[38;5;124;43m\"\u001b[39;49m\u001b[38;5;124;43mallow-nan\u001b[39;49m\u001b[38;5;124;43m\"\u001b[39;49m\u001b[43m,\u001b[49m\n\u001b[0;32m    904\u001b[0m \u001b[43m        \u001b[49m\u001b[43m)\u001b[49m\n\u001b[0;32m    906\u001b[0m \u001b[38;5;28;01mif\u001b[39;00m ensure_min_samples \u001b[38;5;241m>\u001b[39m \u001b[38;5;241m0\u001b[39m:\n\u001b[0;32m    907\u001b[0m     n_samples \u001b[38;5;241m=\u001b[39m _num_samples(array)\n",
      "File \u001b[1;32m~\\AppData\\Local\\Programs\\Python\\Python310\\lib\\site-packages\\sklearn\\utils\\validation.py:146\u001b[0m, in \u001b[0;36m_assert_all_finite\u001b[1;34m(X, allow_nan, msg_dtype, estimator_name, input_name)\u001b[0m\n\u001b[0;32m    124\u001b[0m         \u001b[38;5;28;01mif\u001b[39;00m (\n\u001b[0;32m    125\u001b[0m             \u001b[38;5;129;01mnot\u001b[39;00m allow_nan\n\u001b[0;32m    126\u001b[0m             \u001b[38;5;129;01mand\u001b[39;00m estimator_name\n\u001b[1;32m   (...)\u001b[0m\n\u001b[0;32m    130\u001b[0m             \u001b[38;5;66;03m# Improve the error message on how to handle missing values in\u001b[39;00m\n\u001b[0;32m    131\u001b[0m             \u001b[38;5;66;03m# scikit-learn.\u001b[39;00m\n\u001b[0;32m    132\u001b[0m             msg_err \u001b[38;5;241m+\u001b[39m\u001b[38;5;241m=\u001b[39m (\n\u001b[0;32m    133\u001b[0m                 \u001b[38;5;124mf\u001b[39m\u001b[38;5;124m\"\u001b[39m\u001b[38;5;130;01m\\n\u001b[39;00m\u001b[38;5;132;01m{\u001b[39;00mestimator_name\u001b[38;5;132;01m}\u001b[39;00m\u001b[38;5;124m does not accept missing values\u001b[39m\u001b[38;5;124m\"\u001b[39m\n\u001b[0;32m    134\u001b[0m                 \u001b[38;5;124m\"\u001b[39m\u001b[38;5;124m encoded as NaN natively. For supervised learning, you might want\u001b[39m\u001b[38;5;124m\"\u001b[39m\n\u001b[1;32m   (...)\u001b[0m\n\u001b[0;32m    144\u001b[0m                 \u001b[38;5;124m\"\u001b[39m\u001b[38;5;124m#estimators-that-handle-nan-values\u001b[39m\u001b[38;5;124m\"\u001b[39m\n\u001b[0;32m    145\u001b[0m             )\n\u001b[1;32m--> 146\u001b[0m         \u001b[38;5;28;01mraise\u001b[39;00m \u001b[38;5;167;01mValueError\u001b[39;00m(msg_err)\n\u001b[0;32m    148\u001b[0m \u001b[38;5;66;03m# for object dtype data, we only check for NaNs (GH-13254)\u001b[39;00m\n\u001b[0;32m    149\u001b[0m \u001b[38;5;28;01melif\u001b[39;00m X\u001b[38;5;241m.\u001b[39mdtype \u001b[38;5;241m==\u001b[39m np\u001b[38;5;241m.\u001b[39mdtype(\u001b[38;5;124m\"\u001b[39m\u001b[38;5;124mobject\u001b[39m\u001b[38;5;124m\"\u001b[39m) \u001b[38;5;129;01mand\u001b[39;00m \u001b[38;5;129;01mnot\u001b[39;00m allow_nan:\n",
      "\u001b[1;31mValueError\u001b[0m: Input contains NaN."
     ]
    }
   ],
   "source": [
    "y_pred_train_sgd = y_sgd.predict(X_train)\n",
    "#inverse transform perdiction\n",
    "y_pred_train_sgd = pt.inverse_transform(np.reshape(y_pred_train_sgd, (-1,1)))\n",
    "y_pred_test_sgd  = y_sgd.predict(X_test)\n",
    "y_pred_test_sgd = pt.inverse_transform(np.reshape(y_pred_test_sgd, (-1,1)))\n",
    "\n",
    "\n",
    "\n",
    "# i_y_train = pt.inverse_transform(y_train)\n",
    "mae = mean_absolute_error(y_train, y_pred_train_sgd)\n",
    "mse = mean_squared_error(y_train, y_pred_train_sgd)\n",
    "rmse = np.sqrt(mse)\n",
    "print(\"MLR(sgd) On Yeo-Johnson Transformed data: \")\n",
    "print(\"On training set: RMSE:\", rmse, \"MAE\", mae)\n",
    "\n",
    "#Prediction(test) \n",
    "mae = mean_absolute_error(y_test, y_pred_test_sgd)\n",
    "mse = mean_squared_error(y_test, y_pred_test_sgd)\n",
    "rmse = np.sqrt(mse)\n",
    "print(\"On test set: RMSE:\", rmse, \"MAE\", mae)\n"
   ]
  },
  {
   "cell_type": "code",
   "execution_count": 21,
   "id": "65882842-b3bf-4e7a-80ee-59facf60d5b3",
   "metadata": {},
   "outputs": [
    {
     "name": "stdout",
     "output_type": "stream",
     "text": [
      "(array([], dtype=int64), array([], dtype=int64))\n"
     ]
    }
   ],
   "source": [
    "np.isnan(y_pred_test_sgd)\n",
    "ar_nan = np.where(np.isnan(y_pred_test_sgd))\n",
    "print (ar_nan)\n"
   ]
  },
  {
   "cell_type": "code",
   "execution_count": null,
   "id": "3c1005f8-5d9f-42df-8ad2-dc70854e102d",
   "metadata": {},
   "outputs": [],
   "source": []
  },
  {
   "cell_type": "code",
   "execution_count": null,
   "id": "c35bd2f4-c01b-482c-909c-512625eda58b",
   "metadata": {},
   "outputs": [],
   "source": []
  },
  {
   "cell_type": "code",
   "execution_count": null,
   "id": "5b481045-5645-414b-9b06-56e05a049b0e",
   "metadata": {},
   "outputs": [],
   "source": []
  },
  {
   "cell_type": "markdown",
   "id": "1ed2e7ae-c1b5-40f8-99de-f8b52779ffca",
   "metadata": {},
   "source": [
    "### PART III. Transformation on all data and target variable \n",
    "Apply transformation on the whole dataset, including target variable. Then do Inverse transformation on prediction, and y_test. Then calculate RMSE/MAE. Done automatically using TransformedTargetRegressor\n",
    "\n",
    "Ref: https://machinelearningmastery.com/how-to-transform-target-variables-for-regression-with-scikit-learn/\n",
    "\n",
    "#### (a). Yeo-Johnson Transformation"
   ]
  },
  {
   "cell_type": "code",
   "execution_count": 22,
   "id": "fd80a0b3-4630-43fc-904f-74c8a05010da",
   "metadata": {},
   "outputs": [],
   "source": [
    "X_train = train_df.drop(['r_id','r_useful'],axis=1)\n",
    "y_train = train_df['r_useful']\n",
    "X_test = test_df.drop(['r_id','r_useful'],axis=1)\n",
    "y_test = test_df['r_useful']\n",
    "X_val = val_df.drop(['r_id','r_useful'],axis=1)\n",
    "y_val = val_df['r_useful']"
   ]
  },
  {
   "cell_type": "code",
   "execution_count": 23,
   "id": "3bddb779-5e43-4e4b-a983-d381f18d40a5",
   "metadata": {},
   "outputs": [
    {
     "name": "stdout",
     "output_type": "stream",
     "text": [
      "MLR(sgd) On Yeo-Johnson(Power) Transformed data (all data including Target Variable transformed):\n",
      "On training set: RMSE: 4.735881086666444 MAE 1.5373603825107915\n",
      "On test set: RMSE: 4.337628398040843 MAE 1.5399527935915538\n"
     ]
    }
   ],
   "source": [
    "from sklearn.compose import TransformedTargetRegressor\n",
    "from sklearn.pipeline import Pipeline\n",
    "\n",
    "# prepare the model with input scaling\n",
    "pipeline = Pipeline(steps=[('normalize', PowerTransformer()), ('model', SGDRegressor(max_iter=1000))])\n",
    "# prepare the model with target scaling\n",
    "modelp = TransformedTargetRegressor(regressor=pipeline, transformer=PowerTransformer())\n",
    "\n",
    "modelp.fit(X_train, y_train)\n",
    "y_pred_train_sgd = modelp.predict(X_train)\n",
    "y_pred_test_sgd  = modelp.predict(X_test)\n",
    "\n",
    "mae = mean_absolute_error(y_train, y_pred_train_sgd)\n",
    "mse = mean_squared_error(y_train, y_pred_train_sgd)\n",
    "rmse = np.sqrt(mse)\n",
    "print(\"MLR(sgd) On Yeo-Johnson(Power) Transformed data (all data including Target Variable transformed):\")\n",
    "print(\"On training set: RMSE:\", rmse, \"MAE\", mae)\n",
    "\n",
    "#Prediction(test) \n",
    "mae = mean_absolute_error(y_test, y_pred_test_sgd)\n",
    "mse = mean_squared_error(y_test, y_pred_test_sgd)\n",
    "rmse = np.sqrt(mse)\n",
    "print(\"On test set: RMSE:\", rmse, \"MAE\", mae)"
   ]
  },
  {
   "cell_type": "markdown",
   "id": "247dfb53-92cc-4109-a76b-1d81f84ad892",
   "metadata": {},
   "source": [
    "#### (b). StandardScaler on all data & target variable"
   ]
  },
  {
   "cell_type": "code",
   "execution_count": 24,
   "id": "ec833c52-d31e-4b85-8983-4bf790e8935a",
   "metadata": {},
   "outputs": [
    {
     "name": "stdout",
     "output_type": "stream",
     "text": [
      "MLR(sgd) On StandardScaler Transformed data (all data including Target Variable transformed):\n",
      "On training set: RMSE: 4.470610014273918 MAE 1.6461634571202848\n",
      "On test set: RMSE: 4.049011379786744 MAE 1.6478410726795376\n"
     ]
    }
   ],
   "source": [
    "# prepare the model with input scaling\n",
    "pipeline = Pipeline(steps=[('normalize', StandardScaler()), ('model', SGDRegressor())])\n",
    "# prepare the model with target scaling\n",
    "model = TransformedTargetRegressor(regressor=pipeline, transformer=StandardScaler())\n",
    "\n",
    "model.fit(X_train, y_train)\n",
    "y_pred_train_sgd = model.predict(X_train)\n",
    "y_pred_test_sgd  = model.predict(X_test)\n",
    "\n",
    "mae = mean_absolute_error(y_train, y_pred_train_sgd)\n",
    "mse = mean_squared_error(y_train, y_pred_train_sgd)\n",
    "rmse = np.sqrt(mse)\n",
    "print(\"MLR(sgd) On StandardScaler Transformed data (all data including Target Variable transformed):\")\n",
    "print(\"On training set: RMSE:\", rmse, \"MAE\", mae)\n",
    "\n",
    "#Prediction(test) \n",
    "mae = mean_absolute_error(y_test, y_pred_test_sgd)\n",
    "mse = mean_squared_error(y_test, y_pred_test_sgd)\n",
    "rmse = np.sqrt(mse)\n",
    "print(\"On test set: RMSE:\", rmse, \"MAE\", mae)"
   ]
  },
  {
   "cell_type": "markdown",
   "id": "dc27cb38-05c9-46a7-b07a-870eab09e5f8",
   "metadata": {},
   "source": [
    "#### (c). RoubstScaler on all data & target variable"
   ]
  },
  {
   "cell_type": "code",
   "execution_count": 25,
   "id": "dccb326f-489d-4075-8dd1-cca12e529b5f",
   "metadata": {},
   "outputs": [
    {
     "name": "stdout",
     "output_type": "stream",
     "text": [
      "MLR(sgd) On RobustScaler Transformed data (all data including Target Variable transformed):\n",
      "On training set: RMSE: 4.47140237204932 MAE 1.6751747295075212\n",
      "On test set: RMSE: 4.050337060741516 MAE 1.6769835763678917\n"
     ]
    }
   ],
   "source": [
    "# prepare the model with input scaling\n",
    "pipeline = Pipeline(steps=[('normalize', RobustScaler()), ('model', SGDRegressor())])\n",
    "# prepare the model with target scaling\n",
    "modelr = TransformedTargetRegressor(regressor=pipeline, transformer=RobustScaler())\n",
    "\n",
    "modelr.fit(X_train, y_train)\n",
    "y_pred_train_sgd = modelr.predict(X_train)\n",
    "y_pred_test_sgd  = modelr.predict(X_test)\n",
    "\n",
    "mae = mean_absolute_error(y_train, y_pred_train_sgd)\n",
    "mse = mean_squared_error(y_train, y_pred_train_sgd)\n",
    "rmse = np.sqrt(mse)\n",
    "print(\"MLR(sgd) On RobustScaler Transformed data (all data including Target Variable transformed):\")\n",
    "print(\"On training set: RMSE:\", rmse, \"MAE\", mae)\n",
    "\n",
    "#Prediction(test) \n",
    "mae = mean_absolute_error(y_test, y_pred_test_sgd)\n",
    "mse = mean_squared_error(y_test, y_pred_test_sgd)\n",
    "rmse = np.sqrt(mse)\n",
    "print(\"On test set: RMSE:\", rmse, \"MAE\", mae)"
   ]
  },
  {
   "cell_type": "markdown",
   "id": "f6e67cf7-ad02-4d32-974c-3c45542450b1",
   "metadata": {},
   "source": [
    "#### Conclusion: Again not much change in model performance. "
   ]
  },
  {
   "cell_type": "code",
   "execution_count": null,
   "id": "925b3a23-5520-49b3-9621-5b69b5686bba",
   "metadata": {},
   "outputs": [],
   "source": []
  },
  {
   "cell_type": "markdown",
   "id": "cd82e1be-a409-43f4-8b29-997c8eddced0",
   "metadata": {},
   "source": [
    "### PART V. MinMax Scaler on all features"
   ]
  },
  {
   "cell_type": "code",
   "execution_count": 28,
   "id": "f29b7ec8-384e-45ec-b09c-0efa561d1f44",
   "metadata": {},
   "outputs": [],
   "source": [
    "from sklearn.preprocessing import MinMaxScaler\n",
    "\n",
    "X_train = train_df.drop(['r_id','r_useful'],axis=1)\n",
    "y_train = train_df['r_useful']\n",
    "X_test = test_df.drop(['r_id','r_useful'],axis=1)\n",
    "y_test = test_df['r_useful']\n",
    "X_val = val_df.drop(['r_id','r_useful'],axis=1)\n",
    "y_val = val_df['r_useful']\n",
    "\n",
    "# standardise the features\n",
    "ss = MinMaxScaler()\n",
    "X_train = ss.fit_transform(X_train)\n",
    "X_val = ss.transform(X_val)\n",
    "X_test = ss.transform(X_test)"
   ]
  },
  {
   "cell_type": "code",
   "execution_count": 29,
   "id": "64325d3c-2019-481c-b013-d9d1d3488c5a",
   "metadata": {},
   "outputs": [],
   "source": [
    "sgd = SGDRegressor(max_iter=1000)\n",
    "model = sgd.fit(X_train, y_train)"
   ]
  },
  {
   "cell_type": "code",
   "execution_count": 30,
   "id": "087e6d5f-b2df-4d05-8363-0344fc4b80ee",
   "metadata": {},
   "outputs": [
    {
     "name": "stdout",
     "output_type": "stream",
     "text": [
      "On training set: RMSE: 4.471566047704357 MAE 1.7017743537622136\n",
      "On test set: RMSE: 4.049708274562499 MAE 1.703577080850289\n"
     ]
    }
   ],
   "source": [
    "y_pred_train_sgd = sgd.predict(X_train)\n",
    "y_pred_test_sgd  = sgd.predict(X_test)\n",
    "\n",
    "\n",
    "mae = mean_absolute_error(y_train, y_pred_train_sgd)\n",
    "mse = mean_squared_error(y_train, y_pred_train_sgd)\n",
    "rmse = np.sqrt(mse)\n",
    "print(\"On training set: RMSE:\", rmse, \"MAE\", mae)\n",
    "\n",
    "#Prediction(test) \n",
    "mae = mean_absolute_error(y_test, y_pred_test_sgd)\n",
    "mse = mean_squared_error(y_test, y_pred_test_sgd)\n",
    "rmse = np.sqrt(mse)\n",
    "print(\"On test set: RMSE:\", rmse, \"MAE\", mae)"
   ]
  }
 ],
 "metadata": {
  "kernelspec": {
   "display_name": "Python 3 (ipykernel)",
   "language": "python",
   "name": "python3"
  },
  "language_info": {
   "codemirror_mode": {
    "name": "ipython",
    "version": 3
   },
   "file_extension": ".py",
   "mimetype": "text/x-python",
   "name": "python",
   "nbconvert_exporter": "python",
   "pygments_lexer": "ipython3",
   "version": "3.10.6"
  }
 },
 "nbformat": 4,
 "nbformat_minor": 5
}
