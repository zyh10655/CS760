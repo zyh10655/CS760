{
 "cells": [
  {
   "cell_type": "markdown",
   "id": "94a4860d-2c15-4183-ac58-d21ca50d61f6",
   "metadata": {},
   "source": [
    "### Multiple linear regression(MLR) with Stochastic Gradient Descent(SGD), \n",
    "#### on new dataset(StandardScaler on whole dataset, 11 features, useful vote normalization removed)\n",
    "20220906"
   ]
  },
  {
   "cell_type": "code",
   "execution_count": 1,
   "id": "541d23ee-ad34-490f-8bff-2b72b3b57619",
   "metadata": {},
   "outputs": [],
   "source": [
    "import pandas as pd\n",
    "import numpy as np\n",
    "import random\n",
    "from sklearn.linear_model import SGDRegressor\n",
    "from sklearn.metrics import mean_absolute_error\n",
    "from sklearn.metrics import mean_squared_error\n",
    "from sklearn.preprocessing import StandardScaler"
   ]
  },
  {
   "cell_type": "code",
   "execution_count": 2,
   "id": "d8004b78-39b4-43a8-9514-1f70c3184ab5",
   "metadata": {},
   "outputs": [],
   "source": [
    "#import data\n",
    "train_df = pd.read_parquet(\"train_main.parquet.snappy\")\n",
    "test_df = pd.read_parquet(\"test_main.parquet.snappy\")\n",
    "val_df = pd.read_parquet(\"val_main.parquet.snappy\")"
   ]
  },
  {
   "cell_type": "code",
   "execution_count": 3,
   "id": "1d57509a-c37c-4449-b88a-03eeb92fc821",
   "metadata": {},
   "outputs": [],
   "source": [
    "X_train = train_df.drop(['r_id','r_useful'],axis=1)\n",
    "y_train = train_df['r_useful']\n",
    "X_test = test_df.drop(['r_id','r_useful'],axis=1)\n",
    "y_test = test_df['r_useful']\n",
    "X_val = val_df.drop(['r_id','r_useful'],axis=1)\n",
    "y_val = val_df['r_useful']\n",
    "\n",
    "# standardise the features\n",
    "ss = StandardScaler()\n",
    "X_train = ss.fit_transform(X_train)\n",
    "X_val = ss.transform(X_val)\n",
    "X_test = ss.transform(X_test)"
   ]
  },
  {
   "cell_type": "markdown",
   "id": "930fb544-5527-47ac-becf-562194c4e9e6",
   "metadata": {},
   "source": [
    "#### Linear regression with Stochastic Gradient Descent (sgd)"
   ]
  },
  {
   "cell_type": "code",
   "execution_count": 4,
   "id": "66f61ad5-5546-4fdd-b233-1c9a9d04ac92",
   "metadata": {},
   "outputs": [],
   "source": [
    "random.seed(760)\n",
    "sgd = SGDRegressor(max_iter=1000)\n",
    "model = sgd.fit(X_train, y_train)"
   ]
  },
  {
   "cell_type": "code",
   "execution_count": 12,
   "id": "f641ae07-b304-4880-bd99-8a4bb144c842",
   "metadata": {},
   "outputs": [
    {
     "name": "stdout",
     "output_type": "stream",
     "text": [
      "On training set: RMSE: 4.471520108693297 MAE 1.6596193358208642\n",
      "On test set: RMSE: 4.050342491027838 MAE 1.6609867359596466\n"
     ]
    }
   ],
   "source": [
    "y_pred_train_sgd = sgd.predict(X_train)\n",
    "y_pred_test_sgd  = sgd.predict(X_test)\n",
    "\n",
    "\n",
    "mae = mean_absolute_error(y_train, y_pred_train_sgd)\n",
    "mse = mean_squared_error(y_train, y_pred_train_sgd)\n",
    "rmse = np.sqrt(mse)\n",
    "print(\"On training set: RMSE:\", rmse, \"MAE\", mae)\n",
    "\n",
    "#Prediction(test) \n",
    "mae = mean_absolute_error(y_test, y_pred_test_sgd)\n",
    "mse = mean_squared_error(y_test, y_pred_test_sgd)\n",
    "rmse = np.sqrt(mse)\n",
    "print(\"On test set: RMSE:\", rmse, \"MAE\", mae)"
   ]
  },
  {
   "cell_type": "code",
   "execution_count": 8,
   "id": "8dcbc64b-5a23-4afe-8c5a-6ce819bf537f",
   "metadata": {},
   "outputs": [
    {
     "data": {
      "image/png": "[encoded data removed]",
      "text/plain": [
       "<Figure size 432x288 with 1 Axes>"
      ]
     },
     "metadata": {
      "needs_background": "light"
     },
     "output_type": "display_data"
    }
   ],
   "source": [
    "import matplotlib.pyplot as plt\n",
    "plt.scatter(y_test,y_pred_test_sgd)\n",
    "plt.xlabel(\"Actual vote: $Y_i$\")\n",
    "plt.ylabel(\"Predicted vote: $\\hat{Y}_i$\")\n",
    "plt.title(\"Predicted vote vs Actual vote\")\n",
    "plt.show()"
   ]
  },
  {
   "cell_type": "code",
   "execution_count": null,
   "id": "c8e0bf7c-44e4-4392-ad11-835c251764b9",
   "metadata": {},
   "outputs": [],
   "source": []
  }
 ],
 "metadata": {
  "kernelspec": {
   "display_name": "Python 3 (ipykernel)",
   "language": "python",
   "name": "python3"
  },
  "language_info": {
   "codemirror_mode": {
    "name": "ipython",
    "version": 3
   },
   "file_extension": ".py",
   "mimetype": "text/x-python",
   "name": "python",
   "nbconvert_exporter": "python",
   "pygments_lexer": "ipython3",
   "version": "3.10.6"
  }
 },
 "nbformat": 4,
 "nbformat_minor": 5
}
