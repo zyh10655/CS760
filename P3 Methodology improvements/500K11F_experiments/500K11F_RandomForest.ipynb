{
 "cells": [
  {
   "cell_type": "markdown",
   "id": "a95b897c-bceb-4382-871e-4406cf36a4f8",
   "metadata": {},
   "source": [
    "## Random Forest with 3-fold CV, StandardScaler and optuna on dataset3.0\n",
    "dataset: 11 features,  subsampled dataset\n",
    "\n",
    "20220926"
   ]
  },
  {
   "cell_type": "code",
   "execution_count": 1,
   "id": "ca0bb6c5-06da-4e15-a33f-aeb5baef7e01",
   "metadata": {},
   "outputs": [],
   "source": [
    "import pandas as pd\n",
    "import numpy as np\n",
    "from numpy import random\n",
    "from sklearn.metrics import mean_absolute_error\n",
    "from sklearn.metrics import mean_squared_error\n",
    "from sklearn.pipeline import make_pipeline\n",
    "from sklearn.preprocessing import StandardScaler\n",
    "from sklearn.ensemble import RandomForestRegressor\n",
    "import optuna as opt\n",
    "import warnings\n",
    "warnings.filterwarnings(\"ignore\")\n",
    "import time\n",
    "from sklearn.model_selection import cross_val_score\n",
    "from sklearn.pipeline import make_pipeline"
   ]
  },
  {
   "cell_type": "code",
   "execution_count": 2,
   "id": "a720a5a3-bdbd-42f3-b396-82c5d5c77f59",
   "metadata": {},
   "outputs": [
    {
     "data": {
      "text/html": [
       "<div>\n",
       "<style scoped>\n",
       "    .dataframe tbody tr th:only-of-type {\n",
       "        vertical-align: middle;\n",
       "    }\n",
       "\n",
       "    .dataframe tbody tr th {\n",
       "        vertical-align: top;\n",
       "    }\n",
       "\n",
       "    .dataframe thead th {\n",
       "        text-align: right;\n",
       "    }\n",
       "</style>\n",
       "<table border=\"1\" class=\"dataframe\">\n",
       "  <thead>\n",
       "    <tr style=\"text-align: right;\">\n",
       "      <th></th>\n",
       "      <th>r_id</th>\n",
       "      <th>r_stars</th>\n",
       "      <th>r_stars_square</th>\n",
       "      <th>r_length</th>\n",
       "      <th>u_friends_count</th>\n",
       "      <th>u_review_count</th>\n",
       "      <th>u_month_age</th>\n",
       "      <th>b_stars</th>\n",
       "      <th>b_review_count</th>\n",
       "      <th>r_sen</th>\n",
       "      <th>r_sub</th>\n",
       "      <th>r_rea</th>\n",
       "      <th>r_useful</th>\n",
       "    </tr>\n",
       "  </thead>\n",
       "  <tbody>\n",
       "    <tr>\n",
       "      <th>0</th>\n",
       "      <td>4195320</td>\n",
       "      <td>4</td>\n",
       "      <td>16</td>\n",
       "      <td>86</td>\n",
       "      <td>163</td>\n",
       "      <td>40</td>\n",
       "      <td>27.298941</td>\n",
       "      <td>4.0</td>\n",
       "      <td>445</td>\n",
       "      <td>0.117031</td>\n",
       "      <td>0.361875</td>\n",
       "      <td>86.10</td>\n",
       "      <td>1</td>\n",
       "    </tr>\n",
       "    <tr>\n",
       "      <th>1</th>\n",
       "      <td>4406379</td>\n",
       "      <td>5</td>\n",
       "      <td>25</td>\n",
       "      <td>28</td>\n",
       "      <td>18</td>\n",
       "      <td>115</td>\n",
       "      <td>0.001011</td>\n",
       "      <td>4.0</td>\n",
       "      <td>636</td>\n",
       "      <td>-0.140000</td>\n",
       "      <td>0.133333</td>\n",
       "      <td>96.48</td>\n",
       "      <td>3</td>\n",
       "    </tr>\n",
       "    <tr>\n",
       "      <th>2</th>\n",
       "      <td>1172072</td>\n",
       "      <td>5</td>\n",
       "      <td>25</td>\n",
       "      <td>76</td>\n",
       "      <td>69</td>\n",
       "      <td>1</td>\n",
       "      <td>0.000002</td>\n",
       "      <td>2.5</td>\n",
       "      <td>15</td>\n",
       "      <td>0.256723</td>\n",
       "      <td>0.355398</td>\n",
       "      <td>69.07</td>\n",
       "      <td>1</td>\n",
       "    </tr>\n",
       "    <tr>\n",
       "      <th>3</th>\n",
       "      <td>1949778</td>\n",
       "      <td>1</td>\n",
       "      <td>1</td>\n",
       "      <td>186</td>\n",
       "      <td>23</td>\n",
       "      <td>6</td>\n",
       "      <td>23.288288</td>\n",
       "      <td>3.5</td>\n",
       "      <td>185</td>\n",
       "      <td>-0.209252</td>\n",
       "      <td>0.378994</td>\n",
       "      <td>82.54</td>\n",
       "      <td>1</td>\n",
       "    </tr>\n",
       "    <tr>\n",
       "      <th>4</th>\n",
       "      <td>4377517</td>\n",
       "      <td>5</td>\n",
       "      <td>25</td>\n",
       "      <td>57</td>\n",
       "      <td>1</td>\n",
       "      <td>25</td>\n",
       "      <td>48.728723</td>\n",
       "      <td>4.5</td>\n",
       "      <td>227</td>\n",
       "      <td>0.295040</td>\n",
       "      <td>0.454762</td>\n",
       "      <td>91.11</td>\n",
       "      <td>1</td>\n",
       "    </tr>\n",
       "    <tr>\n",
       "      <th>...</th>\n",
       "      <td>...</td>\n",
       "      <td>...</td>\n",
       "      <td>...</td>\n",
       "      <td>...</td>\n",
       "      <td>...</td>\n",
       "      <td>...</td>\n",
       "      <td>...</td>\n",
       "      <td>...</td>\n",
       "      <td>...</td>\n",
       "      <td>...</td>\n",
       "      <td>...</td>\n",
       "      <td>...</td>\n",
       "      <td>...</td>\n",
       "    </tr>\n",
       "    <tr>\n",
       "      <th>99995</th>\n",
       "      <td>5373252</td>\n",
       "      <td>5</td>\n",
       "      <td>25</td>\n",
       "      <td>25</td>\n",
       "      <td>288</td>\n",
       "      <td>2</td>\n",
       "      <td>24.026242</td>\n",
       "      <td>3.5</td>\n",
       "      <td>117</td>\n",
       "      <td>0.775000</td>\n",
       "      <td>0.662500</td>\n",
       "      <td>64.04</td>\n",
       "      <td>1</td>\n",
       "    </tr>\n",
       "    <tr>\n",
       "      <th>99996</th>\n",
       "      <td>4500278</td>\n",
       "      <td>5</td>\n",
       "      <td>25</td>\n",
       "      <td>76</td>\n",
       "      <td>21</td>\n",
       "      <td>59</td>\n",
       "      <td>44.444338</td>\n",
       "      <td>4.0</td>\n",
       "      <td>532</td>\n",
       "      <td>0.325664</td>\n",
       "      <td>0.561008</td>\n",
       "      <td>71.48</td>\n",
       "      <td>1</td>\n",
       "    </tr>\n",
       "    <tr>\n",
       "      <th>99997</th>\n",
       "      <td>4981139</td>\n",
       "      <td>5</td>\n",
       "      <td>25</td>\n",
       "      <td>65</td>\n",
       "      <td>236</td>\n",
       "      <td>143</td>\n",
       "      <td>4.868817</td>\n",
       "      <td>4.0</td>\n",
       "      <td>7568</td>\n",
       "      <td>0.097821</td>\n",
       "      <td>0.502692</td>\n",
       "      <td>83.66</td>\n",
       "      <td>2</td>\n",
       "    </tr>\n",
       "    <tr>\n",
       "      <th>99998</th>\n",
       "      <td>3032513</td>\n",
       "      <td>1</td>\n",
       "      <td>1</td>\n",
       "      <td>33</td>\n",
       "      <td>2</td>\n",
       "      <td>28</td>\n",
       "      <td>0.002720</td>\n",
       "      <td>3.0</td>\n",
       "      <td>80</td>\n",
       "      <td>0.300000</td>\n",
       "      <td>0.306250</td>\n",
       "      <td>100.04</td>\n",
       "      <td>3</td>\n",
       "    </tr>\n",
       "    <tr>\n",
       "      <th>99999</th>\n",
       "      <td>4839479</td>\n",
       "      <td>3</td>\n",
       "      <td>9</td>\n",
       "      <td>65</td>\n",
       "      <td>1</td>\n",
       "      <td>5</td>\n",
       "      <td>0.760154</td>\n",
       "      <td>4.0</td>\n",
       "      <td>18</td>\n",
       "      <td>0.317217</td>\n",
       "      <td>0.397006</td>\n",
       "      <td>60.35</td>\n",
       "      <td>2</td>\n",
       "    </tr>\n",
       "  </tbody>\n",
       "</table>\n",
       "<p>100000 rows × 13 columns</p>\n",
       "</div>"
      ],
      "text/plain": [
       "          r_id  r_stars  r_stars_square  r_length  u_friends_count  \\\n",
       "0      4195320        4              16        86              163   \n",
       "1      4406379        5              25        28               18   \n",
       "2      1172072        5              25        76               69   \n",
       "3      1949778        1               1       186               23   \n",
       "4      4377517        5              25        57                1   \n",
       "...        ...      ...             ...       ...              ...   \n",
       "99995  5373252        5              25        25              288   \n",
       "99996  4500278        5              25        76               21   \n",
       "99997  4981139        5              25        65              236   \n",
       "99998  3032513        1               1        33                2   \n",
       "99999  4839479        3               9        65                1   \n",
       "\n",
       "       u_review_count  u_month_age  b_stars  b_review_count     r_sen  \\\n",
       "0                  40    27.298941      4.0             445  0.117031   \n",
       "1                 115     0.001011      4.0             636 -0.140000   \n",
       "2                   1     0.000002      2.5              15  0.256723   \n",
       "3                   6    23.288288      3.5             185 -0.209252   \n",
       "4                  25    48.728723      4.5             227  0.295040   \n",
       "...               ...          ...      ...             ...       ...   \n",
       "99995               2    24.026242      3.5             117  0.775000   \n",
       "99996              59    44.444338      4.0             532  0.325664   \n",
       "99997             143     4.868817      4.0            7568  0.097821   \n",
       "99998              28     0.002720      3.0              80  0.300000   \n",
       "99999               5     0.760154      4.0              18  0.317217   \n",
       "\n",
       "          r_sub   r_rea  r_useful  \n",
       "0      0.361875   86.10         1  \n",
       "1      0.133333   96.48         3  \n",
       "2      0.355398   69.07         1  \n",
       "3      0.378994   82.54         1  \n",
       "4      0.454762   91.11         1  \n",
       "...         ...     ...       ...  \n",
       "99995  0.662500   64.04         1  \n",
       "99996  0.561008   71.48         1  \n",
       "99997  0.502692   83.66         2  \n",
       "99998  0.306250  100.04         3  \n",
       "99999  0.397006   60.35         2  \n",
       "\n",
       "[100000 rows x 13 columns]"
      ]
     },
     "execution_count": 2,
     "metadata": {},
     "output_type": "execute_result"
    }
   ],
   "source": [
    "#import data\n",
    "train_df = pd.read_parquet(\"train_main.parquet.snappy\")\n",
    "test_df = pd.read_parquet(\"test_main.parquet.snappy\")\n",
    "test_df"
   ]
  },
  {
   "cell_type": "code",
   "execution_count": 3,
   "id": "475e23c7-90ae-47b5-9cd9-8dc25275c85d",
   "metadata": {},
   "outputs": [],
   "source": [
    "X_train = train_df.drop(['r_id','r_useful'],axis=1)\n",
    "y_train = train_df['r_useful']\n",
    "X_test = test_df.drop(['r_id','r_useful'],axis=1)\n",
    "y_test = test_df['r_useful']"
   ]
  },
  {
   "cell_type": "code",
   "execution_count": null,
   "id": "711a8137-bac7-499d-b3e4-4b6c32e67e59",
   "metadata": {},
   "outputs": [],
   "source": []
  },
  {
   "cell_type": "code",
   "execution_count": 4,
   "id": "ab96f83e-d48e-4eab-8d14-88fc7440eb62",
   "metadata": {},
   "outputs": [],
   "source": [
    "def objective(trial):\n",
    "    start = time.time()\n",
    "    params = {\n",
    "        \"n_estimators\": trial.suggest_int('n_estimators', 1, 500, 50),\n",
    "        \"max_depth\": trial.suggest_int('max_depth', 1, 500, 50),\n",
    "        \"min_samples_split\": trial.suggest_int('min_samples_split', 2, 20),\n",
    "        \"max_features\" : trial.suggest_categorical(\"max_features\", ['sqrt', 'log2']),\n",
    "        \"min_samples_leaf\": trial.suggest_int('min_samples_leaf', 1, 20), \n",
    "        \"random_state\": 760, \n",
    "        \"n_jobs\": -1\n",
    "    }\n",
    "    print(\"Currently running with:\")\n",
    "    print(params)\n",
    "    \n",
    "    model = RandomForestRegressor(**params)\n",
    "    pipe = make_pipeline(StandardScaler(), model)\n",
    "    \n",
    "    # model.fit(X_train, y_train)\n",
    "    cvscore = np.sqrt(-np.mean(cross_val_score(pipe, X_train, y_train, scoring = \"neg_mean_squared_error\", cv=3)))\n",
    "    # y_pred = model.predict(X_val)\n",
    "    print(\"Time cost:\", time.time()-start)\n",
    "    # return mean_squared_error(y_val, y_pred, squared=False)\n",
    "    return cvscore"
   ]
  },
  {
   "cell_type": "code",
   "execution_count": 5,
   "id": "7de1454b-808f-4b9b-b111-9396c5ddee0c",
   "metadata": {},
   "outputs": [
    {
     "name": "stderr",
     "output_type": "stream",
     "text": [
      "\u001b[32m[I 2022-09-30 19:15:41,413]\u001b[0m A new study created in memory with name: no-name-b5677a4c-2564-4612-9bd3-ca450afe6287\u001b[0m\n"
     ]
    },
    {
     "name": "stdout",
     "output_type": "stream",
     "text": [
      "Currently running with:\n",
      "{'n_estimators': 301, 'max_depth': 51, 'min_samples_split': 16, 'max_features': 'sqrt', 'min_samples_leaf': 13, 'random_state': 760, 'n_jobs': -1}\n"
     ]
    },
    {
     "name": "stderr",
     "output_type": "stream",
     "text": [
      "\u001b[32m[I 2022-09-30 19:17:01,620]\u001b[0m Trial 0 finished with value: 3.607568401544493 and parameters: {'n_estimators': 301, 'max_depth': 51, 'min_samples_split': 16, 'max_features': 'sqrt', 'min_samples_leaf': 13}. Best is trial 0 with value: 3.607568401544493.\u001b[0m\n"
     ]
    },
    {
     "name": "stdout",
     "output_type": "stream",
     "text": [
      "Time cost: 80.20488619804382\n",
      "Currently running with:\n",
      "{'n_estimators': 201, 'max_depth': 451, 'min_samples_split': 2, 'max_features': 'sqrt', 'min_samples_leaf': 13, 'random_state': 760, 'n_jobs': -1}\n"
     ]
    },
    {
     "name": "stderr",
     "output_type": "stream",
     "text": [
      "\u001b[32m[I 2022-09-30 19:17:58,940]\u001b[0m Trial 1 finished with value: 3.6090340879103766 and parameters: {'n_estimators': 201, 'max_depth': 451, 'min_samples_split': 2, 'max_features': 'sqrt', 'min_samples_leaf': 13}. Best is trial 0 with value: 3.607568401544493.\u001b[0m\n"
     ]
    },
    {
     "name": "stdout",
     "output_type": "stream",
     "text": [
      "Time cost: 57.319971799850464\n",
      "Currently running with:\n",
      "{'n_estimators': 401, 'max_depth': 101, 'min_samples_split': 19, 'max_features': 'sqrt', 'min_samples_leaf': 10, 'random_state': 760, 'n_jobs': -1}\n"
     ]
    },
    {
     "name": "stderr",
     "output_type": "stream",
     "text": [
      "\u001b[32m[I 2022-09-30 19:19:57,255]\u001b[0m Trial 2 finished with value: 3.5958370952186245 and parameters: {'n_estimators': 401, 'max_depth': 101, 'min_samples_split': 19, 'max_features': 'sqrt', 'min_samples_leaf': 10}. Best is trial 2 with value: 3.5958370952186245.\u001b[0m\n"
     ]
    },
    {
     "name": "stdout",
     "output_type": "stream",
     "text": [
      "Time cost: 118.31376600265503\n",
      "Currently running with:\n",
      "{'n_estimators': 51, 'max_depth': 201, 'min_samples_split': 14, 'max_features': 'log2', 'min_samples_leaf': 5, 'random_state': 760, 'n_jobs': -1}\n"
     ]
    },
    {
     "name": "stderr",
     "output_type": "stream",
     "text": [
      "\u001b[32m[I 2022-09-30 19:20:14,379]\u001b[0m Trial 3 finished with value: 3.584640621355147 and parameters: {'n_estimators': 51, 'max_depth': 201, 'min_samples_split': 14, 'max_features': 'log2', 'min_samples_leaf': 5}. Best is trial 3 with value: 3.584640621355147.\u001b[0m\n"
     ]
    },
    {
     "name": "stdout",
     "output_type": "stream",
     "text": [
      "Time cost: 17.123340606689453\n",
      "Currently running with:\n",
      "{'n_estimators': 251, 'max_depth': 401, 'min_samples_split': 19, 'max_features': 'sqrt', 'min_samples_leaf': 14, 'random_state': 760, 'n_jobs': -1}\n"
     ]
    },
    {
     "name": "stderr",
     "output_type": "stream",
     "text": [
      "\u001b[32m[I 2022-09-30 19:21:25,903]\u001b[0m Trial 4 finished with value: 3.6099652845295798 and parameters: {'n_estimators': 251, 'max_depth': 401, 'min_samples_split': 19, 'max_features': 'sqrt', 'min_samples_leaf': 14}. Best is trial 3 with value: 3.584640621355147.\u001b[0m\n"
     ]
    },
    {
     "name": "stdout",
     "output_type": "stream",
     "text": [
      "Time cost: 71.52079963684082\n",
      "Currently running with:\n",
      "{'n_estimators': 151, 'max_depth': 351, 'min_samples_split': 4, 'max_features': 'sqrt', 'min_samples_leaf': 1, 'random_state': 760, 'n_jobs': -1}\n"
     ]
    },
    {
     "name": "stderr",
     "output_type": "stream",
     "text": [
      "\u001b[32m[I 2022-09-30 19:22:25,313]\u001b[0m Trial 5 finished with value: 3.550290475281455 and parameters: {'n_estimators': 151, 'max_depth': 351, 'min_samples_split': 4, 'max_features': 'sqrt', 'min_samples_leaf': 1}. Best is trial 5 with value: 3.550290475281455.\u001b[0m\n"
     ]
    },
    {
     "name": "stdout",
     "output_type": "stream",
     "text": [
      "Time cost: 59.4099645614624\n",
      "Currently running with:\n",
      "{'n_estimators': 301, 'max_depth': 401, 'min_samples_split': 5, 'max_features': 'log2', 'min_samples_leaf': 1, 'random_state': 760, 'n_jobs': -1}\n"
     ]
    },
    {
     "name": "stderr",
     "output_type": "stream",
     "text": [
      "\u001b[32m[I 2022-09-30 19:24:17,021]\u001b[0m Trial 6 finished with value: 3.5453469985541295 and parameters: {'n_estimators': 301, 'max_depth': 401, 'min_samples_split': 5, 'max_features': 'log2', 'min_samples_leaf': 1}. Best is trial 6 with value: 3.5453469985541295.\u001b[0m\n"
     ]
    },
    {
     "name": "stdout",
     "output_type": "stream",
     "text": [
      "Time cost: 111.70739650726318\n",
      "Currently running with:\n",
      "{'n_estimators': 251, 'max_depth': 201, 'min_samples_split': 6, 'max_features': 'sqrt', 'min_samples_leaf': 4, 'random_state': 760, 'n_jobs': -1}\n"
     ]
    },
    {
     "name": "stderr",
     "output_type": "stream",
     "text": [
      "\u001b[32m[I 2022-09-30 19:25:39,934]\u001b[0m Trial 7 finished with value: 3.5626699644646163 and parameters: {'n_estimators': 251, 'max_depth': 201, 'min_samples_split': 6, 'max_features': 'sqrt', 'min_samples_leaf': 4}. Best is trial 6 with value: 3.5453469985541295.\u001b[0m\n"
     ]
    },
    {
     "name": "stdout",
     "output_type": "stream",
     "text": [
      "Time cost: 82.91049361228943\n",
      "Currently running with:\n",
      "{'n_estimators': 1, 'max_depth': 401, 'min_samples_split': 5, 'max_features': 'log2', 'min_samples_leaf': 1, 'random_state': 760, 'n_jobs': -1}\n"
     ]
    },
    {
     "name": "stderr",
     "output_type": "stream",
     "text": [
      "\u001b[32m[I 2022-09-30 19:25:42,687]\u001b[0m Trial 8 finished with value: 5.0644104285156795 and parameters: {'n_estimators': 1, 'max_depth': 401, 'min_samples_split': 5, 'max_features': 'log2', 'min_samples_leaf': 1}. Best is trial 6 with value: 3.5453469985541295.\u001b[0m\n"
     ]
    },
    {
     "name": "stdout",
     "output_type": "stream",
     "text": [
      "Time cost: 2.7516000270843506\n",
      "Currently running with:\n",
      "{'n_estimators': 51, 'max_depth': 401, 'min_samples_split': 20, 'max_features': 'log2', 'min_samples_leaf': 19, 'random_state': 760, 'n_jobs': -1}\n"
     ]
    },
    {
     "name": "stderr",
     "output_type": "stream",
     "text": [
      "\u001b[32m[I 2022-09-30 19:25:57,242]\u001b[0m Trial 9 finished with value: 3.6282770077450266 and parameters: {'n_estimators': 51, 'max_depth': 401, 'min_samples_split': 20, 'max_features': 'log2', 'min_samples_leaf': 19}. Best is trial 6 with value: 3.5453469985541295.\u001b[0m\n"
     ]
    },
    {
     "name": "stdout",
     "output_type": "stream",
     "text": [
      "Time cost: 14.553575992584229\n",
      "Currently running with:\n",
      "{'n_estimators': 401, 'max_depth': 301, 'min_samples_split': 9, 'max_features': 'log2', 'min_samples_leaf': 8, 'random_state': 760, 'n_jobs': -1}\n"
     ]
    },
    {
     "name": "stderr",
     "output_type": "stream",
     "text": [
      "\u001b[32m[I 2022-09-30 19:27:56,615]\u001b[0m Trial 10 finished with value: 3.585875639147302 and parameters: {'n_estimators': 401, 'max_depth': 301, 'min_samples_split': 9, 'max_features': 'log2', 'min_samples_leaf': 8}. Best is trial 6 with value: 3.5453469985541295.\u001b[0m\n"
     ]
    },
    {
     "name": "stdout",
     "output_type": "stream",
     "text": [
      "Time cost: 119.37079334259033\n",
      "Currently running with:\n",
      "{'n_estimators': 151, 'max_depth': 301, 'min_samples_split': 2, 'max_features': 'log2', 'min_samples_leaf': 1, 'random_state': 760, 'n_jobs': -1}\n"
     ]
    },
    {
     "name": "stderr",
     "output_type": "stream",
     "text": [
      "\u001b[32m[I 2022-09-30 19:28:59,214]\u001b[0m Trial 11 finished with value: 3.548414062733149 and parameters: {'n_estimators': 151, 'max_depth': 301, 'min_samples_split': 2, 'max_features': 'log2', 'min_samples_leaf': 1}. Best is trial 6 with value: 3.5453469985541295.\u001b[0m\n"
     ]
    },
    {
     "name": "stdout",
     "output_type": "stream",
     "text": [
      "Time cost: 62.59716320037842\n",
      "Currently running with:\n",
      "{'n_estimators': 151, 'max_depth': 301, 'min_samples_split': 9, 'max_features': 'log2', 'min_samples_leaf': 5, 'random_state': 760, 'n_jobs': -1}\n"
     ]
    },
    {
     "name": "stderr",
     "output_type": "stream",
     "text": [
      "\u001b[32m[I 2022-09-30 19:29:47,500]\u001b[0m Trial 12 finished with value: 3.5715576185680886 and parameters: {'n_estimators': 151, 'max_depth': 301, 'min_samples_split': 9, 'max_features': 'log2', 'min_samples_leaf': 5}. Best is trial 6 with value: 3.5453469985541295.\u001b[0m\n"
     ]
    },
    {
     "name": "stdout",
     "output_type": "stream",
     "text": [
      "Time cost: 48.28532600402832\n",
      "Currently running with:\n",
      "{'n_estimators': 351, 'max_depth': 251, 'min_samples_split': 2, 'max_features': 'log2', 'min_samples_leaf': 1, 'random_state': 760, 'n_jobs': -1}\n"
     ]
    },
    {
     "name": "stderr",
     "output_type": "stream",
     "text": [
      "\u001b[32m[I 2022-09-30 19:32:10,221]\u001b[0m Trial 13 finished with value: 3.5417859570521797 and parameters: {'n_estimators': 351, 'max_depth': 251, 'min_samples_split': 2, 'max_features': 'log2', 'min_samples_leaf': 1}. Best is trial 13 with value: 3.5417859570521797.\u001b[0m\n"
     ]
    },
    {
     "name": "stdout",
     "output_type": "stream",
     "text": [
      "Time cost: 142.71875643730164\n",
      "Currently running with:\n",
      "{'n_estimators': 351, 'max_depth': 151, 'min_samples_split': 7, 'max_features': 'log2', 'min_samples_leaf': 7, 'random_state': 760, 'n_jobs': -1}\n"
     ]
    },
    {
     "name": "stderr",
     "output_type": "stream",
     "text": [
      "\u001b[32m[I 2022-09-30 19:33:56,784]\u001b[0m Trial 14 finished with value: 3.5809190161064293 and parameters: {'n_estimators': 351, 'max_depth': 151, 'min_samples_split': 7, 'max_features': 'log2', 'min_samples_leaf': 7}. Best is trial 13 with value: 3.5417859570521797.\u001b[0m\n"
     ]
    },
    {
     "name": "stdout",
     "output_type": "stream",
     "text": [
      "Time cost: 106.56282305717468\n",
      "Currently running with:\n",
      "{'n_estimators': 351, 'max_depth': 1, 'min_samples_split': 12, 'max_features': 'log2', 'min_samples_leaf': 3, 'random_state': 760, 'n_jobs': -1}\n"
     ]
    },
    {
     "name": "stderr",
     "output_type": "stream",
     "text": [
      "\u001b[32m[I 2022-09-30 19:34:08,015]\u001b[0m Trial 15 finished with value: 3.9614880962832992 and parameters: {'n_estimators': 351, 'max_depth': 1, 'min_samples_split': 12, 'max_features': 'log2', 'min_samples_leaf': 3}. Best is trial 13 with value: 3.5417859570521797.\u001b[0m\n"
     ]
    },
    {
     "name": "stdout",
     "output_type": "stream",
     "text": [
      "Time cost: 11.229851722717285\n",
      "Currently running with:\n",
      "{'n_estimators': 451, 'max_depth': 251, 'min_samples_split': 3, 'max_features': 'log2', 'min_samples_leaf': 20, 'random_state': 760, 'n_jobs': -1}\n"
     ]
    },
    {
     "name": "stderr",
     "output_type": "stream",
     "text": [
      "\u001b[32m[I 2022-09-30 19:36:06,513]\u001b[0m Trial 16 finished with value: 3.6277431027490463 and parameters: {'n_estimators': 451, 'max_depth': 251, 'min_samples_split': 3, 'max_features': 'log2', 'min_samples_leaf': 20}. Best is trial 13 with value: 3.5417859570521797.\u001b[0m\n"
     ]
    },
    {
     "name": "stdout",
     "output_type": "stream",
     "text": [
      "Time cost: 118.49709010124207\n",
      "Currently running with:\n",
      "{'n_estimators': 301, 'max_depth': 451, 'min_samples_split': 8, 'max_features': 'log2', 'min_samples_leaf': 7, 'random_state': 760, 'n_jobs': -1}\n"
     ]
    },
    {
     "name": "stderr",
     "output_type": "stream",
     "text": [
      "\u001b[32m[I 2022-09-30 19:37:37,623]\u001b[0m Trial 17 finished with value: 3.580306869702815 and parameters: {'n_estimators': 301, 'max_depth': 451, 'min_samples_split': 8, 'max_features': 'log2', 'min_samples_leaf': 7}. Best is trial 13 with value: 3.5417859570521797.\u001b[0m\n"
     ]
    },
    {
     "name": "stdout",
     "output_type": "stream",
     "text": [
      "Time cost: 91.10865807533264\n",
      "Currently running with:\n",
      "{'n_estimators': 451, 'max_depth': 251, 'min_samples_split': 11, 'max_features': 'log2', 'min_samples_leaf': 3, 'random_state': 760, 'n_jobs': -1}\n"
     ]
    },
    {
     "name": "stderr",
     "output_type": "stream",
     "text": [
      "\u001b[32m[I 2022-09-30 19:40:04,673]\u001b[0m Trial 18 finished with value: 3.560451481565352 and parameters: {'n_estimators': 451, 'max_depth': 251, 'min_samples_split': 11, 'max_features': 'log2', 'min_samples_leaf': 3}. Best is trial 13 with value: 3.5417859570521797.\u001b[0m\n"
     ]
    },
    {
     "name": "stdout",
     "output_type": "stream",
     "text": [
      "Time cost: 147.0500946044922\n",
      "Currently running with:\n",
      "{'n_estimators': 301, 'max_depth': 151, 'min_samples_split': 5, 'max_features': 'log2', 'min_samples_leaf': 18, 'random_state': 760, 'n_jobs': -1}\n"
     ]
    },
    {
     "name": "stderr",
     "output_type": "stream",
     "text": [
      "\u001b[32m[I 2022-09-30 19:41:24,918]\u001b[0m Trial 19 finished with value: 3.6201918123627386 and parameters: {'n_estimators': 301, 'max_depth': 151, 'min_samples_split': 5, 'max_features': 'log2', 'min_samples_leaf': 18}. Best is trial 13 with value: 3.5417859570521797.\u001b[0m\n"
     ]
    },
    {
     "name": "stdout",
     "output_type": "stream",
     "text": [
      "Time cost: 80.24346804618835\n",
      "Currently running with:\n",
      "{'n_estimators': 401, 'max_depth': 301, 'min_samples_split': 4, 'max_features': 'log2', 'min_samples_leaf': 9, 'random_state': 760, 'n_jobs': -1}\n"
     ]
    },
    {
     "name": "stderr",
     "output_type": "stream",
     "text": [
      "\u001b[32m[I 2022-09-30 19:43:20,770]\u001b[0m Trial 20 finished with value: 3.590488380291316 and parameters: {'n_estimators': 401, 'max_depth': 301, 'min_samples_split': 4, 'max_features': 'log2', 'min_samples_leaf': 9}. Best is trial 13 with value: 3.5417859570521797.\u001b[0m\n"
     ]
    },
    {
     "name": "stdout",
     "output_type": "stream",
     "text": [
      "Time cost: 115.8501968383789\n",
      "Currently running with:\n",
      "{'n_estimators': 151, 'max_depth': 351, 'min_samples_split': 2, 'max_features': 'log2', 'min_samples_leaf': 1, 'random_state': 760, 'n_jobs': -1}\n"
     ]
    },
    {
     "name": "stderr",
     "output_type": "stream",
     "text": [
      "\u001b[32m[I 2022-09-30 19:44:24,187]\u001b[0m Trial 21 finished with value: 3.548414062733149 and parameters: {'n_estimators': 151, 'max_depth': 351, 'min_samples_split': 2, 'max_features': 'log2', 'min_samples_leaf': 1}. Best is trial 13 with value: 3.5417859570521797.\u001b[0m\n"
     ]
    },
    {
     "name": "stdout",
     "output_type": "stream",
     "text": [
      "Time cost: 63.41607689857483\n",
      "Currently running with:\n",
      "{'n_estimators': 201, 'max_depth': 351, 'min_samples_split': 2, 'max_features': 'log2', 'min_samples_leaf': 3, 'random_state': 760, 'n_jobs': -1}\n"
     ]
    },
    {
     "name": "stderr",
     "output_type": "stream",
     "text": [
      "\u001b[32m[I 2022-09-30 19:45:34,492]\u001b[0m Trial 22 finished with value: 3.5555243606659146 and parameters: {'n_estimators': 201, 'max_depth': 351, 'min_samples_split': 2, 'max_features': 'log2', 'min_samples_leaf': 3}. Best is trial 13 with value: 3.5417859570521797.\u001b[0m\n"
     ]
    },
    {
     "name": "stdout",
     "output_type": "stream",
     "text": [
      "Time cost: 70.30282759666443\n",
      "Currently running with:\n",
      "{'n_estimators': 101, 'max_depth': 251, 'min_samples_split': 4, 'max_features': 'log2', 'min_samples_leaf': 1, 'random_state': 760, 'n_jobs': -1}\n"
     ]
    },
    {
     "name": "stderr",
     "output_type": "stream",
     "text": [
      "\u001b[32m[I 2022-09-30 19:46:14,506]\u001b[0m Trial 23 finished with value: 3.5580680419454516 and parameters: {'n_estimators': 101, 'max_depth': 251, 'min_samples_split': 4, 'max_features': 'log2', 'min_samples_leaf': 1}. Best is trial 13 with value: 3.5417859570521797.\u001b[0m\n"
     ]
    },
    {
     "name": "stdout",
     "output_type": "stream",
     "text": [
      "Time cost: 40.01275086402893\n",
      "Currently running with:\n",
      "{'n_estimators': 351, 'max_depth': 301, 'min_samples_split': 6, 'max_features': 'log2', 'min_samples_leaf': 5, 'random_state': 760, 'n_jobs': -1}\n"
     ]
    },
    {
     "name": "stderr",
     "output_type": "stream",
     "text": [
      "\u001b[32m[I 2022-09-30 19:48:05,269]\u001b[0m Trial 24 finished with value: 3.5701485955136874 and parameters: {'n_estimators': 351, 'max_depth': 301, 'min_samples_split': 6, 'max_features': 'log2', 'min_samples_leaf': 5}. Best is trial 13 with value: 3.5417859570521797.\u001b[0m\n"
     ]
    },
    {
     "name": "stdout",
     "output_type": "stream",
     "text": [
      "Time cost: 110.76160001754761\n",
      "Currently running with:\n",
      "{'n_estimators': 251, 'max_depth': 351, 'min_samples_split': 2, 'max_features': 'log2', 'min_samples_leaf': 3, 'random_state': 760, 'n_jobs': -1}\n"
     ]
    },
    {
     "name": "stderr",
     "output_type": "stream",
     "text": [
      "\u001b[32m[I 2022-09-30 19:49:32,621]\u001b[0m Trial 25 finished with value: 3.555237691997688 and parameters: {'n_estimators': 251, 'max_depth': 351, 'min_samples_split': 2, 'max_features': 'log2', 'min_samples_leaf': 3}. Best is trial 13 with value: 3.5417859570521797.\u001b[0m\n"
     ]
    },
    {
     "name": "stdout",
     "output_type": "stream",
     "text": [
      "Time cost: 87.3515784740448\n",
      "Currently running with:\n",
      "{'n_estimators': 201, 'max_depth': 401, 'min_samples_split': 7, 'max_features': 'log2', 'min_samples_leaf': 6, 'random_state': 760, 'n_jobs': -1}\n"
     ]
    },
    {
     "name": "stderr",
     "output_type": "stream",
     "text": [
      "\u001b[32m[I 2022-09-30 19:50:35,747]\u001b[0m Trial 26 finished with value: 3.5776084814689764 and parameters: {'n_estimators': 201, 'max_depth': 401, 'min_samples_split': 7, 'max_features': 'log2', 'min_samples_leaf': 6}. Best is trial 13 with value: 3.5417859570521797.\u001b[0m\n"
     ]
    },
    {
     "name": "stdout",
     "output_type": "stream",
     "text": [
      "Time cost: 63.12612247467041\n",
      "Currently running with:\n",
      "{'n_estimators': 301, 'max_depth': 451, 'min_samples_split': 4, 'max_features': 'log2', 'min_samples_leaf': 2, 'random_state': 760, 'n_jobs': -1}\n"
     ]
    },
    {
     "name": "stderr",
     "output_type": "stream",
     "text": [
      "\u001b[32m[I 2022-09-30 19:52:27,564]\u001b[0m Trial 27 finished with value: 3.54465635401176 and parameters: {'n_estimators': 301, 'max_depth': 451, 'min_samples_split': 4, 'max_features': 'log2', 'min_samples_leaf': 2}. Best is trial 13 with value: 3.5417859570521797.\u001b[0m\n"
     ]
    },
    {
     "name": "stdout",
     "output_type": "stream",
     "text": [
      "Time cost: 111.81507897377014\n",
      "Currently running with:\n",
      "{'n_estimators': 301, 'max_depth': 451, 'min_samples_split': 9, 'max_features': 'log2', 'min_samples_leaf': 16, 'random_state': 760, 'n_jobs': -1}\n"
     ]
    },
    {
     "name": "stderr",
     "output_type": "stream",
     "text": [
      "\u001b[32m[I 2022-09-30 19:53:49,223]\u001b[0m Trial 28 finished with value: 3.616211879740658 and parameters: {'n_estimators': 301, 'max_depth': 451, 'min_samples_split': 9, 'max_features': 'log2', 'min_samples_leaf': 16}. Best is trial 13 with value: 3.5417859570521797.\u001b[0m\n"
     ]
    },
    {
     "name": "stdout",
     "output_type": "stream",
     "text": [
      "Time cost: 81.65788531303406\n",
      "Currently running with:\n",
      "{'n_estimators': 301, 'max_depth': 51, 'min_samples_split': 11, 'max_features': 'sqrt', 'min_samples_leaf': 2, 'random_state': 760, 'n_jobs': -1}\n"
     ]
    },
    {
     "name": "stderr",
     "output_type": "stream",
     "text": [
      "\u001b[32m[I 2022-09-30 19:55:28,877]\u001b[0m Trial 29 finished with value: 3.5572707942739696 and parameters: {'n_estimators': 301, 'max_depth': 51, 'min_samples_split': 11, 'max_features': 'sqrt', 'min_samples_leaf': 2}. Best is trial 13 with value: 3.5417859570521797.\u001b[0m\n"
     ]
    },
    {
     "name": "stdout",
     "output_type": "stream",
     "text": [
      "Time cost: 99.65383291244507\n",
      "Currently running with:\n",
      "{'n_estimators': 351, 'max_depth': 451, 'min_samples_split': 15, 'max_features': 'log2', 'min_samples_leaf': 12, 'random_state': 760, 'n_jobs': -1}\n"
     ]
    },
    {
     "name": "stderr",
     "output_type": "stream",
     "text": [
      "\u001b[32m[I 2022-09-30 19:57:07,693]\u001b[0m Trial 30 finished with value: 3.60300688252504 and parameters: {'n_estimators': 351, 'max_depth': 451, 'min_samples_split': 15, 'max_features': 'log2', 'min_samples_leaf': 12}. Best is trial 13 with value: 3.5417859570521797.\u001b[0m\n"
     ]
    },
    {
     "name": "stdout",
     "output_type": "stream",
     "text": [
      "Time cost: 98.81453847885132\n",
      "Currently running with:\n",
      "{'n_estimators': 251, 'max_depth': 351, 'min_samples_split': 3, 'max_features': 'log2', 'min_samples_leaf': 2, 'random_state': 760, 'n_jobs': -1}\n"
     ]
    },
    {
     "name": "stderr",
     "output_type": "stream",
     "text": [
      "\u001b[32m[I 2022-09-30 19:58:40,422]\u001b[0m Trial 31 finished with value: 3.5459192560481347 and parameters: {'n_estimators': 251, 'max_depth': 351, 'min_samples_split': 3, 'max_features': 'log2', 'min_samples_leaf': 2}. Best is trial 13 with value: 3.5417859570521797.\u001b[0m\n"
     ]
    },
    {
     "name": "stdout",
     "output_type": "stream",
     "text": [
      "Time cost: 92.72649359703064\n",
      "Currently running with:\n",
      "{'n_estimators': 251, 'max_depth': 401, 'min_samples_split': 4, 'max_features': 'log2', 'min_samples_leaf': 4, 'random_state': 760, 'n_jobs': -1}\n"
     ]
    },
    {
     "name": "stderr",
     "output_type": "stream",
     "text": [
      "\u001b[32m[I 2022-09-30 20:00:02,511]\u001b[0m Trial 32 finished with value: 3.5626699644646163 and parameters: {'n_estimators': 251, 'max_depth': 401, 'min_samples_split': 4, 'max_features': 'log2', 'min_samples_leaf': 4}. Best is trial 13 with value: 3.5417859570521797.\u001b[0m\n"
     ]
    },
    {
     "name": "stdout",
     "output_type": "stream",
     "text": [
      "Time cost: 82.08928394317627\n",
      "Currently running with:\n",
      "{'n_estimators': 301, 'max_depth': 451, 'min_samples_split': 3, 'max_features': 'log2', 'min_samples_leaf': 2, 'random_state': 760, 'n_jobs': -1}\n"
     ]
    },
    {
     "name": "stderr",
     "output_type": "stream",
     "text": [
      "\u001b[32m[I 2022-09-30 20:01:53,705]\u001b[0m Trial 33 finished with value: 3.54465635401176 and parameters: {'n_estimators': 301, 'max_depth': 451, 'min_samples_split': 3, 'max_features': 'log2', 'min_samples_leaf': 2}. Best is trial 13 with value: 3.5417859570521797.\u001b[0m\n"
     ]
    },
    {
     "name": "stdout",
     "output_type": "stream",
     "text": [
      "Time cost: 111.19326877593994\n",
      "Currently running with:\n",
      "{'n_estimators': 401, 'max_depth': 451, 'min_samples_split': 5, 'max_features': 'sqrt', 'min_samples_leaf': 4, 'random_state': 760, 'n_jobs': -1}\n"
     ]
    },
    {
     "name": "stderr",
     "output_type": "stream",
     "text": [
      "\u001b[32m[I 2022-09-30 20:04:06,247]\u001b[0m Trial 34 finished with value: 3.563004534811721 and parameters: {'n_estimators': 401, 'max_depth': 451, 'min_samples_split': 5, 'max_features': 'sqrt', 'min_samples_leaf': 4}. Best is trial 13 with value: 3.5417859570521797.\u001b[0m\n"
     ]
    },
    {
     "name": "stdout",
     "output_type": "stream",
     "text": [
      "Time cost: 132.5402057170868\n",
      "Currently running with:\n",
      "{'n_estimators': 301, 'max_depth': 451, 'min_samples_split': 3, 'max_features': 'log2', 'min_samples_leaf': 2, 'random_state': 760, 'n_jobs': -1}\n"
     ]
    },
    {
     "name": "stderr",
     "output_type": "stream",
     "text": [
      "\u001b[32m[I 2022-09-30 20:05:56,471]\u001b[0m Trial 35 finished with value: 3.54465635401176 and parameters: {'n_estimators': 301, 'max_depth': 451, 'min_samples_split': 3, 'max_features': 'log2', 'min_samples_leaf': 2}. Best is trial 13 with value: 3.5417859570521797.\u001b[0m\n"
     ]
    },
    {
     "name": "stdout",
     "output_type": "stream",
     "text": [
      "Time cost: 110.22459053993225\n",
      "Currently running with:\n",
      "{'n_estimators': 351, 'max_depth': 451, 'min_samples_split': 3, 'max_features': 'sqrt', 'min_samples_leaf': 6, 'random_state': 760, 'n_jobs': -1}\n"
     ]
    },
    {
     "name": "stderr",
     "output_type": "stream",
     "text": [
      "\u001b[32m[I 2022-09-30 20:07:44,911]\u001b[0m Trial 36 finished with value: 3.5756540769658898 and parameters: {'n_estimators': 351, 'max_depth': 451, 'min_samples_split': 3, 'max_features': 'sqrt', 'min_samples_leaf': 6}. Best is trial 13 with value: 3.5417859570521797.\u001b[0m\n"
     ]
    },
    {
     "name": "stdout",
     "output_type": "stream",
     "text": [
      "Time cost: 108.43843626976013\n",
      "Currently running with:\n",
      "{'n_estimators': 301, 'max_depth': 101, 'min_samples_split': 3, 'max_features': 'log2', 'min_samples_leaf': 2, 'random_state': 760, 'n_jobs': -1}\n"
     ]
    },
    {
     "name": "stderr",
     "output_type": "stream",
     "text": [
      "\u001b[32m[I 2022-09-30 20:09:36,359]\u001b[0m Trial 37 finished with value: 3.54465635401176 and parameters: {'n_estimators': 301, 'max_depth': 101, 'min_samples_split': 3, 'max_features': 'log2', 'min_samples_leaf': 2}. Best is trial 13 with value: 3.5417859570521797.\u001b[0m\n"
     ]
    },
    {
     "name": "stdout",
     "output_type": "stream",
     "text": [
      "Time cost: 111.44758868217468\n",
      "Currently running with:\n",
      "{'n_estimators': 401, 'max_depth': 101, 'min_samples_split': 18, 'max_features': 'sqrt', 'min_samples_leaf': 11, 'random_state': 760, 'n_jobs': -1}\n"
     ]
    },
    {
     "name": "stderr",
     "output_type": "stream",
     "text": [
      "\u001b[32m[I 2022-09-30 20:11:29,551]\u001b[0m Trial 38 finished with value: 3.600228288850084 and parameters: {'n_estimators': 401, 'max_depth': 101, 'min_samples_split': 18, 'max_features': 'sqrt', 'min_samples_leaf': 11}. Best is trial 13 with value: 3.5417859570521797.\u001b[0m\n"
     ]
    },
    {
     "name": "stdout",
     "output_type": "stream",
     "text": [
      "Time cost: 113.18977308273315\n",
      "Currently running with:\n",
      "{'n_estimators': 201, 'max_depth': 1, 'min_samples_split': 6, 'max_features': 'log2', 'min_samples_leaf': 14, 'random_state': 760, 'n_jobs': -1}\n"
     ]
    },
    {
     "name": "stderr",
     "output_type": "stream",
     "text": [
      "\u001b[32m[I 2022-09-30 20:11:36,266]\u001b[0m Trial 39 finished with value: 3.961136368698568 and parameters: {'n_estimators': 201, 'max_depth': 1, 'min_samples_split': 6, 'max_features': 'log2', 'min_samples_leaf': 14}. Best is trial 13 with value: 3.5417859570521797.\u001b[0m\n"
     ]
    },
    {
     "name": "stdout",
     "output_type": "stream",
     "text": [
      "Time cost: 6.714385509490967\n",
      "Currently running with:\n",
      "{'n_estimators': 351, 'max_depth': 101, 'min_samples_split': 3, 'max_features': 'log2', 'min_samples_leaf': 4, 'random_state': 760, 'n_jobs': -1}\n"
     ]
    },
    {
     "name": "stderr",
     "output_type": "stream",
     "text": [
      "\u001b[32m[I 2022-09-30 20:13:31,396]\u001b[0m Trial 40 finished with value: 3.563238689671704 and parameters: {'n_estimators': 351, 'max_depth': 101, 'min_samples_split': 3, 'max_features': 'log2', 'min_samples_leaf': 4}. Best is trial 13 with value: 3.5417859570521797.\u001b[0m\n"
     ]
    },
    {
     "name": "stdout",
     "output_type": "stream",
     "text": [
      "Time cost: 115.12846207618713\n",
      "Currently running with:\n",
      "{'n_estimators': 301, 'max_depth': 401, 'min_samples_split': 3, 'max_features': 'log2', 'min_samples_leaf': 2, 'random_state': 760, 'n_jobs': -1}\n"
     ]
    },
    {
     "name": "stderr",
     "output_type": "stream",
     "text": [
      "\u001b[32m[I 2022-09-30 20:15:22,941]\u001b[0m Trial 41 finished with value: 3.54465635401176 and parameters: {'n_estimators': 301, 'max_depth': 401, 'min_samples_split': 3, 'max_features': 'log2', 'min_samples_leaf': 2}. Best is trial 13 with value: 3.5417859570521797.\u001b[0m\n"
     ]
    },
    {
     "name": "stdout",
     "output_type": "stream",
     "text": [
      "Time cost: 111.54319858551025\n",
      "Currently running with:\n",
      "{'n_estimators': 301, 'max_depth': 451, 'min_samples_split': 4, 'max_features': 'log2', 'min_samples_leaf': 2, 'random_state': 760, 'n_jobs': -1}\n"
     ]
    },
    {
     "name": "stderr",
     "output_type": "stream",
     "text": [
      "\u001b[32m[I 2022-09-30 20:17:13,828]\u001b[0m Trial 42 finished with value: 3.54465635401176 and parameters: {'n_estimators': 301, 'max_depth': 451, 'min_samples_split': 4, 'max_features': 'log2', 'min_samples_leaf': 2}. Best is trial 13 with value: 3.5417859570521797.\u001b[0m\n"
     ]
    },
    {
     "name": "stdout",
     "output_type": "stream",
     "text": [
      "Time cost: 110.88569927215576\n",
      "Currently running with:\n",
      "{'n_estimators': 251, 'max_depth': 151, 'min_samples_split': 2, 'max_features': 'log2', 'min_samples_leaf': 2, 'random_state': 760, 'n_jobs': -1}\n"
     ]
    },
    {
     "name": "stderr",
     "output_type": "stream",
     "text": [
      "\u001b[32m[I 2022-09-30 20:18:46,099]\u001b[0m Trial 43 finished with value: 3.5459192560481347 and parameters: {'n_estimators': 251, 'max_depth': 151, 'min_samples_split': 2, 'max_features': 'log2', 'min_samples_leaf': 2}. Best is trial 13 with value: 3.5417859570521797.\u001b[0m\n"
     ]
    },
    {
     "name": "stdout",
     "output_type": "stream",
     "text": [
      "Time cost: 92.27036952972412\n",
      "Currently running with:\n",
      "{'n_estimators': 351, 'max_depth': 201, 'min_samples_split': 3, 'max_features': 'log2', 'min_samples_leaf': 4, 'random_state': 760, 'n_jobs': -1}\n"
     ]
    },
    {
     "name": "stderr",
     "output_type": "stream",
     "text": [
      "\u001b[32m[I 2022-09-30 20:20:45,157]\u001b[0m Trial 44 finished with value: 3.563238689671704 and parameters: {'n_estimators': 351, 'max_depth': 201, 'min_samples_split': 3, 'max_features': 'log2', 'min_samples_leaf': 4}. Best is trial 13 with value: 3.5417859570521797.\u001b[0m\n"
     ]
    },
    {
     "name": "stdout",
     "output_type": "stream",
     "text": [
      "Time cost: 119.05631613731384\n",
      "Currently running with:\n",
      "{'n_estimators': 301, 'max_depth': 401, 'min_samples_split': 4, 'max_features': 'log2', 'min_samples_leaf': 6, 'random_state': 760, 'n_jobs': -1}\n"
     ]
    },
    {
     "name": "stderr",
     "output_type": "stream",
     "text": [
      "\u001b[32m[I 2022-09-30 20:22:19,161]\u001b[0m Trial 45 finished with value: 3.5755996271462305 and parameters: {'n_estimators': 301, 'max_depth': 401, 'min_samples_split': 4, 'max_features': 'log2', 'min_samples_leaf': 6}. Best is trial 13 with value: 3.5417859570521797.\u001b[0m\n"
     ]
    },
    {
     "name": "stdout",
     "output_type": "stream",
     "text": [
      "Time cost: 94.00256752967834\n",
      "Currently running with:\n",
      "{'n_estimators': 251, 'max_depth': 51, 'min_samples_split': 7, 'max_features': 'sqrt', 'min_samples_leaf': 1, 'random_state': 760, 'n_jobs': -1}\n"
     ]
    },
    {
     "name": "stderr",
     "output_type": "stream",
     "text": [
      "\u001b[32m[I 2022-09-30 20:23:48,408]\u001b[0m Trial 46 finished with value: 3.5478160315998846 and parameters: {'n_estimators': 251, 'max_depth': 51, 'min_samples_split': 7, 'max_features': 'sqrt', 'min_samples_leaf': 1}. Best is trial 13 with value: 3.5417859570521797.\u001b[0m\n"
     ]
    },
    {
     "name": "stdout",
     "output_type": "stream",
     "text": [
      "Time cost: 89.24545407295227\n",
      "Currently running with:\n",
      "{'n_estimators': 401, 'max_depth': 201, 'min_samples_split': 5, 'max_features': 'log2', 'min_samples_leaf': 3, 'random_state': 760, 'n_jobs': -1}\n"
     ]
    },
    {
     "name": "stderr",
     "output_type": "stream",
     "text": [
      "\u001b[32m[I 2022-09-30 20:26:05,558]\u001b[0m Trial 47 finished with value: 3.5543510250040256 and parameters: {'n_estimators': 401, 'max_depth': 201, 'min_samples_split': 5, 'max_features': 'log2', 'min_samples_leaf': 3}. Best is trial 13 with value: 3.5417859570521797.\u001b[0m\n"
     ]
    },
    {
     "name": "stdout",
     "output_type": "stream",
     "text": [
      "Time cost: 137.1489679813385\n",
      "Currently running with:\n",
      "{'n_estimators': 301, 'max_depth': 401, 'min_samples_split': 13, 'max_features': 'log2', 'min_samples_leaf': 5, 'random_state': 760, 'n_jobs': -1}\n"
     ]
    },
    {
     "name": "stderr",
     "output_type": "stream",
     "text": [
      "\u001b[32m[I 2022-09-30 20:27:39,126]\u001b[0m Trial 48 finished with value: 3.5726656847514624 and parameters: {'n_estimators': 301, 'max_depth': 401, 'min_samples_split': 13, 'max_features': 'log2', 'min_samples_leaf': 5}. Best is trial 13 with value: 3.5417859570521797.\u001b[0m\n"
     ]
    },
    {
     "name": "stdout",
     "output_type": "stream",
     "text": [
      "Time cost: 93.5672357082367\n",
      "Currently running with:\n",
      "{'n_estimators': 351, 'max_depth': 401, 'min_samples_split': 6, 'max_features': 'log2', 'min_samples_leaf': 2, 'random_state': 760, 'n_jobs': -1}\n"
     ]
    },
    {
     "name": "stderr",
     "output_type": "stream",
     "text": [
      "\u001b[32m[I 2022-09-30 20:29:41,894]\u001b[0m Trial 49 finished with value: 3.5507249860295413 and parameters: {'n_estimators': 351, 'max_depth': 401, 'min_samples_split': 6, 'max_features': 'log2', 'min_samples_leaf': 2}. Best is trial 13 with value: 3.5417859570521797.\u001b[0m\n"
     ]
    },
    {
     "name": "stdout",
     "output_type": "stream",
     "text": [
      "Time cost: 122.76592135429382\n"
     ]
    },
    {
     "data": {
      "text/plain": [
       "{'n_estimators': 351,\n",
       " 'max_depth': 251,\n",
       " 'min_samples_split': 2,\n",
       " 'max_features': 'log2',\n",
       " 'min_samples_leaf': 1}"
      ]
     },
     "execution_count": 5,
     "metadata": {},
     "output_type": "execute_result"
    }
   ],
   "source": [
    "study = opt.create_study(direction = 'minimize')\n",
    "study.optimize(objective, n_trials = 50)\n",
    "study.best_params"
   ]
  },
  {
   "cell_type": "code",
   "execution_count": 8,
   "id": "7dcc3827-99e7-4e12-b97f-5bfb7caf162a",
   "metadata": {},
   "outputs": [
    {
     "data": {
      "text/html": [
       "<style>#sk-container-id-2 {color: black;background-color: white;}#sk-container-id-2 pre{padding: 0;}#sk-container-id-2 div.sk-toggleable {background-color: white;}#sk-container-id-2 label.sk-toggleable__label {cursor: pointer;display: block;width: 100%;margin-bottom: 0;padding: 0.3em;box-sizing: border-box;text-align: center;}#sk-container-id-2 label.sk-toggleable__label-arrow:before {content: \"▸\";float: left;margin-right: 0.25em;color: #696969;}#sk-container-id-2 label.sk-toggleable__label-arrow:hover:before {color: black;}#sk-container-id-2 div.sk-estimator:hover label.sk-toggleable__label-arrow:before {color: black;}#sk-container-id-2 div.sk-toggleable__content {max-height: 0;max-width: 0;overflow: hidden;text-align: left;background-color: #f0f8ff;}#sk-container-id-2 div.sk-toggleable__content pre {margin: 0.2em;color: black;border-radius: 0.25em;background-color: #f0f8ff;}#sk-container-id-2 input.sk-toggleable__control:checked~div.sk-toggleable__content {max-height: 200px;max-width: 100%;overflow: auto;}#sk-container-id-2 input.sk-toggleable__control:checked~label.sk-toggleable__label-arrow:before {content: \"▾\";}#sk-container-id-2 div.sk-estimator input.sk-toggleable__control:checked~label.sk-toggleable__label {background-color: #d4ebff;}#sk-container-id-2 div.sk-label input.sk-toggleable__control:checked~label.sk-toggleable__label {background-color: #d4ebff;}#sk-container-id-2 input.sk-hidden--visually {border: 0;clip: rect(1px 1px 1px 1px);clip: rect(1px, 1px, 1px, 1px);height: 1px;margin: -1px;overflow: hidden;padding: 0;position: absolute;width: 1px;}#sk-container-id-2 div.sk-estimator {font-family: monospace;background-color: #f0f8ff;border: 1px dotted black;border-radius: 0.25em;box-sizing: border-box;margin-bottom: 0.5em;}#sk-container-id-2 div.sk-estimator:hover {background-color: #d4ebff;}#sk-container-id-2 div.sk-parallel-item::after {content: \"\";width: 100%;border-bottom: 1px solid gray;flex-grow: 1;}#sk-container-id-2 div.sk-label:hover label.sk-toggleable__label {background-color: #d4ebff;}#sk-container-id-2 div.sk-serial::before {content: \"\";position: absolute;border-left: 1px solid gray;box-sizing: border-box;top: 0;bottom: 0;left: 50%;z-index: 0;}#sk-container-id-2 div.sk-serial {display: flex;flex-direction: column;align-items: center;background-color: white;padding-right: 0.2em;padding-left: 0.2em;position: relative;}#sk-container-id-2 div.sk-item {position: relative;z-index: 1;}#sk-container-id-2 div.sk-parallel {display: flex;align-items: stretch;justify-content: center;background-color: white;position: relative;}#sk-container-id-2 div.sk-item::before, #sk-container-id-2 div.sk-parallel-item::before {content: \"\";position: absolute;border-left: 1px solid gray;box-sizing: border-box;top: 0;bottom: 0;left: 50%;z-index: -1;}#sk-container-id-2 div.sk-parallel-item {display: flex;flex-direction: column;z-index: 1;position: relative;background-color: white;}#sk-container-id-2 div.sk-parallel-item:first-child::after {align-self: flex-end;width: 50%;}#sk-container-id-2 div.sk-parallel-item:last-child::after {align-self: flex-start;width: 50%;}#sk-container-id-2 div.sk-parallel-item:only-child::after {width: 0;}#sk-container-id-2 div.sk-dashed-wrapped {border: 1px dashed gray;margin: 0 0.4em 0.5em 0.4em;box-sizing: border-box;padding-bottom: 0.4em;background-color: white;}#sk-container-id-2 div.sk-label label {font-family: monospace;font-weight: bold;display: inline-block;line-height: 1.2em;}#sk-container-id-2 div.sk-label-container {text-align: center;}#sk-container-id-2 div.sk-container {/* jupyter's `normalize.less` sets `[hidden] { display: none; }` but bootstrap.min.css set `[hidden] { display: none !important; }` so we also need the `!important` here to be able to override the default hidden behavior on the sphinx rendered scikit-learn.org. See: https://github.com/scikit-learn/scikit-learn/issues/21755 */display: inline-block !important;position: relative;}#sk-container-id-2 div.sk-text-repr-fallback {display: none;}</style><div id=\"sk-container-id-2\" class=\"sk-top-container\"><div class=\"sk-text-repr-fallback\"><pre>Pipeline(steps=[(&#x27;standardscaler&#x27;, StandardScaler()),\n",
       "                (&#x27;randomforestregressor&#x27;,\n",
       "                 RandomForestRegressor(max_depth=251, max_features=&#x27;log2&#x27;,\n",
       "                                       n_estimators=351, n_jobs=-1,\n",
       "                                       random_state=760))])</pre><b>In a Jupyter environment, please rerun this cell to show the HTML representation or trust the notebook. <br />On GitHub, the HTML representation is unable to render, please try loading this page with nbviewer.org.</b></div><div class=\"sk-container\" hidden><div class=\"sk-item sk-dashed-wrapped\"><div class=\"sk-label-container\"><div class=\"sk-label sk-toggleable\"><input class=\"sk-toggleable__control sk-hidden--visually\" id=\"sk-estimator-id-4\" type=\"checkbox\" ><label for=\"sk-estimator-id-4\" class=\"sk-toggleable__label sk-toggleable__label-arrow\">Pipeline</label><div class=\"sk-toggleable__content\"><pre>Pipeline(steps=[(&#x27;standardscaler&#x27;, StandardScaler()),\n",
       "                (&#x27;randomforestregressor&#x27;,\n",
       "                 RandomForestRegressor(max_depth=251, max_features=&#x27;log2&#x27;,\n",
       "                                       n_estimators=351, n_jobs=-1,\n",
       "                                       random_state=760))])</pre></div></div></div><div class=\"sk-serial\"><div class=\"sk-item\"><div class=\"sk-estimator sk-toggleable\"><input class=\"sk-toggleable__control sk-hidden--visually\" id=\"sk-estimator-id-5\" type=\"checkbox\" ><label for=\"sk-estimator-id-5\" class=\"sk-toggleable__label sk-toggleable__label-arrow\">StandardScaler</label><div class=\"sk-toggleable__content\"><pre>StandardScaler()</pre></div></div></div><div class=\"sk-item\"><div class=\"sk-estimator sk-toggleable\"><input class=\"sk-toggleable__control sk-hidden--visually\" id=\"sk-estimator-id-6\" type=\"checkbox\" ><label for=\"sk-estimator-id-6\" class=\"sk-toggleable__label sk-toggleable__label-arrow\">RandomForestRegressor</label><div class=\"sk-toggleable__content\"><pre>RandomForestRegressor(max_depth=251, max_features=&#x27;log2&#x27;, n_estimators=351,\n",
       "                      n_jobs=-1, random_state=760)</pre></div></div></div></div></div></div></div>"
      ],
      "text/plain": [
       "Pipeline(steps=[('standardscaler', StandardScaler()),\n",
       "                ('randomforestregressor',\n",
       "                 RandomForestRegressor(max_depth=251, max_features='log2',\n",
       "                                       n_estimators=351, n_jobs=-1,\n",
       "                                       random_state=760))])"
      ]
     },
     "execution_count": 8,
     "metadata": {},
     "output_type": "execute_result"
    }
   ],
   "source": [
    "#optimal model\n",
    "# {'n_estimators': 351, 'max_depth': 251, 'min_samples_split': 2, 'max_features': 'log2', 'min_samples_leaf': 1}\n",
    "omodel = make_pipeline(StandardScaler(), RandomForestRegressor(n_estimators = 351, \n",
    "                               max_depth = 251, \n",
    "                               min_samples_leaf= 1,\n",
    "                               min_samples_split= 2,\n",
    "                               max_features= 'log2', random_state = 760, n_jobs=-1))\n",
    "\n",
    "\n",
    "omodel.fit(X_train, y_train)"
   ]
  },
  {
   "cell_type": "code",
   "execution_count": 9,
   "id": "2d6ff318-63b5-4b2c-85e5-d339982130f1",
   "metadata": {},
   "outputs": [
    {
     "name": "stdout",
     "output_type": "stream",
     "text": [
      "\n",
      " model train score -> RMSE: 1.2902994094058773 MAE: 0.5922162862201784\n",
      "\n",
      " model test score -> RMSE: 4.086867282916606 MAE: 1.6254888126088403\n"
     ]
    }
   ],
   "source": [
    "#predict train set results\n",
    "y_pred = omodel.predict(X_train)\n",
    "rmse = mean_squared_error(y_train, y_pred, squared=False)\n",
    "mae = mean_absolute_error(y_train, y_pred) \n",
    "print(f\"\\n model train score -> RMSE:\", rmse, \"MAE:\", mae)\n",
    "\n",
    "\n",
    "#predict test set results\n",
    "y_pred_test = omodel.predict(X_test)\n",
    "rmse = mean_squared_error(y_test, y_pred_test, squared=False)\n",
    "mae = mean_absolute_error(y_test, y_pred_test) \n",
    "print(f\"\\n model test score -> RMSE:\", rmse, \"MAE:\", mae)"
   ]
  },
  {
   "cell_type": "code",
   "execution_count": null,
   "id": "b0ef1c8b-bba7-45ea-a9dd-00c9cc67f681",
   "metadata": {},
   "outputs": [],
   "source": []
  }
 ],
 "metadata": {
  "kernelspec": {
   "display_name": "Python 3 (ipykernel)",
   "language": "python",
   "name": "python3"
  },
  "language_info": {
   "codemirror_mode": {
    "name": "ipython",
    "version": 3
   },
   "file_extension": ".py",
   "mimetype": "text/x-python",
   "name": "python",
   "nbconvert_exporter": "python",
   "pygments_lexer": "ipython3",
   "version": "3.10.6"
  }
 },
 "nbformat": 4,
 "nbformat_minor": 5
}
