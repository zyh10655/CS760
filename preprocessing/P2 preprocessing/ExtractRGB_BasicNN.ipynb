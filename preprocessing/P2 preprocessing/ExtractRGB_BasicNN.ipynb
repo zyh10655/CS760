{
  "cells": [
    {
      "cell_type": "code",
      "execution_count": 1,
      "metadata": {
        "colab": {
          "base_uri": "https://localhost:8080/"
        },
        "id": "tE6apRjqvK5L",
        "outputId": "e41cb7a1-14c0-4086-b9c4-0d572040e517"
      },
      "outputs": [
        {
          "output_type": "stream",
          "name": "stdout",
          "text": [
            "Looking in indexes: https://pypi.org/simple, https://us-python.pkg.dev/colab-wheels/public/simple/\n",
            "Collecting fastparquet\n",
            "  Downloading fastparquet-0.8.1-cp37-cp37m-manylinux_2_17_x86_64.manylinux2014_x86_64.whl (1.5 MB)\n",
            "\u001b[K     |████████████████████████████████| 1.5 MB 5.3 MB/s \n",
            "\u001b[?25hRequirement already satisfied: numpy>=1.18 in /usr/local/lib/python3.7/dist-packages (from fastparquet) (1.21.6)\n",
            "Collecting cramjam>=2.3.0\n",
            "  Downloading cramjam-2.5.0-cp37-cp37m-manylinux_2_5_x86_64.manylinux1_x86_64.whl (1.6 MB)\n",
            "\u001b[K     |████████████████████████████████| 1.6 MB 43.8 MB/s \n",
            "\u001b[?25hRequirement already satisfied: fsspec in /usr/local/lib/python3.7/dist-packages (from fastparquet) (2022.7.1)\n",
            "Requirement already satisfied: pandas>=1.1.0 in /usr/local/lib/python3.7/dist-packages (from fastparquet) (1.3.5)\n",
            "Requirement already satisfied: pytz>=2017.3 in /usr/local/lib/python3.7/dist-packages (from pandas>=1.1.0->fastparquet) (2022.2.1)\n",
            "Requirement already satisfied: python-dateutil>=2.7.3 in /usr/local/lib/python3.7/dist-packages (from pandas>=1.1.0->fastparquet) (2.8.2)\n",
            "Requirement already satisfied: six>=1.5 in /usr/local/lib/python3.7/dist-packages (from python-dateutil>=2.7.3->pandas>=1.1.0->fastparquet) (1.15.0)\n",
            "Installing collected packages: cramjam, fastparquet\n",
            "Successfully installed cramjam-2.5.0 fastparquet-0.8.1\n"
          ]
        }
      ],
      "source": [
        "!pip install fastparquet"
      ]
    },
    {
      "cell_type": "code",
      "execution_count": 2,
      "metadata": {
        "id": "eiWtNOjBQvBv"
      },
      "outputs": [],
      "source": [
        "import cv2\n",
        "import numpy as np\n",
        "from google.colab.patches import cv2_imshow as cv2\n",
        "from itertools import product\n",
        "from keras import models,layers\n",
        "from PIL import Image\n",
        "from keras.layers.convolutional import Conv2D, MaxPooling2D\n",
        "from keras.models import Sequential\n",
        "from keras.layers import Dense, Activation, Flatten\n",
        "import glob\n",
        "import os\n",
        "import csv\n",
        "import math \n",
        "import json\n",
        "import pandas as pd\n",
        "import tensorflow as tf\n",
        "import matplotlib.pyplot as plt"
      ]
    },
    {
      "cell_type": "code",
      "source": [
        "#gpu_info = !nvidia-smi\n",
        "#gpu_info = '\\n'.join(gpu_info)\n",
        "#if gpu_info.find('failed') >= 0:\n",
        "#  print('Not connected to a GPU')\n",
        "#else:\n",
        "#  print(gpu_info)"
      ],
      "metadata": {
        "colab": {
          "base_uri": "https://localhost:8080/"
        },
        "id": "eYm9c7HzCYmQ",
        "outputId": "8852c77d-cd8d-40d5-abd6-5bd213674d1d"
      },
      "execution_count": null,
      "outputs": [
        {
          "output_type": "stream",
          "name": "stdout",
          "text": [
            "Mon Aug 22 05:33:10 2022       \n",
            "+-----------------------------------------------------------------------------+\n",
            "| NVIDIA-SMI 460.32.03    Driver Version: 460.32.03    CUDA Version: 11.2     |\n",
            "|-------------------------------+----------------------+----------------------+\n",
            "| GPU  Name        Persistence-M| Bus-Id        Disp.A | Volatile Uncorr. ECC |\n",
            "| Fan  Temp  Perf  Pwr:Usage/Cap|         Memory-Usage | GPU-Util  Compute M. |\n",
            "|                               |                      |               MIG M. |\n",
            "|===============================+======================+======================|\n",
            "|   0  Tesla P100-PCIE...  Off  | 00000000:00:04.0 Off |                    0 |\n",
            "| N/A   44C    P0    26W / 250W |      0MiB / 16280MiB |      0%      Default |\n",
            "|                               |                      |                  N/A |\n",
            "+-------------------------------+----------------------+----------------------+\n",
            "                                                                               \n",
            "+-----------------------------------------------------------------------------+\n",
            "| Processes:                                                                  |\n",
            "|  GPU   GI   CI        PID   Type   Process name                  GPU Memory |\n",
            "|        ID   ID                                                   Usage      |\n",
            "|=============================================================================|\n",
            "|  No running processes found                                                 |\n",
            "+-----------------------------------------------------------------------------+\n"
          ]
        }
      ]
    },
    {
      "cell_type": "code",
      "source": [
        "joined=pd.read_parquet(\"/content/drive/MyDrive/train.parquet\",engine='fastparquet')\n",
        "joined=joined.drop(labels=\"r_id\", axis=1)"
      ],
      "metadata": {
        "id": "ZWS--z6H6npf"
      },
      "execution_count": 3,
      "outputs": []
    },
    {
      "cell_type": "code",
      "source": [
        "joined_validation=pd.read_parquet(\"/content/drive/MyDrive/val.parquet\",engine='fastparquet')\n",
        "joined_test=pd.read_parquet(\"/content/drive/MyDrive/test.parquet\",engine='fastparquet')"
      ],
      "metadata": {
        "id": "bQS11F_iCGuK"
      },
      "execution_count": 4,
      "outputs": []
    },
    {
      "cell_type": "code",
      "source": [
        "joined_test=joined_test.drop(labels=\"r_id\", axis=1)"
      ],
      "metadata": {
        "id": "VqGUXSFwYsO2"
      },
      "execution_count": 5,
      "outputs": []
    },
    {
      "cell_type": "code",
      "source": [
        "joined_validation=joined_validation.drop(labels=\"r_id\", axis=1)"
      ],
      "metadata": {
        "id": "CrSEDZNnY-2S"
      },
      "execution_count": 6,
      "outputs": []
    },
    {
      "cell_type": "code",
      "source": [
        "#80% of whole dataset as training set\n",
        "training = joined.iloc[: , 0:11]\n",
        "testing = joined_test.iloc[: , 0:11]\n",
        "validing = joined_validation.iloc[: , 0:11]\n",
        "labelsForTrain=joined.iloc[: , -1]\n",
        "labelsForValid=joined_validation.iloc[: , -1]\n",
        "labelsForTest=joined_test.iloc[: , -1]\n",
        "#testing_labels = labelsForcool[training_size:]\n",
        "#model.summary()"
      ],
      "metadata": {
        "id": "Z69e36H4AuuQ"
      },
      "execution_count": 8,
      "outputs": []
    },
    {
      "cell_type": "code",
      "source": [
        "joined.shape"
      ],
      "metadata": {
        "colab": {
          "base_uri": "https://localhost:8080/"
        },
        "id": "PCWQzBPrtXVl",
        "outputId": "8db9b33d-f63d-4f64-b711-3839d702dece"
      },
      "execution_count": 9,
      "outputs": [
        {
          "output_type": "execute_result",
          "data": {
            "text/plain": [
              "(2060626, 12)"
            ]
          },
          "metadata": {},
          "execution_count": 9
        }
      ]
    },
    {
      "cell_type": "code",
      "source": [
        "#make sure the last column not included\n",
        "print(training.shape)\n",
        "print(testing.shape)\n",
        "print(validing.shape)"
      ],
      "metadata": {
        "colab": {
          "base_uri": "https://localhost:8080/"
        },
        "id": "Y2vJdiA4tOl6",
        "outputId": "34af3c90-b20e-4460-fdf2-cedc17ab2716"
      },
      "execution_count": 10,
      "outputs": [
        {
          "output_type": "stream",
          "name": "stdout",
          "text": [
            "(2060626, 11)\n",
            "(257579, 11)\n",
            "(257578, 11)\n"
          ]
        }
      ]
    },
    {
      "cell_type": "code",
      "source": [
        "\n",
        "model = Sequential(\n",
        "    [\n",
        "     Dense(100, activation='relu', input_shape=(11,)),\n",
        "     Dense(10, activation='relu'),\n",
        "     Dense(1),\n",
        "     ])\n",
        "model.build(input_shape=(11,1))\n",
        "model.compile(optimizer='sgd', loss='mse',metrics=['mse'])\n",
        "model.summary()\n"
      ],
      "metadata": {
        "colab": {
          "base_uri": "https://localhost:8080/"
        },
        "id": "X0ZDZiDunV4q",
        "outputId": "f4c8f31f-513a-47de-e6bf-d5d900b6540c"
      },
      "execution_count": 11,
      "outputs": [
        {
          "output_type": "stream",
          "name": "stdout",
          "text": [
            "Model: \"sequential\"\n",
            "_________________________________________________________________\n",
            " Layer (type)                Output Shape              Param #   \n",
            "=================================================================\n",
            " dense (Dense)               (None, 100)               1200      \n",
            "                                                                 \n",
            " dense_1 (Dense)             (None, 10)                1010      \n",
            "                                                                 \n",
            " dense_2 (Dense)             (None, 1)                 11        \n",
            "                                                                 \n",
            "=================================================================\n",
            "Total params: 2,221\n",
            "Trainable params: 2,221\n",
            "Non-trainable params: 0\n",
            "_________________________________________________________________\n"
          ]
        }
      ]
    },
    {
      "cell_type": "code",
      "source": [
        "history = model.fit(training, labelsForTrain, epochs=20, validation_data=(validing, labelsForValid), verbose=2)"
      ],
      "metadata": {
        "colab": {
          "base_uri": "https://localhost:8080/"
        },
        "id": "djxa0Jh1wdsZ",
        "outputId": "fe9331a8-0873-49f4-85a3-f1e5501cc6a1"
      },
      "execution_count": 12,
      "outputs": [
        {
          "output_type": "stream",
          "name": "stdout",
          "text": [
            "Epoch 1/20\n",
            "64395/64395 - 84s - loss: 62.8112 - mse: 62.8112 - val_loss: 137.6031 - val_mse: 137.6031 - 84s/epoch - 1ms/step\n",
            "Epoch 2/20\n",
            "64395/64395 - 83s - loss: 62.2191 - mse: 62.2191 - val_loss: 137.5898 - val_mse: 137.5898 - 83s/epoch - 1ms/step\n",
            "Epoch 3/20\n",
            "64395/64395 - 85s - loss: 62.2291 - mse: 62.2291 - val_loss: 137.7013 - val_mse: 137.7013 - 85s/epoch - 1ms/step\n",
            "Epoch 4/20\n",
            "64395/64395 - 85s - loss: 62.2229 - mse: 62.2229 - val_loss: 137.5836 - val_mse: 137.5836 - 85s/epoch - 1ms/step\n",
            "Epoch 5/20\n",
            "64395/64395 - 86s - loss: 62.2189 - mse: 62.2189 - val_loss: 137.5837 - val_mse: 137.5837 - 86s/epoch - 1ms/step\n",
            "Epoch 6/20\n",
            "64395/64395 - 85s - loss: 62.2202 - mse: 62.2202 - val_loss: 137.5816 - val_mse: 137.5816 - 85s/epoch - 1ms/step\n",
            "Epoch 7/20\n",
            "64395/64395 - 85s - loss: 62.2207 - mse: 62.2207 - val_loss: 137.5815 - val_mse: 137.5815 - 85s/epoch - 1ms/step\n",
            "Epoch 8/20\n",
            "64395/64395 - 85s - loss: 62.2174 - mse: 62.2174 - val_loss: 137.5890 - val_mse: 137.5890 - 85s/epoch - 1ms/step\n",
            "Epoch 9/20\n",
            "64395/64395 - 85s - loss: 62.2228 - mse: 62.2228 - val_loss: 137.5838 - val_mse: 137.5838 - 85s/epoch - 1ms/step\n",
            "Epoch 10/20\n",
            "64395/64395 - 84s - loss: 62.2226 - mse: 62.2226 - val_loss: 137.5870 - val_mse: 137.5870 - 84s/epoch - 1ms/step\n",
            "Epoch 11/20\n",
            "64395/64395 - 85s - loss: 62.2174 - mse: 62.2174 - val_loss: 137.5812 - val_mse: 137.5812 - 85s/epoch - 1ms/step\n",
            "Epoch 12/20\n",
            "64395/64395 - 83s - loss: 62.2235 - mse: 62.2235 - val_loss: 137.5870 - val_mse: 137.5870 - 83s/epoch - 1ms/step\n",
            "Epoch 13/20\n",
            "64395/64395 - 83s - loss: 62.2189 - mse: 62.2189 - val_loss: 137.5829 - val_mse: 137.5829 - 83s/epoch - 1ms/step\n",
            "Epoch 14/20\n",
            "64395/64395 - 83s - loss: 62.2232 - mse: 62.2232 - val_loss: 137.6420 - val_mse: 137.6420 - 83s/epoch - 1ms/step\n",
            "Epoch 15/20\n",
            "64395/64395 - 85s - loss: 62.2189 - mse: 62.2189 - val_loss: 137.5810 - val_mse: 137.5810 - 85s/epoch - 1ms/step\n",
            "Epoch 16/20\n",
            "64395/64395 - 83s - loss: 62.2221 - mse: 62.2221 - val_loss: 137.6026 - val_mse: 137.6026 - 83s/epoch - 1ms/step\n",
            "Epoch 17/20\n",
            "64395/64395 - 83s - loss: 62.2198 - mse: 62.2198 - val_loss: 137.5893 - val_mse: 137.5893 - 83s/epoch - 1ms/step\n",
            "Epoch 18/20\n",
            "64395/64395 - 83s - loss: 62.2199 - mse: 62.2199 - val_loss: 137.5889 - val_mse: 137.5889 - 83s/epoch - 1ms/step\n",
            "Epoch 19/20\n",
            "64395/64395 - 84s - loss: 62.2206 - mse: 62.2206 - val_loss: 137.5851 - val_mse: 137.5851 - 84s/epoch - 1ms/step\n",
            "Epoch 20/20\n",
            "64395/64395 - 84s - loss: 62.2184 - mse: 62.2184 - val_loss: 137.5836 - val_mse: 137.5836 - 84s/epoch - 1ms/step\n"
          ]
        }
      ]
    },
    {
      "cell_type": "code",
      "source": [
        "hist = pd.DataFrame(history.history)\n",
        "hist"
      ],
      "metadata": {
        "colab": {
          "base_uri": "https://localhost:8080/",
          "height": 676
        },
        "id": "x5HbU6THO3S7",
        "outputId": "c124a307-fbb1-4897-a8b0-8a68d7fb53ca"
      },
      "execution_count": 21,
      "outputs": [
        {
          "output_type": "execute_result",
          "data": {
            "text/plain": [
              "         loss        mse    val_loss     val_mse\n",
              "0   62.811195  62.811195  137.603088  137.603088\n",
              "1   62.219093  62.219093  137.589783  137.589783\n",
              "2   62.229099  62.229099  137.701279  137.701279\n",
              "3   62.222935  62.222935  137.583603  137.583603\n",
              "4   62.218857  62.218857  137.583740  137.583740\n",
              "5   62.220215  62.220215  137.581650  137.581650\n",
              "6   62.220661  62.220661  137.581482  137.581482\n",
              "7   62.217430  62.217430  137.589035  137.589035\n",
              "8   62.222778  62.222778  137.583817  137.583817\n",
              "9   62.222557  62.222557  137.586975  137.586975\n",
              "10  62.217442  62.217442  137.581177  137.581177\n",
              "11  62.223530  62.223530  137.587006  137.587006\n",
              "12  62.218864  62.218864  137.582932  137.582932\n",
              "13  62.223248  62.223248  137.641968  137.641968\n",
              "14  62.218910  62.218910  137.580994  137.580994\n",
              "15  62.222141  62.222141  137.602646  137.602646\n",
              "16  62.219826  62.219826  137.589325  137.589325\n",
              "17  62.219936  62.219936  137.588852  137.588852\n",
              "18  62.220638  62.220638  137.585083  137.585083\n",
              "19  62.218399  62.218399  137.583603  137.583603"
            ],
            "text/html": [
              "\n",
              "  <div id=\"df-a9757ed4-1dca-41a6-b20a-7c07fee433f7\">\n",
              "    <div class=\"colab-df-container\">\n",
              "      <div>\n",
              "<style scoped>\n",
              "    .dataframe tbody tr th:only-of-type {\n",
              "        vertical-align: middle;\n",
              "    }\n",
              "\n",
              "    .dataframe tbody tr th {\n",
              "        vertical-align: top;\n",
              "    }\n",
              "\n",
              "    .dataframe thead th {\n",
              "        text-align: right;\n",
              "    }\n",
              "</style>\n",
              "<table border=\"1\" class=\"dataframe\">\n",
              "  <thead>\n",
              "    <tr style=\"text-align: right;\">\n",
              "      <th></th>\n",
              "      <th>loss</th>\n",
              "      <th>mse</th>\n",
              "      <th>val_loss</th>\n",
              "      <th>val_mse</th>\n",
              "    </tr>\n",
              "  </thead>\n",
              "  <tbody>\n",
              "    <tr>\n",
              "      <th>0</th>\n",
              "      <td>62.811195</td>\n",
              "      <td>62.811195</td>\n",
              "      <td>137.603088</td>\n",
              "      <td>137.603088</td>\n",
              "    </tr>\n",
              "    <tr>\n",
              "      <th>1</th>\n",
              "      <td>62.219093</td>\n",
              "      <td>62.219093</td>\n",
              "      <td>137.589783</td>\n",
              "      <td>137.589783</td>\n",
              "    </tr>\n",
              "    <tr>\n",
              "      <th>2</th>\n",
              "      <td>62.229099</td>\n",
              "      <td>62.229099</td>\n",
              "      <td>137.701279</td>\n",
              "      <td>137.701279</td>\n",
              "    </tr>\n",
              "    <tr>\n",
              "      <th>3</th>\n",
              "      <td>62.222935</td>\n",
              "      <td>62.222935</td>\n",
              "      <td>137.583603</td>\n",
              "      <td>137.583603</td>\n",
              "    </tr>\n",
              "    <tr>\n",
              "      <th>4</th>\n",
              "      <td>62.218857</td>\n",
              "      <td>62.218857</td>\n",
              "      <td>137.583740</td>\n",
              "      <td>137.583740</td>\n",
              "    </tr>\n",
              "    <tr>\n",
              "      <th>5</th>\n",
              "      <td>62.220215</td>\n",
              "      <td>62.220215</td>\n",
              "      <td>137.581650</td>\n",
              "      <td>137.581650</td>\n",
              "    </tr>\n",
              "    <tr>\n",
              "      <th>6</th>\n",
              "      <td>62.220661</td>\n",
              "      <td>62.220661</td>\n",
              "      <td>137.581482</td>\n",
              "      <td>137.581482</td>\n",
              "    </tr>\n",
              "    <tr>\n",
              "      <th>7</th>\n",
              "      <td>62.217430</td>\n",
              "      <td>62.217430</td>\n",
              "      <td>137.589035</td>\n",
              "      <td>137.589035</td>\n",
              "    </tr>\n",
              "    <tr>\n",
              "      <th>8</th>\n",
              "      <td>62.222778</td>\n",
              "      <td>62.222778</td>\n",
              "      <td>137.583817</td>\n",
              "      <td>137.583817</td>\n",
              "    </tr>\n",
              "    <tr>\n",
              "      <th>9</th>\n",
              "      <td>62.222557</td>\n",
              "      <td>62.222557</td>\n",
              "      <td>137.586975</td>\n",
              "      <td>137.586975</td>\n",
              "    </tr>\n",
              "    <tr>\n",
              "      <th>10</th>\n",
              "      <td>62.217442</td>\n",
              "      <td>62.217442</td>\n",
              "      <td>137.581177</td>\n",
              "      <td>137.581177</td>\n",
              "    </tr>\n",
              "    <tr>\n",
              "      <th>11</th>\n",
              "      <td>62.223530</td>\n",
              "      <td>62.223530</td>\n",
              "      <td>137.587006</td>\n",
              "      <td>137.587006</td>\n",
              "    </tr>\n",
              "    <tr>\n",
              "      <th>12</th>\n",
              "      <td>62.218864</td>\n",
              "      <td>62.218864</td>\n",
              "      <td>137.582932</td>\n",
              "      <td>137.582932</td>\n",
              "    </tr>\n",
              "    <tr>\n",
              "      <th>13</th>\n",
              "      <td>62.223248</td>\n",
              "      <td>62.223248</td>\n",
              "      <td>137.641968</td>\n",
              "      <td>137.641968</td>\n",
              "    </tr>\n",
              "    <tr>\n",
              "      <th>14</th>\n",
              "      <td>62.218910</td>\n",
              "      <td>62.218910</td>\n",
              "      <td>137.580994</td>\n",
              "      <td>137.580994</td>\n",
              "    </tr>\n",
              "    <tr>\n",
              "      <th>15</th>\n",
              "      <td>62.222141</td>\n",
              "      <td>62.222141</td>\n",
              "      <td>137.602646</td>\n",
              "      <td>137.602646</td>\n",
              "    </tr>\n",
              "    <tr>\n",
              "      <th>16</th>\n",
              "      <td>62.219826</td>\n",
              "      <td>62.219826</td>\n",
              "      <td>137.589325</td>\n",
              "      <td>137.589325</td>\n",
              "    </tr>\n",
              "    <tr>\n",
              "      <th>17</th>\n",
              "      <td>62.219936</td>\n",
              "      <td>62.219936</td>\n",
              "      <td>137.588852</td>\n",
              "      <td>137.588852</td>\n",
              "    </tr>\n",
              "    <tr>\n",
              "      <th>18</th>\n",
              "      <td>62.220638</td>\n",
              "      <td>62.220638</td>\n",
              "      <td>137.585083</td>\n",
              "      <td>137.585083</td>\n",
              "    </tr>\n",
              "    <tr>\n",
              "      <th>19</th>\n",
              "      <td>62.218399</td>\n",
              "      <td>62.218399</td>\n",
              "      <td>137.583603</td>\n",
              "      <td>137.583603</td>\n",
              "    </tr>\n",
              "  </tbody>\n",
              "</table>\n",
              "</div>\n",
              "      <button class=\"colab-df-convert\" onclick=\"convertToInteractive('df-a9757ed4-1dca-41a6-b20a-7c07fee433f7')\"\n",
              "              title=\"Convert this dataframe to an interactive table.\"\n",
              "              style=\"display:none;\">\n",
              "        \n",
              "  <svg xmlns=\"http://www.w3.org/2000/svg\" height=\"24px\"viewBox=\"0 0 24 24\"\n",
              "       width=\"24px\">\n",
              "    <path d=\"M0 0h24v24H0V0z\" fill=\"none\"/>\n",
              "    <path d=\"M18.56 5.44l.94 2.06.94-2.06 2.06-.94-2.06-.94-.94-2.06-.94 2.06-2.06.94zm-11 1L8.5 8.5l.94-2.06 2.06-.94-2.06-.94L8.5 2.5l-.94 2.06-2.06.94zm10 10l.94 2.06.94-2.06 2.06-.94-2.06-.94-.94-2.06-.94 2.06-2.06.94z\"/><path d=\"M17.41 7.96l-1.37-1.37c-.4-.4-.92-.59-1.43-.59-.52 0-1.04.2-1.43.59L10.3 9.45l-7.72 7.72c-.78.78-.78 2.05 0 2.83L4 21.41c.39.39.9.59 1.41.59.51 0 1.02-.2 1.41-.59l7.78-7.78 2.81-2.81c.8-.78.8-2.07 0-2.86zM5.41 20L4 18.59l7.72-7.72 1.47 1.35L5.41 20z\"/>\n",
              "  </svg>\n",
              "      </button>\n",
              "      \n",
              "  <style>\n",
              "    .colab-df-container {\n",
              "      display:flex;\n",
              "      flex-wrap:wrap;\n",
              "      gap: 12px;\n",
              "    }\n",
              "\n",
              "    .colab-df-convert {\n",
              "      background-color: #E8F0FE;\n",
              "      border: none;\n",
              "      border-radius: 50%;\n",
              "      cursor: pointer;\n",
              "      display: none;\n",
              "      fill: #1967D2;\n",
              "      height: 32px;\n",
              "      padding: 0 0 0 0;\n",
              "      width: 32px;\n",
              "    }\n",
              "\n",
              "    .colab-df-convert:hover {\n",
              "      background-color: #E2EBFA;\n",
              "      box-shadow: 0px 1px 2px rgba(60, 64, 67, 0.3), 0px 1px 3px 1px rgba(60, 64, 67, 0.15);\n",
              "      fill: #174EA6;\n",
              "    }\n",
              "\n",
              "    [theme=dark] .colab-df-convert {\n",
              "      background-color: #3B4455;\n",
              "      fill: #D2E3FC;\n",
              "    }\n",
              "\n",
              "    [theme=dark] .colab-df-convert:hover {\n",
              "      background-color: #434B5C;\n",
              "      box-shadow: 0px 1px 3px 1px rgba(0, 0, 0, 0.15);\n",
              "      filter: drop-shadow(0px 1px 2px rgba(0, 0, 0, 0.3));\n",
              "      fill: #FFFFFF;\n",
              "    }\n",
              "  </style>\n",
              "\n",
              "      <script>\n",
              "        const buttonEl =\n",
              "          document.querySelector('#df-a9757ed4-1dca-41a6-b20a-7c07fee433f7 button.colab-df-convert');\n",
              "        buttonEl.style.display =\n",
              "          google.colab.kernel.accessAllowed ? 'block' : 'none';\n",
              "\n",
              "        async function convertToInteractive(key) {\n",
              "          const element = document.querySelector('#df-a9757ed4-1dca-41a6-b20a-7c07fee433f7');\n",
              "          const dataTable =\n",
              "            await google.colab.kernel.invokeFunction('convertToInteractive',\n",
              "                                                     [key], {});\n",
              "          if (!dataTable) return;\n",
              "\n",
              "          const docLinkHtml = 'Like what you see? Visit the ' +\n",
              "            '<a target=\"_blank\" href=https://colab.research.google.com/notebooks/data_table.ipynb>data table notebook</a>'\n",
              "            + ' to learn more about interactive tables.';\n",
              "          element.innerHTML = '';\n",
              "          dataTable['output_type'] = 'display_data';\n",
              "          await google.colab.output.renderOutput(dataTable, element);\n",
              "          const docLink = document.createElement('div');\n",
              "          docLink.innerHTML = docLinkHtml;\n",
              "          element.appendChild(docLink);\n",
              "        }\n",
              "      </script>\n",
              "    </div>\n",
              "  </div>\n",
              "  "
            ]
          },
          "metadata": {},
          "execution_count": 21
        }
      ]
    },
    {
      "cell_type": "code",
      "source": [
        "def plot_history(history):\n",
        "  hist = pd.DataFrame(history.history)\n",
        "  hist['epoch'] = history.epoch\n",
        "  plt.figure()\n",
        "  plt.xlabel('Epoch')\n",
        "  plt.ylabel('Mean Square Error')\n",
        "  plt.plot(hist['epoch'], hist['mse'],\n",
        "           label='Train Error')\n",
        "  plt.plot(hist['epoch'], hist['val_mse'],\n",
        "           label = 'Val Error')\n",
        "  plt.ylim([0,150])\n",
        "  plt.legend()\n",
        "  plt.show()\n",
        "\n",
        "\n",
        "plot_history(history)"
      ],
      "metadata": {
        "colab": {
          "base_uri": "https://localhost:8080/",
          "height": 279
        },
        "id": "1B351bKzO90t",
        "outputId": "031dbdf1-05b6-4fc4-99af-c5536f2caa74"
      },
      "execution_count": 15,
      "outputs": [
        {
          "output_type": "display_data",
          "data": {
            "text/plain": [
              "<Figure size 432x288 with 1 Axes>"
            ],
            "image/png": "[encoded data removed]"
          },
          "metadata": {
            "needs_background": "light"
          }
        }
      ]
    },
    {
      "cell_type": "code",
      "source": [
        "summation = 0  #variable to store the summation of differences\n",
        "test_predictions = model.predict(testing).flatten()\n",
        "val_predictions = model.predict(validing).flatten()\n",
        "n = len(test_predictions) #finding total number of items in list\n",
        "for i in range (0,n):  #looping through each element of the list\n",
        "  difference = labelsForTest[i] - test_predictions[i]  #finding the difference between observed and predicted value\n",
        "  squared_difference = difference**2  #taking square of the differene \n",
        "  summation = summation + squared_difference  #taking a sum of all the differences\n",
        "MSE = summation/n  #dividing summation by total values to obtain average\n",
        "RMSE = math.sqrt(MSE)\n",
        "print (\"The Mean Square Error is: \" , MSE)\n",
        "print (\"The Root Mean Square Error is: \" , RMSE)"
      ],
      "metadata": {
        "colab": {
          "base_uri": "https://localhost:8080/"
        },
        "id": "c1N0rhimo7v0",
        "outputId": "67a08943-313e-4832-d6bd-f45375444f6d"
      },
      "execution_count": 22,
      "outputs": [
        {
          "output_type": "stream",
          "name": "stdout",
          "text": [
            "The Mean Square Error is:  9.267538736571629\n",
            "The Root Mean Square Error is:  3.0442632502087643\n"
          ]
        }
      ]
    },
    {
      "cell_type": "code",
      "source": [
        "MAE_test=tf.keras.metrics.mean_absolute_error(\n",
        "    labelsForTest, test_predictions\n",
        ")\n",
        "MAE_test"
      ],
      "metadata": {
        "colab": {
          "base_uri": "https://localhost:8080/"
        },
        "id": "QBWLymiyokV6",
        "outputId": "d14fcbc2-5933-4521-9c7a-0702f074f41c"
      },
      "execution_count": 17,
      "outputs": [
        {
          "output_type": "execute_result",
          "data": {
            "text/plain": [
              "<tf.Tensor: shape=(), dtype=float32, numpy=0.17916243>"
            ]
          },
          "metadata": {},
          "execution_count": 17
        }
      ]
    },
    {
      "cell_type": "code",
      "source": [
        "MAE_val=tf.keras.metrics.mean_absolute_error(\n",
        "    labelsForValid, val_predictions\n",
        ")\n",
        "MAE_val"
      ],
      "metadata": {
        "colab": {
          "base_uri": "https://localhost:8080/"
        },
        "id": "hQnLsEDoPHi_",
        "outputId": "9dfe428b-0347-4f4c-d4c9-e66ef459f9cc"
      },
      "execution_count": 25,
      "outputs": [
        {
          "output_type": "execute_result",
          "data": {
            "text/plain": [
              "<tf.Tensor: shape=(), dtype=float32, numpy=0.20991538>"
            ]
          },
          "metadata": {},
          "execution_count": 25
        }
      ]
    },
    {
      "cell_type": "code",
      "source": [
        "train_predictions = model.predict(training).flatten()\n",
        "MAE_train=tf.keras.metrics.mean_absolute_error(\n",
        "    labelsForTrain, train_predictions\n",
        ")\n",
        "MAE_train"
      ],
      "metadata": {
        "colab": {
          "base_uri": "https://localhost:8080/"
        },
        "id": "sSscDYixP3uu",
        "outputId": "9bad4865-44f9-4b84-ec61-7d4d7ce68a7c"
      },
      "execution_count": 26,
      "outputs": [
        {
          "output_type": "execute_result",
          "data": {
            "text/plain": [
              "<tf.Tensor: shape=(), dtype=float32, numpy=0.2022477>"
            ]
          },
          "metadata": {},
          "execution_count": 26
        }
      ]
    },
    {
      "cell_type": "code",
      "source": [
        "#\n",
        "#model = Sequential(\n",
        "#    [\n",
        "#     Dense(12, activation='relu', input_shape=(11,)),\n",
        "#     Dense(12, activation='relu'),\n",
        "#     Dense(training.size),\n",
        "#     ])\n",
        "#model.build(input_shape=(11,1))\n",
        "#model.compile(optimizer='sgd', loss='mse',metrics=['accuracy'])\n",
        "#model.summary()\n",
        "\n",
        "\n",
        "#model = tf.keras.Sequential([\n",
        "#    tf.keras.layers.Dense(12, activation='relu'),\n",
        "#    tf.keras.layers.Dense(8, activation='relu'),\n",
        "#    tf.keras.layers.Dense(1, activation='sigmoid')\n",
        "#])\n",
        "#model.build(input_shape=(13,2))\n",
        "#model.compile(optimizer='sgd', loss='mse',metrics=['accuracy'])\n",
        "#model.summary()\n",
        "\n"
      ],
      "metadata": {
        "id": "KaZ6GPZtHP0g"
      },
      "execution_count": 19,
      "outputs": []
    },
    {
      "cell_type": "code",
      "source": [
        "#num_epochs = 50\n",
        "#history = model.fit(training, labelsForTrain, epochs=num_epochs, validation_data=(validing, labelsForValid), verbose=2)"
      ],
      "metadata": {
        "id": "W_hXz3RpIuca"
      },
      "execution_count": 18,
      "outputs": []
    },
    {
      "cell_type": "code",
      "source": [
        "#vocab_size = 50000\n",
        "#embedding_dim = 16\n",
        "#max_length = 200\n",
        "#model = tf.keras.Sequential([\n",
        "#    tf.keras.layers.Embedding(vocab_size, embedding_dim, input_length=max_length),\n",
        "#    tf.keras.layers.Dense(24, activation='relu'),\n",
        "#    tf.keras.layers.Dense(8, activation='relu'),\n",
        "#    tf.keras.layers.Dense(1, activation='sigmoid')\n",
        "#])\n",
        "\n",
        "\n",
        "#model.compile(loss='binary_crossentropy',optimizer='adam',metrics=['accuracy'])\n",
        "#model.summary()"
      ],
      "metadata": {
        "id": "5UjvJjxlBhmg"
      },
      "execution_count": 20,
      "outputs": []
    },
    {
      "cell_type": "code",
      "execution_count": null,
      "metadata": {
        "id": "C2H53lwZz5SQ"
      },
      "outputs": [],
      "source": [
        "# Check list: \n",
        "#1. Review rating \n",
        "#2. Review Rating Extremity (?)\n",
        "#3. Word Count\n",
        "#4. User No of friends\n",
        "#5. User review count\n",
        "#6. User Age of account (months)\n",
        "#7. Restaurant avg. rating\n",
        "#8. Restaurant review count\n",
        "#9. Review text total sentiment polarity score of each sentence / total # sentences (need to be done)\n",
        "#10. Subjectivity score (subjective vs objective)\n",
        "#11. Readability"
      ]
    },
    {
      "cell_type": "markdown",
      "source": [
        "Below is the code for extracting the RGB data"
      ],
      "metadata": {
        "id": "KLptDhhn1k8T"
      }
    },
    {
      "cell_type": "code",
      "execution_count": null,
      "metadata": {
        "id": "oF_xA-tPQnlu",
        "colab": {
          "base_uri": "https://localhost:8080/"
        },
        "outputId": "8c6dc413-1082-420c-c007-9a2b5c49a165"
      },
      "outputs": [
        {
          "output_type": "stream",
          "name": "stdout",
          "text": [
            "oIlZM9LN-Ol_WfQQQpg0Zw.jpg\n"
          ]
        },
        {
          "output_type": "stream",
          "name": "stderr",
          "text": [
            "/usr/local/lib/python3.7/dist-packages/PIL/Image.py:1015: UserWarning: Couldn't allocate palette entry for transparency\n",
            "  warnings.warn(\"Couldn't allocate palette entry for transparency\")\n"
          ]
        },
        {
          "output_type": "stream",
          "name": "stdout",
          "text": [
            "0GJJhj1lh8V6zLeLkFwbyQ.jpg\n",
            "Va9Zo6Y6zrWzpm9iV4GXZw.jpg\n",
            "mKI1GpWQMs2rckjI3D9dhw.jpg\n",
            "2q_8hrvKQCFD18MyJzoVmw.jpg\n",
            "pm5uBNJCVRB3kZXq1eOyiA.jpg\n",
            "6qqRxbjA2HquZZnNQrvxEQ.jpg\n",
            "MDF6GetsTNRYWyIzzxea7A.jpg\n",
            "HNgnhFdN15zIw8HzsRzWOA.jpg\n",
            "Z7r1dYDC9eR6DQq01yGU-Q.jpg\n",
            "O8eLVHCthPJuv02-EY7GdA.jpg\n",
            "bWnSyaeOJgbykBL56ldM9w.jpg\n",
            "ogQp0M7B1OiS8AqP55eirQ.jpg\n",
            "A7FepQWBzC9eIXDUYImtbQ.jpg\n",
            "HyFN7L1PYIeTTBTY2-G6ZQ.jpg\n",
            "phGmoKO6rJpyQo8TDQofqQ.jpg\n",
            "Qi-lxakzwDIPVRFPyvMpUQ.jpg\n",
            "c9KWE6TeU4tRRkhxuYJCAQ.jpg\n",
            "NX1a9ZNo8a34RuALiBqROw.jpg\n",
            "lz-22DatK0pT7CkGLg7OgQ.jpg\n",
            "EhqaIciplglkJBPvufErUA.jpg\n",
            "JmWCtmZ1V3NrSTHs0mB4OA.jpg\n",
            "-_seY1mjA62XKXwi5FZGBQ.jpg\n",
            "Na1sCel7pdY2CRQnWBo84g.jpg\n",
            "QuxU8mtIK7P-glLX7kZmog.jpg\n"
          ]
        }
      ],
      "source": [
        "#with open('output_file.csv', 'w', newline='') as f_output:\n",
        " #   csv_output = csv.writer(f_output)\n",
        "  #  csv_output.writerow([\"img_name\", \"R\", \"G\", \"B\"])\n",
        "\n",
        "with open(\"RGB.json\", \"w\") as outfile:\n",
        "    for img_path in glob.glob(\"/content/drive/MyDrive/photos/*.jpg\"):\n",
        "    #img_path = '/content/drive/MyDrive/test/--3P3fjPrScy06XVLi4vhg.jpg'\n",
        "     try:\n",
        "      image = Image.open(img_path)\n",
        "      img_name = os.path.basename(img_path)\n",
        "      # Number of prime color we gonna extrace\n",
        "\n",
        "      num_colors=1\n",
        "\n",
        "      #Generate small image for calculation\n",
        "      small_image=image.resize((20,20))\n",
        "\n",
        "      result=small_image.convert('P',palette=Image.ADAPTIVE,colors=num_colors)\n",
        "      result=result.convert('RGB')\n",
        "\n",
        "      main_colors = result.getcolors(80*80)\n",
        "      main_rgb = main_colors[0][1]\n",
        "      #csv_output.writerows([img_name, map(lambda x: [x], main_rgb)])\n",
        "      # Data to be written\n",
        "      dictionary ={\n",
        "          \"r_name\": img_name,\n",
        "          \"R\": main_rgb[0],\n",
        "          \"G\": main_rgb[1],\n",
        "          \"B\": main_rgb[2]\n",
        "      }\n",
        "      outfile.write('\\n')\n",
        "      json.dump(dictionary, outfile)\n",
        "     except:\n",
        "      print(img_name)"
      ]
    },
    {
      "cell_type": "code",
      "source": [
        "#data= pd.read_json('/content/RGB.json', lines=True, orient='records')\n",
        "data= pd.read_json(open(\"/content/drive/MyDrive/RGB.json\", \"r\"), lines = True)\n",
        "data.head()"
      ],
      "metadata": {
        "colab": {
          "base_uri": "https://localhost:8080/",
          "height": 206
        },
        "id": "NicFdZ2Pa6SD",
        "outputId": "e1074f68-36a7-4dfa-bc04-09ad42646e32"
      },
      "execution_count": null,
      "outputs": [
        {
          "output_type": "execute_result",
          "data": {
            "text/plain": [
              "                 photo_id    R    G    B\n",
              "0  --0h6FMC0V8aMtKQylojEg  108   97   87\n",
              "1  --3JQ4MlO-jHT9xbo7liug  165  134  122\n",
              "2  --3P3fjPrScy06XVLi4vhg  119  101   82\n",
              "3  --4DfhW2sJvjeC90KEDX3g  139  126  111\n",
              "4  --5V3mRlhb3zqE5yF4Gpaw  108   98   88"
            ],
            "text/html": [
              "\n",
              "  <div id=\"df-13ecb7b3-19ea-49b2-b37e-4417bc1d688d\">\n",
              "    <div class=\"colab-df-container\">\n",
              "      <div>\n",
              "<style scoped>\n",
              "    .dataframe tbody tr th:only-of-type {\n",
              "        vertical-align: middle;\n",
              "    }\n",
              "\n",
              "    .dataframe tbody tr th {\n",
              "        vertical-align: top;\n",
              "    }\n",
              "\n",
              "    .dataframe thead th {\n",
              "        text-align: right;\n",
              "    }\n",
              "</style>\n",
              "<table border=\"1\" class=\"dataframe\">\n",
              "  <thead>\n",
              "    <tr style=\"text-align: right;\">\n",
              "      <th></th>\n",
              "      <th>photo_id</th>\n",
              "      <th>R</th>\n",
              "      <th>G</th>\n",
              "      <th>B</th>\n",
              "    </tr>\n",
              "  </thead>\n",
              "  <tbody>\n",
              "    <tr>\n",
              "      <th>0</th>\n",
              "      <td>--0h6FMC0V8aMtKQylojEg</td>\n",
              "      <td>108</td>\n",
              "      <td>97</td>\n",
              "      <td>87</td>\n",
              "    </tr>\n",
              "    <tr>\n",
              "      <th>1</th>\n",
              "      <td>--3JQ4MlO-jHT9xbo7liug</td>\n",
              "      <td>165</td>\n",
              "      <td>134</td>\n",
              "      <td>122</td>\n",
              "    </tr>\n",
              "    <tr>\n",
              "      <th>2</th>\n",
              "      <td>--3P3fjPrScy06XVLi4vhg</td>\n",
              "      <td>119</td>\n",
              "      <td>101</td>\n",
              "      <td>82</td>\n",
              "    </tr>\n",
              "    <tr>\n",
              "      <th>3</th>\n",
              "      <td>--4DfhW2sJvjeC90KEDX3g</td>\n",
              "      <td>139</td>\n",
              "      <td>126</td>\n",
              "      <td>111</td>\n",
              "    </tr>\n",
              "    <tr>\n",
              "      <th>4</th>\n",
              "      <td>--5V3mRlhb3zqE5yF4Gpaw</td>\n",
              "      <td>108</td>\n",
              "      <td>98</td>\n",
              "      <td>88</td>\n",
              "    </tr>\n",
              "  </tbody>\n",
              "</table>\n",
              "</div>\n",
              "      <button class=\"colab-df-convert\" onclick=\"convertToInteractive('df-13ecb7b3-19ea-49b2-b37e-4417bc1d688d')\"\n",
              "              title=\"Convert this dataframe to an interactive table.\"\n",
              "              style=\"display:none;\">\n",
              "        \n",
              "  <svg xmlns=\"http://www.w3.org/2000/svg\" height=\"24px\"viewBox=\"0 0 24 24\"\n",
              "       width=\"24px\">\n",
              "    <path d=\"M0 0h24v24H0V0z\" fill=\"none\"/>\n",
              "    <path d=\"M18.56 5.44l.94 2.06.94-2.06 2.06-.94-2.06-.94-.94-2.06-.94 2.06-2.06.94zm-11 1L8.5 8.5l.94-2.06 2.06-.94-2.06-.94L8.5 2.5l-.94 2.06-2.06.94zm10 10l.94 2.06.94-2.06 2.06-.94-2.06-.94-.94-2.06-.94 2.06-2.06.94z\"/><path d=\"M17.41 7.96l-1.37-1.37c-.4-.4-.92-.59-1.43-.59-.52 0-1.04.2-1.43.59L10.3 9.45l-7.72 7.72c-.78.78-.78 2.05 0 2.83L4 21.41c.39.39.9.59 1.41.59.51 0 1.02-.2 1.41-.59l7.78-7.78 2.81-2.81c.8-.78.8-2.07 0-2.86zM5.41 20L4 18.59l7.72-7.72 1.47 1.35L5.41 20z\"/>\n",
              "  </svg>\n",
              "      </button>\n",
              "      \n",
              "  <style>\n",
              "    .colab-df-container {\n",
              "      display:flex;\n",
              "      flex-wrap:wrap;\n",
              "      gap: 12px;\n",
              "    }\n",
              "\n",
              "    .colab-df-convert {\n",
              "      background-color: #E8F0FE;\n",
              "      border: none;\n",
              "      border-radius: 50%;\n",
              "      cursor: pointer;\n",
              "      display: none;\n",
              "      fill: #1967D2;\n",
              "      height: 32px;\n",
              "      padding: 0 0 0 0;\n",
              "      width: 32px;\n",
              "    }\n",
              "\n",
              "    .colab-df-convert:hover {\n",
              "      background-color: #E2EBFA;\n",
              "      box-shadow: 0px 1px 2px rgba(60, 64, 67, 0.3), 0px 1px 3px 1px rgba(60, 64, 67, 0.15);\n",
              "      fill: #174EA6;\n",
              "    }\n",
              "\n",
              "    [theme=dark] .colab-df-convert {\n",
              "      background-color: #3B4455;\n",
              "      fill: #D2E3FC;\n",
              "    }\n",
              "\n",
              "    [theme=dark] .colab-df-convert:hover {\n",
              "      background-color: #434B5C;\n",
              "      box-shadow: 0px 1px 3px 1px rgba(0, 0, 0, 0.15);\n",
              "      filter: drop-shadow(0px 1px 2px rgba(0, 0, 0, 0.3));\n",
              "      fill: #FFFFFF;\n",
              "    }\n",
              "  </style>\n",
              "\n",
              "      <script>\n",
              "        const buttonEl =\n",
              "          document.querySelector('#df-13ecb7b3-19ea-49b2-b37e-4417bc1d688d button.colab-df-convert');\n",
              "        buttonEl.style.display =\n",
              "          google.colab.kernel.accessAllowed ? 'block' : 'none';\n",
              "\n",
              "        async function convertToInteractive(key) {\n",
              "          const element = document.querySelector('#df-13ecb7b3-19ea-49b2-b37e-4417bc1d688d');\n",
              "          const dataTable =\n",
              "            await google.colab.kernel.invokeFunction('convertToInteractive',\n",
              "                                                     [key], {});\n",
              "          if (!dataTable) return;\n",
              "\n",
              "          const docLinkHtml = 'Like what you see? Visit the ' +\n",
              "            '<a target=\"_blank\" href=https://colab.research.google.com/notebooks/data_table.ipynb>data table notebook</a>'\n",
              "            + ' to learn more about interactive tables.';\n",
              "          element.innerHTML = '';\n",
              "          dataTable['output_type'] = 'display_data';\n",
              "          await google.colab.output.renderOutput(dataTable, element);\n",
              "          const docLink = document.createElement('div');\n",
              "          docLink.innerHTML = docLinkHtml;\n",
              "          element.appendChild(docLink);\n",
              "        }\n",
              "      </script>\n",
              "    </div>\n",
              "  </div>\n",
              "  "
            ]
          },
          "metadata": {},
          "execution_count": 5
        }
      ]
    },
    {
      "cell_type": "code",
      "source": [
        "from google.colab import drive\n",
        "drive.mount('/content/drive')"
      ],
      "metadata": {
        "colab": {
          "base_uri": "https://localhost:8080/"
        },
        "id": "Fox6mPzwNcEn",
        "outputId": "e80f6572-9116-41e9-c459-cae4f5da2a71"
      },
      "execution_count": null,
      "outputs": [
        {
          "output_type": "stream",
          "name": "stdout",
          "text": [
            "Mounted at /content/drive\n"
          ]
        }
      ]
    },
    {
      "cell_type": "code",
      "source": [
        "for filename in glob.glob(\"/content/drive/MyDrive/test/20GZaQkAup3g1U9ENd-bcQ.jpg\"):\n",
        "    image = Image.open(filename) \n",
        "    img_name = os.path.basename(filename)\n",
        "    ## Number of prime color we gonna extrace\n",
        "    num_colors=1\n",
        "\n",
        "    #Generate small image for calculation\n",
        "    small_image=image.resize((20,20))\n",
        "\n",
        "    result=small_image.convert('P',colors=num_colors)\n",
        "    result=result.convert('RGB')\n",
        "\n",
        "    main_colors = result.getcolors(20*20)\n",
        "    main_rgb = main_colors[0][1]\n",
        "    print(main_rgb)\n"
      ],
      "metadata": {
        "colab": {
          "base_uri": "https://localhost:8080/"
        },
        "id": "l7gMcGo6XCX1",
        "outputId": "6ddcf993-aa7b-4265-9321-1400f22c11c9"
      },
      "execution_count": 33,
      "outputs": [
        {
          "output_type": "stream",
          "name": "stdout",
          "text": [
            "(255, 51, 51)\n"
          ]
        }
      ]
    },
    {
      "cell_type": "code",
      "execution_count": null,
      "metadata": {
        "id": "v6r6J7JyMHiW",
        "colab": {
          "base_uri": "https://localhost:8080/"
        },
        "outputId": "1db61346-b4bd-48b3-85d1-64b4e68481a5"
      },
      "outputs": [
        {
          "output_type": "stream",
          "name": "stdout",
          "text": [
            "--3JQ4MlO-jHT9xbo7liug.jpg, Width 400, Height 400\n"
          ]
        }
      ],
      "source": [
        "#Open a file to write the pixel data\n",
        "from itertools import product\n",
        "from PIL import Image\n",
        "import glob\n",
        "import os\n",
        "import csv\n",
        "\n",
        "#Open a file to write the pixel data\n",
        "with open('output_file.csv', 'w', newline='') as f_output:\n",
        "    csv_output = csv.writer(f_output)\n",
        "    csv_output.writerow([\"img_name\", \"R\", \"G\", \"B\"])\n",
        "\n",
        "    #Path to file \n",
        "    for filename in glob.glob(\"*.jpg\"):\n",
        "        im = Image.open(filename) \n",
        "        img_name = os.path.basename(filename)\n",
        "\n",
        "        #Load the pixel info\n",
        "        pix = im.load()\n",
        "\n",
        "        #Get a tuple of the x and y dimensions of the image\n",
        "        width, height = im.size\n",
        "\n",
        "        print(f'{filename}, Width {width}, Height {height}') # show \n",
        "\n",
        "        #Read the details of each pixel and write them to the file\n",
        "        csv_output.writerows([img_name, *pix[x,y]] for x, y in product(range(width), range(height)))"
      ]
    },
    {
      "cell_type": "code",
      "source": [
        ""
      ],
      "metadata": {
        "id": "M5QZtzWyOcBb"
      },
      "execution_count": null,
      "outputs": []
    },
    {
      "cell_type": "code",
      "execution_count": null,
      "metadata": {
        "colab": {
          "base_uri": "https://localhost:8080/"
        },
        "id": "4y2fruRzJylA",
        "outputId": "abc55ec4-9a3f-4599-ccf2-c51750f37ee5"
      },
      "outputs": [
        {
          "name": "stdout",
          "output_type": "stream",
          "text": [
            "Drive already mounted at /content/drive; to attempt to forcibly remount, call drive.mount(\"/content/drive\", force_remount=True).\n"
          ]
        }
      ],
      "source": [
        ""
      ]
    }
  ],
  "metadata": {
    "accelerator": "TPU",
    "colab": {
      "machine_shape": "hm",
      "name": "ExtractRGB/BasicNN.ipynb",
      "provenance": [],
      "collapsed_sections": []
    },
    "gpuClass": "standard",
    "kernelspec": {
      "display_name": "Python 3",
      "name": "python3"
    },
    "language_info": {
      "name": "python"
    }
  },
  "nbformat": 4,
  "nbformat_minor": 0
}