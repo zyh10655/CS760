{
 "cells": [
  {
   "cell_type": "code",
   "execution_count": 1,
   "metadata": {},
   "outputs": [],
   "source": [
    "from pathlib import Path\n",
    "import pandas as pd"
   ]
  },
  {
   "cell_type": "code",
   "execution_count": 2,
   "metadata": {},
   "outputs": [],
   "source": [
    "DATA_DIR = Path(\"../ready_data\")\n",
    "\n",
    "df_train = pd.read_parquet(DATA_DIR/\"100K35F_train_main.parquet.snappy\")\n",
    "df_val = pd.read_parquet(DATA_DIR/\"100K35F_val_main.parquet.snappy\")\n",
    "df_test = pd.read_parquet(DATA_DIR/\"100K35F_test_main.parquet.snappy\")"
   ]
  },
  {
   "cell_type": "code",
   "execution_count": 3,
   "metadata": {},
   "outputs": [],
   "source": [
    "features = [\"r_id\", \"r_stars\", \"r_stars_square\", \"r_length\",\n",
    "    \"u_friends_count\", \"u_review_count\", \"u_month_age\",\n",
    "    \"b_stars\", \"b_review_count\",\n",
    "    \"r_sen\", \"r_sub\", \"r_rea\", \"r_useful\"]"
   ]
  },
  {
   "cell_type": "code",
   "execution_count": 4,
   "metadata": {},
   "outputs": [],
   "source": [
    "df_train = df_train[features]\n",
    "df_val = df_val[features]\n",
    "df_test = df_test[features]"
   ]
  },
  {
   "cell_type": "code",
   "execution_count": 5,
   "metadata": {},
   "outputs": [],
   "source": [
    "# save output\n",
    "df_train.to_parquet(DATA_DIR/\"100K11F_train_main.parquet.snappy\", index=False)\n",
    "df_val.to_parquet(DATA_DIR/\"100K11F_val_main.parquet.snappy\", index=False)\n",
    "df_test.to_parquet(DATA_DIR/\"100K11F_test_main.parquet.snappy\", index=False)"
   ]
  },
  {
   "cell_type": "code",
   "execution_count": 6,
   "metadata": {},
   "outputs": [
    {
     "data": {
      "text/html": [
       "<div>\n",
       "<style scoped>\n",
       "    .dataframe tbody tr th:only-of-type {\n",
       "        vertical-align: middle;\n",
       "    }\n",
       "\n",
       "    .dataframe tbody tr th {\n",
       "        vertical-align: top;\n",
       "    }\n",
       "\n",
       "    .dataframe thead th {\n",
       "        text-align: right;\n",
       "    }\n",
       "</style>\n",
       "<table border=\"1\" class=\"dataframe\">\n",
       "  <thead>\n",
       "    <tr style=\"text-align: right;\">\n",
       "      <th></th>\n",
       "      <th>r_id</th>\n",
       "      <th>r_stars</th>\n",
       "      <th>r_stars_square</th>\n",
       "      <th>r_length</th>\n",
       "      <th>u_friends_count</th>\n",
       "      <th>u_review_count</th>\n",
       "      <th>u_month_age</th>\n",
       "      <th>b_stars</th>\n",
       "      <th>b_review_count</th>\n",
       "      <th>r_sen</th>\n",
       "      <th>r_sub</th>\n",
       "      <th>r_rea</th>\n",
       "      <th>r_useful</th>\n",
       "    </tr>\n",
       "  </thead>\n",
       "  <tbody>\n",
       "    <tr>\n",
       "      <th>0</th>\n",
       "      <td>2486117</td>\n",
       "      <td>5</td>\n",
       "      <td>25</td>\n",
       "      <td>41</td>\n",
       "      <td>1</td>\n",
       "      <td>8</td>\n",
       "      <td>35.657224</td>\n",
       "      <td>1.5</td>\n",
       "      <td>13</td>\n",
       "      <td>0.099375</td>\n",
       "      <td>0.460000</td>\n",
       "      <td>74.49</td>\n",
       "      <td>2</td>\n",
       "    </tr>\n",
       "    <tr>\n",
       "      <th>1</th>\n",
       "      <td>3238107</td>\n",
       "      <td>5</td>\n",
       "      <td>25</td>\n",
       "      <td>64</td>\n",
       "      <td>174</td>\n",
       "      <td>247</td>\n",
       "      <td>1.024218</td>\n",
       "      <td>3.5</td>\n",
       "      <td>77</td>\n",
       "      <td>0.300000</td>\n",
       "      <td>0.260000</td>\n",
       "      <td>75.61</td>\n",
       "      <td>2</td>\n",
       "    </tr>\n",
       "    <tr>\n",
       "      <th>2</th>\n",
       "      <td>5581800</td>\n",
       "      <td>5</td>\n",
       "      <td>25</td>\n",
       "      <td>239</td>\n",
       "      <td>525</td>\n",
       "      <td>603</td>\n",
       "      <td>125.863690</td>\n",
       "      <td>4.0</td>\n",
       "      <td>1646</td>\n",
       "      <td>0.202032</td>\n",
       "      <td>0.444942</td>\n",
       "      <td>84.17</td>\n",
       "      <td>3</td>\n",
       "    </tr>\n",
       "    <tr>\n",
       "      <th>3</th>\n",
       "      <td>5953680</td>\n",
       "      <td>4</td>\n",
       "      <td>16</td>\n",
       "      <td>129</td>\n",
       "      <td>130</td>\n",
       "      <td>183</td>\n",
       "      <td>129.975625</td>\n",
       "      <td>4.5</td>\n",
       "      <td>356</td>\n",
       "      <td>0.129097</td>\n",
       "      <td>0.444861</td>\n",
       "      <td>83.76</td>\n",
       "      <td>4</td>\n",
       "    </tr>\n",
       "    <tr>\n",
       "      <th>4</th>\n",
       "      <td>2208283</td>\n",
       "      <td>1</td>\n",
       "      <td>1</td>\n",
       "      <td>537</td>\n",
       "      <td>223</td>\n",
       "      <td>1</td>\n",
       "      <td>0.000111</td>\n",
       "      <td>3.5</td>\n",
       "      <td>375</td>\n",
       "      <td>0.014266</td>\n",
       "      <td>0.300989</td>\n",
       "      <td>76.86</td>\n",
       "      <td>6</td>\n",
       "    </tr>\n",
       "  </tbody>\n",
       "</table>\n",
       "</div>"
      ],
      "text/plain": [
       "      r_id  r_stars  r_stars_square  r_length  u_friends_count  \\\n",
       "0  2486117        5              25        41                1   \n",
       "1  3238107        5              25        64              174   \n",
       "2  5581800        5              25       239              525   \n",
       "3  5953680        4              16       129              130   \n",
       "4  2208283        1               1       537              223   \n",
       "\n",
       "   u_review_count  u_month_age  b_stars  b_review_count     r_sen     r_sub  \\\n",
       "0               8    35.657224      1.5              13  0.099375  0.460000   \n",
       "1             247     1.024218      3.5              77  0.300000  0.260000   \n",
       "2             603   125.863690      4.0            1646  0.202032  0.444942   \n",
       "3             183   129.975625      4.5             356  0.129097  0.444861   \n",
       "4               1     0.000111      3.5             375  0.014266  0.300989   \n",
       "\n",
       "   r_rea  r_useful  \n",
       "0  74.49         2  \n",
       "1  75.61         2  \n",
       "2  84.17         3  \n",
       "3  83.76         4  \n",
       "4  76.86         6  "
      ]
     },
     "execution_count": 6,
     "metadata": {},
     "output_type": "execute_result"
    }
   ],
   "source": [
    "df_train.head()"
   ]
  }
 ],
 "metadata": {
  "kernelspec": {
   "display_name": "Python 3.10.6 ('CS760')",
   "language": "python",
   "name": "python3"
  },
  "language_info": {
   "codemirror_mode": {
    "name": "ipython",
    "version": 3
   },
   "file_extension": ".py",
   "mimetype": "text/x-python",
   "name": "python",
   "nbconvert_exporter": "python",
   "pygments_lexer": "ipython3",
   "version": "3.10.6"
  },
  "orig_nbformat": 4,
  "vscode": {
   "interpreter": {
    "hash": "d275a923d824725c8a5a1bac7b1c3fb204380710405e1dc55a9cc47165ea62c6"
   }
  }
 },
 "nbformat": 4,
 "nbformat_minor": 2
}
