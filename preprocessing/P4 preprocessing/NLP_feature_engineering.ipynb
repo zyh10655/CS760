{
 "cells": [
  {
   "cell_type": "markdown",
   "id": "a702b4f9",
   "metadata": {},
   "source": [
    "## Engineer New NLP Features\n",
    "\n",
    "Author(s): Anthony, Sheffin"
   ]
  },
  {
   "cell_type": "code",
   "execution_count": 1,
   "id": "dadc8647",
   "metadata": {},
   "outputs": [],
   "source": [
    "from pathlib import Path\n",
    "import pandas as pd\n",
    "import numpy as np\n",
    "import time\n",
    "import nltk\n",
    "import string\n",
    "from nltk.corpus import stopwords\n",
    "from textblob import TextBlob\n",
    "import seaborn as sns\n",
    "import matplotlib.pyplot as plt\n",
    "import spacy\n",
    "import re\n",
    "from tqdm import tqdm\n",
    "tqdm.pandas()\n",
    "import collections\n",
    "import en_core_web_sm\n",
    "from nltk.tokenize import word_tokenize\n",
    "stop = stopwords.words('english')\n",
    "sp = spacy.load(\"en_core_web_sm\")\n",
    "import swifter"
   ]
  },
  {
   "cell_type": "code",
   "execution_count": 2,
   "id": "f19c5d19",
   "metadata": {},
   "outputs": [
    {
     "data": {
      "text/plain": [
       "PosixPath('/Users/Sheffin/COMPSCI760')"
      ]
     },
     "execution_count": 2,
     "metadata": {},
     "output_type": "execute_result"
    }
   ],
   "source": [
    "CWD = Path.cwd()\n",
    "CWD"
   ]
  },
  {
   "cell_type": "code",
   "execution_count": 3,
   "id": "0302070d",
   "metadata": {},
   "outputs": [
    {
     "name": "stdout",
     "output_type": "stream",
     "text": [
      "/Users/Sheffin/COMPSCI760/Datasets\n"
     ]
    }
   ],
   "source": [
    "CWD = Path.cwd()\n",
    "DATA_DIR = CWD / \"Datasets\"\n",
    "print(DATA_DIR)"
   ]
  },
  {
   "cell_type": "code",
   "execution_count": 4,
   "id": "468d8bd4",
   "metadata": {},
   "outputs": [
    {
     "data": {
      "text/html": [
       "<div>\n",
       "<style scoped>\n",
       "    .dataframe tbody tr th:only-of-type {\n",
       "        vertical-align: middle;\n",
       "    }\n",
       "\n",
       "    .dataframe tbody tr th {\n",
       "        vertical-align: top;\n",
       "    }\n",
       "\n",
       "    .dataframe thead th {\n",
       "        text-align: right;\n",
       "    }\n",
       "</style>\n",
       "<table border=\"1\" class=\"dataframe\">\n",
       "  <thead>\n",
       "    <tr style=\"text-align: right;\">\n",
       "      <th></th>\n",
       "      <th>r_id</th>\n",
       "      <th>r_useful</th>\n",
       "      <th>r_text</th>\n",
       "    </tr>\n",
       "  </thead>\n",
       "  <tbody>\n",
       "    <tr>\n",
       "      <th>0</th>\n",
       "      <td>2235679</td>\n",
       "      <td>1</td>\n",
       "      <td>Like buns ? \\nEat here . \\nSeriously , this is...</td>\n",
       "    </tr>\n",
       "    <tr>\n",
       "      <th>1</th>\n",
       "      <td>6902682</td>\n",
       "      <td>1</td>\n",
       "      <td>Sadly the best thing about this place was the ...</td>\n",
       "    </tr>\n",
       "    <tr>\n",
       "      <th>2</th>\n",
       "      <td>1590330</td>\n",
       "      <td>1</td>\n",
       "      <td>On my recent visit to New Orleans I met up wit...</td>\n",
       "    </tr>\n",
       "    <tr>\n",
       "      <th>3</th>\n",
       "      <td>6289537</td>\n",
       "      <td>1</td>\n",
       "      <td>My husband likes to come here. I really don't....</td>\n",
       "    </tr>\n",
       "    <tr>\n",
       "      <th>4</th>\n",
       "      <td>2112180</td>\n",
       "      <td>1</td>\n",
       "      <td>Yes to everything!!! The ribs, the pulled pork...</td>\n",
       "    </tr>\n",
       "    <tr>\n",
       "      <th>...</th>\n",
       "      <td>...</td>\n",
       "      <td>...</td>\n",
       "      <td>...</td>\n",
       "    </tr>\n",
       "    <tr>\n",
       "      <th>99995</th>\n",
       "      <td>2017374</td>\n",
       "      <td>1</td>\n",
       "      <td>Hands down the best PoBoys in Nola!! The delic...</td>\n",
       "    </tr>\n",
       "    <tr>\n",
       "      <th>99996</th>\n",
       "      <td>5277542</td>\n",
       "      <td>1</td>\n",
       "      <td>I stopped for a pre-flight lunch at the locati...</td>\n",
       "    </tr>\n",
       "    <tr>\n",
       "      <th>99997</th>\n",
       "      <td>5002546</td>\n",
       "      <td>1</td>\n",
       "      <td>Enjoyed the food, service was good, I just wis...</td>\n",
       "    </tr>\n",
       "    <tr>\n",
       "      <th>99998</th>\n",
       "      <td>2865497</td>\n",
       "      <td>1</td>\n",
       "      <td>I went to Booking.com and booked a suite at th...</td>\n",
       "    </tr>\n",
       "    <tr>\n",
       "      <th>99999</th>\n",
       "      <td>2199674</td>\n",
       "      <td>2</td>\n",
       "      <td>The White Magnolia was the first and last brid...</td>\n",
       "    </tr>\n",
       "  </tbody>\n",
       "</table>\n",
       "<p>100000 rows × 3 columns</p>\n",
       "</div>"
      ],
      "text/plain": [
       "          r_id  r_useful                                             r_text\n",
       "0      2235679         1  Like buns ? \\nEat here . \\nSeriously , this is...\n",
       "1      6902682         1  Sadly the best thing about this place was the ...\n",
       "2      1590330         1  On my recent visit to New Orleans I met up wit...\n",
       "3      6289537         1  My husband likes to come here. I really don't....\n",
       "4      2112180         1  Yes to everything!!! The ribs, the pulled pork...\n",
       "...        ...       ...                                                ...\n",
       "99995  2017374         1  Hands down the best PoBoys in Nola!! The delic...\n",
       "99996  5277542         1  I stopped for a pre-flight lunch at the locati...\n",
       "99997  5002546         1  Enjoyed the food, service was good, I just wis...\n",
       "99998  2865497         1  I went to Booking.com and booked a suite at th...\n",
       "99999  2199674         2  The White Magnolia was the first and last brid...\n",
       "\n",
       "[100000 rows x 3 columns]"
      ]
     },
     "execution_count": 4,
     "metadata": {},
     "output_type": "execute_result"
    }
   ],
   "source": [
    "df_train = pd.read_parquet(DATA_DIR/\"100K18F_train_text.parquet.snappy\")\n",
    "df_test = pd.read_parquet(DATA_DIR/\"100K18F_test_text.parquet.snappy\")\n",
    "text_df = pd.concat([df_train, df_test], ignore_index=True)\n",
    "text_df"
   ]
  },
  {
   "cell_type": "code",
   "execution_count": 5,
   "id": "53dcb40d",
   "metadata": {
    "scrolled": true
   },
   "outputs": [
    {
     "data": {
      "text/plain": [
       "0        Like buns ? \\nEat here . \\nSeriously , this is...\n",
       "1        Sadly the best thing about this place was the ...\n",
       "2        On my recent visit to New Orleans I met up wit...\n",
       "3        My husband likes to come here. I really don't....\n",
       "4        Yes to everything!!! The ribs, the pulled pork...\n",
       "                               ...                        \n",
       "99995    Hands down the best PoBoys in Nola!! The delic...\n",
       "99996    I stopped for a pre-flight lunch at the locati...\n",
       "99997    Enjoyed the food, service was good, I just wis...\n",
       "99998    I went to Booking.com and booked a suite at th...\n",
       "99999    The White Magnolia was the first and last brid...\n",
       "Name: r_text, Length: 100000, dtype: object"
      ]
     },
     "execution_count": 5,
     "metadata": {},
     "output_type": "execute_result"
    }
   ],
   "source": [
    "text = text_df[\"r_text\"]\n",
    "text"
   ]
  },
  {
   "cell_type": "markdown",
   "id": "e3d98684",
   "metadata": {},
   "source": [
    "### 1. Number of Words"
   ]
  },
  {
   "cell_type": "code",
   "execution_count": 6,
   "id": "fedc9232",
   "metadata": {},
   "outputs": [
    {
     "data": {
      "text/html": [
       "<div>\n",
       "<style scoped>\n",
       "    .dataframe tbody tr th:only-of-type {\n",
       "        vertical-align: middle;\n",
       "    }\n",
       "\n",
       "    .dataframe tbody tr th {\n",
       "        vertical-align: top;\n",
       "    }\n",
       "\n",
       "    .dataframe thead th {\n",
       "        text-align: right;\n",
       "    }\n",
       "</style>\n",
       "<table border=\"1\" class=\"dataframe\">\n",
       "  <thead>\n",
       "    <tr style=\"text-align: right;\">\n",
       "      <th></th>\n",
       "      <th>r_id</th>\n",
       "      <th>r_useful</th>\n",
       "      <th>r_text</th>\n",
       "      <th>r_word_cnt</th>\n",
       "    </tr>\n",
       "  </thead>\n",
       "  <tbody>\n",
       "    <tr>\n",
       "      <th>0</th>\n",
       "      <td>2235679</td>\n",
       "      <td>1</td>\n",
       "      <td>Like buns ? \\nEat here . \\nSeriously , this is...</td>\n",
       "      <td>71</td>\n",
       "    </tr>\n",
       "    <tr>\n",
       "      <th>1</th>\n",
       "      <td>6902682</td>\n",
       "      <td>1</td>\n",
       "      <td>Sadly the best thing about this place was the ...</td>\n",
       "      <td>206</td>\n",
       "    </tr>\n",
       "    <tr>\n",
       "      <th>2</th>\n",
       "      <td>1590330</td>\n",
       "      <td>1</td>\n",
       "      <td>On my recent visit to New Orleans I met up wit...</td>\n",
       "      <td>596</td>\n",
       "    </tr>\n",
       "    <tr>\n",
       "      <th>3</th>\n",
       "      <td>6289537</td>\n",
       "      <td>1</td>\n",
       "      <td>My husband likes to come here. I really don't....</td>\n",
       "      <td>43</td>\n",
       "    </tr>\n",
       "    <tr>\n",
       "      <th>4</th>\n",
       "      <td>2112180</td>\n",
       "      <td>1</td>\n",
       "      <td>Yes to everything!!! The ribs, the pulled pork...</td>\n",
       "      <td>26</td>\n",
       "    </tr>\n",
       "  </tbody>\n",
       "</table>\n",
       "</div>"
      ],
      "text/plain": [
       "      r_id  r_useful                                             r_text  \\\n",
       "0  2235679         1  Like buns ? \\nEat here . \\nSeriously , this is...   \n",
       "1  6902682         1  Sadly the best thing about this place was the ...   \n",
       "2  1590330         1  On my recent visit to New Orleans I met up wit...   \n",
       "3  6289537         1  My husband likes to come here. I really don't....   \n",
       "4  2112180         1  Yes to everything!!! The ribs, the pulled pork...   \n",
       "\n",
       "   r_word_cnt  \n",
       "0          71  \n",
       "1         206  \n",
       "2         596  \n",
       "3          43  \n",
       "4          26  "
      ]
     },
     "execution_count": 6,
     "metadata": {},
     "output_type": "execute_result"
    }
   ],
   "source": [
    "def word_count(text):\n",
    "    return len(text.split())\n",
    "\n",
    "text_df['r_word_cnt'] = text_df[\"r_text\"].apply(lambda x:word_count(x))\n",
    "text_df.head()"
   ]
  },
  {
   "cell_type": "code",
   "execution_count": 7,
   "id": "0cd2e537",
   "metadata": {
    "scrolled": true
   },
   "outputs": [
    {
     "data": {
      "text/plain": [
       "<AxesSubplot:xlabel='r_word_cnt', ylabel='Density'>"
      ]
     },
     "execution_count": 7,
     "metadata": {},
     "output_type": "execute_result"
    },
    {
     "data": {
      "image/png": "[encoded data removed]",
      "text/plain": [
       "<Figure size 432x288 with 1 Axes>"
      ]
     },
     "metadata": {
      "needs_background": "light"
     },
     "output_type": "display_data"
    }
   ],
   "source": [
    "sns.distplot(text_df['r_word_cnt'])"
   ]
  },
  {
   "cell_type": "markdown",
   "id": "37e1527b",
   "metadata": {},
   "source": [
    "### 2. Number of Characters"
   ]
  },
  {
   "cell_type": "code",
   "execution_count": 8,
   "id": "c0f94170",
   "metadata": {
    "scrolled": true
   },
   "outputs": [
    {
     "data": {
      "text/html": [
       "<div>\n",
       "<style scoped>\n",
       "    .dataframe tbody tr th:only-of-type {\n",
       "        vertical-align: middle;\n",
       "    }\n",
       "\n",
       "    .dataframe tbody tr th {\n",
       "        vertical-align: top;\n",
       "    }\n",
       "\n",
       "    .dataframe thead th {\n",
       "        text-align: right;\n",
       "    }\n",
       "</style>\n",
       "<table border=\"1\" class=\"dataframe\">\n",
       "  <thead>\n",
       "    <tr style=\"text-align: right;\">\n",
       "      <th></th>\n",
       "      <th>r_id</th>\n",
       "      <th>r_useful</th>\n",
       "      <th>r_text</th>\n",
       "      <th>r_word_cnt</th>\n",
       "      <th>r_character_cnt</th>\n",
       "    </tr>\n",
       "  </thead>\n",
       "  <tbody>\n",
       "    <tr>\n",
       "      <th>0</th>\n",
       "      <td>2235679</td>\n",
       "      <td>1</td>\n",
       "      <td>Like buns ? \\nEat here . \\nSeriously , this is...</td>\n",
       "      <td>71</td>\n",
       "      <td>393</td>\n",
       "    </tr>\n",
       "    <tr>\n",
       "      <th>1</th>\n",
       "      <td>6902682</td>\n",
       "      <td>1</td>\n",
       "      <td>Sadly the best thing about this place was the ...</td>\n",
       "      <td>206</td>\n",
       "      <td>1147</td>\n",
       "    </tr>\n",
       "    <tr>\n",
       "      <th>2</th>\n",
       "      <td>1590330</td>\n",
       "      <td>1</td>\n",
       "      <td>On my recent visit to New Orleans I met up wit...</td>\n",
       "      <td>596</td>\n",
       "      <td>3130</td>\n",
       "    </tr>\n",
       "    <tr>\n",
       "      <th>3</th>\n",
       "      <td>6289537</td>\n",
       "      <td>1</td>\n",
       "      <td>My husband likes to come here. I really don't....</td>\n",
       "      <td>43</td>\n",
       "      <td>226</td>\n",
       "    </tr>\n",
       "    <tr>\n",
       "      <th>4</th>\n",
       "      <td>2112180</td>\n",
       "      <td>1</td>\n",
       "      <td>Yes to everything!!! The ribs, the pulled pork...</td>\n",
       "      <td>26</td>\n",
       "      <td>144</td>\n",
       "    </tr>\n",
       "  </tbody>\n",
       "</table>\n",
       "</div>"
      ],
      "text/plain": [
       "      r_id  r_useful                                             r_text  \\\n",
       "0  2235679         1  Like buns ? \\nEat here . \\nSeriously , this is...   \n",
       "1  6902682         1  Sadly the best thing about this place was the ...   \n",
       "2  1590330         1  On my recent visit to New Orleans I met up wit...   \n",
       "3  6289537         1  My husband likes to come here. I really don't....   \n",
       "4  2112180         1  Yes to everything!!! The ribs, the pulled pork...   \n",
       "\n",
       "   r_word_cnt  r_character_cnt  \n",
       "0          71              393  \n",
       "1         206             1147  \n",
       "2         596             3130  \n",
       "3          43              226  \n",
       "4          26              144  "
      ]
     },
     "execution_count": 8,
     "metadata": {},
     "output_type": "execute_result"
    }
   ],
   "source": [
    "text_df['r_character_cnt'] = text_df['r_text'].str.len()\n",
    "text_df.head()"
   ]
  },
  {
   "cell_type": "code",
   "execution_count": 9,
   "id": "6823a487",
   "metadata": {},
   "outputs": [
    {
     "data": {
      "text/plain": [
       "<AxesSubplot:xlabel='r_character_cnt', ylabel='Density'>"
      ]
     },
     "execution_count": 9,
     "metadata": {},
     "output_type": "execute_result"
    },
    {
     "data": {
      "image/png": "[encoded data removed]",
      "text/plain": [
       "<Figure size 432x288 with 1 Axes>"
      ]
     },
     "metadata": {
      "needs_background": "light"
     },
     "output_type": "display_data"
    }
   ],
   "source": [
    "sns.distplot(text_df['r_character_cnt'])"
   ]
  },
  {
   "cell_type": "markdown",
   "id": "5b4c59a8",
   "metadata": {},
   "source": [
    "### 3.  Number of sentences"
   ]
  },
  {
   "cell_type": "code",
   "execution_count": 10,
   "id": "b5c0c0a4",
   "metadata": {
    "scrolled": true
   },
   "outputs": [
    {
     "data": {
      "application/vnd.jupyter.widget-view+json": {
       "model_id": "dc45b0277e24487f9560a918704ea346",
       "version_major": 2,
       "version_minor": 0
      },
      "text/plain": [
       "Pandas Apply:   0%|          | 0/100000 [00:00<?, ?it/s]"
      ]
     },
     "metadata": {},
     "output_type": "display_data"
    },
    {
     "data": {
      "text/html": [
       "<div>\n",
       "<style scoped>\n",
       "    .dataframe tbody tr th:only-of-type {\n",
       "        vertical-align: middle;\n",
       "    }\n",
       "\n",
       "    .dataframe tbody tr th {\n",
       "        vertical-align: top;\n",
       "    }\n",
       "\n",
       "    .dataframe thead th {\n",
       "        text-align: right;\n",
       "    }\n",
       "</style>\n",
       "<table border=\"1\" class=\"dataframe\">\n",
       "  <thead>\n",
       "    <tr style=\"text-align: right;\">\n",
       "      <th></th>\n",
       "      <th>r_id</th>\n",
       "      <th>r_useful</th>\n",
       "      <th>r_text</th>\n",
       "      <th>r_word_cnt</th>\n",
       "      <th>r_character_cnt</th>\n",
       "      <th>r_sent_cnt</th>\n",
       "    </tr>\n",
       "  </thead>\n",
       "  <tbody>\n",
       "    <tr>\n",
       "      <th>0</th>\n",
       "      <td>2235679</td>\n",
       "      <td>1</td>\n",
       "      <td>Like buns ? \\nEat here . \\nSeriously , this is...</td>\n",
       "      <td>71</td>\n",
       "      <td>393</td>\n",
       "      <td>7</td>\n",
       "    </tr>\n",
       "    <tr>\n",
       "      <th>1</th>\n",
       "      <td>6902682</td>\n",
       "      <td>1</td>\n",
       "      <td>Sadly the best thing about this place was the ...</td>\n",
       "      <td>206</td>\n",
       "      <td>1147</td>\n",
       "      <td>12</td>\n",
       "    </tr>\n",
       "    <tr>\n",
       "      <th>2</th>\n",
       "      <td>1590330</td>\n",
       "      <td>1</td>\n",
       "      <td>On my recent visit to New Orleans I met up wit...</td>\n",
       "      <td>596</td>\n",
       "      <td>3130</td>\n",
       "      <td>34</td>\n",
       "    </tr>\n",
       "    <tr>\n",
       "      <th>3</th>\n",
       "      <td>6289537</td>\n",
       "      <td>1</td>\n",
       "      <td>My husband likes to come here. I really don't....</td>\n",
       "      <td>43</td>\n",
       "      <td>226</td>\n",
       "      <td>8</td>\n",
       "    </tr>\n",
       "    <tr>\n",
       "      <th>4</th>\n",
       "      <td>2112180</td>\n",
       "      <td>1</td>\n",
       "      <td>Yes to everything!!! The ribs, the pulled pork...</td>\n",
       "      <td>26</td>\n",
       "      <td>144</td>\n",
       "      <td>8</td>\n",
       "    </tr>\n",
       "  </tbody>\n",
       "</table>\n",
       "</div>"
      ],
      "text/plain": [
       "      r_id  r_useful                                             r_text  \\\n",
       "0  2235679         1  Like buns ? \\nEat here . \\nSeriously , this is...   \n",
       "1  6902682         1  Sadly the best thing about this place was the ...   \n",
       "2  1590330         1  On my recent visit to New Orleans I met up wit...   \n",
       "3  6289537         1  My husband likes to come here. I really don't....   \n",
       "4  2112180         1  Yes to everything!!! The ribs, the pulled pork...   \n",
       "\n",
       "   r_word_cnt  r_character_cnt  r_sent_cnt  \n",
       "0          71              393           7  \n",
       "1         206             1147          12  \n",
       "2         596             3130          34  \n",
       "3          43              226           8  \n",
       "4          26              144           8  "
      ]
     },
     "execution_count": 10,
     "metadata": {},
     "output_type": "execute_result"
    }
   ],
   "source": [
    "def count_sent(text):\n",
    "    return len(nltk.sent_tokenize(text))\n",
    "text_df['r_sent_cnt'] = text_df[\"r_text\"].swifter.apply(lambda x:count_sent(x))\n",
    "text_df.head()"
   ]
  },
  {
   "cell_type": "code",
   "execution_count": 11,
   "id": "e9aaea8f",
   "metadata": {},
   "outputs": [
    {
     "data": {
      "text/plain": [
       "<AxesSubplot:xlabel='r_sent_cnt', ylabel='Density'>"
      ]
     },
     "execution_count": 11,
     "metadata": {},
     "output_type": "execute_result"
    },
    {
     "data": {
      "image/png": "[encoded data removed]",
      "text/plain": [
       "<Figure size 432x288 with 1 Axes>"
      ]
     },
     "metadata": {
      "needs_background": "light"
     },
     "output_type": "display_data"
    }
   ],
   "source": [
    "sns.distplot(text_df['r_sent_cnt'])"
   ]
  },
  {
   "cell_type": "markdown",
   "id": "6a2eb6b4",
   "metadata": {},
   "source": [
    "### 4. Count of unique words"
   ]
  },
  {
   "cell_type": "code",
   "execution_count": 12,
   "id": "ef7cb02e",
   "metadata": {
    "scrolled": true
   },
   "outputs": [
    {
     "data": {
      "application/vnd.jupyter.widget-view+json": {
       "model_id": "be52a4e81a124ac7a153c1c1489babb5",
       "version_major": 2,
       "version_minor": 0
      },
      "text/plain": [
       "Pandas Apply:   0%|          | 0/100000 [00:00<?, ?it/s]"
      ]
     },
     "metadata": {},
     "output_type": "display_data"
    },
    {
     "data": {
      "text/html": [
       "<div>\n",
       "<style scoped>\n",
       "    .dataframe tbody tr th:only-of-type {\n",
       "        vertical-align: middle;\n",
       "    }\n",
       "\n",
       "    .dataframe tbody tr th {\n",
       "        vertical-align: top;\n",
       "    }\n",
       "\n",
       "    .dataframe thead th {\n",
       "        text-align: right;\n",
       "    }\n",
       "</style>\n",
       "<table border=\"1\" class=\"dataframe\">\n",
       "  <thead>\n",
       "    <tr style=\"text-align: right;\">\n",
       "      <th></th>\n",
       "      <th>r_id</th>\n",
       "      <th>r_useful</th>\n",
       "      <th>r_text</th>\n",
       "      <th>r_word_cnt</th>\n",
       "      <th>r_character_cnt</th>\n",
       "      <th>r_sent_cnt</th>\n",
       "      <th>r_unique_word_cnt</th>\n",
       "    </tr>\n",
       "  </thead>\n",
       "  <tbody>\n",
       "    <tr>\n",
       "      <th>0</th>\n",
       "      <td>2235679</td>\n",
       "      <td>1</td>\n",
       "      <td>Like buns ? \\nEat here . \\nSeriously , this is...</td>\n",
       "      <td>71</td>\n",
       "      <td>393</td>\n",
       "      <td>7</td>\n",
       "      <td>61</td>\n",
       "    </tr>\n",
       "    <tr>\n",
       "      <th>1</th>\n",
       "      <td>6902682</td>\n",
       "      <td>1</td>\n",
       "      <td>Sadly the best thing about this place was the ...</td>\n",
       "      <td>206</td>\n",
       "      <td>1147</td>\n",
       "      <td>12</td>\n",
       "      <td>145</td>\n",
       "    </tr>\n",
       "    <tr>\n",
       "      <th>2</th>\n",
       "      <td>1590330</td>\n",
       "      <td>1</td>\n",
       "      <td>On my recent visit to New Orleans I met up wit...</td>\n",
       "      <td>596</td>\n",
       "      <td>3130</td>\n",
       "      <td>34</td>\n",
       "      <td>321</td>\n",
       "    </tr>\n",
       "    <tr>\n",
       "      <th>3</th>\n",
       "      <td>6289537</td>\n",
       "      <td>1</td>\n",
       "      <td>My husband likes to come here. I really don't....</td>\n",
       "      <td>43</td>\n",
       "      <td>226</td>\n",
       "      <td>8</td>\n",
       "      <td>38</td>\n",
       "    </tr>\n",
       "    <tr>\n",
       "      <th>4</th>\n",
       "      <td>2112180</td>\n",
       "      <td>1</td>\n",
       "      <td>Yes to everything!!! The ribs, the pulled pork...</td>\n",
       "      <td>26</td>\n",
       "      <td>144</td>\n",
       "      <td>8</td>\n",
       "      <td>26</td>\n",
       "    </tr>\n",
       "  </tbody>\n",
       "</table>\n",
       "</div>"
      ],
      "text/plain": [
       "      r_id  r_useful                                             r_text  \\\n",
       "0  2235679         1  Like buns ? \\nEat here . \\nSeriously , this is...   \n",
       "1  6902682         1  Sadly the best thing about this place was the ...   \n",
       "2  1590330         1  On my recent visit to New Orleans I met up wit...   \n",
       "3  6289537         1  My husband likes to come here. I really don't....   \n",
       "4  2112180         1  Yes to everything!!! The ribs, the pulled pork...   \n",
       "\n",
       "   r_word_cnt  r_character_cnt  r_sent_cnt  r_unique_word_cnt  \n",
       "0          71              393           7                 61  \n",
       "1         206             1147          12                145  \n",
       "2         596             3130          34                321  \n",
       "3          43              226           8                 38  \n",
       "4          26              144           8                 26  "
      ]
     },
     "execution_count": 12,
     "metadata": {},
     "output_type": "execute_result"
    }
   ],
   "source": [
    "def count_unique_words(text):\n",
    "    return len(set(text.split()))\n",
    "text_df['r_unique_word_cnt'] = text_df[\"r_text\"].swifter.apply(lambda x:count_unique_words(x))\n",
    "text_df.head()"
   ]
  },
  {
   "cell_type": "code",
   "execution_count": 13,
   "id": "4f700e68",
   "metadata": {},
   "outputs": [
    {
     "data": {
      "text/plain": [
       "<AxesSubplot:xlabel='r_unique_word_cnt', ylabel='Density'>"
      ]
     },
     "execution_count": 13,
     "metadata": {},
     "output_type": "execute_result"
    },
    {
     "data": {
      "image/png": "[encoded data removed]",
      "text/plain": [
       "<Figure size 432x288 with 1 Axes>"
      ]
     },
     "metadata": {
      "needs_background": "light"
     },
     "output_type": "display_data"
    }
   ],
   "source": [
    "sns.distplot(text_df['r_unique_word_cnt'])"
   ]
  },
  {
   "cell_type": "markdown",
   "id": "20ffb2e2",
   "metadata": {},
   "source": [
    "### 5. Count of stopwords"
   ]
  },
  {
   "cell_type": "code",
   "execution_count": 14,
   "id": "970bec44",
   "metadata": {},
   "outputs": [
    {
     "data": {
      "application/vnd.jupyter.widget-view+json": {
       "model_id": "9439172845dc4b048420eac650eb5978",
       "version_major": 2,
       "version_minor": 0
      },
      "text/plain": [
       "Pandas Apply:   0%|          | 0/100000 [00:00<?, ?it/s]"
      ]
     },
     "metadata": {},
     "output_type": "display_data"
    },
    {
     "data": {
      "text/html": [
       "<div>\n",
       "<style scoped>\n",
       "    .dataframe tbody tr th:only-of-type {\n",
       "        vertical-align: middle;\n",
       "    }\n",
       "\n",
       "    .dataframe tbody tr th {\n",
       "        vertical-align: top;\n",
       "    }\n",
       "\n",
       "    .dataframe thead th {\n",
       "        text-align: right;\n",
       "    }\n",
       "</style>\n",
       "<table border=\"1\" class=\"dataframe\">\n",
       "  <thead>\n",
       "    <tr style=\"text-align: right;\">\n",
       "      <th></th>\n",
       "      <th>r_id</th>\n",
       "      <th>r_useful</th>\n",
       "      <th>r_text</th>\n",
       "      <th>r_word_cnt</th>\n",
       "      <th>r_character_cnt</th>\n",
       "      <th>r_sent_cnt</th>\n",
       "      <th>r_unique_word_cnt</th>\n",
       "      <th>r_stopword_cnt</th>\n",
       "    </tr>\n",
       "  </thead>\n",
       "  <tbody>\n",
       "    <tr>\n",
       "      <th>0</th>\n",
       "      <td>2235679</td>\n",
       "      <td>1</td>\n",
       "      <td>Like buns ? \\nEat here . \\nSeriously , this is...</td>\n",
       "      <td>71</td>\n",
       "      <td>393</td>\n",
       "      <td>7</td>\n",
       "      <td>61</td>\n",
       "      <td>24</td>\n",
       "    </tr>\n",
       "    <tr>\n",
       "      <th>1</th>\n",
       "      <td>6902682</td>\n",
       "      <td>1</td>\n",
       "      <td>Sadly the best thing about this place was the ...</td>\n",
       "      <td>206</td>\n",
       "      <td>1147</td>\n",
       "      <td>12</td>\n",
       "      <td>145</td>\n",
       "      <td>95</td>\n",
       "    </tr>\n",
       "    <tr>\n",
       "      <th>2</th>\n",
       "      <td>1590330</td>\n",
       "      <td>1</td>\n",
       "      <td>On my recent visit to New Orleans I met up wit...</td>\n",
       "      <td>596</td>\n",
       "      <td>3130</td>\n",
       "      <td>34</td>\n",
       "      <td>321</td>\n",
       "      <td>276</td>\n",
       "    </tr>\n",
       "    <tr>\n",
       "      <th>3</th>\n",
       "      <td>6289537</td>\n",
       "      <td>1</td>\n",
       "      <td>My husband likes to come here. I really don't....</td>\n",
       "      <td>43</td>\n",
       "      <td>226</td>\n",
       "      <td>8</td>\n",
       "      <td>38</td>\n",
       "      <td>18</td>\n",
       "    </tr>\n",
       "    <tr>\n",
       "      <th>4</th>\n",
       "      <td>2112180</td>\n",
       "      <td>1</td>\n",
       "      <td>Yes to everything!!! The ribs, the pulled pork...</td>\n",
       "      <td>26</td>\n",
       "      <td>144</td>\n",
       "      <td>8</td>\n",
       "      <td>26</td>\n",
       "      <td>6</td>\n",
       "    </tr>\n",
       "  </tbody>\n",
       "</table>\n",
       "</div>"
      ],
      "text/plain": [
       "      r_id  r_useful                                             r_text  \\\n",
       "0  2235679         1  Like buns ? \\nEat here . \\nSeriously , this is...   \n",
       "1  6902682         1  Sadly the best thing about this place was the ...   \n",
       "2  1590330         1  On my recent visit to New Orleans I met up wit...   \n",
       "3  6289537         1  My husband likes to come here. I really don't....   \n",
       "4  2112180         1  Yes to everything!!! The ribs, the pulled pork...   \n",
       "\n",
       "   r_word_cnt  r_character_cnt  r_sent_cnt  r_unique_word_cnt  r_stopword_cnt  \n",
       "0          71              393           7                 61              24  \n",
       "1         206             1147          12                145              95  \n",
       "2         596             3130          34                321             276  \n",
       "3          43              226           8                 38              18  \n",
       "4          26              144           8                 26               6  "
      ]
     },
     "execution_count": 14,
     "metadata": {},
     "output_type": "execute_result"
    }
   ],
   "source": [
    "def count_stopwords(text):\n",
    "    stop_words = set(stopwords.words('english'))  \n",
    "    word_tokens = word_tokenize(text)\n",
    "    stopwords_x = [w for w in word_tokens if w in stop_words]\n",
    "    return len(stopwords_x)\n",
    "text_df['r_stopword_cnt'] = text_df[\"r_text\"].swifter.apply(lambda x:count_stopwords(x))\n",
    "text_df.head()"
   ]
  },
  {
   "cell_type": "code",
   "execution_count": 15,
   "id": "db35fb31",
   "metadata": {},
   "outputs": [
    {
     "data": {
      "text/plain": [
       "<AxesSubplot:xlabel='r_stopword_cnt', ylabel='Density'>"
      ]
     },
     "execution_count": 15,
     "metadata": {},
     "output_type": "execute_result"
    },
    {
     "data": {
      "image/png": "[encoded data removed]",
      "text/plain": [
       "<Figure size 432x288 with 1 Axes>"
      ]
     },
     "metadata": {
      "needs_background": "light"
     },
     "output_type": "display_data"
    }
   ],
   "source": [
    "sns.distplot(text_df['r_stopword_cnt'])"
   ]
  },
  {
   "cell_type": "markdown",
   "id": "c066a90b",
   "metadata": {},
   "source": [
    "### 6. Average word length"
   ]
  },
  {
   "cell_type": "code",
   "execution_count": 16,
   "id": "8f7d339e",
   "metadata": {},
   "outputs": [
    {
     "data": {
      "text/html": [
       "<div>\n",
       "<style scoped>\n",
       "    .dataframe tbody tr th:only-of-type {\n",
       "        vertical-align: middle;\n",
       "    }\n",
       "\n",
       "    .dataframe tbody tr th {\n",
       "        vertical-align: top;\n",
       "    }\n",
       "\n",
       "    .dataframe thead th {\n",
       "        text-align: right;\n",
       "    }\n",
       "</style>\n",
       "<table border=\"1\" class=\"dataframe\">\n",
       "  <thead>\n",
       "    <tr style=\"text-align: right;\">\n",
       "      <th></th>\n",
       "      <th>r_id</th>\n",
       "      <th>r_useful</th>\n",
       "      <th>r_text</th>\n",
       "      <th>r_word_cnt</th>\n",
       "      <th>r_character_cnt</th>\n",
       "      <th>r_sent_cnt</th>\n",
       "      <th>r_unique_word_cnt</th>\n",
       "      <th>r_stopword_cnt</th>\n",
       "      <th>r_avg_wordlength</th>\n",
       "    </tr>\n",
       "  </thead>\n",
       "  <tbody>\n",
       "    <tr>\n",
       "      <th>0</th>\n",
       "      <td>2235679</td>\n",
       "      <td>1</td>\n",
       "      <td>Like buns ? \\nEat here . \\nSeriously , this is...</td>\n",
       "      <td>71</td>\n",
       "      <td>393</td>\n",
       "      <td>7</td>\n",
       "      <td>61</td>\n",
       "      <td>24</td>\n",
       "      <td>5.54</td>\n",
       "    </tr>\n",
       "    <tr>\n",
       "      <th>1</th>\n",
       "      <td>6902682</td>\n",
       "      <td>1</td>\n",
       "      <td>Sadly the best thing about this place was the ...</td>\n",
       "      <td>206</td>\n",
       "      <td>1147</td>\n",
       "      <td>12</td>\n",
       "      <td>145</td>\n",
       "      <td>95</td>\n",
       "      <td>5.57</td>\n",
       "    </tr>\n",
       "    <tr>\n",
       "      <th>2</th>\n",
       "      <td>1590330</td>\n",
       "      <td>1</td>\n",
       "      <td>On my recent visit to New Orleans I met up wit...</td>\n",
       "      <td>596</td>\n",
       "      <td>3130</td>\n",
       "      <td>34</td>\n",
       "      <td>321</td>\n",
       "      <td>276</td>\n",
       "      <td>5.25</td>\n",
       "    </tr>\n",
       "    <tr>\n",
       "      <th>3</th>\n",
       "      <td>6289537</td>\n",
       "      <td>1</td>\n",
       "      <td>My husband likes to come here. I really don't....</td>\n",
       "      <td>43</td>\n",
       "      <td>226</td>\n",
       "      <td>8</td>\n",
       "      <td>38</td>\n",
       "      <td>18</td>\n",
       "      <td>5.26</td>\n",
       "    </tr>\n",
       "    <tr>\n",
       "      <th>4</th>\n",
       "      <td>2112180</td>\n",
       "      <td>1</td>\n",
       "      <td>Yes to everything!!! The ribs, the pulled pork...</td>\n",
       "      <td>26</td>\n",
       "      <td>144</td>\n",
       "      <td>8</td>\n",
       "      <td>26</td>\n",
       "      <td>6</td>\n",
       "      <td>5.54</td>\n",
       "    </tr>\n",
       "  </tbody>\n",
       "</table>\n",
       "</div>"
      ],
      "text/plain": [
       "      r_id  r_useful                                             r_text  \\\n",
       "0  2235679         1  Like buns ? \\nEat here . \\nSeriously , this is...   \n",
       "1  6902682         1  Sadly the best thing about this place was the ...   \n",
       "2  1590330         1  On my recent visit to New Orleans I met up wit...   \n",
       "3  6289537         1  My husband likes to come here. I really don't....   \n",
       "4  2112180         1  Yes to everything!!! The ribs, the pulled pork...   \n",
       "\n",
       "   r_word_cnt  r_character_cnt  r_sent_cnt  r_unique_word_cnt  r_stopword_cnt  \\\n",
       "0          71              393           7                 61              24   \n",
       "1         206             1147          12                145              95   \n",
       "2         596             3130          34                321             276   \n",
       "3          43              226           8                 38              18   \n",
       "4          26              144           8                 26               6   \n",
       "\n",
       "   r_avg_wordlength  \n",
       "0              5.54  \n",
       "1              5.57  \n",
       "2              5.25  \n",
       "3              5.26  \n",
       "4              5.54  "
      ]
     },
     "execution_count": 16,
     "metadata": {},
     "output_type": "execute_result"
    }
   ],
   "source": [
    "text_df['r_avg_wordlength'] = round(text_df['r_character_cnt']/text_df['r_word_cnt'],2)\n",
    "text_df.head()"
   ]
  },
  {
   "cell_type": "code",
   "execution_count": 17,
   "id": "57618367",
   "metadata": {},
   "outputs": [
    {
     "data": {
      "text/plain": [
       "<AxesSubplot:xlabel='r_avg_wordlength', ylabel='Density'>"
      ]
     },
     "execution_count": 17,
     "metadata": {},
     "output_type": "execute_result"
    },
    {
     "data": {
      "image/png": "[encoded data removed]",
      "text/plain": [
       "<Figure size 432x288 with 1 Axes>"
      ]
     },
     "metadata": {
      "needs_background": "light"
     },
     "output_type": "display_data"
    }
   ],
   "source": [
    "sns.distplot(text_df['r_avg_wordlength'])"
   ]
  },
  {
   "cell_type": "markdown",
   "id": "4434f638",
   "metadata": {},
   "source": [
    "### 7. Average sentence length"
   ]
  },
  {
   "cell_type": "code",
   "execution_count": 18,
   "id": "8055f834",
   "metadata": {},
   "outputs": [
    {
     "data": {
      "text/html": [
       "<div>\n",
       "<style scoped>\n",
       "    .dataframe tbody tr th:only-of-type {\n",
       "        vertical-align: middle;\n",
       "    }\n",
       "\n",
       "    .dataframe tbody tr th {\n",
       "        vertical-align: top;\n",
       "    }\n",
       "\n",
       "    .dataframe thead th {\n",
       "        text-align: right;\n",
       "    }\n",
       "</style>\n",
       "<table border=\"1\" class=\"dataframe\">\n",
       "  <thead>\n",
       "    <tr style=\"text-align: right;\">\n",
       "      <th></th>\n",
       "      <th>r_id</th>\n",
       "      <th>r_useful</th>\n",
       "      <th>r_text</th>\n",
       "      <th>r_word_cnt</th>\n",
       "      <th>r_character_cnt</th>\n",
       "      <th>r_sent_cnt</th>\n",
       "      <th>r_unique_word_cnt</th>\n",
       "      <th>r_stopword_cnt</th>\n",
       "      <th>r_avg_wordlength</th>\n",
       "      <th>r_avg_sentlength</th>\n",
       "    </tr>\n",
       "  </thead>\n",
       "  <tbody>\n",
       "    <tr>\n",
       "      <th>0</th>\n",
       "      <td>2235679</td>\n",
       "      <td>1</td>\n",
       "      <td>Like buns ? \\nEat here . \\nSeriously , this is...</td>\n",
       "      <td>71</td>\n",
       "      <td>393</td>\n",
       "      <td>7</td>\n",
       "      <td>61</td>\n",
       "      <td>24</td>\n",
       "      <td>5.54</td>\n",
       "      <td>10.14</td>\n",
       "    </tr>\n",
       "    <tr>\n",
       "      <th>1</th>\n",
       "      <td>6902682</td>\n",
       "      <td>1</td>\n",
       "      <td>Sadly the best thing about this place was the ...</td>\n",
       "      <td>206</td>\n",
       "      <td>1147</td>\n",
       "      <td>12</td>\n",
       "      <td>145</td>\n",
       "      <td>95</td>\n",
       "      <td>5.57</td>\n",
       "      <td>17.17</td>\n",
       "    </tr>\n",
       "    <tr>\n",
       "      <th>2</th>\n",
       "      <td>1590330</td>\n",
       "      <td>1</td>\n",
       "      <td>On my recent visit to New Orleans I met up wit...</td>\n",
       "      <td>596</td>\n",
       "      <td>3130</td>\n",
       "      <td>34</td>\n",
       "      <td>321</td>\n",
       "      <td>276</td>\n",
       "      <td>5.25</td>\n",
       "      <td>17.53</td>\n",
       "    </tr>\n",
       "    <tr>\n",
       "      <th>3</th>\n",
       "      <td>6289537</td>\n",
       "      <td>1</td>\n",
       "      <td>My husband likes to come here. I really don't....</td>\n",
       "      <td>43</td>\n",
       "      <td>226</td>\n",
       "      <td>8</td>\n",
       "      <td>38</td>\n",
       "      <td>18</td>\n",
       "      <td>5.26</td>\n",
       "      <td>5.38</td>\n",
       "    </tr>\n",
       "    <tr>\n",
       "      <th>4</th>\n",
       "      <td>2112180</td>\n",
       "      <td>1</td>\n",
       "      <td>Yes to everything!!! The ribs, the pulled pork...</td>\n",
       "      <td>26</td>\n",
       "      <td>144</td>\n",
       "      <td>8</td>\n",
       "      <td>26</td>\n",
       "      <td>6</td>\n",
       "      <td>5.54</td>\n",
       "      <td>3.25</td>\n",
       "    </tr>\n",
       "  </tbody>\n",
       "</table>\n",
       "</div>"
      ],
      "text/plain": [
       "      r_id  r_useful                                             r_text  \\\n",
       "0  2235679         1  Like buns ? \\nEat here . \\nSeriously , this is...   \n",
       "1  6902682         1  Sadly the best thing about this place was the ...   \n",
       "2  1590330         1  On my recent visit to New Orleans I met up wit...   \n",
       "3  6289537         1  My husband likes to come here. I really don't....   \n",
       "4  2112180         1  Yes to everything!!! The ribs, the pulled pork...   \n",
       "\n",
       "   r_word_cnt  r_character_cnt  r_sent_cnt  r_unique_word_cnt  r_stopword_cnt  \\\n",
       "0          71              393           7                 61              24   \n",
       "1         206             1147          12                145              95   \n",
       "2         596             3130          34                321             276   \n",
       "3          43              226           8                 38              18   \n",
       "4          26              144           8                 26               6   \n",
       "\n",
       "   r_avg_wordlength  r_avg_sentlength  \n",
       "0              5.54             10.14  \n",
       "1              5.57             17.17  \n",
       "2              5.25             17.53  \n",
       "3              5.26              5.38  \n",
       "4              5.54              3.25  "
      ]
     },
     "execution_count": 18,
     "metadata": {},
     "output_type": "execute_result"
    }
   ],
   "source": [
    "text_df['r_avg_sentlength'] = round(text_df['r_word_cnt']/text_df['r_sent_cnt'],2)\n",
    "text_df.head()"
   ]
  },
  {
   "cell_type": "code",
   "execution_count": 19,
   "id": "a860abb9",
   "metadata": {},
   "outputs": [
    {
     "data": {
      "text/plain": [
       "<AxesSubplot:xlabel='r_avg_sentlength', ylabel='Density'>"
      ]
     },
     "execution_count": 19,
     "metadata": {},
     "output_type": "execute_result"
    },
    {
     "data": {
      "image/png": "[encoded data removed]",
      "text/plain": [
       "<Figure size 432x288 with 1 Axes>"
      ]
     },
     "metadata": {
      "needs_background": "light"
     },
     "output_type": "display_data"
    }
   ],
   "source": [
    "sns.distplot(text_df['r_avg_sentlength'])"
   ]
  },
  {
   "cell_type": "markdown",
   "id": "75541590",
   "metadata": {},
   "source": [
    "### 8. Calculate unique words vs word count feature"
   ]
  },
  {
   "cell_type": "code",
   "execution_count": 20,
   "id": "dbb42df6",
   "metadata": {},
   "outputs": [
    {
     "data": {
      "text/html": [
       "<div>\n",
       "<style scoped>\n",
       "    .dataframe tbody tr th:only-of-type {\n",
       "        vertical-align: middle;\n",
       "    }\n",
       "\n",
       "    .dataframe tbody tr th {\n",
       "        vertical-align: top;\n",
       "    }\n",
       "\n",
       "    .dataframe thead th {\n",
       "        text-align: right;\n",
       "    }\n",
       "</style>\n",
       "<table border=\"1\" class=\"dataframe\">\n",
       "  <thead>\n",
       "    <tr style=\"text-align: right;\">\n",
       "      <th></th>\n",
       "      <th>r_id</th>\n",
       "      <th>r_useful</th>\n",
       "      <th>r_text</th>\n",
       "      <th>r_word_cnt</th>\n",
       "      <th>r_character_cnt</th>\n",
       "      <th>r_sent_cnt</th>\n",
       "      <th>r_unique_word_cnt</th>\n",
       "      <th>r_stopword_cnt</th>\n",
       "      <th>r_avg_wordlength</th>\n",
       "      <th>r_avg_sentlength</th>\n",
       "      <th>r_unique/words</th>\n",
       "    </tr>\n",
       "  </thead>\n",
       "  <tbody>\n",
       "    <tr>\n",
       "      <th>0</th>\n",
       "      <td>2235679</td>\n",
       "      <td>1</td>\n",
       "      <td>Like buns ? \\nEat here . \\nSeriously , this is...</td>\n",
       "      <td>71</td>\n",
       "      <td>393</td>\n",
       "      <td>7</td>\n",
       "      <td>61</td>\n",
       "      <td>24</td>\n",
       "      <td>5.54</td>\n",
       "      <td>10.14</td>\n",
       "      <td>0.86</td>\n",
       "    </tr>\n",
       "    <tr>\n",
       "      <th>1</th>\n",
       "      <td>6902682</td>\n",
       "      <td>1</td>\n",
       "      <td>Sadly the best thing about this place was the ...</td>\n",
       "      <td>206</td>\n",
       "      <td>1147</td>\n",
       "      <td>12</td>\n",
       "      <td>145</td>\n",
       "      <td>95</td>\n",
       "      <td>5.57</td>\n",
       "      <td>17.17</td>\n",
       "      <td>0.70</td>\n",
       "    </tr>\n",
       "    <tr>\n",
       "      <th>2</th>\n",
       "      <td>1590330</td>\n",
       "      <td>1</td>\n",
       "      <td>On my recent visit to New Orleans I met up wit...</td>\n",
       "      <td>596</td>\n",
       "      <td>3130</td>\n",
       "      <td>34</td>\n",
       "      <td>321</td>\n",
       "      <td>276</td>\n",
       "      <td>5.25</td>\n",
       "      <td>17.53</td>\n",
       "      <td>0.54</td>\n",
       "    </tr>\n",
       "    <tr>\n",
       "      <th>3</th>\n",
       "      <td>6289537</td>\n",
       "      <td>1</td>\n",
       "      <td>My husband likes to come here. I really don't....</td>\n",
       "      <td>43</td>\n",
       "      <td>226</td>\n",
       "      <td>8</td>\n",
       "      <td>38</td>\n",
       "      <td>18</td>\n",
       "      <td>5.26</td>\n",
       "      <td>5.38</td>\n",
       "      <td>0.88</td>\n",
       "    </tr>\n",
       "    <tr>\n",
       "      <th>4</th>\n",
       "      <td>2112180</td>\n",
       "      <td>1</td>\n",
       "      <td>Yes to everything!!! The ribs, the pulled pork...</td>\n",
       "      <td>26</td>\n",
       "      <td>144</td>\n",
       "      <td>8</td>\n",
       "      <td>26</td>\n",
       "      <td>6</td>\n",
       "      <td>5.54</td>\n",
       "      <td>3.25</td>\n",
       "      <td>1.00</td>\n",
       "    </tr>\n",
       "  </tbody>\n",
       "</table>\n",
       "</div>"
      ],
      "text/plain": [
       "      r_id  r_useful                                             r_text  \\\n",
       "0  2235679         1  Like buns ? \\nEat here . \\nSeriously , this is...   \n",
       "1  6902682         1  Sadly the best thing about this place was the ...   \n",
       "2  1590330         1  On my recent visit to New Orleans I met up wit...   \n",
       "3  6289537         1  My husband likes to come here. I really don't....   \n",
       "4  2112180         1  Yes to everything!!! The ribs, the pulled pork...   \n",
       "\n",
       "   r_word_cnt  r_character_cnt  r_sent_cnt  r_unique_word_cnt  r_stopword_cnt  \\\n",
       "0          71              393           7                 61              24   \n",
       "1         206             1147          12                145              95   \n",
       "2         596             3130          34                321             276   \n",
       "3          43              226           8                 38              18   \n",
       "4          26              144           8                 26               6   \n",
       "\n",
       "   r_avg_wordlength  r_avg_sentlength  r_unique/words  \n",
       "0              5.54             10.14            0.86  \n",
       "1              5.57             17.17            0.70  \n",
       "2              5.25             17.53            0.54  \n",
       "3              5.26              5.38            0.88  \n",
       "4              5.54              3.25            1.00  "
      ]
     },
     "execution_count": 20,
     "metadata": {},
     "output_type": "execute_result"
    }
   ],
   "source": [
    "text_df['r_unique/words'] = round(text_df['r_unique_word_cnt']/text_df['r_word_cnt'],2)\n",
    "text_df.head()"
   ]
  },
  {
   "cell_type": "code",
   "execution_count": 21,
   "id": "e4d5389c",
   "metadata": {},
   "outputs": [
    {
     "data": {
      "text/plain": [
       "<AxesSubplot:xlabel='r_unique/words', ylabel='Density'>"
      ]
     },
     "execution_count": 21,
     "metadata": {},
     "output_type": "execute_result"
    },
    {
     "data": {
      "image/png": "[encoded data removed]",
      "text/plain": [
       "<Figure size 432x288 with 1 Axes>"
      ]
     },
     "metadata": {
      "needs_background": "light"
     },
     "output_type": "display_data"
    }
   ],
   "source": [
    "sns.distplot(text_df['r_unique/words'])"
   ]
  },
  {
   "cell_type": "markdown",
   "id": "b11281e3",
   "metadata": {},
   "source": [
    "### 9. Calculate stopwords count vs words counts feature"
   ]
  },
  {
   "cell_type": "code",
   "execution_count": 22,
   "id": "a4d99b8d",
   "metadata": {},
   "outputs": [
    {
     "data": {
      "text/html": [
       "<div>\n",
       "<style scoped>\n",
       "    .dataframe tbody tr th:only-of-type {\n",
       "        vertical-align: middle;\n",
       "    }\n",
       "\n",
       "    .dataframe tbody tr th {\n",
       "        vertical-align: top;\n",
       "    }\n",
       "\n",
       "    .dataframe thead th {\n",
       "        text-align: right;\n",
       "    }\n",
       "</style>\n",
       "<table border=\"1\" class=\"dataframe\">\n",
       "  <thead>\n",
       "    <tr style=\"text-align: right;\">\n",
       "      <th></th>\n",
       "      <th>r_id</th>\n",
       "      <th>r_useful</th>\n",
       "      <th>r_text</th>\n",
       "      <th>r_word_cnt</th>\n",
       "      <th>r_character_cnt</th>\n",
       "      <th>r_sent_cnt</th>\n",
       "      <th>r_unique_word_cnt</th>\n",
       "      <th>r_stopword_cnt</th>\n",
       "      <th>r_avg_wordlength</th>\n",
       "      <th>r_avg_sentlength</th>\n",
       "      <th>r_unique/words</th>\n",
       "      <th>r_stopwords/words</th>\n",
       "    </tr>\n",
       "  </thead>\n",
       "  <tbody>\n",
       "    <tr>\n",
       "      <th>0</th>\n",
       "      <td>2235679</td>\n",
       "      <td>1</td>\n",
       "      <td>Like buns ? \\nEat here . \\nSeriously , this is...</td>\n",
       "      <td>71</td>\n",
       "      <td>393</td>\n",
       "      <td>7</td>\n",
       "      <td>61</td>\n",
       "      <td>24</td>\n",
       "      <td>5.54</td>\n",
       "      <td>10.14</td>\n",
       "      <td>0.86</td>\n",
       "      <td>0.34</td>\n",
       "    </tr>\n",
       "    <tr>\n",
       "      <th>1</th>\n",
       "      <td>6902682</td>\n",
       "      <td>1</td>\n",
       "      <td>Sadly the best thing about this place was the ...</td>\n",
       "      <td>206</td>\n",
       "      <td>1147</td>\n",
       "      <td>12</td>\n",
       "      <td>145</td>\n",
       "      <td>95</td>\n",
       "      <td>5.57</td>\n",
       "      <td>17.17</td>\n",
       "      <td>0.70</td>\n",
       "      <td>0.46</td>\n",
       "    </tr>\n",
       "    <tr>\n",
       "      <th>2</th>\n",
       "      <td>1590330</td>\n",
       "      <td>1</td>\n",
       "      <td>On my recent visit to New Orleans I met up wit...</td>\n",
       "      <td>596</td>\n",
       "      <td>3130</td>\n",
       "      <td>34</td>\n",
       "      <td>321</td>\n",
       "      <td>276</td>\n",
       "      <td>5.25</td>\n",
       "      <td>17.53</td>\n",
       "      <td>0.54</td>\n",
       "      <td>0.46</td>\n",
       "    </tr>\n",
       "    <tr>\n",
       "      <th>3</th>\n",
       "      <td>6289537</td>\n",
       "      <td>1</td>\n",
       "      <td>My husband likes to come here. I really don't....</td>\n",
       "      <td>43</td>\n",
       "      <td>226</td>\n",
       "      <td>8</td>\n",
       "      <td>38</td>\n",
       "      <td>18</td>\n",
       "      <td>5.26</td>\n",
       "      <td>5.38</td>\n",
       "      <td>0.88</td>\n",
       "      <td>0.42</td>\n",
       "    </tr>\n",
       "    <tr>\n",
       "      <th>4</th>\n",
       "      <td>2112180</td>\n",
       "      <td>1</td>\n",
       "      <td>Yes to everything!!! The ribs, the pulled pork...</td>\n",
       "      <td>26</td>\n",
       "      <td>144</td>\n",
       "      <td>8</td>\n",
       "      <td>26</td>\n",
       "      <td>6</td>\n",
       "      <td>5.54</td>\n",
       "      <td>3.25</td>\n",
       "      <td>1.00</td>\n",
       "      <td>0.23</td>\n",
       "    </tr>\n",
       "  </tbody>\n",
       "</table>\n",
       "</div>"
      ],
      "text/plain": [
       "      r_id  r_useful                                             r_text  \\\n",
       "0  2235679         1  Like buns ? \\nEat here . \\nSeriously , this is...   \n",
       "1  6902682         1  Sadly the best thing about this place was the ...   \n",
       "2  1590330         1  On my recent visit to New Orleans I met up wit...   \n",
       "3  6289537         1  My husband likes to come here. I really don't....   \n",
       "4  2112180         1  Yes to everything!!! The ribs, the pulled pork...   \n",
       "\n",
       "   r_word_cnt  r_character_cnt  r_sent_cnt  r_unique_word_cnt  r_stopword_cnt  \\\n",
       "0          71              393           7                 61              24   \n",
       "1         206             1147          12                145              95   \n",
       "2         596             3130          34                321             276   \n",
       "3          43              226           8                 38              18   \n",
       "4          26              144           8                 26               6   \n",
       "\n",
       "   r_avg_wordlength  r_avg_sentlength  r_unique/words  r_stopwords/words  \n",
       "0              5.54             10.14            0.86               0.34  \n",
       "1              5.57             17.17            0.70               0.46  \n",
       "2              5.25             17.53            0.54               0.46  \n",
       "3              5.26              5.38            0.88               0.42  \n",
       "4              5.54              3.25            1.00               0.23  "
      ]
     },
     "execution_count": 22,
     "metadata": {},
     "output_type": "execute_result"
    }
   ],
   "source": [
    "text_df['r_stopwords/words'] = round(text_df['r_stopword_cnt']/text_df['r_word_cnt'],2)\n",
    "text_df.head()"
   ]
  },
  {
   "cell_type": "code",
   "execution_count": 23,
   "id": "5bd143ba",
   "metadata": {},
   "outputs": [
    {
     "data": {
      "text/plain": [
       "<AxesSubplot:xlabel='r_stopwords/words', ylabel='Density'>"
      ]
     },
     "execution_count": 23,
     "metadata": {},
     "output_type": "execute_result"
    },
    {
     "data": {
      "image/png": "[encoded data removed]",
      "text/plain": [
       "<Figure size 432x288 with 1 Axes>"
      ]
     },
     "metadata": {
      "needs_background": "light"
     },
     "output_type": "display_data"
    }
   ],
   "source": [
    "sns.distplot(text_df['r_stopwords/words'])"
   ]
  },
  {
   "cell_type": "markdown",
   "id": "0c6ccd90",
   "metadata": {},
   "source": [
    "### 10. Number of digits"
   ]
  },
  {
   "cell_type": "code",
   "execution_count": 24,
   "id": "3bcd9716",
   "metadata": {
    "scrolled": true
   },
   "outputs": [
    {
     "data": {
      "application/vnd.jupyter.widget-view+json": {
       "model_id": "7647347d21734f13bc793283724e535b",
       "version_major": 2,
       "version_minor": 0
      },
      "text/plain": [
       "Pandas Apply:   0%|          | 0/100000 [00:00<?, ?it/s]"
      ]
     },
     "metadata": {},
     "output_type": "display_data"
    },
    {
     "data": {
      "text/html": [
       "<div>\n",
       "<style scoped>\n",
       "    .dataframe tbody tr th:only-of-type {\n",
       "        vertical-align: middle;\n",
       "    }\n",
       "\n",
       "    .dataframe tbody tr th {\n",
       "        vertical-align: top;\n",
       "    }\n",
       "\n",
       "    .dataframe thead th {\n",
       "        text-align: right;\n",
       "    }\n",
       "</style>\n",
       "<table border=\"1\" class=\"dataframe\">\n",
       "  <thead>\n",
       "    <tr style=\"text-align: right;\">\n",
       "      <th></th>\n",
       "      <th>r_id</th>\n",
       "      <th>r_useful</th>\n",
       "      <th>r_text</th>\n",
       "      <th>r_word_cnt</th>\n",
       "      <th>r_character_cnt</th>\n",
       "      <th>r_sent_cnt</th>\n",
       "      <th>r_unique_word_cnt</th>\n",
       "      <th>r_stopword_cnt</th>\n",
       "      <th>r_avg_wordlength</th>\n",
       "      <th>r_avg_sentlength</th>\n",
       "      <th>r_unique/words</th>\n",
       "      <th>r_stopwords/words</th>\n",
       "      <th>r_digit_cnt</th>\n",
       "    </tr>\n",
       "  </thead>\n",
       "  <tbody>\n",
       "    <tr>\n",
       "      <th>0</th>\n",
       "      <td>2235679</td>\n",
       "      <td>1</td>\n",
       "      <td>Like buns ? \\nEat here . \\nSeriously , this is...</td>\n",
       "      <td>71</td>\n",
       "      <td>393</td>\n",
       "      <td>7</td>\n",
       "      <td>61</td>\n",
       "      <td>24</td>\n",
       "      <td>5.54</td>\n",
       "      <td>10.14</td>\n",
       "      <td>0.86</td>\n",
       "      <td>0.34</td>\n",
       "      <td>0</td>\n",
       "    </tr>\n",
       "    <tr>\n",
       "      <th>1</th>\n",
       "      <td>6902682</td>\n",
       "      <td>1</td>\n",
       "      <td>Sadly the best thing about this place was the ...</td>\n",
       "      <td>206</td>\n",
       "      <td>1147</td>\n",
       "      <td>12</td>\n",
       "      <td>145</td>\n",
       "      <td>95</td>\n",
       "      <td>5.57</td>\n",
       "      <td>17.17</td>\n",
       "      <td>0.70</td>\n",
       "      <td>0.46</td>\n",
       "      <td>0</td>\n",
       "    </tr>\n",
       "    <tr>\n",
       "      <th>2</th>\n",
       "      <td>1590330</td>\n",
       "      <td>1</td>\n",
       "      <td>On my recent visit to New Orleans I met up wit...</td>\n",
       "      <td>596</td>\n",
       "      <td>3130</td>\n",
       "      <td>34</td>\n",
       "      <td>321</td>\n",
       "      <td>276</td>\n",
       "      <td>5.25</td>\n",
       "      <td>17.53</td>\n",
       "      <td>0.54</td>\n",
       "      <td>0.46</td>\n",
       "      <td>0</td>\n",
       "    </tr>\n",
       "    <tr>\n",
       "      <th>3</th>\n",
       "      <td>6289537</td>\n",
       "      <td>1</td>\n",
       "      <td>My husband likes to come here. I really don't....</td>\n",
       "      <td>43</td>\n",
       "      <td>226</td>\n",
       "      <td>8</td>\n",
       "      <td>38</td>\n",
       "      <td>18</td>\n",
       "      <td>5.26</td>\n",
       "      <td>5.38</td>\n",
       "      <td>0.88</td>\n",
       "      <td>0.42</td>\n",
       "      <td>0</td>\n",
       "    </tr>\n",
       "    <tr>\n",
       "      <th>4</th>\n",
       "      <td>2112180</td>\n",
       "      <td>1</td>\n",
       "      <td>Yes to everything!!! The ribs, the pulled pork...</td>\n",
       "      <td>26</td>\n",
       "      <td>144</td>\n",
       "      <td>8</td>\n",
       "      <td>26</td>\n",
       "      <td>6</td>\n",
       "      <td>5.54</td>\n",
       "      <td>3.25</td>\n",
       "      <td>1.00</td>\n",
       "      <td>0.23</td>\n",
       "      <td>0</td>\n",
       "    </tr>\n",
       "  </tbody>\n",
       "</table>\n",
       "</div>"
      ],
      "text/plain": [
       "      r_id  r_useful                                             r_text  \\\n",
       "0  2235679         1  Like buns ? \\nEat here . \\nSeriously , this is...   \n",
       "1  6902682         1  Sadly the best thing about this place was the ...   \n",
       "2  1590330         1  On my recent visit to New Orleans I met up wit...   \n",
       "3  6289537         1  My husband likes to come here. I really don't....   \n",
       "4  2112180         1  Yes to everything!!! The ribs, the pulled pork...   \n",
       "\n",
       "   r_word_cnt  r_character_cnt  r_sent_cnt  r_unique_word_cnt  r_stopword_cnt  \\\n",
       "0          71              393           7                 61              24   \n",
       "1         206             1147          12                145              95   \n",
       "2         596             3130          34                321             276   \n",
       "3          43              226           8                 38              18   \n",
       "4          26              144           8                 26               6   \n",
       "\n",
       "   r_avg_wordlength  r_avg_sentlength  r_unique/words  r_stopwords/words  \\\n",
       "0              5.54             10.14            0.86               0.34   \n",
       "1              5.57             17.17            0.70               0.46   \n",
       "2              5.25             17.53            0.54               0.46   \n",
       "3              5.26              5.38            0.88               0.42   \n",
       "4              5.54              3.25            1.00               0.23   \n",
       "\n",
       "   r_digit_cnt  \n",
       "0            0  \n",
       "1            0  \n",
       "2            0  \n",
       "3            0  \n",
       "4            0  "
      ]
     },
     "execution_count": 24,
     "metadata": {},
     "output_type": "execute_result"
    }
   ],
   "source": [
    "text_df['r_digit_cnt'] = text_df['r_text'].swifter.apply(lambda x: len([x for x in x.split() if x.isdigit()]))\n",
    "text_df.head()"
   ]
  },
  {
   "cell_type": "code",
   "execution_count": 25,
   "id": "e7e93b2f",
   "metadata": {},
   "outputs": [
    {
     "data": {
      "text/plain": [
       "<AxesSubplot:xlabel='r_digit_cnt', ylabel='Density'>"
      ]
     },
     "execution_count": 25,
     "metadata": {},
     "output_type": "execute_result"
    },
    {
     "data": {
      "image/png": "[encoded data removed]",
      "text/plain": [
       "<Figure size 432x288 with 1 Axes>"
      ]
     },
     "metadata": {
      "needs_background": "light"
     },
     "output_type": "display_data"
    }
   ],
   "source": [
    "sns.distplot(text_df['r_digit_cnt'])"
   ]
  },
  {
   "cell_type": "markdown",
   "id": "66529b74",
   "metadata": {},
   "source": [
    "### 11. Number of Nouns"
   ]
  },
  {
   "cell_type": "code",
   "execution_count": 26,
   "id": "1b242cdb",
   "metadata": {},
   "outputs": [
    {
     "name": "stdout",
     "output_type": "stream",
     "text": [
      "Like ADP\n",
      "buns NOUN\n",
      "? PUNCT\n",
      "\n",
      " SPACE\n",
      "Eat VERB\n",
      "here ADV\n",
      ". PUNCT\n",
      "\n",
      " SPACE\n",
      "Seriously ADV\n",
      ", PUNCT\n",
      "this DET\n",
      "is AUX\n",
      "your PRON\n",
      "trustworthy ADJ\n",
      "Chinese ADJ\n",
      "bakery NOUN\n",
      "with ADP\n",
      "the DET\n",
      "assortments NOUN\n",
      "of ADP\n",
      "Baos PROPN\n",
      "and CCONJ\n",
      "sweet ADJ\n",
      "cakes NOUN\n",
      ". PUNCT\n",
      "We PRON\n",
      "always ADV\n",
      "order VERB\n",
      "cakes NOUN\n",
      "here ADV\n",
      "for ADP\n",
      "our PRON\n",
      "family NOUN\n",
      "gatherings NOUN\n",
      ". PUNCT\n",
      "The DET\n",
      "cakes NOUN\n",
      "are AUX\n",
      "Asian ADJ\n",
      "- PUNCT\n",
      "style NOUN\n",
      "sponge NOUN\n",
      "cakes NOUN\n",
      "topped VERB\n",
      "with ADP\n",
      "an DET\n",
      "assortment NOUN\n",
      "of ADP\n",
      "fruits NOUN\n",
      ". PUNCT\n",
      "You PRON\n",
      "can AUX\n",
      "have VERB\n",
      "plan NOUN\n",
      "whipped VERB\n",
      "filling NOUN\n",
      "or CCONJ\n",
      "opt VERB\n",
      "for ADP\n",
      "more ADV\n",
      "interesting ADJ\n",
      "tastes NOUN\n",
      "like ADP\n",
      "Duran PROPN\n",
      "or CCONJ\n",
      "taro NOUN\n",
      ". PUNCT\n",
      "Overall ADV\n",
      "it PRON\n",
      "'s AUX\n",
      "a DET\n",
      "quick ADJ\n",
      "stop NOUN\n",
      "for ADP\n",
      "good ADJ\n",
      "quality NOUN\n",
      "buns NOUN\n",
      ". PUNCT\n"
     ]
    }
   ],
   "source": [
    "sen = sp(text[0])\n",
    "for word in sen:\n",
    "    print(word.text,  word.pos_)"
   ]
  },
  {
   "cell_type": "code",
   "execution_count": 27,
   "id": "57a860e9",
   "metadata": {},
   "outputs": [],
   "source": [
    "def count_noun(x):\n",
    "    res = [token.pos_ for token in sp(x)]\n",
    "    return collections.Counter(res)['NOUN']"
   ]
  },
  {
   "cell_type": "code",
   "execution_count": 28,
   "id": "4fa20c70",
   "metadata": {},
   "outputs": [
    {
     "data": {
      "application/vnd.jupyter.widget-view+json": {
       "model_id": "db1fbaf082294869a98e24038265e66f",
       "version_major": 2,
       "version_minor": 0
      },
      "text/plain": [
       "Pandas Apply:   0%|          | 0/100000 [00:00<?, ?it/s]"
      ]
     },
     "metadata": {},
     "output_type": "display_data"
    },
    {
     "data": {
      "text/html": [
       "<div>\n",
       "<style scoped>\n",
       "    .dataframe tbody tr th:only-of-type {\n",
       "        vertical-align: middle;\n",
       "    }\n",
       "\n",
       "    .dataframe tbody tr th {\n",
       "        vertical-align: top;\n",
       "    }\n",
       "\n",
       "    .dataframe thead th {\n",
       "        text-align: right;\n",
       "    }\n",
       "</style>\n",
       "<table border=\"1\" class=\"dataframe\">\n",
       "  <thead>\n",
       "    <tr style=\"text-align: right;\">\n",
       "      <th></th>\n",
       "      <th>r_id</th>\n",
       "      <th>r_useful</th>\n",
       "      <th>r_text</th>\n",
       "      <th>r_word_cnt</th>\n",
       "      <th>r_character_cnt</th>\n",
       "      <th>r_sent_cnt</th>\n",
       "      <th>r_unique_word_cnt</th>\n",
       "      <th>r_stopword_cnt</th>\n",
       "      <th>r_avg_wordlength</th>\n",
       "      <th>r_avg_sentlength</th>\n",
       "      <th>r_unique/words</th>\n",
       "      <th>r_stopwords/words</th>\n",
       "      <th>r_digit_cnt</th>\n",
       "      <th>r_noun_cnt</th>\n",
       "    </tr>\n",
       "  </thead>\n",
       "  <tbody>\n",
       "    <tr>\n",
       "      <th>0</th>\n",
       "      <td>2235679</td>\n",
       "      <td>1</td>\n",
       "      <td>Like buns ? \\nEat here . \\nSeriously , this is...</td>\n",
       "      <td>71</td>\n",
       "      <td>393</td>\n",
       "      <td>7</td>\n",
       "      <td>61</td>\n",
       "      <td>24</td>\n",
       "      <td>5.54</td>\n",
       "      <td>10.14</td>\n",
       "      <td>0.86</td>\n",
       "      <td>0.34</td>\n",
       "      <td>0</td>\n",
       "      <td>20</td>\n",
       "    </tr>\n",
       "    <tr>\n",
       "      <th>1</th>\n",
       "      <td>6902682</td>\n",
       "      <td>1</td>\n",
       "      <td>Sadly the best thing about this place was the ...</td>\n",
       "      <td>206</td>\n",
       "      <td>1147</td>\n",
       "      <td>12</td>\n",
       "      <td>145</td>\n",
       "      <td>95</td>\n",
       "      <td>5.57</td>\n",
       "      <td>17.17</td>\n",
       "      <td>0.70</td>\n",
       "      <td>0.46</td>\n",
       "      <td>0</td>\n",
       "      <td>37</td>\n",
       "    </tr>\n",
       "    <tr>\n",
       "      <th>2</th>\n",
       "      <td>1590330</td>\n",
       "      <td>1</td>\n",
       "      <td>On my recent visit to New Orleans I met up wit...</td>\n",
       "      <td>596</td>\n",
       "      <td>3130</td>\n",
       "      <td>34</td>\n",
       "      <td>321</td>\n",
       "      <td>276</td>\n",
       "      <td>5.25</td>\n",
       "      <td>17.53</td>\n",
       "      <td>0.54</td>\n",
       "      <td>0.46</td>\n",
       "      <td>0</td>\n",
       "      <td>118</td>\n",
       "    </tr>\n",
       "    <tr>\n",
       "      <th>3</th>\n",
       "      <td>6289537</td>\n",
       "      <td>1</td>\n",
       "      <td>My husband likes to come here. I really don't....</td>\n",
       "      <td>43</td>\n",
       "      <td>226</td>\n",
       "      <td>8</td>\n",
       "      <td>38</td>\n",
       "      <td>18</td>\n",
       "      <td>5.26</td>\n",
       "      <td>5.38</td>\n",
       "      <td>0.88</td>\n",
       "      <td>0.42</td>\n",
       "      <td>0</td>\n",
       "      <td>7</td>\n",
       "    </tr>\n",
       "    <tr>\n",
       "      <th>4</th>\n",
       "      <td>2112180</td>\n",
       "      <td>1</td>\n",
       "      <td>Yes to everything!!! The ribs, the pulled pork...</td>\n",
       "      <td>26</td>\n",
       "      <td>144</td>\n",
       "      <td>8</td>\n",
       "      <td>26</td>\n",
       "      <td>6</td>\n",
       "      <td>5.54</td>\n",
       "      <td>3.25</td>\n",
       "      <td>1.00</td>\n",
       "      <td>0.23</td>\n",
       "      <td>0</td>\n",
       "      <td>7</td>\n",
       "    </tr>\n",
       "  </tbody>\n",
       "</table>\n",
       "</div>"
      ],
      "text/plain": [
       "      r_id  r_useful                                             r_text  \\\n",
       "0  2235679         1  Like buns ? \\nEat here . \\nSeriously , this is...   \n",
       "1  6902682         1  Sadly the best thing about this place was the ...   \n",
       "2  1590330         1  On my recent visit to New Orleans I met up wit...   \n",
       "3  6289537         1  My husband likes to come here. I really don't....   \n",
       "4  2112180         1  Yes to everything!!! The ribs, the pulled pork...   \n",
       "\n",
       "   r_word_cnt  r_character_cnt  r_sent_cnt  r_unique_word_cnt  r_stopword_cnt  \\\n",
       "0          71              393           7                 61              24   \n",
       "1         206             1147          12                145              95   \n",
       "2         596             3130          34                321             276   \n",
       "3          43              226           8                 38              18   \n",
       "4          26              144           8                 26               6   \n",
       "\n",
       "   r_avg_wordlength  r_avg_sentlength  r_unique/words  r_stopwords/words  \\\n",
       "0              5.54             10.14            0.86               0.34   \n",
       "1              5.57             17.17            0.70               0.46   \n",
       "2              5.25             17.53            0.54               0.46   \n",
       "3              5.26              5.38            0.88               0.42   \n",
       "4              5.54              3.25            1.00               0.23   \n",
       "\n",
       "   r_digit_cnt  r_noun_cnt  \n",
       "0            0          20  \n",
       "1            0          37  \n",
       "2            0         118  \n",
       "3            0           7  \n",
       "4            0           7  "
      ]
     },
     "execution_count": 28,
     "metadata": {},
     "output_type": "execute_result"
    }
   ],
   "source": [
    "text_df['r_noun_cnt'] = text_df['r_text'].swifter.apply(count_noun)\n",
    "text_df.head()"
   ]
  },
  {
   "cell_type": "code",
   "execution_count": 29,
   "id": "1e0451ba",
   "metadata": {},
   "outputs": [
    {
     "data": {
      "text/plain": [
       "<AxesSubplot:xlabel='r_noun_cnt', ylabel='Density'>"
      ]
     },
     "execution_count": 29,
     "metadata": {},
     "output_type": "execute_result"
    },
    {
     "data": {
      "image/png": "[encoded data removed]",
      "text/plain": [
       "<Figure size 432x288 with 1 Axes>"
      ]
     },
     "metadata": {
      "needs_background": "light"
     },
     "output_type": "display_data"
    }
   ],
   "source": [
    "sns.distplot(text_df['r_noun_cnt'])"
   ]
  },
  {
   "cell_type": "markdown",
   "id": "caae2716",
   "metadata": {
    "code_folding": []
   },
   "source": [
    "### 12. Number of Adjectives"
   ]
  },
  {
   "cell_type": "code",
   "execution_count": 30,
   "id": "0a78cb84",
   "metadata": {},
   "outputs": [],
   "source": [
    "def count_Adj(x):\n",
    "    res = [token.pos_ for token in sp(x)]\n",
    "    return collections.Counter(res)['ADJ']"
   ]
  },
  {
   "cell_type": "code",
   "execution_count": 31,
   "id": "cc104df4",
   "metadata": {},
   "outputs": [
    {
     "data": {
      "application/vnd.jupyter.widget-view+json": {
       "model_id": "cb2837a6759a4cf591f640d08fabbb99",
       "version_major": 2,
       "version_minor": 0
      },
      "text/plain": [
       "Pandas Apply:   0%|          | 0/100000 [00:00<?, ?it/s]"
      ]
     },
     "metadata": {},
     "output_type": "display_data"
    },
    {
     "data": {
      "text/html": [
       "<div>\n",
       "<style scoped>\n",
       "    .dataframe tbody tr th:only-of-type {\n",
       "        vertical-align: middle;\n",
       "    }\n",
       "\n",
       "    .dataframe tbody tr th {\n",
       "        vertical-align: top;\n",
       "    }\n",
       "\n",
       "    .dataframe thead th {\n",
       "        text-align: right;\n",
       "    }\n",
       "</style>\n",
       "<table border=\"1\" class=\"dataframe\">\n",
       "  <thead>\n",
       "    <tr style=\"text-align: right;\">\n",
       "      <th></th>\n",
       "      <th>r_id</th>\n",
       "      <th>r_useful</th>\n",
       "      <th>r_text</th>\n",
       "      <th>r_word_cnt</th>\n",
       "      <th>r_character_cnt</th>\n",
       "      <th>r_sent_cnt</th>\n",
       "      <th>r_unique_word_cnt</th>\n",
       "      <th>r_stopword_cnt</th>\n",
       "      <th>r_avg_wordlength</th>\n",
       "      <th>r_avg_sentlength</th>\n",
       "      <th>r_unique/words</th>\n",
       "      <th>r_stopwords/words</th>\n",
       "      <th>r_digit_cnt</th>\n",
       "      <th>r_noun_cnt</th>\n",
       "      <th>r_Adj_cnt</th>\n",
       "    </tr>\n",
       "  </thead>\n",
       "  <tbody>\n",
       "    <tr>\n",
       "      <th>0</th>\n",
       "      <td>2235679</td>\n",
       "      <td>1</td>\n",
       "      <td>Like buns ? \\nEat here . \\nSeriously , this is...</td>\n",
       "      <td>71</td>\n",
       "      <td>393</td>\n",
       "      <td>7</td>\n",
       "      <td>61</td>\n",
       "      <td>24</td>\n",
       "      <td>5.54</td>\n",
       "      <td>10.14</td>\n",
       "      <td>0.86</td>\n",
       "      <td>0.34</td>\n",
       "      <td>0</td>\n",
       "      <td>20</td>\n",
       "      <td>7</td>\n",
       "    </tr>\n",
       "    <tr>\n",
       "      <th>1</th>\n",
       "      <td>6902682</td>\n",
       "      <td>1</td>\n",
       "      <td>Sadly the best thing about this place was the ...</td>\n",
       "      <td>206</td>\n",
       "      <td>1147</td>\n",
       "      <td>12</td>\n",
       "      <td>145</td>\n",
       "      <td>95</td>\n",
       "      <td>5.57</td>\n",
       "      <td>17.17</td>\n",
       "      <td>0.70</td>\n",
       "      <td>0.46</td>\n",
       "      <td>0</td>\n",
       "      <td>37</td>\n",
       "      <td>25</td>\n",
       "    </tr>\n",
       "    <tr>\n",
       "      <th>2</th>\n",
       "      <td>1590330</td>\n",
       "      <td>1</td>\n",
       "      <td>On my recent visit to New Orleans I met up wit...</td>\n",
       "      <td>596</td>\n",
       "      <td>3130</td>\n",
       "      <td>34</td>\n",
       "      <td>321</td>\n",
       "      <td>276</td>\n",
       "      <td>5.25</td>\n",
       "      <td>17.53</td>\n",
       "      <td>0.54</td>\n",
       "      <td>0.46</td>\n",
       "      <td>0</td>\n",
       "      <td>118</td>\n",
       "      <td>38</td>\n",
       "    </tr>\n",
       "    <tr>\n",
       "      <th>3</th>\n",
       "      <td>6289537</td>\n",
       "      <td>1</td>\n",
       "      <td>My husband likes to come here. I really don't....</td>\n",
       "      <td>43</td>\n",
       "      <td>226</td>\n",
       "      <td>8</td>\n",
       "      <td>38</td>\n",
       "      <td>18</td>\n",
       "      <td>5.26</td>\n",
       "      <td>5.38</td>\n",
       "      <td>0.88</td>\n",
       "      <td>0.42</td>\n",
       "      <td>0</td>\n",
       "      <td>7</td>\n",
       "      <td>1</td>\n",
       "    </tr>\n",
       "    <tr>\n",
       "      <th>4</th>\n",
       "      <td>2112180</td>\n",
       "      <td>1</td>\n",
       "      <td>Yes to everything!!! The ribs, the pulled pork...</td>\n",
       "      <td>26</td>\n",
       "      <td>144</td>\n",
       "      <td>8</td>\n",
       "      <td>26</td>\n",
       "      <td>6</td>\n",
       "      <td>5.54</td>\n",
       "      <td>3.25</td>\n",
       "      <td>1.00</td>\n",
       "      <td>0.23</td>\n",
       "      <td>0</td>\n",
       "      <td>7</td>\n",
       "      <td>3</td>\n",
       "    </tr>\n",
       "  </tbody>\n",
       "</table>\n",
       "</div>"
      ],
      "text/plain": [
       "      r_id  r_useful                                             r_text  \\\n",
       "0  2235679         1  Like buns ? \\nEat here . \\nSeriously , this is...   \n",
       "1  6902682         1  Sadly the best thing about this place was the ...   \n",
       "2  1590330         1  On my recent visit to New Orleans I met up wit...   \n",
       "3  6289537         1  My husband likes to come here. I really don't....   \n",
       "4  2112180         1  Yes to everything!!! The ribs, the pulled pork...   \n",
       "\n",
       "   r_word_cnt  r_character_cnt  r_sent_cnt  r_unique_word_cnt  r_stopword_cnt  \\\n",
       "0          71              393           7                 61              24   \n",
       "1         206             1147          12                145              95   \n",
       "2         596             3130          34                321             276   \n",
       "3          43              226           8                 38              18   \n",
       "4          26              144           8                 26               6   \n",
       "\n",
       "   r_avg_wordlength  r_avg_sentlength  r_unique/words  r_stopwords/words  \\\n",
       "0              5.54             10.14            0.86               0.34   \n",
       "1              5.57             17.17            0.70               0.46   \n",
       "2              5.25             17.53            0.54               0.46   \n",
       "3              5.26              5.38            0.88               0.42   \n",
       "4              5.54              3.25            1.00               0.23   \n",
       "\n",
       "   r_digit_cnt  r_noun_cnt  r_Adj_cnt  \n",
       "0            0          20          7  \n",
       "1            0          37         25  \n",
       "2            0         118         38  \n",
       "3            0           7          1  \n",
       "4            0           7          3  "
      ]
     },
     "execution_count": 31,
     "metadata": {},
     "output_type": "execute_result"
    }
   ],
   "source": [
    "text_df['r_Adj_cnt'] = text_df['r_text'].swifter.apply(count_Adj)\n",
    "text_df.head()"
   ]
  },
  {
   "cell_type": "code",
   "execution_count": 32,
   "id": "9d2a9c95",
   "metadata": {},
   "outputs": [
    {
     "data": {
      "text/plain": [
       "<AxesSubplot:xlabel='r_Adj_cnt', ylabel='Density'>"
      ]
     },
     "execution_count": 32,
     "metadata": {},
     "output_type": "execute_result"
    },
    {
     "data": {
      "image/png": "[encoded data removed]",
      "text/plain": [
       "<Figure size 432x288 with 1 Axes>"
      ]
     },
     "metadata": {
      "needs_background": "light"
     },
     "output_type": "display_data"
    }
   ],
   "source": [
    "sns.distplot(text_df['r_Adj_cnt'])"
   ]
  },
  {
   "cell_type": "markdown",
   "id": "a30ec3cf",
   "metadata": {},
   "source": [
    "### 13. Number of Verbs"
   ]
  },
  {
   "cell_type": "code",
   "execution_count": 33,
   "id": "07efee64",
   "metadata": {},
   "outputs": [],
   "source": [
    "def count_Adv(x):\n",
    "    res = [token.pos_ for token in sp(x)]\n",
    "    return collections.Counter(res)['ADV']"
   ]
  },
  {
   "cell_type": "code",
   "execution_count": 34,
   "id": "d8bb856b",
   "metadata": {
    "scrolled": true
   },
   "outputs": [
    {
     "data": {
      "application/vnd.jupyter.widget-view+json": {
       "model_id": "3866bf4f8b824e15a89c325ea9762fc7",
       "version_major": 2,
       "version_minor": 0
      },
      "text/plain": [
       "Pandas Apply:   0%|          | 0/100000 [00:00<?, ?it/s]"
      ]
     },
     "metadata": {},
     "output_type": "display_data"
    },
    {
     "data": {
      "text/html": [
       "<div>\n",
       "<style scoped>\n",
       "    .dataframe tbody tr th:only-of-type {\n",
       "        vertical-align: middle;\n",
       "    }\n",
       "\n",
       "    .dataframe tbody tr th {\n",
       "        vertical-align: top;\n",
       "    }\n",
       "\n",
       "    .dataframe thead th {\n",
       "        text-align: right;\n",
       "    }\n",
       "</style>\n",
       "<table border=\"1\" class=\"dataframe\">\n",
       "  <thead>\n",
       "    <tr style=\"text-align: right;\">\n",
       "      <th></th>\n",
       "      <th>r_id</th>\n",
       "      <th>r_useful</th>\n",
       "      <th>r_text</th>\n",
       "      <th>r_word_cnt</th>\n",
       "      <th>r_character_cnt</th>\n",
       "      <th>r_sent_cnt</th>\n",
       "      <th>r_unique_word_cnt</th>\n",
       "      <th>r_stopword_cnt</th>\n",
       "      <th>r_avg_wordlength</th>\n",
       "      <th>r_avg_sentlength</th>\n",
       "      <th>r_unique/words</th>\n",
       "      <th>r_stopwords/words</th>\n",
       "      <th>r_digit_cnt</th>\n",
       "      <th>r_noun_cnt</th>\n",
       "      <th>r_Adj_cnt</th>\n",
       "      <th>r_Adv_cnt</th>\n",
       "    </tr>\n",
       "  </thead>\n",
       "  <tbody>\n",
       "    <tr>\n",
       "      <th>0</th>\n",
       "      <td>2235679</td>\n",
       "      <td>1</td>\n",
       "      <td>Like buns ? \\nEat here . \\nSeriously , this is...</td>\n",
       "      <td>71</td>\n",
       "      <td>393</td>\n",
       "      <td>7</td>\n",
       "      <td>61</td>\n",
       "      <td>24</td>\n",
       "      <td>5.54</td>\n",
       "      <td>10.14</td>\n",
       "      <td>0.86</td>\n",
       "      <td>0.34</td>\n",
       "      <td>0</td>\n",
       "      <td>20</td>\n",
       "      <td>7</td>\n",
       "      <td>6</td>\n",
       "    </tr>\n",
       "    <tr>\n",
       "      <th>1</th>\n",
       "      <td>6902682</td>\n",
       "      <td>1</td>\n",
       "      <td>Sadly the best thing about this place was the ...</td>\n",
       "      <td>206</td>\n",
       "      <td>1147</td>\n",
       "      <td>12</td>\n",
       "      <td>145</td>\n",
       "      <td>95</td>\n",
       "      <td>5.57</td>\n",
       "      <td>17.17</td>\n",
       "      <td>0.70</td>\n",
       "      <td>0.46</td>\n",
       "      <td>0</td>\n",
       "      <td>37</td>\n",
       "      <td>25</td>\n",
       "      <td>20</td>\n",
       "    </tr>\n",
       "    <tr>\n",
       "      <th>2</th>\n",
       "      <td>1590330</td>\n",
       "      <td>1</td>\n",
       "      <td>On my recent visit to New Orleans I met up wit...</td>\n",
       "      <td>596</td>\n",
       "      <td>3130</td>\n",
       "      <td>34</td>\n",
       "      <td>321</td>\n",
       "      <td>276</td>\n",
       "      <td>5.25</td>\n",
       "      <td>17.53</td>\n",
       "      <td>0.54</td>\n",
       "      <td>0.46</td>\n",
       "      <td>0</td>\n",
       "      <td>118</td>\n",
       "      <td>38</td>\n",
       "      <td>36</td>\n",
       "    </tr>\n",
       "    <tr>\n",
       "      <th>3</th>\n",
       "      <td>6289537</td>\n",
       "      <td>1</td>\n",
       "      <td>My husband likes to come here. I really don't....</td>\n",
       "      <td>43</td>\n",
       "      <td>226</td>\n",
       "      <td>8</td>\n",
       "      <td>38</td>\n",
       "      <td>18</td>\n",
       "      <td>5.26</td>\n",
       "      <td>5.38</td>\n",
       "      <td>0.88</td>\n",
       "      <td>0.42</td>\n",
       "      <td>0</td>\n",
       "      <td>7</td>\n",
       "      <td>1</td>\n",
       "      <td>6</td>\n",
       "    </tr>\n",
       "    <tr>\n",
       "      <th>4</th>\n",
       "      <td>2112180</td>\n",
       "      <td>1</td>\n",
       "      <td>Yes to everything!!! The ribs, the pulled pork...</td>\n",
       "      <td>26</td>\n",
       "      <td>144</td>\n",
       "      <td>8</td>\n",
       "      <td>26</td>\n",
       "      <td>6</td>\n",
       "      <td>5.54</td>\n",
       "      <td>3.25</td>\n",
       "      <td>1.00</td>\n",
       "      <td>0.23</td>\n",
       "      <td>0</td>\n",
       "      <td>7</td>\n",
       "      <td>3</td>\n",
       "      <td>1</td>\n",
       "    </tr>\n",
       "  </tbody>\n",
       "</table>\n",
       "</div>"
      ],
      "text/plain": [
       "      r_id  r_useful                                             r_text  \\\n",
       "0  2235679         1  Like buns ? \\nEat here . \\nSeriously , this is...   \n",
       "1  6902682         1  Sadly the best thing about this place was the ...   \n",
       "2  1590330         1  On my recent visit to New Orleans I met up wit...   \n",
       "3  6289537         1  My husband likes to come here. I really don't....   \n",
       "4  2112180         1  Yes to everything!!! The ribs, the pulled pork...   \n",
       "\n",
       "   r_word_cnt  r_character_cnt  r_sent_cnt  r_unique_word_cnt  r_stopword_cnt  \\\n",
       "0          71              393           7                 61              24   \n",
       "1         206             1147          12                145              95   \n",
       "2         596             3130          34                321             276   \n",
       "3          43              226           8                 38              18   \n",
       "4          26              144           8                 26               6   \n",
       "\n",
       "   r_avg_wordlength  r_avg_sentlength  r_unique/words  r_stopwords/words  \\\n",
       "0              5.54             10.14            0.86               0.34   \n",
       "1              5.57             17.17            0.70               0.46   \n",
       "2              5.25             17.53            0.54               0.46   \n",
       "3              5.26              5.38            0.88               0.42   \n",
       "4              5.54              3.25            1.00               0.23   \n",
       "\n",
       "   r_digit_cnt  r_noun_cnt  r_Adj_cnt  r_Adv_cnt  \n",
       "0            0          20          7          6  \n",
       "1            0          37         25         20  \n",
       "2            0         118         38         36  \n",
       "3            0           7          1          6  \n",
       "4            0           7          3          1  "
      ]
     },
     "execution_count": 34,
     "metadata": {},
     "output_type": "execute_result"
    }
   ],
   "source": [
    "text_df['r_Adv_cnt'] = text_df['r_text'].swifter.apply(count_Adv)\n",
    "text_df.head()"
   ]
  },
  {
   "cell_type": "code",
   "execution_count": 35,
   "id": "7f47b240",
   "metadata": {},
   "outputs": [
    {
     "data": {
      "text/plain": [
       "<AxesSubplot:xlabel='r_Adv_cnt', ylabel='Density'>"
      ]
     },
     "execution_count": 35,
     "metadata": {},
     "output_type": "execute_result"
    },
    {
     "data": {
      "image/png": "[encoded data removed]",
      "text/plain": [
       "<Figure size 432x288 with 1 Axes>"
      ]
     },
     "metadata": {
      "needs_background": "light"
     },
     "output_type": "display_data"
    }
   ],
   "source": [
    "sns.distplot(text_df['r_Adv_cnt'])"
   ]
  },
  {
   "cell_type": "markdown",
   "id": "f70ef986",
   "metadata": {},
   "source": [
    "### 14. Number of capital words"
   ]
  },
  {
   "cell_type": "code",
   "execution_count": 36,
   "id": "d7abadd1",
   "metadata": {},
   "outputs": [
    {
     "data": {
      "application/vnd.jupyter.widget-view+json": {
       "model_id": "ddf87ea0e2d24aaea600e1e6179f1b24",
       "version_major": 2,
       "version_minor": 0
      },
      "text/plain": [
       "Pandas Apply:   0%|          | 0/100000 [00:00<?, ?it/s]"
      ]
     },
     "metadata": {},
     "output_type": "display_data"
    },
    {
     "data": {
      "text/html": [
       "<div>\n",
       "<style scoped>\n",
       "    .dataframe tbody tr th:only-of-type {\n",
       "        vertical-align: middle;\n",
       "    }\n",
       "\n",
       "    .dataframe tbody tr th {\n",
       "        vertical-align: top;\n",
       "    }\n",
       "\n",
       "    .dataframe thead th {\n",
       "        text-align: right;\n",
       "    }\n",
       "</style>\n",
       "<table border=\"1\" class=\"dataframe\">\n",
       "  <thead>\n",
       "    <tr style=\"text-align: right;\">\n",
       "      <th></th>\n",
       "      <th>r_id</th>\n",
       "      <th>r_useful</th>\n",
       "      <th>r_text</th>\n",
       "      <th>r_word_cnt</th>\n",
       "      <th>r_character_cnt</th>\n",
       "      <th>r_sent_cnt</th>\n",
       "      <th>r_unique_word_cnt</th>\n",
       "      <th>r_stopword_cnt</th>\n",
       "      <th>r_avg_wordlength</th>\n",
       "      <th>r_avg_sentlength</th>\n",
       "      <th>r_unique/words</th>\n",
       "      <th>r_stopwords/words</th>\n",
       "      <th>r_digit_cnt</th>\n",
       "      <th>r_noun_cnt</th>\n",
       "      <th>r_Adj_cnt</th>\n",
       "      <th>r_Adv_cnt</th>\n",
       "      <th>r_capital_word_cnt</th>\n",
       "    </tr>\n",
       "  </thead>\n",
       "  <tbody>\n",
       "    <tr>\n",
       "      <th>0</th>\n",
       "      <td>2235679</td>\n",
       "      <td>1</td>\n",
       "      <td>Like buns ? \\nEat here . \\nSeriously , this is...</td>\n",
       "      <td>71</td>\n",
       "      <td>393</td>\n",
       "      <td>7</td>\n",
       "      <td>61</td>\n",
       "      <td>24</td>\n",
       "      <td>5.54</td>\n",
       "      <td>10.14</td>\n",
       "      <td>0.86</td>\n",
       "      <td>0.34</td>\n",
       "      <td>0</td>\n",
       "      <td>20</td>\n",
       "      <td>7</td>\n",
       "      <td>6</td>\n",
       "      <td>0</td>\n",
       "    </tr>\n",
       "    <tr>\n",
       "      <th>1</th>\n",
       "      <td>6902682</td>\n",
       "      <td>1</td>\n",
       "      <td>Sadly the best thing about this place was the ...</td>\n",
       "      <td>206</td>\n",
       "      <td>1147</td>\n",
       "      <td>12</td>\n",
       "      <td>145</td>\n",
       "      <td>95</td>\n",
       "      <td>5.57</td>\n",
       "      <td>17.17</td>\n",
       "      <td>0.70</td>\n",
       "      <td>0.46</td>\n",
       "      <td>0</td>\n",
       "      <td>37</td>\n",
       "      <td>25</td>\n",
       "      <td>20</td>\n",
       "      <td>1</td>\n",
       "    </tr>\n",
       "    <tr>\n",
       "      <th>2</th>\n",
       "      <td>1590330</td>\n",
       "      <td>1</td>\n",
       "      <td>On my recent visit to New Orleans I met up wit...</td>\n",
       "      <td>596</td>\n",
       "      <td>3130</td>\n",
       "      <td>34</td>\n",
       "      <td>321</td>\n",
       "      <td>276</td>\n",
       "      <td>5.25</td>\n",
       "      <td>17.53</td>\n",
       "      <td>0.54</td>\n",
       "      <td>0.46</td>\n",
       "      <td>0</td>\n",
       "      <td>118</td>\n",
       "      <td>38</td>\n",
       "      <td>36</td>\n",
       "      <td>10</td>\n",
       "    </tr>\n",
       "    <tr>\n",
       "      <th>3</th>\n",
       "      <td>6289537</td>\n",
       "      <td>1</td>\n",
       "      <td>My husband likes to come here. I really don't....</td>\n",
       "      <td>43</td>\n",
       "      <td>226</td>\n",
       "      <td>8</td>\n",
       "      <td>38</td>\n",
       "      <td>18</td>\n",
       "      <td>5.26</td>\n",
       "      <td>5.38</td>\n",
       "      <td>0.88</td>\n",
       "      <td>0.42</td>\n",
       "      <td>0</td>\n",
       "      <td>7</td>\n",
       "      <td>1</td>\n",
       "      <td>6</td>\n",
       "      <td>2</td>\n",
       "    </tr>\n",
       "    <tr>\n",
       "      <th>4</th>\n",
       "      <td>2112180</td>\n",
       "      <td>1</td>\n",
       "      <td>Yes to everything!!! The ribs, the pulled pork...</td>\n",
       "      <td>26</td>\n",
       "      <td>144</td>\n",
       "      <td>8</td>\n",
       "      <td>26</td>\n",
       "      <td>6</td>\n",
       "      <td>5.54</td>\n",
       "      <td>3.25</td>\n",
       "      <td>1.00</td>\n",
       "      <td>0.23</td>\n",
       "      <td>0</td>\n",
       "      <td>7</td>\n",
       "      <td>3</td>\n",
       "      <td>1</td>\n",
       "      <td>1</td>\n",
       "    </tr>\n",
       "  </tbody>\n",
       "</table>\n",
       "</div>"
      ],
      "text/plain": [
       "      r_id  r_useful                                             r_text  \\\n",
       "0  2235679         1  Like buns ? \\nEat here . \\nSeriously , this is...   \n",
       "1  6902682         1  Sadly the best thing about this place was the ...   \n",
       "2  1590330         1  On my recent visit to New Orleans I met up wit...   \n",
       "3  6289537         1  My husband likes to come here. I really don't....   \n",
       "4  2112180         1  Yes to everything!!! The ribs, the pulled pork...   \n",
       "\n",
       "   r_word_cnt  r_character_cnt  r_sent_cnt  r_unique_word_cnt  r_stopword_cnt  \\\n",
       "0          71              393           7                 61              24   \n",
       "1         206             1147          12                145              95   \n",
       "2         596             3130          34                321             276   \n",
       "3          43              226           8                 38              18   \n",
       "4          26              144           8                 26               6   \n",
       "\n",
       "   r_avg_wordlength  r_avg_sentlength  r_unique/words  r_stopwords/words  \\\n",
       "0              5.54             10.14            0.86               0.34   \n",
       "1              5.57             17.17            0.70               0.46   \n",
       "2              5.25             17.53            0.54               0.46   \n",
       "3              5.26              5.38            0.88               0.42   \n",
       "4              5.54              3.25            1.00               0.23   \n",
       "\n",
       "   r_digit_cnt  r_noun_cnt  r_Adj_cnt  r_Adv_cnt  r_capital_word_cnt  \n",
       "0            0          20          7          6                   0  \n",
       "1            0          37         25         20                   1  \n",
       "2            0         118         38         36                  10  \n",
       "3            0           7          1          6                   2  \n",
       "4            0           7          3          1                   1  "
      ]
     },
     "execution_count": 36,
     "metadata": {},
     "output_type": "execute_result"
    }
   ],
   "source": [
    "def count_capital_words(text):\n",
    "    return sum(map(str.isupper,text.split()))\n",
    "text_df['r_capital_word_cnt'] = text_df[\"r_text\"].swifter.apply(lambda x:count_capital_words(x))\n",
    "text_df.head()"
   ]
  },
  {
   "cell_type": "markdown",
   "id": "afe1c11a",
   "metadata": {},
   "source": [
    "### 15. Number of words in quotes"
   ]
  },
  {
   "cell_type": "code",
   "execution_count": 37,
   "id": "ab3a5178",
   "metadata": {},
   "outputs": [
    {
     "data": {
      "application/vnd.jupyter.widget-view+json": {
       "model_id": "993f7f0cdb8a4645af58b8c28dc665bf",
       "version_major": 2,
       "version_minor": 0
      },
      "text/plain": [
       "Pandas Apply:   0%|          | 0/100000 [00:00<?, ?it/s]"
      ]
     },
     "metadata": {},
     "output_type": "display_data"
    },
    {
     "data": {
      "text/html": [
       "<div>\n",
       "<style scoped>\n",
       "    .dataframe tbody tr th:only-of-type {\n",
       "        vertical-align: middle;\n",
       "    }\n",
       "\n",
       "    .dataframe tbody tr th {\n",
       "        vertical-align: top;\n",
       "    }\n",
       "\n",
       "    .dataframe thead th {\n",
       "        text-align: right;\n",
       "    }\n",
       "</style>\n",
       "<table border=\"1\" class=\"dataframe\">\n",
       "  <thead>\n",
       "    <tr style=\"text-align: right;\">\n",
       "      <th></th>\n",
       "      <th>r_id</th>\n",
       "      <th>r_useful</th>\n",
       "      <th>r_text</th>\n",
       "      <th>r_word_cnt</th>\n",
       "      <th>r_character_cnt</th>\n",
       "      <th>r_sent_cnt</th>\n",
       "      <th>r_unique_word_cnt</th>\n",
       "      <th>r_stopword_cnt</th>\n",
       "      <th>r_avg_wordlength</th>\n",
       "      <th>r_avg_sentlength</th>\n",
       "      <th>r_unique/words</th>\n",
       "      <th>r_stopwords/words</th>\n",
       "      <th>r_digit_cnt</th>\n",
       "      <th>r_noun_cnt</th>\n",
       "      <th>r_Adj_cnt</th>\n",
       "      <th>r_Adv_cnt</th>\n",
       "      <th>r_capital_word_cnt</th>\n",
       "      <th>r_quoted_word_cnt</th>\n",
       "    </tr>\n",
       "  </thead>\n",
       "  <tbody>\n",
       "    <tr>\n",
       "      <th>0</th>\n",
       "      <td>2235679</td>\n",
       "      <td>1</td>\n",
       "      <td>Like buns ? \\nEat here . \\nSeriously , this is...</td>\n",
       "      <td>71</td>\n",
       "      <td>393</td>\n",
       "      <td>7</td>\n",
       "      <td>61</td>\n",
       "      <td>24</td>\n",
       "      <td>5.54</td>\n",
       "      <td>10.14</td>\n",
       "      <td>0.86</td>\n",
       "      <td>0.34</td>\n",
       "      <td>0</td>\n",
       "      <td>20</td>\n",
       "      <td>7</td>\n",
       "      <td>6</td>\n",
       "      <td>0</td>\n",
       "      <td>0</td>\n",
       "    </tr>\n",
       "    <tr>\n",
       "      <th>1</th>\n",
       "      <td>6902682</td>\n",
       "      <td>1</td>\n",
       "      <td>Sadly the best thing about this place was the ...</td>\n",
       "      <td>206</td>\n",
       "      <td>1147</td>\n",
       "      <td>12</td>\n",
       "      <td>145</td>\n",
       "      <td>95</td>\n",
       "      <td>5.57</td>\n",
       "      <td>17.17</td>\n",
       "      <td>0.70</td>\n",
       "      <td>0.46</td>\n",
       "      <td>0</td>\n",
       "      <td>37</td>\n",
       "      <td>25</td>\n",
       "      <td>20</td>\n",
       "      <td>1</td>\n",
       "      <td>0</td>\n",
       "    </tr>\n",
       "    <tr>\n",
       "      <th>2</th>\n",
       "      <td>1590330</td>\n",
       "      <td>1</td>\n",
       "      <td>On my recent visit to New Orleans I met up wit...</td>\n",
       "      <td>596</td>\n",
       "      <td>3130</td>\n",
       "      <td>34</td>\n",
       "      <td>321</td>\n",
       "      <td>276</td>\n",
       "      <td>5.25</td>\n",
       "      <td>17.53</td>\n",
       "      <td>0.54</td>\n",
       "      <td>0.46</td>\n",
       "      <td>0</td>\n",
       "      <td>118</td>\n",
       "      <td>38</td>\n",
       "      <td>36</td>\n",
       "      <td>10</td>\n",
       "      <td>0</td>\n",
       "    </tr>\n",
       "    <tr>\n",
       "      <th>3</th>\n",
       "      <td>6289537</td>\n",
       "      <td>1</td>\n",
       "      <td>My husband likes to come here. I really don't....</td>\n",
       "      <td>43</td>\n",
       "      <td>226</td>\n",
       "      <td>8</td>\n",
       "      <td>38</td>\n",
       "      <td>18</td>\n",
       "      <td>5.26</td>\n",
       "      <td>5.38</td>\n",
       "      <td>0.88</td>\n",
       "      <td>0.42</td>\n",
       "      <td>0</td>\n",
       "      <td>7</td>\n",
       "      <td>1</td>\n",
       "      <td>6</td>\n",
       "      <td>2</td>\n",
       "      <td>0</td>\n",
       "    </tr>\n",
       "    <tr>\n",
       "      <th>4</th>\n",
       "      <td>2112180</td>\n",
       "      <td>1</td>\n",
       "      <td>Yes to everything!!! The ribs, the pulled pork...</td>\n",
       "      <td>26</td>\n",
       "      <td>144</td>\n",
       "      <td>8</td>\n",
       "      <td>26</td>\n",
       "      <td>6</td>\n",
       "      <td>5.54</td>\n",
       "      <td>3.25</td>\n",
       "      <td>1.00</td>\n",
       "      <td>0.23</td>\n",
       "      <td>0</td>\n",
       "      <td>7</td>\n",
       "      <td>3</td>\n",
       "      <td>1</td>\n",
       "      <td>1</td>\n",
       "      <td>0</td>\n",
       "    </tr>\n",
       "  </tbody>\n",
       "</table>\n",
       "</div>"
      ],
      "text/plain": [
       "      r_id  r_useful                                             r_text  \\\n",
       "0  2235679         1  Like buns ? \\nEat here . \\nSeriously , this is...   \n",
       "1  6902682         1  Sadly the best thing about this place was the ...   \n",
       "2  1590330         1  On my recent visit to New Orleans I met up wit...   \n",
       "3  6289537         1  My husband likes to come here. I really don't....   \n",
       "4  2112180         1  Yes to everything!!! The ribs, the pulled pork...   \n",
       "\n",
       "   r_word_cnt  r_character_cnt  r_sent_cnt  r_unique_word_cnt  r_stopword_cnt  \\\n",
       "0          71              393           7                 61              24   \n",
       "1         206             1147          12                145              95   \n",
       "2         596             3130          34                321             276   \n",
       "3          43              226           8                 38              18   \n",
       "4          26              144           8                 26               6   \n",
       "\n",
       "   r_avg_wordlength  r_avg_sentlength  r_unique/words  r_stopwords/words  \\\n",
       "0              5.54             10.14            0.86               0.34   \n",
       "1              5.57             17.17            0.70               0.46   \n",
       "2              5.25             17.53            0.54               0.46   \n",
       "3              5.26              5.38            0.88               0.42   \n",
       "4              5.54              3.25            1.00               0.23   \n",
       "\n",
       "   r_digit_cnt  r_noun_cnt  r_Adj_cnt  r_Adv_cnt  r_capital_word_cnt  \\\n",
       "0            0          20          7          6                   0   \n",
       "1            0          37         25         20                   1   \n",
       "2            0         118         38         36                  10   \n",
       "3            0           7          1          6                   2   \n",
       "4            0           7          3          1                   1   \n",
       "\n",
       "   r_quoted_word_cnt  \n",
       "0                  0  \n",
       "1                  0  \n",
       "2                  0  \n",
       "3                  0  \n",
       "4                  0  "
      ]
     },
     "execution_count": 37,
     "metadata": {},
     "output_type": "execute_result"
    }
   ],
   "source": [
    "def count_words_in_quotes(text):\n",
    "    x = re.findall(\"'.'|\\\".\\\"\", text)\n",
    "    count=0\n",
    "    if x is None:\n",
    "        return 0\n",
    "    else:\n",
    "        for i in x:\n",
    "            t=i[1:-1]\n",
    "            count+=word_count(t)\n",
    "        return count\n",
    "text_df['r_quoted_word_cnt'] = text_df[\"r_text\"].swifter.apply(lambda x:count_words_in_quotes(x))\n",
    "text_df.head()"
   ]
  },
  {
   "cell_type": "code",
   "execution_count": 38,
   "id": "f0701f35",
   "metadata": {
    "scrolled": true
   },
   "outputs": [
    {
     "data": {
      "text/plain": [
       "<AxesSubplot:xlabel='r_quoted_word_cnt', ylabel='Density'>"
      ]
     },
     "execution_count": 38,
     "metadata": {},
     "output_type": "execute_result"
    },
    {
     "data": {
      "image/png": "[encoded data removed]",
      "text/plain": [
       "<Figure size 432x288 with 1 Axes>"
      ]
     },
     "metadata": {
      "needs_background": "light"
     },
     "output_type": "display_data"
    }
   ],
   "source": [
    "sns.distplot(text_df['r_quoted_word_cnt'])"
   ]
  },
  {
   "cell_type": "markdown",
   "id": "0d3f9782",
   "metadata": {},
   "source": [
    "### 16. Number of hashtags"
   ]
  },
  {
   "cell_type": "code",
   "execution_count": 39,
   "id": "1e1191e8",
   "metadata": {},
   "outputs": [
    {
     "data": {
      "application/vnd.jupyter.widget-view+json": {
       "model_id": "b6fd6cc1f9af473f930ac778ecd1da47",
       "version_major": 2,
       "version_minor": 0
      },
      "text/plain": [
       "Pandas Apply:   0%|          | 0/100000 [00:00<?, ?it/s]"
      ]
     },
     "metadata": {},
     "output_type": "display_data"
    },
    {
     "data": {
      "text/html": [
       "<div>\n",
       "<style scoped>\n",
       "    .dataframe tbody tr th:only-of-type {\n",
       "        vertical-align: middle;\n",
       "    }\n",
       "\n",
       "    .dataframe tbody tr th {\n",
       "        vertical-align: top;\n",
       "    }\n",
       "\n",
       "    .dataframe thead th {\n",
       "        text-align: right;\n",
       "    }\n",
       "</style>\n",
       "<table border=\"1\" class=\"dataframe\">\n",
       "  <thead>\n",
       "    <tr style=\"text-align: right;\">\n",
       "      <th></th>\n",
       "      <th>r_id</th>\n",
       "      <th>r_useful</th>\n",
       "      <th>r_text</th>\n",
       "      <th>r_word_cnt</th>\n",
       "      <th>r_character_cnt</th>\n",
       "      <th>r_sent_cnt</th>\n",
       "      <th>r_unique_word_cnt</th>\n",
       "      <th>r_stopword_cnt</th>\n",
       "      <th>r_avg_wordlength</th>\n",
       "      <th>r_avg_sentlength</th>\n",
       "      <th>r_unique/words</th>\n",
       "      <th>r_stopwords/words</th>\n",
       "      <th>r_digit_cnt</th>\n",
       "      <th>r_noun_cnt</th>\n",
       "      <th>r_Adj_cnt</th>\n",
       "      <th>r_Adv_cnt</th>\n",
       "      <th>r_capital_word_cnt</th>\n",
       "      <th>r_quoted_word_cnt</th>\n",
       "      <th>r_hashtag_cnt</th>\n",
       "    </tr>\n",
       "  </thead>\n",
       "  <tbody>\n",
       "    <tr>\n",
       "      <th>0</th>\n",
       "      <td>2235679</td>\n",
       "      <td>1</td>\n",
       "      <td>Like buns ? \\nEat here . \\nSeriously , this is...</td>\n",
       "      <td>71</td>\n",
       "      <td>393</td>\n",
       "      <td>7</td>\n",
       "      <td>61</td>\n",
       "      <td>24</td>\n",
       "      <td>5.54</td>\n",
       "      <td>10.14</td>\n",
       "      <td>0.86</td>\n",
       "      <td>0.34</td>\n",
       "      <td>0</td>\n",
       "      <td>20</td>\n",
       "      <td>7</td>\n",
       "      <td>6</td>\n",
       "      <td>0</td>\n",
       "      <td>0</td>\n",
       "      <td>0</td>\n",
       "    </tr>\n",
       "    <tr>\n",
       "      <th>1</th>\n",
       "      <td>6902682</td>\n",
       "      <td>1</td>\n",
       "      <td>Sadly the best thing about this place was the ...</td>\n",
       "      <td>206</td>\n",
       "      <td>1147</td>\n",
       "      <td>12</td>\n",
       "      <td>145</td>\n",
       "      <td>95</td>\n",
       "      <td>5.57</td>\n",
       "      <td>17.17</td>\n",
       "      <td>0.70</td>\n",
       "      <td>0.46</td>\n",
       "      <td>0</td>\n",
       "      <td>37</td>\n",
       "      <td>25</td>\n",
       "      <td>20</td>\n",
       "      <td>1</td>\n",
       "      <td>0</td>\n",
       "      <td>0</td>\n",
       "    </tr>\n",
       "    <tr>\n",
       "      <th>2</th>\n",
       "      <td>1590330</td>\n",
       "      <td>1</td>\n",
       "      <td>On my recent visit to New Orleans I met up wit...</td>\n",
       "      <td>596</td>\n",
       "      <td>3130</td>\n",
       "      <td>34</td>\n",
       "      <td>321</td>\n",
       "      <td>276</td>\n",
       "      <td>5.25</td>\n",
       "      <td>17.53</td>\n",
       "      <td>0.54</td>\n",
       "      <td>0.46</td>\n",
       "      <td>0</td>\n",
       "      <td>118</td>\n",
       "      <td>38</td>\n",
       "      <td>36</td>\n",
       "      <td>10</td>\n",
       "      <td>0</td>\n",
       "      <td>0</td>\n",
       "    </tr>\n",
       "    <tr>\n",
       "      <th>3</th>\n",
       "      <td>6289537</td>\n",
       "      <td>1</td>\n",
       "      <td>My husband likes to come here. I really don't....</td>\n",
       "      <td>43</td>\n",
       "      <td>226</td>\n",
       "      <td>8</td>\n",
       "      <td>38</td>\n",
       "      <td>18</td>\n",
       "      <td>5.26</td>\n",
       "      <td>5.38</td>\n",
       "      <td>0.88</td>\n",
       "      <td>0.42</td>\n",
       "      <td>0</td>\n",
       "      <td>7</td>\n",
       "      <td>1</td>\n",
       "      <td>6</td>\n",
       "      <td>2</td>\n",
       "      <td>0</td>\n",
       "      <td>0</td>\n",
       "    </tr>\n",
       "    <tr>\n",
       "      <th>4</th>\n",
       "      <td>2112180</td>\n",
       "      <td>1</td>\n",
       "      <td>Yes to everything!!! The ribs, the pulled pork...</td>\n",
       "      <td>26</td>\n",
       "      <td>144</td>\n",
       "      <td>8</td>\n",
       "      <td>26</td>\n",
       "      <td>6</td>\n",
       "      <td>5.54</td>\n",
       "      <td>3.25</td>\n",
       "      <td>1.00</td>\n",
       "      <td>0.23</td>\n",
       "      <td>0</td>\n",
       "      <td>7</td>\n",
       "      <td>3</td>\n",
       "      <td>1</td>\n",
       "      <td>1</td>\n",
       "      <td>0</td>\n",
       "      <td>0</td>\n",
       "    </tr>\n",
       "  </tbody>\n",
       "</table>\n",
       "</div>"
      ],
      "text/plain": [
       "      r_id  r_useful                                             r_text  \\\n",
       "0  2235679         1  Like buns ? \\nEat here . \\nSeriously , this is...   \n",
       "1  6902682         1  Sadly the best thing about this place was the ...   \n",
       "2  1590330         1  On my recent visit to New Orleans I met up wit...   \n",
       "3  6289537         1  My husband likes to come here. I really don't....   \n",
       "4  2112180         1  Yes to everything!!! The ribs, the pulled pork...   \n",
       "\n",
       "   r_word_cnt  r_character_cnt  r_sent_cnt  r_unique_word_cnt  r_stopword_cnt  \\\n",
       "0          71              393           7                 61              24   \n",
       "1         206             1147          12                145              95   \n",
       "2         596             3130          34                321             276   \n",
       "3          43              226           8                 38              18   \n",
       "4          26              144           8                 26               6   \n",
       "\n",
       "   r_avg_wordlength  r_avg_sentlength  r_unique/words  r_stopwords/words  \\\n",
       "0              5.54             10.14            0.86               0.34   \n",
       "1              5.57             17.17            0.70               0.46   \n",
       "2              5.25             17.53            0.54               0.46   \n",
       "3              5.26              5.38            0.88               0.42   \n",
       "4              5.54              3.25            1.00               0.23   \n",
       "\n",
       "   r_digit_cnt  r_noun_cnt  r_Adj_cnt  r_Adv_cnt  r_capital_word_cnt  \\\n",
       "0            0          20          7          6                   0   \n",
       "1            0          37         25         20                   1   \n",
       "2            0         118         38         36                  10   \n",
       "3            0           7          1          6                   2   \n",
       "4            0           7          3          1                   1   \n",
       "\n",
       "   r_quoted_word_cnt  r_hashtag_cnt  \n",
       "0                  0              0  \n",
       "1                  0              0  \n",
       "2                  0              0  \n",
       "3                  0              0  \n",
       "4                  0              0  "
      ]
     },
     "execution_count": 39,
     "metadata": {},
     "output_type": "execute_result"
    }
   ],
   "source": [
    "def count_htags(text):\n",
    "    x = re.findall(r'(#w[A-Za-z0-9]*)', text)\n",
    "    return len(x) \n",
    "text_df['r_hashtag_cnt'] = text_df[\"r_text\"].swifter.apply(lambda x:count_htags(x))\n",
    "text_df.head()"
   ]
  },
  {
   "cell_type": "code",
   "execution_count": 40,
   "id": "0a4135fb",
   "metadata": {
    "scrolled": false
   },
   "outputs": [
    {
     "data": {
      "text/plain": [
       "<AxesSubplot:xlabel='r_hashtag_cnt', ylabel='Density'>"
      ]
     },
     "execution_count": 40,
     "metadata": {},
     "output_type": "execute_result"
    },
    {
     "data": {
      "image/png": "[encoded data removed]",
      "text/plain": [
       "<Figure size 432x288 with 1 Axes>"
      ]
     },
     "metadata": {
      "needs_background": "light"
     },
     "output_type": "display_data"
    }
   ],
   "source": [
    "sns.distplot(text_df['r_hashtag_cnt'])"
   ]
  },
  {
   "cell_type": "markdown",
   "id": "346e3c8a",
   "metadata": {},
   "source": [
    "### 17. Number of Exclamations"
   ]
  },
  {
   "cell_type": "code",
   "execution_count": 41,
   "id": "7fe94224",
   "metadata": {},
   "outputs": [
    {
     "data": {
      "text/html": [
       "<div>\n",
       "<style scoped>\n",
       "    .dataframe tbody tr th:only-of-type {\n",
       "        vertical-align: middle;\n",
       "    }\n",
       "\n",
       "    .dataframe tbody tr th {\n",
       "        vertical-align: top;\n",
       "    }\n",
       "\n",
       "    .dataframe thead th {\n",
       "        text-align: right;\n",
       "    }\n",
       "</style>\n",
       "<table border=\"1\" class=\"dataframe\">\n",
       "  <thead>\n",
       "    <tr style=\"text-align: right;\">\n",
       "      <th></th>\n",
       "      <th>r_id</th>\n",
       "      <th>r_useful</th>\n",
       "      <th>r_text</th>\n",
       "      <th>r_word_cnt</th>\n",
       "      <th>r_character_cnt</th>\n",
       "      <th>r_sent_cnt</th>\n",
       "      <th>r_unique_word_cnt</th>\n",
       "      <th>r_stopword_cnt</th>\n",
       "      <th>r_avg_wordlength</th>\n",
       "      <th>r_avg_sentlength</th>\n",
       "      <th>r_unique/words</th>\n",
       "      <th>r_stopwords/words</th>\n",
       "      <th>r_digit_cnt</th>\n",
       "      <th>r_noun_cnt</th>\n",
       "      <th>r_Adj_cnt</th>\n",
       "      <th>r_Adv_cnt</th>\n",
       "      <th>r_capital_word_cnt</th>\n",
       "      <th>r_quoted_word_cnt</th>\n",
       "      <th>r_hashtag_cnt</th>\n",
       "      <th>r_exclam_cnt</th>\n",
       "    </tr>\n",
       "  </thead>\n",
       "  <tbody>\n",
       "    <tr>\n",
       "      <th>0</th>\n",
       "      <td>2235679</td>\n",
       "      <td>1</td>\n",
       "      <td>Like buns ? \\nEat here . \\nSeriously , this is...</td>\n",
       "      <td>71</td>\n",
       "      <td>393</td>\n",
       "      <td>7</td>\n",
       "      <td>61</td>\n",
       "      <td>24</td>\n",
       "      <td>5.54</td>\n",
       "      <td>10.14</td>\n",
       "      <td>0.86</td>\n",
       "      <td>0.34</td>\n",
       "      <td>0</td>\n",
       "      <td>20</td>\n",
       "      <td>7</td>\n",
       "      <td>6</td>\n",
       "      <td>0</td>\n",
       "      <td>0</td>\n",
       "      <td>0</td>\n",
       "      <td>0</td>\n",
       "    </tr>\n",
       "    <tr>\n",
       "      <th>1</th>\n",
       "      <td>6902682</td>\n",
       "      <td>1</td>\n",
       "      <td>Sadly the best thing about this place was the ...</td>\n",
       "      <td>206</td>\n",
       "      <td>1147</td>\n",
       "      <td>12</td>\n",
       "      <td>145</td>\n",
       "      <td>95</td>\n",
       "      <td>5.57</td>\n",
       "      <td>17.17</td>\n",
       "      <td>0.70</td>\n",
       "      <td>0.46</td>\n",
       "      <td>0</td>\n",
       "      <td>37</td>\n",
       "      <td>25</td>\n",
       "      <td>20</td>\n",
       "      <td>1</td>\n",
       "      <td>0</td>\n",
       "      <td>0</td>\n",
       "      <td>0</td>\n",
       "    </tr>\n",
       "    <tr>\n",
       "      <th>2</th>\n",
       "      <td>1590330</td>\n",
       "      <td>1</td>\n",
       "      <td>On my recent visit to New Orleans I met up wit...</td>\n",
       "      <td>596</td>\n",
       "      <td>3130</td>\n",
       "      <td>34</td>\n",
       "      <td>321</td>\n",
       "      <td>276</td>\n",
       "      <td>5.25</td>\n",
       "      <td>17.53</td>\n",
       "      <td>0.54</td>\n",
       "      <td>0.46</td>\n",
       "      <td>0</td>\n",
       "      <td>118</td>\n",
       "      <td>38</td>\n",
       "      <td>36</td>\n",
       "      <td>10</td>\n",
       "      <td>0</td>\n",
       "      <td>0</td>\n",
       "      <td>0</td>\n",
       "    </tr>\n",
       "    <tr>\n",
       "      <th>3</th>\n",
       "      <td>6289537</td>\n",
       "      <td>1</td>\n",
       "      <td>My husband likes to come here. I really don't....</td>\n",
       "      <td>43</td>\n",
       "      <td>226</td>\n",
       "      <td>8</td>\n",
       "      <td>38</td>\n",
       "      <td>18</td>\n",
       "      <td>5.26</td>\n",
       "      <td>5.38</td>\n",
       "      <td>0.88</td>\n",
       "      <td>0.42</td>\n",
       "      <td>0</td>\n",
       "      <td>7</td>\n",
       "      <td>1</td>\n",
       "      <td>6</td>\n",
       "      <td>2</td>\n",
       "      <td>0</td>\n",
       "      <td>0</td>\n",
       "      <td>0</td>\n",
       "    </tr>\n",
       "    <tr>\n",
       "      <th>4</th>\n",
       "      <td>2112180</td>\n",
       "      <td>1</td>\n",
       "      <td>Yes to everything!!! The ribs, the pulled pork...</td>\n",
       "      <td>26</td>\n",
       "      <td>144</td>\n",
       "      <td>8</td>\n",
       "      <td>26</td>\n",
       "      <td>6</td>\n",
       "      <td>5.54</td>\n",
       "      <td>3.25</td>\n",
       "      <td>1.00</td>\n",
       "      <td>0.23</td>\n",
       "      <td>0</td>\n",
       "      <td>7</td>\n",
       "      <td>3</td>\n",
       "      <td>1</td>\n",
       "      <td>1</td>\n",
       "      <td>0</td>\n",
       "      <td>0</td>\n",
       "      <td>3</td>\n",
       "    </tr>\n",
       "  </tbody>\n",
       "</table>\n",
       "</div>"
      ],
      "text/plain": [
       "      r_id  r_useful                                             r_text  \\\n",
       "0  2235679         1  Like buns ? \\nEat here . \\nSeriously , this is...   \n",
       "1  6902682         1  Sadly the best thing about this place was the ...   \n",
       "2  1590330         1  On my recent visit to New Orleans I met up wit...   \n",
       "3  6289537         1  My husband likes to come here. I really don't....   \n",
       "4  2112180         1  Yes to everything!!! The ribs, the pulled pork...   \n",
       "\n",
       "   r_word_cnt  r_character_cnt  r_sent_cnt  r_unique_word_cnt  r_stopword_cnt  \\\n",
       "0          71              393           7                 61              24   \n",
       "1         206             1147          12                145              95   \n",
       "2         596             3130          34                321             276   \n",
       "3          43              226           8                 38              18   \n",
       "4          26              144           8                 26               6   \n",
       "\n",
       "   r_avg_wordlength  r_avg_sentlength  r_unique/words  r_stopwords/words  \\\n",
       "0              5.54             10.14            0.86               0.34   \n",
       "1              5.57             17.17            0.70               0.46   \n",
       "2              5.25             17.53            0.54               0.46   \n",
       "3              5.26              5.38            0.88               0.42   \n",
       "4              5.54              3.25            1.00               0.23   \n",
       "\n",
       "   r_digit_cnt  r_noun_cnt  r_Adj_cnt  r_Adv_cnt  r_capital_word_cnt  \\\n",
       "0            0          20          7          6                   0   \n",
       "1            0          37         25         20                   1   \n",
       "2            0         118         38         36                  10   \n",
       "3            0           7          1          6                   2   \n",
       "4            0           7          3          1                   1   \n",
       "\n",
       "   r_quoted_word_cnt  r_hashtag_cnt  r_exclam_cnt  \n",
       "0                  0              0             0  \n",
       "1                  0              0             0  \n",
       "2                  0              0             0  \n",
       "3                  0              0             0  \n",
       "4                  0              0             3  "
      ]
     },
     "execution_count": 41,
     "metadata": {},
     "output_type": "execute_result"
    }
   ],
   "source": [
    "text_df['r_exclam_cnt'] = text_df['r_text'].swifter.apply(lambda x: x.count('!'))\n",
    "text_df.head()"
   ]
  },
  {
   "cell_type": "code",
   "execution_count": 42,
   "id": "d624b26a",
   "metadata": {
    "scrolled": true
   },
   "outputs": [
    {
     "data": {
      "text/plain": [
       "<AxesSubplot:xlabel='r_exclam_cnt', ylabel='Density'>"
      ]
     },
     "execution_count": 42,
     "metadata": {},
     "output_type": "execute_result"
    },
    {
     "data": {
      "image/png": "[encoded data removed]",
      "text/plain": [
       "<Figure size 432x288 with 1 Axes>"
      ]
     },
     "metadata": {
      "needs_background": "light"
     },
     "output_type": "display_data"
    }
   ],
   "source": [
    "sns.distplot(text_df['r_exclam_cnt'])"
   ]
  },
  {
   "cell_type": "markdown",
   "id": "539f7b4c",
   "metadata": {},
   "source": [
    "## Export file"
   ]
  },
  {
   "cell_type": "code",
   "execution_count": 43,
   "id": "5c0dda09",
   "metadata": {},
   "outputs": [],
   "source": [
    "File = DATA_DIR / \"newnlp.parquet.snappy\"\n",
    "text_df.to_parquet(File)"
   ]
  }
 ],
 "metadata": {
  "kernelspec": {
   "display_name": "Python 3 (ipykernel)",
   "language": "python",
   "name": "python3"
  },
  "language_info": {
   "codemirror_mode": {
    "name": "ipython",
    "version": 3
   },
   "file_extension": ".py",
   "mimetype": "text/x-python",
   "name": "python",
   "nbconvert_exporter": "python",
   "pygments_lexer": "ipython3",
   "version": "3.9.12"
  }
 },
 "nbformat": 4,
 "nbformat_minor": 5
}
