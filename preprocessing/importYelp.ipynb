{
 "cells": [
  {
   "cell_type": "markdown",
   "id": "b8a58de0-cc0f-4fd5-9abc-f5b59056f5e9",
   "metadata": {},
   "source": [
    "# Importing Yelp Dataset\n",
    "\n",
    "Author(s): Brian Lin\n",
    "\n",
    "This notebook is for importing the Yelp JSON data files. Assumes run from\n",
    "`preprocessing/`. Importing all of the following takes ~ 5 minutes on my machine.\n",
    "\n",
    "Database file is around 8.3 GB."
   ]
  },
  {
   "cell_type": "code",
   "execution_count": null,
   "id": "147cbc75-b9c2-44b1-9bd4-ea25ffaef8fb",
   "metadata": {},
   "outputs": [],
   "source": [
    "import json\n",
    "from pathlib import Path\n",
    "import sqlite3"
   ]
  },
  {
   "cell_type": "code",
   "execution_count": null,
   "id": "c08b6d28",
   "metadata": {},
   "outputs": [],
   "source": [
    "CWD = Path.cwd()\n",
    "ROOT = CWD.parent\n",
    "# path to raw data directory\n",
    "DATA_DIR = CWD/\"raw_data\"\n",
    "DATA_PREFIX = \"yelp_academic_dataset_\"\n",
    "# database\n",
    "DB_PATH = ROOT/\"database/YelpData.db\""
   ]
  },
  {
   "cell_type": "code",
   "execution_count": null,
   "id": "c881a744",
   "metadata": {},
   "outputs": [],
   "source": [
    "# Auto-close / commit when used in \"with\" statement\n",
    "# https://stackoverflow.com/questions/19522505/using-sqlite3-in-python-with-with-keyword\n",
    "class SQLite():\n",
    "    def __init__(self, file='sqlite.db'):\n",
    "        self.file=file\n",
    "    def __enter__(self):\n",
    "        self.conn = sqlite3.connect(self.file)\n",
    "        self.conn.row_factory = sqlite3.Row\n",
    "        return self.conn.cursor()\n",
    "    def __exit__(self, type, value, traceback):\n",
    "        self.conn.commit()\n",
    "        self.conn.close()"
   ]
  },
  {
   "cell_type": "code",
   "execution_count": null,
   "id": "c159d0f0",
   "metadata": {},
   "outputs": [],
   "source": [
    "def getFilePath(name):\n",
    "    return DATA_DIR/(DATA_PREFIX + name + \".json\")\n",
    "\n",
    "def jsonToStr(data, field):\n",
    "    # convert nested obj to json str\n",
    "    if data[field] is not None:\n",
    "        # only bother if there is a nested obj\n",
    "        data[field] = json.dumps(data[field])\n",
    "\n",
    "def importData(name, nestedFields=[]):\n",
    "    with SQLite(DB_PATH) as cur:\n",
    "        with open(getFilePath(name), 'r') as file:\n",
    "            # extract field names\n",
    "            firstObj = json.loads(file.readline())\n",
    "            keys = firstObj.keys()\n",
    "            # must be in same order for sql\n",
    "            colStr = \", \".join(keys)\n",
    "            keyStr = \", \".join([\":\" + key for key in keys])\n",
    "            \n",
    "            file.seek(0) # reset to beginning of file\n",
    "\n",
    "            # start reading lines from the beginning of file\n",
    "            for line in file:\n",
    "                data = json.loads(line)\n",
    "\n",
    "                # convert nested objs to json str\n",
    "                for field in nestedFields:\n",
    "                    jsonToStr(data, field)\n",
    "\n",
    "                sqlstr = f'''\n",
    "                INSERT INTO {name} ({colStr})\n",
    "                VALUES ({keyStr})\n",
    "                '''\n",
    "\n",
    "                cur.execute(sqlstr, data)\n",
    "    print(f\"Finished importing: {name}\")\n",
    "\n",
    "def printHead(name):\n",
    "    with SQLite(DB_PATH) as cur:\n",
    "        res = cur.execute(f\"SELECT * FROM {name} LIMIT 1\").fetchone()\n",
    "        print(dict(res), end='\\n\\n')"
   ]
  },
  {
   "cell_type": "code",
   "execution_count": null,
   "id": "7be8c00f",
   "metadata": {},
   "outputs": [],
   "source": [
    "importData(\"business\", [\"attributes\", \"hours\"])\n",
    "printHead(\"business\")"
   ]
  },
  {
   "cell_type": "code",
   "execution_count": null,
   "id": "819a67cf",
   "metadata": {},
   "outputs": [],
   "source": [
    "importData(\"user\")\n",
    "#printHead(\"user\") # suppress since too long"
   ]
  },
  {
   "cell_type": "code",
   "execution_count": null,
   "id": "e7a51568",
   "metadata": {},
   "outputs": [],
   "source": [
    "importData(\"review\")\n",
    "printHead(\"review\")"
   ]
  }
 ],
 "metadata": {
  "kernelspec": {
   "display_name": "Python 3.8.13 ('CS760')",
   "language": "python",
   "name": "python3"
  },
  "language_info": {
   "codemirror_mode": {
    "name": "ipython",
    "version": 3
   },
   "file_extension": ".py",
   "mimetype": "text/x-python",
   "name": "python",
   "nbconvert_exporter": "python",
   "pygments_lexer": "ipython3",
   "version": "3.8.13"
  },
  "vscode": {
   "interpreter": {
    "hash": "12ede14e1ffbe31a015ff23db9d83bed6e28cdb2c11038b651bf1634c6ce7b9c"
   }
  }
 },
 "nbformat": 4,
 "nbformat_minor": 5
}
