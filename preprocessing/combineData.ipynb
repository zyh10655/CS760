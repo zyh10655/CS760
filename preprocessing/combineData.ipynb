{
 "cells": [
  {
   "cell_type": "markdown",
   "metadata": {},
   "source": [
    "# Importing Yelp Dataset\n",
    "\n",
    "Author(s): Brian Lin, Yuqi Jiao (Anthony)\n",
    "\n",
    "This notebook is for checking for combining all preprocessed data so that we obtain\n",
    "the original 11 features of Lee et. al."
   ]
  },
  {
   "cell_type": "code",
   "execution_count": 1,
   "metadata": {},
   "outputs": [],
   "source": [
    "from pathlib import Path\n",
    "import pandas as pd\n",
    "import numpy as np"
   ]
  },
  {
   "cell_type": "code",
   "execution_count": 2,
   "metadata": {},
   "outputs": [],
   "source": [
    "CWD = Path.cwd()\n",
    "ROOT = CWD.parent\n",
    "# path to processed data dir\n",
    "PROC_PATH = CWD/\"processed_data\"\n",
    "OUTPUT = PROC_PATH / \"preprocessed.parquet.snappy\""
   ]
  },
  {
   "cell_type": "code",
   "execution_count": 3,
   "metadata": {},
   "outputs": [],
   "source": [
    "main_df = pd.read_parquet(PROC_PATH/\"joined.parquet.snappy\")\n",
    "is_english = pd.read_parquet(PROC_PATH/\"joined_data_lang_detected.parquet\", columns=[\"r_id\", \"is_english\"])\n",
    "is_english = is_english.astype({\"r_id\": int})\n",
    "linguistic = pd.read_parquet(PROC_PATH/\"joined_linguistic_extra.parquet.snappy\")\n",
    "\n",
    "# we assume that the latest review date is the last date of data collection.\n",
    "# this assumption is supported by the fact that the newest user is also on this\n",
    "# date. it seems that no more new data is obtained after this date.\n",
    "\n",
    "# needs to be obtained before excluding invalid rows.\n",
    "last_record_date = main_df.r_date.max()\n",
    "last_record_date_id = main_df.r_id[main_df.r_date.argmax()]"
   ]
  },
  {
   "cell_type": "code",
   "execution_count": 4,
   "metadata": {},
   "outputs": [
    {
     "name": "stdout",
     "output_type": "stream",
     "text": [
      "excluding: 872 records\n"
     ]
    }
   ],
   "source": [
    "# exclude non-english (values that = 1)\n",
    "to_exclude = set(is_english.r_id[(is_english.is_english != 0)])\n",
    "# negative useful votes\n",
    "to_exclude = to_exclude.union(set(main_df.r_id[main_df.r_useful < 1]))\n",
    "# reviews older than user\n",
    "to_exclude = to_exclude.union(\n",
    "    set(main_df.r_id[main_df.r_date <= main_df.u_yelping_since]))\n",
    "\n",
    "print(f\"excluding: {len(to_exclude)} records\")\n",
    "main_df = main_df[~main_df.r_id.isin(to_exclude)]\n"
   ]
  },
  {
   "cell_type": "code",
   "execution_count": 5,
   "metadata": {},
   "outputs": [
    {
     "name": "stdout",
     "output_type": "stream",
     "text": [
      "correct n rows: True\n"
     ]
    }
   ],
   "source": [
    "# inner join on r_id\n",
    "main_df = main_df.merge(linguistic, on=\"r_id\", validate=\"1:1\")\n",
    "print(f\"correct n rows: {main_df.shape[0] + len(to_exclude) == linguistic.shape[0]}\")"
   ]
  },
  {
   "cell_type": "code",
   "execution_count": 6,
   "metadata": {},
   "outputs": [],
   "source": [
    "# obtain elapsed month since last data collection date.\n",
    "month_diff = (last_record_date - main_df.r_date) / np.timedelta64(1, 'M')\n",
    "# bool mask (need to do this since the indices after exclusion do not match up)\n",
    "is_last_record_date = main_df.r_id == last_record_date_id\n",
    "# we add the last record_date by a small number so we don't divide by 0.\n",
    "month_diff[is_last_record_date] += month_diff[~is_last_record_date].min()\n",
    "\n",
    "# scale votes by elapsed months\n",
    "main_df.r_useful /= month_diff\n",
    "main_df.r_funny /= month_diff\n",
    "main_df.r_cool /= month_diff"
   ]
  },
  {
   "cell_type": "code",
   "execution_count": 7,
   "metadata": {},
   "outputs": [],
   "source": [
    "# calculate elapsed month since creating account, relative to review post date\n",
    "u_month_age = (main_df.r_date - main_df.u_yelping_since) / np.timedelta64(1, 'M')\n",
    "\n",
    "main_df[\"u_month_age\"] = u_month_age"
   ]
  },
  {
   "cell_type": "code",
   "execution_count": 8,
   "metadata": {},
   "outputs": [],
   "source": [
    "# remove unneeded cols\n",
    "main_df = main_df.drop(columns=[\"b_id\", \"r_funny\", \"r_cool\", \"u_id\", \"r_date\", \"r_text\", \"u_yelping_since\"])"
   ]
  },
  {
   "cell_type": "code",
   "execution_count": 9,
   "metadata": {},
   "outputs": [
    {
     "data": {
      "text/html": [
       "<div>\n",
       "<style scoped>\n",
       "    .dataframe tbody tr th:only-of-type {\n",
       "        vertical-align: middle;\n",
       "    }\n",
       "\n",
       "    .dataframe tbody tr th {\n",
       "        vertical-align: top;\n",
       "    }\n",
       "\n",
       "    .dataframe thead th {\n",
       "        text-align: right;\n",
       "    }\n",
       "</style>\n",
       "<table border=\"1\" class=\"dataframe\">\n",
       "  <thead>\n",
       "    <tr style=\"text-align: right;\">\n",
       "      <th></th>\n",
       "      <th>r_id</th>\n",
       "      <th>r_stars</th>\n",
       "      <th>r_stars_square</th>\n",
       "      <th>r_length</th>\n",
       "      <th>u_friends_count</th>\n",
       "      <th>u_review_count</th>\n",
       "      <th>u_month_age</th>\n",
       "      <th>b_stars</th>\n",
       "      <th>b_review_count</th>\n",
       "      <th>r_sen</th>\n",
       "      <th>r_sub</th>\n",
       "      <th>r_rea</th>\n",
       "      <th>r_useful</th>\n",
       "    </tr>\n",
       "  </thead>\n",
       "  <tbody>\n",
       "    <tr>\n",
       "      <th>0</th>\n",
       "      <td>4</td>\n",
       "      <td>5</td>\n",
       "      <td>25</td>\n",
       "      <td>43</td>\n",
       "      <td>1</td>\n",
       "      <td>9</td>\n",
       "      <td>11.538455</td>\n",
       "      <td>4.0</td>\n",
       "      <td>181</td>\n",
       "      <td>0.305871</td>\n",
       "      <td>0.775379</td>\n",
       "      <td>81.59</td>\n",
       "      <td>0.011830</td>\n",
       "    </tr>\n",
       "    <tr>\n",
       "      <th>1</th>\n",
       "      <td>9</td>\n",
       "      <td>3</td>\n",
       "      <td>9</td>\n",
       "      <td>103</td>\n",
       "      <td>1</td>\n",
       "      <td>24</td>\n",
       "      <td>5.092347</td>\n",
       "      <td>4.5</td>\n",
       "      <td>13</td>\n",
       "      <td>0.027222</td>\n",
       "      <td>0.558611</td>\n",
       "      <td>76.15</td>\n",
       "      <td>0.014351</td>\n",
       "    </tr>\n",
       "    <tr>\n",
       "      <th>2</th>\n",
       "      <td>11</td>\n",
       "      <td>5</td>\n",
       "      <td>25</td>\n",
       "      <td>179</td>\n",
       "      <td>7</td>\n",
       "      <td>39</td>\n",
       "      <td>76.740056</td>\n",
       "      <td>2.5</td>\n",
       "      <td>8</td>\n",
       "      <td>0.280583</td>\n",
       "      <td>0.489970</td>\n",
       "      <td>70.43</td>\n",
       "      <td>0.025320</td>\n",
       "    </tr>\n",
       "    <tr>\n",
       "      <th>3</th>\n",
       "      <td>18</td>\n",
       "      <td>4</td>\n",
       "      <td>16</td>\n",
       "      <td>109</td>\n",
       "      <td>112</td>\n",
       "      <td>74</td>\n",
       "      <td>60.558653</td>\n",
       "      <td>4.0</td>\n",
       "      <td>398</td>\n",
       "      <td>0.130754</td>\n",
       "      <td>0.289683</td>\n",
       "      <td>78.59</td>\n",
       "      <td>0.011194</td>\n",
       "    </tr>\n",
       "    <tr>\n",
       "      <th>4</th>\n",
       "      <td>19</td>\n",
       "      <td>5</td>\n",
       "      <td>25</td>\n",
       "      <td>78</td>\n",
       "      <td>8</td>\n",
       "      <td>27</td>\n",
       "      <td>48.322330</td>\n",
       "      <td>4.0</td>\n",
       "      <td>55</td>\n",
       "      <td>0.236861</td>\n",
       "      <td>0.368667</td>\n",
       "      <td>77.06</td>\n",
       "      <td>0.028382</td>\n",
       "    </tr>\n",
       "  </tbody>\n",
       "</table>\n",
       "</div>"
      ],
      "text/plain": [
       "   r_id  r_stars  r_stars_square  r_length  u_friends_count  u_review_count  \\\n",
       "0     4        5              25        43                1               9   \n",
       "1     9        3               9       103                1              24   \n",
       "2    11        5              25       179                7              39   \n",
       "3    18        4              16       109              112              74   \n",
       "4    19        5              25        78                8              27   \n",
       "\n",
       "   u_month_age  b_stars  b_review_count     r_sen     r_sub  r_rea  r_useful  \n",
       "0    11.538455      4.0             181  0.305871  0.775379  81.59  0.011830  \n",
       "1     5.092347      4.5              13  0.027222  0.558611  76.15  0.014351  \n",
       "2    76.740056      2.5               8  0.280583  0.489970  70.43  0.025320  \n",
       "3    60.558653      4.0             398  0.130754  0.289683  78.59  0.011194  \n",
       "4    48.322330      4.0              55  0.236861  0.368667  77.06  0.028382  "
      ]
     },
     "execution_count": 9,
     "metadata": {},
     "output_type": "execute_result"
    }
   ],
   "source": [
    "# Make column order same as Lee et. al\n",
    "col_order = [\"r_id\", \"r_stars\", \"r_stars_square\", \"r_length\",\n",
    "    \"u_friends_count\", \"u_review_count\", \"u_month_age\",\n",
    "    \"b_stars\", \"b_review_count\",\n",
    "    \"r_sen\", \"r_sub\", \"r_rea\", \"r_useful\"]\n",
    "main_df = main_df[col_order]\n",
    "main_df.head()"
   ]
  },
  {
   "cell_type": "code",
   "execution_count": 10,
   "metadata": {},
   "outputs": [],
   "source": [
    "# save output\n",
    "main_df.to_parquet(OUTPUT)"
   ]
  }
 ],
 "metadata": {
  "kernelspec": {
   "display_name": "Python 3.8.13 ('CS760': conda)",
   "language": "python",
   "name": "python3"
  },
  "language_info": {
   "codemirror_mode": {
    "name": "ipython",
    "version": 3
   },
   "file_extension": ".py",
   "mimetype": "text/x-python",
   "name": "python",
   "nbconvert_exporter": "python",
   "pygments_lexer": "ipython3",
   "version": "3.8.13"
  },
  "orig_nbformat": 4,
  "vscode": {
   "interpreter": {
    "hash": "12ede14e1ffbe31a015ff23db9d83bed6e28cdb2c11038b651bf1634c6ce7b9c"
   }
  }
 },
 "nbformat": 4,
 "nbformat_minor": 2
}
