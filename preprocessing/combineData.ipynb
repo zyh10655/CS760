{
 "cells": [
  {
   "cell_type": "markdown",
   "metadata": {},
   "source": [
    "# Importing Yelp Dataset\n",
    "\n",
    "Author(s): Brian Lin, Yuqi Jiao (Anthony)\n",
    "\n",
    "This notebook is for checking for combining all preprocessed data so that we obtain\n",
    "the original 11 features of Lee et. al."
   ]
  },
  {
   "cell_type": "code",
   "execution_count": 1,
   "metadata": {},
   "outputs": [],
   "source": [
    "from pathlib import Path\n",
    "import pandas as pd\n",
    "import numpy as np\n",
    "from sklearn.model_selection import train_test_split"
   ]
  },
  {
   "cell_type": "code",
   "execution_count": 2,
   "metadata": {},
   "outputs": [],
   "source": [
    "CWD = Path.cwd()\n",
    "ROOT = CWD.parent\n",
    "# path to processed data dir\n",
    "PROC_PATH = CWD/\"processed_data\"\n",
    "# path to experiment-ready data\n",
    "READY_DATA_DIR = CWD.parent/\"ready_data\"\n",
    "\n",
    "RANDOM_SEED = 2 # for reproducibility"
   ]
  },
  {
   "cell_type": "code",
   "execution_count": 3,
   "metadata": {},
   "outputs": [],
   "source": [
    "main_df = pd.read_parquet(PROC_PATH/\"joined.parquet.snappy\")\n",
    "is_english = pd.read_parquet(PROC_PATH/\"joined_data_lang_detected.parquet\", columns=[\"r_id\", \"is_english\"])\n",
    "is_english = is_english.astype({\"r_id\": int})\n",
    "linguistic = pd.read_parquet(PROC_PATH/\"joined_linguistic_extra.parquet.snappy\")"
   ]
  },
  {
   "cell_type": "code",
   "execution_count": 4,
   "metadata": {},
   "outputs": [
    {
     "name": "stdout",
     "output_type": "stream",
     "text": [
      "excluding: 872 records\n"
     ]
    }
   ],
   "source": [
    "# exclude non-english (values that = 1)\n",
    "to_exclude = set(is_english.r_id[(is_english.is_english != 0)])\n",
    "# negative useful votes\n",
    "to_exclude = to_exclude.union(set(main_df.r_id[main_df.r_useful < 1]))\n",
    "# reviews older than user\n",
    "to_exclude = to_exclude.union(\n",
    "    set(main_df.r_id[main_df.r_date <= main_df.u_yelping_since]))\n",
    "\n",
    "print(f\"excluding: {len(to_exclude)} records\")\n",
    "main_df = main_df[~main_df.r_id.isin(to_exclude)]"
   ]
  },
  {
   "cell_type": "code",
   "execution_count": 5,
   "metadata": {},
   "outputs": [
    {
     "name": "stdout",
     "output_type": "stream",
     "text": [
      "correct n rows: True\n"
     ]
    }
   ],
   "source": [
    "# inner join on r_id\n",
    "main_df = main_df.merge(linguistic, on=\"r_id\", validate=\"1:1\")\n",
    "print(f\"correct n rows: {main_df.shape[0] + len(to_exclude) == linguistic.shape[0]}\")"
   ]
  },
  {
   "cell_type": "code",
   "execution_count": 6,
   "metadata": {},
   "outputs": [],
   "source": [
    "# calculate elapsed month since creating account, relative to review post date\n",
    "u_month_age = (main_df.r_date - main_df.u_yelping_since) / np.timedelta64(1, 'M')\n",
    "\n",
    "main_df[\"u_month_age\"] = u_month_age"
   ]
  },
  {
   "cell_type": "code",
   "execution_count": 7,
   "metadata": {},
   "outputs": [],
   "source": [
    "# Reduce dataset size\n",
    "main_df = main_df.sample(n=500000, random_state=RANDOM_SEED, ignore_index=True)"
   ]
  },
  {
   "cell_type": "code",
   "execution_count": 8,
   "metadata": {},
   "outputs": [],
   "source": [
    "# remove unneeded cols\n",
    "text_df = main_df[[\"r_id\", \"r_text\"]]\n",
    "main_df = main_df.drop(columns=[\"b_id\", \"r_funny\", \"r_cool\", \"u_id\", \"r_date\", \"r_text\", \"u_yelping_since\"])"
   ]
  },
  {
   "cell_type": "code",
   "execution_count": 9,
   "metadata": {},
   "outputs": [
    {
     "data": {
      "text/html": [
       "<div>\n",
       "<style scoped>\n",
       "    .dataframe tbody tr th:only-of-type {\n",
       "        vertical-align: middle;\n",
       "    }\n",
       "\n",
       "    .dataframe tbody tr th {\n",
       "        vertical-align: top;\n",
       "    }\n",
       "\n",
       "    .dataframe thead th {\n",
       "        text-align: right;\n",
       "    }\n",
       "</style>\n",
       "<table border=\"1\" class=\"dataframe\">\n",
       "  <thead>\n",
       "    <tr style=\"text-align: right;\">\n",
       "      <th></th>\n",
       "      <th>r_id</th>\n",
       "      <th>r_stars</th>\n",
       "      <th>r_stars_square</th>\n",
       "      <th>r_length</th>\n",
       "      <th>u_friends_count</th>\n",
       "      <th>u_review_count</th>\n",
       "      <th>u_month_age</th>\n",
       "      <th>b_stars</th>\n",
       "      <th>b_review_count</th>\n",
       "      <th>r_sen</th>\n",
       "      <th>r_sub</th>\n",
       "      <th>r_rea</th>\n",
       "      <th>r_useful</th>\n",
       "    </tr>\n",
       "  </thead>\n",
       "  <tbody>\n",
       "    <tr>\n",
       "      <th>0</th>\n",
       "      <td>5010335</td>\n",
       "      <td>5</td>\n",
       "      <td>25</td>\n",
       "      <td>34</td>\n",
       "      <td>413</td>\n",
       "      <td>16</td>\n",
       "      <td>33.555332</td>\n",
       "      <td>4.5</td>\n",
       "      <td>530</td>\n",
       "      <td>0.062500</td>\n",
       "      <td>0.100000</td>\n",
       "      <td>97.03</td>\n",
       "      <td>1</td>\n",
       "    </tr>\n",
       "    <tr>\n",
       "      <th>1</th>\n",
       "      <td>751939</td>\n",
       "      <td>5</td>\n",
       "      <td>25</td>\n",
       "      <td>359</td>\n",
       "      <td>59</td>\n",
       "      <td>74</td>\n",
       "      <td>40.736506</td>\n",
       "      <td>4.5</td>\n",
       "      <td>181</td>\n",
       "      <td>0.190288</td>\n",
       "      <td>0.310182</td>\n",
       "      <td>90.39</td>\n",
       "      <td>3</td>\n",
       "    </tr>\n",
       "    <tr>\n",
       "      <th>2</th>\n",
       "      <td>5790894</td>\n",
       "      <td>5</td>\n",
       "      <td>25</td>\n",
       "      <td>121</td>\n",
       "      <td>300</td>\n",
       "      <td>30</td>\n",
       "      <td>26.827553</td>\n",
       "      <td>4.5</td>\n",
       "      <td>3999</td>\n",
       "      <td>0.215486</td>\n",
       "      <td>0.295833</td>\n",
       "      <td>94.15</td>\n",
       "      <td>1</td>\n",
       "    </tr>\n",
       "    <tr>\n",
       "      <th>3</th>\n",
       "      <td>2845635</td>\n",
       "      <td>5</td>\n",
       "      <td>25</td>\n",
       "      <td>52</td>\n",
       "      <td>62</td>\n",
       "      <td>65</td>\n",
       "      <td>27.535094</td>\n",
       "      <td>4.5</td>\n",
       "      <td>282</td>\n",
       "      <td>0.472222</td>\n",
       "      <td>0.493056</td>\n",
       "      <td>94.76</td>\n",
       "      <td>1</td>\n",
       "    </tr>\n",
       "    <tr>\n",
       "      <th>4</th>\n",
       "      <td>3033355</td>\n",
       "      <td>1</td>\n",
       "      <td>1</td>\n",
       "      <td>47</td>\n",
       "      <td>3</td>\n",
       "      <td>12</td>\n",
       "      <td>15.703912</td>\n",
       "      <td>3.5</td>\n",
       "      <td>46</td>\n",
       "      <td>-0.079861</td>\n",
       "      <td>0.485417</td>\n",
       "      <td>89.38</td>\n",
       "      <td>3</td>\n",
       "    </tr>\n",
       "  </tbody>\n",
       "</table>\n",
       "</div>"
      ],
      "text/plain": [
       "      r_id  r_stars  r_stars_square  r_length  u_friends_count  \\\n",
       "0  5010335        5              25        34              413   \n",
       "1   751939        5              25       359               59   \n",
       "2  5790894        5              25       121              300   \n",
       "3  2845635        5              25        52               62   \n",
       "4  3033355        1               1        47                3   \n",
       "\n",
       "   u_review_count  u_month_age  b_stars  b_review_count     r_sen     r_sub  \\\n",
       "0              16    33.555332      4.5             530  0.062500  0.100000   \n",
       "1              74    40.736506      4.5             181  0.190288  0.310182   \n",
       "2              30    26.827553      4.5            3999  0.215486  0.295833   \n",
       "3              65    27.535094      4.5             282  0.472222  0.493056   \n",
       "4              12    15.703912      3.5              46 -0.079861  0.485417   \n",
       "\n",
       "   r_rea  r_useful  \n",
       "0  97.03         1  \n",
       "1  90.39         3  \n",
       "2  94.15         1  \n",
       "3  94.76         1  \n",
       "4  89.38         3  "
      ]
     },
     "execution_count": 9,
     "metadata": {},
     "output_type": "execute_result"
    }
   ],
   "source": [
    "# Make column order same as Lee et. al\n",
    "col_order = [\"r_id\", \"r_stars\", \"r_stars_square\", \"r_length\",\n",
    "    \"u_friends_count\", \"u_review_count\", \"u_month_age\",\n",
    "    \"b_stars\", \"b_review_count\",\n",
    "    \"r_sen\", \"r_sub\", \"r_rea\", \"r_useful\"]\n",
    "main_df = main_df[col_order]\n",
    "main_df.head()"
   ]
  },
  {
   "cell_type": "code",
   "execution_count": 10,
   "metadata": {},
   "outputs": [
    {
     "data": {
      "text/html": [
       "<div>\n",
       "<style scoped>\n",
       "    .dataframe tbody tr th:only-of-type {\n",
       "        vertical-align: middle;\n",
       "    }\n",
       "\n",
       "    .dataframe tbody tr th {\n",
       "        vertical-align: top;\n",
       "    }\n",
       "\n",
       "    .dataframe thead th {\n",
       "        text-align: right;\n",
       "    }\n",
       "</style>\n",
       "<table border=\"1\" class=\"dataframe\">\n",
       "  <thead>\n",
       "    <tr style=\"text-align: right;\">\n",
       "      <th></th>\n",
       "      <th>r_id</th>\n",
       "      <th>r_text</th>\n",
       "    </tr>\n",
       "  </thead>\n",
       "  <tbody>\n",
       "    <tr>\n",
       "      <th>0</th>\n",
       "      <td>5010335</td>\n",
       "      <td>Yes: Fried Egg Rice with tri-tip, Pork Bahn Mi...</td>\n",
       "    </tr>\n",
       "    <tr>\n",
       "      <th>1</th>\n",
       "      <td>751939</td>\n",
       "      <td>So i'm new to the area since my new position i...</td>\n",
       "    </tr>\n",
       "    <tr>\n",
       "      <th>2</th>\n",
       "      <td>5790894</td>\n",
       "      <td>It was my first time trying St. Louis BBQ and ...</td>\n",
       "    </tr>\n",
       "    <tr>\n",
       "      <th>3</th>\n",
       "      <td>2845635</td>\n",
       "      <td>More than Q, is just as advertised. More than ...</td>\n",
       "    </tr>\n",
       "    <tr>\n",
       "      <th>4</th>\n",
       "      <td>3033355</td>\n",
       "      <td>I have to agree with the others. I purchased t...</td>\n",
       "    </tr>\n",
       "  </tbody>\n",
       "</table>\n",
       "</div>"
      ],
      "text/plain": [
       "      r_id                                             r_text\n",
       "0  5010335  Yes: Fried Egg Rice with tri-tip, Pork Bahn Mi...\n",
       "1   751939  So i'm new to the area since my new position i...\n",
       "2  5790894  It was my first time trying St. Louis BBQ and ...\n",
       "3  2845635  More than Q, is just as advertised. More than ...\n",
       "4  3033355  I have to agree with the others. I purchased t..."
      ]
     },
     "execution_count": 10,
     "metadata": {},
     "output_type": "execute_result"
    }
   ],
   "source": [
    "text_df.head()"
   ]
  },
  {
   "cell_type": "code",
   "execution_count": 11,
   "metadata": {},
   "outputs": [],
   "source": [
    "# split df into train and test. Shuffles before split\n",
    "train_main_df, test_main_df, train_text_df, test_text_df = train_test_split(\n",
    "    main_df, text_df, train_size=0.8, random_state=RANDOM_SEED)"
   ]
  },
  {
   "cell_type": "code",
   "execution_count": 12,
   "metadata": {},
   "outputs": [
    {
     "name": "stdout",
     "output_type": "stream",
     "text": [
      "0.8 0.2\n",
      "0.8 0.2\n",
      "True\n",
      "True\n",
      "True\n"
     ]
    }
   ],
   "source": [
    "# validate created splits proportions. should be about 0.8, 0.2\n",
    "print(len(train_main_df) / len(main_df), len(test_main_df) / len(main_df))\n",
    "print(len(train_text_df) / len(main_df), len(test_text_df) / len(main_df))\n",
    "# check records align in main df and text\n",
    "print(np.all(train_main_df.index == train_text_df.index)) # want: TRUE\n",
    "print(np.all(test_main_df.index == test_text_df.index)) # want: TRUE\n",
    "# check uniqueness of records\n",
    "print(len(np.intersect1d(train_main_df.index, test_main_df.index)) == 0) # want: TRUE"
   ]
  },
  {
   "cell_type": "code",
   "execution_count": 13,
   "metadata": {},
   "outputs": [],
   "source": [
    "# save output\n",
    "train_main_df.to_parquet(READY_DATA_DIR/\"train_main.parquet.snappy\", index=False)\n",
    "train_text_df.to_parquet(READY_DATA_DIR/\"train_text.parquet.snappy\", index=False)\n",
    "\n",
    "test_main_df.to_parquet(READY_DATA_DIR/\"test_main.parquet.snappy\", index=False)\n",
    "test_text_df.to_parquet(READY_DATA_DIR/\"test_text.parquet.snappy\", index=False)"
   ]
  }
 ],
 "metadata": {
  "kernelspec": {
   "display_name": "Python 3.8.13 ('CS760': conda)",
   "language": "python",
   "name": "python3"
  },
  "language_info": {
   "codemirror_mode": {
    "name": "ipython",
    "version": 3
   },
   "file_extension": ".py",
   "mimetype": "text/x-python",
   "name": "python",
   "nbconvert_exporter": "python",
   "pygments_lexer": "ipython3",
   "version": "3.8.13"
  },
  "orig_nbformat": 4,
  "vscode": {
   "interpreter": {
    "hash": "12ede14e1ffbe31a015ff23db9d83bed6e28cdb2c11038b651bf1634c6ce7b9c"
   }
  }
 },
 "nbformat": 4,
 "nbformat_minor": 2
}
