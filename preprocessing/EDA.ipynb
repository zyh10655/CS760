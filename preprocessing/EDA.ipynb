{
 "cells": [
  {
   "cell_type": "code",
   "execution_count": 1,
   "id": "a3d8b401-16fb-4e5e-81a0-8b0174e00c2a",
   "metadata": {
    "execution": {
     "iopub.execute_input": "2022-08-19T06:02:36.403040Z",
     "iopub.status.busy": "2022-08-19T06:02:36.402713Z",
     "iopub.status.idle": "2022-08-19T06:02:38.059265Z",
     "shell.execute_reply": "2022-08-19T06:02:38.057728Z",
     "shell.execute_reply.started": "2022-08-19T06:02:36.402982Z"
    },
    "tags": []
   },
   "outputs": [
    {
     "data": {
      "text/html": [
       "<div class=\"bk-root\">\n",
       "        <a href=\"https://bokeh.org\" target=\"_blank\" class=\"bk-logo bk-logo-small bk-logo-notebook\"></a>\n",
       "        <span id=\"1002\">Loading BokehJS ...</span>\n",
       "    </div>\n"
      ]
     },
     "metadata": {},
     "output_type": "display_data"
    },
    {
     "data": {
      "application/javascript": [
       "(function(root) {\n",
       "  function now() {\n",
       "    return new Date();\n",
       "  }\n",
       "\n",
       "  const force = true;\n",
       "\n",
       "  if (typeof root._bokeh_onload_callbacks === \"undefined\" || force === true) {\n",
       "    root._bokeh_onload_callbacks = [];\n",
       "    root._bokeh_is_loading = undefined;\n",
       "  }\n",
       "\n",
       "const JS_MIME_TYPE = 'application/javascript';\n",
       "  const HTML_MIME_TYPE = 'text/html';\n",
       "  const EXEC_MIME_TYPE = 'application/vnd.bokehjs_exec.v0+json';\n",
       "  const CLASS_NAME = 'output_bokeh rendered_html';\n",
       "\n",
       "  /**\n",
       "   * Render data to the DOM node\n",
       "   */\n",
       "  function render(props, node) {\n",
       "    const script = document.createElement(\"script\");\n",
       "    node.appendChild(script);\n",
       "  }\n",
       "\n",
       "  /**\n",
       "   * Handle when an output is cleared or removed\n",
       "   */\n",
       "  function handleClearOutput(event, handle) {\n",
       "    const cell = handle.cell;\n",
       "\n",
       "    const id = cell.output_area._bokeh_element_id;\n",
       "    const server_id = cell.output_area._bokeh_server_id;\n",
       "    // Clean up Bokeh references\n",
       "    if (id != null && id in Bokeh.index) {\n",
       "      Bokeh.index[id].model.document.clear();\n",
       "      delete Bokeh.index[id];\n",
       "    }\n",
       "\n",
       "    if (server_id !== undefined) {\n",
       "      // Clean up Bokeh references\n",
       "      const cmd_clean = \"from bokeh.io.state import curstate; print(curstate().uuid_to_server['\" + server_id + \"'].get_sessions()[0].document.roots[0]._id)\";\n",
       "      cell.notebook.kernel.execute(cmd_clean, {\n",
       "        iopub: {\n",
       "          output: function(msg) {\n",
       "            const id = msg.content.text.trim();\n",
       "            if (id in Bokeh.index) {\n",
       "              Bokeh.index[id].model.document.clear();\n",
       "              delete Bokeh.index[id];\n",
       "            }\n",
       "          }\n",
       "        }\n",
       "      });\n",
       "      // Destroy server and session\n",
       "      const cmd_destroy = \"import bokeh.io.notebook as ion; ion.destroy_server('\" + server_id + \"')\";\n",
       "      cell.notebook.kernel.execute(cmd_destroy);\n",
       "    }\n",
       "  }\n",
       "\n",
       "  /**\n",
       "   * Handle when a new output is added\n",
       "   */\n",
       "  function handleAddOutput(event, handle) {\n",
       "    const output_area = handle.output_area;\n",
       "    const output = handle.output;\n",
       "\n",
       "    // limit handleAddOutput to display_data with EXEC_MIME_TYPE content only\n",
       "    if ((output.output_type != \"display_data\") || (!Object.prototype.hasOwnProperty.call(output.data, EXEC_MIME_TYPE))) {\n",
       "      return\n",
       "    }\n",
       "\n",
       "    const toinsert = output_area.element.find(\".\" + CLASS_NAME.split(' ')[0]);\n",
       "\n",
       "    if (output.metadata[EXEC_MIME_TYPE][\"id\"] !== undefined) {\n",
       "      toinsert[toinsert.length - 1].firstChild.textContent = output.data[JS_MIME_TYPE];\n",
       "      // store reference to embed id on output_area\n",
       "      output_area._bokeh_element_id = output.metadata[EXEC_MIME_TYPE][\"id\"];\n",
       "    }\n",
       "    if (output.metadata[EXEC_MIME_TYPE][\"server_id\"] !== undefined) {\n",
       "      const bk_div = document.createElement(\"div\");\n",
       "      bk_div.innerHTML = output.data[HTML_MIME_TYPE];\n",
       "      const script_attrs = bk_div.children[0].attributes;\n",
       "      for (let i = 0; i < script_attrs.length; i++) {\n",
       "        toinsert[toinsert.length - 1].firstChild.setAttribute(script_attrs[i].name, script_attrs[i].value);\n",
       "        toinsert[toinsert.length - 1].firstChild.textContent = bk_div.children[0].textContent\n",
       "      }\n",
       "      // store reference to server id on output_area\n",
       "      output_area._bokeh_server_id = output.metadata[EXEC_MIME_TYPE][\"server_id\"];\n",
       "    }\n",
       "  }\n",
       "\n",
       "  function register_renderer(events, OutputArea) {\n",
       "\n",
       "    function append_mime(data, metadata, element) {\n",
       "      // create a DOM node to render to\n",
       "      const toinsert = this.create_output_subarea(\n",
       "        metadata,\n",
       "        CLASS_NAME,\n",
       "        EXEC_MIME_TYPE\n",
       "      );\n",
       "      this.keyboard_manager.register_events(toinsert);\n",
       "      // Render to node\n",
       "      const props = {data: data, metadata: metadata[EXEC_MIME_TYPE]};\n",
       "      render(props, toinsert[toinsert.length - 1]);\n",
       "      element.append(toinsert);\n",
       "      return toinsert\n",
       "    }\n",
       "\n",
       "    /* Handle when an output is cleared or removed */\n",
       "    events.on('clear_output.CodeCell', handleClearOutput);\n",
       "    events.on('delete.Cell', handleClearOutput);\n",
       "\n",
       "    /* Handle when a new output is added */\n",
       "    events.on('output_added.OutputArea', handleAddOutput);\n",
       "\n",
       "    /**\n",
       "     * Register the mime type and append_mime function with output_area\n",
       "     */\n",
       "    OutputArea.prototype.register_mime_type(EXEC_MIME_TYPE, append_mime, {\n",
       "      /* Is output safe? */\n",
       "      safe: true,\n",
       "      /* Index of renderer in `output_area.display_order` */\n",
       "      index: 0\n",
       "    });\n",
       "  }\n",
       "\n",
       "  // register the mime type if in Jupyter Notebook environment and previously unregistered\n",
       "  if (root.Jupyter !== undefined) {\n",
       "    const events = require('base/js/events');\n",
       "    const OutputArea = require('notebook/js/outputarea').OutputArea;\n",
       "\n",
       "    if (OutputArea.prototype.mime_types().indexOf(EXEC_MIME_TYPE) == -1) {\n",
       "      register_renderer(events, OutputArea);\n",
       "    }\n",
       "  }\n",
       "  if (typeof (root._bokeh_timeout) === \"undefined\" || force === true) {\n",
       "    root._bokeh_timeout = Date.now() + 5000;\n",
       "    root._bokeh_failed_load = false;\n",
       "  }\n",
       "\n",
       "  const NB_LOAD_WARNING = {'data': {'text/html':\n",
       "     \"<div style='background-color: #fdd'>\\n\"+\n",
       "     \"<p>\\n\"+\n",
       "     \"BokehJS does not appear to have successfully loaded. If loading BokehJS from CDN, this \\n\"+\n",
       "     \"may be due to a slow or bad network connection. Possible fixes:\\n\"+\n",
       "     \"</p>\\n\"+\n",
       "     \"<ul>\\n\"+\n",
       "     \"<li>re-rerun `output_notebook()` to attempt to load from CDN again, or</li>\\n\"+\n",
       "     \"<li>use INLINE resources instead, as so:</li>\\n\"+\n",
       "     \"</ul>\\n\"+\n",
       "     \"<code>\\n\"+\n",
       "     \"from bokeh.resources import INLINE\\n\"+\n",
       "     \"output_notebook(resources=INLINE)\\n\"+\n",
       "     \"</code>\\n\"+\n",
       "     \"</div>\"}};\n",
       "\n",
       "  function display_loaded() {\n",
       "    const el = document.getElementById(\"1002\");\n",
       "    if (el != null) {\n",
       "      el.textContent = \"BokehJS is loading...\";\n",
       "    }\n",
       "    if (root.Bokeh !== undefined) {\n",
       "      if (el != null) {\n",
       "        el.textContent = \"BokehJS \" + root.Bokeh.version + \" successfully loaded.\";\n",
       "      }\n",
       "    } else if (Date.now() < root._bokeh_timeout) {\n",
       "      setTimeout(display_loaded, 100)\n",
       "    }\n",
       "  }\n",
       "\n",
       "  function run_callbacks() {\n",
       "    try {\n",
       "      root._bokeh_onload_callbacks.forEach(function(callback) {\n",
       "        if (callback != null)\n",
       "          callback();\n",
       "      });\n",
       "    } finally {\n",
       "      delete root._bokeh_onload_callbacks\n",
       "    }\n",
       "    console.debug(\"Bokeh: all callbacks have finished\");\n",
       "  }\n",
       "\n",
       "  function load_libs(css_urls, js_urls, callback) {\n",
       "    if (css_urls == null) css_urls = [];\n",
       "    if (js_urls == null) js_urls = [];\n",
       "\n",
       "    root._bokeh_onload_callbacks.push(callback);\n",
       "    if (root._bokeh_is_loading > 0) {\n",
       "      console.debug(\"Bokeh: BokehJS is being loaded, scheduling callback at\", now());\n",
       "      return null;\n",
       "    }\n",
       "    if (js_urls == null || js_urls.length === 0) {\n",
       "      run_callbacks();\n",
       "      return null;\n",
       "    }\n",
       "    console.debug(\"Bokeh: BokehJS not loaded, scheduling load and callback at\", now());\n",
       "    root._bokeh_is_loading = css_urls.length + js_urls.length;\n",
       "\n",
       "    function on_load() {\n",
       "      root._bokeh_is_loading--;\n",
       "      if (root._bokeh_is_loading === 0) {\n",
       "        console.debug(\"Bokeh: all BokehJS libraries/stylesheets loaded\");\n",
       "        run_callbacks()\n",
       "      }\n",
       "    }\n",
       "\n",
       "    function on_error(url) {\n",
       "      console.error(\"failed to load \" + url);\n",
       "    }\n",
       "\n",
       "    for (let i = 0; i < css_urls.length; i++) {\n",
       "      const url = css_urls[i];\n",
       "      const element = document.createElement(\"link\");\n",
       "      element.onload = on_load;\n",
       "      element.onerror = on_error.bind(null, url);\n",
       "      element.rel = \"stylesheet\";\n",
       "      element.type = \"text/css\";\n",
       "      element.href = url;\n",
       "      console.debug(\"Bokeh: injecting link tag for BokehJS stylesheet: \", url);\n",
       "      document.body.appendChild(element);\n",
       "    }\n",
       "\n",
       "    for (let i = 0; i < js_urls.length; i++) {\n",
       "      const url = js_urls[i];\n",
       "      const element = document.createElement('script');\n",
       "      element.onload = on_load;\n",
       "      element.onerror = on_error.bind(null, url);\n",
       "      element.async = false;\n",
       "      element.src = url;\n",
       "      console.debug(\"Bokeh: injecting script tag for BokehJS library: \", url);\n",
       "      document.head.appendChild(element);\n",
       "    }\n",
       "  };\n",
       "\n",
       "  function inject_raw_css(css) {\n",
       "    const element = document.createElement(\"style\");\n",
       "    element.appendChild(document.createTextNode(css));\n",
       "    document.body.appendChild(element);\n",
       "  }\n",
       "\n",
       "  const js_urls = [\"https://cdn.bokeh.org/bokeh/release/bokeh-2.4.3.min.js\", \"https://cdn.bokeh.org/bokeh/release/bokeh-gl-2.4.3.min.js\", \"https://cdn.bokeh.org/bokeh/release/bokeh-widgets-2.4.3.min.js\", \"https://cdn.bokeh.org/bokeh/release/bokeh-tables-2.4.3.min.js\", \"https://cdn.bokeh.org/bokeh/release/bokeh-mathjax-2.4.3.min.js\"];\n",
       "  const css_urls = [];\n",
       "\n",
       "  const inline_js = [    function(Bokeh) {\n",
       "      Bokeh.set_log_level(\"info\");\n",
       "    },\n",
       "function(Bokeh) {\n",
       "    }\n",
       "  ];\n",
       "\n",
       "  function run_inline_js() {\n",
       "    if (root.Bokeh !== undefined || force === true) {\n",
       "          for (let i = 0; i < inline_js.length; i++) {\n",
       "      inline_js[i].call(root, root.Bokeh);\n",
       "    }\n",
       "if (force === true) {\n",
       "        display_loaded();\n",
       "      }} else if (Date.now() < root._bokeh_timeout) {\n",
       "      setTimeout(run_inline_js, 100);\n",
       "    } else if (!root._bokeh_failed_load) {\n",
       "      console.log(\"Bokeh: BokehJS failed to load within specified timeout.\");\n",
       "      root._bokeh_failed_load = true;\n",
       "    } else if (force !== true) {\n",
       "      const cell = $(document.getElementById(\"1002\")).parents('.cell').data().cell;\n",
       "      cell.output_area.append_execute_result(NB_LOAD_WARNING)\n",
       "    }\n",
       "  }\n",
       "\n",
       "  if (root._bokeh_is_loading === 0) {\n",
       "    console.debug(\"Bokeh: BokehJS loaded, going straight to plotting\");\n",
       "    run_inline_js();\n",
       "  } else {\n",
       "    load_libs(css_urls, js_urls, function() {\n",
       "      console.debug(\"Bokeh: BokehJS plotting callback run at\", now());\n",
       "      run_inline_js();\n",
       "    });\n",
       "  }\n",
       "}(window));"
      ],
      "application/vnd.bokehjs_load.v0+json": "(function(root) {\n  function now() {\n    return new Date();\n  }\n\n  const force = true;\n\n  if (typeof root._bokeh_onload_callbacks === \"undefined\" || force === true) {\n    root._bokeh_onload_callbacks = [];\n    root._bokeh_is_loading = undefined;\n  }\n\n\n  if (typeof (root._bokeh_timeout) === \"undefined\" || force === true) {\n    root._bokeh_timeout = Date.now() + 5000;\n    root._bokeh_failed_load = false;\n  }\n\n  const NB_LOAD_WARNING = {'data': {'text/html':\n     \"<div style='background-color: #fdd'>\\n\"+\n     \"<p>\\n\"+\n     \"BokehJS does not appear to have successfully loaded. If loading BokehJS from CDN, this \\n\"+\n     \"may be due to a slow or bad network connection. Possible fixes:\\n\"+\n     \"</p>\\n\"+\n     \"<ul>\\n\"+\n     \"<li>re-rerun `output_notebook()` to attempt to load from CDN again, or</li>\\n\"+\n     \"<li>use INLINE resources instead, as so:</li>\\n\"+\n     \"</ul>\\n\"+\n     \"<code>\\n\"+\n     \"from bokeh.resources import INLINE\\n\"+\n     \"output_notebook(resources=INLINE)\\n\"+\n     \"</code>\\n\"+\n     \"</div>\"}};\n\n  function display_loaded() {\n    const el = document.getElementById(\"1002\");\n    if (el != null) {\n      el.textContent = \"BokehJS is loading...\";\n    }\n    if (root.Bokeh !== undefined) {\n      if (el != null) {\n        el.textContent = \"BokehJS \" + root.Bokeh.version + \" successfully loaded.\";\n      }\n    } else if (Date.now() < root._bokeh_timeout) {\n      setTimeout(display_loaded, 100)\n    }\n  }\n\n  function run_callbacks() {\n    try {\n      root._bokeh_onload_callbacks.forEach(function(callback) {\n        if (callback != null)\n          callback();\n      });\n    } finally {\n      delete root._bokeh_onload_callbacks\n    }\n    console.debug(\"Bokeh: all callbacks have finished\");\n  }\n\n  function load_libs(css_urls, js_urls, callback) {\n    if (css_urls == null) css_urls = [];\n    if (js_urls == null) js_urls = [];\n\n    root._bokeh_onload_callbacks.push(callback);\n    if (root._bokeh_is_loading > 0) {\n      console.debug(\"Bokeh: BokehJS is being loaded, scheduling callback at\", now());\n      return null;\n    }\n    if (js_urls == null || js_urls.length === 0) {\n      run_callbacks();\n      return null;\n    }\n    console.debug(\"Bokeh: BokehJS not loaded, scheduling load and callback at\", now());\n    root._bokeh_is_loading = css_urls.length + js_urls.length;\n\n    function on_load() {\n      root._bokeh_is_loading--;\n      if (root._bokeh_is_loading === 0) {\n        console.debug(\"Bokeh: all BokehJS libraries/stylesheets loaded\");\n        run_callbacks()\n      }\n    }\n\n    function on_error(url) {\n      console.error(\"failed to load \" + url);\n    }\n\n    for (let i = 0; i < css_urls.length; i++) {\n      const url = css_urls[i];\n      const element = document.createElement(\"link\");\n      element.onload = on_load;\n      element.onerror = on_error.bind(null, url);\n      element.rel = \"stylesheet\";\n      element.type = \"text/css\";\n      element.href = url;\n      console.debug(\"Bokeh: injecting link tag for BokehJS stylesheet: \", url);\n      document.body.appendChild(element);\n    }\n\n    for (let i = 0; i < js_urls.length; i++) {\n      const url = js_urls[i];\n      const element = document.createElement('script');\n      element.onload = on_load;\n      element.onerror = on_error.bind(null, url);\n      element.async = false;\n      element.src = url;\n      console.debug(\"Bokeh: injecting script tag for BokehJS library: \", url);\n      document.head.appendChild(element);\n    }\n  };\n\n  function inject_raw_css(css) {\n    const element = document.createElement(\"style\");\n    element.appendChild(document.createTextNode(css));\n    document.body.appendChild(element);\n  }\n\n  const js_urls = [\"https://cdn.bokeh.org/bokeh/release/bokeh-2.4.3.min.js\", \"https://cdn.bokeh.org/bokeh/release/bokeh-gl-2.4.3.min.js\", \"https://cdn.bokeh.org/bokeh/release/bokeh-widgets-2.4.3.min.js\", \"https://cdn.bokeh.org/bokeh/release/bokeh-tables-2.4.3.min.js\", \"https://cdn.bokeh.org/bokeh/release/bokeh-mathjax-2.4.3.min.js\"];\n  const css_urls = [];\n\n  const inline_js = [    function(Bokeh) {\n      Bokeh.set_log_level(\"info\");\n    },\nfunction(Bokeh) {\n    }\n  ];\n\n  function run_inline_js() {\n    if (root.Bokeh !== undefined || force === true) {\n          for (let i = 0; i < inline_js.length; i++) {\n      inline_js[i].call(root, root.Bokeh);\n    }\nif (force === true) {\n        display_loaded();\n      }} else if (Date.now() < root._bokeh_timeout) {\n      setTimeout(run_inline_js, 100);\n    } else if (!root._bokeh_failed_load) {\n      console.log(\"Bokeh: BokehJS failed to load within specified timeout.\");\n      root._bokeh_failed_load = true;\n    } else if (force !== true) {\n      const cell = $(document.getElementById(\"1002\")).parents('.cell').data().cell;\n      cell.output_area.append_execute_result(NB_LOAD_WARNING)\n    }\n  }\n\n  if (root._bokeh_is_loading === 0) {\n    console.debug(\"Bokeh: BokehJS loaded, going straight to plotting\");\n    run_inline_js();\n  } else {\n    load_libs(css_urls, js_urls, function() {\n      console.debug(\"Bokeh: BokehJS plotting callback run at\", now());\n      run_inline_js();\n    });\n  }\n}(window));"
     },
     "metadata": {},
     "output_type": "display_data"
    }
   ],
   "source": [
    "import numpy as np\n",
    "import pandas as pd\n",
    "import dask.dataframe as dd\n",
    "import matplotlib.pyplot as plt\n",
    "import seaborn as sns\n",
    "import pickle as pkl\n",
    "import os\n",
    "import sys\n",
    "import warnings\n",
    "\n",
    "from bokeh.plotting import figure, show, output_notebook\n",
    "\n",
    "warnings.filterwarnings('ignore')\n",
    "plt.style.use('fivethirtyeight')\n",
    "output_notebook()"
   ]
  },
  {
   "cell_type": "markdown",
   "id": "5566f007-7b86-4870-bde6-01a941606e1b",
   "metadata": {},
   "source": [
    "# Load Data"
   ]
  },
  {
   "cell_type": "code",
   "execution_count": 2,
   "id": "67cbfd48-e0e7-40a9-b18e-f21fa066ed68",
   "metadata": {
    "execution": {
     "iopub.execute_input": "2022-08-19T06:02:38.061290Z",
     "iopub.status.busy": "2022-08-19T06:02:38.060545Z",
     "iopub.status.idle": "2022-08-19T06:02:52.219860Z",
     "shell.execute_reply": "2022-08-19T06:02:52.218919Z",
     "shell.execute_reply.started": "2022-08-19T06:02:38.061235Z"
    },
    "tags": []
   },
   "outputs": [
    {
     "name": "stdout",
     "output_type": "stream",
     "text": [
      "CPU times: user 9.64 s, sys: 5.01 s, total: 14.6 s\n",
      "Wall time: 14.2 s\n"
     ]
    }
   ],
   "source": [
    "%%time\n",
    "# ddf = dd.read_parquet(\"processed_data/joined.parquet.snappy\", engine=\"pyarrow\")\n",
    "df = pd.read_parquet(\"processed_data/joined.parquet.snappy\")\n",
    "ddf = dd.from_pandas(df, npartitions=100)"
   ]
  },
  {
   "cell_type": "code",
   "execution_count": 3,
   "id": "c9aa9af3-dcb6-4670-84c2-27c07eac26ef",
   "metadata": {
    "execution": {
     "iopub.execute_input": "2022-08-19T06:02:52.222539Z",
     "iopub.status.busy": "2022-08-19T06:02:52.222130Z",
     "iopub.status.idle": "2022-08-19T06:02:52.256730Z",
     "shell.execute_reply": "2022-08-19T06:02:52.255547Z",
     "shell.execute_reply.started": "2022-08-19T06:02:52.222498Z"
    },
    "tags": []
   },
   "outputs": [
    {
     "data": {
      "text/html": [
       "<div>\n",
       "<style scoped>\n",
       "    .dataframe tbody tr th:only-of-type {\n",
       "        vertical-align: middle;\n",
       "    }\n",
       "\n",
       "    .dataframe tbody tr th {\n",
       "        vertical-align: top;\n",
       "    }\n",
       "\n",
       "    .dataframe thead th {\n",
       "        text-align: right;\n",
       "    }\n",
       "</style>\n",
       "<table border=\"1\" class=\"dataframe\">\n",
       "  <thead>\n",
       "    <tr style=\"text-align: right;\">\n",
       "      <th></th>\n",
       "      <th>r_id</th>\n",
       "      <th>b_id</th>\n",
       "      <th>u_id</th>\n",
       "      <th>r_stars</th>\n",
       "      <th>r_date</th>\n",
       "      <th>r_text</th>\n",
       "      <th>r_useful</th>\n",
       "      <th>r_funny</th>\n",
       "      <th>r_cool</th>\n",
       "      <th>b_stars</th>\n",
       "      <th>b_review_count</th>\n",
       "      <th>u_review_count</th>\n",
       "      <th>u_yelping_since</th>\n",
       "      <th>u_friends_count</th>\n",
       "    </tr>\n",
       "  </thead>\n",
       "  <tbody>\n",
       "    <tr>\n",
       "      <th>0</th>\n",
       "      <td>4</td>\n",
       "      <td>6317</td>\n",
       "      <td>164431</td>\n",
       "      <td>5</td>\n",
       "      <td>2015-01-04 00:01:03</td>\n",
       "      <td>Wow!  Yummy, different,  delicious.   Our favo...</td>\n",
       "      <td>1</td>\n",
       "      <td>0</td>\n",
       "      <td>1</td>\n",
       "      <td>4.0</td>\n",
       "      <td>181</td>\n",
       "      <td>9</td>\n",
       "      <td>2014-01-17 19:20:57</td>\n",
       "      <td>1</td>\n",
       "    </tr>\n",
       "    <tr>\n",
       "      <th>1</th>\n",
       "      <td>9</td>\n",
       "      <td>914</td>\n",
       "      <td>154297</td>\n",
       "      <td>3</td>\n",
       "      <td>2016-03-30 22:46:33</td>\n",
       "      <td>This easter instead of going to Lopez Lake we ...</td>\n",
       "      <td>1</td>\n",
       "      <td>1</td>\n",
       "      <td>0</td>\n",
       "      <td>4.5</td>\n",
       "      <td>13</td>\n",
       "      <td>24</td>\n",
       "      <td>2015-10-27 22:53:34</td>\n",
       "      <td>1</td>\n",
       "    </tr>\n",
       "    <tr>\n",
       "      <th>2</th>\n",
       "      <td>11</td>\n",
       "      <td>3877</td>\n",
       "      <td>35412</td>\n",
       "      <td>5</td>\n",
       "      <td>2015-06-21 14:48:06</td>\n",
       "      <td>My experience with Shalimar was nothing but wo...</td>\n",
       "      <td>2</td>\n",
       "      <td>0</td>\n",
       "      <td>0</td>\n",
       "      <td>2.5</td>\n",
       "      <td>8</td>\n",
       "      <td>39</td>\n",
       "      <td>2009-01-27 21:20:30</td>\n",
       "      <td>7</td>\n",
       "    </tr>\n",
       "    <tr>\n",
       "      <th>3</th>\n",
       "      <td>18</td>\n",
       "      <td>12041</td>\n",
       "      <td>21756</td>\n",
       "      <td>4</td>\n",
       "      <td>2014-08-10 19:41:43</td>\n",
       "      <td>The hubby and I have been here on multiple occ...</td>\n",
       "      <td>1</td>\n",
       "      <td>0</td>\n",
       "      <td>0</td>\n",
       "      <td>4.0</td>\n",
       "      <td>398</td>\n",
       "      <td>74</td>\n",
       "      <td>2009-07-24 14:30:28</td>\n",
       "      <td>112</td>\n",
       "    </tr>\n",
       "    <tr>\n",
       "      <th>4</th>\n",
       "      <td>19</td>\n",
       "      <td>295</td>\n",
       "      <td>80128</td>\n",
       "      <td>5</td>\n",
       "      <td>2016-03-07 00:02:18</td>\n",
       "      <td>I go to blow bar to get my brows done by natal...</td>\n",
       "      <td>2</td>\n",
       "      <td>0</td>\n",
       "      <td>1</td>\n",
       "      <td>4.0</td>\n",
       "      <td>55</td>\n",
       "      <td>27</td>\n",
       "      <td>2012-02-26 05:18:05</td>\n",
       "      <td>8</td>\n",
       "    </tr>\n",
       "  </tbody>\n",
       "</table>\n",
       "</div>"
      ],
      "text/plain": [
       "  r_id   b_id    u_id  r_stars              r_date  \\\n",
       "0    4   6317  164431        5 2015-01-04 00:01:03   \n",
       "1    9    914  154297        3 2016-03-30 22:46:33   \n",
       "2   11   3877   35412        5 2015-06-21 14:48:06   \n",
       "3   18  12041   21756        4 2014-08-10 19:41:43   \n",
       "4   19    295   80128        5 2016-03-07 00:02:18   \n",
       "\n",
       "                                              r_text  r_useful  r_funny  \\\n",
       "0  Wow!  Yummy, different,  delicious.   Our favo...         1        0   \n",
       "1  This easter instead of going to Lopez Lake we ...         1        1   \n",
       "2  My experience with Shalimar was nothing but wo...         2        0   \n",
       "3  The hubby and I have been here on multiple occ...         1        0   \n",
       "4  I go to blow bar to get my brows done by natal...         2        0   \n",
       "\n",
       "   r_cool  b_stars  b_review_count  u_review_count     u_yelping_since  \\\n",
       "0       1      4.0             181               9 2014-01-17 19:20:57   \n",
       "1       0      4.5              13              24 2015-10-27 22:53:34   \n",
       "2       0      2.5               8              39 2009-01-27 21:20:30   \n",
       "3       0      4.0             398              74 2009-07-24 14:30:28   \n",
       "4       1      4.0              55              27 2012-02-26 05:18:05   \n",
       "\n",
       "   u_friends_count  \n",
       "0                1  \n",
       "1                1  \n",
       "2                7  \n",
       "3              112  \n",
       "4                8  "
      ]
     },
     "execution_count": 3,
     "metadata": {},
     "output_type": "execute_result"
    }
   ],
   "source": [
    "ddf.head()\n",
    "# df.head()"
   ]
  },
  {
   "cell_type": "markdown",
   "id": "8cc4f3aa-e8f3-4774-932c-abff6106c37b",
   "metadata": {},
   "source": [
    "# Basic EDA"
   ]
  },
  {
   "cell_type": "markdown",
   "id": "2345c0ba-12c0-469e-9f00-b72282d5c7cf",
   "metadata": {},
   "source": [
    "## Dataset Statisitics"
   ]
  },
  {
   "cell_type": "code",
   "execution_count": 4,
   "id": "88d98f31-5253-4fa7-b576-9535bf7bf607",
   "metadata": {
    "execution": {
     "iopub.execute_input": "2022-08-19T06:02:52.259423Z",
     "iopub.status.busy": "2022-08-19T06:02:52.258686Z",
     "iopub.status.idle": "2022-08-19T06:02:54.457631Z",
     "shell.execute_reply": "2022-08-19T06:02:54.456373Z",
     "shell.execute_reply.started": "2022-08-19T06:02:52.259373Z"
    },
    "tags": []
   },
   "outputs": [
    {
     "data": {
      "text/html": [
       "<div>\n",
       "<style scoped>\n",
       "    .dataframe tbody tr th:only-of-type {\n",
       "        vertical-align: middle;\n",
       "    }\n",
       "\n",
       "    .dataframe tbody tr th {\n",
       "        vertical-align: top;\n",
       "    }\n",
       "\n",
       "    .dataframe thead th {\n",
       "        text-align: right;\n",
       "    }\n",
       "</style>\n",
       "<table border=\"1\" class=\"dataframe\">\n",
       "  <thead>\n",
       "    <tr style=\"text-align: right;\">\n",
       "      <th></th>\n",
       "      <th>b_id</th>\n",
       "      <th>u_id</th>\n",
       "      <th>r_stars</th>\n",
       "      <th>r_useful</th>\n",
       "      <th>r_funny</th>\n",
       "      <th>r_cool</th>\n",
       "      <th>b_stars</th>\n",
       "      <th>b_review_count</th>\n",
       "      <th>u_review_count</th>\n",
       "      <th>u_friends_count</th>\n",
       "    </tr>\n",
       "  </thead>\n",
       "  <tbody>\n",
       "    <tr>\n",
       "      <th>count</th>\n",
       "      <td>2.576655e+06</td>\n",
       "      <td>2.576655e+06</td>\n",
       "      <td>2.576655e+06</td>\n",
       "      <td>2.576655e+06</td>\n",
       "      <td>2.576655e+06</td>\n",
       "      <td>2.576655e+06</td>\n",
       "      <td>2.576655e+06</td>\n",
       "      <td>2.576655e+06</td>\n",
       "      <td>2.576655e+06</td>\n",
       "      <td>2.576655e+06</td>\n",
       "    </tr>\n",
       "    <tr>\n",
       "      <th>mean</th>\n",
       "      <td>7.479263e+04</td>\n",
       "      <td>4.266285e+05</td>\n",
       "      <td>3.607624e+00</td>\n",
       "      <td>2.651250e+00</td>\n",
       "      <td>6.412120e-01</td>\n",
       "      <td>1.038119e+00</td>\n",
       "      <td>3.742953e+00</td>\n",
       "      <td>3.369155e+02</td>\n",
       "      <td>1.913309e+02</td>\n",
       "      <td>1.890629e+02</td>\n",
       "    </tr>\n",
       "    <tr>\n",
       "      <th>std</th>\n",
       "      <td>4.357554e+04</td>\n",
       "      <td>4.963609e+05</td>\n",
       "      <td>1.538495e+00</td>\n",
       "      <td>4.625320e+00</td>\n",
       "      <td>2.446789e+00</td>\n",
       "      <td>3.283233e+00</td>\n",
       "      <td>7.945866e-01</td>\n",
       "      <td>6.658551e+02</td>\n",
       "      <td>4.975412e+02</td>\n",
       "      <td>5.674223e+02</td>\n",
       "    </tr>\n",
       "    <tr>\n",
       "      <th>min</th>\n",
       "      <td>2.000000e+00</td>\n",
       "      <td>1.000000e+00</td>\n",
       "      <td>1.000000e+00</td>\n",
       "      <td>-1.000000e+00</td>\n",
       "      <td>-1.000000e+00</td>\n",
       "      <td>-1.000000e+00</td>\n",
       "      <td>1.000000e+00</td>\n",
       "      <td>5.000000e+00</td>\n",
       "      <td>0.000000e+00</td>\n",
       "      <td>1.000000e+00</td>\n",
       "    </tr>\n",
       "    <tr>\n",
       "      <th>25%</th>\n",
       "      <td>3.768100e+04</td>\n",
       "      <td>1.003680e+05</td>\n",
       "      <td>3.000000e+00</td>\n",
       "      <td>1.000000e+00</td>\n",
       "      <td>0.000000e+00</td>\n",
       "      <td>0.000000e+00</td>\n",
       "      <td>3.500000e+00</td>\n",
       "      <td>6.100000e+01</td>\n",
       "      <td>1.800000e+01</td>\n",
       "      <td>7.000000e+00</td>\n",
       "    </tr>\n",
       "    <tr>\n",
       "      <th>50%</th>\n",
       "      <td>7.517300e+04</td>\n",
       "      <td>2.844250e+05</td>\n",
       "      <td>4.000000e+00</td>\n",
       "      <td>2.000000e+00</td>\n",
       "      <td>0.000000e+00</td>\n",
       "      <td>1.000000e+00</td>\n",
       "      <td>4.000000e+00</td>\n",
       "      <td>1.850000e+02</td>\n",
       "      <td>9.700000e+01</td>\n",
       "      <td>7.600000e+01</td>\n",
       "    </tr>\n",
       "    <tr>\n",
       "      <th>75%</th>\n",
       "      <td>1.130200e+05</td>\n",
       "      <td>8.909660e+05</td>\n",
       "      <td>5.000000e+00</td>\n",
       "      <td>3.000000e+00</td>\n",
       "      <td>1.000000e+00</td>\n",
       "      <td>1.000000e+00</td>\n",
       "      <td>4.500000e+00</td>\n",
       "      <td>4.720000e+02</td>\n",
       "      <td>2.570000e+02</td>\n",
       "      <td>2.340000e+02</td>\n",
       "    </tr>\n",
       "    <tr>\n",
       "      <th>max</th>\n",
       "      <td>1.503460e+05</td>\n",
       "      <td>1.987895e+06</td>\n",
       "      <td>5.000000e+00</td>\n",
       "      <td>1.182000e+03</td>\n",
       "      <td>7.920000e+02</td>\n",
       "      <td>4.040000e+02</td>\n",
       "      <td>5.000000e+00</td>\n",
       "      <td>7.568000e+03</td>\n",
       "      <td>1.747300e+04</td>\n",
       "      <td>1.499500e+04</td>\n",
       "    </tr>\n",
       "  </tbody>\n",
       "</table>\n",
       "</div>"
      ],
      "text/plain": [
       "               b_id          u_id       r_stars      r_useful       r_funny  \\\n",
       "count  2.576655e+06  2.576655e+06  2.576655e+06  2.576655e+06  2.576655e+06   \n",
       "mean   7.479263e+04  4.266285e+05  3.607624e+00  2.651250e+00  6.412120e-01   \n",
       "std    4.357554e+04  4.963609e+05  1.538495e+00  4.625320e+00  2.446789e+00   \n",
       "min    2.000000e+00  1.000000e+00  1.000000e+00 -1.000000e+00 -1.000000e+00   \n",
       "25%    3.768100e+04  1.003680e+05  3.000000e+00  1.000000e+00  0.000000e+00   \n",
       "50%    7.517300e+04  2.844250e+05  4.000000e+00  2.000000e+00  0.000000e+00   \n",
       "75%    1.130200e+05  8.909660e+05  5.000000e+00  3.000000e+00  1.000000e+00   \n",
       "max    1.503460e+05  1.987895e+06  5.000000e+00  1.182000e+03  7.920000e+02   \n",
       "\n",
       "             r_cool       b_stars  b_review_count  u_review_count  \\\n",
       "count  2.576655e+06  2.576655e+06    2.576655e+06    2.576655e+06   \n",
       "mean   1.038119e+00  3.742953e+00    3.369155e+02    1.913309e+02   \n",
       "std    3.283233e+00  7.945866e-01    6.658551e+02    4.975412e+02   \n",
       "min   -1.000000e+00  1.000000e+00    5.000000e+00    0.000000e+00   \n",
       "25%    0.000000e+00  3.500000e+00    6.100000e+01    1.800000e+01   \n",
       "50%    1.000000e+00  4.000000e+00    1.850000e+02    9.700000e+01   \n",
       "75%    1.000000e+00  4.500000e+00    4.720000e+02    2.570000e+02   \n",
       "max    4.040000e+02  5.000000e+00    7.568000e+03    1.747300e+04   \n",
       "\n",
       "       u_friends_count  \n",
       "count     2.576655e+06  \n",
       "mean      1.890629e+02  \n",
       "std       5.674223e+02  \n",
       "min       1.000000e+00  \n",
       "25%       7.000000e+00  \n",
       "50%       7.600000e+01  \n",
       "75%       2.340000e+02  \n",
       "max       1.499500e+04  "
      ]
     },
     "execution_count": 4,
     "metadata": {},
     "output_type": "execute_result"
    }
   ],
   "source": [
    "ddf.describe().compute()\n",
    "# df.describe()"
   ]
  },
  {
   "cell_type": "markdown",
   "id": "da2f1f37-c1ca-4658-b9b3-905b1f026fbd",
   "metadata": {},
   "source": [
    "## Missing Data Information"
   ]
  },
  {
   "cell_type": "code",
   "execution_count": 5,
   "id": "537f85ab-3ff4-4f62-a560-20dd6f882317",
   "metadata": {
    "execution": {
     "iopub.execute_input": "2022-08-19T06:02:54.460159Z",
     "iopub.status.busy": "2022-08-19T06:02:54.459515Z",
     "iopub.status.idle": "2022-08-19T06:02:57.439381Z",
     "shell.execute_reply": "2022-08-19T06:02:57.437320Z",
     "shell.execute_reply.started": "2022-08-19T06:02:54.460113Z"
    },
    "tags": []
   },
   "outputs": [
    {
     "data": {
      "text/html": [
       "<div>\n",
       "<style scoped>\n",
       "    .dataframe tbody tr th:only-of-type {\n",
       "        vertical-align: middle;\n",
       "    }\n",
       "\n",
       "    .dataframe tbody tr th {\n",
       "        vertical-align: top;\n",
       "    }\n",
       "\n",
       "    .dataframe thead th {\n",
       "        text-align: right;\n",
       "    }\n",
       "</style>\n",
       "<table border=\"1\" class=\"dataframe\">\n",
       "  <thead>\n",
       "    <tr style=\"text-align: right;\">\n",
       "      <th></th>\n",
       "      <th>fraction_missing</th>\n",
       "    </tr>\n",
       "  </thead>\n",
       "  <tbody>\n",
       "    <tr>\n",
       "      <th>r_id</th>\n",
       "      <td>0.0</td>\n",
       "    </tr>\n",
       "    <tr>\n",
       "      <th>b_id</th>\n",
       "      <td>0.0</td>\n",
       "    </tr>\n",
       "    <tr>\n",
       "      <th>u_id</th>\n",
       "      <td>0.0</td>\n",
       "    </tr>\n",
       "    <tr>\n",
       "      <th>r_stars</th>\n",
       "      <td>0.0</td>\n",
       "    </tr>\n",
       "    <tr>\n",
       "      <th>r_date</th>\n",
       "      <td>0.0</td>\n",
       "    </tr>\n",
       "    <tr>\n",
       "      <th>r_text</th>\n",
       "      <td>0.0</td>\n",
       "    </tr>\n",
       "    <tr>\n",
       "      <th>r_useful</th>\n",
       "      <td>0.0</td>\n",
       "    </tr>\n",
       "    <tr>\n",
       "      <th>r_funny</th>\n",
       "      <td>0.0</td>\n",
       "    </tr>\n",
       "    <tr>\n",
       "      <th>r_cool</th>\n",
       "      <td>0.0</td>\n",
       "    </tr>\n",
       "    <tr>\n",
       "      <th>b_stars</th>\n",
       "      <td>0.0</td>\n",
       "    </tr>\n",
       "    <tr>\n",
       "      <th>b_review_count</th>\n",
       "      <td>0.0</td>\n",
       "    </tr>\n",
       "    <tr>\n",
       "      <th>u_review_count</th>\n",
       "      <td>0.0</td>\n",
       "    </tr>\n",
       "    <tr>\n",
       "      <th>u_yelping_since</th>\n",
       "      <td>0.0</td>\n",
       "    </tr>\n",
       "    <tr>\n",
       "      <th>u_friends_count</th>\n",
       "      <td>0.0</td>\n",
       "    </tr>\n",
       "  </tbody>\n",
       "</table>\n",
       "</div>"
      ],
      "text/plain": [
       "                 fraction_missing\n",
       "r_id                          0.0\n",
       "b_id                          0.0\n",
       "u_id                          0.0\n",
       "r_stars                       0.0\n",
       "r_date                        0.0\n",
       "r_text                        0.0\n",
       "r_useful                      0.0\n",
       "r_funny                       0.0\n",
       "r_cool                        0.0\n",
       "b_stars                       0.0\n",
       "b_review_count                0.0\n",
       "u_review_count                0.0\n",
       "u_yelping_since               0.0\n",
       "u_friends_count               0.0"
      ]
     },
     "execution_count": 5,
     "metadata": {},
     "output_type": "execute_result"
    }
   ],
   "source": [
    "pd.DataFrame(ddf.isna().sum().compute() / ddf.isna().count().compute(), columns=[\"fraction_missing\"])\n",
    "# pd.DataFrame(df.isna().sum()/ df.isna().count(), columns=[\"fraction_missing\"])"
   ]
  },
  {
   "cell_type": "markdown",
   "id": "67ae0c4f-51c0-4487-8604-528cbb931243",
   "metadata": {},
   "source": [
    "## Histogram of review stars"
   ]
  },
  {
   "cell_type": "code",
   "execution_count": 6,
   "id": "83b3bf3b-8cbc-4e21-bd8f-3bf6de2a558f",
   "metadata": {
    "execution": {
     "iopub.execute_input": "2022-08-19T06:02:57.441389Z",
     "iopub.status.busy": "2022-08-19T06:02:57.440905Z",
     "iopub.status.idle": "2022-08-19T06:02:57.460525Z",
     "shell.execute_reply": "2022-08-19T06:02:57.459007Z",
     "shell.execute_reply.started": "2022-08-19T06:02:57.441347Z"
    },
    "tags": []
   },
   "outputs": [],
   "source": [
    "def bokeh_hist(hist, edges, **kwargs):\n",
    "    \"\"\" Function to plot the histogram in Bokeh \"\"\"\n",
    "    x = kwargs.get('x', None)\n",
    "    pdf = kwargs.get('pdf', None)\n",
    "    cdf = kwargs.get('cdf', None)\n",
    "    title = kwargs.get('title', \"Title\")\n",
    "    height = kwargs.get('height', 350)\n",
    "    \n",
    "    p = figure(height=height, title=title, x_axis_label=kwargs.get(\"x_label\", \"x\"), y_axis_label=kwargs.get(\"y_label\", \"y\"),\n",
    "              y_axis_type=kwargs.get(\"y_axis_type\", \"linear\"), y_range=kwargs.get(\"y_range\", None))\n",
    "    \n",
    "    p.quad(bottom=0, top=hist, left=edges[:-1], right=edges[1:], fill_color=kwargs.get('fill_color', 'navy'), \n",
    "           line_color=kwargs.get('line_color', 'white'), \n",
    "           alpha=kwargs.get('alpha', 0.5))\n",
    "    \n",
    "    if pdf is not None and x is not None:\n",
    "        p.line(x, pdf, line_color=kwargs.get('pdf_color', 'darkorange'), legend=\"PDF\")\n",
    "        \n",
    "    if cdf is not None and x is not None:\n",
    "        p.line(x, cdf, line_color=kwargs.get('cdf_color', 'forestgreen'), legend=\"CDF\")\n",
    "   \n",
    "    p.legend.location = \"center_right\"\n",
    "    show(p)\n",
    "    \n",
    "    \n",
    "def bokeh_dist(x, pdf, **kwargs):\n",
    "    \"\"\" Function to plot the distribution in Bokeh \"\"\"\n",
    "    \n",
    "    title = kwargs.get('title', \"Title\")\n",
    "    height = kwargs.get('height', 350)\n",
    "\n",
    "    p = figure(height=height, title=title, x_axis_label=kwargs.get(\"x_label\", \"x\"), y_axis_label=kwargs.get(\"y_label\", \"y\"))\n",
    "\n",
    "    p.line(x, pdf, line_color=kwargs.get('pdf_color', 'navy'), line_width=kwargs.get('line_width', 1.0))\n",
    "    show(p)"
   ]
  },
  {
   "cell_type": "code",
   "execution_count": 7,
   "id": "0be17034-7706-4178-b67e-dad234c42378",
   "metadata": {
    "execution": {
     "iopub.execute_input": "2022-08-19T06:02:57.462671Z",
     "iopub.status.busy": "2022-08-19T06:02:57.462125Z",
     "iopub.status.idle": "2022-08-19T06:02:57.594261Z",
     "shell.execute_reply": "2022-08-19T06:02:57.593717Z",
     "shell.execute_reply.started": "2022-08-19T06:02:57.462628Z"
    },
    "tags": []
   },
   "outputs": [
    {
     "data": {
      "text/html": [
       "\n",
       "  <div class=\"bk-root\" id=\"a55aadcf-d2a2-4dbb-a919-a5db62050ebc\" data-root-id=\"1003\"></div>\n"
      ]
     },
     "metadata": {},
     "output_type": "display_data"
    },
    {
     "data": {
      "application/javascript": [
       "(function(root) {\n",
       "  function embed_document(root) {\n",
       "  const docs_json = {\"89663441-d12a-4d94-b947-8cddf5cdac80\":{\"defs\":[],\"roots\":{\"references\":[{\"attributes\":{\"below\":[{\"id\":\"1014\"}],\"center\":[{\"id\":\"1017\"},{\"id\":\"1021\"}],\"height\":350,\"left\":[{\"id\":\"1018\"}],\"renderers\":[{\"id\":\"1040\"}],\"title\":{\"id\":\"1004\"},\"toolbar\":{\"id\":\"1029\"},\"x_range\":{\"id\":\"1006\"},\"x_scale\":{\"id\":\"1010\"},\"y_range\":{\"id\":\"1008\"},\"y_scale\":{\"id\":\"1012\"}},\"id\":\"1003\",\"subtype\":\"Figure\",\"type\":\"Plot\"},{\"attributes\":{},\"id\":\"1048\",\"type\":\"AllLabels\"},{\"attributes\":{\"coordinates\":null,\"data_source\":{\"id\":\"1036\"},\"glyph\":{\"id\":\"1037\"},\"group\":null,\"hover_glyph\":null,\"muted_glyph\":{\"id\":\"1039\"},\"nonselection_glyph\":{\"id\":\"1038\"},\"view\":{\"id\":\"1041\"}},\"id\":\"1040\",\"type\":\"GlyphRenderer\"},{\"attributes\":{},\"id\":\"1010\",\"type\":\"LinearScale\"},{\"attributes\":{\"bottom\":{\"value\":0},\"fill_alpha\":{\"value\":0.2},\"fill_color\":{\"value\":\"navy\"},\"hatch_alpha\":{\"value\":0.2},\"left\":{\"field\":\"left\"},\"line_alpha\":{\"value\":0.2},\"line_color\":{\"value\":\"white\"},\"right\":{\"field\":\"right\"},\"top\":{\"field\":\"top\"}},\"id\":\"1039\",\"type\":\"Quad\"},{\"attributes\":{\"coordinates\":null,\"group\":null,\"text\":\"Distribution of review stars\"},\"id\":\"1004\",\"type\":\"Title\"},{\"attributes\":{},\"id\":\"1008\",\"type\":\"DataRange1d\"},{\"attributes\":{\"data\":{\"left\":{\"__ndarray__\":\"AAAAAAAA8D8AAAAAAAAAQAAAAAAAAAhAAAAAAAAAEEA=\",\"dtype\":\"float64\",\"order\":\"little\",\"shape\":[4]},\"right\":{\"__ndarray__\":\"AAAAAAAAAEAAAAAAAAAIQAAAAAAAABBAAAAAAAAAFEA=\",\"dtype\":\"float64\",\"order\":\"little\",\"shape\":[4]},\"top\":[476442,214345,251599,1634269]},\"selected\":{\"id\":\"1050\"},\"selection_policy\":{\"id\":\"1049\"}},\"id\":\"1036\",\"type\":\"ColumnDataSource\"},{\"attributes\":{},\"id\":\"1019\",\"type\":\"BasicTicker\"},{\"attributes\":{},\"id\":\"1026\",\"type\":\"ResetTool\"},{\"attributes\":{},\"id\":\"1012\",\"type\":\"LinearScale\"},{\"attributes\":{},\"id\":\"1050\",\"type\":\"Selection\"},{\"attributes\":{},\"id\":\"1027\",\"type\":\"HelpTool\"},{\"attributes\":{},\"id\":\"1047\",\"type\":\"BasicTickFormatter\"},{\"attributes\":{\"axis_label\":\"review stars\",\"coordinates\":null,\"formatter\":{\"id\":\"1047\"},\"group\":null,\"major_label_policy\":{\"id\":\"1048\"},\"ticker\":{\"id\":\"1015\"}},\"id\":\"1014\",\"type\":\"LinearAxis\"},{\"attributes\":{},\"id\":\"1044\",\"type\":\"BasicTickFormatter\"},{\"attributes\":{\"axis_label\":\"frequency\",\"coordinates\":null,\"formatter\":{\"id\":\"1044\"},\"group\":null,\"major_label_policy\":{\"id\":\"1045\"},\"ticker\":{\"id\":\"1019\"}},\"id\":\"1018\",\"type\":\"LinearAxis\"},{\"attributes\":{\"overlay\":{\"id\":\"1028\"}},\"id\":\"1024\",\"type\":\"BoxZoomTool\"},{\"attributes\":{},\"id\":\"1025\",\"type\":\"SaveTool\"},{\"attributes\":{\"source\":{\"id\":\"1036\"}},\"id\":\"1041\",\"type\":\"CDSView\"},{\"attributes\":{},\"id\":\"1023\",\"type\":\"WheelZoomTool\"},{\"attributes\":{\"bottom\":{\"value\":0},\"fill_alpha\":{\"value\":0.85},\"fill_color\":{\"value\":\"navy\"},\"hatch_alpha\":{\"value\":0.85},\"left\":{\"field\":\"left\"},\"line_alpha\":{\"value\":0.85},\"line_color\":{\"value\":\"white\"},\"right\":{\"field\":\"right\"},\"top\":{\"field\":\"top\"}},\"id\":\"1037\",\"type\":\"Quad\"},{\"attributes\":{},\"id\":\"1049\",\"type\":\"UnionRenderers\"},{\"attributes\":{},\"id\":\"1015\",\"type\":\"BasicTicker\"},{\"attributes\":{\"axis\":{\"id\":\"1014\"},\"coordinates\":null,\"group\":null,\"ticker\":null},\"id\":\"1017\",\"type\":\"Grid\"},{\"attributes\":{\"axis\":{\"id\":\"1018\"},\"coordinates\":null,\"dimension\":1,\"group\":null,\"ticker\":null},\"id\":\"1021\",\"type\":\"Grid\"},{\"attributes\":{\"tools\":[{\"id\":\"1022\"},{\"id\":\"1023\"},{\"id\":\"1024\"},{\"id\":\"1025\"},{\"id\":\"1026\"},{\"id\":\"1027\"}]},\"id\":\"1029\",\"type\":\"Toolbar\"},{\"attributes\":{},\"id\":\"1022\",\"type\":\"PanTool\"},{\"attributes\":{},\"id\":\"1006\",\"type\":\"DataRange1d\"},{\"attributes\":{\"bottom\":{\"value\":0},\"fill_alpha\":{\"value\":0.1},\"fill_color\":{\"value\":\"navy\"},\"hatch_alpha\":{\"value\":0.1},\"left\":{\"field\":\"left\"},\"line_alpha\":{\"value\":0.1},\"line_color\":{\"value\":\"white\"},\"right\":{\"field\":\"right\"},\"top\":{\"field\":\"top\"}},\"id\":\"1038\",\"type\":\"Quad\"},{\"attributes\":{},\"id\":\"1045\",\"type\":\"AllLabels\"},{\"attributes\":{\"bottom_units\":\"screen\",\"coordinates\":null,\"fill_alpha\":0.5,\"fill_color\":\"lightgrey\",\"group\":null,\"left_units\":\"screen\",\"level\":\"overlay\",\"line_alpha\":1.0,\"line_color\":\"black\",\"line_dash\":[4,4],\"line_width\":2,\"right_units\":\"screen\",\"syncable\":false,\"top_units\":\"screen\"},\"id\":\"1028\",\"type\":\"BoxAnnotation\"}],\"root_ids\":[\"1003\"]},\"title\":\"Bokeh Application\",\"version\":\"2.4.3\"}};\n",
       "  const render_items = [{\"docid\":\"89663441-d12a-4d94-b947-8cddf5cdac80\",\"root_ids\":[\"1003\"],\"roots\":{\"1003\":\"a55aadcf-d2a2-4dbb-a919-a5db62050ebc\"}}];\n",
       "  root.Bokeh.embed.embed_items_notebook(docs_json, render_items);\n",
       "  }\n",
       "  if (root.Bokeh !== undefined) {\n",
       "    embed_document(root);\n",
       "  } else {\n",
       "    let attempts = 0;\n",
       "    const timer = setInterval(function(root) {\n",
       "      if (root.Bokeh !== undefined) {\n",
       "        clearInterval(timer);\n",
       "        embed_document(root);\n",
       "      } else {\n",
       "        attempts++;\n",
       "        if (attempts > 100) {\n",
       "          clearInterval(timer);\n",
       "          console.log(\"Bokeh: ERROR: Unable to run BokehJS code because BokehJS library is missing\");\n",
       "        }\n",
       "      }\n",
       "    }, 10, root)\n",
       "  }\n",
       "})(window);"
      ],
      "application/vnd.bokehjs_exec.v0+json": ""
     },
     "metadata": {
      "application/vnd.bokehjs_exec.v0+json": {
       "id": "1003"
      }
     },
     "output_type": "display_data"
    }
   ],
   "source": [
    "r_star_hist, r_star_edge = np.histogram(ddf[\"r_stars\"].compute().values, bins=4, range=(1, 5))\n",
    "# r_star_hist, r_star_edge = np.histogram(df[\"r_stars\"].values, bins=4, range=(1, 5))\n",
    "bokeh_hist(r_star_hist, r_star_edge, title=\"Distribution of review stars\", x_label=\"review stars\", y_label=\"frequency\", alpha=0.85)"
   ]
  },
  {
   "cell_type": "markdown",
   "id": "72f99834-a7d9-43f9-99df-6a41c9d0731c",
   "metadata": {},
   "source": [
    "As per the above histogram, the data consists of reviews mostly of ratings between $4$ and $5$. Second to that are the reviews with ratings between $1$ and $2$."
   ]
  },
  {
   "cell_type": "markdown",
   "id": "10e599ad-788b-42ea-afe6-ca821f92e313",
   "metadata": {},
   "source": [
    "## Distribution of Useful ratings"
   ]
  },
  {
   "cell_type": "code",
   "execution_count": 44,
   "id": "e31ad60f-4fa2-420b-ac39-a9807f99fd5a",
   "metadata": {
    "execution": {
     "iopub.execute_input": "2022-08-19T06:25:33.095983Z",
     "iopub.status.busy": "2022-08-19T06:25:33.095304Z",
     "iopub.status.idle": "2022-08-19T06:25:33.108876Z",
     "shell.execute_reply": "2022-08-19T06:25:33.107353Z",
     "shell.execute_reply.started": "2022-08-19T06:25:33.095928Z"
    },
    "tags": []
   },
   "outputs": [],
   "source": [
    "def calc_pdf(data, attr, isdask=False):\n",
    "    \"\"\" Function to calculate the Probability Density Function \"\"\"\n",
    "    if isdask:\n",
    "        x = np.linspace(data[attr].min().compute(), data[attr].max().compute())\n",
    "        mu, sigma = data[attr].mean().compute(), data[attr].std().compute()\n",
    "        \n",
    "    elif attr is None:\n",
    "        x = np.linspace(np.min(data), np.max(data))\n",
    "        mu, sigma = np.mean(x), np.std(x)\n",
    "        \n",
    "    else:\n",
    "        x = np.linspace(data[attr].min(), data[attr].max())\n",
    "        mu, sigma = data[attr].mean(), data[attr].std()\n",
    "        \n",
    "    pdf = 1/(sigma*np.sqrt(2 * np.pi)) * np.exp(-(x - mu) ** 2/(2 * sigma ** 2))\n",
    "    \n",
    "    return x, pdf"
   ]
  },
  {
   "cell_type": "code",
   "execution_count": 9,
   "id": "b917c3bc-6c1f-4b53-9cfd-ffe9dc7b4a0c",
   "metadata": {
    "execution": {
     "iopub.execute_input": "2022-08-19T06:02:57.604922Z",
     "iopub.status.busy": "2022-08-19T06:02:57.604555Z",
     "iopub.status.idle": "2022-08-19T06:02:57.790416Z",
     "shell.execute_reply": "2022-08-19T06:02:57.789502Z",
     "shell.execute_reply.started": "2022-08-19T06:02:57.604895Z"
    },
    "tags": []
   },
   "outputs": [],
   "source": [
    "# x = np.linspace(0, ddf[\"r_useful\"].max().compute())\n",
    "# mu, sigma = ddf[\"r_useful\"].mean().compute(), ddf[\"r_useful\"].std().compute()\n",
    "\n",
    "use_x, use_pdf = calc_pdf(ddf, \"r_useful\", isdask=True)"
   ]
  },
  {
   "cell_type": "code",
   "execution_count": 10,
   "id": "a2888c07-44c8-4478-b6b9-f33e0c258da8",
   "metadata": {
    "execution": {
     "iopub.execute_input": "2022-08-19T06:02:57.792507Z",
     "iopub.status.busy": "2022-08-19T06:02:57.791771Z",
     "iopub.status.idle": "2022-08-19T06:02:57.869930Z",
     "shell.execute_reply": "2022-08-19T06:02:57.869139Z",
     "shell.execute_reply.started": "2022-08-19T06:02:57.792461Z"
    },
    "tags": []
   },
   "outputs": [
    {
     "data": {
      "text/html": [
       "\n",
       "  <div class=\"bk-root\" id=\"a0c35a7e-2bff-466e-ba9b-9b325272f005\" data-root-id=\"1102\"></div>\n"
      ]
     },
     "metadata": {},
     "output_type": "display_data"
    },
    {
     "data": {
      "application/javascript": [
       "(function(root) {\n",
       "  function embed_document(root) {\n",
       "  const docs_json = {\"0e2a549e-7eb8-400a-a532-4c3588186bbb\":{\"defs\":[],\"roots\":{\"references\":[{\"attributes\":{\"below\":[{\"id\":\"1113\"}],\"center\":[{\"id\":\"1116\"},{\"id\":\"1120\"}],\"height\":350,\"left\":[{\"id\":\"1117\"}],\"renderers\":[{\"id\":\"1139\"}],\"title\":{\"id\":\"1103\"},\"toolbar\":{\"id\":\"1128\"},\"x_range\":{\"id\":\"1105\"},\"x_scale\":{\"id\":\"1109\"},\"y_range\":{\"id\":\"1107\"},\"y_scale\":{\"id\":\"1111\"}},\"id\":\"1102\",\"subtype\":\"Figure\",\"type\":\"Plot\"},{\"attributes\":{},\"id\":\"1153\",\"type\":\"BasicTickFormatter\"},{\"attributes\":{\"axis_label\":\"useful ratings\",\"coordinates\":null,\"formatter\":{\"id\":\"1156\"},\"group\":null,\"major_label_policy\":{\"id\":\"1157\"},\"ticker\":{\"id\":\"1114\"}},\"id\":\"1113\",\"type\":\"LinearAxis\"},{\"attributes\":{},\"id\":\"1121\",\"type\":\"PanTool\"},{\"attributes\":{\"line_alpha\":0.2,\"line_color\":\"cornflowerblue\",\"x\":{\"field\":\"x\"},\"y\":{\"field\":\"y\"}},\"id\":\"1138\",\"type\":\"Line\"},{\"attributes\":{},\"id\":\"1126\",\"type\":\"HelpTool\"},{\"attributes\":{\"line_color\":\"cornflowerblue\",\"x\":{\"field\":\"x\"},\"y\":{\"field\":\"y\"}},\"id\":\"1136\",\"type\":\"Line\"},{\"attributes\":{\"coordinates\":null,\"data_source\":{\"id\":\"1135\"},\"glyph\":{\"id\":\"1136\"},\"group\":null,\"hover_glyph\":null,\"muted_glyph\":{\"id\":\"1138\"},\"nonselection_glyph\":{\"id\":\"1137\"},\"view\":{\"id\":\"1140\"}},\"id\":\"1139\",\"type\":\"GlyphRenderer\"},{\"attributes\":{\"bottom_units\":\"screen\",\"coordinates\":null,\"fill_alpha\":0.5,\"fill_color\":\"lightgrey\",\"group\":null,\"left_units\":\"screen\",\"level\":\"overlay\",\"line_alpha\":1.0,\"line_color\":\"black\",\"line_dash\":[4,4],\"line_width\":2,\"right_units\":\"screen\",\"syncable\":false,\"top_units\":\"screen\"},\"id\":\"1127\",\"type\":\"BoxAnnotation\"},{\"attributes\":{},\"id\":\"1125\",\"type\":\"ResetTool\"},{\"attributes\":{\"coordinates\":null,\"group\":null,\"text\":\"Distribution of Useful Ratings\"},\"id\":\"1103\",\"type\":\"Title\"},{\"attributes\":{},\"id\":\"1114\",\"type\":\"BasicTicker\"},{\"attributes\":{},\"id\":\"1124\",\"type\":\"SaveTool\"},{\"attributes\":{},\"id\":\"1159\",\"type\":\"Selection\"},{\"attributes\":{},\"id\":\"1158\",\"type\":\"UnionRenderers\"},{\"attributes\":{\"axis_label\":\"pdf\",\"coordinates\":null,\"formatter\":{\"id\":\"1153\"},\"group\":null,\"major_label_policy\":{\"id\":\"1154\"},\"ticker\":{\"id\":\"1118\"}},\"id\":\"1117\",\"type\":\"LinearAxis\"},{\"attributes\":{},\"id\":\"1156\",\"type\":\"BasicTickFormatter\"},{\"attributes\":{},\"id\":\"1157\",\"type\":\"AllLabels\"},{\"attributes\":{},\"id\":\"1107\",\"type\":\"DataRange1d\"},{\"attributes\":{},\"id\":\"1122\",\"type\":\"WheelZoomTool\"},{\"attributes\":{\"tools\":[{\"id\":\"1121\"},{\"id\":\"1122\"},{\"id\":\"1123\"},{\"id\":\"1124\"},{\"id\":\"1125\"},{\"id\":\"1126\"}]},\"id\":\"1128\",\"type\":\"Toolbar\"},{\"attributes\":{\"axis\":{\"id\":\"1113\"},\"coordinates\":null,\"group\":null,\"ticker\":null},\"id\":\"1116\",\"type\":\"Grid\"},{\"attributes\":{\"line_alpha\":0.1,\"line_color\":\"cornflowerblue\",\"x\":{\"field\":\"x\"},\"y\":{\"field\":\"y\"}},\"id\":\"1137\",\"type\":\"Line\"},{\"attributes\":{\"source\":{\"id\":\"1135\"}},\"id\":\"1140\",\"type\":\"CDSView\"},{\"attributes\":{\"axis\":{\"id\":\"1117\"},\"coordinates\":null,\"dimension\":1,\"group\":null,\"ticker\":null},\"id\":\"1120\",\"type\":\"Grid\"},{\"attributes\":{\"data\":{\"x\":{\"__ndarray__\":\"AAAAAAAA8L9JkiRJkiQ3QEmSJEmSpEdAt23btm3bUUBJkiRJkuRXQNu2bdu27V1At23btm37YUAAAAAAAABlQEmSJEmSBGhAkiRJkiQJa0Dbtm3btg1uQJIkSZIkiXBAt23btm0LckDbtm3bto1zQAAAAAAAEHVAJEmSJEmSdkBJkiRJkhR4QG7btm3blnlAkiRJkiQZe0C3bdu2bZt8QNu2bdu2HX5AAAAAAACgf0CSJEmSJJGAQCRJkiRJUoFAt23btm0TgkBJkiRJktSCQNu2bdu2lYNAbtu2bdtWhEAAAAAAABiFQJIkSZIk2YVAJEmSJEmahkC3bdu2bVuHQEmSJEmSHIhA27Zt27bdiEBu27Zt256JQAAAAAAAYIpAkiRJkiQhi0AkSZIkSeKLQLdt27Zto4xASZIkSZJkjUDbtm3btiWOQG7btm3b5o5AAAAAAACoj0BJkiRJkjSQQJIkSZIklZBA27Zt27b1kEAkSZIkSVaRQG7btm3btpFAt23btm0XkkAAAAAAAHiSQA==\",\"dtype\":\"float64\",\"order\":\"little\",\"shape\":[50]},\"y\":{\"__ndarray__\":\"kxgDMVYrsD+Cf+LZ9sjTPjq5KqIikoM7DIxKP7hMvzXu95U4vTuELShBejywJdUiEKkHsRresRUn5HvpgWgYBgAAAAAAAAAAAAAAAAAAAAAAAAAAAAAAAAAAAAAAAAAAAAAAAAAAAAAAAAAAAAAAAAAAAAAAAAAAAAAAAAAAAAAAAAAAAAAAAAAAAAAAAAAAAAAAAAAAAAAAAAAAAAAAAAAAAAAAAAAAAAAAAAAAAAAAAAAAAAAAAAAAAAAAAAAAAAAAAAAAAAAAAAAAAAAAAAAAAAAAAAAAAAAAAAAAAAAAAAAAAAAAAAAAAAAAAAAAAAAAAAAAAAAAAAAAAAAAAAAAAAAAAAAAAAAAAAAAAAAAAAAAAAAAAAAAAAAAAAAAAAAAAAAAAAAAAAAAAAAAAAAAAAAAAAAAAAAAAAAAAAAAAAAAAAAAAAAAAAAAAAAAAAAAAAAAAAAAAAAAAAAAAAAAAAAAAAAAAAAAAAAAAAAAAAAAAAAAAAAAAAAAAAAAAAAAAAAAAAAAAAAAAAAAAA==\",\"dtype\":\"float64\",\"order\":\"little\",\"shape\":[50]}},\"selected\":{\"id\":\"1159\"},\"selection_policy\":{\"id\":\"1158\"}},\"id\":\"1135\",\"type\":\"ColumnDataSource\"},{\"attributes\":{},\"id\":\"1109\",\"type\":\"LinearScale\"},{\"attributes\":{},\"id\":\"1118\",\"type\":\"BasicTicker\"},{\"attributes\":{\"overlay\":{\"id\":\"1127\"}},\"id\":\"1123\",\"type\":\"BoxZoomTool\"},{\"attributes\":{},\"id\":\"1105\",\"type\":\"DataRange1d\"},{\"attributes\":{},\"id\":\"1154\",\"type\":\"AllLabels\"},{\"attributes\":{},\"id\":\"1111\",\"type\":\"LinearScale\"}],\"root_ids\":[\"1102\"]},\"title\":\"Bokeh Application\",\"version\":\"2.4.3\"}};\n",
       "  const render_items = [{\"docid\":\"0e2a549e-7eb8-400a-a532-4c3588186bbb\",\"root_ids\":[\"1102\"],\"roots\":{\"1102\":\"a0c35a7e-2bff-466e-ba9b-9b325272f005\"}}];\n",
       "  root.Bokeh.embed.embed_items_notebook(docs_json, render_items);\n",
       "  }\n",
       "  if (root.Bokeh !== undefined) {\n",
       "    embed_document(root);\n",
       "  } else {\n",
       "    let attempts = 0;\n",
       "    const timer = setInterval(function(root) {\n",
       "      if (root.Bokeh !== undefined) {\n",
       "        clearInterval(timer);\n",
       "        embed_document(root);\n",
       "      } else {\n",
       "        attempts++;\n",
       "        if (attempts > 100) {\n",
       "          clearInterval(timer);\n",
       "          console.log(\"Bokeh: ERROR: Unable to run BokehJS code because BokehJS library is missing\");\n",
       "        }\n",
       "      }\n",
       "    }, 10, root)\n",
       "  }\n",
       "})(window);"
      ],
      "application/vnd.bokehjs_exec.v0+json": ""
     },
     "metadata": {
      "application/vnd.bokehjs_exec.v0+json": {
       "id": "1102"
      }
     },
     "output_type": "display_data"
    }
   ],
   "source": [
    "bokeh_dist(use_x, use_pdf, x_label=\"useful ratings\", y_label=\"pdf\", pdf_color=\"cornflowerblue\", title=\"Distribution of Useful Ratings\")"
   ]
  },
  {
   "cell_type": "markdown",
   "id": "ec4c01ea-10be-4fe2-bb6e-f82e21af519d",
   "metadata": {},
   "source": [
    "The `useful_ratings` is heavily *right-skewed*. Meaning most of instances has `r_useful` set to range between $1$ to $20$. There are only **few reviews** that are found to be *extremely* useful. So, the question is Does the **popularity** of the *reviewer* affects such behaviour? "
   ]
  },
  {
   "cell_type": "markdown",
   "id": "aa6a417d-7731-43e0-9f5f-6202930429c5",
   "metadata": {},
   "source": [
    "### Minimum Value of Useful Ratings"
   ]
  },
  {
   "cell_type": "code",
   "execution_count": 11,
   "id": "3d4528af-20a2-4913-a596-734becdde517",
   "metadata": {
    "execution": {
     "iopub.execute_input": "2022-08-19T06:02:57.871068Z",
     "iopub.status.busy": "2022-08-19T06:02:57.870833Z",
     "iopub.status.idle": "2022-08-19T06:02:57.909831Z",
     "shell.execute_reply": "2022-08-19T06:02:57.908984Z",
     "shell.execute_reply.started": "2022-08-19T06:02:57.871050Z"
    },
    "tags": []
   },
   "outputs": [
    {
     "data": {
      "text/plain": [
       "-1"
      ]
     },
     "execution_count": 11,
     "metadata": {},
     "output_type": "execute_result"
    }
   ],
   "source": [
    "ddf[\"r_useful\"].min().compute()\n",
    "# df[\"r_useful\"].min()"
   ]
  },
  {
   "cell_type": "code",
   "execution_count": 12,
   "id": "6af6ec6c-bffe-4297-81eb-36ee642f4d52",
   "metadata": {
    "execution": {
     "iopub.execute_input": "2022-08-19T06:02:57.911061Z",
     "iopub.status.busy": "2022-08-19T06:02:57.910707Z",
     "iopub.status.idle": "2022-08-19T06:02:58.039931Z",
     "shell.execute_reply": "2022-08-19T06:02:58.039080Z",
     "shell.execute_reply.started": "2022-08-19T06:02:57.911040Z"
    },
    "tags": []
   },
   "outputs": [
    {
     "name": "stdout",
     "output_type": "stream",
     "text": [
      "Number of records with min value : 4\n"
     ]
    }
   ],
   "source": [
    "# ddf[ddf[\"r_useful\"] == ddf[\"r_useful\"].min().compute()].compute().shape\n",
    "print(f'Number of records with min value : {ddf[ddf[\"r_useful\"] == ddf[\"r_useful\"].min().compute()].compute().shape[0]}')"
   ]
  },
  {
   "cell_type": "markdown",
   "id": "fef92176-5407-498e-9726-06469bc5b07a",
   "metadata": {},
   "source": [
    "It is weird that only $4$ instances of negative ratings are present in our data. Could this be a *data entry* problem? Or is there any downvoting functionality on *Yelp*?"
   ]
  },
  {
   "cell_type": "markdown",
   "id": "b7a8ce4b-5439-4046-9da2-5246bf13c85e",
   "metadata": {},
   "source": [
    "### Maximum Value of Useful Ratings"
   ]
  },
  {
   "cell_type": "code",
   "execution_count": 13,
   "id": "db7e3168-c112-40df-8456-7863e7ec887c",
   "metadata": {
    "execution": {
     "iopub.execute_input": "2022-08-19T06:02:58.041198Z",
     "iopub.status.busy": "2022-08-19T06:02:58.040904Z",
     "iopub.status.idle": "2022-08-19T06:02:58.075375Z",
     "shell.execute_reply": "2022-08-19T06:02:58.074776Z",
     "shell.execute_reply.started": "2022-08-19T06:02:58.041177Z"
    },
    "tags": []
   },
   "outputs": [
    {
     "data": {
      "text/plain": [
       "1182"
      ]
     },
     "execution_count": 13,
     "metadata": {},
     "output_type": "execute_result"
    }
   ],
   "source": [
    "ddf[\"r_useful\"].max().compute()"
   ]
  },
  {
   "cell_type": "code",
   "execution_count": 14,
   "id": "9ff0f6f7-4000-4de2-988a-6c49e6f3b843",
   "metadata": {
    "execution": {
     "iopub.execute_input": "2022-08-19T06:02:58.076526Z",
     "iopub.status.busy": "2022-08-19T06:02:58.076207Z",
     "iopub.status.idle": "2022-08-19T06:02:58.174281Z",
     "shell.execute_reply": "2022-08-19T06:02:58.173579Z",
     "shell.execute_reply.started": "2022-08-19T06:02:58.076501Z"
    },
    "tags": []
   },
   "outputs": [
    {
     "name": "stdout",
     "output_type": "stream",
     "text": [
      "Number of records with max value: 1\n"
     ]
    }
   ],
   "source": [
    "print(f'Number of records with max value: {ddf[ddf[\"r_useful\"] == ddf[\"r_useful\"].max().compute()].compute().shape[0]}')"
   ]
  },
  {
   "cell_type": "markdown",
   "id": "1a84121f-3e17-444a-a177-db69d3b2b3b7",
   "metadata": {},
   "source": [
    "And there's only a single record with the maximum value. Is that review really helpful? Is it an old review?"
   ]
  },
  {
   "cell_type": "markdown",
   "id": "9c284c78-c967-4f82-a990-6c4f178d0222",
   "metadata": {},
   "source": [
    "## Distribution of Funny Ratings"
   ]
  },
  {
   "cell_type": "code",
   "execution_count": 15,
   "id": "b56ba4e0-77e4-428d-ade9-590df35aef89",
   "metadata": {
    "execution": {
     "iopub.execute_input": "2022-08-19T06:02:58.175509Z",
     "iopub.status.busy": "2022-08-19T06:02:58.175186Z",
     "iopub.status.idle": "2022-08-19T06:02:58.421208Z",
     "shell.execute_reply": "2022-08-19T06:02:58.420291Z",
     "shell.execute_reply.started": "2022-08-19T06:02:58.175485Z"
    },
    "tags": []
   },
   "outputs": [
    {
     "data": {
      "text/html": [
       "\n",
       "  <div class=\"bk-root\" id=\"7b075d3e-fae2-4f2a-ad2b-dae20ea171ef\" data-root-id=\"1211\"></div>\n"
      ]
     },
     "metadata": {},
     "output_type": "display_data"
    },
    {
     "data": {
      "application/javascript": [
       "(function(root) {\n",
       "  function embed_document(root) {\n",
       "  const docs_json = {\"2a36b20b-99d7-4141-a60e-3dcbbc9f5eff\":{\"defs\":[],\"roots\":{\"references\":[{\"attributes\":{\"below\":[{\"id\":\"1222\"}],\"center\":[{\"id\":\"1225\"},{\"id\":\"1229\"}],\"height\":350,\"left\":[{\"id\":\"1226\"}],\"renderers\":[{\"id\":\"1248\"}],\"title\":{\"id\":\"1212\"},\"toolbar\":{\"id\":\"1237\"},\"x_range\":{\"id\":\"1214\"},\"x_scale\":{\"id\":\"1218\"},\"y_range\":{\"id\":\"1216\"},\"y_scale\":{\"id\":\"1220\"}},\"id\":\"1211\",\"subtype\":\"Figure\",\"type\":\"Plot\"},{\"attributes\":{\"axis_label\":\"funny ratings\",\"coordinates\":null,\"formatter\":{\"id\":\"1275\"},\"group\":null,\"major_label_policy\":{\"id\":\"1276\"},\"ticker\":{\"id\":\"1223\"}},\"id\":\"1222\",\"type\":\"LinearAxis\"},{\"attributes\":{},\"id\":\"1275\",\"type\":\"BasicTickFormatter\"},{\"attributes\":{},\"id\":\"1220\",\"type\":\"LinearScale\"},{\"attributes\":{},\"id\":\"1234\",\"type\":\"ResetTool\"},{\"attributes\":{},\"id\":\"1214\",\"type\":\"DataRange1d\"},{\"attributes\":{},\"id\":\"1216\",\"type\":\"DataRange1d\"},{\"attributes\":{},\"id\":\"1218\",\"type\":\"LinearScale\"},{\"attributes\":{\"axis_label\":\"pdf\",\"coordinates\":null,\"formatter\":{\"id\":\"1272\"},\"group\":null,\"major_label_policy\":{\"id\":\"1273\"},\"ticker\":{\"id\":\"1227\"}},\"id\":\"1226\",\"type\":\"LinearAxis\"},{\"attributes\":{},\"id\":\"1223\",\"type\":\"BasicTicker\"},{\"attributes\":{},\"id\":\"1276\",\"type\":\"AllLabels\"},{\"attributes\":{\"axis\":{\"id\":\"1222\"},\"coordinates\":null,\"group\":null,\"ticker\":null},\"id\":\"1225\",\"type\":\"Grid\"},{\"attributes\":{\"line_alpha\":0.2,\"line_color\":\"tomato\",\"x\":{\"field\":\"x\"},\"y\":{\"field\":\"y\"}},\"id\":\"1247\",\"type\":\"Line\"},{\"attributes\":{},\"id\":\"1230\",\"type\":\"PanTool\"},{\"attributes\":{\"bottom_units\":\"screen\",\"coordinates\":null,\"fill_alpha\":0.5,\"fill_color\":\"lightgrey\",\"group\":null,\"left_units\":\"screen\",\"level\":\"overlay\",\"line_alpha\":1.0,\"line_color\":\"black\",\"line_dash\":[4,4],\"line_width\":2,\"right_units\":\"screen\",\"syncable\":false,\"top_units\":\"screen\"},\"id\":\"1236\",\"type\":\"BoxAnnotation\"},{\"attributes\":{\"line_alpha\":0.1,\"line_color\":\"tomato\",\"x\":{\"field\":\"x\"},\"y\":{\"field\":\"y\"}},\"id\":\"1246\",\"type\":\"Line\"},{\"attributes\":{},\"id\":\"1233\",\"type\":\"SaveTool\"},{\"attributes\":{\"source\":{\"id\":\"1244\"}},\"id\":\"1249\",\"type\":\"CDSView\"},{\"attributes\":{},\"id\":\"1227\",\"type\":\"BasicTicker\"},{\"attributes\":{\"coordinates\":null,\"group\":null,\"text\":\"Distribution of Useful Ratings\"},\"id\":\"1212\",\"type\":\"Title\"},{\"attributes\":{},\"id\":\"1272\",\"type\":\"BasicTickFormatter\"},{\"attributes\":{\"line_color\":\"tomato\",\"x\":{\"field\":\"x\"},\"y\":{\"field\":\"y\"}},\"id\":\"1245\",\"type\":\"Line\"},{\"attributes\":{},\"id\":\"1235\",\"type\":\"HelpTool\"},{\"attributes\":{\"coordinates\":null,\"data_source\":{\"id\":\"1244\"},\"glyph\":{\"id\":\"1245\"},\"group\":null,\"hover_glyph\":null,\"muted_glyph\":{\"id\":\"1247\"},\"nonselection_glyph\":{\"id\":\"1246\"},\"view\":{\"id\":\"1249\"}},\"id\":\"1248\",\"type\":\"GlyphRenderer\"},{\"attributes\":{},\"id\":\"1231\",\"type\":\"WheelZoomTool\"},{\"attributes\":{\"data\":{\"x\":{\"__ndarray__\":\"AAAAAAAA8L+YU/ByCl4uQJhT8HIKXj9Asj401ofGR0CYU/ByCt5PQD801ofG+lNAsj401ocGWEAlSZIkSRJcQMwpeDkFD2BABi+n4OUUYkA/NNaHxhpkQHg5BS+nIGZAsj401ocmaEDsQ2N9aCxqQCVJkiRJMmxAXk7Byyk4bkDMKXg5BR9wQGmsD431IXFABi+n4OUkckCisT401idzQD801ofGKnRA3LZt27YtdUB4OQUvpzB2QBW8nIKXM3dAsj401oc2eEBPwcspeDl5QOxDY31oPHpAiMb60Fg/e0AlSZIkSUJ8QMLLKXg5RX1AXk7ByylIfkD70FgfGkt/QMwpeDkFJ4BAGutDY32ogEBprA+N9SmBQLdt27Ztq4FABi+n4OUsgkBU8HIKXq6CQKKxPjTWL4NA8XIKXk6xg0A/NNaHxjKEQI31obE+tIRA3LZt27Y1hUAqeDkFL7eFQHg5BS+nOIZAx/rQWB+6hkAVvJyClzuHQGR9aKwPvYdAsj401oc+iEAAAAAAAMCIQA==\",\"dtype\":\"float64\",\"order\":\"little\",\"shape\":[50]},\"y\":{\"__ndarray__\":\"Trp4jm2qwD8nfFOofeQtPoj/5AcGv6g4uBiSX/PoMi/WOhh6XK3KIZ+ufsevXnEQAAAAAAAAAAAAAAAAAAAAAAAAAAAAAAAAAAAAAAAAAAAAAAAAAAAAAAAAAAAAAAAAAAAAAAAAAAAAAAAAAAAAAAAAAAAAAAAAAAAAAAAAAAAAAAAAAAAAAAAAAAAAAAAAAAAAAAAAAAAAAAAAAAAAAAAAAAAAAAAAAAAAAAAAAAAAAAAAAAAAAAAAAAAAAAAAAAAAAAAAAAAAAAAAAAAAAAAAAAAAAAAAAAAAAAAAAAAAAAAAAAAAAAAAAAAAAAAAAAAAAAAAAAAAAAAAAAAAAAAAAAAAAAAAAAAAAAAAAAAAAAAAAAAAAAAAAAAAAAAAAAAAAAAAAAAAAAAAAAAAAAAAAAAAAAAAAAAAAAAAAAAAAAAAAAAAAAAAAAAAAAAAAAAAAAAAAAAAAAAAAAAAAAAAAAAAAAAAAAAAAAAAAAAAAAAAAAAAAAAAAAAAAAAAAAAAAAAAAAAAAAAAAAAAAA==\",\"dtype\":\"float64\",\"order\":\"little\",\"shape\":[50]}},\"selected\":{\"id\":\"1278\"},\"selection_policy\":{\"id\":\"1277\"}},\"id\":\"1244\",\"type\":\"ColumnDataSource\"},{\"attributes\":{},\"id\":\"1278\",\"type\":\"Selection\"},{\"attributes\":{\"overlay\":{\"id\":\"1236\"}},\"id\":\"1232\",\"type\":\"BoxZoomTool\"},{\"attributes\":{\"axis\":{\"id\":\"1226\"},\"coordinates\":null,\"dimension\":1,\"group\":null,\"ticker\":null},\"id\":\"1229\",\"type\":\"Grid\"},{\"attributes\":{\"tools\":[{\"id\":\"1230\"},{\"id\":\"1231\"},{\"id\":\"1232\"},{\"id\":\"1233\"},{\"id\":\"1234\"},{\"id\":\"1235\"}]},\"id\":\"1237\",\"type\":\"Toolbar\"},{\"attributes\":{},\"id\":\"1277\",\"type\":\"UnionRenderers\"},{\"attributes\":{},\"id\":\"1273\",\"type\":\"AllLabels\"}],\"root_ids\":[\"1211\"]},\"title\":\"Bokeh Application\",\"version\":\"2.4.3\"}};\n",
       "  const render_items = [{\"docid\":\"2a36b20b-99d7-4141-a60e-3dcbbc9f5eff\",\"root_ids\":[\"1211\"],\"roots\":{\"1211\":\"7b075d3e-fae2-4f2a-ad2b-dae20ea171ef\"}}];\n",
       "  root.Bokeh.embed.embed_items_notebook(docs_json, render_items);\n",
       "  }\n",
       "  if (root.Bokeh !== undefined) {\n",
       "    embed_document(root);\n",
       "  } else {\n",
       "    let attempts = 0;\n",
       "    const timer = setInterval(function(root) {\n",
       "      if (root.Bokeh !== undefined) {\n",
       "        clearInterval(timer);\n",
       "        embed_document(root);\n",
       "      } else {\n",
       "        attempts++;\n",
       "        if (attempts > 100) {\n",
       "          clearInterval(timer);\n",
       "          console.log(\"Bokeh: ERROR: Unable to run BokehJS code because BokehJS library is missing\");\n",
       "        }\n",
       "      }\n",
       "    }, 10, root)\n",
       "  }\n",
       "})(window);"
      ],
      "application/vnd.bokehjs_exec.v0+json": ""
     },
     "metadata": {
      "application/vnd.bokehjs_exec.v0+json": {
       "id": "1211"
      }
     },
     "output_type": "display_data"
    }
   ],
   "source": [
    "fun_x, fun_pdf = calc_pdf(ddf, \"r_funny\", isdask=True)\n",
    "bokeh_dist(fun_x, fun_pdf, x_label=\"funny ratings\", y_label=\"pdf\", pdf_color=\"tomato\", title=\"Distribution of Useful Ratings\")"
   ]
  },
  {
   "cell_type": "markdown",
   "id": "5988ce1e-768d-4d9a-9d2c-184e8697745c",
   "metadata": {},
   "source": [
    "The distribution of `r_funny` is similar to the distribution of `r_useful`. "
   ]
  },
  {
   "cell_type": "markdown",
   "id": "4c82f3e7-f896-48aa-9f50-e011a3e5268b",
   "metadata": {},
   "source": [
    "### Minimum Value of Funny Ratings"
   ]
  },
  {
   "cell_type": "code",
   "execution_count": 16,
   "id": "2340af94-17e8-48ea-9138-a6c8828fdfb9",
   "metadata": {
    "execution": {
     "iopub.execute_input": "2022-08-19T06:02:58.423650Z",
     "iopub.status.busy": "2022-08-19T06:02:58.423001Z",
     "iopub.status.idle": "2022-08-19T06:02:58.459757Z",
     "shell.execute_reply": "2022-08-19T06:02:58.458917Z",
     "shell.execute_reply.started": "2022-08-19T06:02:58.423602Z"
    },
    "tags": []
   },
   "outputs": [
    {
     "data": {
      "text/plain": [
       "-1"
      ]
     },
     "execution_count": 16,
     "metadata": {},
     "output_type": "execute_result"
    }
   ],
   "source": [
    "ddf[\"r_funny\"].min().compute()"
   ]
  },
  {
   "cell_type": "code",
   "execution_count": 17,
   "id": "104d0981-f393-45a4-b289-811eff1d0c5a",
   "metadata": {
    "execution": {
     "iopub.execute_input": "2022-08-19T06:02:58.461409Z",
     "iopub.status.busy": "2022-08-19T06:02:58.460853Z",
     "iopub.status.idle": "2022-08-19T06:02:58.577423Z",
     "shell.execute_reply": "2022-08-19T06:02:58.576755Z",
     "shell.execute_reply.started": "2022-08-19T06:02:58.461376Z"
    },
    "tags": []
   },
   "outputs": [
    {
     "name": "stdout",
     "output_type": "stream",
     "text": [
      "Number of records with min value : 2\n"
     ]
    }
   ],
   "source": [
    "print(f'Number of records with min value : {ddf[ddf[\"r_funny\"] == ddf[\"r_funny\"].min()].compute().shape[0]}')"
   ]
  },
  {
   "cell_type": "markdown",
   "id": "0ab08dac-3691-40f9-8298-fb657ac1387a",
   "metadata": {},
   "source": [
    "There are only $2$ instances where the minimum value of `r_funny` is $-1$. Is this some kind of a data entry?"
   ]
  },
  {
   "cell_type": "markdown",
   "id": "5991d4a6-7393-4c97-9dc1-04c175fa091c",
   "metadata": {},
   "source": [
    "### Maximum Value of Funny Ratings"
   ]
  },
  {
   "cell_type": "code",
   "execution_count": 18,
   "id": "dcafee69-d989-443a-9547-a992793a3c06",
   "metadata": {
    "execution": {
     "iopub.execute_input": "2022-08-19T06:02:58.578657Z",
     "iopub.status.busy": "2022-08-19T06:02:58.578321Z",
     "iopub.status.idle": "2022-08-19T06:02:58.615208Z",
     "shell.execute_reply": "2022-08-19T06:02:58.614494Z",
     "shell.execute_reply.started": "2022-08-19T06:02:58.578630Z"
    },
    "tags": []
   },
   "outputs": [
    {
     "data": {
      "text/plain": [
       "792"
      ]
     },
     "execution_count": 18,
     "metadata": {},
     "output_type": "execute_result"
    }
   ],
   "source": [
    "ddf[\"r_funny\"].max().compute()"
   ]
  },
  {
   "cell_type": "code",
   "execution_count": 19,
   "id": "2e018407-af39-4b1c-8fa9-fc461ef2aa02",
   "metadata": {
    "execution": {
     "iopub.execute_input": "2022-08-19T06:02:58.617331Z",
     "iopub.status.busy": "2022-08-19T06:02:58.616746Z",
     "iopub.status.idle": "2022-08-19T06:02:58.711415Z",
     "shell.execute_reply": "2022-08-19T06:02:58.710845Z",
     "shell.execute_reply.started": "2022-08-19T06:02:58.617285Z"
    },
    "tags": []
   },
   "outputs": [
    {
     "name": "stdout",
     "output_type": "stream",
     "text": [
      "Number of records with max value: 1\n"
     ]
    }
   ],
   "source": [
    "print(f'Number of records with max value: {ddf[ddf[\"r_funny\"] == ddf[\"r_funny\"].max().compute()].compute().shape[0]}')"
   ]
  },
  {
   "cell_type": "markdown",
   "id": "80f2e1d8-5f2b-4cb0-8d40-49895a5ddc5c",
   "metadata": {},
   "source": [
    "Just like `r_useful`, the `r_funny` also has only a single record with the maximum value."
   ]
  },
  {
   "cell_type": "markdown",
   "id": "06b04605-c37c-4d58-892a-09abd66fe047",
   "metadata": {},
   "source": [
    "## Distribution of Cool Ratings"
   ]
  },
  {
   "cell_type": "code",
   "execution_count": 20,
   "id": "2a9a5bb6-5185-4927-b808-99c4832d7551",
   "metadata": {
    "execution": {
     "iopub.execute_input": "2022-08-19T06:02:58.712557Z",
     "iopub.status.busy": "2022-08-19T06:02:58.712244Z",
     "iopub.status.idle": "2022-08-19T06:02:59.039403Z",
     "shell.execute_reply": "2022-08-19T06:02:59.038229Z",
     "shell.execute_reply.started": "2022-08-19T06:02:58.712527Z"
    },
    "tags": []
   },
   "outputs": [
    {
     "data": {
      "text/html": [
       "\n",
       "  <div class=\"bk-root\" id=\"76bec0f1-d8e3-490c-8754-f4af5bfe62f2\" data-root-id=\"1330\"></div>\n"
      ]
     },
     "metadata": {},
     "output_type": "display_data"
    },
    {
     "data": {
      "application/javascript": [
       "(function(root) {\n",
       "  function embed_document(root) {\n",
       "  const docs_json = {\"cd13c695-6043-4026-b15b-f88df915ae41\":{\"defs\":[],\"roots\":{\"references\":[{\"attributes\":{\"below\":[{\"id\":\"1341\"}],\"center\":[{\"id\":\"1344\"},{\"id\":\"1348\"}],\"height\":350,\"left\":[{\"id\":\"1345\"}],\"renderers\":[{\"id\":\"1367\"}],\"title\":{\"id\":\"1331\"},\"toolbar\":{\"id\":\"1356\"},\"x_range\":{\"id\":\"1333\"},\"x_scale\":{\"id\":\"1337\"},\"y_range\":{\"id\":\"1335\"},\"y_scale\":{\"id\":\"1339\"}},\"id\":\"1330\",\"subtype\":\"Figure\",\"type\":\"Plot\"},{\"attributes\":{\"axis_label\":\"pdf\",\"coordinates\":null,\"formatter\":{\"id\":\"1401\"},\"group\":null,\"major_label_policy\":{\"id\":\"1402\"},\"ticker\":{\"id\":\"1346\"}},\"id\":\"1345\",\"type\":\"LinearAxis\"},{\"attributes\":{\"overlay\":{\"id\":\"1355\"}},\"id\":\"1351\",\"type\":\"BoxZoomTool\"},{\"attributes\":{},\"id\":\"1407\",\"type\":\"Selection\"},{\"attributes\":{\"coordinates\":null,\"data_source\":{\"id\":\"1363\"},\"glyph\":{\"id\":\"1364\"},\"group\":null,\"hover_glyph\":null,\"muted_glyph\":{\"id\":\"1366\"},\"nonselection_glyph\":{\"id\":\"1365\"},\"view\":{\"id\":\"1368\"}},\"id\":\"1367\",\"type\":\"GlyphRenderer\"},{\"attributes\":{},\"id\":\"1352\",\"type\":\"SaveTool\"},{\"attributes\":{\"source\":{\"id\":\"1363\"}},\"id\":\"1368\",\"type\":\"CDSView\"},{\"attributes\":{},\"id\":\"1354\",\"type\":\"HelpTool\"},{\"attributes\":{},\"id\":\"1339\",\"type\":\"LinearScale\"},{\"attributes\":{\"axis\":{\"id\":\"1345\"},\"coordinates\":null,\"dimension\":1,\"group\":null,\"ticker\":null},\"id\":\"1348\",\"type\":\"Grid\"},{\"attributes\":{\"axis_label\":\"cool ratings\",\"coordinates\":null,\"formatter\":{\"id\":\"1404\"},\"group\":null,\"major_label_policy\":{\"id\":\"1405\"},\"ticker\":{\"id\":\"1342\"}},\"id\":\"1341\",\"type\":\"LinearAxis\"},{\"attributes\":{\"axis\":{\"id\":\"1341\"},\"coordinates\":null,\"group\":null,\"ticker\":null},\"id\":\"1344\",\"type\":\"Grid\"},{\"attributes\":{},\"id\":\"1405\",\"type\":\"AllLabels\"},{\"attributes\":{},\"id\":\"1349\",\"type\":\"PanTool\"},{\"attributes\":{},\"id\":\"1337\",\"type\":\"LinearScale\"},{\"attributes\":{},\"id\":\"1335\",\"type\":\"DataRange1d\"},{\"attributes\":{\"line_alpha\":0.2,\"line_color\":\"mediumseagreen\",\"x\":{\"field\":\"x\"},\"y\":{\"field\":\"y\"}},\"id\":\"1366\",\"type\":\"Line\"},{\"attributes\":{\"line_alpha\":0.1,\"line_color\":\"mediumseagreen\",\"x\":{\"field\":\"x\"},\"y\":{\"field\":\"y\"}},\"id\":\"1365\",\"type\":\"Line\"},{\"attributes\":{\"line_color\":\"mediumseagreen\",\"x\":{\"field\":\"x\"},\"y\":{\"field\":\"y\"}},\"id\":\"1364\",\"type\":\"Line\"},{\"attributes\":{\"coordinates\":null,\"group\":null,\"text\":\"Distribution of Useful Ratings\"},\"id\":\"1331\",\"type\":\"Title\"},{\"attributes\":{},\"id\":\"1406\",\"type\":\"UnionRenderers\"},{\"attributes\":{},\"id\":\"1342\",\"type\":\"BasicTicker\"},{\"attributes\":{\"tools\":[{\"id\":\"1349\"},{\"id\":\"1350\"},{\"id\":\"1351\"},{\"id\":\"1352\"},{\"id\":\"1353\"},{\"id\":\"1354\"}]},\"id\":\"1356\",\"type\":\"Toolbar\"},{\"attributes\":{},\"id\":\"1333\",\"type\":\"DataRange1d\"},{\"attributes\":{},\"id\":\"1401\",\"type\":\"BasicTickFormatter\"},{\"attributes\":{\"data\":{\"x\":{\"__ndarray__\":\"AAAAAAAA8L9EY31orA8dQERjfWisDy9AcwpeTsHLN0CisT401gdAQApeTsHLKURAcwpeTsFLSEDctm3btm1MQKKxPjTWR1BA1ofG+tBYUkAKXk7By2lUQD801ofGelZAcwpeTsGLWECn4OUUvJxaQNy2bdu2rVxAEI31obG+XkCisT401mdgQLycgpdTcGFA1ofG+tB4YkDwcgpeToFjQApeTsHLiWRAJUmSJEmSZUA/NNaHxppmQFkfGutDo2dAcwpeTsGraECN9aGxPrRpQKfg5RS8vGpAwcspeDnFa0Dctm3bts1sQPahsT401m1AEI31obHebkAqeDkFL+dvQKKxPjTWd3BAL6fg5RT8cEC8nIKXU4BxQEmSJEmSBHJA1ofG+tCIckBjfWisDw1zQPByCl5OkXNAfWisD40VdEAKXk7By5l0QJhT8HIKHnVAJUmSJEmidUCyPjTWhyZ2QD801ofGqnZAzCl4OQUvd0BZHxrrQ7N3QOYUvJyCN3hAcwpeTsG7eEAAAAAAAEB5QA==\",\"dtype\":\"float64\",\"order\":\"little\",\"shape\":[50]},\"y\":{\"__ndarray__\":\"AE19l6inuT/P4iMwRZiUP9ieXdzw8d0+j3K0fj23kz35ey3l+4K3O0gBH/txZEk5Nh+xh+bVSDabVUlppP+1Mp4sfciXpZEuXSUQLN6j2SlBofPlgN6QJOsJeIU1GrQe0jUtftOxRRj4gMOaGTRFEcLdFb2QxLIJZH9miqoWjgEAAAAAAAAAAAAAAAAAAAAAAAAAAAAAAAAAAAAAAAAAAAAAAAAAAAAAAAAAAAAAAAAAAAAAAAAAAAAAAAAAAAAAAAAAAAAAAAAAAAAAAAAAAAAAAAAAAAAAAAAAAAAAAAAAAAAAAAAAAAAAAAAAAAAAAAAAAAAAAAAAAAAAAAAAAAAAAAAAAAAAAAAAAAAAAAAAAAAAAAAAAAAAAAAAAAAAAAAAAAAAAAAAAAAAAAAAAAAAAAAAAAAAAAAAAAAAAAAAAAAAAAAAAAAAAAAAAAAAAAAAAAAAAAAAAAAAAAAAAAAAAAAAAAAAAAAAAAAAAAAAAAAAAAAAAAAAAAAAAAAAAAAAAAAAAAAAAAAAAAAAAA==\",\"dtype\":\"float64\",\"order\":\"little\",\"shape\":[50]}},\"selected\":{\"id\":\"1407\"},\"selection_policy\":{\"id\":\"1406\"}},\"id\":\"1363\",\"type\":\"ColumnDataSource\"},{\"attributes\":{},\"id\":\"1353\",\"type\":\"ResetTool\"},{\"attributes\":{\"bottom_units\":\"screen\",\"coordinates\":null,\"fill_alpha\":0.5,\"fill_color\":\"lightgrey\",\"group\":null,\"left_units\":\"screen\",\"level\":\"overlay\",\"line_alpha\":1.0,\"line_color\":\"black\",\"line_dash\":[4,4],\"line_width\":2,\"right_units\":\"screen\",\"syncable\":false,\"top_units\":\"screen\"},\"id\":\"1355\",\"type\":\"BoxAnnotation\"},{\"attributes\":{},\"id\":\"1402\",\"type\":\"AllLabels\"},{\"attributes\":{},\"id\":\"1346\",\"type\":\"BasicTicker\"},{\"attributes\":{},\"id\":\"1350\",\"type\":\"WheelZoomTool\"},{\"attributes\":{},\"id\":\"1404\",\"type\":\"BasicTickFormatter\"}],\"root_ids\":[\"1330\"]},\"title\":\"Bokeh Application\",\"version\":\"2.4.3\"}};\n",
       "  const render_items = [{\"docid\":\"cd13c695-6043-4026-b15b-f88df915ae41\",\"root_ids\":[\"1330\"],\"roots\":{\"1330\":\"76bec0f1-d8e3-490c-8754-f4af5bfe62f2\"}}];\n",
       "  root.Bokeh.embed.embed_items_notebook(docs_json, render_items);\n",
       "  }\n",
       "  if (root.Bokeh !== undefined) {\n",
       "    embed_document(root);\n",
       "  } else {\n",
       "    let attempts = 0;\n",
       "    const timer = setInterval(function(root) {\n",
       "      if (root.Bokeh !== undefined) {\n",
       "        clearInterval(timer);\n",
       "        embed_document(root);\n",
       "      } else {\n",
       "        attempts++;\n",
       "        if (attempts > 100) {\n",
       "          clearInterval(timer);\n",
       "          console.log(\"Bokeh: ERROR: Unable to run BokehJS code because BokehJS library is missing\");\n",
       "        }\n",
       "      }\n",
       "    }, 10, root)\n",
       "  }\n",
       "})(window);"
      ],
      "application/vnd.bokehjs_exec.v0+json": ""
     },
     "metadata": {
      "application/vnd.bokehjs_exec.v0+json": {
       "id": "1330"
      }
     },
     "output_type": "display_data"
    }
   ],
   "source": [
    "cool_x, cool_pdf = calc_pdf(ddf, \"r_cool\", isdask=True)\n",
    "bokeh_dist(cool_x, cool_pdf, x_label=\"cool ratings\", y_label=\"pdf\", pdf_color=\"mediumseagreen\", title=\"Distribution of Useful Ratings\")"
   ]
  },
  {
   "cell_type": "markdown",
   "id": "3597e141-b0ef-4421-bc75-f171c4d312b8",
   "metadata": {},
   "source": [
    "So, the ratings of `r_useful`, `r_cool`, `r_funny` almost have similar distributions."
   ]
  },
  {
   "cell_type": "markdown",
   "id": "3a8d2ae2-46f4-40a5-b69e-8d3a5e2f22df",
   "metadata": {},
   "source": [
    "### Minimum Value of Cool Ratings"
   ]
  },
  {
   "cell_type": "code",
   "execution_count": 21,
   "id": "38322ff2-2e3e-488c-b566-1690cf74b267",
   "metadata": {
    "execution": {
     "iopub.execute_input": "2022-08-19T06:02:59.041153Z",
     "iopub.status.busy": "2022-08-19T06:02:59.040743Z",
     "iopub.status.idle": "2022-08-19T06:02:59.081686Z",
     "shell.execute_reply": "2022-08-19T06:02:59.080971Z",
     "shell.execute_reply.started": "2022-08-19T06:02:59.041126Z"
    },
    "tags": []
   },
   "outputs": [
    {
     "data": {
      "text/plain": [
       "-1"
      ]
     },
     "execution_count": 21,
     "metadata": {},
     "output_type": "execute_result"
    }
   ],
   "source": [
    "ddf[\"r_cool\"].min().compute()"
   ]
  },
  {
   "cell_type": "code",
   "execution_count": 22,
   "id": "67efb48b-37b9-4a71-9392-810b3396a5ad",
   "metadata": {
    "execution": {
     "iopub.execute_input": "2022-08-19T06:02:59.082895Z",
     "iopub.status.busy": "2022-08-19T06:02:59.082547Z",
     "iopub.status.idle": "2022-08-19T06:02:59.193197Z",
     "shell.execute_reply": "2022-08-19T06:02:59.192481Z",
     "shell.execute_reply.started": "2022-08-19T06:02:59.082871Z"
    },
    "tags": []
   },
   "outputs": [
    {
     "name": "stdout",
     "output_type": "stream",
     "text": [
      "Number of records with min value : 1\n"
     ]
    }
   ],
   "source": [
    "print(f'Number of records with min value : {ddf[ddf[\"r_cool\"] == ddf[\"r_cool\"].min()].compute().shape[0]}')"
   ]
  },
  {
   "cell_type": "markdown",
   "id": "c256d165-b0fb-4fa4-935a-93c7eb0b0fb6",
   "metadata": {},
   "source": [
    "There's only a single record with minimum value for `r_cool`"
   ]
  },
  {
   "cell_type": "markdown",
   "id": "12f942fb-5952-4a9b-ad15-d8e5546132e0",
   "metadata": {},
   "source": [
    "### Maximum Value of Cool Ratings"
   ]
  },
  {
   "cell_type": "code",
   "execution_count": 23,
   "id": "77898cf3-c8ea-4955-83cf-c92cd8ece852",
   "metadata": {
    "execution": {
     "iopub.execute_input": "2022-08-19T06:02:59.194426Z",
     "iopub.status.busy": "2022-08-19T06:02:59.194103Z",
     "iopub.status.idle": "2022-08-19T06:02:59.229209Z",
     "shell.execute_reply": "2022-08-19T06:02:59.228253Z",
     "shell.execute_reply.started": "2022-08-19T06:02:59.194402Z"
    },
    "tags": []
   },
   "outputs": [
    {
     "data": {
      "text/plain": [
       "404"
      ]
     },
     "execution_count": 23,
     "metadata": {},
     "output_type": "execute_result"
    }
   ],
   "source": [
    "ddf[\"r_cool\"].max().compute()"
   ]
  },
  {
   "cell_type": "code",
   "execution_count": 24,
   "id": "b232fe8d-24b6-4d99-8cae-d2d29d3eee5c",
   "metadata": {
    "execution": {
     "iopub.execute_input": "2022-08-19T06:02:59.231109Z",
     "iopub.status.busy": "2022-08-19T06:02:59.230571Z",
     "iopub.status.idle": "2022-08-19T06:02:59.321873Z",
     "shell.execute_reply": "2022-08-19T06:02:59.320951Z",
     "shell.execute_reply.started": "2022-08-19T06:02:59.231065Z"
    },
    "tags": []
   },
   "outputs": [
    {
     "name": "stdout",
     "output_type": "stream",
     "text": [
      "Number of records with min value : 1\n"
     ]
    }
   ],
   "source": [
    "print(f'Number of records with min value : {ddf[ddf[\"r_cool\"] == ddf[\"r_cool\"].max()].compute().shape[0]}')"
   ]
  },
  {
   "cell_type": "markdown",
   "id": "c799bb50-273c-4f95-828c-07053bc6a626",
   "metadata": {},
   "source": [
    "The number of records with maximum value is also $1$ for `r_cool`"
   ]
  },
  {
   "cell_type": "markdown",
   "id": "91e0cbcd-6a01-46e8-bb53-a71cbe50bf56",
   "metadata": {},
   "source": [
    "## Histogram of b_stars"
   ]
  },
  {
   "cell_type": "code",
   "execution_count": 25,
   "id": "eb47d472-45d2-4c60-8680-34f233c99be2",
   "metadata": {
    "execution": {
     "iopub.execute_input": "2022-08-19T06:02:59.324223Z",
     "iopub.status.busy": "2022-08-19T06:02:59.323565Z",
     "iopub.status.idle": "2022-08-19T06:02:59.500447Z",
     "shell.execute_reply": "2022-08-19T06:02:59.499667Z",
     "shell.execute_reply.started": "2022-08-19T06:02:59.324179Z"
    },
    "tags": []
   },
   "outputs": [
    {
     "data": {
      "text/html": [
       "\n",
       "  <div class=\"bk-root\" id=\"c8f16fc3-7154-4118-922b-c7eaa5f93538\" data-root-id=\"1459\"></div>\n"
      ]
     },
     "metadata": {},
     "output_type": "display_data"
    },
    {
     "data": {
      "application/javascript": [
       "(function(root) {\n",
       "  function embed_document(root) {\n",
       "  const docs_json = {\"1def4007-19e2-406c-872f-7b99c577d991\":{\"defs\":[],\"roots\":{\"references\":[{\"attributes\":{\"below\":[{\"id\":\"1470\"}],\"center\":[{\"id\":\"1473\"},{\"id\":\"1477\"}],\"height\":350,\"left\":[{\"id\":\"1474\"}],\"renderers\":[{\"id\":\"1496\"}],\"title\":{\"id\":\"1460\"},\"toolbar\":{\"id\":\"1485\"},\"x_range\":{\"id\":\"1462\"},\"x_scale\":{\"id\":\"1466\"},\"y_range\":{\"id\":\"1464\"},\"y_scale\":{\"id\":\"1468\"}},\"id\":\"1459\",\"subtype\":\"Figure\",\"type\":\"Plot\"},{\"attributes\":{},\"id\":\"1541\",\"type\":\"AllLabels\"},{\"attributes\":{},\"id\":\"1478\",\"type\":\"PanTool\"},{\"attributes\":{},\"id\":\"1543\",\"type\":\"BasicTickFormatter\"},{\"attributes\":{\"bottom_units\":\"screen\",\"coordinates\":null,\"fill_alpha\":0.5,\"fill_color\":\"lightgrey\",\"group\":null,\"left_units\":\"screen\",\"level\":\"overlay\",\"line_alpha\":1.0,\"line_color\":\"black\",\"line_dash\":[4,4],\"line_width\":2,\"right_units\":\"screen\",\"syncable\":false,\"top_units\":\"screen\"},\"id\":\"1484\",\"type\":\"BoxAnnotation\"},{\"attributes\":{\"source\":{\"id\":\"1492\"}},\"id\":\"1497\",\"type\":\"CDSView\"},{\"attributes\":{},\"id\":\"1481\",\"type\":\"SaveTool\"},{\"attributes\":{},\"id\":\"1544\",\"type\":\"AllLabels\"},{\"attributes\":{},\"id\":\"1479\",\"type\":\"WheelZoomTool\"},{\"attributes\":{},\"id\":\"1483\",\"type\":\"HelpTool\"},{\"attributes\":{\"overlay\":{\"id\":\"1484\"}},\"id\":\"1480\",\"type\":\"BoxZoomTool\"},{\"attributes\":{\"tools\":[{\"id\":\"1478\"},{\"id\":\"1479\"},{\"id\":\"1480\"},{\"id\":\"1481\"},{\"id\":\"1482\"},{\"id\":\"1483\"}]},\"id\":\"1485\",\"type\":\"Toolbar\"},{\"attributes\":{\"axis_label\":\"business stars\",\"coordinates\":null,\"formatter\":{\"id\":\"1543\"},\"group\":null,\"major_label_policy\":{\"id\":\"1544\"},\"ticker\":{\"id\":\"1471\"}},\"id\":\"1470\",\"type\":\"LinearAxis\"},{\"attributes\":{\"coordinates\":null,\"data_source\":{\"id\":\"1492\"},\"glyph\":{\"id\":\"1493\"},\"group\":null,\"hover_glyph\":null,\"muted_glyph\":{\"id\":\"1495\"},\"nonselection_glyph\":{\"id\":\"1494\"},\"view\":{\"id\":\"1497\"}},\"id\":\"1496\",\"type\":\"GlyphRenderer\"},{\"attributes\":{\"axis_label\":\"frequency\",\"coordinates\":null,\"formatter\":{\"id\":\"1540\"},\"group\":null,\"major_label_policy\":{\"id\":\"1541\"},\"ticker\":{\"id\":\"1475\"}},\"id\":\"1474\",\"type\":\"LinearAxis\"},{\"attributes\":{},\"id\":\"1475\",\"type\":\"BasicTicker\"},{\"attributes\":{\"bottom\":{\"value\":0},\"fill_alpha\":{\"value\":0.85},\"fill_color\":{\"value\":\"orangered\"},\"hatch_alpha\":{\"value\":0.85},\"left\":{\"field\":\"left\"},\"line_alpha\":{\"value\":0.85},\"line_color\":{\"value\":\"white\"},\"right\":{\"field\":\"right\"},\"top\":{\"field\":\"top\"}},\"id\":\"1493\",\"type\":\"Quad\"},{\"attributes\":{},\"id\":\"1464\",\"type\":\"DataRange1d\"},{\"attributes\":{},\"id\":\"1540\",\"type\":\"BasicTickFormatter\"},{\"attributes\":{},\"id\":\"1466\",\"type\":\"LinearScale\"},{\"attributes\":{},\"id\":\"1482\",\"type\":\"ResetTool\"},{\"attributes\":{},\"id\":\"1468\",\"type\":\"LinearScale\"},{\"attributes\":{\"bottom\":{\"value\":0},\"fill_alpha\":{\"value\":0.1},\"fill_color\":{\"value\":\"orangered\"},\"hatch_alpha\":{\"value\":0.1},\"left\":{\"field\":\"left\"},\"line_alpha\":{\"value\":0.1},\"line_color\":{\"value\":\"white\"},\"right\":{\"field\":\"right\"},\"top\":{\"field\":\"top\"}},\"id\":\"1494\",\"type\":\"Quad\"},{\"attributes\":{\"coordinates\":null,\"group\":null,\"text\":\"Distribution of Business stars\"},\"id\":\"1460\",\"type\":\"Title\"},{\"attributes\":{},\"id\":\"1471\",\"type\":\"BasicTicker\"},{\"attributes\":{},\"id\":\"1462\",\"type\":\"DataRange1d\"},{\"attributes\":{\"bottom\":{\"value\":0},\"fill_alpha\":{\"value\":0.2},\"fill_color\":{\"value\":\"orangered\"},\"hatch_alpha\":{\"value\":0.2},\"left\":{\"field\":\"left\"},\"line_alpha\":{\"value\":0.2},\"line_color\":{\"value\":\"white\"},\"right\":{\"field\":\"right\"},\"top\":{\"field\":\"top\"}},\"id\":\"1495\",\"type\":\"Quad\"},{\"attributes\":{\"axis\":{\"id\":\"1474\"},\"coordinates\":null,\"dimension\":1,\"group\":null,\"ticker\":null},\"id\":\"1477\",\"type\":\"Grid\"},{\"attributes\":{\"axis\":{\"id\":\"1470\"},\"coordinates\":null,\"group\":null,\"ticker\":null},\"id\":\"1473\",\"type\":\"Grid\"},{\"attributes\":{},\"id\":\"1546\",\"type\":\"Selection\"},{\"attributes\":{\"data\":{\"left\":{\"__ndarray__\":\"AAAAAAAA8D8AAAAAAAAAQAAAAAAAAAhAAAAAAAAAEEA=\",\"dtype\":\"float64\",\"order\":\"little\",\"shape\":[4]},\"right\":{\"__ndarray__\":\"AAAAAAAAAEAAAAAAAAAIQAAAAAAAABBAAAAAAAAAFEA=\",\"dtype\":\"float64\",\"order\":\"little\",\"shape\":[4]},\"top\":[63121,251606,731375,1530553]},\"selected\":{\"id\":\"1546\"},\"selection_policy\":{\"id\":\"1545\"}},\"id\":\"1492\",\"type\":\"ColumnDataSource\"},{\"attributes\":{},\"id\":\"1545\",\"type\":\"UnionRenderers\"}],\"root_ids\":[\"1459\"]},\"title\":\"Bokeh Application\",\"version\":\"2.4.3\"}};\n",
       "  const render_items = [{\"docid\":\"1def4007-19e2-406c-872f-7b99c577d991\",\"root_ids\":[\"1459\"],\"roots\":{\"1459\":\"c8f16fc3-7154-4118-922b-c7eaa5f93538\"}}];\n",
       "  root.Bokeh.embed.embed_items_notebook(docs_json, render_items);\n",
       "  }\n",
       "  if (root.Bokeh !== undefined) {\n",
       "    embed_document(root);\n",
       "  } else {\n",
       "    let attempts = 0;\n",
       "    const timer = setInterval(function(root) {\n",
       "      if (root.Bokeh !== undefined) {\n",
       "        clearInterval(timer);\n",
       "        embed_document(root);\n",
       "      } else {\n",
       "        attempts++;\n",
       "        if (attempts > 100) {\n",
       "          clearInterval(timer);\n",
       "          console.log(\"Bokeh: ERROR: Unable to run BokehJS code because BokehJS library is missing\");\n",
       "        }\n",
       "      }\n",
       "    }, 10, root)\n",
       "  }\n",
       "})(window);"
      ],
      "application/vnd.bokehjs_exec.v0+json": ""
     },
     "metadata": {
      "application/vnd.bokehjs_exec.v0+json": {
       "id": "1459"
      }
     },
     "output_type": "display_data"
    }
   ],
   "source": [
    "b_stars_hist, b_stars_edges = np.histogram(ddf[\"b_stars\"].compute(), range=(ddf[\"b_stars\"].min().compute(), \n",
    "                                                                            ddf[\"b_stars\"].max().compute()), bins=4)\n",
    "\n",
    "bokeh_hist(b_stars_hist, b_stars_edges, title=\"Distribution of Business stars\", x_label=\"business stars\", y_label=\"frequency\", \n",
    "           alpha=0.85, fill_color=\"orangered\")"
   ]
  },
  {
   "cell_type": "markdown",
   "id": "45e9efb8-8461-4277-9e0d-4c33d045bedb",
   "metadata": {},
   "source": [
    "We can observe a *high-frequency* of businesses having star ratings between $4$ and $5$. There are less instances of businesses having star ratings between $1$ and $2$."
   ]
  },
  {
   "cell_type": "markdown",
   "id": "c4a4551e-b4dc-429c-9f43-a4114096ebc5",
   "metadata": {},
   "source": [
    "## Text Data Statistics and EDA"
   ]
  },
  {
   "cell_type": "code",
   "execution_count": 30,
   "id": "1f5fed6e-e4bc-4ce7-836e-28d1865add3f",
   "metadata": {
    "execution": {
     "iopub.execute_input": "2022-08-19T06:05:46.830322Z",
     "iopub.status.busy": "2022-08-19T06:05:46.829257Z",
     "iopub.status.idle": "2022-08-19T06:05:46.838113Z",
     "shell.execute_reply": "2022-08-19T06:05:46.836581Z",
     "shell.execute_reply.started": "2022-08-19T06:05:46.830266Z"
    },
    "tags": []
   },
   "outputs": [],
   "source": [
    "def calc_n_words(txt):\n",
    "    return len(txt.split())\n",
    "\n",
    "def calc_sen_len(txt):\n",
    "    return len(txt)\n",
    "\n",
    "def calc_avg_word_len(txt):\n",
    "    words = txt.split()\n",
    "    return sum([len(word) for word in words]) / len(words)"
   ]
  },
  {
   "cell_type": "markdown",
   "id": "8f1a8553-15e4-4280-82f4-af0c8caf13fc",
   "metadata": {},
   "source": [
    "### Number of Words "
   ]
  },
  {
   "cell_type": "code",
   "execution_count": 32,
   "id": "b2631101-7021-48eb-88de-8a5749ebcb1f",
   "metadata": {
    "execution": {
     "iopub.execute_input": "2022-08-19T06:06:34.640873Z",
     "iopub.status.busy": "2022-08-19T06:06:34.640473Z",
     "iopub.status.idle": "2022-08-19T06:07:03.033019Z",
     "shell.execute_reply": "2022-08-19T06:07:03.031526Z",
     "shell.execute_reply.started": "2022-08-19T06:06:34.640843Z"
    },
    "tags": []
   },
   "outputs": [],
   "source": [
    "n_words = ddf.r_text.map(calc_n_words, meta=(None, \"float\")).compute()"
   ]
  },
  {
   "cell_type": "code",
   "execution_count": 35,
   "id": "3bbf6cc4-ef9c-4b75-970c-4ac6ca699afc",
   "metadata": {
    "execution": {
     "iopub.execute_input": "2022-08-19T06:12:09.802529Z",
     "iopub.status.busy": "2022-08-19T06:12:09.802186Z",
     "iopub.status.idle": "2022-08-19T06:12:09.905860Z",
     "shell.execute_reply": "2022-08-19T06:12:09.905200Z",
     "shell.execute_reply.started": "2022-08-19T06:12:09.802502Z"
    },
    "tags": []
   },
   "outputs": [
    {
     "data": {
      "text/html": [
       "\n",
       "  <div class=\"bk-root\" id=\"4daf68ec-d738-4beb-896f-ceb95a673628\" data-root-id=\"1747\"></div>\n"
      ]
     },
     "metadata": {},
     "output_type": "display_data"
    },
    {
     "data": {
      "application/javascript": [
       "(function(root) {\n",
       "  function embed_document(root) {\n",
       "  const docs_json = {\"0df1d0f7-32c9-4677-a873-7c344bc6ab8a\":{\"defs\":[],\"roots\":{\"references\":[{\"attributes\":{\"below\":[{\"id\":\"1758\"}],\"center\":[{\"id\":\"1761\"},{\"id\":\"1765\"}],\"height\":350,\"left\":[{\"id\":\"1762\"}],\"renderers\":[{\"id\":\"1784\"}],\"title\":{\"id\":\"1748\"},\"toolbar\":{\"id\":\"1773\"},\"x_range\":{\"id\":\"1750\"},\"x_scale\":{\"id\":\"1754\"},\"y_range\":{\"id\":\"1752\"},\"y_scale\":{\"id\":\"1756\"}},\"id\":\"1747\",\"subtype\":\"Figure\",\"type\":\"Plot\"},{\"attributes\":{\"axis_label\":\"no. of words\",\"coordinates\":null,\"formatter\":{\"id\":\"1851\"},\"group\":null,\"major_label_policy\":{\"id\":\"1852\"},\"ticker\":{\"id\":\"1759\"}},\"id\":\"1758\",\"type\":\"LinearAxis\"},{\"attributes\":{\"source\":{\"id\":\"1780\"}},\"id\":\"1785\",\"type\":\"CDSView\"},{\"attributes\":{},\"id\":\"1767\",\"type\":\"WheelZoomTool\"},{\"attributes\":{\"bottom\":{\"value\":0},\"fill_alpha\":{\"value\":0.1},\"fill_color\":{\"value\":\"mediumslateblue\"},\"hatch_alpha\":{\"value\":0.1},\"left\":{\"field\":\"left\"},\"line_alpha\":{\"value\":0.1},\"line_color\":{\"value\":\"white\"},\"right\":{\"field\":\"right\"},\"top\":{\"field\":\"top\"}},\"id\":\"1782\",\"type\":\"Quad\"},{\"attributes\":{},\"id\":\"1854\",\"type\":\"Selection\"},{\"attributes\":{},\"id\":\"1759\",\"type\":\"BasicTicker\"},{\"attributes\":{\"coordinates\":null,\"data_source\":{\"id\":\"1780\"},\"glyph\":{\"id\":\"1781\"},\"group\":null,\"hover_glyph\":null,\"muted_glyph\":{\"id\":\"1783\"},\"nonselection_glyph\":{\"id\":\"1782\"},\"view\":{\"id\":\"1785\"}},\"id\":\"1784\",\"type\":\"GlyphRenderer\"},{\"attributes\":{},\"id\":\"1766\",\"type\":\"PanTool\"},{\"attributes\":{\"bottom_units\":\"screen\",\"coordinates\":null,\"fill_alpha\":0.5,\"fill_color\":\"lightgrey\",\"group\":null,\"left_units\":\"screen\",\"level\":\"overlay\",\"line_alpha\":1.0,\"line_color\":\"black\",\"line_dash\":[4,4],\"line_width\":2,\"right_units\":\"screen\",\"syncable\":false,\"top_units\":\"screen\"},\"id\":\"1772\",\"type\":\"BoxAnnotation\"},{\"attributes\":{\"coordinates\":null,\"group\":null,\"text\":\"Distribution of Word Count\"},\"id\":\"1748\",\"type\":\"Title\"},{\"attributes\":{\"axis_label\":\"frequency\",\"coordinates\":null,\"formatter\":{\"id\":\"1848\"},\"group\":null,\"major_label_policy\":{\"id\":\"1849\"},\"ticker\":{\"id\":\"1763\"}},\"id\":\"1762\",\"type\":\"LinearAxis\"},{\"attributes\":{\"axis\":{\"id\":\"1762\"},\"coordinates\":null,\"dimension\":1,\"group\":null,\"ticker\":null},\"id\":\"1765\",\"type\":\"Grid\"},{\"attributes\":{},\"id\":\"1754\",\"type\":\"LinearScale\"},{\"attributes\":{\"bottom\":{\"value\":0},\"fill_alpha\":{\"value\":0.85},\"fill_color\":{\"value\":\"mediumslateblue\"},\"hatch_alpha\":{\"value\":0.85},\"left\":{\"field\":\"left\"},\"line_alpha\":{\"value\":0.85},\"line_color\":{\"value\":\"white\"},\"right\":{\"field\":\"right\"},\"top\":{\"field\":\"top\"}},\"id\":\"1781\",\"type\":\"Quad\"},{\"attributes\":{},\"id\":\"1763\",\"type\":\"BasicTicker\"},{\"attributes\":{\"axis\":{\"id\":\"1758\"},\"coordinates\":null,\"group\":null,\"ticker\":null},\"id\":\"1761\",\"type\":\"Grid\"},{\"attributes\":{},\"id\":\"1769\",\"type\":\"SaveTool\"},{\"attributes\":{},\"id\":\"1752\",\"type\":\"DataRange1d\"},{\"attributes\":{},\"id\":\"1853\",\"type\":\"UnionRenderers\"},{\"attributes\":{},\"id\":\"1770\",\"type\":\"ResetTool\"},{\"attributes\":{\"overlay\":{\"id\":\"1772\"}},\"id\":\"1768\",\"type\":\"BoxZoomTool\"},{\"attributes\":{},\"id\":\"1852\",\"type\":\"AllLabels\"},{\"attributes\":{},\"id\":\"1771\",\"type\":\"HelpTool\"},{\"attributes\":{},\"id\":\"1750\",\"type\":\"DataRange1d\"},{\"attributes\":{},\"id\":\"1848\",\"type\":\"BasicTickFormatter\"},{\"attributes\":{},\"id\":\"1851\",\"type\":\"BasicTickFormatter\"},{\"attributes\":{},\"id\":\"1756\",\"type\":\"LinearScale\"},{\"attributes\":{},\"id\":\"1849\",\"type\":\"AllLabels\"},{\"attributes\":{\"tools\":[{\"id\":\"1766\"},{\"id\":\"1767\"},{\"id\":\"1768\"},{\"id\":\"1769\"},{\"id\":\"1770\"},{\"id\":\"1771\"}]},\"id\":\"1773\",\"type\":\"Toolbar\"},{\"attributes\":{\"data\":{\"left\":{\"__ndarray__\":\"AAAAAAAA8D8pXI/C9SgnQClcj8L1KDZAH4XrUbheQEApXI/C9ahFQDMzMzMz80pAH4XrUbgeUECkcD0K18NSQClcj8L1aFVArkfhehQOWEAzMzMzM7NaQLgehetRWF1APgrXo3D9X0DhehSuR1FhQKRwPQrXo2JAZmZmZmb2Y0ApXI/C9UhlQOxRuB6Fm2ZArkfhehTuZ0BxPQrXo0BpQDMzMzMzk2pA9ihcj8Lla0C4HoXrUThtQHsUrkfhim5APgrXo3Ddb0AAAAAAAJhwQOF6FK5HQXFAw/UoXI/qcUCkcD0K15NyQIXrUbgePXNAZmZmZmbmc0BI4XoUro90QClcj8L1OHVACtejcD3idUDsUbgehYt2QM3MzMzMNHdArkfhehTed0CPwvUoXId4QHE9CtejMHlAUrgehevZeUAzMzMzM4N6QBWuR+F6LHtA9ihcj8LVe0DXo3A9Cn98QLgehetRKH1AmpmZmZnRfUB7FK5H4Xp+QFyPwvUoJH9APgrXo3DNf0CPwvUoXDuAQAAAAAAAkIBAcT0K16PkgEDhehSuRzmBQFK4HoXrjYFAw/UoXI/igUAzMzMzMzeCQKRwPQrXi4JAFa5H4XrggkCF61G4HjWDQPYoXI/CiYNAZmZmZmbeg0DXo3A9CjOEQEjhehSuh4RAuB6F61HchEApXI/C9TCFQJqZmZmZhYVACtejcD3ahUB7FK5H4S6GQOxRuB6Fg4ZAXI/C9SjYhkDNzMzMzCyHQD0K16NwgYdArkfhehTWh0AfhetRuCqIQI/C9Shcf4hAAAAAAADUiEBxPQrXoyiJQOF6FK5HfYlAUrgehevRiUDD9ShcjyaKQDMzMzMze4pApHA9CtfPikAVrkfheiSLQIXrUbgeeYtA9ihcj8LNi0BmZmZmZiKMQNejcD0Kd4xASOF6FK7LjEC4HoXrUSCNQClcj8L1dI1AmpmZmZnJjUAK16NwPR6OQHsUrkfhco5A7FG4HoXHjkBcj8L1KByPQM3MzMzMcI9APgrXo3DFj0DXo3A9Cg2QQI/C9ShcN5BASOF6FK5hkEA=\",\"dtype\":\"float64\",\"order\":\"little\",\"shape\":[100]},\"right\":{\"__ndarray__\":\"KVyPwvUoJ0ApXI/C9Sg2QB+F61G4XkBAKVyPwvWoRUAzMzMzM/NKQB+F61G4HlBApHA9CtfDUkApXI/C9WhVQK5H4XoUDlhAMzMzMzOzWkC4HoXrUVhdQD4K16Nw/V9A4XoUrkdRYUCkcD0K16NiQGZmZmZm9mNAKVyPwvVIZUDsUbgehZtmQK5H4XoU7mdAcT0K16NAaUAzMzMzM5NqQPYoXI/C5WtAuB6F61E4bUB7FK5H4YpuQD4K16Nw3W9AAAAAAACYcEDhehSuR0FxQMP1KFyP6nFApHA9CteTckCF61G4Hj1zQGZmZmZm5nNASOF6FK6PdEApXI/C9Th1QArXo3A94nVA7FG4HoWLdkDNzMzMzDR3QK5H4XoU3ndAj8L1KFyHeEBxPQrXozB5QFK4HoXr2XlAMzMzMzODekAVrkfheix7QPYoXI/C1XtA16NwPQp/fEC4HoXrUSh9QJqZmZmZ0X1AexSuR+F6fkBcj8L1KCR/QD4K16NwzX9Aj8L1KFw7gEAAAAAAAJCAQHE9Ctej5IBA4XoUrkc5gUBSuB6F642BQMP1KFyP4oFAMzMzMzM3gkCkcD0K14uCQBWuR+F64IJAhetRuB41g0D2KFyPwomDQGZmZmZm3oNA16NwPQozhEBI4XoUroeEQLgehetR3IRAKVyPwvUwhUCamZmZmYWFQArXo3A92oVAexSuR+EuhkDsUbgehYOGQFyPwvUo2IZAzczMzMwsh0A9CtejcIGHQK5H4XoU1odAH4XrUbgqiECPwvUoXH+IQAAAAAAA1IhAcT0K16MoiUDhehSuR32JQFK4HoXr0YlAw/UoXI8mikAzMzMzM3uKQKRwPQrXz4pAFa5H4Xoki0CF61G4HnmLQPYoXI/CzYtAZmZmZmYijEDXo3A9CneMQEjhehSuy4xAuB6F61EgjUApXI/C9XSNQJqZmZmZyY1ACtejcD0ejkB7FK5H4XKOQOxRuB6Fx45AXI/C9Sgcj0DNzMzMzHCPQD4K16NwxY9A16NwPQoNkECPwvUoXDeQQEjhehSuYZBAAAAAAACMkEA=\",\"dtype\":\"float64\",\"order\":\"little\",\"shape\":[100]},\"top\":[5301,94869,146690,180580,170879,185056,174993,148067,150208,124142,124049,102277,101409,92170,75508,73962,59182,57576,51211,41608,40763,33273,33110,26629,26255,23695,19514,19315,15839,15817,12904,13022,11649,9635,9708,7872,7989,7343,6038,5947,5056,4983,4113,4214,3838,3198,3190,2781,2779,2348,2382,2139,1866,1906,1555,1564,1510,1316,1289,1092,1138,937,992,912,766,824,660,710,654,595,594,523,528,433,486,445,392,442,375,399,389,446,461,405,495,448,463,396,368,259,167,159,89,56,40,15,14,3,2,2]},\"selected\":{\"id\":\"1854\"},\"selection_policy\":{\"id\":\"1853\"}},\"id\":\"1780\",\"type\":\"ColumnDataSource\"},{\"attributes\":{\"bottom\":{\"value\":0},\"fill_alpha\":{\"value\":0.2},\"fill_color\":{\"value\":\"mediumslateblue\"},\"hatch_alpha\":{\"value\":0.2},\"left\":{\"field\":\"left\"},\"line_alpha\":{\"value\":0.2},\"line_color\":{\"value\":\"white\"},\"right\":{\"field\":\"right\"},\"top\":{\"field\":\"top\"}},\"id\":\"1783\",\"type\":\"Quad\"}],\"root_ids\":[\"1747\"]},\"title\":\"Bokeh Application\",\"version\":\"2.4.3\"}};\n",
       "  const render_items = [{\"docid\":\"0df1d0f7-32c9-4677-a873-7c344bc6ab8a\",\"root_ids\":[\"1747\"],\"roots\":{\"1747\":\"4daf68ec-d738-4beb-896f-ceb95a673628\"}}];\n",
       "  root.Bokeh.embed.embed_items_notebook(docs_json, render_items);\n",
       "  }\n",
       "  if (root.Bokeh !== undefined) {\n",
       "    embed_document(root);\n",
       "  } else {\n",
       "    let attempts = 0;\n",
       "    const timer = setInterval(function(root) {\n",
       "      if (root.Bokeh !== undefined) {\n",
       "        clearInterval(timer);\n",
       "        embed_document(root);\n",
       "      } else {\n",
       "        attempts++;\n",
       "        if (attempts > 100) {\n",
       "          clearInterval(timer);\n",
       "          console.log(\"Bokeh: ERROR: Unable to run BokehJS code because BokehJS library is missing\");\n",
       "        }\n",
       "      }\n",
       "    }, 10, root)\n",
       "  }\n",
       "})(window);"
      ],
      "application/vnd.bokehjs_exec.v0+json": ""
     },
     "metadata": {
      "application/vnd.bokehjs_exec.v0+json": {
       "id": "1747"
      }
     },
     "output_type": "display_data"
    }
   ],
   "source": [
    "n_words_hist, n_words_edges = np.histogram(n_words, bins=100, range=(np.min(n_words), np.max(n_words)))\n",
    "bokeh_hist(n_words_hist, n_words_edges, title=\"Distribution of Word Count\", x_label=\"no. of words\", y_label=\"frequency\", \n",
    "           alpha=0.85, fill_color=\"mediumslateblue\")"
   ]
  },
  {
   "cell_type": "markdown",
   "id": "63b625ef-a21e-4665-9447-3c5c6558d29a",
   "metadata": {},
   "source": [
    "The word count is right skewed. Meaning most of the review is composed with small number of words and there are very few instances for which the number of words $>500$ which is evident from the *heavy tail* at the end of the distribution."
   ]
  },
  {
   "cell_type": "markdown",
   "id": "8bc323ab-4895-4623-bcb1-6e59c8870a8d",
   "metadata": {},
   "source": [
    "### Sentence Length"
   ]
  },
  {
   "cell_type": "code",
   "execution_count": 37,
   "id": "ecca6c7c-5678-4c01-92de-7562ea61ba5c",
   "metadata": {
    "execution": {
     "iopub.execute_input": "2022-08-19T06:18:31.527338Z",
     "iopub.status.busy": "2022-08-19T06:18:31.526849Z",
     "iopub.status.idle": "2022-08-19T06:18:33.682937Z",
     "shell.execute_reply": "2022-08-19T06:18:33.682145Z",
     "shell.execute_reply.started": "2022-08-19T06:18:31.527297Z"
    },
    "tags": []
   },
   "outputs": [],
   "source": [
    "sen_len = ddf.r_text.map(calc_sen_len, meta=(None, \"int\")).compute()"
   ]
  },
  {
   "cell_type": "code",
   "execution_count": 38,
   "id": "5d6388fe-896d-4d4f-b13c-e0f7b09cf42a",
   "metadata": {
    "execution": {
     "iopub.execute_input": "2022-08-19T06:19:30.929543Z",
     "iopub.status.busy": "2022-08-19T06:19:30.929047Z",
     "iopub.status.idle": "2022-08-19T06:19:31.053762Z",
     "shell.execute_reply": "2022-08-19T06:19:31.052342Z",
     "shell.execute_reply.started": "2022-08-19T06:19:30.929505Z"
    }
   },
   "outputs": [
    {
     "data": {
      "text/html": [
       "\n",
       "  <div class=\"bk-root\" id=\"05cf88a8-e3be-40f3-b426-a249ffdc929c\" data-root-id=\"1906\"></div>\n"
      ]
     },
     "metadata": {},
     "output_type": "display_data"
    },
    {
     "data": {
      "application/javascript": [
       "(function(root) {\n",
       "  function embed_document(root) {\n",
       "  const docs_json = {\"ec963191-cf2d-4b15-acf1-06b01fd8250b\":{\"defs\":[],\"roots\":{\"references\":[{\"attributes\":{\"below\":[{\"id\":\"1917\"}],\"center\":[{\"id\":\"1920\"},{\"id\":\"1924\"}],\"height\":350,\"left\":[{\"id\":\"1921\"}],\"renderers\":[{\"id\":\"1943\"}],\"title\":{\"id\":\"1907\"},\"toolbar\":{\"id\":\"1932\"},\"x_range\":{\"id\":\"1909\"},\"x_scale\":{\"id\":\"1913\"},\"y_range\":{\"id\":\"1911\"},\"y_scale\":{\"id\":\"1915\"}},\"id\":\"1906\",\"subtype\":\"Figure\",\"type\":\"Plot\"},{\"attributes\":{\"data\":{\"left\":{\"__ndarray__\":\"AAAAAAAA8D8fhetRuH5JQB+F61G4PllA16NwPQrfYkAfhetRuB5pQGdmZmZmXm9A16NwPQrPckB7FK5H4e51QB+F61G4DnlAw/UoXI8ufEBnZmZmZk5/QIXrUbgeN4FA16NwPQrHgkApXI/C9VaEQHsUrkfh5oVAzczMzMx2h0AfhetRuAaJQHE9CtejlopAw/UoXI8mjEAVrkfheraNQGdmZmZmRo9AXI/C9ShrkECF61G4HjORQK5H4XoU+5FA16NwPQrDkkAAAAAAAIuTQClcj8L1UpRAUrgehesalUB7FK5H4eKVQKRwPQrXqpZAzczMzMxyl0D2KFyPwjqYQB+F61G4AplASOF6FK7KmUBxPQrXo5KaQJqZmZmZWptAw/UoXI8inEDsUbgeheqcQBWuR+F6sp1APgrXo3B6nkBnZmZmZkKfQEjhehQuBaBAXI/C9ShpoEBxPQrXI82gQIXrUbgeMaFAmpmZmRmVoUCuR+F6FPmhQMP1KFwPXaJA16NwPQrBokDsUbgeBSWjQAAAAAAAiaNAFa5H4frso0ApXI/C9VCkQD4K16PwtKRAUrgehesYpUBnZmZm5nylQHsUrkfh4KVAkML1KNxEpkCkcD0K16imQLkehevRDKdAzczMzMxwp0DiehSux9SnQPYoXI/COKhAC9ejcL2cqEAfhetRuACpQDMzMzOzZKlASOF6FK7IqUBcj8L1qCyqQHE9CtejkKpAhetRuJ70qkCamZmZmVirQK5H4XqUvKtAw/UoXI8grEDXo3A9ioSsQOxRuB6F6KxAAAAAAIBMrUAVrkfherCtQClcj8J1FK5APgrXo3B4rkBSuB6Fa9yuQGdmZmZmQK9AexSuR2Gkr0BI4XoULgSwQFK4HoUrNrBAXI/C9ShosEBnZmZmJpqwQHE9CtcjzLBAexSuRyH+sECF61G4HjCxQJDC9SgcYrFAmpmZmRmUsUCkcD0KF8axQK5H4XoU+LFAuR6F6xEqskDD9ShcD1yyQM3MzMwMjrJA16NwPQrAskDhehSuB/KyQOxRuB4FJLNA9ihcjwJWs0A=\",\"dtype\":\"float64\",\"order\":\"little\",\"shape\":[100]},\"right\":{\"__ndarray__\":\"H4XrUbh+SUAfhetRuD5ZQNejcD0K32JAH4XrUbgeaUBnZmZmZl5vQNejcD0Kz3JAexSuR+HudUAfhetRuA55QMP1KFyPLnxAZ2ZmZmZOf0CF61G4HjeBQNejcD0Kx4JAKVyPwvVWhEB7FK5H4eaFQM3MzMzMdodAH4XrUbgGiUBxPQrXo5aKQMP1KFyPJoxAFa5H4Xq2jUBnZmZmZkaPQFyPwvUoa5BAhetRuB4zkUCuR+F6FPuRQNejcD0Kw5JAAAAAAACLk0ApXI/C9VKUQFK4HoXrGpVAexSuR+HilUCkcD0K16qWQM3MzMzMcpdA9ihcj8I6mEAfhetRuAKZQEjhehSuyplAcT0K16OSmkCamZmZmVqbQMP1KFyPIpxA7FG4HoXqnEAVrkfherKdQD4K16Nwep5AZ2ZmZmZCn0BI4XoULgWgQFyPwvUoaaBAcT0K1yPNoECF61G4HjGhQJqZmZkZlaFArkfhehT5oUDD9ShcD12iQNejcD0KwaJA7FG4HgUlo0AAAAAAAImjQBWuR+H67KNAKVyPwvVQpEA+Ctej8LSkQFK4HoXrGKVAZ2ZmZuZ8pUB7FK5H4eClQJDC9SjcRKZApHA9CteopkC5HoXr0QynQM3MzMzMcKdA4noUrsfUp0D2KFyPwjioQAvXo3C9nKhAH4XrUbgAqUAzMzMzs2SpQEjhehSuyKlAXI/C9agsqkBxPQrXo5CqQIXrUbie9KpAmpmZmZlYq0CuR+F6lLyrQMP1KFyPIKxA16NwPYqErEDsUbgeheisQAAAAACATK1AFa5H4XqwrUApXI/CdRSuQD4K16NweK5AUrgehWvcrkBnZmZmZkCvQHsUrkdhpK9ASOF6FC4EsEBSuB6FKzawQFyPwvUoaLBAZ2ZmZiaasEBxPQrXI8ywQHsUrkch/rBAhetRuB4wsUCQwvUoHGKxQJqZmZkZlLFApHA9ChfGsUCuR+F6FPixQLkehesRKrJAw/UoXA9cskDNzMzMDI6yQNejcD0KwLJA4XoUrgfyskDsUbgeBSSzQPYoXI8CVrNAAAAAAACIs0A=\",\"dtype\":\"float64\",\"order\":\"little\",\"shape\":[100]},\"top\":[1594,38572,122986,144927,156793,160360,157154,149330,140593,130424,120014,110908,101803,92089,84915,77883,71551,64902,56917,51501,46407,41950,38110,34508,31368,28370,25783,23396,21510,19420,17879,16374,14723,13658,12593,11289,10479,9695,8935,8025,7479,6738,6354,6003,5421,4971,4539,4248,3924,3611,3417,3089,2914,2659,2511,2368,2158,2003,1923,1723,1670,1499,1392,1408,1313,1241,1142,1023,986,930,904,826,757,698,730,675,597,580,550,587,493,602,437,384,395,366,355,323,310,303,332,314,259,302,296,334,374,452,670,2105]},\"selected\":{\"id\":\"2023\"},\"selection_policy\":{\"id\":\"2022\"}},\"id\":\"1939\",\"type\":\"ColumnDataSource\"},{\"attributes\":{},\"id\":\"1930\",\"type\":\"HelpTool\"},{\"attributes\":{\"bottom_units\":\"screen\",\"coordinates\":null,\"fill_alpha\":0.5,\"fill_color\":\"lightgrey\",\"group\":null,\"left_units\":\"screen\",\"level\":\"overlay\",\"line_alpha\":1.0,\"line_color\":\"black\",\"line_dash\":[4,4],\"line_width\":2,\"right_units\":\"screen\",\"syncable\":false,\"top_units\":\"screen\"},\"id\":\"1931\",\"type\":\"BoxAnnotation\"},{\"attributes\":{\"bottom\":{\"value\":0},\"fill_alpha\":{\"value\":0.1},\"fill_color\":{\"value\":\"tomato\"},\"hatch_alpha\":{\"value\":0.1},\"left\":{\"field\":\"left\"},\"line_alpha\":{\"value\":0.1},\"line_color\":{\"value\":\"white\"},\"right\":{\"field\":\"right\"},\"top\":{\"field\":\"top\"}},\"id\":\"1941\",\"type\":\"Quad\"},{\"attributes\":{\"tools\":[{\"id\":\"1925\"},{\"id\":\"1926\"},{\"id\":\"1927\"},{\"id\":\"1928\"},{\"id\":\"1929\"},{\"id\":\"1930\"}]},\"id\":\"1932\",\"type\":\"Toolbar\"},{\"attributes\":{\"coordinates\":null,\"group\":null,\"text\":\"Distribution of Sentence Length\"},\"id\":\"1907\",\"type\":\"Title\"},{\"attributes\":{},\"id\":\"1928\",\"type\":\"SaveTool\"},{\"attributes\":{},\"id\":\"2017\",\"type\":\"BasicTickFormatter\"},{\"attributes\":{},\"id\":\"2018\",\"type\":\"AllLabels\"},{\"attributes\":{\"bottom\":{\"value\":0},\"fill_alpha\":{\"value\":0.2},\"fill_color\":{\"value\":\"tomato\"},\"hatch_alpha\":{\"value\":0.2},\"left\":{\"field\":\"left\"},\"line_alpha\":{\"value\":0.2},\"line_color\":{\"value\":\"white\"},\"right\":{\"field\":\"right\"},\"top\":{\"field\":\"top\"}},\"id\":\"1942\",\"type\":\"Quad\"},{\"attributes\":{},\"id\":\"2023\",\"type\":\"Selection\"},{\"attributes\":{},\"id\":\"1922\",\"type\":\"BasicTicker\"},{\"attributes\":{},\"id\":\"2021\",\"type\":\"AllLabels\"},{\"attributes\":{},\"id\":\"1913\",\"type\":\"LinearScale\"},{\"attributes\":{\"axis_label\":\"sentence length\",\"coordinates\":null,\"formatter\":{\"id\":\"2020\"},\"group\":null,\"major_label_policy\":{\"id\":\"2021\"},\"ticker\":{\"id\":\"1918\"}},\"id\":\"1917\",\"type\":\"LinearAxis\"},{\"attributes\":{},\"id\":\"1911\",\"type\":\"DataRange1d\"},{\"attributes\":{},\"id\":\"2020\",\"type\":\"BasicTickFormatter\"},{\"attributes\":{\"axis\":{\"id\":\"1917\"},\"coordinates\":null,\"group\":null,\"ticker\":null},\"id\":\"1920\",\"type\":\"Grid\"},{\"attributes\":{\"coordinates\":null,\"data_source\":{\"id\":\"1939\"},\"glyph\":{\"id\":\"1940\"},\"group\":null,\"hover_glyph\":null,\"muted_glyph\":{\"id\":\"1942\"},\"nonselection_glyph\":{\"id\":\"1941\"},\"view\":{\"id\":\"1944\"}},\"id\":\"1943\",\"type\":\"GlyphRenderer\"},{\"attributes\":{\"source\":{\"id\":\"1939\"}},\"id\":\"1944\",\"type\":\"CDSView\"},{\"attributes\":{},\"id\":\"1909\",\"type\":\"DataRange1d\"},{\"attributes\":{\"bottom\":{\"value\":0},\"fill_alpha\":{\"value\":0.85},\"fill_color\":{\"value\":\"tomato\"},\"hatch_alpha\":{\"value\":0.85},\"left\":{\"field\":\"left\"},\"line_alpha\":{\"value\":0.85},\"line_color\":{\"value\":\"white\"},\"right\":{\"field\":\"right\"},\"top\":{\"field\":\"top\"}},\"id\":\"1940\",\"type\":\"Quad\"},{\"attributes\":{},\"id\":\"2022\",\"type\":\"UnionRenderers\"},{\"attributes\":{\"axis_label\":\"frequency\",\"coordinates\":null,\"formatter\":{\"id\":\"2017\"},\"group\":null,\"major_label_policy\":{\"id\":\"2018\"},\"ticker\":{\"id\":\"1922\"}},\"id\":\"1921\",\"type\":\"LinearAxis\"},{\"attributes\":{},\"id\":\"1929\",\"type\":\"ResetTool\"},{\"attributes\":{},\"id\":\"1915\",\"type\":\"LinearScale\"},{\"attributes\":{},\"id\":\"1926\",\"type\":\"WheelZoomTool\"},{\"attributes\":{},\"id\":\"1925\",\"type\":\"PanTool\"},{\"attributes\":{\"overlay\":{\"id\":\"1931\"}},\"id\":\"1927\",\"type\":\"BoxZoomTool\"},{\"attributes\":{},\"id\":\"1918\",\"type\":\"BasicTicker\"},{\"attributes\":{\"axis\":{\"id\":\"1921\"},\"coordinates\":null,\"dimension\":1,\"group\":null,\"ticker\":null},\"id\":\"1924\",\"type\":\"Grid\"}],\"root_ids\":[\"1906\"]},\"title\":\"Bokeh Application\",\"version\":\"2.4.3\"}};\n",
       "  const render_items = [{\"docid\":\"ec963191-cf2d-4b15-acf1-06b01fd8250b\",\"root_ids\":[\"1906\"],\"roots\":{\"1906\":\"05cf88a8-e3be-40f3-b426-a249ffdc929c\"}}];\n",
       "  root.Bokeh.embed.embed_items_notebook(docs_json, render_items);\n",
       "  }\n",
       "  if (root.Bokeh !== undefined) {\n",
       "    embed_document(root);\n",
       "  } else {\n",
       "    let attempts = 0;\n",
       "    const timer = setInterval(function(root) {\n",
       "      if (root.Bokeh !== undefined) {\n",
       "        clearInterval(timer);\n",
       "        embed_document(root);\n",
       "      } else {\n",
       "        attempts++;\n",
       "        if (attempts > 100) {\n",
       "          clearInterval(timer);\n",
       "          console.log(\"Bokeh: ERROR: Unable to run BokehJS code because BokehJS library is missing\");\n",
       "        }\n",
       "      }\n",
       "    }, 10, root)\n",
       "  }\n",
       "})(window);"
      ],
      "application/vnd.bokehjs_exec.v0+json": ""
     },
     "metadata": {
      "application/vnd.bokehjs_exec.v0+json": {
       "id": "1906"
      }
     },
     "output_type": "display_data"
    }
   ],
   "source": [
    "sen_len_hist, sen_len_edges = np.histogram(sen_len, bins=100, range=(np.min(sen_len), np.max(sen_len)))\n",
    "bokeh_hist(sen_len_hist, sen_len_edges, title=\"Distribution of Sentence Length\", x_label=\"sentence length\", y_label=\"frequency\", \n",
    "           alpha=0.85, fill_color=\"tomato\")"
   ]
  },
  {
   "cell_type": "markdown",
   "id": "de8c85fc-e09b-45a4-841f-cc4465df38ac",
   "metadata": {},
   "source": [
    "The distribution of the *Sentence length* follows a similar distribution as we have observed for *word counts*. The data is right-skewed with a heavy-tail at the end."
   ]
  },
  {
   "cell_type": "markdown",
   "id": "d419ac5b-309e-4dbc-8c59-63f9b1af1d18",
   "metadata": {},
   "source": [
    "### Average Word Length"
   ]
  },
  {
   "cell_type": "code",
   "execution_count": 39,
   "id": "40ef35c6-c7eb-460d-846b-483062a8c993",
   "metadata": {
    "execution": {
     "iopub.execute_input": "2022-08-19T06:21:44.117327Z",
     "iopub.status.busy": "2022-08-19T06:21:44.116823Z",
     "iopub.status.idle": "2022-08-19T06:22:41.212025Z",
     "shell.execute_reply": "2022-08-19T06:22:41.210880Z",
     "shell.execute_reply.started": "2022-08-19T06:21:44.117283Z"
    }
   },
   "outputs": [],
   "source": [
    "avg_word_len = ddf.r_text.map(calc_avg_word_len, meta=(None, \"float\")).compute()"
   ]
  },
  {
   "cell_type": "code",
   "execution_count": 48,
   "id": "e67447cd-d15c-4f2c-95a1-f9ae83eb7c7d",
   "metadata": {
    "execution": {
     "iopub.execute_input": "2022-08-19T06:28:13.424674Z",
     "iopub.status.busy": "2022-08-19T06:28:13.424116Z",
     "iopub.status.idle": "2022-08-19T06:28:13.534910Z",
     "shell.execute_reply": "2022-08-19T06:28:13.533978Z",
     "shell.execute_reply.started": "2022-08-19T06:28:13.424631Z"
    },
    "tags": []
   },
   "outputs": [
    {
     "data": {
      "text/html": [
       "\n",
       "  <div class=\"bk-root\" id=\"3408bb39-920e-4866-bf49-c0ec7f5a95f6\" data-root-id=\"3299\"></div>\n"
      ]
     },
     "metadata": {},
     "output_type": "display_data"
    },
    {
     "data": {
      "application/javascript": [
       "(function(root) {\n",
       "  function embed_document(root) {\n",
       "  const docs_json = {\"11e78a2c-a099-4b05-a010-0480e8ea76a6\":{\"defs\":[],\"roots\":{\"references\":[{\"attributes\":{\"below\":[{\"id\":\"3310\"}],\"center\":[{\"id\":\"3313\"},{\"id\":\"3317\"}],\"height\":350,\"left\":[{\"id\":\"3314\"}],\"renderers\":[{\"id\":\"3336\"}],\"title\":{\"id\":\"3300\"},\"toolbar\":{\"id\":\"3325\"},\"x_range\":{\"id\":\"3302\"},\"x_scale\":{\"id\":\"3306\"},\"y_range\":{\"id\":\"3304\"},\"y_scale\":{\"id\":\"3308\"}},\"id\":\"3299\",\"subtype\":\"Figure\",\"type\":\"Plot\"},{\"attributes\":{\"line_color\":\"mediumseagreen\",\"x\":{\"field\":\"x\"},\"y\":{\"field\":\"y\"}},\"id\":\"3333\",\"type\":\"Line\"},{\"attributes\":{},\"id\":\"3306\",\"type\":\"LinearScale\"},{\"attributes\":{},\"id\":\"3308\",\"type\":\"LinearScale\"},{\"attributes\":{\"line_alpha\":0.2,\"line_color\":\"mediumseagreen\",\"x\":{\"field\":\"x\"},\"y\":{\"field\":\"y\"}},\"id\":\"3335\",\"type\":\"Line\"},{\"attributes\":{},\"id\":\"3485\",\"type\":\"UnionRenderers\"},{\"attributes\":{},\"id\":\"3302\",\"type\":\"DataRange1d\"},{\"attributes\":{\"data\":{\"x\":{\"__ndarray__\":\"AAAAAAAA8D+n4OUUvJwaQKfg5RS8nChAfWisD431MUCn4OUUvJw3QNFYHxrrQz1AfWisD411QUCSJEmSJElEQKfg5RS8HEdAvJyCl1PwSUDRWB8a68NMQOYUvJyCl09AfWisD401UUCIxvrQWJ9SQJIkSZIkCVRAnYKXU/ByVUCn4OUUvNxWQLE+NNaHRlhAvJyCl1OwWUDG+tBYHxpbQNFYHxrrg1xA27Zt27btXUDmFLycgldfQHg5BS+nYGBAfWisD40VYUCCl1PwcsphQIjG+tBYf2JAjfWhsT40Y0CSJEmSJOljQJdT8HIKnmRAnYKXU/BSZUCisT401gdmQKfg5RS8vGZArA+N9aFxZ0CxPjTWhyZoQLdt27Zt22hAvJyCl1OQaUDByyl4OUVqQMb60Fgf+mpAzCl4OQWva0DRWB8a62NsQNaHxvrQGG1A27Zt27bNbUDg5RS8nIJuQOYUvJyCN29A60NjfWjsb0B4OQUvp1BwQPvQWB8aq3BAfWisD40FcUAAAAAAAGBxQA==\",\"dtype\":\"float64\",\"order\":\"little\",\"shape\":[50]},\"y\":{\"__ndarray__\":\"C3kLL/31Uj+wiXLR5kZVP/6L8Un1wlc/uEmnNb9oWj90/xn0DzZdP8xSlzjuE2A/2Pz7Dh6dYT80JPlfMzRjP6PEB9Jb1mQ/o3o9UFuAZj9SkviSky5oP+XNkLgO3Wk/60Wy24yHaz8cYQ95lCltP7aZ3lmFvm4/OnCuztYgcD860kkxMNdwPz0MFL8GgHE/nKiSyywZcj9Lij/9mqByP7s7HLh7FHM/wcWQrzVzcz9S5JVKdbtzP6mwHI007HM/6xrDRMEEdD/rGsNEwQR0P6mwHI007HM/UuSVSnW7cz/BxZCvNXNzP7s7HLh7FHM/S4o//Zqgcj+cqJLLLBlyPz0MFL8GgHE/O9JJMTDXcD87cK7O1iBwP7aZ3lmFvm4/HGEPeZQpbT/sRbLbjIdrP+bNkLgO3Wk/UpL4kpMuaD+jej1QW4BmP6PEB9Jb1mQ/NST5XzM0Yz/c/PsOHp1hP8xSlzjuE2A/dP8Z9A82XT+5Sac1v2haP/2L8Un1wlc/s4ly0eZGVT8LeQsv/fVSPw==\",\"dtype\":\"float64\",\"order\":\"little\",\"shape\":[50]}},\"selected\":{\"id\":\"3486\"},\"selection_policy\":{\"id\":\"3485\"}},\"id\":\"3332\",\"type\":\"ColumnDataSource\"},{\"attributes\":{\"line_alpha\":0.1,\"line_color\":\"mediumseagreen\",\"x\":{\"field\":\"x\"},\"y\":{\"field\":\"y\"}},\"id\":\"3334\",\"type\":\"Line\"},{\"attributes\":{},\"id\":\"3486\",\"type\":\"Selection\"},{\"attributes\":{},\"id\":\"3323\",\"type\":\"HelpTool\"},{\"attributes\":{\"coordinates\":null,\"data_source\":{\"id\":\"3332\"},\"glyph\":{\"id\":\"3333\"},\"group\":null,\"hover_glyph\":null,\"muted_glyph\":{\"id\":\"3335\"},\"nonselection_glyph\":{\"id\":\"3334\"},\"view\":{\"id\":\"3337\"}},\"id\":\"3336\",\"type\":\"GlyphRenderer\"},{\"attributes\":{\"axis_label\":\"Avg word len\",\"coordinates\":null,\"formatter\":{\"id\":\"3483\"},\"group\":null,\"major_label_policy\":{\"id\":\"3484\"},\"ticker\":{\"id\":\"3311\"}},\"id\":\"3310\",\"type\":\"LinearAxis\"},{\"attributes\":{},\"id\":\"3319\",\"type\":\"WheelZoomTool\"},{\"attributes\":{\"tools\":[{\"id\":\"3318\"},{\"id\":\"3319\"},{\"id\":\"3320\"},{\"id\":\"3321\"},{\"id\":\"3322\"},{\"id\":\"3323\"}]},\"id\":\"3325\",\"type\":\"Toolbar\"},{\"attributes\":{\"axis\":{\"id\":\"3314\"},\"coordinates\":null,\"dimension\":1,\"group\":null,\"ticker\":null},\"id\":\"3317\",\"type\":\"Grid\"},{\"attributes\":{},\"id\":\"3304\",\"type\":\"DataRange1d\"},{\"attributes\":{},\"id\":\"3315\",\"type\":\"BasicTicker\"},{\"attributes\":{\"bottom_units\":\"screen\",\"coordinates\":null,\"fill_alpha\":0.5,\"fill_color\":\"lightgrey\",\"group\":null,\"left_units\":\"screen\",\"level\":\"overlay\",\"line_alpha\":1.0,\"line_color\":\"black\",\"line_dash\":[4,4],\"line_width\":2,\"right_units\":\"screen\",\"syncable\":false,\"top_units\":\"screen\"},\"id\":\"3324\",\"type\":\"BoxAnnotation\"},{\"attributes\":{},\"id\":\"3318\",\"type\":\"PanTool\"},{\"attributes\":{\"axis_label\":\"pdf\",\"coordinates\":null,\"formatter\":{\"id\":\"3480\"},\"group\":null,\"major_label_policy\":{\"id\":\"3481\"},\"ticker\":{\"id\":\"3315\"}},\"id\":\"3314\",\"type\":\"LinearAxis\"},{\"attributes\":{},\"id\":\"3484\",\"type\":\"AllLabels\"},{\"attributes\":{\"overlay\":{\"id\":\"3324\"}},\"id\":\"3320\",\"type\":\"BoxZoomTool\"},{\"attributes\":{},\"id\":\"3311\",\"type\":\"BasicTicker\"},{\"attributes\":{},\"id\":\"3321\",\"type\":\"SaveTool\"},{\"attributes\":{},\"id\":\"3480\",\"type\":\"BasicTickFormatter\"},{\"attributes\":{\"axis\":{\"id\":\"3310\"},\"coordinates\":null,\"group\":null,\"ticker\":null},\"id\":\"3313\",\"type\":\"Grid\"},{\"attributes\":{},\"id\":\"3322\",\"type\":\"ResetTool\"},{\"attributes\":{},\"id\":\"3483\",\"type\":\"BasicTickFormatter\"},{\"attributes\":{},\"id\":\"3481\",\"type\":\"AllLabels\"},{\"attributes\":{\"coordinates\":null,\"group\":null,\"text\":\"Distribution of Average Word Length\"},\"id\":\"3300\",\"type\":\"Title\"},{\"attributes\":{\"source\":{\"id\":\"3332\"}},\"id\":\"3337\",\"type\":\"CDSView\"}],\"root_ids\":[\"3299\"]},\"title\":\"Bokeh Application\",\"version\":\"2.4.3\"}};\n",
       "  const render_items = [{\"docid\":\"11e78a2c-a099-4b05-a010-0480e8ea76a6\",\"root_ids\":[\"3299\"],\"roots\":{\"3299\":\"3408bb39-920e-4866-bf49-c0ec7f5a95f6\"}}];\n",
       "  root.Bokeh.embed.embed_items_notebook(docs_json, render_items);\n",
       "  }\n",
       "  if (root.Bokeh !== undefined) {\n",
       "    embed_document(root);\n",
       "  } else {\n",
       "    let attempts = 0;\n",
       "    const timer = setInterval(function(root) {\n",
       "      if (root.Bokeh !== undefined) {\n",
       "        clearInterval(timer);\n",
       "        embed_document(root);\n",
       "      } else {\n",
       "        attempts++;\n",
       "        if (attempts > 100) {\n",
       "          clearInterval(timer);\n",
       "          console.log(\"Bokeh: ERROR: Unable to run BokehJS code because BokehJS library is missing\");\n",
       "        }\n",
       "      }\n",
       "    }, 10, root)\n",
       "  }\n",
       "})(window);"
      ],
      "application/vnd.bokehjs_exec.v0+json": ""
     },
     "metadata": {
      "application/vnd.bokehjs_exec.v0+json": {
       "id": "3299"
      }
     },
     "output_type": "display_data"
    }
   ],
   "source": [
    "avg_word_len_x, avg_word_len_pdf = calc_pdf(avg_word_len, None, isdask=False)\n",
    "bokeh_dist(avg_word_len_x, avg_word_len_pdf, \n",
    "           x_label=\"Avg word len\", y_label=\"pdf\", pdf_color=\"mediumseagreen\", title=\"Distribution of Average Word Length\")"
   ]
  },
  {
   "cell_type": "markdown",
   "id": "53758aa9-8b8a-4b16-a790-d57b1a8b81e2",
   "metadata": {},
   "source": [
    "The distribution of average word length follows a normal distribution, which is quite evident as the distribution of mean should always follow one.\n",
    "\n",
    "So the questions for the text data are as follows:\n",
    "* Does the long reviews have negative sentiments or postive sentiments? \n",
    "* Does the long reviews affect the star rating? \n",
    "* Are long reviews any good?"
   ]
  },
  {
   "cell_type": "code",
   "execution_count": null,
   "id": "60f95824-de38-4b5f-b01a-a3c09a115ced",
   "metadata": {},
   "outputs": [],
   "source": []
  }
 ],
 "metadata": {
  "kernelspec": {
   "display_name": "Python 3 (ipykernel)",
   "language": "python",
   "name": "python3"
  },
  "language_info": {
   "codemirror_mode": {
    "name": "ipython",
    "version": 3
   },
   "file_extension": ".py",
   "mimetype": "text/x-python",
   "name": "python",
   "nbconvert_exporter": "python",
   "pygments_lexer": "ipython3",
   "version": "3.8.13"
  }
 },
 "nbformat": 4,
 "nbformat_minor": 5
}
