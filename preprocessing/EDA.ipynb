{
 "cells": [
  {
   "cell_type": "code",
   "execution_count": 1,
   "id": "a3d8b401-16fb-4e5e-81a0-8b0174e00c2a",
   "metadata": {
    "execution": {
     "iopub.execute_input": "2022-08-20T09:33:55.761614Z",
     "iopub.status.busy": "2022-08-20T09:33:55.760750Z",
     "iopub.status.idle": "2022-08-20T09:33:57.511279Z",
     "shell.execute_reply": "2022-08-20T09:33:57.510636Z",
     "shell.execute_reply.started": "2022-08-20T09:33:55.761484Z"
    },
    "tags": []
   },
   "outputs": [
    {
     "data": {
      "text/html": [
       "<div class=\"bk-root\">\n",
       "        <a href=\"https://bokeh.org\" target=\"_blank\" class=\"bk-logo bk-logo-small bk-logo-notebook\"></a>\n",
       "        <span id=\"1002\">Loading BokehJS ...</span>\n",
       "    </div>\n"
      ]
     },
     "metadata": {},
     "output_type": "display_data"
    },
    {
     "data": {
      "application/javascript": [
       "(function(root) {\n",
       "  function now() {\n",
       "    return new Date();\n",
       "  }\n",
       "\n",
       "  const force = true;\n",
       "\n",
       "  if (typeof root._bokeh_onload_callbacks === \"undefined\" || force === true) {\n",
       "    root._bokeh_onload_callbacks = [];\n",
       "    root._bokeh_is_loading = undefined;\n",
       "  }\n",
       "\n",
       "const JS_MIME_TYPE = 'application/javascript';\n",
       "  const HTML_MIME_TYPE = 'text/html';\n",
       "  const EXEC_MIME_TYPE = 'application/vnd.bokehjs_exec.v0+json';\n",
       "  const CLASS_NAME = 'output_bokeh rendered_html';\n",
       "\n",
       "  /**\n",
       "   * Render data to the DOM node\n",
       "   */\n",
       "  function render(props, node) {\n",
       "    const script = document.createElement(\"script\");\n",
       "    node.appendChild(script);\n",
       "  }\n",
       "\n",
       "  /**\n",
       "   * Handle when an output is cleared or removed\n",
       "   */\n",
       "  function handleClearOutput(event, handle) {\n",
       "    const cell = handle.cell;\n",
       "\n",
       "    const id = cell.output_area._bokeh_element_id;\n",
       "    const server_id = cell.output_area._bokeh_server_id;\n",
       "    // Clean up Bokeh references\n",
       "    if (id != null && id in Bokeh.index) {\n",
       "      Bokeh.index[id].model.document.clear();\n",
       "      delete Bokeh.index[id];\n",
       "    }\n",
       "\n",
       "    if (server_id !== undefined) {\n",
       "      // Clean up Bokeh references\n",
       "      const cmd_clean = \"from bokeh.io.state import curstate; print(curstate().uuid_to_server['\" + server_id + \"'].get_sessions()[0].document.roots[0]._id)\";\n",
       "      cell.notebook.kernel.execute(cmd_clean, {\n",
       "        iopub: {\n",
       "          output: function(msg) {\n",
       "            const id = msg.content.text.trim();\n",
       "            if (id in Bokeh.index) {\n",
       "              Bokeh.index[id].model.document.clear();\n",
       "              delete Bokeh.index[id];\n",
       "            }\n",
       "          }\n",
       "        }\n",
       "      });\n",
       "      // Destroy server and session\n",
       "      const cmd_destroy = \"import bokeh.io.notebook as ion; ion.destroy_server('\" + server_id + \"')\";\n",
       "      cell.notebook.kernel.execute(cmd_destroy);\n",
       "    }\n",
       "  }\n",
       "\n",
       "  /**\n",
       "   * Handle when a new output is added\n",
       "   */\n",
       "  function handleAddOutput(event, handle) {\n",
       "    const output_area = handle.output_area;\n",
       "    const output = handle.output;\n",
       "\n",
       "    // limit handleAddOutput to display_data with EXEC_MIME_TYPE content only\n",
       "    if ((output.output_type != \"display_data\") || (!Object.prototype.hasOwnProperty.call(output.data, EXEC_MIME_TYPE))) {\n",
       "      return\n",
       "    }\n",
       "\n",
       "    const toinsert = output_area.element.find(\".\" + CLASS_NAME.split(' ')[0]);\n",
       "\n",
       "    if (output.metadata[EXEC_MIME_TYPE][\"id\"] !== undefined) {\n",
       "      toinsert[toinsert.length - 1].firstChild.textContent = output.data[JS_MIME_TYPE];\n",
       "      // store reference to embed id on output_area\n",
       "      output_area._bokeh_element_id = output.metadata[EXEC_MIME_TYPE][\"id\"];\n",
       "    }\n",
       "    if (output.metadata[EXEC_MIME_TYPE][\"server_id\"] !== undefined) {\n",
       "      const bk_div = document.createElement(\"div\");\n",
       "      bk_div.innerHTML = output.data[HTML_MIME_TYPE];\n",
       "      const script_attrs = bk_div.children[0].attributes;\n",
       "      for (let i = 0; i < script_attrs.length; i++) {\n",
       "        toinsert[toinsert.length - 1].firstChild.setAttribute(script_attrs[i].name, script_attrs[i].value);\n",
       "        toinsert[toinsert.length - 1].firstChild.textContent = bk_div.children[0].textContent\n",
       "      }\n",
       "      // store reference to server id on output_area\n",
       "      output_area._bokeh_server_id = output.metadata[EXEC_MIME_TYPE][\"server_id\"];\n",
       "    }\n",
       "  }\n",
       "\n",
       "  function register_renderer(events, OutputArea) {\n",
       "\n",
       "    function append_mime(data, metadata, element) {\n",
       "      // create a DOM node to render to\n",
       "      const toinsert = this.create_output_subarea(\n",
       "        metadata,\n",
       "        CLASS_NAME,\n",
       "        EXEC_MIME_TYPE\n",
       "      );\n",
       "      this.keyboard_manager.register_events(toinsert);\n",
       "      // Render to node\n",
       "      const props = {data: data, metadata: metadata[EXEC_MIME_TYPE]};\n",
       "      render(props, toinsert[toinsert.length - 1]);\n",
       "      element.append(toinsert);\n",
       "      return toinsert\n",
       "    }\n",
       "\n",
       "    /* Handle when an output is cleared or removed */\n",
       "    events.on('clear_output.CodeCell', handleClearOutput);\n",
       "    events.on('delete.Cell', handleClearOutput);\n",
       "\n",
       "    /* Handle when a new output is added */\n",
       "    events.on('output_added.OutputArea', handleAddOutput);\n",
       "\n",
       "    /**\n",
       "     * Register the mime type and append_mime function with output_area\n",
       "     */\n",
       "    OutputArea.prototype.register_mime_type(EXEC_MIME_TYPE, append_mime, {\n",
       "      /* Is output safe? */\n",
       "      safe: true,\n",
       "      /* Index of renderer in `output_area.display_order` */\n",
       "      index: 0\n",
       "    });\n",
       "  }\n",
       "\n",
       "  // register the mime type if in Jupyter Notebook environment and previously unregistered\n",
       "  if (root.Jupyter !== undefined) {\n",
       "    const events = require('base/js/events');\n",
       "    const OutputArea = require('notebook/js/outputarea').OutputArea;\n",
       "\n",
       "    if (OutputArea.prototype.mime_types().indexOf(EXEC_MIME_TYPE) == -1) {\n",
       "      register_renderer(events, OutputArea);\n",
       "    }\n",
       "  }\n",
       "  if (typeof (root._bokeh_timeout) === \"undefined\" || force === true) {\n",
       "    root._bokeh_timeout = Date.now() + 5000;\n",
       "    root._bokeh_failed_load = false;\n",
       "  }\n",
       "\n",
       "  const NB_LOAD_WARNING = {'data': {'text/html':\n",
       "     \"<div style='background-color: #fdd'>\\n\"+\n",
       "     \"<p>\\n\"+\n",
       "     \"BokehJS does not appear to have successfully loaded. If loading BokehJS from CDN, this \\n\"+\n",
       "     \"may be due to a slow or bad network connection. Possible fixes:\\n\"+\n",
       "     \"</p>\\n\"+\n",
       "     \"<ul>\\n\"+\n",
       "     \"<li>re-rerun `output_notebook()` to attempt to load from CDN again, or</li>\\n\"+\n",
       "     \"<li>use INLINE resources instead, as so:</li>\\n\"+\n",
       "     \"</ul>\\n\"+\n",
       "     \"<code>\\n\"+\n",
       "     \"from bokeh.resources import INLINE\\n\"+\n",
       "     \"output_notebook(resources=INLINE)\\n\"+\n",
       "     \"</code>\\n\"+\n",
       "     \"</div>\"}};\n",
       "\n",
       "  function display_loaded() {\n",
       "    const el = document.getElementById(\"1002\");\n",
       "    if (el != null) {\n",
       "      el.textContent = \"BokehJS is loading...\";\n",
       "    }\n",
       "    if (root.Bokeh !== undefined) {\n",
       "      if (el != null) {\n",
       "        el.textContent = \"BokehJS \" + root.Bokeh.version + \" successfully loaded.\";\n",
       "      }\n",
       "    } else if (Date.now() < root._bokeh_timeout) {\n",
       "      setTimeout(display_loaded, 100)\n",
       "    }\n",
       "  }\n",
       "\n",
       "  function run_callbacks() {\n",
       "    try {\n",
       "      root._bokeh_onload_callbacks.forEach(function(callback) {\n",
       "        if (callback != null)\n",
       "          callback();\n",
       "      });\n",
       "    } finally {\n",
       "      delete root._bokeh_onload_callbacks\n",
       "    }\n",
       "    console.debug(\"Bokeh: all callbacks have finished\");\n",
       "  }\n",
       "\n",
       "  function load_libs(css_urls, js_urls, callback) {\n",
       "    if (css_urls == null) css_urls = [];\n",
       "    if (js_urls == null) js_urls = [];\n",
       "\n",
       "    root._bokeh_onload_callbacks.push(callback);\n",
       "    if (root._bokeh_is_loading > 0) {\n",
       "      console.debug(\"Bokeh: BokehJS is being loaded, scheduling callback at\", now());\n",
       "      return null;\n",
       "    }\n",
       "    if (js_urls == null || js_urls.length === 0) {\n",
       "      run_callbacks();\n",
       "      return null;\n",
       "    }\n",
       "    console.debug(\"Bokeh: BokehJS not loaded, scheduling load and callback at\", now());\n",
       "    root._bokeh_is_loading = css_urls.length + js_urls.length;\n",
       "\n",
       "    function on_load() {\n",
       "      root._bokeh_is_loading--;\n",
       "      if (root._bokeh_is_loading === 0) {\n",
       "        console.debug(\"Bokeh: all BokehJS libraries/stylesheets loaded\");\n",
       "        run_callbacks()\n",
       "      }\n",
       "    }\n",
       "\n",
       "    function on_error(url) {\n",
       "      console.error(\"failed to load \" + url);\n",
       "    }\n",
       "\n",
       "    for (let i = 0; i < css_urls.length; i++) {\n",
       "      const url = css_urls[i];\n",
       "      const element = document.createElement(\"link\");\n",
       "      element.onload = on_load;\n",
       "      element.onerror = on_error.bind(null, url);\n",
       "      element.rel = \"stylesheet\";\n",
       "      element.type = \"text/css\";\n",
       "      element.href = url;\n",
       "      console.debug(\"Bokeh: injecting link tag for BokehJS stylesheet: \", url);\n",
       "      document.body.appendChild(element);\n",
       "    }\n",
       "\n",
       "    for (let i = 0; i < js_urls.length; i++) {\n",
       "      const url = js_urls[i];\n",
       "      const element = document.createElement('script');\n",
       "      element.onload = on_load;\n",
       "      element.onerror = on_error.bind(null, url);\n",
       "      element.async = false;\n",
       "      element.src = url;\n",
       "      console.debug(\"Bokeh: injecting script tag for BokehJS library: \", url);\n",
       "      document.head.appendChild(element);\n",
       "    }\n",
       "  };\n",
       "\n",
       "  function inject_raw_css(css) {\n",
       "    const element = document.createElement(\"style\");\n",
       "    element.appendChild(document.createTextNode(css));\n",
       "    document.body.appendChild(element);\n",
       "  }\n",
       "\n",
       "  const js_urls = [\"https://cdn.bokeh.org/bokeh/release/bokeh-2.4.3.min.js\", \"https://cdn.bokeh.org/bokeh/release/bokeh-gl-2.4.3.min.js\", \"https://cdn.bokeh.org/bokeh/release/bokeh-widgets-2.4.3.min.js\", \"https://cdn.bokeh.org/bokeh/release/bokeh-tables-2.4.3.min.js\", \"https://cdn.bokeh.org/bokeh/release/bokeh-mathjax-2.4.3.min.js\"];\n",
       "  const css_urls = [];\n",
       "\n",
       "  const inline_js = [    function(Bokeh) {\n",
       "      Bokeh.set_log_level(\"info\");\n",
       "    },\n",
       "function(Bokeh) {\n",
       "    }\n",
       "  ];\n",
       "\n",
       "  function run_inline_js() {\n",
       "    if (root.Bokeh !== undefined || force === true) {\n",
       "          for (let i = 0; i < inline_js.length; i++) {\n",
       "      inline_js[i].call(root, root.Bokeh);\n",
       "    }\n",
       "if (force === true) {\n",
       "        display_loaded();\n",
       "      }} else if (Date.now() < root._bokeh_timeout) {\n",
       "      setTimeout(run_inline_js, 100);\n",
       "    } else if (!root._bokeh_failed_load) {\n",
       "      console.log(\"Bokeh: BokehJS failed to load within specified timeout.\");\n",
       "      root._bokeh_failed_load = true;\n",
       "    } else if (force !== true) {\n",
       "      const cell = $(document.getElementById(\"1002\")).parents('.cell').data().cell;\n",
       "      cell.output_area.append_execute_result(NB_LOAD_WARNING)\n",
       "    }\n",
       "  }\n",
       "\n",
       "  if (root._bokeh_is_loading === 0) {\n",
       "    console.debug(\"Bokeh: BokehJS loaded, going straight to plotting\");\n",
       "    run_inline_js();\n",
       "  } else {\n",
       "    load_libs(css_urls, js_urls, function() {\n",
       "      console.debug(\"Bokeh: BokehJS plotting callback run at\", now());\n",
       "      run_inline_js();\n",
       "    });\n",
       "  }\n",
       "}(window));"
      ],
      "application/vnd.bokehjs_load.v0+json": "(function(root) {\n  function now() {\n    return new Date();\n  }\n\n  const force = true;\n\n  if (typeof root._bokeh_onload_callbacks === \"undefined\" || force === true) {\n    root._bokeh_onload_callbacks = [];\n    root._bokeh_is_loading = undefined;\n  }\n\n\n  if (typeof (root._bokeh_timeout) === \"undefined\" || force === true) {\n    root._bokeh_timeout = Date.now() + 5000;\n    root._bokeh_failed_load = false;\n  }\n\n  const NB_LOAD_WARNING = {'data': {'text/html':\n     \"<div style='background-color: #fdd'>\\n\"+\n     \"<p>\\n\"+\n     \"BokehJS does not appear to have successfully loaded. If loading BokehJS from CDN, this \\n\"+\n     \"may be due to a slow or bad network connection. Possible fixes:\\n\"+\n     \"</p>\\n\"+\n     \"<ul>\\n\"+\n     \"<li>re-rerun `output_notebook()` to attempt to load from CDN again, or</li>\\n\"+\n     \"<li>use INLINE resources instead, as so:</li>\\n\"+\n     \"</ul>\\n\"+\n     \"<code>\\n\"+\n     \"from bokeh.resources import INLINE\\n\"+\n     \"output_notebook(resources=INLINE)\\n\"+\n     \"</code>\\n\"+\n     \"</div>\"}};\n\n  function display_loaded() {\n    const el = document.getElementById(\"1002\");\n    if (el != null) {\n      el.textContent = \"BokehJS is loading...\";\n    }\n    if (root.Bokeh !== undefined) {\n      if (el != null) {\n        el.textContent = \"BokehJS \" + root.Bokeh.version + \" successfully loaded.\";\n      }\n    } else if (Date.now() < root._bokeh_timeout) {\n      setTimeout(display_loaded, 100)\n    }\n  }\n\n  function run_callbacks() {\n    try {\n      root._bokeh_onload_callbacks.forEach(function(callback) {\n        if (callback != null)\n          callback();\n      });\n    } finally {\n      delete root._bokeh_onload_callbacks\n    }\n    console.debug(\"Bokeh: all callbacks have finished\");\n  }\n\n  function load_libs(css_urls, js_urls, callback) {\n    if (css_urls == null) css_urls = [];\n    if (js_urls == null) js_urls = [];\n\n    root._bokeh_onload_callbacks.push(callback);\n    if (root._bokeh_is_loading > 0) {\n      console.debug(\"Bokeh: BokehJS is being loaded, scheduling callback at\", now());\n      return null;\n    }\n    if (js_urls == null || js_urls.length === 0) {\n      run_callbacks();\n      return null;\n    }\n    console.debug(\"Bokeh: BokehJS not loaded, scheduling load and callback at\", now());\n    root._bokeh_is_loading = css_urls.length + js_urls.length;\n\n    function on_load() {\n      root._bokeh_is_loading--;\n      if (root._bokeh_is_loading === 0) {\n        console.debug(\"Bokeh: all BokehJS libraries/stylesheets loaded\");\n        run_callbacks()\n      }\n    }\n\n    function on_error(url) {\n      console.error(\"failed to load \" + url);\n    }\n\n    for (let i = 0; i < css_urls.length; i++) {\n      const url = css_urls[i];\n      const element = document.createElement(\"link\");\n      element.onload = on_load;\n      element.onerror = on_error.bind(null, url);\n      element.rel = \"stylesheet\";\n      element.type = \"text/css\";\n      element.href = url;\n      console.debug(\"Bokeh: injecting link tag for BokehJS stylesheet: \", url);\n      document.body.appendChild(element);\n    }\n\n    for (let i = 0; i < js_urls.length; i++) {\n      const url = js_urls[i];\n      const element = document.createElement('script');\n      element.onload = on_load;\n      element.onerror = on_error.bind(null, url);\n      element.async = false;\n      element.src = url;\n      console.debug(\"Bokeh: injecting script tag for BokehJS library: \", url);\n      document.head.appendChild(element);\n    }\n  };\n\n  function inject_raw_css(css) {\n    const element = document.createElement(\"style\");\n    element.appendChild(document.createTextNode(css));\n    document.body.appendChild(element);\n  }\n\n  const js_urls = [\"https://cdn.bokeh.org/bokeh/release/bokeh-2.4.3.min.js\", \"https://cdn.bokeh.org/bokeh/release/bokeh-gl-2.4.3.min.js\", \"https://cdn.bokeh.org/bokeh/release/bokeh-widgets-2.4.3.min.js\", \"https://cdn.bokeh.org/bokeh/release/bokeh-tables-2.4.3.min.js\", \"https://cdn.bokeh.org/bokeh/release/bokeh-mathjax-2.4.3.min.js\"];\n  const css_urls = [];\n\n  const inline_js = [    function(Bokeh) {\n      Bokeh.set_log_level(\"info\");\n    },\nfunction(Bokeh) {\n    }\n  ];\n\n  function run_inline_js() {\n    if (root.Bokeh !== undefined || force === true) {\n          for (let i = 0; i < inline_js.length; i++) {\n      inline_js[i].call(root, root.Bokeh);\n    }\nif (force === true) {\n        display_loaded();\n      }} else if (Date.now() < root._bokeh_timeout) {\n      setTimeout(run_inline_js, 100);\n    } else if (!root._bokeh_failed_load) {\n      console.log(\"Bokeh: BokehJS failed to load within specified timeout.\");\n      root._bokeh_failed_load = true;\n    } else if (force !== true) {\n      const cell = $(document.getElementById(\"1002\")).parents('.cell').data().cell;\n      cell.output_area.append_execute_result(NB_LOAD_WARNING)\n    }\n  }\n\n  if (root._bokeh_is_loading === 0) {\n    console.debug(\"Bokeh: BokehJS loaded, going straight to plotting\");\n    run_inline_js();\n  } else {\n    load_libs(css_urls, js_urls, function() {\n      console.debug(\"Bokeh: BokehJS plotting callback run at\", now());\n      run_inline_js();\n    });\n  }\n}(window));"
     },
     "metadata": {},
     "output_type": "display_data"
    }
   ],
   "source": [
    "import numpy as np\n",
    "import pandas as pd\n",
    "import dask.dataframe as dd\n",
    "import matplotlib.pyplot as plt\n",
    "import seaborn as sns\n",
    "import spacy\n",
    "import langid\n",
    "import os\n",
    "import sys\n",
    "import warnings\n",
    "\n",
    "from bokeh.plotting import figure, show, output_notebook\n",
    "\n",
    "warnings.filterwarnings('ignore')\n",
    "plt.style.use('fivethirtyeight')\n",
    "output_notebook()"
   ]
  },
  {
   "cell_type": "markdown",
   "id": "5566f007-7b86-4870-bde6-01a941606e1b",
   "metadata": {},
   "source": [
    "# Load Data"
   ]
  },
  {
   "cell_type": "code",
   "execution_count": 3,
   "id": "67cbfd48-e0e7-40a9-b18e-f21fa066ed68",
   "metadata": {
    "execution": {
     "iopub.execute_input": "2022-08-20T09:34:31.998278Z",
     "iopub.status.busy": "2022-08-20T09:34:31.997454Z",
     "iopub.status.idle": "2022-08-20T09:34:59.622873Z",
     "shell.execute_reply": "2022-08-20T09:34:59.606779Z",
     "shell.execute_reply.started": "2022-08-20T09:34:31.998228Z"
    },
    "tags": []
   },
   "outputs": [
    {
     "name": "stdout",
     "output_type": "stream",
     "text": [
      "CPU times: user 10.1 s, sys: 6.04 s, total: 16.1 s\n",
      "Wall time: 27.5 s\n"
     ]
    }
   ],
   "source": [
    "%%time\n",
    "# ddf = dd.read_parquet(\"processed_data/joined.parquet.snappy\", engine=\"pyarrow\")\n",
    "df = pd.read_parquet(\"processed_data/joined_data_lang_detected.parquet\")\n",
    "ddf = dd.from_pandas(df, npartitions=5)"
   ]
  },
  {
   "cell_type": "code",
   "execution_count": 4,
   "id": "c9aa9af3-dcb6-4670-84c2-27c07eac26ef",
   "metadata": {
    "execution": {
     "iopub.execute_input": "2022-08-20T09:35:18.031419Z",
     "iopub.status.busy": "2022-08-20T09:35:18.029474Z",
     "iopub.status.idle": "2022-08-20T09:35:18.255160Z",
     "shell.execute_reply": "2022-08-20T09:35:18.253440Z",
     "shell.execute_reply.started": "2022-08-20T09:35:18.031117Z"
    },
    "tags": []
   },
   "outputs": [
    {
     "data": {
      "text/html": [
       "<div>\n",
       "<style scoped>\n",
       "    .dataframe tbody tr th:only-of-type {\n",
       "        vertical-align: middle;\n",
       "    }\n",
       "\n",
       "    .dataframe tbody tr th {\n",
       "        vertical-align: top;\n",
       "    }\n",
       "\n",
       "    .dataframe thead th {\n",
       "        text-align: right;\n",
       "    }\n",
       "</style>\n",
       "<table border=\"1\" class=\"dataframe\">\n",
       "  <thead>\n",
       "    <tr style=\"text-align: right;\">\n",
       "      <th></th>\n",
       "      <th>r_id</th>\n",
       "      <th>b_id</th>\n",
       "      <th>u_id</th>\n",
       "      <th>r_stars</th>\n",
       "      <th>r_date</th>\n",
       "      <th>r_text</th>\n",
       "      <th>r_useful</th>\n",
       "      <th>r_funny</th>\n",
       "      <th>r_cool</th>\n",
       "      <th>b_stars</th>\n",
       "      <th>b_review_count</th>\n",
       "      <th>u_review_count</th>\n",
       "      <th>u_yelping_since</th>\n",
       "      <th>u_friends_count</th>\n",
       "      <th>is_english</th>\n",
       "    </tr>\n",
       "  </thead>\n",
       "  <tbody>\n",
       "    <tr>\n",
       "      <th>0</th>\n",
       "      <td>4</td>\n",
       "      <td>6317</td>\n",
       "      <td>164431</td>\n",
       "      <td>5</td>\n",
       "      <td>2015-01-04 00:01:03</td>\n",
       "      <td>Wow!  Yummy, different,  delicious.   Our favo...</td>\n",
       "      <td>1</td>\n",
       "      <td>0</td>\n",
       "      <td>1</td>\n",
       "      <td>4.0</td>\n",
       "      <td>181</td>\n",
       "      <td>9</td>\n",
       "      <td>2014-01-17 19:20:57</td>\n",
       "      <td>1</td>\n",
       "      <td>0</td>\n",
       "    </tr>\n",
       "    <tr>\n",
       "      <th>1</th>\n",
       "      <td>9</td>\n",
       "      <td>914</td>\n",
       "      <td>154297</td>\n",
       "      <td>3</td>\n",
       "      <td>2016-03-30 22:46:33</td>\n",
       "      <td>This easter instead of going to Lopez Lake we ...</td>\n",
       "      <td>1</td>\n",
       "      <td>1</td>\n",
       "      <td>0</td>\n",
       "      <td>4.5</td>\n",
       "      <td>13</td>\n",
       "      <td>24</td>\n",
       "      <td>2015-10-27 22:53:34</td>\n",
       "      <td>1</td>\n",
       "      <td>0</td>\n",
       "    </tr>\n",
       "    <tr>\n",
       "      <th>2</th>\n",
       "      <td>11</td>\n",
       "      <td>3877</td>\n",
       "      <td>35412</td>\n",
       "      <td>5</td>\n",
       "      <td>2015-06-21 14:48:06</td>\n",
       "      <td>My experience with Shalimar was nothing but wo...</td>\n",
       "      <td>2</td>\n",
       "      <td>0</td>\n",
       "      <td>0</td>\n",
       "      <td>2.5</td>\n",
       "      <td>8</td>\n",
       "      <td>39</td>\n",
       "      <td>2009-01-27 21:20:30</td>\n",
       "      <td>7</td>\n",
       "      <td>0</td>\n",
       "    </tr>\n",
       "    <tr>\n",
       "      <th>3</th>\n",
       "      <td>18</td>\n",
       "      <td>12041</td>\n",
       "      <td>21756</td>\n",
       "      <td>4</td>\n",
       "      <td>2014-08-10 19:41:43</td>\n",
       "      <td>The hubby and I have been here on multiple occ...</td>\n",
       "      <td>1</td>\n",
       "      <td>0</td>\n",
       "      <td>0</td>\n",
       "      <td>4.0</td>\n",
       "      <td>398</td>\n",
       "      <td>74</td>\n",
       "      <td>2009-07-24 14:30:28</td>\n",
       "      <td>112</td>\n",
       "      <td>0</td>\n",
       "    </tr>\n",
       "    <tr>\n",
       "      <th>4</th>\n",
       "      <td>19</td>\n",
       "      <td>295</td>\n",
       "      <td>80128</td>\n",
       "      <td>5</td>\n",
       "      <td>2016-03-07 00:02:18</td>\n",
       "      <td>I go to blow bar to get my brows done by natal...</td>\n",
       "      <td>2</td>\n",
       "      <td>0</td>\n",
       "      <td>1</td>\n",
       "      <td>4.0</td>\n",
       "      <td>55</td>\n",
       "      <td>27</td>\n",
       "      <td>2012-02-26 05:18:05</td>\n",
       "      <td>8</td>\n",
       "      <td>0</td>\n",
       "    </tr>\n",
       "  </tbody>\n",
       "</table>\n",
       "</div>"
      ],
      "text/plain": [
       "  r_id   b_id    u_id  r_stars              r_date  \\\n",
       "0    4   6317  164431        5 2015-01-04 00:01:03   \n",
       "1    9    914  154297        3 2016-03-30 22:46:33   \n",
       "2   11   3877   35412        5 2015-06-21 14:48:06   \n",
       "3   18  12041   21756        4 2014-08-10 19:41:43   \n",
       "4   19    295   80128        5 2016-03-07 00:02:18   \n",
       "\n",
       "                                              r_text  r_useful  r_funny  \\\n",
       "0  Wow!  Yummy, different,  delicious.   Our favo...         1        0   \n",
       "1  This easter instead of going to Lopez Lake we ...         1        1   \n",
       "2  My experience with Shalimar was nothing but wo...         2        0   \n",
       "3  The hubby and I have been here on multiple occ...         1        0   \n",
       "4  I go to blow bar to get my brows done by natal...         2        0   \n",
       "\n",
       "   r_cool  b_stars  b_review_count  u_review_count     u_yelping_since  \\\n",
       "0       1      4.0             181               9 2014-01-17 19:20:57   \n",
       "1       0      4.5              13              24 2015-10-27 22:53:34   \n",
       "2       0      2.5               8              39 2009-01-27 21:20:30   \n",
       "3       0      4.0             398              74 2009-07-24 14:30:28   \n",
       "4       1      4.0              55              27 2012-02-26 05:18:05   \n",
       "\n",
       "   u_friends_count  is_english  \n",
       "0                1           0  \n",
       "1                1           0  \n",
       "2                7           0  \n",
       "3              112           0  \n",
       "4                8           0  "
      ]
     },
     "execution_count": 4,
     "metadata": {},
     "output_type": "execute_result"
    }
   ],
   "source": [
    "ddf.head()\n",
    "# df.head()"
   ]
  },
  {
   "cell_type": "markdown",
   "id": "8cc4f3aa-e8f3-4774-932c-abff6106c37b",
   "metadata": {},
   "source": [
    "# Basic EDA"
   ]
  },
  {
   "cell_type": "markdown",
   "id": "2345c0ba-12c0-469e-9f00-b72282d5c7cf",
   "metadata": {},
   "source": [
    "## Dataset Statisitics"
   ]
  },
  {
   "cell_type": "code",
   "execution_count": 5,
   "id": "88d98f31-5253-4fa7-b576-9535bf7bf607",
   "metadata": {
    "execution": {
     "iopub.execute_input": "2022-08-20T09:35:21.699663Z",
     "iopub.status.busy": "2022-08-20T09:35:21.698129Z",
     "iopub.status.idle": "2022-08-20T09:35:24.838070Z",
     "shell.execute_reply": "2022-08-20T09:35:24.837526Z",
     "shell.execute_reply.started": "2022-08-20T09:35:21.699583Z"
    },
    "tags": []
   },
   "outputs": [
    {
     "data": {
      "text/html": [
       "<div>\n",
       "<style scoped>\n",
       "    .dataframe tbody tr th:only-of-type {\n",
       "        vertical-align: middle;\n",
       "    }\n",
       "\n",
       "    .dataframe tbody tr th {\n",
       "        vertical-align: top;\n",
       "    }\n",
       "\n",
       "    .dataframe thead th {\n",
       "        text-align: right;\n",
       "    }\n",
       "</style>\n",
       "<table border=\"1\" class=\"dataframe\">\n",
       "  <thead>\n",
       "    <tr style=\"text-align: right;\">\n",
       "      <th></th>\n",
       "      <th>b_id</th>\n",
       "      <th>u_id</th>\n",
       "      <th>r_stars</th>\n",
       "      <th>r_useful</th>\n",
       "      <th>r_funny</th>\n",
       "      <th>r_cool</th>\n",
       "      <th>b_stars</th>\n",
       "      <th>b_review_count</th>\n",
       "      <th>u_review_count</th>\n",
       "      <th>u_friends_count</th>\n",
       "      <th>is_english</th>\n",
       "    </tr>\n",
       "  </thead>\n",
       "  <tbody>\n",
       "    <tr>\n",
       "      <th>count</th>\n",
       "      <td>2.576655e+06</td>\n",
       "      <td>2.576655e+06</td>\n",
       "      <td>2.576655e+06</td>\n",
       "      <td>2.576655e+06</td>\n",
       "      <td>2.576655e+06</td>\n",
       "      <td>2.576655e+06</td>\n",
       "      <td>2.576655e+06</td>\n",
       "      <td>2.576655e+06</td>\n",
       "      <td>2.576655e+06</td>\n",
       "      <td>2.576655e+06</td>\n",
       "      <td>2.576655e+06</td>\n",
       "    </tr>\n",
       "    <tr>\n",
       "      <th>mean</th>\n",
       "      <td>7.479263e+04</td>\n",
       "      <td>4.266285e+05</td>\n",
       "      <td>3.607624e+00</td>\n",
       "      <td>2.651250e+00</td>\n",
       "      <td>6.412120e-01</td>\n",
       "      <td>1.038119e+00</td>\n",
       "      <td>3.742953e+00</td>\n",
       "      <td>3.369155e+02</td>\n",
       "      <td>1.913309e+02</td>\n",
       "      <td>1.890629e+02</td>\n",
       "      <td>3.182421e-04</td>\n",
       "    </tr>\n",
       "    <tr>\n",
       "      <th>std</th>\n",
       "      <td>4.357554e+04</td>\n",
       "      <td>4.963609e+05</td>\n",
       "      <td>1.538495e+00</td>\n",
       "      <td>4.625320e+00</td>\n",
       "      <td>2.446789e+00</td>\n",
       "      <td>3.283233e+00</td>\n",
       "      <td>7.945866e-01</td>\n",
       "      <td>6.658551e+02</td>\n",
       "      <td>4.975412e+02</td>\n",
       "      <td>5.674223e+02</td>\n",
       "      <td>1.783650e-02</td>\n",
       "    </tr>\n",
       "    <tr>\n",
       "      <th>min</th>\n",
       "      <td>2.000000e+00</td>\n",
       "      <td>1.000000e+00</td>\n",
       "      <td>1.000000e+00</td>\n",
       "      <td>-1.000000e+00</td>\n",
       "      <td>-1.000000e+00</td>\n",
       "      <td>-1.000000e+00</td>\n",
       "      <td>1.000000e+00</td>\n",
       "      <td>5.000000e+00</td>\n",
       "      <td>0.000000e+00</td>\n",
       "      <td>1.000000e+00</td>\n",
       "      <td>0.000000e+00</td>\n",
       "    </tr>\n",
       "    <tr>\n",
       "      <th>25%</th>\n",
       "      <td>3.678200e+04</td>\n",
       "      <td>6.111600e+04</td>\n",
       "      <td>2.000000e+00</td>\n",
       "      <td>1.000000e+00</td>\n",
       "      <td>0.000000e+00</td>\n",
       "      <td>0.000000e+00</td>\n",
       "      <td>3.500000e+00</td>\n",
       "      <td>4.100000e+01</td>\n",
       "      <td>1.100000e+01</td>\n",
       "      <td>2.000000e+00</td>\n",
       "      <td>0.000000e+00</td>\n",
       "    </tr>\n",
       "    <tr>\n",
       "      <th>50%</th>\n",
       "      <td>7.491900e+04</td>\n",
       "      <td>2.418490e+05</td>\n",
       "      <td>4.000000e+00</td>\n",
       "      <td>2.000000e+00</td>\n",
       "      <td>0.000000e+00</td>\n",
       "      <td>0.000000e+00</td>\n",
       "      <td>4.000000e+00</td>\n",
       "      <td>1.300000e+02</td>\n",
       "      <td>4.600000e+01</td>\n",
       "      <td>4.100000e+01</td>\n",
       "      <td>0.000000e+00</td>\n",
       "    </tr>\n",
       "    <tr>\n",
       "      <th>75%</th>\n",
       "      <td>1.127330e+05</td>\n",
       "      <td>8.525820e+05</td>\n",
       "      <td>5.000000e+00</td>\n",
       "      <td>3.000000e+00</td>\n",
       "      <td>1.000000e+00</td>\n",
       "      <td>1.000000e+00</td>\n",
       "      <td>4.500000e+00</td>\n",
       "      <td>3.740000e+02</td>\n",
       "      <td>1.820000e+02</td>\n",
       "      <td>1.710000e+02</td>\n",
       "      <td>0.000000e+00</td>\n",
       "    </tr>\n",
       "    <tr>\n",
       "      <th>max</th>\n",
       "      <td>1.503460e+05</td>\n",
       "      <td>1.987895e+06</td>\n",
       "      <td>5.000000e+00</td>\n",
       "      <td>1.182000e+03</td>\n",
       "      <td>7.920000e+02</td>\n",
       "      <td>4.040000e+02</td>\n",
       "      <td>5.000000e+00</td>\n",
       "      <td>7.568000e+03</td>\n",
       "      <td>1.747300e+04</td>\n",
       "      <td>1.499500e+04</td>\n",
       "      <td>1.000000e+00</td>\n",
       "    </tr>\n",
       "  </tbody>\n",
       "</table>\n",
       "</div>"
      ],
      "text/plain": [
       "               b_id          u_id       r_stars      r_useful       r_funny  \\\n",
       "count  2.576655e+06  2.576655e+06  2.576655e+06  2.576655e+06  2.576655e+06   \n",
       "mean   7.479263e+04  4.266285e+05  3.607624e+00  2.651250e+00  6.412120e-01   \n",
       "std    4.357554e+04  4.963609e+05  1.538495e+00  4.625320e+00  2.446789e+00   \n",
       "min    2.000000e+00  1.000000e+00  1.000000e+00 -1.000000e+00 -1.000000e+00   \n",
       "25%    3.678200e+04  6.111600e+04  2.000000e+00  1.000000e+00  0.000000e+00   \n",
       "50%    7.491900e+04  2.418490e+05  4.000000e+00  2.000000e+00  0.000000e+00   \n",
       "75%    1.127330e+05  8.525820e+05  5.000000e+00  3.000000e+00  1.000000e+00   \n",
       "max    1.503460e+05  1.987895e+06  5.000000e+00  1.182000e+03  7.920000e+02   \n",
       "\n",
       "             r_cool       b_stars  b_review_count  u_review_count  \\\n",
       "count  2.576655e+06  2.576655e+06    2.576655e+06    2.576655e+06   \n",
       "mean   1.038119e+00  3.742953e+00    3.369155e+02    1.913309e+02   \n",
       "std    3.283233e+00  7.945866e-01    6.658551e+02    4.975412e+02   \n",
       "min   -1.000000e+00  1.000000e+00    5.000000e+00    0.000000e+00   \n",
       "25%    0.000000e+00  3.500000e+00    4.100000e+01    1.100000e+01   \n",
       "50%    0.000000e+00  4.000000e+00    1.300000e+02    4.600000e+01   \n",
       "75%    1.000000e+00  4.500000e+00    3.740000e+02    1.820000e+02   \n",
       "max    4.040000e+02  5.000000e+00    7.568000e+03    1.747300e+04   \n",
       "\n",
       "       u_friends_count    is_english  \n",
       "count     2.576655e+06  2.576655e+06  \n",
       "mean      1.890629e+02  3.182421e-04  \n",
       "std       5.674223e+02  1.783650e-02  \n",
       "min       1.000000e+00  0.000000e+00  \n",
       "25%       2.000000e+00  0.000000e+00  \n",
       "50%       4.100000e+01  0.000000e+00  \n",
       "75%       1.710000e+02  0.000000e+00  \n",
       "max       1.499500e+04  1.000000e+00  "
      ]
     },
     "execution_count": 5,
     "metadata": {},
     "output_type": "execute_result"
    }
   ],
   "source": [
    "ddf.describe().compute()\n",
    "# df.describe()"
   ]
  },
  {
   "cell_type": "code",
   "execution_count": 6,
   "id": "2890bf54-411e-46ee-9ecf-42d963680d20",
   "metadata": {
    "execution": {
     "iopub.execute_input": "2022-08-20T09:35:24.839722Z",
     "iopub.status.busy": "2022-08-20T09:35:24.839354Z",
     "iopub.status.idle": "2022-08-20T09:35:24.847569Z",
     "shell.execute_reply": "2022-08-20T09:35:24.846568Z",
     "shell.execute_reply.started": "2022-08-20T09:35:24.839690Z"
    },
    "tags": []
   },
   "outputs": [
    {
     "name": "stdout",
     "output_type": "stream",
     "text": [
      "<class 'dask.dataframe.core.DataFrame'>\n",
      "Columns: 15 entries, r_id to is_english\n",
      "dtypes: datetime64[ns](2), object(2), float64(1), int64(10)"
     ]
    }
   ],
   "source": [
    "ddf.info()"
   ]
  },
  {
   "cell_type": "markdown",
   "id": "da2f1f37-c1ca-4658-b9b3-905b1f026fbd",
   "metadata": {},
   "source": [
    "## Missing Data Information"
   ]
  },
  {
   "cell_type": "code",
   "execution_count": 7,
   "id": "537f85ab-3ff4-4f62-a560-20dd6f882317",
   "metadata": {
    "execution": {
     "iopub.execute_input": "2022-08-20T09:35:24.849120Z",
     "iopub.status.busy": "2022-08-20T09:35:24.848665Z",
     "iopub.status.idle": "2022-08-20T09:35:27.074622Z",
     "shell.execute_reply": "2022-08-20T09:35:27.073851Z",
     "shell.execute_reply.started": "2022-08-20T09:35:24.849087Z"
    },
    "tags": []
   },
   "outputs": [
    {
     "data": {
      "text/html": [
       "<div>\n",
       "<style scoped>\n",
       "    .dataframe tbody tr th:only-of-type {\n",
       "        vertical-align: middle;\n",
       "    }\n",
       "\n",
       "    .dataframe tbody tr th {\n",
       "        vertical-align: top;\n",
       "    }\n",
       "\n",
       "    .dataframe thead th {\n",
       "        text-align: right;\n",
       "    }\n",
       "</style>\n",
       "<table border=\"1\" class=\"dataframe\">\n",
       "  <thead>\n",
       "    <tr style=\"text-align: right;\">\n",
       "      <th></th>\n",
       "      <th>fraction_missing</th>\n",
       "    </tr>\n",
       "  </thead>\n",
       "  <tbody>\n",
       "    <tr>\n",
       "      <th>r_id</th>\n",
       "      <td>0.0</td>\n",
       "    </tr>\n",
       "    <tr>\n",
       "      <th>b_id</th>\n",
       "      <td>0.0</td>\n",
       "    </tr>\n",
       "    <tr>\n",
       "      <th>u_id</th>\n",
       "      <td>0.0</td>\n",
       "    </tr>\n",
       "    <tr>\n",
       "      <th>r_stars</th>\n",
       "      <td>0.0</td>\n",
       "    </tr>\n",
       "    <tr>\n",
       "      <th>r_date</th>\n",
       "      <td>0.0</td>\n",
       "    </tr>\n",
       "    <tr>\n",
       "      <th>r_text</th>\n",
       "      <td>0.0</td>\n",
       "    </tr>\n",
       "    <tr>\n",
       "      <th>r_useful</th>\n",
       "      <td>0.0</td>\n",
       "    </tr>\n",
       "    <tr>\n",
       "      <th>r_funny</th>\n",
       "      <td>0.0</td>\n",
       "    </tr>\n",
       "    <tr>\n",
       "      <th>r_cool</th>\n",
       "      <td>0.0</td>\n",
       "    </tr>\n",
       "    <tr>\n",
       "      <th>b_stars</th>\n",
       "      <td>0.0</td>\n",
       "    </tr>\n",
       "    <tr>\n",
       "      <th>b_review_count</th>\n",
       "      <td>0.0</td>\n",
       "    </tr>\n",
       "    <tr>\n",
       "      <th>u_review_count</th>\n",
       "      <td>0.0</td>\n",
       "    </tr>\n",
       "    <tr>\n",
       "      <th>u_yelping_since</th>\n",
       "      <td>0.0</td>\n",
       "    </tr>\n",
       "    <tr>\n",
       "      <th>u_friends_count</th>\n",
       "      <td>0.0</td>\n",
       "    </tr>\n",
       "    <tr>\n",
       "      <th>is_english</th>\n",
       "      <td>0.0</td>\n",
       "    </tr>\n",
       "  </tbody>\n",
       "</table>\n",
       "</div>"
      ],
      "text/plain": [
       "                 fraction_missing\n",
       "r_id                          0.0\n",
       "b_id                          0.0\n",
       "u_id                          0.0\n",
       "r_stars                       0.0\n",
       "r_date                        0.0\n",
       "r_text                        0.0\n",
       "r_useful                      0.0\n",
       "r_funny                       0.0\n",
       "r_cool                        0.0\n",
       "b_stars                       0.0\n",
       "b_review_count                0.0\n",
       "u_review_count                0.0\n",
       "u_yelping_since               0.0\n",
       "u_friends_count               0.0\n",
       "is_english                    0.0"
      ]
     },
     "execution_count": 7,
     "metadata": {},
     "output_type": "execute_result"
    }
   ],
   "source": [
    "pd.DataFrame(ddf.isna().sum().compute() / ddf.isna().count().compute(), columns=[\"fraction_missing\"])\n",
    "# pd.DataFrame(df.isna().sum()/ df.isna().count(), columns=[\"fraction_missing\"])"
   ]
  },
  {
   "cell_type": "markdown",
   "id": "67ae0c4f-51c0-4487-8604-528cbb931243",
   "metadata": {},
   "source": [
    "## Histogram of review stars"
   ]
  },
  {
   "cell_type": "code",
   "execution_count": 8,
   "id": "83b3bf3b-8cbc-4e21-bd8f-3bf6de2a558f",
   "metadata": {
    "execution": {
     "iopub.execute_input": "2022-08-20T09:35:27.077253Z",
     "iopub.status.busy": "2022-08-20T09:35:27.076712Z",
     "iopub.status.idle": "2022-08-20T09:35:27.098121Z",
     "shell.execute_reply": "2022-08-20T09:35:27.097009Z",
     "shell.execute_reply.started": "2022-08-20T09:35:27.077219Z"
    },
    "tags": []
   },
   "outputs": [],
   "source": [
    "def bokeh_hist(hist, edges, **kwargs):\n",
    "    \"\"\" Function to plot the histogram in Bokeh \"\"\"\n",
    "    x = kwargs.get('x', None)\n",
    "    pdf = kwargs.get('pdf', None)\n",
    "    cdf = kwargs.get('cdf', None)\n",
    "    title = kwargs.get('title', \"Title\")\n",
    "    height = kwargs.get('height', 350)\n",
    "    \n",
    "    p = figure(height=height, title=title, x_axis_label=kwargs.get(\"x_label\", \"x\"), y_axis_label=kwargs.get(\"y_label\", \"y\"),\n",
    "              y_axis_type=kwargs.get(\"y_axis_type\", \"linear\"), y_range=kwargs.get(\"y_range\", None))\n",
    "    \n",
    "    p.quad(bottom=0, top=hist, left=edges[:-1], right=edges[1:], fill_color=kwargs.get('fill_color', 'navy'), \n",
    "           line_color=kwargs.get('line_color', 'white'), \n",
    "           alpha=kwargs.get('alpha', 0.5))\n",
    "    \n",
    "    if pdf is not None and x is not None:\n",
    "        p.line(x, pdf, line_color=kwargs.get('pdf_color', 'darkorange'), legend=\"PDF\")\n",
    "        \n",
    "    if cdf is not None and x is not None:\n",
    "        p.line(x, cdf, line_color=kwargs.get('cdf_color', 'forestgreen'), legend=\"CDF\")\n",
    "   \n",
    "    p.legend.location = \"center_right\"\n",
    "    show(p)\n",
    "    \n",
    "    \n",
    "def bokeh_dist(x, pdf, **kwargs):\n",
    "    \"\"\" Function to plot the distribution in Bokeh \"\"\"\n",
    "    \n",
    "    title = kwargs.get('title', \"Title\")\n",
    "    height = kwargs.get('height', 350)\n",
    "\n",
    "    p = figure(height=height, title=title, x_axis_label=kwargs.get(\"x_label\", \"x\"), y_axis_label=kwargs.get(\"y_label\", \"y\"))\n",
    "\n",
    "    p.line(x, pdf, line_color=kwargs.get('pdf_color', 'navy'), line_width=kwargs.get('line_width', 1.0))\n",
    "    show(p)"
   ]
  },
  {
   "cell_type": "code",
   "execution_count": 9,
   "id": "0be17034-7706-4178-b67e-dad234c42378",
   "metadata": {
    "execution": {
     "iopub.execute_input": "2022-08-20T09:35:27.099454Z",
     "iopub.status.busy": "2022-08-20T09:35:27.099205Z",
     "iopub.status.idle": "2022-08-20T09:35:27.232566Z",
     "shell.execute_reply": "2022-08-20T09:35:27.231707Z",
     "shell.execute_reply.started": "2022-08-20T09:35:27.099434Z"
    },
    "tags": []
   },
   "outputs": [
    {
     "data": {
      "text/html": [
       "\n",
       "  <div class=\"bk-root\" id=\"3b87cb1d-6626-4fe4-b1f1-dd87b9112d89\" data-root-id=\"1003\"></div>\n"
      ]
     },
     "metadata": {},
     "output_type": "display_data"
    },
    {
     "data": {
      "application/javascript": [
       "(function(root) {\n",
       "  function embed_document(root) {\n",
       "  const docs_json = {\"dadce419-4461-4e74-9712-9749e99172ec\":{\"defs\":[],\"roots\":{\"references\":[{\"attributes\":{\"below\":[{\"id\":\"1014\"}],\"center\":[{\"id\":\"1017\"},{\"id\":\"1021\"}],\"height\":350,\"left\":[{\"id\":\"1018\"}],\"renderers\":[{\"id\":\"1040\"}],\"title\":{\"id\":\"1004\"},\"toolbar\":{\"id\":\"1029\"},\"x_range\":{\"id\":\"1006\"},\"x_scale\":{\"id\":\"1010\"},\"y_range\":{\"id\":\"1008\"},\"y_scale\":{\"id\":\"1012\"}},\"id\":\"1003\",\"subtype\":\"Figure\",\"type\":\"Plot\"},{\"attributes\":{\"axis_label\":\"review stars\",\"coordinates\":null,\"formatter\":{\"id\":\"1047\"},\"group\":null,\"major_label_policy\":{\"id\":\"1048\"},\"ticker\":{\"id\":\"1015\"}},\"id\":\"1014\",\"type\":\"LinearAxis\"},{\"attributes\":{\"coordinates\":null,\"group\":null,\"text\":\"Distribution of review stars\"},\"id\":\"1004\",\"type\":\"Title\"},{\"attributes\":{\"bottom\":{\"value\":0},\"fill_alpha\":{\"value\":0.85},\"fill_color\":{\"value\":\"navy\"},\"hatch_alpha\":{\"value\":0.85},\"left\":{\"field\":\"left\"},\"line_alpha\":{\"value\":0.85},\"line_color\":{\"value\":\"white\"},\"right\":{\"field\":\"right\"},\"top\":{\"field\":\"top\"}},\"id\":\"1037\",\"type\":\"Quad\"},{\"attributes\":{},\"id\":\"1015\",\"type\":\"BasicTicker\"},{\"attributes\":{},\"id\":\"1010\",\"type\":\"LinearScale\"},{\"attributes\":{},\"id\":\"1044\",\"type\":\"BasicTickFormatter\"},{\"attributes\":{},\"id\":\"1012\",\"type\":\"LinearScale\"},{\"attributes\":{\"axis\":{\"id\":\"1014\"},\"coordinates\":null,\"group\":null,\"ticker\":null},\"id\":\"1017\",\"type\":\"Grid\"},{\"attributes\":{},\"id\":\"1049\",\"type\":\"UnionRenderers\"},{\"attributes\":{},\"id\":\"1023\",\"type\":\"WheelZoomTool\"},{\"attributes\":{\"axis\":{\"id\":\"1018\"},\"coordinates\":null,\"dimension\":1,\"group\":null,\"ticker\":null},\"id\":\"1021\",\"type\":\"Grid\"},{\"attributes\":{},\"id\":\"1022\",\"type\":\"PanTool\"},{\"attributes\":{\"axis_label\":\"frequency\",\"coordinates\":null,\"formatter\":{\"id\":\"1044\"},\"group\":null,\"major_label_policy\":{\"id\":\"1045\"},\"ticker\":{\"id\":\"1019\"}},\"id\":\"1018\",\"type\":\"LinearAxis\"},{\"attributes\":{},\"id\":\"1006\",\"type\":\"DataRange1d\"},{\"attributes\":{\"bottom\":{\"value\":0},\"fill_alpha\":{\"value\":0.1},\"fill_color\":{\"value\":\"navy\"},\"hatch_alpha\":{\"value\":0.1},\"left\":{\"field\":\"left\"},\"line_alpha\":{\"value\":0.1},\"line_color\":{\"value\":\"white\"},\"right\":{\"field\":\"right\"},\"top\":{\"field\":\"top\"}},\"id\":\"1038\",\"type\":\"Quad\"},{\"attributes\":{},\"id\":\"1027\",\"type\":\"HelpTool\"},{\"attributes\":{\"overlay\":{\"id\":\"1028\"}},\"id\":\"1024\",\"type\":\"BoxZoomTool\"},{\"attributes\":{\"data\":{\"left\":{\"__ndarray__\":\"AAAAAAAA8D8AAAAAAAAAQAAAAAAAAAhAAAAAAAAAEEA=\",\"dtype\":\"float64\",\"order\":\"little\",\"shape\":[4]},\"right\":{\"__ndarray__\":\"AAAAAAAAAEAAAAAAAAAIQAAAAAAAABBAAAAAAAAAFEA=\",\"dtype\":\"float64\",\"order\":\"little\",\"shape\":[4]},\"top\":[476442,214345,251599,1634269]},\"selected\":{\"id\":\"1050\"},\"selection_policy\":{\"id\":\"1049\"}},\"id\":\"1036\",\"type\":\"ColumnDataSource\"},{\"attributes\":{},\"id\":\"1019\",\"type\":\"BasicTicker\"},{\"attributes\":{\"bottom_units\":\"screen\",\"coordinates\":null,\"fill_alpha\":0.5,\"fill_color\":\"lightgrey\",\"group\":null,\"left_units\":\"screen\",\"level\":\"overlay\",\"line_alpha\":1.0,\"line_color\":\"black\",\"line_dash\":[4,4],\"line_width\":2,\"right_units\":\"screen\",\"syncable\":false,\"top_units\":\"screen\"},\"id\":\"1028\",\"type\":\"BoxAnnotation\"},{\"attributes\":{\"source\":{\"id\":\"1036\"}},\"id\":\"1041\",\"type\":\"CDSView\"},{\"attributes\":{},\"id\":\"1008\",\"type\":\"DataRange1d\"},{\"attributes\":{\"coordinates\":null,\"data_source\":{\"id\":\"1036\"},\"glyph\":{\"id\":\"1037\"},\"group\":null,\"hover_glyph\":null,\"muted_glyph\":{\"id\":\"1039\"},\"nonselection_glyph\":{\"id\":\"1038\"},\"view\":{\"id\":\"1041\"}},\"id\":\"1040\",\"type\":\"GlyphRenderer\"},{\"attributes\":{},\"id\":\"1026\",\"type\":\"ResetTool\"},{\"attributes\":{\"bottom\":{\"value\":0},\"fill_alpha\":{\"value\":0.2},\"fill_color\":{\"value\":\"navy\"},\"hatch_alpha\":{\"value\":0.2},\"left\":{\"field\":\"left\"},\"line_alpha\":{\"value\":0.2},\"line_color\":{\"value\":\"white\"},\"right\":{\"field\":\"right\"},\"top\":{\"field\":\"top\"}},\"id\":\"1039\",\"type\":\"Quad\"},{\"attributes\":{},\"id\":\"1025\",\"type\":\"SaveTool\"},{\"attributes\":{\"tools\":[{\"id\":\"1022\"},{\"id\":\"1023\"},{\"id\":\"1024\"},{\"id\":\"1025\"},{\"id\":\"1026\"},{\"id\":\"1027\"}]},\"id\":\"1029\",\"type\":\"Toolbar\"},{\"attributes\":{},\"id\":\"1045\",\"type\":\"AllLabels\"},{\"attributes\":{},\"id\":\"1050\",\"type\":\"Selection\"},{\"attributes\":{},\"id\":\"1048\",\"type\":\"AllLabels\"},{\"attributes\":{},\"id\":\"1047\",\"type\":\"BasicTickFormatter\"}],\"root_ids\":[\"1003\"]},\"title\":\"Bokeh Application\",\"version\":\"2.4.3\"}};\n",
       "  const render_items = [{\"docid\":\"dadce419-4461-4e74-9712-9749e99172ec\",\"root_ids\":[\"1003\"],\"roots\":{\"1003\":\"3b87cb1d-6626-4fe4-b1f1-dd87b9112d89\"}}];\n",
       "  root.Bokeh.embed.embed_items_notebook(docs_json, render_items);\n",
       "  }\n",
       "  if (root.Bokeh !== undefined) {\n",
       "    embed_document(root);\n",
       "  } else {\n",
       "    let attempts = 0;\n",
       "    const timer = setInterval(function(root) {\n",
       "      if (root.Bokeh !== undefined) {\n",
       "        clearInterval(timer);\n",
       "        embed_document(root);\n",
       "      } else {\n",
       "        attempts++;\n",
       "        if (attempts > 100) {\n",
       "          clearInterval(timer);\n",
       "          console.log(\"Bokeh: ERROR: Unable to run BokehJS code because BokehJS library is missing\");\n",
       "        }\n",
       "      }\n",
       "    }, 10, root)\n",
       "  }\n",
       "})(window);"
      ],
      "application/vnd.bokehjs_exec.v0+json": ""
     },
     "metadata": {
      "application/vnd.bokehjs_exec.v0+json": {
       "id": "1003"
      }
     },
     "output_type": "display_data"
    }
   ],
   "source": [
    "r_star_hist, r_star_edge = np.histogram(ddf[\"r_stars\"].compute().values, bins=4, range=(1, 5))\n",
    "# r_star_hist, r_star_edge = np.histogram(df[\"r_stars\"].values, bins=4, range=(1, 5))\n",
    "bokeh_hist(r_star_hist, r_star_edge, title=\"Distribution of review stars\", x_label=\"review stars\", y_label=\"frequency\", alpha=0.85)"
   ]
  },
  {
   "cell_type": "markdown",
   "id": "72f99834-a7d9-43f9-99df-6a41c9d0731c",
   "metadata": {},
   "source": [
    "As per the above histogram, the data consists of reviews mostly of ratings between $4$ and $5$. Second to that are the reviews with ratings between $1$ and $2$."
   ]
  },
  {
   "cell_type": "markdown",
   "id": "10e599ad-788b-42ea-afe6-ca821f92e313",
   "metadata": {},
   "source": [
    "## Distribution of Useful ratings"
   ]
  },
  {
   "cell_type": "code",
   "execution_count": 10,
   "id": "e31ad60f-4fa2-420b-ac39-a9807f99fd5a",
   "metadata": {
    "execution": {
     "iopub.execute_input": "2022-08-20T09:35:27.233632Z",
     "iopub.status.busy": "2022-08-20T09:35:27.233407Z",
     "iopub.status.idle": "2022-08-20T09:35:27.241099Z",
     "shell.execute_reply": "2022-08-20T09:35:27.240247Z",
     "shell.execute_reply.started": "2022-08-20T09:35:27.233613Z"
    },
    "tags": []
   },
   "outputs": [],
   "source": [
    "def calc_pdf(data, attr, isdask=False):\n",
    "    \"\"\" Function to calculate the Probability Density Function \"\"\"\n",
    "    if isdask:\n",
    "        x = np.linspace(data[attr].min().compute(), data[attr].max().compute())\n",
    "        mu, sigma = data[attr].mean().compute(), data[attr].std().compute()\n",
    "        \n",
    "    elif attr is None:\n",
    "        x = np.linspace(np.min(data), np.max(data))\n",
    "        mu, sigma = np.mean(x), np.std(x)\n",
    "        \n",
    "    else:\n",
    "        x = np.linspace(data[attr].min(), data[attr].max())\n",
    "        mu, sigma = data[attr].mean(), data[attr].std()\n",
    "        \n",
    "    pdf = 1/(sigma*np.sqrt(2 * np.pi)) * np.exp(-(x - mu) ** 2/(2 * sigma ** 2))\n",
    "    \n",
    "    return x, pdf"
   ]
  },
  {
   "cell_type": "code",
   "execution_count": 11,
   "id": "b917c3bc-6c1f-4b53-9cfd-ffe9dc7b4a0c",
   "metadata": {
    "execution": {
     "iopub.execute_input": "2022-08-20T09:35:27.242456Z",
     "iopub.status.busy": "2022-08-20T09:35:27.242214Z",
     "iopub.status.idle": "2022-08-20T09:35:27.286009Z",
     "shell.execute_reply": "2022-08-20T09:35:27.284990Z",
     "shell.execute_reply.started": "2022-08-20T09:35:27.242438Z"
    },
    "tags": []
   },
   "outputs": [],
   "source": [
    "# x = np.linspace(0, ddf[\"r_useful\"].max().compute())\n",
    "# mu, sigma = ddf[\"r_useful\"].mean().compute(), ddf[\"r_useful\"].std().compute()\n",
    "\n",
    "use_x, use_pdf = calc_pdf(ddf, \"r_useful\", isdask=True)"
   ]
  },
  {
   "cell_type": "code",
   "execution_count": 12,
   "id": "a2888c07-44c8-4478-b6b9-f33e0c258da8",
   "metadata": {
    "execution": {
     "iopub.execute_input": "2022-08-20T09:35:27.287316Z",
     "iopub.status.busy": "2022-08-20T09:35:27.287056Z",
     "iopub.status.idle": "2022-08-20T09:35:27.334184Z",
     "shell.execute_reply": "2022-08-20T09:35:27.332640Z",
     "shell.execute_reply.started": "2022-08-20T09:35:27.287297Z"
    },
    "tags": []
   },
   "outputs": [
    {
     "data": {
      "text/html": [
       "\n",
       "  <div class=\"bk-root\" id=\"67ecda52-2761-4977-a038-5ed24086b314\" data-root-id=\"1102\"></div>\n"
      ]
     },
     "metadata": {},
     "output_type": "display_data"
    },
    {
     "data": {
      "application/javascript": [
       "(function(root) {\n",
       "  function embed_document(root) {\n",
       "  const docs_json = {\"3905a096-ccba-4dbd-bde7-3552a22f5992\":{\"defs\":[],\"roots\":{\"references\":[{\"attributes\":{\"below\":[{\"id\":\"1113\"}],\"center\":[{\"id\":\"1116\"},{\"id\":\"1120\"}],\"height\":350,\"left\":[{\"id\":\"1117\"}],\"renderers\":[{\"id\":\"1139\"}],\"title\":{\"id\":\"1103\"},\"toolbar\":{\"id\":\"1128\"},\"x_range\":{\"id\":\"1105\"},\"x_scale\":{\"id\":\"1109\"},\"y_range\":{\"id\":\"1107\"},\"y_scale\":{\"id\":\"1111\"}},\"id\":\"1102\",\"subtype\":\"Figure\",\"type\":\"Plot\"},{\"attributes\":{},\"id\":\"1154\",\"type\":\"AllLabels\"},{\"attributes\":{},\"id\":\"1111\",\"type\":\"LinearScale\"},{\"attributes\":{\"axis_label\":\"pdf\",\"coordinates\":null,\"formatter\":{\"id\":\"1153\"},\"group\":null,\"major_label_policy\":{\"id\":\"1154\"},\"ticker\":{\"id\":\"1118\"}},\"id\":\"1117\",\"type\":\"LinearAxis\"},{\"attributes\":{},\"id\":\"1107\",\"type\":\"DataRange1d\"},{\"attributes\":{},\"id\":\"1156\",\"type\":\"BasicTickFormatter\"},{\"attributes\":{\"axis\":{\"id\":\"1113\"},\"coordinates\":null,\"group\":null,\"ticker\":null},\"id\":\"1116\",\"type\":\"Grid\"},{\"attributes\":{\"data\":{\"x\":{\"__ndarray__\":\"AAAAAAAA8L9JkiRJkiQ3QEmSJEmSpEdAt23btm3bUUBJkiRJkuRXQNu2bdu27V1At23btm37YUAAAAAAAABlQEmSJEmSBGhAkiRJkiQJa0Dbtm3btg1uQJIkSZIkiXBAt23btm0LckDbtm3bto1zQAAAAAAAEHVAJEmSJEmSdkBJkiRJkhR4QG7btm3blnlAkiRJkiQZe0C3bdu2bZt8QNu2bdu2HX5AAAAAAACgf0CSJEmSJJGAQCRJkiRJUoFAt23btm0TgkBJkiRJktSCQNu2bdu2lYNAbtu2bdtWhEAAAAAAABiFQJIkSZIk2YVAJEmSJEmahkC3bdu2bVuHQEmSJEmSHIhA27Zt27bdiEBu27Zt256JQAAAAAAAYIpAkiRJkiQhi0AkSZIkSeKLQLdt27Zto4xASZIkSZJkjUDbtm3btiWOQG7btm3b5o5AAAAAAACoj0BJkiRJkjSQQJIkSZIklZBA27Zt27b1kEAkSZIkSVaRQG7btm3btpFAt23btm0XkkAAAAAAAHiSQA==\",\"dtype\":\"float64\",\"order\":\"little\",\"shape\":[50]},\"y\":{\"__ndarray__\":\"kxgDMVYrsD+Vf+LZ9sjTPq65KqIikoM7/41KP7hMvzXT+ZU4vTuELcxDejywJdUihq0HsRresRVN7XvpgWgYBgAAAAAAAAAAAAAAAAAAAAAAAAAAAAAAAAAAAAAAAAAAAAAAAAAAAAAAAAAAAAAAAAAAAAAAAAAAAAAAAAAAAAAAAAAAAAAAAAAAAAAAAAAAAAAAAAAAAAAAAAAAAAAAAAAAAAAAAAAAAAAAAAAAAAAAAAAAAAAAAAAAAAAAAAAAAAAAAAAAAAAAAAAAAAAAAAAAAAAAAAAAAAAAAAAAAAAAAAAAAAAAAAAAAAAAAAAAAAAAAAAAAAAAAAAAAAAAAAAAAAAAAAAAAAAAAAAAAAAAAAAAAAAAAAAAAAAAAAAAAAAAAAAAAAAAAAAAAAAAAAAAAAAAAAAAAAAAAAAAAAAAAAAAAAAAAAAAAAAAAAAAAAAAAAAAAAAAAAAAAAAAAAAAAAAAAAAAAAAAAAAAAAAAAAAAAAAAAAAAAAAAAAAAAAAAAAAAAAAAAAAAAAAAAA==\",\"dtype\":\"float64\",\"order\":\"little\",\"shape\":[50]}},\"selected\":{\"id\":\"1159\"},\"selection_policy\":{\"id\":\"1158\"}},\"id\":\"1135\",\"type\":\"ColumnDataSource\"},{\"attributes\":{\"source\":{\"id\":\"1135\"}},\"id\":\"1140\",\"type\":\"CDSView\"},{\"attributes\":{\"coordinates\":null,\"group\":null,\"text\":\"Distribution of Useful Ratings\"},\"id\":\"1103\",\"type\":\"Title\"},{\"attributes\":{\"line_alpha\":0.1,\"line_color\":\"cornflowerblue\",\"x\":{\"field\":\"x\"},\"y\":{\"field\":\"y\"}},\"id\":\"1137\",\"type\":\"Line\"},{\"attributes\":{},\"id\":\"1105\",\"type\":\"DataRange1d\"},{\"attributes\":{},\"id\":\"1114\",\"type\":\"BasicTicker\"},{\"attributes\":{},\"id\":\"1157\",\"type\":\"AllLabels\"},{\"attributes\":{\"line_alpha\":0.2,\"line_color\":\"cornflowerblue\",\"x\":{\"field\":\"x\"},\"y\":{\"field\":\"y\"}},\"id\":\"1138\",\"type\":\"Line\"},{\"attributes\":{\"line_color\":\"cornflowerblue\",\"x\":{\"field\":\"x\"},\"y\":{\"field\":\"y\"}},\"id\":\"1136\",\"type\":\"Line\"},{\"attributes\":{\"axis_label\":\"useful ratings\",\"coordinates\":null,\"formatter\":{\"id\":\"1156\"},\"group\":null,\"major_label_policy\":{\"id\":\"1157\"},\"ticker\":{\"id\":\"1114\"}},\"id\":\"1113\",\"type\":\"LinearAxis\"},{\"attributes\":{\"axis\":{\"id\":\"1117\"},\"coordinates\":null,\"dimension\":1,\"group\":null,\"ticker\":null},\"id\":\"1120\",\"type\":\"Grid\"},{\"attributes\":{},\"id\":\"1118\",\"type\":\"BasicTicker\"},{\"attributes\":{},\"id\":\"1121\",\"type\":\"PanTool\"},{\"attributes\":{},\"id\":\"1125\",\"type\":\"ResetTool\"},{\"attributes\":{},\"id\":\"1124\",\"type\":\"SaveTool\"},{\"attributes\":{},\"id\":\"1158\",\"type\":\"UnionRenderers\"},{\"attributes\":{\"tools\":[{\"id\":\"1121\"},{\"id\":\"1122\"},{\"id\":\"1123\"},{\"id\":\"1124\"},{\"id\":\"1125\"},{\"id\":\"1126\"}]},\"id\":\"1128\",\"type\":\"Toolbar\"},{\"attributes\":{},\"id\":\"1159\",\"type\":\"Selection\"},{\"attributes\":{\"bottom_units\":\"screen\",\"coordinates\":null,\"fill_alpha\":0.5,\"fill_color\":\"lightgrey\",\"group\":null,\"left_units\":\"screen\",\"level\":\"overlay\",\"line_alpha\":1.0,\"line_color\":\"black\",\"line_dash\":[4,4],\"line_width\":2,\"right_units\":\"screen\",\"syncable\":false,\"top_units\":\"screen\"},\"id\":\"1127\",\"type\":\"BoxAnnotation\"},{\"attributes\":{\"overlay\":{\"id\":\"1127\"}},\"id\":\"1123\",\"type\":\"BoxZoomTool\"},{\"attributes\":{},\"id\":\"1122\",\"type\":\"WheelZoomTool\"},{\"attributes\":{\"coordinates\":null,\"data_source\":{\"id\":\"1135\"},\"glyph\":{\"id\":\"1136\"},\"group\":null,\"hover_glyph\":null,\"muted_glyph\":{\"id\":\"1138\"},\"nonselection_glyph\":{\"id\":\"1137\"},\"view\":{\"id\":\"1140\"}},\"id\":\"1139\",\"type\":\"GlyphRenderer\"},{\"attributes\":{},\"id\":\"1126\",\"type\":\"HelpTool\"},{\"attributes\":{},\"id\":\"1109\",\"type\":\"LinearScale\"},{\"attributes\":{},\"id\":\"1153\",\"type\":\"BasicTickFormatter\"}],\"root_ids\":[\"1102\"]},\"title\":\"Bokeh Application\",\"version\":\"2.4.3\"}};\n",
       "  const render_items = [{\"docid\":\"3905a096-ccba-4dbd-bde7-3552a22f5992\",\"root_ids\":[\"1102\"],\"roots\":{\"1102\":\"67ecda52-2761-4977-a038-5ed24086b314\"}}];\n",
       "  root.Bokeh.embed.embed_items_notebook(docs_json, render_items);\n",
       "  }\n",
       "  if (root.Bokeh !== undefined) {\n",
       "    embed_document(root);\n",
       "  } else {\n",
       "    let attempts = 0;\n",
       "    const timer = setInterval(function(root) {\n",
       "      if (root.Bokeh !== undefined) {\n",
       "        clearInterval(timer);\n",
       "        embed_document(root);\n",
       "      } else {\n",
       "        attempts++;\n",
       "        if (attempts > 100) {\n",
       "          clearInterval(timer);\n",
       "          console.log(\"Bokeh: ERROR: Unable to run BokehJS code because BokehJS library is missing\");\n",
       "        }\n",
       "      }\n",
       "    }, 10, root)\n",
       "  }\n",
       "})(window);"
      ],
      "application/vnd.bokehjs_exec.v0+json": ""
     },
     "metadata": {
      "application/vnd.bokehjs_exec.v0+json": {
       "id": "1102"
      }
     },
     "output_type": "display_data"
    }
   ],
   "source": [
    "bokeh_dist(use_x, use_pdf, x_label=\"useful ratings\", y_label=\"pdf\", pdf_color=\"cornflowerblue\", title=\"Distribution of Useful Ratings\")"
   ]
  },
  {
   "cell_type": "markdown",
   "id": "ec4c01ea-10be-4fe2-bb6e-f82e21af519d",
   "metadata": {},
   "source": [
    "The `useful_ratings` is heavily *right-skewed*. Meaning most of instances has `r_useful` set to range between $1$ to $20$. There are only **few reviews** that are found to be *extremely* useful. So, the question is Does the **popularity** of the *reviewer* affects such behaviour? "
   ]
  },
  {
   "cell_type": "markdown",
   "id": "aa6a417d-7731-43e0-9f5f-6202930429c5",
   "metadata": {},
   "source": [
    "### Minimum Value of Useful Ratings"
   ]
  },
  {
   "cell_type": "code",
   "execution_count": 13,
   "id": "3d4528af-20a2-4913-a596-734becdde517",
   "metadata": {
    "execution": {
     "iopub.execute_input": "2022-08-20T09:35:27.335880Z",
     "iopub.status.busy": "2022-08-20T09:35:27.335476Z",
     "iopub.status.idle": "2022-08-20T09:35:27.347522Z",
     "shell.execute_reply": "2022-08-20T09:35:27.346885Z",
     "shell.execute_reply.started": "2022-08-20T09:35:27.335855Z"
    },
    "tags": []
   },
   "outputs": [
    {
     "data": {
      "text/plain": [
       "-1"
      ]
     },
     "execution_count": 13,
     "metadata": {},
     "output_type": "execute_result"
    }
   ],
   "source": [
    "ddf[\"r_useful\"].min().compute()\n",
    "# df[\"r_useful\"].min()"
   ]
  },
  {
   "cell_type": "code",
   "execution_count": 14,
   "id": "6af6ec6c-bffe-4297-81eb-36ee642f4d52",
   "metadata": {
    "execution": {
     "iopub.execute_input": "2022-08-20T09:35:27.349634Z",
     "iopub.status.busy": "2022-08-20T09:35:27.349311Z",
     "iopub.status.idle": "2022-08-20T09:35:27.366707Z",
     "shell.execute_reply": "2022-08-20T09:35:27.366106Z",
     "shell.execute_reply.started": "2022-08-20T09:35:27.349612Z"
    },
    "tags": []
   },
   "outputs": [
    {
     "name": "stdout",
     "output_type": "stream",
     "text": [
      "Number of records with min value : 4\n"
     ]
    }
   ],
   "source": [
    "# ddf[ddf[\"r_useful\"] == ddf[\"r_useful\"].min().compute()].compute().shape\n",
    "print(f'Number of records with min value : {ddf[ddf[\"r_useful\"] == ddf[\"r_useful\"].min().compute()].compute().shape[0]}')"
   ]
  },
  {
   "cell_type": "markdown",
   "id": "fef92176-5407-498e-9726-06469bc5b07a",
   "metadata": {},
   "source": [
    "It is weird that only $4$ instances of negative ratings are present in our data. Could this be a *data entry* problem? Or is there any downvoting functionality on *Yelp*?"
   ]
  },
  {
   "cell_type": "markdown",
   "id": "b7a8ce4b-5439-4046-9da2-5246bf13c85e",
   "metadata": {},
   "source": [
    "### Maximum Value of Useful Ratings"
   ]
  },
  {
   "cell_type": "code",
   "execution_count": 15,
   "id": "db7e3168-c112-40df-8456-7863e7ec887c",
   "metadata": {
    "execution": {
     "iopub.execute_input": "2022-08-20T09:35:27.367657Z",
     "iopub.status.busy": "2022-08-20T09:35:27.367434Z",
     "iopub.status.idle": "2022-08-20T09:35:27.379621Z",
     "shell.execute_reply": "2022-08-20T09:35:27.379053Z",
     "shell.execute_reply.started": "2022-08-20T09:35:27.367639Z"
    },
    "tags": []
   },
   "outputs": [
    {
     "data": {
      "text/plain": [
       "1182"
      ]
     },
     "execution_count": 15,
     "metadata": {},
     "output_type": "execute_result"
    }
   ],
   "source": [
    "ddf[\"r_useful\"].max().compute()"
   ]
  },
  {
   "cell_type": "code",
   "execution_count": 16,
   "id": "9ff0f6f7-4000-4de2-988a-6c49e6f3b843",
   "metadata": {
    "execution": {
     "iopub.execute_input": "2022-08-20T09:35:27.380705Z",
     "iopub.status.busy": "2022-08-20T09:35:27.380418Z",
     "iopub.status.idle": "2022-08-20T09:35:27.400849Z",
     "shell.execute_reply": "2022-08-20T09:35:27.399188Z",
     "shell.execute_reply.started": "2022-08-20T09:35:27.380685Z"
    },
    "tags": []
   },
   "outputs": [
    {
     "name": "stdout",
     "output_type": "stream",
     "text": [
      "Number of records with max value: 1\n"
     ]
    }
   ],
   "source": [
    "print(f'Number of records with max value: {ddf[ddf[\"r_useful\"] == ddf[\"r_useful\"].max().compute()].compute().shape[0]}')"
   ]
  },
  {
   "cell_type": "markdown",
   "id": "1a84121f-3e17-444a-a177-db69d3b2b3b7",
   "metadata": {},
   "source": [
    "And there's only a single record with the maximum value. Is that review really helpful? Is it an old review?"
   ]
  },
  {
   "cell_type": "markdown",
   "id": "9c284c78-c967-4f82-a990-6c4f178d0222",
   "metadata": {},
   "source": [
    "## Distribution of Funny Ratings"
   ]
  },
  {
   "cell_type": "code",
   "execution_count": 17,
   "id": "b56ba4e0-77e4-428d-ade9-590df35aef89",
   "metadata": {
    "execution": {
     "iopub.execute_input": "2022-08-20T09:35:28.448975Z",
     "iopub.status.busy": "2022-08-20T09:35:28.447820Z",
     "iopub.status.idle": "2022-08-20T09:35:28.587121Z",
     "shell.execute_reply": "2022-08-20T09:35:28.586149Z",
     "shell.execute_reply.started": "2022-08-20T09:35:28.448916Z"
    },
    "tags": []
   },
   "outputs": [
    {
     "data": {
      "text/html": [
       "\n",
       "  <div class=\"bk-root\" id=\"31ff93a1-76cc-4be1-956f-599fcff2cf84\" data-root-id=\"1211\"></div>\n"
      ]
     },
     "metadata": {},
     "output_type": "display_data"
    },
    {
     "data": {
      "application/javascript": [
       "(function(root) {\n",
       "  function embed_document(root) {\n",
       "  const docs_json = {\"6aac02f4-fe83-4434-a63d-6758843169a7\":{\"defs\":[],\"roots\":{\"references\":[{\"attributes\":{\"below\":[{\"id\":\"1222\"}],\"center\":[{\"id\":\"1225\"},{\"id\":\"1229\"}],\"height\":350,\"left\":[{\"id\":\"1226\"}],\"renderers\":[{\"id\":\"1248\"}],\"title\":{\"id\":\"1212\"},\"toolbar\":{\"id\":\"1237\"},\"x_range\":{\"id\":\"1214\"},\"x_scale\":{\"id\":\"1218\"},\"y_range\":{\"id\":\"1216\"},\"y_scale\":{\"id\":\"1220\"}},\"id\":\"1211\",\"subtype\":\"Figure\",\"type\":\"Plot\"},{\"attributes\":{},\"id\":\"1230\",\"type\":\"PanTool\"},{\"attributes\":{},\"id\":\"1218\",\"type\":\"LinearScale\"},{\"attributes\":{},\"id\":\"1272\",\"type\":\"BasicTickFormatter\"},{\"attributes\":{},\"id\":\"1273\",\"type\":\"AllLabels\"},{\"attributes\":{},\"id\":\"1235\",\"type\":\"HelpTool\"},{\"attributes\":{\"overlay\":{\"id\":\"1236\"}},\"id\":\"1232\",\"type\":\"BoxZoomTool\"},{\"attributes\":{},\"id\":\"1275\",\"type\":\"BasicTickFormatter\"},{\"attributes\":{},\"id\":\"1214\",\"type\":\"DataRange1d\"},{\"attributes\":{},\"id\":\"1276\",\"type\":\"AllLabels\"},{\"attributes\":{\"line_color\":\"tomato\",\"x\":{\"field\":\"x\"},\"y\":{\"field\":\"y\"}},\"id\":\"1245\",\"type\":\"Line\"},{\"attributes\":{\"line_alpha\":0.2,\"line_color\":\"tomato\",\"x\":{\"field\":\"x\"},\"y\":{\"field\":\"y\"}},\"id\":\"1247\",\"type\":\"Line\"},{\"attributes\":{},\"id\":\"1216\",\"type\":\"DataRange1d\"},{\"attributes\":{},\"id\":\"1277\",\"type\":\"UnionRenderers\"},{\"attributes\":{},\"id\":\"1227\",\"type\":\"BasicTicker\"},{\"attributes\":{},\"id\":\"1278\",\"type\":\"Selection\"},{\"attributes\":{\"axis\":{\"id\":\"1226\"},\"coordinates\":null,\"dimension\":1,\"group\":null,\"ticker\":null},\"id\":\"1229\",\"type\":\"Grid\"},{\"attributes\":{\"axis_label\":\"pdf\",\"coordinates\":null,\"formatter\":{\"id\":\"1272\"},\"group\":null,\"major_label_policy\":{\"id\":\"1273\"},\"ticker\":{\"id\":\"1227\"}},\"id\":\"1226\",\"type\":\"LinearAxis\"},{\"attributes\":{\"axis\":{\"id\":\"1222\"},\"coordinates\":null,\"group\":null,\"ticker\":null},\"id\":\"1225\",\"type\":\"Grid\"},{\"attributes\":{},\"id\":\"1223\",\"type\":\"BasicTicker\"},{\"attributes\":{},\"id\":\"1231\",\"type\":\"WheelZoomTool\"},{\"attributes\":{\"line_alpha\":0.1,\"line_color\":\"tomato\",\"x\":{\"field\":\"x\"},\"y\":{\"field\":\"y\"}},\"id\":\"1246\",\"type\":\"Line\"},{\"attributes\":{\"coordinates\":null,\"group\":null,\"text\":\"Distribution of Useful Ratings\"},\"id\":\"1212\",\"type\":\"Title\"},{\"attributes\":{\"axis_label\":\"funny ratings\",\"coordinates\":null,\"formatter\":{\"id\":\"1275\"},\"group\":null,\"major_label_policy\":{\"id\":\"1276\"},\"ticker\":{\"id\":\"1223\"}},\"id\":\"1222\",\"type\":\"LinearAxis\"},{\"attributes\":{\"source\":{\"id\":\"1244\"}},\"id\":\"1249\",\"type\":\"CDSView\"},{\"attributes\":{\"bottom_units\":\"screen\",\"coordinates\":null,\"fill_alpha\":0.5,\"fill_color\":\"lightgrey\",\"group\":null,\"left_units\":\"screen\",\"level\":\"overlay\",\"line_alpha\":1.0,\"line_color\":\"black\",\"line_dash\":[4,4],\"line_width\":2,\"right_units\":\"screen\",\"syncable\":false,\"top_units\":\"screen\"},\"id\":\"1236\",\"type\":\"BoxAnnotation\"},{\"attributes\":{},\"id\":\"1220\",\"type\":\"LinearScale\"},{\"attributes\":{},\"id\":\"1233\",\"type\":\"SaveTool\"},{\"attributes\":{},\"id\":\"1234\",\"type\":\"ResetTool\"},{\"attributes\":{\"data\":{\"x\":{\"__ndarray__\":\"AAAAAAAA8L+YU/ByCl4uQJhT8HIKXj9Asj401ofGR0CYU/ByCt5PQD801ofG+lNAsj401ocGWEAlSZIkSRJcQMwpeDkFD2BABi+n4OUUYkA/NNaHxhpkQHg5BS+nIGZAsj401ocmaEDsQ2N9aCxqQCVJkiRJMmxAXk7Byyk4bkDMKXg5BR9wQGmsD431IXFABi+n4OUkckCisT401idzQD801ofGKnRA3LZt27YtdUB4OQUvpzB2QBW8nIKXM3dAsj401oc2eEBPwcspeDl5QOxDY31oPHpAiMb60Fg/e0AlSZIkSUJ8QMLLKXg5RX1AXk7ByylIfkD70FgfGkt/QMwpeDkFJ4BAGutDY32ogEBprA+N9SmBQLdt27Ztq4FABi+n4OUsgkBU8HIKXq6CQKKxPjTWL4NA8XIKXk6xg0A/NNaHxjKEQI31obE+tIRA3LZt27Y1hUAqeDkFL7eFQHg5BS+nOIZAx/rQWB+6hkAVvJyClzuHQGR9aKwPvYdAsj401oc+iEAAAAAAAMCIQA==\",\"dtype\":\"float64\",\"order\":\"little\",\"shape\":[50]},\"y\":{\"__ndarray__\":\"Trp4jm2qwD9hfFOofeQtPk0A5QcGv6g4fBqSX/PoMi8rPhh6XK3KIfayfsevXnEQAAAAAAAAAAAAAAAAAAAAAAAAAAAAAAAAAAAAAAAAAAAAAAAAAAAAAAAAAAAAAAAAAAAAAAAAAAAAAAAAAAAAAAAAAAAAAAAAAAAAAAAAAAAAAAAAAAAAAAAAAAAAAAAAAAAAAAAAAAAAAAAAAAAAAAAAAAAAAAAAAAAAAAAAAAAAAAAAAAAAAAAAAAAAAAAAAAAAAAAAAAAAAAAAAAAAAAAAAAAAAAAAAAAAAAAAAAAAAAAAAAAAAAAAAAAAAAAAAAAAAAAAAAAAAAAAAAAAAAAAAAAAAAAAAAAAAAAAAAAAAAAAAAAAAAAAAAAAAAAAAAAAAAAAAAAAAAAAAAAAAAAAAAAAAAAAAAAAAAAAAAAAAAAAAAAAAAAAAAAAAAAAAAAAAAAAAAAAAAAAAAAAAAAAAAAAAAAAAAAAAAAAAAAAAAAAAAAAAAAAAAAAAAAAAAAAAAAAAAAAAAAAAAAAAA==\",\"dtype\":\"float64\",\"order\":\"little\",\"shape\":[50]}},\"selected\":{\"id\":\"1278\"},\"selection_policy\":{\"id\":\"1277\"}},\"id\":\"1244\",\"type\":\"ColumnDataSource\"},{\"attributes\":{\"coordinates\":null,\"data_source\":{\"id\":\"1244\"},\"glyph\":{\"id\":\"1245\"},\"group\":null,\"hover_glyph\":null,\"muted_glyph\":{\"id\":\"1247\"},\"nonselection_glyph\":{\"id\":\"1246\"},\"view\":{\"id\":\"1249\"}},\"id\":\"1248\",\"type\":\"GlyphRenderer\"},{\"attributes\":{\"tools\":[{\"id\":\"1230\"},{\"id\":\"1231\"},{\"id\":\"1232\"},{\"id\":\"1233\"},{\"id\":\"1234\"},{\"id\":\"1235\"}]},\"id\":\"1237\",\"type\":\"Toolbar\"}],\"root_ids\":[\"1211\"]},\"title\":\"Bokeh Application\",\"version\":\"2.4.3\"}};\n",
       "  const render_items = [{\"docid\":\"6aac02f4-fe83-4434-a63d-6758843169a7\",\"root_ids\":[\"1211\"],\"roots\":{\"1211\":\"31ff93a1-76cc-4be1-956f-599fcff2cf84\"}}];\n",
       "  root.Bokeh.embed.embed_items_notebook(docs_json, render_items);\n",
       "  }\n",
       "  if (root.Bokeh !== undefined) {\n",
       "    embed_document(root);\n",
       "  } else {\n",
       "    let attempts = 0;\n",
       "    const timer = setInterval(function(root) {\n",
       "      if (root.Bokeh !== undefined) {\n",
       "        clearInterval(timer);\n",
       "        embed_document(root);\n",
       "      } else {\n",
       "        attempts++;\n",
       "        if (attempts > 100) {\n",
       "          clearInterval(timer);\n",
       "          console.log(\"Bokeh: ERROR: Unable to run BokehJS code because BokehJS library is missing\");\n",
       "        }\n",
       "      }\n",
       "    }, 10, root)\n",
       "  }\n",
       "})(window);"
      ],
      "application/vnd.bokehjs_exec.v0+json": ""
     },
     "metadata": {
      "application/vnd.bokehjs_exec.v0+json": {
       "id": "1211"
      }
     },
     "output_type": "display_data"
    }
   ],
   "source": [
    "fun_x, fun_pdf = calc_pdf(ddf, \"r_funny\", isdask=True)\n",
    "bokeh_dist(fun_x, fun_pdf, x_label=\"funny ratings\", y_label=\"pdf\", pdf_color=\"tomato\", title=\"Distribution of Useful Ratings\")"
   ]
  },
  {
   "cell_type": "markdown",
   "id": "5988ce1e-768d-4d9a-9d2c-184e8697745c",
   "metadata": {},
   "source": [
    "The distribution of `r_funny` is similar to the distribution of `r_useful`. "
   ]
  },
  {
   "cell_type": "markdown",
   "id": "4c82f3e7-f896-48aa-9f50-e011a3e5268b",
   "metadata": {},
   "source": [
    "### Minimum Value of Funny Ratings"
   ]
  },
  {
   "cell_type": "code",
   "execution_count": 18,
   "id": "2340af94-17e8-48ea-9138-a6c8828fdfb9",
   "metadata": {
    "execution": {
     "iopub.execute_input": "2022-08-20T09:35:29.336753Z",
     "iopub.status.busy": "2022-08-20T09:35:29.336254Z",
     "iopub.status.idle": "2022-08-20T09:35:29.351479Z",
     "shell.execute_reply": "2022-08-20T09:35:29.350131Z",
     "shell.execute_reply.started": "2022-08-20T09:35:29.336725Z"
    },
    "tags": []
   },
   "outputs": [
    {
     "data": {
      "text/plain": [
       "-1"
      ]
     },
     "execution_count": 18,
     "metadata": {},
     "output_type": "execute_result"
    }
   ],
   "source": [
    "ddf[\"r_funny\"].min().compute()"
   ]
  },
  {
   "cell_type": "code",
   "execution_count": 19,
   "id": "104d0981-f393-45a4-b289-811eff1d0c5a",
   "metadata": {
    "execution": {
     "iopub.execute_input": "2022-08-20T09:35:29.577552Z",
     "iopub.status.busy": "2022-08-20T09:35:29.576207Z",
     "iopub.status.idle": "2022-08-20T09:35:29.612049Z",
     "shell.execute_reply": "2022-08-20T09:35:29.611230Z",
     "shell.execute_reply.started": "2022-08-20T09:35:29.577475Z"
    },
    "tags": []
   },
   "outputs": [
    {
     "name": "stdout",
     "output_type": "stream",
     "text": [
      "Number of records with min value : 2\n"
     ]
    }
   ],
   "source": [
    "print(f'Number of records with min value : {ddf[ddf[\"r_funny\"] == ddf[\"r_funny\"].min()].compute().shape[0]}')"
   ]
  },
  {
   "cell_type": "markdown",
   "id": "0ab08dac-3691-40f9-8298-fb657ac1387a",
   "metadata": {},
   "source": [
    "There are only $2$ instances where the minimum value of `r_funny` is $-1$. Is this some kind of a data entry?"
   ]
  },
  {
   "cell_type": "markdown",
   "id": "5991d4a6-7393-4c97-9dc1-04c175fa091c",
   "metadata": {},
   "source": [
    "### Maximum Value of Funny Ratings"
   ]
  },
  {
   "cell_type": "code",
   "execution_count": 20,
   "id": "dcafee69-d989-443a-9547-a992793a3c06",
   "metadata": {
    "execution": {
     "iopub.execute_input": "2022-08-20T09:35:30.407582Z",
     "iopub.status.busy": "2022-08-20T09:35:30.407006Z",
     "iopub.status.idle": "2022-08-20T09:35:30.428582Z",
     "shell.execute_reply": "2022-08-20T09:35:30.427206Z",
     "shell.execute_reply.started": "2022-08-20T09:35:30.407533Z"
    },
    "tags": []
   },
   "outputs": [
    {
     "data": {
      "text/plain": [
       "792"
      ]
     },
     "execution_count": 20,
     "metadata": {},
     "output_type": "execute_result"
    }
   ],
   "source": [
    "ddf[\"r_funny\"].max().compute()"
   ]
  },
  {
   "cell_type": "code",
   "execution_count": 21,
   "id": "2e018407-af39-4b1c-8fa9-fc461ef2aa02",
   "metadata": {
    "execution": {
     "iopub.execute_input": "2022-08-20T09:35:30.689546Z",
     "iopub.status.busy": "2022-08-20T09:35:30.688036Z",
     "iopub.status.idle": "2022-08-20T09:35:30.724220Z",
     "shell.execute_reply": "2022-08-20T09:35:30.722003Z",
     "shell.execute_reply.started": "2022-08-20T09:35:30.689466Z"
    },
    "tags": []
   },
   "outputs": [
    {
     "name": "stdout",
     "output_type": "stream",
     "text": [
      "Number of records with max value: 1\n"
     ]
    }
   ],
   "source": [
    "print(f'Number of records with max value: {ddf[ddf[\"r_funny\"] == ddf[\"r_funny\"].max().compute()].compute().shape[0]}')"
   ]
  },
  {
   "cell_type": "markdown",
   "id": "80f2e1d8-5f2b-4cb0-8d40-49895a5ddc5c",
   "metadata": {},
   "source": [
    "Just like `r_useful`, the `r_funny` also has only a single record with the maximum value."
   ]
  },
  {
   "cell_type": "markdown",
   "id": "06b04605-c37c-4d58-892a-09abd66fe047",
   "metadata": {},
   "source": [
    "## Distribution of Cool Ratings"
   ]
  },
  {
   "cell_type": "code",
   "execution_count": 22,
   "id": "2a9a5bb6-5185-4927-b808-99c4832d7551",
   "metadata": {
    "execution": {
     "iopub.execute_input": "2022-08-20T09:35:31.745804Z",
     "iopub.status.busy": "2022-08-20T09:35:31.745485Z",
     "iopub.status.idle": "2022-08-20T09:35:31.868151Z",
     "shell.execute_reply": "2022-08-20T09:35:31.867562Z",
     "shell.execute_reply.started": "2022-08-20T09:35:31.745781Z"
    },
    "tags": []
   },
   "outputs": [
    {
     "data": {
      "text/html": [
       "\n",
       "  <div class=\"bk-root\" id=\"4a655cc6-9cbc-4c52-8478-9115ae13b3e0\" data-root-id=\"1330\"></div>\n"
      ]
     },
     "metadata": {},
     "output_type": "display_data"
    },
    {
     "data": {
      "application/javascript": [
       "(function(root) {\n",
       "  function embed_document(root) {\n",
       "  const docs_json = {\"118cf30d-d1f6-46fb-8173-bf76e09602cc\":{\"defs\":[],\"roots\":{\"references\":[{\"attributes\":{\"below\":[{\"id\":\"1341\"}],\"center\":[{\"id\":\"1344\"},{\"id\":\"1348\"}],\"height\":350,\"left\":[{\"id\":\"1345\"}],\"renderers\":[{\"id\":\"1367\"}],\"title\":{\"id\":\"1331\"},\"toolbar\":{\"id\":\"1356\"},\"x_range\":{\"id\":\"1333\"},\"x_scale\":{\"id\":\"1337\"},\"y_range\":{\"id\":\"1335\"},\"y_scale\":{\"id\":\"1339\"}},\"id\":\"1330\",\"subtype\":\"Figure\",\"type\":\"Plot\"},{\"attributes\":{},\"id\":\"1405\",\"type\":\"AllLabels\"},{\"attributes\":{\"axis_label\":\"pdf\",\"coordinates\":null,\"formatter\":{\"id\":\"1401\"},\"group\":null,\"major_label_policy\":{\"id\":\"1402\"},\"ticker\":{\"id\":\"1346\"}},\"id\":\"1345\",\"type\":\"LinearAxis\"},{\"attributes\":{},\"id\":\"1353\",\"type\":\"ResetTool\"},{\"attributes\":{},\"id\":\"1352\",\"type\":\"SaveTool\"},{\"attributes\":{\"overlay\":{\"id\":\"1355\"}},\"id\":\"1351\",\"type\":\"BoxZoomTool\"},{\"attributes\":{},\"id\":\"1339\",\"type\":\"LinearScale\"},{\"attributes\":{},\"id\":\"1350\",\"type\":\"WheelZoomTool\"},{\"attributes\":{},\"id\":\"1337\",\"type\":\"LinearScale\"},{\"attributes\":{\"coordinates\":null,\"data_source\":{\"id\":\"1363\"},\"glyph\":{\"id\":\"1364\"},\"group\":null,\"hover_glyph\":null,\"muted_glyph\":{\"id\":\"1366\"},\"nonselection_glyph\":{\"id\":\"1365\"},\"view\":{\"id\":\"1368\"}},\"id\":\"1367\",\"type\":\"GlyphRenderer\"},{\"attributes\":{\"axis_label\":\"cool ratings\",\"coordinates\":null,\"formatter\":{\"id\":\"1404\"},\"group\":null,\"major_label_policy\":{\"id\":\"1405\"},\"ticker\":{\"id\":\"1342\"}},\"id\":\"1341\",\"type\":\"LinearAxis\"},{\"attributes\":{\"bottom_units\":\"screen\",\"coordinates\":null,\"fill_alpha\":0.5,\"fill_color\":\"lightgrey\",\"group\":null,\"left_units\":\"screen\",\"level\":\"overlay\",\"line_alpha\":1.0,\"line_color\":\"black\",\"line_dash\":[4,4],\"line_width\":2,\"right_units\":\"screen\",\"syncable\":false,\"top_units\":\"screen\"},\"id\":\"1355\",\"type\":\"BoxAnnotation\"},{\"attributes\":{},\"id\":\"1346\",\"type\":\"BasicTicker\"},{\"attributes\":{},\"id\":\"1406\",\"type\":\"UnionRenderers\"},{\"attributes\":{\"line_alpha\":0.2,\"line_color\":\"mediumseagreen\",\"x\":{\"field\":\"x\"},\"y\":{\"field\":\"y\"}},\"id\":\"1366\",\"type\":\"Line\"},{\"attributes\":{},\"id\":\"1407\",\"type\":\"Selection\"},{\"attributes\":{\"axis\":{\"id\":\"1345\"},\"coordinates\":null,\"dimension\":1,\"group\":null,\"ticker\":null},\"id\":\"1348\",\"type\":\"Grid\"},{\"attributes\":{},\"id\":\"1349\",\"type\":\"PanTool\"},{\"attributes\":{\"axis\":{\"id\":\"1341\"},\"coordinates\":null,\"group\":null,\"ticker\":null},\"id\":\"1344\",\"type\":\"Grid\"},{\"attributes\":{\"line_color\":\"mediumseagreen\",\"x\":{\"field\":\"x\"},\"y\":{\"field\":\"y\"}},\"id\":\"1364\",\"type\":\"Line\"},{\"attributes\":{},\"id\":\"1335\",\"type\":\"DataRange1d\"},{\"attributes\":{},\"id\":\"1404\",\"type\":\"BasicTickFormatter\"},{\"attributes\":{},\"id\":\"1333\",\"type\":\"DataRange1d\"},{\"attributes\":{\"coordinates\":null,\"group\":null,\"text\":\"Distribution of Useful Ratings\"},\"id\":\"1331\",\"type\":\"Title\"},{\"attributes\":{\"tools\":[{\"id\":\"1349\"},{\"id\":\"1350\"},{\"id\":\"1351\"},{\"id\":\"1352\"},{\"id\":\"1353\"},{\"id\":\"1354\"}]},\"id\":\"1356\",\"type\":\"Toolbar\"},{\"attributes\":{\"line_alpha\":0.1,\"line_color\":\"mediumseagreen\",\"x\":{\"field\":\"x\"},\"y\":{\"field\":\"y\"}},\"id\":\"1365\",\"type\":\"Line\"},{\"attributes\":{},\"id\":\"1354\",\"type\":\"HelpTool\"},{\"attributes\":{},\"id\":\"1342\",\"type\":\"BasicTicker\"},{\"attributes\":{\"data\":{\"x\":{\"__ndarray__\":\"AAAAAAAA8L9EY31orA8dQERjfWisDy9AcwpeTsHLN0CisT401gdAQApeTsHLKURAcwpeTsFLSEDctm3btm1MQKKxPjTWR1BA1ofG+tBYUkAKXk7By2lUQD801ofGelZAcwpeTsGLWECn4OUUvJxaQNy2bdu2rVxAEI31obG+XkCisT401mdgQLycgpdTcGFA1ofG+tB4YkDwcgpeToFjQApeTsHLiWRAJUmSJEmSZUA/NNaHxppmQFkfGutDo2dAcwpeTsGraECN9aGxPrRpQKfg5RS8vGpAwcspeDnFa0Dctm3bts1sQPahsT401m1AEI31obHebkAqeDkFL+dvQKKxPjTWd3BAL6fg5RT8cEC8nIKXU4BxQEmSJEmSBHJA1ofG+tCIckBjfWisDw1zQPByCl5OkXNAfWisD40VdEAKXk7By5l0QJhT8HIKHnVAJUmSJEmidUCyPjTWhyZ2QD801ofGqnZAzCl4OQUvd0BZHxrrQ7N3QOYUvJyCN3hAcwpeTsG7eEAAAAAAAEB5QA==\",\"dtype\":\"float64\",\"order\":\"little\",\"shape\":[50]},\"y\":{\"__ndarray__\":\"AE19l6inuT/P4iMwRZiUP9ieXdzw8d0+j3K0fj23kz35ey3l+4K3O0gBH/txZEk5Nh+xh+bVSDabVUlppP+1Mp4sfciXpZEuXSUQLN6j2SlBofPlgN6QJOsJeIU1GrQe0jUtftOxRRj4gMOaGTRFEcLdFb2QxLIJZH9miqoWjgEAAAAAAAAAAAAAAAAAAAAAAAAAAAAAAAAAAAAAAAAAAAAAAAAAAAAAAAAAAAAAAAAAAAAAAAAAAAAAAAAAAAAAAAAAAAAAAAAAAAAAAAAAAAAAAAAAAAAAAAAAAAAAAAAAAAAAAAAAAAAAAAAAAAAAAAAAAAAAAAAAAAAAAAAAAAAAAAAAAAAAAAAAAAAAAAAAAAAAAAAAAAAAAAAAAAAAAAAAAAAAAAAAAAAAAAAAAAAAAAAAAAAAAAAAAAAAAAAAAAAAAAAAAAAAAAAAAAAAAAAAAAAAAAAAAAAAAAAAAAAAAAAAAAAAAAAAAAAAAAAAAAAAAAAAAAAAAAAAAAAAAAAAAAAAAAAAAAAAAAAAAA==\",\"dtype\":\"float64\",\"order\":\"little\",\"shape\":[50]}},\"selected\":{\"id\":\"1407\"},\"selection_policy\":{\"id\":\"1406\"}},\"id\":\"1363\",\"type\":\"ColumnDataSource\"},{\"attributes\":{\"source\":{\"id\":\"1363\"}},\"id\":\"1368\",\"type\":\"CDSView\"},{\"attributes\":{},\"id\":\"1401\",\"type\":\"BasicTickFormatter\"},{\"attributes\":{},\"id\":\"1402\",\"type\":\"AllLabels\"}],\"root_ids\":[\"1330\"]},\"title\":\"Bokeh Application\",\"version\":\"2.4.3\"}};\n",
       "  const render_items = [{\"docid\":\"118cf30d-d1f6-46fb-8173-bf76e09602cc\",\"root_ids\":[\"1330\"],\"roots\":{\"1330\":\"4a655cc6-9cbc-4c52-8478-9115ae13b3e0\"}}];\n",
       "  root.Bokeh.embed.embed_items_notebook(docs_json, render_items);\n",
       "  }\n",
       "  if (root.Bokeh !== undefined) {\n",
       "    embed_document(root);\n",
       "  } else {\n",
       "    let attempts = 0;\n",
       "    const timer = setInterval(function(root) {\n",
       "      if (root.Bokeh !== undefined) {\n",
       "        clearInterval(timer);\n",
       "        embed_document(root);\n",
       "      } else {\n",
       "        attempts++;\n",
       "        if (attempts > 100) {\n",
       "          clearInterval(timer);\n",
       "          console.log(\"Bokeh: ERROR: Unable to run BokehJS code because BokehJS library is missing\");\n",
       "        }\n",
       "      }\n",
       "    }, 10, root)\n",
       "  }\n",
       "})(window);"
      ],
      "application/vnd.bokehjs_exec.v0+json": ""
     },
     "metadata": {
      "application/vnd.bokehjs_exec.v0+json": {
       "id": "1330"
      }
     },
     "output_type": "display_data"
    }
   ],
   "source": [
    "cool_x, cool_pdf = calc_pdf(ddf, \"r_cool\", isdask=True)\n",
    "bokeh_dist(cool_x, cool_pdf, x_label=\"cool ratings\", y_label=\"pdf\", pdf_color=\"mediumseagreen\", title=\"Distribution of Useful Ratings\")"
   ]
  },
  {
   "cell_type": "markdown",
   "id": "3597e141-b0ef-4421-bc75-f171c4d312b8",
   "metadata": {},
   "source": [
    "So, the ratings of `r_useful`, `r_cool`, `r_funny` almost have similar distributions."
   ]
  },
  {
   "cell_type": "markdown",
   "id": "3a8d2ae2-46f4-40a5-b69e-8d3a5e2f22df",
   "metadata": {},
   "source": [
    "### Minimum Value of Cool Ratings"
   ]
  },
  {
   "cell_type": "code",
   "execution_count": 23,
   "id": "38322ff2-2e3e-488c-b566-1690cf74b267",
   "metadata": {
    "execution": {
     "iopub.execute_input": "2022-08-20T09:35:32.351609Z",
     "iopub.status.busy": "2022-08-20T09:35:32.350891Z",
     "iopub.status.idle": "2022-08-20T09:35:32.371382Z",
     "shell.execute_reply": "2022-08-20T09:35:32.369837Z",
     "shell.execute_reply.started": "2022-08-20T09:35:32.351559Z"
    },
    "tags": []
   },
   "outputs": [
    {
     "data": {
      "text/plain": [
       "-1"
      ]
     },
     "execution_count": 23,
     "metadata": {},
     "output_type": "execute_result"
    }
   ],
   "source": [
    "ddf[\"r_cool\"].min().compute()"
   ]
  },
  {
   "cell_type": "code",
   "execution_count": 24,
   "id": "67efb48b-37b9-4a71-9392-810b3396a5ad",
   "metadata": {
    "execution": {
     "iopub.execute_input": "2022-08-20T09:35:32.548007Z",
     "iopub.status.busy": "2022-08-20T09:35:32.547286Z",
     "iopub.status.idle": "2022-08-20T09:35:32.573223Z",
     "shell.execute_reply": "2022-08-20T09:35:32.571649Z",
     "shell.execute_reply.started": "2022-08-20T09:35:32.547948Z"
    },
    "tags": []
   },
   "outputs": [
    {
     "name": "stdout",
     "output_type": "stream",
     "text": [
      "Number of records with min value : 1\n"
     ]
    }
   ],
   "source": [
    "print(f'Number of records with min value : {ddf[ddf[\"r_cool\"] == ddf[\"r_cool\"].min()].compute().shape[0]}')"
   ]
  },
  {
   "cell_type": "markdown",
   "id": "c256d165-b0fb-4fa4-935a-93c7eb0b0fb6",
   "metadata": {},
   "source": [
    "There's only a single record with minimum value for `r_cool`"
   ]
  },
  {
   "cell_type": "markdown",
   "id": "12f942fb-5952-4a9b-ad15-d8e5546132e0",
   "metadata": {},
   "source": [
    "### Maximum Value of Cool Ratings"
   ]
  },
  {
   "cell_type": "code",
   "execution_count": 25,
   "id": "77898cf3-c8ea-4955-83cf-c92cd8ece852",
   "metadata": {
    "execution": {
     "iopub.execute_input": "2022-08-20T09:35:33.541328Z",
     "iopub.status.busy": "2022-08-20T09:35:33.539797Z",
     "iopub.status.idle": "2022-08-20T09:35:33.564164Z",
     "shell.execute_reply": "2022-08-20T09:35:33.562817Z",
     "shell.execute_reply.started": "2022-08-20T09:35:33.541244Z"
    },
    "tags": []
   },
   "outputs": [
    {
     "data": {
      "text/plain": [
       "404"
      ]
     },
     "execution_count": 25,
     "metadata": {},
     "output_type": "execute_result"
    }
   ],
   "source": [
    "ddf[\"r_cool\"].max().compute()"
   ]
  },
  {
   "cell_type": "code",
   "execution_count": 26,
   "id": "b232fe8d-24b6-4d99-8cae-d2d29d3eee5c",
   "metadata": {
    "execution": {
     "iopub.execute_input": "2022-08-20T09:35:33.865281Z",
     "iopub.status.busy": "2022-08-20T09:35:33.864161Z",
     "iopub.status.idle": "2022-08-20T09:35:33.891670Z",
     "shell.execute_reply": "2022-08-20T09:35:33.890507Z",
     "shell.execute_reply.started": "2022-08-20T09:35:33.865220Z"
    },
    "tags": []
   },
   "outputs": [
    {
     "name": "stdout",
     "output_type": "stream",
     "text": [
      "Number of records with min value : 1\n"
     ]
    }
   ],
   "source": [
    "print(f'Number of records with min value : {ddf[ddf[\"r_cool\"] == ddf[\"r_cool\"].max()].compute().shape[0]}')"
   ]
  },
  {
   "cell_type": "markdown",
   "id": "c799bb50-273c-4f95-828c-07053bc6a626",
   "metadata": {},
   "source": [
    "The number of records with maximum value is also $1$ for `r_cool`"
   ]
  },
  {
   "cell_type": "markdown",
   "id": "91e0cbcd-6a01-46e8-bb53-a71cbe50bf56",
   "metadata": {},
   "source": [
    "## Histogram of b_stars"
   ]
  },
  {
   "cell_type": "code",
   "execution_count": 27,
   "id": "eb47d472-45d2-4c60-8680-34f233c99be2",
   "metadata": {
    "execution": {
     "iopub.execute_input": "2022-08-20T09:35:35.420087Z",
     "iopub.status.busy": "2022-08-20T09:35:35.419223Z",
     "iopub.status.idle": "2022-08-20T09:35:35.536484Z",
     "shell.execute_reply": "2022-08-20T09:35:35.535681Z",
     "shell.execute_reply.started": "2022-08-20T09:35:35.419903Z"
    },
    "tags": []
   },
   "outputs": [
    {
     "data": {
      "text/html": [
       "\n",
       "  <div class=\"bk-root\" id=\"5c1c9470-2124-46bc-aa31-2880e86d0a54\" data-root-id=\"1459\"></div>\n"
      ]
     },
     "metadata": {},
     "output_type": "display_data"
    },
    {
     "data": {
      "application/javascript": [
       "(function(root) {\n",
       "  function embed_document(root) {\n",
       "  const docs_json = {\"cdc83566-6cb2-4a2c-8a89-0da38a08458b\":{\"defs\":[],\"roots\":{\"references\":[{\"attributes\":{\"below\":[{\"id\":\"1470\"}],\"center\":[{\"id\":\"1473\"},{\"id\":\"1477\"}],\"height\":350,\"left\":[{\"id\":\"1474\"}],\"renderers\":[{\"id\":\"1496\"}],\"title\":{\"id\":\"1460\"},\"toolbar\":{\"id\":\"1485\"},\"x_range\":{\"id\":\"1462\"},\"x_scale\":{\"id\":\"1466\"},\"y_range\":{\"id\":\"1464\"},\"y_scale\":{\"id\":\"1468\"}},\"id\":\"1459\",\"subtype\":\"Figure\",\"type\":\"Plot\"},{\"attributes\":{},\"id\":\"1483\",\"type\":\"HelpTool\"},{\"attributes\":{},\"id\":\"1479\",\"type\":\"WheelZoomTool\"},{\"attributes\":{},\"id\":\"1481\",\"type\":\"SaveTool\"},{\"attributes\":{\"axis_label\":\"business stars\",\"coordinates\":null,\"formatter\":{\"id\":\"1543\"},\"group\":null,\"major_label_policy\":{\"id\":\"1544\"},\"ticker\":{\"id\":\"1471\"}},\"id\":\"1470\",\"type\":\"LinearAxis\"},{\"attributes\":{\"data\":{\"left\":{\"__ndarray__\":\"AAAAAAAA8D8AAAAAAAAAQAAAAAAAAAhAAAAAAAAAEEA=\",\"dtype\":\"float64\",\"order\":\"little\",\"shape\":[4]},\"right\":{\"__ndarray__\":\"AAAAAAAAAEAAAAAAAAAIQAAAAAAAABBAAAAAAAAAFEA=\",\"dtype\":\"float64\",\"order\":\"little\",\"shape\":[4]},\"top\":[63121,251606,731375,1530553]},\"selected\":{\"id\":\"1546\"},\"selection_policy\":{\"id\":\"1545\"}},\"id\":\"1492\",\"type\":\"ColumnDataSource\"},{\"attributes\":{},\"id\":\"1471\",\"type\":\"BasicTicker\"},{\"attributes\":{\"coordinates\":null,\"group\":null,\"text\":\"Distribution of Business stars\"},\"id\":\"1460\",\"type\":\"Title\"},{\"attributes\":{\"coordinates\":null,\"data_source\":{\"id\":\"1492\"},\"glyph\":{\"id\":\"1493\"},\"group\":null,\"hover_glyph\":null,\"muted_glyph\":{\"id\":\"1495\"},\"nonselection_glyph\":{\"id\":\"1494\"},\"view\":{\"id\":\"1497\"}},\"id\":\"1496\",\"type\":\"GlyphRenderer\"},{\"attributes\":{\"bottom\":{\"value\":0},\"fill_alpha\":{\"value\":0.1},\"fill_color\":{\"value\":\"orangered\"},\"hatch_alpha\":{\"value\":0.1},\"left\":{\"field\":\"left\"},\"line_alpha\":{\"value\":0.1},\"line_color\":{\"value\":\"white\"},\"right\":{\"field\":\"right\"},\"top\":{\"field\":\"top\"}},\"id\":\"1494\",\"type\":\"Quad\"},{\"attributes\":{},\"id\":\"1540\",\"type\":\"BasicTickFormatter\"},{\"attributes\":{\"overlay\":{\"id\":\"1484\"}},\"id\":\"1480\",\"type\":\"BoxZoomTool\"},{\"attributes\":{\"axis\":{\"id\":\"1470\"},\"coordinates\":null,\"group\":null,\"ticker\":null},\"id\":\"1473\",\"type\":\"Grid\"},{\"attributes\":{},\"id\":\"1462\",\"type\":\"DataRange1d\"},{\"attributes\":{\"axis_label\":\"frequency\",\"coordinates\":null,\"formatter\":{\"id\":\"1540\"},\"group\":null,\"major_label_policy\":{\"id\":\"1541\"},\"ticker\":{\"id\":\"1475\"}},\"id\":\"1474\",\"type\":\"LinearAxis\"},{\"attributes\":{\"axis\":{\"id\":\"1474\"},\"coordinates\":null,\"dimension\":1,\"group\":null,\"ticker\":null},\"id\":\"1477\",\"type\":\"Grid\"},{\"attributes\":{},\"id\":\"1544\",\"type\":\"AllLabels\"},{\"attributes\":{},\"id\":\"1475\",\"type\":\"BasicTicker\"},{\"attributes\":{},\"id\":\"1478\",\"type\":\"PanTool\"},{\"attributes\":{\"tools\":[{\"id\":\"1478\"},{\"id\":\"1479\"},{\"id\":\"1480\"},{\"id\":\"1481\"},{\"id\":\"1482\"},{\"id\":\"1483\"}]},\"id\":\"1485\",\"type\":\"Toolbar\"},{\"attributes\":{},\"id\":\"1543\",\"type\":\"BasicTickFormatter\"},{\"attributes\":{\"bottom\":{\"value\":0},\"fill_alpha\":{\"value\":0.2},\"fill_color\":{\"value\":\"orangered\"},\"hatch_alpha\":{\"value\":0.2},\"left\":{\"field\":\"left\"},\"line_alpha\":{\"value\":0.2},\"line_color\":{\"value\":\"white\"},\"right\":{\"field\":\"right\"},\"top\":{\"field\":\"top\"}},\"id\":\"1495\",\"type\":\"Quad\"},{\"attributes\":{\"bottom_units\":\"screen\",\"coordinates\":null,\"fill_alpha\":0.5,\"fill_color\":\"lightgrey\",\"group\":null,\"left_units\":\"screen\",\"level\":\"overlay\",\"line_alpha\":1.0,\"line_color\":\"black\",\"line_dash\":[4,4],\"line_width\":2,\"right_units\":\"screen\",\"syncable\":false,\"top_units\":\"screen\"},\"id\":\"1484\",\"type\":\"BoxAnnotation\"},{\"attributes\":{},\"id\":\"1546\",\"type\":\"Selection\"},{\"attributes\":{},\"id\":\"1545\",\"type\":\"UnionRenderers\"},{\"attributes\":{\"source\":{\"id\":\"1492\"}},\"id\":\"1497\",\"type\":\"CDSView\"},{\"attributes\":{},\"id\":\"1464\",\"type\":\"DataRange1d\"},{\"attributes\":{\"bottom\":{\"value\":0},\"fill_alpha\":{\"value\":0.85},\"fill_color\":{\"value\":\"orangered\"},\"hatch_alpha\":{\"value\":0.85},\"left\":{\"field\":\"left\"},\"line_alpha\":{\"value\":0.85},\"line_color\":{\"value\":\"white\"},\"right\":{\"field\":\"right\"},\"top\":{\"field\":\"top\"}},\"id\":\"1493\",\"type\":\"Quad\"},{\"attributes\":{},\"id\":\"1482\",\"type\":\"ResetTool\"},{\"attributes\":{},\"id\":\"1468\",\"type\":\"LinearScale\"},{\"attributes\":{},\"id\":\"1466\",\"type\":\"LinearScale\"},{\"attributes\":{},\"id\":\"1541\",\"type\":\"AllLabels\"}],\"root_ids\":[\"1459\"]},\"title\":\"Bokeh Application\",\"version\":\"2.4.3\"}};\n",
       "  const render_items = [{\"docid\":\"cdc83566-6cb2-4a2c-8a89-0da38a08458b\",\"root_ids\":[\"1459\"],\"roots\":{\"1459\":\"5c1c9470-2124-46bc-aa31-2880e86d0a54\"}}];\n",
       "  root.Bokeh.embed.embed_items_notebook(docs_json, render_items);\n",
       "  }\n",
       "  if (root.Bokeh !== undefined) {\n",
       "    embed_document(root);\n",
       "  } else {\n",
       "    let attempts = 0;\n",
       "    const timer = setInterval(function(root) {\n",
       "      if (root.Bokeh !== undefined) {\n",
       "        clearInterval(timer);\n",
       "        embed_document(root);\n",
       "      } else {\n",
       "        attempts++;\n",
       "        if (attempts > 100) {\n",
       "          clearInterval(timer);\n",
       "          console.log(\"Bokeh: ERROR: Unable to run BokehJS code because BokehJS library is missing\");\n",
       "        }\n",
       "      }\n",
       "    }, 10, root)\n",
       "  }\n",
       "})(window);"
      ],
      "application/vnd.bokehjs_exec.v0+json": ""
     },
     "metadata": {
      "application/vnd.bokehjs_exec.v0+json": {
       "id": "1459"
      }
     },
     "output_type": "display_data"
    }
   ],
   "source": [
    "b_stars_hist, b_stars_edges = np.histogram(ddf[\"b_stars\"].compute(), range=(ddf[\"b_stars\"].min().compute(), \n",
    "                                                                            ddf[\"b_stars\"].max().compute()), bins=4)\n",
    "\n",
    "bokeh_hist(b_stars_hist, b_stars_edges, title=\"Distribution of Business stars\", x_label=\"business stars\", y_label=\"frequency\", \n",
    "           alpha=0.85, fill_color=\"orangered\")"
   ]
  },
  {
   "cell_type": "markdown",
   "id": "45e9efb8-8461-4277-9e0d-4c33d045bedb",
   "metadata": {},
   "source": [
    "We can observe a *high-frequency* of businesses having star ratings between $4$ and $5$. There are less instances of businesses having star ratings between $1$ and $2$."
   ]
  },
  {
   "cell_type": "markdown",
   "id": "c4a4551e-b4dc-429c-9f43-a4114096ebc5",
   "metadata": {},
   "source": [
    "## Text Data Statistics and EDA"
   ]
  },
  {
   "cell_type": "code",
   "execution_count": 28,
   "id": "20dd89cf-ca8d-4057-b3c8-18664eaa0aa7",
   "metadata": {
    "execution": {
     "iopub.execute_input": "2022-08-20T09:35:36.509972Z",
     "iopub.status.busy": "2022-08-20T09:35:36.509211Z",
     "iopub.status.idle": "2022-08-20T09:35:36.523798Z",
     "shell.execute_reply": "2022-08-20T09:35:36.522081Z",
     "shell.execute_reply.started": "2022-08-20T09:35:36.509943Z"
    },
    "tags": []
   },
   "outputs": [],
   "source": [
    "def calc_n_words(txt):\n",
    "    return len(txt.split())\n",
    "\n",
    "def calc_sen_len(txt):\n",
    "    return len(txt)\n",
    "\n",
    "def calc_avg_word_len(txt):\n",
    "    words = txt.split()\n",
    "    return sum([len(word) for word in words]) / len(words)"
   ]
  },
  {
   "cell_type": "markdown",
   "id": "36e9e4d1-1638-43ed-9f5d-84e4455d4fca",
   "metadata": {},
   "source": [
    "### Number of Words "
   ]
  },
  {
   "cell_type": "code",
   "execution_count": 29,
   "id": "b2631101-7021-48eb-88de-8a5749ebcb1f",
   "metadata": {
    "execution": {
     "iopub.execute_input": "2022-08-20T09:35:37.729526Z",
     "iopub.status.busy": "2022-08-20T09:35:37.728228Z",
     "iopub.status.idle": "2022-08-20T09:36:06.007061Z",
     "shell.execute_reply": "2022-08-20T09:36:06.006115Z",
     "shell.execute_reply.started": "2022-08-20T09:35:37.729471Z"
    },
    "tags": []
   },
   "outputs": [
    {
     "name": "stdout",
     "output_type": "stream",
     "text": [
      "CPU times: user 28.4 s, sys: 140 ms, total: 28.6 s\n",
      "Wall time: 28.3 s\n"
     ]
    }
   ],
   "source": [
    "%%time\n",
    "n_words = ddf.r_text.map(calc_n_words, meta=(None, \"float\")).compute()"
   ]
  },
  {
   "cell_type": "code",
   "execution_count": 30,
   "id": "3bbf6cc4-ef9c-4b75-970c-4ac6ca699afc",
   "metadata": {
    "execution": {
     "iopub.execute_input": "2022-08-20T09:36:06.008741Z",
     "iopub.status.busy": "2022-08-20T09:36:06.008484Z",
     "iopub.status.idle": "2022-08-20T09:36:06.109033Z",
     "shell.execute_reply": "2022-08-20T09:36:06.108095Z",
     "shell.execute_reply.started": "2022-08-20T09:36:06.008723Z"
    },
    "tags": []
   },
   "outputs": [
    {
     "data": {
      "text/html": [
       "\n",
       "  <div class=\"bk-root\" id=\"06e33151-054e-40ab-b872-010c97cdc56e\" data-root-id=\"1598\"></div>\n"
      ]
     },
     "metadata": {},
     "output_type": "display_data"
    },
    {
     "data": {
      "application/javascript": [
       "(function(root) {\n",
       "  function embed_document(root) {\n",
       "  const docs_json = {\"a4be435a-e335-4537-a5c6-254b1cce4231\":{\"defs\":[],\"roots\":{\"references\":[{\"attributes\":{\"below\":[{\"id\":\"1609\"}],\"center\":[{\"id\":\"1612\"},{\"id\":\"1616\"}],\"height\":350,\"left\":[{\"id\":\"1613\"}],\"renderers\":[{\"id\":\"1635\"}],\"title\":{\"id\":\"1599\"},\"toolbar\":{\"id\":\"1624\"},\"x_range\":{\"id\":\"1601\"},\"x_scale\":{\"id\":\"1605\"},\"y_range\":{\"id\":\"1603\"},\"y_scale\":{\"id\":\"1607\"}},\"id\":\"1598\",\"subtype\":\"Figure\",\"type\":\"Plot\"},{\"attributes\":{\"bottom\":{\"value\":0},\"fill_alpha\":{\"value\":0.85},\"fill_color\":{\"value\":\"mediumslateblue\"},\"hatch_alpha\":{\"value\":0.85},\"left\":{\"field\":\"left\"},\"line_alpha\":{\"value\":0.85},\"line_color\":{\"value\":\"white\"},\"right\":{\"field\":\"right\"},\"top\":{\"field\":\"top\"}},\"id\":\"1632\",\"type\":\"Quad\"},{\"attributes\":{},\"id\":\"1689\",\"type\":\"BasicTickFormatter\"},{\"attributes\":{},\"id\":\"1618\",\"type\":\"WheelZoomTool\"},{\"attributes\":{\"axis_label\":\"no. of words\",\"coordinates\":null,\"formatter\":{\"id\":\"1692\"},\"group\":null,\"major_label_policy\":{\"id\":\"1693\"},\"ticker\":{\"id\":\"1610\"}},\"id\":\"1609\",\"type\":\"LinearAxis\"},{\"attributes\":{\"axis\":{\"id\":\"1613\"},\"coordinates\":null,\"dimension\":1,\"group\":null,\"ticker\":null},\"id\":\"1616\",\"type\":\"Grid\"},{\"attributes\":{\"tools\":[{\"id\":\"1617\"},{\"id\":\"1618\"},{\"id\":\"1619\"},{\"id\":\"1620\"},{\"id\":\"1621\"},{\"id\":\"1622\"}]},\"id\":\"1624\",\"type\":\"Toolbar\"},{\"attributes\":{\"bottom_units\":\"screen\",\"coordinates\":null,\"fill_alpha\":0.5,\"fill_color\":\"lightgrey\",\"group\":null,\"left_units\":\"screen\",\"level\":\"overlay\",\"line_alpha\":1.0,\"line_color\":\"black\",\"line_dash\":[4,4],\"line_width\":2,\"right_units\":\"screen\",\"syncable\":false,\"top_units\":\"screen\"},\"id\":\"1623\",\"type\":\"BoxAnnotation\"},{\"attributes\":{\"axis_label\":\"frequency\",\"coordinates\":null,\"formatter\":{\"id\":\"1689\"},\"group\":null,\"major_label_policy\":{\"id\":\"1690\"},\"ticker\":{\"id\":\"1614\"}},\"id\":\"1613\",\"type\":\"LinearAxis\"},{\"attributes\":{},\"id\":\"1614\",\"type\":\"BasicTicker\"},{\"attributes\":{\"coordinates\":null,\"group\":null,\"text\":\"Distribution of Word Count\"},\"id\":\"1599\",\"type\":\"Title\"},{\"attributes\":{},\"id\":\"1622\",\"type\":\"HelpTool\"},{\"attributes\":{\"overlay\":{\"id\":\"1623\"}},\"id\":\"1619\",\"type\":\"BoxZoomTool\"},{\"attributes\":{},\"id\":\"1620\",\"type\":\"SaveTool\"},{\"attributes\":{},\"id\":\"1621\",\"type\":\"ResetTool\"},{\"attributes\":{},\"id\":\"1693\",\"type\":\"AllLabels\"},{\"attributes\":{},\"id\":\"1695\",\"type\":\"Selection\"},{\"attributes\":{},\"id\":\"1692\",\"type\":\"BasicTickFormatter\"},{\"attributes\":{},\"id\":\"1690\",\"type\":\"AllLabels\"},{\"attributes\":{},\"id\":\"1603\",\"type\":\"DataRange1d\"},{\"attributes\":{\"data\":{\"left\":{\"__ndarray__\":\"AAAAAAAA8D8pXI/C9SgnQClcj8L1KDZAH4XrUbheQEApXI/C9ahFQDMzMzMz80pAH4XrUbgeUECkcD0K18NSQClcj8L1aFVArkfhehQOWEAzMzMzM7NaQLgehetRWF1APgrXo3D9X0DhehSuR1FhQKRwPQrXo2JAZmZmZmb2Y0ApXI/C9UhlQOxRuB6Fm2ZArkfhehTuZ0BxPQrXo0BpQDMzMzMzk2pA9ihcj8Lla0C4HoXrUThtQHsUrkfhim5APgrXo3Ddb0AAAAAAAJhwQOF6FK5HQXFAw/UoXI/qcUCkcD0K15NyQIXrUbgePXNAZmZmZmbmc0BI4XoUro90QClcj8L1OHVACtejcD3idUDsUbgehYt2QM3MzMzMNHdArkfhehTed0CPwvUoXId4QHE9CtejMHlAUrgehevZeUAzMzMzM4N6QBWuR+F6LHtA9ihcj8LVe0DXo3A9Cn98QLgehetRKH1AmpmZmZnRfUB7FK5H4Xp+QFyPwvUoJH9APgrXo3DNf0CPwvUoXDuAQAAAAAAAkIBAcT0K16PkgEDhehSuRzmBQFK4HoXrjYFAw/UoXI/igUAzMzMzMzeCQKRwPQrXi4JAFa5H4XrggkCF61G4HjWDQPYoXI/CiYNAZmZmZmbeg0DXo3A9CjOEQEjhehSuh4RAuB6F61HchEApXI/C9TCFQJqZmZmZhYVACtejcD3ahUB7FK5H4S6GQOxRuB6Fg4ZAXI/C9SjYhkDNzMzMzCyHQD0K16NwgYdArkfhehTWh0AfhetRuCqIQI/C9Shcf4hAAAAAAADUiEBxPQrXoyiJQOF6FK5HfYlAUrgehevRiUDD9ShcjyaKQDMzMzMze4pApHA9CtfPikAVrkfheiSLQIXrUbgeeYtA9ihcj8LNi0BmZmZmZiKMQNejcD0Kd4xASOF6FK7LjEC4HoXrUSCNQClcj8L1dI1AmpmZmZnJjUAK16NwPR6OQHsUrkfhco5A7FG4HoXHjkBcj8L1KByPQM3MzMzMcI9APgrXo3DFj0DXo3A9Cg2QQI/C9ShcN5BASOF6FK5hkEA=\",\"dtype\":\"float64\",\"order\":\"little\",\"shape\":[100]},\"right\":{\"__ndarray__\":\"KVyPwvUoJ0ApXI/C9Sg2QB+F61G4XkBAKVyPwvWoRUAzMzMzM/NKQB+F61G4HlBApHA9CtfDUkApXI/C9WhVQK5H4XoUDlhAMzMzMzOzWkC4HoXrUVhdQD4K16Nw/V9A4XoUrkdRYUCkcD0K16NiQGZmZmZm9mNAKVyPwvVIZUDsUbgehZtmQK5H4XoU7mdAcT0K16NAaUAzMzMzM5NqQPYoXI/C5WtAuB6F61E4bUB7FK5H4YpuQD4K16Nw3W9AAAAAAACYcEDhehSuR0FxQMP1KFyP6nFApHA9CteTckCF61G4Hj1zQGZmZmZm5nNASOF6FK6PdEApXI/C9Th1QArXo3A94nVA7FG4HoWLdkDNzMzMzDR3QK5H4XoU3ndAj8L1KFyHeEBxPQrXozB5QFK4HoXr2XlAMzMzMzODekAVrkfheix7QPYoXI/C1XtA16NwPQp/fEC4HoXrUSh9QJqZmZmZ0X1AexSuR+F6fkBcj8L1KCR/QD4K16NwzX9Aj8L1KFw7gEAAAAAAAJCAQHE9Ctej5IBA4XoUrkc5gUBSuB6F642BQMP1KFyP4oFAMzMzMzM3gkCkcD0K14uCQBWuR+F64IJAhetRuB41g0D2KFyPwomDQGZmZmZm3oNA16NwPQozhEBI4XoUroeEQLgehetR3IRAKVyPwvUwhUCamZmZmYWFQArXo3A92oVAexSuR+EuhkDsUbgehYOGQFyPwvUo2IZAzczMzMwsh0A9CtejcIGHQK5H4XoU1odAH4XrUbgqiECPwvUoXH+IQAAAAAAA1IhAcT0K16MoiUDhehSuR32JQFK4HoXr0YlAw/UoXI8mikAzMzMzM3uKQKRwPQrXz4pAFa5H4Xoki0CF61G4HnmLQPYoXI/CzYtAZmZmZmYijEDXo3A9CneMQEjhehSuy4xAuB6F61EgjUApXI/C9XSNQJqZmZmZyY1ACtejcD0ejkB7FK5H4XKOQOxRuB6Fx45AXI/C9Sgcj0DNzMzMzHCPQD4K16NwxY9A16NwPQoNkECPwvUoXDeQQEjhehSuYZBAAAAAAACMkEA=\",\"dtype\":\"float64\",\"order\":\"little\",\"shape\":[100]},\"top\":[5301,94869,146690,180580,170879,185056,174993,148067,150208,124142,124049,102277,101409,92170,75508,73962,59182,57576,51211,41608,40763,33273,33110,26629,26255,23695,19514,19315,15839,15817,12904,13022,11649,9635,9708,7872,7989,7343,6038,5947,5056,4983,4113,4214,3838,3198,3190,2781,2779,2348,2382,2139,1866,1906,1555,1564,1510,1316,1289,1092,1138,937,992,912,766,824,660,710,654,595,594,523,528,433,486,445,392,442,375,399,389,446,461,405,495,448,463,396,368,259,167,159,89,56,40,15,14,3,2,2]},\"selected\":{\"id\":\"1695\"},\"selection_policy\":{\"id\":\"1694\"}},\"id\":\"1631\",\"type\":\"ColumnDataSource\"},{\"attributes\":{\"axis\":{\"id\":\"1609\"},\"coordinates\":null,\"group\":null,\"ticker\":null},\"id\":\"1612\",\"type\":\"Grid\"},{\"attributes\":{},\"id\":\"1694\",\"type\":\"UnionRenderers\"},{\"attributes\":{},\"id\":\"1601\",\"type\":\"DataRange1d\"},{\"attributes\":{},\"id\":\"1605\",\"type\":\"LinearScale\"},{\"attributes\":{\"bottom\":{\"value\":0},\"fill_alpha\":{\"value\":0.1},\"fill_color\":{\"value\":\"mediumslateblue\"},\"hatch_alpha\":{\"value\":0.1},\"left\":{\"field\":\"left\"},\"line_alpha\":{\"value\":0.1},\"line_color\":{\"value\":\"white\"},\"right\":{\"field\":\"right\"},\"top\":{\"field\":\"top\"}},\"id\":\"1633\",\"type\":\"Quad\"},{\"attributes\":{\"source\":{\"id\":\"1631\"}},\"id\":\"1636\",\"type\":\"CDSView\"},{\"attributes\":{\"bottom\":{\"value\":0},\"fill_alpha\":{\"value\":0.2},\"fill_color\":{\"value\":\"mediumslateblue\"},\"hatch_alpha\":{\"value\":0.2},\"left\":{\"field\":\"left\"},\"line_alpha\":{\"value\":0.2},\"line_color\":{\"value\":\"white\"},\"right\":{\"field\":\"right\"},\"top\":{\"field\":\"top\"}},\"id\":\"1634\",\"type\":\"Quad\"},{\"attributes\":{},\"id\":\"1607\",\"type\":\"LinearScale\"},{\"attributes\":{\"coordinates\":null,\"data_source\":{\"id\":\"1631\"},\"glyph\":{\"id\":\"1632\"},\"group\":null,\"hover_glyph\":null,\"muted_glyph\":{\"id\":\"1634\"},\"nonselection_glyph\":{\"id\":\"1633\"},\"view\":{\"id\":\"1636\"}},\"id\":\"1635\",\"type\":\"GlyphRenderer\"},{\"attributes\":{},\"id\":\"1610\",\"type\":\"BasicTicker\"},{\"attributes\":{},\"id\":\"1617\",\"type\":\"PanTool\"}],\"root_ids\":[\"1598\"]},\"title\":\"Bokeh Application\",\"version\":\"2.4.3\"}};\n",
       "  const render_items = [{\"docid\":\"a4be435a-e335-4537-a5c6-254b1cce4231\",\"root_ids\":[\"1598\"],\"roots\":{\"1598\":\"06e33151-054e-40ab-b872-010c97cdc56e\"}}];\n",
       "  root.Bokeh.embed.embed_items_notebook(docs_json, render_items);\n",
       "  }\n",
       "  if (root.Bokeh !== undefined) {\n",
       "    embed_document(root);\n",
       "  } else {\n",
       "    let attempts = 0;\n",
       "    const timer = setInterval(function(root) {\n",
       "      if (root.Bokeh !== undefined) {\n",
       "        clearInterval(timer);\n",
       "        embed_document(root);\n",
       "      } else {\n",
       "        attempts++;\n",
       "        if (attempts > 100) {\n",
       "          clearInterval(timer);\n",
       "          console.log(\"Bokeh: ERROR: Unable to run BokehJS code because BokehJS library is missing\");\n",
       "        }\n",
       "      }\n",
       "    }, 10, root)\n",
       "  }\n",
       "})(window);"
      ],
      "application/vnd.bokehjs_exec.v0+json": ""
     },
     "metadata": {
      "application/vnd.bokehjs_exec.v0+json": {
       "id": "1598"
      }
     },
     "output_type": "display_data"
    }
   ],
   "source": [
    "n_words_hist, n_words_edges = np.histogram(n_words, bins=100, range=(np.min(n_words), np.max(n_words)))\n",
    "bokeh_hist(n_words_hist, n_words_edges, title=\"Distribution of Word Count\", x_label=\"no. of words\", y_label=\"frequency\", \n",
    "           alpha=0.85, fill_color=\"mediumslateblue\")"
   ]
  },
  {
   "cell_type": "markdown",
   "id": "63b625ef-a21e-4665-9447-3c5c6558d29a",
   "metadata": {},
   "source": [
    "The word count is right skewed. Meaning most of the review is composed with small number of words and there are very few instances for which the number of words $>500$ which is evident from the *heavy tail* at the end of the distribution."
   ]
  },
  {
   "cell_type": "markdown",
   "id": "8bc323ab-4895-4623-bcb1-6e59c8870a8d",
   "metadata": {},
   "source": [
    "### Sentence Length"
   ]
  },
  {
   "cell_type": "code",
   "execution_count": 31,
   "id": "ecca6c7c-5678-4c01-92de-7562ea61ba5c",
   "metadata": {
    "execution": {
     "iopub.execute_input": "2022-08-20T09:36:06.110290Z",
     "iopub.status.busy": "2022-08-20T09:36:06.110034Z",
     "iopub.status.idle": "2022-08-20T09:36:07.766098Z",
     "shell.execute_reply": "2022-08-20T09:36:07.758140Z",
     "shell.execute_reply.started": "2022-08-20T09:36:06.110269Z"
    },
    "tags": []
   },
   "outputs": [
    {
     "name": "stdout",
     "output_type": "stream",
     "text": [
      "CPU times: user 1.63 s, sys: 35.7 ms, total: 1.67 s\n",
      "Wall time: 1.64 s\n"
     ]
    }
   ],
   "source": [
    "%%time\n",
    "sen_len = ddf.r_text.map(calc_sen_len, meta=(None, \"int\")).compute()"
   ]
  },
  {
   "cell_type": "code",
   "execution_count": 32,
   "id": "5d6388fe-896d-4d4f-b13c-e0f7b09cf42a",
   "metadata": {
    "execution": {
     "iopub.execute_input": "2022-08-20T09:36:07.770306Z",
     "iopub.status.busy": "2022-08-20T09:36:07.769569Z",
     "iopub.status.idle": "2022-08-20T09:36:07.906009Z",
     "shell.execute_reply": "2022-08-20T09:36:07.905400Z",
     "shell.execute_reply.started": "2022-08-20T09:36:07.770247Z"
    },
    "tags": []
   },
   "outputs": [
    {
     "data": {
      "text/html": [
       "\n",
       "  <div class=\"bk-root\" id=\"49e60589-df1f-4e5c-84a3-230294689a8e\" data-root-id=\"1747\"></div>\n"
      ]
     },
     "metadata": {},
     "output_type": "display_data"
    },
    {
     "data": {
      "application/javascript": [
       "(function(root) {\n",
       "  function embed_document(root) {\n",
       "  const docs_json = {\"01de048b-533b-49ba-b261-c6e6c5cf8062\":{\"defs\":[],\"roots\":{\"references\":[{\"attributes\":{\"below\":[{\"id\":\"1758\"}],\"center\":[{\"id\":\"1761\"},{\"id\":\"1765\"}],\"height\":350,\"left\":[{\"id\":\"1762\"}],\"renderers\":[{\"id\":\"1784\"}],\"title\":{\"id\":\"1748\"},\"toolbar\":{\"id\":\"1773\"},\"x_range\":{\"id\":\"1750\"},\"x_scale\":{\"id\":\"1754\"},\"y_range\":{\"id\":\"1752\"},\"y_scale\":{\"id\":\"1756\"}},\"id\":\"1747\",\"subtype\":\"Figure\",\"type\":\"Plot\"},{\"attributes\":{\"source\":{\"id\":\"1780\"}},\"id\":\"1785\",\"type\":\"CDSView\"},{\"attributes\":{},\"id\":\"1853\",\"type\":\"UnionRenderers\"},{\"attributes\":{\"tools\":[{\"id\":\"1766\"},{\"id\":\"1767\"},{\"id\":\"1768\"},{\"id\":\"1769\"},{\"id\":\"1770\"},{\"id\":\"1771\"}]},\"id\":\"1773\",\"type\":\"Toolbar\"},{\"attributes\":{\"coordinates\":null,\"group\":null,\"text\":\"Distribution of Sentence Length\"},\"id\":\"1748\",\"type\":\"Title\"},{\"attributes\":{\"bottom\":{\"value\":0},\"fill_alpha\":{\"value\":0.2},\"fill_color\":{\"value\":\"tomato\"},\"hatch_alpha\":{\"value\":0.2},\"left\":{\"field\":\"left\"},\"line_alpha\":{\"value\":0.2},\"line_color\":{\"value\":\"white\"},\"right\":{\"field\":\"right\"},\"top\":{\"field\":\"top\"}},\"id\":\"1783\",\"type\":\"Quad\"},{\"attributes\":{},\"id\":\"1752\",\"type\":\"DataRange1d\"},{\"attributes\":{\"data\":{\"left\":{\"__ndarray__\":\"AAAAAAAA8D8fhetRuH5JQB+F61G4PllA16NwPQrfYkAfhetRuB5pQGdmZmZmXm9A16NwPQrPckB7FK5H4e51QB+F61G4DnlAw/UoXI8ufEBnZmZmZk5/QIXrUbgeN4FA16NwPQrHgkApXI/C9VaEQHsUrkfh5oVAzczMzMx2h0AfhetRuAaJQHE9CtejlopAw/UoXI8mjEAVrkfheraNQGdmZmZmRo9AXI/C9ShrkECF61G4HjORQK5H4XoU+5FA16NwPQrDkkAAAAAAAIuTQClcj8L1UpRAUrgehesalUB7FK5H4eKVQKRwPQrXqpZAzczMzMxyl0D2KFyPwjqYQB+F61G4AplASOF6FK7KmUBxPQrXo5KaQJqZmZmZWptAw/UoXI8inEDsUbgeheqcQBWuR+F6sp1APgrXo3B6nkBnZmZmZkKfQEjhehQuBaBAXI/C9ShpoEBxPQrXI82gQIXrUbgeMaFAmpmZmRmVoUCuR+F6FPmhQMP1KFwPXaJA16NwPQrBokDsUbgeBSWjQAAAAAAAiaNAFa5H4frso0ApXI/C9VCkQD4K16PwtKRAUrgehesYpUBnZmZm5nylQHsUrkfh4KVAkML1KNxEpkCkcD0K16imQLkehevRDKdAzczMzMxwp0DiehSux9SnQPYoXI/COKhAC9ejcL2cqEAfhetRuACpQDMzMzOzZKlASOF6FK7IqUBcj8L1qCyqQHE9CtejkKpAhetRuJ70qkCamZmZmVirQK5H4XqUvKtAw/UoXI8grEDXo3A9ioSsQOxRuB6F6KxAAAAAAIBMrUAVrkfherCtQClcj8J1FK5APgrXo3B4rkBSuB6Fa9yuQGdmZmZmQK9AexSuR2Gkr0BI4XoULgSwQFK4HoUrNrBAXI/C9ShosEBnZmZmJpqwQHE9CtcjzLBAexSuRyH+sECF61G4HjCxQJDC9SgcYrFAmpmZmRmUsUCkcD0KF8axQK5H4XoU+LFAuR6F6xEqskDD9ShcD1yyQM3MzMwMjrJA16NwPQrAskDhehSuB/KyQOxRuB4FJLNA9ihcjwJWs0A=\",\"dtype\":\"float64\",\"order\":\"little\",\"shape\":[100]},\"right\":{\"__ndarray__\":\"H4XrUbh+SUAfhetRuD5ZQNejcD0K32JAH4XrUbgeaUBnZmZmZl5vQNejcD0Kz3JAexSuR+HudUAfhetRuA55QMP1KFyPLnxAZ2ZmZmZOf0CF61G4HjeBQNejcD0Kx4JAKVyPwvVWhEB7FK5H4eaFQM3MzMzMdodAH4XrUbgGiUBxPQrXo5aKQMP1KFyPJoxAFa5H4Xq2jUBnZmZmZkaPQFyPwvUoa5BAhetRuB4zkUCuR+F6FPuRQNejcD0Kw5JAAAAAAACLk0ApXI/C9VKUQFK4HoXrGpVAexSuR+HilUCkcD0K16qWQM3MzMzMcpdA9ihcj8I6mEAfhetRuAKZQEjhehSuyplAcT0K16OSmkCamZmZmVqbQMP1KFyPIpxA7FG4HoXqnEAVrkfherKdQD4K16Nwep5AZ2ZmZmZCn0BI4XoULgWgQFyPwvUoaaBAcT0K1yPNoECF61G4HjGhQJqZmZkZlaFArkfhehT5oUDD9ShcD12iQNejcD0KwaJA7FG4HgUlo0AAAAAAAImjQBWuR+H67KNAKVyPwvVQpEA+Ctej8LSkQFK4HoXrGKVAZ2ZmZuZ8pUB7FK5H4eClQJDC9SjcRKZApHA9CteopkC5HoXr0QynQM3MzMzMcKdA4noUrsfUp0D2KFyPwjioQAvXo3C9nKhAH4XrUbgAqUAzMzMzs2SpQEjhehSuyKlAXI/C9agsqkBxPQrXo5CqQIXrUbie9KpAmpmZmZlYq0CuR+F6lLyrQMP1KFyPIKxA16NwPYqErEDsUbgeheisQAAAAACATK1AFa5H4XqwrUApXI/CdRSuQD4K16NweK5AUrgehWvcrkBnZmZmZkCvQHsUrkdhpK9ASOF6FC4EsEBSuB6FKzawQFyPwvUoaLBAZ2ZmZiaasEBxPQrXI8ywQHsUrkch/rBAhetRuB4wsUCQwvUoHGKxQJqZmZkZlLFApHA9ChfGsUCuR+F6FPixQLkehesRKrJAw/UoXA9cskDNzMzMDI6yQNejcD0KwLJA4XoUrgfyskDsUbgeBSSzQPYoXI8CVrNAAAAAAACIs0A=\",\"dtype\":\"float64\",\"order\":\"little\",\"shape\":[100]},\"top\":[1594,38572,122986,144927,156793,160360,157154,149330,140593,130424,120014,110908,101803,92089,84915,77883,71551,64902,56917,51501,46407,41950,38110,34508,31368,28370,25783,23396,21510,19420,17879,16374,14723,13658,12593,11289,10479,9695,8935,8025,7479,6738,6354,6003,5421,4971,4539,4248,3924,3611,3417,3089,2914,2659,2511,2368,2158,2003,1923,1723,1670,1499,1392,1408,1313,1241,1142,1023,986,930,904,826,757,698,730,675,597,580,550,587,493,602,437,384,395,366,355,323,310,303,332,314,259,302,296,334,374,452,670,2105]},\"selected\":{\"id\":\"1854\"},\"selection_policy\":{\"id\":\"1853\"}},\"id\":\"1780\",\"type\":\"ColumnDataSource\"},{\"attributes\":{},\"id\":\"1759\",\"type\":\"BasicTicker\"},{\"attributes\":{\"coordinates\":null,\"data_source\":{\"id\":\"1780\"},\"glyph\":{\"id\":\"1781\"},\"group\":null,\"hover_glyph\":null,\"muted_glyph\":{\"id\":\"1783\"},\"nonselection_glyph\":{\"id\":\"1782\"},\"view\":{\"id\":\"1785\"}},\"id\":\"1784\",\"type\":\"GlyphRenderer\"},{\"attributes\":{},\"id\":\"1767\",\"type\":\"WheelZoomTool\"},{\"attributes\":{\"bottom\":{\"value\":0},\"fill_alpha\":{\"value\":0.1},\"fill_color\":{\"value\":\"tomato\"},\"hatch_alpha\":{\"value\":0.1},\"left\":{\"field\":\"left\"},\"line_alpha\":{\"value\":0.1},\"line_color\":{\"value\":\"white\"},\"right\":{\"field\":\"right\"},\"top\":{\"field\":\"top\"}},\"id\":\"1782\",\"type\":\"Quad\"},{\"attributes\":{\"axis\":{\"id\":\"1762\"},\"coordinates\":null,\"dimension\":1,\"group\":null,\"ticker\":null},\"id\":\"1765\",\"type\":\"Grid\"},{\"attributes\":{\"axis_label\":\"sentence length\",\"coordinates\":null,\"formatter\":{\"id\":\"1851\"},\"group\":null,\"major_label_policy\":{\"id\":\"1852\"},\"ticker\":{\"id\":\"1759\"}},\"id\":\"1758\",\"type\":\"LinearAxis\"},{\"attributes\":{},\"id\":\"1756\",\"type\":\"LinearScale\"},{\"attributes\":{\"axis_label\":\"frequency\",\"coordinates\":null,\"formatter\":{\"id\":\"1848\"},\"group\":null,\"major_label_policy\":{\"id\":\"1849\"},\"ticker\":{\"id\":\"1763\"}},\"id\":\"1762\",\"type\":\"LinearAxis\"},{\"attributes\":{},\"id\":\"1848\",\"type\":\"BasicTickFormatter\"},{\"attributes\":{},\"id\":\"1750\",\"type\":\"DataRange1d\"},{\"attributes\":{},\"id\":\"1854\",\"type\":\"Selection\"},{\"attributes\":{},\"id\":\"1763\",\"type\":\"BasicTicker\"},{\"attributes\":{},\"id\":\"1849\",\"type\":\"AllLabels\"},{\"attributes\":{\"bottom\":{\"value\":0},\"fill_alpha\":{\"value\":0.85},\"fill_color\":{\"value\":\"tomato\"},\"hatch_alpha\":{\"value\":0.85},\"left\":{\"field\":\"left\"},\"line_alpha\":{\"value\":0.85},\"line_color\":{\"value\":\"white\"},\"right\":{\"field\":\"right\"},\"top\":{\"field\":\"top\"}},\"id\":\"1781\",\"type\":\"Quad\"},{\"attributes\":{},\"id\":\"1851\",\"type\":\"BasicTickFormatter\"},{\"attributes\":{},\"id\":\"1771\",\"type\":\"HelpTool\"},{\"attributes\":{},\"id\":\"1766\",\"type\":\"PanTool\"},{\"attributes\":{\"overlay\":{\"id\":\"1772\"}},\"id\":\"1768\",\"type\":\"BoxZoomTool\"},{\"attributes\":{},\"id\":\"1769\",\"type\":\"SaveTool\"},{\"attributes\":{},\"id\":\"1852\",\"type\":\"AllLabels\"},{\"attributes\":{},\"id\":\"1754\",\"type\":\"LinearScale\"},{\"attributes\":{},\"id\":\"1770\",\"type\":\"ResetTool\"},{\"attributes\":{\"bottom_units\":\"screen\",\"coordinates\":null,\"fill_alpha\":0.5,\"fill_color\":\"lightgrey\",\"group\":null,\"left_units\":\"screen\",\"level\":\"overlay\",\"line_alpha\":1.0,\"line_color\":\"black\",\"line_dash\":[4,4],\"line_width\":2,\"right_units\":\"screen\",\"syncable\":false,\"top_units\":\"screen\"},\"id\":\"1772\",\"type\":\"BoxAnnotation\"},{\"attributes\":{\"axis\":{\"id\":\"1758\"},\"coordinates\":null,\"group\":null,\"ticker\":null},\"id\":\"1761\",\"type\":\"Grid\"}],\"root_ids\":[\"1747\"]},\"title\":\"Bokeh Application\",\"version\":\"2.4.3\"}};\n",
       "  const render_items = [{\"docid\":\"01de048b-533b-49ba-b261-c6e6c5cf8062\",\"root_ids\":[\"1747\"],\"roots\":{\"1747\":\"49e60589-df1f-4e5c-84a3-230294689a8e\"}}];\n",
       "  root.Bokeh.embed.embed_items_notebook(docs_json, render_items);\n",
       "  }\n",
       "  if (root.Bokeh !== undefined) {\n",
       "    embed_document(root);\n",
       "  } else {\n",
       "    let attempts = 0;\n",
       "    const timer = setInterval(function(root) {\n",
       "      if (root.Bokeh !== undefined) {\n",
       "        clearInterval(timer);\n",
       "        embed_document(root);\n",
       "      } else {\n",
       "        attempts++;\n",
       "        if (attempts > 100) {\n",
       "          clearInterval(timer);\n",
       "          console.log(\"Bokeh: ERROR: Unable to run BokehJS code because BokehJS library is missing\");\n",
       "        }\n",
       "      }\n",
       "    }, 10, root)\n",
       "  }\n",
       "})(window);"
      ],
      "application/vnd.bokehjs_exec.v0+json": ""
     },
     "metadata": {
      "application/vnd.bokehjs_exec.v0+json": {
       "id": "1747"
      }
     },
     "output_type": "display_data"
    }
   ],
   "source": [
    "sen_len_hist, sen_len_edges = np.histogram(sen_len, bins=100, range=(np.min(sen_len), np.max(sen_len)))\n",
    "bokeh_hist(sen_len_hist, sen_len_edges, title=\"Distribution of Sentence Length\", x_label=\"sentence length\", y_label=\"frequency\", \n",
    "           alpha=0.85, fill_color=\"tomato\")"
   ]
  },
  {
   "cell_type": "markdown",
   "id": "de8c85fc-e09b-45a4-841f-cc4465df38ac",
   "metadata": {},
   "source": [
    "The distribution of the *Sentence length* follows a similar distribution as we have observed for *word counts*. The data is right-skewed with a heavy-tail at the end."
   ]
  },
  {
   "cell_type": "markdown",
   "id": "d419ac5b-309e-4dbc-8c59-63f9b1af1d18",
   "metadata": {},
   "source": [
    "### Average Word Length"
   ]
  },
  {
   "cell_type": "code",
   "execution_count": 33,
   "id": "40ef35c6-c7eb-460d-846b-483062a8c993",
   "metadata": {
    "execution": {
     "iopub.execute_input": "2022-08-20T09:36:07.907603Z",
     "iopub.status.busy": "2022-08-20T09:36:07.906762Z",
     "iopub.status.idle": "2022-08-20T09:37:03.267007Z",
     "shell.execute_reply": "2022-08-20T09:37:03.265443Z",
     "shell.execute_reply.started": "2022-08-20T09:36:07.907552Z"
    },
    "tags": []
   },
   "outputs": [
    {
     "name": "stdout",
     "output_type": "stream",
     "text": [
      "CPU times: user 55.5 s, sys: 403 ms, total: 55.9 s\n",
      "Wall time: 55.4 s\n"
     ]
    }
   ],
   "source": [
    "%%time\n",
    "avg_word_len = ddf.r_text.map(calc_avg_word_len, meta=(None, \"float\")).compute()"
   ]
  },
  {
   "cell_type": "code",
   "execution_count": 34,
   "id": "e67447cd-d15c-4f2c-95a1-f9ae83eb7c7d",
   "metadata": {
    "execution": {
     "iopub.execute_input": "2022-08-20T09:37:03.270335Z",
     "iopub.status.busy": "2022-08-20T09:37:03.269264Z",
     "iopub.status.idle": "2022-08-20T09:37:03.378015Z",
     "shell.execute_reply": "2022-08-20T09:37:03.377421Z",
     "shell.execute_reply.started": "2022-08-20T09:37:03.270259Z"
    },
    "tags": []
   },
   "outputs": [
    {
     "data": {
      "text/html": [
       "\n",
       "  <div class=\"bk-root\" id=\"725b293f-91e7-49fa-ba4b-9d8ac9856be0\" data-root-id=\"1906\"></div>\n"
      ]
     },
     "metadata": {},
     "output_type": "display_data"
    },
    {
     "data": {
      "application/javascript": [
       "(function(root) {\n",
       "  function embed_document(root) {\n",
       "  const docs_json = {\"63d25b32-c9f9-4be1-a847-88538dfc7746\":{\"defs\":[],\"roots\":{\"references\":[{\"attributes\":{\"below\":[{\"id\":\"1917\"}],\"center\":[{\"id\":\"1920\"},{\"id\":\"1924\"}],\"height\":350,\"left\":[{\"id\":\"1921\"}],\"renderers\":[{\"id\":\"1943\"}],\"title\":{\"id\":\"1907\"},\"toolbar\":{\"id\":\"1932\"},\"x_range\":{\"id\":\"1909\"},\"x_scale\":{\"id\":\"1913\"},\"y_range\":{\"id\":\"1911\"},\"y_scale\":{\"id\":\"1915\"}},\"id\":\"1906\",\"subtype\":\"Figure\",\"type\":\"Plot\"},{\"attributes\":{},\"id\":\"2018\",\"type\":\"AllLabels\"},{\"attributes\":{},\"id\":\"2020\",\"type\":\"BasicTickFormatter\"},{\"attributes\":{},\"id\":\"2021\",\"type\":\"AllLabels\"},{\"attributes\":{\"tools\":[{\"id\":\"1925\"},{\"id\":\"1926\"},{\"id\":\"1927\"},{\"id\":\"1928\"},{\"id\":\"1929\"},{\"id\":\"1930\"}]},\"id\":\"1932\",\"type\":\"Toolbar\"},{\"attributes\":{},\"id\":\"2017\",\"type\":\"BasicTickFormatter\"},{\"attributes\":{},\"id\":\"1928\",\"type\":\"SaveTool\"},{\"attributes\":{},\"id\":\"2022\",\"type\":\"UnionRenderers\"},{\"attributes\":{\"line_color\":\"mediumseagreen\",\"x\":{\"field\":\"x\"},\"y\":{\"field\":\"y\"}},\"id\":\"1940\",\"type\":\"Line\"},{\"attributes\":{},\"id\":\"1911\",\"type\":\"DataRange1d\"},{\"attributes\":{},\"id\":\"1930\",\"type\":\"HelpTool\"},{\"attributes\":{},\"id\":\"1918\",\"type\":\"BasicTicker\"},{\"attributes\":{\"coordinates\":null,\"group\":null,\"text\":\"Distribution of Average Word Length\"},\"id\":\"1907\",\"type\":\"Title\"},{\"attributes\":{\"overlay\":{\"id\":\"1931\"}},\"id\":\"1927\",\"type\":\"BoxZoomTool\"},{\"attributes\":{\"line_alpha\":0.2,\"line_color\":\"mediumseagreen\",\"x\":{\"field\":\"x\"},\"y\":{\"field\":\"y\"}},\"id\":\"1942\",\"type\":\"Line\"},{\"attributes\":{\"data\":{\"x\":{\"__ndarray__\":\"AAAAAAAA8D+n4OUUvJwaQKfg5RS8nChAfWisD431MUCn4OUUvJw3QNFYHxrrQz1AfWisD411QUCSJEmSJElEQKfg5RS8HEdAvJyCl1PwSUDRWB8a68NMQOYUvJyCl09AfWisD401UUCIxvrQWJ9SQJIkSZIkCVRAnYKXU/ByVUCn4OUUvNxWQLE+NNaHRlhAvJyCl1OwWUDG+tBYHxpbQNFYHxrrg1xA27Zt27btXUDmFLycgldfQHg5BS+nYGBAfWisD40VYUCCl1PwcsphQIjG+tBYf2JAjfWhsT40Y0CSJEmSJOljQJdT8HIKnmRAnYKXU/BSZUCisT401gdmQKfg5RS8vGZArA+N9aFxZ0CxPjTWhyZoQLdt27Zt22hAvJyCl1OQaUDByyl4OUVqQMb60Fgf+mpAzCl4OQWva0DRWB8a62NsQNaHxvrQGG1A27Zt27bNbUDg5RS8nIJuQOYUvJyCN29A60NjfWjsb0B4OQUvp1BwQPvQWB8aq3BAfWisD40FcUAAAAAAAGBxQA==\",\"dtype\":\"float64\",\"order\":\"little\",\"shape\":[50]},\"y\":{\"__ndarray__\":\"C3kLL/31Uj+wiXLR5kZVP/6L8Un1wlc/uEmnNb9oWj90/xn0DzZdP8xSlzjuE2A/2Pz7Dh6dYT80JPlfMzRjP6PEB9Jb1mQ/o3o9UFuAZj9SkviSky5oP+XNkLgO3Wk/60Wy24yHaz8cYQ95lCltP7aZ3lmFvm4/OnCuztYgcD860kkxMNdwPz0MFL8GgHE/nKiSyywZcj9Lij/9mqByP7s7HLh7FHM/wcWQrzVzcz9S5JVKdbtzP6mwHI007HM/6xrDRMEEdD/rGsNEwQR0P6mwHI007HM/UuSVSnW7cz/BxZCvNXNzP7s7HLh7FHM/S4o//Zqgcj+cqJLLLBlyPz0MFL8GgHE/O9JJMTDXcD87cK7O1iBwP7aZ3lmFvm4/HGEPeZQpbT/sRbLbjIdrP+bNkLgO3Wk/UpL4kpMuaD+jej1QW4BmP6PEB9Jb1mQ/NST5XzM0Yz/c/PsOHp1hP8xSlzjuE2A/dP8Z9A82XT+5Sac1v2haP/2L8Un1wlc/s4ly0eZGVT8LeQsv/fVSPw==\",\"dtype\":\"float64\",\"order\":\"little\",\"shape\":[50]}},\"selected\":{\"id\":\"2023\"},\"selection_policy\":{\"id\":\"2022\"}},\"id\":\"1939\",\"type\":\"ColumnDataSource\"},{\"attributes\":{},\"id\":\"2023\",\"type\":\"Selection\"},{\"attributes\":{},\"id\":\"1913\",\"type\":\"LinearScale\"},{\"attributes\":{\"bottom_units\":\"screen\",\"coordinates\":null,\"fill_alpha\":0.5,\"fill_color\":\"lightgrey\",\"group\":null,\"left_units\":\"screen\",\"level\":\"overlay\",\"line_alpha\":1.0,\"line_color\":\"black\",\"line_dash\":[4,4],\"line_width\":2,\"right_units\":\"screen\",\"syncable\":false,\"top_units\":\"screen\"},\"id\":\"1931\",\"type\":\"BoxAnnotation\"},{\"attributes\":{},\"id\":\"1922\",\"type\":\"BasicTicker\"},{\"attributes\":{},\"id\":\"1915\",\"type\":\"LinearScale\"},{\"attributes\":{\"line_alpha\":0.1,\"line_color\":\"mediumseagreen\",\"x\":{\"field\":\"x\"},\"y\":{\"field\":\"y\"}},\"id\":\"1941\",\"type\":\"Line\"},{\"attributes\":{},\"id\":\"1926\",\"type\":\"WheelZoomTool\"},{\"attributes\":{},\"id\":\"1909\",\"type\":\"DataRange1d\"},{\"attributes\":{\"axis\":{\"id\":\"1917\"},\"coordinates\":null,\"group\":null,\"ticker\":null},\"id\":\"1920\",\"type\":\"Grid\"},{\"attributes\":{\"source\":{\"id\":\"1939\"}},\"id\":\"1944\",\"type\":\"CDSView\"},{\"attributes\":{},\"id\":\"1929\",\"type\":\"ResetTool\"},{\"attributes\":{\"axis_label\":\"Avg word len\",\"coordinates\":null,\"formatter\":{\"id\":\"2020\"},\"group\":null,\"major_label_policy\":{\"id\":\"2021\"},\"ticker\":{\"id\":\"1918\"}},\"id\":\"1917\",\"type\":\"LinearAxis\"},{\"attributes\":{},\"id\":\"1925\",\"type\":\"PanTool\"},{\"attributes\":{\"axis\":{\"id\":\"1921\"},\"coordinates\":null,\"dimension\":1,\"group\":null,\"ticker\":null},\"id\":\"1924\",\"type\":\"Grid\"},{\"attributes\":{\"axis_label\":\"pdf\",\"coordinates\":null,\"formatter\":{\"id\":\"2017\"},\"group\":null,\"major_label_policy\":{\"id\":\"2018\"},\"ticker\":{\"id\":\"1922\"}},\"id\":\"1921\",\"type\":\"LinearAxis\"},{\"attributes\":{\"coordinates\":null,\"data_source\":{\"id\":\"1939\"},\"glyph\":{\"id\":\"1940\"},\"group\":null,\"hover_glyph\":null,\"muted_glyph\":{\"id\":\"1942\"},\"nonselection_glyph\":{\"id\":\"1941\"},\"view\":{\"id\":\"1944\"}},\"id\":\"1943\",\"type\":\"GlyphRenderer\"}],\"root_ids\":[\"1906\"]},\"title\":\"Bokeh Application\",\"version\":\"2.4.3\"}};\n",
       "  const render_items = [{\"docid\":\"63d25b32-c9f9-4be1-a847-88538dfc7746\",\"root_ids\":[\"1906\"],\"roots\":{\"1906\":\"725b293f-91e7-49fa-ba4b-9d8ac9856be0\"}}];\n",
       "  root.Bokeh.embed.embed_items_notebook(docs_json, render_items);\n",
       "  }\n",
       "  if (root.Bokeh !== undefined) {\n",
       "    embed_document(root);\n",
       "  } else {\n",
       "    let attempts = 0;\n",
       "    const timer = setInterval(function(root) {\n",
       "      if (root.Bokeh !== undefined) {\n",
       "        clearInterval(timer);\n",
       "        embed_document(root);\n",
       "      } else {\n",
       "        attempts++;\n",
       "        if (attempts > 100) {\n",
       "          clearInterval(timer);\n",
       "          console.log(\"Bokeh: ERROR: Unable to run BokehJS code because BokehJS library is missing\");\n",
       "        }\n",
       "      }\n",
       "    }, 10, root)\n",
       "  }\n",
       "})(window);"
      ],
      "application/vnd.bokehjs_exec.v0+json": ""
     },
     "metadata": {
      "application/vnd.bokehjs_exec.v0+json": {
       "id": "1906"
      }
     },
     "output_type": "display_data"
    }
   ],
   "source": [
    "avg_word_len_x, avg_word_len_pdf = calc_pdf(avg_word_len, None, isdask=False)\n",
    "bokeh_dist(avg_word_len_x, avg_word_len_pdf, \n",
    "           x_label=\"Avg word len\", y_label=\"pdf\", pdf_color=\"mediumseagreen\", title=\"Distribution of Average Word Length\")"
   ]
  },
  {
   "cell_type": "markdown",
   "id": "53758aa9-8b8a-4b16-a790-d57b1a8b81e2",
   "metadata": {},
   "source": [
    "The distribution of average word length follows a normal distribution, which is quite evident as the distribution of mean should always follow one.\n",
    "\n",
    "So the questions for the text data are as follows:\n",
    "* Does the long reviews have negative sentiments or postive sentiments? \n",
    "* Does the long reviews affect the star rating? \n",
    "* Are long reviews any good?"
   ]
  },
  {
   "cell_type": "markdown",
   "id": "7d1abd0a-d397-477b-b182-bd8ec18bbff1",
   "metadata": {},
   "source": [
    "### Calculate the Frequency of non-english reviews"
   ]
  },
  {
   "cell_type": "code",
   "execution_count": 36,
   "id": "a0be3512-b9e9-4bdc-9f55-db535c4677d5",
   "metadata": {
    "execution": {
     "iopub.execute_input": "2022-08-20T09:37:17.236036Z",
     "iopub.status.busy": "2022-08-20T09:37:17.235543Z",
     "iopub.status.idle": "2022-08-20T09:37:17.307355Z",
     "shell.execute_reply": "2022-08-20T09:37:17.306240Z",
     "shell.execute_reply.started": "2022-08-20T09:37:17.235995Z"
    },
    "tags": []
   },
   "outputs": [
    {
     "data": {
      "text/plain": [
       "is_english\n",
       "0    2575835\n",
       "1        820\n",
       "dtype: int64"
      ]
     },
     "execution_count": 36,
     "metadata": {},
     "output_type": "execute_result"
    }
   ],
   "source": [
    "ddf.groupby('is_english').size().compute()"
   ]
  },
  {
   "cell_type": "markdown",
   "id": "df13c8b7-ece9-4cdc-8c48-1dfde22c9c1c",
   "metadata": {},
   "source": [
    "## Histogram of Friends Count"
   ]
  },
  {
   "cell_type": "code",
   "execution_count": 37,
   "id": "04107c72-86f9-43ee-8e0e-36dc88bbe1c9",
   "metadata": {
    "execution": {
     "iopub.execute_input": "2022-08-20T09:37:39.007722Z",
     "iopub.status.busy": "2022-08-20T09:37:39.006210Z",
     "iopub.status.idle": "2022-08-20T09:37:39.195390Z",
     "shell.execute_reply": "2022-08-20T09:37:39.194730Z",
     "shell.execute_reply.started": "2022-08-20T09:37:39.007660Z"
    },
    "tags": []
   },
   "outputs": [
    {
     "data": {
      "text/html": [
       "\n",
       "  <div class=\"bk-root\" id=\"8eaaab57-d2aa-4d9c-892d-bebe82302982\" data-root-id=\"2075\"></div>\n"
      ]
     },
     "metadata": {},
     "output_type": "display_data"
    },
    {
     "data": {
      "application/javascript": [
       "(function(root) {\n",
       "  function embed_document(root) {\n",
       "  const docs_json = {\"85aed1a8-55c2-419c-a3b3-2ebfdaeadeca\":{\"defs\":[],\"roots\":{\"references\":[{\"attributes\":{\"below\":[{\"id\":\"2086\"}],\"center\":[{\"id\":\"2089\"},{\"id\":\"2093\"}],\"height\":350,\"left\":[{\"id\":\"2090\"}],\"renderers\":[{\"id\":\"2112\"}],\"title\":{\"id\":\"2076\"},\"toolbar\":{\"id\":\"2101\"},\"x_range\":{\"id\":\"2078\"},\"x_scale\":{\"id\":\"2082\"},\"y_range\":{\"id\":\"2080\"},\"y_scale\":{\"id\":\"2084\"}},\"id\":\"2075\",\"subtype\":\"Figure\",\"type\":\"Plot\"},{\"attributes\":{\"coordinates\":null,\"group\":null,\"text\":\"Distribution of Friends Count\"},\"id\":\"2076\",\"type\":\"Title\"},{\"attributes\":{\"bottom\":{\"value\":0},\"fill_color\":{\"value\":\"indigo\"},\"left\":{\"field\":\"left\"},\"line_color\":{\"value\":\"white\"},\"right\":{\"field\":\"right\"},\"top\":{\"field\":\"top\"}},\"id\":\"2109\",\"type\":\"Quad\"},{\"attributes\":{\"bottom\":{\"value\":0},\"fill_alpha\":{\"value\":0.1},\"fill_color\":{\"value\":\"indigo\"},\"hatch_alpha\":{\"value\":0.1},\"left\":{\"field\":\"left\"},\"line_alpha\":{\"value\":0.1},\"line_color\":{\"value\":\"white\"},\"right\":{\"field\":\"right\"},\"top\":{\"field\":\"top\"}},\"id\":\"2110\",\"type\":\"Quad\"},{\"attributes\":{},\"id\":\"2084\",\"type\":\"LinearScale\"},{\"attributes\":{\"tools\":[{\"id\":\"2094\"},{\"id\":\"2095\"},{\"id\":\"2096\"},{\"id\":\"2097\"},{\"id\":\"2098\"},{\"id\":\"2099\"}]},\"id\":\"2101\",\"type\":\"Toolbar\"},{\"attributes\":{},\"id\":\"2087\",\"type\":\"BasicTicker\"},{\"attributes\":{\"axis\":{\"id\":\"2090\"},\"coordinates\":null,\"dimension\":1,\"group\":null,\"ticker\":null},\"id\":\"2093\",\"type\":\"Grid\"},{\"attributes\":{},\"id\":\"2094\",\"type\":\"PanTool\"},{\"attributes\":{\"data\":{\"left\":{\"__ndarray__\":\"AAAAAAAA8D+uR+F6FN5iQK5H4XoUznJAhetRuB4tfECuR+F6FMaCQJqZmZmZdYdAhetRuB4ljEC4HoXrUWqQQK5H4XoUwpJApHA9CtcZlUCamZmZmXGXQI/C9ShcyZlAhetRuB4hnEB7FK5H4XieQLgehetRaKBAMzMzMzOUoUCuR+F6FMCiQClcj8L166NApHA9CtcXpUAfhetRuEOmQJqZmZmZb6dAFK5H4XqbqECPwvUoXMepQArXo3A986pAhetRuB4frEAAAAAAAEutQHsUrkfhdq5A9ihcj8Kir0C4HoXrUWewQPYoXI9C/bBAMzMzMzOTsUBxPQrXIymyQK5H4XoUv7JA61G4HgVVs0ApXI/C9eqzQGZmZmbmgLRApHA9CtcWtUDhehSux6y1QB+F61G4QrZAXI/C9ajYtkCamZmZmW63QNejcD2KBLhAFK5H4XqauEBSuB6FazC5QI/C9ShcxrlAzczMzExcukAK16NwPfK6QEjhehQuiLtAhetRuB4evEDC9ShcD7S8QAAAAAAASr1APQrXo/DfvUB7FK5H4XW+QLgehevRC79A9ihcj8Khv0CamZmZ2RvAQLgehevRZsBA16NwPcqxwED2KFyPwvzAQBSuR+G6R8FAMzMzM7OSwUBSuB6Fq93BQHE9CtejKMJAj8L1KJxzwkCuR+F6lL7CQM3MzMyMCcNA61G4HoVUw0AK16NwfZ/DQClcj8J16sNASOF6FG41xEBmZmZmZoDEQIXrUbhey8RApHA9ClcWxUDC9ShcT2HFQOF6FK5HrMVAAAAAAED3xUAfhetROELGQD0K16MwjcZAXI/C9SjYxkB7FK5HISPHQJqZmZkZbsdAuB6F6xG5x0DXo3A9CgTIQPYoXI8CT8hAFK5H4fqZyEAzMzMz8+TIQFK4HoXrL8lAcT0K1+N6yUCPwvUo3MXJQK5H4XrUEMpAzczMzMxbykDrUbgexabKQArXo3C98cpAKVyPwrU8y0BI4XoUrofLQGZmZmam0stAhetRuJ4dzECkcD0Kl2jMQML1KFyPs8xA4XoUrof+zEA=\",\"dtype\":\"float64\",\"order\":\"little\",\"shape\":[100]},\"right\":{\"__ndarray__\":\"rkfhehTeYkCuR+F6FM5yQIXrUbgeLXxArkfhehTGgkCamZmZmXWHQIXrUbgeJYxAuB6F61FqkECuR+F6FMKSQKRwPQrXGZVAmpmZmZlxl0CPwvUoXMmZQIXrUbgeIZxAexSuR+F4nkC4HoXrUWigQDMzMzMzlKFArkfhehTAokApXI/C9eujQKRwPQrXF6VAH4XrUbhDpkCamZmZmW+nQBSuR+F6m6hAj8L1KFzHqUAK16NwPfOqQIXrUbgeH6xAAAAAAABLrUB7FK5H4XauQPYoXI/Coq9AuB6F61FnsED2KFyPQv2wQDMzMzMzk7FAcT0K1yMpskCuR+F6FL+yQOtRuB4FVbNAKVyPwvXqs0BmZmZm5oC0QKRwPQrXFrVA4XoUrsestUAfhetRuEK2QFyPwvWo2LZAmpmZmZlut0DXo3A9igS4QBSuR+F6mrhAUrgehWswuUCPwvUoXMa5QM3MzMxMXLpACtejcD3yukBI4XoULoi7QIXrUbgeHrxAwvUoXA+0vEAAAAAAAEq9QD0K16Pw371AexSuR+F1vkC4HoXr0Qu/QPYoXI/Cob9AmpmZmdkbwEC4HoXr0WbAQNejcD3KscBA9ihcj8L8wEAUrkfhukfBQDMzMzOzksFAUrgehavdwUBxPQrXoyjCQI/C9Sicc8JArkfhepS+wkDNzMzMjAnDQOtRuB6FVMNACtejcH2fw0ApXI/CderDQEjhehRuNcRAZmZmZmaAxECF61G4XsvEQKRwPQpXFsVAwvUoXE9hxUDhehSuR6zFQAAAAABA98VAH4XrUThCxkA9CtejMI3GQFyPwvUo2MZAexSuRyEjx0CamZmZGW7HQLgehesRucdA16NwPQoEyED2KFyPAk/IQBSuR+H6mchAMzMzM/PkyEBSuB6F6y/JQHE9CtfjeslAj8L1KNzFyUCuR+F61BDKQM3MzMzMW8pA61G4HsWmykAK16NwvfHKQClcj8K1PMtASOF6FK6Hy0BmZmZmptLLQIXrUbieHcxApHA9CpdozEDC9Shcj7PMQOF6FK6H/sxAAAAAAIBJzUA=\",\"dtype\":\"float64\",\"order\":\"little\",\"shape\":[100]},\"top\":[1874707,326513,151078,69851,39864,25076,14646,12955,9397,5270,4587,4764,2675,2261,1354,1304,1613,1188,1835,1471,509,569,415,2923,2514,490,2191,373,745,740,758,563,111,644,792,1002,855,422,323,1355,443,1121,253,936,830,834,207,58,149,44,16,0,20,62,1,0,0,0,35,314,0,8,32,0,0,0,0,456,0,24,0,0,0,77,0,0,0,0,0,0,0,0,20,0,0,0,0,0,0,0,0,0,0,0,0,0,0,0,0,12]},\"selected\":{\"id\":\"2202\"},\"selection_policy\":{\"id\":\"2201\"}},\"id\":\"2108\",\"type\":\"ColumnDataSource\"},{\"attributes\":{},\"id\":\"2196\",\"type\":\"BasicTickFormatter\"},{\"attributes\":{},\"id\":\"2078\",\"type\":\"DataRange1d\"},{\"attributes\":{},\"id\":\"2082\",\"type\":\"LinearScale\"},{\"attributes\":{},\"id\":\"2197\",\"type\":\"AllLabels\"},{\"attributes\":{\"coordinates\":null,\"data_source\":{\"id\":\"2108\"},\"glyph\":{\"id\":\"2109\"},\"group\":null,\"hover_glyph\":null,\"muted_glyph\":{\"id\":\"2111\"},\"nonselection_glyph\":{\"id\":\"2110\"},\"view\":{\"id\":\"2113\"}},\"id\":\"2112\",\"type\":\"GlyphRenderer\"},{\"attributes\":{\"source\":{\"id\":\"2108\"}},\"id\":\"2113\",\"type\":\"CDSView\"},{\"attributes\":{},\"id\":\"2080\",\"type\":\"DataRange1d\"},{\"attributes\":{},\"id\":\"2199\",\"type\":\"BasicTickFormatter\"},{\"attributes\":{\"axis\":{\"id\":\"2086\"},\"coordinates\":null,\"group\":null,\"ticker\":null},\"id\":\"2089\",\"type\":\"Grid\"},{\"attributes\":{},\"id\":\"2095\",\"type\":\"WheelZoomTool\"},{\"attributes\":{},\"id\":\"2200\",\"type\":\"AllLabels\"},{\"attributes\":{\"bottom\":{\"value\":0},\"fill_alpha\":{\"value\":0.2},\"fill_color\":{\"value\":\"indigo\"},\"hatch_alpha\":{\"value\":0.2},\"left\":{\"field\":\"left\"},\"line_alpha\":{\"value\":0.2},\"line_color\":{\"value\":\"white\"},\"right\":{\"field\":\"right\"},\"top\":{\"field\":\"top\"}},\"id\":\"2111\",\"type\":\"Quad\"},{\"attributes\":{\"bottom_units\":\"screen\",\"coordinates\":null,\"fill_alpha\":0.5,\"fill_color\":\"lightgrey\",\"group\":null,\"left_units\":\"screen\",\"level\":\"overlay\",\"line_alpha\":1.0,\"line_color\":\"black\",\"line_dash\":[4,4],\"line_width\":2,\"right_units\":\"screen\",\"syncable\":false,\"top_units\":\"screen\"},\"id\":\"2100\",\"type\":\"BoxAnnotation\"},{\"attributes\":{},\"id\":\"2201\",\"type\":\"UnionRenderers\"},{\"attributes\":{\"axis_label\":\"frequency\",\"coordinates\":null,\"formatter\":{\"id\":\"2196\"},\"group\":null,\"major_label_policy\":{\"id\":\"2197\"},\"ticker\":{\"id\":\"2091\"}},\"id\":\"2090\",\"type\":\"LinearAxis\"},{\"attributes\":{},\"id\":\"2202\",\"type\":\"Selection\"},{\"attributes\":{\"axis_label\":\"Friends Count\",\"coordinates\":null,\"formatter\":{\"id\":\"2199\"},\"group\":null,\"major_label_policy\":{\"id\":\"2200\"},\"ticker\":{\"id\":\"2087\"}},\"id\":\"2086\",\"type\":\"LinearAxis\"},{\"attributes\":{},\"id\":\"2097\",\"type\":\"SaveTool\"},{\"attributes\":{},\"id\":\"2098\",\"type\":\"ResetTool\"},{\"attributes\":{},\"id\":\"2091\",\"type\":\"BasicTicker\"},{\"attributes\":{\"overlay\":{\"id\":\"2100\"}},\"id\":\"2096\",\"type\":\"BoxZoomTool\"},{\"attributes\":{},\"id\":\"2099\",\"type\":\"HelpTool\"}],\"root_ids\":[\"2075\"]},\"title\":\"Bokeh Application\",\"version\":\"2.4.3\"}};\n",
       "  const render_items = [{\"docid\":\"85aed1a8-55c2-419c-a3b3-2ebfdaeadeca\",\"root_ids\":[\"2075\"],\"roots\":{\"2075\":\"8eaaab57-d2aa-4d9c-892d-bebe82302982\"}}];\n",
       "  root.Bokeh.embed.embed_items_notebook(docs_json, render_items);\n",
       "  }\n",
       "  if (root.Bokeh !== undefined) {\n",
       "    embed_document(root);\n",
       "  } else {\n",
       "    let attempts = 0;\n",
       "    const timer = setInterval(function(root) {\n",
       "      if (root.Bokeh !== undefined) {\n",
       "        clearInterval(timer);\n",
       "        embed_document(root);\n",
       "      } else {\n",
       "        attempts++;\n",
       "        if (attempts > 100) {\n",
       "          clearInterval(timer);\n",
       "          console.log(\"Bokeh: ERROR: Unable to run BokehJS code because BokehJS library is missing\");\n",
       "        }\n",
       "      }\n",
       "    }, 10, root)\n",
       "  }\n",
       "})(window);"
      ],
      "application/vnd.bokehjs_exec.v0+json": ""
     },
     "metadata": {
      "application/vnd.bokehjs_exec.v0+json": {
       "id": "2075"
      }
     },
     "output_type": "display_data"
    }
   ],
   "source": [
    "fc_hist, fc_edges = np.histogram(ddf[\"u_friends_count\"].compute(), bins=100, range=(ddf[\"u_friends_count\"].min().compute(), \n",
    "                                                                          ddf[\"u_friends_count\"].max().compute()))\n",
    "\n",
    "bokeh_hist(fc_hist, fc_edges, title=\"Distribution of Friends Count\", x_label=\"Friends Count\", y_label=\"frequency\", \n",
    "           alpha=1.0, fill_color=\"indigo\")"
   ]
  },
  {
   "cell_type": "markdown",
   "id": "f375589f-bcf7-4e50-9cf1-19069595c3ce",
   "metadata": {},
   "source": [
    "The histogram is skewed to the right with a heavy-tail, indicating that are only few users whose friends count $>10000$. Most of the users in the data have a friends have a friends count between $1$ and $100$. \n",
    "\n",
    "The question is, do the users whose friends counts are $>10000$ does actually post helpful reviews? Or in other does popularity matters in case of helpful reviews?"
   ]
  },
  {
   "cell_type": "markdown",
   "id": "faa52b49-f4e6-4b81-9c10-386f4bfc0efe",
   "metadata": {},
   "source": [
    "# Data-Data EDA"
   ]
  },
  {
   "cell_type": "markdown",
   "id": "0b37df79-2fdf-4de8-83ac-da13e819d5d3",
   "metadata": {},
   "source": [
    "## Correlation between Usefulness and Review star ratings"
   ]
  },
  {
   "cell_type": "code",
   "execution_count": 38,
   "id": "1b986c2a-20a4-4505-9e6e-f901538a53d0",
   "metadata": {
    "execution": {
     "iopub.execute_input": "2022-08-20T09:37:40.603678Z",
     "iopub.status.busy": "2022-08-20T09:37:40.602258Z",
     "iopub.status.idle": "2022-08-20T09:37:41.011998Z",
     "shell.execute_reply": "2022-08-20T09:37:41.011292Z",
     "shell.execute_reply.started": "2022-08-20T09:37:40.603616Z"
    },
    "tags": []
   },
   "outputs": [
    {
     "data": {
      "image/png": "[encoded data removed]",
      "text/plain": [
       "<Figure size 864x576 with 2 Axes>"
      ]
     },
     "metadata": {},
     "output_type": "display_data"
    }
   ],
   "source": [
    "cor = ddf[[\"r_useful\", \"r_stars\"]].corr().compute()\n",
    "plt.figure(figsize=(12, 8))\n",
    "plt.title(\"Correlation Matrix between Review Usefulness and Review Star Ratings\")\n",
    "sns.heatmap(cor, vmin=-1, vmax=1, annot=True, mask=np.triu(np.ones_like(cor, dtype=bool)))\n",
    "plt.show()"
   ]
  },
  {
   "cell_type": "markdown",
   "id": "c24c89e1-e4dc-4691-ba47-4dc9cc2d8909",
   "metadata": {},
   "source": [
    "The correlation map suggest that they don't have significant correlation amongst them."
   ]
  },
  {
   "cell_type": "markdown",
   "id": "217c670d-af8f-4e09-8c39-4b2f27961e1f",
   "metadata": {},
   "source": [
    "## Correlation between Usefulness and Popularity"
   ]
  },
  {
   "cell_type": "code",
   "execution_count": 39,
   "id": "022f9ea8-3495-49d4-857a-71005c65663f",
   "metadata": {
    "execution": {
     "iopub.execute_input": "2022-08-20T09:37:41.527123Z",
     "iopub.status.busy": "2022-08-20T09:37:41.526405Z",
     "iopub.status.idle": "2022-08-20T09:37:41.915394Z",
     "shell.execute_reply": "2022-08-20T09:37:41.914837Z",
     "shell.execute_reply.started": "2022-08-20T09:37:41.527073Z"
    },
    "tags": []
   },
   "outputs": [
    {
     "data": {
      "image/png": "[encoded data removed]",
      "text/plain": [
       "<Figure size 864x576 with 2 Axes>"
      ]
     },
     "metadata": {},
     "output_type": "display_data"
    }
   ],
   "source": [
    "cor = ddf[[\"r_useful\", \"u_friends_count\"]].corr().compute()\n",
    "plt.figure(figsize=(12, 8))\n",
    "plt.title(\"Correlation Matrix between Review Usefulness and Review Popularity\")\n",
    "sns.heatmap(cor, vmin=-1, vmax=1, annot=True, mask=np.triu(np.ones_like(cor, dtype=bool)), cmap=\"plasma\")\n",
    "plt.show()"
   ]
  },
  {
   "cell_type": "markdown",
   "id": "1188bca5-c709-4701-9c9d-aef72fe35a1d",
   "metadata": {},
   "source": [
    "The correlation is not that strong but still it is significant. This indicates that reviewer popularity infact does have an effect on the usefulness of the review."
   ]
  },
  {
   "cell_type": "markdown",
   "id": "6df9e58f-6166-49a4-a195-227e008fa269",
   "metadata": {},
   "source": [
    "## Correlation between number of words in a review and review usefulness"
   ]
  },
  {
   "cell_type": "code",
   "execution_count": 40,
   "id": "a87766cb-5dfe-44a2-a2cf-a2bdda21d0c8",
   "metadata": {
    "execution": {
     "iopub.execute_input": "2022-08-20T09:37:42.137782Z",
     "iopub.status.busy": "2022-08-20T09:37:42.136481Z",
     "iopub.status.idle": "2022-08-20T09:37:42.336736Z",
     "shell.execute_reply": "2022-08-20T09:37:42.336175Z",
     "shell.execute_reply.started": "2022-08-20T09:37:42.137731Z"
    },
    "tags": []
   },
   "outputs": [
    {
     "data": {
      "image/png": "[encoded data removed]",
      "text/plain": [
       "<Figure size 864x576 with 2 Axes>"
      ]
     },
     "metadata": {},
     "output_type": "display_data"
    }
   ],
   "source": [
    "cor = np.corrcoef(n_words, ddf[\"r_useful\"].compute())\n",
    "plt.figure(figsize=(12, 8))\n",
    "plt.title(\"Correlation Matrix between Number of words in review and Review Popularity\")\n",
    "sns.heatmap(cor, vmin=-1, vmax=1, annot=True, mask=np.triu(np.ones_like(cor, dtype=bool)), cmap=\"rainbow\")\n",
    "plt.show()"
   ]
  },
  {
   "cell_type": "markdown",
   "id": "ba5bf530-6427-478e-ad61-06c748a23334",
   "metadata": {},
   "source": [
    "## Correlation between Average Word Length of a review and review usefulness"
   ]
  },
  {
   "cell_type": "code",
   "execution_count": 41,
   "id": "4ca0e9bf-72ec-4bd2-9501-1ede7695e915",
   "metadata": {
    "execution": {
     "iopub.execute_input": "2022-08-20T09:37:43.381184Z",
     "iopub.status.busy": "2022-08-20T09:37:43.380133Z",
     "iopub.status.idle": "2022-08-20T09:37:43.591461Z",
     "shell.execute_reply": "2022-08-20T09:37:43.590611Z",
     "shell.execute_reply.started": "2022-08-20T09:37:43.381132Z"
    },
    "tags": []
   },
   "outputs": [
    {
     "data": {
      "image/png": "[encoded data removed]",
      "text/plain": [
       "<Figure size 864x576 with 2 Axes>"
      ]
     },
     "metadata": {},
     "output_type": "display_data"
    }
   ],
   "source": [
    "cor = np.corrcoef(avg_word_len, ddf[\"r_useful\"].compute())\n",
    "plt.figure(figsize=(12, 8))\n",
    "plt.title(\"Correlation Matrix between Average Word Length of a review and Review Popularity\")\n",
    "sns.heatmap(cor, vmin=-1, vmax=1, annot=True, mask=np.triu(np.ones_like(cor, dtype=bool)), cmap=\"coolwarm\")\n",
    "plt.show()"
   ]
  },
  {
   "cell_type": "markdown",
   "id": "71d284c7-5a1a-4650-ac26-60e9dcdf3db7",
   "metadata": {},
   "source": [
    "While the number of words in a review affect it's usefulness but the average word length of a review seems to have almost no effect on its usefulness."
   ]
  },
  {
   "cell_type": "code",
   "execution_count": null,
   "id": "148c7c58-5e56-4103-994e-bee198bf097b",
   "metadata": {},
   "outputs": [],
   "source": []
  }
 ],
 "metadata": {
  "kernelspec": {
   "display_name": "Python 3 (ipykernel)",
   "language": "python",
   "name": "python3"
  },
  "language_info": {
   "codemirror_mode": {
    "name": "ipython",
    "version": 3
   },
   "file_extension": ".py",
   "mimetype": "text/x-python",
   "name": "python",
   "nbconvert_exporter": "python",
   "pygments_lexer": "ipython3",
   "version": "3.8.13"
  }
 },
 "nbformat": 4,
 "nbformat_minor": 5
}
