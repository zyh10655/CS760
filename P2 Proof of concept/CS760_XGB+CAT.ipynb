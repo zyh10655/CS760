{
  "nbformat": 4,
  "nbformat_minor": 0,
  "metadata": {
    "colab": {
      "name": "CS760_XGB+CAT.ipynb",
      "provenance": [],
      "collapsed_sections": []
    },
    "kernelspec": {
      "name": "python3",
      "display_name": "Python 3"
    },
    "language_info": {
      "name": "python"
    },
    "accelerator": "GPU",
    "gpuClass": "standard"
  },
  "cells": [
    {
      "cell_type": "code",
      "execution_count": 2,
      "metadata": {
        "id": "EggONTj6wkok"
      },
      "outputs": [],
      "source": [
        "!pip install --quiet optuna"
      ]
    },
    {
      "cell_type": "code",
      "source": [
        "!pip install catboost"
      ],
      "metadata": {
        "colab": {
          "base_uri": "https://localhost:8080/"
        },
        "id": "EWxLaidl-hC0",
        "outputId": "0c2df40d-c825-4d8f-81f8-1e07012f8aca"
      },
      "execution_count": 1,
      "outputs": [
        {
          "output_type": "stream",
          "name": "stdout",
          "text": [
            "Looking in indexes: https://pypi.org/simple, https://us-python.pkg.dev/colab-wheels/public/simple/\n",
            "Requirement already satisfied: catboost in /usr/local/lib/python3.7/dist-packages (1.0.6)\n",
            "Requirement already satisfied: matplotlib in /usr/local/lib/python3.7/dist-packages (from catboost) (3.2.2)\n",
            "Requirement already satisfied: plotly in /usr/local/lib/python3.7/dist-packages (from catboost) (5.5.0)\n",
            "Requirement already satisfied: graphviz in /usr/local/lib/python3.7/dist-packages (from catboost) (0.10.1)\n",
            "Requirement already satisfied: pandas>=0.24.0 in /usr/local/lib/python3.7/dist-packages (from catboost) (1.3.5)\n",
            "Requirement already satisfied: six in /usr/local/lib/python3.7/dist-packages (from catboost) (1.15.0)\n",
            "Requirement already satisfied: numpy>=1.16.0 in /usr/local/lib/python3.7/dist-packages (from catboost) (1.21.6)\n",
            "Requirement already satisfied: scipy in /usr/local/lib/python3.7/dist-packages (from catboost) (1.7.3)\n",
            "Requirement already satisfied: python-dateutil>=2.7.3 in /usr/local/lib/python3.7/dist-packages (from pandas>=0.24.0->catboost) (2.8.2)\n",
            "Requirement already satisfied: pytz>=2017.3 in /usr/local/lib/python3.7/dist-packages (from pandas>=0.24.0->catboost) (2022.2.1)\n",
            "Requirement already satisfied: pyparsing!=2.0.4,!=2.1.2,!=2.1.6,>=2.0.1 in /usr/local/lib/python3.7/dist-packages (from matplotlib->catboost) (3.0.9)\n",
            "Requirement already satisfied: kiwisolver>=1.0.1 in /usr/local/lib/python3.7/dist-packages (from matplotlib->catboost) (1.4.4)\n",
            "Requirement already satisfied: cycler>=0.10 in /usr/local/lib/python3.7/dist-packages (from matplotlib->catboost) (0.11.0)\n",
            "Requirement already satisfied: typing-extensions in /usr/local/lib/python3.7/dist-packages (from kiwisolver>=1.0.1->matplotlib->catboost) (4.1.1)\n",
            "Requirement already satisfied: tenacity>=6.2.0 in /usr/local/lib/python3.7/dist-packages (from plotly->catboost) (8.0.1)\n"
          ]
        }
      ]
    },
    {
      "cell_type": "code",
      "source": [
        "import numpy as np\n",
        "import pandas as pd\n",
        "import matplotlib.pyplot as plt\n",
        "import seaborn as sns\n",
        "import optuna as opt\n",
        "import xgboost as xgb\n",
        "import catboost as cat\n",
        "import os\n",
        "import sys\n",
        "import warnings\n",
        "import gc\n",
        "\n",
        "from sklearn.preprocessing import StandardScaler\n",
        "from sklearn.compose import TransformedTargetRegressor\n",
        "from sklearn.metrics import mean_absolute_error, mean_squared_error\n",
        "\n",
        "warnings.filterwarnings('ignore')\n",
        "plt.style.use('fivethirtyeight')"
      ],
      "metadata": {
        "id": "atiyMhC4xxhK"
      },
      "execution_count": 3,
      "outputs": []
    },
    {
      "cell_type": "markdown",
      "source": [
        "# Load the Dataset"
      ],
      "metadata": {
        "id": "Rga08GXJ-8dw"
      }
    },
    {
      "cell_type": "code",
      "source": [
        "from google.colab import drive\n",
        "drive.mount('/content/drive')"
      ],
      "metadata": {
        "id": "6Bed-jEY8YXE",
        "colab": {
          "base_uri": "https://localhost:8080/"
        },
        "outputId": "4d1dc460-68f5-491c-a28d-333dfa8109fe"
      },
      "execution_count": 4,
      "outputs": [
        {
          "output_type": "stream",
          "name": "stdout",
          "text": [
            "Drive already mounted at /content/drive; to attempt to forcibly remount, call drive.mount(\"/content/drive\", force_remount=True).\n"
          ]
        }
      ]
    },
    {
      "cell_type": "code",
      "source": [
        "df_train = pd.read_parquet(\"/content/drive/MyDrive/CS760/train.parquet\")\n",
        "df_val = pd.read_parquet('/content/drive/MyDrive/CS760/val.parquet')\n",
        "df_test = pd.read_parquet(\"/content/drive/MyDrive/CS760/test.parquet\")\n",
        "\n",
        "print(f\"Shape of the training data : {df_train.shape}\")\n",
        "print(f\"Shape of the validation data : {df_val.shape}\")\n",
        "print(f\"Shape of the test data : {df_test.shape}\")"
      ],
      "metadata": {
        "colab": {
          "base_uri": "https://localhost:8080/"
        },
        "id": "TKkZ9tEb_Qyu",
        "outputId": "b0ea7891-9472-49ae-fdc9-10e8451b7b02"
      },
      "execution_count": 5,
      "outputs": [
        {
          "output_type": "stream",
          "name": "stdout",
          "text": [
            "Shape of the training data : (2060626, 13)\n",
            "Shape of the validation data : (257578, 13)\n",
            "Shape of the test data : (257579, 13)\n"
          ]
        }
      ]
    },
    {
      "cell_type": "code",
      "source": [
        "df_train.head()"
      ],
      "metadata": {
        "colab": {
          "base_uri": "https://localhost:8080/",
          "height": 206
        },
        "id": "3DKg9b-PA9Aw",
        "outputId": "2bb3b2fe-3a57-4327-98e2-22fcdff8bf65"
      },
      "execution_count": 6,
      "outputs": [
        {
          "output_type": "execute_result",
          "data": {
            "text/plain": [
              "    r_stars  r_stars_square  r_length  u_friends_count  u_review_count  \\\n",
              "0 -1.693936       -1.494513  0.961938        -0.331709       -0.323091   \n",
              "1 -0.394383       -0.662991 -0.836997         0.248959        0.116364   \n",
              "2 -0.394383       -0.662991 -0.515448        -0.271701       -0.258584   \n",
              "3 -1.693936       -1.494513  1.970036        -0.250521       -0.371472   \n",
              "4  0.255394        0.064590  0.118959        -0.331709       -0.379535   \n",
              "\n",
              "   u_month_age   b_stars  b_review_count     r_sen     r_sub     r_rea  \\\n",
              "0    -0.609501 -0.934654       -0.238997 -1.403165  1.124223 -0.796690   \n",
              "1    -0.277802  0.953066       -0.475961 -1.152980  0.742918  1.431968   \n",
              "2     0.664981 -0.305414       -0.309486  0.345055  0.438695  1.339823   \n",
              "3    -1.232336 -1.563893       -0.354480 -2.135030 -0.014948 -0.677443   \n",
              "4    -1.027147 -0.934654       -0.080021  0.011747  0.312105 -0.634984   \n",
              "\n",
              "      r_id  r_useful  \n",
              "0  4847617  0.118048  \n",
              "1  5577152  0.011136  \n",
              "2  1113002  0.030032  \n",
              "3  6353340  0.017990  \n",
              "4  5836201  0.006991  "
            ],
            "text/html": [
              "\n",
              "  <div id=\"df-a24d2df5-62d1-477a-a3f2-f40dbc000bff\">\n",
              "    <div class=\"colab-df-container\">\n",
              "      <div>\n",
              "<style scoped>\n",
              "    .dataframe tbody tr th:only-of-type {\n",
              "        vertical-align: middle;\n",
              "    }\n",
              "\n",
              "    .dataframe tbody tr th {\n",
              "        vertical-align: top;\n",
              "    }\n",
              "\n",
              "    .dataframe thead th {\n",
              "        text-align: right;\n",
              "    }\n",
              "</style>\n",
              "<table border=\"1\" class=\"dataframe\">\n",
              "  <thead>\n",
              "    <tr style=\"text-align: right;\">\n",
              "      <th></th>\n",
              "      <th>r_stars</th>\n",
              "      <th>r_stars_square</th>\n",
              "      <th>r_length</th>\n",
              "      <th>u_friends_count</th>\n",
              "      <th>u_review_count</th>\n",
              "      <th>u_month_age</th>\n",
              "      <th>b_stars</th>\n",
              "      <th>b_review_count</th>\n",
              "      <th>r_sen</th>\n",
              "      <th>r_sub</th>\n",
              "      <th>r_rea</th>\n",
              "      <th>r_id</th>\n",
              "      <th>r_useful</th>\n",
              "    </tr>\n",
              "  </thead>\n",
              "  <tbody>\n",
              "    <tr>\n",
              "      <th>0</th>\n",
              "      <td>-1.693936</td>\n",
              "      <td>-1.494513</td>\n",
              "      <td>0.961938</td>\n",
              "      <td>-0.331709</td>\n",
              "      <td>-0.323091</td>\n",
              "      <td>-0.609501</td>\n",
              "      <td>-0.934654</td>\n",
              "      <td>-0.238997</td>\n",
              "      <td>-1.403165</td>\n",
              "      <td>1.124223</td>\n",
              "      <td>-0.796690</td>\n",
              "      <td>4847617</td>\n",
              "      <td>0.118048</td>\n",
              "    </tr>\n",
              "    <tr>\n",
              "      <th>1</th>\n",
              "      <td>-0.394383</td>\n",
              "      <td>-0.662991</td>\n",
              "      <td>-0.836997</td>\n",
              "      <td>0.248959</td>\n",
              "      <td>0.116364</td>\n",
              "      <td>-0.277802</td>\n",
              "      <td>0.953066</td>\n",
              "      <td>-0.475961</td>\n",
              "      <td>-1.152980</td>\n",
              "      <td>0.742918</td>\n",
              "      <td>1.431968</td>\n",
              "      <td>5577152</td>\n",
              "      <td>0.011136</td>\n",
              "    </tr>\n",
              "    <tr>\n",
              "      <th>2</th>\n",
              "      <td>-0.394383</td>\n",
              "      <td>-0.662991</td>\n",
              "      <td>-0.515448</td>\n",
              "      <td>-0.271701</td>\n",
              "      <td>-0.258584</td>\n",
              "      <td>0.664981</td>\n",
              "      <td>-0.305414</td>\n",
              "      <td>-0.309486</td>\n",
              "      <td>0.345055</td>\n",
              "      <td>0.438695</td>\n",
              "      <td>1.339823</td>\n",
              "      <td>1113002</td>\n",
              "      <td>0.030032</td>\n",
              "    </tr>\n",
              "    <tr>\n",
              "      <th>3</th>\n",
              "      <td>-1.693936</td>\n",
              "      <td>-1.494513</td>\n",
              "      <td>1.970036</td>\n",
              "      <td>-0.250521</td>\n",
              "      <td>-0.371472</td>\n",
              "      <td>-1.232336</td>\n",
              "      <td>-1.563893</td>\n",
              "      <td>-0.354480</td>\n",
              "      <td>-2.135030</td>\n",
              "      <td>-0.014948</td>\n",
              "      <td>-0.677443</td>\n",
              "      <td>6353340</td>\n",
              "      <td>0.017990</td>\n",
              "    </tr>\n",
              "    <tr>\n",
              "      <th>4</th>\n",
              "      <td>0.255394</td>\n",
              "      <td>0.064590</td>\n",
              "      <td>0.118959</td>\n",
              "      <td>-0.331709</td>\n",
              "      <td>-0.379535</td>\n",
              "      <td>-1.027147</td>\n",
              "      <td>-0.934654</td>\n",
              "      <td>-0.080021</td>\n",
              "      <td>0.011747</td>\n",
              "      <td>0.312105</td>\n",
              "      <td>-0.634984</td>\n",
              "      <td>5836201</td>\n",
              "      <td>0.006991</td>\n",
              "    </tr>\n",
              "  </tbody>\n",
              "</table>\n",
              "</div>\n",
              "      <button class=\"colab-df-convert\" onclick=\"convertToInteractive('df-a24d2df5-62d1-477a-a3f2-f40dbc000bff')\"\n",
              "              title=\"Convert this dataframe to an interactive table.\"\n",
              "              style=\"display:none;\">\n",
              "        \n",
              "  <svg xmlns=\"http://www.w3.org/2000/svg\" height=\"24px\"viewBox=\"0 0 24 24\"\n",
              "       width=\"24px\">\n",
              "    <path d=\"M0 0h24v24H0V0z\" fill=\"none\"/>\n",
              "    <path d=\"M18.56 5.44l.94 2.06.94-2.06 2.06-.94-2.06-.94-.94-2.06-.94 2.06-2.06.94zm-11 1L8.5 8.5l.94-2.06 2.06-.94-2.06-.94L8.5 2.5l-.94 2.06-2.06.94zm10 10l.94 2.06.94-2.06 2.06-.94-2.06-.94-.94-2.06-.94 2.06-2.06.94z\"/><path d=\"M17.41 7.96l-1.37-1.37c-.4-.4-.92-.59-1.43-.59-.52 0-1.04.2-1.43.59L10.3 9.45l-7.72 7.72c-.78.78-.78 2.05 0 2.83L4 21.41c.39.39.9.59 1.41.59.51 0 1.02-.2 1.41-.59l7.78-7.78 2.81-2.81c.8-.78.8-2.07 0-2.86zM5.41 20L4 18.59l7.72-7.72 1.47 1.35L5.41 20z\"/>\n",
              "  </svg>\n",
              "      </button>\n",
              "      \n",
              "  <style>\n",
              "    .colab-df-container {\n",
              "      display:flex;\n",
              "      flex-wrap:wrap;\n",
              "      gap: 12px;\n",
              "    }\n",
              "\n",
              "    .colab-df-convert {\n",
              "      background-color: #E8F0FE;\n",
              "      border: none;\n",
              "      border-radius: 50%;\n",
              "      cursor: pointer;\n",
              "      display: none;\n",
              "      fill: #1967D2;\n",
              "      height: 32px;\n",
              "      padding: 0 0 0 0;\n",
              "      width: 32px;\n",
              "    }\n",
              "\n",
              "    .colab-df-convert:hover {\n",
              "      background-color: #E2EBFA;\n",
              "      box-shadow: 0px 1px 2px rgba(60, 64, 67, 0.3), 0px 1px 3px 1px rgba(60, 64, 67, 0.15);\n",
              "      fill: #174EA6;\n",
              "    }\n",
              "\n",
              "    [theme=dark] .colab-df-convert {\n",
              "      background-color: #3B4455;\n",
              "      fill: #D2E3FC;\n",
              "    }\n",
              "\n",
              "    [theme=dark] .colab-df-convert:hover {\n",
              "      background-color: #434B5C;\n",
              "      box-shadow: 0px 1px 3px 1px rgba(0, 0, 0, 0.15);\n",
              "      filter: drop-shadow(0px 1px 2px rgba(0, 0, 0, 0.3));\n",
              "      fill: #FFFFFF;\n",
              "    }\n",
              "  </style>\n",
              "\n",
              "      <script>\n",
              "        const buttonEl =\n",
              "          document.querySelector('#df-a24d2df5-62d1-477a-a3f2-f40dbc000bff button.colab-df-convert');\n",
              "        buttonEl.style.display =\n",
              "          google.colab.kernel.accessAllowed ? 'block' : 'none';\n",
              "\n",
              "        async function convertToInteractive(key) {\n",
              "          const element = document.querySelector('#df-a24d2df5-62d1-477a-a3f2-f40dbc000bff');\n",
              "          const dataTable =\n",
              "            await google.colab.kernel.invokeFunction('convertToInteractive',\n",
              "                                                     [key], {});\n",
              "          if (!dataTable) return;\n",
              "\n",
              "          const docLinkHtml = 'Like what you see? Visit the ' +\n",
              "            '<a target=\"_blank\" href=https://colab.research.google.com/notebooks/data_table.ipynb>data table notebook</a>'\n",
              "            + ' to learn more about interactive tables.';\n",
              "          element.innerHTML = '';\n",
              "          dataTable['output_type'] = 'display_data';\n",
              "          await google.colab.output.renderOutput(dataTable, element);\n",
              "          const docLink = document.createElement('div');\n",
              "          docLink.innerHTML = docLinkHtml;\n",
              "          element.appendChild(docLink);\n",
              "        }\n",
              "      </script>\n",
              "    </div>\n",
              "  </div>\n",
              "  "
            ]
          },
          "metadata": {},
          "execution_count": 6
        }
      ]
    },
    {
      "cell_type": "code",
      "source": [
        "df_train.describe().T"
      ],
      "metadata": {
        "colab": {
          "base_uri": "https://localhost:8080/",
          "height": 457
        },
        "id": "n-8SwXH5Tvjf",
        "outputId": "605dbae7-cccf-4f8f-e8ee-34d6ade0bbd4"
      },
      "execution_count": 7,
      "outputs": [
        {
          "output_type": "execute_result",
          "data": {
            "text/plain": [
              "                     count          mean           std         min  \\\n",
              "r_stars          2060626.0 -1.671941e-16  1.000000e+00   -1.693936   \n",
              "r_stars_square   2060626.0 -1.018940e-17  1.000000e+00   -1.494513   \n",
              "r_length         2060626.0 -2.388216e-17  1.000000e+00   -1.158545   \n",
              "u_friends_count  2060626.0 -1.731163e-17  1.000000e+00   -0.331709   \n",
              "u_review_count   2060626.0  3.255780e-17  1.000000e+00   -0.385583   \n",
              "u_month_age      2060626.0  3.771456e-16  1.000000e+00   -1.237169   \n",
              "b_stars          2060626.0 -8.181173e-17  1.000000e+00   -3.451613   \n",
              "b_review_count   2060626.0  2.582693e-17  1.000000e+00   -0.498458   \n",
              "r_sen            2060626.0  5.128801e-16  1.000000e+00   -6.135095   \n",
              "r_sub            2060626.0 -4.767259e-16  1.000000e+00   -3.029519   \n",
              "r_rea            2060626.0 -1.252596e-15  1.000000e+00 -248.487658   \n",
              "r_id             2060626.0  3.523017e+06  2.016681e+06   11.000000   \n",
              "r_useful         2060626.0  1.631864e-01  7.887542e+00    0.004935   \n",
              "\n",
              "                          25%           50%           75%           max  \n",
              "r_stars         -1.044159e+00  2.553940e-01  9.051706e-01  9.051706e-01  \n",
              "r_stars_square  -1.182692e+00  6.458972e-02  1.000051e+00  1.000051e+00  \n",
              "r_length        -6.631864e-01 -2.808043e-01  3.275309e-01  8.122912e+00  \n",
              "u_friends_count -3.299440e-01 -2.628759e-01 -3.696244e-02  2.613194e+01  \n",
              "u_review_count  -3.634084e-01 -2.968854e-01 -3.079341e-02  3.483733e+01  \n",
              "u_month_age     -8.424000e-01 -1.823749e-01  6.486289e-01  4.604853e+00  \n",
              "b_stars         -3.054136e-01  3.238264e-01  9.530663e-01  1.582306e+00  \n",
              "b_review_count  -4.459658e-01 -3.184850e-01  6.965998e-03  1.084433e+01  \n",
              "r_sen           -6.346910e-01 -7.891442e-03  6.128473e-01  4.243026e+00  \n",
              "r_sub           -6.557234e-01 -2.057011e-02  6.333986e-01  3.785211e+00  \n",
              "r_rea           -5.003790e-01  8.682336e-02  5.755564e-01  1.145596e+01  \n",
              "r_id             1.806029e+06  3.483366e+06  5.288642e+06  6.990280e+06  \n",
              "r_useful         1.769723e-02  3.272991e-02  7.055788e-02  4.557619e+03  "
            ],
            "text/html": [
              "\n",
              "  <div id=\"df-775372ba-7db4-4836-ace4-00fa797eae2e\">\n",
              "    <div class=\"colab-df-container\">\n",
              "      <div>\n",
              "<style scoped>\n",
              "    .dataframe tbody tr th:only-of-type {\n",
              "        vertical-align: middle;\n",
              "    }\n",
              "\n",
              "    .dataframe tbody tr th {\n",
              "        vertical-align: top;\n",
              "    }\n",
              "\n",
              "    .dataframe thead th {\n",
              "        text-align: right;\n",
              "    }\n",
              "</style>\n",
              "<table border=\"1\" class=\"dataframe\">\n",
              "  <thead>\n",
              "    <tr style=\"text-align: right;\">\n",
              "      <th></th>\n",
              "      <th>count</th>\n",
              "      <th>mean</th>\n",
              "      <th>std</th>\n",
              "      <th>min</th>\n",
              "      <th>25%</th>\n",
              "      <th>50%</th>\n",
              "      <th>75%</th>\n",
              "      <th>max</th>\n",
              "    </tr>\n",
              "  </thead>\n",
              "  <tbody>\n",
              "    <tr>\n",
              "      <th>r_stars</th>\n",
              "      <td>2060626.0</td>\n",
              "      <td>-1.671941e-16</td>\n",
              "      <td>1.000000e+00</td>\n",
              "      <td>-1.693936</td>\n",
              "      <td>-1.044159e+00</td>\n",
              "      <td>2.553940e-01</td>\n",
              "      <td>9.051706e-01</td>\n",
              "      <td>9.051706e-01</td>\n",
              "    </tr>\n",
              "    <tr>\n",
              "      <th>r_stars_square</th>\n",
              "      <td>2060626.0</td>\n",
              "      <td>-1.018940e-17</td>\n",
              "      <td>1.000000e+00</td>\n",
              "      <td>-1.494513</td>\n",
              "      <td>-1.182692e+00</td>\n",
              "      <td>6.458972e-02</td>\n",
              "      <td>1.000051e+00</td>\n",
              "      <td>1.000051e+00</td>\n",
              "    </tr>\n",
              "    <tr>\n",
              "      <th>r_length</th>\n",
              "      <td>2060626.0</td>\n",
              "      <td>-2.388216e-17</td>\n",
              "      <td>1.000000e+00</td>\n",
              "      <td>-1.158545</td>\n",
              "      <td>-6.631864e-01</td>\n",
              "      <td>-2.808043e-01</td>\n",
              "      <td>3.275309e-01</td>\n",
              "      <td>8.122912e+00</td>\n",
              "    </tr>\n",
              "    <tr>\n",
              "      <th>u_friends_count</th>\n",
              "      <td>2060626.0</td>\n",
              "      <td>-1.731163e-17</td>\n",
              "      <td>1.000000e+00</td>\n",
              "      <td>-0.331709</td>\n",
              "      <td>-3.299440e-01</td>\n",
              "      <td>-2.628759e-01</td>\n",
              "      <td>-3.696244e-02</td>\n",
              "      <td>2.613194e+01</td>\n",
              "    </tr>\n",
              "    <tr>\n",
              "      <th>u_review_count</th>\n",
              "      <td>2060626.0</td>\n",
              "      <td>3.255780e-17</td>\n",
              "      <td>1.000000e+00</td>\n",
              "      <td>-0.385583</td>\n",
              "      <td>-3.634084e-01</td>\n",
              "      <td>-2.968854e-01</td>\n",
              "      <td>-3.079341e-02</td>\n",
              "      <td>3.483733e+01</td>\n",
              "    </tr>\n",
              "    <tr>\n",
              "      <th>u_month_age</th>\n",
              "      <td>2060626.0</td>\n",
              "      <td>3.771456e-16</td>\n",
              "      <td>1.000000e+00</td>\n",
              "      <td>-1.237169</td>\n",
              "      <td>-8.424000e-01</td>\n",
              "      <td>-1.823749e-01</td>\n",
              "      <td>6.486289e-01</td>\n",
              "      <td>4.604853e+00</td>\n",
              "    </tr>\n",
              "    <tr>\n",
              "      <th>b_stars</th>\n",
              "      <td>2060626.0</td>\n",
              "      <td>-8.181173e-17</td>\n",
              "      <td>1.000000e+00</td>\n",
              "      <td>-3.451613</td>\n",
              "      <td>-3.054136e-01</td>\n",
              "      <td>3.238264e-01</td>\n",
              "      <td>9.530663e-01</td>\n",
              "      <td>1.582306e+00</td>\n",
              "    </tr>\n",
              "    <tr>\n",
              "      <th>b_review_count</th>\n",
              "      <td>2060626.0</td>\n",
              "      <td>2.582693e-17</td>\n",
              "      <td>1.000000e+00</td>\n",
              "      <td>-0.498458</td>\n",
              "      <td>-4.459658e-01</td>\n",
              "      <td>-3.184850e-01</td>\n",
              "      <td>6.965998e-03</td>\n",
              "      <td>1.084433e+01</td>\n",
              "    </tr>\n",
              "    <tr>\n",
              "      <th>r_sen</th>\n",
              "      <td>2060626.0</td>\n",
              "      <td>5.128801e-16</td>\n",
              "      <td>1.000000e+00</td>\n",
              "      <td>-6.135095</td>\n",
              "      <td>-6.346910e-01</td>\n",
              "      <td>-7.891442e-03</td>\n",
              "      <td>6.128473e-01</td>\n",
              "      <td>4.243026e+00</td>\n",
              "    </tr>\n",
              "    <tr>\n",
              "      <th>r_sub</th>\n",
              "      <td>2060626.0</td>\n",
              "      <td>-4.767259e-16</td>\n",
              "      <td>1.000000e+00</td>\n",
              "      <td>-3.029519</td>\n",
              "      <td>-6.557234e-01</td>\n",
              "      <td>-2.057011e-02</td>\n",
              "      <td>6.333986e-01</td>\n",
              "      <td>3.785211e+00</td>\n",
              "    </tr>\n",
              "    <tr>\n",
              "      <th>r_rea</th>\n",
              "      <td>2060626.0</td>\n",
              "      <td>-1.252596e-15</td>\n",
              "      <td>1.000000e+00</td>\n",
              "      <td>-248.487658</td>\n",
              "      <td>-5.003790e-01</td>\n",
              "      <td>8.682336e-02</td>\n",
              "      <td>5.755564e-01</td>\n",
              "      <td>1.145596e+01</td>\n",
              "    </tr>\n",
              "    <tr>\n",
              "      <th>r_id</th>\n",
              "      <td>2060626.0</td>\n",
              "      <td>3.523017e+06</td>\n",
              "      <td>2.016681e+06</td>\n",
              "      <td>11.000000</td>\n",
              "      <td>1.806029e+06</td>\n",
              "      <td>3.483366e+06</td>\n",
              "      <td>5.288642e+06</td>\n",
              "      <td>6.990280e+06</td>\n",
              "    </tr>\n",
              "    <tr>\n",
              "      <th>r_useful</th>\n",
              "      <td>2060626.0</td>\n",
              "      <td>1.631864e-01</td>\n",
              "      <td>7.887542e+00</td>\n",
              "      <td>0.004935</td>\n",
              "      <td>1.769723e-02</td>\n",
              "      <td>3.272991e-02</td>\n",
              "      <td>7.055788e-02</td>\n",
              "      <td>4.557619e+03</td>\n",
              "    </tr>\n",
              "  </tbody>\n",
              "</table>\n",
              "</div>\n",
              "      <button class=\"colab-df-convert\" onclick=\"convertToInteractive('df-775372ba-7db4-4836-ace4-00fa797eae2e')\"\n",
              "              title=\"Convert this dataframe to an interactive table.\"\n",
              "              style=\"display:none;\">\n",
              "        \n",
              "  <svg xmlns=\"http://www.w3.org/2000/svg\" height=\"24px\"viewBox=\"0 0 24 24\"\n",
              "       width=\"24px\">\n",
              "    <path d=\"M0 0h24v24H0V0z\" fill=\"none\"/>\n",
              "    <path d=\"M18.56 5.44l.94 2.06.94-2.06 2.06-.94-2.06-.94-.94-2.06-.94 2.06-2.06.94zm-11 1L8.5 8.5l.94-2.06 2.06-.94-2.06-.94L8.5 2.5l-.94 2.06-2.06.94zm10 10l.94 2.06.94-2.06 2.06-.94-2.06-.94-.94-2.06-.94 2.06-2.06.94z\"/><path d=\"M17.41 7.96l-1.37-1.37c-.4-.4-.92-.59-1.43-.59-.52 0-1.04.2-1.43.59L10.3 9.45l-7.72 7.72c-.78.78-.78 2.05 0 2.83L4 21.41c.39.39.9.59 1.41.59.51 0 1.02-.2 1.41-.59l7.78-7.78 2.81-2.81c.8-.78.8-2.07 0-2.86zM5.41 20L4 18.59l7.72-7.72 1.47 1.35L5.41 20z\"/>\n",
              "  </svg>\n",
              "      </button>\n",
              "      \n",
              "  <style>\n",
              "    .colab-df-container {\n",
              "      display:flex;\n",
              "      flex-wrap:wrap;\n",
              "      gap: 12px;\n",
              "    }\n",
              "\n",
              "    .colab-df-convert {\n",
              "      background-color: #E8F0FE;\n",
              "      border: none;\n",
              "      border-radius: 50%;\n",
              "      cursor: pointer;\n",
              "      display: none;\n",
              "      fill: #1967D2;\n",
              "      height: 32px;\n",
              "      padding: 0 0 0 0;\n",
              "      width: 32px;\n",
              "    }\n",
              "\n",
              "    .colab-df-convert:hover {\n",
              "      background-color: #E2EBFA;\n",
              "      box-shadow: 0px 1px 2px rgba(60, 64, 67, 0.3), 0px 1px 3px 1px rgba(60, 64, 67, 0.15);\n",
              "      fill: #174EA6;\n",
              "    }\n",
              "\n",
              "    [theme=dark] .colab-df-convert {\n",
              "      background-color: #3B4455;\n",
              "      fill: #D2E3FC;\n",
              "    }\n",
              "\n",
              "    [theme=dark] .colab-df-convert:hover {\n",
              "      background-color: #434B5C;\n",
              "      box-shadow: 0px 1px 3px 1px rgba(0, 0, 0, 0.15);\n",
              "      filter: drop-shadow(0px 1px 2px rgba(0, 0, 0, 0.3));\n",
              "      fill: #FFFFFF;\n",
              "    }\n",
              "  </style>\n",
              "\n",
              "      <script>\n",
              "        const buttonEl =\n",
              "          document.querySelector('#df-775372ba-7db4-4836-ace4-00fa797eae2e button.colab-df-convert');\n",
              "        buttonEl.style.display =\n",
              "          google.colab.kernel.accessAllowed ? 'block' : 'none';\n",
              "\n",
              "        async function convertToInteractive(key) {\n",
              "          const element = document.querySelector('#df-775372ba-7db4-4836-ace4-00fa797eae2e');\n",
              "          const dataTable =\n",
              "            await google.colab.kernel.invokeFunction('convertToInteractive',\n",
              "                                                     [key], {});\n",
              "          if (!dataTable) return;\n",
              "\n",
              "          const docLinkHtml = 'Like what you see? Visit the ' +\n",
              "            '<a target=\"_blank\" href=https://colab.research.google.com/notebooks/data_table.ipynb>data table notebook</a>'\n",
              "            + ' to learn more about interactive tables.';\n",
              "          element.innerHTML = '';\n",
              "          dataTable['output_type'] = 'display_data';\n",
              "          await google.colab.output.renderOutput(dataTable, element);\n",
              "          const docLink = document.createElement('div');\n",
              "          docLink.innerHTML = docLinkHtml;\n",
              "          element.appendChild(docLink);\n",
              "        }\n",
              "      </script>\n",
              "    </div>\n",
              "  </div>\n",
              "  "
            ]
          },
          "metadata": {},
          "execution_count": 7
        }
      ]
    },
    {
      "cell_type": "code",
      "source": [
        "X_train, y_train = df_train.drop(['r_useful', 'r_id'], axis=1).values, df_train['r_useful'].values\n",
        "X_val, y_val = df_val.drop(['r_useful', 'r_id'], axis=1).values, df_val['r_useful'].values\n",
        "X_test, y_test = df_test.drop(['r_useful', 'r_id'], axis=1).values, df_test['r_useful'].values"
      ],
      "metadata": {
        "id": "3jtP2MK_I-0J"
      },
      "execution_count": 8,
      "outputs": []
    },
    {
      "cell_type": "code",
      "source": [
        "print(X_train.shape[0] / (X_train.shape[0] + X_val.shape[0] + X_test.shape[0]))\n",
        "print(X_val.shape[0] / (X_train.shape[0] + X_val.shape[0] + X_test.shape[0]))\n",
        "print(X_test.shape[0] / (X_train.shape[0] + X_val.shape[0] + X_test.shape[0]))"
      ],
      "metadata": {
        "colab": {
          "base_uri": "https://localhost:8080/"
        },
        "id": "_Fo821R2kt4N",
        "outputId": "420fe298-ce71-4624-fc5d-ef5fad8d77e9"
      },
      "execution_count": 9,
      "outputs": [
        {
          "output_type": "stream",
          "name": "stdout",
          "text": [
            "0.7999998447074151\n",
            "0.09999988353056138\n",
            "0.10000027176202343\n"
          ]
        }
      ]
    },
    {
      "cell_type": "code",
      "source": [
        "def objective(trial):\n",
        "  \"\"\" Function to tune parameters \"\"\"\n",
        "  gc.collect()\n",
        "  params = {\n",
        "      \"n_estimators\":trial.suggest_categorical('n_estimators', [100, 500, 1000, 2500, 5000, 10000]),\n",
        "      \"max_depth\" : trial.suggest_int(\"max_depth\", 3, 20),\n",
        "      \"learning_rate\" : trial.suggest_categorical('lr', [0.001, 0.005, 0.01, 0.1, 1.]),\n",
        "      \"reg_alpha\": trial.suggest_categorical(\"reg_alpha\", [1e-3, 1e-2, 1e-1, 1, 10, 100]),\n",
        "      \"reg_lambda\": trial.suggest_categorical(\"reg_lambda\", [1e-3, 1e-2, 1e-1, 1, 10, 100])\n",
        "  }\n",
        "\n",
        "\n",
        "  model = xgb.XGBRegressor(objective=\"reg:squarederror\",\n",
        "                            n_jobs=-1,\n",
        "                            grow_policy='lossguide',\n",
        "                            tree_method=\"gpu_hist\",\n",
        "                            predictor=\"gpu_predictor\",\n",
        "                            booster='gbtree',\n",
        "                            sampling_method='gradient_based',\n",
        "                            use_label_encoder=False,\n",
        "                            eval_metrics=['rmse'], \n",
        "                            random_state=42,\n",
        "                            enable_categorical=False,\n",
        "                            **params)\n",
        "  \n",
        "  std = StandardScaler()\n",
        "  yt = std.fit_transform(y_train.reshape(-1, 1)).reshape(-1)\n",
        "  yv = std.transform(y_val.reshape(-1, 1)).reshape(-1)\n",
        "  model.fit(X_train, yt, eval_set=[(X_val, yv)], early_stopping_rounds=300, verbose=100)\n",
        "  y_pred = model.predict(X_val)\n",
        "\n",
        "  return np.sqrt(mean_squared_error(yv, y_pred))"
      ],
      "metadata": {
        "id": "4pnjbg_cJTZr"
      },
      "execution_count": 10,
      "outputs": []
    },
    {
      "cell_type": "code",
      "source": [
        "study = opt.create_study(direction='minimize')\n",
        "study.optimize(objective, n_trials=10)"
      ],
      "metadata": {
        "colab": {
          "base_uri": "https://localhost:8080/"
        },
        "id": "g7Mof9orkpO4",
        "outputId": "dd70615c-175b-4185-c41d-0aa78dccd2db"
      },
      "execution_count": 11,
      "outputs": [
        {
          "output_type": "stream",
          "name": "stderr",
          "text": [
            "\u001b[32m[I 2022-08-22 18:36:08,839]\u001b[0m A new study created in memory with name: no-name-2e9e58a0-9aab-496a-b468-841e59fec858\u001b[0m\n"
          ]
        },
        {
          "output_type": "stream",
          "name": "stdout",
          "text": [
            "[0]\tvalidation_0-rmse:1.49646\n",
            "Will train until validation_0-rmse hasn't improved in 300 rounds.\n",
            "[100]\tvalidation_0-rmse:1.66955\n",
            "[200]\tvalidation_0-rmse:1.6703\n",
            "[300]\tvalidation_0-rmse:1.6705\n",
            "Stopping. Best iteration:\n",
            "[0]\tvalidation_0-rmse:1.49646\n",
            "\n"
          ]
        },
        {
          "output_type": "stream",
          "name": "stderr",
          "text": [
            "\u001b[32m[I 2022-08-22 18:36:40,286]\u001b[0m Trial 0 finished with value: 1.4964612835756272 and parameters: {'n_estimators': 1000, 'max_depth': 11, 'lr': 1.0, 'reg_alpha': 1, 'reg_lambda': 10}. Best is trial 0 with value: 1.4964612835756272.\u001b[0m\n"
          ]
        },
        {
          "output_type": "stream",
          "name": "stdout",
          "text": [
            "[0]\tvalidation_0-rmse:1.56848\n",
            "Will train until validation_0-rmse hasn't improved in 300 rounds.\n",
            "[100]\tvalidation_0-rmse:1.55853\n",
            "[200]\tvalidation_0-rmse:1.55047\n",
            "[300]\tvalidation_0-rmse:1.54568\n",
            "[400]\tvalidation_0-rmse:1.54413\n",
            "[500]\tvalidation_0-rmse:1.54497\n",
            "[600]\tvalidation_0-rmse:1.54752\n",
            "[700]\tvalidation_0-rmse:1.55145\n",
            "Stopping. Best iteration:\n",
            "[410]\tvalidation_0-rmse:1.54412\n",
            "\n"
          ]
        },
        {
          "output_type": "stream",
          "name": "stderr",
          "text": [
            "\u001b[32m[I 2022-08-22 18:37:09,375]\u001b[0m Trial 1 finished with value: 1.5441168868746622 and parameters: {'n_estimators': 5000, 'max_depth': 10, 'lr': 0.001, 'reg_alpha': 0.01, 'reg_lambda': 0.1}. Best is trial 0 with value: 1.4964612835756272.\u001b[0m\n"
          ]
        },
        {
          "output_type": "stream",
          "name": "stdout",
          "text": [
            "[0]\tvalidation_0-rmse:1.56783\n",
            "Will train until validation_0-rmse hasn't improved in 300 rounds.\n",
            "[99]\tvalidation_0-rmse:1.51789\n"
          ]
        },
        {
          "output_type": "stream",
          "name": "stderr",
          "text": [
            "\u001b[32m[I 2022-08-22 18:37:19,087]\u001b[0m Trial 2 finished with value: 1.517893740765174 and parameters: {'n_estimators': 100, 'max_depth': 15, 'lr': 0.005, 'reg_alpha': 0.1, 'reg_lambda': 10}. Best is trial 0 with value: 1.4964612835756272.\u001b[0m\n"
          ]
        },
        {
          "output_type": "stream",
          "name": "stdout",
          "text": [
            "[0]\tvalidation_0-rmse:1.56784\n",
            "Will train until validation_0-rmse hasn't improved in 300 rounds.\n",
            "[100]\tvalidation_0-rmse:1.51835\n",
            "[200]\tvalidation_0-rmse:1.50048\n",
            "[300]\tvalidation_0-rmse:1.49466\n",
            "[400]\tvalidation_0-rmse:1.49442\n",
            "[500]\tvalidation_0-rmse:1.49376\n",
            "[600]\tvalidation_0-rmse:1.49339\n",
            "[700]\tvalidation_0-rmse:1.4932\n",
            "[800]\tvalidation_0-rmse:1.49309\n",
            "[900]\tvalidation_0-rmse:1.49285\n",
            "[1000]\tvalidation_0-rmse:1.49505\n",
            "[1100]\tvalidation_0-rmse:1.49956\n",
            "Stopping. Best iteration:\n",
            "[894]\tvalidation_0-rmse:1.49278\n",
            "\n"
          ]
        },
        {
          "output_type": "stream",
          "name": "stderr",
          "text": [
            "\u001b[32m[I 2022-08-22 18:37:40,818]\u001b[0m Trial 3 finished with value: 1.4927830534779138 and parameters: {'n_estimators': 5000, 'max_depth': 6, 'lr': 0.005, 'reg_alpha': 0.001, 'reg_lambda': 0.01}. Best is trial 3 with value: 1.4927830534779138.\u001b[0m\n"
          ]
        },
        {
          "output_type": "stream",
          "name": "stdout",
          "text": [
            "[0]\tvalidation_0-rmse:1.56705\n",
            "Will train until validation_0-rmse hasn't improved in 300 rounds.\n",
            "[100]\tvalidation_0-rmse:1.53669\n",
            "[200]\tvalidation_0-rmse:1.5776\n",
            "[300]\tvalidation_0-rmse:1.61485\n",
            "Stopping. Best iteration:\n",
            "[59]\tvalidation_0-rmse:1.52918\n",
            "\n"
          ]
        },
        {
          "output_type": "stream",
          "name": "stderr",
          "text": [
            "\u001b[32m[I 2022-08-22 18:39:20,708]\u001b[0m Trial 4 finished with value: 1.529177366735057 and parameters: {'n_estimators': 2500, 'max_depth': 16, 'lr': 0.01, 'reg_alpha': 0.001, 'reg_lambda': 1}. Best is trial 3 with value: 1.4927830534779138.\u001b[0m\n"
          ]
        },
        {
          "output_type": "stream",
          "name": "stdout",
          "text": [
            "[0]\tvalidation_0-rmse:2.01942\n",
            "Will train until validation_0-rmse hasn't improved in 300 rounds.\n",
            "[100]\tvalidation_0-rmse:2.06113\n",
            "[200]\tvalidation_0-rmse:2.06112\n",
            "[300]\tvalidation_0-rmse:2.06116\n",
            "Stopping. Best iteration:\n",
            "[0]\tvalidation_0-rmse:2.01942\n",
            "\n"
          ]
        },
        {
          "output_type": "stream",
          "name": "stderr",
          "text": [
            "\u001b[32m[I 2022-08-22 18:39:48,285]\u001b[0m Trial 5 finished with value: 2.0194222370381967 and parameters: {'n_estimators': 10000, 'max_depth': 11, 'lr': 1.0, 'reg_alpha': 0.1, 'reg_lambda': 0.001}. Best is trial 3 with value: 1.4927830534779138.\u001b[0m\n"
          ]
        },
        {
          "output_type": "stream",
          "name": "stdout",
          "text": [
            "[0]\tvalidation_0-rmse:1.55899\n",
            "Will train until validation_0-rmse hasn't improved in 300 rounds.\n",
            "[100]\tvalidation_0-rmse:1.59757\n",
            "[200]\tvalidation_0-rmse:1.60001\n",
            "[300]\tvalidation_0-rmse:1.60054\n",
            "Stopping. Best iteration:\n",
            "[0]\tvalidation_0-rmse:1.55899\n",
            "\n"
          ]
        },
        {
          "output_type": "stream",
          "name": "stderr",
          "text": [
            "\u001b[32m[I 2022-08-22 18:39:59,714]\u001b[0m Trial 6 finished with value: 1.5589873215800585 and parameters: {'n_estimators': 10000, 'max_depth': 10, 'lr': 0.1, 'reg_alpha': 10, 'reg_lambda': 0.001}. Best is trial 3 with value: 1.4927830534779138.\u001b[0m\n"
          ]
        },
        {
          "output_type": "stream",
          "name": "stdout",
          "text": [
            "[0]\tvalidation_0-rmse:1.56705\n",
            "Will train until validation_0-rmse hasn't improved in 300 rounds.\n",
            "[100]\tvalidation_0-rmse:1.49892\n",
            "[200]\tvalidation_0-rmse:1.49026\n",
            "[300]\tvalidation_0-rmse:1.48997\n",
            "[400]\tvalidation_0-rmse:1.4898\n",
            "[499]\tvalidation_0-rmse:1.48978\n"
          ]
        },
        {
          "output_type": "stream",
          "name": "stderr",
          "text": [
            "\u001b[32m[I 2022-08-22 18:40:07,168]\u001b[0m Trial 7 finished with value: 1.4897510230297106 and parameters: {'n_estimators': 500, 'max_depth': 4, 'lr': 0.01, 'reg_alpha': 0.01, 'reg_lambda': 0.1}. Best is trial 7 with value: 1.4897510230297106.\u001b[0m\n"
          ]
        },
        {
          "output_type": "stream",
          "name": "stdout",
          "text": [
            "[0]\tvalidation_0-rmse:1.56711\n",
            "Will train until validation_0-rmse hasn't improved in 300 rounds.\n",
            "[100]\tvalidation_0-rmse:1.58139\n",
            "[200]\tvalidation_0-rmse:1.60739\n",
            "[300]\tvalidation_0-rmse:1.61583\n",
            "Stopping. Best iteration:\n",
            "[31]\tvalidation_0-rmse:1.54981\n",
            "\n"
          ]
        },
        {
          "output_type": "stream",
          "name": "stderr",
          "text": [
            "\u001b[32m[I 2022-08-22 18:40:55,894]\u001b[0m Trial 8 finished with value: 1.5498143176551287 and parameters: {'n_estimators': 1000, 'max_depth': 19, 'lr': 0.01, 'reg_alpha': 10, 'reg_lambda': 0.1}. Best is trial 7 with value: 1.4897510230297106.\u001b[0m\n"
          ]
        },
        {
          "output_type": "stream",
          "name": "stdout",
          "text": [
            "[0]\tvalidation_0-rmse:1.5671\n",
            "Will train until validation_0-rmse hasn't improved in 300 rounds.\n",
            "[100]\tvalidation_0-rmse:1.61969\n",
            "[200]\tvalidation_0-rmse:1.62922\n",
            "[300]\tvalidation_0-rmse:1.64347\n",
            "Stopping. Best iteration:\n",
            "[12]\tvalidation_0-rmse:1.55903\n",
            "\n"
          ]
        },
        {
          "output_type": "stream",
          "name": "stderr",
          "text": [
            "\u001b[32m[I 2022-08-22 18:41:14,028]\u001b[0m Trial 9 finished with value: 1.5590252886178413 and parameters: {'n_estimators': 5000, 'max_depth': 11, 'lr': 0.01, 'reg_alpha': 0.001, 'reg_lambda': 0.001}. Best is trial 7 with value: 1.4897510230297106.\u001b[0m\n"
          ]
        }
      ]
    },
    {
      "cell_type": "code",
      "source": [
        "study.best_params"
      ],
      "metadata": {
        "colab": {
          "base_uri": "https://localhost:8080/"
        },
        "id": "AUZw2lCGlAqp",
        "outputId": "00364f14-848f-4bff-f531-50486b609214"
      },
      "execution_count": 12,
      "outputs": [
        {
          "output_type": "execute_result",
          "data": {
            "text/plain": [
              "{'n_estimators': 500,\n",
              " 'max_depth': 4,\n",
              " 'lr': 0.01,\n",
              " 'reg_alpha': 0.01,\n",
              " 'reg_lambda': 0.1}"
            ]
          },
          "metadata": {},
          "execution_count": 12
        }
      ]
    },
    {
      "cell_type": "code",
      "source": [
        "model = xgb.XGBRegressor(objective=\"reg:squarederror\", \n",
        "                        n_jobs=-1, \n",
        "                        grow_policy='lossguide',\n",
        "                        tree_method=\"gpu_hist\", \n",
        "                        predictor=\"gpu_predictor\",\n",
        "                        booster='gbtree',\n",
        "                        sampling_method='gradient_based',\n",
        "                        use_label_encoder=False,\n",
        "                        random_state=42, \n",
        "                        enable_categorical=False,\n",
        "                        **study.best_params)\n",
        "\n",
        "std = StandardScaler()\n",
        "y_trn = std.fit_transform(y_train.reshape(-1, 1)).reshape(-1)\n",
        "y_tst = std.transform(y_test.reshape(-1, 1)).reshape(-1)\n",
        "model.fit(X_train, y_trn)\n",
        "\n",
        "## Score on test set \n",
        "mae = mean_absolute_error(y_tst, model.predict(X_test))\n",
        "rmse = np.sqrt(mean_squared_error(y_tst, model.predict(X_test)))\n",
        "print(f\"MAE on test set : {mae}\")\n",
        "print(f\"RMSE on test set : {rmse}\")"
      ],
      "metadata": {
        "id": "XbXGVVYFlZAP",
        "colab": {
          "base_uri": "https://localhost:8080/"
        },
        "outputId": "169c1102-bbd7-4869-9151-35d3ecf55d85"
      },
      "execution_count": 13,
      "outputs": [
        {
          "output_type": "stream",
          "name": "stdout",
          "text": [
            "MAE on test set : 0.031178268387622877\n",
            "RMSE on test set : 1.042864155606246\n"
          ]
        }
      ]
    },
    {
      "cell_type": "markdown",
      "source": [
        "# CatBoost"
      ],
      "metadata": {
        "id": "BYr81qk25GCm"
      }
    },
    {
      "cell_type": "code",
      "source": [
        "cat_model = cat.CatBoostRegressor()\n",
        "y_v = std.transform(y_val.reshape(-1, 1)).reshape(-1)\n",
        "cat_model.fit(X_train, y_trn, eval_set=(X_val, y_v), early_stopping_rounds=100, verbose=10)\n",
        "\n",
        "mae = mean_absolute_error(y_tst, cat_model.predict(X_test))\n",
        "rmse = np.sqrt(mean_squared_error(y_tst, cat_model.predict(X_test)))\n",
        "print(f\"MAE on test set : {mae}\")\n",
        "print(f\"RMSE on test set : {rmse}\")"
      ],
      "metadata": {
        "id": "LtZKqmh-6B-2",
        "colab": {
          "base_uri": "https://localhost:8080/"
        },
        "outputId": "ce290dc3-c722-4447-a502-40f0097377a5"
      },
      "execution_count": 18,
      "outputs": [
        {
          "output_type": "stream",
          "name": "stdout",
          "text": [
            "Learning rate set to 0.168731\n",
            "0:\tlearn: 0.9958396\ttest: 1.4870462\tbest: 1.4870462 (0)\ttotal: 209ms\tremaining: 3m 29s\n",
            "10:\tlearn: 0.9745091\ttest: 1.4917212\tbest: 1.4870462 (0)\ttotal: 2.31s\tremaining: 3m 27s\n",
            "20:\tlearn: 0.9602364\ttest: 1.4958209\tbest: 1.4870462 (0)\ttotal: 4.48s\tremaining: 3m 28s\n",
            "30:\tlearn: 0.9362577\ttest: 1.4966666\tbest: 1.4870462 (0)\ttotal: 6.69s\tremaining: 3m 29s\n",
            "40:\tlearn: 0.9183570\ttest: 1.5022424\tbest: 1.4870462 (0)\ttotal: 8.83s\tremaining: 3m 26s\n",
            "50:\tlearn: 0.8934002\ttest: 1.5054488\tbest: 1.4870462 (0)\ttotal: 11s\tremaining: 3m 24s\n",
            "60:\tlearn: 0.8749582\ttest: 1.5113139\tbest: 1.4870462 (0)\ttotal: 13.2s\tremaining: 3m 22s\n",
            "70:\tlearn: 0.8574366\ttest: 1.5171076\tbest: 1.4870462 (0)\ttotal: 15.4s\tremaining: 3m 21s\n",
            "80:\tlearn: 0.8461288\ttest: 1.5193089\tbest: 1.4870462 (0)\ttotal: 17.5s\tremaining: 3m 18s\n",
            "90:\tlearn: 0.8372951\ttest: 1.5202276\tbest: 1.4870462 (0)\ttotal: 19.6s\tremaining: 3m 15s\n",
            "100:\tlearn: 0.8138182\ttest: 1.5210498\tbest: 1.4870462 (0)\ttotal: 21.8s\tremaining: 3m 13s\n",
            "Stopped by overfitting detector  (100 iterations wait)\n",
            "\n",
            "bestTest = 1.487046222\n",
            "bestIteration = 0\n",
            "\n",
            "Shrink model to first 1 iterations.\n",
            "MAE on test set : 0.024405168977937416\n",
            "RMSE on test set : 0.3857265442143259\n"
          ]
        }
      ]
    },
    {
      "cell_type": "code",
      "source": [
        "xgb_tst_pred = model.predict(X_test)\n",
        "cat_tst_pred = cat_model.predict(X_test)\n",
        "avg_pred = (xgb_tst_pred + cat_tst_pred) / 2\n",
        "\n",
        "mae = mean_absolute_error(y_tst, avg_pred)\n",
        "rmse = np.sqrt(mean_squared_error(y_tst, avg_pred))\n",
        "\n",
        "print(f\"MAE on test set : {mae}\")\n",
        "print(f\"RMSE on test set : {rmse}\")"
      ],
      "metadata": {
        "colab": {
          "base_uri": "https://localhost:8080/"
        },
        "id": "1QpM9yRU6LPS",
        "outputId": "9dfc1066-c5eb-4709-8110-ec0bc0d21ee9"
      },
      "execution_count": 19,
      "outputs": [
        {
          "output_type": "stream",
          "name": "stdout",
          "text": [
            "MAE on test set : 0.0264262518862571\n",
            "RMSE on test set : 0.6181186975597794\n"
          ]
        }
      ]
    }
  ]
}