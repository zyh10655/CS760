{
 "cells": [
  {
   "cell_type": "code",
   "execution_count": 1,
   "metadata": {},
   "outputs": [],
   "source": [
    "from pathlib import Path\n",
    "import pandas as pd\n",
    "import numpy as np\n",
    "from sklearn.svm import LinearSVR\n",
    "from sklearn.model_selection import ParameterGrid\n",
    "from sklearn.metrics import mean_squared_error, mean_absolute_error\n",
    "from sklearn.model_selection import cross_val_score\n",
    "from sklearn.svm import SVR"
   ]
  },
  {
   "cell_type": "code",
   "execution_count": 2,
   "metadata": {},
   "outputs": [],
   "source": [
    "RANDOM_SEED = 2\n",
    "CWD = Path.cwd()\n",
    "# Data Dir\n",
    "DATA_DIR = CWD.parent / \"transformed\""
   ]
  },
  {
   "cell_type": "code",
   "execution_count": 3,
   "metadata": {},
   "outputs": [],
   "source": [
    "train = pd.read_parquet(\"transformed/train.parquet\")\n",
    "val = pd.read_parquet(\"transformed/val.parquet\")\n",
    "test = pd.read_parquet(\"transformed/test.parquet\")"
   ]
  },
  {
   "cell_type": "code",
   "execution_count": 14,
   "metadata": {},
   "outputs": [],
   "source": [
    "X_train = train.iloc[:,:-2]\n",
    "y_train = train.iloc[:,-1]\n",
    "\n",
    "X_val = val.iloc[:,:-2]\n",
    "y_val = val.iloc[:,-1]\n",
    "\n",
    "X_test = test.iloc[:,:-2]\n",
    "y_test = test.iloc[:,-1]"
   ]
  },
  {
   "cell_type": "markdown",
   "metadata": {},
   "source": [
    "## LinearSVR model"
   ]
  },
  {
   "cell_type": "code",
   "execution_count": 5,
   "metadata": {},
   "outputs": [],
   "source": [
    "def predict_scores(model, X, y_true):\n",
    "    y_pred = model.predict(X)\n",
    "    rmse = mean_squared_error(y_true, y_pred, squared=False)\n",
    "    mae = mean_absolute_error(y_true, y_pred)\n",
    "    return {\"RMSE\": rmse, \"MAE\": mae}\n",
    "\n",
    "\n",
    "def experiment(HPdict, model_args):\n",
    "    grid = ParameterGrid(HPdict)\n",
    "\n",
    "    scores = pd.DataFrame(columns=[\"RMSE\", \"MAE\", \"is_val\"])\n",
    "    for i, hps in enumerate(grid):\n",
    "        print(f\"training {i+1}th model\")\n",
    "        model = LinearSVR(**model_args)\n",
    "        model.set_params(**hps)\n",
    "        model.fit(X_train, y_train)\n",
    "        \n",
    "        row = predict_scores(model, X_train, y_train)\n",
    "        scores = pd.concat(\n",
    "            [scores, pd.DataFrame({**hps, **row, \"is_val\": False}, index=[0])],\n",
    "            ignore_index=True)\n",
    "        \n",
    "        row = predict_scores(model, X_val, y_val)\n",
    "        scores = pd.concat(\n",
    "            [scores, pd.DataFrame({**hps, **row, \"is_val\": True}, index=[0])],\n",
    "            ignore_index=True)\n",
    "    return scores"
   ]
  },
  {
   "cell_type": "code",
   "execution_count": 6,
   "metadata": {},
   "outputs": [
    {
     "name": "stdout",
     "output_type": "stream",
     "text": [
      "training 1th model\n",
      "training 2th model\n",
      "training 3th model\n",
      "training 4th model\n",
      "training 5th model\n",
      "training 6th model\n",
      "Done\n"
     ]
    }
   ],
   "source": [
    "hyperparams = {\n",
    "    \"C\": [0.01, 0.1, 1, 10, 100, 1000],\n",
    "    \"tol\":[1e-5]\n",
    "}\n",
    "model_args = {\"dual\":False, \"loss\":\"squared_epsilon_insensitive\", \"random_state\":RANDOM_SEED}\n",
    "scores = experiment(hyperparams, model_args)\n",
    "print(\"Done\")"
   ]
  },
  {
   "cell_type": "code",
   "execution_count": 7,
   "metadata": {},
   "outputs": [
    {
     "name": "stdout",
     "output_type": "stream",
     "text": [
      "        RMSE       MAE is_val        C      tol\n",
      "0   7.885028  0.234479  False     0.01  0.00001\n",
      "2   7.885028  0.234482  False     0.10  0.00001\n",
      "4   7.885028  0.234483  False     1.00  0.00001\n",
      "6   7.885028  0.234483  False    10.00  0.00001\n",
      "8   7.885028  0.234483  False   100.00  0.00001\n",
      "10  7.885028  0.234483  False  1000.00  0.00001\n",
      "         RMSE       MAE is_val        C      tol\n",
      "1   11.727788  0.241655   True     0.01  0.00001\n",
      "3   11.727788  0.241659   True     0.10  0.00001\n",
      "5   11.727788  0.241659   True     1.00  0.00001\n",
      "7   11.727788  0.241659   True    10.00  0.00001\n",
      "9   11.727788  0.241659   True   100.00  0.00001\n",
      "11  11.727788  0.241659   True  1000.00  0.00001\n"
     ]
    }
   ],
   "source": [
    "print(scores[scores.is_val == False])\n",
    "print(scores[scores.is_val == True])"
   ]
  },
  {
   "cell_type": "code",
   "execution_count": 8,
   "metadata": {},
   "outputs": [
    {
     "name": "stdout",
     "output_type": "stream",
     "text": [
      "RMSE 3.04049225464921\n",
      "MAE 0.21159881873611164\n"
     ]
    }
   ],
   "source": [
    "model = LinearSVR(dual = False, C=0.01, loss='squared_epsilon_insensitive')\n",
    "model.fit(X_train, y_train)\n",
    "y_pred = model.predict(X_test)\n",
    "rmse = mean_squared_error(y_test, y_pred, squared=False)\n",
    "mae = mean_absolute_error(y_test, y_pred)\n",
    "print(\"RMSE\", rmse)\n",
    "print(\"MAE\", mae)"
   ]
  },
  {
   "cell_type": "code",
   "execution_count": 9,
   "metadata": {},
   "outputs": [],
   "source": [
    "X_train_subset = X_train[:5000]\n",
    "y_train_subset = y_train[:5000]\n",
    "\n",
    "X_test_subset = X_test[:5000]\n",
    "y_test_subset = y_test[:5000]\n",
    "\n",
    "X_val_subset = X_val[:5000]\n",
    "y_val_subset = y_val[:5000]"
   ]
  },
  {
   "cell_type": "markdown",
   "metadata": {},
   "source": [
    "## SVR model"
   ]
  },
  {
   "cell_type": "code",
   "execution_count": 10,
   "metadata": {},
   "outputs": [],
   "source": [
    "# SVR\n",
    "def predict_scores(model, X, y_true):\n",
    "    y_pred = model.predict(X)\n",
    "    rmse = mean_squared_error(y_true, y_pred, squared=False)\n",
    "    mae = mean_absolute_error(y_true, y_pred)\n",
    "    return {\"RMSE\": rmse, \"MAE\": mae}\n",
    "\n",
    "\n",
    "def experiment(HPdict, model_args):\n",
    "    grid = ParameterGrid(HPdict)\n",
    "\n",
    "    scores = pd.DataFrame(columns=[\"RMSE\", \"MAE\", \"is_val\"])\n",
    "    for i, hps in enumerate(grid):\n",
    "        print(f\"training {i+1}th model\")\n",
    "        model = SVR(**model_args)\n",
    "        model.set_params(**hps)\n",
    "        model.fit(X_train_subset, y_train_subset)\n",
    "        \n",
    "        row = predict_scores(model, X_train_subset, y_train_subset)\n",
    "        \n",
    "        scores = pd.concat(\n",
    "            [scores, pd.DataFrame({**hps, **row}, index=[0])])\n",
    "        row = predict_scores(model, X_val, y_val)\n",
    "        \n",
    "    return scores"
   ]
  },
  {
   "cell_type": "code",
   "execution_count": 11,
   "metadata": {
    "scrolled": true
   },
   "outputs": [
    {
     "name": "stdout",
     "output_type": "stream",
     "text": [
      "training 1th model\n",
      "training 2th model\n",
      "training 3th model\n",
      "training 4th model\n",
      "training 5th model\n",
      "training 6th model\n",
      "training 7th model\n",
      "training 8th model\n",
      "training 9th model\n",
      "training 10th model\n",
      "training 11th model\n",
      "training 12th model\n",
      "Done\n"
     ]
    }
   ],
   "source": [
    "hyperparams = ({\n",
    "    \n",
    "    \"kernel\":['poly', 'rbf', 'sigmoid'],\n",
    "    \"C\": [0.01, 0.1, 1, 10]\n",
    "})\n",
    "model_args = {}\n",
    "scores = experiment(hyperparams, model_args)\n",
    "print(\"Done\")"
   ]
  },
  {
   "cell_type": "code",
   "execution_count": 12,
   "metadata": {},
   "outputs": [
    {
     "name": "stdout",
     "output_type": "stream",
     "text": [
      "         RMSE         MAE is_val      C   kernel\n",
      "0    0.754316    0.131708    NaN   0.01     poly\n",
      "0    0.757307    0.134802    NaN   0.01      rbf\n",
      "0    0.811837    0.236309    NaN   0.01  sigmoid\n",
      "0    0.751345    0.129339    NaN   0.10     poly\n",
      "0    0.754895    0.133446    NaN   0.10      rbf\n",
      "0    3.994056    2.206653    NaN   0.10  sigmoid\n",
      "0    0.749991    0.126968    NaN   1.00     poly\n",
      "0    0.747692    0.126454    NaN   1.00      rbf\n",
      "0   39.682383   21.865257    NaN   1.00  sigmoid\n",
      "0    0.749241    0.125764    NaN  10.00     poly\n",
      "0    0.725136    0.110171    NaN  10.00      rbf\n",
      "0  359.568702  202.900404    NaN  10.00  sigmoid\n"
     ]
    }
   ],
   "source": [
    "print(scores)"
   ]
  },
  {
   "cell_type": "code",
   "execution_count": 13,
   "metadata": {},
   "outputs": [
    {
     "name": "stdout",
     "output_type": "stream",
     "text": [
      "RMSE 0.593893709957067\n",
      "MAE 0.12227245704578672\n"
     ]
    }
   ],
   "source": [
    "model = SVR(kernel='poly', C=0.01)\n",
    "model.fit(X_train, y_train_subset)\n",
    "y_pred = model.predict(X_test_subset)\n",
    "rmse = mean_squared_error(y_test_subset, y_pred, squared=False)\n",
    "mae = mean_absolute_error(y_test_subset, y_pred)\n",
    "print(\"RMSE\", rmse)\n",
    "print(\"MAE\", mae)"
   ]
  }
 ],
 "metadata": {
  "kernelspec": {
   "display_name": "Python 3 (ipykernel)",
   "language": "python",
   "name": "python3"
  },
  "language_info": {
   "codemirror_mode": {
    "name": "ipython",
    "version": 3
   },
   "file_extension": ".py",
   "mimetype": "text/x-python",
   "name": "python",
   "nbconvert_exporter": "python",
   "pygments_lexer": "ipython3",
   "version": "3.9.12"
  },
  "vscode": {
   "interpreter": {
    "hash": "12ede14e1ffbe31a015ff23db9d83bed6e28cdb2c11038b651bf1634c6ce7b9c"
   }
  }
 },
 "nbformat": 4,
 "nbformat_minor": 2
}
