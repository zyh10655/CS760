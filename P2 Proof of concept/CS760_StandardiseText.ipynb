{
 "cells": [
  {
   "cell_type": "code",
   "execution_count": 14,
   "id": "c93c802e",
   "metadata": {},
   "outputs": [],
   "source": [
    "from textblob import TextBlob\n",
    "import pandas\n",
    "import re"
   ]
  },
  {
   "cell_type": "code",
   "execution_count": 13,
   "id": "514c2908",
   "metadata": {},
   "outputs": [
    {
     "data": {
      "text/plain": [
       "Sentiment(polarity=0.75, subjectivity=0.675)"
      ]
     },
     "execution_count": 13,
     "metadata": {},
     "output_type": "execute_result"
    }
   ],
   "source": [
    "# testing textblob\n",
    "\n",
    "TextBlob(\"The movie was good but not that great\").sentiment"
   ]
  },
  {
   "cell_type": "code",
   "execution_count": 65,
   "id": "e385c937",
   "metadata": {},
   "outputs": [],
   "source": [
    "# import the raw data\n",
    "\n",
    "text_df=pandas.read_parquet('/Users/Sheffin/Downloads/joined.parquet.snappy')"
   ]
  },
  {
   "cell_type": "code",
   "execution_count": 48,
   "id": "1ccad1eb",
   "metadata": {},
   "outputs": [
    {
     "data": {
      "text/plain": [
       "0          Wow!  Yummy, different,  delicious.   Our favo...\n",
       "1          This easter instead of going to Lopez Lake we ...\n",
       "2          My experience with Shalimar was nothing but wo...\n",
       "3          The hubby and I have been here on multiple occ...\n",
       "4          I go to blow bar to get my brows done by natal...\n",
       "                                 ...                        \n",
       "2576650    Latest addition to services from ICCU is Apple...\n",
       "2576651    This spot offers a great, affordable east week...\n",
       "2576652    This Home Depot won me over when I needed to g...\n",
       "2576653    For when I'm feeling like ignoring my calorie-...\n",
       "2576654    Located in the 'Walking District' in Nashville...\n",
       "Name: r_text, Length: 2576655, dtype: object"
      ]
     },
     "execution_count": 48,
     "metadata": {},
     "output_type": "execute_result"
    }
   ],
   "source": [
    "text_df['r_text']"
   ]
  },
  {
   "cell_type": "code",
   "execution_count": 66,
   "id": "aff18fa8",
   "metadata": {},
   "outputs": [],
   "source": [
    "# standardize the text\n",
    "text_df['processed_txt']=text_df['r_text']\n",
    "\n",
    "\n",
    "# convert to lower case\n",
    "text_df['processed_txt']=text_df['processed_txt'].str.lower()\n",
    "\n",
    " \n",
    "# remove white spaces between words\n",
    "processedtxt=[]\n",
    "for i in range(len(text_df.processed_txt)):\n",
    "    txt = re.sub(' +', ' ',text_df['processed_txt'][i])\n",
    "    processedtxt.append(txt)\n",
    "text_df['processed_txt']=processedtxt\n",
    "\n",
    "\n",
    "# remove whitespace from start and end of review\n",
    "text_df['processed_txt']=text_df['processed_txt'].str.strip()\n",
    "\n",
    "\n",
    "# remove punctuations except ? and !\n",
    "punctuation= '''()-[]{};:'\"\\,<>./@#$%^&*_~'''\n",
    "processedtxt=[]\n",
    "for i in range(len(text_df.processed_txt)):\n",
    "    txt = [char for char in text_df['processed_txt'][i] if char not in punctuation]\n",
    "    txt = ''.join(txt)\n",
    "    processedtxt.append(txt)\n",
    "text_df['processed_txt']=processedtxt\n"
   ]
  },
  {
   "cell_type": "code",
   "execution_count": 74,
   "id": "1fd7b455",
   "metadata": {},
   "outputs": [],
   "source": [
    "# export processed data\n",
    "process_df=text_df[[\"processed_txt\"]]\n",
    "process_df.to_parquet('processed_rtext.parquet.snappy',compression='snappy',index=False)"
   ]
  }
 ],
 "metadata": {
  "kernelspec": {
   "display_name": "Python 3 (ipykernel)",
   "language": "python",
   "name": "python3"
  },
  "language_info": {
   "codemirror_mode": {
    "name": "ipython",
    "version": 3
   },
   "file_extension": ".py",
   "mimetype": "text/x-python",
   "name": "python",
   "nbconvert_exporter": "python",
   "pygments_lexer": "ipython3",
   "version": "3.9.12"
  }
 },
 "nbformat": 4,
 "nbformat_minor": 5
}
