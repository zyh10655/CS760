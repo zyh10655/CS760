{
  "cells": [
    {
      "cell_type": "code",
      "execution_count": 57,
      "metadata": {
        "id": "8Rxxyk2ChCkF"
      },
      "outputs": [],
      "source": [
        "!pip install --quiet optuna"
      ]
    },
    {
      "cell_type": "code",
      "execution_count": 58,
      "metadata": {
        "id": "HEMXBJChhLrP"
      },
      "outputs": [],
      "source": [
        "import numpy as np\n",
        "import pandas as pd\n",
        "import optuna as opt\n",
        "import xgboost as xgb\n",
        "from pathlib import Path\n",
        "import gc\n",
        "\n",
        "from sklearn.metrics import mean_absolute_error, mean_squared_error"
      ]
    },
    {
      "cell_type": "code",
      "execution_count": 59,
      "metadata": {
        "colab": {
          "base_uri": "https://localhost:8080/"
        },
        "id": "Gk1DTpCxhSDs",
        "outputId": "7b393991-3119-4867-e741-5f0e41956df6"
      },
      "outputs": [
        {
          "output_type": "stream",
          "name": "stdout",
          "text": [
            "Drive already mounted at /content/drive; to attempt to forcibly remount, call drive.mount(\"/content/drive\", force_remount=True).\n"
          ]
        }
      ],
      "source": [
        "from google.colab import drive\n",
        "drive.mount('/content/drive')"
      ]
    },
    {
      "cell_type": "code",
      "source": [
        "RANDOM_STATE = 2\n",
        "DATA_DIR = Path(\"/content/drive/MyDrive/CS760/transformed\")"
      ],
      "metadata": {
        "id": "_f0yPV0biLTV"
      },
      "execution_count": 60,
      "outputs": []
    },
    {
      "cell_type": "code",
      "source": [
        "df_train = pd.read_parquet(DATA_DIR/\"train.parquet\")\n",
        "df_val = pd.read_parquet(DATA_DIR/'val.parquet')\n",
        "df_test = pd.read_parquet(DATA_DIR/\"test.parquet\")\n",
        "\n",
        "print(f\"Shape of the training data : {df_train.shape}\")\n",
        "print(f\"Shape of the validation data : {df_val.shape}\")\n",
        "print(f\"Shape of the test data : {df_test.shape}\")"
      ],
      "metadata": {
        "colab": {
          "base_uri": "https://localhost:8080/"
        },
        "id": "yxtSLd7GieIK",
        "outputId": "3166a172-d3ea-440c-a141-0a2ec3490850"
      },
      "execution_count": 61,
      "outputs": [
        {
          "output_type": "stream",
          "name": "stdout",
          "text": [
            "Shape of the training data : (2060626, 13)\n",
            "Shape of the validation data : (257578, 13)\n",
            "Shape of the test data : (257579, 13)\n"
          ]
        }
      ]
    },
    {
      "cell_type": "code",
      "source": [
        "df_train.describe().T"
      ],
      "metadata": {
        "colab": {
          "base_uri": "https://localhost:8080/",
          "height": 521
        },
        "id": "-QWAvNuoixc1",
        "outputId": "1f38ad58-78b1-41cf-8f86-1bb69ad485c1"
      },
      "execution_count": 62,
      "outputs": [
        {
          "output_type": "execute_result",
          "data": {
            "text/plain": [
              "                     count          mean           std         min  \\\n",
              "r_stars          2060626.0 -1.671941e-16  1.000000e+00   -1.693936   \n",
              "r_stars_square   2060626.0 -1.018940e-17  1.000000e+00   -1.494513   \n",
              "r_length         2060626.0 -2.388216e-17  1.000000e+00   -1.158545   \n",
              "u_friends_count  2060626.0 -1.731163e-17  1.000000e+00   -0.331709   \n",
              "u_review_count   2060626.0  3.255780e-17  1.000000e+00   -0.385583   \n",
              "u_month_age      2060626.0  3.771456e-16  1.000000e+00   -1.237169   \n",
              "b_stars          2060626.0 -8.181173e-17  1.000000e+00   -3.451613   \n",
              "b_review_count   2060626.0  2.582693e-17  1.000000e+00   -0.498458   \n",
              "r_sen            2060626.0  5.128801e-16  1.000000e+00   -6.135095   \n",
              "r_sub            2060626.0 -4.767259e-16  1.000000e+00   -3.029519   \n",
              "r_rea            2060626.0 -1.252596e-15  1.000000e+00 -248.487658   \n",
              "r_id             2060626.0  3.523017e+06  2.016681e+06   11.000000   \n",
              "r_useful         2060626.0  1.631864e-01  7.887542e+00    0.004935   \n",
              "\n",
              "                          25%           50%           75%           max  \n",
              "r_stars         -1.044159e+00  2.553940e-01  9.051706e-01  9.051706e-01  \n",
              "r_stars_square  -1.182692e+00  6.458972e-02  1.000051e+00  1.000051e+00  \n",
              "r_length        -6.631864e-01 -2.808043e-01  3.275309e-01  8.122912e+00  \n",
              "u_friends_count -3.299440e-01 -2.628759e-01 -3.696244e-02  2.613194e+01  \n",
              "u_review_count  -3.634084e-01 -2.968854e-01 -3.079341e-02  3.483733e+01  \n",
              "u_month_age     -8.424000e-01 -1.823749e-01  6.486289e-01  4.604853e+00  \n",
              "b_stars         -3.054136e-01  3.238264e-01  9.530663e-01  1.582306e+00  \n",
              "b_review_count  -4.459658e-01 -3.184850e-01  6.965998e-03  1.084433e+01  \n",
              "r_sen           -6.346910e-01 -7.891442e-03  6.128473e-01  4.243026e+00  \n",
              "r_sub           -6.557234e-01 -2.057011e-02  6.333986e-01  3.785211e+00  \n",
              "r_rea           -5.003790e-01  8.682336e-02  5.755564e-01  1.145596e+01  \n",
              "r_id             1.806029e+06  3.483366e+06  5.288642e+06  6.990280e+06  \n",
              "r_useful         1.769723e-02  3.272991e-02  7.055788e-02  4.557619e+03  "
            ],
            "text/html": [
              "\n",
              "  <div id=\"df-980f656d-f8d0-4d0b-a8df-2f00232525a2\">\n",
              "    <div class=\"colab-df-container\">\n",
              "      <div>\n",
              "<style scoped>\n",
              "    .dataframe tbody tr th:only-of-type {\n",
              "        vertical-align: middle;\n",
              "    }\n",
              "\n",
              "    .dataframe tbody tr th {\n",
              "        vertical-align: top;\n",
              "    }\n",
              "\n",
              "    .dataframe thead th {\n",
              "        text-align: right;\n",
              "    }\n",
              "</style>\n",
              "<table border=\"1\" class=\"dataframe\">\n",
              "  <thead>\n",
              "    <tr style=\"text-align: right;\">\n",
              "      <th></th>\n",
              "      <th>count</th>\n",
              "      <th>mean</th>\n",
              "      <th>std</th>\n",
              "      <th>min</th>\n",
              "      <th>25%</th>\n",
              "      <th>50%</th>\n",
              "      <th>75%</th>\n",
              "      <th>max</th>\n",
              "    </tr>\n",
              "  </thead>\n",
              "  <tbody>\n",
              "    <tr>\n",
              "      <th>r_stars</th>\n",
              "      <td>2060626.0</td>\n",
              "      <td>-1.671941e-16</td>\n",
              "      <td>1.000000e+00</td>\n",
              "      <td>-1.693936</td>\n",
              "      <td>-1.044159e+00</td>\n",
              "      <td>2.553940e-01</td>\n",
              "      <td>9.051706e-01</td>\n",
              "      <td>9.051706e-01</td>\n",
              "    </tr>\n",
              "    <tr>\n",
              "      <th>r_stars_square</th>\n",
              "      <td>2060626.0</td>\n",
              "      <td>-1.018940e-17</td>\n",
              "      <td>1.000000e+00</td>\n",
              "      <td>-1.494513</td>\n",
              "      <td>-1.182692e+00</td>\n",
              "      <td>6.458972e-02</td>\n",
              "      <td>1.000051e+00</td>\n",
              "      <td>1.000051e+00</td>\n",
              "    </tr>\n",
              "    <tr>\n",
              "      <th>r_length</th>\n",
              "      <td>2060626.0</td>\n",
              "      <td>-2.388216e-17</td>\n",
              "      <td>1.000000e+00</td>\n",
              "      <td>-1.158545</td>\n",
              "      <td>-6.631864e-01</td>\n",
              "      <td>-2.808043e-01</td>\n",
              "      <td>3.275309e-01</td>\n",
              "      <td>8.122912e+00</td>\n",
              "    </tr>\n",
              "    <tr>\n",
              "      <th>u_friends_count</th>\n",
              "      <td>2060626.0</td>\n",
              "      <td>-1.731163e-17</td>\n",
              "      <td>1.000000e+00</td>\n",
              "      <td>-0.331709</td>\n",
              "      <td>-3.299440e-01</td>\n",
              "      <td>-2.628759e-01</td>\n",
              "      <td>-3.696244e-02</td>\n",
              "      <td>2.613194e+01</td>\n",
              "    </tr>\n",
              "    <tr>\n",
              "      <th>u_review_count</th>\n",
              "      <td>2060626.0</td>\n",
              "      <td>3.255780e-17</td>\n",
              "      <td>1.000000e+00</td>\n",
              "      <td>-0.385583</td>\n",
              "      <td>-3.634084e-01</td>\n",
              "      <td>-2.968854e-01</td>\n",
              "      <td>-3.079341e-02</td>\n",
              "      <td>3.483733e+01</td>\n",
              "    </tr>\n",
              "    <tr>\n",
              "      <th>u_month_age</th>\n",
              "      <td>2060626.0</td>\n",
              "      <td>3.771456e-16</td>\n",
              "      <td>1.000000e+00</td>\n",
              "      <td>-1.237169</td>\n",
              "      <td>-8.424000e-01</td>\n",
              "      <td>-1.823749e-01</td>\n",
              "      <td>6.486289e-01</td>\n",
              "      <td>4.604853e+00</td>\n",
              "    </tr>\n",
              "    <tr>\n",
              "      <th>b_stars</th>\n",
              "      <td>2060626.0</td>\n",
              "      <td>-8.181173e-17</td>\n",
              "      <td>1.000000e+00</td>\n",
              "      <td>-3.451613</td>\n",
              "      <td>-3.054136e-01</td>\n",
              "      <td>3.238264e-01</td>\n",
              "      <td>9.530663e-01</td>\n",
              "      <td>1.582306e+00</td>\n",
              "    </tr>\n",
              "    <tr>\n",
              "      <th>b_review_count</th>\n",
              "      <td>2060626.0</td>\n",
              "      <td>2.582693e-17</td>\n",
              "      <td>1.000000e+00</td>\n",
              "      <td>-0.498458</td>\n",
              "      <td>-4.459658e-01</td>\n",
              "      <td>-3.184850e-01</td>\n",
              "      <td>6.965998e-03</td>\n",
              "      <td>1.084433e+01</td>\n",
              "    </tr>\n",
              "    <tr>\n",
              "      <th>r_sen</th>\n",
              "      <td>2060626.0</td>\n",
              "      <td>5.128801e-16</td>\n",
              "      <td>1.000000e+00</td>\n",
              "      <td>-6.135095</td>\n",
              "      <td>-6.346910e-01</td>\n",
              "      <td>-7.891442e-03</td>\n",
              "      <td>6.128473e-01</td>\n",
              "      <td>4.243026e+00</td>\n",
              "    </tr>\n",
              "    <tr>\n",
              "      <th>r_sub</th>\n",
              "      <td>2060626.0</td>\n",
              "      <td>-4.767259e-16</td>\n",
              "      <td>1.000000e+00</td>\n",
              "      <td>-3.029519</td>\n",
              "      <td>-6.557234e-01</td>\n",
              "      <td>-2.057011e-02</td>\n",
              "      <td>6.333986e-01</td>\n",
              "      <td>3.785211e+00</td>\n",
              "    </tr>\n",
              "    <tr>\n",
              "      <th>r_rea</th>\n",
              "      <td>2060626.0</td>\n",
              "      <td>-1.252596e-15</td>\n",
              "      <td>1.000000e+00</td>\n",
              "      <td>-248.487658</td>\n",
              "      <td>-5.003790e-01</td>\n",
              "      <td>8.682336e-02</td>\n",
              "      <td>5.755564e-01</td>\n",
              "      <td>1.145596e+01</td>\n",
              "    </tr>\n",
              "    <tr>\n",
              "      <th>r_id</th>\n",
              "      <td>2060626.0</td>\n",
              "      <td>3.523017e+06</td>\n",
              "      <td>2.016681e+06</td>\n",
              "      <td>11.000000</td>\n",
              "      <td>1.806029e+06</td>\n",
              "      <td>3.483366e+06</td>\n",
              "      <td>5.288642e+06</td>\n",
              "      <td>6.990280e+06</td>\n",
              "    </tr>\n",
              "    <tr>\n",
              "      <th>r_useful</th>\n",
              "      <td>2060626.0</td>\n",
              "      <td>1.631864e-01</td>\n",
              "      <td>7.887542e+00</td>\n",
              "      <td>0.004935</td>\n",
              "      <td>1.769723e-02</td>\n",
              "      <td>3.272991e-02</td>\n",
              "      <td>7.055788e-02</td>\n",
              "      <td>4.557619e+03</td>\n",
              "    </tr>\n",
              "  </tbody>\n",
              "</table>\n",
              "</div>\n",
              "      <button class=\"colab-df-convert\" onclick=\"convertToInteractive('df-980f656d-f8d0-4d0b-a8df-2f00232525a2')\"\n",
              "              title=\"Convert this dataframe to an interactive table.\"\n",
              "              style=\"display:none;\">\n",
              "        \n",
              "  <svg xmlns=\"http://www.w3.org/2000/svg\" height=\"24px\"viewBox=\"0 0 24 24\"\n",
              "       width=\"24px\">\n",
              "    <path d=\"M0 0h24v24H0V0z\" fill=\"none\"/>\n",
              "    <path d=\"M18.56 5.44l.94 2.06.94-2.06 2.06-.94-2.06-.94-.94-2.06-.94 2.06-2.06.94zm-11 1L8.5 8.5l.94-2.06 2.06-.94-2.06-.94L8.5 2.5l-.94 2.06-2.06.94zm10 10l.94 2.06.94-2.06 2.06-.94-2.06-.94-.94-2.06-.94 2.06-2.06.94z\"/><path d=\"M17.41 7.96l-1.37-1.37c-.4-.4-.92-.59-1.43-.59-.52 0-1.04.2-1.43.59L10.3 9.45l-7.72 7.72c-.78.78-.78 2.05 0 2.83L4 21.41c.39.39.9.59 1.41.59.51 0 1.02-.2 1.41-.59l7.78-7.78 2.81-2.81c.8-.78.8-2.07 0-2.86zM5.41 20L4 18.59l7.72-7.72 1.47 1.35L5.41 20z\"/>\n",
              "  </svg>\n",
              "      </button>\n",
              "      \n",
              "  <style>\n",
              "    .colab-df-container {\n",
              "      display:flex;\n",
              "      flex-wrap:wrap;\n",
              "      gap: 12px;\n",
              "    }\n",
              "\n",
              "    .colab-df-convert {\n",
              "      background-color: #E8F0FE;\n",
              "      border: none;\n",
              "      border-radius: 50%;\n",
              "      cursor: pointer;\n",
              "      display: none;\n",
              "      fill: #1967D2;\n",
              "      height: 32px;\n",
              "      padding: 0 0 0 0;\n",
              "      width: 32px;\n",
              "    }\n",
              "\n",
              "    .colab-df-convert:hover {\n",
              "      background-color: #E2EBFA;\n",
              "      box-shadow: 0px 1px 2px rgba(60, 64, 67, 0.3), 0px 1px 3px 1px rgba(60, 64, 67, 0.15);\n",
              "      fill: #174EA6;\n",
              "    }\n",
              "\n",
              "    [theme=dark] .colab-df-convert {\n",
              "      background-color: #3B4455;\n",
              "      fill: #D2E3FC;\n",
              "    }\n",
              "\n",
              "    [theme=dark] .colab-df-convert:hover {\n",
              "      background-color: #434B5C;\n",
              "      box-shadow: 0px 1px 3px 1px rgba(0, 0, 0, 0.15);\n",
              "      filter: drop-shadow(0px 1px 2px rgba(0, 0, 0, 0.3));\n",
              "      fill: #FFFFFF;\n",
              "    }\n",
              "  </style>\n",
              "\n",
              "      <script>\n",
              "        const buttonEl =\n",
              "          document.querySelector('#df-980f656d-f8d0-4d0b-a8df-2f00232525a2 button.colab-df-convert');\n",
              "        buttonEl.style.display =\n",
              "          google.colab.kernel.accessAllowed ? 'block' : 'none';\n",
              "\n",
              "        async function convertToInteractive(key) {\n",
              "          const element = document.querySelector('#df-980f656d-f8d0-4d0b-a8df-2f00232525a2');\n",
              "          const dataTable =\n",
              "            await google.colab.kernel.invokeFunction('convertToInteractive',\n",
              "                                                     [key], {});\n",
              "          if (!dataTable) return;\n",
              "\n",
              "          const docLinkHtml = 'Like what you see? Visit the ' +\n",
              "            '<a target=\"_blank\" href=https://colab.research.google.com/notebooks/data_table.ipynb>data table notebook</a>'\n",
              "            + ' to learn more about interactive tables.';\n",
              "          element.innerHTML = '';\n",
              "          dataTable['output_type'] = 'display_data';\n",
              "          await google.colab.output.renderOutput(dataTable, element);\n",
              "          const docLink = document.createElement('div');\n",
              "          docLink.innerHTML = docLinkHtml;\n",
              "          element.appendChild(docLink);\n",
              "        }\n",
              "      </script>\n",
              "    </div>\n",
              "  </div>\n",
              "  "
            ]
          },
          "metadata": {},
          "execution_count": 62
        }
      ]
    },
    {
      "cell_type": "code",
      "source": [
        "X_train, y_train = df_train.drop(['r_useful', 'r_id'], axis=1).values, df_train['r_useful'].values\n",
        "X_val, y_val = df_val.drop(['r_useful', 'r_id'], axis=1).values, df_val['r_useful'].values\n",
        "X_test, y_test = df_test.drop(['r_useful', 'r_id'], axis=1).values, df_test['r_useful'].values"
      ],
      "metadata": {
        "id": "JoK7iekTi7BK"
      },
      "execution_count": 63,
      "outputs": []
    },
    {
      "cell_type": "code",
      "source": [
        "def objective(trial):\n",
        "  \"\"\" Function to tune parameters \"\"\"\n",
        "  gc.collect()\n",
        "  params = {\n",
        "      \"n_estimators\":trial.suggest_categorical('n_estimators', [1, 2, 4, 8, 16, 32, 64, 128, 256, 512]),\n",
        "      \"max_depth\" : trial.suggest_int(\"max_depth\", 3, 20),\n",
        "      \"learning_rate\" : trial.suggest_categorical('lr', [0.01, 0.1, 0.2, 0.3, 0.4]),\n",
        "      \"reg_alpha\": trial.suggest_categorical(\"reg_alpha\", [1e-3, 1e-2, 1e-1, 1, 10, 100]),\n",
        "      \"reg_lambda\": trial.suggest_categorical(\"reg_lambda\", [1e-3, 1e-2, 1e-1, 1, 10, 100])\n",
        "  }\n",
        "\n",
        "\n",
        "  model = xgb.XGBRegressor(objective=\"reg:squarederror\",\n",
        "                            n_jobs=-1,\n",
        "                            grow_policy='lossguide',\n",
        "                            tree_method=\"gpu_hist\",\n",
        "                            predictor=\"gpu_predictor\",\n",
        "                            booster='gbtree',\n",
        "                            sampling_method='gradient_based',\n",
        "                            eval_metrics=['rmse'], \n",
        "                            random_state=RANDOM_STATE,\n",
        "                            enable_categorical=False,\n",
        "                            early_stopping_rounds=300,\n",
        "                            **params)\n",
        "  \n",
        "  model.fit(X_train, y_train, eval_set=[(X_val, y_val)], verbose=False)\n",
        "  y_pred = model.predict(X_val)\n",
        "\n",
        "  return mean_squared_error(y_val, y_pred, squared=False)\n",
        "\n",
        "study = opt.create_study(direction='minimize')\n",
        "study.optimize(objective, n_trials=50)\n",
        "study.best_params"
      ],
      "metadata": {
        "colab": {
          "base_uri": "https://localhost:8080/"
        },
        "id": "iFVNTjoQw8Hc",
        "outputId": "d3efac59-66e0-4141-b6e2-be10b026ba28"
      },
      "execution_count": 66,
      "outputs": [
        {
          "output_type": "stream",
          "name": "stderr",
          "text": [
            "\u001b[32m[I 2022-08-23 03:36:04,225]\u001b[0m A new study created in memory with name: no-name-b5950168-e4f7-4f16-b38c-3d43efafd226\u001b[0m\n",
            "\u001b[32m[I 2022-08-23 03:36:07,461]\u001b[0m Trial 0 finished with value: 12.985403877728588 and parameters: {'n_estimators': 16, 'max_depth': 14, 'lr': 0.3, 'reg_alpha': 1, 'reg_lambda': 1}. Best is trial 0 with value: 12.985403877728588.\u001b[0m\n",
            "\u001b[32m[I 2022-08-23 03:36:08,124]\u001b[0m Trial 1 finished with value: 11.733884004944384 and parameters: {'n_estimators': 2, 'max_depth': 13, 'lr': 0.01, 'reg_alpha': 10, 'reg_lambda': 10}. Best is trial 1 with value: 11.733884004944384.\u001b[0m\n",
            "\u001b[32m[I 2022-08-23 03:36:54,664]\u001b[0m Trial 2 finished with value: 14.36026823566918 and parameters: {'n_estimators': 64, 'max_depth': 18, 'lr': 0.3, 'reg_alpha': 1, 'reg_lambda': 0.01}. Best is trial 1 with value: 11.733884004944384.\u001b[0m\n",
            "\u001b[32m[I 2022-08-23 03:37:18,080]\u001b[0m Trial 3 finished with value: 13.42419845560389 and parameters: {'n_estimators': 512, 'max_depth': 10, 'lr': 0.2, 'reg_alpha': 0.001, 'reg_lambda': 10}. Best is trial 1 with value: 11.733884004944384.\u001b[0m\n",
            "\u001b[32m[I 2022-08-23 03:37:19,312]\u001b[0m Trial 4 finished with value: 12.428160130205864 and parameters: {'n_estimators': 4, 'max_depth': 18, 'lr': 0.4, 'reg_alpha': 100, 'reg_lambda': 1}. Best is trial 1 with value: 11.733884004944384.\u001b[0m\n",
            "\u001b[32m[I 2022-08-23 03:37:58,493]\u001b[0m Trial 5 finished with value: 11.722862228777132 and parameters: {'n_estimators': 128, 'max_depth': 17, 'lr': 0.01, 'reg_alpha': 10, 'reg_lambda': 100}. Best is trial 5 with value: 11.722862228777132.\u001b[0m\n",
            "\u001b[32m[I 2022-08-23 03:38:11,257]\u001b[0m Trial 6 finished with value: 13.27503143244888 and parameters: {'n_estimators': 128, 'max_depth': 12, 'lr': 0.1, 'reg_alpha': 0.01, 'reg_lambda': 0.001}. Best is trial 5 with value: 11.722862228777132.\u001b[0m\n",
            "\u001b[32m[I 2022-08-23 03:45:07,589]\u001b[0m Trial 7 finished with value: 13.14217641689525 and parameters: {'n_estimators': 256, 'max_depth': 19, 'lr': 0.2, 'reg_alpha': 0.1, 'reg_lambda': 1}. Best is trial 5 with value: 11.722862228777132.\u001b[0m\n",
            "\u001b[32m[I 2022-08-23 03:45:08,134]\u001b[0m Trial 8 finished with value: 11.729074759399122 and parameters: {'n_estimators': 8, 'max_depth': 3, 'lr': 0.1, 'reg_alpha': 100, 'reg_lambda': 0.01}. Best is trial 5 with value: 11.722862228777132.\u001b[0m\n",
            "\u001b[32m[I 2022-08-23 03:56:43,224]\u001b[0m Trial 9 finished with value: 11.732644784792095 and parameters: {'n_estimators': 512, 'max_depth': 20, 'lr': 0.01, 'reg_alpha': 0.001, 'reg_lambda': 100}. Best is trial 5 with value: 11.722862228777132.\u001b[0m\n",
            "\u001b[32m[I 2022-08-23 03:56:46,795]\u001b[0m Trial 10 finished with value: 11.725514650803328 and parameters: {'n_estimators': 128, 'max_depth': 8, 'lr': 0.01, 'reg_alpha': 10, 'reg_lambda': 100}. Best is trial 5 with value: 11.722862228777132.\u001b[0m\n",
            "\u001b[32m[I 2022-08-23 03:56:49,911]\u001b[0m Trial 11 finished with value: 11.726887171096466 and parameters: {'n_estimators': 128, 'max_depth': 7, 'lr': 0.01, 'reg_alpha': 10, 'reg_lambda': 100}. Best is trial 5 with value: 11.722862228777132.\u001b[0m\n",
            "\u001b[32m[I 2022-08-23 03:56:53,679]\u001b[0m Trial 12 finished with value: 11.7255146510206 and parameters: {'n_estimators': 128, 'max_depth': 8, 'lr': 0.01, 'reg_alpha': 10, 'reg_lambda': 100}. Best is trial 5 with value: 11.722862228777132.\u001b[0m\n",
            "\u001b[32m[I 2022-08-23 03:56:54,351]\u001b[0m Trial 13 finished with value: 11.734549722793929 and parameters: {'n_estimators': 1, 'max_depth': 15, 'lr': 0.01, 'reg_alpha': 10, 'reg_lambda': 0.1}. Best is trial 5 with value: 11.722862228777132.\u001b[0m\n",
            "\u001b[32m[I 2022-08-23 03:56:56,702]\u001b[0m Trial 14 finished with value: 12.327832924244724 and parameters: {'n_estimators': 128, 'max_depth': 5, 'lr': 0.4, 'reg_alpha': 10, 'reg_lambda': 100}. Best is trial 5 with value: 11.722862228777132.\u001b[0m\n",
            "\u001b[32m[I 2022-08-23 03:57:06,058]\u001b[0m Trial 15 finished with value: 11.72935448907468 and parameters: {'n_estimators': 32, 'max_depth': 16, 'lr': 0.01, 'reg_alpha': 0.01, 'reg_lambda': 100}. Best is trial 5 with value: 11.722862228777132.\u001b[0m\n",
            "\u001b[32m[I 2022-08-23 03:57:10,496]\u001b[0m Trial 16 finished with value: 12.200958120874503 and parameters: {'n_estimators': 128, 'max_depth': 9, 'lr': 0.01, 'reg_alpha': 0.1, 'reg_lambda': 0.1}. Best is trial 5 with value: 11.722862228777132.\u001b[0m\n",
            "\u001b[32m[I 2022-08-23 03:57:11,173]\u001b[0m Trial 17 finished with value: 11.740892318504157 and parameters: {'n_estimators': 4, 'max_depth': 11, 'lr': 0.01, 'reg_alpha': 10, 'reg_lambda': 0.001}. Best is trial 5 with value: 11.722862228777132.\u001b[0m\n",
            "\u001b[32m[I 2022-08-23 03:57:12,685]\u001b[0m Trial 18 finished with value: 11.809365897594676 and parameters: {'n_estimators': 64, 'max_depth': 6, 'lr': 0.2, 'reg_alpha': 10, 'reg_lambda': 100}. Best is trial 5 with value: 11.722862228777132.\u001b[0m\n",
            "\u001b[32m[I 2022-08-23 03:58:07,079]\u001b[0m Trial 19 finished with value: 12.133078042183502 and parameters: {'n_estimators': 256, 'max_depth': 16, 'lr': 0.1, 'reg_alpha': 10, 'reg_lambda': 100}. Best is trial 5 with value: 11.722862228777132.\u001b[0m\n",
            "\u001b[32m[I 2022-08-23 03:58:07,557]\u001b[0m Trial 20 finished with value: 11.729110346084086 and parameters: {'n_estimators': 2, 'max_depth': 3, 'lr': 0.3, 'reg_alpha': 0.01, 'reg_lambda': 100}. Best is trial 5 with value: 11.722862228777132.\u001b[0m\n",
            "\u001b[32m[I 2022-08-23 03:58:11,877]\u001b[0m Trial 21 finished with value: 11.725298525159774 and parameters: {'n_estimators': 128, 'max_depth': 9, 'lr': 0.01, 'reg_alpha': 10, 'reg_lambda': 100}. Best is trial 5 with value: 11.722862228777132.\u001b[0m\n",
            "\u001b[32m[I 2022-08-23 03:58:17,313]\u001b[0m Trial 22 finished with value: 11.72476824055423 and parameters: {'n_estimators': 128, 'max_depth': 10, 'lr': 0.01, 'reg_alpha': 10, 'reg_lambda': 100}. Best is trial 5 with value: 11.722862228777132.\u001b[0m\n",
            "\u001b[32m[I 2022-08-23 03:58:22,764]\u001b[0m Trial 23 finished with value: 11.724768295885676 and parameters: {'n_estimators': 128, 'max_depth': 10, 'lr': 0.01, 'reg_alpha': 10, 'reg_lambda': 100}. Best is trial 5 with value: 11.722862228777132.\u001b[0m\n",
            "\u001b[32m[I 2022-08-23 03:58:23,659]\u001b[0m Trial 24 finished with value: 11.73297239400338 and parameters: {'n_estimators': 8, 'max_depth': 11, 'lr': 0.01, 'reg_alpha': 10, 'reg_lambda': 100}. Best is trial 5 with value: 11.722862228777132.\u001b[0m\n",
            "\u001b[32m[I 2022-08-23 03:58:24,218]\u001b[0m Trial 25 finished with value: 11.737875124207193 and parameters: {'n_estimators': 1, 'max_depth': 13, 'lr': 0.4, 'reg_alpha': 100, 'reg_lambda': 10}. Best is trial 5 with value: 11.722862228777132.\u001b[0m\n",
            "\u001b[32m[I 2022-08-23 03:58:25,961]\u001b[0m Trial 26 finished with value: 11.840057448495841 and parameters: {'n_estimators': 16, 'max_depth': 12, 'lr': 0.01, 'reg_alpha': 1, 'reg_lambda': 0.01}. Best is trial 5 with value: 11.722862228777132.\u001b[0m\n",
            "\u001b[32m[I 2022-08-23 03:58:41,226]\u001b[0m Trial 27 finished with value: 12.13845407770992 and parameters: {'n_estimators': 32, 'max_depth': 16, 'lr': 0.01, 'reg_alpha': 0.001, 'reg_lambda': 0.001}. Best is trial 5 with value: 11.722862228777132.\u001b[0m\n",
            "\u001b[32m[I 2022-08-23 03:58:46,802]\u001b[0m Trial 28 finished with value: 12.202155790105929 and parameters: {'n_estimators': 128, 'max_depth': 10, 'lr': 0.01, 'reg_alpha': 0.1, 'reg_lambda': 0.1}. Best is trial 5 with value: 11.722862228777132.\u001b[0m\n",
            "\u001b[32m[I 2022-08-23 03:58:49,692]\u001b[0m Trial 29 finished with value: 12.98540663474188 and parameters: {'n_estimators': 16, 'max_depth': 14, 'lr': 0.3, 'reg_alpha': 1, 'reg_lambda': 1}. Best is trial 5 with value: 11.722862228777132.\u001b[0m\n",
            "\u001b[32m[I 2022-08-23 03:58:52,258]\u001b[0m Trial 30 finished with value: 11.817569386126268 and parameters: {'n_estimators': 128, 'max_depth': 6, 'lr': 0.1, 'reg_alpha': 10, 'reg_lambda': 100}. Best is trial 5 with value: 11.722862228777132.\u001b[0m\n",
            "\u001b[32m[I 2022-08-23 03:58:56,581]\u001b[0m Trial 31 finished with value: 11.725389370010296 and parameters: {'n_estimators': 128, 'max_depth': 9, 'lr': 0.01, 'reg_alpha': 10, 'reg_lambda': 100}. Best is trial 5 with value: 11.722862228777132.\u001b[0m\n",
            "\u001b[32m[I 2022-08-23 03:59:02,026]\u001b[0m Trial 32 finished with value: 11.724768296571746 and parameters: {'n_estimators': 128, 'max_depth': 10, 'lr': 0.01, 'reg_alpha': 10, 'reg_lambda': 100}. Best is trial 5 with value: 11.722862228777132.\u001b[0m\n",
            "\u001b[32m[I 2022-08-23 03:59:15,010]\u001b[0m Trial 33 finished with value: 11.722927693338727 and parameters: {'n_estimators': 128, 'max_depth': 13, 'lr': 0.01, 'reg_alpha': 10, 'reg_lambda': 100}. Best is trial 5 with value: 11.722862228777132.\u001b[0m\n",
            "\u001b[32m[I 2022-08-23 03:59:15,766]\u001b[0m Trial 34 finished with value: 11.74234925002049 and parameters: {'n_estimators': 2, 'max_depth': 14, 'lr': 0.3, 'reg_alpha': 10, 'reg_lambda': 10}. Best is trial 5 with value: 11.722862228777132.\u001b[0m\n",
            "\u001b[32m[I 2022-08-23 03:59:21,723]\u001b[0m Trial 35 finished with value: 11.797050240886124 and parameters: {'n_estimators': 64, 'max_depth': 13, 'lr': 0.2, 'reg_alpha': 10, 'reg_lambda': 100}. Best is trial 5 with value: 11.722862228777132.\u001b[0m\n",
            "\u001b[32m[I 2022-08-23 04:05:04,777]\u001b[0m Trial 36 finished with value: 14.19078258427614 and parameters: {'n_estimators': 512, 'max_depth': 18, 'lr': 0.01, 'reg_alpha': 1, 'reg_lambda': 0.01}. Best is trial 5 with value: 11.722862228777132.\u001b[0m\n",
            "\u001b[32m[I 2022-08-23 04:07:26,295]\u001b[0m Trial 37 finished with value: 13.071167434110361 and parameters: {'n_estimators': 128, 'max_depth': 17, 'lr': 0.4, 'reg_alpha': 0.001, 'reg_lambda': 1}. Best is trial 5 with value: 11.722862228777132.\u001b[0m\n",
            "\u001b[32m[I 2022-08-23 04:07:27,188]\u001b[0m Trial 38 finished with value: 11.733293799065182 and parameters: {'n_estimators': 4, 'max_depth': 13, 'lr': 0.01, 'reg_alpha': 10, 'reg_lambda': 10}. Best is trial 5 with value: 11.722862228777132.\u001b[0m\n",
            "\u001b[32m[I 2022-08-23 04:07:38,404]\u001b[0m Trial 39 finished with value: 12.443294929511694 and parameters: {'n_estimators': 256, 'max_depth': 12, 'lr': 0.2, 'reg_alpha': 100, 'reg_lambda': 100}. Best is trial 5 with value: 11.722862228777132.\u001b[0m\n",
            "\u001b[32m[I 2022-08-23 04:10:46,521]\u001b[0m Trial 40 finished with value: 13.963355869451359 and parameters: {'n_estimators': 128, 'max_depth': 19, 'lr': 0.01, 'reg_alpha': 0.01, 'reg_lambda': 0.001}. Best is trial 5 with value: 11.722862228777132.\u001b[0m\n",
            "\u001b[32m[I 2022-08-23 04:10:51,975]\u001b[0m Trial 41 finished with value: 11.724768409594121 and parameters: {'n_estimators': 128, 'max_depth': 10, 'lr': 0.01, 'reg_alpha': 10, 'reg_lambda': 100}. Best is trial 5 with value: 11.722862228777132.\u001b[0m\n",
            "\u001b[32m[I 2022-08-23 04:10:59,084]\u001b[0m Trial 42 finished with value: 11.724027200878606 and parameters: {'n_estimators': 128, 'max_depth': 11, 'lr': 0.01, 'reg_alpha': 10, 'reg_lambda': 100}. Best is trial 5 with value: 11.722862228777132.\u001b[0m\n",
            "\u001b[32m[I 2022-08-23 04:11:06,214]\u001b[0m Trial 43 finished with value: 11.724027210803243 and parameters: {'n_estimators': 128, 'max_depth': 11, 'lr': 0.01, 'reg_alpha': 10, 'reg_lambda': 100}. Best is trial 5 with value: 11.722862228777132.\u001b[0m\n",
            "\u001b[32m[I 2022-08-23 04:11:13,349]\u001b[0m Trial 44 finished with value: 11.724027220368384 and parameters: {'n_estimators': 128, 'max_depth': 11, 'lr': 0.01, 'reg_alpha': 10, 'reg_lambda': 100}. Best is trial 5 with value: 11.722862228777132.\u001b[0m\n",
            "\u001b[32m[I 2022-08-23 04:13:27,534]\u001b[0m Trial 45 finished with value: 12.867195991911263 and parameters: {'n_estimators': 512, 'max_depth': 15, 'lr': 0.1, 'reg_alpha': 0.1, 'reg_lambda': 100}. Best is trial 5 with value: 11.722862228777132.\u001b[0m\n",
            "\u001b[32m[I 2022-08-23 04:13:28,462]\u001b[0m Trial 46 finished with value: 11.760769464436656 and parameters: {'n_estimators': 8, 'max_depth': 11, 'lr': 0.01, 'reg_alpha': 10, 'reg_lambda': 0.01}. Best is trial 5 with value: 11.722862228777132.\u001b[0m\n",
            "\u001b[32m[I 2022-08-23 04:13:28,978]\u001b[0m Trial 47 finished with value: 11.734306808566858 and parameters: {'n_estimators': 1, 'max_depth': 8, 'lr': 0.01, 'reg_alpha': 0.001, 'reg_lambda': 100}. Best is trial 5 with value: 11.722862228777132.\u001b[0m\n",
            "\u001b[32m[I 2022-08-23 04:13:46,817]\u001b[0m Trial 48 finished with value: 13.013986757362968 and parameters: {'n_estimators': 128, 'max_depth': 14, 'lr': 0.4, 'reg_alpha': 10, 'reg_lambda': 0.1}. Best is trial 5 with value: 11.722862228777132.\u001b[0m\n",
            "\u001b[32m[I 2022-08-23 04:13:54,507]\u001b[0m Trial 49 finished with value: 11.771239227213991 and parameters: {'n_estimators': 32, 'max_depth': 20, 'lr': 0.01, 'reg_alpha': 100, 'reg_lambda': 1}. Best is trial 5 with value: 11.722862228777132.\u001b[0m\n"
          ]
        },
        {
          "output_type": "execute_result",
          "data": {
            "text/plain": [
              "{'n_estimators': 128,\n",
              " 'max_depth': 17,\n",
              " 'lr': 0.01,\n",
              " 'reg_alpha': 10,\n",
              " 'reg_lambda': 100}"
            ]
          },
          "metadata": {},
          "execution_count": 66
        }
      ]
    },
    {
      "cell_type": "code",
      "source": [
        "  model = xgb.XGBRegressor(objective=\"reg:squarederror\",\n",
        "                            n_jobs=-1,\n",
        "                            grow_policy='lossguide',\n",
        "                            tree_method=\"gpu_hist\",\n",
        "                            predictor=\"gpu_predictor\",\n",
        "                            booster='gbtree',\n",
        "                            sampling_method='gradient_based',\n",
        "                            eval_metrics=['rmse'], \n",
        "                            random_state=RANDOM_STATE,\n",
        "                            enable_categorical=False,\n",
        "                            early_stopping_rounds=300,\n",
        "                            **study.best_params)\n",
        "  model.fit(X_train, y_train, eval_set=[(X_val, y_val)], verbose=False)"
      ],
      "metadata": {
        "colab": {
          "base_uri": "https://localhost:8080/"
        },
        "id": "9BCwlu6b6FcI",
        "outputId": "b4170511-46a3-473e-8357-936fd503a39b"
      },
      "execution_count": 69,
      "outputs": [
        {
          "output_type": "execute_result",
          "data": {
            "text/plain": [
              "XGBRegressor(early_stopping_rounds=300, enable_categorical=False,\n",
              "             eval_metrics=['rmse'], grow_policy='lossguide', lr=0.01,\n",
              "             max_depth=17, n_estimators=128, n_jobs=-1,\n",
              "             objective='reg:squarederror', predictor='gpu_predictor',\n",
              "             random_state=2, reg_alpha=10, reg_lambda=100,\n",
              "             sampling_method='gradient_based', tree_method='gpu_hist')"
            ]
          },
          "metadata": {},
          "execution_count": 69
        }
      ]
    },
    {
      "cell_type": "code",
      "source": [
        "train_pred = model.predict(X_train)\n",
        "test_pred = model.predict(X_test)\n",
        "print(f\"train results - RMSE: {mean_squared_error(y_train, train_pred, squared=False)}, MAE: {mean_absolute_error(y_train, train_pred)}\")\n",
        "print(f\"test results - RMSE: {mean_squared_error(y_test, test_pred, squared=False)}, MAE: {mean_absolute_error(y_test, test_pred)}\")"
      ],
      "metadata": {
        "colab": {
          "base_uri": "https://localhost:8080/"
        },
        "id": "0XY6-CnD6NjS",
        "outputId": "22c8048c-d5d9-4ca2-9b16-8aa893488e80"
      },
      "execution_count": 71,
      "outputs": [
        {
          "output_type": "stream",
          "name": "stdout",
          "text": [
            "train results - RMSE: 6.646199771165186, MAE: 0.1459062233659509\n",
            "test results - RMSE: 3.036702853178775, MAE: 0.15059195799390807\n"
          ]
        }
      ]
    }
  ],
  "metadata": {
    "accelerator": "GPU",
    "colab": {
      "collapsed_sections": [],
      "name": "CS760_XGBoost.ipynb",
      "provenance": []
    },
    "gpuClass": "standard",
    "kernelspec": {
      "display_name": "Python 3",
      "name": "python3"
    },
    "language_info": {
      "name": "python"
    }
  },
  "nbformat": 4,
  "nbformat_minor": 0
}