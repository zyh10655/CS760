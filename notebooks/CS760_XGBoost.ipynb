{
  "cells": [
    {
      "cell_type": "code",
      "execution_count": 1,
      "metadata": {
        "id": "8Rxxyk2ChCkF",
        "colab": {
          "base_uri": "https://localhost:8080/"
        },
        "outputId": "8f239b17-102d-4248-e7dc-0fd8ea7bc3d7"
      },
      "outputs": [
        {
          "output_type": "stream",
          "name": "stdout",
          "text": [
            "\u001b[K     |████████████████████████████████| 348 kB 4.1 MB/s \n",
            "\u001b[K     |████████████████████████████████| 209 kB 58.1 MB/s \n",
            "\u001b[K     |████████████████████████████████| 81 kB 10.5 MB/s \n",
            "\u001b[K     |████████████████████████████████| 78 kB 4.7 MB/s \n",
            "\u001b[K     |████████████████████████████████| 147 kB 65.5 MB/s \n",
            "\u001b[K     |████████████████████████████████| 112 kB 59.1 MB/s \n",
            "\u001b[K     |████████████████████████████████| 49 kB 7.0 MB/s \n",
            "\u001b[?25h  Building wheel for pyperclip (setup.py) ... \u001b[?25l\u001b[?25hdone\n"
          ]
        }
      ],
      "source": [
        "!pip install --quiet optuna"
      ]
    },
    {
      "cell_type": "code",
      "execution_count": 2,
      "metadata": {
        "id": "HEMXBJChhLrP"
      },
      "outputs": [],
      "source": [
        "import numpy as np\n",
        "import pandas as pd\n",
        "import optuna as opt\n",
        "import xgboost as xgb\n",
        "from optuna.samplers import TPESampler\n",
        "from sklearn.preprocessing import StandardScaler\n",
        "from pathlib import Path\n",
        "import gc\n",
        "\n",
        "from sklearn.metrics import mean_absolute_error, mean_squared_error"
      ]
    },
    {
      "cell_type": "code",
      "execution_count": 3,
      "metadata": {
        "colab": {
          "base_uri": "https://localhost:8080/"
        },
        "id": "Gk1DTpCxhSDs",
        "outputId": "0c2db330-f2e6-4dbf-f116-826bfa335433"
      },
      "outputs": [
        {
          "output_type": "stream",
          "name": "stdout",
          "text": [
            "Mounted at /content/drive\n"
          ]
        }
      ],
      "source": [
        "from google.colab import drive\n",
        "drive.mount('/content/drive')"
      ]
    },
    {
      "cell_type": "code",
      "source": [
        "RANDOM_SEED = 2\n",
        "DATA_DIR = Path(\"/content/drive/MyDrive/CS760\")"
      ],
      "metadata": {
        "id": "_f0yPV0biLTV"
      },
      "execution_count": 4,
      "outputs": []
    },
    {
      "cell_type": "code",
      "source": [
        "df_train = pd.read_parquet(DATA_DIR/\"train_main.parquet.snappy\")\n",
        "df_val = pd.read_parquet(DATA_DIR/\"val_main.parquet.snappy\")\n",
        "df_test = pd.read_parquet(DATA_DIR/\"test_main.parquet.snappy\")\n",
        "\n",
        "print(f\"Shape of the training data : {df_train.shape}\")\n",
        "print(f\"Shape of the validation data : {df_val.shape}\")\n",
        "print(f\"Shape of the test data : {df_test.shape}\")"
      ],
      "metadata": {
        "colab": {
          "base_uri": "https://localhost:8080/"
        },
        "id": "yxtSLd7GieIK",
        "outputId": "8edfd1be-0f6b-4dd9-d607-eaf94f5f5ceb"
      },
      "execution_count": 5,
      "outputs": [
        {
          "output_type": "stream",
          "name": "stdout",
          "text": [
            "Shape of the training data : (2060626, 13)\n",
            "Shape of the validation data : (257578, 13)\n",
            "Shape of the test data : (257579, 13)\n"
          ]
        }
      ]
    },
    {
      "cell_type": "code",
      "source": [
        "df_train.describe().T"
      ],
      "metadata": {
        "colab": {
          "base_uri": "https://localhost:8080/",
          "height": 457
        },
        "id": "-QWAvNuoixc1",
        "outputId": "c0f3c528-d4a4-4a4c-c184-27a891d4855b"
      },
      "execution_count": 6,
      "outputs": [
        {
          "output_type": "execute_result",
          "data": {
            "text/plain": [
              "                     count          mean           std           min  \\\n",
              "r_id             2060626.0  3.522730e+06  2.016756e+06  4.000000e+00   \n",
              "r_stars          2060626.0  3.607754e+00  1.538412e+00  1.000000e+00   \n",
              "r_stars_square   2060626.0  1.538260e+01  9.617924e+00  1.000000e+00   \n",
              "r_length         2060626.0  1.332717e+02  1.149773e+02  0.000000e+00   \n",
              "u_friends_count  2060626.0  1.888371e+02  5.663421e+02  1.000000e+00   \n",
              "u_review_count   2060626.0  1.911808e+02  4.966023e+02  0.000000e+00   \n",
              "u_month_age      2060626.0  4.274377e+01  3.454640e+01  3.802649e-07   \n",
              "b_stars          2060626.0  3.742639e+00  7.950195e-01  1.000000e+00   \n",
              "b_review_count   2060626.0  3.371921e+02  6.668911e+02  5.000000e+00   \n",
              "r_sen            2060626.0  1.823936e-01  1.926882e-01 -1.000000e+00   \n",
              "r_sub            2060626.0  4.446208e-01  1.467634e-01  0.000000e+00   \n",
              "r_rea            2060626.0  8.002991e+01  1.121612e+01 -2.670590e+03   \n",
              "r_useful         2060626.0  2.651563e+00  4.713568e+00  1.000000e+00   \n",
              "\n",
              "                          25%           50%           75%           max  \n",
              "r_id             1.803866e+06  3.483320e+06  5.288280e+06  6.990278e+06  \n",
              "r_stars          2.000000e+00  4.000000e+00  5.000000e+00  5.000000e+00  \n",
              "r_stars_square   4.000000e+00  1.600000e+01  2.500000e+01  2.500000e+01  \n",
              "r_length         5.700000e+01  1.010000e+02  1.710000e+02  1.061000e+03  \n",
              "u_friends_count  2.000000e+00  4.000000e+01  1.680000e+02  1.499500e+04  \n",
              "u_review_count   1.100000e+01  4.400000e+01  1.760000e+02  1.747300e+04  \n",
              "u_month_age      1.364517e+01  3.644688e+01  6.515015e+01  2.018375e+02  \n",
              "b_stars          3.500000e+00  4.000000e+00  4.500000e+00  5.000000e+00  \n",
              "b_review_count   4.000000e+01  1.250000e+02  3.410000e+02  7.568000e+03  \n",
              "r_sen            6.007800e-02  1.808695e-01  3.004768e-01  1.000000e+00  \n",
              "r_sub            3.483330e-01  4.416670e-01  5.375000e-01  1.000000e+00  \n",
              "r_rea            7.449000e+01  8.099000e+01  8.640000e+01  2.068400e+02  \n",
              "r_useful         1.000000e+00  2.000000e+00  3.000000e+00  1.182000e+03  "
            ],
            "text/html": [
              "\n",
              "  <div id=\"df-335887af-a52a-48bc-8479-b8044b309d51\">\n",
              "    <div class=\"colab-df-container\">\n",
              "      <div>\n",
              "<style scoped>\n",
              "    .dataframe tbody tr th:only-of-type {\n",
              "        vertical-align: middle;\n",
              "    }\n",
              "\n",
              "    .dataframe tbody tr th {\n",
              "        vertical-align: top;\n",
              "    }\n",
              "\n",
              "    .dataframe thead th {\n",
              "        text-align: right;\n",
              "    }\n",
              "</style>\n",
              "<table border=\"1\" class=\"dataframe\">\n",
              "  <thead>\n",
              "    <tr style=\"text-align: right;\">\n",
              "      <th></th>\n",
              "      <th>count</th>\n",
              "      <th>mean</th>\n",
              "      <th>std</th>\n",
              "      <th>min</th>\n",
              "      <th>25%</th>\n",
              "      <th>50%</th>\n",
              "      <th>75%</th>\n",
              "      <th>max</th>\n",
              "    </tr>\n",
              "  </thead>\n",
              "  <tbody>\n",
              "    <tr>\n",
              "      <th>r_id</th>\n",
              "      <td>2060626.0</td>\n",
              "      <td>3.522730e+06</td>\n",
              "      <td>2.016756e+06</td>\n",
              "      <td>4.000000e+00</td>\n",
              "      <td>1.803866e+06</td>\n",
              "      <td>3.483320e+06</td>\n",
              "      <td>5.288280e+06</td>\n",
              "      <td>6.990278e+06</td>\n",
              "    </tr>\n",
              "    <tr>\n",
              "      <th>r_stars</th>\n",
              "      <td>2060626.0</td>\n",
              "      <td>3.607754e+00</td>\n",
              "      <td>1.538412e+00</td>\n",
              "      <td>1.000000e+00</td>\n",
              "      <td>2.000000e+00</td>\n",
              "      <td>4.000000e+00</td>\n",
              "      <td>5.000000e+00</td>\n",
              "      <td>5.000000e+00</td>\n",
              "    </tr>\n",
              "    <tr>\n",
              "      <th>r_stars_square</th>\n",
              "      <td>2060626.0</td>\n",
              "      <td>1.538260e+01</td>\n",
              "      <td>9.617924e+00</td>\n",
              "      <td>1.000000e+00</td>\n",
              "      <td>4.000000e+00</td>\n",
              "      <td>1.600000e+01</td>\n",
              "      <td>2.500000e+01</td>\n",
              "      <td>2.500000e+01</td>\n",
              "    </tr>\n",
              "    <tr>\n",
              "      <th>r_length</th>\n",
              "      <td>2060626.0</td>\n",
              "      <td>1.332717e+02</td>\n",
              "      <td>1.149773e+02</td>\n",
              "      <td>0.000000e+00</td>\n",
              "      <td>5.700000e+01</td>\n",
              "      <td>1.010000e+02</td>\n",
              "      <td>1.710000e+02</td>\n",
              "      <td>1.061000e+03</td>\n",
              "    </tr>\n",
              "    <tr>\n",
              "      <th>u_friends_count</th>\n",
              "      <td>2060626.0</td>\n",
              "      <td>1.888371e+02</td>\n",
              "      <td>5.663421e+02</td>\n",
              "      <td>1.000000e+00</td>\n",
              "      <td>2.000000e+00</td>\n",
              "      <td>4.000000e+01</td>\n",
              "      <td>1.680000e+02</td>\n",
              "      <td>1.499500e+04</td>\n",
              "    </tr>\n",
              "    <tr>\n",
              "      <th>u_review_count</th>\n",
              "      <td>2060626.0</td>\n",
              "      <td>1.911808e+02</td>\n",
              "      <td>4.966023e+02</td>\n",
              "      <td>0.000000e+00</td>\n",
              "      <td>1.100000e+01</td>\n",
              "      <td>4.400000e+01</td>\n",
              "      <td>1.760000e+02</td>\n",
              "      <td>1.747300e+04</td>\n",
              "    </tr>\n",
              "    <tr>\n",
              "      <th>u_month_age</th>\n",
              "      <td>2060626.0</td>\n",
              "      <td>4.274377e+01</td>\n",
              "      <td>3.454640e+01</td>\n",
              "      <td>3.802649e-07</td>\n",
              "      <td>1.364517e+01</td>\n",
              "      <td>3.644688e+01</td>\n",
              "      <td>6.515015e+01</td>\n",
              "      <td>2.018375e+02</td>\n",
              "    </tr>\n",
              "    <tr>\n",
              "      <th>b_stars</th>\n",
              "      <td>2060626.0</td>\n",
              "      <td>3.742639e+00</td>\n",
              "      <td>7.950195e-01</td>\n",
              "      <td>1.000000e+00</td>\n",
              "      <td>3.500000e+00</td>\n",
              "      <td>4.000000e+00</td>\n",
              "      <td>4.500000e+00</td>\n",
              "      <td>5.000000e+00</td>\n",
              "    </tr>\n",
              "    <tr>\n",
              "      <th>b_review_count</th>\n",
              "      <td>2060626.0</td>\n",
              "      <td>3.371921e+02</td>\n",
              "      <td>6.668911e+02</td>\n",
              "      <td>5.000000e+00</td>\n",
              "      <td>4.000000e+01</td>\n",
              "      <td>1.250000e+02</td>\n",
              "      <td>3.410000e+02</td>\n",
              "      <td>7.568000e+03</td>\n",
              "    </tr>\n",
              "    <tr>\n",
              "      <th>r_sen</th>\n",
              "      <td>2060626.0</td>\n",
              "      <td>1.823936e-01</td>\n",
              "      <td>1.926882e-01</td>\n",
              "      <td>-1.000000e+00</td>\n",
              "      <td>6.007800e-02</td>\n",
              "      <td>1.808695e-01</td>\n",
              "      <td>3.004768e-01</td>\n",
              "      <td>1.000000e+00</td>\n",
              "    </tr>\n",
              "    <tr>\n",
              "      <th>r_sub</th>\n",
              "      <td>2060626.0</td>\n",
              "      <td>4.446208e-01</td>\n",
              "      <td>1.467634e-01</td>\n",
              "      <td>0.000000e+00</td>\n",
              "      <td>3.483330e-01</td>\n",
              "      <td>4.416670e-01</td>\n",
              "      <td>5.375000e-01</td>\n",
              "      <td>1.000000e+00</td>\n",
              "    </tr>\n",
              "    <tr>\n",
              "      <th>r_rea</th>\n",
              "      <td>2060626.0</td>\n",
              "      <td>8.002991e+01</td>\n",
              "      <td>1.121612e+01</td>\n",
              "      <td>-2.670590e+03</td>\n",
              "      <td>7.449000e+01</td>\n",
              "      <td>8.099000e+01</td>\n",
              "      <td>8.640000e+01</td>\n",
              "      <td>2.068400e+02</td>\n",
              "    </tr>\n",
              "    <tr>\n",
              "      <th>r_useful</th>\n",
              "      <td>2060626.0</td>\n",
              "      <td>2.651563e+00</td>\n",
              "      <td>4.713568e+00</td>\n",
              "      <td>1.000000e+00</td>\n",
              "      <td>1.000000e+00</td>\n",
              "      <td>2.000000e+00</td>\n",
              "      <td>3.000000e+00</td>\n",
              "      <td>1.182000e+03</td>\n",
              "    </tr>\n",
              "  </tbody>\n",
              "</table>\n",
              "</div>\n",
              "      <button class=\"colab-df-convert\" onclick=\"convertToInteractive('df-335887af-a52a-48bc-8479-b8044b309d51')\"\n",
              "              title=\"Convert this dataframe to an interactive table.\"\n",
              "              style=\"display:none;\">\n",
              "        \n",
              "  <svg xmlns=\"http://www.w3.org/2000/svg\" height=\"24px\"viewBox=\"0 0 24 24\"\n",
              "       width=\"24px\">\n",
              "    <path d=\"M0 0h24v24H0V0z\" fill=\"none\"/>\n",
              "    <path d=\"M18.56 5.44l.94 2.06.94-2.06 2.06-.94-2.06-.94-.94-2.06-.94 2.06-2.06.94zm-11 1L8.5 8.5l.94-2.06 2.06-.94-2.06-.94L8.5 2.5l-.94 2.06-2.06.94zm10 10l.94 2.06.94-2.06 2.06-.94-2.06-.94-.94-2.06-.94 2.06-2.06.94z\"/><path d=\"M17.41 7.96l-1.37-1.37c-.4-.4-.92-.59-1.43-.59-.52 0-1.04.2-1.43.59L10.3 9.45l-7.72 7.72c-.78.78-.78 2.05 0 2.83L4 21.41c.39.39.9.59 1.41.59.51 0 1.02-.2 1.41-.59l7.78-7.78 2.81-2.81c.8-.78.8-2.07 0-2.86zM5.41 20L4 18.59l7.72-7.72 1.47 1.35L5.41 20z\"/>\n",
              "  </svg>\n",
              "      </button>\n",
              "      \n",
              "  <style>\n",
              "    .colab-df-container {\n",
              "      display:flex;\n",
              "      flex-wrap:wrap;\n",
              "      gap: 12px;\n",
              "    }\n",
              "\n",
              "    .colab-df-convert {\n",
              "      background-color: #E8F0FE;\n",
              "      border: none;\n",
              "      border-radius: 50%;\n",
              "      cursor: pointer;\n",
              "      display: none;\n",
              "      fill: #1967D2;\n",
              "      height: 32px;\n",
              "      padding: 0 0 0 0;\n",
              "      width: 32px;\n",
              "    }\n",
              "\n",
              "    .colab-df-convert:hover {\n",
              "      background-color: #E2EBFA;\n",
              "      box-shadow: 0px 1px 2px rgba(60, 64, 67, 0.3), 0px 1px 3px 1px rgba(60, 64, 67, 0.15);\n",
              "      fill: #174EA6;\n",
              "    }\n",
              "\n",
              "    [theme=dark] .colab-df-convert {\n",
              "      background-color: #3B4455;\n",
              "      fill: #D2E3FC;\n",
              "    }\n",
              "\n",
              "    [theme=dark] .colab-df-convert:hover {\n",
              "      background-color: #434B5C;\n",
              "      box-shadow: 0px 1px 3px 1px rgba(0, 0, 0, 0.15);\n",
              "      filter: drop-shadow(0px 1px 2px rgba(0, 0, 0, 0.3));\n",
              "      fill: #FFFFFF;\n",
              "    }\n",
              "  </style>\n",
              "\n",
              "      <script>\n",
              "        const buttonEl =\n",
              "          document.querySelector('#df-335887af-a52a-48bc-8479-b8044b309d51 button.colab-df-convert');\n",
              "        buttonEl.style.display =\n",
              "          google.colab.kernel.accessAllowed ? 'block' : 'none';\n",
              "\n",
              "        async function convertToInteractive(key) {\n",
              "          const element = document.querySelector('#df-335887af-a52a-48bc-8479-b8044b309d51');\n",
              "          const dataTable =\n",
              "            await google.colab.kernel.invokeFunction('convertToInteractive',\n",
              "                                                     [key], {});\n",
              "          if (!dataTable) return;\n",
              "\n",
              "          const docLinkHtml = 'Like what you see? Visit the ' +\n",
              "            '<a target=\"_blank\" href=https://colab.research.google.com/notebooks/data_table.ipynb>data table notebook</a>'\n",
              "            + ' to learn more about interactive tables.';\n",
              "          element.innerHTML = '';\n",
              "          dataTable['output_type'] = 'display_data';\n",
              "          await google.colab.output.renderOutput(dataTable, element);\n",
              "          const docLink = document.createElement('div');\n",
              "          docLink.innerHTML = docLinkHtml;\n",
              "          element.appendChild(docLink);\n",
              "        }\n",
              "      </script>\n",
              "    </div>\n",
              "  </div>\n",
              "  "
            ]
          },
          "metadata": {},
          "execution_count": 6
        }
      ]
    },
    {
      "cell_type": "code",
      "source": [
        "X_train, y_train = df_train.drop(['r_useful', 'r_id'], axis=1).values, df_train['r_useful'].values\n",
        "X_val, y_val = df_val.drop(['r_useful', 'r_id'], axis=1).values, df_val['r_useful'].values\n",
        "X_test, y_test = df_test.drop(['r_useful', 'r_id'], axis=1).values, df_test['r_useful'].values\n",
        "\n",
        "# standardise the features\n",
        "ss = StandardScaler()\n",
        "X_train = ss.fit_transform(X_train)\n",
        "X_val = ss.transform(X_val)\n",
        "X_test = ss.transform(X_test)"
      ],
      "metadata": {
        "id": "JoK7iekTi7BK"
      },
      "execution_count": 7,
      "outputs": []
    },
    {
      "cell_type": "code",
      "source": [
        "def objective(trial):\n",
        "  \"\"\" Function to tune parameters \"\"\"\n",
        "  gc.collect()\n",
        "  params = {\n",
        "      \"n_estimators\":trial.suggest_int('n_estimators', 1, 1001, step=50),\n",
        "      \"max_depth\" : trial.suggest_int(\"max_depth\", 2, 20),\n",
        "      \"learning_rate\" : 10**-3 * trial.suggest_int('lr', 1, 501, step=5),\n",
        "      \"reg_alpha\": 10 ** trial.suggest_int(\"alpha\", -3, 3),\n",
        "      \"reg_lambda\": 10 ** trial.suggest_int(\"lambda\", -3, 3)\n",
        "  }\n",
        "\n",
        "  print(\"Currently running with:\")\n",
        "  print(params)\n",
        "\n",
        "  model = xgb.XGBRegressor(objective=\"reg:squarederror\",\n",
        "                            n_jobs=-1,\n",
        "                            grow_policy='lossguide',\n",
        "                            tree_method=\"gpu_hist\",\n",
        "                            predictor=\"gpu_predictor\",\n",
        "                            booster='gbtree',\n",
        "                            sampling_method='gradient_based',\n",
        "                            eval_metrics=['rmse'], \n",
        "                            random_state=RANDOM_SEED,\n",
        "                            enable_categorical=False,\n",
        "                            early_stopping_rounds=50,\n",
        "                            **params)\n",
        "  \n",
        "  model.fit(X_train, y_train, eval_set=[(X_val, y_val)], verbose=False)\n",
        "  y_pred = model.predict(X_val)\n",
        "\n",
        "  return mean_squared_error(y_val, y_pred, squared=False)\n",
        "\n",
        "study = opt.create_study(direction='minimize', sampler=TPESampler(seed=RANDOM_SEED))\n",
        "study.optimize(objective, n_trials=50)\n",
        "print(\"Final best parameters:\")\n",
        "study.best_params"
      ],
      "metadata": {
        "colab": {
          "base_uri": "https://localhost:8080/"
        },
        "id": "iFVNTjoQw8Hc",
        "outputId": "c0782808-e069-482e-8a31-6a1ded28abc1"
      },
      "execution_count": 8,
      "outputs": [
        {
          "output_type": "stream",
          "name": "stderr",
          "text": [
            "\u001b[32m[I 2022-09-24 00:36:05,259]\u001b[0m A new study created in memory with name: no-name-d997abf5-e8f3-443c-8d32-78056a2d8d9b\u001b[0m\n"
          ]
        },
        {
          "output_type": "stream",
          "name": "stdout",
          "text": [
            "Currently running with:\n",
            "{'n_estimators': 451, 'max_depth': 2, 'learning_rate': 0.276, 'reg_alpha': 1, 'reg_lambda': 0.1}\n"
          ]
        },
        {
          "output_type": "stream",
          "name": "stderr",
          "text": [
            "\u001b[32m[I 2022-09-24 00:36:09,244]\u001b[0m Trial 0 finished with value: 3.6108714252206364 and parameters: {'n_estimators': 451, 'max_depth': 2, 'lr': 276, 'alpha': 0, 'lambda': -1}. Best is trial 0 with value: 3.6108714252206364.\u001b[0m\n"
          ]
        },
        {
          "output_type": "stream",
          "name": "stdout",
          "text": [
            "Currently running with:\n",
            "{'n_estimators': 301, 'max_depth': 5, 'learning_rate': 0.311, 'reg_alpha': 0.1, 'reg_lambda': 0.01}\n"
          ]
        },
        {
          "output_type": "stream",
          "name": "stderr",
          "text": [
            "\u001b[32m[I 2022-09-24 00:36:12,541]\u001b[0m Trial 1 finished with value: 3.4526019353814412 and parameters: {'n_estimators': 301, 'max_depth': 5, 'lr': 311, 'alpha': -1, 'lambda': -2}. Best is trial 1 with value: 3.4526019353814412.\u001b[0m\n"
          ]
        },
        {
          "output_type": "stream",
          "name": "stdout",
          "text": [
            "Currently running with:\n",
            "{'n_estimators': 651, 'max_depth': 12, 'learning_rate': 0.066, 'reg_alpha': 1, 'reg_lambda': 0.01}\n"
          ]
        },
        {
          "output_type": "stream",
          "name": "stderr",
          "text": [
            "\u001b[32m[I 2022-09-24 00:37:29,881]\u001b[0m Trial 2 finished with value: 3.397775407123341 and parameters: {'n_estimators': 651, 'max_depth': 12, 'lr': 66, 'alpha': 0, 'lambda': -2}. Best is trial 2 with value: 3.397775407123341.\u001b[0m\n"
          ]
        },
        {
          "output_type": "stream",
          "name": "stdout",
          "text": [
            "Currently running with:\n",
            "{'n_estimators': 801, 'max_depth': 18, 'learning_rate': 0.246, 'reg_alpha': 100, 'reg_lambda': 0.001}\n"
          ]
        },
        {
          "output_type": "stream",
          "name": "stderr",
          "text": [
            "\u001b[32m[I 2022-09-24 00:40:26,119]\u001b[0m Trial 3 finished with value: 3.580057946704062 and parameters: {'n_estimators': 801, 'max_depth': 18, 'lr': 246, 'alpha': 2, 'lambda': -3}. Best is trial 2 with value: 3.397775407123341.\u001b[0m\n"
          ]
        },
        {
          "output_type": "stream",
          "name": "stdout",
          "text": [
            "Currently running with:\n",
            "{'n_estimators': 501, 'max_depth': 3, 'learning_rate': 0.216, 'reg_alpha': 0.001, 'reg_lambda': 0.001}\n"
          ]
        },
        {
          "output_type": "stream",
          "name": "stderr",
          "text": [
            "\u001b[32m[I 2022-09-24 00:40:30,046]\u001b[0m Trial 4 finished with value: 3.511544363321492 and parameters: {'n_estimators': 501, 'max_depth': 3, 'lr': 216, 'alpha': -3, 'lambda': -3}. Best is trial 2 with value: 3.397775407123341.\u001b[0m\n"
          ]
        },
        {
          "output_type": "stream",
          "name": "stdout",
          "text": [
            "Currently running with:\n",
            "{'n_estimators': 601, 'max_depth': 6, 'learning_rate': 0.051000000000000004, 'reg_alpha': 0.01, 'reg_lambda': 0.1}\n"
          ]
        },
        {
          "output_type": "stream",
          "name": "stderr",
          "text": [
            "\u001b[32m[I 2022-09-24 00:40:37,566]\u001b[0m Trial 5 finished with value: 3.3992650845307852 and parameters: {'n_estimators': 601, 'max_depth': 6, 'lr': 51, 'alpha': -2, 'lambda': -1}. Best is trial 2 with value: 3.397775407123341.\u001b[0m\n"
          ]
        },
        {
          "output_type": "stream",
          "name": "stdout",
          "text": [
            "Currently running with:\n",
            "{'n_estimators': 451, 'max_depth': 5, 'learning_rate': 0.321, 'reg_alpha': 1, 'reg_lambda': 1}\n"
          ]
        },
        {
          "output_type": "stream",
          "name": "stderr",
          "text": [
            "\u001b[32m[I 2022-09-24 00:40:42,210]\u001b[0m Trial 6 finished with value: 3.456815572007469 and parameters: {'n_estimators': 451, 'max_depth': 5, 'lr': 321, 'alpha': 0, 'lambda': 0}. Best is trial 2 with value: 3.397775407123341.\u001b[0m\n"
          ]
        },
        {
          "output_type": "stream",
          "name": "stdout",
          "text": [
            "Currently running with:\n",
            "{'n_estimators': 401, 'max_depth': 17, 'learning_rate': 0.291, 'reg_alpha': 0.01, 'reg_lambda': 10}\n"
          ]
        },
        {
          "output_type": "stream",
          "name": "stderr",
          "text": [
            "\u001b[32m[I 2022-09-24 00:50:10,598]\u001b[0m Trial 7 finished with value: 3.5451497551983366 and parameters: {'n_estimators': 401, 'max_depth': 17, 'lr': 291, 'alpha': -2, 'lambda': 1}. Best is trial 2 with value: 3.397775407123341.\u001b[0m\n"
          ]
        },
        {
          "output_type": "stream",
          "name": "stdout",
          "text": [
            "Currently running with:\n",
            "{'n_estimators': 1001, 'max_depth': 11, 'learning_rate': 0.446, 'reg_alpha': 0.1, 'reg_lambda': 1}\n"
          ]
        },
        {
          "output_type": "stream",
          "name": "stderr",
          "text": [
            "\u001b[32m[I 2022-09-24 00:51:35,404]\u001b[0m Trial 8 finished with value: 3.7548280972395536 and parameters: {'n_estimators': 1001, 'max_depth': 11, 'lr': 446, 'alpha': -1, 'lambda': 0}. Best is trial 2 with value: 3.397775407123341.\u001b[0m\n"
          ]
        },
        {
          "output_type": "stream",
          "name": "stdout",
          "text": [
            "Currently running with:\n",
            "{'n_estimators': 401, 'max_depth': 10, 'learning_rate': 0.391, 'reg_alpha': 1, 'reg_lambda': 1000}\n"
          ]
        },
        {
          "output_type": "stream",
          "name": "stderr",
          "text": [
            "\u001b[32m[I 2022-09-24 00:51:54,925]\u001b[0m Trial 9 finished with value: 3.3817138960495425 and parameters: {'n_estimators': 401, 'max_depth': 10, 'lr': 391, 'alpha': 0, 'lambda': 3}. Best is trial 9 with value: 3.3817138960495425.\u001b[0m\n"
          ]
        },
        {
          "output_type": "stream",
          "name": "stdout",
          "text": [
            "Currently running with:\n",
            "{'n_estimators': 101, 'max_depth': 11, 'learning_rate': 0.496, 'reg_alpha': 1000, 'reg_lambda': 1000}\n"
          ]
        },
        {
          "output_type": "stream",
          "name": "stderr",
          "text": [
            "\u001b[32m[I 2022-09-24 00:51:58,368]\u001b[0m Trial 10 finished with value: 3.434653620660139 and parameters: {'n_estimators': 101, 'max_depth': 11, 'lr': 496, 'alpha': 3, 'lambda': 3}. Best is trial 9 with value: 3.3817138960495425.\u001b[0m\n"
          ]
        },
        {
          "output_type": "stream",
          "name": "stdout",
          "text": [
            "Currently running with:\n",
            "{'n_estimators': 701, 'max_depth': 14, 'learning_rate': 0.011, 'reg_alpha': 10, 'reg_lambda': 1000}\n"
          ]
        },
        {
          "output_type": "stream",
          "name": "stderr",
          "text": [
            "\u001b[32m[I 2022-09-24 00:55:18,458]\u001b[0m Trial 11 finished with value: 3.4654248997543085 and parameters: {'n_estimators': 701, 'max_depth': 14, 'lr': 11, 'alpha': 1, 'lambda': 3}. Best is trial 9 with value: 3.3817138960495425.\u001b[0m\n"
          ]
        },
        {
          "output_type": "stream",
          "name": "stdout",
          "text": [
            "Currently running with:\n",
            "{'n_estimators': 201, 'max_depth': 8, 'learning_rate': 0.126, 'reg_alpha': 10, 'reg_lambda': 100}\n"
          ]
        },
        {
          "output_type": "stream",
          "name": "stderr",
          "text": [
            "\u001b[32m[I 2022-09-24 00:55:23,035]\u001b[0m Trial 12 finished with value: 3.3878711546070157 and parameters: {'n_estimators': 201, 'max_depth': 8, 'lr': 126, 'alpha': 1, 'lambda': 2}. Best is trial 9 with value: 3.3817138960495425.\u001b[0m\n"
          ]
        },
        {
          "output_type": "stream",
          "name": "stdout",
          "text": [
            "Currently running with:\n",
            "{'n_estimators': 151, 'max_depth': 8, 'learning_rate': 0.156, 'reg_alpha': 100, 'reg_lambda': 100}\n"
          ]
        },
        {
          "output_type": "stream",
          "name": "stderr",
          "text": [
            "\u001b[32m[I 2022-09-24 00:55:26,417]\u001b[0m Trial 13 finished with value: 3.3994166448773435 and parameters: {'n_estimators': 151, 'max_depth': 8, 'lr': 156, 'alpha': 2, 'lambda': 2}. Best is trial 9 with value: 3.3817138960495425.\u001b[0m\n"
          ]
        },
        {
          "output_type": "stream",
          "name": "stdout",
          "text": [
            "Currently running with:\n",
            "{'n_estimators': 251, 'max_depth': 8, 'learning_rate': 0.406, 'reg_alpha': 10, 'reg_lambda': 100}\n"
          ]
        },
        {
          "output_type": "stream",
          "name": "stderr",
          "text": [
            "\u001b[32m[I 2022-09-24 00:55:31,767]\u001b[0m Trial 14 finished with value: 3.393218151289201 and parameters: {'n_estimators': 251, 'max_depth': 8, 'lr': 406, 'alpha': 1, 'lambda': 2}. Best is trial 9 with value: 3.3817138960495425.\u001b[0m\n"
          ]
        },
        {
          "output_type": "stream",
          "name": "stdout",
          "text": [
            "Currently running with:\n",
            "{'n_estimators': 1, 'max_depth': 9, 'learning_rate': 0.151, 'reg_alpha': 10, 'reg_lambda': 100}\n"
          ]
        },
        {
          "output_type": "stream",
          "name": "stderr",
          "text": [
            "\u001b[32m[I 2022-09-24 00:55:32,306]\u001b[0m Trial 15 finished with value: 4.379906618854518 and parameters: {'n_estimators': 1, 'max_depth': 9, 'lr': 151, 'alpha': 1, 'lambda': 2}. Best is trial 9 with value: 3.3817138960495425.\u001b[0m\n"
          ]
        },
        {
          "output_type": "stream",
          "name": "stdout",
          "text": [
            "Currently running with:\n",
            "{'n_estimators': 301, 'max_depth': 14, 'learning_rate': 0.401, 'reg_alpha': 1000, 'reg_lambda': 1000}\n"
          ]
        },
        {
          "output_type": "stream",
          "name": "stderr",
          "text": [
            "\u001b[32m[I 2022-09-24 00:55:44,977]\u001b[0m Trial 16 finished with value: 3.4500807099156874 and parameters: {'n_estimators': 301, 'max_depth': 14, 'lr': 401, 'alpha': 3, 'lambda': 3}. Best is trial 9 with value: 3.3817138960495425.\u001b[0m\n"
          ]
        },
        {
          "output_type": "stream",
          "name": "stdout",
          "text": [
            "Currently running with:\n",
            "{'n_estimators': 151, 'max_depth': 20, 'learning_rate': 0.166, 'reg_alpha': 100, 'reg_lambda': 10}\n"
          ]
        },
        {
          "output_type": "stream",
          "name": "stderr",
          "text": [
            "\u001b[32m[I 2022-09-24 00:56:48,442]\u001b[0m Trial 17 finished with value: 3.418228641898721 and parameters: {'n_estimators': 151, 'max_depth': 20, 'lr': 166, 'alpha': 2, 'lambda': 1}. Best is trial 9 with value: 3.3817138960495425.\u001b[0m\n"
          ]
        },
        {
          "output_type": "stream",
          "name": "stdout",
          "text": [
            "Currently running with:\n",
            "{'n_estimators': 1, 'max_depth': 14, 'learning_rate': 0.366, 'reg_alpha': 0.1, 'reg_lambda': 10}\n"
          ]
        },
        {
          "output_type": "stream",
          "name": "stderr",
          "text": [
            "\u001b[32m[I 2022-09-24 00:56:49,296]\u001b[0m Trial 18 finished with value: 4.002493893854313 and parameters: {'n_estimators': 1, 'max_depth': 14, 'lr': 366, 'alpha': -1, 'lambda': 1}. Best is trial 9 with value: 3.3817138960495425.\u001b[0m\n"
          ]
        },
        {
          "output_type": "stream",
          "name": "stdout",
          "text": [
            "Currently running with:\n",
            "{'n_estimators': 251, 'max_depth': 10, 'learning_rate': 0.101, 'reg_alpha': 10, 'reg_lambda': 100}\n"
          ]
        },
        {
          "output_type": "stream",
          "name": "stderr",
          "text": [
            "\u001b[32m[I 2022-09-24 00:57:00,400]\u001b[0m Trial 19 finished with value: 3.3819152562965535 and parameters: {'n_estimators': 251, 'max_depth': 10, 'lr': 101, 'alpha': 1, 'lambda': 2}. Best is trial 9 with value: 3.3817138960495425.\u001b[0m\n"
          ]
        },
        {
          "output_type": "stream",
          "name": "stdout",
          "text": [
            "Currently running with:\n",
            "{'n_estimators': 351, 'max_depth': 10, 'learning_rate': 0.216, 'reg_alpha': 1, 'reg_lambda': 1000}\n"
          ]
        },
        {
          "output_type": "stream",
          "name": "stderr",
          "text": [
            "\u001b[32m[I 2022-09-24 00:57:17,164]\u001b[0m Trial 20 finished with value: 3.377471962516137 and parameters: {'n_estimators': 351, 'max_depth': 10, 'lr': 216, 'alpha': 0, 'lambda': 3}. Best is trial 20 with value: 3.377471962516137.\u001b[0m\n"
          ]
        },
        {
          "output_type": "stream",
          "name": "stdout",
          "text": [
            "Currently running with:\n",
            "{'n_estimators': 351, 'max_depth': 12, 'learning_rate': 0.20600000000000002, 'reg_alpha': 1, 'reg_lambda': 1000}\n"
          ]
        },
        {
          "output_type": "stream",
          "name": "stderr",
          "text": [
            "\u001b[32m[I 2022-09-24 00:57:58,953]\u001b[0m Trial 21 finished with value: 3.36500826329227 and parameters: {'n_estimators': 351, 'max_depth': 12, 'lr': 206, 'alpha': 0, 'lambda': 3}. Best is trial 21 with value: 3.36500826329227.\u001b[0m\n"
          ]
        },
        {
          "output_type": "stream",
          "name": "stdout",
          "text": [
            "Currently running with:\n",
            "{'n_estimators': 351, 'max_depth': 13, 'learning_rate': 0.221, 'reg_alpha': 1, 'reg_lambda': 1000}\n"
          ]
        },
        {
          "output_type": "stream",
          "name": "stderr",
          "text": [
            "\u001b[32m[I 2022-09-24 00:59:03,364]\u001b[0m Trial 22 finished with value: 3.3609569774817154 and parameters: {'n_estimators': 351, 'max_depth': 13, 'lr': 221, 'alpha': 0, 'lambda': 3}. Best is trial 22 with value: 3.3609569774817154.\u001b[0m\n"
          ]
        },
        {
          "output_type": "stream",
          "name": "stdout",
          "text": [
            "Currently running with:\n",
            "{'n_estimators': 351, 'max_depth': 13, 'learning_rate': 0.216, 'reg_alpha': 0.1, 'reg_lambda': 1000}\n"
          ]
        },
        {
          "output_type": "stream",
          "name": "stderr",
          "text": [
            "\u001b[32m[I 2022-09-24 01:00:08,104]\u001b[0m Trial 23 finished with value: 3.3617731538577904 and parameters: {'n_estimators': 351, 'max_depth': 13, 'lr': 216, 'alpha': -1, 'lambda': 3}. Best is trial 22 with value: 3.3609569774817154.\u001b[0m\n"
          ]
        },
        {
          "output_type": "stream",
          "name": "stdout",
          "text": [
            "Currently running with:\n",
            "{'n_estimators': 551, 'max_depth': 16, 'learning_rate': 0.20600000000000002, 'reg_alpha': 0.01, 'reg_lambda': 1000}\n"
          ]
        },
        {
          "output_type": "stream",
          "name": "stderr",
          "text": [
            "\u001b[32m[I 2022-09-24 01:06:07,410]\u001b[0m Trial 24 finished with value: 3.3509508118332487 and parameters: {'n_estimators': 551, 'max_depth': 16, 'lr': 206, 'alpha': -2, 'lambda': 3}. Best is trial 24 with value: 3.3509508118332487.\u001b[0m\n"
          ]
        },
        {
          "output_type": "stream",
          "name": "stdout",
          "text": [
            "Currently running with:\n",
            "{'n_estimators': 551, 'max_depth': 16, 'learning_rate': 0.186, 'reg_alpha': 0.01, 'reg_lambda': 100}\n"
          ]
        },
        {
          "output_type": "stream",
          "name": "stderr",
          "text": [
            "\u001b[32m[I 2022-09-24 01:12:02,777]\u001b[0m Trial 25 finished with value: 3.4105263295650388 and parameters: {'n_estimators': 551, 'max_depth': 16, 'lr': 186, 'alpha': -2, 'lambda': 2}. Best is trial 24 with value: 3.3509508118332487.\u001b[0m\n"
          ]
        },
        {
          "output_type": "stream",
          "name": "stdout",
          "text": [
            "Currently running with:\n",
            "{'n_estimators': 751, 'max_depth': 15, 'learning_rate': 0.251, 'reg_alpha': 0.1, 'reg_lambda': 10}\n"
          ]
        },
        {
          "output_type": "stream",
          "name": "stderr",
          "text": [
            "\u001b[32m[I 2022-09-24 01:19:26,624]\u001b[0m Trial 26 finished with value: 3.5569349786314812 and parameters: {'n_estimators': 751, 'max_depth': 15, 'lr': 251, 'alpha': -1, 'lambda': 1}. Best is trial 24 with value: 3.3509508118332487.\u001b[0m\n"
          ]
        },
        {
          "output_type": "stream",
          "name": "stdout",
          "text": [
            "Currently running with:\n",
            "{'n_estimators': 901, 'max_depth': 19, 'learning_rate': 0.341, 'reg_alpha': 0.001, 'reg_lambda': 1000}\n"
          ]
        },
        {
          "output_type": "stream",
          "name": "stderr",
          "text": [
            "\u001b[32m[I 2022-09-24 01:48:34,566]\u001b[0m Trial 27 finished with value: 3.423535572069448 and parameters: {'n_estimators': 901, 'max_depth': 19, 'lr': 341, 'alpha': -3, 'lambda': 3}. Best is trial 24 with value: 3.3509508118332487.\u001b[0m\n"
          ]
        },
        {
          "output_type": "stream",
          "name": "stdout",
          "text": [
            "Currently running with:\n",
            "{'n_estimators': 551, 'max_depth': 16, 'learning_rate': 0.111, 'reg_alpha': 0.01, 'reg_lambda': 100}\n"
          ]
        },
        {
          "output_type": "stream",
          "name": "stderr",
          "text": [
            "\u001b[32m[I 2022-09-24 01:54:32,167]\u001b[0m Trial 28 finished with value: 3.4150723524626265 and parameters: {'n_estimators': 551, 'max_depth': 16, 'lr': 111, 'alpha': -2, 'lambda': 2}. Best is trial 24 with value: 3.3509508118332487.\u001b[0m\n"
          ]
        },
        {
          "output_type": "stream",
          "name": "stdout",
          "text": [
            "Currently running with:\n",
            "{'n_estimators': 451, 'max_depth': 13, 'learning_rate': 0.271, 'reg_alpha': 0.1, 'reg_lambda': 1}\n"
          ]
        },
        {
          "output_type": "stream",
          "name": "stderr",
          "text": [
            "\u001b[32m[I 2022-09-24 01:56:08,418]\u001b[0m Trial 29 finished with value: 3.488187206581822 and parameters: {'n_estimators': 451, 'max_depth': 13, 'lr': 271, 'alpha': -1, 'lambda': 0}. Best is trial 24 with value: 3.3509508118332487.\u001b[0m\n"
          ]
        },
        {
          "output_type": "stream",
          "name": "stdout",
          "text": [
            "Currently running with:\n",
            "{'n_estimators': 551, 'max_depth': 17, 'learning_rate': 0.23600000000000002, 'reg_alpha': 0.001, 'reg_lambda': 1000}\n"
          ]
        },
        {
          "output_type": "stream",
          "name": "stderr",
          "text": [
            "\u001b[32m[I 2022-09-24 02:04:41,554]\u001b[0m Trial 30 finished with value: 3.3540153395162338 and parameters: {'n_estimators': 551, 'max_depth': 17, 'lr': 236, 'alpha': -3, 'lambda': 3}. Best is trial 24 with value: 3.3509508118332487.\u001b[0m\n"
          ]
        },
        {
          "output_type": "stream",
          "name": "stdout",
          "text": [
            "Currently running with:\n",
            "{'n_estimators': 551, 'max_depth': 17, 'learning_rate': 0.251, 'reg_alpha': 0.001, 'reg_lambda': 1000}\n"
          ]
        },
        {
          "output_type": "stream",
          "name": "stderr",
          "text": [
            "\u001b[32m[I 2022-09-24 02:13:30,952]\u001b[0m Trial 31 finished with value: 3.3461013650636864 and parameters: {'n_estimators': 551, 'max_depth': 17, 'lr': 251, 'alpha': -3, 'lambda': 3}. Best is trial 31 with value: 3.3461013650636864.\u001b[0m\n"
          ]
        },
        {
          "output_type": "stream",
          "name": "stdout",
          "text": [
            "Currently running with:\n",
            "{'n_estimators': 651, 'max_depth': 18, 'learning_rate': 0.276, 'reg_alpha': 0.001, 'reg_lambda': 1000}\n"
          ]
        },
        {
          "output_type": "stream",
          "name": "stderr",
          "text": [
            "\u001b[32m[I 2022-09-24 02:27:39,801]\u001b[0m Trial 32 finished with value: 3.3741323274589505 and parameters: {'n_estimators': 651, 'max_depth': 18, 'lr': 276, 'alpha': -3, 'lambda': 3}. Best is trial 31 with value: 3.3461013650636864.\u001b[0m\n"
          ]
        },
        {
          "output_type": "stream",
          "name": "stdout",
          "text": [
            "Currently running with:\n",
            "{'n_estimators': 551, 'max_depth': 16, 'learning_rate': 0.251, 'reg_alpha': 0.001, 'reg_lambda': 100}\n"
          ]
        },
        {
          "output_type": "stream",
          "name": "stderr",
          "text": [
            "\u001b[32m[I 2022-09-24 02:34:10,592]\u001b[0m Trial 33 finished with value: 3.458193979416142 and parameters: {'n_estimators': 551, 'max_depth': 16, 'lr': 251, 'alpha': -3, 'lambda': 2}. Best is trial 31 with value: 3.3461013650636864.\u001b[0m\n"
          ]
        },
        {
          "output_type": "stream",
          "name": "stdout",
          "text": [
            "Currently running with:\n",
            "{'n_estimators': 651, 'max_depth': 18, 'learning_rate': 0.181, 'reg_alpha': 0.001, 'reg_lambda': 1000}\n"
          ]
        },
        {
          "output_type": "stream",
          "name": "stderr",
          "text": [
            "\u001b[32m[I 2022-09-24 02:48:05,218]\u001b[0m Trial 34 finished with value: 3.3581640306273632 and parameters: {'n_estimators': 651, 'max_depth': 18, 'lr': 181, 'alpha': -3, 'lambda': 3}. Best is trial 31 with value: 3.3461013650636864.\u001b[0m\n"
          ]
        },
        {
          "output_type": "stream",
          "name": "stdout",
          "text": [
            "Currently running with:\n",
            "{'n_estimators': 801, 'max_depth': 20, 'learning_rate': 0.186, 'reg_alpha': 0.001, 'reg_lambda': 1000}\n"
          ]
        },
        {
          "output_type": "stream",
          "name": "stderr",
          "text": [
            "\u001b[32m[I 2022-09-24 03:17:41,595]\u001b[0m Trial 35 finished with value: 3.3775262348228177 and parameters: {'n_estimators': 801, 'max_depth': 20, 'lr': 186, 'alpha': -3, 'lambda': 3}. Best is trial 31 with value: 3.3461013650636864.\u001b[0m\n"
          ]
        },
        {
          "output_type": "stream",
          "name": "stdout",
          "text": [
            "Currently running with:\n",
            "{'n_estimators': 651, 'max_depth': 17, 'learning_rate': 0.311, 'reg_alpha': 0.01, 'reg_lambda': 100}\n"
          ]
        },
        {
          "output_type": "stream",
          "name": "stderr",
          "text": [
            "\u001b[32m[I 2022-09-24 03:29:02,998]\u001b[0m Trial 36 finished with value: 3.532914795513971 and parameters: {'n_estimators': 651, 'max_depth': 17, 'lr': 311, 'alpha': -2, 'lambda': 2}. Best is trial 31 with value: 3.3461013650636864.\u001b[0m\n"
          ]
        },
        {
          "output_type": "stream",
          "name": "stdout",
          "text": [
            "Currently running with:\n",
            "{'n_estimators': 501, 'max_depth': 18, 'learning_rate': 0.241, 'reg_alpha': 0.001, 'reg_lambda': 0.1}\n"
          ]
        },
        {
          "output_type": "stream",
          "name": "stderr",
          "text": [
            "\u001b[32m[I 2022-09-24 03:45:39,317]\u001b[0m Trial 37 finished with value: 3.8392956934717257 and parameters: {'n_estimators': 501, 'max_depth': 18, 'lr': 241, 'alpha': -3, 'lambda': -1}. Best is trial 31 with value: 3.3461013650636864.\u001b[0m\n"
          ]
        },
        {
          "output_type": "stream",
          "name": "stdout",
          "text": [
            "Currently running with:\n",
            "{'n_estimators': 601, 'max_depth': 19, 'learning_rate': 0.08600000000000001, 'reg_alpha': 0.001, 'reg_lambda': 10}\n"
          ]
        },
        {
          "output_type": "stream",
          "name": "stderr",
          "text": [
            "\u001b[32m[I 2022-09-24 04:11:44,462]\u001b[0m Trial 38 finished with value: 3.533042450309096 and parameters: {'n_estimators': 601, 'max_depth': 19, 'lr': 86, 'alpha': -3, 'lambda': 1}. Best is trial 31 with value: 3.3461013650636864.\u001b[0m\n"
          ]
        },
        {
          "output_type": "stream",
          "name": "stdout",
          "text": [
            "Currently running with:\n",
            "{'n_estimators': 701, 'max_depth': 17, 'learning_rate': 0.136, 'reg_alpha': 0.01, 'reg_lambda': 0.01}\n"
          ]
        },
        {
          "output_type": "stream",
          "name": "stderr",
          "text": [
            "\u001b[32m[I 2022-09-24 04:27:21,802]\u001b[0m Trial 39 finished with value: 3.6799461115430323 and parameters: {'n_estimators': 701, 'max_depth': 17, 'lr': 136, 'alpha': -2, 'lambda': -2}. Best is trial 31 with value: 3.3461013650636864.\u001b[0m\n"
          ]
        },
        {
          "output_type": "stream",
          "name": "stdout",
          "text": [
            "Currently running with:\n",
            "{'n_estimators': 851, 'max_depth': 19, 'learning_rate': 0.181, 'reg_alpha': 0.01, 'reg_lambda': 1000}\n"
          ]
        },
        {
          "output_type": "stream",
          "name": "stderr",
          "text": [
            "\u001b[32m[I 2022-09-24 04:52:28,911]\u001b[0m Trial 40 finished with value: 3.379476139797153 and parameters: {'n_estimators': 851, 'max_depth': 19, 'lr': 181, 'alpha': -2, 'lambda': 3}. Best is trial 31 with value: 3.3461013650636864.\u001b[0m\n"
          ]
        },
        {
          "output_type": "stream",
          "name": "stdout",
          "text": [
            "Currently running with:\n",
            "{'n_estimators': 451, 'max_depth': 15, 'learning_rate': 0.231, 'reg_alpha': 0.001, 'reg_lambda': 1000}\n"
          ]
        },
        {
          "output_type": "stream",
          "name": "stderr",
          "text": [
            "\u001b[32m[I 2022-09-24 04:55:38,309]\u001b[0m Trial 41 finished with value: 3.3434662194895415 and parameters: {'n_estimators': 451, 'max_depth': 15, 'lr': 231, 'alpha': -3, 'lambda': 3}. Best is trial 41 with value: 3.3434662194895415.\u001b[0m\n"
          ]
        },
        {
          "output_type": "stream",
          "name": "stdout",
          "text": [
            "Currently running with:\n",
            "{'n_estimators': 451, 'max_depth': 15, 'learning_rate': 0.296, 'reg_alpha': 0.001, 'reg_lambda': 1000}\n"
          ]
        },
        {
          "output_type": "stream",
          "name": "stderr",
          "text": [
            "\u001b[32m[I 2022-09-24 04:58:57,766]\u001b[0m Trial 42 finished with value: 3.3576012094376013 and parameters: {'n_estimators': 451, 'max_depth': 15, 'lr': 296, 'alpha': -3, 'lambda': 3}. Best is trial 41 with value: 3.3434662194895415.\u001b[0m\n"
          ]
        },
        {
          "output_type": "stream",
          "name": "stdout",
          "text": [
            "Currently running with:\n",
            "{'n_estimators': 451, 'max_depth': 15, 'learning_rate': 0.301, 'reg_alpha': 0.001, 'reg_lambda': 1000}\n"
          ]
        },
        {
          "output_type": "stream",
          "name": "stderr",
          "text": [
            "\u001b[32m[I 2022-09-24 05:02:16,781]\u001b[0m Trial 43 finished with value: 3.349449080286921 and parameters: {'n_estimators': 451, 'max_depth': 15, 'lr': 301, 'alpha': -3, 'lambda': 3}. Best is trial 41 with value: 3.3434662194895415.\u001b[0m\n"
          ]
        },
        {
          "output_type": "stream",
          "name": "stdout",
          "text": [
            "Currently running with:\n",
            "{'n_estimators': 501, 'max_depth': 16, 'learning_rate': 0.321, 'reg_alpha': 0.001, 'reg_lambda': 100}\n"
          ]
        },
        {
          "output_type": "stream",
          "name": "stderr",
          "text": [
            "\u001b[32m[I 2022-09-24 05:07:58,823]\u001b[0m Trial 44 finished with value: 3.4998609605382787 and parameters: {'n_estimators': 501, 'max_depth': 16, 'lr': 321, 'alpha': -3, 'lambda': 2}. Best is trial 41 with value: 3.3434662194895415.\u001b[0m\n"
          ]
        },
        {
          "output_type": "stream",
          "name": "stdout",
          "text": [
            "Currently running with:\n",
            "{'n_estimators': 601, 'max_depth': 15, 'learning_rate': 0.276, 'reg_alpha': 0.01, 'reg_lambda': 1000}\n"
          ]
        },
        {
          "output_type": "stream",
          "name": "stderr",
          "text": [
            "\u001b[32m[I 2022-09-24 05:12:33,062]\u001b[0m Trial 45 finished with value: 3.345697018787656 and parameters: {'n_estimators': 601, 'max_depth': 15, 'lr': 276, 'alpha': -2, 'lambda': 3}. Best is trial 41 with value: 3.3434662194895415.\u001b[0m\n"
          ]
        },
        {
          "output_type": "stream",
          "name": "stdout",
          "text": [
            "Currently running with:\n",
            "{'n_estimators': 401, 'max_depth': 2, 'learning_rate': 0.341, 'reg_alpha': 0.01, 'reg_lambda': 0.001}\n"
          ]
        },
        {
          "output_type": "stream",
          "name": "stderr",
          "text": [
            "\u001b[32m[I 2022-09-24 05:12:35,975]\u001b[0m Trial 46 finished with value: 3.6066435308196088 and parameters: {'n_estimators': 401, 'max_depth': 2, 'lr': 341, 'alpha': -2, 'lambda': -3}. Best is trial 41 with value: 3.3434662194895415.\u001b[0m\n"
          ]
        },
        {
          "output_type": "stream",
          "name": "stdout",
          "text": [
            "Currently running with:\n",
            "{'n_estimators': 601, 'max_depth': 12, 'learning_rate': 0.276, 'reg_alpha': 0.01, 'reg_lambda': 100}\n"
          ]
        },
        {
          "output_type": "stream",
          "name": "stderr",
          "text": [
            "\u001b[32m[I 2022-09-24 05:13:44,367]\u001b[0m Trial 47 finished with value: 3.4252470539722655 and parameters: {'n_estimators': 601, 'max_depth': 12, 'lr': 276, 'alpha': -2, 'lambda': 2}. Best is trial 41 with value: 3.3434662194895415.\u001b[0m\n"
          ]
        },
        {
          "output_type": "stream",
          "name": "stdout",
          "text": [
            "Currently running with:\n",
            "{'n_estimators': 451, 'max_depth': 15, 'learning_rate': 0.291, 'reg_alpha': 0.01, 'reg_lambda': 1000}\n"
          ]
        },
        {
          "output_type": "stream",
          "name": "stderr",
          "text": [
            "\u001b[32m[I 2022-09-24 05:17:05,800]\u001b[0m Trial 48 finished with value: 3.3462511708546745 and parameters: {'n_estimators': 451, 'max_depth': 15, 'lr': 291, 'alpha': -2, 'lambda': 3}. Best is trial 41 with value: 3.3434662194895415.\u001b[0m\n"
          ]
        },
        {
          "output_type": "stream",
          "name": "stdout",
          "text": [
            "Currently running with:\n",
            "{'n_estimators': 451, 'max_depth': 15, 'learning_rate': 0.341, 'reg_alpha': 0.01, 'reg_lambda': 100}\n"
          ]
        },
        {
          "output_type": "stream",
          "name": "stderr",
          "text": [
            "\u001b[32m[I 2022-09-24 05:20:24,735]\u001b[0m Trial 49 finished with value: 3.473883977736833 and parameters: {'n_estimators': 451, 'max_depth': 15, 'lr': 341, 'alpha': -2, 'lambda': 2}. Best is trial 41 with value: 3.3434662194895415.\u001b[0m\n"
          ]
        },
        {
          "output_type": "stream",
          "name": "stdout",
          "text": [
            "Final best parameters:\n"
          ]
        },
        {
          "output_type": "execute_result",
          "data": {
            "text/plain": [
              "{'n_estimators': 451, 'max_depth': 15, 'lr': 231, 'alpha': -3, 'lambda': 3}"
            ]
          },
          "metadata": {},
          "execution_count": 8
        }
      ]
    },
    {
      "cell_type": "code",
      "source": [
        "best_params = {\n",
        "  \"n_estimators\": study.best_params[\"n_estimators\"],\n",
        "  \"max_depth\" : study.best_params[\"max_depth\"],\n",
        "  \"learning_rate\" : 10**-3 * study.best_params[\"lr\"],\n",
        "  \"reg_alpha\": 10 ** study.best_params[\"alpha\"],\n",
        "  \"reg_lambda\": 10 ** study.best_params[\"lambda\"]\n",
        "}\n",
        "print(best_params)\n",
        "model = xgb.XGBRegressor(objective=\"reg:squarederror\",\n",
        "                          n_jobs=-1,\n",
        "                          grow_policy='lossguide',\n",
        "                          tree_method=\"gpu_hist\",\n",
        "                          predictor=\"gpu_predictor\",\n",
        "                          booster='gbtree',\n",
        "                          sampling_method='gradient_based',\n",
        "                          eval_metrics=['rmse'],\n",
        "                          random_state=RANDOM_SEED,\n",
        "                          enable_categorical=False,\n",
        "                          early_stopping_rounds=50,\n",
        "                          **best_params)\n",
        "model.fit(X_train, y_train, eval_set=[(X_val, y_val)], verbose=False)"
      ],
      "metadata": {
        "id": "9BCwlu6b6FcI",
        "colab": {
          "base_uri": "https://localhost:8080/"
        },
        "outputId": "6171c629-0fa6-42eb-b894-8d1ae517a877"
      },
      "execution_count": 16,
      "outputs": [
        {
          "output_type": "stream",
          "name": "stdout",
          "text": [
            "{'n_estimators': 451, 'max_depth': 15, 'learning_rate': 0.231, 'reg_alpha': 0.001, 'reg_lambda': 1000}\n"
          ]
        },
        {
          "output_type": "execute_result",
          "data": {
            "text/plain": [
              "XGBRegressor(early_stopping_rounds=50, enable_categorical=False,\n",
              "             eval_metrics=['rmse'], grow_policy='lossguide',\n",
              "             learning_rate=0.231, max_depth=15, n_estimators=451, n_jobs=-1,\n",
              "             objective='reg:squarederror', predictor='gpu_predictor',\n",
              "             random_state=2, reg_alpha=0.001, reg_lambda=1000,\n",
              "             sampling_method='gradient_based', tree_method='gpu_hist')"
            ]
          },
          "metadata": {},
          "execution_count": 16
        }
      ]
    },
    {
      "cell_type": "code",
      "source": [
        "train_pred = model.predict(X_train)\n",
        "test_pred = model.predict(X_test)\n",
        "print(f\"train results - RMSE: {mean_squared_error(y_train, train_pred, squared=False)}, MAE: {mean_absolute_error(y_train, train_pred)}\")\n",
        "print(f\"test results - RMSE: {mean_squared_error(y_test, test_pred, squared=False)}, MAE: {mean_absolute_error(y_test, test_pred)}\")"
      ],
      "metadata": {
        "id": "0XY6-CnD6NjS",
        "colab": {
          "base_uri": "https://localhost:8080/"
        },
        "outputId": "decaddb9-0216-4e00-da13-f80af6f2651c"
      },
      "execution_count": 17,
      "outputs": [
        {
          "output_type": "stream",
          "name": "stdout",
          "text": [
            "train results - RMSE: 3.2362261518450044, MAE: 1.3149471386970468\n",
            "test results - RMSE: 3.609890923011299, MAE: 1.5114058835827424\n"
          ]
        }
      ]
    },
    {
      "cell_type": "code",
      "source": [
        "mean_train = np.mean(y_train)\n",
        "print(f\"Baseline mean model - test RMSE: {np.sqrt(np.mean((y_test - mean_train)**2))}\")\n",
        "print(f\"Baseline mean model - test MAE: {np.mean(np.abs(y_test - mean_train))}\")"
      ],
      "metadata": {
        "colab": {
          "base_uri": "https://localhost:8080/"
        },
        "id": "tQFXGvewRYIY",
        "outputId": "1d404387-98fa-42d2-cc86-983f8f069ce6"
      },
      "execution_count": 18,
      "outputs": [
        {
          "output_type": "stream",
          "name": "stdout",
          "text": [
            "Baseline mean model - test RMSE: 4.312942842075539\n",
            "Baseline mean model - test MAE: 1.9075376592590827\n"
          ]
        }
      ]
    }
  ],
  "metadata": {
    "accelerator": "GPU",
    "colab": {
      "collapsed_sections": [],
      "provenance": []
    },
    "gpuClass": "standard",
    "kernelspec": {
      "display_name": "Python 3",
      "name": "python3"
    },
    "language_info": {
      "name": "python"
    }
  },
  "nbformat": 4,
  "nbformat_minor": 0
}