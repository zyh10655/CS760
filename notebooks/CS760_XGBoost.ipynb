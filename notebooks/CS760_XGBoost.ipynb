{
  "cells": [
    {
      "cell_type": "code",
      "execution_count": 1,
      "metadata": {
        "id": "8Rxxyk2ChCkF",
        "colab": {
          "base_uri": "https://localhost:8080/"
        },
        "outputId": "b931063b-0630-4755-ced5-6413a945a7df"
      },
      "outputs": [
        {
          "output_type": "stream",
          "name": "stdout",
          "text": [
            "\u001b[K     |████████████████████████████████| 348 kB 7.2 MB/s \n",
            "\u001b[K     |████████████████████████████████| 81 kB 6.4 MB/s \n",
            "\u001b[K     |████████████████████████████████| 209 kB 15.5 MB/s \n",
            "\u001b[K     |████████████████████████████████| 78 kB 6.7 MB/s \n",
            "\u001b[K     |████████████████████████████████| 112 kB 16.2 MB/s \n",
            "\u001b[K     |████████████████████████████████| 49 kB 6.0 MB/s \n",
            "\u001b[K     |████████████████████████████████| 147 kB 15.6 MB/s \n",
            "\u001b[?25h  Building wheel for pyperclip (setup.py) ... \u001b[?25l\u001b[?25hdone\n"
          ]
        }
      ],
      "source": [
        "!pip install --quiet optuna"
      ]
    },
    {
      "cell_type": "code",
      "execution_count": 2,
      "metadata": {
        "id": "HEMXBJChhLrP"
      },
      "outputs": [],
      "source": [
        "import numpy as np\n",
        "import pandas as pd\n",
        "import optuna as opt\n",
        "import xgboost as xgb\n",
        "from optuna.samplers import TPESampler\n",
        "from sklearn.preprocessing import StandardScaler\n",
        "from pathlib import Path\n",
        "import gc\n",
        "\n",
        "from sklearn.metrics import mean_absolute_error, mean_squared_error"
      ]
    },
    {
      "cell_type": "code",
      "execution_count": 3,
      "metadata": {
        "colab": {
          "base_uri": "https://localhost:8080/"
        },
        "id": "Gk1DTpCxhSDs",
        "outputId": "8d9f29c2-d2d4-49cd-9512-5b2e2a61e7b3"
      },
      "outputs": [
        {
          "output_type": "stream",
          "name": "stdout",
          "text": [
            "Mounted at /content/drive\n"
          ]
        }
      ],
      "source": [
        "from google.colab import drive\n",
        "drive.mount('/content/drive')"
      ]
    },
    {
      "cell_type": "code",
      "source": [
        "RANDOM_SEED = 2\n",
        "DATA_DIR = Path(\"/content/drive/MyDrive/CS760\")"
      ],
      "metadata": {
        "id": "_f0yPV0biLTV"
      },
      "execution_count": 4,
      "outputs": []
    },
    {
      "cell_type": "code",
      "source": [
        "df_train = pd.read_parquet(DATA_DIR/\"train_main.parquet.snappy\")\n",
        "df_val = pd.read_parquet(DATA_DIR/\"val_main.parquet.snappy\")\n",
        "df_test = pd.read_parquet(DATA_DIR/\"test_main.parquet.snappy\")\n",
        "\n",
        "print(f\"Shape of the training data : {df_train.shape}\")\n",
        "print(f\"Shape of the validation data : {df_val.shape}\")\n",
        "print(f\"Shape of the test data : {df_test.shape}\")"
      ],
      "metadata": {
        "colab": {
          "base_uri": "https://localhost:8080/"
        },
        "id": "yxtSLd7GieIK",
        "outputId": "07adbf2e-68b2-44bb-9fa1-4b83aca167b1"
      },
      "execution_count": 5,
      "outputs": [
        {
          "output_type": "stream",
          "name": "stdout",
          "text": [
            "Shape of the training data : (2060626, 13)\n",
            "Shape of the validation data : (257578, 13)\n",
            "Shape of the test data : (257579, 13)\n"
          ]
        }
      ]
    },
    {
      "cell_type": "code",
      "source": [
        "df_train.describe().T"
      ],
      "metadata": {
        "colab": {
          "base_uri": "https://localhost:8080/",
          "height": 457
        },
        "id": "-QWAvNuoixc1",
        "outputId": "e75e2631-3ae0-40e1-fc66-688f873f3fcd"
      },
      "execution_count": 6,
      "outputs": [
        {
          "output_type": "execute_result",
          "data": {
            "text/plain": [
              "                     count          mean           std           min  \\\n",
              "r_id             2060626.0  3.522730e+06  2.016756e+06  4.000000e+00   \n",
              "r_stars          2060626.0  3.607754e+00  1.538412e+00  1.000000e+00   \n",
              "r_stars_square   2060626.0  1.538260e+01  9.617924e+00  1.000000e+00   \n",
              "r_length         2060626.0  1.332717e+02  1.149773e+02  0.000000e+00   \n",
              "u_friends_count  2060626.0  1.888371e+02  5.663421e+02  1.000000e+00   \n",
              "u_review_count   2060626.0  1.911808e+02  4.966023e+02  0.000000e+00   \n",
              "u_month_age      2060626.0  4.274377e+01  3.454640e+01  3.802649e-07   \n",
              "b_stars          2060626.0  3.742639e+00  7.950195e-01  1.000000e+00   \n",
              "b_review_count   2060626.0  3.371921e+02  6.668911e+02  5.000000e+00   \n",
              "r_sen            2060626.0  1.823936e-01  1.926882e-01 -1.000000e+00   \n",
              "r_sub            2060626.0  4.446208e-01  1.467634e-01  0.000000e+00   \n",
              "r_rea            2060626.0  8.002991e+01  1.121612e+01 -2.670590e+03   \n",
              "r_useful         2060626.0  2.651563e+00  4.713568e+00  1.000000e+00   \n",
              "\n",
              "                          25%           50%           75%           max  \n",
              "r_id             1.803866e+06  3.483320e+06  5.288280e+06  6.990278e+06  \n",
              "r_stars          2.000000e+00  4.000000e+00  5.000000e+00  5.000000e+00  \n",
              "r_stars_square   4.000000e+00  1.600000e+01  2.500000e+01  2.500000e+01  \n",
              "r_length         5.700000e+01  1.010000e+02  1.710000e+02  1.061000e+03  \n",
              "u_friends_count  2.000000e+00  4.000000e+01  1.680000e+02  1.499500e+04  \n",
              "u_review_count   1.100000e+01  4.400000e+01  1.760000e+02  1.747300e+04  \n",
              "u_month_age      1.364517e+01  3.644688e+01  6.515015e+01  2.018375e+02  \n",
              "b_stars          3.500000e+00  4.000000e+00  4.500000e+00  5.000000e+00  \n",
              "b_review_count   4.000000e+01  1.250000e+02  3.410000e+02  7.568000e+03  \n",
              "r_sen            6.007800e-02  1.808695e-01  3.004768e-01  1.000000e+00  \n",
              "r_sub            3.483330e-01  4.416670e-01  5.375000e-01  1.000000e+00  \n",
              "r_rea            7.449000e+01  8.099000e+01  8.640000e+01  2.068400e+02  \n",
              "r_useful         1.000000e+00  2.000000e+00  3.000000e+00  1.182000e+03  "
            ],
            "text/html": [
              "\n",
              "  <div id=\"df-33161d3b-48cb-4a7a-9580-0a7588d5857a\">\n",
              "    <div class=\"colab-df-container\">\n",
              "      <div>\n",
              "<style scoped>\n",
              "    .dataframe tbody tr th:only-of-type {\n",
              "        vertical-align: middle;\n",
              "    }\n",
              "\n",
              "    .dataframe tbody tr th {\n",
              "        vertical-align: top;\n",
              "    }\n",
              "\n",
              "    .dataframe thead th {\n",
              "        text-align: right;\n",
              "    }\n",
              "</style>\n",
              "<table border=\"1\" class=\"dataframe\">\n",
              "  <thead>\n",
              "    <tr style=\"text-align: right;\">\n",
              "      <th></th>\n",
              "      <th>count</th>\n",
              "      <th>mean</th>\n",
              "      <th>std</th>\n",
              "      <th>min</th>\n",
              "      <th>25%</th>\n",
              "      <th>50%</th>\n",
              "      <th>75%</th>\n",
              "      <th>max</th>\n",
              "    </tr>\n",
              "  </thead>\n",
              "  <tbody>\n",
              "    <tr>\n",
              "      <th>r_id</th>\n",
              "      <td>2060626.0</td>\n",
              "      <td>3.522730e+06</td>\n",
              "      <td>2.016756e+06</td>\n",
              "      <td>4.000000e+00</td>\n",
              "      <td>1.803866e+06</td>\n",
              "      <td>3.483320e+06</td>\n",
              "      <td>5.288280e+06</td>\n",
              "      <td>6.990278e+06</td>\n",
              "    </tr>\n",
              "    <tr>\n",
              "      <th>r_stars</th>\n",
              "      <td>2060626.0</td>\n",
              "      <td>3.607754e+00</td>\n",
              "      <td>1.538412e+00</td>\n",
              "      <td>1.000000e+00</td>\n",
              "      <td>2.000000e+00</td>\n",
              "      <td>4.000000e+00</td>\n",
              "      <td>5.000000e+00</td>\n",
              "      <td>5.000000e+00</td>\n",
              "    </tr>\n",
              "    <tr>\n",
              "      <th>r_stars_square</th>\n",
              "      <td>2060626.0</td>\n",
              "      <td>1.538260e+01</td>\n",
              "      <td>9.617924e+00</td>\n",
              "      <td>1.000000e+00</td>\n",
              "      <td>4.000000e+00</td>\n",
              "      <td>1.600000e+01</td>\n",
              "      <td>2.500000e+01</td>\n",
              "      <td>2.500000e+01</td>\n",
              "    </tr>\n",
              "    <tr>\n",
              "      <th>r_length</th>\n",
              "      <td>2060626.0</td>\n",
              "      <td>1.332717e+02</td>\n",
              "      <td>1.149773e+02</td>\n",
              "      <td>0.000000e+00</td>\n",
              "      <td>5.700000e+01</td>\n",
              "      <td>1.010000e+02</td>\n",
              "      <td>1.710000e+02</td>\n",
              "      <td>1.061000e+03</td>\n",
              "    </tr>\n",
              "    <tr>\n",
              "      <th>u_friends_count</th>\n",
              "      <td>2060626.0</td>\n",
              "      <td>1.888371e+02</td>\n",
              "      <td>5.663421e+02</td>\n",
              "      <td>1.000000e+00</td>\n",
              "      <td>2.000000e+00</td>\n",
              "      <td>4.000000e+01</td>\n",
              "      <td>1.680000e+02</td>\n",
              "      <td>1.499500e+04</td>\n",
              "    </tr>\n",
              "    <tr>\n",
              "      <th>u_review_count</th>\n",
              "      <td>2060626.0</td>\n",
              "      <td>1.911808e+02</td>\n",
              "      <td>4.966023e+02</td>\n",
              "      <td>0.000000e+00</td>\n",
              "      <td>1.100000e+01</td>\n",
              "      <td>4.400000e+01</td>\n",
              "      <td>1.760000e+02</td>\n",
              "      <td>1.747300e+04</td>\n",
              "    </tr>\n",
              "    <tr>\n",
              "      <th>u_month_age</th>\n",
              "      <td>2060626.0</td>\n",
              "      <td>4.274377e+01</td>\n",
              "      <td>3.454640e+01</td>\n",
              "      <td>3.802649e-07</td>\n",
              "      <td>1.364517e+01</td>\n",
              "      <td>3.644688e+01</td>\n",
              "      <td>6.515015e+01</td>\n",
              "      <td>2.018375e+02</td>\n",
              "    </tr>\n",
              "    <tr>\n",
              "      <th>b_stars</th>\n",
              "      <td>2060626.0</td>\n",
              "      <td>3.742639e+00</td>\n",
              "      <td>7.950195e-01</td>\n",
              "      <td>1.000000e+00</td>\n",
              "      <td>3.500000e+00</td>\n",
              "      <td>4.000000e+00</td>\n",
              "      <td>4.500000e+00</td>\n",
              "      <td>5.000000e+00</td>\n",
              "    </tr>\n",
              "    <tr>\n",
              "      <th>b_review_count</th>\n",
              "      <td>2060626.0</td>\n",
              "      <td>3.371921e+02</td>\n",
              "      <td>6.668911e+02</td>\n",
              "      <td>5.000000e+00</td>\n",
              "      <td>4.000000e+01</td>\n",
              "      <td>1.250000e+02</td>\n",
              "      <td>3.410000e+02</td>\n",
              "      <td>7.568000e+03</td>\n",
              "    </tr>\n",
              "    <tr>\n",
              "      <th>r_sen</th>\n",
              "      <td>2060626.0</td>\n",
              "      <td>1.823936e-01</td>\n",
              "      <td>1.926882e-01</td>\n",
              "      <td>-1.000000e+00</td>\n",
              "      <td>6.007800e-02</td>\n",
              "      <td>1.808695e-01</td>\n",
              "      <td>3.004768e-01</td>\n",
              "      <td>1.000000e+00</td>\n",
              "    </tr>\n",
              "    <tr>\n",
              "      <th>r_sub</th>\n",
              "      <td>2060626.0</td>\n",
              "      <td>4.446208e-01</td>\n",
              "      <td>1.467634e-01</td>\n",
              "      <td>0.000000e+00</td>\n",
              "      <td>3.483330e-01</td>\n",
              "      <td>4.416670e-01</td>\n",
              "      <td>5.375000e-01</td>\n",
              "      <td>1.000000e+00</td>\n",
              "    </tr>\n",
              "    <tr>\n",
              "      <th>r_rea</th>\n",
              "      <td>2060626.0</td>\n",
              "      <td>8.002991e+01</td>\n",
              "      <td>1.121612e+01</td>\n",
              "      <td>-2.670590e+03</td>\n",
              "      <td>7.449000e+01</td>\n",
              "      <td>8.099000e+01</td>\n",
              "      <td>8.640000e+01</td>\n",
              "      <td>2.068400e+02</td>\n",
              "    </tr>\n",
              "    <tr>\n",
              "      <th>r_useful</th>\n",
              "      <td>2060626.0</td>\n",
              "      <td>2.651563e+00</td>\n",
              "      <td>4.713568e+00</td>\n",
              "      <td>1.000000e+00</td>\n",
              "      <td>1.000000e+00</td>\n",
              "      <td>2.000000e+00</td>\n",
              "      <td>3.000000e+00</td>\n",
              "      <td>1.182000e+03</td>\n",
              "    </tr>\n",
              "  </tbody>\n",
              "</table>\n",
              "</div>\n",
              "      <button class=\"colab-df-convert\" onclick=\"convertToInteractive('df-33161d3b-48cb-4a7a-9580-0a7588d5857a')\"\n",
              "              title=\"Convert this dataframe to an interactive table.\"\n",
              "              style=\"display:none;\">\n",
              "        \n",
              "  <svg xmlns=\"http://www.w3.org/2000/svg\" height=\"24px\"viewBox=\"0 0 24 24\"\n",
              "       width=\"24px\">\n",
              "    <path d=\"M0 0h24v24H0V0z\" fill=\"none\"/>\n",
              "    <path d=\"M18.56 5.44l.94 2.06.94-2.06 2.06-.94-2.06-.94-.94-2.06-.94 2.06-2.06.94zm-11 1L8.5 8.5l.94-2.06 2.06-.94-2.06-.94L8.5 2.5l-.94 2.06-2.06.94zm10 10l.94 2.06.94-2.06 2.06-.94-2.06-.94-.94-2.06-.94 2.06-2.06.94z\"/><path d=\"M17.41 7.96l-1.37-1.37c-.4-.4-.92-.59-1.43-.59-.52 0-1.04.2-1.43.59L10.3 9.45l-7.72 7.72c-.78.78-.78 2.05 0 2.83L4 21.41c.39.39.9.59 1.41.59.51 0 1.02-.2 1.41-.59l7.78-7.78 2.81-2.81c.8-.78.8-2.07 0-2.86zM5.41 20L4 18.59l7.72-7.72 1.47 1.35L5.41 20z\"/>\n",
              "  </svg>\n",
              "      </button>\n",
              "      \n",
              "  <style>\n",
              "    .colab-df-container {\n",
              "      display:flex;\n",
              "      flex-wrap:wrap;\n",
              "      gap: 12px;\n",
              "    }\n",
              "\n",
              "    .colab-df-convert {\n",
              "      background-color: #E8F0FE;\n",
              "      border: none;\n",
              "      border-radius: 50%;\n",
              "      cursor: pointer;\n",
              "      display: none;\n",
              "      fill: #1967D2;\n",
              "      height: 32px;\n",
              "      padding: 0 0 0 0;\n",
              "      width: 32px;\n",
              "    }\n",
              "\n",
              "    .colab-df-convert:hover {\n",
              "      background-color: #E2EBFA;\n",
              "      box-shadow: 0px 1px 2px rgba(60, 64, 67, 0.3), 0px 1px 3px 1px rgba(60, 64, 67, 0.15);\n",
              "      fill: #174EA6;\n",
              "    }\n",
              "\n",
              "    [theme=dark] .colab-df-convert {\n",
              "      background-color: #3B4455;\n",
              "      fill: #D2E3FC;\n",
              "    }\n",
              "\n",
              "    [theme=dark] .colab-df-convert:hover {\n",
              "      background-color: #434B5C;\n",
              "      box-shadow: 0px 1px 3px 1px rgba(0, 0, 0, 0.15);\n",
              "      filter: drop-shadow(0px 1px 2px rgba(0, 0, 0, 0.3));\n",
              "      fill: #FFFFFF;\n",
              "    }\n",
              "  </style>\n",
              "\n",
              "      <script>\n",
              "        const buttonEl =\n",
              "          document.querySelector('#df-33161d3b-48cb-4a7a-9580-0a7588d5857a button.colab-df-convert');\n",
              "        buttonEl.style.display =\n",
              "          google.colab.kernel.accessAllowed ? 'block' : 'none';\n",
              "\n",
              "        async function convertToInteractive(key) {\n",
              "          const element = document.querySelector('#df-33161d3b-48cb-4a7a-9580-0a7588d5857a');\n",
              "          const dataTable =\n",
              "            await google.colab.kernel.invokeFunction('convertToInteractive',\n",
              "                                                     [key], {});\n",
              "          if (!dataTable) return;\n",
              "\n",
              "          const docLinkHtml = 'Like what you see? Visit the ' +\n",
              "            '<a target=\"_blank\" href=https://colab.research.google.com/notebooks/data_table.ipynb>data table notebook</a>'\n",
              "            + ' to learn more about interactive tables.';\n",
              "          element.innerHTML = '';\n",
              "          dataTable['output_type'] = 'display_data';\n",
              "          await google.colab.output.renderOutput(dataTable, element);\n",
              "          const docLink = document.createElement('div');\n",
              "          docLink.innerHTML = docLinkHtml;\n",
              "          element.appendChild(docLink);\n",
              "        }\n",
              "      </script>\n",
              "    </div>\n",
              "  </div>\n",
              "  "
            ]
          },
          "metadata": {},
          "execution_count": 6
        }
      ]
    },
    {
      "cell_type": "code",
      "source": [
        "X_train, y_train = df_train.drop(['r_useful', 'r_id'], axis=1).values, df_train['r_useful'].values\n",
        "X_val, y_val = df_val.drop(['r_useful', 'r_id'], axis=1).values, df_val['r_useful'].values\n",
        "X_test, y_test = df_test.drop(['r_useful', 'r_id'], axis=1).values, df_test['r_useful'].values\n",
        "\n",
        "# standardise the features\n",
        "ss = StandardScaler()\n",
        "X_train = ss.fit_transform(X_train)\n",
        "X_val = ss.transform(X_val)\n",
        "X_test = ss.transform(X_test)"
      ],
      "metadata": {
        "id": "JoK7iekTi7BK"
      },
      "execution_count": 7,
      "outputs": []
    },
    {
      "cell_type": "code",
      "source": [
        "def objective(trial):\n",
        "  \"\"\" Function to tune parameters \"\"\"\n",
        "  gc.collect()\n",
        "  params = {\n",
        "      \"n_estimators\":trial.suggest_int('n_estimators', 1, 1000),\n",
        "      \"max_depth\" : trial.suggest_int(\"max_depth\", 2, 20),\n",
        "      \"learning_rate\" : trial.suggest_float('lr', 1e-2, 3e-1),\n",
        "  }\n",
        "\n",
        "  print(\"Currently running with:\")\n",
        "  print(params)\n",
        "\n",
        "  model = xgb.XGBRegressor(objective=\"reg:squarederror\",\n",
        "                            n_jobs=-1,\n",
        "                            grow_policy='lossguide',\n",
        "                            tree_method=\"gpu_hist\",\n",
        "                            predictor=\"gpu_predictor\",\n",
        "                            booster='gbtree',\n",
        "                            sampling_method='gradient_based',\n",
        "                            eval_metrics=['rmse'], \n",
        "                            random_state=RANDOM_SEED,\n",
        "                            enable_categorical=False,\n",
        "                            early_stopping_rounds=100,\n",
        "                            **params)\n",
        "  \n",
        "  model.fit(X_train, y_train, eval_set=[(X_val, y_val)], verbose=False)\n",
        "  y_pred = model.predict(X_val)\n",
        "\n",
        "  return mean_squared_error(y_val, y_pred, squared=False)\n",
        "\n",
        "study = opt.create_study(direction='minimize', sampler=TPESampler(seed=RANDOM_SEED))\n",
        "study.optimize(objective, n_trials=50)\n",
        "study.best_params"
      ],
      "metadata": {
        "colab": {
          "base_uri": "https://localhost:8080/"
        },
        "id": "iFVNTjoQw8Hc",
        "outputId": "c5810fd9-305c-419b-c0cb-9c47605a41ca"
      },
      "execution_count": 8,
      "outputs": [
        {
          "output_type": "stream",
          "name": "stderr",
          "text": [
            "\u001b[32m[I 2022-09-23 07:15:17,825]\u001b[0m A new study created in memory with name: no-name-90d42e77-4305-4de6-b4c5-8d1c1d4f8566\u001b[0m\n"
          ]
        },
        {
          "output_type": "stream",
          "name": "stdout",
          "text": [
            "Currently running with:\n",
            "{'n_estimators': 436, 'max_depth': 2, 'learning_rate': 0.16940211858482565}\n"
          ]
        },
        {
          "output_type": "stream",
          "name": "stderr",
          "text": [
            "\u001b[32m[I 2022-09-23 07:15:22,515]\u001b[0m Trial 0 finished with value: 3.6350085188926378 and parameters: {'n_estimators': 436, 'max_depth': 2, 'lr': 0.16940211858482565}. Best is trial 0 with value: 3.6350085188926378.\u001b[0m\n"
          ]
        },
        {
          "output_type": "stream",
          "name": "stdout",
          "text": [
            "Currently running with:\n",
            "{'n_estimators': 436, 'max_depth': 9, 'learning_rate': 0.10579709809112349}\n"
          ]
        },
        {
          "output_type": "stream",
          "name": "stderr",
          "text": [
            "\u001b[32m[I 2022-09-23 07:15:38,687]\u001b[0m Trial 1 finished with value: 3.3277683600149843 and parameters: {'n_estimators': 436, 'max_depth': 9, 'lr': 0.10579709809112349}. Best is trial 1 with value: 3.3277683600149843.\u001b[0m\n"
          ]
        },
        {
          "output_type": "stream",
          "name": "stdout",
          "text": [
            "Currently running with:\n",
            "{'n_estimators': 205, 'max_depth': 13, 'learning_rate': 0.0968998553656117}\n"
          ]
        },
        {
          "output_type": "stream",
          "name": "stderr",
          "text": [
            "\u001b[32m[I 2022-09-23 07:16:22,149]\u001b[0m Trial 2 finished with value: 3.34230659649308 and parameters: {'n_estimators': 205, 'max_depth': 13, 'lr': 0.0968998553656117}. Best is trial 1 with value: 3.3277683600149843.\u001b[0m\n"
          ]
        },
        {
          "output_type": "stream",
          "name": "stdout",
          "text": [
            "Currently running with:\n",
            "{'n_estimators': 267, 'max_depth': 13, 'learning_rate': 0.16345120734034133}\n"
          ]
        },
        {
          "output_type": "stream",
          "name": "stderr",
          "text": [
            "\u001b[32m[I 2022-09-23 07:17:20,640]\u001b[0m Trial 3 finished with value: 3.391456058153894 and parameters: {'n_estimators': 267, 'max_depth': 13, 'lr': 0.16345120734034133}. Best is trial 1 with value: 3.3277683600149843.\u001b[0m\n"
          ]
        },
        {
          "output_type": "stream",
          "name": "stdout",
          "text": [
            "Currently running with:\n",
            "{'n_estimators': 135, 'max_depth': 11, 'learning_rate': 0.06348756103760543}\n"
          ]
        },
        {
          "output_type": "stream",
          "name": "stderr",
          "text": [
            "\u001b[32m[I 2022-09-23 07:17:33,264]\u001b[0m Trial 4 finished with value: 3.3684186301683274 and parameters: {'n_estimators': 135, 'max_depth': 11, 'lr': 0.06348756103760543}. Best is trial 1 with value: 3.3277683600149843.\u001b[0m\n"
          ]
        },
        {
          "output_type": "stream",
          "name": "stdout",
          "text": [
            "Currently running with:\n",
            "{'n_estimators': 786, 'max_depth': 18, 'learning_rate': 0.15332868284075907}\n"
          ]
        },
        {
          "output_type": "stream",
          "name": "stderr",
          "text": [
            "\u001b[32m[I 2022-09-23 07:45:59,438]\u001b[0m Trial 5 finished with value: 3.5141601703824286 and parameters: {'n_estimators': 786, 'max_depth': 18, 'lr': 0.15332868284075907}. Best is trial 1 with value: 3.3277683600149843.\u001b[0m\n"
          ]
        },
        {
          "output_type": "stream",
          "name": "stdout",
          "text": [
            "Currently running with:\n",
            "{'n_estimators': 847, 'max_depth': 3, 'learning_rate': 0.15652136613529416}\n"
          ]
        },
        {
          "output_type": "stream",
          "name": "stderr",
          "text": [
            "\u001b[32m[I 2022-09-23 07:46:05,780]\u001b[0m Trial 6 finished with value: 3.499169956159859 and parameters: {'n_estimators': 847, 'max_depth': 3, 'lr': 0.15652136613529416}. Best is trial 1 with value: 3.3277683600149843.\u001b[0m\n"
          ]
        },
        {
          "output_type": "stream",
          "name": "stdout",
          "text": [
            "Currently running with:\n",
            "{'n_estimators': 66, 'max_depth': 10, 'learning_rate': 0.03799396554157764}\n"
          ]
        },
        {
          "output_type": "stream",
          "name": "stderr",
          "text": [
            "\u001b[32m[I 2022-09-23 07:46:10,515]\u001b[0m Trial 7 finished with value: 3.4308284369808155 and parameters: {'n_estimators': 66, 'max_depth': 10, 'lr': 0.03799396554157764}. Best is trial 1 with value: 3.3277683600149843.\u001b[0m\n"
          ]
        },
        {
          "output_type": "stream",
          "name": "stdout",
          "text": [
            "Currently running with:\n",
            "{'n_estimators': 128, 'max_depth': 13, 'learning_rate': 0.0755434801752284}\n"
          ]
        },
        {
          "output_type": "stream",
          "name": "stderr",
          "text": [
            "\u001b[32m[I 2022-09-23 07:46:41,748]\u001b[0m Trial 8 finished with value: 3.3504941432064594 and parameters: {'n_estimators': 128, 'max_depth': 13, 'lr': 0.0755434801752284}. Best is trial 1 with value: 3.3277683600149843.\u001b[0m\n"
          ]
        },
        {
          "output_type": "stream",
          "name": "stdout",
          "text": [
            "Currently running with:\n",
            "{'n_estimators': 107, 'max_depth': 6, 'learning_rate': 0.11144962265095677}\n"
          ]
        },
        {
          "output_type": "stream",
          "name": "stderr",
          "text": [
            "\u001b[32m[I 2022-09-23 07:46:43,619]\u001b[0m Trial 9 finished with value: 3.454732536357315 and parameters: {'n_estimators': 107, 'max_depth': 6, 'lr': 0.11144962265095677}. Best is trial 1 with value: 3.3277683600149843.\u001b[0m\n"
          ]
        },
        {
          "output_type": "stream",
          "name": "stdout",
          "text": [
            "Currently running with:\n",
            "{'n_estimators': 577, 'max_depth': 19, 'learning_rate': 0.2603014690260087}\n"
          ]
        },
        {
          "output_type": "stream",
          "name": "stderr",
          "text": [
            "\u001b[32m[I 2022-09-23 08:12:33,227]\u001b[0m Trial 10 finished with value: 3.6603909238994516 and parameters: {'n_estimators': 577, 'max_depth': 19, 'lr': 0.2603014690260087}. Best is trial 1 with value: 3.3277683600149843.\u001b[0m\n"
          ]
        },
        {
          "output_type": "stream",
          "name": "stdout",
          "text": [
            "Currently running with:\n",
            "{'n_estimators': 415, 'max_depth': 8, 'learning_rate': 0.2195736690437795}\n"
          ]
        },
        {
          "output_type": "stream",
          "name": "stderr",
          "text": [
            "\u001b[32m[I 2022-09-23 08:12:42,587]\u001b[0m Trial 11 finished with value: 3.364696934489284 and parameters: {'n_estimators': 415, 'max_depth': 8, 'lr': 0.2195736690437795}. Best is trial 1 with value: 3.3277683600149843.\u001b[0m\n"
          ]
        },
        {
          "output_type": "stream",
          "name": "stdout",
          "text": [
            "Currently running with:\n",
            "{'n_estimators': 646, 'max_depth': 15, 'learning_rate': 0.11131754261140306}\n"
          ]
        },
        {
          "output_type": "stream",
          "name": "stderr",
          "text": [
            "\u001b[32m[I 2022-09-23 08:18:37,045]\u001b[0m Trial 12 finished with value: 3.397808910436627 and parameters: {'n_estimators': 646, 'max_depth': 15, 'lr': 0.11131754261140306}. Best is trial 1 with value: 3.3277683600149843.\u001b[0m\n"
          ]
        },
        {
          "output_type": "stream",
          "name": "stdout",
          "text": [
            "Currently running with:\n",
            "{'n_estimators': 310, 'max_depth': 7, 'learning_rate': 0.10485038842696312}\n"
          ]
        },
        {
          "output_type": "stream",
          "name": "stderr",
          "text": [
            "\u001b[32m[I 2022-09-23 08:18:42,350]\u001b[0m Trial 13 finished with value: 3.3698784810431 and parameters: {'n_estimators': 310, 'max_depth': 7, 'lr': 0.10485038842696312}. Best is trial 1 with value: 3.3277683600149843.\u001b[0m\n"
          ]
        },
        {
          "output_type": "stream",
          "name": "stdout",
          "text": [
            "Currently running with:\n",
            "{'n_estimators': 295, 'max_depth': 15, 'learning_rate': 0.013669498217078649}\n"
          ]
        },
        {
          "output_type": "stream",
          "name": "stderr",
          "text": [
            "\u001b[32m[I 2022-09-23 08:22:17,867]\u001b[0m Trial 14 finished with value: 3.3664032461488436 and parameters: {'n_estimators': 295, 'max_depth': 15, 'lr': 0.013669498217078649}. Best is trial 1 with value: 3.3277683600149843.\u001b[0m\n"
          ]
        },
        {
          "output_type": "stream",
          "name": "stdout",
          "text": [
            "Currently running with:\n",
            "{'n_estimators': 981, 'max_depth': 9, 'learning_rate': 0.07100824475949939}\n"
          ]
        },
        {
          "output_type": "stream",
          "name": "stderr",
          "text": [
            "\u001b[32m[I 2022-09-23 08:22:49,203]\u001b[0m Trial 15 finished with value: 3.32537625882591 and parameters: {'n_estimators': 981, 'max_depth': 9, 'lr': 0.07100824475949939}. Best is trial 15 with value: 3.32537625882591.\u001b[0m\n"
          ]
        },
        {
          "output_type": "stream",
          "name": "stdout",
          "text": [
            "Currently running with:\n",
            "{'n_estimators': 998, 'max_depth': 5, 'learning_rate': 0.040930601838291086}\n"
          ]
        },
        {
          "output_type": "stream",
          "name": "stderr",
          "text": [
            "\u001b[32m[I 2022-09-23 08:22:59,281]\u001b[0m Trial 16 finished with value: 3.435962460823117 and parameters: {'n_estimators': 998, 'max_depth': 5, 'lr': 0.040930601838291086}. Best is trial 15 with value: 3.32537625882591.\u001b[0m\n"
          ]
        },
        {
          "output_type": "stream",
          "name": "stdout",
          "text": [
            "Currently running with:\n",
            "{'n_estimators': 697, 'max_depth': 9, 'learning_rate': 0.2984089242587392}\n"
          ]
        },
        {
          "output_type": "stream",
          "name": "stderr",
          "text": [
            "\u001b[32m[I 2022-09-23 08:23:22,388]\u001b[0m Trial 17 finished with value: 3.4567032260345307 and parameters: {'n_estimators': 697, 'max_depth': 9, 'lr': 0.2984089242587392}. Best is trial 15 with value: 3.32537625882591.\u001b[0m\n"
          ]
        },
        {
          "output_type": "stream",
          "name": "stdout",
          "text": [
            "Currently running with:\n",
            "{'n_estimators': 981, 'max_depth': 4, 'learning_rate': 0.13670638758171347}\n"
          ]
        },
        {
          "output_type": "stream",
          "name": "stderr",
          "text": [
            "\u001b[32m[I 2022-09-23 08:23:30,666]\u001b[0m Trial 18 finished with value: 3.4426105106691005 and parameters: {'n_estimators': 981, 'max_depth': 4, 'lr': 0.13670638758171347}. Best is trial 15 with value: 3.32537625882591.\u001b[0m\n"
          ]
        },
        {
          "output_type": "stream",
          "name": "stdout",
          "text": [
            "Currently running with:\n",
            "{'n_estimators': 514, 'max_depth': 8, 'learning_rate': 0.20033881178213184}\n"
          ]
        },
        {
          "output_type": "stream",
          "name": "stderr",
          "text": [
            "\u001b[32m[I 2022-09-23 08:23:42,063]\u001b[0m Trial 19 finished with value: 3.413979926586566 and parameters: {'n_estimators': 514, 'max_depth': 8, 'lr': 0.20033881178213184}. Best is trial 15 with value: 3.32537625882591.\u001b[0m\n"
          ]
        },
        {
          "output_type": "stream",
          "name": "stdout",
          "text": [
            "Currently running with:\n",
            "{'n_estimators': 863, 'max_depth': 10, 'learning_rate': 0.06876978180883794}\n"
          ]
        },
        {
          "output_type": "stream",
          "name": "stderr",
          "text": [
            "\u001b[32m[I 2022-09-23 08:24:25,613]\u001b[0m Trial 20 finished with value: 3.316253850550612 and parameters: {'n_estimators': 863, 'max_depth': 10, 'lr': 0.06876978180883794}. Best is trial 20 with value: 3.316253850550612.\u001b[0m\n"
          ]
        },
        {
          "output_type": "stream",
          "name": "stdout",
          "text": [
            "Currently running with:\n",
            "{'n_estimators': 880, 'max_depth': 11, 'learning_rate': 0.07021137898851215}\n"
          ]
        },
        {
          "output_type": "stream",
          "name": "stderr",
          "text": [
            "\u001b[32m[I 2022-09-23 08:25:35,827]\u001b[0m Trial 21 finished with value: 3.3174511167309366 and parameters: {'n_estimators': 880, 'max_depth': 11, 'lr': 0.07021137898851215}. Best is trial 20 with value: 3.316253850550612.\u001b[0m\n"
          ]
        },
        {
          "output_type": "stream",
          "name": "stdout",
          "text": [
            "Currently running with:\n",
            "{'n_estimators': 865, 'max_depth': 11, 'learning_rate': 0.06475352294226047}\n"
          ]
        },
        {
          "output_type": "stream",
          "name": "stderr",
          "text": [
            "\u001b[32m[I 2022-09-23 08:26:45,127]\u001b[0m Trial 22 finished with value: 3.321953460342684 and parameters: {'n_estimators': 865, 'max_depth': 11, 'lr': 0.06475352294226047}. Best is trial 20 with value: 3.316253850550612.\u001b[0m\n"
          ]
        },
        {
          "output_type": "stream",
          "name": "stdout",
          "text": [
            "Currently running with:\n",
            "{'n_estimators': 858, 'max_depth': 11, 'learning_rate': 0.028479918084633224}\n"
          ]
        },
        {
          "output_type": "stream",
          "name": "stderr",
          "text": [
            "\u001b[32m[I 2022-09-23 08:27:53,877]\u001b[0m Trial 23 finished with value: 3.325320405189942 and parameters: {'n_estimators': 858, 'max_depth': 11, 'lr': 0.028479918084633224}. Best is trial 20 with value: 3.316253850550612.\u001b[0m\n"
          ]
        },
        {
          "output_type": "stream",
          "name": "stdout",
          "text": [
            "Currently running with:\n",
            "{'n_estimators': 882, 'max_depth': 15, 'learning_rate': 0.057920571154149225}\n"
          ]
        },
        {
          "output_type": "stream",
          "name": "stderr",
          "text": [
            "\u001b[32m[I 2022-09-23 08:35:25,240]\u001b[0m Trial 24 finished with value: 3.34977317548069 and parameters: {'n_estimators': 882, 'max_depth': 15, 'lr': 0.057920571154149225}. Best is trial 20 with value: 3.316253850550612.\u001b[0m\n"
          ]
        },
        {
          "output_type": "stream",
          "name": "stdout",
          "text": [
            "Currently running with:\n",
            "{'n_estimators': 786, 'max_depth': 12, 'learning_rate': 0.0907557917779474}\n"
          ]
        },
        {
          "output_type": "stream",
          "name": "stderr",
          "text": [
            "\u001b[32m[I 2022-09-23 08:37:07,725]\u001b[0m Trial 25 finished with value: 3.3396755305086825 and parameters: {'n_estimators': 786, 'max_depth': 12, 'lr': 0.0907557917779474}. Best is trial 20 with value: 3.316253850550612.\u001b[0m\n"
          ]
        },
        {
          "output_type": "stream",
          "name": "stdout",
          "text": [
            "Currently running with:\n",
            "{'n_estimators': 685, 'max_depth': 17, 'learning_rate': 0.04900193360742126}\n"
          ]
        },
        {
          "output_type": "stream",
          "name": "stderr",
          "text": [
            "\u001b[32m[I 2022-09-23 08:51:18,052]\u001b[0m Trial 26 finished with value: 3.4250808362403307 and parameters: {'n_estimators': 685, 'max_depth': 17, 'lr': 0.04900193360742126}. Best is trial 20 with value: 3.316253850550612.\u001b[0m\n"
          ]
        },
        {
          "output_type": "stream",
          "name": "stdout",
          "text": [
            "Currently running with:\n",
            "{'n_estimators': 760, 'max_depth': 11, 'learning_rate': 0.1363155479197914}\n"
          ]
        },
        {
          "output_type": "stream",
          "name": "stderr",
          "text": [
            "\u001b[32m[I 2022-09-23 08:52:19,961]\u001b[0m Trial 27 finished with value: 3.369633010592686 and parameters: {'n_estimators': 760, 'max_depth': 11, 'lr': 0.1363155479197914}. Best is trial 20 with value: 3.316253850550612.\u001b[0m\n"
          ]
        },
        {
          "output_type": "stream",
          "name": "stdout",
          "text": [
            "Currently running with:\n",
            "{'n_estimators': 901, 'max_depth': 14, 'learning_rate': 0.01744111564450889}\n"
          ]
        },
        {
          "output_type": "stream",
          "name": "stderr",
          "text": [
            "\u001b[32m[I 2022-09-23 08:57:35,162]\u001b[0m Trial 28 finished with value: 3.33802331165121 and parameters: {'n_estimators': 901, 'max_depth': 14, 'lr': 0.01744111564450889}. Best is trial 20 with value: 3.316253850550612.\u001b[0m\n"
          ]
        },
        {
          "output_type": "stream",
          "name": "stdout",
          "text": [
            "Currently running with:\n",
            "{'n_estimators': 914, 'max_depth': 2, 'learning_rate': 0.1862152616739493}\n"
          ]
        },
        {
          "output_type": "stream",
          "name": "stderr",
          "text": [
            "\u001b[32m[I 2022-09-23 08:57:41,284]\u001b[0m Trial 29 finished with value: 3.5987255526039266 and parameters: {'n_estimators': 914, 'max_depth': 2, 'lr': 0.1862152616739493}. Best is trial 20 with value: 3.316253850550612.\u001b[0m\n"
          ]
        },
        {
          "output_type": "stream",
          "name": "stdout",
          "text": [
            "Currently running with:\n",
            "{'n_estimators': 583, 'max_depth': 10, 'learning_rate': 0.08392201424654089}\n"
          ]
        },
        {
          "output_type": "stream",
          "name": "stderr",
          "text": [
            "\u001b[32m[I 2022-09-23 08:58:10,522]\u001b[0m Trial 30 finished with value: 3.333505384870623 and parameters: {'n_estimators': 583, 'max_depth': 10, 'lr': 0.08392201424654089}. Best is trial 20 with value: 3.316253850550612.\u001b[0m\n"
          ]
        },
        {
          "output_type": "stream",
          "name": "stdout",
          "text": [
            "Currently running with:\n",
            "{'n_estimators': 835, 'max_depth': 12, 'learning_rate': 0.04226055006926836}\n"
          ]
        },
        {
          "output_type": "stream",
          "name": "stderr",
          "text": [
            "\u001b[32m[I 2022-09-23 08:59:56,925]\u001b[0m Trial 31 finished with value: 3.3150649508003984 and parameters: {'n_estimators': 835, 'max_depth': 12, 'lr': 0.04226055006926836}. Best is trial 31 with value: 3.3150649508003984.\u001b[0m\n"
          ]
        },
        {
          "output_type": "stream",
          "name": "stdout",
          "text": [
            "Currently running with:\n",
            "{'n_estimators': 750, 'max_depth': 12, 'learning_rate': 0.051938708328612346}\n"
          ]
        },
        {
          "output_type": "stream",
          "name": "stderr",
          "text": [
            "\u001b[32m[I 2022-09-23 09:01:31,491]\u001b[0m Trial 32 finished with value: 3.3183330248003693 and parameters: {'n_estimators': 750, 'max_depth': 12, 'lr': 0.051938708328612346}. Best is trial 31 with value: 3.3150649508003984.\u001b[0m\n"
          ]
        },
        {
          "output_type": "stream",
          "name": "stdout",
          "text": [
            "Currently running with:\n",
            "{'n_estimators': 735, 'max_depth': 12, 'learning_rate': 0.02806710440388869}\n"
          ]
        },
        {
          "output_type": "stream",
          "name": "stderr",
          "text": [
            "\u001b[32m[I 2022-09-23 09:03:07,450]\u001b[0m Trial 33 finished with value: 3.313289183689388 and parameters: {'n_estimators': 735, 'max_depth': 12, 'lr': 0.02806710440388869}. Best is trial 33 with value: 3.313289183689388.\u001b[0m\n"
          ]
        },
        {
          "output_type": "stream",
          "name": "stdout",
          "text": [
            "Currently running with:\n",
            "{'n_estimators': 813, 'max_depth': 16, 'learning_rate': 0.02524668065414425}\n"
          ]
        },
        {
          "output_type": "stream",
          "name": "stderr",
          "text": [
            "\u001b[32m[I 2022-09-23 09:14:28,113]\u001b[0m Trial 34 finished with value: 3.3718300075355976 and parameters: {'n_estimators': 813, 'max_depth': 16, 'lr': 0.02524668065414425}. Best is trial 33 with value: 3.313289183689388.\u001b[0m\n"
          ]
        },
        {
          "output_type": "stream",
          "name": "stdout",
          "text": [
            "Currently running with:\n",
            "{'n_estimators': 933, 'max_depth': 13, 'learning_rate': 0.12461749673147965}\n"
          ]
        },
        {
          "output_type": "stream",
          "name": "stderr",
          "text": [
            "\u001b[32m[I 2022-09-23 09:17:49,959]\u001b[0m Trial 35 finished with value: 3.3791169464906954 and parameters: {'n_estimators': 933, 'max_depth': 13, 'lr': 0.12461749673147965}. Best is trial 33 with value: 3.313289183689388.\u001b[0m\n"
          ]
        },
        {
          "output_type": "stream",
          "name": "stdout",
          "text": [
            "Currently running with:\n",
            "{'n_estimators': 729, 'max_depth': 12, 'learning_rate': 0.035057564389710194}\n"
          ]
        },
        {
          "output_type": "stream",
          "name": "stderr",
          "text": [
            "\u001b[32m[I 2022-09-23 09:19:24,260]\u001b[0m Trial 36 finished with value: 3.3032036377549625 and parameters: {'n_estimators': 729, 'max_depth': 12, 'lr': 0.035057564389710194}. Best is trial 36 with value: 3.3032036377549625.\u001b[0m\n"
          ]
        },
        {
          "output_type": "stream",
          "name": "stdout",
          "text": [
            "Currently running with:\n",
            "{'n_estimators': 634, 'max_depth': 14, 'learning_rate': 0.03335870984268673}\n"
          ]
        },
        {
          "output_type": "stream",
          "name": "stderr",
          "text": [
            "\u001b[32m[I 2022-09-23 09:22:51,423]\u001b[0m Trial 37 finished with value: 3.340201052852342 and parameters: {'n_estimators': 634, 'max_depth': 14, 'lr': 0.03335870984268673}. Best is trial 36 with value: 3.3032036377549625.\u001b[0m\n"
          ]
        },
        {
          "output_type": "stream",
          "name": "stdout",
          "text": [
            "Currently running with:\n",
            "{'n_estimators': 684, 'max_depth': 12, 'learning_rate': 0.010422576153280145}\n"
          ]
        },
        {
          "output_type": "stream",
          "name": "stderr",
          "text": [
            "\u001b[32m[I 2022-09-23 09:24:36,194]\u001b[0m Trial 38 finished with value: 3.337440321115541 and parameters: {'n_estimators': 684, 'max_depth': 12, 'lr': 0.010422576153280145}. Best is trial 36 with value: 3.3032036377549625.\u001b[0m\n"
          ]
        },
        {
          "output_type": "stream",
          "name": "stdout",
          "text": [
            "Currently running with:\n",
            "{'n_estimators': 738, 'max_depth': 10, 'learning_rate': 0.04603868957685672}\n"
          ]
        },
        {
          "output_type": "stream",
          "name": "stderr",
          "text": [
            "\u001b[32m[I 2022-09-23 09:25:13,372]\u001b[0m Trial 39 finished with value: 3.327681143517943 and parameters: {'n_estimators': 738, 'max_depth': 10, 'lr': 0.04603868957685672}. Best is trial 36 with value: 3.3032036377549625.\u001b[0m\n"
          ]
        },
        {
          "output_type": "stream",
          "name": "stdout",
          "text": [
            "Currently running with:\n",
            "{'n_estimators': 485, 'max_depth': 14, 'learning_rate': 0.08973363214720242}\n"
          ]
        },
        {
          "output_type": "stream",
          "name": "stderr",
          "text": [
            "\u001b[32m[I 2022-09-23 09:27:57,836]\u001b[0m Trial 40 finished with value: 3.359159474295807 and parameters: {'n_estimators': 485, 'max_depth': 14, 'lr': 0.08973363214720242}. Best is trial 36 with value: 3.3032036377549625.\u001b[0m\n"
          ]
        },
        {
          "output_type": "stream",
          "name": "stdout",
          "text": [
            "Currently running with:\n",
            "{'n_estimators': 813, 'max_depth': 12, 'learning_rate': 0.07528882500178732}\n"
          ]
        },
        {
          "output_type": "stream",
          "name": "stderr",
          "text": [
            "\u001b[32m[I 2022-09-23 09:29:44,838]\u001b[0m Trial 41 finished with value: 3.329910520890744 and parameters: {'n_estimators': 813, 'max_depth': 12, 'lr': 0.07528882500178732}. Best is trial 36 with value: 3.3032036377549625.\u001b[0m\n"
          ]
        },
        {
          "output_type": "stream",
          "name": "stdout",
          "text": [
            "Currently running with:\n",
            "{'n_estimators': 831, 'max_depth': 10, 'learning_rate': 0.05640741670520527}\n"
          ]
        },
        {
          "output_type": "stream",
          "name": "stderr",
          "text": [
            "\u001b[32m[I 2022-09-23 09:30:25,990]\u001b[0m Trial 42 finished with value: 3.3150104838744165 and parameters: {'n_estimators': 831, 'max_depth': 10, 'lr': 0.05640741670520527}. Best is trial 36 with value: 3.3032036377549625.\u001b[0m\n"
          ]
        },
        {
          "output_type": "stream",
          "name": "stdout",
          "text": [
            "Currently running with:\n",
            "{'n_estimators': 810, 'max_depth': 10, 'learning_rate': 0.039827078243577875}\n"
          ]
        },
        {
          "output_type": "stream",
          "name": "stderr",
          "text": [
            "\u001b[32m[I 2022-09-23 09:31:06,621]\u001b[0m Trial 43 finished with value: 3.325714485812639 and parameters: {'n_estimators': 810, 'max_depth': 10, 'lr': 0.039827078243577875}. Best is trial 36 with value: 3.3032036377549625.\u001b[0m\n"
          ]
        },
        {
          "output_type": "stream",
          "name": "stdout",
          "text": [
            "Currently running with:\n",
            "{'n_estimators': 940, 'max_depth': 8, 'learning_rate': 0.02824271177876824}\n"
          ]
        },
        {
          "output_type": "stream",
          "name": "stderr",
          "text": [
            "\u001b[32m[I 2022-09-23 09:31:27,817]\u001b[0m Trial 44 finished with value: 3.366241010746222 and parameters: {'n_estimators': 940, 'max_depth': 8, 'lr': 0.02824271177876824}. Best is trial 36 with value: 3.3032036377549625.\u001b[0m\n"
          ]
        },
        {
          "output_type": "stream",
          "name": "stdout",
          "text": [
            "Currently running with:\n",
            "{'n_estimators': 613, 'max_depth': 9, 'learning_rate': 0.05238720664040551}\n"
          ]
        },
        {
          "output_type": "stream",
          "name": "stderr",
          "text": [
            "\u001b[32m[I 2022-09-23 09:31:48,268]\u001b[0m Trial 45 finished with value: 3.323649703048148 and parameters: {'n_estimators': 613, 'max_depth': 9, 'lr': 0.05238720664040551}. Best is trial 36 with value: 3.3032036377549625.\u001b[0m\n"
          ]
        },
        {
          "output_type": "stream",
          "name": "stdout",
          "text": [
            "Currently running with:\n",
            "{'n_estimators': 727, 'max_depth': 7, 'learning_rate': 0.06037034548556225}\n"
          ]
        },
        {
          "output_type": "stream",
          "name": "stderr",
          "text": [
            "\u001b[32m[I 2022-09-23 09:31:59,937]\u001b[0m Trial 46 finished with value: 3.3550973663782457 and parameters: {'n_estimators': 727, 'max_depth': 7, 'lr': 0.06037034548556225}. Best is trial 36 with value: 3.3032036377549625.\u001b[0m\n"
          ]
        },
        {
          "output_type": "stream",
          "name": "stdout",
          "text": [
            "Currently running with:\n",
            "{'n_estimators': 841, 'max_depth': 20, 'learning_rate': 0.019954307418179544}\n"
          ]
        },
        {
          "output_type": "stream",
          "name": "stderr",
          "text": [
            "\u001b[32m[I 2022-09-23 10:26:06,956]\u001b[0m Trial 47 finished with value: 3.565825137106448 and parameters: {'n_estimators': 841, 'max_depth': 20, 'lr': 0.019954307418179544}. Best is trial 36 with value: 3.3032036377549625.\u001b[0m\n"
          ]
        },
        {
          "output_type": "stream",
          "name": "stdout",
          "text": [
            "Currently running with:\n",
            "{'n_estimators': 361, 'max_depth': 13, 'learning_rate': 0.08306189615616857}\n"
          ]
        },
        {
          "output_type": "stream",
          "name": "stderr",
          "text": [
            "\u001b[32m[I 2022-09-23 10:27:22,860]\u001b[0m Trial 48 finished with value: 3.3451023834888325 and parameters: {'n_estimators': 361, 'max_depth': 13, 'lr': 0.08306189615616857}. Best is trial 36 with value: 3.3032036377549625.\u001b[0m\n"
          ]
        },
        {
          "output_type": "stream",
          "name": "stdout",
          "text": [
            "Currently running with:\n",
            "{'n_estimators': 772, 'max_depth': 10, 'learning_rate': 0.03990043913833198}\n"
          ]
        },
        {
          "output_type": "stream",
          "name": "stderr",
          "text": [
            "\u001b[32m[I 2022-09-23 10:28:02,263]\u001b[0m Trial 49 finished with value: 3.3306879761483645 and parameters: {'n_estimators': 772, 'max_depth': 10, 'lr': 0.03990043913833198}. Best is trial 36 with value: 3.3032036377549625.\u001b[0m\n"
          ]
        },
        {
          "output_type": "execute_result",
          "data": {
            "text/plain": [
              "{'n_estimators': 729, 'max_depth': 12, 'lr': 0.035057564389710194}"
            ]
          },
          "metadata": {},
          "execution_count": 8
        }
      ]
    },
    {
      "cell_type": "code",
      "source": [
        "model = xgb.XGBRegressor(objective=\"reg:squarederror\",\n",
        "                          n_jobs=-1,\n",
        "                          grow_policy='lossguide',\n",
        "                          tree_method=\"gpu_hist\",\n",
        "                          predictor=\"gpu_predictor\",\n",
        "                          booster='gbtree',\n",
        "                          sampling_method='gradient_based',\n",
        "                          eval_metrics=['rmse'],\n",
        "                          random_state=RANDOM_SEED,\n",
        "                          enable_categorical=False,\n",
        "                          early_stopping_rounds=100,\n",
        "                          **study.best_params)\n",
        "model.fit(X_train, y_train, eval_set=[(X_val, y_val)], verbose=False)"
      ],
      "metadata": {
        "id": "9BCwlu6b6FcI",
        "colab": {
          "base_uri": "https://localhost:8080/"
        },
        "outputId": "b9de6f00-a95c-4cf6-9514-3f6b9c94c8b4"
      },
      "execution_count": 10,
      "outputs": [
        {
          "output_type": "execute_result",
          "data": {
            "text/plain": [
              "XGBRegressor(early_stopping_rounds=100, enable_categorical=False,\n",
              "             eval_metrics=['rmse'], grow_policy='lossguide',\n",
              "             lr=0.035057564389710194, max_depth=12, n_estimators=729, n_jobs=-1,\n",
              "             objective='reg:squarederror', predictor='gpu_predictor',\n",
              "             random_state=2, sampling_method='gradient_based',\n",
              "             tree_method='gpu_hist')"
            ]
          },
          "metadata": {},
          "execution_count": 10
        }
      ]
    },
    {
      "cell_type": "code",
      "source": [
        "train_pred = model.predict(X_train)\n",
        "test_pred = model.predict(X_test)\n",
        "print(f\"train results - RMSE: {mean_squared_error(y_train, train_pred, squared=False)}, MAE: {mean_absolute_error(y_train, train_pred)}\")\n",
        "print(f\"test results - RMSE: {mean_squared_error(y_test, test_pred, squared=False)}, MAE: {mean_absolute_error(y_test, test_pred)}\")"
      ],
      "metadata": {
        "id": "0XY6-CnD6NjS",
        "colab": {
          "base_uri": "https://localhost:8080/"
        },
        "outputId": "c89c07c5-137f-4232-cf9d-c6da83ab724d"
      },
      "execution_count": 11,
      "outputs": [
        {
          "output_type": "stream",
          "name": "stdout",
          "text": [
            "train results - RMSE: 1.7048513955227107, MAE: 1.0215062964365695\n",
            "test results - RMSE: 3.7631706447347137, MAE: 1.5170065674559365\n"
          ]
        }
      ]
    },
    {
      "cell_type": "code",
      "source": [
        "mean_train = np.mean(y_train)\n",
        "print(f\"Baseline mean model - test RMSE: {np.sqrt(np.mean((y_test - mean_train)**2))}\")\n",
        "print(f\"Baseline mean model - test MAE: {np.mean(np.abs(y_test - mean_train))}\")"
      ],
      "metadata": {
        "colab": {
          "base_uri": "https://localhost:8080/"
        },
        "id": "tQFXGvewRYIY",
        "outputId": "448c7530-5628-4d61-d801-75f45e230244"
      },
      "execution_count": 12,
      "outputs": [
        {
          "output_type": "stream",
          "name": "stdout",
          "text": [
            "Baseline mean model - test RMSE: 4.312942842075539\n",
            "Baseline mean model - test MAE: 1.9075376592590827\n"
          ]
        }
      ]
    }
  ],
  "metadata": {
    "accelerator": "GPU",
    "colab": {
      "collapsed_sections": [],
      "provenance": []
    },
    "gpuClass": "standard",
    "kernelspec": {
      "display_name": "Python 3",
      "name": "python3"
    },
    "language_info": {
      "name": "python"
    }
  },
  "nbformat": 4,
  "nbformat_minor": 0
}