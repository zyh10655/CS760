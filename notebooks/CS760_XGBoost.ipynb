{
  "cells": [
    {
      "cell_type": "code",
      "execution_count": 9,
      "metadata": {
        "id": "8Rxxyk2ChCkF"
      },
      "outputs": [],
      "source": [
        "!pip install --quiet optuna"
      ]
    },
    {
      "cell_type": "code",
      "execution_count": 10,
      "metadata": {
        "id": "HEMXBJChhLrP"
      },
      "outputs": [],
      "source": [
        "import numpy as np\n",
        "import pandas as pd\n",
        "import optuna as opt\n",
        "import xgboost as xgb\n",
        "from optuna.samplers import TPESampler\n",
        "from sklearn.pipeline import make_pipeline\n",
        "from sklearn.preprocessing import StandardScaler\n",
        "from sklearn.model_selection import KFold, cross_val_score\n",
        "from pathlib import Path\n",
        "import gc\n",
        "\n",
        "from sklearn.metrics import mean_absolute_error, mean_squared_error"
      ]
    },
    {
      "cell_type": "code",
      "execution_count": 11,
      "metadata": {
        "id": "Gk1DTpCxhSDs",
        "colab": {
          "base_uri": "https://localhost:8080/"
        },
        "outputId": "966caf91-bfda-437e-bcea-bd32758782b3"
      },
      "outputs": [
        {
          "output_type": "stream",
          "name": "stdout",
          "text": [
            "Drive already mounted at /content/drive; to attempt to forcibly remount, call drive.mount(\"/content/drive\", force_remount=True).\n"
          ]
        }
      ],
      "source": [
        "from google.colab import drive\n",
        "drive.mount('/content/drive')"
      ]
    },
    {
      "cell_type": "code",
      "source": [
        "RANDOM_SEED = 2\n",
        "DATA_DIR = Path(\"/content/drive/MyDrive/CS760\")"
      ],
      "metadata": {
        "id": "_f0yPV0biLTV"
      },
      "execution_count": 12,
      "outputs": []
    },
    {
      "cell_type": "code",
      "source": [
        "df_train = pd.read_parquet(DATA_DIR/\"train_main.parquet.snappy\")\n",
        "df_test = pd.read_parquet(DATA_DIR/\"test_main.parquet.snappy\")\n",
        "\n",
        "print(f\"Shape of the training data : {df_train.shape}\")\n",
        "print(f\"Shape of the test data : {df_test.shape}\")"
      ],
      "metadata": {
        "id": "yxtSLd7GieIK",
        "colab": {
          "base_uri": "https://localhost:8080/"
        },
        "outputId": "98438eaf-fcac-4ba7-b0c7-0599aeea662f"
      },
      "execution_count": 13,
      "outputs": [
        {
          "output_type": "stream",
          "name": "stdout",
          "text": [
            "Shape of the training data : (400000, 13)\n",
            "Shape of the test data : (100000, 13)\n"
          ]
        }
      ]
    },
    {
      "cell_type": "code",
      "source": [
        "df_train.describe().T"
      ],
      "metadata": {
        "id": "-QWAvNuoixc1",
        "colab": {
          "base_uri": "https://localhost:8080/",
          "height": 457
        },
        "outputId": "d8b1b302-4781-465a-c3bf-a6d81d1c2df3"
      },
      "execution_count": 14,
      "outputs": [
        {
          "output_type": "execute_result",
          "data": {
            "text/plain": [
              "                    count          mean           std           min  \\\n",
              "r_id             400000.0  3.525889e+06  2.018260e+06  1.900000e+01   \n",
              "r_stars          400000.0  3.607683e+00  1.539312e+00  1.000000e+00   \n",
              "r_stars_square   400000.0  1.538485e+01  9.625009e+00  1.000000e+00   \n",
              "r_length         400000.0  1.332325e+02  1.149695e+02  0.000000e+00   \n",
              "u_friends_count  400000.0  1.899421e+02  5.735422e+02  1.000000e+00   \n",
              "u_review_count   400000.0  1.915879e+02  5.024456e+02  0.000000e+00   \n",
              "u_month_age      400000.0  4.277618e+01  3.456388e+01  3.802649e-07   \n",
              "b_stars          400000.0  3.744636e+00  7.930024e-01  1.000000e+00   \n",
              "b_review_count   400000.0  3.346235e+02  6.589277e+02  5.000000e+00   \n",
              "r_sen            400000.0  1.821748e-01  1.927162e-01 -1.000000e+00   \n",
              "r_sub            400000.0  4.444842e-01  1.468345e-01  0.000000e+00   \n",
              "r_rea            400000.0  8.004173e+01  1.089027e+01 -4.695200e+02   \n",
              "r_useful         400000.0  2.639448e+00  4.087445e+00  1.000000e+00   \n",
              "\n",
              "                          25%           50%           75%           max  \n",
              "r_id             1.807686e+06  3.486237e+06  5.294850e+06  6.990280e+06  \n",
              "r_stars          2.000000e+00  4.000000e+00  5.000000e+00  5.000000e+00  \n",
              "r_stars_square   4.000000e+00  1.600000e+01  2.500000e+01  2.500000e+01  \n",
              "r_length         5.700000e+01  1.010000e+02  1.700000e+02  1.068000e+03  \n",
              "u_friends_count  2.000000e+00  4.000000e+01  1.680000e+02  1.499500e+04  \n",
              "u_review_count   1.100000e+01  4.400000e+01  1.760000e+02  1.747300e+04  \n",
              "u_month_age      1.362863e+01  3.651231e+01  6.514719e+01  2.017248e+02  \n",
              "b_stars          3.500000e+00  4.000000e+00  4.500000e+00  5.000000e+00  \n",
              "b_review_count   3.900000e+01  1.250000e+02  3.410000e+02  7.568000e+03  \n",
              "r_sen            6.000000e-02  1.805560e-01  3.001218e-01  1.000000e+00  \n",
              "r_sub            3.480770e-01  4.412410e-01  5.375000e-01  1.000000e+00  \n",
              "r_rea            7.442000e+01  8.102000e+01  8.640000e+01  2.068400e+02  \n",
              "r_useful         1.000000e+00  2.000000e+00  3.000000e+00  3.990000e+02  "
            ],
            "text/html": [
              "\n",
              "  <div id=\"df-c04ccba2-dda4-4768-8859-1c38d4c784fc\">\n",
              "    <div class=\"colab-df-container\">\n",
              "      <div>\n",
              "<style scoped>\n",
              "    .dataframe tbody tr th:only-of-type {\n",
              "        vertical-align: middle;\n",
              "    }\n",
              "\n",
              "    .dataframe tbody tr th {\n",
              "        vertical-align: top;\n",
              "    }\n",
              "\n",
              "    .dataframe thead th {\n",
              "        text-align: right;\n",
              "    }\n",
              "</style>\n",
              "<table border=\"1\" class=\"dataframe\">\n",
              "  <thead>\n",
              "    <tr style=\"text-align: right;\">\n",
              "      <th></th>\n",
              "      <th>count</th>\n",
              "      <th>mean</th>\n",
              "      <th>std</th>\n",
              "      <th>min</th>\n",
              "      <th>25%</th>\n",
              "      <th>50%</th>\n",
              "      <th>75%</th>\n",
              "      <th>max</th>\n",
              "    </tr>\n",
              "  </thead>\n",
              "  <tbody>\n",
              "    <tr>\n",
              "      <th>r_id</th>\n",
              "      <td>400000.0</td>\n",
              "      <td>3.525889e+06</td>\n",
              "      <td>2.018260e+06</td>\n",
              "      <td>1.900000e+01</td>\n",
              "      <td>1.807686e+06</td>\n",
              "      <td>3.486237e+06</td>\n",
              "      <td>5.294850e+06</td>\n",
              "      <td>6.990280e+06</td>\n",
              "    </tr>\n",
              "    <tr>\n",
              "      <th>r_stars</th>\n",
              "      <td>400000.0</td>\n",
              "      <td>3.607683e+00</td>\n",
              "      <td>1.539312e+00</td>\n",
              "      <td>1.000000e+00</td>\n",
              "      <td>2.000000e+00</td>\n",
              "      <td>4.000000e+00</td>\n",
              "      <td>5.000000e+00</td>\n",
              "      <td>5.000000e+00</td>\n",
              "    </tr>\n",
              "    <tr>\n",
              "      <th>r_stars_square</th>\n",
              "      <td>400000.0</td>\n",
              "      <td>1.538485e+01</td>\n",
              "      <td>9.625009e+00</td>\n",
              "      <td>1.000000e+00</td>\n",
              "      <td>4.000000e+00</td>\n",
              "      <td>1.600000e+01</td>\n",
              "      <td>2.500000e+01</td>\n",
              "      <td>2.500000e+01</td>\n",
              "    </tr>\n",
              "    <tr>\n",
              "      <th>r_length</th>\n",
              "      <td>400000.0</td>\n",
              "      <td>1.332325e+02</td>\n",
              "      <td>1.149695e+02</td>\n",
              "      <td>0.000000e+00</td>\n",
              "      <td>5.700000e+01</td>\n",
              "      <td>1.010000e+02</td>\n",
              "      <td>1.700000e+02</td>\n",
              "      <td>1.068000e+03</td>\n",
              "    </tr>\n",
              "    <tr>\n",
              "      <th>u_friends_count</th>\n",
              "      <td>400000.0</td>\n",
              "      <td>1.899421e+02</td>\n",
              "      <td>5.735422e+02</td>\n",
              "      <td>1.000000e+00</td>\n",
              "      <td>2.000000e+00</td>\n",
              "      <td>4.000000e+01</td>\n",
              "      <td>1.680000e+02</td>\n",
              "      <td>1.499500e+04</td>\n",
              "    </tr>\n",
              "    <tr>\n",
              "      <th>u_review_count</th>\n",
              "      <td>400000.0</td>\n",
              "      <td>1.915879e+02</td>\n",
              "      <td>5.024456e+02</td>\n",
              "      <td>0.000000e+00</td>\n",
              "      <td>1.100000e+01</td>\n",
              "      <td>4.400000e+01</td>\n",
              "      <td>1.760000e+02</td>\n",
              "      <td>1.747300e+04</td>\n",
              "    </tr>\n",
              "    <tr>\n",
              "      <th>u_month_age</th>\n",
              "      <td>400000.0</td>\n",
              "      <td>4.277618e+01</td>\n",
              "      <td>3.456388e+01</td>\n",
              "      <td>3.802649e-07</td>\n",
              "      <td>1.362863e+01</td>\n",
              "      <td>3.651231e+01</td>\n",
              "      <td>6.514719e+01</td>\n",
              "      <td>2.017248e+02</td>\n",
              "    </tr>\n",
              "    <tr>\n",
              "      <th>b_stars</th>\n",
              "      <td>400000.0</td>\n",
              "      <td>3.744636e+00</td>\n",
              "      <td>7.930024e-01</td>\n",
              "      <td>1.000000e+00</td>\n",
              "      <td>3.500000e+00</td>\n",
              "      <td>4.000000e+00</td>\n",
              "      <td>4.500000e+00</td>\n",
              "      <td>5.000000e+00</td>\n",
              "    </tr>\n",
              "    <tr>\n",
              "      <th>b_review_count</th>\n",
              "      <td>400000.0</td>\n",
              "      <td>3.346235e+02</td>\n",
              "      <td>6.589277e+02</td>\n",
              "      <td>5.000000e+00</td>\n",
              "      <td>3.900000e+01</td>\n",
              "      <td>1.250000e+02</td>\n",
              "      <td>3.410000e+02</td>\n",
              "      <td>7.568000e+03</td>\n",
              "    </tr>\n",
              "    <tr>\n",
              "      <th>r_sen</th>\n",
              "      <td>400000.0</td>\n",
              "      <td>1.821748e-01</td>\n",
              "      <td>1.927162e-01</td>\n",
              "      <td>-1.000000e+00</td>\n",
              "      <td>6.000000e-02</td>\n",
              "      <td>1.805560e-01</td>\n",
              "      <td>3.001218e-01</td>\n",
              "      <td>1.000000e+00</td>\n",
              "    </tr>\n",
              "    <tr>\n",
              "      <th>r_sub</th>\n",
              "      <td>400000.0</td>\n",
              "      <td>4.444842e-01</td>\n",
              "      <td>1.468345e-01</td>\n",
              "      <td>0.000000e+00</td>\n",
              "      <td>3.480770e-01</td>\n",
              "      <td>4.412410e-01</td>\n",
              "      <td>5.375000e-01</td>\n",
              "      <td>1.000000e+00</td>\n",
              "    </tr>\n",
              "    <tr>\n",
              "      <th>r_rea</th>\n",
              "      <td>400000.0</td>\n",
              "      <td>8.004173e+01</td>\n",
              "      <td>1.089027e+01</td>\n",
              "      <td>-4.695200e+02</td>\n",
              "      <td>7.442000e+01</td>\n",
              "      <td>8.102000e+01</td>\n",
              "      <td>8.640000e+01</td>\n",
              "      <td>2.068400e+02</td>\n",
              "    </tr>\n",
              "    <tr>\n",
              "      <th>r_useful</th>\n",
              "      <td>400000.0</td>\n",
              "      <td>2.639448e+00</td>\n",
              "      <td>4.087445e+00</td>\n",
              "      <td>1.000000e+00</td>\n",
              "      <td>1.000000e+00</td>\n",
              "      <td>2.000000e+00</td>\n",
              "      <td>3.000000e+00</td>\n",
              "      <td>3.990000e+02</td>\n",
              "    </tr>\n",
              "  </tbody>\n",
              "</table>\n",
              "</div>\n",
              "      <button class=\"colab-df-convert\" onclick=\"convertToInteractive('df-c04ccba2-dda4-4768-8859-1c38d4c784fc')\"\n",
              "              title=\"Convert this dataframe to an interactive table.\"\n",
              "              style=\"display:none;\">\n",
              "        \n",
              "  <svg xmlns=\"http://www.w3.org/2000/svg\" height=\"24px\"viewBox=\"0 0 24 24\"\n",
              "       width=\"24px\">\n",
              "    <path d=\"M0 0h24v24H0V0z\" fill=\"none\"/>\n",
              "    <path d=\"M18.56 5.44l.94 2.06.94-2.06 2.06-.94-2.06-.94-.94-2.06-.94 2.06-2.06.94zm-11 1L8.5 8.5l.94-2.06 2.06-.94-2.06-.94L8.5 2.5l-.94 2.06-2.06.94zm10 10l.94 2.06.94-2.06 2.06-.94-2.06-.94-.94-2.06-.94 2.06-2.06.94z\"/><path d=\"M17.41 7.96l-1.37-1.37c-.4-.4-.92-.59-1.43-.59-.52 0-1.04.2-1.43.59L10.3 9.45l-7.72 7.72c-.78.78-.78 2.05 0 2.83L4 21.41c.39.39.9.59 1.41.59.51 0 1.02-.2 1.41-.59l7.78-7.78 2.81-2.81c.8-.78.8-2.07 0-2.86zM5.41 20L4 18.59l7.72-7.72 1.47 1.35L5.41 20z\"/>\n",
              "  </svg>\n",
              "      </button>\n",
              "      \n",
              "  <style>\n",
              "    .colab-df-container {\n",
              "      display:flex;\n",
              "      flex-wrap:wrap;\n",
              "      gap: 12px;\n",
              "    }\n",
              "\n",
              "    .colab-df-convert {\n",
              "      background-color: #E8F0FE;\n",
              "      border: none;\n",
              "      border-radius: 50%;\n",
              "      cursor: pointer;\n",
              "      display: none;\n",
              "      fill: #1967D2;\n",
              "      height: 32px;\n",
              "      padding: 0 0 0 0;\n",
              "      width: 32px;\n",
              "    }\n",
              "\n",
              "    .colab-df-convert:hover {\n",
              "      background-color: #E2EBFA;\n",
              "      box-shadow: 0px 1px 2px rgba(60, 64, 67, 0.3), 0px 1px 3px 1px rgba(60, 64, 67, 0.15);\n",
              "      fill: #174EA6;\n",
              "    }\n",
              "\n",
              "    [theme=dark] .colab-df-convert {\n",
              "      background-color: #3B4455;\n",
              "      fill: #D2E3FC;\n",
              "    }\n",
              "\n",
              "    [theme=dark] .colab-df-convert:hover {\n",
              "      background-color: #434B5C;\n",
              "      box-shadow: 0px 1px 3px 1px rgba(0, 0, 0, 0.15);\n",
              "      filter: drop-shadow(0px 1px 2px rgba(0, 0, 0, 0.3));\n",
              "      fill: #FFFFFF;\n",
              "    }\n",
              "  </style>\n",
              "\n",
              "      <script>\n",
              "        const buttonEl =\n",
              "          document.querySelector('#df-c04ccba2-dda4-4768-8859-1c38d4c784fc button.colab-df-convert');\n",
              "        buttonEl.style.display =\n",
              "          google.colab.kernel.accessAllowed ? 'block' : 'none';\n",
              "\n",
              "        async function convertToInteractive(key) {\n",
              "          const element = document.querySelector('#df-c04ccba2-dda4-4768-8859-1c38d4c784fc');\n",
              "          const dataTable =\n",
              "            await google.colab.kernel.invokeFunction('convertToInteractive',\n",
              "                                                     [key], {});\n",
              "          if (!dataTable) return;\n",
              "\n",
              "          const docLinkHtml = 'Like what you see? Visit the ' +\n",
              "            '<a target=\"_blank\" href=https://colab.research.google.com/notebooks/data_table.ipynb>data table notebook</a>'\n",
              "            + ' to learn more about interactive tables.';\n",
              "          element.innerHTML = '';\n",
              "          dataTable['output_type'] = 'display_data';\n",
              "          await google.colab.output.renderOutput(dataTable, element);\n",
              "          const docLink = document.createElement('div');\n",
              "          docLink.innerHTML = docLinkHtml;\n",
              "          element.appendChild(docLink);\n",
              "        }\n",
              "      </script>\n",
              "    </div>\n",
              "  </div>\n",
              "  "
            ]
          },
          "metadata": {},
          "execution_count": 14
        }
      ]
    },
    {
      "cell_type": "code",
      "source": [
        "X_train, y_train = df_train.drop(['r_useful', 'r_id'], axis=1).values, df_train['r_useful'].values\n",
        "X_test, y_test = df_test.drop(['r_useful', 'r_id'], axis=1).values, df_test['r_useful'].values"
      ],
      "metadata": {
        "id": "JoK7iekTi7BK"
      },
      "execution_count": 15,
      "outputs": []
    },
    {
      "cell_type": "code",
      "source": [
        "def objective(trial):\n",
        "  \"\"\" Function to tune parameters \"\"\"\n",
        "  gc.collect()\n",
        "  params = {\n",
        "      \"n_estimators\":trial.suggest_int('n_estimators', 1, 1001, step=50),\n",
        "      \"max_depth\" : trial.suggest_int(\"max_depth\", 2, 20),\n",
        "      \"learning_rate\" : trial.suggest_float('learning_rate', 0.001, 0.501, step=0.005),\n",
        "      \"reg_alpha\": 10 ** trial.suggest_int(\"reg_alpha\", -3, 3),\n",
        "      \"reg_lambda\": 10 ** trial.suggest_int(\"reg_lambda\", -3, 3),\n",
        "      \"subsample \": trial.suggest_float(\"subsample\", 0.5, 1, step=0.1),\n",
        "      \"colsample_bytree\": trial.suggest_float(\"colsample_bytree\", 0.5, 1, step=0.1)\n",
        "  }\n",
        "\n",
        "  print(\"Currently running with:\")\n",
        "  print(params)\n",
        "\n",
        "  model = xgb.XGBRegressor(objective=\"reg:squarederror\",\n",
        "                            n_jobs=-1,\n",
        "                            grow_policy='lossguide',\n",
        "                            tree_method=\"gpu_hist\",\n",
        "                            predictor=\"gpu_predictor\",\n",
        "                            booster='gbtree',\n",
        "                            sampling_method='gradient_based',\n",
        "                            eval_metrics=['rmse'],\n",
        "                            random_state=RANDOM_SEED,\n",
        "                            enable_categorical=False,\n",
        "                            **params)\n",
        "  pipe = make_pipeline(StandardScaler(), model)\n",
        "\n",
        "  scores = cross_val_score(pipe, X_train, y_train,\n",
        "    scoring=\"neg_root_mean_squared_error\", cv=KFold(3))\n",
        "\n",
        "  return -scores.mean()\n",
        "\n",
        "study = opt.create_study(direction='minimize', sampler=TPESampler(seed=RANDOM_SEED))\n",
        "study.optimize(objective, n_trials=50)\n",
        "print(\"Final best parameters:\")\n",
        "study.best_params"
      ],
      "metadata": {
        "colab": {
          "base_uri": "https://localhost:8080/"
        },
        "id": "fiiBJsqwE_tS",
        "outputId": "9903d38b-c390-4a7d-bd63-fdeddba81add"
      },
      "execution_count": 16,
      "outputs": [
        {
          "output_type": "stream",
          "name": "stderr",
          "text": [
            "\u001b[32m[I 2022-09-27 10:22:18,011]\u001b[0m A new study created in memory with name: no-name-3c19f5c0-f971-48f2-be52-7fea31f48685\u001b[0m\n"
          ]
        },
        {
          "output_type": "stream",
          "name": "stdout",
          "text": [
            "Currently running with:\n",
            "{'n_estimators': 451, 'max_depth': 2, 'learning_rate': 0.276, 'reg_alpha': 1, 'reg_lambda': 0.1, 'subsample ': 0.6, 'colsample_bytree': 0.6}\n"
          ]
        },
        {
          "output_type": "stream",
          "name": "stderr",
          "text": [
            "\u001b[32m[I 2022-09-27 10:22:22,210]\u001b[0m Trial 0 finished with value: 3.649719144314228 and parameters: {'n_estimators': 451, 'max_depth': 2, 'learning_rate': 0.276, 'reg_alpha': 0, 'reg_lambda': -1, 'subsample': 0.6, 'colsample_bytree': 0.6}. Best is trial 0 with value: 3.649719144314228.\u001b[0m\n"
          ]
        },
        {
          "output_type": "stream",
          "name": "stdout",
          "text": [
            "Currently running with:\n",
            "{'n_estimators': 651, 'max_depth': 7, 'learning_rate': 0.131, 'reg_alpha': 10, 'reg_lambda': 1, 'subsample ': 0.5, 'colsample_bytree': 0.8}\n"
          ]
        },
        {
          "output_type": "stream",
          "name": "stderr",
          "text": [
            "\u001b[32m[I 2022-09-27 10:22:40,486]\u001b[0m Trial 1 finished with value: 3.542791588341848 and parameters: {'n_estimators': 651, 'max_depth': 7, 'learning_rate': 0.131, 'reg_alpha': 1, 'reg_lambda': 0, 'subsample': 0.5, 'colsample_bytree': 0.8}. Best is trial 1 with value: 3.542791588341848.\u001b[0m\n"
          ]
        },
        {
          "output_type": "stream",
          "name": "stdout",
          "text": [
            "Currently running with:\n",
            "{'n_estimators': 151, 'max_depth': 16, 'learning_rate': 0.431, 'reg_alpha': 1, 'reg_lambda': 100, 'subsample ': 0.5, 'colsample_bytree': 0.8}\n"
          ]
        },
        {
          "output_type": "stream",
          "name": "stderr",
          "text": [
            "\u001b[32m[I 2022-09-27 10:25:30,707]\u001b[0m Trial 2 finished with value: 3.6246545747481753 and parameters: {'n_estimators': 151, 'max_depth': 16, 'learning_rate': 0.431, 'reg_alpha': 0, 'reg_lambda': 2, 'subsample': 0.5, 'colsample_bytree': 0.8}. Best is trial 1 with value: 3.542791588341848.\u001b[0m\n"
          ]
        },
        {
          "output_type": "stream",
          "name": "stdout",
          "text": [
            "Currently running with:\n",
            "{'n_estimators': 51, 'max_depth': 10, 'learning_rate': 0.046, 'reg_alpha': 0.001, 'reg_lambda': 10, 'subsample ': 0.6, 'colsample_bytree': 0.5}\n"
          ]
        },
        {
          "output_type": "stream",
          "name": "stderr",
          "text": [
            "\u001b[32m[I 2022-09-27 10:25:37,838]\u001b[0m Trial 3 finished with value: 3.6949821603764548 and parameters: {'n_estimators': 51, 'max_depth': 10, 'learning_rate': 0.046, 'reg_alpha': -3, 'reg_lambda': 1, 'subsample': 0.6, 'colsample_bytree': 0.5}. Best is trial 1 with value: 3.542791588341848.\u001b[0m\n"
          ]
        },
        {
          "output_type": "stream",
          "name": "stdout",
          "text": [
            "Currently running with:\n",
            "{'n_estimators': 201, 'max_depth': 8, 'learning_rate': 0.23600000000000002, 'reg_alpha': 0.01, 'reg_lambda': 10, 'subsample ': 0.7, 'colsample_bytree': 0.8}\n"
          ]
        },
        {
          "output_type": "stream",
          "name": "stderr",
          "text": [
            "\u001b[32m[I 2022-09-27 10:25:45,990]\u001b[0m Trial 4 finished with value: 3.5331012196809275 and parameters: {'n_estimators': 201, 'max_depth': 8, 'learning_rate': 0.23600000000000002, 'reg_alpha': -2, 'reg_lambda': 1, 'subsample': 0.7, 'colsample_bytree': 0.8}. Best is trial 4 with value: 3.5331012196809275.\u001b[0m\n"
          ]
        },
        {
          "output_type": "stream",
          "name": "stdout",
          "text": [
            "Currently running with:\n",
            "{'n_estimators': 401, 'max_depth': 17, 'learning_rate': 0.291, 'reg_alpha': 0.01, 'reg_lambda': 10, 'subsample ': 1.0, 'colsample_bytree': 0.8}\n"
          ]
        },
        {
          "output_type": "stream",
          "name": "stderr",
          "text": [
            "\u001b[32m[I 2022-09-27 10:40:01,844]\u001b[0m Trial 5 finished with value: 3.6423372932887834 and parameters: {'n_estimators': 401, 'max_depth': 17, 'learning_rate': 0.291, 'reg_alpha': -2, 'reg_lambda': 1, 'subsample': 1.0, 'colsample_bytree': 0.8}. Best is trial 4 with value: 3.5331012196809275.\u001b[0m\n"
          ]
        },
        {
          "output_type": "stream",
          "name": "stdout",
          "text": [
            "Currently running with:\n",
            "{'n_estimators': 901, 'max_depth': 8, 'learning_rate': 0.28600000000000003, 'reg_alpha': 0.1, 'reg_lambda': 1, 'subsample ': 0.9, 'colsample_bytree': 0.8}\n"
          ]
        },
        {
          "output_type": "stream",
          "name": "stderr",
          "text": [
            "\u001b[32m[I 2022-09-27 10:40:37,830]\u001b[0m Trial 6 finished with value: 3.690043707762928 and parameters: {'n_estimators': 901, 'max_depth': 8, 'learning_rate': 0.28600000000000003, 'reg_alpha': -1, 'reg_lambda': 0, 'subsample': 0.9, 'colsample_bytree': 0.8}. Best is trial 4 with value: 3.5331012196809275.\u001b[0m\n"
          ]
        },
        {
          "output_type": "stream",
          "name": "stdout",
          "text": [
            "Currently running with:\n",
            "{'n_estimators': 1001, 'max_depth': 12, 'learning_rate': 0.041, 'reg_alpha': 0.1, 'reg_lambda': 100, 'subsample ': 0.7, 'colsample_bytree': 0.5}\n"
          ]
        },
        {
          "output_type": "stream",
          "name": "stderr",
          "text": [
            "\u001b[32m[I 2022-09-27 10:44:54,575]\u001b[0m Trial 7 finished with value: 3.5343936918432775 and parameters: {'n_estimators': 1001, 'max_depth': 12, 'learning_rate': 0.041, 'reg_alpha': -1, 'reg_lambda': 2, 'subsample': 0.7, 'colsample_bytree': 0.5}. Best is trial 4 with value: 3.5331012196809275.\u001b[0m\n"
          ]
        },
        {
          "output_type": "stream",
          "name": "stdout",
          "text": [
            "Currently running with:\n",
            "{'n_estimators': 251, 'max_depth': 3, 'learning_rate': 0.501, 'reg_alpha': 1000, 'reg_lambda': 100, 'subsample ': 0.8, 'colsample_bytree': 0.9}\n"
          ]
        },
        {
          "output_type": "stream",
          "name": "stderr",
          "text": [
            "\u001b[32m[I 2022-09-27 10:44:57,120]\u001b[0m Trial 8 finished with value: 3.668257009684846 and parameters: {'n_estimators': 251, 'max_depth': 3, 'learning_rate': 0.501, 'reg_alpha': 3, 'reg_lambda': 2, 'subsample': 0.8, 'colsample_bytree': 0.9}. Best is trial 4 with value: 3.5331012196809275.\u001b[0m\n"
          ]
        },
        {
          "output_type": "stream",
          "name": "stdout",
          "text": [
            "Currently running with:\n",
            "{'n_estimators': 151, 'max_depth': 7, 'learning_rate': 0.261, 'reg_alpha': 0.1, 'reg_lambda': 0.001, 'subsample ': 1.0, 'colsample_bytree': 0.7}\n"
          ]
        },
        {
          "output_type": "stream",
          "name": "stderr",
          "text": [
            "\u001b[32m[I 2022-09-27 10:45:01,437]\u001b[0m Trial 9 finished with value: 3.636409295735014 and parameters: {'n_estimators': 151, 'max_depth': 7, 'learning_rate': 0.261, 'reg_alpha': -1, 'reg_lambda': -3, 'subsample': 1.0, 'colsample_bytree': 0.7}. Best is trial 4 with value: 3.5331012196809275.\u001b[0m\n"
          ]
        },
        {
          "output_type": "stream",
          "name": "stdout",
          "text": [
            "Currently running with:\n",
            "{'n_estimators': 701, 'max_depth': 14, 'learning_rate': 0.161, 'reg_alpha': 0.001, 'reg_lambda': 0.01, 'subsample ': 0.8, 'colsample_bytree': 1.0}\n"
          ]
        },
        {
          "output_type": "stream",
          "name": "stderr",
          "text": [
            "\u001b[32m[I 2022-09-27 10:53:42,332]\u001b[0m Trial 10 finished with value: 3.867464442998749 and parameters: {'n_estimators': 701, 'max_depth': 14, 'learning_rate': 0.161, 'reg_alpha': -3, 'reg_lambda': -2, 'subsample': 0.8, 'colsample_bytree': 1.0}. Best is trial 4 with value: 3.5331012196809275.\u001b[0m\n"
          ]
        },
        {
          "output_type": "stream",
          "name": "stdout",
          "text": [
            "Currently running with:\n",
            "{'n_estimators': 951, 'max_depth': 12, 'learning_rate': 0.001, 'reg_alpha': 0.01, 'reg_lambda': 1000, 'subsample ': 0.7, 'colsample_bytree': 0.5}\n"
          ]
        },
        {
          "output_type": "stream",
          "name": "stderr",
          "text": [
            "\u001b[32m[I 2022-09-27 10:54:12,680]\u001b[0m Trial 11 finished with value: 3.994530363895176 and parameters: {'n_estimators': 951, 'max_depth': 12, 'learning_rate': 0.001, 'reg_alpha': -2, 'reg_lambda': 3, 'subsample': 0.7, 'colsample_bytree': 0.5}. Best is trial 4 with value: 3.5331012196809275.\u001b[0m\n"
          ]
        },
        {
          "output_type": "stream",
          "name": "stdout",
          "text": [
            "Currently running with:\n",
            "{'n_estimators': 701, 'max_depth': 20, 'learning_rate': 0.14100000000000001, 'reg_alpha': 100, 'reg_lambda': 1000, 'subsample ': 0.7, 'colsample_bytree': 0.6}\n"
          ]
        },
        {
          "output_type": "stream",
          "name": "stderr",
          "text": [
            "\u001b[32m[I 2022-09-27 10:57:31,687]\u001b[0m Trial 12 finished with value: 3.574058754062212 and parameters: {'n_estimators': 701, 'max_depth': 20, 'learning_rate': 0.14100000000000001, 'reg_alpha': 2, 'reg_lambda': 3, 'subsample': 0.7, 'colsample_bytree': 0.6}. Best is trial 4 with value: 3.5331012196809275.\u001b[0m\n"
          ]
        },
        {
          "output_type": "stream",
          "name": "stdout",
          "text": [
            "Currently running with:\n",
            "{'n_estimators': 301, 'max_depth': 11, 'learning_rate': 0.371, 'reg_alpha': 0.1, 'reg_lambda': 10, 'subsample ': 0.7, 'colsample_bytree': 0.7}\n"
          ]
        },
        {
          "output_type": "stream",
          "name": "stderr",
          "text": [
            "\u001b[32m[I 2022-09-27 10:58:24,524]\u001b[0m Trial 13 finished with value: 3.6381032706479437 and parameters: {'n_estimators': 301, 'max_depth': 11, 'learning_rate': 0.371, 'reg_alpha': -1, 'reg_lambda': 1, 'subsample': 0.7, 'colsample_bytree': 0.7}. Best is trial 4 with value: 3.5331012196809275.\u001b[0m\n"
          ]
        },
        {
          "output_type": "stream",
          "name": "stdout",
          "text": [
            "Currently running with:\n",
            "{'n_estimators': 551, 'max_depth': 5, 'learning_rate': 0.081, 'reg_alpha': 0.01, 'reg_lambda': 100, 'subsample ': 0.6, 'colsample_bytree': 1.0}\n"
          ]
        },
        {
          "output_type": "stream",
          "name": "stderr",
          "text": [
            "\u001b[32m[I 2022-09-27 10:58:31,819]\u001b[0m Trial 14 finished with value: 3.5581524561242888 and parameters: {'n_estimators': 551, 'max_depth': 5, 'learning_rate': 0.081, 'reg_alpha': -2, 'reg_lambda': 2, 'subsample': 0.6, 'colsample_bytree': 1.0}. Best is trial 4 with value: 3.5331012196809275.\u001b[0m\n"
          ]
        },
        {
          "output_type": "stream",
          "name": "stdout",
          "text": [
            "Currently running with:\n",
            "{'n_estimators': 851, 'max_depth': 13, 'learning_rate': 0.201, 'reg_alpha': 10, 'reg_lambda': 0.1, 'subsample ': 0.8, 'colsample_bytree': 0.6}\n"
          ]
        },
        {
          "output_type": "stream",
          "name": "stderr",
          "text": [
            "\u001b[32m[I 2022-09-27 11:01:37,409]\u001b[0m Trial 15 finished with value: 3.7591933248542317 and parameters: {'n_estimators': 851, 'max_depth': 13, 'learning_rate': 0.201, 'reg_alpha': 1, 'reg_lambda': -1, 'subsample': 0.8, 'colsample_bytree': 0.6}. Best is trial 4 with value: 3.5331012196809275.\u001b[0m\n"
          ]
        },
        {
          "output_type": "stream",
          "name": "stdout",
          "text": [
            "Currently running with:\n",
            "{'n_estimators': 1, 'max_depth': 9, 'learning_rate': 0.371, 'reg_alpha': 0.01, 'reg_lambda': 100, 'subsample ': 0.9, 'colsample_bytree': 0.9}\n"
          ]
        },
        {
          "output_type": "stream",
          "name": "stderr",
          "text": [
            "\u001b[32m[I 2022-09-27 11:01:38,081]\u001b[0m Trial 16 finished with value: 4.135250148371791 and parameters: {'n_estimators': 1, 'max_depth': 9, 'learning_rate': 0.371, 'reg_alpha': -2, 'reg_lambda': 2, 'subsample': 0.9, 'colsample_bytree': 0.9}. Best is trial 4 with value: 3.5331012196809275.\u001b[0m\n"
          ]
        },
        {
          "output_type": "stream",
          "name": "stdout",
          "text": [
            "Currently running with:\n",
            "{'n_estimators': 1001, 'max_depth': 5, 'learning_rate': 0.196, 'reg_alpha': 0.1, 'reg_lambda': 10, 'subsample ': 0.6, 'colsample_bytree': 0.7}\n"
          ]
        },
        {
          "output_type": "stream",
          "name": "stderr",
          "text": [
            "\u001b[32m[I 2022-09-27 11:01:50,968]\u001b[0m Trial 17 finished with value: 3.5428365903031422 and parameters: {'n_estimators': 1001, 'max_depth': 5, 'learning_rate': 0.196, 'reg_alpha': -1, 'reg_lambda': 1, 'subsample': 0.6, 'colsample_bytree': 0.7}. Best is trial 4 with value: 3.5331012196809275.\u001b[0m\n"
          ]
        },
        {
          "output_type": "stream",
          "name": "stdout",
          "text": [
            "Currently running with:\n",
            "{'n_estimators': 551, 'max_depth': 15, 'learning_rate': 0.066, 'reg_alpha': 0.001, 'reg_lambda': 1000, 'subsample ': 0.7, 'colsample_bytree': 0.9}\n"
          ]
        },
        {
          "output_type": "stream",
          "name": "stderr",
          "text": [
            "\u001b[32m[I 2022-09-27 11:08:41,216]\u001b[0m Trial 18 finished with value: 3.560385104513866 and parameters: {'n_estimators': 551, 'max_depth': 15, 'learning_rate': 0.066, 'reg_alpha': -3, 'reg_lambda': 3, 'subsample': 0.7, 'colsample_bytree': 0.9}. Best is trial 4 with value: 3.5331012196809275.\u001b[0m\n"
          ]
        },
        {
          "output_type": "stream",
          "name": "stdout",
          "text": [
            "Currently running with:\n",
            "{'n_estimators': 801, 'max_depth': 20, 'learning_rate': 0.001, 'reg_alpha': 10, 'reg_lambda': 1, 'subsample ': 0.9, 'colsample_bytree': 0.5}\n"
          ]
        },
        {
          "output_type": "stream",
          "name": "stderr",
          "text": [
            "\u001b[32m[I 2022-09-27 11:57:38,209]\u001b[0m Trial 19 finished with value: 4.051167747886026 and parameters: {'n_estimators': 801, 'max_depth': 20, 'learning_rate': 0.001, 'reg_alpha': 1, 'reg_lambda': 0, 'subsample': 0.9, 'colsample_bytree': 0.5}. Best is trial 4 with value: 3.5331012196809275.\u001b[0m\n"
          ]
        },
        {
          "output_type": "stream",
          "name": "stdout",
          "text": [
            "Currently running with:\n",
            "{'n_estimators': 351, 'max_depth': 11, 'learning_rate': 0.34600000000000003, 'reg_alpha': 1, 'reg_lambda': 0.1, 'subsample ': 0.8, 'colsample_bytree': 0.6}\n"
          ]
        },
        {
          "output_type": "stream",
          "name": "stderr",
          "text": [
            "\u001b[32m[I 2022-09-27 11:58:36,082]\u001b[0m Trial 20 finished with value: 3.947436298446321 and parameters: {'n_estimators': 351, 'max_depth': 11, 'learning_rate': 0.34600000000000003, 'reg_alpha': 0, 'reg_lambda': -1, 'subsample': 0.8, 'colsample_bytree': 0.6}. Best is trial 4 with value: 3.5331012196809275.\u001b[0m\n"
          ]
        },
        {
          "output_type": "stream",
          "name": "stdout",
          "text": [
            "Currently running with:\n",
            "{'n_estimators': 651, 'max_depth': 6, 'learning_rate': 0.121, 'reg_alpha': 10, 'reg_lambda': 1, 'subsample ': 0.5, 'colsample_bytree': 0.8}\n"
          ]
        },
        {
          "output_type": "stream",
          "name": "stderr",
          "text": [
            "\u001b[32m[I 2022-09-27 11:58:47,453]\u001b[0m Trial 21 finished with value: 3.5226894727101583 and parameters: {'n_estimators': 651, 'max_depth': 6, 'learning_rate': 0.121, 'reg_alpha': 1, 'reg_lambda': 0, 'subsample': 0.5, 'colsample_bytree': 0.8}. Best is trial 21 with value: 3.5226894727101583.\u001b[0m\n"
          ]
        },
        {
          "output_type": "stream",
          "name": "stdout",
          "text": [
            "Currently running with:\n",
            "{'n_estimators': 801, 'max_depth': 5, 'learning_rate': 0.101, 'reg_alpha': 100, 'reg_lambda': 1, 'subsample ': 0.5, 'colsample_bytree': 0.9}\n"
          ]
        },
        {
          "output_type": "stream",
          "name": "stderr",
          "text": [
            "\u001b[32m[I 2022-09-27 11:58:58,006]\u001b[0m Trial 22 finished with value: 3.5423908162461095 and parameters: {'n_estimators': 801, 'max_depth': 5, 'learning_rate': 0.101, 'reg_alpha': 2, 'reg_lambda': 0, 'subsample': 0.5, 'colsample_bytree': 0.9}. Best is trial 21 with value: 3.5226894727101583.\u001b[0m\n"
          ]
        },
        {
          "output_type": "stream",
          "name": "stdout",
          "text": [
            "Currently running with:\n",
            "{'n_estimators': 501, 'max_depth': 9, 'learning_rate': 0.20600000000000002, 'reg_alpha': 1, 'reg_lambda': 10, 'subsample ': 0.6, 'colsample_bytree': 0.7}\n"
          ]
        },
        {
          "output_type": "stream",
          "name": "stderr",
          "text": [
            "\u001b[32m[I 2022-09-27 11:59:29,500]\u001b[0m Trial 23 finished with value: 3.5519646066332453 and parameters: {'n_estimators': 501, 'max_depth': 9, 'learning_rate': 0.20600000000000002, 'reg_alpha': 0, 'reg_lambda': 1, 'subsample': 0.6, 'colsample_bytree': 0.7}. Best is trial 21 with value: 3.5226894727101583.\u001b[0m\n"
          ]
        },
        {
          "output_type": "stream",
          "name": "stdout",
          "text": [
            "Currently running with:\n",
            "{'n_estimators': 201, 'max_depth': 6, 'learning_rate': 0.041, 'reg_alpha': 100, 'reg_lambda': 100, 'subsample ': 0.5, 'colsample_bytree': 0.8}\n"
          ]
        },
        {
          "output_type": "stream",
          "name": "stderr",
          "text": [
            "\u001b[32m[I 2022-09-27 11:59:33,563]\u001b[0m Trial 24 finished with value: 3.605047532403566 and parameters: {'n_estimators': 201, 'max_depth': 6, 'learning_rate': 0.041, 'reg_alpha': 2, 'reg_lambda': 2, 'subsample': 0.5, 'colsample_bytree': 0.8}. Best is trial 21 with value: 3.5226894727101583.\u001b[0m\n"
          ]
        },
        {
          "output_type": "stream",
          "name": "stdout",
          "text": [
            "Currently running with:\n",
            "{'n_estimators': 601, 'max_depth': 3, 'learning_rate': 0.226, 'reg_alpha': 0.1, 'reg_lambda': 1, 'subsample ': 0.7, 'colsample_bytree': 0.7}\n"
          ]
        },
        {
          "output_type": "stream",
          "name": "stderr",
          "text": [
            "\u001b[32m[I 2022-09-27 11:59:39,315]\u001b[0m Trial 25 finished with value: 3.5957691022158076 and parameters: {'n_estimators': 601, 'max_depth': 3, 'learning_rate': 0.226, 'reg_alpha': -1, 'reg_lambda': 0, 'subsample': 0.7, 'colsample_bytree': 0.7}. Best is trial 21 with value: 3.5226894727101583.\u001b[0m\n"
          ]
        },
        {
          "output_type": "stream",
          "name": "stdout",
          "text": [
            "Currently running with:\n",
            "{'n_estimators': 751, 'max_depth': 9, 'learning_rate': 0.106, 'reg_alpha': 10, 'reg_lambda': 0.01, 'subsample ': 0.6, 'colsample_bytree': 0.9}\n"
          ]
        },
        {
          "output_type": "stream",
          "name": "stderr",
          "text": [
            "\u001b[32m[I 2022-09-27 12:00:21,664]\u001b[0m Trial 26 finished with value: 3.5741275480112678 and parameters: {'n_estimators': 751, 'max_depth': 9, 'learning_rate': 0.106, 'reg_alpha': 1, 'reg_lambda': -2, 'subsample': 0.6, 'colsample_bytree': 0.9}. Best is trial 21 with value: 3.5226894727101583.\u001b[0m\n"
          ]
        },
        {
          "output_type": "stream",
          "name": "stdout",
          "text": [
            "Currently running with:\n",
            "{'n_estimators': 1001, 'max_depth': 12, 'learning_rate': 0.146, 'reg_alpha': 0.01, 'reg_lambda': 10, 'subsample ': 0.7, 'colsample_bytree': 0.8}\n"
          ]
        },
        {
          "output_type": "stream",
          "name": "stderr",
          "text": [
            "\u001b[32m[I 2022-09-27 12:04:58,710]\u001b[0m Trial 27 finished with value: 3.579751263535572 and parameters: {'n_estimators': 1001, 'max_depth': 12, 'learning_rate': 0.146, 'reg_alpha': -2, 'reg_lambda': 1, 'subsample': 0.7, 'colsample_bytree': 0.8}. Best is trial 21 with value: 3.5226894727101583.\u001b[0m\n"
          ]
        },
        {
          "output_type": "stream",
          "name": "stdout",
          "text": [
            "Currently running with:\n",
            "{'n_estimators': 451, 'max_depth': 7, 'learning_rate': 0.166, 'reg_alpha': 1000, 'reg_lambda': 100, 'subsample ': 0.5, 'colsample_bytree': 1.0}\n"
          ]
        },
        {
          "output_type": "stream",
          "name": "stderr",
          "text": [
            "\u001b[32m[I 2022-09-27 12:05:03,861]\u001b[0m Trial 28 finished with value: 3.615466164251345 and parameters: {'n_estimators': 451, 'max_depth': 7, 'learning_rate': 0.166, 'reg_alpha': 3, 'reg_lambda': 2, 'subsample': 0.5, 'colsample_bytree': 1.0}. Best is trial 21 with value: 3.5226894727101583.\u001b[0m\n"
          ]
        },
        {
          "output_type": "stream",
          "name": "stdout",
          "text": [
            "Currently running with:\n",
            "{'n_estimators': 401, 'max_depth': 2, 'learning_rate': 0.311, 'reg_alpha': 1, 'reg_lambda': 0.1, 'subsample ': 0.8, 'colsample_bytree': 0.6}\n"
          ]
        },
        {
          "output_type": "stream",
          "name": "stderr",
          "text": [
            "\u001b[32m[I 2022-09-27 12:05:07,545]\u001b[0m Trial 29 finished with value: 3.647574353313143 and parameters: {'n_estimators': 401, 'max_depth': 2, 'learning_rate': 0.311, 'reg_alpha': 0, 'reg_lambda': -1, 'subsample': 0.8, 'colsample_bytree': 0.6}. Best is trial 21 with value: 3.5226894727101583.\u001b[0m\n"
          ]
        },
        {
          "output_type": "stream",
          "name": "stdout",
          "text": [
            "Currently running with:\n",
            "{'n_estimators': 101, 'max_depth': 18, 'learning_rate': 0.241, 'reg_alpha': 0.1, 'reg_lambda': 0.01, 'subsample ': 0.6, 'colsample_bytree': 0.7}\n"
          ]
        },
        {
          "output_type": "stream",
          "name": "stderr",
          "text": [
            "\u001b[32m[I 2022-09-27 12:09:44,857]\u001b[0m Trial 30 finished with value: 3.873254790785293 and parameters: {'n_estimators': 101, 'max_depth': 18, 'learning_rate': 0.241, 'reg_alpha': -1, 'reg_lambda': -2, 'subsample': 0.6, 'colsample_bytree': 0.7}. Best is trial 21 with value: 3.5226894727101583.\u001b[0m\n"
          ]
        },
        {
          "output_type": "stream",
          "name": "stdout",
          "text": [
            "Currently running with:\n",
            "{'n_estimators': 851, 'max_depth': 5, 'learning_rate': 0.101, 'reg_alpha': 100, 'reg_lambda': 1, 'subsample ': 0.5, 'colsample_bytree': 0.9}\n"
          ]
        },
        {
          "output_type": "stream",
          "name": "stderr",
          "text": [
            "\u001b[32m[I 2022-09-27 12:09:56,029]\u001b[0m Trial 31 finished with value: 3.541854494043759 and parameters: {'n_estimators': 851, 'max_depth': 5, 'learning_rate': 0.101, 'reg_alpha': 2, 'reg_lambda': 0, 'subsample': 0.5, 'colsample_bytree': 0.9}. Best is trial 21 with value: 3.5226894727101583.\u001b[0m\n"
          ]
        },
        {
          "output_type": "stream",
          "name": "stdout",
          "text": [
            "Currently running with:\n",
            "{'n_estimators': 901, 'max_depth': 4, 'learning_rate': 0.111, 'reg_alpha': 100, 'reg_lambda': 1, 'subsample ': 0.5, 'colsample_bytree': 0.9}\n"
          ]
        },
        {
          "output_type": "stream",
          "name": "stderr",
          "text": [
            "\u001b[32m[I 2022-09-27 12:10:05,624]\u001b[0m Trial 32 finished with value: 3.5635939135462635 and parameters: {'n_estimators': 901, 'max_depth': 4, 'learning_rate': 0.111, 'reg_alpha': 2, 'reg_lambda': 0, 'subsample': 0.5, 'colsample_bytree': 0.9}. Best is trial 21 with value: 3.5226894727101583.\u001b[0m\n"
          ]
        },
        {
          "output_type": "stream",
          "name": "stdout",
          "text": [
            "Currently running with:\n",
            "{'n_estimators': 651, 'max_depth': 6, 'learning_rate': 0.041, 'reg_alpha': 10, 'reg_lambda': 1, 'subsample ': 0.5, 'colsample_bytree': 0.8}\n"
          ]
        },
        {
          "output_type": "stream",
          "name": "stderr",
          "text": [
            "\u001b[32m[I 2022-09-27 12:10:17,087]\u001b[0m Trial 33 finished with value: 3.5429018468445896 and parameters: {'n_estimators': 651, 'max_depth': 6, 'learning_rate': 0.041, 'reg_alpha': 1, 'reg_lambda': 0, 'subsample': 0.5, 'colsample_bytree': 0.8}. Best is trial 21 with value: 3.5226894727101583.\u001b[0m\n"
          ]
        },
        {
          "output_type": "stream",
          "name": "stdout",
          "text": [
            "Currently running with:\n",
            "{'n_estimators': 901, 'max_depth': 8, 'learning_rate': 0.076, 'reg_alpha': 1000, 'reg_lambda': 10, 'subsample ': 0.5, 'colsample_bytree': 0.8}\n"
          ]
        },
        {
          "output_type": "stream",
          "name": "stderr",
          "text": [
            "\u001b[32m[I 2022-09-27 12:10:28,379]\u001b[0m Trial 34 finished with value: 3.6075709152446067 and parameters: {'n_estimators': 901, 'max_depth': 8, 'learning_rate': 0.076, 'reg_alpha': 3, 'reg_lambda': 1, 'subsample': 0.5, 'colsample_bytree': 0.8}. Best is trial 21 with value: 3.5226894727101583.\u001b[0m\n"
          ]
        },
        {
          "output_type": "stream",
          "name": "stdout",
          "text": [
            "Currently running with:\n",
            "{'n_estimators': 801, 'max_depth': 10, 'learning_rate': 0.031, 'reg_alpha': 10, 'reg_lambda': 10, 'subsample ': 0.6, 'colsample_bytree': 0.8}\n"
          ]
        },
        {
          "output_type": "stream",
          "name": "stderr",
          "text": [
            "\u001b[32m[I 2022-09-27 12:11:38,504]\u001b[0m Trial 35 finished with value: 3.4971178924401465 and parameters: {'n_estimators': 801, 'max_depth': 10, 'learning_rate': 0.031, 'reg_alpha': 1, 'reg_lambda': 1, 'subsample': 0.6, 'colsample_bytree': 0.8}. Best is trial 35 with value: 3.4971178924401465.\u001b[0m\n"
          ]
        },
        {
          "output_type": "stream",
          "name": "stdout",
          "text": [
            "Currently running with:\n",
            "{'n_estimators': 651, 'max_depth': 10, 'learning_rate': 0.016, 'reg_alpha': 1, 'reg_lambda': 10, 'subsample ': 0.6, 'colsample_bytree': 0.8}\n"
          ]
        },
        {
          "output_type": "stream",
          "name": "stderr",
          "text": [
            "\u001b[32m[I 2022-09-27 12:12:49,620]\u001b[0m Trial 36 finished with value: 3.496549441410488 and parameters: {'n_estimators': 651, 'max_depth': 10, 'learning_rate': 0.016, 'reg_alpha': 0, 'reg_lambda': 1, 'subsample': 0.6, 'colsample_bytree': 0.8}. Best is trial 36 with value: 3.496549441410488.\u001b[0m\n"
          ]
        },
        {
          "output_type": "stream",
          "name": "stdout",
          "text": [
            "Currently running with:\n",
            "{'n_estimators': 651, 'max_depth': 10, 'learning_rate': 0.006, 'reg_alpha': 10, 'reg_lambda': 10, 'subsample ': 0.6, 'colsample_bytree': 0.8}\n"
          ]
        },
        {
          "output_type": "stream",
          "name": "stderr",
          "text": [
            "\u001b[32m[I 2022-09-27 12:14:07,533]\u001b[0m Trial 37 finished with value: 3.5445080403159817 and parameters: {'n_estimators': 651, 'max_depth': 10, 'learning_rate': 0.006, 'reg_alpha': 1, 'reg_lambda': 1, 'subsample': 0.6, 'colsample_bytree': 0.8}. Best is trial 36 with value: 3.496549441410488.\u001b[0m\n"
          ]
        },
        {
          "output_type": "stream",
          "name": "stdout",
          "text": [
            "Currently running with:\n",
            "{'n_estimators': 751, 'max_depth': 10, 'learning_rate': 0.026000000000000002, 'reg_alpha': 1, 'reg_lambda': 10, 'subsample ': 0.6, 'colsample_bytree': 0.8}\n"
          ]
        },
        {
          "output_type": "stream",
          "name": "stderr",
          "text": [
            "\u001b[32m[I 2022-09-27 12:15:23,461]\u001b[0m Trial 38 finished with value: 3.4980208600412563 and parameters: {'n_estimators': 751, 'max_depth': 10, 'learning_rate': 0.026000000000000002, 'reg_alpha': 0, 'reg_lambda': 1, 'subsample': 0.6, 'colsample_bytree': 0.8}. Best is trial 36 with value: 3.496549441410488.\u001b[0m\n"
          ]
        },
        {
          "output_type": "stream",
          "name": "stdout",
          "text": [
            "Currently running with:\n",
            "{'n_estimators': 751, 'max_depth': 10, 'learning_rate': 0.041, 'reg_alpha': 1, 'reg_lambda': 10, 'subsample ': 0.6, 'colsample_bytree': 0.8}\n"
          ]
        },
        {
          "output_type": "stream",
          "name": "stderr",
          "text": [
            "\u001b[32m[I 2022-09-27 12:16:36,972]\u001b[0m Trial 39 finished with value: 3.5075986507848236 and parameters: {'n_estimators': 751, 'max_depth': 10, 'learning_rate': 0.041, 'reg_alpha': 0, 'reg_lambda': 1, 'subsample': 0.6, 'colsample_bytree': 0.8}. Best is trial 36 with value: 3.496549441410488.\u001b[0m\n"
          ]
        },
        {
          "output_type": "stream",
          "name": "stdout",
          "text": [
            "Currently running with:\n",
            "{'n_estimators': 751, 'max_depth': 10, 'learning_rate': 0.026000000000000002, 'reg_alpha': 1, 'reg_lambda': 10, 'subsample ': 0.6, 'colsample_bytree': 0.8}\n"
          ]
        },
        {
          "output_type": "stream",
          "name": "stderr",
          "text": [
            "\u001b[32m[I 2022-09-27 12:17:52,804]\u001b[0m Trial 40 finished with value: 3.4980208600412563 and parameters: {'n_estimators': 751, 'max_depth': 10, 'learning_rate': 0.026000000000000002, 'reg_alpha': 0, 'reg_lambda': 1, 'subsample': 0.6, 'colsample_bytree': 0.8}. Best is trial 36 with value: 3.496549441410488.\u001b[0m\n"
          ]
        },
        {
          "output_type": "stream",
          "name": "stdout",
          "text": [
            "Currently running with:\n",
            "{'n_estimators': 751, 'max_depth': 10, 'learning_rate': 0.026000000000000002, 'reg_alpha': 1, 'reg_lambda': 10, 'subsample ': 0.6, 'colsample_bytree': 0.8}\n"
          ]
        },
        {
          "output_type": "stream",
          "name": "stderr",
          "text": [
            "\u001b[32m[I 2022-09-27 12:19:08,330]\u001b[0m Trial 41 finished with value: 3.4980208600412563 and parameters: {'n_estimators': 751, 'max_depth': 10, 'learning_rate': 0.026000000000000002, 'reg_alpha': 0, 'reg_lambda': 1, 'subsample': 0.6, 'colsample_bytree': 0.8}. Best is trial 36 with value: 3.496549441410488.\u001b[0m\n"
          ]
        },
        {
          "output_type": "stream",
          "name": "stdout",
          "text": [
            "Currently running with:\n",
            "{'n_estimators': 751, 'max_depth': 13, 'learning_rate': 0.021, 'reg_alpha': 1, 'reg_lambda': 10, 'subsample ': 0.6, 'colsample_bytree': 0.8}\n"
          ]
        },
        {
          "output_type": "stream",
          "name": "stderr",
          "text": [
            "\u001b[32m[I 2022-09-27 12:24:22,487]\u001b[0m Trial 42 finished with value: 3.5068313285508275 and parameters: {'n_estimators': 751, 'max_depth': 13, 'learning_rate': 0.021, 'reg_alpha': 0, 'reg_lambda': 1, 'subsample': 0.6, 'colsample_bytree': 0.8}. Best is trial 36 with value: 3.496549441410488.\u001b[0m\n"
          ]
        },
        {
          "output_type": "stream",
          "name": "stdout",
          "text": [
            "Currently running with:\n",
            "{'n_estimators': 701, 'max_depth': 10, 'learning_rate': 0.066, 'reg_alpha': 1, 'reg_lambda': 100, 'subsample ': 0.6, 'colsample_bytree': 0.8}\n"
          ]
        },
        {
          "output_type": "stream",
          "name": "stderr",
          "text": [
            "\u001b[32m[I 2022-09-27 12:25:34,137]\u001b[0m Trial 43 finished with value: 3.513686037235591 and parameters: {'n_estimators': 701, 'max_depth': 10, 'learning_rate': 0.066, 'reg_alpha': 0, 'reg_lambda': 2, 'subsample': 0.6, 'colsample_bytree': 0.8}. Best is trial 36 with value: 3.496549441410488.\u001b[0m\n"
          ]
        },
        {
          "output_type": "stream",
          "name": "stdout",
          "text": [
            "Currently running with:\n",
            "{'n_estimators': 801, 'max_depth': 8, 'learning_rate': 0.021, 'reg_alpha': 1, 'reg_lambda': 10, 'subsample ': 0.6, 'colsample_bytree': 0.7}\n"
          ]
        },
        {
          "output_type": "stream",
          "name": "stderr",
          "text": [
            "\u001b[32m[I 2022-09-27 12:26:04,914]\u001b[0m Trial 44 finished with value: 3.5095765573680375 and parameters: {'n_estimators': 801, 'max_depth': 8, 'learning_rate': 0.021, 'reg_alpha': 0, 'reg_lambda': 1, 'subsample': 0.6, 'colsample_bytree': 0.7}. Best is trial 36 with value: 3.496549441410488.\u001b[0m\n"
          ]
        },
        {
          "output_type": "stream",
          "name": "stdout",
          "text": [
            "Currently running with:\n",
            "{'n_estimators': 601, 'max_depth': 11, 'learning_rate': 0.056, 'reg_alpha': 10, 'reg_lambda': 100, 'subsample ': 0.6, 'colsample_bytree': 0.9}\n"
          ]
        },
        {
          "output_type": "stream",
          "name": "stderr",
          "text": [
            "\u001b[32m[I 2022-09-27 12:27:34,638]\u001b[0m Trial 45 finished with value: 3.517690005949033 and parameters: {'n_estimators': 601, 'max_depth': 11, 'learning_rate': 0.056, 'reg_alpha': 1, 'reg_lambda': 2, 'subsample': 0.6, 'colsample_bytree': 0.9}. Best is trial 36 with value: 3.496549441410488.\u001b[0m\n"
          ]
        },
        {
          "output_type": "stream",
          "name": "stdout",
          "text": [
            "Currently running with:\n",
            "{'n_estimators': 851, 'max_depth': 13, 'learning_rate': 0.026000000000000002, 'reg_alpha': 1, 'reg_lambda': 10, 'subsample ': 0.7, 'colsample_bytree': 0.8}\n"
          ]
        },
        {
          "output_type": "stream",
          "name": "stderr",
          "text": [
            "\u001b[32m[I 2022-09-27 12:33:06,799]\u001b[0m Trial 46 finished with value: 3.516554272727962 and parameters: {'n_estimators': 851, 'max_depth': 13, 'learning_rate': 0.026000000000000002, 'reg_alpha': 0, 'reg_lambda': 1, 'subsample': 0.7, 'colsample_bytree': 0.8}. Best is trial 36 with value: 3.496549441410488.\u001b[0m\n"
          ]
        },
        {
          "output_type": "stream",
          "name": "stdout",
          "text": [
            "Currently running with:\n",
            "{'n_estimators': 751, 'max_depth': 9, 'learning_rate': 0.081, 'reg_alpha': 1, 'reg_lambda': 100, 'subsample ': 0.6, 'colsample_bytree': 0.7}\n"
          ]
        },
        {
          "output_type": "stream",
          "name": "stderr",
          "text": [
            "\u001b[32m[I 2022-09-27 12:33:53,273]\u001b[0m Trial 47 finished with value: 3.5143223651541695 and parameters: {'n_estimators': 751, 'max_depth': 9, 'learning_rate': 0.081, 'reg_alpha': 0, 'reg_lambda': 2, 'subsample': 0.6, 'colsample_bytree': 0.7}. Best is trial 36 with value: 3.496549441410488.\u001b[0m\n"
          ]
        },
        {
          "output_type": "stream",
          "name": "stdout",
          "text": [
            "Currently running with:\n",
            "{'n_estimators': 701, 'max_depth': 12, 'learning_rate': 0.021, 'reg_alpha': 0.1, 'reg_lambda': 10, 'subsample ': 0.6, 'colsample_bytree': 0.9}\n"
          ]
        },
        {
          "output_type": "stream",
          "name": "stderr",
          "text": [
            "\u001b[32m[I 2022-09-27 12:37:03,573]\u001b[0m Trial 48 finished with value: 3.515844714611267 and parameters: {'n_estimators': 701, 'max_depth': 12, 'learning_rate': 0.021, 'reg_alpha': -1, 'reg_lambda': 1, 'subsample': 0.6, 'colsample_bytree': 0.9}. Best is trial 36 with value: 3.496549441410488.\u001b[0m\n"
          ]
        },
        {
          "output_type": "stream",
          "name": "stdout",
          "text": [
            "Currently running with:\n",
            "{'n_estimators': 601, 'max_depth': 14, 'learning_rate': 0.47600000000000003, 'reg_alpha': 10, 'reg_lambda': 10, 'subsample ': 0.7, 'colsample_bytree': 0.8}\n"
          ]
        },
        {
          "output_type": "stream",
          "name": "stderr",
          "text": [
            "\u001b[32m[I 2022-09-27 12:39:51,944]\u001b[0m Trial 49 finished with value: 3.717274842593086 and parameters: {'n_estimators': 601, 'max_depth': 14, 'learning_rate': 0.47600000000000003, 'reg_alpha': 1, 'reg_lambda': 1, 'subsample': 0.7, 'colsample_bytree': 0.8}. Best is trial 36 with value: 3.496549441410488.\u001b[0m\n"
          ]
        },
        {
          "output_type": "stream",
          "name": "stdout",
          "text": [
            "Final best parameters:\n"
          ]
        },
        {
          "output_type": "execute_result",
          "data": {
            "text/plain": [
              "{'n_estimators': 651,\n",
              " 'max_depth': 10,\n",
              " 'learning_rate': 0.016,\n",
              " 'reg_alpha': 0,\n",
              " 'reg_lambda': 1,\n",
              " 'subsample': 0.6,\n",
              " 'colsample_bytree': 0.8}"
            ]
          },
          "metadata": {},
          "execution_count": 16
        }
      ]
    },
    {
      "cell_type": "code",
      "source": [
        "best_params = study.best_params.copy()\n",
        "best_params[\"reg_lambda\"] = 10 ** best_params[\"reg_lambda\"]\n",
        "best_params[\"reg_alpha\"] = 10 ** best_params[\"reg_alpha\"]\n",
        "\n",
        "model = xgb.XGBRegressor(objective=\"reg:squarederror\",\n",
        "                          n_jobs=-1,\n",
        "                          grow_policy='lossguide',\n",
        "                          tree_method=\"gpu_hist\",\n",
        "                          predictor=\"gpu_predictor\",\n",
        "                          booster='gbtree',\n",
        "                          sampling_method='gradient_based',\n",
        "                          eval_metrics=['rmse'],\n",
        "                          random_state=RANDOM_SEED,\n",
        "                          enable_categorical=False,\n",
        "                          **best_params)\n",
        "pipe = make_pipeline(StandardScaler(), model)\n",
        "pipe.fit(X_train, y_train)"
      ],
      "metadata": {
        "id": "9BCwlu6b6FcI",
        "colab": {
          "base_uri": "https://localhost:8080/"
        },
        "outputId": "e84355b6-007f-45f1-a211-2807a37d698d"
      },
      "execution_count": 17,
      "outputs": [
        {
          "output_type": "execute_result",
          "data": {
            "text/plain": [
              "Pipeline(steps=[('standardscaler', StandardScaler()),\n",
              "                ('xgbregressor',\n",
              "                 XGBRegressor(colsample_bytree=0.8, enable_categorical=False,\n",
              "                              eval_metrics=['rmse'], grow_policy='lossguide',\n",
              "                              learning_rate=0.016, max_depth=10,\n",
              "                              n_estimators=651, n_jobs=-1,\n",
              "                              objective='reg:squarederror',\n",
              "                              predictor='gpu_predictor', random_state=2,\n",
              "                              reg_alpha=1, reg_lambda=10,\n",
              "                              sampling_method='gradient_based', subsample=0.6,\n",
              "                              tree_method='gpu_hist'))])"
            ]
          },
          "metadata": {},
          "execution_count": 17
        }
      ]
    },
    {
      "cell_type": "code",
      "source": [
        "train_pred = pipe.predict(X_train)\n",
        "test_pred = pipe.predict(X_test)\n",
        "print(f\"train results - RMSE: {mean_squared_error(y_train, train_pred, squared=False)}, MAE: {mean_absolute_error(y_train, train_pred)}\")\n",
        "print(f\"test results - RMSE: {mean_squared_error(y_test, test_pred, squared=False)}, MAE: {mean_absolute_error(y_test, test_pred)}\")"
      ],
      "metadata": {
        "id": "0XY6-CnD6NjS",
        "colab": {
          "base_uri": "https://localhost:8080/"
        },
        "outputId": "b0b81cab-9820-4b5e-da7d-dd81ba145c6a"
      },
      "execution_count": 18,
      "outputs": [
        {
          "output_type": "stream",
          "name": "stdout",
          "text": [
            "train results - RMSE: 2.8977865784650314, MAE: 1.3966921443385631\n",
            "test results - RMSE: 4.066559773782579, MAE: 1.5604560980021953\n"
          ]
        }
      ]
    },
    {
      "cell_type": "code",
      "source": [
        "mean_train = np.mean(y_train)\n",
        "print(f\"Baseline mean model - test RMSE: {np.sqrt(np.mean((y_test - mean_train)**2))}\")\n",
        "print(f\"Baseline mean model - test MAE: {np.mean(np.abs(y_test - mean_train))}\")"
      ],
      "metadata": {
        "id": "tQFXGvewRYIY",
        "colab": {
          "base_uri": "https://localhost:8080/"
        },
        "outputId": "11a63efe-5611-4625-ef52-f86984aefb86"
      },
      "execution_count": 19,
      "outputs": [
        {
          "output_type": "stream",
          "name": "stdout",
          "text": [
            "Baseline mean model - test RMSE: 4.685317144421096\n",
            "Baseline mean model - test MAE: 1.9206922705000002\n"
          ]
        }
      ]
    }
  ],
  "metadata": {
    "accelerator": "GPU",
    "colab": {
      "collapsed_sections": [],
      "provenance": []
    },
    "gpuClass": "standard",
    "kernelspec": {
      "display_name": "Python 3",
      "name": "python3"
    },
    "language_info": {
      "name": "python"
    }
  },
  "nbformat": 4,
  "nbformat_minor": 0
}