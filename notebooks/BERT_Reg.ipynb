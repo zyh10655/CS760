{
  "nbformat": 4,
  "nbformat_minor": 0,
  "metadata": {
    "colab": {
      "provenance": [],
      "collapsed_sections": []
    },
    "kernelspec": {
      "name": "python3",
      "display_name": "Python 3"
    },
    "language_info": {
      "name": "python"
    },
    "accelerator": "GPU"
  },
  "cells": [
    {
      "cell_type": "code",
      "execution_count": 1,
      "metadata": {
        "colab": {
          "base_uri": "https://localhost:8080/"
        },
        "id": "Xaz8-YNGcMnK",
        "outputId": "9ac51b06-798d-48e3-f3d8-cf89cc1cf885"
      },
      "outputs": [
        {
          "output_type": "stream",
          "name": "stdout",
          "text": [
            "Looking in indexes: https://pypi.org/simple, https://us-python.pkg.dev/colab-wheels/public/simple/\n",
            "Requirement already satisfied: transformers in /usr/local/lib/python3.7/dist-packages (4.22.1)\n",
            "Requirement already satisfied: requests in /usr/local/lib/python3.7/dist-packages (from transformers) (2.23.0)\n",
            "Requirement already satisfied: tokenizers!=0.11.3,<0.13,>=0.11.1 in /usr/local/lib/python3.7/dist-packages (from transformers) (0.12.1)\n",
            "Requirement already satisfied: tqdm>=4.27 in /usr/local/lib/python3.7/dist-packages (from transformers) (4.64.1)\n",
            "Requirement already satisfied: huggingface-hub<1.0,>=0.9.0 in /usr/local/lib/python3.7/dist-packages (from transformers) (0.9.1)\n",
            "Requirement already satisfied: pyyaml>=5.1 in /usr/local/lib/python3.7/dist-packages (from transformers) (6.0)\n",
            "Requirement already satisfied: filelock in /usr/local/lib/python3.7/dist-packages (from transformers) (3.8.0)\n",
            "Requirement already satisfied: packaging>=20.0 in /usr/local/lib/python3.7/dist-packages (from transformers) (21.3)\n",
            "Requirement already satisfied: regex!=2019.12.17 in /usr/local/lib/python3.7/dist-packages (from transformers) (2022.6.2)\n",
            "Requirement already satisfied: numpy>=1.17 in /usr/local/lib/python3.7/dist-packages (from transformers) (1.21.6)\n",
            "Requirement already satisfied: importlib-metadata in /usr/local/lib/python3.7/dist-packages (from transformers) (4.12.0)\n",
            "Requirement already satisfied: typing-extensions>=3.7.4.3 in /usr/local/lib/python3.7/dist-packages (from huggingface-hub<1.0,>=0.9.0->transformers) (4.1.1)\n",
            "Requirement already satisfied: pyparsing!=3.0.5,>=2.0.2 in /usr/local/lib/python3.7/dist-packages (from packaging>=20.0->transformers) (3.0.9)\n",
            "Requirement already satisfied: zipp>=0.5 in /usr/local/lib/python3.7/dist-packages (from importlib-metadata->transformers) (3.8.1)\n",
            "Requirement already satisfied: idna<3,>=2.5 in /usr/local/lib/python3.7/dist-packages (from requests->transformers) (2.10)\n",
            "Requirement already satisfied: chardet<4,>=3.0.2 in /usr/local/lib/python3.7/dist-packages (from requests->transformers) (3.0.4)\n",
            "Requirement already satisfied: certifi>=2017.4.17 in /usr/local/lib/python3.7/dist-packages (from requests->transformers) (2022.6.15)\n",
            "Requirement already satisfied: urllib3!=1.25.0,!=1.25.1,<1.26,>=1.21.1 in /usr/local/lib/python3.7/dist-packages (from requests->transformers) (1.25.11)\n"
          ]
        }
      ],
      "source": [
        "!pip install transformers"
      ]
    },
    {
      "cell_type": "code",
      "source": [
        "!pip install datasets"
      ],
      "metadata": {
        "colab": {
          "base_uri": "https://localhost:8080/"
        },
        "id": "EjqTxVMMcYbR",
        "outputId": "5a072aec-b04f-4f71-f7b5-f19054d27dd3"
      },
      "execution_count": 2,
      "outputs": [
        {
          "output_type": "stream",
          "name": "stdout",
          "text": [
            "Looking in indexes: https://pypi.org/simple, https://us-python.pkg.dev/colab-wheels/public/simple/\n",
            "Requirement already satisfied: datasets in /usr/local/lib/python3.7/dist-packages (2.5.1)\n",
            "Requirement already satisfied: numpy>=1.17 in /usr/local/lib/python3.7/dist-packages (from datasets) (1.21.6)\n",
            "Requirement already satisfied: pyarrow>=6.0.0 in /usr/local/lib/python3.7/dist-packages (from datasets) (6.0.1)\n",
            "Requirement already satisfied: dill<0.3.6 in /usr/local/lib/python3.7/dist-packages (from datasets) (0.3.5.1)\n",
            "Requirement already satisfied: requests>=2.19.0 in /usr/local/lib/python3.7/dist-packages (from datasets) (2.23.0)\n",
            "Requirement already satisfied: xxhash in /usr/local/lib/python3.7/dist-packages (from datasets) (3.0.0)\n",
            "Requirement already satisfied: multiprocess in /usr/local/lib/python3.7/dist-packages (from datasets) (0.70.13)\n",
            "Requirement already satisfied: packaging in /usr/local/lib/python3.7/dist-packages (from datasets) (21.3)\n",
            "Requirement already satisfied: huggingface-hub<1.0.0,>=0.1.0 in /usr/local/lib/python3.7/dist-packages (from datasets) (0.9.1)\n",
            "Requirement already satisfied: aiohttp in /usr/local/lib/python3.7/dist-packages (from datasets) (3.8.1)\n",
            "Requirement already satisfied: importlib-metadata in /usr/local/lib/python3.7/dist-packages (from datasets) (4.12.0)\n",
            "Requirement already satisfied: fsspec[http]>=2021.11.1 in /usr/local/lib/python3.7/dist-packages (from datasets) (2022.8.2)\n",
            "Requirement already satisfied: tqdm>=4.62.1 in /usr/local/lib/python3.7/dist-packages (from datasets) (4.64.1)\n",
            "Requirement already satisfied: responses<0.19 in /usr/local/lib/python3.7/dist-packages (from datasets) (0.18.0)\n",
            "Requirement already satisfied: pandas in /usr/local/lib/python3.7/dist-packages (from datasets) (1.3.5)\n",
            "Requirement already satisfied: aiosignal>=1.1.2 in /usr/local/lib/python3.7/dist-packages (from aiohttp->datasets) (1.2.0)\n",
            "Requirement already satisfied: async-timeout<5.0,>=4.0.0a3 in /usr/local/lib/python3.7/dist-packages (from aiohttp->datasets) (4.0.2)\n",
            "Requirement already satisfied: yarl<2.0,>=1.0 in /usr/local/lib/python3.7/dist-packages (from aiohttp->datasets) (1.8.1)\n",
            "Requirement already satisfied: charset-normalizer<3.0,>=2.0 in /usr/local/lib/python3.7/dist-packages (from aiohttp->datasets) (2.1.1)\n",
            "Requirement already satisfied: frozenlist>=1.1.1 in /usr/local/lib/python3.7/dist-packages (from aiohttp->datasets) (1.3.1)\n",
            "Requirement already satisfied: asynctest==0.13.0 in /usr/local/lib/python3.7/dist-packages (from aiohttp->datasets) (0.13.0)\n",
            "Requirement already satisfied: typing-extensions>=3.7.4 in /usr/local/lib/python3.7/dist-packages (from aiohttp->datasets) (4.1.1)\n",
            "Requirement already satisfied: attrs>=17.3.0 in /usr/local/lib/python3.7/dist-packages (from aiohttp->datasets) (22.1.0)\n",
            "Requirement already satisfied: multidict<7.0,>=4.5 in /usr/local/lib/python3.7/dist-packages (from aiohttp->datasets) (6.0.2)\n",
            "Requirement already satisfied: filelock in /usr/local/lib/python3.7/dist-packages (from huggingface-hub<1.0.0,>=0.1.0->datasets) (3.8.0)\n",
            "Requirement already satisfied: pyyaml>=5.1 in /usr/local/lib/python3.7/dist-packages (from huggingface-hub<1.0.0,>=0.1.0->datasets) (6.0)\n",
            "Requirement already satisfied: pyparsing!=3.0.5,>=2.0.2 in /usr/local/lib/python3.7/dist-packages (from packaging->datasets) (3.0.9)\n",
            "Requirement already satisfied: urllib3!=1.25.0,!=1.25.1,<1.26,>=1.21.1 in /usr/local/lib/python3.7/dist-packages (from requests>=2.19.0->datasets) (1.25.11)\n",
            "Requirement already satisfied: certifi>=2017.4.17 in /usr/local/lib/python3.7/dist-packages (from requests>=2.19.0->datasets) (2022.6.15)\n",
            "Requirement already satisfied: idna<3,>=2.5 in /usr/local/lib/python3.7/dist-packages (from requests>=2.19.0->datasets) (2.10)\n",
            "Requirement already satisfied: chardet<4,>=3.0.2 in /usr/local/lib/python3.7/dist-packages (from requests>=2.19.0->datasets) (3.0.4)\n",
            "Requirement already satisfied: zipp>=0.5 in /usr/local/lib/python3.7/dist-packages (from importlib-metadata->datasets) (3.8.1)\n",
            "Requirement already satisfied: python-dateutil>=2.7.3 in /usr/local/lib/python3.7/dist-packages (from pandas->datasets) (2.8.2)\n",
            "Requirement already satisfied: pytz>=2017.3 in /usr/local/lib/python3.7/dist-packages (from pandas->datasets) (2022.2.1)\n",
            "Requirement already satisfied: six>=1.5 in /usr/local/lib/python3.7/dist-packages (from python-dateutil>=2.7.3->pandas->datasets) (1.15.0)\n"
          ]
        }
      ]
    },
    {
      "cell_type": "code",
      "source": [
        "!nvidia-smi"
      ],
      "metadata": {
        "colab": {
          "base_uri": "https://localhost:8080/"
        },
        "id": "x-G83ryLwZ2U",
        "outputId": "fb00dc22-5ba1-4e38-e0e9-848d499a2ae3"
      },
      "execution_count": 3,
      "outputs": [
        {
          "output_type": "stream",
          "name": "stdout",
          "text": [
            "Fri Sep 23 13:48:58 2022       \n",
            "+-----------------------------------------------------------------------------+\n",
            "| NVIDIA-SMI 460.32.03    Driver Version: 460.32.03    CUDA Version: 11.2     |\n",
            "|-------------------------------+----------------------+----------------------+\n",
            "| GPU  Name        Persistence-M| Bus-Id        Disp.A | Volatile Uncorr. ECC |\n",
            "| Fan  Temp  Perf  Pwr:Usage/Cap|         Memory-Usage | GPU-Util  Compute M. |\n",
            "|                               |                      |               MIG M. |\n",
            "|===============================+======================+======================|\n",
            "|   0  Tesla T4            Off  | 00000000:00:04.0 Off |                    0 |\n",
            "| N/A   63C    P8    10W /  70W |      0MiB / 15109MiB |      0%      Default |\n",
            "|                               |                      |                  N/A |\n",
            "+-------------------------------+----------------------+----------------------+\n",
            "                                                                               \n",
            "+-----------------------------------------------------------------------------+\n",
            "| Processes:                                                                  |\n",
            "|  GPU   GI   CI        PID   Type   Process name                  GPU Memory |\n",
            "|        ID   ID                                                   Usage      |\n",
            "|=============================================================================|\n",
            "|  No running processes found                                                 |\n",
            "+-----------------------------------------------------------------------------+\n"
          ]
        }
      ]
    },
    {
      "cell_type": "code",
      "source": [
        "from google.colab import drive\n",
        "drive.mount('/content/drive')"
      ],
      "metadata": {
        "colab": {
          "base_uri": "https://localhost:8080/"
        },
        "id": "ZQ1ZrdPSeQxz",
        "outputId": "daed94f9-f758-44b5-dfe3-a49a042fe7fc"
      },
      "execution_count": 4,
      "outputs": [
        {
          "output_type": "stream",
          "name": "stdout",
          "text": [
            "Drive already mounted at /content/drive; to attempt to forcibly remount, call drive.mount(\"/content/drive\", force_remount=True).\n"
          ]
        }
      ]
    },
    {
      "cell_type": "code",
      "source": [
        "import numpy as np\n",
        "import pandas as pd \n",
        "import matplotlib.pyplot as plt\n",
        "import torch\n",
        "import torch.nn as nn\n",
        "import torch.optim as optim\n",
        "import torch.nn.functional as F\n",
        "import os\n",
        "import sys\n",
        "import warnings\n",
        "\n",
        "from torch.utils.data import DataLoader, Dataset\n",
        "from transformers import BertPreTrainedModel, BertModel, AutoConfig, AutoTokenizer\n",
        "from sklearn.metrics import mean_squared_error, mean_absolute_error\n",
        "from tqdm import tqdm, trange\n",
        "from collections import defaultdict"
      ],
      "metadata": {
        "id": "rRIKfApxgSf1"
      },
      "execution_count": 5,
      "outputs": []
    },
    {
      "cell_type": "markdown",
      "source": [
        "# Load the Dataset"
      ],
      "metadata": {
        "id": "gAKRQsAniyxy"
      }
    },
    {
      "cell_type": "code",
      "source": [
        "df_train_text = pd.read_parquet(\"./drive/MyDrive/CS760/train_text.parquet.snappy\")\n",
        "df_val_text = pd.read_parquet(\"./drive/MyDrive/CS760/val_text.parquet.snappy\")\n",
        "df_test_text = pd.read_parquet(\"./drive/MyDrive/CS760/test_text.parquet.snappy\")\n",
        "\n",
        "df_train_main = pd.read_parquet(\"./drive/MyDrive/CS760/train_main.parquet.snappy\")\n",
        "df_val_main = pd.read_parquet(\"./drive/MyDrive/CS760/val_main.parquet.snappy\")\n",
        "df_test_main = pd.read_parquet(\"./drive/MyDrive/CS760/test_main.parquet.snappy\")\n",
        "\n",
        "\n",
        "print(f\"Shape of the training dataset : {df_train_text.shape}\")\n",
        "print(f\"Shape of the validation dataset : {df_val_text.shape}\")\n",
        "print(f\"Shape of the test dataset : {df_test_text.shape}\")\n",
        "\n",
        "print(\"-\"*20)\n",
        "\n",
        "\n",
        "print(f\"Shape of the training dataset : {df_train_main.shape}\")\n",
        "print(f\"Shape of the validation dataset : {df_val_main.shape}\")\n",
        "print(f\"Shape of the test dataset : {df_test_main.shape}\")"
      ],
      "metadata": {
        "colab": {
          "base_uri": "https://localhost:8080/"
        },
        "id": "EHqHhRu6itSt",
        "outputId": "3fdea8a5-2da9-40ab-d5e1-6288c76ce011"
      },
      "execution_count": 6,
      "outputs": [
        {
          "output_type": "stream",
          "name": "stdout",
          "text": [
            "Shape of the training dataset : (2060626, 2)\n",
            "Shape of the validation dataset : (257578, 2)\n",
            "Shape of the test dataset : (257579, 2)\n",
            "--------------------\n",
            "Shape of the training dataset : (2060626, 13)\n",
            "Shape of the validation dataset : (257578, 13)\n",
            "Shape of the test dataset : (257579, 13)\n"
          ]
        }
      ]
    },
    {
      "cell_type": "code",
      "source": [
        "df_train_text.head()"
      ],
      "metadata": {
        "colab": {
          "base_uri": "https://localhost:8080/",
          "height": 206
        },
        "id": "zmyUDCkekI7O",
        "outputId": "5eed6aa6-b11d-4fb9-b7da-7036027acd02"
      },
      "execution_count": 7,
      "outputs": [
        {
          "output_type": "execute_result",
          "data": {
            "text/plain": [
              "      r_id                                             r_text\n",
              "0  5508740  Honestly one of the best meals I've ever had i...\n",
              "1  1633913  *****I will start this review by saying that I...\n",
              "2  1427664  Cute and small bakery with good service and th...\n",
              "3  5536866  After looking into multiple tinting companies ...\n",
              "4  3380896  A verbal snapshot of the things that instantly..."
            ],
            "text/html": [
              "\n",
              "  <div id=\"df-e509ded4-d256-416f-847a-ea70bdaf52f9\">\n",
              "    <div class=\"colab-df-container\">\n",
              "      <div>\n",
              "<style scoped>\n",
              "    .dataframe tbody tr th:only-of-type {\n",
              "        vertical-align: middle;\n",
              "    }\n",
              "\n",
              "    .dataframe tbody tr th {\n",
              "        vertical-align: top;\n",
              "    }\n",
              "\n",
              "    .dataframe thead th {\n",
              "        text-align: right;\n",
              "    }\n",
              "</style>\n",
              "<table border=\"1\" class=\"dataframe\">\n",
              "  <thead>\n",
              "    <tr style=\"text-align: right;\">\n",
              "      <th></th>\n",
              "      <th>r_id</th>\n",
              "      <th>r_text</th>\n",
              "    </tr>\n",
              "  </thead>\n",
              "  <tbody>\n",
              "    <tr>\n",
              "      <th>0</th>\n",
              "      <td>5508740</td>\n",
              "      <td>Honestly one of the best meals I've ever had i...</td>\n",
              "    </tr>\n",
              "    <tr>\n",
              "      <th>1</th>\n",
              "      <td>1633913</td>\n",
              "      <td>*****I will start this review by saying that I...</td>\n",
              "    </tr>\n",
              "    <tr>\n",
              "      <th>2</th>\n",
              "      <td>1427664</td>\n",
              "      <td>Cute and small bakery with good service and th...</td>\n",
              "    </tr>\n",
              "    <tr>\n",
              "      <th>3</th>\n",
              "      <td>5536866</td>\n",
              "      <td>After looking into multiple tinting companies ...</td>\n",
              "    </tr>\n",
              "    <tr>\n",
              "      <th>4</th>\n",
              "      <td>3380896</td>\n",
              "      <td>A verbal snapshot of the things that instantly...</td>\n",
              "    </tr>\n",
              "  </tbody>\n",
              "</table>\n",
              "</div>\n",
              "      <button class=\"colab-df-convert\" onclick=\"convertToInteractive('df-e509ded4-d256-416f-847a-ea70bdaf52f9')\"\n",
              "              title=\"Convert this dataframe to an interactive table.\"\n",
              "              style=\"display:none;\">\n",
              "        \n",
              "  <svg xmlns=\"http://www.w3.org/2000/svg\" height=\"24px\"viewBox=\"0 0 24 24\"\n",
              "       width=\"24px\">\n",
              "    <path d=\"M0 0h24v24H0V0z\" fill=\"none\"/>\n",
              "    <path d=\"M18.56 5.44l.94 2.06.94-2.06 2.06-.94-2.06-.94-.94-2.06-.94 2.06-2.06.94zm-11 1L8.5 8.5l.94-2.06 2.06-.94-2.06-.94L8.5 2.5l-.94 2.06-2.06.94zm10 10l.94 2.06.94-2.06 2.06-.94-2.06-.94-.94-2.06-.94 2.06-2.06.94z\"/><path d=\"M17.41 7.96l-1.37-1.37c-.4-.4-.92-.59-1.43-.59-.52 0-1.04.2-1.43.59L10.3 9.45l-7.72 7.72c-.78.78-.78 2.05 0 2.83L4 21.41c.39.39.9.59 1.41.59.51 0 1.02-.2 1.41-.59l7.78-7.78 2.81-2.81c.8-.78.8-2.07 0-2.86zM5.41 20L4 18.59l7.72-7.72 1.47 1.35L5.41 20z\"/>\n",
              "  </svg>\n",
              "      </button>\n",
              "      \n",
              "  <style>\n",
              "    .colab-df-container {\n",
              "      display:flex;\n",
              "      flex-wrap:wrap;\n",
              "      gap: 12px;\n",
              "    }\n",
              "\n",
              "    .colab-df-convert {\n",
              "      background-color: #E8F0FE;\n",
              "      border: none;\n",
              "      border-radius: 50%;\n",
              "      cursor: pointer;\n",
              "      display: none;\n",
              "      fill: #1967D2;\n",
              "      height: 32px;\n",
              "      padding: 0 0 0 0;\n",
              "      width: 32px;\n",
              "    }\n",
              "\n",
              "    .colab-df-convert:hover {\n",
              "      background-color: #E2EBFA;\n",
              "      box-shadow: 0px 1px 2px rgba(60, 64, 67, 0.3), 0px 1px 3px 1px rgba(60, 64, 67, 0.15);\n",
              "      fill: #174EA6;\n",
              "    }\n",
              "\n",
              "    [theme=dark] .colab-df-convert {\n",
              "      background-color: #3B4455;\n",
              "      fill: #D2E3FC;\n",
              "    }\n",
              "\n",
              "    [theme=dark] .colab-df-convert:hover {\n",
              "      background-color: #434B5C;\n",
              "      box-shadow: 0px 1px 3px 1px rgba(0, 0, 0, 0.15);\n",
              "      filter: drop-shadow(0px 1px 2px rgba(0, 0, 0, 0.3));\n",
              "      fill: #FFFFFF;\n",
              "    }\n",
              "  </style>\n",
              "\n",
              "      <script>\n",
              "        const buttonEl =\n",
              "          document.querySelector('#df-e509ded4-d256-416f-847a-ea70bdaf52f9 button.colab-df-convert');\n",
              "        buttonEl.style.display =\n",
              "          google.colab.kernel.accessAllowed ? 'block' : 'none';\n",
              "\n",
              "        async function convertToInteractive(key) {\n",
              "          const element = document.querySelector('#df-e509ded4-d256-416f-847a-ea70bdaf52f9');\n",
              "          const dataTable =\n",
              "            await google.colab.kernel.invokeFunction('convertToInteractive',\n",
              "                                                     [key], {});\n",
              "          if (!dataTable) return;\n",
              "\n",
              "          const docLinkHtml = 'Like what you see? Visit the ' +\n",
              "            '<a target=\"_blank\" href=https://colab.research.google.com/notebooks/data_table.ipynb>data table notebook</a>'\n",
              "            + ' to learn more about interactive tables.';\n",
              "          element.innerHTML = '';\n",
              "          dataTable['output_type'] = 'display_data';\n",
              "          await google.colab.output.renderOutput(dataTable, element);\n",
              "          const docLink = document.createElement('div');\n",
              "          docLink.innerHTML = docLinkHtml;\n",
              "          element.appendChild(docLink);\n",
              "        }\n",
              "      </script>\n",
              "    </div>\n",
              "  </div>\n",
              "  "
            ]
          },
          "metadata": {},
          "execution_count": 7
        }
      ]
    },
    {
      "cell_type": "code",
      "source": [
        "df_train_main.head()"
      ],
      "metadata": {
        "colab": {
          "base_uri": "https://localhost:8080/",
          "height": 206
        },
        "id": "SDA9GDm_6J7z",
        "outputId": "592023c1-9ecf-428a-8f6e-f3d03195e129"
      },
      "execution_count": 8,
      "outputs": [
        {
          "output_type": "execute_result",
          "data": {
            "text/plain": [
              "      r_id  r_stars  r_stars_square  r_length  u_friends_count  \\\n",
              "0  5508740        5              25        54                1   \n",
              "1  1633913        1               1       224               47   \n",
              "2  1427664        4              16        18               35   \n",
              "3  5536866        5              25        86              156   \n",
              "4  3380896        5              25        79             6660   \n",
              "\n",
              "   u_review_count  u_month_age  b_stars  b_review_count     r_sen     r_sub  \\\n",
              "0               2    23.093032      4.0            7400  0.197348  0.293939   \n",
              "1              43    57.182693      3.0              27  0.088636  0.320328   \n",
              "2             112    44.484607      4.0             103  0.368750  0.412500   \n",
              "3              21    28.229579      5.0               5  0.150000  0.485000   \n",
              "4            2492    40.995708      4.0             709  0.345833  0.541667   \n",
              "\n",
              "   r_rea  r_useful  \n",
              "0  72.22         1  \n",
              "1  89.28         5  \n",
              "2  87.72         1  \n",
              "3  49.86         2  \n",
              "4  57.78        14  "
            ],
            "text/html": [
              "\n",
              "  <div id=\"df-037cba46-a5c3-4e21-a925-72a69f04f179\">\n",
              "    <div class=\"colab-df-container\">\n",
              "      <div>\n",
              "<style scoped>\n",
              "    .dataframe tbody tr th:only-of-type {\n",
              "        vertical-align: middle;\n",
              "    }\n",
              "\n",
              "    .dataframe tbody tr th {\n",
              "        vertical-align: top;\n",
              "    }\n",
              "\n",
              "    .dataframe thead th {\n",
              "        text-align: right;\n",
              "    }\n",
              "</style>\n",
              "<table border=\"1\" class=\"dataframe\">\n",
              "  <thead>\n",
              "    <tr style=\"text-align: right;\">\n",
              "      <th></th>\n",
              "      <th>r_id</th>\n",
              "      <th>r_stars</th>\n",
              "      <th>r_stars_square</th>\n",
              "      <th>r_length</th>\n",
              "      <th>u_friends_count</th>\n",
              "      <th>u_review_count</th>\n",
              "      <th>u_month_age</th>\n",
              "      <th>b_stars</th>\n",
              "      <th>b_review_count</th>\n",
              "      <th>r_sen</th>\n",
              "      <th>r_sub</th>\n",
              "      <th>r_rea</th>\n",
              "      <th>r_useful</th>\n",
              "    </tr>\n",
              "  </thead>\n",
              "  <tbody>\n",
              "    <tr>\n",
              "      <th>0</th>\n",
              "      <td>5508740</td>\n",
              "      <td>5</td>\n",
              "      <td>25</td>\n",
              "      <td>54</td>\n",
              "      <td>1</td>\n",
              "      <td>2</td>\n",
              "      <td>23.093032</td>\n",
              "      <td>4.0</td>\n",
              "      <td>7400</td>\n",
              "      <td>0.197348</td>\n",
              "      <td>0.293939</td>\n",
              "      <td>72.22</td>\n",
              "      <td>1</td>\n",
              "    </tr>\n",
              "    <tr>\n",
              "      <th>1</th>\n",
              "      <td>1633913</td>\n",
              "      <td>1</td>\n",
              "      <td>1</td>\n",
              "      <td>224</td>\n",
              "      <td>47</td>\n",
              "      <td>43</td>\n",
              "      <td>57.182693</td>\n",
              "      <td>3.0</td>\n",
              "      <td>27</td>\n",
              "      <td>0.088636</td>\n",
              "      <td>0.320328</td>\n",
              "      <td>89.28</td>\n",
              "      <td>5</td>\n",
              "    </tr>\n",
              "    <tr>\n",
              "      <th>2</th>\n",
              "      <td>1427664</td>\n",
              "      <td>4</td>\n",
              "      <td>16</td>\n",
              "      <td>18</td>\n",
              "      <td>35</td>\n",
              "      <td>112</td>\n",
              "      <td>44.484607</td>\n",
              "      <td>4.0</td>\n",
              "      <td>103</td>\n",
              "      <td>0.368750</td>\n",
              "      <td>0.412500</td>\n",
              "      <td>87.72</td>\n",
              "      <td>1</td>\n",
              "    </tr>\n",
              "    <tr>\n",
              "      <th>3</th>\n",
              "      <td>5536866</td>\n",
              "      <td>5</td>\n",
              "      <td>25</td>\n",
              "      <td>86</td>\n",
              "      <td>156</td>\n",
              "      <td>21</td>\n",
              "      <td>28.229579</td>\n",
              "      <td>5.0</td>\n",
              "      <td>5</td>\n",
              "      <td>0.150000</td>\n",
              "      <td>0.485000</td>\n",
              "      <td>49.86</td>\n",
              "      <td>2</td>\n",
              "    </tr>\n",
              "    <tr>\n",
              "      <th>4</th>\n",
              "      <td>3380896</td>\n",
              "      <td>5</td>\n",
              "      <td>25</td>\n",
              "      <td>79</td>\n",
              "      <td>6660</td>\n",
              "      <td>2492</td>\n",
              "      <td>40.995708</td>\n",
              "      <td>4.0</td>\n",
              "      <td>709</td>\n",
              "      <td>0.345833</td>\n",
              "      <td>0.541667</td>\n",
              "      <td>57.78</td>\n",
              "      <td>14</td>\n",
              "    </tr>\n",
              "  </tbody>\n",
              "</table>\n",
              "</div>\n",
              "      <button class=\"colab-df-convert\" onclick=\"convertToInteractive('df-037cba46-a5c3-4e21-a925-72a69f04f179')\"\n",
              "              title=\"Convert this dataframe to an interactive table.\"\n",
              "              style=\"display:none;\">\n",
              "        \n",
              "  <svg xmlns=\"http://www.w3.org/2000/svg\" height=\"24px\"viewBox=\"0 0 24 24\"\n",
              "       width=\"24px\">\n",
              "    <path d=\"M0 0h24v24H0V0z\" fill=\"none\"/>\n",
              "    <path d=\"M18.56 5.44l.94 2.06.94-2.06 2.06-.94-2.06-.94-.94-2.06-.94 2.06-2.06.94zm-11 1L8.5 8.5l.94-2.06 2.06-.94-2.06-.94L8.5 2.5l-.94 2.06-2.06.94zm10 10l.94 2.06.94-2.06 2.06-.94-2.06-.94-.94-2.06-.94 2.06-2.06.94z\"/><path d=\"M17.41 7.96l-1.37-1.37c-.4-.4-.92-.59-1.43-.59-.52 0-1.04.2-1.43.59L10.3 9.45l-7.72 7.72c-.78.78-.78 2.05 0 2.83L4 21.41c.39.39.9.59 1.41.59.51 0 1.02-.2 1.41-.59l7.78-7.78 2.81-2.81c.8-.78.8-2.07 0-2.86zM5.41 20L4 18.59l7.72-7.72 1.47 1.35L5.41 20z\"/>\n",
              "  </svg>\n",
              "      </button>\n",
              "      \n",
              "  <style>\n",
              "    .colab-df-container {\n",
              "      display:flex;\n",
              "      flex-wrap:wrap;\n",
              "      gap: 12px;\n",
              "    }\n",
              "\n",
              "    .colab-df-convert {\n",
              "      background-color: #E8F0FE;\n",
              "      border: none;\n",
              "      border-radius: 50%;\n",
              "      cursor: pointer;\n",
              "      display: none;\n",
              "      fill: #1967D2;\n",
              "      height: 32px;\n",
              "      padding: 0 0 0 0;\n",
              "      width: 32px;\n",
              "    }\n",
              "\n",
              "    .colab-df-convert:hover {\n",
              "      background-color: #E2EBFA;\n",
              "      box-shadow: 0px 1px 2px rgba(60, 64, 67, 0.3), 0px 1px 3px 1px rgba(60, 64, 67, 0.15);\n",
              "      fill: #174EA6;\n",
              "    }\n",
              "\n",
              "    [theme=dark] .colab-df-convert {\n",
              "      background-color: #3B4455;\n",
              "      fill: #D2E3FC;\n",
              "    }\n",
              "\n",
              "    [theme=dark] .colab-df-convert:hover {\n",
              "      background-color: #434B5C;\n",
              "      box-shadow: 0px 1px 3px 1px rgba(0, 0, 0, 0.15);\n",
              "      filter: drop-shadow(0px 1px 2px rgba(0, 0, 0, 0.3));\n",
              "      fill: #FFFFFF;\n",
              "    }\n",
              "  </style>\n",
              "\n",
              "      <script>\n",
              "        const buttonEl =\n",
              "          document.querySelector('#df-037cba46-a5c3-4e21-a925-72a69f04f179 button.colab-df-convert');\n",
              "        buttonEl.style.display =\n",
              "          google.colab.kernel.accessAllowed ? 'block' : 'none';\n",
              "\n",
              "        async function convertToInteractive(key) {\n",
              "          const element = document.querySelector('#df-037cba46-a5c3-4e21-a925-72a69f04f179');\n",
              "          const dataTable =\n",
              "            await google.colab.kernel.invokeFunction('convertToInteractive',\n",
              "                                                     [key], {});\n",
              "          if (!dataTable) return;\n",
              "\n",
              "          const docLinkHtml = 'Like what you see? Visit the ' +\n",
              "            '<a target=\"_blank\" href=https://colab.research.google.com/notebooks/data_table.ipynb>data table notebook</a>'\n",
              "            + ' to learn more about interactive tables.';\n",
              "          element.innerHTML = '';\n",
              "          dataTable['output_type'] = 'display_data';\n",
              "          await google.colab.output.renderOutput(dataTable, element);\n",
              "          const docLink = document.createElement('div');\n",
              "          docLink.innerHTML = docLinkHtml;\n",
              "          element.appendChild(docLink);\n",
              "        }\n",
              "      </script>\n",
              "    </div>\n",
              "  </div>\n",
              "  "
            ]
          },
          "metadata": {},
          "execution_count": 8
        }
      ]
    },
    {
      "cell_type": "code",
      "source": [
        "def merge_data(df1:pd.DataFrame, df2:pd.DataFrame, on:str, suffixes:tuple=None) -> pd.DataFrame:\n",
        "  \"\"\" Function to merge the dataframe \"\"\"\n",
        "  \n",
        "  if suffixes is None:\n",
        "    suffixes = ('_x', '_y')\n",
        "\n",
        "  df_merge = pd.merge(df1, df2, on=on, suffixes=suffixes)\n",
        "  df_merge = df_merge[['r_text', 'r_useful']]\n",
        "\n",
        "  return df_merge\n",
        "\n",
        "df_train = merge_data(df_train_text, df_train_main, \"r_id\", suffixes=('_text', '_main'))\n",
        "df_val = merge_data(df_val_text, df_val_main, \"r_id\", suffixes=('_text', '_main'))\n",
        "df_test = merge_data(df_test_text, df_test_main, \"r_id\", suffixes=('_text', '_main'))"
      ],
      "metadata": {
        "id": "Vm8g74po6Oo3"
      },
      "execution_count": 9,
      "outputs": []
    },
    {
      "cell_type": "code",
      "source": [
        "df_train.head()"
      ],
      "metadata": {
        "colab": {
          "base_uri": "https://localhost:8080/",
          "height": 206
        },
        "id": "W4_MOcq-8cLS",
        "outputId": "3fa4aecb-faee-4083-f5e4-c92ab190ee24"
      },
      "execution_count": 10,
      "outputs": [
        {
          "output_type": "execute_result",
          "data": {
            "text/plain": [
              "                                              r_text  r_useful\n",
              "0  Honestly one of the best meals I've ever had i...         1\n",
              "1  *****I will start this review by saying that I...         5\n",
              "2  Cute and small bakery with good service and th...         1\n",
              "3  After looking into multiple tinting companies ...         2\n",
              "4  A verbal snapshot of the things that instantly...        14"
            ],
            "text/html": [
              "\n",
              "  <div id=\"df-d301bd46-89ee-4329-8efe-ea1680cf18ca\">\n",
              "    <div class=\"colab-df-container\">\n",
              "      <div>\n",
              "<style scoped>\n",
              "    .dataframe tbody tr th:only-of-type {\n",
              "        vertical-align: middle;\n",
              "    }\n",
              "\n",
              "    .dataframe tbody tr th {\n",
              "        vertical-align: top;\n",
              "    }\n",
              "\n",
              "    .dataframe thead th {\n",
              "        text-align: right;\n",
              "    }\n",
              "</style>\n",
              "<table border=\"1\" class=\"dataframe\">\n",
              "  <thead>\n",
              "    <tr style=\"text-align: right;\">\n",
              "      <th></th>\n",
              "      <th>r_text</th>\n",
              "      <th>r_useful</th>\n",
              "    </tr>\n",
              "  </thead>\n",
              "  <tbody>\n",
              "    <tr>\n",
              "      <th>0</th>\n",
              "      <td>Honestly one of the best meals I've ever had i...</td>\n",
              "      <td>1</td>\n",
              "    </tr>\n",
              "    <tr>\n",
              "      <th>1</th>\n",
              "      <td>*****I will start this review by saying that I...</td>\n",
              "      <td>5</td>\n",
              "    </tr>\n",
              "    <tr>\n",
              "      <th>2</th>\n",
              "      <td>Cute and small bakery with good service and th...</td>\n",
              "      <td>1</td>\n",
              "    </tr>\n",
              "    <tr>\n",
              "      <th>3</th>\n",
              "      <td>After looking into multiple tinting companies ...</td>\n",
              "      <td>2</td>\n",
              "    </tr>\n",
              "    <tr>\n",
              "      <th>4</th>\n",
              "      <td>A verbal snapshot of the things that instantly...</td>\n",
              "      <td>14</td>\n",
              "    </tr>\n",
              "  </tbody>\n",
              "</table>\n",
              "</div>\n",
              "      <button class=\"colab-df-convert\" onclick=\"convertToInteractive('df-d301bd46-89ee-4329-8efe-ea1680cf18ca')\"\n",
              "              title=\"Convert this dataframe to an interactive table.\"\n",
              "              style=\"display:none;\">\n",
              "        \n",
              "  <svg xmlns=\"http://www.w3.org/2000/svg\" height=\"24px\"viewBox=\"0 0 24 24\"\n",
              "       width=\"24px\">\n",
              "    <path d=\"M0 0h24v24H0V0z\" fill=\"none\"/>\n",
              "    <path d=\"M18.56 5.44l.94 2.06.94-2.06 2.06-.94-2.06-.94-.94-2.06-.94 2.06-2.06.94zm-11 1L8.5 8.5l.94-2.06 2.06-.94-2.06-.94L8.5 2.5l-.94 2.06-2.06.94zm10 10l.94 2.06.94-2.06 2.06-.94-2.06-.94-.94-2.06-.94 2.06-2.06.94z\"/><path d=\"M17.41 7.96l-1.37-1.37c-.4-.4-.92-.59-1.43-.59-.52 0-1.04.2-1.43.59L10.3 9.45l-7.72 7.72c-.78.78-.78 2.05 0 2.83L4 21.41c.39.39.9.59 1.41.59.51 0 1.02-.2 1.41-.59l7.78-7.78 2.81-2.81c.8-.78.8-2.07 0-2.86zM5.41 20L4 18.59l7.72-7.72 1.47 1.35L5.41 20z\"/>\n",
              "  </svg>\n",
              "      </button>\n",
              "      \n",
              "  <style>\n",
              "    .colab-df-container {\n",
              "      display:flex;\n",
              "      flex-wrap:wrap;\n",
              "      gap: 12px;\n",
              "    }\n",
              "\n",
              "    .colab-df-convert {\n",
              "      background-color: #E8F0FE;\n",
              "      border: none;\n",
              "      border-radius: 50%;\n",
              "      cursor: pointer;\n",
              "      display: none;\n",
              "      fill: #1967D2;\n",
              "      height: 32px;\n",
              "      padding: 0 0 0 0;\n",
              "      width: 32px;\n",
              "    }\n",
              "\n",
              "    .colab-df-convert:hover {\n",
              "      background-color: #E2EBFA;\n",
              "      box-shadow: 0px 1px 2px rgba(60, 64, 67, 0.3), 0px 1px 3px 1px rgba(60, 64, 67, 0.15);\n",
              "      fill: #174EA6;\n",
              "    }\n",
              "\n",
              "    [theme=dark] .colab-df-convert {\n",
              "      background-color: #3B4455;\n",
              "      fill: #D2E3FC;\n",
              "    }\n",
              "\n",
              "    [theme=dark] .colab-df-convert:hover {\n",
              "      background-color: #434B5C;\n",
              "      box-shadow: 0px 1px 3px 1px rgba(0, 0, 0, 0.15);\n",
              "      filter: drop-shadow(0px 1px 2px rgba(0, 0, 0, 0.3));\n",
              "      fill: #FFFFFF;\n",
              "    }\n",
              "  </style>\n",
              "\n",
              "      <script>\n",
              "        const buttonEl =\n",
              "          document.querySelector('#df-d301bd46-89ee-4329-8efe-ea1680cf18ca button.colab-df-convert');\n",
              "        buttonEl.style.display =\n",
              "          google.colab.kernel.accessAllowed ? 'block' : 'none';\n",
              "\n",
              "        async function convertToInteractive(key) {\n",
              "          const element = document.querySelector('#df-d301bd46-89ee-4329-8efe-ea1680cf18ca');\n",
              "          const dataTable =\n",
              "            await google.colab.kernel.invokeFunction('convertToInteractive',\n",
              "                                                     [key], {});\n",
              "          if (!dataTable) return;\n",
              "\n",
              "          const docLinkHtml = 'Like what you see? Visit the ' +\n",
              "            '<a target=\"_blank\" href=https://colab.research.google.com/notebooks/data_table.ipynb>data table notebook</a>'\n",
              "            + ' to learn more about interactive tables.';\n",
              "          element.innerHTML = '';\n",
              "          dataTable['output_type'] = 'display_data';\n",
              "          await google.colab.output.renderOutput(dataTable, element);\n",
              "          const docLink = document.createElement('div');\n",
              "          docLink.innerHTML = docLinkHtml;\n",
              "          element.appendChild(docLink);\n",
              "        }\n",
              "      </script>\n",
              "    </div>\n",
              "  </div>\n",
              "  "
            ]
          },
          "metadata": {},
          "execution_count": 10
        }
      ]
    },
    {
      "cell_type": "code",
      "source": [
        "wc_train = df_train[\"r_text\"].apply(lambda x: len(x.split()))\n",
        "wc_val = df_val[\"r_text\"].apply(lambda x: len(x.split()))\n",
        "wc_test = df_test[\"r_text\"].apply(lambda x: len(x.split()))"
      ],
      "metadata": {
        "id": "TEnalbRakTPw"
      },
      "execution_count": 11,
      "outputs": []
    },
    {
      "cell_type": "code",
      "source": [
        "maxlen = np.max([np.mean(wc_train), np.mean(wc_val), np.mean(wc_test), 511]).astype(int)\n",
        "maxlen"
      ],
      "metadata": {
        "colab": {
          "base_uri": "https://localhost:8080/"
        },
        "id": "ipK1C2b3kuQn",
        "outputId": "96699765-6b5c-4183-a89a-dcc46e26bd2a"
      },
      "execution_count": 12,
      "outputs": [
        {
          "output_type": "execute_result",
          "data": {
            "text/plain": [
              "511"
            ]
          },
          "metadata": {},
          "execution_count": 12
        }
      ]
    },
    {
      "cell_type": "markdown",
      "source": [
        "# Configuration"
      ],
      "metadata": {
        "id": "N7i37vxWl7SE"
      }
    },
    {
      "cell_type": "code",
      "source": [
        "MODEL_OUT_DIR = \"./bert_reg_model/\"\n",
        "\n",
        "## TRAINING + MODEL CONFIG\n",
        "BATCH_SZ = 128\n",
        "LR = 1e-3\n",
        "EPOCHS=10\n",
        "NUM_THREADS=1\n",
        "MODEL_NAME='bert-base-uncased'\n",
        "\n",
        "if not os.path.exists(MODEL_OUT_DIR):\n",
        "  os.mkdir(MODEL_OUT_DIR)"
      ],
      "metadata": {
        "id": "4k2a3J3ulD2V"
      },
      "execution_count": 13,
      "outputs": []
    },
    {
      "cell_type": "markdown",
      "source": [
        "# Dataset Class"
      ],
      "metadata": {
        "id": "jj33HdP9x24Q"
      }
    },
    {
      "cell_type": "code",
      "source": [
        "class YelpDataset:\n",
        "  def __init__(self, data, maxlen, tokenizer):\n",
        "    self.df = data\n",
        "    self.maxlen = maxlen\n",
        "    self.tokenizer = tokenizer\n",
        "\n",
        "  def __len__(self):\n",
        "    return self.df.shape[0]\n",
        "\n",
        "  def __getitem__(self, idx:int):\n",
        "\n",
        "    text = self.df.loc[idx, \"r_text\"]\n",
        "    try:\n",
        "      label = self.df.loc[idx, \"r_useful\"]\n",
        "    except Exception:\n",
        "      label = 0\n",
        "\n",
        "    tokens = self.tokenizer.tokenize(text)\n",
        "    tokens = tokens[:self.maxlen]\n",
        "    tokens = [\"[CLS]\"] + tokens + [\"[SEP]\"]\n",
        "\n",
        "    if len(tokens) < self.maxlen:\n",
        "      tokens = tokens + ['[PAD]' for _ in range(self.maxlen - len(tokens))] \n",
        "    else:\n",
        "      tokens = tokens[:self.maxlen - 1] + ['[SEP]']\n",
        "    input_ids = self.tokenizer.convert_tokens_to_ids(tokens)\n",
        "\n",
        "    input_ids = torch.Tensor(input_ids).int()\n",
        "    attention_mask = (input_ids != 0).long() # Attention Mask\n",
        "    target = torch.Tensor([label])\n",
        "    \n",
        "    return input_ids, attention_mask, target \n",
        "\n"
      ],
      "metadata": {
        "id": "kdbRicQ_m2tn"
      },
      "execution_count": 14,
      "outputs": []
    },
    {
      "cell_type": "markdown",
      "source": [
        "# Regression Model"
      ],
      "metadata": {
        "id": "WKDBRien_Huy"
      }
    },
    {
      "cell_type": "code",
      "source": [
        "class BertRegressor(BertPreTrainedModel):\n",
        "  def __init__(self, config):\n",
        "    super().__init__(config)\n",
        "    \n",
        "    self.bert = BertModel(config)\n",
        "    \n",
        "    for param in self.bert.parameters():\n",
        "      param.requires_grad = False \n",
        "\n",
        "    self.cls_layer = nn.Linear(config.hidden_size, 128)\n",
        "    self.relu = nn.ReLU()\n",
        "    self.ff1 = nn.Linear(128, 128)\n",
        "    self.tanh = nn.Tanh()\n",
        "    self.drop = nn.Dropout(p=0.25)\n",
        "    self.ff2 = nn.Linear(128, 1)\n",
        "\n",
        "  def forward(self, input_ids, attention_mask):\n",
        "    bert_out = self.bert(input_ids=input_ids, attention_mask=attention_mask)\n",
        "    logits = bert_out.last_hidden_state[:, 0, :]\n",
        "    out = self.cls_layer(logits)\n",
        "    out = self.relu(out)\n",
        "    out = self.ff1(out)\n",
        "    out = self.tanh(out)\n",
        "    out = self.drop(out)\n",
        "    out = self.ff2(out)\n",
        "    return out"
      ],
      "metadata": {
        "id": "dLax8-O4_BJy"
      },
      "execution_count": 15,
      "outputs": []
    },
    {
      "cell_type": "markdown",
      "source": [
        "# Training and Evaluation Functions"
      ],
      "metadata": {
        "id": "dRBrGoRRBZUu"
      }
    },
    {
      "cell_type": "code",
      "source": [
        "def evaluate(model, criterion, dataloader, device):\n",
        "  \n",
        "  model.eval()\n",
        "  mean_loss, count = 0, 0\n",
        "  with torch.no_grad():\n",
        "    for input_ids, attention_mask, target in (dataloader):\n",
        "      input_ids, attention_mask = input_ids.to(device), attention_mask.to(device)\n",
        "      target = target.to(device)\n",
        "      \n",
        "      out = model(input_ids, attention_mask)\n",
        "      mean_loss += criterion(out, target.type_as(out)).item()\n",
        "      count += 1\n",
        "  \n",
        "  return mean_loss / count\n",
        "\n",
        "def train(model, criterion, optimizer, train_loader, val_loader, epochs, device):\n",
        "  \n",
        "  train_losses, val_losses = list(), list()\n",
        "  for epoch in trange(epochs, desc=\"Epoch\"):\n",
        "    model.train()\n",
        "    train_loss = 0\n",
        "\n",
        "    for input_ids, attention_mask, target in (train_loader):\n",
        "      optimizer.zero_grad()\n",
        "\n",
        "      input_ids, attention_mask, target = input_ids.to(device), attention_mask.to(device), target.to(device)\n",
        "      out = model(input_ids, attention_mask)\n",
        "\n",
        "      loss = criterion(out, target.type_as(out))\n",
        "      loss.backward()\n",
        "      optimizer.step()\n",
        "\n",
        "      train_loss += loss.item()\n",
        "    \n",
        "    train_loss = train_loss / len(train_loader)\n",
        "    print(f\"Training Loss : {train_loss:.5f}\")\n",
        "\n",
        "    val_loss = evaluate(model=model, \n",
        "                        criterion=criterion,\n",
        "                        dataloader=val_loader,\n",
        "                        device=device)\n",
        "    \n",
        "    print(f\"Validation Loss : {val_loss:.5f}\")\n",
        "    \n",
        "    train_losses.append(train_loss)\n",
        "    val_losses.append(val_loss)\n",
        "\n",
        "    print(f\"Epoch-{epoch} complete!\")\n",
        "\n",
        "  return train_losses, val_losses\n",
        "\n",
        "\n",
        "def predict(model, dataloader, device):\n",
        "  \n",
        "  labels = defaultdict(lambda: list())\n",
        "\n",
        "  with torch.no_grad():\n",
        "    for input_ids, attention_mask, target in dataloader:  \n",
        "      input_ids, attention_mask, target = input_ids.to(device), attention_mask.to(device), target.to(device)\n",
        "      out = model(input_ids, attention_mask)\n",
        "\n",
        "      labels['preds'] += out\n",
        "      labels['actual'] += target\n",
        "\n",
        "  return labels"
      ],
      "metadata": {
        "id": "raV8a1ibA54l"
      },
      "execution_count": 16,
      "outputs": []
    },
    {
      "cell_type": "markdown",
      "source": [
        "# Configure Model and Optimizers and others"
      ],
      "metadata": {
        "id": "Cdo-WjKkHl0M"
      }
    },
    {
      "cell_type": "code",
      "source": [
        "config = AutoConfig.from_pretrained(MODEL_NAME)\n",
        "tokenizer = AutoTokenizer.from_pretrained(MODEL_NAME)\n",
        "\n",
        "model = BertRegressor.from_pretrained(MODEL_NAME, config=config)\n",
        "\n",
        "device = torch.device(\"cuda:0\" if torch.cuda.is_available() else \"cpu\")\n",
        "model.to(device)\n",
        "\n",
        "criterion = nn.MSELoss()\n",
        "optimizer = optim.Adam(params=model.parameters(), lr=LR)"
      ],
      "metadata": {
        "colab": {
          "base_uri": "https://localhost:8080/"
        },
        "id": "o3MBBBPvGhQS",
        "outputId": "4c1042ab-4940-4a4b-abeb-a862d92e41f7"
      },
      "execution_count": 17,
      "outputs": [
        {
          "output_type": "stream",
          "name": "stderr",
          "text": [
            "Some weights of the model checkpoint at bert-base-uncased were not used when initializing BertRegressor: ['cls.predictions.transform.LayerNorm.weight', 'cls.predictions.decoder.weight', 'cls.predictions.transform.dense.bias', 'cls.seq_relationship.bias', 'cls.seq_relationship.weight', 'cls.predictions.transform.LayerNorm.bias', 'cls.predictions.bias', 'cls.predictions.transform.dense.weight']\n",
            "- This IS expected if you are initializing BertRegressor from the checkpoint of a model trained on another task or with another architecture (e.g. initializing a BertForSequenceClassification model from a BertForPreTraining model).\n",
            "- This IS NOT expected if you are initializing BertRegressor from the checkpoint of a model that you expect to be exactly identical (initializing a BertForSequenceClassification model from a BertForSequenceClassification model).\n",
            "Some weights of BertRegressor were not initialized from the model checkpoint at bert-base-uncased and are newly initialized: ['ff1.weight', 'cls_layer.weight', 'cls_layer.bias', 'ff2.weight', 'ff2.bias', 'ff1.bias']\n",
            "You should probably TRAIN this model on a down-stream task to be able to use it for predictions and inference.\n"
          ]
        }
      ]
    },
    {
      "cell_type": "markdown",
      "source": [
        "# Prepare Data"
      ],
      "metadata": {
        "id": "9MLjtqZBHqkC"
      }
    },
    {
      "cell_type": "code",
      "source": [
        "train_dataset = YelpDataset(data=df_train, maxlen=maxlen, tokenizer=tokenizer)\n",
        "val_dataset = YelpDataset(data=df_val, maxlen=maxlen, tokenizer=tokenizer)\n",
        "test_dataset = YelpDataset(data=df_test, maxlen=maxlen, tokenizer=tokenizer)\n",
        "\n",
        "\n",
        "train_loader = DataLoader(dataset=train_dataset, batch_size=BATCH_SZ, num_workers=NUM_THREADS)\n",
        "val_loader = DataLoader(dataset=val_dataset, batch_size=BATCH_SZ, num_workers=NUM_THREADS)\n",
        "test_loader = DataLoader(dataset=test_dataset, batch_size=BATCH_SZ, num_workers=NUM_THREADS)"
      ],
      "metadata": {
        "id": "r3m1A9O3HUKI"
      },
      "execution_count": 18,
      "outputs": []
    },
    {
      "cell_type": "markdown",
      "source": [
        "# Train the Model"
      ],
      "metadata": {
        "id": "6qhjjB_mIUw8"
      }
    },
    {
      "cell_type": "code",
      "source": [
        "train_losses, val_losses = train(model=model, \n",
        "                                 criterion=criterion,\n",
        "                                 optimizer=optimizer,\n",
        "                                 train_loader=train_loader,\n",
        "                                 val_loader=val_loader,\n",
        "                                 epochs=EPOCHS,\n",
        "                                 device=device)"
      ],
      "metadata": {
        "colab": {
          "base_uri": "https://localhost:8080/"
        },
        "id": "OJ3sP-kVIROk",
        "outputId": "018ca8cd-db0c-471f-9e3d-76e764cfb3cf"
      },
      "execution_count": null,
      "outputs": [
        {
          "output_type": "stream",
          "name": "stderr",
          "text": [
            "\rEpoch:   0%|          | 0/10 [00:00<?, ?it/s]Token indices sequence length is longer than the specified maximum sequence length for this model (522 > 512). Running this sequence through the model will result in indexing errors\n"
          ]
        }
      ]
    },
    {
      "cell_type": "code",
      "source": [],
      "metadata": {
        "id": "_PExoCDMkdn9"
      },
      "execution_count": null,
      "outputs": []
    }
  ]
}