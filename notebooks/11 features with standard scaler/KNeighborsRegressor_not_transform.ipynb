{
 "cells": [
  {
   "cell_type": "code",
   "execution_count": 6,
   "id": "43a9b6bd",
   "metadata": {},
   "outputs": [],
   "source": [
    "from sklearn.neighbors import KNeighborsRegressor\n",
    "from pathlib import Path\n",
    "import pandas as pd\n",
    "import numpy as np\n",
    "from sklearn.svm import LinearSVR\n",
    "from sklearn.model_selection import ParameterGrid\n",
    "from sklearn.metrics import mean_squared_error, mean_absolute_error\n",
    "from sklearn.model_selection import cross_val_score\n",
    "import optuna as opt"
   ]
  },
  {
   "cell_type": "code",
   "execution_count": 7,
   "id": "0c75615e",
   "metadata": {},
   "outputs": [
    {
     "name": "stdout",
     "output_type": "stream",
     "text": [
      "/Users/antonyjiao/Desktop/UOA Master of DS/COMPSCI 760/ready data\n"
     ]
    }
   ],
   "source": [
    "CWD = Path.cwd()\n",
    "DATA_DIR = CWD.parent / \"ready data\"\n",
    "print(DATA_DIR)"
   ]
  },
  {
   "cell_type": "code",
   "execution_count": 8,
   "id": "ded6af10",
   "metadata": {},
   "outputs": [],
   "source": [
    "train = pd.read_parquet(DATA_DIR/\"train_main.parquet.snappy\")\n",
    "val = pd.read_parquet(DATA_DIR/\"val_main.parquet.snappy\")\n",
    "test = pd.read_parquet(DATA_DIR/\"test_main.parquet.snappy\")"
   ]
  },
  {
   "cell_type": "code",
   "execution_count": 9,
   "id": "41102ddb",
   "metadata": {
    "scrolled": true
   },
   "outputs": [
    {
     "data": {
      "text/html": [
       "<div>\n",
       "<style scoped>\n",
       "    .dataframe tbody tr th:only-of-type {\n",
       "        vertical-align: middle;\n",
       "    }\n",
       "\n",
       "    .dataframe tbody tr th {\n",
       "        vertical-align: top;\n",
       "    }\n",
       "\n",
       "    .dataframe thead th {\n",
       "        text-align: right;\n",
       "    }\n",
       "</style>\n",
       "<table border=\"1\" class=\"dataframe\">\n",
       "  <thead>\n",
       "    <tr style=\"text-align: right;\">\n",
       "      <th></th>\n",
       "      <th>r_id</th>\n",
       "      <th>r_stars</th>\n",
       "      <th>r_stars_square</th>\n",
       "      <th>r_length</th>\n",
       "      <th>u_friends_count</th>\n",
       "      <th>u_review_count</th>\n",
       "      <th>u_month_age</th>\n",
       "      <th>b_stars</th>\n",
       "      <th>b_review_count</th>\n",
       "      <th>r_sen</th>\n",
       "      <th>r_sub</th>\n",
       "      <th>r_rea</th>\n",
       "      <th>r_useful</th>\n",
       "    </tr>\n",
       "  </thead>\n",
       "  <tbody>\n",
       "    <tr>\n",
       "      <th>0</th>\n",
       "      <td>5508740</td>\n",
       "      <td>5</td>\n",
       "      <td>25</td>\n",
       "      <td>54</td>\n",
       "      <td>1</td>\n",
       "      <td>2</td>\n",
       "      <td>23.093032</td>\n",
       "      <td>4.0</td>\n",
       "      <td>7400</td>\n",
       "      <td>0.197348</td>\n",
       "      <td>0.293939</td>\n",
       "      <td>72.22</td>\n",
       "      <td>1</td>\n",
       "    </tr>\n",
       "    <tr>\n",
       "      <th>1</th>\n",
       "      <td>1633913</td>\n",
       "      <td>1</td>\n",
       "      <td>1</td>\n",
       "      <td>224</td>\n",
       "      <td>47</td>\n",
       "      <td>43</td>\n",
       "      <td>57.182693</td>\n",
       "      <td>3.0</td>\n",
       "      <td>27</td>\n",
       "      <td>0.088636</td>\n",
       "      <td>0.320328</td>\n",
       "      <td>89.28</td>\n",
       "      <td>5</td>\n",
       "    </tr>\n",
       "    <tr>\n",
       "      <th>2</th>\n",
       "      <td>1427664</td>\n",
       "      <td>4</td>\n",
       "      <td>16</td>\n",
       "      <td>18</td>\n",
       "      <td>35</td>\n",
       "      <td>112</td>\n",
       "      <td>44.484607</td>\n",
       "      <td>4.0</td>\n",
       "      <td>103</td>\n",
       "      <td>0.368750</td>\n",
       "      <td>0.412500</td>\n",
       "      <td>87.72</td>\n",
       "      <td>1</td>\n",
       "    </tr>\n",
       "    <tr>\n",
       "      <th>3</th>\n",
       "      <td>5536866</td>\n",
       "      <td>5</td>\n",
       "      <td>25</td>\n",
       "      <td>86</td>\n",
       "      <td>156</td>\n",
       "      <td>21</td>\n",
       "      <td>28.229579</td>\n",
       "      <td>5.0</td>\n",
       "      <td>5</td>\n",
       "      <td>0.150000</td>\n",
       "      <td>0.485000</td>\n",
       "      <td>49.86</td>\n",
       "      <td>2</td>\n",
       "    </tr>\n",
       "    <tr>\n",
       "      <th>4</th>\n",
       "      <td>3380896</td>\n",
       "      <td>5</td>\n",
       "      <td>25</td>\n",
       "      <td>79</td>\n",
       "      <td>6660</td>\n",
       "      <td>2492</td>\n",
       "      <td>40.995708</td>\n",
       "      <td>4.0</td>\n",
       "      <td>709</td>\n",
       "      <td>0.345833</td>\n",
       "      <td>0.541667</td>\n",
       "      <td>57.78</td>\n",
       "      <td>14</td>\n",
       "    </tr>\n",
       "  </tbody>\n",
       "</table>\n",
       "</div>"
      ],
      "text/plain": [
       "      r_id  r_stars  r_stars_square  r_length  u_friends_count  \\\n",
       "0  5508740        5              25        54                1   \n",
       "1  1633913        1               1       224               47   \n",
       "2  1427664        4              16        18               35   \n",
       "3  5536866        5              25        86              156   \n",
       "4  3380896        5              25        79             6660   \n",
       "\n",
       "   u_review_count  u_month_age  b_stars  b_review_count     r_sen     r_sub  \\\n",
       "0               2    23.093032      4.0            7400  0.197348  0.293939   \n",
       "1              43    57.182693      3.0              27  0.088636  0.320328   \n",
       "2             112    44.484607      4.0             103  0.368750  0.412500   \n",
       "3              21    28.229579      5.0               5  0.150000  0.485000   \n",
       "4            2492    40.995708      4.0             709  0.345833  0.541667   \n",
       "\n",
       "   r_rea  r_useful  \n",
       "0  72.22         1  \n",
       "1  89.28         5  \n",
       "2  87.72         1  \n",
       "3  49.86         2  \n",
       "4  57.78        14  "
      ]
     },
     "execution_count": 9,
     "metadata": {},
     "output_type": "execute_result"
    }
   ],
   "source": [
    "train.head()"
   ]
  },
  {
   "cell_type": "markdown",
   "id": "57e04529",
   "metadata": {},
   "source": [
    "## Data split"
   ]
  },
  {
   "cell_type": "code",
   "execution_count": 10,
   "id": "7a1d1a69",
   "metadata": {},
   "outputs": [],
   "source": [
    "X_train = train.iloc[:,1:-1]\n",
    "y_train = train.iloc[:,-1]\n",
    "\n",
    "X_val = val.iloc[:,1:-1]\n",
    "y_val = val.iloc[:,-1]\n",
    "\n",
    "X_test = test.iloc[:,1:-1]\n",
    "y_test = test.iloc[:,-1]"
   ]
  },
  {
   "cell_type": "code",
   "execution_count": 8,
   "id": "2c64ada6",
   "metadata": {},
   "outputs": [
    {
     "data": {
      "text/plain": [
       "0     1\n",
       "1     5\n",
       "2     1\n",
       "3     2\n",
       "4    14\n",
       "Name: r_useful, dtype: int64"
      ]
     },
     "execution_count": 8,
     "metadata": {},
     "output_type": "execute_result"
    }
   ],
   "source": [
    "y_train.head(5)"
   ]
  },
  {
   "cell_type": "markdown",
   "id": "e0282e12",
   "metadata": {},
   "source": [
    "## Fit KNN regressions model on subset of the dataset"
   ]
  },
  {
   "cell_type": "code",
   "execution_count": 9,
   "id": "56487fac",
   "metadata": {
    "scrolled": true
   },
   "outputs": [],
   "source": [
    "X_train_subset = X_train[:5000]\n",
    "y_train_subset = y_train[:5000]\n",
    "\n",
    "X_test_subset = X_test[:5000]\n",
    "y_test_subset = y_test[:5000]\n",
    "\n",
    "X_val_subset = X_val[:5000]\n",
    "y_val_subset = y_val[:5000]"
   ]
  },
  {
   "cell_type": "code",
   "execution_count": 11,
   "id": "60f88dba",
   "metadata": {},
   "outputs": [],
   "source": [
    "def predict_scores(model, X, y_true):\n",
    "    y_pred = model.predict(X)\n",
    "    rmse = mean_squared_error(y_true, y_pred, squared=False)\n",
    "    mae = mean_absolute_error(y_true, y_pred)\n",
    "    return {\"RMSE\": rmse, \"MAE\": mae}"
   ]
  },
  {
   "cell_type": "code",
   "execution_count": 12,
   "id": "9d1b9ec2",
   "metadata": {
    "scrolled": false
   },
   "outputs": [
    {
     "data": {
      "text/plain": [
       "{'RMSE': 3.6981552157798894, 'MAE': 1.74968}"
      ]
     },
     "execution_count": 12,
     "metadata": {},
     "output_type": "execute_result"
    }
   ],
   "source": [
    "reg=KNeighborsRegressor(n_neighbors=5)\n",
    "reg.fit(X_train_subset.values,y_train_subset.values)\n",
    "predict_scores(reg,X_test_subset.values,y_test_subset.values)"
   ]
  },
  {
   "cell_type": "markdown",
   "id": "28d7ddc8",
   "metadata": {},
   "source": [
    "## Test on full dataset with different n_neighbors"
   ]
  },
  {
   "cell_type": "code",
   "execution_count": 13,
   "id": "85de221f",
   "metadata": {},
   "outputs": [],
   "source": [
    "def experiment(HPdict, model_args):\n",
    "    grid = ParameterGrid(HPdict)\n",
    "\n",
    "    scores = pd.DataFrame(columns=[\"RMSE\", \"MAE\", \"is_val\"])\n",
    "    for i, hps in enumerate(grid):\n",
    "        print(f\"training {i+1}th model\")\n",
    "        model = KNeighborsRegressor(**model_args)\n",
    "        model.set_params(**hps)\n",
    "        model.fit(X_train.values, y_train.values)\n",
    "        \n",
    "        row = predict_scores(model, X_train.values, y_train.values)\n",
    "        scores = pd.concat(\n",
    "            [scores, pd.DataFrame({**hps, **row, \"is_val\": False}, index=[0])],\n",
    "            ignore_index=True)\n",
    "        \n",
    "        row = predict_scores(model, X_val, y_val)\n",
    "        scores = pd.concat(\n",
    "            [scores, pd.DataFrame({**hps, **row, \"is_val\": True}, index=[0])],\n",
    "            ignore_index=True)\n",
    "    return scores"
   ]
  },
  {
   "cell_type": "code",
   "execution_count": 14,
   "id": "6c235225",
   "metadata": {},
   "outputs": [
    {
     "name": "stdout",
     "output_type": "stream",
     "text": [
      "training 1th model\n"
     ]
    },
    {
     "name": "stderr",
     "output_type": "stream",
     "text": [
      "/opt/anaconda3/lib/python3.9/site-packages/sklearn/base.py:443: UserWarning: X has feature names, but KNeighborsRegressor was fitted without feature names\n",
      "  warnings.warn(\n"
     ]
    },
    {
     "name": "stdout",
     "output_type": "stream",
     "text": [
      "training 2th model\n"
     ]
    },
    {
     "name": "stderr",
     "output_type": "stream",
     "text": [
      "/opt/anaconda3/lib/python3.9/site-packages/sklearn/base.py:443: UserWarning: X has feature names, but KNeighborsRegressor was fitted without feature names\n",
      "  warnings.warn(\n"
     ]
    },
    {
     "name": "stdout",
     "output_type": "stream",
     "text": [
      "training 3th model\n"
     ]
    },
    {
     "name": "stderr",
     "output_type": "stream",
     "text": [
      "/opt/anaconda3/lib/python3.9/site-packages/sklearn/base.py:443: UserWarning: X has feature names, but KNeighborsRegressor was fitted without feature names\n",
      "  warnings.warn(\n"
     ]
    },
    {
     "name": "stdout",
     "output_type": "stream",
     "text": [
      "training 4th model\n"
     ]
    },
    {
     "name": "stderr",
     "output_type": "stream",
     "text": [
      "/opt/anaconda3/lib/python3.9/site-packages/sklearn/base.py:443: UserWarning: X has feature names, but KNeighborsRegressor was fitted without feature names\n",
      "  warnings.warn(\n"
     ]
    },
    {
     "name": "stdout",
     "output_type": "stream",
     "text": [
      "training 5th model\n"
     ]
    },
    {
     "name": "stderr",
     "output_type": "stream",
     "text": [
      "/opt/anaconda3/lib/python3.9/site-packages/sklearn/base.py:443: UserWarning: X has feature names, but KNeighborsRegressor was fitted without feature names\n",
      "  warnings.warn(\n"
     ]
    },
    {
     "name": "stdout",
     "output_type": "stream",
     "text": [
      "training 6th model\n"
     ]
    },
    {
     "name": "stderr",
     "output_type": "stream",
     "text": [
      "/opt/anaconda3/lib/python3.9/site-packages/sklearn/base.py:443: UserWarning: X has feature names, but KNeighborsRegressor was fitted without feature names\n",
      "  warnings.warn(\n"
     ]
    },
    {
     "name": "stdout",
     "output_type": "stream",
     "text": [
      "training 7th model\n"
     ]
    },
    {
     "name": "stderr",
     "output_type": "stream",
     "text": [
      "/opt/anaconda3/lib/python3.9/site-packages/sklearn/base.py:443: UserWarning: X has feature names, but KNeighborsRegressor was fitted without feature names\n",
      "  warnings.warn(\n"
     ]
    },
    {
     "name": "stdout",
     "output_type": "stream",
     "text": [
      "Done\n"
     ]
    }
   ],
   "source": [
    "hyperparams = {\n",
    "    'n_neighbors':[k for k in range(1,8)]\n",
    "}\n",
    "model_args = {}\n",
    "scores = experiment(hyperparams, model_args)\n",
    "print(\"Done\")"
   ]
  },
  {
   "cell_type": "code",
   "execution_count": 15,
   "id": "7189e761",
   "metadata": {},
   "outputs": [
    {
     "name": "stdout",
     "output_type": "stream",
     "text": [
      "        RMSE       MAE is_val  n_neighbors\n",
      "0   0.001558  0.000001  False          1.0\n",
      "2   2.862291  0.980252  False          2.0\n",
      "4   3.304249  1.206809  False          3.0\n",
      "6   3.527484  1.309371  False          4.0\n",
      "8   3.656286  1.366956  False          5.0\n",
      "10  3.737411  1.403955  False          6.0\n",
      "12  3.797841  1.429741  False          7.0\n",
      "        RMSE       MAE is_val  n_neighbors\n",
      "1   4.582596  1.941820   True          1.0\n",
      "3   4.133150  1.796797   True          2.0\n",
      "5   3.918083  1.734220   True          3.0\n",
      "7   3.807233  1.697444   True          4.0\n",
      "9   3.720104  1.673258   True          5.0\n",
      "11  3.672652  1.656363   True          6.0\n",
      "13  3.647463  1.645237   True          7.0\n"
     ]
    }
   ],
   "source": [
    "print(scores[scores.is_val == False])\n",
    "print(scores[scores.is_val == True])"
   ]
  },
  {
   "cell_type": "markdown",
   "id": "e968eb4e",
   "metadata": {},
   "source": [
    "## Optuna for the model"
   ]
  },
  {
   "cell_type": "code",
   "execution_count": 11,
   "id": "c1bd2b88",
   "metadata": {},
   "outputs": [],
   "source": [
    "X_train = X_train.values\n",
    "y_train = y_train.values\n",
    "\n",
    "X_val = X_val.values\n",
    "y_val = y_val.values\n",
    "\n",
    "X_test = X_test.values\n",
    "y_test = y_test.values"
   ]
  },
  {
   "cell_type": "code",
   "execution_count": 35,
   "id": "4e63f0f3",
   "metadata": {},
   "outputs": [],
   "source": [
    "def objective(trial):\n",
    "    params = {\n",
    "       \"n_neighbors\":trial.suggest_categorical('n_neighbors', [1, 2, 4, 8, 10]),\n",
    "       \"weights\":trial.suggest_categorical(\"weights\", ['uniform', 'distance']),\n",
    "       \"metric\":trial.suggest_categorical(\"metric\", ['euclidean', 'manhattan', 'minkowski'])\n",
    "  }\n",
    "\n",
    "\n",
    "    model = KNeighborsRegressor(**params)\n",
    "  \n",
    "    model.fit(X_train, y_train)\n",
    "    y_pred = model.predict(X_val)\n",
    "\n",
    "    return mean_squared_error(y_val, y_pred, squared=False)"
   ]
  },
  {
   "cell_type": "code",
   "execution_count": 36,
   "id": "3b77fcf6",
   "metadata": {},
   "outputs": [
    {
     "name": "stderr",
     "output_type": "stream",
     "text": [
      "\u001b[32m[I 2022-09-22 21:08:36,118]\u001b[0m A new study created in memory with name: no-name-b2517564-8be3-43e0-9db8-e0ac751b57e2\u001b[0m\n",
      "\u001b[32m[I 2022-09-22 21:09:02,727]\u001b[0m Trial 0 finished with value: 4.133149569795027 and parameters: {'n_neighbors': 2, 'weights': 'uniform', 'metric': 'minkowski'}. Best is trial 0 with value: 4.133149569795027.\u001b[0m\n",
      "\u001b[32m[I 2022-09-22 21:09:24,398]\u001b[0m Trial 1 finished with value: 4.582596027506551 and parameters: {'n_neighbors': 1, 'weights': 'distance', 'metric': 'euclidean'}. Best is trial 0 with value: 4.133149569795027.\u001b[0m\n",
      "\u001b[32m[I 2022-09-22 21:10:04,396]\u001b[0m Trial 2 finished with value: 3.6026124629331457 and parameters: {'n_neighbors': 8, 'weights': 'distance', 'metric': 'euclidean'}. Best is trial 2 with value: 3.6026124629331457.\u001b[0m\n",
      "\u001b[32m[I 2022-09-22 21:11:22,679]\u001b[0m Trial 3 finished with value: 3.572279238243582 and parameters: {'n_neighbors': 8, 'weights': 'uniform', 'metric': 'manhattan'}. Best is trial 3 with value: 3.572279238243582.\u001b[0m\n",
      "\u001b[32m[I 2022-09-22 21:11:44,356]\u001b[0m Trial 4 finished with value: 4.582596027506551 and parameters: {'n_neighbors': 1, 'weights': 'distance', 'metric': 'euclidean'}. Best is trial 3 with value: 3.572279238243582.\u001b[0m\n",
      "\u001b[32m[I 2022-09-22 21:12:16,557]\u001b[0m Trial 5 finished with value: 3.791432379302445 and parameters: {'n_neighbors': 4, 'weights': 'distance', 'metric': 'euclidean'}. Best is trial 3 with value: 3.572279238243582.\u001b[0m\n",
      "\u001b[32m[I 2022-09-22 21:13:18,950]\u001b[0m Trial 6 finished with value: 3.6842475963478063 and parameters: {'n_neighbors': 4, 'weights': 'uniform', 'metric': 'manhattan'}. Best is trial 3 with value: 3.572279238243582.\u001b[0m\n",
      "\u001b[32m[I 2022-09-22 21:13:46,117]\u001b[0m Trial 7 finished with value: 4.11327131721669 and parameters: {'n_neighbors': 2, 'weights': 'distance', 'metric': 'euclidean'}. Best is trial 3 with value: 3.572279238243582.\u001b[0m\n",
      "\u001b[32m[I 2022-09-22 21:14:24,594]\u001b[0m Trial 8 finished with value: 4.611336126813308 and parameters: {'n_neighbors': 1, 'weights': 'uniform', 'metric': 'manhattan'}. Best is trial 3 with value: 3.572279238243582.\u001b[0m\n",
      "\u001b[32m[I 2022-09-22 21:15:04,508]\u001b[0m Trial 9 finished with value: 3.6193745054463244 and parameters: {'n_neighbors': 8, 'weights': 'uniform', 'metric': 'minkowski'}. Best is trial 3 with value: 3.572279238243582.\u001b[0m\n",
      "\u001b[32m[I 2022-09-22 21:16:27,986]\u001b[0m Trial 10 finished with value: 3.5357390388575185 and parameters: {'n_neighbors': 10, 'weights': 'uniform', 'metric': 'manhattan'}. Best is trial 10 with value: 3.5357390388575185.\u001b[0m\n",
      "\u001b[32m[I 2022-09-22 21:17:52,773]\u001b[0m Trial 11 finished with value: 3.5357390388575185 and parameters: {'n_neighbors': 10, 'weights': 'uniform', 'metric': 'manhattan'}. Best is trial 10 with value: 3.5357390388575185.\u001b[0m\n",
      "\u001b[32m[I 2022-09-22 21:19:17,676]\u001b[0m Trial 12 finished with value: 3.5357390388575185 and parameters: {'n_neighbors': 10, 'weights': 'uniform', 'metric': 'manhattan'}. Best is trial 10 with value: 3.5357390388575185.\u001b[0m\n",
      "\u001b[32m[I 2022-09-22 21:20:42,677]\u001b[0m Trial 13 finished with value: 3.5357390388575185 and parameters: {'n_neighbors': 10, 'weights': 'uniform', 'metric': 'manhattan'}. Best is trial 10 with value: 3.5357390388575185.\u001b[0m\n",
      "\u001b[32m[I 2022-09-22 21:22:07,314]\u001b[0m Trial 14 finished with value: 3.5357390388575185 and parameters: {'n_neighbors': 10, 'weights': 'uniform', 'metric': 'manhattan'}. Best is trial 10 with value: 3.5357390388575185.\u001b[0m\n",
      "\u001b[32m[I 2022-09-22 21:23:32,053]\u001b[0m Trial 15 finished with value: 3.5357390388575185 and parameters: {'n_neighbors': 10, 'weights': 'uniform', 'metric': 'manhattan'}. Best is trial 10 with value: 3.5357390388575185.\u001b[0m\n",
      "\u001b[32m[I 2022-09-22 21:24:56,864]\u001b[0m Trial 16 finished with value: 3.5357390388575185 and parameters: {'n_neighbors': 10, 'weights': 'uniform', 'metric': 'manhattan'}. Best is trial 10 with value: 3.5357390388575185.\u001b[0m\n",
      "\u001b[32m[I 2022-09-22 21:25:39,732]\u001b[0m Trial 17 finished with value: 3.6000569779746203 and parameters: {'n_neighbors': 10, 'weights': 'uniform', 'metric': 'minkowski'}. Best is trial 10 with value: 3.5357390388575185.\u001b[0m\n",
      "\u001b[32m[I 2022-09-22 21:27:05,201]\u001b[0m Trial 18 finished with value: 3.5357390388575185 and parameters: {'n_neighbors': 10, 'weights': 'uniform', 'metric': 'manhattan'}. Best is trial 10 with value: 3.5357390388575185.\u001b[0m\n",
      "\u001b[32m[I 2022-09-22 21:28:30,597]\u001b[0m Trial 19 finished with value: 3.5357390388575185 and parameters: {'n_neighbors': 10, 'weights': 'uniform', 'metric': 'manhattan'}. Best is trial 10 with value: 3.5357390388575185.\u001b[0m\n",
      "\u001b[32m[I 2022-09-22 21:29:02,729]\u001b[0m Trial 20 finished with value: 3.8072328079111495 and parameters: {'n_neighbors': 4, 'weights': 'uniform', 'metric': 'minkowski'}. Best is trial 10 with value: 3.5357390388575185.\u001b[0m\n",
      "\u001b[32m[I 2022-09-22 21:30:27,388]\u001b[0m Trial 21 finished with value: 3.5357390388575185 and parameters: {'n_neighbors': 10, 'weights': 'uniform', 'metric': 'manhattan'}. Best is trial 10 with value: 3.5357390388575185.\u001b[0m\n",
      "\u001b[32m[I 2022-09-22 21:31:51,936]\u001b[0m Trial 22 finished with value: 3.5357390388575185 and parameters: {'n_neighbors': 10, 'weights': 'uniform', 'metric': 'manhattan'}. Best is trial 10 with value: 3.5357390388575185.\u001b[0m\n",
      "\u001b[32m[I 2022-09-22 21:33:16,900]\u001b[0m Trial 23 finished with value: 3.5357390388575185 and parameters: {'n_neighbors': 10, 'weights': 'uniform', 'metric': 'manhattan'}. Best is trial 10 with value: 3.5357390388575185.\u001b[0m\n",
      "\u001b[32m[I 2022-09-22 21:34:05,658]\u001b[0m Trial 24 finished with value: 4.052882605033428 and parameters: {'n_neighbors': 2, 'weights': 'uniform', 'metric': 'manhattan'}. Best is trial 10 with value: 3.5357390388575185.\u001b[0m\n",
      "\u001b[32m[I 2022-09-22 21:35:30,638]\u001b[0m Trial 25 finished with value: 3.5357390388575185 and parameters: {'n_neighbors': 10, 'weights': 'uniform', 'metric': 'manhattan'}. Best is trial 10 with value: 3.5357390388575185.\u001b[0m\n",
      "\u001b[32m[I 2022-09-22 21:36:57,148]\u001b[0m Trial 26 finished with value: 3.5100299349372204 and parameters: {'n_neighbors': 10, 'weights': 'distance', 'metric': 'manhattan'}. Best is trial 26 with value: 3.5100299349372204.\u001b[0m\n",
      "\u001b[32m[I 2022-09-22 21:38:22,660]\u001b[0m Trial 27 finished with value: 3.5100299349372204 and parameters: {'n_neighbors': 10, 'weights': 'distance', 'metric': 'manhattan'}. Best is trial 26 with value: 3.5100299349372204.\u001b[0m\n",
      "\u001b[32m[I 2022-09-22 21:39:47,644]\u001b[0m Trial 28 finished with value: 3.5100299349372204 and parameters: {'n_neighbors': 10, 'weights': 'distance', 'metric': 'manhattan'}. Best is trial 26 with value: 3.5100299349372204.\u001b[0m\n",
      "\u001b[32m[I 2022-09-22 21:40:14,120]\u001b[0m Trial 29 finished with value: 4.11327131721669 and parameters: {'n_neighbors': 2, 'weights': 'distance', 'metric': 'minkowski'}. Best is trial 26 with value: 3.5100299349372204.\u001b[0m\n",
      "\u001b[32m[I 2022-09-22 21:40:35,930]\u001b[0m Trial 30 finished with value: 4.582596027506551 and parameters: {'n_neighbors': 1, 'weights': 'distance', 'metric': 'minkowski'}. Best is trial 26 with value: 3.5100299349372204.\u001b[0m\n",
      "\u001b[32m[I 2022-09-22 21:42:00,659]\u001b[0m Trial 31 finished with value: 3.5100299349372204 and parameters: {'n_neighbors': 10, 'weights': 'distance', 'metric': 'manhattan'}. Best is trial 26 with value: 3.5100299349372204.\u001b[0m\n",
      "\u001b[32m[I 2022-09-22 21:43:25,586]\u001b[0m Trial 32 finished with value: 3.5100299349372204 and parameters: {'n_neighbors': 10, 'weights': 'distance', 'metric': 'manhattan'}. Best is trial 26 with value: 3.5100299349372204.\u001b[0m\n",
      "\u001b[32m[I 2022-09-22 21:44:50,716]\u001b[0m Trial 33 finished with value: 3.5100299349372204 and parameters: {'n_neighbors': 10, 'weights': 'distance', 'metric': 'manhattan'}. Best is trial 26 with value: 3.5100299349372204.\u001b[0m\n",
      "\u001b[32m[I 2022-09-22 21:46:09,124]\u001b[0m Trial 34 finished with value: 3.547160292924287 and parameters: {'n_neighbors': 8, 'weights': 'distance', 'metric': 'manhattan'}. Best is trial 26 with value: 3.5100299349372204.\u001b[0m\n",
      "\u001b[32m[I 2022-09-22 21:46:51,919]\u001b[0m Trial 35 finished with value: 3.577108491699805 and parameters: {'n_neighbors': 10, 'weights': 'distance', 'metric': 'euclidean'}. Best is trial 26 with value: 3.5100299349372204.\u001b[0m\n",
      "\u001b[32m[I 2022-09-22 21:47:54,198]\u001b[0m Trial 36 finished with value: 3.6785577134287366 and parameters: {'n_neighbors': 4, 'weights': 'distance', 'metric': 'manhattan'}. Best is trial 26 with value: 3.5100299349372204.\u001b[0m\n"
     ]
    },
    {
     "name": "stderr",
     "output_type": "stream",
     "text": [
      "\u001b[32m[I 2022-09-22 21:48:16,139]\u001b[0m Trial 37 finished with value: 4.582596027506551 and parameters: {'n_neighbors': 1, 'weights': 'distance', 'metric': 'euclidean'}. Best is trial 26 with value: 3.5100299349372204.\u001b[0m\n",
      "\u001b[32m[I 2022-09-22 21:49:35,003]\u001b[0m Trial 38 finished with value: 3.547160292924287 and parameters: {'n_neighbors': 8, 'weights': 'distance', 'metric': 'manhattan'}. Best is trial 26 with value: 3.5100299349372204.\u001b[0m\n",
      "\u001b[32m[I 2022-09-22 21:50:01,296]\u001b[0m Trial 39 finished with value: 4.11327131721669 and parameters: {'n_neighbors': 2, 'weights': 'distance', 'metric': 'euclidean'}. Best is trial 26 with value: 3.5100299349372204.\u001b[0m\n",
      "\u001b[32m[I 2022-09-22 21:51:26,119]\u001b[0m Trial 40 finished with value: 3.5100299349372204 and parameters: {'n_neighbors': 10, 'weights': 'distance', 'metric': 'manhattan'}. Best is trial 26 with value: 3.5100299349372204.\u001b[0m\n",
      "\u001b[32m[I 2022-09-22 21:52:51,108]\u001b[0m Trial 41 finished with value: 3.5100299349372204 and parameters: {'n_neighbors': 10, 'weights': 'distance', 'metric': 'manhattan'}. Best is trial 26 with value: 3.5100299349372204.\u001b[0m\n",
      "\u001b[32m[I 2022-09-22 21:54:16,129]\u001b[0m Trial 42 finished with value: 3.5100299349372204 and parameters: {'n_neighbors': 10, 'weights': 'distance', 'metric': 'manhattan'}. Best is trial 26 with value: 3.5100299349372204.\u001b[0m\n",
      "\u001b[32m[I 2022-09-22 21:55:41,181]\u001b[0m Trial 43 finished with value: 3.5100299349372204 and parameters: {'n_neighbors': 10, 'weights': 'distance', 'metric': 'manhattan'}. Best is trial 26 with value: 3.5100299349372204.\u001b[0m\n",
      "\u001b[32m[I 2022-09-22 21:56:43,178]\u001b[0m Trial 44 finished with value: 3.6785577134287366 and parameters: {'n_neighbors': 4, 'weights': 'distance', 'metric': 'manhattan'}. Best is trial 26 with value: 3.5100299349372204.\u001b[0m\n",
      "\u001b[32m[I 2022-09-22 21:58:08,147]\u001b[0m Trial 45 finished with value: 3.5100299349372204 and parameters: {'n_neighbors': 10, 'weights': 'distance', 'metric': 'manhattan'}. Best is trial 26 with value: 3.5100299349372204.\u001b[0m\n",
      "\u001b[32m[I 2022-09-22 21:58:46,643]\u001b[0m Trial 46 finished with value: 4.611336126813308 and parameters: {'n_neighbors': 1, 'weights': 'distance', 'metric': 'manhattan'}. Best is trial 26 with value: 3.5100299349372204.\u001b[0m\n",
      "\u001b[32m[I 2022-09-22 21:59:26,612]\u001b[0m Trial 47 finished with value: 3.6026124629331457 and parameters: {'n_neighbors': 8, 'weights': 'distance', 'metric': 'euclidean'}. Best is trial 26 with value: 3.5100299349372204.\u001b[0m\n",
      "\u001b[32m[I 2022-09-22 22:00:51,715]\u001b[0m Trial 48 finished with value: 3.5100299349372204 and parameters: {'n_neighbors': 10, 'weights': 'distance', 'metric': 'manhattan'}. Best is trial 26 with value: 3.5100299349372204.\u001b[0m\n",
      "\u001b[32m[I 2022-09-22 22:02:17,424]\u001b[0m Trial 49 finished with value: 3.5100299349372204 and parameters: {'n_neighbors': 10, 'weights': 'distance', 'metric': 'manhattan'}. Best is trial 26 with value: 3.5100299349372204.\u001b[0m\n"
     ]
    },
    {
     "data": {
      "text/plain": [
       "{'n_neighbors': 10, 'weights': 'distance', 'metric': 'manhattan'}"
      ]
     },
     "execution_count": 36,
     "metadata": {},
     "output_type": "execute_result"
    }
   ],
   "source": [
    "study = opt.create_study(direction='minimize')\n",
    "study.optimize(objective, n_trials=50)\n",
    "study.best_params"
   ]
  },
  {
   "cell_type": "code",
   "execution_count": 37,
   "id": "8ce80c93",
   "metadata": {},
   "outputs": [
    {
     "data": {
      "text/html": [
       "<style>#sk-container-id-1 {color: black;background-color: white;}#sk-container-id-1 pre{padding: 0;}#sk-container-id-1 div.sk-toggleable {background-color: white;}#sk-container-id-1 label.sk-toggleable__label {cursor: pointer;display: block;width: 100%;margin-bottom: 0;padding: 0.3em;box-sizing: border-box;text-align: center;}#sk-container-id-1 label.sk-toggleable__label-arrow:before {content: \"▸\";float: left;margin-right: 0.25em;color: #696969;}#sk-container-id-1 label.sk-toggleable__label-arrow:hover:before {color: black;}#sk-container-id-1 div.sk-estimator:hover label.sk-toggleable__label-arrow:before {color: black;}#sk-container-id-1 div.sk-toggleable__content {max-height: 0;max-width: 0;overflow: hidden;text-align: left;background-color: #f0f8ff;}#sk-container-id-1 div.sk-toggleable__content pre {margin: 0.2em;color: black;border-radius: 0.25em;background-color: #f0f8ff;}#sk-container-id-1 input.sk-toggleable__control:checked~div.sk-toggleable__content {max-height: 200px;max-width: 100%;overflow: auto;}#sk-container-id-1 input.sk-toggleable__control:checked~label.sk-toggleable__label-arrow:before {content: \"▾\";}#sk-container-id-1 div.sk-estimator input.sk-toggleable__control:checked~label.sk-toggleable__label {background-color: #d4ebff;}#sk-container-id-1 div.sk-label input.sk-toggleable__control:checked~label.sk-toggleable__label {background-color: #d4ebff;}#sk-container-id-1 input.sk-hidden--visually {border: 0;clip: rect(1px 1px 1px 1px);clip: rect(1px, 1px, 1px, 1px);height: 1px;margin: -1px;overflow: hidden;padding: 0;position: absolute;width: 1px;}#sk-container-id-1 div.sk-estimator {font-family: monospace;background-color: #f0f8ff;border: 1px dotted black;border-radius: 0.25em;box-sizing: border-box;margin-bottom: 0.5em;}#sk-container-id-1 div.sk-estimator:hover {background-color: #d4ebff;}#sk-container-id-1 div.sk-parallel-item::after {content: \"\";width: 100%;border-bottom: 1px solid gray;flex-grow: 1;}#sk-container-id-1 div.sk-label:hover label.sk-toggleable__label {background-color: #d4ebff;}#sk-container-id-1 div.sk-serial::before {content: \"\";position: absolute;border-left: 1px solid gray;box-sizing: border-box;top: 0;bottom: 0;left: 50%;z-index: 0;}#sk-container-id-1 div.sk-serial {display: flex;flex-direction: column;align-items: center;background-color: white;padding-right: 0.2em;padding-left: 0.2em;position: relative;}#sk-container-id-1 div.sk-item {position: relative;z-index: 1;}#sk-container-id-1 div.sk-parallel {display: flex;align-items: stretch;justify-content: center;background-color: white;position: relative;}#sk-container-id-1 div.sk-item::before, #sk-container-id-1 div.sk-parallel-item::before {content: \"\";position: absolute;border-left: 1px solid gray;box-sizing: border-box;top: 0;bottom: 0;left: 50%;z-index: -1;}#sk-container-id-1 div.sk-parallel-item {display: flex;flex-direction: column;z-index: 1;position: relative;background-color: white;}#sk-container-id-1 div.sk-parallel-item:first-child::after {align-self: flex-end;width: 50%;}#sk-container-id-1 div.sk-parallel-item:last-child::after {align-self: flex-start;width: 50%;}#sk-container-id-1 div.sk-parallel-item:only-child::after {width: 0;}#sk-container-id-1 div.sk-dashed-wrapped {border: 1px dashed gray;margin: 0 0.4em 0.5em 0.4em;box-sizing: border-box;padding-bottom: 0.4em;background-color: white;}#sk-container-id-1 div.sk-label label {font-family: monospace;font-weight: bold;display: inline-block;line-height: 1.2em;}#sk-container-id-1 div.sk-label-container {text-align: center;}#sk-container-id-1 div.sk-container {/* jupyter's `normalize.less` sets `[hidden] { display: none; }` but bootstrap.min.css set `[hidden] { display: none !important; }` so we also need the `!important` here to be able to override the default hidden behavior on the sphinx rendered scikit-learn.org. See: https://github.com/scikit-learn/scikit-learn/issues/21755 */display: inline-block !important;position: relative;}#sk-container-id-1 div.sk-text-repr-fallback {display: none;}</style><div id=\"sk-container-id-1\" class=\"sk-top-container\"><div class=\"sk-text-repr-fallback\"><pre>KNeighborsRegressor(metric=&#x27;manhattan&#x27;, n_neighbors=10, weights=&#x27;distance&#x27;)</pre><b>In a Jupyter environment, please rerun this cell to show the HTML representation or trust the notebook. <br />On GitHub, the HTML representation is unable to render, please try loading this page with nbviewer.org.</b></div><div class=\"sk-container\" hidden><div class=\"sk-item\"><div class=\"sk-estimator sk-toggleable\"><input class=\"sk-toggleable__control sk-hidden--visually\" id=\"sk-estimator-id-1\" type=\"checkbox\" checked><label for=\"sk-estimator-id-1\" class=\"sk-toggleable__label sk-toggleable__label-arrow\">KNeighborsRegressor</label><div class=\"sk-toggleable__content\"><pre>KNeighborsRegressor(metric=&#x27;manhattan&#x27;, n_neighbors=10, weights=&#x27;distance&#x27;)</pre></div></div></div></div></div>"
      ],
      "text/plain": [
       "KNeighborsRegressor(metric='manhattan', n_neighbors=10, weights='distance')"
      ]
     },
     "execution_count": 37,
     "metadata": {},
     "output_type": "execute_result"
    }
   ],
   "source": [
    "model = KNeighborsRegressor(**study.best_params)\n",
    "model.fit(X_train, y_train)"
   ]
  },
  {
   "cell_type": "code",
   "execution_count": 39,
   "id": "2c0f9631",
   "metadata": {},
   "outputs": [
    {
     "data": {
      "text/plain": [
       "{'RMSE': 0.0011014642774033146, 'MAE': 1.4558682652747272e-06}"
      ]
     },
     "execution_count": 39,
     "metadata": {},
     "output_type": "execute_result"
    }
   ],
   "source": [
    "predict_scores(model, X_train, y_train)"
   ]
  },
  {
   "cell_type": "code",
   "execution_count": 40,
   "id": "da938f97",
   "metadata": {},
   "outputs": [
    {
     "data": {
      "text/plain": [
       "{'RMSE': 3.8256852525131007, 'MAE': 1.6036712776736195}"
      ]
     },
     "execution_count": 40,
     "metadata": {},
     "output_type": "execute_result"
    }
   ],
   "source": [
    "predict_scores(model, X_test, y_test)"
   ]
  },
  {
   "cell_type": "code",
   "execution_count": 43,
   "id": "8a391bde",
   "metadata": {},
   "outputs": [
    {
     "data": {
      "text/plain": [
       "{'RMSE': 3.8628788287308633, 'MAE': 1.602172343242267}"
      ]
     },
     "execution_count": 43,
     "metadata": {},
     "output_type": "execute_result"
    }
   ],
   "source": [
    "model = KNeighborsRegressor(n_neighbors= 100)\n",
    "model.fit(X_train, y_train)\n",
    "predict_scores(model, X_test, y_test)"
   ]
  },
  {
   "cell_type": "code",
   "execution_count": 44,
   "id": "d7549f3a",
   "metadata": {},
   "outputs": [
    {
     "data": {
      "text/plain": [
       "{'RMSE': 4.030031551030791, 'MAE': 1.6457304877338603}"
      ]
     },
     "execution_count": 44,
     "metadata": {},
     "output_type": "execute_result"
    }
   ],
   "source": [
    "model = KNeighborsRegressor(n_neighbors= 10000)\n",
    "model.fit(X_train, y_train)\n",
    "predict_scores(model, X_test, y_test)"
   ]
  },
  {
   "cell_type": "code",
   "execution_count": 12,
   "id": "c8b9b1b5",
   "metadata": {},
   "outputs": [
    {
     "data": {
      "text/plain": [
       "array([1, 5, 1, ..., 4, 6, 1])"
      ]
     },
     "execution_count": 12,
     "metadata": {},
     "output_type": "execute_result"
    }
   ],
   "source": [
    "y_train"
   ]
  },
  {
   "cell_type": "code",
   "execution_count": null,
   "id": "85b1e93f",
   "metadata": {},
   "outputs": [],
   "source": []
  }
 ],
 "metadata": {
  "kernelspec": {
   "display_name": "Python 3 (ipykernel)",
   "language": "python",
   "name": "python3"
  },
  "language_info": {
   "codemirror_mode": {
    "name": "ipython",
    "version": 3
   },
   "file_extension": ".py",
   "mimetype": "text/x-python",
   "name": "python",
   "nbconvert_exporter": "python",
   "pygments_lexer": "ipython3",
   "version": "3.9.12"
  }
 },
 "nbformat": 4,
 "nbformat_minor": 5
}
