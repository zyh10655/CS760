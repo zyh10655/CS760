{
 "cells": [
  {
   "cell_type": "code",
   "execution_count": 1,
   "id": "1445de15-d07d-45b5-aab6-685ad9d1c30c",
   "metadata": {
    "execution": {
     "iopub.execute_input": "2022-08-22T11:28:23.617444Z",
     "iopub.status.busy": "2022-08-22T11:28:23.617027Z",
     "iopub.status.idle": "2022-08-22T11:28:24.552845Z",
     "shell.execute_reply": "2022-08-22T11:28:24.552225Z",
     "shell.execute_reply.started": "2022-08-22T11:28:23.617379Z"
    },
    "tags": []
   },
   "outputs": [],
   "source": [
    "import numpy as np\n",
    "import pandas as pd\n",
    "import matplotlib.pyplot as plt\n",
    "import seaborn as sns\n",
    "import os\n",
    "import sys\n",
    "import warnings\n",
    "import pathlib\n",
    "\n",
    "\n",
    "warnings.filterwarnings('ignore')\n",
    "plt.style.use('fivethirtyeight')"
   ]
  },
  {
   "cell_type": "code",
   "execution_count": 2,
   "id": "b79e09a3-fc82-4358-9d7d-f1ee5cd741ae",
   "metadata": {
    "execution": {
     "iopub.execute_input": "2022-08-22T11:28:24.554752Z",
     "iopub.status.busy": "2022-08-22T11:28:24.554081Z",
     "iopub.status.idle": "2022-08-22T11:28:24.993106Z",
     "shell.execute_reply": "2022-08-22T11:28:24.992390Z",
     "shell.execute_reply.started": "2022-08-22T11:28:24.554715Z"
    },
    "tags": []
   },
   "outputs": [
    {
     "data": {
      "text/html": [
       "<div>\n",
       "<style scoped>\n",
       "    .dataframe tbody tr th:only-of-type {\n",
       "        vertical-align: middle;\n",
       "    }\n",
       "\n",
       "    .dataframe tbody tr th {\n",
       "        vertical-align: top;\n",
       "    }\n",
       "\n",
       "    .dataframe thead th {\n",
       "        text-align: right;\n",
       "    }\n",
       "</style>\n",
       "<table border=\"1\" class=\"dataframe\">\n",
       "  <thead>\n",
       "    <tr style=\"text-align: right;\">\n",
       "      <th></th>\n",
       "      <th>r_id</th>\n",
       "      <th>r_stars</th>\n",
       "      <th>r_stars_square</th>\n",
       "      <th>r_length</th>\n",
       "      <th>u_friends_count</th>\n",
       "      <th>u_review_count</th>\n",
       "      <th>u_month_age</th>\n",
       "      <th>b_stars</th>\n",
       "      <th>b_review_count</th>\n",
       "      <th>r_sen</th>\n",
       "      <th>r_sub</th>\n",
       "      <th>r_rea</th>\n",
       "      <th>r_useful</th>\n",
       "    </tr>\n",
       "    <tr>\n",
       "      <th>index</th>\n",
       "      <th></th>\n",
       "      <th></th>\n",
       "      <th></th>\n",
       "      <th></th>\n",
       "      <th></th>\n",
       "      <th></th>\n",
       "      <th></th>\n",
       "      <th></th>\n",
       "      <th></th>\n",
       "      <th></th>\n",
       "      <th></th>\n",
       "      <th></th>\n",
       "      <th></th>\n",
       "    </tr>\n",
       "  </thead>\n",
       "  <tbody>\n",
       "    <tr>\n",
       "      <th>0</th>\n",
       "      <td>4</td>\n",
       "      <td>5</td>\n",
       "      <td>25</td>\n",
       "      <td>43</td>\n",
       "      <td>1</td>\n",
       "      <td>9</td>\n",
       "      <td>11.538455</td>\n",
       "      <td>4.0</td>\n",
       "      <td>181</td>\n",
       "      <td>0.305871</td>\n",
       "      <td>0.775379</td>\n",
       "      <td>81.59</td>\n",
       "      <td>0.011830</td>\n",
       "    </tr>\n",
       "    <tr>\n",
       "      <th>1</th>\n",
       "      <td>9</td>\n",
       "      <td>3</td>\n",
       "      <td>9</td>\n",
       "      <td>103</td>\n",
       "      <td>1</td>\n",
       "      <td>24</td>\n",
       "      <td>5.092347</td>\n",
       "      <td>4.5</td>\n",
       "      <td>13</td>\n",
       "      <td>0.027222</td>\n",
       "      <td>0.558611</td>\n",
       "      <td>76.15</td>\n",
       "      <td>0.014351</td>\n",
       "    </tr>\n",
       "    <tr>\n",
       "      <th>2</th>\n",
       "      <td>11</td>\n",
       "      <td>5</td>\n",
       "      <td>25</td>\n",
       "      <td>179</td>\n",
       "      <td>7</td>\n",
       "      <td>39</td>\n",
       "      <td>76.740056</td>\n",
       "      <td>2.5</td>\n",
       "      <td>8</td>\n",
       "      <td>0.280583</td>\n",
       "      <td>0.489970</td>\n",
       "      <td>70.43</td>\n",
       "      <td>0.025320</td>\n",
       "    </tr>\n",
       "    <tr>\n",
       "      <th>3</th>\n",
       "      <td>18</td>\n",
       "      <td>4</td>\n",
       "      <td>16</td>\n",
       "      <td>109</td>\n",
       "      <td>112</td>\n",
       "      <td>74</td>\n",
       "      <td>60.558653</td>\n",
       "      <td>4.0</td>\n",
       "      <td>398</td>\n",
       "      <td>0.130754</td>\n",
       "      <td>0.289683</td>\n",
       "      <td>78.59</td>\n",
       "      <td>0.011194</td>\n",
       "    </tr>\n",
       "    <tr>\n",
       "      <th>4</th>\n",
       "      <td>19</td>\n",
       "      <td>5</td>\n",
       "      <td>25</td>\n",
       "      <td>78</td>\n",
       "      <td>8</td>\n",
       "      <td>27</td>\n",
       "      <td>48.322330</td>\n",
       "      <td>4.0</td>\n",
       "      <td>55</td>\n",
       "      <td>0.236861</td>\n",
       "      <td>0.368667</td>\n",
       "      <td>77.06</td>\n",
       "      <td>0.028382</td>\n",
       "    </tr>\n",
       "  </tbody>\n",
       "</table>\n",
       "</div>"
      ],
      "text/plain": [
       "       r_id  r_stars  r_stars_square  r_length  u_friends_count  \\\n",
       "index                                                             \n",
       "0         4        5              25        43                1   \n",
       "1         9        3               9       103                1   \n",
       "2        11        5              25       179                7   \n",
       "3        18        4              16       109              112   \n",
       "4        19        5              25        78                8   \n",
       "\n",
       "       u_review_count  u_month_age  b_stars  b_review_count     r_sen  \\\n",
       "index                                                                   \n",
       "0                   9    11.538455      4.0             181  0.305871   \n",
       "1                  24     5.092347      4.5              13  0.027222   \n",
       "2                  39    76.740056      2.5               8  0.280583   \n",
       "3                  74    60.558653      4.0             398  0.130754   \n",
       "4                  27    48.322330      4.0              55  0.236861   \n",
       "\n",
       "          r_sub  r_rea  r_useful  \n",
       "index                             \n",
       "0      0.775379  81.59  0.011830  \n",
       "1      0.558611  76.15  0.014351  \n",
       "2      0.489970  70.43  0.025320  \n",
       "3      0.289683  78.59  0.011194  \n",
       "4      0.368667  77.06  0.028382  "
      ]
     },
     "execution_count": 2,
     "metadata": {},
     "output_type": "execute_result"
    }
   ],
   "source": [
    "cwd = pathlib.Path.cwd()\n",
    "root = cwd.parent\n",
    "\n",
    "data_path = f\"{root}/preprocessing/processed_data/preprocessed.parquet.snappy\"\n",
    "df = pd.read_parquet(data_path)\n",
    "df.head()"
   ]
  },
  {
   "cell_type": "code",
   "execution_count": 3,
   "id": "de521c3f-2997-4c59-9ed1-6998b8656c19",
   "metadata": {
    "execution": {
     "iopub.execute_input": "2022-08-22T11:28:24.994578Z",
     "iopub.status.busy": "2022-08-22T11:28:24.994197Z",
     "iopub.status.idle": "2022-08-22T11:28:24.999317Z",
     "shell.execute_reply": "2022-08-22T11:28:24.998310Z",
     "shell.execute_reply.started": "2022-08-22T11:28:24.994516Z"
    },
    "tags": []
   },
   "outputs": [
    {
     "name": "stdout",
     "output_type": "stream",
     "text": [
      "Number of records in our dataset : 2575783\n",
      "Number of features in our dataset : 13\n"
     ]
    }
   ],
   "source": [
    "print(f\"Number of records in our dataset : {df.shape[0]}\")\n",
    "print(f\"Number of features in our dataset : {df.shape[1]}\")"
   ]
  },
  {
   "cell_type": "markdown",
   "id": "c316a5b7-da01-437b-b796-cef3df63bf29",
   "metadata": {
    "execution": {
     "iopub.execute_input": "2022-08-21T06:32:40.221675Z",
     "iopub.status.busy": "2022-08-21T06:32:40.220675Z",
     "iopub.status.idle": "2022-08-21T06:32:54.236182Z",
     "shell.execute_reply": "2022-08-21T06:32:54.234308Z",
     "shell.execute_reply.started": "2022-08-21T06:32:40.221599Z"
    },
    "tags": []
   },
   "source": [
    "# Exploratory Data Analysis"
   ]
  },
  {
   "cell_type": "markdown",
   "id": "f10e0b78-2507-4835-9c23-54597521de14",
   "metadata": {},
   "source": [
    "## Dataset Statistics"
   ]
  },
  {
   "cell_type": "code",
   "execution_count": 4,
   "id": "6f3976e7-d849-495a-a88b-90855a42565d",
   "metadata": {
    "execution": {
     "iopub.execute_input": "2022-08-22T11:28:27.314598Z",
     "iopub.status.busy": "2022-08-22T11:28:27.313530Z",
     "iopub.status.idle": "2022-08-22T11:28:28.237152Z",
     "shell.execute_reply": "2022-08-22T11:28:28.236566Z",
     "shell.execute_reply.started": "2022-08-22T11:28:27.314540Z"
    },
    "tags": []
   },
   "outputs": [
    {
     "data": {
      "text/html": [
       "<div>\n",
       "<style scoped>\n",
       "    .dataframe tbody tr th:only-of-type {\n",
       "        vertical-align: middle;\n",
       "    }\n",
       "\n",
       "    .dataframe tbody tr th {\n",
       "        vertical-align: top;\n",
       "    }\n",
       "\n",
       "    .dataframe thead th {\n",
       "        text-align: right;\n",
       "    }\n",
       "</style>\n",
       "<table border=\"1\" class=\"dataframe\">\n",
       "  <thead>\n",
       "    <tr style=\"text-align: right;\">\n",
       "      <th></th>\n",
       "      <th>count</th>\n",
       "      <th>mean</th>\n",
       "      <th>std</th>\n",
       "      <th>min</th>\n",
       "      <th>25%</th>\n",
       "      <th>50%</th>\n",
       "      <th>75%</th>\n",
       "      <th>max</th>\n",
       "    </tr>\n",
       "  </thead>\n",
       "  <tbody>\n",
       "    <tr>\n",
       "      <th>r_id</th>\n",
       "      <td>2575783.0</td>\n",
       "      <td>3.523525e+06</td>\n",
       "      <td>2.016891e+06</td>\n",
       "      <td>4.000000e+00</td>\n",
       "      <td>1.805223e+06</td>\n",
       "      <td>3.484057e+06</td>\n",
       "      <td>5.289786e+06</td>\n",
       "      <td>6.990280e+06</td>\n",
       "    </tr>\n",
       "    <tr>\n",
       "      <th>r_stars</th>\n",
       "      <td>2575783.0</td>\n",
       "      <td>3.607544e+00</td>\n",
       "      <td>1.538538e+00</td>\n",
       "      <td>1.000000e+00</td>\n",
       "      <td>2.000000e+00</td>\n",
       "      <td>4.000000e+00</td>\n",
       "      <td>5.000000e+00</td>\n",
       "      <td>5.000000e+00</td>\n",
       "    </tr>\n",
       "    <tr>\n",
       "      <th>r_stars_square</th>\n",
       "      <td>2575783.0</td>\n",
       "      <td>1.538147e+01</td>\n",
       "      <td>9.619030e+00</td>\n",
       "      <td>1.000000e+00</td>\n",
       "      <td>4.000000e+00</td>\n",
       "      <td>1.600000e+01</td>\n",
       "      <td>2.500000e+01</td>\n",
       "      <td>2.500000e+01</td>\n",
       "    </tr>\n",
       "    <tr>\n",
       "      <th>r_length</th>\n",
       "      <td>2575783.0</td>\n",
       "      <td>1.332821e+02</td>\n",
       "      <td>1.149836e+02</td>\n",
       "      <td>0.000000e+00</td>\n",
       "      <td>5.700000e+01</td>\n",
       "      <td>1.010000e+02</td>\n",
       "      <td>1.710000e+02</td>\n",
       "      <td>1.068000e+03</td>\n",
       "    </tr>\n",
       "    <tr>\n",
       "      <th>u_friends_count</th>\n",
       "      <td>2575783.0</td>\n",
       "      <td>1.890087e+02</td>\n",
       "      <td>5.672281e+02</td>\n",
       "      <td>1.000000e+00</td>\n",
       "      <td>2.000000e+00</td>\n",
       "      <td>4.000000e+01</td>\n",
       "      <td>1.680000e+02</td>\n",
       "      <td>1.499500e+04</td>\n",
       "    </tr>\n",
       "    <tr>\n",
       "      <th>u_review_count</th>\n",
       "      <td>2575783.0</td>\n",
       "      <td>1.912800e+02</td>\n",
       "      <td>4.974955e+02</td>\n",
       "      <td>0.000000e+00</td>\n",
       "      <td>1.100000e+01</td>\n",
       "      <td>4.400000e+01</td>\n",
       "      <td>1.760000e+02</td>\n",
       "      <td>1.747300e+04</td>\n",
       "    </tr>\n",
       "    <tr>\n",
       "      <th>u_month_age</th>\n",
       "      <td>2575783.0</td>\n",
       "      <td>4.275028e+01</td>\n",
       "      <td>3.455216e+01</td>\n",
       "      <td>3.802649e-07</td>\n",
       "      <td>1.364109e+01</td>\n",
       "      <td>3.645798e+01</td>\n",
       "      <td>6.515363e+01</td>\n",
       "      <td>2.018375e+02</td>\n",
       "    </tr>\n",
       "    <tr>\n",
       "      <th>b_stars</th>\n",
       "      <td>2575783.0</td>\n",
       "      <td>3.742913e+00</td>\n",
       "      <td>7.946069e-01</td>\n",
       "      <td>1.000000e+00</td>\n",
       "      <td>3.500000e+00</td>\n",
       "      <td>4.000000e+00</td>\n",
       "      <td>4.500000e+00</td>\n",
       "      <td>5.000000e+00</td>\n",
       "    </tr>\n",
       "    <tr>\n",
       "      <th>b_review_count</th>\n",
       "      <td>2575783.0</td>\n",
       "      <td>3.368345e+02</td>\n",
       "      <td>6.656724e+02</td>\n",
       "      <td>5.000000e+00</td>\n",
       "      <td>4.000000e+01</td>\n",
       "      <td>1.250000e+02</td>\n",
       "      <td>3.410000e+02</td>\n",
       "      <td>7.568000e+03</td>\n",
       "    </tr>\n",
       "    <tr>\n",
       "      <th>r_sen</th>\n",
       "      <td>2575783.0</td>\n",
       "      <td>1.823502e-01</td>\n",
       "      <td>1.926674e-01</td>\n",
       "      <td>-1.000000e+00</td>\n",
       "      <td>6.004100e-02</td>\n",
       "      <td>1.808010e-01</td>\n",
       "      <td>3.004170e-01</td>\n",
       "      <td>1.000000e+00</td>\n",
       "    </tr>\n",
       "    <tr>\n",
       "      <th>r_sub</th>\n",
       "      <td>2575783.0</td>\n",
       "      <td>4.445888e-01</td>\n",
       "      <td>1.467637e-01</td>\n",
       "      <td>0.000000e+00</td>\n",
       "      <td>3.483330e-01</td>\n",
       "      <td>4.416250e-01</td>\n",
       "      <td>5.375000e-01</td>\n",
       "      <td>1.000000e+00</td>\n",
       "    </tr>\n",
       "    <tr>\n",
       "      <th>r_rea</th>\n",
       "      <td>2575783.0</td>\n",
       "      <td>8.003242e+01</td>\n",
       "      <td>1.114949e+01</td>\n",
       "      <td>-2.670590e+03</td>\n",
       "      <td>7.449000e+01</td>\n",
       "      <td>8.099000e+01</td>\n",
       "      <td>8.640000e+01</td>\n",
       "      <td>2.068400e+02</td>\n",
       "    </tr>\n",
       "    <tr>\n",
       "      <th>r_useful</th>\n",
       "      <td>2575783.0</td>\n",
       "      <td>1.616142e-01</td>\n",
       "      <td>8.028474e+00</td>\n",
       "      <td>4.934961e-03</td>\n",
       "      <td>1.768957e-02</td>\n",
       "      <td>3.272465e-02</td>\n",
       "      <td>7.053345e-02</td>\n",
       "      <td>5.326967e+03</td>\n",
       "    </tr>\n",
       "  </tbody>\n",
       "</table>\n",
       "</div>"
      ],
      "text/plain": [
       "                     count          mean           std           min  \\\n",
       "r_id             2575783.0  3.523525e+06  2.016891e+06  4.000000e+00   \n",
       "r_stars          2575783.0  3.607544e+00  1.538538e+00  1.000000e+00   \n",
       "r_stars_square   2575783.0  1.538147e+01  9.619030e+00  1.000000e+00   \n",
       "r_length         2575783.0  1.332821e+02  1.149836e+02  0.000000e+00   \n",
       "u_friends_count  2575783.0  1.890087e+02  5.672281e+02  1.000000e+00   \n",
       "u_review_count   2575783.0  1.912800e+02  4.974955e+02  0.000000e+00   \n",
       "u_month_age      2575783.0  4.275028e+01  3.455216e+01  3.802649e-07   \n",
       "b_stars          2575783.0  3.742913e+00  7.946069e-01  1.000000e+00   \n",
       "b_review_count   2575783.0  3.368345e+02  6.656724e+02  5.000000e+00   \n",
       "r_sen            2575783.0  1.823502e-01  1.926674e-01 -1.000000e+00   \n",
       "r_sub            2575783.0  4.445888e-01  1.467637e-01  0.000000e+00   \n",
       "r_rea            2575783.0  8.003242e+01  1.114949e+01 -2.670590e+03   \n",
       "r_useful         2575783.0  1.616142e-01  8.028474e+00  4.934961e-03   \n",
       "\n",
       "                          25%           50%           75%           max  \n",
       "r_id             1.805223e+06  3.484057e+06  5.289786e+06  6.990280e+06  \n",
       "r_stars          2.000000e+00  4.000000e+00  5.000000e+00  5.000000e+00  \n",
       "r_stars_square   4.000000e+00  1.600000e+01  2.500000e+01  2.500000e+01  \n",
       "r_length         5.700000e+01  1.010000e+02  1.710000e+02  1.068000e+03  \n",
       "u_friends_count  2.000000e+00  4.000000e+01  1.680000e+02  1.499500e+04  \n",
       "u_review_count   1.100000e+01  4.400000e+01  1.760000e+02  1.747300e+04  \n",
       "u_month_age      1.364109e+01  3.645798e+01  6.515363e+01  2.018375e+02  \n",
       "b_stars          3.500000e+00  4.000000e+00  4.500000e+00  5.000000e+00  \n",
       "b_review_count   4.000000e+01  1.250000e+02  3.410000e+02  7.568000e+03  \n",
       "r_sen            6.004100e-02  1.808010e-01  3.004170e-01  1.000000e+00  \n",
       "r_sub            3.483330e-01  4.416250e-01  5.375000e-01  1.000000e+00  \n",
       "r_rea            7.449000e+01  8.099000e+01  8.640000e+01  2.068400e+02  \n",
       "r_useful         1.768957e-02  3.272465e-02  7.053345e-02  5.326967e+03  "
      ]
     },
     "execution_count": 4,
     "metadata": {},
     "output_type": "execute_result"
    }
   ],
   "source": [
    "df.describe().T"
   ]
  },
  {
   "cell_type": "markdown",
   "id": "657860fc-7299-4e0a-89a5-79bce138a2e5",
   "metadata": {},
   "source": [
    "## Missing Values in our dataset"
   ]
  },
  {
   "cell_type": "code",
   "execution_count": 5,
   "id": "5bee5e4a-d0e0-4243-ac56-0a874d06e4c9",
   "metadata": {
    "execution": {
     "iopub.execute_input": "2022-08-22T11:28:32.559643Z",
     "iopub.status.busy": "2022-08-22T11:28:32.558528Z",
     "iopub.status.idle": "2022-08-22T11:28:32.648323Z",
     "shell.execute_reply": "2022-08-22T11:28:32.647578Z",
     "shell.execute_reply.started": "2022-08-22T11:28:32.559576Z"
    },
    "tags": []
   },
   "outputs": [
    {
     "data": {
      "text/html": [
       "<div>\n",
       "<style scoped>\n",
       "    .dataframe tbody tr th:only-of-type {\n",
       "        vertical-align: middle;\n",
       "    }\n",
       "\n",
       "    .dataframe tbody tr th {\n",
       "        vertical-align: top;\n",
       "    }\n",
       "\n",
       "    .dataframe thead th {\n",
       "        text-align: right;\n",
       "    }\n",
       "</style>\n",
       "<table border=\"1\" class=\"dataframe\">\n",
       "  <thead>\n",
       "    <tr style=\"text-align: right;\">\n",
       "      <th></th>\n",
       "      <th>percent_missing</th>\n",
       "    </tr>\n",
       "  </thead>\n",
       "  <tbody>\n",
       "    <tr>\n",
       "      <th>r_id</th>\n",
       "      <td>0.0</td>\n",
       "    </tr>\n",
       "    <tr>\n",
       "      <th>r_stars</th>\n",
       "      <td>0.0</td>\n",
       "    </tr>\n",
       "    <tr>\n",
       "      <th>r_stars_square</th>\n",
       "      <td>0.0</td>\n",
       "    </tr>\n",
       "    <tr>\n",
       "      <th>r_length</th>\n",
       "      <td>0.0</td>\n",
       "    </tr>\n",
       "    <tr>\n",
       "      <th>u_friends_count</th>\n",
       "      <td>0.0</td>\n",
       "    </tr>\n",
       "    <tr>\n",
       "      <th>u_review_count</th>\n",
       "      <td>0.0</td>\n",
       "    </tr>\n",
       "    <tr>\n",
       "      <th>u_month_age</th>\n",
       "      <td>0.0</td>\n",
       "    </tr>\n",
       "    <tr>\n",
       "      <th>b_stars</th>\n",
       "      <td>0.0</td>\n",
       "    </tr>\n",
       "    <tr>\n",
       "      <th>b_review_count</th>\n",
       "      <td>0.0</td>\n",
       "    </tr>\n",
       "    <tr>\n",
       "      <th>r_sen</th>\n",
       "      <td>0.0</td>\n",
       "    </tr>\n",
       "    <tr>\n",
       "      <th>r_sub</th>\n",
       "      <td>0.0</td>\n",
       "    </tr>\n",
       "    <tr>\n",
       "      <th>r_rea</th>\n",
       "      <td>0.0</td>\n",
       "    </tr>\n",
       "    <tr>\n",
       "      <th>r_useful</th>\n",
       "      <td>0.0</td>\n",
       "    </tr>\n",
       "  </tbody>\n",
       "</table>\n",
       "</div>"
      ],
      "text/plain": [
       "                 percent_missing\n",
       "r_id                         0.0\n",
       "r_stars                      0.0\n",
       "r_stars_square               0.0\n",
       "r_length                     0.0\n",
       "u_friends_count              0.0\n",
       "u_review_count               0.0\n",
       "u_month_age                  0.0\n",
       "b_stars                      0.0\n",
       "b_review_count               0.0\n",
       "r_sen                        0.0\n",
       "r_sub                        0.0\n",
       "r_rea                        0.0\n",
       "r_useful                     0.0"
      ]
     },
     "execution_count": 5,
     "metadata": {},
     "output_type": "execute_result"
    }
   ],
   "source": [
    "pd.DataFrame(df.isna().sum() / df.isna().count() * 100).rename(columns={0:'percent_missing'})"
   ]
  },
  {
   "cell_type": "markdown",
   "id": "c962ea49-9645-45b4-a696-27734ed0311b",
   "metadata": {},
   "source": [
    "## Histogram of the Review Stars"
   ]
  },
  {
   "cell_type": "code",
   "execution_count": 6,
   "id": "04ab8b87-ecb5-4236-9b06-6e611507e752",
   "metadata": {
    "execution": {
     "iopub.execute_input": "2022-08-22T11:28:33.516760Z",
     "iopub.status.busy": "2022-08-22T11:28:33.516397Z",
     "iopub.status.idle": "2022-08-22T11:28:33.929519Z",
     "shell.execute_reply": "2022-08-22T11:28:33.928588Z",
     "shell.execute_reply.started": "2022-08-22T11:28:33.516737Z"
    },
    "tags": []
   },
   "outputs": [
    {
     "data": {
      "image/png": "[encoded data removed]",
      "text/plain": [
       "<Figure size 864x576 with 1 Axes>"
      ]
     },
     "metadata": {},
     "output_type": "display_data"
    }
   ],
   "source": [
    "plt.figure(figsize=(12, 8))\n",
    "sns.histplot(data=df, x=\"r_stars\", bins=4)\n",
    "plt.xlabel(\"Review Stars\")\n",
    "plt.show()"
   ]
  },
  {
   "cell_type": "markdown",
   "id": "14d1c451-69bb-4b98-9dc6-f83ae9442a7d",
   "metadata": {},
   "source": [
    "## Histogram of Review Stars Squared"
   ]
  },
  {
   "cell_type": "code",
   "execution_count": 7,
   "id": "f079ec7c-e023-4992-91bf-f64e4f37ae4d",
   "metadata": {
    "execution": {
     "iopub.execute_input": "2022-08-22T11:28:34.301185Z",
     "iopub.status.busy": "2022-08-22T11:28:34.300415Z",
     "iopub.status.idle": "2022-08-22T11:28:34.611312Z",
     "shell.execute_reply": "2022-08-22T11:28:34.610532Z",
     "shell.execute_reply.started": "2022-08-22T11:28:34.301144Z"
    },
    "tags": []
   },
   "outputs": [
    {
     "data": {
      "image/png": "[encoded data removed]",
      "text/plain": [
       "<Figure size 864x576 with 1 Axes>"
      ]
     },
     "metadata": {},
     "output_type": "display_data"
    }
   ],
   "source": [
    "plt.figure(figsize=(12, 8))\n",
    "sns.histplot(data=df, x=\"r_stars_square\", bins=5, color=\"indianred\")\n",
    "plt.xlabel(\"Review Stars (Squared)\")\n",
    "plt.show()"
   ]
  },
  {
   "cell_type": "markdown",
   "id": "a51d41c7-ad39-436d-a2ab-033b6153308e",
   "metadata": {},
   "source": [
    "## Histogram of Review Length"
   ]
  },
  {
   "cell_type": "code",
   "execution_count": 8,
   "id": "c97a0767-15d2-4a85-b548-f9106ad1c543",
   "metadata": {
    "execution": {
     "iopub.execute_input": "2022-08-22T11:28:34.806577Z",
     "iopub.status.busy": "2022-08-22T11:28:34.805429Z",
     "iopub.status.idle": "2022-08-22T11:28:35.207837Z",
     "shell.execute_reply": "2022-08-22T11:28:35.207221Z",
     "shell.execute_reply.started": "2022-08-22T11:28:34.806512Z"
    },
    "tags": []
   },
   "outputs": [
    {
     "data": {
      "image/png": "[encoded data removed]",
      "text/plain": [
       "<Figure size 864x576 with 1 Axes>"
      ]
     },
     "metadata": {},
     "output_type": "display_data"
    }
   ],
   "source": [
    "plt.figure(figsize=(12, 8))\n",
    "sns.histplot(data=df, x=\"r_length\", bins=100, color=\"slateblue\")\n",
    "plt.xlabel(\"Review Length\")\n",
    "plt.show()"
   ]
  },
  {
   "cell_type": "markdown",
   "id": "82d4bbb9-be06-45dd-867f-2feb18f79edc",
   "metadata": {},
   "source": [
    "## Histogram of Friends Count"
   ]
  },
  {
   "cell_type": "code",
   "execution_count": 9,
   "id": "deac064a-f6d7-4e51-a40a-8663b3cdb96d",
   "metadata": {
    "execution": {
     "iopub.execute_input": "2022-08-22T11:28:35.398907Z",
     "iopub.status.busy": "2022-08-22T11:28:35.398311Z",
     "iopub.status.idle": "2022-08-22T11:28:35.799716Z",
     "shell.execute_reply": "2022-08-22T11:28:35.798623Z",
     "shell.execute_reply.started": "2022-08-22T11:28:35.398838Z"
    },
    "tags": []
   },
   "outputs": [
    {
     "data": {
      "image/png": "[encoded data removed]",
      "text/plain": [
       "<Figure size 864x576 with 1 Axes>"
      ]
     },
     "metadata": {},
     "output_type": "display_data"
    }
   ],
   "source": [
    "plt.figure(figsize=(12, 8))\n",
    "sns.histplot(data=df, x=\"u_friends_count\", bins=100, color=\"seagreen\")\n",
    "plt.xlabel(\"Number of friends of a reviewer\")\n",
    "plt.show()"
   ]
  },
  {
   "cell_type": "markdown",
   "id": "cb5252d0-338a-46bb-b4cf-e1e973eb6ff1",
   "metadata": {},
   "source": [
    "## Histogram of Review Count"
   ]
  },
  {
   "cell_type": "code",
   "execution_count": 10,
   "id": "1a92fc77-08d6-4b6f-b077-accda5a9052f",
   "metadata": {
    "execution": {
     "iopub.execute_input": "2022-08-22T11:28:36.038895Z",
     "iopub.status.busy": "2022-08-22T11:28:36.038270Z",
     "iopub.status.idle": "2022-08-22T11:28:36.439032Z",
     "shell.execute_reply": "2022-08-22T11:28:36.438075Z",
     "shell.execute_reply.started": "2022-08-22T11:28:36.038829Z"
    },
    "tags": []
   },
   "outputs": [
    {
     "data": {
      "image/png": "[encoded data removed]",
      "text/plain": [
       "<Figure size 864x576 with 1 Axes>"
      ]
     },
     "metadata": {},
     "output_type": "display_data"
    }
   ],
   "source": [
    "plt.figure(figsize=(12, 8))\n",
    "sns.histplot(data=df, x=\"u_review_count\", bins=100, color=\"goldenrod\")\n",
    "plt.xlabel(\"Number of reviews posted by a reviewer\")\n",
    "plt.show()"
   ]
  },
  {
   "cell_type": "markdown",
   "id": "eda19821-afaa-472d-a58b-8da7c564976e",
   "metadata": {},
   "source": [
    "## Distribution of User Account's age at time of review posting"
   ]
  },
  {
   "cell_type": "code",
   "execution_count": 11,
   "id": "bd081232-8a5f-413c-8fc5-bac1968ce510",
   "metadata": {
    "execution": {
     "iopub.execute_input": "2022-08-22T11:28:37.112730Z",
     "iopub.status.busy": "2022-08-22T11:28:37.111999Z",
     "iopub.status.idle": "2022-08-22T11:28:46.660993Z",
     "shell.execute_reply": "2022-08-22T11:28:46.660242Z",
     "shell.execute_reply.started": "2022-08-22T11:28:37.112698Z"
    },
    "tags": []
   },
   "outputs": [
    {
     "data": {
      "image/png": "[encoded data removed]",
      "text/plain": [
       "<Figure size 864x576 with 1 Axes>"
      ]
     },
     "metadata": {},
     "output_type": "display_data"
    }
   ],
   "source": [
    "plt.figure(figsize=(12, 8))\n",
    "sns.kdeplot(x=\"u_month_age\", data=df)\n",
    "plt.xlabel(\"Users Account Age\")\n",
    "plt.show()"
   ]
  },
  {
   "cell_type": "markdown",
   "id": "0038897b-f94b-4f9f-bad9-a5a1e843585d",
   "metadata": {},
   "source": [
    "## Distribution of Business Stars "
   ]
  },
  {
   "cell_type": "code",
   "execution_count": 12,
   "id": "956904f3-c08e-4004-80c9-46ec2d474181",
   "metadata": {
    "execution": {
     "iopub.execute_input": "2022-08-22T11:28:46.662575Z",
     "iopub.status.busy": "2022-08-22T11:28:46.662237Z",
     "iopub.status.idle": "2022-08-22T11:28:47.012859Z",
     "shell.execute_reply": "2022-08-22T11:28:47.012116Z",
     "shell.execute_reply.started": "2022-08-22T11:28:46.662543Z"
    },
    "tags": []
   },
   "outputs": [
    {
     "data": {
      "image/png": "[encoded data removed]",
      "text/plain": [
       "<Figure size 864x576 with 1 Axes>"
      ]
     },
     "metadata": {},
     "output_type": "display_data"
    }
   ],
   "source": [
    "plt.figure(figsize=(12, 8))\n",
    "sns.histplot(data=df, x=\"b_stars\", bins=4, color=\"orangered\")\n",
    "plt.xlabel(\"Business Star Ratings\")\n",
    "plt.show()"
   ]
  },
  {
   "cell_type": "markdown",
   "id": "b4ce70f5-f8f0-4b7c-a64d-0ac1a79a8f5f",
   "metadata": {},
   "source": [
    "## Business Review Count"
   ]
  },
  {
   "cell_type": "code",
   "execution_count": 13,
   "id": "7a64f15b-b795-4059-be9a-9129a29bd4bf",
   "metadata": {
    "execution": {
     "iopub.execute_input": "2022-08-22T11:28:47.014040Z",
     "iopub.status.busy": "2022-08-22T11:28:47.013797Z",
     "iopub.status.idle": "2022-08-22T11:28:49.359219Z",
     "shell.execute_reply": "2022-08-22T11:28:49.358428Z",
     "shell.execute_reply.started": "2022-08-22T11:28:47.014021Z"
    },
    "tags": []
   },
   "outputs": [
    {
     "data": {
      "image/png": "[encoded data removed]",
      "text/plain": [
       "<Figure size 864x576 with 1 Axes>"
      ]
     },
     "metadata": {},
     "output_type": "display_data"
    }
   ],
   "source": [
    "plt.figure(figsize=(12, 8))\n",
    "sns.histplot(data=df, x=\"b_review_count\", color=\"indigo\")\n",
    "plt.xlabel(\"Business Star Ratings\")\n",
    "plt.show()"
   ]
  },
  {
   "cell_type": "markdown",
   "id": "286f43e0-508b-4f01-a9e7-7d0055aeac8a",
   "metadata": {},
   "source": [
    "## Distribution of Review Sentiment"
   ]
  },
  {
   "cell_type": "code",
   "execution_count": 14,
   "id": "42199bda-95e2-4b3b-a2c0-2ede137c63df",
   "metadata": {
    "execution": {
     "iopub.execute_input": "2022-08-22T11:28:49.361375Z",
     "iopub.status.busy": "2022-08-22T11:28:49.361005Z",
     "iopub.status.idle": "2022-08-22T11:28:59.676688Z",
     "shell.execute_reply": "2022-08-22T11:28:59.676051Z",
     "shell.execute_reply.started": "2022-08-22T11:28:49.361351Z"
    },
    "tags": []
   },
   "outputs": [
    {
     "data": {
      "image/png": "[encoded data removed]",
      "text/plain": [
       "<Figure size 864x576 with 1 Axes>"
      ]
     },
     "metadata": {},
     "output_type": "display_data"
    }
   ],
   "source": [
    "plt.figure(figsize=(12, 8))\n",
    "sns.kdeplot(x=\"r_sen\", data=df, color=\"tomato\")\n",
    "plt.xlabel(\"Review Sentiment\")\n",
    "plt.show()"
   ]
  },
  {
   "cell_type": "markdown",
   "id": "ca4e3253-b8d4-42a2-aa30-c4802e72d955",
   "metadata": {},
   "source": [
    "## Distribution of Review Subjectivity"
   ]
  },
  {
   "cell_type": "code",
   "execution_count": 15,
   "id": "a90a331f-3954-4754-b185-9567dcd920a0",
   "metadata": {
    "execution": {
     "iopub.execute_input": "2022-08-22T11:28:59.677946Z",
     "iopub.status.busy": "2022-08-22T11:28:59.677530Z",
     "iopub.status.idle": "2022-08-22T11:29:09.856552Z",
     "shell.execute_reply": "2022-08-22T11:29:09.855920Z",
     "shell.execute_reply.started": "2022-08-22T11:28:59.677916Z"
    },
    "tags": []
   },
   "outputs": [
    {
     "data": {
      "image/png": "[encoded data removed]",
      "text/plain": [
       "<Figure size 864x576 with 1 Axes>"
      ]
     },
     "metadata": {},
     "output_type": "display_data"
    }
   ],
   "source": [
    "plt.figure(figsize=(12, 8))\n",
    "sns.kdeplot(x=\"r_sub\", data=df, color=\"forestgreen\")\n",
    "plt.xlabel(\"Review Subjectivity\")\n",
    "plt.show()"
   ]
  },
  {
   "cell_type": "markdown",
   "id": "5eae96f0-49cb-45e9-bedf-568f593a6896",
   "metadata": {},
   "source": [
    "## Distribution of Review Readability"
   ]
  },
  {
   "cell_type": "code",
   "execution_count": 16,
   "id": "c87c5b48-3d12-4882-9df4-2ef55e54aa5d",
   "metadata": {
    "execution": {
     "iopub.execute_input": "2022-08-22T11:29:09.858079Z",
     "iopub.status.busy": "2022-08-22T11:29:09.857666Z",
     "iopub.status.idle": "2022-08-22T11:29:20.943717Z",
     "shell.execute_reply": "2022-08-22T11:29:20.942574Z",
     "shell.execute_reply.started": "2022-08-22T11:29:09.858047Z"
    },
    "tags": []
   },
   "outputs": [
    {
     "data": {
      "image/png": "[encoded data removed]",
      "text/plain": [
       "<Figure size 864x576 with 1 Axes>"
      ]
     },
     "metadata": {},
     "output_type": "display_data"
    }
   ],
   "source": [
    "plt.figure(figsize=(12, 8))\n",
    "sns.kdeplot(x=\"r_rea\", data=df, color=\"navy\")\n",
    "plt.xlabel(\"Review Readability\")\n",
    "plt.show()"
   ]
  },
  {
   "cell_type": "markdown",
   "id": "a98e8ce2-4e94-431f-9667-20b4edca08e1",
   "metadata": {},
   "source": [
    "## Distribution of Review Usefulness"
   ]
  },
  {
   "cell_type": "code",
   "execution_count": 17,
   "id": "d677b505-256f-4d8b-8446-8ad4b89cbf83",
   "metadata": {
    "execution": {
     "iopub.execute_input": "2022-08-22T11:29:20.944919Z",
     "iopub.status.busy": "2022-08-22T11:29:20.944663Z",
     "iopub.status.idle": "2022-08-22T11:29:32.087637Z",
     "shell.execute_reply": "2022-08-22T11:29:32.086785Z",
     "shell.execute_reply.started": "2022-08-22T11:29:20.944899Z"
    },
    "tags": []
   },
   "outputs": [
    {
     "data": {
      "image/png": "[encoded data removed]",
      "text/plain": [
       "<Figure size 864x576 with 1 Axes>"
      ]
     },
     "metadata": {},
     "output_type": "display_data"
    }
   ],
   "source": [
    "plt.figure(figsize=(12, 8))\n",
    "sns.kdeplot(x=\"r_useful\", data=df, color=\"orchid\")\n",
    "plt.xlabel(\"Review Usefulness\")\n",
    "plt.show()"
   ]
  },
  {
   "cell_type": "markdown",
   "id": "b4c291c4-194a-4bdb-8105-bdd218a329e3",
   "metadata": {},
   "source": [
    "# Data Standarization"
   ]
  },
  {
   "cell_type": "markdown",
   "id": "3230c51e-4eda-472b-8a7a-6b1144c09b30",
   "metadata": {},
   "source": [
    "## Splitting the data randomly"
   ]
  },
  {
   "cell_type": "code",
   "execution_count": 18,
   "id": "b09977d7-2613-45da-ae0d-16486940f3c8",
   "metadata": {
    "execution": {
     "iopub.execute_input": "2022-08-22T11:29:32.090190Z",
     "iopub.status.busy": "2022-08-22T11:29:32.089818Z",
     "iopub.status.idle": "2022-08-22T11:29:32.353487Z",
     "shell.execute_reply": "2022-08-22T11:29:32.352892Z",
     "shell.execute_reply.started": "2022-08-22T11:29:32.090170Z"
    },
    "tags": []
   },
   "outputs": [],
   "source": [
    "from sklearn.model_selection import train_test_split"
   ]
  },
  {
   "cell_type": "code",
   "execution_count": 19,
   "id": "8e6adb3b-ff36-4030-88b1-eb6dc5dd2bfd",
   "metadata": {
    "execution": {
     "iopub.execute_input": "2022-08-22T11:29:32.354847Z",
     "iopub.status.busy": "2022-08-22T11:29:32.354414Z",
     "iopub.status.idle": "2022-08-22T11:29:33.027866Z",
     "shell.execute_reply": "2022-08-22T11:29:33.027311Z",
     "shell.execute_reply.started": "2022-08-22T11:29:32.354817Z"
    },
    "tags": []
   },
   "outputs": [],
   "source": [
    "df_train, df_test = train_test_split(df, test_size=0.2, random_state=42) # 80-20 split \n",
    "# df_val, df_test = train_test_split(df_test, test_size=0.1, random_state=42) # 10-10 split of 20"
   ]
  },
  {
   "cell_type": "code",
   "execution_count": 20,
   "id": "5cc49a98-e3cd-426d-98b4-27e3bf064f78",
   "metadata": {
    "execution": {
     "iopub.execute_input": "2022-08-22T11:29:33.028854Z",
     "iopub.status.busy": "2022-08-22T11:29:33.028617Z",
     "iopub.status.idle": "2022-08-22T11:29:33.033279Z",
     "shell.execute_reply": "2022-08-22T11:29:33.032650Z",
     "shell.execute_reply.started": "2022-08-22T11:29:33.028835Z"
    },
    "tags": []
   },
   "outputs": [
    {
     "name": "stdout",
     "output_type": "stream",
     "text": [
      "<======== Info about Training Data ============>\n",
      "Number of records in training data : 2060626\n",
      "Number of attributes in training data : 13\n",
      "<======== Info about Test Data ============>\n",
      "Number of records in training data : 51516\n",
      "Number of attributes in training data : 13\n"
     ]
    }
   ],
   "source": [
    "print(f\"<======== Info about Training Data ============>\")\n",
    "print(f\"Number of records in training data : {df_train.shape[0]}\")\n",
    "print(f\"Number of attributes in training data : {df_train.shape[1]}\")\n",
    "\n",
    "# print(f\"<======== Info about Validation Data ============>\")\n",
    "# print(f\"Number of records in training data : {df_val.shape[0]}\")\n",
    "# print(f\"Number of attributes in training data : {df_val.shape[1]}\")\n",
    "\n",
    "print(f\"<======== Info about Test Data ============>\")\n",
    "print(f\"Number of records in training data : {df_test.shape[0]}\")\n",
    "print(f\"Number of attributes in training data : {df_test.shape[1]}\")"
   ]
  },
  {
   "cell_type": "code",
   "execution_count": 21,
   "id": "41514383-2027-47be-8f2c-2371a4da1843",
   "metadata": {
    "execution": {
     "iopub.execute_input": "2022-08-22T11:30:24.989552Z",
     "iopub.status.busy": "2022-08-22T11:30:24.989171Z",
     "iopub.status.idle": "2022-08-22T11:30:26.553078Z",
     "shell.execute_reply": "2022-08-22T11:30:26.552223Z",
     "shell.execute_reply.started": "2022-08-22T11:30:24.989527Z"
    }
   },
   "outputs": [],
   "source": [
    "df_train.to_parquet(f\"{root}/data/train.parquet\", index=False, compression=\"snappy\")\n",
    "df_test.to_parquet(f\"{root}/data/test.parquet\", index=False, compression=\"snappy\")"
   ]
  },
  {
   "cell_type": "markdown",
   "id": "09e6064c-1940-47ac-b25c-b6189bc738be",
   "metadata": {},
   "source": [
    "## Standarizing the Data"
   ]
  },
  {
   "cell_type": "code",
   "execution_count": 21,
   "id": "0e903aa5-53d9-4dc8-81ba-8e72d5be9ef9",
   "metadata": {
    "execution": {
     "iopub.execute_input": "2022-08-21T11:04:09.247277Z",
     "iopub.status.busy": "2022-08-21T11:04:09.246925Z",
     "iopub.status.idle": "2022-08-21T11:04:09.257176Z",
     "shell.execute_reply": "2022-08-21T11:04:09.256299Z",
     "shell.execute_reply.started": "2022-08-21T11:04:09.247238Z"
    },
    "tags": []
   },
   "outputs": [],
   "source": [
    "from sklearn.compose import ColumnTransformer\n",
    "from sklearn.preprocessing import StandardScaler"
   ]
  },
  {
   "cell_type": "code",
   "execution_count": 22,
   "id": "945715a4-b8b3-41d6-8c97-839659bfd685",
   "metadata": {
    "execution": {
     "iopub.execute_input": "2022-08-21T11:04:09.258389Z",
     "iopub.status.busy": "2022-08-21T11:04:09.258100Z",
     "iopub.status.idle": "2022-08-21T11:04:09.307831Z",
     "shell.execute_reply": "2022-08-21T11:04:09.306901Z",
     "shell.execute_reply.started": "2022-08-21T11:04:09.258369Z"
    },
    "tags": []
   },
   "outputs": [],
   "source": [
    "ct = ColumnTransformer([\n",
    "    (\"standarize_feat\", StandardScaler(), df_train.drop(['r_useful', 'r_id'], axis=1).columns.tolist())\n",
    "], remainder='passthrough')"
   ]
  },
  {
   "cell_type": "code",
   "execution_count": 23,
   "id": "2e07a614-5cf7-48af-9396-84a2fa192d92",
   "metadata": {
    "execution": {
     "iopub.execute_input": "2022-08-21T11:04:09.309800Z",
     "iopub.status.busy": "2022-08-21T11:04:09.309194Z",
     "iopub.status.idle": "2022-08-21T11:04:09.826489Z",
     "shell.execute_reply": "2022-08-21T11:04:09.825095Z",
     "shell.execute_reply.started": "2022-08-21T11:04:09.309753Z"
    },
    "tags": []
   },
   "outputs": [],
   "source": [
    "cols = df_train.drop(['r_useful', 'r_id'], axis=1).columns.tolist() + ['r_id', 'r_useful']\n",
    "\n",
    "df_train_transformed = pd.DataFrame(ct.fit_transform(df_train), columns=cols)\n",
    "df_val_transformed = pd.DataFrame(ct.transform(df_val), columns=cols)\n",
    "df_test_transformed = pd.DataFrame(ct.transform(df_test), columns=cols)"
   ]
  },
  {
   "cell_type": "code",
   "execution_count": 24,
   "id": "11f8cb3d-39e8-4fda-a4b9-b728e952b3ce",
   "metadata": {
    "execution": {
     "iopub.execute_input": "2022-08-21T11:05:55.308878Z",
     "iopub.status.busy": "2022-08-21T11:05:55.308311Z",
     "iopub.status.idle": "2022-08-21T11:05:56.104007Z",
     "shell.execute_reply": "2022-08-21T11:05:56.103164Z",
     "shell.execute_reply.started": "2022-08-21T11:05:55.308832Z"
    }
   },
   "outputs": [],
   "source": [
    "df_train_transformed['r_id'] = df_train_transformed['r_id'].apply(int)\n",
    "df_val_transformed['r_id'] = df_val_transformed['r_id'].apply(int)\n",
    "df_test_transformed['r_id'] = df_test_transformed['r_id'].apply(int)"
   ]
  },
  {
   "cell_type": "code",
   "execution_count": 25,
   "id": "358726bf-f878-41f0-9b66-c6d83994cfaa",
   "metadata": {
    "execution": {
     "iopub.execute_input": "2022-08-21T11:05:56.777984Z",
     "iopub.status.busy": "2022-08-21T11:05:56.777431Z",
     "iopub.status.idle": "2022-08-21T11:05:56.800209Z",
     "shell.execute_reply": "2022-08-21T11:05:56.798030Z",
     "shell.execute_reply.started": "2022-08-21T11:05:56.777939Z"
    },
    "tags": []
   },
   "outputs": [
    {
     "data": {
      "text/html": [
       "<div>\n",
       "<style scoped>\n",
       "    .dataframe tbody tr th:only-of-type {\n",
       "        vertical-align: middle;\n",
       "    }\n",
       "\n",
       "    .dataframe tbody tr th {\n",
       "        vertical-align: top;\n",
       "    }\n",
       "\n",
       "    .dataframe thead th {\n",
       "        text-align: right;\n",
       "    }\n",
       "</style>\n",
       "<table border=\"1\" class=\"dataframe\">\n",
       "  <thead>\n",
       "    <tr style=\"text-align: right;\">\n",
       "      <th></th>\n",
       "      <th>r_stars</th>\n",
       "      <th>r_stars_square</th>\n",
       "      <th>r_length</th>\n",
       "      <th>u_friends_count</th>\n",
       "      <th>u_review_count</th>\n",
       "      <th>u_month_age</th>\n",
       "      <th>b_stars</th>\n",
       "      <th>b_review_count</th>\n",
       "      <th>r_sen</th>\n",
       "      <th>r_sub</th>\n",
       "      <th>r_rea</th>\n",
       "      <th>r_id</th>\n",
       "      <th>r_useful</th>\n",
       "    </tr>\n",
       "  </thead>\n",
       "  <tbody>\n",
       "    <tr>\n",
       "      <th>0</th>\n",
       "      <td>-1.693936</td>\n",
       "      <td>-1.494513</td>\n",
       "      <td>0.961938</td>\n",
       "      <td>-0.331709</td>\n",
       "      <td>-0.323091</td>\n",
       "      <td>-0.609501</td>\n",
       "      <td>-0.934654</td>\n",
       "      <td>-0.238997</td>\n",
       "      <td>-1.403165</td>\n",
       "      <td>1.124223</td>\n",
       "      <td>-0.796690</td>\n",
       "      <td>4847617</td>\n",
       "      <td>0.118048</td>\n",
       "    </tr>\n",
       "    <tr>\n",
       "      <th>1</th>\n",
       "      <td>-0.394383</td>\n",
       "      <td>-0.662991</td>\n",
       "      <td>-0.836997</td>\n",
       "      <td>0.248959</td>\n",
       "      <td>0.116364</td>\n",
       "      <td>-0.277802</td>\n",
       "      <td>0.953066</td>\n",
       "      <td>-0.475961</td>\n",
       "      <td>-1.152980</td>\n",
       "      <td>0.742918</td>\n",
       "      <td>1.431968</td>\n",
       "      <td>5577152</td>\n",
       "      <td>0.011136</td>\n",
       "    </tr>\n",
       "    <tr>\n",
       "      <th>2</th>\n",
       "      <td>-0.394383</td>\n",
       "      <td>-0.662991</td>\n",
       "      <td>-0.515448</td>\n",
       "      <td>-0.271701</td>\n",
       "      <td>-0.258584</td>\n",
       "      <td>0.664981</td>\n",
       "      <td>-0.305414</td>\n",
       "      <td>-0.309486</td>\n",
       "      <td>0.345055</td>\n",
       "      <td>0.438695</td>\n",
       "      <td>1.339823</td>\n",
       "      <td>1113002</td>\n",
       "      <td>0.030032</td>\n",
       "    </tr>\n",
       "    <tr>\n",
       "      <th>3</th>\n",
       "      <td>-1.693936</td>\n",
       "      <td>-1.494513</td>\n",
       "      <td>1.970036</td>\n",
       "      <td>-0.250521</td>\n",
       "      <td>-0.371472</td>\n",
       "      <td>-1.232336</td>\n",
       "      <td>-1.563893</td>\n",
       "      <td>-0.354480</td>\n",
       "      <td>-2.135030</td>\n",
       "      <td>-0.014948</td>\n",
       "      <td>-0.677443</td>\n",
       "      <td>6353340</td>\n",
       "      <td>0.017990</td>\n",
       "    </tr>\n",
       "    <tr>\n",
       "      <th>4</th>\n",
       "      <td>0.255394</td>\n",
       "      <td>0.064590</td>\n",
       "      <td>0.118959</td>\n",
       "      <td>-0.331709</td>\n",
       "      <td>-0.379535</td>\n",
       "      <td>-1.027147</td>\n",
       "      <td>-0.934654</td>\n",
       "      <td>-0.080021</td>\n",
       "      <td>0.011747</td>\n",
       "      <td>0.312105</td>\n",
       "      <td>-0.634984</td>\n",
       "      <td>5836201</td>\n",
       "      <td>0.006991</td>\n",
       "    </tr>\n",
       "  </tbody>\n",
       "</table>\n",
       "</div>"
      ],
      "text/plain": [
       "    r_stars  r_stars_square  r_length  u_friends_count  u_review_count  \\\n",
       "0 -1.693936       -1.494513  0.961938        -0.331709       -0.323091   \n",
       "1 -0.394383       -0.662991 -0.836997         0.248959        0.116364   \n",
       "2 -0.394383       -0.662991 -0.515448        -0.271701       -0.258584   \n",
       "3 -1.693936       -1.494513  1.970036        -0.250521       -0.371472   \n",
       "4  0.255394        0.064590  0.118959        -0.331709       -0.379535   \n",
       "\n",
       "   u_month_age   b_stars  b_review_count     r_sen     r_sub     r_rea  \\\n",
       "0    -0.609501 -0.934654       -0.238997 -1.403165  1.124223 -0.796690   \n",
       "1    -0.277802  0.953066       -0.475961 -1.152980  0.742918  1.431968   \n",
       "2     0.664981 -0.305414       -0.309486  0.345055  0.438695  1.339823   \n",
       "3    -1.232336 -1.563893       -0.354480 -2.135030 -0.014948 -0.677443   \n",
       "4    -1.027147 -0.934654       -0.080021  0.011747  0.312105 -0.634984   \n",
       "\n",
       "      r_id  r_useful  \n",
       "0  4847617  0.118048  \n",
       "1  5577152  0.011136  \n",
       "2  1113002  0.030032  \n",
       "3  6353340  0.017990  \n",
       "4  5836201  0.006991  "
      ]
     },
     "execution_count": 25,
     "metadata": {},
     "output_type": "execute_result"
    }
   ],
   "source": [
    "df_train_transformed.head()"
   ]
  },
  {
   "cell_type": "code",
   "execution_count": 26,
   "id": "949f2f47-3b60-4de7-9ba8-d4af31d0ed25",
   "metadata": {
    "execution": {
     "iopub.execute_input": "2022-08-21T11:06:05.602870Z",
     "iopub.status.busy": "2022-08-21T11:06:05.602327Z",
     "iopub.status.idle": "2022-08-21T11:06:05.634261Z",
     "shell.execute_reply": "2022-08-21T11:06:05.633436Z",
     "shell.execute_reply.started": "2022-08-21T11:06:05.602827Z"
    },
    "tags": []
   },
   "outputs": [
    {
     "data": {
      "text/html": [
       "<div>\n",
       "<style scoped>\n",
       "    .dataframe tbody tr th:only-of-type {\n",
       "        vertical-align: middle;\n",
       "    }\n",
       "\n",
       "    .dataframe tbody tr th {\n",
       "        vertical-align: top;\n",
       "    }\n",
       "\n",
       "    .dataframe thead th {\n",
       "        text-align: right;\n",
       "    }\n",
       "</style>\n",
       "<table border=\"1\" class=\"dataframe\">\n",
       "  <thead>\n",
       "    <tr style=\"text-align: right;\">\n",
       "      <th></th>\n",
       "      <th>r_id</th>\n",
       "      <th>r_stars</th>\n",
       "      <th>r_stars_square</th>\n",
       "      <th>r_length</th>\n",
       "      <th>u_friends_count</th>\n",
       "      <th>u_review_count</th>\n",
       "      <th>u_month_age</th>\n",
       "      <th>b_stars</th>\n",
       "      <th>b_review_count</th>\n",
       "      <th>r_sen</th>\n",
       "      <th>r_sub</th>\n",
       "      <th>r_rea</th>\n",
       "      <th>r_useful</th>\n",
       "    </tr>\n",
       "    <tr>\n",
       "      <th>index</th>\n",
       "      <th></th>\n",
       "      <th></th>\n",
       "      <th></th>\n",
       "      <th></th>\n",
       "      <th></th>\n",
       "      <th></th>\n",
       "      <th></th>\n",
       "      <th></th>\n",
       "      <th></th>\n",
       "      <th></th>\n",
       "      <th></th>\n",
       "      <th></th>\n",
       "      <th></th>\n",
       "    </tr>\n",
       "  </thead>\n",
       "  <tbody>\n",
       "    <tr>\n",
       "      <th>1788410</th>\n",
       "      <td>4847617</td>\n",
       "      <td>1</td>\n",
       "      <td>1</td>\n",
       "      <td>244</td>\n",
       "      <td>1</td>\n",
       "      <td>31</td>\n",
       "      <td>21.685489</td>\n",
       "      <td>3.0</td>\n",
       "      <td>178</td>\n",
       "      <td>-0.088095</td>\n",
       "      <td>0.609524</td>\n",
       "      <td>71.21</td>\n",
       "      <td>0.118048</td>\n",
       "    </tr>\n",
       "    <tr>\n",
       "      <th>2057126</th>\n",
       "      <td>5577152</td>\n",
       "      <td>3</td>\n",
       "      <td>9</td>\n",
       "      <td>37</td>\n",
       "      <td>330</td>\n",
       "      <td>249</td>\n",
       "      <td>33.145428</td>\n",
       "      <td>4.5</td>\n",
       "      <td>20</td>\n",
       "      <td>-0.039881</td>\n",
       "      <td>0.553571</td>\n",
       "      <td>95.88</td>\n",
       "      <td>0.011136</td>\n",
       "    </tr>\n",
       "    <tr>\n",
       "      <th>389263</th>\n",
       "      <td>1113002</td>\n",
       "      <td>3</td>\n",
       "      <td>9</td>\n",
       "      <td>74</td>\n",
       "      <td>35</td>\n",
       "      <td>63</td>\n",
       "      <td>65.717893</td>\n",
       "      <td>3.5</td>\n",
       "      <td>131</td>\n",
       "      <td>0.248810</td>\n",
       "      <td>0.508929</td>\n",
       "      <td>94.86</td>\n",
       "      <td>0.030032</td>\n",
       "    </tr>\n",
       "    <tr>\n",
       "      <th>2338641</th>\n",
       "      <td>6353340</td>\n",
       "      <td>1</td>\n",
       "      <td>1</td>\n",
       "      <td>360</td>\n",
       "      <td>47</td>\n",
       "      <td>7</td>\n",
       "      <td>0.166990</td>\n",
       "      <td>2.5</td>\n",
       "      <td>101</td>\n",
       "      <td>-0.229135</td>\n",
       "      <td>0.442361</td>\n",
       "      <td>72.53</td>\n",
       "      <td>0.017990</td>\n",
       "    </tr>\n",
       "    <tr>\n",
       "      <th>2136962</th>\n",
       "      <td>5836201</td>\n",
       "      <td>4</td>\n",
       "      <td>16</td>\n",
       "      <td>147</td>\n",
       "      <td>1</td>\n",
       "      <td>3</td>\n",
       "      <td>7.256111</td>\n",
       "      <td>3.0</td>\n",
       "      <td>284</td>\n",
       "      <td>0.184577</td>\n",
       "      <td>0.490353</td>\n",
       "      <td>73.00</td>\n",
       "      <td>0.006991</td>\n",
       "    </tr>\n",
       "  </tbody>\n",
       "</table>\n",
       "</div>"
      ],
      "text/plain": [
       "            r_id  r_stars  r_stars_square  r_length  u_friends_count  \\\n",
       "index                                                                  \n",
       "1788410  4847617        1               1       244                1   \n",
       "2057126  5577152        3               9        37              330   \n",
       "389263   1113002        3               9        74               35   \n",
       "2338641  6353340        1               1       360               47   \n",
       "2136962  5836201        4              16       147                1   \n",
       "\n",
       "         u_review_count  u_month_age  b_stars  b_review_count     r_sen  \\\n",
       "index                                                                     \n",
       "1788410              31    21.685489      3.0             178 -0.088095   \n",
       "2057126             249    33.145428      4.5              20 -0.039881   \n",
       "389263               63    65.717893      3.5             131  0.248810   \n",
       "2338641               7     0.166990      2.5             101 -0.229135   \n",
       "2136962               3     7.256111      3.0             284  0.184577   \n",
       "\n",
       "            r_sub  r_rea  r_useful  \n",
       "index                               \n",
       "1788410  0.609524  71.21  0.118048  \n",
       "2057126  0.553571  95.88  0.011136  \n",
       "389263   0.508929  94.86  0.030032  \n",
       "2338641  0.442361  72.53  0.017990  \n",
       "2136962  0.490353  73.00  0.006991  "
      ]
     },
     "execution_count": 26,
     "metadata": {},
     "output_type": "execute_result"
    }
   ],
   "source": [
    "df_train.head()"
   ]
  },
  {
   "cell_type": "code",
   "execution_count": 27,
   "id": "284d6cda-69a1-424b-9255-6ea6230619d4",
   "metadata": {
    "execution": {
     "iopub.execute_input": "2022-08-21T11:06:17.346833Z",
     "iopub.status.busy": "2022-08-21T11:06:17.346297Z",
     "iopub.status.idle": "2022-08-21T11:06:18.217710Z",
     "shell.execute_reply": "2022-08-21T11:06:18.216861Z",
     "shell.execute_reply.started": "2022-08-21T11:06:17.346791Z"
    },
    "tags": []
   },
   "outputs": [
    {
     "data": {
      "text/html": [
       "<div>\n",
       "<style scoped>\n",
       "    .dataframe tbody tr th:only-of-type {\n",
       "        vertical-align: middle;\n",
       "    }\n",
       "\n",
       "    .dataframe tbody tr th {\n",
       "        vertical-align: top;\n",
       "    }\n",
       "\n",
       "    .dataframe thead th {\n",
       "        text-align: right;\n",
       "    }\n",
       "</style>\n",
       "<table border=\"1\" class=\"dataframe\">\n",
       "  <thead>\n",
       "    <tr style=\"text-align: right;\">\n",
       "      <th></th>\n",
       "      <th>count</th>\n",
       "      <th>mean</th>\n",
       "      <th>std</th>\n",
       "      <th>min</th>\n",
       "      <th>25%</th>\n",
       "      <th>50%</th>\n",
       "      <th>75%</th>\n",
       "      <th>max</th>\n",
       "    </tr>\n",
       "  </thead>\n",
       "  <tbody>\n",
       "    <tr>\n",
       "      <th>r_stars</th>\n",
       "      <td>2060626.0</td>\n",
       "      <td>-1.671941e-16</td>\n",
       "      <td>1.000000e+00</td>\n",
       "      <td>-1.693936</td>\n",
       "      <td>-1.044159e+00</td>\n",
       "      <td>2.553940e-01</td>\n",
       "      <td>9.051706e-01</td>\n",
       "      <td>9.051706e-01</td>\n",
       "    </tr>\n",
       "    <tr>\n",
       "      <th>r_stars_square</th>\n",
       "      <td>2060626.0</td>\n",
       "      <td>-1.018940e-17</td>\n",
       "      <td>1.000000e+00</td>\n",
       "      <td>-1.494513</td>\n",
       "      <td>-1.182692e+00</td>\n",
       "      <td>6.458972e-02</td>\n",
       "      <td>1.000051e+00</td>\n",
       "      <td>1.000051e+00</td>\n",
       "    </tr>\n",
       "    <tr>\n",
       "      <th>r_length</th>\n",
       "      <td>2060626.0</td>\n",
       "      <td>-2.388216e-17</td>\n",
       "      <td>1.000000e+00</td>\n",
       "      <td>-1.158545</td>\n",
       "      <td>-6.631864e-01</td>\n",
       "      <td>-2.808043e-01</td>\n",
       "      <td>3.275309e-01</td>\n",
       "      <td>8.122912e+00</td>\n",
       "    </tr>\n",
       "    <tr>\n",
       "      <th>u_friends_count</th>\n",
       "      <td>2060626.0</td>\n",
       "      <td>-1.731163e-17</td>\n",
       "      <td>1.000000e+00</td>\n",
       "      <td>-0.331709</td>\n",
       "      <td>-3.299440e-01</td>\n",
       "      <td>-2.628759e-01</td>\n",
       "      <td>-3.696244e-02</td>\n",
       "      <td>2.613194e+01</td>\n",
       "    </tr>\n",
       "    <tr>\n",
       "      <th>u_review_count</th>\n",
       "      <td>2060626.0</td>\n",
       "      <td>3.255780e-17</td>\n",
       "      <td>1.000000e+00</td>\n",
       "      <td>-0.385583</td>\n",
       "      <td>-3.634084e-01</td>\n",
       "      <td>-2.968854e-01</td>\n",
       "      <td>-3.079341e-02</td>\n",
       "      <td>3.483733e+01</td>\n",
       "    </tr>\n",
       "    <tr>\n",
       "      <th>u_month_age</th>\n",
       "      <td>2060626.0</td>\n",
       "      <td>3.771456e-16</td>\n",
       "      <td>1.000000e+00</td>\n",
       "      <td>-1.237169</td>\n",
       "      <td>-8.424000e-01</td>\n",
       "      <td>-1.823749e-01</td>\n",
       "      <td>6.486289e-01</td>\n",
       "      <td>4.604853e+00</td>\n",
       "    </tr>\n",
       "    <tr>\n",
       "      <th>b_stars</th>\n",
       "      <td>2060626.0</td>\n",
       "      <td>-8.181173e-17</td>\n",
       "      <td>1.000000e+00</td>\n",
       "      <td>-3.451613</td>\n",
       "      <td>-3.054136e-01</td>\n",
       "      <td>3.238264e-01</td>\n",
       "      <td>9.530663e-01</td>\n",
       "      <td>1.582306e+00</td>\n",
       "    </tr>\n",
       "    <tr>\n",
       "      <th>b_review_count</th>\n",
       "      <td>2060626.0</td>\n",
       "      <td>2.582693e-17</td>\n",
       "      <td>1.000000e+00</td>\n",
       "      <td>-0.498458</td>\n",
       "      <td>-4.459658e-01</td>\n",
       "      <td>-3.184850e-01</td>\n",
       "      <td>6.965998e-03</td>\n",
       "      <td>1.084433e+01</td>\n",
       "    </tr>\n",
       "    <tr>\n",
       "      <th>r_sen</th>\n",
       "      <td>2060626.0</td>\n",
       "      <td>5.128801e-16</td>\n",
       "      <td>1.000000e+00</td>\n",
       "      <td>-6.135095</td>\n",
       "      <td>-6.346910e-01</td>\n",
       "      <td>-7.891442e-03</td>\n",
       "      <td>6.128473e-01</td>\n",
       "      <td>4.243026e+00</td>\n",
       "    </tr>\n",
       "    <tr>\n",
       "      <th>r_sub</th>\n",
       "      <td>2060626.0</td>\n",
       "      <td>-4.767259e-16</td>\n",
       "      <td>1.000000e+00</td>\n",
       "      <td>-3.029519</td>\n",
       "      <td>-6.557234e-01</td>\n",
       "      <td>-2.057011e-02</td>\n",
       "      <td>6.333986e-01</td>\n",
       "      <td>3.785211e+00</td>\n",
       "    </tr>\n",
       "    <tr>\n",
       "      <th>r_rea</th>\n",
       "      <td>2060626.0</td>\n",
       "      <td>-1.252596e-15</td>\n",
       "      <td>1.000000e+00</td>\n",
       "      <td>-248.487658</td>\n",
       "      <td>-5.003790e-01</td>\n",
       "      <td>8.682336e-02</td>\n",
       "      <td>5.755564e-01</td>\n",
       "      <td>1.145596e+01</td>\n",
       "    </tr>\n",
       "    <tr>\n",
       "      <th>r_id</th>\n",
       "      <td>2060626.0</td>\n",
       "      <td>3.523017e+06</td>\n",
       "      <td>2.016681e+06</td>\n",
       "      <td>11.000000</td>\n",
       "      <td>1.806029e+06</td>\n",
       "      <td>3.483366e+06</td>\n",
       "      <td>5.288642e+06</td>\n",
       "      <td>6.990280e+06</td>\n",
       "    </tr>\n",
       "    <tr>\n",
       "      <th>r_useful</th>\n",
       "      <td>2060626.0</td>\n",
       "      <td>1.631864e-01</td>\n",
       "      <td>7.887542e+00</td>\n",
       "      <td>0.004935</td>\n",
       "      <td>1.769723e-02</td>\n",
       "      <td>3.272991e-02</td>\n",
       "      <td>7.055788e-02</td>\n",
       "      <td>4.557619e+03</td>\n",
       "    </tr>\n",
       "  </tbody>\n",
       "</table>\n",
       "</div>"
      ],
      "text/plain": [
       "                     count          mean           std         min  \\\n",
       "r_stars          2060626.0 -1.671941e-16  1.000000e+00   -1.693936   \n",
       "r_stars_square   2060626.0 -1.018940e-17  1.000000e+00   -1.494513   \n",
       "r_length         2060626.0 -2.388216e-17  1.000000e+00   -1.158545   \n",
       "u_friends_count  2060626.0 -1.731163e-17  1.000000e+00   -0.331709   \n",
       "u_review_count   2060626.0  3.255780e-17  1.000000e+00   -0.385583   \n",
       "u_month_age      2060626.0  3.771456e-16  1.000000e+00   -1.237169   \n",
       "b_stars          2060626.0 -8.181173e-17  1.000000e+00   -3.451613   \n",
       "b_review_count   2060626.0  2.582693e-17  1.000000e+00   -0.498458   \n",
       "r_sen            2060626.0  5.128801e-16  1.000000e+00   -6.135095   \n",
       "r_sub            2060626.0 -4.767259e-16  1.000000e+00   -3.029519   \n",
       "r_rea            2060626.0 -1.252596e-15  1.000000e+00 -248.487658   \n",
       "r_id             2060626.0  3.523017e+06  2.016681e+06   11.000000   \n",
       "r_useful         2060626.0  1.631864e-01  7.887542e+00    0.004935   \n",
       "\n",
       "                          25%           50%           75%           max  \n",
       "r_stars         -1.044159e+00  2.553940e-01  9.051706e-01  9.051706e-01  \n",
       "r_stars_square  -1.182692e+00  6.458972e-02  1.000051e+00  1.000051e+00  \n",
       "r_length        -6.631864e-01 -2.808043e-01  3.275309e-01  8.122912e+00  \n",
       "u_friends_count -3.299440e-01 -2.628759e-01 -3.696244e-02  2.613194e+01  \n",
       "u_review_count  -3.634084e-01 -2.968854e-01 -3.079341e-02  3.483733e+01  \n",
       "u_month_age     -8.424000e-01 -1.823749e-01  6.486289e-01  4.604853e+00  \n",
       "b_stars         -3.054136e-01  3.238264e-01  9.530663e-01  1.582306e+00  \n",
       "b_review_count  -4.459658e-01 -3.184850e-01  6.965998e-03  1.084433e+01  \n",
       "r_sen           -6.346910e-01 -7.891442e-03  6.128473e-01  4.243026e+00  \n",
       "r_sub           -6.557234e-01 -2.057011e-02  6.333986e-01  3.785211e+00  \n",
       "r_rea           -5.003790e-01  8.682336e-02  5.755564e-01  1.145596e+01  \n",
       "r_id             1.806029e+06  3.483366e+06  5.288642e+06  6.990280e+06  \n",
       "r_useful         1.769723e-02  3.272991e-02  7.055788e-02  4.557619e+03  "
      ]
     },
     "execution_count": 27,
     "metadata": {},
     "output_type": "execute_result"
    }
   ],
   "source": [
    "df_train_transformed.describe().T"
   ]
  },
  {
   "cell_type": "code",
   "execution_count": 28,
   "id": "b2dab2d9-500a-4f31-a27c-62514726d002",
   "metadata": {
    "execution": {
     "iopub.execute_input": "2022-08-21T11:06:20.264068Z",
     "iopub.status.busy": "2022-08-21T11:06:20.263515Z",
     "iopub.status.idle": "2022-08-21T11:06:20.527812Z",
     "shell.execute_reply": "2022-08-21T11:06:20.527010Z",
     "shell.execute_reply.started": "2022-08-21T11:06:20.264024Z"
    },
    "tags": []
   },
   "outputs": [
    {
     "data": {
      "text/html": [
       "<div>\n",
       "<style scoped>\n",
       "    .dataframe tbody tr th:only-of-type {\n",
       "        vertical-align: middle;\n",
       "    }\n",
       "\n",
       "    .dataframe tbody tr th {\n",
       "        vertical-align: top;\n",
       "    }\n",
       "\n",
       "    .dataframe thead th {\n",
       "        text-align: right;\n",
       "    }\n",
       "</style>\n",
       "<table border=\"1\" class=\"dataframe\">\n",
       "  <thead>\n",
       "    <tr style=\"text-align: right;\">\n",
       "      <th></th>\n",
       "      <th>count</th>\n",
       "      <th>mean</th>\n",
       "      <th>std</th>\n",
       "      <th>min</th>\n",
       "      <th>25%</th>\n",
       "      <th>50%</th>\n",
       "      <th>75%</th>\n",
       "      <th>max</th>\n",
       "    </tr>\n",
       "  </thead>\n",
       "  <tbody>\n",
       "    <tr>\n",
       "      <th>r_stars</th>\n",
       "      <td>463641.0</td>\n",
       "      <td>1.302849e-03</td>\n",
       "      <td>9.986379e-01</td>\n",
       "      <td>-1.693936</td>\n",
       "      <td>-1.044159e+00</td>\n",
       "      <td>2.553940e-01</td>\n",
       "      <td>9.051706e-01</td>\n",
       "      <td>9.051706e-01</td>\n",
       "    </tr>\n",
       "    <tr>\n",
       "      <th>r_stars_square</th>\n",
       "      <td>463641.0</td>\n",
       "      <td>8.331443e-04</td>\n",
       "      <td>9.990671e-01</td>\n",
       "      <td>-1.494513</td>\n",
       "      <td>-1.182692e+00</td>\n",
       "      <td>6.458972e-02</td>\n",
       "      <td>1.000051e+00</td>\n",
       "      <td>1.000051e+00</td>\n",
       "    </tr>\n",
       "    <tr>\n",
       "      <th>r_length</th>\n",
       "      <td>463641.0</td>\n",
       "      <td>-1.579826e-03</td>\n",
       "      <td>9.954107e-01</td>\n",
       "      <td>-1.149855</td>\n",
       "      <td>-6.631864e-01</td>\n",
       "      <td>-2.894948e-01</td>\n",
       "      <td>3.275309e-01</td>\n",
       "      <td>7.905650e+00</td>\n",
       "    </tr>\n",
       "    <tr>\n",
       "      <th>u_friends_count</th>\n",
       "      <td>463641.0</td>\n",
       "      <td>-1.708824e-04</td>\n",
       "      <td>1.004683e+00</td>\n",
       "      <td>-0.331709</td>\n",
       "      <td>-3.299440e-01</td>\n",
       "      <td>-2.628759e-01</td>\n",
       "      <td>-3.872739e-02</td>\n",
       "      <td>2.613194e+01</td>\n",
       "    </tr>\n",
       "    <tr>\n",
       "      <th>u_review_count</th>\n",
       "      <td>463641.0</td>\n",
       "      <td>-8.216426e-04</td>\n",
       "      <td>1.015638e+00</td>\n",
       "      <td>-0.385583</td>\n",
       "      <td>-3.634084e-01</td>\n",
       "      <td>-2.968854e-01</td>\n",
       "      <td>-3.079341e-02</td>\n",
       "      <td>3.483733e+01</td>\n",
       "    </tr>\n",
       "    <tr>\n",
       "      <th>u_month_age</th>\n",
       "      <td>463641.0</td>\n",
       "      <td>1.640416e-04</td>\n",
       "      <td>9.998493e-01</td>\n",
       "      <td>-1.237169</td>\n",
       "      <td>-8.424691e-01</td>\n",
       "      <td>-1.815714e-01</td>\n",
       "      <td>6.476120e-01</td>\n",
       "      <td>4.562570e+00</td>\n",
       "    </tr>\n",
       "    <tr>\n",
       "      <th>b_stars</th>\n",
       "      <td>463641.0</td>\n",
       "      <td>1.073559e-03</td>\n",
       "      <td>1.000117e+00</td>\n",
       "      <td>-3.451613</td>\n",
       "      <td>-3.054136e-01</td>\n",
       "      <td>3.238264e-01</td>\n",
       "      <td>9.530663e-01</td>\n",
       "      <td>1.582306e+00</td>\n",
       "    </tr>\n",
       "    <tr>\n",
       "      <th>b_review_count</th>\n",
       "      <td>463641.0</td>\n",
       "      <td>-5.150275e-03</td>\n",
       "      <td>9.883892e-01</td>\n",
       "      <td>-0.498458</td>\n",
       "      <td>-4.459658e-01</td>\n",
       "      <td>-3.184850e-01</td>\n",
       "      <td>3.966450e-03</td>\n",
       "      <td>1.084433e+01</td>\n",
       "    </tr>\n",
       "    <tr>\n",
       "      <th>r_sen</th>\n",
       "      <td>463641.0</td>\n",
       "      <td>9.195308e-04</td>\n",
       "      <td>9.989454e-01</td>\n",
       "      <td>-6.135095</td>\n",
       "      <td>-6.325272e-01</td>\n",
       "      <td>-8.111978e-03</td>\n",
       "      <td>6.119185e-01</td>\n",
       "      <td>4.243026e+00</td>\n",
       "    </tr>\n",
       "    <tr>\n",
       "      <th>r_sub</th>\n",
       "      <td>463641.0</td>\n",
       "      <td>4.806703e-04</td>\n",
       "      <td>1.000058e+00</td>\n",
       "      <td>-3.029519</td>\n",
       "      <td>-6.554576e-01</td>\n",
       "      <td>-1.967738e-02</td>\n",
       "      <td>6.333986e-01</td>\n",
       "      <td>3.785211e+00</td>\n",
       "    </tr>\n",
       "    <tr>\n",
       "      <th>r_rea</th>\n",
       "      <td>463641.0</td>\n",
       "      <td>1.377609e-03</td>\n",
       "      <td>1.040114e+00</td>\n",
       "      <td>-217.917003</td>\n",
       "      <td>-5.003790e-01</td>\n",
       "      <td>8.953352e-02</td>\n",
       "      <td>5.755564e-01</td>\n",
       "      <td>3.721154e+00</td>\n",
       "    </tr>\n",
       "    <tr>\n",
       "      <th>r_id</th>\n",
       "      <td>463641.0</td>\n",
       "      <td>3.523779e+06</td>\n",
       "      <td>2.018142e+06</td>\n",
       "      <td>4.000000</td>\n",
       "      <td>1.800026e+06</td>\n",
       "      <td>3.485148e+06</td>\n",
       "      <td>5.293354e+06</td>\n",
       "      <td>6.990279e+06</td>\n",
       "    </tr>\n",
       "    <tr>\n",
       "      <th>r_useful</th>\n",
       "      <td>463641.0</td>\n",
       "      <td>1.542239e-01</td>\n",
       "      <td>8.896194e+00</td>\n",
       "      <td>0.004941</td>\n",
       "      <td>1.766821e-02</td>\n",
       "      <td>3.269264e-02</td>\n",
       "      <td>7.045305e-02</td>\n",
       "      <td>5.326967e+03</td>\n",
       "    </tr>\n",
       "  </tbody>\n",
       "</table>\n",
       "</div>"
      ],
      "text/plain": [
       "                    count          mean           std         min  \\\n",
       "r_stars          463641.0  1.302849e-03  9.986379e-01   -1.693936   \n",
       "r_stars_square   463641.0  8.331443e-04  9.990671e-01   -1.494513   \n",
       "r_length         463641.0 -1.579826e-03  9.954107e-01   -1.149855   \n",
       "u_friends_count  463641.0 -1.708824e-04  1.004683e+00   -0.331709   \n",
       "u_review_count   463641.0 -8.216426e-04  1.015638e+00   -0.385583   \n",
       "u_month_age      463641.0  1.640416e-04  9.998493e-01   -1.237169   \n",
       "b_stars          463641.0  1.073559e-03  1.000117e+00   -3.451613   \n",
       "b_review_count   463641.0 -5.150275e-03  9.883892e-01   -0.498458   \n",
       "r_sen            463641.0  9.195308e-04  9.989454e-01   -6.135095   \n",
       "r_sub            463641.0  4.806703e-04  1.000058e+00   -3.029519   \n",
       "r_rea            463641.0  1.377609e-03  1.040114e+00 -217.917003   \n",
       "r_id             463641.0  3.523779e+06  2.018142e+06    4.000000   \n",
       "r_useful         463641.0  1.542239e-01  8.896194e+00    0.004941   \n",
       "\n",
       "                          25%           50%           75%           max  \n",
       "r_stars         -1.044159e+00  2.553940e-01  9.051706e-01  9.051706e-01  \n",
       "r_stars_square  -1.182692e+00  6.458972e-02  1.000051e+00  1.000051e+00  \n",
       "r_length        -6.631864e-01 -2.894948e-01  3.275309e-01  7.905650e+00  \n",
       "u_friends_count -3.299440e-01 -2.628759e-01 -3.872739e-02  2.613194e+01  \n",
       "u_review_count  -3.634084e-01 -2.968854e-01 -3.079341e-02  3.483733e+01  \n",
       "u_month_age     -8.424691e-01 -1.815714e-01  6.476120e-01  4.562570e+00  \n",
       "b_stars         -3.054136e-01  3.238264e-01  9.530663e-01  1.582306e+00  \n",
       "b_review_count  -4.459658e-01 -3.184850e-01  3.966450e-03  1.084433e+01  \n",
       "r_sen           -6.325272e-01 -8.111978e-03  6.119185e-01  4.243026e+00  \n",
       "r_sub           -6.554576e-01 -1.967738e-02  6.333986e-01  3.785211e+00  \n",
       "r_rea           -5.003790e-01  8.953352e-02  5.755564e-01  3.721154e+00  \n",
       "r_id             1.800026e+06  3.485148e+06  5.293354e+06  6.990279e+06  \n",
       "r_useful         1.766821e-02  3.269264e-02  7.045305e-02  5.326967e+03  "
      ]
     },
     "execution_count": 28,
     "metadata": {},
     "output_type": "execute_result"
    }
   ],
   "source": [
    "df_val_transformed.describe().T"
   ]
  },
  {
   "cell_type": "code",
   "execution_count": 29,
   "id": "346cfbba-fcc4-46b6-9614-79330223a94b",
   "metadata": {
    "execution": {
     "iopub.execute_input": "2022-08-21T11:06:20.541519Z",
     "iopub.status.busy": "2022-08-21T11:06:20.541241Z",
     "iopub.status.idle": "2022-08-21T11:06:20.611046Z",
     "shell.execute_reply": "2022-08-21T11:06:20.609756Z",
     "shell.execute_reply.started": "2022-08-21T11:06:20.541498Z"
    },
    "tags": []
   },
   "outputs": [
    {
     "data": {
      "text/html": [
       "<div>\n",
       "<style scoped>\n",
       "    .dataframe tbody tr th:only-of-type {\n",
       "        vertical-align: middle;\n",
       "    }\n",
       "\n",
       "    .dataframe tbody tr th {\n",
       "        vertical-align: top;\n",
       "    }\n",
       "\n",
       "    .dataframe thead th {\n",
       "        text-align: right;\n",
       "    }\n",
       "</style>\n",
       "<table border=\"1\" class=\"dataframe\">\n",
       "  <thead>\n",
       "    <tr style=\"text-align: right;\">\n",
       "      <th></th>\n",
       "      <th>count</th>\n",
       "      <th>mean</th>\n",
       "      <th>std</th>\n",
       "      <th>min</th>\n",
       "      <th>25%</th>\n",
       "      <th>50%</th>\n",
       "      <th>75%</th>\n",
       "      <th>max</th>\n",
       "    </tr>\n",
       "  </thead>\n",
       "  <tbody>\n",
       "    <tr>\n",
       "      <th>r_stars</th>\n",
       "      <td>51516.0</td>\n",
       "      <td>7.546578e-03</td>\n",
       "      <td>9.975215e-01</td>\n",
       "      <td>-1.693936</td>\n",
       "      <td>-1.044159e+00</td>\n",
       "      <td>2.553940e-01</td>\n",
       "      <td>9.051706e-01</td>\n",
       "      <td>9.051706e-01</td>\n",
       "    </tr>\n",
       "    <tr>\n",
       "      <th>r_stars_square</th>\n",
       "      <td>51516.0</td>\n",
       "      <td>7.498905e-03</td>\n",
       "      <td>9.985435e-01</td>\n",
       "      <td>-1.494513</td>\n",
       "      <td>-1.182692e+00</td>\n",
       "      <td>6.458972e-02</td>\n",
       "      <td>1.000051e+00</td>\n",
       "      <td>1.000051e+00</td>\n",
       "    </tr>\n",
       "    <tr>\n",
       "      <th>r_length</th>\n",
       "      <td>51516.0</td>\n",
       "      <td>1.373907e-03</td>\n",
       "      <td>1.004459e+00</td>\n",
       "      <td>-1.115093</td>\n",
       "      <td>-6.631864e-01</td>\n",
       "      <td>-2.894948e-01</td>\n",
       "      <td>3.275309e-01</td>\n",
       "      <td>7.957793e+00</td>\n",
       "    </tr>\n",
       "    <tr>\n",
       "      <th>u_friends_count</th>\n",
       "      <td>51516.0</td>\n",
       "      <td>7.383436e-03</td>\n",
       "      <td>1.014115e+00</td>\n",
       "      <td>-0.331709</td>\n",
       "      <td>-3.299440e-01</td>\n",
       "      <td>-2.611110e-01</td>\n",
       "      <td>-3.166759e-02</td>\n",
       "      <td>1.912686e+01</td>\n",
       "    </tr>\n",
       "    <tr>\n",
       "      <th>u_review_count</th>\n",
       "      <td>51516.0</td>\n",
       "      <td>7.832444e-03</td>\n",
       "      <td>1.002105e+00</td>\n",
       "      <td>-0.383567</td>\n",
       "      <td>-3.634084e-01</td>\n",
       "      <td>-2.968854e-01</td>\n",
       "      <td>-2.273002e-02</td>\n",
       "      <td>3.483733e+01</td>\n",
       "    </tr>\n",
       "    <tr>\n",
       "      <th>u_month_age</th>\n",
       "      <td>51516.0</td>\n",
       "      <td>8.651014e-03</td>\n",
       "      <td>1.005518e+00</td>\n",
       "      <td>-1.237169</td>\n",
       "      <td>-8.385664e-01</td>\n",
       "      <td>-1.723041e-01</td>\n",
       "      <td>6.600945e-01</td>\n",
       "      <td>4.518000e+00</td>\n",
       "    </tr>\n",
       "    <tr>\n",
       "      <th>b_stars</th>\n",
       "      <td>51516.0</td>\n",
       "      <td>4.735913e-03</td>\n",
       "      <td>9.987820e-01</td>\n",
       "      <td>-3.451613</td>\n",
       "      <td>-3.054136e-01</td>\n",
       "      <td>3.238264e-01</td>\n",
       "      <td>9.530663e-01</td>\n",
       "      <td>1.582306e+00</td>\n",
       "    </tr>\n",
       "    <tr>\n",
       "      <th>b_review_count</th>\n",
       "      <td>51516.0</td>\n",
       "      <td>7.297825e-03</td>\n",
       "      <td>1.021523e+00</td>\n",
       "      <td>-0.498458</td>\n",
       "      <td>-4.459658e-01</td>\n",
       "      <td>-3.154855e-01</td>\n",
       "      <td>1.296509e-02</td>\n",
       "      <td>1.084433e+01</td>\n",
       "    </tr>\n",
       "    <tr>\n",
       "      <th>r_sen</th>\n",
       "      <td>51516.0</td>\n",
       "      <td>1.309820e-03</td>\n",
       "      <td>9.976333e-01</td>\n",
       "      <td>-6.135095</td>\n",
       "      <td>-6.299430e-01</td>\n",
       "      <td>-4.700170e-03</td>\n",
       "      <td>6.199511e-01</td>\n",
       "      <td>4.243026e+00</td>\n",
       "    </tr>\n",
       "    <tr>\n",
       "      <th>r_sub</th>\n",
       "      <td>51516.0</td>\n",
       "      <td>7.357318e-03</td>\n",
       "      <td>1.007187e+00</td>\n",
       "      <td>-3.029519</td>\n",
       "      <td>-6.510723e-01</td>\n",
       "      <td>-1.460722e-02</td>\n",
       "      <td>6.390753e-01</td>\n",
       "      <td>3.785211e+00</td>\n",
       "    </tr>\n",
       "    <tr>\n",
       "      <th>r_rea</th>\n",
       "      <td>51516.0</td>\n",
       "      <td>3.453497e-03</td>\n",
       "      <td>9.946098e-01</td>\n",
       "      <td>-44.786274</td>\n",
       "      <td>-5.003790e-01</td>\n",
       "      <td>8.953352e-02</td>\n",
       "      <td>5.755564e-01</td>\n",
       "      <td>3.446524e+00</td>\n",
       "    </tr>\n",
       "    <tr>\n",
       "      <th>r_id</th>\n",
       "      <td>51516.0</td>\n",
       "      <td>3.541553e+06</td>\n",
       "      <td>2.014022e+06</td>\n",
       "      <td>123.000000</td>\n",
       "      <td>1.821551e+06</td>\n",
       "      <td>3.520760e+06</td>\n",
       "      <td>5.303241e+06</td>\n",
       "      <td>6.990240e+06</td>\n",
       "    </tr>\n",
       "    <tr>\n",
       "      <th>r_useful</th>\n",
       "      <td>51516.0</td>\n",
       "      <td>1.652396e-01</td>\n",
       "      <td>4.691268e+00</td>\n",
       "      <td>0.004941</td>\n",
       "      <td>1.763451e-02</td>\n",
       "      <td>3.271229e-02</td>\n",
       "      <td>7.036986e-02</td>\n",
       "      <td>7.120894e+02</td>\n",
       "    </tr>\n",
       "  </tbody>\n",
       "</table>\n",
       "</div>"
      ],
      "text/plain": [
       "                   count          mean           std         min  \\\n",
       "r_stars          51516.0  7.546578e-03  9.975215e-01   -1.693936   \n",
       "r_stars_square   51516.0  7.498905e-03  9.985435e-01   -1.494513   \n",
       "r_length         51516.0  1.373907e-03  1.004459e+00   -1.115093   \n",
       "u_friends_count  51516.0  7.383436e-03  1.014115e+00   -0.331709   \n",
       "u_review_count   51516.0  7.832444e-03  1.002105e+00   -0.383567   \n",
       "u_month_age      51516.0  8.651014e-03  1.005518e+00   -1.237169   \n",
       "b_stars          51516.0  4.735913e-03  9.987820e-01   -3.451613   \n",
       "b_review_count   51516.0  7.297825e-03  1.021523e+00   -0.498458   \n",
       "r_sen            51516.0  1.309820e-03  9.976333e-01   -6.135095   \n",
       "r_sub            51516.0  7.357318e-03  1.007187e+00   -3.029519   \n",
       "r_rea            51516.0  3.453497e-03  9.946098e-01  -44.786274   \n",
       "r_id             51516.0  3.541553e+06  2.014022e+06  123.000000   \n",
       "r_useful         51516.0  1.652396e-01  4.691268e+00    0.004941   \n",
       "\n",
       "                          25%           50%           75%           max  \n",
       "r_stars         -1.044159e+00  2.553940e-01  9.051706e-01  9.051706e-01  \n",
       "r_stars_square  -1.182692e+00  6.458972e-02  1.000051e+00  1.000051e+00  \n",
       "r_length        -6.631864e-01 -2.894948e-01  3.275309e-01  7.957793e+00  \n",
       "u_friends_count -3.299440e-01 -2.611110e-01 -3.166759e-02  1.912686e+01  \n",
       "u_review_count  -3.634084e-01 -2.968854e-01 -2.273002e-02  3.483733e+01  \n",
       "u_month_age     -8.385664e-01 -1.723041e-01  6.600945e-01  4.518000e+00  \n",
       "b_stars         -3.054136e-01  3.238264e-01  9.530663e-01  1.582306e+00  \n",
       "b_review_count  -4.459658e-01 -3.154855e-01  1.296509e-02  1.084433e+01  \n",
       "r_sen           -6.299430e-01 -4.700170e-03  6.199511e-01  4.243026e+00  \n",
       "r_sub           -6.510723e-01 -1.460722e-02  6.390753e-01  3.785211e+00  \n",
       "r_rea           -5.003790e-01  8.953352e-02  5.755564e-01  3.446524e+00  \n",
       "r_id             1.821551e+06  3.520760e+06  5.303241e+06  6.990240e+06  \n",
       "r_useful         1.763451e-02  3.271229e-02  7.036986e-02  7.120894e+02  "
      ]
     },
     "execution_count": 29,
     "metadata": {},
     "output_type": "execute_result"
    }
   ],
   "source": [
    "df_test_transformed.describe().T"
   ]
  },
  {
   "cell_type": "markdown",
   "id": "9b0d774f-ced9-43c8-9318-4f327a2722e0",
   "metadata": {},
   "source": [
    "## Save Data"
   ]
  },
  {
   "cell_type": "code",
   "execution_count": 30,
   "id": "dbc33a6b-cab9-4c4d-a151-a70b1b07f5fd",
   "metadata": {
    "execution": {
     "iopub.execute_input": "2022-08-21T11:06:20.831547Z",
     "iopub.status.busy": "2022-08-21T11:06:20.830912Z",
     "iopub.status.idle": "2022-08-21T11:06:25.681049Z",
     "shell.execute_reply": "2022-08-21T11:06:25.679685Z",
     "shell.execute_reply.started": "2022-08-21T11:06:20.831514Z"
    },
    "tags": []
   },
   "outputs": [],
   "source": [
    "if not os.path.exists(f\"{root}/data/\"):\n",
    "    os.mkdir(f\"{root}/data/\")\n",
    "    \n",
    "    \n",
    "# Transformed Data\n",
    "df_train_transformed.to_parquet(f\"{root}/data/train_transformed.parquet\", index=False, compression=\"snappy\")\n",
    "df_val_transformed.to_parquet(f\"{root}/data/val_transformed.parquet\", index=False, compression=\"snappy\")\n",
    "df_test_transformed.to_parquet(f\"{root}/data/test_transformed.parquet\", index=False, compression=\"snappy\")\n",
    "\n",
    "\n",
    "# Original Data\n",
    "df_train.to_parquet(f\"{root}/data/train.parquet\", index=False, compression=\"snappy\")\n",
    "df_val.to_parquet(f\"{root}/data/val.parquet\", index=False, compression=\"snappy\")\n",
    "df_test.to_parquet(f\"{root}/data/test.parquet\", index=False, compression=\"snappy\")"
   ]
  },
  {
   "cell_type": "code",
   "execution_count": null,
   "id": "053560ab-d15c-4e91-aa67-44c3307595ae",
   "metadata": {},
   "outputs": [],
   "source": []
  }
 ],
 "metadata": {
  "kernelspec": {
   "display_name": "Python 3 (ipykernel)",
   "language": "python",
   "name": "python3"
  },
  "language_info": {
   "codemirror_mode": {
    "name": "ipython",
    "version": 3
   },
   "file_extension": ".py",
   "mimetype": "text/x-python",
   "name": "python",
   "nbconvert_exporter": "python",
   "pygments_lexer": "ipython3",
   "version": "3.8.13"
  }
 },
 "nbformat": 4,
 "nbformat_minor": 5
}
