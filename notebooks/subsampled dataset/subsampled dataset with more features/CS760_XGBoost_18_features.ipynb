{
  "cells": [
    {
      "cell_type": "code",
      "execution_count": 1,
      "metadata": {
        "id": "8Rxxyk2ChCkF",
        "colab": {
          "base_uri": "https://localhost:8080/"
        },
        "outputId": "de1b8ccf-4d5e-46ac-a560-a868f5a7ac01"
      },
      "outputs": [
        {
          "output_type": "stream",
          "name": "stdout",
          "text": [
            "\u001b[K     |████████████████████████████████| 348 kB 30.4 MB/s \n",
            "\u001b[K     |████████████████████████████████| 81 kB 8.2 MB/s \n",
            "\u001b[K     |████████████████████████████████| 209 kB 76.0 MB/s \n",
            "\u001b[K     |████████████████████████████████| 78 kB 6.3 MB/s \n",
            "\u001b[K     |████████████████████████████████| 147 kB 67.2 MB/s \n",
            "\u001b[K     |████████████████████████████████| 49 kB 6.3 MB/s \n",
            "\u001b[K     |████████████████████████████████| 112 kB 71.8 MB/s \n",
            "\u001b[?25h  Building wheel for pyperclip (setup.py) ... \u001b[?25l\u001b[?25hdone\n"
          ]
        }
      ],
      "source": [
        "!pip install --quiet optuna"
      ]
    },
    {
      "cell_type": "code",
      "execution_count": 2,
      "metadata": {
        "id": "HEMXBJChhLrP"
      },
      "outputs": [],
      "source": [
        "import numpy as np\n",
        "import pandas as pd\n",
        "import optuna as opt\n",
        "import xgboost as xgb\n",
        "from optuna.samplers import TPESampler\n",
        "from sklearn.pipeline import make_pipeline\n",
        "from sklearn.preprocessing import StandardScaler\n",
        "from sklearn.impute import SimpleImputer\n",
        "from sklearn.model_selection import KFold, cross_val_score\n",
        "from pathlib import Path\n",
        "import gc\n",
        "\n",
        "from sklearn.metrics import mean_absolute_error, mean_squared_error"
      ]
    },
    {
      "cell_type": "code",
      "execution_count": 3,
      "metadata": {
        "id": "Gk1DTpCxhSDs",
        "colab": {
          "base_uri": "https://localhost:8080/"
        },
        "outputId": "4dd398ae-c261-46cb-a555-7b8a0448f594"
      },
      "outputs": [
        {
          "output_type": "stream",
          "name": "stdout",
          "text": [
            "Mounted at /content/drive\n"
          ]
        }
      ],
      "source": [
        "from google.colab import drive\n",
        "drive.mount('/content/drive')"
      ]
    },
    {
      "cell_type": "code",
      "source": [
        "RANDOM_SEED = 2\n",
        "DATA_DIR = Path(\"/content/drive/MyDrive/CS760\")"
      ],
      "metadata": {
        "id": "_f0yPV0biLTV"
      },
      "execution_count": 4,
      "outputs": []
    },
    {
      "cell_type": "code",
      "source": [
        "df_train = pd.read_parquet(DATA_DIR/\"18_train_main.parquet.snappy\")\n",
        "df_test = pd.read_parquet(DATA_DIR/\"18_test_main.parquet.snappy\")\n",
        "\n",
        "print(f\"Shape of the training data : {df_train.shape}\")\n",
        "print(f\"Shape of the test data : {df_test.shape}\")"
      ],
      "metadata": {
        "id": "yxtSLd7GieIK",
        "colab": {
          "base_uri": "https://localhost:8080/"
        },
        "outputId": "2b894b87-a766-41b8-ecc8-2fc56575a450"
      },
      "execution_count": 5,
      "outputs": [
        {
          "output_type": "stream",
          "name": "stdout",
          "text": [
            "Shape of the training data : (400000, 20)\n",
            "Shape of the test data : (100000, 20)\n"
          ]
        }
      ]
    },
    {
      "cell_type": "code",
      "source": [
        "df_train.describe().T"
      ],
      "metadata": {
        "id": "-QWAvNuoixc1",
        "colab": {
          "base_uri": "https://localhost:8080/",
          "height": 676
        },
        "outputId": "68ef4ec3-1b25-4498-c5e2-f73e599622c7"
      },
      "execution_count": 6,
      "outputs": [
        {
          "output_type": "execute_result",
          "data": {
            "text/plain": [
              "                    count          mean           std           min  \\\n",
              "r_id             400000.0  3.520570e+06  2.014568e+06  1.900000e+01   \n",
              "r_stars          400000.0  3.612058e+00  1.538455e+00  1.000000e+00   \n",
              "r_stars_square   400000.0  1.541380e+01  9.620302e+00  1.000000e+00   \n",
              "r_length         400000.0  1.331285e+02  1.146588e+02  2.000000e+00   \n",
              "u_friends_count  400000.0  1.888460e+02  5.627721e+02  1.000000e+00   \n",
              "u_review_count   400000.0  1.904740e+02  4.836991e+02  1.000000e+00   \n",
              "u_month_age      400000.0  4.279213e+01  3.461348e+01  3.802649e-07   \n",
              "u_comp_avg       400000.0  5.472043e-01  3.116161e+00  0.000000e+00   \n",
              "u_n_elite_yrs    400000.0  1.885272e+00  3.077123e+00  0.000000e+00   \n",
              "u_fans           400000.0  2.476457e+01  1.290454e+02  0.000000e+00   \n",
              "u_avg_stars      400000.0  3.721698e+00  8.205252e-01  1.000000e+00   \n",
              "u_give_useful    400000.0  8.161250e+02  4.575131e+03  0.000000e+00   \n",
              "b_stars          400000.0  3.744461e+00  7.938323e-01  1.000000e+00   \n",
              "b_review_count   400000.0  3.373048e+02  6.684351e+02  5.000000e+00   \n",
              "b_days_open_wk   377446.0  6.487543e+00  8.538856e-01  1.000000e+00   \n",
              "b_hours_open_wk  377446.0  7.277273e+01  3.198566e+01  2.500000e-01   \n",
              "r_sen            400000.0  1.824178e-01  1.926486e-01 -1.000000e+00   \n",
              "r_sub            400000.0  4.450111e-01  1.468400e-01  0.000000e+00   \n",
              "r_rea            400000.0  8.001051e+01  1.178847e+01 -2.670590e+03   \n",
              "r_useful         400000.0  2.653862e+00  4.622281e+00  1.000000e+00   \n",
              "\n",
              "                          25%           50%           75%           max  \n",
              "r_id             1.807999e+06  3.481960e+06  5.279578e+06  6.990279e+06  \n",
              "r_stars          2.000000e+00  4.000000e+00  5.000000e+00  5.000000e+00  \n",
              "r_stars_square   4.000000e+00  1.600000e+01  2.500000e+01  2.500000e+01  \n",
              "r_length         5.700000e+01  1.010000e+02  1.710000e+02  1.049000e+03  \n",
              "u_friends_count  2.000000e+00  4.000000e+01  1.680000e+02  1.499500e+04  \n",
              "u_review_count   1.100000e+01  4.400000e+01  1.760000e+02  1.747300e+04  \n",
              "u_month_age      1.360590e+01  3.649717e+01  6.519433e+01  2.017248e+02  \n",
              "u_comp_avg       0.000000e+00  1.357143e-01  4.050633e-01  5.991333e+02  \n",
              "u_n_elite_yrs    0.000000e+00  0.000000e+00  3.000000e+00  1.600000e+01  \n",
              "u_fans           0.000000e+00  1.000000e+00  1.100000e+01  1.249700e+04  \n",
              "u_avg_stars      3.420000e+00  3.870000e+00  4.220000e+00  5.000000e+00  \n",
              "u_give_useful    1.000000e+01  4.900000e+01  2.890000e+02  2.062960e+05  \n",
              "b_stars          3.500000e+00  4.000000e+00  4.500000e+00  5.000000e+00  \n",
              "b_review_count   4.000000e+01  1.250000e+02  3.400000e+02  7.568000e+03  \n",
              "b_days_open_wk   6.000000e+00  7.000000e+00  7.000000e+00  7.000000e+00  \n",
              "b_hours_open_wk  5.250000e+01  7.000000e+01  8.450000e+01  1.680000e+02  \n",
              "r_sen            6.030775e-02  1.805970e-01  3.008265e-01  1.000000e+00  \n",
              "r_sub            3.487650e-01  4.417130e-01  5.378217e-01  1.000000e+00  \n",
              "r_rea            7.439000e+01  8.099000e+01  8.640000e+01  1.202100e+02  \n",
              "r_useful         1.000000e+00  2.000000e+00  3.000000e+00  9.330000e+02  "
            ],
            "text/html": [
              "\n",
              "  <div id=\"df-9e174c1c-48dc-4d9e-b093-5c6a6bfac509\">\n",
              "    <div class=\"colab-df-container\">\n",
              "      <div>\n",
              "<style scoped>\n",
              "    .dataframe tbody tr th:only-of-type {\n",
              "        vertical-align: middle;\n",
              "    }\n",
              "\n",
              "    .dataframe tbody tr th {\n",
              "        vertical-align: top;\n",
              "    }\n",
              "\n",
              "    .dataframe thead th {\n",
              "        text-align: right;\n",
              "    }\n",
              "</style>\n",
              "<table border=\"1\" class=\"dataframe\">\n",
              "  <thead>\n",
              "    <tr style=\"text-align: right;\">\n",
              "      <th></th>\n",
              "      <th>count</th>\n",
              "      <th>mean</th>\n",
              "      <th>std</th>\n",
              "      <th>min</th>\n",
              "      <th>25%</th>\n",
              "      <th>50%</th>\n",
              "      <th>75%</th>\n",
              "      <th>max</th>\n",
              "    </tr>\n",
              "  </thead>\n",
              "  <tbody>\n",
              "    <tr>\n",
              "      <th>r_id</th>\n",
              "      <td>400000.0</td>\n",
              "      <td>3.520570e+06</td>\n",
              "      <td>2.014568e+06</td>\n",
              "      <td>1.900000e+01</td>\n",
              "      <td>1.807999e+06</td>\n",
              "      <td>3.481960e+06</td>\n",
              "      <td>5.279578e+06</td>\n",
              "      <td>6.990279e+06</td>\n",
              "    </tr>\n",
              "    <tr>\n",
              "      <th>r_stars</th>\n",
              "      <td>400000.0</td>\n",
              "      <td>3.612058e+00</td>\n",
              "      <td>1.538455e+00</td>\n",
              "      <td>1.000000e+00</td>\n",
              "      <td>2.000000e+00</td>\n",
              "      <td>4.000000e+00</td>\n",
              "      <td>5.000000e+00</td>\n",
              "      <td>5.000000e+00</td>\n",
              "    </tr>\n",
              "    <tr>\n",
              "      <th>r_stars_square</th>\n",
              "      <td>400000.0</td>\n",
              "      <td>1.541380e+01</td>\n",
              "      <td>9.620302e+00</td>\n",
              "      <td>1.000000e+00</td>\n",
              "      <td>4.000000e+00</td>\n",
              "      <td>1.600000e+01</td>\n",
              "      <td>2.500000e+01</td>\n",
              "      <td>2.500000e+01</td>\n",
              "    </tr>\n",
              "    <tr>\n",
              "      <th>r_length</th>\n",
              "      <td>400000.0</td>\n",
              "      <td>1.331285e+02</td>\n",
              "      <td>1.146588e+02</td>\n",
              "      <td>2.000000e+00</td>\n",
              "      <td>5.700000e+01</td>\n",
              "      <td>1.010000e+02</td>\n",
              "      <td>1.710000e+02</td>\n",
              "      <td>1.049000e+03</td>\n",
              "    </tr>\n",
              "    <tr>\n",
              "      <th>u_friends_count</th>\n",
              "      <td>400000.0</td>\n",
              "      <td>1.888460e+02</td>\n",
              "      <td>5.627721e+02</td>\n",
              "      <td>1.000000e+00</td>\n",
              "      <td>2.000000e+00</td>\n",
              "      <td>4.000000e+01</td>\n",
              "      <td>1.680000e+02</td>\n",
              "      <td>1.499500e+04</td>\n",
              "    </tr>\n",
              "    <tr>\n",
              "      <th>u_review_count</th>\n",
              "      <td>400000.0</td>\n",
              "      <td>1.904740e+02</td>\n",
              "      <td>4.836991e+02</td>\n",
              "      <td>1.000000e+00</td>\n",
              "      <td>1.100000e+01</td>\n",
              "      <td>4.400000e+01</td>\n",
              "      <td>1.760000e+02</td>\n",
              "      <td>1.747300e+04</td>\n",
              "    </tr>\n",
              "    <tr>\n",
              "      <th>u_month_age</th>\n",
              "      <td>400000.0</td>\n",
              "      <td>4.279213e+01</td>\n",
              "      <td>3.461348e+01</td>\n",
              "      <td>3.802649e-07</td>\n",
              "      <td>1.360590e+01</td>\n",
              "      <td>3.649717e+01</td>\n",
              "      <td>6.519433e+01</td>\n",
              "      <td>2.017248e+02</td>\n",
              "    </tr>\n",
              "    <tr>\n",
              "      <th>u_comp_avg</th>\n",
              "      <td>400000.0</td>\n",
              "      <td>5.472043e-01</td>\n",
              "      <td>3.116161e+00</td>\n",
              "      <td>0.000000e+00</td>\n",
              "      <td>0.000000e+00</td>\n",
              "      <td>1.357143e-01</td>\n",
              "      <td>4.050633e-01</td>\n",
              "      <td>5.991333e+02</td>\n",
              "    </tr>\n",
              "    <tr>\n",
              "      <th>u_n_elite_yrs</th>\n",
              "      <td>400000.0</td>\n",
              "      <td>1.885272e+00</td>\n",
              "      <td>3.077123e+00</td>\n",
              "      <td>0.000000e+00</td>\n",
              "      <td>0.000000e+00</td>\n",
              "      <td>0.000000e+00</td>\n",
              "      <td>3.000000e+00</td>\n",
              "      <td>1.600000e+01</td>\n",
              "    </tr>\n",
              "    <tr>\n",
              "      <th>u_fans</th>\n",
              "      <td>400000.0</td>\n",
              "      <td>2.476457e+01</td>\n",
              "      <td>1.290454e+02</td>\n",
              "      <td>0.000000e+00</td>\n",
              "      <td>0.000000e+00</td>\n",
              "      <td>1.000000e+00</td>\n",
              "      <td>1.100000e+01</td>\n",
              "      <td>1.249700e+04</td>\n",
              "    </tr>\n",
              "    <tr>\n",
              "      <th>u_avg_stars</th>\n",
              "      <td>400000.0</td>\n",
              "      <td>3.721698e+00</td>\n",
              "      <td>8.205252e-01</td>\n",
              "      <td>1.000000e+00</td>\n",
              "      <td>3.420000e+00</td>\n",
              "      <td>3.870000e+00</td>\n",
              "      <td>4.220000e+00</td>\n",
              "      <td>5.000000e+00</td>\n",
              "    </tr>\n",
              "    <tr>\n",
              "      <th>u_give_useful</th>\n",
              "      <td>400000.0</td>\n",
              "      <td>8.161250e+02</td>\n",
              "      <td>4.575131e+03</td>\n",
              "      <td>0.000000e+00</td>\n",
              "      <td>1.000000e+01</td>\n",
              "      <td>4.900000e+01</td>\n",
              "      <td>2.890000e+02</td>\n",
              "      <td>2.062960e+05</td>\n",
              "    </tr>\n",
              "    <tr>\n",
              "      <th>b_stars</th>\n",
              "      <td>400000.0</td>\n",
              "      <td>3.744461e+00</td>\n",
              "      <td>7.938323e-01</td>\n",
              "      <td>1.000000e+00</td>\n",
              "      <td>3.500000e+00</td>\n",
              "      <td>4.000000e+00</td>\n",
              "      <td>4.500000e+00</td>\n",
              "      <td>5.000000e+00</td>\n",
              "    </tr>\n",
              "    <tr>\n",
              "      <th>b_review_count</th>\n",
              "      <td>400000.0</td>\n",
              "      <td>3.373048e+02</td>\n",
              "      <td>6.684351e+02</td>\n",
              "      <td>5.000000e+00</td>\n",
              "      <td>4.000000e+01</td>\n",
              "      <td>1.250000e+02</td>\n",
              "      <td>3.400000e+02</td>\n",
              "      <td>7.568000e+03</td>\n",
              "    </tr>\n",
              "    <tr>\n",
              "      <th>b_days_open_wk</th>\n",
              "      <td>377446.0</td>\n",
              "      <td>6.487543e+00</td>\n",
              "      <td>8.538856e-01</td>\n",
              "      <td>1.000000e+00</td>\n",
              "      <td>6.000000e+00</td>\n",
              "      <td>7.000000e+00</td>\n",
              "      <td>7.000000e+00</td>\n",
              "      <td>7.000000e+00</td>\n",
              "    </tr>\n",
              "    <tr>\n",
              "      <th>b_hours_open_wk</th>\n",
              "      <td>377446.0</td>\n",
              "      <td>7.277273e+01</td>\n",
              "      <td>3.198566e+01</td>\n",
              "      <td>2.500000e-01</td>\n",
              "      <td>5.250000e+01</td>\n",
              "      <td>7.000000e+01</td>\n",
              "      <td>8.450000e+01</td>\n",
              "      <td>1.680000e+02</td>\n",
              "    </tr>\n",
              "    <tr>\n",
              "      <th>r_sen</th>\n",
              "      <td>400000.0</td>\n",
              "      <td>1.824178e-01</td>\n",
              "      <td>1.926486e-01</td>\n",
              "      <td>-1.000000e+00</td>\n",
              "      <td>6.030775e-02</td>\n",
              "      <td>1.805970e-01</td>\n",
              "      <td>3.008265e-01</td>\n",
              "      <td>1.000000e+00</td>\n",
              "    </tr>\n",
              "    <tr>\n",
              "      <th>r_sub</th>\n",
              "      <td>400000.0</td>\n",
              "      <td>4.450111e-01</td>\n",
              "      <td>1.468400e-01</td>\n",
              "      <td>0.000000e+00</td>\n",
              "      <td>3.487650e-01</td>\n",
              "      <td>4.417130e-01</td>\n",
              "      <td>5.378217e-01</td>\n",
              "      <td>1.000000e+00</td>\n",
              "    </tr>\n",
              "    <tr>\n",
              "      <th>r_rea</th>\n",
              "      <td>400000.0</td>\n",
              "      <td>8.001051e+01</td>\n",
              "      <td>1.178847e+01</td>\n",
              "      <td>-2.670590e+03</td>\n",
              "      <td>7.439000e+01</td>\n",
              "      <td>8.099000e+01</td>\n",
              "      <td>8.640000e+01</td>\n",
              "      <td>1.202100e+02</td>\n",
              "    </tr>\n",
              "    <tr>\n",
              "      <th>r_useful</th>\n",
              "      <td>400000.0</td>\n",
              "      <td>2.653862e+00</td>\n",
              "      <td>4.622281e+00</td>\n",
              "      <td>1.000000e+00</td>\n",
              "      <td>1.000000e+00</td>\n",
              "      <td>2.000000e+00</td>\n",
              "      <td>3.000000e+00</td>\n",
              "      <td>9.330000e+02</td>\n",
              "    </tr>\n",
              "  </tbody>\n",
              "</table>\n",
              "</div>\n",
              "      <button class=\"colab-df-convert\" onclick=\"convertToInteractive('df-9e174c1c-48dc-4d9e-b093-5c6a6bfac509')\"\n",
              "              title=\"Convert this dataframe to an interactive table.\"\n",
              "              style=\"display:none;\">\n",
              "        \n",
              "  <svg xmlns=\"http://www.w3.org/2000/svg\" height=\"24px\"viewBox=\"0 0 24 24\"\n",
              "       width=\"24px\">\n",
              "    <path d=\"M0 0h24v24H0V0z\" fill=\"none\"/>\n",
              "    <path d=\"M18.56 5.44l.94 2.06.94-2.06 2.06-.94-2.06-.94-.94-2.06-.94 2.06-2.06.94zm-11 1L8.5 8.5l.94-2.06 2.06-.94-2.06-.94L8.5 2.5l-.94 2.06-2.06.94zm10 10l.94 2.06.94-2.06 2.06-.94-2.06-.94-.94-2.06-.94 2.06-2.06.94z\"/><path d=\"M17.41 7.96l-1.37-1.37c-.4-.4-.92-.59-1.43-.59-.52 0-1.04.2-1.43.59L10.3 9.45l-7.72 7.72c-.78.78-.78 2.05 0 2.83L4 21.41c.39.39.9.59 1.41.59.51 0 1.02-.2 1.41-.59l7.78-7.78 2.81-2.81c.8-.78.8-2.07 0-2.86zM5.41 20L4 18.59l7.72-7.72 1.47 1.35L5.41 20z\"/>\n",
              "  </svg>\n",
              "      </button>\n",
              "      \n",
              "  <style>\n",
              "    .colab-df-container {\n",
              "      display:flex;\n",
              "      flex-wrap:wrap;\n",
              "      gap: 12px;\n",
              "    }\n",
              "\n",
              "    .colab-df-convert {\n",
              "      background-color: #E8F0FE;\n",
              "      border: none;\n",
              "      border-radius: 50%;\n",
              "      cursor: pointer;\n",
              "      display: none;\n",
              "      fill: #1967D2;\n",
              "      height: 32px;\n",
              "      padding: 0 0 0 0;\n",
              "      width: 32px;\n",
              "    }\n",
              "\n",
              "    .colab-df-convert:hover {\n",
              "      background-color: #E2EBFA;\n",
              "      box-shadow: 0px 1px 2px rgba(60, 64, 67, 0.3), 0px 1px 3px 1px rgba(60, 64, 67, 0.15);\n",
              "      fill: #174EA6;\n",
              "    }\n",
              "\n",
              "    [theme=dark] .colab-df-convert {\n",
              "      background-color: #3B4455;\n",
              "      fill: #D2E3FC;\n",
              "    }\n",
              "\n",
              "    [theme=dark] .colab-df-convert:hover {\n",
              "      background-color: #434B5C;\n",
              "      box-shadow: 0px 1px 3px 1px rgba(0, 0, 0, 0.15);\n",
              "      filter: drop-shadow(0px 1px 2px rgba(0, 0, 0, 0.3));\n",
              "      fill: #FFFFFF;\n",
              "    }\n",
              "  </style>\n",
              "\n",
              "      <script>\n",
              "        const buttonEl =\n",
              "          document.querySelector('#df-9e174c1c-48dc-4d9e-b093-5c6a6bfac509 button.colab-df-convert');\n",
              "        buttonEl.style.display =\n",
              "          google.colab.kernel.accessAllowed ? 'block' : 'none';\n",
              "\n",
              "        async function convertToInteractive(key) {\n",
              "          const element = document.querySelector('#df-9e174c1c-48dc-4d9e-b093-5c6a6bfac509');\n",
              "          const dataTable =\n",
              "            await google.colab.kernel.invokeFunction('convertToInteractive',\n",
              "                                                     [key], {});\n",
              "          if (!dataTable) return;\n",
              "\n",
              "          const docLinkHtml = 'Like what you see? Visit the ' +\n",
              "            '<a target=\"_blank\" href=https://colab.research.google.com/notebooks/data_table.ipynb>data table notebook</a>'\n",
              "            + ' to learn more about interactive tables.';\n",
              "          element.innerHTML = '';\n",
              "          dataTable['output_type'] = 'display_data';\n",
              "          await google.colab.output.renderOutput(dataTable, element);\n",
              "          const docLink = document.createElement('div');\n",
              "          docLink.innerHTML = docLinkHtml;\n",
              "          element.appendChild(docLink);\n",
              "        }\n",
              "      </script>\n",
              "    </div>\n",
              "  </div>\n",
              "  "
            ]
          },
          "metadata": {},
          "execution_count": 6
        }
      ]
    },
    {
      "cell_type": "code",
      "source": [
        "X_train, y_train = df_train.drop(['r_useful', 'r_id'], axis=1).values, df_train['r_useful'].values\n",
        "X_test, y_test = df_test.drop(['r_useful', 'r_id'], axis=1).values, df_test['r_useful'].values"
      ],
      "metadata": {
        "id": "JoK7iekTi7BK"
      },
      "execution_count": 7,
      "outputs": []
    },
    {
      "cell_type": "code",
      "source": [
        "def objective(trial):\n",
        "  \"\"\" Function to tune parameters \"\"\"\n",
        "  gc.collect()\n",
        "  params = {\n",
        "      \"n_estimators\":trial.suggest_int('n_estimators', 1, 1001, step=50),\n",
        "      \"max_depth\" : trial.suggest_int(\"max_depth\", 2, 20),\n",
        "      \"learning_rate\" : trial.suggest_float('learning_rate', 0.001, 0.5, log=True),\n",
        "      \"subsample \": trial.suggest_float(\"subsample\", 0.4, 1, step=0.1),\n",
        "      \"colsample_bytree\": trial.suggest_float(\"colsample_bytree\", 0.4, 1, step=0.1),\n",
        "      \"gamma\": trial.suggest_float(\"gamma\", 0, 1),\n",
        "      \"min_child_weight\": trial.suggest_int(\"min_child_weight\", 1, 31, step=2)\n",
        "  }\n",
        "\n",
        "  print(\"Currently running with:\")\n",
        "  print(params)\n",
        "\n",
        "  model = xgb.XGBRegressor(objective=\"reg:squarederror\",\n",
        "                            n_jobs=-1,\n",
        "                            grow_policy='lossguide',\n",
        "                            tree_method=\"gpu_hist\",\n",
        "                            predictor=\"gpu_predictor\",\n",
        "                            booster='gbtree',\n",
        "                            sampling_method='gradient_based',\n",
        "                            eval_metrics=['rmse'],\n",
        "                            random_state=RANDOM_SEED,\n",
        "                            enable_categorical=False,\n",
        "                            **params)\n",
        "  pipe = make_pipeline(SimpleImputer(), StandardScaler(), model)\n",
        "\n",
        "  scores = cross_val_score(pipe, X_train, y_train,\n",
        "    scoring=\"neg_root_mean_squared_error\", cv=KFold(3))\n",
        "\n",
        "  return -scores.mean()\n",
        "\n",
        "study = opt.create_study(direction='minimize', sampler=TPESampler(seed=RANDOM_SEED))\n",
        "study.optimize(objective, n_trials=50)\n",
        "print(\"Final best parameters:\")\n",
        "study.best_params"
      ],
      "metadata": {
        "colab": {
          "base_uri": "https://localhost:8080/"
        },
        "id": "fiiBJsqwE_tS",
        "outputId": "5547c6a8-5014-4c2a-b2e5-7e4318a4f541"
      },
      "execution_count": 8,
      "outputs": [
        {
          "metadata": {
            "tags": null
          },
          "name": "stderr",
          "output_type": "stream",
          "text": [
            "\u001b[32m[I 2022-09-30 04:13:59,330]\u001b[0m A new study created in memory with name: no-name-55b1087f-a8cc-4105-8a8f-64840851838f\u001b[0m\n"
          ]
        },
        {
          "metadata": {
            "tags": null
          },
          "name": "stdout",
          "output_type": "stream",
          "text": [
            "Currently running with:\n",
            "{'n_estimators': 451, 'max_depth': 2, 'learning_rate': 0.030445460008040798, 'subsample ': 0.7000000000000001, 'colsample_bytree': 0.6000000000000001, 'gamma': 0.3303348210038741, 'min_child_weight': 7}\n"
          ]
        },
        {
          "metadata": {
            "tags": null
          },
          "name": "stderr",
          "output_type": "stream",
          "text": [
            "\u001b[32m[I 2022-09-30 04:14:09,836]\u001b[0m Trial 0 finished with value: 3.8465217851905407 and parameters: {'n_estimators': 451, 'max_depth': 2, 'learning_rate': 0.030445460008040798, 'subsample': 0.7000000000000001, 'colsample_bytree': 0.6000000000000001, 'gamma': 0.3303348210038741, 'min_child_weight': 7}. Best is trial 0 with value: 3.8465217851905407.\u001b[0m\n"
          ]
        },
        {
          "metadata": {
            "tags": null
          },
          "name": "stdout",
          "output_type": "stream",
          "text": [
            "Currently running with:\n",
            "{'n_estimators': 651, 'max_depth': 7, 'learning_rate': 0.005249994057689375, 'subsample ': 0.8, 'colsample_bytree': 0.7000000000000001, 'gamma': 0.13457994534493356, 'min_child_weight': 17}\n"
          ]
        },
        {
          "metadata": {
            "tags": null
          },
          "name": "stderr",
          "output_type": "stream",
          "text": [
            "\u001b[32m[I 2022-09-30 04:14:34,624]\u001b[0m Trial 1 finished with value: 3.5997811895650393 and parameters: {'n_estimators': 651, 'max_depth': 7, 'learning_rate': 0.005249994057689375, 'subsample': 0.8, 'colsample_bytree': 0.7000000000000001, 'gamma': 0.13457994534493356, 'min_child_weight': 17}. Best is trial 1 with value: 3.5997811895650393.\u001b[0m\n"
          ]
        },
        {
          "metadata": {
            "tags": null
          },
          "name": "stdout",
          "output_type": "stream",
          "text": [
            "Currently running with:\n",
            "{'n_estimators': 151, 'max_depth': 16, 'learning_rate': 0.20176865513948422, 'subsample ': 0.7000000000000001, 'colsample_bytree': 0.9, 'gamma': 0.079645477009061, 'min_child_weight': 17}\n"
          ]
        },
        {
          "metadata": {
            "tags": null
          },
          "name": "stderr",
          "output_type": "stream",
          "text": [
            "\u001b[32m[I 2022-09-30 04:15:12,594]\u001b[0m Trial 2 finished with value: 3.487439505059239 and parameters: {'n_estimators': 151, 'max_depth': 16, 'learning_rate': 0.20176865513948422, 'subsample': 0.7000000000000001, 'colsample_bytree': 0.9, 'gamma': 0.079645477009061, 'min_child_weight': 17}. Best is trial 2 with value: 3.487439505059239.\u001b[0m\n"
          ]
        },
        {
          "metadata": {
            "tags": null
          },
          "name": "stdout",
          "output_type": "stream",
          "text": [
            "Currently running with:\n",
            "{'n_estimators': 51, 'max_depth': 10, 'learning_rate': 0.001821939895716244, 'subsample ': 0.4, 'colsample_bytree': 0.8, 'gamma': 0.22601200060423587, 'min_child_weight': 3}\n"
          ]
        },
        {
          "metadata": {
            "tags": null
          },
          "name": "stderr",
          "output_type": "stream",
          "text": [
            "\u001b[32m[I 2022-09-30 04:15:20,953]\u001b[0m Trial 3 finished with value: 4.899477969923081 and parameters: {'n_estimators': 51, 'max_depth': 10, 'learning_rate': 0.001821939895716244, 'subsample': 0.4, 'colsample_bytree': 0.8, 'gamma': 0.22601200060423587, 'min_child_weight': 3}. Best is trial 2 with value: 3.487439505059239.\u001b[0m\n"
          ]
        },
        {
          "metadata": {
            "tags": null
          },
          "name": "stdout",
          "output_type": "stream",
          "text": [
            "Currently running with:\n",
            "{'n_estimators': 201, 'max_depth': 8, 'learning_rate': 0.01830393181458461, 'subsample ': 0.5, 'colsample_bytree': 0.8, 'gamma': 0.48306983555175165, 'min_child_weight': 17}\n"
          ]
        },
        {
          "metadata": {
            "tags": null
          },
          "name": "stderr",
          "output_type": "stream",
          "text": [
            "\u001b[32m[I 2022-09-30 04:15:31,957]\u001b[0m Trial 4 finished with value: 3.523055382464978 and parameters: {'n_estimators': 201, 'max_depth': 8, 'learning_rate': 0.01830393181458461, 'subsample': 0.5, 'colsample_bytree': 0.8, 'gamma': 0.48306983555175165, 'min_child_weight': 17}. Best is trial 2 with value: 3.487439505059239.\u001b[0m\n"
          ]
        },
        {
          "metadata": {
            "tags": null
          },
          "name": "stdout",
          "output_type": "stream",
          "text": [
            "Currently running with:\n",
            "{'n_estimators': 401, 'max_depth': 17, 'learning_rate': 0.036763248613166925, 'subsample ': 0.5, 'colsample_bytree': 0.8, 'gamma': 0.9645510800892552, 'min_child_weight': 17}\n"
          ]
        },
        {
          "metadata": {
            "tags": null
          },
          "name": "stderr",
          "output_type": "stream",
          "text": [
            "\u001b[32m[I 2022-09-30 04:17:56,537]\u001b[0m Trial 5 finished with value: 3.4194775339508108 and parameters: {'n_estimators': 401, 'max_depth': 17, 'learning_rate': 0.036763248613166925, 'subsample': 0.5, 'colsample_bytree': 0.8, 'gamma': 0.9645510800892552, 'min_child_weight': 17}. Best is trial 5 with value: 3.4194775339508108.\u001b[0m\n"
          ]
        },
        {
          "metadata": {
            "tags": null
          },
          "name": "stdout",
          "output_type": "stream",
          "text": [
            "Currently running with:\n",
            "{'n_estimators': 901, 'max_depth': 8, 'learning_rate': 0.0339394647270345, 'subsample ': 0.6000000000000001, 'colsample_bytree': 0.7000000000000001, 'gamma': 0.7765591849971003, 'min_child_weight': 17}\n"
          ]
        },
        {
          "metadata": {
            "tags": null
          },
          "name": "stderr",
          "output_type": "stream",
          "text": [
            "\u001b[32m[I 2022-09-30 04:18:31,458]\u001b[0m Trial 6 finished with value: 3.410995125142819 and parameters: {'n_estimators': 901, 'max_depth': 8, 'learning_rate': 0.0339394647270345, 'subsample': 0.6000000000000001, 'colsample_bytree': 0.7000000000000001, 'gamma': 0.7765591849971003, 'min_child_weight': 17}. Best is trial 6 with value: 3.410995125142819.\u001b[0m\n"
          ]
        },
        {
          "metadata": {
            "tags": null
          },
          "name": "stdout",
          "output_type": "stream",
          "text": [
            "Currently running with:\n",
            "{'n_estimators': 1001, 'max_depth': 12, 'learning_rate': 0.0016656039140499094, 'subsample ': 0.6000000000000001, 'colsample_bytree': 0.9, 'gamma': 0.4062750430479508, 'min_child_weight': 1}\n"
          ]
        },
        {
          "metadata": {
            "tags": null
          },
          "name": "stderr",
          "output_type": "stream",
          "text": [
            "\u001b[32m[I 2022-09-30 04:23:29,770]\u001b[0m Trial 7 finished with value: 3.476190651355791 and parameters: {'n_estimators': 1001, 'max_depth': 12, 'learning_rate': 0.0016656039140499094, 'subsample': 0.6000000000000001, 'colsample_bytree': 0.9, 'gamma': 0.4062750430479508, 'min_child_weight': 1}. Best is trial 6 with value: 3.410995125142819.\u001b[0m\n"
          ]
        },
        {
          "metadata": {
            "tags": null
          },
          "name": "stdout",
          "output_type": "stream",
          "text": [
            "Currently running with:\n",
            "{'n_estimators': 251, 'max_depth': 3, 'learning_rate': 0.4812566765285445, 'subsample ': 1.0, 'colsample_bytree': 0.9, 'gamma': 0.6018171214054674, 'min_child_weight': 25}\n"
          ]
        },
        {
          "metadata": {
            "tags": null
          },
          "name": "stderr",
          "output_type": "stream",
          "text": [
            "\u001b[32m[I 2022-09-30 04:23:35,166]\u001b[0m Trial 8 finished with value: 3.5430732289279976 and parameters: {'n_estimators': 251, 'max_depth': 3, 'learning_rate': 0.4812566765285445, 'subsample': 1.0, 'colsample_bytree': 0.9, 'gamma': 0.6018171214054674, 'min_child_weight': 25}. Best is trial 6 with value: 3.410995125142819.\u001b[0m\n"
          ]
        },
        {
          "metadata": {
            "tags": null
          },
          "name": "stdout",
          "output_type": "stream",
          "text": [
            "Currently running with:\n",
            "{'n_estimators': 151, 'max_depth': 7, 'learning_rate': 0.025968135983975103, 'subsample ': 0.6000000000000001, 'colsample_bytree': 0.4, 'gamma': 0.9831534453572127, 'min_child_weight': 15}\n"
          ]
        },
        {
          "metadata": {
            "tags": null
          },
          "name": "stderr",
          "output_type": "stream",
          "text": [
            "\u001b[32m[I 2022-09-30 04:23:41,710]\u001b[0m Trial 9 finished with value: 3.7669371847400654 and parameters: {'n_estimators': 151, 'max_depth': 7, 'learning_rate': 0.025968135983975103, 'subsample': 0.6000000000000001, 'colsample_bytree': 0.4, 'gamma': 0.9831534453572127, 'min_child_weight': 15}. Best is trial 6 with value: 3.410995125142819.\u001b[0m\n"
          ]
        },
        {
          "metadata": {
            "tags": null
          },
          "name": "stdout",
          "output_type": "stream",
          "text": [
            "Currently running with:\n",
            "{'n_estimators': 1001, 'max_depth': 14, 'learning_rate': 0.15680282430784281, 'subsample ': 0.9, 'colsample_bytree': 0.5, 'gamma': 0.7116842635242707, 'min_child_weight': 31}\n"
          ]
        },
        {
          "metadata": {
            "tags": null
          },
          "name": "stderr",
          "output_type": "stream",
          "text": [
            "\u001b[32m[I 2022-09-30 04:26:18,495]\u001b[0m Trial 10 finished with value: 3.513777110380804 and parameters: {'n_estimators': 1001, 'max_depth': 14, 'learning_rate': 0.15680282430784281, 'subsample': 0.9, 'colsample_bytree': 0.5, 'gamma': 0.7116842635242707, 'min_child_weight': 31}. Best is trial 6 with value: 3.410995125142819.\u001b[0m\n"
          ]
        },
        {
          "metadata": {
            "tags": null
          },
          "name": "stdout",
          "output_type": "stream",
          "text": [
            "Currently running with:\n",
            "{'n_estimators': 701, 'max_depth': 19, 'learning_rate': 0.05692887856923461, 'subsample ': 0.4, 'colsample_bytree': 0.7000000000000001, 'gamma': 0.9937515940326105, 'min_child_weight': 11}\n"
          ]
        },
        {
          "metadata": {
            "tags": null
          },
          "name": "stderr",
          "output_type": "stream",
          "text": [
            "\u001b[32m[I 2022-09-30 04:34:41,286]\u001b[0m Trial 11 finished with value: 3.4701211635889937 and parameters: {'n_estimators': 701, 'max_depth': 19, 'learning_rate': 0.05692887856923461, 'subsample': 0.4, 'colsample_bytree': 0.7000000000000001, 'gamma': 0.9937515940326105, 'min_child_weight': 11}. Best is trial 6 with value: 3.410995125142819.\u001b[0m\n"
          ]
        },
        {
          "metadata": {
            "tags": null
          },
          "name": "stdout",
          "output_type": "stream",
          "text": [
            "Currently running with:\n",
            "{'n_estimators': 501, 'max_depth': 20, 'learning_rate': 0.011061224050569278, 'subsample ': 0.5, 'colsample_bytree': 1.0, 'gamma': 0.7970280938251975, 'min_child_weight': 23}\n"
          ]
        },
        {
          "output_type": "stream",
          "name": "stderr",
          "text": [
            "\u001b[32m[I 2022-09-30 04:40:37,656]\u001b[0m Trial 12 finished with value: 3.472290082839796 and parameters: {'n_estimators': 501, 'max_depth': 20, 'learning_rate': 0.011061224050569278, 'subsample': 0.5, 'colsample_bytree': 1.0, 'gamma': 0.7970280938251975, 'min_child_weight': 23}. Best is trial 6 with value: 3.410995125142819.\u001b[0m\n"
          ]
        },
        {
          "output_type": "stream",
          "name": "stdout",
          "text": [
            "Currently running with:\n",
            "{'n_estimators': 801, 'max_depth': 16, 'learning_rate': 0.052856633324468924, 'subsample ': 0.6000000000000001, 'colsample_bytree': 0.6000000000000001, 'gamma': 0.8261663652334822, 'min_child_weight': 23}\n"
          ]
        },
        {
          "output_type": "stream",
          "name": "stderr",
          "text": [
            "\u001b[32m[I 2022-09-30 04:43:51,191]\u001b[0m Trial 13 finished with value: 3.4491691134341487 and parameters: {'n_estimators': 801, 'max_depth': 16, 'learning_rate': 0.052856633324468924, 'subsample': 0.6000000000000001, 'colsample_bytree': 0.6000000000000001, 'gamma': 0.8261663652334822, 'min_child_weight': 23}. Best is trial 6 with value: 3.410995125142819.\u001b[0m\n"
          ]
        },
        {
          "output_type": "stream",
          "name": "stdout",
          "text": [
            "Currently running with:\n",
            "{'n_estimators': 351, 'max_depth': 5, 'learning_rate': 0.007750464561034602, 'subsample ': 0.5, 'colsample_bytree': 0.8, 'gamma': 0.8628545916121056, 'min_child_weight': 11}\n"
          ]
        },
        {
          "output_type": "stream",
          "name": "stderr",
          "text": [
            "\u001b[32m[I 2022-09-30 04:44:00,221]\u001b[0m Trial 14 finished with value: 3.736937816283597 and parameters: {'n_estimators': 351, 'max_depth': 5, 'learning_rate': 0.007750464561034602, 'subsample': 0.5, 'colsample_bytree': 0.8, 'gamma': 0.8628545916121056, 'min_child_weight': 11}. Best is trial 6 with value: 3.410995125142819.\u001b[0m\n"
          ]
        },
        {
          "output_type": "stream",
          "name": "stdout",
          "text": [
            "Currently running with:\n",
            "{'n_estimators': 851, 'max_depth': 11, 'learning_rate': 0.07527900038113386, 'subsample ': 0.8, 'colsample_bytree': 0.6000000000000001, 'gamma': 0.7273681546988874, 'min_child_weight': 21}\n"
          ]
        },
        {
          "output_type": "stream",
          "name": "stderr",
          "text": [
            "\u001b[32m[I 2022-09-30 04:45:09,005]\u001b[0m Trial 15 finished with value: 3.4381730366321723 and parameters: {'n_estimators': 851, 'max_depth': 11, 'learning_rate': 0.07527900038113386, 'subsample': 0.8, 'colsample_bytree': 0.6000000000000001, 'gamma': 0.7273681546988874, 'min_child_weight': 21}. Best is trial 6 with value: 3.410995125142819.\u001b[0m\n"
          ]
        },
        {
          "output_type": "stream",
          "name": "stdout",
          "text": [
            "Currently running with:\n",
            "{'n_estimators': 601, 'max_depth': 17, 'learning_rate': 0.003760428342417725, 'subsample ': 0.5, 'colsample_bytree': 1.0, 'gamma': 0.5931703198526505, 'min_child_weight': 11}\n"
          ]
        },
        {
          "output_type": "stream",
          "name": "stderr",
          "text": [
            "\u001b[32m[I 2022-09-30 04:54:21,451]\u001b[0m Trial 16 finished with value: 3.5487822851954536 and parameters: {'n_estimators': 601, 'max_depth': 17, 'learning_rate': 0.003760428342417725, 'subsample': 0.5, 'colsample_bytree': 1.0, 'gamma': 0.5931703198526505, 'min_child_weight': 11}. Best is trial 6 with value: 3.410995125142819.\u001b[0m\n"
          ]
        },
        {
          "output_type": "stream",
          "name": "stdout",
          "text": [
            "Currently running with:\n",
            "{'n_estimators': 351, 'max_depth': 13, 'learning_rate': 0.16096040602900347, 'subsample ': 0.6000000000000001, 'colsample_bytree': 0.7000000000000001, 'gamma': 0.8986338046158237, 'min_child_weight': 29}\n"
          ]
        },
        {
          "output_type": "stream",
          "name": "stderr",
          "text": [
            "\u001b[32m[I 2022-09-30 04:54:59,594]\u001b[0m Trial 17 finished with value: 3.489977150096831 and parameters: {'n_estimators': 351, 'max_depth': 13, 'learning_rate': 0.16096040602900347, 'subsample': 0.6000000000000001, 'colsample_bytree': 0.7000000000000001, 'gamma': 0.8986338046158237, 'min_child_weight': 29}. Best is trial 6 with value: 3.410995125142819.\u001b[0m\n"
          ]
        },
        {
          "output_type": "stream",
          "name": "stdout",
          "text": [
            "Currently running with:\n",
            "{'n_estimators': 801, 'max_depth': 9, 'learning_rate': 0.012542901308559886, 'subsample ': 0.7000000000000001, 'colsample_bytree': 0.5, 'gamma': 0.6767613105732481, 'min_child_weight': 13}\n"
          ]
        },
        {
          "output_type": "stream",
          "name": "stderr",
          "text": [
            "\u001b[32m[I 2022-09-30 04:55:50,309]\u001b[0m Trial 18 finished with value: 3.468744144276425 and parameters: {'n_estimators': 801, 'max_depth': 9, 'learning_rate': 0.012542901308559886, 'subsample': 0.7000000000000001, 'colsample_bytree': 0.5, 'gamma': 0.6767613105732481, 'min_child_weight': 13}. Best is trial 6 with value: 3.410995125142819.\u001b[0m\n"
          ]
        },
        {
          "output_type": "stream",
          "name": "stdout",
          "text": [
            "Currently running with:\n",
            "{'n_estimators': 401, 'max_depth': 14, 'learning_rate': 0.09267336307592426, 'subsample ': 0.4, 'colsample_bytree': 0.8, 'gamma': 0.923712977494248, 'min_child_weight': 7}\n"
          ]
        },
        {
          "output_type": "stream",
          "name": "stderr",
          "text": [
            "\u001b[32m[I 2022-09-30 04:57:45,825]\u001b[0m Trial 19 finished with value: 3.4235548593687373 and parameters: {'n_estimators': 401, 'max_depth': 14, 'learning_rate': 0.09267336307592426, 'subsample': 0.4, 'colsample_bytree': 0.8, 'gamma': 0.923712977494248, 'min_child_weight': 7}. Best is trial 6 with value: 3.410995125142819.\u001b[0m\n"
          ]
        },
        {
          "output_type": "stream",
          "name": "stdout",
          "text": [
            "Currently running with:\n",
            "{'n_estimators': 551, 'max_depth': 18, 'learning_rate': 0.03632109454704993, 'subsample ': 0.8, 'colsample_bytree': 0.5, 'gamma': 0.5802743584904809, 'min_child_weight': 21}\n"
          ]
        },
        {
          "output_type": "stream",
          "name": "stderr",
          "text": [
            "\u001b[32m[I 2022-09-30 05:02:00,202]\u001b[0m Trial 20 finished with value: 3.478209294563681 and parameters: {'n_estimators': 551, 'max_depth': 18, 'learning_rate': 0.03632109454704993, 'subsample': 0.8, 'colsample_bytree': 0.5, 'gamma': 0.5802743584904809, 'min_child_weight': 21}. Best is trial 6 with value: 3.410995125142819.\u001b[0m\n"
          ]
        },
        {
          "output_type": "stream",
          "name": "stdout",
          "text": [
            "Currently running with:\n",
            "{'n_estimators': 401, 'max_depth': 15, 'learning_rate': 0.11205584901145187, 'subsample ': 0.4, 'colsample_bytree': 0.8, 'gamma': 0.9199444605696172, 'min_child_weight': 7}\n"
          ]
        },
        {
          "output_type": "stream",
          "name": "stderr",
          "text": [
            "\u001b[32m[I 2022-09-30 05:04:45,026]\u001b[0m Trial 21 finished with value: 3.443254734574584 and parameters: {'n_estimators': 401, 'max_depth': 15, 'learning_rate': 0.11205584901145187, 'subsample': 0.4, 'colsample_bytree': 0.8, 'gamma': 0.9199444605696172, 'min_child_weight': 7}. Best is trial 6 with value: 3.410995125142819.\u001b[0m\n"
          ]
        },
        {
          "output_type": "stream",
          "name": "stdout",
          "text": [
            "Currently running with:\n",
            "{'n_estimators': 301, 'max_depth': 13, 'learning_rate': 0.31606431148551534, 'subsample ': 0.4, 'colsample_bytree': 0.8, 'gamma': 0.7813586084233499, 'min_child_weight': 7}\n"
          ]
        },
        {
          "output_type": "stream",
          "name": "stderr",
          "text": [
            "\u001b[32m[I 2022-09-30 05:06:03,882]\u001b[0m Trial 22 finished with value: 3.6097198276204954 and parameters: {'n_estimators': 301, 'max_depth': 13, 'learning_rate': 0.31606431148551534, 'subsample': 0.4, 'colsample_bytree': 0.8, 'gamma': 0.7813586084233499, 'min_child_weight': 7}. Best is trial 6 with value: 3.410995125142819.\u001b[0m\n"
          ]
        },
        {
          "output_type": "stream",
          "name": "stdout",
          "text": [
            "Currently running with:\n",
            "{'n_estimators': 451, 'max_depth': 5, 'learning_rate': 0.046094825697526993, 'subsample ': 0.5, 'colsample_bytree': 0.7000000000000001, 'gamma': 0.9338960105667679, 'min_child_weight': 19}\n"
          ]
        },
        {
          "output_type": "stream",
          "name": "stderr",
          "text": [
            "\u001b[32m[I 2022-09-30 05:06:14,805]\u001b[0m Trial 23 finished with value: 3.4948356238121487 and parameters: {'n_estimators': 451, 'max_depth': 5, 'learning_rate': 0.046094825697526993, 'subsample': 0.5, 'colsample_bytree': 0.7000000000000001, 'gamma': 0.9338960105667679, 'min_child_weight': 19}. Best is trial 6 with value: 3.410995125142819.\u001b[0m\n"
          ]
        },
        {
          "output_type": "stream",
          "name": "stdout",
          "text": [
            "Currently running with:\n",
            "{'n_estimators': 1, 'max_depth': 11, 'learning_rate': 0.08521086728843964, 'subsample ': 0.6000000000000001, 'colsample_bytree': 0.9, 'gamma': 0.8491299259902766, 'min_child_weight': 13}\n"
          ]
        },
        {
          "output_type": "stream",
          "name": "stderr",
          "text": [
            "\u001b[32m[I 2022-09-30 05:06:16,005]\u001b[0m Trial 24 finished with value: 4.898382402003737 and parameters: {'n_estimators': 1, 'max_depth': 11, 'learning_rate': 0.08521086728843964, 'subsample': 0.6000000000000001, 'colsample_bytree': 0.9, 'gamma': 0.8491299259902766, 'min_child_weight': 13}. Best is trial 6 with value: 3.410995125142819.\u001b[0m\n"
          ]
        },
        {
          "output_type": "stream",
          "name": "stdout",
          "text": [
            "Currently running with:\n",
            "{'n_estimators': 901, 'max_depth': 15, 'learning_rate': 0.02228028430606591, 'subsample ': 0.4, 'colsample_bytree': 0.6000000000000001, 'gamma': 0.9964115672039198, 'min_child_weight': 27}\n"
          ]
        },
        {
          "output_type": "stream",
          "name": "stderr",
          "text": [
            "\u001b[32m[I 2022-09-30 05:09:27,696]\u001b[0m Trial 25 finished with value: 3.4511897283126363 and parameters: {'n_estimators': 901, 'max_depth': 15, 'learning_rate': 0.02228028430606591, 'subsample': 0.4, 'colsample_bytree': 0.6000000000000001, 'gamma': 0.9964115672039198, 'min_child_weight': 27}. Best is trial 6 with value: 3.410995125142819.\u001b[0m\n"
          ]
        },
        {
          "output_type": "stream",
          "name": "stdout",
          "text": [
            "Currently running with:\n",
            "{'n_estimators': 701, 'max_depth': 18, 'learning_rate': 0.01463205433748748, 'subsample ': 0.5, 'colsample_bytree': 0.8, 'gamma': 0.7483401608924889, 'min_child_weight': 5}\n"
          ]
        },
        {
          "output_type": "stream",
          "name": "stderr",
          "text": [
            "\u001b[32m[I 2022-09-30 05:21:50,930]\u001b[0m Trial 26 finished with value: 3.4004849641717314 and parameters: {'n_estimators': 701, 'max_depth': 18, 'learning_rate': 0.01463205433748748, 'subsample': 0.5, 'colsample_bytree': 0.8, 'gamma': 0.7483401608924889, 'min_child_weight': 5}. Best is trial 26 with value: 3.4004849641717314.\u001b[0m\n"
          ]
        },
        {
          "output_type": "stream",
          "name": "stdout",
          "text": [
            "Currently running with:\n",
            "{'n_estimators': 751, 'max_depth': 20, 'learning_rate': 0.01651073147355817, 'subsample ': 0.5, 'colsample_bytree': 0.7000000000000001, 'gamma': 0.6868630857416174, 'min_child_weight': 19}\n"
          ]
        },
        {
          "output_type": "stream",
          "name": "stderr",
          "text": [
            "\u001b[32m[I 2022-09-30 05:29:58,793]\u001b[0m Trial 27 finished with value: 3.435602780214739 and parameters: {'n_estimators': 751, 'max_depth': 20, 'learning_rate': 0.01651073147355817, 'subsample': 0.5, 'colsample_bytree': 0.7000000000000001, 'gamma': 0.6868630857416174, 'min_child_weight': 19}. Best is trial 26 with value: 3.4004849641717314.\u001b[0m\n"
          ]
        },
        {
          "output_type": "stream",
          "name": "stdout",
          "text": [
            "Currently running with:\n",
            "{'n_estimators': 901, 'max_depth': 18, 'learning_rate': 0.007980796727480342, 'subsample ': 0.6000000000000001, 'colsample_bytree': 0.9, 'gamma': 0.7662564123965309, 'min_child_weight': 15}\n"
          ]
        },
        {
          "output_type": "stream",
          "name": "stderr",
          "text": [
            "\u001b[32m[I 2022-09-30 05:38:48,953]\u001b[0m Trial 28 finished with value: 3.413937884538228 and parameters: {'n_estimators': 901, 'max_depth': 18, 'learning_rate': 0.007980796727480342, 'subsample': 0.6000000000000001, 'colsample_bytree': 0.9, 'gamma': 0.7662564123965309, 'min_child_weight': 15}. Best is trial 26 with value: 3.4004849641717314.\u001b[0m\n"
          ]
        },
        {
          "output_type": "stream",
          "name": "stdout",
          "text": [
            "Currently running with:\n",
            "{'n_estimators': 901, 'max_depth': 18, 'learning_rate': 0.0030947299932601556, 'subsample ': 0.7000000000000001, 'colsample_bytree': 1.0, 'gamma': 0.5255604866093168, 'min_child_weight': 3}\n"
          ]
        },
        {
          "output_type": "stream",
          "name": "stderr",
          "text": [
            "\u001b[32m[I 2022-09-30 06:09:02,223]\u001b[0m Trial 29 finished with value: 3.4777367309332807 and parameters: {'n_estimators': 901, 'max_depth': 18, 'learning_rate': 0.0030947299932601556, 'subsample': 0.7000000000000001, 'colsample_bytree': 1.0, 'gamma': 0.5255604866093168, 'min_child_weight': 3}. Best is trial 26 with value: 3.4004849641717314.\u001b[0m\n"
          ]
        },
        {
          "output_type": "stream",
          "name": "stdout",
          "text": [
            "Currently running with:\n",
            "{'n_estimators': 951, 'max_depth': 5, 'learning_rate': 0.007991932972716833, 'subsample ': 0.6000000000000001, 'colsample_bytree': 0.9, 'gamma': 0.7582472149606359, 'min_child_weight': 9}\n"
          ]
        },
        {
          "output_type": "stream",
          "name": "stderr",
          "text": [
            "\u001b[32m[I 2022-09-30 06:09:24,926]\u001b[0m Trial 30 finished with value: 3.5152924065265823 and parameters: {'n_estimators': 951, 'max_depth': 5, 'learning_rate': 0.007991932972716833, 'subsample': 0.6000000000000001, 'colsample_bytree': 0.9, 'gamma': 0.7582472149606359, 'min_child_weight': 9}. Best is trial 26 with value: 3.4004849641717314.\u001b[0m\n"
          ]
        },
        {
          "output_type": "stream",
          "name": "stdout",
          "text": [
            "Currently running with:\n",
            "{'n_estimators': 701, 'max_depth': 17, 'learning_rate': 0.028043206035731315, 'subsample ': 0.7000000000000001, 'colsample_bytree': 0.8, 'gamma': 0.6329963428876546, 'min_child_weight': 15}\n"
          ]
        },
        {
          "output_type": "stream",
          "name": "stderr",
          "text": [
            "\u001b[32m[I 2022-09-30 06:13:34,377]\u001b[0m Trial 31 finished with value: 3.4193218256232623 and parameters: {'n_estimators': 701, 'max_depth': 17, 'learning_rate': 0.028043206035731315, 'subsample': 0.7000000000000001, 'colsample_bytree': 0.8, 'gamma': 0.6329963428876546, 'min_child_weight': 15}. Best is trial 26 with value: 3.4004849641717314.\u001b[0m\n"
          ]
        },
        {
          "output_type": "stream",
          "name": "stdout",
          "text": [
            "Currently running with:\n",
            "{'n_estimators': 651, 'max_depth': 19, 'learning_rate': 0.005966049898654908, 'subsample ': 0.7000000000000001, 'colsample_bytree': 0.9, 'gamma': 0.644579059167148, 'min_child_weight': 15}\n"
          ]
        },
        {
          "output_type": "stream",
          "name": "stderr",
          "text": [
            "\u001b[32m[I 2022-09-30 06:24:43,017]\u001b[0m Trial 32 finished with value: 3.4683003572351048 and parameters: {'n_estimators': 651, 'max_depth': 19, 'learning_rate': 0.005966049898654908, 'subsample': 0.7000000000000001, 'colsample_bytree': 0.9, 'gamma': 0.644579059167148, 'min_child_weight': 15}. Best is trial 26 with value: 3.4004849641717314.\u001b[0m\n"
          ]
        },
        {
          "output_type": "stream",
          "name": "stdout",
          "text": [
            "Currently running with:\n",
            "{'n_estimators': 701, 'max_depth': 17, 'learning_rate': 0.013972225840393057, 'subsample ': 0.7000000000000001, 'colsample_bytree': 0.7000000000000001, 'gamma': 0.45390326918035606, 'min_child_weight': 13}\n"
          ]
        },
        {
          "output_type": "stream",
          "name": "stderr",
          "text": [
            "\u001b[32m[I 2022-09-30 06:31:00,186]\u001b[0m Trial 33 finished with value: 3.420506540599098 and parameters: {'n_estimators': 701, 'max_depth': 17, 'learning_rate': 0.013972225840393057, 'subsample': 0.7000000000000001, 'colsample_bytree': 0.7000000000000001, 'gamma': 0.45390326918035606, 'min_child_weight': 13}. Best is trial 26 with value: 3.4004849641717314.\u001b[0m\n"
          ]
        },
        {
          "output_type": "stream",
          "name": "stdout",
          "text": [
            "Currently running with:\n",
            "{'n_estimators': 851, 'max_depth': 19, 'learning_rate': 0.025685619969710173, 'subsample ': 0.8, 'colsample_bytree': 0.9, 'gamma': 0.32060445925328385, 'min_child_weight': 19}\n"
          ]
        },
        {
          "output_type": "stream",
          "name": "stderr",
          "text": [
            "\u001b[32m[I 2022-09-30 06:36:31,750]\u001b[0m Trial 34 finished with value: 3.4325617036843368 and parameters: {'n_estimators': 851, 'max_depth': 19, 'learning_rate': 0.025685619969710173, 'subsample': 0.8, 'colsample_bytree': 0.9, 'gamma': 0.32060445925328385, 'min_child_weight': 19}. Best is trial 26 with value: 3.4004849641717314.\u001b[0m\n"
          ]
        },
        {
          "output_type": "stream",
          "name": "stdout",
          "text": [
            "Currently running with:\n",
            "{'n_estimators': 751, 'max_depth': 16, 'learning_rate': 0.002583741184822788, 'subsample ': 0.6000000000000001, 'colsample_bytree': 0.8, 'gamma': 0.5312013808470408, 'min_child_weight': 3}\n"
          ]
        },
        {
          "output_type": "stream",
          "name": "stderr",
          "text": [
            "\u001b[32m[I 2022-09-30 06:52:07,889]\u001b[0m Trial 35 finished with value: 3.5156042323429553 and parameters: {'n_estimators': 751, 'max_depth': 16, 'learning_rate': 0.002583741184822788, 'subsample': 0.6000000000000001, 'colsample_bytree': 0.8, 'gamma': 0.5312013808470408, 'min_child_weight': 3}. Best is trial 26 with value: 3.4004849641717314.\u001b[0m\n"
          ]
        },
        {
          "output_type": "stream",
          "name": "stdout",
          "text": [
            "Currently running with:\n",
            "{'n_estimators': 601, 'max_depth': 8, 'learning_rate': 0.009406907270773165, 'subsample ': 0.7000000000000001, 'colsample_bytree': 0.7000000000000001, 'gamma': 0.6462704284154067, 'min_child_weight': 15}\n"
          ]
        },
        {
          "output_type": "stream",
          "name": "stderr",
          "text": [
            "\u001b[32m[I 2022-09-30 06:52:36,459]\u001b[0m Trial 36 finished with value: 3.491283310432481 and parameters: {'n_estimators': 601, 'max_depth': 8, 'learning_rate': 0.009406907270773165, 'subsample': 0.7000000000000001, 'colsample_bytree': 0.7000000000000001, 'gamma': 0.6462704284154067, 'min_child_weight': 15}. Best is trial 26 with value: 3.4004849641717314.\u001b[0m\n"
          ]
        },
        {
          "output_type": "stream",
          "name": "stdout",
          "text": [
            "Currently running with:\n",
            "{'n_estimators': 901, 'max_depth': 10, 'learning_rate': 0.005452133100357476, 'subsample ': 0.8, 'colsample_bytree': 0.8, 'gamma': 0.7543057477891939, 'min_child_weight': 9}\n"
          ]
        },
        {
          "output_type": "stream",
          "name": "stderr",
          "text": [
            "\u001b[32m[I 2022-09-30 06:53:59,132]\u001b[0m Trial 37 finished with value: 3.410786429547889 and parameters: {'n_estimators': 901, 'max_depth': 10, 'learning_rate': 0.005452133100357476, 'subsample': 0.8, 'colsample_bytree': 0.8, 'gamma': 0.7543057477891939, 'min_child_weight': 9}. Best is trial 26 with value: 3.4004849641717314.\u001b[0m\n"
          ]
        },
        {
          "output_type": "stream",
          "name": "stdout",
          "text": [
            "Currently running with:\n",
            "{'n_estimators': 951, 'max_depth': 10, 'learning_rate': 0.004717815380092055, 'subsample ': 0.9, 'colsample_bytree': 0.9, 'gamma': 0.05328253995470089, 'min_child_weight': 5}\n"
          ]
        },
        {
          "output_type": "stream",
          "name": "stderr",
          "text": [
            "\u001b[32m[I 2022-09-30 06:55:32,132]\u001b[0m Trial 38 finished with value: 3.370007822710127 and parameters: {'n_estimators': 951, 'max_depth': 10, 'learning_rate': 0.004717815380092055, 'subsample': 0.9, 'colsample_bytree': 0.9, 'gamma': 0.05328253995470089, 'min_child_weight': 5}. Best is trial 38 with value: 3.370007822710127.\u001b[0m\n"
          ]
        },
        {
          "output_type": "stream",
          "name": "stdout",
          "text": [
            "Currently running with:\n",
            "{'n_estimators': 951, 'max_depth': 10, 'learning_rate': 0.0010480285112053228, 'subsample ': 0.9, 'colsample_bytree': 1.0, 'gamma': 0.05015626530740925, 'min_child_weight': 5}\n"
          ]
        },
        {
          "output_type": "stream",
          "name": "stderr",
          "text": [
            "\u001b[32m[I 2022-09-30 06:57:14,830]\u001b[0m Trial 39 finished with value: 3.826962011818908 and parameters: {'n_estimators': 951, 'max_depth': 10, 'learning_rate': 0.0010480285112053228, 'subsample': 0.9, 'colsample_bytree': 1.0, 'gamma': 0.05015626530740925, 'min_child_weight': 5}. Best is trial 38 with value: 3.370007822710127.\u001b[0m\n"
          ]
        },
        {
          "output_type": "stream",
          "name": "stdout",
          "text": [
            "Currently running with:\n",
            "{'n_estimators': 1001, 'max_depth': 9, 'learning_rate': 0.004290351595280127, 'subsample ': 0.9, 'colsample_bytree': 0.7000000000000001, 'gamma': 0.14362872442526517, 'min_child_weight': 1}\n"
          ]
        },
        {
          "output_type": "stream",
          "name": "stderr",
          "text": [
            "\u001b[32m[I 2022-09-30 06:58:33,102]\u001b[0m Trial 40 finished with value: 3.3970929074212726 and parameters: {'n_estimators': 1001, 'max_depth': 9, 'learning_rate': 0.004290351595280127, 'subsample': 0.9, 'colsample_bytree': 0.7000000000000001, 'gamma': 0.14362872442526517, 'min_child_weight': 1}. Best is trial 38 with value: 3.370007822710127.\u001b[0m\n"
          ]
        },
        {
          "output_type": "stream",
          "name": "stdout",
          "text": [
            "Currently running with:\n",
            "{'n_estimators': 1001, 'max_depth': 10, 'learning_rate': 0.004858499565063654, 'subsample ': 0.9, 'colsample_bytree': 0.7000000000000001, 'gamma': 0.17397781213984015, 'min_child_weight': 1}\n"
          ]
        },
        {
          "output_type": "stream",
          "name": "stderr",
          "text": [
            "\u001b[32m[I 2022-09-30 07:00:33,513]\u001b[0m Trial 41 finished with value: 3.3705275276013906 and parameters: {'n_estimators': 1001, 'max_depth': 10, 'learning_rate': 0.004858499565063654, 'subsample': 0.9, 'colsample_bytree': 0.7000000000000001, 'gamma': 0.17397781213984015, 'min_child_weight': 1}. Best is trial 38 with value: 3.370007822710127.\u001b[0m\n"
          ]
        },
        {
          "output_type": "stream",
          "name": "stdout",
          "text": [
            "Currently running with:\n",
            "{'n_estimators': 1001, 'max_depth': 10, 'learning_rate': 0.004110476315640756, 'subsample ': 0.9, 'colsample_bytree': 0.8, 'gamma': 0.12798176163484867, 'min_child_weight': 1}\n"
          ]
        },
        {
          "output_type": "stream",
          "name": "stderr",
          "text": [
            "\u001b[32m[I 2022-09-30 07:02:31,532]\u001b[0m Trial 42 finished with value: 3.3214255922607183 and parameters: {'n_estimators': 1001, 'max_depth': 10, 'learning_rate': 0.004110476315640756, 'subsample': 0.9, 'colsample_bytree': 0.8, 'gamma': 0.12798176163484867, 'min_child_weight': 1}. Best is trial 42 with value: 3.3214255922607183.\u001b[0m\n"
          ]
        },
        {
          "output_type": "stream",
          "name": "stdout",
          "text": [
            "Currently running with:\n",
            "{'n_estimators': 1001, 'max_depth': 9, 'learning_rate': 0.004254489850538745, 'subsample ': 1.0, 'colsample_bytree': 0.7000000000000001, 'gamma': 0.15373782087690618, 'min_child_weight': 1}\n"
          ]
        },
        {
          "output_type": "stream",
          "name": "stderr",
          "text": [
            "\u001b[32m[I 2022-09-30 07:03:49,651]\u001b[0m Trial 43 finished with value: 3.401688354436113 and parameters: {'n_estimators': 1001, 'max_depth': 9, 'learning_rate': 0.004254489850538745, 'subsample': 1.0, 'colsample_bytree': 0.7000000000000001, 'gamma': 0.15373782087690618, 'min_child_weight': 1}. Best is trial 42 with value: 3.3214255922607183.\u001b[0m\n"
          ]
        },
        {
          "output_type": "stream",
          "name": "stdout",
          "text": [
            "Currently running with:\n",
            "{'n_estimators': 1001, 'max_depth': 7, 'learning_rate': 0.0020625833582531778, 'subsample ': 0.9, 'colsample_bytree': 0.6000000000000001, 'gamma': 0.13668354460448665, 'min_child_weight': 1}\n"
          ]
        },
        {
          "output_type": "stream",
          "name": "stderr",
          "text": [
            "\u001b[32m[I 2022-09-30 07:04:27,486]\u001b[0m Trial 44 finished with value: 3.737867992864341 and parameters: {'n_estimators': 1001, 'max_depth': 7, 'learning_rate': 0.0020625833582531778, 'subsample': 0.9, 'colsample_bytree': 0.6000000000000001, 'gamma': 0.13668354460448665, 'min_child_weight': 1}. Best is trial 42 with value: 3.3214255922607183.\u001b[0m\n"
          ]
        },
        {
          "output_type": "stream",
          "name": "stdout",
          "text": [
            "Currently running with:\n",
            "{'n_estimators': 951, 'max_depth': 11, 'learning_rate': 0.0013470345041465624, 'subsample ': 0.9, 'colsample_bytree': 0.8, 'gamma': 0.0038382117057176868, 'min_child_weight': 5}\n"
          ]
        },
        {
          "output_type": "stream",
          "name": "stderr",
          "text": [
            "\u001b[32m[I 2022-09-30 07:07:12,567]\u001b[0m Trial 45 finished with value: 3.7180906502071074 and parameters: {'n_estimators': 951, 'max_depth': 11, 'learning_rate': 0.0013470345041465624, 'subsample': 0.9, 'colsample_bytree': 0.8, 'gamma': 0.0038382117057176868, 'min_child_weight': 5}. Best is trial 42 with value: 3.3214255922607183.\u001b[0m\n"
          ]
        },
        {
          "output_type": "stream",
          "name": "stdout",
          "text": [
            "Currently running with:\n",
            "{'n_estimators': 851, 'max_depth': 12, 'learning_rate': 0.00421147271951848, 'subsample ': 1.0, 'colsample_bytree': 0.8, 'gamma': 0.2045569344882266, 'min_child_weight': 5}\n"
          ]
        },
        {
          "output_type": "stream",
          "name": "stderr",
          "text": [
            "\u001b[32m[I 2022-09-30 07:10:32,018]\u001b[0m Trial 46 finished with value: 3.4013778831281023 and parameters: {'n_estimators': 851, 'max_depth': 12, 'learning_rate': 0.00421147271951848, 'subsample': 1.0, 'colsample_bytree': 0.8, 'gamma': 0.2045569344882266, 'min_child_weight': 5}. Best is trial 42 with value: 3.3214255922607183.\u001b[0m\n"
          ]
        },
        {
          "output_type": "stream",
          "name": "stdout",
          "text": [
            "Currently running with:\n",
            "{'n_estimators': 951, 'max_depth': 9, 'learning_rate': 0.0023219789715662083, 'subsample ': 0.9, 'colsample_bytree': 0.7000000000000001, 'gamma': 0.2906147456166731, 'min_child_weight': 3}\n"
          ]
        },
        {
          "output_type": "stream",
          "name": "stderr",
          "text": [
            "\u001b[32m[I 2022-09-30 07:11:45,289]\u001b[0m Trial 47 finished with value: 3.544604342579221 and parameters: {'n_estimators': 951, 'max_depth': 9, 'learning_rate': 0.0023219789715662083, 'subsample': 0.9, 'colsample_bytree': 0.7000000000000001, 'gamma': 0.2906147456166731, 'min_child_weight': 3}. Best is trial 42 with value: 3.3214255922607183.\u001b[0m\n"
          ]
        },
        {
          "output_type": "stream",
          "name": "stdout",
          "text": [
            "Currently running with:\n",
            "{'n_estimators': 1001, 'max_depth': 7, 'learning_rate': 0.003228687011848442, 'subsample ': 1.0, 'colsample_bytree': 0.9, 'gamma': 0.07157263807679537, 'min_child_weight': 1}\n"
          ]
        },
        {
          "output_type": "stream",
          "name": "stderr",
          "text": [
            "\u001b[32m[I 2022-09-30 07:12:23,060]\u001b[0m Trial 48 finished with value: 3.386170700499368 and parameters: {'n_estimators': 1001, 'max_depth': 7, 'learning_rate': 0.003228687011848442, 'subsample': 1.0, 'colsample_bytree': 0.9, 'gamma': 0.07157263807679537, 'min_child_weight': 1}. Best is trial 42 with value: 3.3214255922607183.\u001b[0m\n"
          ]
        },
        {
          "output_type": "stream",
          "name": "stdout",
          "text": [
            "Currently running with:\n",
            "{'n_estimators': 1001, 'max_depth': 7, 'learning_rate': 0.0015442507231669593, 'subsample ': 1.0, 'colsample_bytree': 0.9, 'gamma': 0.08395599063040049, 'min_child_weight': 1}\n"
          ]
        },
        {
          "output_type": "stream",
          "name": "stderr",
          "text": [
            "\u001b[32m[I 2022-09-30 07:13:00,769]\u001b[0m Trial 49 finished with value: 3.6619988574252704 and parameters: {'n_estimators': 1001, 'max_depth': 7, 'learning_rate': 0.0015442507231669593, 'subsample': 1.0, 'colsample_bytree': 0.9, 'gamma': 0.08395599063040049, 'min_child_weight': 1}. Best is trial 42 with value: 3.3214255922607183.\u001b[0m\n"
          ]
        },
        {
          "output_type": "stream",
          "name": "stdout",
          "text": [
            "Final best parameters:\n"
          ]
        },
        {
          "output_type": "execute_result",
          "data": {
            "text/plain": [
              "{'n_estimators': 1001,\n",
              " 'max_depth': 10,\n",
              " 'learning_rate': 0.004110476315640756,\n",
              " 'subsample': 0.9,\n",
              " 'colsample_bytree': 0.8,\n",
              " 'gamma': 0.12798176163484867,\n",
              " 'min_child_weight': 1}"
            ]
          },
          "metadata": {},
          "execution_count": 8
        }
      ]
    },
    {
      "cell_type": "code",
      "source": [
        "best_params = study.best_params.copy()\n",
        "\n",
        "model = xgb.XGBRegressor(objective=\"reg:squarederror\",\n",
        "                          n_jobs=-1,\n",
        "                          grow_policy='lossguide',\n",
        "                          tree_method=\"gpu_hist\",\n",
        "                          predictor=\"gpu_predictor\",\n",
        "                          booster='gbtree',\n",
        "                          sampling_method='gradient_based',\n",
        "                          eval_metrics=['rmse'],\n",
        "                          random_state=RANDOM_SEED,\n",
        "                          enable_categorical=False,\n",
        "                          **best_params)\n",
        "pipe = make_pipeline(SimpleImputer(), StandardScaler(), model)\n",
        "pipe.fit(X_train, y_train)"
      ],
      "metadata": {
        "id": "9BCwlu6b6FcI",
        "colab": {
          "base_uri": "https://localhost:8080/"
        },
        "outputId": "9e453cf8-0796-4e88-a095-9f413eb1e807"
      },
      "execution_count": 12,
      "outputs": [
        {
          "output_type": "execute_result",
          "data": {
            "text/plain": [
              "Pipeline(steps=[('simpleimputer', SimpleImputer()),\n",
              "                ('standardscaler', StandardScaler()),\n",
              "                ('xgbregressor',\n",
              "                 XGBRegressor(colsample_bytree=0.8, enable_categorical=False,\n",
              "                              eval_metrics=['rmse'], gamma=0.12798176163484867,\n",
              "                              grow_policy='lossguide',\n",
              "                              learning_rate=0.004110476315640756, max_depth=10,\n",
              "                              n_estimators=1001, n_jobs=-1,\n",
              "                              objective='reg:squarederror',\n",
              "                              predictor='gpu_predictor', random_state=2,\n",
              "                              sampling_method='gradient_based', subsample=0.9,\n",
              "                              tree_method='gpu_hist'))])"
            ]
          },
          "metadata": {},
          "execution_count": 12
        }
      ]
    },
    {
      "cell_type": "code",
      "source": [
        "train_pred = pipe.predict(X_train)\n",
        "test_pred = pipe.predict(X_test)\n",
        "print(f\"train results - RMSE: {mean_squared_error(y_train, train_pred, squared=False)}, MAE: {mean_absolute_error(y_train, train_pred)}\")\n",
        "print(f\"test results - RMSE: {mean_squared_error(y_test, test_pred, squared=False)}, MAE: {mean_absolute_error(y_test, test_pred)}\")"
      ],
      "metadata": {
        "colab": {
          "base_uri": "https://localhost:8080/"
        },
        "id": "HyhJfxEPa44L",
        "outputId": "1e1bb6da-d129-43e6-a5ea-0943716da9c3"
      },
      "execution_count": 13,
      "outputs": [
        {
          "output_type": "stream",
          "name": "stdout",
          "text": [
            "train results - RMSE: 2.2427276327197547, MAE: 1.1850129781585932\n",
            "test results - RMSE: 3.1378709233663677, MAE: 1.2826775820058585\n"
          ]
        }
      ]
    },
    {
      "cell_type": "code",
      "source": [
        "mean_train = np.mean(y_train)\n",
        "print(f\"Baseline mean model - test RMSE: {np.sqrt(np.mean((y_test - mean_train)**2))}\")\n",
        "print(f\"Baseline mean model - test MAE: {np.mean(np.abs(y_test - mean_train))}\")"
      ],
      "metadata": {
        "id": "tQFXGvewRYIY",
        "colab": {
          "base_uri": "https://localhost:8080/"
        },
        "outputId": "d140835a-464e-4335-dbae-0434b06688a8"
      },
      "execution_count": 11,
      "outputs": [
        {
          "output_type": "stream",
          "name": "stdout",
          "text": [
            "Baseline mean model - test RMSE: 4.1185891526597125\n",
            "Baseline mean model - test MAE: 1.8970029502499997\n",
            "Baseline mean model - test RMSE: 4.1185891526597125\n",
            "Baseline mean model - test MAE: 1.8970029502499997\n"
          ]
        }
      ]
    }
  ],
  "metadata": {
    "accelerator": "GPU",
    "colab": {
      "collapsed_sections": [],
      "provenance": []
    },
    "gpuClass": "standard",
    "kernelspec": {
      "display_name": "Python 3",
      "name": "python3"
    },
    "language_info": {
      "name": "python"
    }
  },
  "nbformat": 4,
  "nbformat_minor": 0
}