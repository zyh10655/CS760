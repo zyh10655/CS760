{
 "cells": [
  {
   "cell_type": "markdown",
   "id": "fdcddc95-d31d-4079-a9aa-3f924212b4ab",
   "metadata": {},
   "source": [
    "## Random Forest with 3-fold CV, StandardScaler and optuna on dataset4.0\n",
    "dataset: 11 features,  subsampled dataset with 11+7 new features\n",
    "\n",
    "20220930"
   ]
  },
  {
   "cell_type": "code",
   "execution_count": 1,
   "id": "0826e80d-7f30-4333-9ec7-3a9545ac6be5",
   "metadata": {},
   "outputs": [],
   "source": [
    "import pandas as pd\n",
    "import numpy as np\n",
    "from numpy import random\n",
    "from sklearn.metrics import mean_absolute_error\n",
    "from sklearn.metrics import mean_squared_error\n",
    "from sklearn.pipeline import Pipeline\n",
    "from sklearn.preprocessing import StandardScaler\n",
    "from sklearn.ensemble import RandomForestRegressor\n",
    "import optuna as opt\n",
    "import warnings\n",
    "warnings.filterwarnings(\"ignore\")\n",
    "import time\n",
    "from sklearn.model_selection import cross_val_score\n",
    "from sklearn.impute import SimpleImputer"
   ]
  },
  {
   "cell_type": "code",
   "execution_count": 2,
   "id": "3302675e-cc4d-46da-bbba-ae50c0aa323f",
   "metadata": {},
   "outputs": [],
   "source": [
    "#import data\n",
    "train_df = pd.read_parquet(\"train_main.parquet.snappy\")\n",
    "test_df = pd.read_parquet(\"test_main.parquet.snappy\")"
   ]
  },
  {
   "cell_type": "code",
   "execution_count": 3,
   "id": "08660d8b-de51-4221-be50-cbd60412b5b1",
   "metadata": {},
   "outputs": [],
   "source": [
    "X_train = train_df.drop(['r_id','r_useful'],axis=1)\n",
    "y_train = train_df['r_useful']\n",
    "X_test = test_df.drop(['r_id','r_useful'],axis=1)\n",
    "y_test = test_df['r_useful']"
   ]
  },
  {
   "cell_type": "code",
   "execution_count": 4,
   "id": "2c8c3d1b-b154-4cfa-a83d-0671ff694558",
   "metadata": {},
   "outputs": [],
   "source": [
    "def objective(trial):\n",
    "    start = time.time()\n",
    "    params = {\n",
    "        \"n_estimators\": trial.suggest_int('n_estimators', 1, 500, 50),\n",
    "        \"max_depth\": trial.suggest_int('max_depth', 1, 500, 50),\n",
    "        \"min_samples_split\": trial.suggest_int('min_samples_split', 2, 20),\n",
    "        \"max_features\" : trial.suggest_categorical(\"max_features\", ['sqrt', 'log2']),\n",
    "        \"min_samples_leaf\": trial.suggest_int('min_samples_leaf', 1, 20), \n",
    "        \"random_state\": 760, \n",
    "        \"n_jobs\": -1\n",
    "    }\n",
    "    print(\"Currently running with:\")\n",
    "    print(params)\n",
    "    \n",
    "    pipe = Pipeline([('imputer', SimpleImputer()), ('scaler', StandardScaler()), ('rf', RandomForestRegressor(**params))])\n",
    "    \n",
    "    # model.fit(X_train, y_train)\n",
    "    cvscore = np.sqrt(-np.mean(cross_val_score(pipe, X_train, y_train, scoring = \"neg_mean_squared_error\", cv=3)))\n",
    "    # y_pred = model.predict(X_val)\n",
    "    print(\"Time cost:\", time.time()-start)\n",
    "    # return mean_squared_error(y_val, y_pred, squared=False)\n",
    "    return cvscore"
   ]
  },
  {
   "cell_type": "code",
   "execution_count": 5,
   "id": "a277fbca-e232-45a9-9b60-aa13754d5d13",
   "metadata": {},
   "outputs": [
    {
     "name": "stderr",
     "output_type": "stream",
     "text": [
      "\u001b[32m[I 2022-09-30 17:17:32,377]\u001b[0m A new study created in memory with name: no-name-e7a48934-695e-49a5-a64f-4fe6708e695c\u001b[0m\n"
     ]
    },
    {
     "name": "stdout",
     "output_type": "stream",
     "text": [
      "Currently running with:\n",
      "{'n_estimators': 151, 'max_depth': 1, 'min_samples_split': 20, 'max_features': 'sqrt', 'min_samples_leaf': 15, 'random_state': 760, 'n_jobs': -1}\n"
     ]
    },
    {
     "name": "stderr",
     "output_type": "stream",
     "text": [
      "\u001b[32m[I 2022-09-30 17:17:37,672]\u001b[0m Trial 0 finished with value: 4.3887554965048725 and parameters: {'n_estimators': 151, 'max_depth': 1, 'min_samples_split': 20, 'max_features': 'sqrt', 'min_samples_leaf': 15}. Best is trial 0 with value: 4.3887554965048725.\u001b[0m\n"
     ]
    },
    {
     "name": "stdout",
     "output_type": "stream",
     "text": [
      "Time cost: 5.291033506393433\n",
      "Currently running with:\n",
      "{'n_estimators': 51, 'max_depth': 401, 'min_samples_split': 17, 'max_features': 'log2', 'min_samples_leaf': 2, 'random_state': 760, 'n_jobs': -1}\n"
     ]
    },
    {
     "name": "stderr",
     "output_type": "stream",
     "text": [
      "\u001b[32m[I 2022-09-30 17:17:57,670]\u001b[0m Trial 1 finished with value: 3.640257007526359 and parameters: {'n_estimators': 51, 'max_depth': 401, 'min_samples_split': 17, 'max_features': 'log2', 'min_samples_leaf': 2}. Best is trial 1 with value: 3.640257007526359.\u001b[0m\n"
     ]
    },
    {
     "name": "stdout",
     "output_type": "stream",
     "text": [
      "Time cost: 19.997899055480957\n",
      "Currently running with:\n",
      "{'n_estimators': 151, 'max_depth': 351, 'min_samples_split': 6, 'max_features': 'sqrt', 'min_samples_leaf': 20, 'random_state': 760, 'n_jobs': -1}\n"
     ]
    },
    {
     "name": "stderr",
     "output_type": "stream",
     "text": [
      "\u001b[32m[I 2022-09-30 17:18:57,267]\u001b[0m Trial 2 finished with value: 3.7912822780104105 and parameters: {'n_estimators': 151, 'max_depth': 351, 'min_samples_split': 6, 'max_features': 'sqrt', 'min_samples_leaf': 20}. Best is trial 1 with value: 3.640257007526359.\u001b[0m\n"
     ]
    },
    {
     "name": "stdout",
     "output_type": "stream",
     "text": [
      "Time cost: 59.59423089027405\n",
      "Currently running with:\n",
      "{'n_estimators': 51, 'max_depth': 151, 'min_samples_split': 17, 'max_features': 'sqrt', 'min_samples_leaf': 10, 'random_state': 760, 'n_jobs': -1}\n"
     ]
    },
    {
     "name": "stderr",
     "output_type": "stream",
     "text": [
      "\u001b[32m[I 2022-09-30 17:19:19,241]\u001b[0m Trial 3 finished with value: 3.7384653697731633 and parameters: {'n_estimators': 51, 'max_depth': 151, 'min_samples_split': 17, 'max_features': 'sqrt', 'min_samples_leaf': 10}. Best is trial 1 with value: 3.640257007526359.\u001b[0m\n"
     ]
    },
    {
     "name": "stdout",
     "output_type": "stream",
     "text": [
      "Time cost: 21.973971128463745\n",
      "Currently running with:\n",
      "{'n_estimators': 151, 'max_depth': 401, 'min_samples_split': 9, 'max_features': 'log2', 'min_samples_leaf': 17, 'random_state': 760, 'n_jobs': -1}\n"
     ]
    },
    {
     "name": "stderr",
     "output_type": "stream",
     "text": [
      "\u001b[32m[I 2022-09-30 17:20:16,884]\u001b[0m Trial 4 finished with value: 3.7789115868413616 and parameters: {'n_estimators': 151, 'max_depth': 401, 'min_samples_split': 9, 'max_features': 'log2', 'min_samples_leaf': 17}. Best is trial 1 with value: 3.640257007526359.\u001b[0m\n"
     ]
    },
    {
     "name": "stdout",
     "output_type": "stream",
     "text": [
      "Time cost: 57.6410129070282\n",
      "Currently running with:\n",
      "{'n_estimators': 51, 'max_depth': 1, 'min_samples_split': 20, 'max_features': 'sqrt', 'min_samples_leaf': 19, 'random_state': 760, 'n_jobs': -1}\n"
     ]
    },
    {
     "name": "stderr",
     "output_type": "stream",
     "text": [
      "\u001b[32m[I 2022-09-30 17:20:19,936]\u001b[0m Trial 5 finished with value: 4.380695456781327 and parameters: {'n_estimators': 51, 'max_depth': 1, 'min_samples_split': 20, 'max_features': 'sqrt', 'min_samples_leaf': 19}. Best is trial 1 with value: 3.640257007526359.\u001b[0m\n"
     ]
    },
    {
     "name": "stdout",
     "output_type": "stream",
     "text": [
      "Time cost: 3.051701545715332\n",
      "Currently running with:\n",
      "{'n_estimators': 51, 'max_depth': 451, 'min_samples_split': 4, 'max_features': 'log2', 'min_samples_leaf': 1, 'random_state': 760, 'n_jobs': -1}\n"
     ]
    },
    {
     "name": "stderr",
     "output_type": "stream",
     "text": [
      "\u001b[32m[I 2022-09-30 17:20:48,808]\u001b[0m Trial 6 finished with value: 3.5619498962636627 and parameters: {'n_estimators': 51, 'max_depth': 451, 'min_samples_split': 4, 'max_features': 'log2', 'min_samples_leaf': 1}. Best is trial 6 with value: 3.5619498962636627.\u001b[0m\n"
     ]
    },
    {
     "name": "stdout",
     "output_type": "stream",
     "text": [
      "Time cost: 28.871169328689575\n",
      "Currently running with:\n",
      "{'n_estimators': 151, 'max_depth': 401, 'min_samples_split': 17, 'max_features': 'sqrt', 'min_samples_leaf': 1, 'random_state': 760, 'n_jobs': -1}\n"
     ]
    },
    {
     "name": "stderr",
     "output_type": "stream",
     "text": [
      "\u001b[32m[I 2022-09-30 17:21:55,876]\u001b[0m Trial 7 finished with value: 3.635339055535706 and parameters: {'n_estimators': 151, 'max_depth': 401, 'min_samples_split': 17, 'max_features': 'sqrt', 'min_samples_leaf': 1}. Best is trial 6 with value: 3.5619498962636627.\u001b[0m\n"
     ]
    },
    {
     "name": "stdout",
     "output_type": "stream",
     "text": [
      "Time cost: 67.066903591156\n",
      "Currently running with:\n",
      "{'n_estimators': 151, 'max_depth': 201, 'min_samples_split': 20, 'max_features': 'log2', 'min_samples_leaf': 17, 'random_state': 760, 'n_jobs': -1}\n"
     ]
    },
    {
     "name": "stderr",
     "output_type": "stream",
     "text": [
      "\u001b[32m[I 2022-09-30 17:22:51,643]\u001b[0m Trial 8 finished with value: 3.7789115868413616 and parameters: {'n_estimators': 151, 'max_depth': 201, 'min_samples_split': 20, 'max_features': 'log2', 'min_samples_leaf': 17}. Best is trial 6 with value: 3.5619498962636627.\u001b[0m\n"
     ]
    },
    {
     "name": "stdout",
     "output_type": "stream",
     "text": [
      "Time cost: 55.76619076728821\n",
      "Currently running with:\n",
      "{'n_estimators': 401, 'max_depth': 351, 'min_samples_split': 16, 'max_features': 'sqrt', 'min_samples_leaf': 6, 'random_state': 760, 'n_jobs': -1}\n"
     ]
    },
    {
     "name": "stderr",
     "output_type": "stream",
     "text": [
      "\u001b[32m[I 2022-09-30 17:25:28,840]\u001b[0m Trial 9 finished with value: 3.693135128351646 and parameters: {'n_estimators': 401, 'max_depth': 351, 'min_samples_split': 16, 'max_features': 'sqrt', 'min_samples_leaf': 6}. Best is trial 6 with value: 3.5619498962636627.\u001b[0m\n"
     ]
    },
    {
     "name": "stdout",
     "output_type": "stream",
     "text": [
      "Time cost: 157.1973259449005\n",
      "Currently running with:\n",
      "{'n_estimators': 301, 'max_depth': 251, 'min_samples_split': 2, 'max_features': 'log2', 'min_samples_leaf': 7, 'random_state': 760, 'n_jobs': -1}\n"
     ]
    },
    {
     "name": "stderr",
     "output_type": "stream",
     "text": [
      "\u001b[32m[I 2022-09-30 17:27:28,302]\u001b[0m Trial 10 finished with value: 3.7009596728596614 and parameters: {'n_estimators': 301, 'max_depth': 251, 'min_samples_split': 2, 'max_features': 'log2', 'min_samples_leaf': 7}. Best is trial 6 with value: 3.5619498962636627.\u001b[0m\n"
     ]
    },
    {
     "name": "stdout",
     "output_type": "stream",
     "text": [
      "Time cost: 119.46035885810852\n",
      "Currently running with:\n",
      "{'n_estimators': 1, 'max_depth': 451, 'min_samples_split': 12, 'max_features': 'log2', 'min_samples_leaf': 1, 'random_state': 760, 'n_jobs': -1}\n"
     ]
    },
    {
     "name": "stderr",
     "output_type": "stream",
     "text": [
      "\u001b[32m[I 2022-09-30 17:27:31,767]\u001b[0m Trial 11 finished with value: 4.603967778020403 and parameters: {'n_estimators': 1, 'max_depth': 451, 'min_samples_split': 12, 'max_features': 'log2', 'min_samples_leaf': 1}. Best is trial 6 with value: 3.5619498962636627.\u001b[0m\n"
     ]
    },
    {
     "name": "stdout",
     "output_type": "stream",
     "text": [
      "Time cost: 3.4643654823303223\n",
      "Currently running with:\n",
      "{'n_estimators': 251, 'max_depth': 451, 'min_samples_split': 2, 'max_features': 'sqrt', 'min_samples_leaf': 4, 'random_state': 760, 'n_jobs': -1}\n"
     ]
    },
    {
     "name": "stderr",
     "output_type": "stream",
     "text": [
      "\u001b[32m[I 2022-09-30 17:29:17,457]\u001b[0m Trial 12 finished with value: 3.65638269162474 and parameters: {'n_estimators': 251, 'max_depth': 451, 'min_samples_split': 2, 'max_features': 'sqrt', 'min_samples_leaf': 4}. Best is trial 6 with value: 3.5619498962636627.\u001b[0m\n"
     ]
    },
    {
     "name": "stdout",
     "output_type": "stream",
     "text": [
      "Time cost: 105.6882598400116\n",
      "Currently running with:\n",
      "{'n_estimators': 251, 'max_depth': 301, 'min_samples_split': 13, 'max_features': 'log2', 'min_samples_leaf': 10, 'random_state': 760, 'n_jobs': -1}\n"
     ]
    },
    {
     "name": "stderr",
     "output_type": "stream",
     "text": [
      "\u001b[32m[I 2022-09-30 17:30:52,459]\u001b[0m Trial 13 finished with value: 3.729428353358576 and parameters: {'n_estimators': 251, 'max_depth': 301, 'min_samples_split': 13, 'max_features': 'log2', 'min_samples_leaf': 10}. Best is trial 6 with value: 3.5619498962636627.\u001b[0m\n"
     ]
    },
    {
     "name": "stdout",
     "output_type": "stream",
     "text": [
      "Time cost: 94.99983501434326\n",
      "Currently running with:\n",
      "{'n_estimators': 101, 'max_depth': 101, 'min_samples_split': 7, 'max_features': 'log2', 'min_samples_leaf': 4, 'random_state': 760, 'n_jobs': -1}\n"
     ]
    },
    {
     "name": "stderr",
     "output_type": "stream",
     "text": [
      "\u001b[32m[I 2022-09-30 17:31:36,994]\u001b[0m Trial 14 finished with value: 3.667894882853864 and parameters: {'n_estimators': 101, 'max_depth': 101, 'min_samples_split': 7, 'max_features': 'log2', 'min_samples_leaf': 4}. Best is trial 6 with value: 3.5619498962636627.\u001b[0m\n"
     ]
    },
    {
     "name": "stdout",
     "output_type": "stream",
     "text": [
      "Time cost: 44.5343177318573\n",
      "Currently running with:\n",
      "{'n_estimators': 1, 'max_depth': 301, 'min_samples_split': 5, 'max_features': 'sqrt', 'min_samples_leaf': 1, 'random_state': 760, 'n_jobs': -1}\n"
     ]
    },
    {
     "name": "stderr",
     "output_type": "stream",
     "text": [
      "\u001b[32m[I 2022-09-30 17:31:40,671]\u001b[0m Trial 15 finished with value: 4.791932890075713 and parameters: {'n_estimators': 1, 'max_depth': 301, 'min_samples_split': 5, 'max_features': 'sqrt', 'min_samples_leaf': 1}. Best is trial 6 with value: 3.5619498962636627.\u001b[0m\n"
     ]
    },
    {
     "name": "stdout",
     "output_type": "stream",
     "text": [
      "Time cost: 3.675612211227417\n",
      "Currently running with:\n",
      "{'n_estimators': 351, 'max_depth': 451, 'min_samples_split': 14, 'max_features': 'sqrt', 'min_samples_leaf': 7, 'random_state': 760, 'n_jobs': -1}\n"
     ]
    },
    {
     "name": "stderr",
     "output_type": "stream",
     "text": [
      "\u001b[32m[I 2022-09-30 17:33:58,855]\u001b[0m Trial 16 finished with value: 3.701209178421419 and parameters: {'n_estimators': 351, 'max_depth': 451, 'min_samples_split': 14, 'max_features': 'sqrt', 'min_samples_leaf': 7}. Best is trial 6 with value: 3.5619498962636627.\u001b[0m\n"
     ]
    },
    {
     "name": "stdout",
     "output_type": "stream",
     "text": [
      "Time cost: 138.1835606098175\n",
      "Currently running with:\n",
      "{'n_estimators': 201, 'max_depth': 351, 'min_samples_split': 10, 'max_features': 'log2', 'min_samples_leaf': 3, 'random_state': 760, 'n_jobs': -1}\n"
     ]
    },
    {
     "name": "stderr",
     "output_type": "stream",
     "text": [
      "\u001b[32m[I 2022-09-30 17:35:23,700]\u001b[0m Trial 17 finished with value: 3.6388214896226647 and parameters: {'n_estimators': 201, 'max_depth': 351, 'min_samples_split': 10, 'max_features': 'log2', 'min_samples_leaf': 3}. Best is trial 6 with value: 3.5619498962636627.\u001b[0m\n"
     ]
    },
    {
     "name": "stdout",
     "output_type": "stream",
     "text": [
      "Time cost: 84.84266376495361\n",
      "Currently running with:\n",
      "{'n_estimators': 101, 'max_depth': 401, 'min_samples_split': 4, 'max_features': 'sqrt', 'min_samples_leaf': 13, 'random_state': 760, 'n_jobs': -1}\n"
     ]
    },
    {
     "name": "stderr",
     "output_type": "stream",
     "text": [
      "\u001b[32m[I 2022-09-30 17:36:01,885]\u001b[0m Trial 18 finished with value: 3.75580502800491 and parameters: {'n_estimators': 101, 'max_depth': 401, 'min_samples_split': 4, 'max_features': 'sqrt', 'min_samples_leaf': 13}. Best is trial 6 with value: 3.5619498962636627.\u001b[0m\n"
     ]
    },
    {
     "name": "stdout",
     "output_type": "stream",
     "text": [
      "Time cost: 38.18272089958191\n",
      "Currently running with:\n",
      "{'n_estimators': 451, 'max_depth': 251, 'min_samples_split': 8, 'max_features': 'log2', 'min_samples_leaf': 5, 'random_state': 760, 'n_jobs': -1}\n"
     ]
    },
    {
     "name": "stderr",
     "output_type": "stream",
     "text": [
      "\u001b[32m[I 2022-09-30 17:39:06,760]\u001b[0m Trial 19 finished with value: 3.6703863048684084 and parameters: {'n_estimators': 451, 'max_depth': 251, 'min_samples_split': 8, 'max_features': 'log2', 'min_samples_leaf': 5}. Best is trial 6 with value: 3.5619498962636627.\u001b[0m\n"
     ]
    },
    {
     "name": "stdout",
     "output_type": "stream",
     "text": [
      "Time cost: 184.87398719787598\n",
      "Currently running with:\n",
      "{'n_estimators': 201, 'max_depth': 301, 'min_samples_split': 15, 'max_features': 'log2', 'min_samples_leaf': 8, 'random_state': 760, 'n_jobs': -1}\n"
     ]
    },
    {
     "name": "stderr",
     "output_type": "stream",
     "text": [
      "\u001b[32m[I 2022-09-30 17:40:25,043]\u001b[0m Trial 20 finished with value: 3.715335234170097 and parameters: {'n_estimators': 201, 'max_depth': 301, 'min_samples_split': 15, 'max_features': 'log2', 'min_samples_leaf': 8}. Best is trial 6 with value: 3.5619498962636627.\u001b[0m\n"
     ]
    },
    {
     "name": "stdout",
     "output_type": "stream",
     "text": [
      "Time cost: 78.2827250957489\n",
      "Currently running with:\n",
      "{'n_estimators': 201, 'max_depth': 351, 'min_samples_split': 10, 'max_features': 'log2', 'min_samples_leaf': 3, 'random_state': 760, 'n_jobs': -1}\n"
     ]
    },
    {
     "name": "stderr",
     "output_type": "stream",
     "text": [
      "\u001b[32m[I 2022-09-30 17:41:49,867]\u001b[0m Trial 21 finished with value: 3.6388214896226647 and parameters: {'n_estimators': 201, 'max_depth': 351, 'min_samples_split': 10, 'max_features': 'log2', 'min_samples_leaf': 3}. Best is trial 6 with value: 3.5619498962636627.\u001b[0m\n"
     ]
    },
    {
     "name": "stdout",
     "output_type": "stream",
     "text": [
      "Time cost: 84.82232213020325\n",
      "Currently running with:\n",
      "{'n_estimators': 101, 'max_depth': 401, 'min_samples_split': 11, 'max_features': 'log2', 'min_samples_leaf': 1, 'random_state': 760, 'n_jobs': -1}\n"
     ]
    },
    {
     "name": "stderr",
     "output_type": "stream",
     "text": [
      "\u001b[32m[I 2022-09-30 17:42:35,543]\u001b[0m Trial 22 finished with value: 3.625478474049642 and parameters: {'n_estimators': 101, 'max_depth': 401, 'min_samples_split': 11, 'max_features': 'log2', 'min_samples_leaf': 1}. Best is trial 6 with value: 3.5619498962636627.\u001b[0m\n"
     ]
    },
    {
     "name": "stdout",
     "output_type": "stream",
     "text": [
      "Time cost: 45.674355030059814\n",
      "Currently running with:\n",
      "{'n_estimators': 101, 'max_depth': 451, 'min_samples_split': 11, 'max_features': 'log2', 'min_samples_leaf': 1, 'random_state': 760, 'n_jobs': -1}\n"
     ]
    },
    {
     "name": "stderr",
     "output_type": "stream",
     "text": [
      "\u001b[32m[I 2022-09-30 17:43:21,465]\u001b[0m Trial 23 finished with value: 3.625478474049642 and parameters: {'n_estimators': 101, 'max_depth': 451, 'min_samples_split': 11, 'max_features': 'log2', 'min_samples_leaf': 1}. Best is trial 6 with value: 3.5619498962636627.\u001b[0m\n"
     ]
    },
    {
     "name": "stdout",
     "output_type": "stream",
     "text": [
      "Time cost: 45.92189645767212\n",
      "Currently running with:\n",
      "{'n_estimators': 101, 'max_depth': 451, 'min_samples_split': 11, 'max_features': 'log2', 'min_samples_leaf': 3, 'random_state': 760, 'n_jobs': -1}\n"
     ]
    },
    {
     "name": "stderr",
     "output_type": "stream",
     "text": [
      "\u001b[32m[I 2022-09-30 17:44:05,788]\u001b[0m Trial 24 finished with value: 3.6529873117159344 and parameters: {'n_estimators': 101, 'max_depth': 451, 'min_samples_split': 11, 'max_features': 'log2', 'min_samples_leaf': 3}. Best is trial 6 with value: 3.5619498962636627.\u001b[0m\n"
     ]
    },
    {
     "name": "stdout",
     "output_type": "stream",
     "text": [
      "Time cost: 44.322327852249146\n",
      "Currently running with:\n",
      "{'n_estimators': 1, 'max_depth': 451, 'min_samples_split': 4, 'max_features': 'log2', 'min_samples_leaf': 1, 'random_state': 760, 'n_jobs': -1}\n"
     ]
    },
    {
     "name": "stderr",
     "output_type": "stream",
     "text": [
      "\u001b[32m[I 2022-09-30 17:44:09,351]\u001b[0m Trial 25 finished with value: 4.812482434144907 and parameters: {'n_estimators': 1, 'max_depth': 451, 'min_samples_split': 4, 'max_features': 'log2', 'min_samples_leaf': 1}. Best is trial 6 with value: 3.5619498962636627.\u001b[0m\n"
     ]
    },
    {
     "name": "stdout",
     "output_type": "stream",
     "text": [
      "Time cost: 3.5613346099853516\n",
      "Currently running with:\n",
      "{'n_estimators': 51, 'max_depth': 401, 'min_samples_split': 12, 'max_features': 'log2', 'min_samples_leaf': 5, 'random_state': 760, 'n_jobs': -1}\n"
     ]
    },
    {
     "name": "stderr",
     "output_type": "stream",
     "text": [
      "\u001b[32m[I 2022-09-30 17:44:31,863]\u001b[0m Trial 26 finished with value: 3.6863727596720657 and parameters: {'n_estimators': 51, 'max_depth': 401, 'min_samples_split': 12, 'max_features': 'log2', 'min_samples_leaf': 5}. Best is trial 6 with value: 3.5619498962636627.\u001b[0m\n"
     ]
    },
    {
     "name": "stdout",
     "output_type": "stream",
     "text": [
      "Time cost: 22.511359930038452\n",
      "Currently running with:\n",
      "{'n_estimators': 101, 'max_depth': 451, 'min_samples_split': 8, 'max_features': 'log2', 'min_samples_leaf': 12, 'random_state': 760, 'n_jobs': -1}\n"
     ]
    },
    {
     "name": "stderr",
     "output_type": "stream",
     "text": [
      "\u001b[32m[I 2022-09-30 17:45:10,859]\u001b[0m Trial 27 finished with value: 3.7483720712362354 and parameters: {'n_estimators': 101, 'max_depth': 451, 'min_samples_split': 8, 'max_features': 'log2', 'min_samples_leaf': 12}. Best is trial 6 with value: 3.5619498962636627.\u001b[0m\n"
     ]
    },
    {
     "name": "stdout",
     "output_type": "stream",
     "text": [
      "Time cost: 38.99513053894043\n",
      "Currently running with:\n",
      "{'n_estimators': 51, 'max_depth': 101, 'min_samples_split': 6, 'max_features': 'log2', 'min_samples_leaf': 8, 'random_state': 760, 'n_jobs': -1}\n"
     ]
    },
    {
     "name": "stderr",
     "output_type": "stream",
     "text": [
      "\u001b[32m[I 2022-09-30 17:45:32,173]\u001b[0m Trial 28 finished with value: 3.724681870126247 and parameters: {'n_estimators': 51, 'max_depth': 101, 'min_samples_split': 6, 'max_features': 'log2', 'min_samples_leaf': 8}. Best is trial 6 with value: 3.5619498962636627.\u001b[0m\n"
     ]
    },
    {
     "name": "stdout",
     "output_type": "stream",
     "text": [
      "Time cost: 21.313100814819336\n",
      "Currently running with:\n",
      "{'n_estimators': 1, 'max_depth': 401, 'min_samples_split': 14, 'max_features': 'log2', 'min_samples_leaf': 3, 'random_state': 760, 'n_jobs': -1}\n"
     ]
    },
    {
     "name": "stderr",
     "output_type": "stream",
     "text": [
      "\u001b[32m[I 2022-09-30 17:45:35,295]\u001b[0m Trial 29 finished with value: 4.396579548908816 and parameters: {'n_estimators': 1, 'max_depth': 401, 'min_samples_split': 14, 'max_features': 'log2', 'min_samples_leaf': 3}. Best is trial 6 with value: 3.5619498962636627.\u001b[0m\n"
     ]
    },
    {
     "name": "stdout",
     "output_type": "stream",
     "text": [
      "Time cost: 3.120727777481079\n",
      "Currently running with:\n",
      "{'n_estimators': 101, 'max_depth': 351, 'min_samples_split': 10, 'max_features': 'log2', 'min_samples_leaf': 5, 'random_state': 760, 'n_jobs': -1}\n"
     ]
    },
    {
     "name": "stderr",
     "output_type": "stream",
     "text": [
      "\u001b[32m[I 2022-09-30 17:46:18,419]\u001b[0m Trial 30 finished with value: 3.6719394324759294 and parameters: {'n_estimators': 101, 'max_depth': 351, 'min_samples_split': 10, 'max_features': 'log2', 'min_samples_leaf': 5}. Best is trial 6 with value: 3.5619498962636627.\u001b[0m\n"
     ]
    },
    {
     "name": "stdout",
     "output_type": "stream",
     "text": [
      "Time cost: 43.123520612716675\n",
      "Currently running with:\n",
      "{'n_estimators': 151, 'max_depth': 401, 'min_samples_split': 19, 'max_features': 'sqrt', 'min_samples_leaf': 1, 'random_state': 760, 'n_jobs': -1}\n"
     ]
    },
    {
     "name": "stderr",
     "output_type": "stream",
     "text": [
      "\u001b[32m[I 2022-09-30 17:47:22,025]\u001b[0m Trial 31 finished with value: 3.62217382266857 and parameters: {'n_estimators': 151, 'max_depth': 401, 'min_samples_split': 19, 'max_features': 'sqrt', 'min_samples_leaf': 1}. Best is trial 6 with value: 3.5619498962636627.\u001b[0m\n"
     ]
    },
    {
     "name": "stdout",
     "output_type": "stream",
     "text": [
      "Time cost: 63.60486960411072\n",
      "Currently running with:\n",
      "{'n_estimators': 101, 'max_depth': 401, 'min_samples_split': 19, 'max_features': 'sqrt', 'min_samples_leaf': 2, 'random_state': 760, 'n_jobs': -1}\n"
     ]
    },
    {
     "name": "stderr",
     "output_type": "stream",
     "text": [
      "\u001b[32m[I 2022-09-30 17:48:04,125]\u001b[0m Trial 32 finished with value: 3.6616359692358396 and parameters: {'n_estimators': 101, 'max_depth': 401, 'min_samples_split': 19, 'max_features': 'sqrt', 'min_samples_leaf': 2}. Best is trial 6 with value: 3.5619498962636627.\u001b[0m\n"
     ]
    },
    {
     "name": "stdout",
     "output_type": "stream",
     "text": [
      "Time cost: 42.09942150115967\n",
      "Currently running with:\n",
      "{'n_estimators': 151, 'max_depth': 451, 'min_samples_split': 12, 'max_features': 'log2', 'min_samples_leaf': 2, 'random_state': 760, 'n_jobs': -1}\n"
     ]
    },
    {
     "name": "stderr",
     "output_type": "stream",
     "text": [
      "\u001b[32m[I 2022-09-30 17:49:09,242]\u001b[0m Trial 33 finished with value: 3.632741871400152 and parameters: {'n_estimators': 151, 'max_depth': 451, 'min_samples_split': 12, 'max_features': 'log2', 'min_samples_leaf': 2}. Best is trial 6 with value: 3.5619498962636627.\u001b[0m\n"
     ]
    },
    {
     "name": "stdout",
     "output_type": "stream",
     "text": [
      "Time cost: 65.11550831794739\n",
      "Currently running with:\n",
      "{'n_estimators': 51, 'max_depth': 351, 'min_samples_split': 18, 'max_features': 'sqrt', 'min_samples_leaf': 2, 'random_state': 760, 'n_jobs': -1}\n"
     ]
    },
    {
     "name": "stderr",
     "output_type": "stream",
     "text": [
      "\u001b[32m[I 2022-09-30 17:49:32,020]\u001b[0m Trial 34 finished with value: 3.6742367990198357 and parameters: {'n_estimators': 51, 'max_depth': 351, 'min_samples_split': 18, 'max_features': 'sqrt', 'min_samples_leaf': 2}. Best is trial 6 with value: 3.5619498962636627.\u001b[0m\n"
     ]
    },
    {
     "name": "stdout",
     "output_type": "stream",
     "text": [
      "Time cost: 22.777767419815063\n",
      "Currently running with:\n",
      "{'n_estimators': 201, 'max_depth': 401, 'min_samples_split': 15, 'max_features': 'log2', 'min_samples_leaf': 4, 'random_state': 760, 'n_jobs': -1}\n"
     ]
    },
    {
     "name": "stderr",
     "output_type": "stream",
     "text": [
      "\u001b[32m[I 2022-09-30 17:50:55,214]\u001b[0m Trial 35 finished with value: 3.6669468192396377 and parameters: {'n_estimators': 201, 'max_depth': 401, 'min_samples_split': 15, 'max_features': 'log2', 'min_samples_leaf': 4}. Best is trial 6 with value: 3.5619498962636627.\u001b[0m\n"
     ]
    },
    {
     "name": "stdout",
     "output_type": "stream",
     "text": [
      "Time cost: 83.19177603721619\n",
      "Currently running with:\n",
      "{'n_estimators': 151, 'max_depth': 301, 'min_samples_split': 8, 'max_features': 'sqrt', 'min_samples_leaf': 1, 'random_state': 760, 'n_jobs': -1}\n"
     ]
    },
    {
     "name": "stderr",
     "output_type": "stream",
     "text": [
      "\u001b[32m[I 2022-09-30 17:52:10,768]\u001b[0m Trial 36 finished with value: 3.606503988528642 and parameters: {'n_estimators': 151, 'max_depth': 301, 'min_samples_split': 8, 'max_features': 'sqrt', 'min_samples_leaf': 1}. Best is trial 6 with value: 3.5619498962636627.\u001b[0m\n"
     ]
    },
    {
     "name": "stdout",
     "output_type": "stream",
     "text": [
      "Time cost: 75.55301260948181\n",
      "Currently running with:\n",
      "{'n_estimators': 151, 'max_depth': 301, 'min_samples_split': 8, 'max_features': 'sqrt', 'min_samples_leaf': 2, 'random_state': 760, 'n_jobs': -1}\n"
     ]
    },
    {
     "name": "stderr",
     "output_type": "stream",
     "text": [
      "\u001b[32m[I 2022-09-30 17:53:20,602]\u001b[0m Trial 37 finished with value: 3.6177026856051095 and parameters: {'n_estimators': 151, 'max_depth': 301, 'min_samples_split': 8, 'max_features': 'sqrt', 'min_samples_leaf': 2}. Best is trial 6 with value: 3.5619498962636627.\u001b[0m\n"
     ]
    },
    {
     "name": "stdout",
     "output_type": "stream",
     "text": [
      "Time cost: 69.83230686187744\n",
      "Currently running with:\n",
      "{'n_estimators': 251, 'max_depth': 201, 'min_samples_split': 7, 'max_features': 'sqrt', 'min_samples_leaf': 3, 'random_state': 760, 'n_jobs': -1}\n"
     ]
    },
    {
     "name": "stderr",
     "output_type": "stream",
     "text": [
      "\u001b[32m[I 2022-09-30 17:55:08,975]\u001b[0m Trial 38 finished with value: 3.6316327396822863 and parameters: {'n_estimators': 251, 'max_depth': 201, 'min_samples_split': 7, 'max_features': 'sqrt', 'min_samples_leaf': 3}. Best is trial 6 with value: 3.5619498962636627.\u001b[0m\n"
     ]
    },
    {
     "name": "stdout",
     "output_type": "stream",
     "text": [
      "Time cost: 108.3712420463562\n",
      "Currently running with:\n",
      "{'n_estimators': 151, 'max_depth': 301, 'min_samples_split': 4, 'max_features': 'sqrt', 'min_samples_leaf': 6, 'random_state': 760, 'n_jobs': -1}\n"
     ]
    },
    {
     "name": "stderr",
     "output_type": "stream",
     "text": [
      "\u001b[32m[I 2022-09-30 17:56:10,252]\u001b[0m Trial 39 finished with value: 3.6940737054580195 and parameters: {'n_estimators': 151, 'max_depth': 301, 'min_samples_split': 4, 'max_features': 'sqrt', 'min_samples_leaf': 6}. Best is trial 6 with value: 3.5619498962636627.\u001b[0m\n"
     ]
    },
    {
     "name": "stdout",
     "output_type": "stream",
     "text": [
      "Time cost: 61.27563285827637\n",
      "Currently running with:\n",
      "{'n_estimators': 301, 'max_depth': 251, 'min_samples_split': 9, 'max_features': 'sqrt', 'min_samples_leaf': 2, 'random_state': 760, 'n_jobs': -1}\n"
     ]
    },
    {
     "name": "stderr",
     "output_type": "stream",
     "text": [
      "\u001b[32m[I 2022-09-30 17:58:20,413]\u001b[0m Trial 40 finished with value: 3.6125939807372394 and parameters: {'n_estimators': 301, 'max_depth': 251, 'min_samples_split': 9, 'max_features': 'sqrt', 'min_samples_leaf': 2}. Best is trial 6 with value: 3.5619498962636627.\u001b[0m\n"
     ]
    },
    {
     "name": "stdout",
     "output_type": "stream",
     "text": [
      "Time cost: 130.16055488586426\n",
      "Currently running with:\n",
      "{'n_estimators': 301, 'max_depth': 251, 'min_samples_split': 9, 'max_features': 'sqrt', 'min_samples_leaf': 2, 'random_state': 760, 'n_jobs': -1}\n"
     ]
    },
    {
     "name": "stderr",
     "output_type": "stream",
     "text": [
      "\u001b[32m[I 2022-09-30 18:00:31,652]\u001b[0m Trial 41 finished with value: 3.6125939807372394 and parameters: {'n_estimators': 301, 'max_depth': 251, 'min_samples_split': 9, 'max_features': 'sqrt', 'min_samples_leaf': 2}. Best is trial 6 with value: 3.5619498962636627.\u001b[0m\n"
     ]
    },
    {
     "name": "stdout",
     "output_type": "stream",
     "text": [
      "Time cost: 131.2383735179901\n",
      "Currently running with:\n",
      "{'n_estimators': 301, 'max_depth': 251, 'min_samples_split': 9, 'max_features': 'sqrt', 'min_samples_leaf': 2, 'random_state': 760, 'n_jobs': -1}\n"
     ]
    },
    {
     "name": "stderr",
     "output_type": "stream",
     "text": [
      "\u001b[32m[I 2022-09-30 18:02:49,755]\u001b[0m Trial 42 finished with value: 3.6125939807372394 and parameters: {'n_estimators': 301, 'max_depth': 251, 'min_samples_split': 9, 'max_features': 'sqrt', 'min_samples_leaf': 2}. Best is trial 6 with value: 3.5619498962636627.\u001b[0m\n"
     ]
    },
    {
     "name": "stdout",
     "output_type": "stream",
     "text": [
      "Time cost: 138.10226154327393\n",
      "Currently running with:\n",
      "{'n_estimators': 301, 'max_depth': 201, 'min_samples_split': 9, 'max_features': 'sqrt', 'min_samples_leaf': 15, 'random_state': 760, 'n_jobs': -1}\n"
     ]
    },
    {
     "name": "stderr",
     "output_type": "stream",
     "text": [
      "\u001b[32m[I 2022-09-30 18:04:56,158]\u001b[0m Trial 43 finished with value: 3.7633657783077656 and parameters: {'n_estimators': 301, 'max_depth': 201, 'min_samples_split': 9, 'max_features': 'sqrt', 'min_samples_leaf': 15}. Best is trial 6 with value: 3.5619498962636627.\u001b[0m\n"
     ]
    },
    {
     "name": "stdout",
     "output_type": "stream",
     "text": [
      "Time cost: 126.40071082115173\n",
      "Currently running with:\n",
      "{'n_estimators': 301, 'max_depth': 251, 'min_samples_split': 9, 'max_features': 'sqrt', 'min_samples_leaf': 4, 'random_state': 760, 'n_jobs': -1}\n"
     ]
    },
    {
     "name": "stderr",
     "output_type": "stream",
     "text": [
      "\u001b[32m[I 2022-09-30 18:07:21,224]\u001b[0m Trial 44 finished with value: 3.655544123847469 and parameters: {'n_estimators': 301, 'max_depth': 251, 'min_samples_split': 9, 'max_features': 'sqrt', 'min_samples_leaf': 4}. Best is trial 6 with value: 3.5619498962636627.\u001b[0m\n"
     ]
    },
    {
     "name": "stdout",
     "output_type": "stream",
     "text": [
      "Time cost: 145.0642945766449\n",
      "Currently running with:\n",
      "{'n_estimators': 351, 'max_depth': 151, 'min_samples_split': 6, 'max_features': 'sqrt', 'min_samples_leaf': 2, 'random_state': 760, 'n_jobs': -1}\n"
     ]
    },
    {
     "name": "stderr",
     "output_type": "stream",
     "text": [
      "\u001b[32m[I 2022-09-30 18:10:15,940]\u001b[0m Trial 45 finished with value: 3.5983005190129806 and parameters: {'n_estimators': 351, 'max_depth': 151, 'min_samples_split': 6, 'max_features': 'sqrt', 'min_samples_leaf': 2}. Best is trial 6 with value: 3.5619498962636627.\u001b[0m\n"
     ]
    },
    {
     "name": "stdout",
     "output_type": "stream",
     "text": [
      "Time cost: 174.71354269981384\n",
      "Currently running with:\n",
      "{'n_estimators': 351, 'max_depth': 151, 'min_samples_split': 6, 'max_features': 'sqrt', 'min_samples_leaf': 6, 'random_state': 760, 'n_jobs': -1}\n"
     ]
    },
    {
     "name": "stderr",
     "output_type": "stream",
     "text": [
      "\u001b[32m[I 2022-09-30 18:12:50,349]\u001b[0m Trial 46 finished with value: 3.686656380109868 and parameters: {'n_estimators': 351, 'max_depth': 151, 'min_samples_split': 6, 'max_features': 'sqrt', 'min_samples_leaf': 6}. Best is trial 6 with value: 3.5619498962636627.\u001b[0m\n"
     ]
    },
    {
     "name": "stdout",
     "output_type": "stream",
     "text": [
      "Time cost: 154.4075677394867\n",
      "Currently running with:\n",
      "{'n_estimators': 351, 'max_depth': 151, 'min_samples_split': 3, 'max_features': 'sqrt', 'min_samples_leaf': 4, 'random_state': 760, 'n_jobs': -1}\n"
     ]
    },
    {
     "name": "stderr",
     "output_type": "stream",
     "text": [
      "\u001b[32m[I 2022-09-30 18:15:34,800]\u001b[0m Trial 47 finished with value: 3.6538746663514705 and parameters: {'n_estimators': 351, 'max_depth': 151, 'min_samples_split': 3, 'max_features': 'sqrt', 'min_samples_leaf': 4}. Best is trial 6 with value: 3.5619498962636627.\u001b[0m\n"
     ]
    },
    {
     "name": "stdout",
     "output_type": "stream",
     "text": [
      "Time cost: 164.4486780166626\n",
      "Currently running with:\n",
      "{'n_estimators': 401, 'max_depth': 51, 'min_samples_split': 5, 'max_features': 'sqrt', 'min_samples_leaf': 19, 'random_state': 760, 'n_jobs': -1}\n"
     ]
    },
    {
     "name": "stderr",
     "output_type": "stream",
     "text": [
      "\u001b[32m[I 2022-09-30 18:18:05,940]\u001b[0m Trial 48 finished with value: 3.781315849834383 and parameters: {'n_estimators': 401, 'max_depth': 51, 'min_samples_split': 5, 'max_features': 'sqrt', 'min_samples_leaf': 19}. Best is trial 6 with value: 3.5619498962636627.\u001b[0m\n"
     ]
    },
    {
     "name": "stdout",
     "output_type": "stream",
     "text": [
      "Time cost: 151.1390039920807\n",
      "Currently running with:\n",
      "{'n_estimators': 401, 'max_depth': 201, 'min_samples_split': 7, 'max_features': 'sqrt', 'min_samples_leaf': 3, 'random_state': 760, 'n_jobs': -1}\n"
     ]
    },
    {
     "name": "stderr",
     "output_type": "stream",
     "text": [
      "\u001b[32m[I 2022-09-30 18:21:12,145]\u001b[0m Trial 49 finished with value: 3.631465698450852 and parameters: {'n_estimators': 401, 'max_depth': 201, 'min_samples_split': 7, 'max_features': 'sqrt', 'min_samples_leaf': 3}. Best is trial 6 with value: 3.5619498962636627.\u001b[0m\n"
     ]
    },
    {
     "name": "stdout",
     "output_type": "stream",
     "text": [
      "Time cost: 186.20365023612976\n"
     ]
    },
    {
     "data": {
      "text/plain": [
       "{'n_estimators': 51,\n",
       " 'max_depth': 451,\n",
       " 'min_samples_split': 4,\n",
       " 'max_features': 'log2',\n",
       " 'min_samples_leaf': 1}"
      ]
     },
     "execution_count": 5,
     "metadata": {},
     "output_type": "execute_result"
    }
   ],
   "source": [
    "study = opt.create_study(direction = 'minimize')\n",
    "study.optimize(objective, n_trials = 50)\n",
    "study.best_params"
   ]
  },
  {
   "cell_type": "code",
   "execution_count": 8,
   "id": "9e939c3d-5816-4443-bd3a-e9bcbf75ab7b",
   "metadata": {},
   "outputs": [
    {
     "data": {
      "text/html": [
       "<style>#sk-container-id-2 {color: black;background-color: white;}#sk-container-id-2 pre{padding: 0;}#sk-container-id-2 div.sk-toggleable {background-color: white;}#sk-container-id-2 label.sk-toggleable__label {cursor: pointer;display: block;width: 100%;margin-bottom: 0;padding: 0.3em;box-sizing: border-box;text-align: center;}#sk-container-id-2 label.sk-toggleable__label-arrow:before {content: \"▸\";float: left;margin-right: 0.25em;color: #696969;}#sk-container-id-2 label.sk-toggleable__label-arrow:hover:before {color: black;}#sk-container-id-2 div.sk-estimator:hover label.sk-toggleable__label-arrow:before {color: black;}#sk-container-id-2 div.sk-toggleable__content {max-height: 0;max-width: 0;overflow: hidden;text-align: left;background-color: #f0f8ff;}#sk-container-id-2 div.sk-toggleable__content pre {margin: 0.2em;color: black;border-radius: 0.25em;background-color: #f0f8ff;}#sk-container-id-2 input.sk-toggleable__control:checked~div.sk-toggleable__content {max-height: 200px;max-width: 100%;overflow: auto;}#sk-container-id-2 input.sk-toggleable__control:checked~label.sk-toggleable__label-arrow:before {content: \"▾\";}#sk-container-id-2 div.sk-estimator input.sk-toggleable__control:checked~label.sk-toggleable__label {background-color: #d4ebff;}#sk-container-id-2 div.sk-label input.sk-toggleable__control:checked~label.sk-toggleable__label {background-color: #d4ebff;}#sk-container-id-2 input.sk-hidden--visually {border: 0;clip: rect(1px 1px 1px 1px);clip: rect(1px, 1px, 1px, 1px);height: 1px;margin: -1px;overflow: hidden;padding: 0;position: absolute;width: 1px;}#sk-container-id-2 div.sk-estimator {font-family: monospace;background-color: #f0f8ff;border: 1px dotted black;border-radius: 0.25em;box-sizing: border-box;margin-bottom: 0.5em;}#sk-container-id-2 div.sk-estimator:hover {background-color: #d4ebff;}#sk-container-id-2 div.sk-parallel-item::after {content: \"\";width: 100%;border-bottom: 1px solid gray;flex-grow: 1;}#sk-container-id-2 div.sk-label:hover label.sk-toggleable__label {background-color: #d4ebff;}#sk-container-id-2 div.sk-serial::before {content: \"\";position: absolute;border-left: 1px solid gray;box-sizing: border-box;top: 0;bottom: 0;left: 50%;z-index: 0;}#sk-container-id-2 div.sk-serial {display: flex;flex-direction: column;align-items: center;background-color: white;padding-right: 0.2em;padding-left: 0.2em;position: relative;}#sk-container-id-2 div.sk-item {position: relative;z-index: 1;}#sk-container-id-2 div.sk-parallel {display: flex;align-items: stretch;justify-content: center;background-color: white;position: relative;}#sk-container-id-2 div.sk-item::before, #sk-container-id-2 div.sk-parallel-item::before {content: \"\";position: absolute;border-left: 1px solid gray;box-sizing: border-box;top: 0;bottom: 0;left: 50%;z-index: -1;}#sk-container-id-2 div.sk-parallel-item {display: flex;flex-direction: column;z-index: 1;position: relative;background-color: white;}#sk-container-id-2 div.sk-parallel-item:first-child::after {align-self: flex-end;width: 50%;}#sk-container-id-2 div.sk-parallel-item:last-child::after {align-self: flex-start;width: 50%;}#sk-container-id-2 div.sk-parallel-item:only-child::after {width: 0;}#sk-container-id-2 div.sk-dashed-wrapped {border: 1px dashed gray;margin: 0 0.4em 0.5em 0.4em;box-sizing: border-box;padding-bottom: 0.4em;background-color: white;}#sk-container-id-2 div.sk-label label {font-family: monospace;font-weight: bold;display: inline-block;line-height: 1.2em;}#sk-container-id-2 div.sk-label-container {text-align: center;}#sk-container-id-2 div.sk-container {/* jupyter's `normalize.less` sets `[hidden] { display: none; }` but bootstrap.min.css set `[hidden] { display: none !important; }` so we also need the `!important` here to be able to override the default hidden behavior on the sphinx rendered scikit-learn.org. See: https://github.com/scikit-learn/scikit-learn/issues/21755 */display: inline-block !important;position: relative;}#sk-container-id-2 div.sk-text-repr-fallback {display: none;}</style><div id=\"sk-container-id-2\" class=\"sk-top-container\"><div class=\"sk-text-repr-fallback\"><pre>Pipeline(steps=[(&#x27;imputer&#x27;, SimpleImputer()), (&#x27;scaler&#x27;, StandardScaler()),\n",
       "                (&#x27;rf&#x27;,\n",
       "                 RandomForestRegressor(max_depth=451, max_features=&#x27;log2&#x27;,\n",
       "                                       min_samples_split=4, n_estimators=51,\n",
       "                                       n_jobs=-1, random_state=760))])</pre><b>In a Jupyter environment, please rerun this cell to show the HTML representation or trust the notebook. <br />On GitHub, the HTML representation is unable to render, please try loading this page with nbviewer.org.</b></div><div class=\"sk-container\" hidden><div class=\"sk-item sk-dashed-wrapped\"><div class=\"sk-label-container\"><div class=\"sk-label sk-toggleable\"><input class=\"sk-toggleable__control sk-hidden--visually\" id=\"sk-estimator-id-5\" type=\"checkbox\" ><label for=\"sk-estimator-id-5\" class=\"sk-toggleable__label sk-toggleable__label-arrow\">Pipeline</label><div class=\"sk-toggleable__content\"><pre>Pipeline(steps=[(&#x27;imputer&#x27;, SimpleImputer()), (&#x27;scaler&#x27;, StandardScaler()),\n",
       "                (&#x27;rf&#x27;,\n",
       "                 RandomForestRegressor(max_depth=451, max_features=&#x27;log2&#x27;,\n",
       "                                       min_samples_split=4, n_estimators=51,\n",
       "                                       n_jobs=-1, random_state=760))])</pre></div></div></div><div class=\"sk-serial\"><div class=\"sk-item\"><div class=\"sk-estimator sk-toggleable\"><input class=\"sk-toggleable__control sk-hidden--visually\" id=\"sk-estimator-id-6\" type=\"checkbox\" ><label for=\"sk-estimator-id-6\" class=\"sk-toggleable__label sk-toggleable__label-arrow\">SimpleImputer</label><div class=\"sk-toggleable__content\"><pre>SimpleImputer()</pre></div></div></div><div class=\"sk-item\"><div class=\"sk-estimator sk-toggleable\"><input class=\"sk-toggleable__control sk-hidden--visually\" id=\"sk-estimator-id-7\" type=\"checkbox\" ><label for=\"sk-estimator-id-7\" class=\"sk-toggleable__label sk-toggleable__label-arrow\">StandardScaler</label><div class=\"sk-toggleable__content\"><pre>StandardScaler()</pre></div></div></div><div class=\"sk-item\"><div class=\"sk-estimator sk-toggleable\"><input class=\"sk-toggleable__control sk-hidden--visually\" id=\"sk-estimator-id-8\" type=\"checkbox\" ><label for=\"sk-estimator-id-8\" class=\"sk-toggleable__label sk-toggleable__label-arrow\">RandomForestRegressor</label><div class=\"sk-toggleable__content\"><pre>RandomForestRegressor(max_depth=451, max_features=&#x27;log2&#x27;, min_samples_split=4,\n",
       "                      n_estimators=51, n_jobs=-1, random_state=760)</pre></div></div></div></div></div></div></div>"
      ],
      "text/plain": [
       "Pipeline(steps=[('imputer', SimpleImputer()), ('scaler', StandardScaler()),\n",
       "                ('rf',\n",
       "                 RandomForestRegressor(max_depth=451, max_features='log2',\n",
       "                                       min_samples_split=4, n_estimators=51,\n",
       "                                       n_jobs=-1, random_state=760))])"
      ]
     },
     "execution_count": 8,
     "metadata": {},
     "output_type": "execute_result"
    }
   ],
   "source": [
    "#optimal model\n",
    "# {'n_estimators': 51, 'max_depth': 451, 'min_samples_split': 4, 'max_features': 'log2', 'min_samples_leaf': 1}\n",
    "\n",
    "omodel = Pipeline([('imputer', SimpleImputer()), ('scaler', StandardScaler()), \n",
    "                   ('rf', RandomForestRegressor(n_estimators = 51, \n",
    "                                                max_depth = 451, \n",
    "                                                min_samples_leaf= 1,\n",
    "                                                min_samples_split= 4,\n",
    "                                                max_features= 'log2', \n",
    "                                                random_state = 760, n_jobs=-1))])\n",
    "\n",
    "omodel.fit(X_train, y_train)"
   ]
  },
  {
   "cell_type": "code",
   "execution_count": 9,
   "id": "6b01cc69-030a-4931-8e6a-a413cdbc9bb5",
   "metadata": {},
   "outputs": [
    {
     "name": "stdout",
     "output_type": "stream",
     "text": [
      "\n",
      " model train score -> RMSE: 1.6654315096909602 MAE: 0.6075989165752549\n",
      "\n",
      " model test score -> RMSE: 2.9961124885530652 MAE: 1.359543549646976\n"
     ]
    }
   ],
   "source": [
    "#predict train set results\n",
    "y_pred = omodel.predict(X_train)\n",
    "rmse = mean_squared_error(y_train, y_pred, squared=False)\n",
    "mae = mean_absolute_error(y_train, y_pred) \n",
    "print(f\"\\n model train score -> RMSE:\", rmse, \"MAE:\", mae)\n",
    "\n",
    "\n",
    "#predict test set results\n",
    "y_pred_test = omodel.predict(X_test)\n",
    "rmse = mean_squared_error(y_test, y_pred_test, squared=False)\n",
    "mae = mean_absolute_error(y_test, y_pred_test) \n",
    "print(f\"\\n model test score -> RMSE:\", rmse, \"MAE:\", mae)"
   ]
  },
  {
   "cell_type": "code",
   "execution_count": null,
   "id": "316e3cfd-5f19-456a-a25d-9f27bc774995",
   "metadata": {},
   "outputs": [],
   "source": []
  },
  {
   "cell_type": "code",
   "execution_count": null,
   "id": "bbf44e92-e9bd-4085-a995-1da385097baf",
   "metadata": {},
   "outputs": [],
   "source": []
  },
  {
   "cell_type": "code",
   "execution_count": null,
   "id": "1d0a2ad5-85bd-47b7-a329-8be0cf349e7d",
   "metadata": {},
   "outputs": [],
   "source": []
  },
  {
   "cell_type": "code",
   "execution_count": null,
   "id": "662c6fed-31b5-4278-b876-9e76ee7c53dc",
   "metadata": {},
   "outputs": [],
   "source": []
  },
  {
   "cell_type": "code",
   "execution_count": null,
   "id": "f7609e92-e0db-4537-974f-5af5b1a9a0ad",
   "metadata": {},
   "outputs": [],
   "source": []
  }
 ],
 "metadata": {
  "kernelspec": {
   "display_name": "Python 3 (ipykernel)",
   "language": "python",
   "name": "python3"
  },
  "language_info": {
   "codemirror_mode": {
    "name": "ipython",
    "version": 3
   },
   "file_extension": ".py",
   "mimetype": "text/x-python",
   "name": "python",
   "nbconvert_exporter": "python",
   "pygments_lexer": "ipython3",
   "version": "3.10.6"
  }
 },
 "nbformat": 4,
 "nbformat_minor": 5
}
