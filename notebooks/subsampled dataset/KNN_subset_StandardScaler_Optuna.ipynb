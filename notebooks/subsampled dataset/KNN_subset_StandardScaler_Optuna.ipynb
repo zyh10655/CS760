{
 "cells": [
  {
   "cell_type": "code",
   "execution_count": 2,
   "id": "c5068b33",
   "metadata": {},
   "outputs": [],
   "source": [
    "from sklearn.neighbors import KNeighborsRegressor\n",
    "from pathlib import Path\n",
    "import pandas as pd\n",
    "import numpy as np\n",
    "from sklearn.model_selection import GridSearchCV\n",
    "from sklearn.model_selection import ParameterGrid\n",
    "from sklearn.model_selection import KFold\n",
    "from sklearn.metrics import mean_squared_error, mean_absolute_error\n",
    "from sklearn.model_selection import cross_val_score\n",
    "import optuna as opt\n",
    "from sklearn.preprocessing import StandardScaler\n",
    "from optuna.samplers import RandomSampler\n",
    "from optuna.samplers import TPESampler\n",
    "from sklearn.preprocessing import MinMaxScaler\n",
    "import time\n",
    "from sklearn.pipeline import Pipeline "
   ]
  },
  {
   "cell_type": "code",
   "execution_count": 3,
   "id": "86bdb8a9",
   "metadata": {},
   "outputs": [
    {
     "name": "stdout",
     "output_type": "stream",
     "text": [
      "/Users/antonyjiao/Desktop/UOA Master of DS/COMPSCI 760/ready data new\n"
     ]
    }
   ],
   "source": [
    "CWD = Path.cwd()\n",
    "DATA_DIR = CWD.parent / \"ready data new\"\n",
    "print(DATA_DIR)"
   ]
  },
  {
   "cell_type": "code",
   "execution_count": 4,
   "id": "0ccb88c0",
   "metadata": {},
   "outputs": [],
   "source": [
    "df_train = pd.read_parquet(DATA_DIR/\"train_main.parquet.snappy\")\n",
    "df_test = pd.read_parquet(DATA_DIR/\"test_main.parquet.snappy\")\n",
    "# train_text = pd.read_parquet(DATA_DIR/\"train_text.parquet.snappy\")\n",
    "#test_text = pd.read_parquet(DATA_DIR/\"test_text.parquet.snappy\")"
   ]
  },
  {
   "cell_type": "code",
   "execution_count": 5,
   "id": "449911ed",
   "metadata": {},
   "outputs": [
    {
     "name": "stdout",
     "output_type": "stream",
     "text": [
      "Shape of the training data : (400000, 13)\n",
      "Shape of the test data : (100000, 13)\n"
     ]
    }
   ],
   "source": [
    "print(f\"Shape of the training data : {df_train.shape}\")\n",
    "print(f\"Shape of the test data : {df_test.shape}\")"
   ]
  },
  {
   "cell_type": "code",
   "execution_count": 6,
   "id": "d794f4f9",
   "metadata": {},
   "outputs": [],
   "source": [
    "X_train, y_train = df_train.drop(['r_useful', 'r_id'], axis=1).values, df_train['r_useful'].values\n",
    "X_test, y_test = df_test.drop(['r_useful', 'r_id'], axis=1).values, df_test['r_useful'].values\n"
   ]
  },
  {
   "cell_type": "markdown",
   "id": "98573e2b",
   "metadata": {},
   "source": [
    "## StandardScaler dataset"
   ]
  },
  {
   "cell_type": "code",
   "execution_count": 6,
   "id": "b4d0cfba",
   "metadata": {},
   "outputs": [],
   "source": []
  },
  {
   "cell_type": "code",
   "execution_count": 23,
   "id": "5d4c749e",
   "metadata": {},
   "outputs": [],
   "source": [
    "def objective(trial):\n",
    "    start = time.time()\n",
    "    \n",
    "    params = {\n",
    "       \"n_neighbors\":trial.suggest_int('n_neighbors', 2, 100),\n",
    "       \"weights\":trial.suggest_categorical(\"weights\", ['uniform', 'distance']),\n",
    "       \"metric\":trial.suggest_categorical(\"metric\", ['euclidean', 'manhattan', 'minkowski'])\n",
    "        }\n",
    "    print(\"Currently running with:\")\n",
    "    print(params)\n",
    "\n",
    "    model = KNeighborsRegressor(**params)\n",
    "\n",
    "    # model.fit(X_train, y_train)\n",
    "    #y_pred = model.predict(X_val)\n",
    "    \n",
    "    # cv for the mode\n",
    "    cvscore = np.sqrt(-np.mean(cross_val_score(model, X_train, y_train, scoring=\"neg_mean_squared_error\", cv=3)))\n",
    "    print(\"Time cost:\", time.time()-start)\n",
    "\n",
    "    return cvscore"
   ]
  },
  {
   "cell_type": "code",
   "execution_count": 24,
   "id": "e56175f9",
   "metadata": {},
   "outputs": [
    {
     "name": "stderr",
     "output_type": "stream",
     "text": [
      "\u001b[32m[I 2022-09-27 00:01:10,212]\u001b[0m A new study created in memory with name: no-name-59bdf33a-7d62-422a-92ee-101684793c48\u001b[0m\n"
     ]
    },
    {
     "name": "stdout",
     "output_type": "stream",
     "text": [
      "Currently running with:\n",
      "{'n_neighbors': 45, 'weights': 'distance', 'metric': 'euclidean'}\n"
     ]
    },
    {
     "name": "stderr",
     "output_type": "stream",
     "text": [
      "\u001b[32m[I 2022-09-27 00:10:49,616]\u001b[0m Trial 0 finished with value: 3.704444670270919 and parameters: {'n_neighbors': 45, 'weights': 'distance', 'metric': 'euclidean'}. Best is trial 0 with value: 3.704444670270919.\u001b[0m\n"
     ]
    },
    {
     "name": "stdout",
     "output_type": "stream",
     "text": [
      "Time cost: 579.4017629623413\n",
      "Currently running with:\n",
      "{'n_neighbors': 22, 'weights': 'uniform', 'metric': 'manhattan'}\n"
     ]
    },
    {
     "name": "stderr",
     "output_type": "stream",
     "text": [
      "\u001b[32m[I 2022-09-27 00:26:22,767]\u001b[0m Trial 1 finished with value: 3.7103044961956244 and parameters: {'n_neighbors': 22, 'weights': 'uniform', 'metric': 'manhattan'}. Best is trial 0 with value: 3.704444670270919.\u001b[0m\n"
     ]
    },
    {
     "name": "stdout",
     "output_type": "stream",
     "text": [
      "Time cost: 933.1492552757263\n",
      "Currently running with:\n",
      "{'n_neighbors': 15, 'weights': 'uniform', 'metric': 'manhattan'}\n"
     ]
    },
    {
     "name": "stderr",
     "output_type": "stream",
     "text": [
      "\u001b[32m[I 2022-09-27 00:40:05,689]\u001b[0m Trial 2 finished with value: 3.7270311228078814 and parameters: {'n_neighbors': 15, 'weights': 'uniform', 'metric': 'manhattan'}. Best is trial 0 with value: 3.704444670270919.\u001b[0m\n"
     ]
    },
    {
     "name": "stdout",
     "output_type": "stream",
     "text": [
      "Time cost: 822.9196400642395\n",
      "Currently running with:\n",
      "{'n_neighbors': 85, 'weights': 'distance', 'metric': 'manhattan'}\n"
     ]
    },
    {
     "name": "stderr",
     "output_type": "stream",
     "text": [
      "\u001b[32m[I 2022-09-27 01:04:42,004]\u001b[0m Trial 3 finished with value: 3.7001719128700192 and parameters: {'n_neighbors': 85, 'weights': 'distance', 'metric': 'manhattan'}. Best is trial 3 with value: 3.7001719128700192.\u001b[0m\n"
     ]
    },
    {
     "name": "stdout",
     "output_type": "stream",
     "text": [
      "Time cost: 1476.3129630088806\n",
      "Currently running with:\n",
      "{'n_neighbors': 14, 'weights': 'uniform', 'metric': 'minkowski'}\n"
     ]
    },
    {
     "name": "stderr",
     "output_type": "stream",
     "text": [
      "\u001b[32m[I 2022-09-27 01:10:36,186]\u001b[0m Trial 4 finished with value: 3.7532324029177095 and parameters: {'n_neighbors': 14, 'weights': 'uniform', 'metric': 'minkowski'}. Best is trial 3 with value: 3.7001719128700192.\u001b[0m\n"
     ]
    },
    {
     "name": "stdout",
     "output_type": "stream",
     "text": [
      "Time cost: 354.18048191070557\n",
      "Currently running with:\n",
      "{'n_neighbors': 48, 'weights': 'distance', 'metric': 'manhattan'}\n"
     ]
    },
    {
     "name": "stderr",
     "output_type": "stream",
     "text": [
      "\u001b[32m[I 2022-09-27 01:28:57,298]\u001b[0m Trial 5 finished with value: 3.6938349213434005 and parameters: {'n_neighbors': 48, 'weights': 'distance', 'metric': 'manhattan'}. Best is trial 5 with value: 3.6938349213434005.\u001b[0m\n"
     ]
    },
    {
     "name": "stdout",
     "output_type": "stream",
     "text": [
      "Time cost: 1101.1102769374847\n",
      "Currently running with:\n",
      "{'n_neighbors': 80, 'weights': 'uniform', 'metric': 'manhattan'}\n"
     ]
    },
    {
     "name": "stderr",
     "output_type": "stream",
     "text": [
      "\u001b[32m[I 2022-09-27 01:50:48,890]\u001b[0m Trial 6 finished with value: 3.709920758114732 and parameters: {'n_neighbors': 80, 'weights': 'uniform', 'metric': 'manhattan'}. Best is trial 5 with value: 3.6938349213434005.\u001b[0m\n"
     ]
    },
    {
     "name": "stdout",
     "output_type": "stream",
     "text": [
      "Time cost: 1311.5912010669708\n",
      "Currently running with:\n",
      "{'n_neighbors': 90, 'weights': 'distance', 'metric': 'minkowski'}\n"
     ]
    },
    {
     "name": "stderr",
     "output_type": "stream",
     "text": [
      "\u001b[32m[I 2022-09-27 02:02:23,042]\u001b[0m Trial 7 finished with value: 3.706972591263961 and parameters: {'n_neighbors': 90, 'weights': 'distance', 'metric': 'minkowski'}. Best is trial 5 with value: 3.6938349213434005.\u001b[0m\n"
     ]
    },
    {
     "name": "stdout",
     "output_type": "stream",
     "text": [
      "Time cost: 694.1510629653931\n",
      "Currently running with:\n",
      "{'n_neighbors': 55, 'weights': 'uniform', 'metric': 'minkowski'}\n"
     ]
    },
    {
     "name": "stderr",
     "output_type": "stream",
     "text": [
      "\u001b[32m[I 2022-09-27 02:11:59,424]\u001b[0m Trial 8 finished with value: 3.710286119894419 and parameters: {'n_neighbors': 55, 'weights': 'uniform', 'metric': 'minkowski'}. Best is trial 5 with value: 3.6938349213434005.\u001b[0m\n"
     ]
    },
    {
     "name": "stdout",
     "output_type": "stream",
     "text": [
      "Time cost: 576.3802671432495\n",
      "Currently running with:\n",
      "{'n_neighbors': 42, 'weights': 'distance', 'metric': 'manhattan'}\n"
     ]
    },
    {
     "name": "stderr",
     "output_type": "stream",
     "text": [
      "\u001b[32m[I 2022-09-27 02:29:30,594]\u001b[0m Trial 9 finished with value: 3.692289680252434 and parameters: {'n_neighbors': 42, 'weights': 'distance', 'metric': 'manhattan'}. Best is trial 9 with value: 3.692289680252434.\u001b[0m\n"
     ]
    },
    {
     "name": "stdout",
     "output_type": "stream",
     "text": [
      "Time cost: 1051.1688959598541\n",
      "Currently running with:\n",
      "{'n_neighbors': 67, 'weights': 'distance', 'metric': 'euclidean'}\n"
     ]
    },
    {
     "name": "stderr",
     "output_type": "stream",
     "text": [
      "\u001b[32m[I 2022-09-27 02:39:51,115]\u001b[0m Trial 10 finished with value: 3.703420413392382 and parameters: {'n_neighbors': 67, 'weights': 'distance', 'metric': 'euclidean'}. Best is trial 9 with value: 3.692289680252434.\u001b[0m\n"
     ]
    },
    {
     "name": "stdout",
     "output_type": "stream",
     "text": [
      "Time cost: 620.5198738574982\n",
      "Currently running with:\n",
      "{'n_neighbors': 38, 'weights': 'distance', 'metric': 'manhattan'}\n"
     ]
    },
    {
     "name": "stderr",
     "output_type": "stream",
     "text": [
      "\u001b[32m[I 2022-09-27 02:56:47,300]\u001b[0m Trial 11 finished with value: 3.6924677572900295 and parameters: {'n_neighbors': 38, 'weights': 'distance', 'metric': 'manhattan'}. Best is trial 9 with value: 3.692289680252434.\u001b[0m\n"
     ]
    },
    {
     "name": "stdout",
     "output_type": "stream",
     "text": [
      "Time cost: 1016.181624174118\n",
      "Currently running with:\n",
      "{'n_neighbors': 31, 'weights': 'distance', 'metric': 'manhattan'}\n"
     ]
    },
    {
     "name": "stderr",
     "output_type": "stream",
     "text": [
      "\u001b[32m[I 2022-09-27 03:12:38,550]\u001b[0m Trial 12 finished with value: 3.69362301195107 and parameters: {'n_neighbors': 31, 'weights': 'distance', 'metric': 'manhattan'}. Best is trial 9 with value: 3.692289680252434.\u001b[0m\n"
     ]
    },
    {
     "name": "stdout",
     "output_type": "stream",
     "text": [
      "Time cost: 951.2489941120148\n",
      "Currently running with:\n",
      "{'n_neighbors': 2, 'weights': 'distance', 'metric': 'manhattan'}\n"
     ]
    },
    {
     "name": "stderr",
     "output_type": "stream",
     "text": [
      "\u001b[32m[I 2022-09-27 03:18:38,405]\u001b[0m Trial 13 finished with value: 4.263863314497401 and parameters: {'n_neighbors': 2, 'weights': 'distance', 'metric': 'manhattan'}. Best is trial 9 with value: 3.692289680252434.\u001b[0m\n"
     ]
    },
    {
     "name": "stdout",
     "output_type": "stream",
     "text": [
      "Time cost: 359.85178327560425\n",
      "Currently running with:\n",
      "{'n_neighbors': 34, 'weights': 'distance', 'metric': 'euclidean'}\n"
     ]
    },
    {
     "name": "stderr",
     "output_type": "stream",
     "text": [
      "\u001b[32m[I 2022-09-27 03:26:36,961]\u001b[0m Trial 14 finished with value: 3.7065066610403026 and parameters: {'n_neighbors': 34, 'weights': 'distance', 'metric': 'euclidean'}. Best is trial 9 with value: 3.692289680252434.\u001b[0m\n"
     ]
    },
    {
     "name": "stdout",
     "output_type": "stream",
     "text": [
      "Time cost: 478.55370688438416\n",
      "Currently running with:\n",
      "{'n_neighbors': 60, 'weights': 'distance', 'metric': 'manhattan'}\n"
     ]
    },
    {
     "name": "stderr",
     "output_type": "stream",
     "text": [
      "\u001b[32m[I 2022-09-27 03:46:25,232]\u001b[0m Trial 15 finished with value: 3.695752297876924 and parameters: {'n_neighbors': 60, 'weights': 'distance', 'metric': 'manhattan'}. Best is trial 9 with value: 3.692289680252434.\u001b[0m\n"
     ]
    },
    {
     "name": "stdout",
     "output_type": "stream",
     "text": [
      "Time cost: 1188.268387079239\n",
      "Currently running with:\n",
      "{'n_neighbors': 37, 'weights': 'distance', 'metric': 'manhattan'}\n"
     ]
    },
    {
     "name": "stderr",
     "output_type": "stream",
     "text": [
      "\u001b[32m[I 2022-09-27 04:03:10,043]\u001b[0m Trial 16 finished with value: 3.692470887415427 and parameters: {'n_neighbors': 37, 'weights': 'distance', 'metric': 'manhattan'}. Best is trial 9 with value: 3.692289680252434.\u001b[0m\n"
     ]
    },
    {
     "name": "stdout",
     "output_type": "stream",
     "text": [
      "Time cost: 1004.8105721473694\n",
      "Currently running with:\n",
      "{'n_neighbors': 71, 'weights': 'distance', 'metric': 'manhattan'}\n"
     ]
    },
    {
     "name": "stderr",
     "output_type": "stream",
     "text": [
      "\u001b[32m[I 2022-09-27 04:24:12,878]\u001b[0m Trial 17 finished with value: 3.6973782221041214 and parameters: {'n_neighbors': 71, 'weights': 'distance', 'metric': 'manhattan'}. Best is trial 9 with value: 3.692289680252434.\u001b[0m\n"
     ]
    },
    {
     "name": "stdout",
     "output_type": "stream",
     "text": [
      "Time cost: 1262.8332998752594\n",
      "Currently running with:\n",
      "{'n_neighbors': 42, 'weights': 'distance', 'metric': 'minkowski'}\n"
     ]
    },
    {
     "name": "stderr",
     "output_type": "stream",
     "text": [
      "\u001b[32m[I 2022-09-27 04:32:51,532]\u001b[0m Trial 18 finished with value: 3.7044186752795016 and parameters: {'n_neighbors': 42, 'weights': 'distance', 'metric': 'minkowski'}. Best is trial 9 with value: 3.692289680252434.\u001b[0m\n"
     ]
    },
    {
     "name": "stdout",
     "output_type": "stream",
     "text": [
      "Time cost: 518.6525478363037\n",
      "Currently running with:\n",
      "{'n_neighbors': 98, 'weights': 'distance', 'metric': 'euclidean'}\n"
     ]
    },
    {
     "name": "stderr",
     "output_type": "stream",
     "text": [
      "\u001b[32m[I 2022-09-27 04:44:49,730]\u001b[0m Trial 19 finished with value: 3.707959954838379 and parameters: {'n_neighbors': 98, 'weights': 'distance', 'metric': 'euclidean'}. Best is trial 9 with value: 3.692289680252434.\u001b[0m\n"
     ]
    },
    {
     "name": "stdout",
     "output_type": "stream",
     "text": [
      "Time cost: 718.1938619613647\n",
      "Currently running with:\n",
      "{'n_neighbors': 26, 'weights': 'distance', 'metric': 'manhattan'}\n"
     ]
    },
    {
     "name": "stderr",
     "output_type": "stream",
     "text": [
      "\u001b[32m[I 2022-09-27 04:59:41,508]\u001b[0m Trial 20 finished with value: 3.695690809528321 and parameters: {'n_neighbors': 26, 'weights': 'distance', 'metric': 'manhattan'}. Best is trial 9 with value: 3.692289680252434.\u001b[0m\n"
     ]
    },
    {
     "name": "stdout",
     "output_type": "stream",
     "text": [
      "Time cost: 891.7757029533386\n",
      "Currently running with:\n",
      "{'n_neighbors': 39, 'weights': 'distance', 'metric': 'manhattan'}\n"
     ]
    },
    {
     "name": "stderr",
     "output_type": "stream",
     "text": [
      "\u001b[32m[I 2022-09-27 05:16:49,598]\u001b[0m Trial 21 finished with value: 3.6924957675507297 and parameters: {'n_neighbors': 39, 'weights': 'distance', 'metric': 'manhattan'}. Best is trial 9 with value: 3.692289680252434.\u001b[0m\n"
     ]
    },
    {
     "name": "stdout",
     "output_type": "stream",
     "text": [
      "Time cost: 1028.0886871814728\n",
      "Currently running with:\n",
      "{'n_neighbors': 35, 'weights': 'distance', 'metric': 'manhattan'}\n"
     ]
    },
    {
     "name": "stderr",
     "output_type": "stream",
     "text": [
      "\u001b[32m[I 2022-09-27 05:33:16,760]\u001b[0m Trial 22 finished with value: 3.693037425189343 and parameters: {'n_neighbors': 35, 'weights': 'distance', 'metric': 'manhattan'}. Best is trial 9 with value: 3.692289680252434.\u001b[0m\n"
     ]
    },
    {
     "name": "stdout",
     "output_type": "stream",
     "text": [
      "Time cost: 987.1615831851959\n",
      "Currently running with:\n",
      "{'n_neighbors': 54, 'weights': 'distance', 'metric': 'manhattan'}\n"
     ]
    },
    {
     "name": "stderr",
     "output_type": "stream",
     "text": [
      "\u001b[32m[I 2022-09-27 05:52:23,376]\u001b[0m Trial 23 finished with value: 3.694820185285728 and parameters: {'n_neighbors': 54, 'weights': 'distance', 'metric': 'manhattan'}. Best is trial 9 with value: 3.692289680252434.\u001b[0m\n"
     ]
    },
    {
     "name": "stdout",
     "output_type": "stream",
     "text": [
      "Time cost: 1146.6141860485077\n",
      "Currently running with:\n",
      "{'n_neighbors': 22, 'weights': 'distance', 'metric': 'manhattan'}\n"
     ]
    },
    {
     "name": "stderr",
     "output_type": "stream",
     "text": [
      "\u001b[32m[I 2022-09-27 06:06:26,094]\u001b[0m Trial 24 finished with value: 3.69928846883761 and parameters: {'n_neighbors': 22, 'weights': 'distance', 'metric': 'manhattan'}. Best is trial 9 with value: 3.692289680252434.\u001b[0m\n"
     ]
    },
    {
     "name": "stdout",
     "output_type": "stream",
     "text": [
      "Time cost: 842.7170250415802\n",
      "Currently running with:\n",
      "{'n_neighbors': 63, 'weights': 'distance', 'metric': 'manhattan'}\n"
     ]
    },
    {
     "name": "stderr",
     "output_type": "stream",
     "text": [
      "\u001b[32m[I 2022-09-27 06:26:36,109]\u001b[0m Trial 25 finished with value: 3.6962358883542197 and parameters: {'n_neighbors': 63, 'weights': 'distance', 'metric': 'manhattan'}. Best is trial 9 with value: 3.692289680252434.\u001b[0m\n"
     ]
    },
    {
     "name": "stdout",
     "output_type": "stream",
     "text": [
      "Time cost: 1210.0138850212097\n",
      "Currently running with:\n",
      "{'n_neighbors': 50, 'weights': 'uniform', 'metric': 'manhattan'}\n"
     ]
    },
    {
     "name": "stderr",
     "output_type": "stream",
     "text": [
      "\u001b[32m[I 2022-09-27 06:45:12,537]\u001b[0m Trial 26 finished with value: 3.7053007675912957 and parameters: {'n_neighbors': 50, 'weights': 'uniform', 'metric': 'manhattan'}. Best is trial 9 with value: 3.692289680252434.\u001b[0m\n"
     ]
    },
    {
     "name": "stdout",
     "output_type": "stream",
     "text": [
      "Time cost: 1116.4265022277832\n",
      "Currently running with:\n",
      "{'n_neighbors': 29, 'weights': 'distance', 'metric': 'manhattan'}\n"
     ]
    },
    {
     "name": "stderr",
     "output_type": "stream",
     "text": [
      "\u001b[32m[I 2022-09-27 07:00:32,467]\u001b[0m Trial 27 finished with value: 3.6939019827833874 and parameters: {'n_neighbors': 29, 'weights': 'distance', 'metric': 'manhattan'}. Best is trial 9 with value: 3.692289680252434.\u001b[0m\n"
     ]
    },
    {
     "name": "stdout",
     "output_type": "stream",
     "text": [
      "Time cost: 919.9286708831787\n",
      "Currently running with:\n",
      "{'n_neighbors': 39, 'weights': 'distance', 'metric': 'minkowski'}\n"
     ]
    },
    {
     "name": "stderr",
     "output_type": "stream",
     "text": [
      "\u001b[32m[I 2022-09-27 07:08:57,735]\u001b[0m Trial 28 finished with value: 3.7052588581771726 and parameters: {'n_neighbors': 39, 'weights': 'distance', 'metric': 'minkowski'}. Best is trial 9 with value: 3.692289680252434.\u001b[0m\n"
     ]
    },
    {
     "name": "stdout",
     "output_type": "stream",
     "text": [
      "Time cost: 505.26739621162415\n",
      "Currently running with:\n",
      "{'n_neighbors': 45, 'weights': 'distance', 'metric': 'euclidean'}\n"
     ]
    },
    {
     "name": "stderr",
     "output_type": "stream",
     "text": [
      "\u001b[32m[I 2022-09-27 07:17:50,694]\u001b[0m Trial 29 finished with value: 3.704444670270919 and parameters: {'n_neighbors': 45, 'weights': 'distance', 'metric': 'euclidean'}. Best is trial 9 with value: 3.692289680252434.\u001b[0m\n"
     ]
    },
    {
     "name": "stdout",
     "output_type": "stream",
     "text": [
      "Time cost: 532.9569540023804\n",
      "Currently running with:\n",
      "{'n_neighbors': 14, 'weights': 'distance', 'metric': 'euclidean'}\n"
     ]
    },
    {
     "name": "stderr",
     "output_type": "stream",
     "text": [
      "\u001b[32m[I 2022-09-27 07:23:31,477]\u001b[0m Trial 30 finished with value: 3.74751677275894 and parameters: {'n_neighbors': 14, 'weights': 'distance', 'metric': 'euclidean'}. Best is trial 9 with value: 3.692289680252434.\u001b[0m\n"
     ]
    },
    {
     "name": "stdout",
     "output_type": "stream",
     "text": [
      "Time cost: 340.78199791908264\n",
      "Currently running with:\n",
      "{'n_neighbors': 39, 'weights': 'distance', 'metric': 'manhattan'}\n"
     ]
    },
    {
     "name": "stderr",
     "output_type": "stream",
     "text": [
      "\u001b[32m[I 2022-09-27 07:40:36,037]\u001b[0m Trial 31 finished with value: 3.6924957675507297 and parameters: {'n_neighbors': 39, 'weights': 'distance', 'metric': 'manhattan'}. Best is trial 9 with value: 3.692289680252434.\u001b[0m\n"
     ]
    },
    {
     "name": "stdout",
     "output_type": "stream",
     "text": [
      "Time cost: 1024.55921292305\n",
      "Currently running with:\n",
      "{'n_neighbors': 46, 'weights': 'distance', 'metric': 'manhattan'}\n"
     ]
    },
    {
     "name": "stderr",
     "output_type": "stream",
     "text": [
      "\u001b[32m[I 2022-09-27 07:58:40,966]\u001b[0m Trial 32 finished with value: 3.6932635845889212 and parameters: {'n_neighbors': 46, 'weights': 'distance', 'metric': 'manhattan'}. Best is trial 9 with value: 3.692289680252434.\u001b[0m\n"
     ]
    },
    {
     "name": "stdout",
     "output_type": "stream",
     "text": [
      "Time cost: 1084.9278919696808\n",
      "Currently running with:\n",
      "{'n_neighbors': 22, 'weights': 'distance', 'metric': 'manhattan'}\n"
     ]
    },
    {
     "name": "stderr",
     "output_type": "stream",
     "text": [
      "\u001b[32m[I 2022-09-27 08:12:43,620]\u001b[0m Trial 33 finished with value: 3.69928846883761 and parameters: {'n_neighbors': 22, 'weights': 'distance', 'metric': 'manhattan'}. Best is trial 9 with value: 3.692289680252434.\u001b[0m\n"
     ]
    },
    {
     "name": "stdout",
     "output_type": "stream",
     "text": [
      "Time cost: 842.650680065155\n",
      "Currently running with:\n",
      "{'n_neighbors': 38, 'weights': 'uniform', 'metric': 'manhattan'}\n"
     ]
    },
    {
     "name": "stderr",
     "output_type": "stream",
     "text": [
      "\u001b[32m[I 2022-09-27 08:29:40,000]\u001b[0m Trial 34 finished with value: 3.7039129510152473 and parameters: {'n_neighbors': 38, 'weights': 'uniform', 'metric': 'manhattan'}. Best is trial 9 with value: 3.692289680252434.\u001b[0m\n"
     ]
    },
    {
     "name": "stdout",
     "output_type": "stream",
     "text": [
      "Time cost: 1016.3797509670258\n",
      "Currently running with:\n",
      "{'n_neighbors': 54, 'weights': 'distance', 'metric': 'manhattan'}\n"
     ]
    },
    {
     "name": "stderr",
     "output_type": "stream",
     "text": [
      "\u001b[32m[I 2022-09-27 08:48:42,478]\u001b[0m Trial 35 finished with value: 3.694820185285728 and parameters: {'n_neighbors': 54, 'weights': 'distance', 'metric': 'manhattan'}. Best is trial 9 with value: 3.692289680252434.\u001b[0m\n"
     ]
    },
    {
     "name": "stdout",
     "output_type": "stream",
     "text": [
      "Time cost: 1142.4764318466187\n",
      "Currently running with:\n",
      "{'n_neighbors': 6, 'weights': 'uniform', 'metric': 'manhattan'}\n"
     ]
    },
    {
     "name": "stderr",
     "output_type": "stream",
     "text": [
      "\u001b[32m[I 2022-09-27 08:57:39,469]\u001b[0m Trial 36 finished with value: 3.83429495284841 and parameters: {'n_neighbors': 6, 'weights': 'uniform', 'metric': 'manhattan'}. Best is trial 9 with value: 3.692289680252434.\u001b[0m\n"
     ]
    },
    {
     "name": "stdout",
     "output_type": "stream",
     "text": [
      "Time cost: 536.9898700714111\n",
      "Currently running with:\n",
      "{'n_neighbors': 27, 'weights': 'distance', 'metric': 'manhattan'}\n"
     ]
    },
    {
     "name": "stderr",
     "output_type": "stream",
     "text": [
      "\u001b[32m[I 2022-09-27 09:12:45,332]\u001b[0m Trial 37 finished with value: 3.6946620550757663 and parameters: {'n_neighbors': 27, 'weights': 'distance', 'metric': 'manhattan'}. Best is trial 9 with value: 3.692289680252434.\u001b[0m\n"
     ]
    },
    {
     "name": "stdout",
     "output_type": "stream",
     "text": [
      "Time cost: 905.8620538711548\n",
      "Currently running with:\n",
      "{'n_neighbors': 43, 'weights': 'distance', 'metric': 'manhattan'}\n"
     ]
    },
    {
     "name": "stderr",
     "output_type": "stream",
     "text": [
      "\u001b[32m[I 2022-09-27 09:30:30,973]\u001b[0m Trial 38 finished with value: 3.6923853536518423 and parameters: {'n_neighbors': 43, 'weights': 'distance', 'metric': 'manhattan'}. Best is trial 9 with value: 3.692289680252434.\u001b[0m\n"
     ]
    },
    {
     "name": "stdout",
     "output_type": "stream",
     "text": [
      "Time cost: 1065.6399738788605\n",
      "Currently running with:\n",
      "{'n_neighbors': 59, 'weights': 'uniform', 'metric': 'minkowski'}\n"
     ]
    },
    {
     "name": "stderr",
     "output_type": "stream",
     "text": [
      "\u001b[32m[I 2022-09-27 09:41:11,882]\u001b[0m Trial 39 finished with value: 3.7103047711425283 and parameters: {'n_neighbors': 59, 'weights': 'uniform', 'metric': 'minkowski'}. Best is trial 9 with value: 3.692289680252434.\u001b[0m\n"
     ]
    },
    {
     "name": "stdout",
     "output_type": "stream",
     "text": [
      "Time cost: 640.9060189723969\n",
      "Currently running with:\n",
      "{'n_neighbors': 44, 'weights': 'distance', 'metric': 'manhattan'}\n"
     ]
    },
    {
     "name": "stderr",
     "output_type": "stream",
     "text": [
      "\u001b[32m[I 2022-09-27 10:00:16,439]\u001b[0m Trial 40 finished with value: 3.692721785211065 and parameters: {'n_neighbors': 44, 'weights': 'distance', 'metric': 'manhattan'}. Best is trial 9 with value: 3.692289680252434.\u001b[0m\n"
     ]
    },
    {
     "name": "stdout",
     "output_type": "stream",
     "text": [
      "Time cost: 1144.555456161499\n",
      "Currently running with:\n",
      "{'n_neighbors': 34, 'weights': 'distance', 'metric': 'manhattan'}\n"
     ]
    },
    {
     "name": "stderr",
     "output_type": "stream",
     "text": [
      "\u001b[32m[I 2022-09-27 10:17:38,457]\u001b[0m Trial 41 finished with value: 3.693240689960641 and parameters: {'n_neighbors': 34, 'weights': 'distance', 'metric': 'manhattan'}. Best is trial 9 with value: 3.692289680252434.\u001b[0m\n"
     ]
    },
    {
     "name": "stdout",
     "output_type": "stream",
     "text": [
      "Time cost: 1042.0165839195251\n",
      "Currently running with:\n",
      "{'n_neighbors': 22, 'weights': 'distance', 'metric': 'manhattan'}\n"
     ]
    },
    {
     "name": "stderr",
     "output_type": "stream",
     "text": [
      "\u001b[32m[I 2022-09-27 10:32:08,115]\u001b[0m Trial 42 finished with value: 3.69928846883761 and parameters: {'n_neighbors': 22, 'weights': 'distance', 'metric': 'manhattan'}. Best is trial 9 with value: 3.692289680252434.\u001b[0m\n"
     ]
    },
    {
     "name": "stdout",
     "output_type": "stream",
     "text": [
      "Time cost: 869.6563789844513\n",
      "Currently running with:\n",
      "{'n_neighbors': 50, 'weights': 'distance', 'metric': 'manhattan'}\n"
     ]
    },
    {
     "name": "stderr",
     "output_type": "stream",
     "text": [
      "\u001b[32m[I 2022-09-27 10:50:44,320]\u001b[0m Trial 43 finished with value: 3.6939023025871265 and parameters: {'n_neighbors': 50, 'weights': 'distance', 'metric': 'manhattan'}. Best is trial 9 with value: 3.692289680252434.\u001b[0m\n"
     ]
    },
    {
     "name": "stdout",
     "output_type": "stream",
     "text": [
      "Time cost: 1116.2044961452484\n",
      "Currently running with:\n",
      "{'n_neighbors': 41, 'weights': 'distance', 'metric': 'manhattan'}\n"
     ]
    },
    {
     "name": "stderr",
     "output_type": "stream",
     "text": [
      "\u001b[32m[I 2022-09-27 11:08:22,157]\u001b[0m Trial 44 finished with value: 3.692365506136003 and parameters: {'n_neighbors': 41, 'weights': 'distance', 'metric': 'manhattan'}. Best is trial 9 with value: 3.692289680252434.\u001b[0m\n"
     ]
    },
    {
     "name": "stdout",
     "output_type": "stream",
     "text": [
      "Time cost: 1057.835070848465\n",
      "Currently running with:\n",
      "{'n_neighbors': 32, 'weights': 'distance', 'metric': 'manhattan'}\n"
     ]
    },
    {
     "name": "stderr",
     "output_type": "stream",
     "text": [
      "\u001b[32m[I 2022-09-27 11:24:39,387]\u001b[0m Trial 45 finished with value: 3.6931627568849605 and parameters: {'n_neighbors': 32, 'weights': 'distance', 'metric': 'manhattan'}. Best is trial 9 with value: 3.692289680252434.\u001b[0m\n"
     ]
    },
    {
     "name": "stdout",
     "output_type": "stream",
     "text": [
      "Time cost: 977.2291760444641\n",
      "Currently running with:\n",
      "{'n_neighbors': 42, 'weights': 'distance', 'metric': 'manhattan'}\n"
     ]
    },
    {
     "name": "stderr",
     "output_type": "stream",
     "text": [
      "\u001b[32m[I 2022-09-27 11:42:23,152]\u001b[0m Trial 46 finished with value: 3.692289680252434 and parameters: {'n_neighbors': 42, 'weights': 'distance', 'metric': 'manhattan'}. Best is trial 9 with value: 3.692289680252434.\u001b[0m\n"
     ]
    },
    {
     "name": "stdout",
     "output_type": "stream",
     "text": [
      "Time cost: 1063.7638850212097\n",
      "Currently running with:\n",
      "{'n_neighbors': 48, 'weights': 'uniform', 'metric': 'minkowski'}\n"
     ]
    },
    {
     "name": "stderr",
     "output_type": "stream",
     "text": [
      "\u001b[32m[I 2022-09-27 11:51:35,701]\u001b[0m Trial 47 finished with value: 3.711807366642186 and parameters: {'n_neighbors': 48, 'weights': 'uniform', 'metric': 'minkowski'}. Best is trial 9 with value: 3.692289680252434.\u001b[0m\n"
     ]
    },
    {
     "name": "stdout",
     "output_type": "stream",
     "text": [
      "Time cost: 552.5480182170868\n",
      "Currently running with:\n",
      "{'n_neighbors': 44, 'weights': 'distance', 'metric': 'euclidean'}\n"
     ]
    },
    {
     "name": "stderr",
     "output_type": "stream",
     "text": [
      "\u001b[32m[I 2022-09-27 12:00:09,524]\u001b[0m Trial 48 finished with value: 3.7041789248484953 and parameters: {'n_neighbors': 44, 'weights': 'distance', 'metric': 'euclidean'}. Best is trial 9 with value: 3.692289680252434.\u001b[0m\n"
     ]
    },
    {
     "name": "stdout",
     "output_type": "stream",
     "text": [
      "Time cost: 513.8208420276642\n",
      "Currently running with:\n",
      "{'n_neighbors': 57, 'weights': 'distance', 'metric': 'manhattan'}\n"
     ]
    },
    {
     "name": "stderr",
     "output_type": "stream",
     "text": [
      "\u001b[32m[I 2022-09-27 12:19:23,752]\u001b[0m Trial 49 finished with value: 3.695314355091258 and parameters: {'n_neighbors': 57, 'weights': 'distance', 'metric': 'manhattan'}. Best is trial 9 with value: 3.692289680252434.\u001b[0m\n"
     ]
    },
    {
     "name": "stdout",
     "output_type": "stream",
     "text": [
      "Time cost: 1154.2261180877686\n"
     ]
    },
    {
     "data": {
      "text/plain": [
       "{'n_neighbors': 42, 'weights': 'distance', 'metric': 'manhattan'}"
      ]
     },
     "execution_count": 24,
     "metadata": {},
     "output_type": "execute_result"
    }
   ],
   "source": [
    "RANDOM_SEED = 2\n",
    "study = opt.create_study(direction='minimize', sampler=TPESampler(seed=RANDOM_SEED))\n",
    "study.optimize(objective, n_trials=50)\n",
    "study.best_params"
   ]
  },
  {
   "cell_type": "code",
   "execution_count": 28,
   "id": "341850e8",
   "metadata": {},
   "outputs": [
    {
     "data": {
      "text/html": [
       "<style>#sk-container-id-2 {color: black;background-color: white;}#sk-container-id-2 pre{padding: 0;}#sk-container-id-2 div.sk-toggleable {background-color: white;}#sk-container-id-2 label.sk-toggleable__label {cursor: pointer;display: block;width: 100%;margin-bottom: 0;padding: 0.3em;box-sizing: border-box;text-align: center;}#sk-container-id-2 label.sk-toggleable__label-arrow:before {content: \"▸\";float: left;margin-right: 0.25em;color: #696969;}#sk-container-id-2 label.sk-toggleable__label-arrow:hover:before {color: black;}#sk-container-id-2 div.sk-estimator:hover label.sk-toggleable__label-arrow:before {color: black;}#sk-container-id-2 div.sk-toggleable__content {max-height: 0;max-width: 0;overflow: hidden;text-align: left;background-color: #f0f8ff;}#sk-container-id-2 div.sk-toggleable__content pre {margin: 0.2em;color: black;border-radius: 0.25em;background-color: #f0f8ff;}#sk-container-id-2 input.sk-toggleable__control:checked~div.sk-toggleable__content {max-height: 200px;max-width: 100%;overflow: auto;}#sk-container-id-2 input.sk-toggleable__control:checked~label.sk-toggleable__label-arrow:before {content: \"▾\";}#sk-container-id-2 div.sk-estimator input.sk-toggleable__control:checked~label.sk-toggleable__label {background-color: #d4ebff;}#sk-container-id-2 div.sk-label input.sk-toggleable__control:checked~label.sk-toggleable__label {background-color: #d4ebff;}#sk-container-id-2 input.sk-hidden--visually {border: 0;clip: rect(1px 1px 1px 1px);clip: rect(1px, 1px, 1px, 1px);height: 1px;margin: -1px;overflow: hidden;padding: 0;position: absolute;width: 1px;}#sk-container-id-2 div.sk-estimator {font-family: monospace;background-color: #f0f8ff;border: 1px dotted black;border-radius: 0.25em;box-sizing: border-box;margin-bottom: 0.5em;}#sk-container-id-2 div.sk-estimator:hover {background-color: #d4ebff;}#sk-container-id-2 div.sk-parallel-item::after {content: \"\";width: 100%;border-bottom: 1px solid gray;flex-grow: 1;}#sk-container-id-2 div.sk-label:hover label.sk-toggleable__label {background-color: #d4ebff;}#sk-container-id-2 div.sk-serial::before {content: \"\";position: absolute;border-left: 1px solid gray;box-sizing: border-box;top: 0;bottom: 0;left: 50%;z-index: 0;}#sk-container-id-2 div.sk-serial {display: flex;flex-direction: column;align-items: center;background-color: white;padding-right: 0.2em;padding-left: 0.2em;position: relative;}#sk-container-id-2 div.sk-item {position: relative;z-index: 1;}#sk-container-id-2 div.sk-parallel {display: flex;align-items: stretch;justify-content: center;background-color: white;position: relative;}#sk-container-id-2 div.sk-item::before, #sk-container-id-2 div.sk-parallel-item::before {content: \"\";position: absolute;border-left: 1px solid gray;box-sizing: border-box;top: 0;bottom: 0;left: 50%;z-index: -1;}#sk-container-id-2 div.sk-parallel-item {display: flex;flex-direction: column;z-index: 1;position: relative;background-color: white;}#sk-container-id-2 div.sk-parallel-item:first-child::after {align-self: flex-end;width: 50%;}#sk-container-id-2 div.sk-parallel-item:last-child::after {align-self: flex-start;width: 50%;}#sk-container-id-2 div.sk-parallel-item:only-child::after {width: 0;}#sk-container-id-2 div.sk-dashed-wrapped {border: 1px dashed gray;margin: 0 0.4em 0.5em 0.4em;box-sizing: border-box;padding-bottom: 0.4em;background-color: white;}#sk-container-id-2 div.sk-label label {font-family: monospace;font-weight: bold;display: inline-block;line-height: 1.2em;}#sk-container-id-2 div.sk-label-container {text-align: center;}#sk-container-id-2 div.sk-container {/* jupyter's `normalize.less` sets `[hidden] { display: none; }` but bootstrap.min.css set `[hidden] { display: none !important; }` so we also need the `!important` here to be able to override the default hidden behavior on the sphinx rendered scikit-learn.org. See: https://github.com/scikit-learn/scikit-learn/issues/21755 */display: inline-block !important;position: relative;}#sk-container-id-2 div.sk-text-repr-fallback {display: none;}</style><div id=\"sk-container-id-2\" class=\"sk-top-container\"><div class=\"sk-text-repr-fallback\"><pre>KNeighborsRegressor(metric=&#x27;manhattan&#x27;, n_jobs=-1, n_neighbors=42,\n",
       "                    weights=&#x27;distance&#x27;)</pre><b>In a Jupyter environment, please rerun this cell to show the HTML representation or trust the notebook. <br />On GitHub, the HTML representation is unable to render, please try loading this page with nbviewer.org.</b></div><div class=\"sk-container\" hidden><div class=\"sk-item\"><div class=\"sk-estimator sk-toggleable\"><input class=\"sk-toggleable__control sk-hidden--visually\" id=\"sk-estimator-id-2\" type=\"checkbox\" checked><label for=\"sk-estimator-id-2\" class=\"sk-toggleable__label sk-toggleable__label-arrow\">KNeighborsRegressor</label><div class=\"sk-toggleable__content\"><pre>KNeighborsRegressor(metric=&#x27;manhattan&#x27;, n_jobs=-1, n_neighbors=42,\n",
       "                    weights=&#x27;distance&#x27;)</pre></div></div></div></div></div>"
      ],
      "text/plain": [
       "KNeighborsRegressor(metric='manhattan', n_jobs=-1, n_neighbors=42,\n",
       "                    weights='distance')"
      ]
     },
     "execution_count": 28,
     "metadata": {},
     "output_type": "execute_result"
    }
   ],
   "source": [
    "model = KNeighborsRegressor(**study.best_params, n_jobs=-1)\n",
    "model.fit(X_train, y_train)\n",
    "\n"
   ]
  },
  {
   "cell_type": "code",
   "execution_count": 29,
   "id": "470819c7",
   "metadata": {},
   "outputs": [
    {
     "name": "stdout",
     "output_type": "stream",
     "text": [
      "On training set: RMSE: 0.0 MAE 0.0\n",
      "On test set: RMSE: 11.310277371717827 MAE 10.033748505353776\n"
     ]
    }
   ],
   "source": [
    "y_pred_train = model.predict(X_train)\n",
    "y_pred_test  = model.predict(X_test)\n",
    "\n",
    "mae = mean_absolute_error(y_train, y_pred_train)\n",
    "mse = mean_squared_error(y_train, y_pred_train)\n",
    "rmse = np.sqrt(mse)\n",
    "print(\"On training set: RMSE:\", rmse, \"MAE\", mae)\n",
    "\n",
    "#Prediction(test) \n",
    "mae = mean_absolute_error(y_test, y_pred_test)\n",
    "mse = mean_squared_error(y_test, y_pred_test)\n",
    "rmse = np.sqrt(mse)\n",
    "print(\"On test set: RMSE:\", rmse, \"MAE\", mae)"
   ]
  },
  {
   "cell_type": "markdown",
   "id": "50dce50d",
   "metadata": {},
   "source": [
    "The result totally overfitting, try other method for this model."
   ]
  },
  {
   "cell_type": "markdown",
   "id": "accc6e6b",
   "metadata": {},
   "source": [
    "# Grid search cv"
   ]
  },
  {
   "cell_type": "code",
   "execution_count": 11,
   "id": "d4df1201",
   "metadata": {},
   "outputs": [
    {
     "name": "stdout",
     "output_type": "stream",
     "text": [
      "{'knn__n_neighbors': [1, 3, 5, 7, 9, 11, 13, 15, 17, 19, 21, 23, 25, 27, 29, 31, 33, 35, 37, 39, 41, 43, 45, 47, 49, 51], 'knn__metric': ['euclidean']}\n"
     ]
    }
   ],
   "source": [
    "k_range = list(range(1, 52, 2))\n",
    "metric = ['euclidean']\n",
    "param_grid = {'knn__n_neighbors':k_range,'knn__metric':metric}  \n",
    "print(param_grid)\n"
   ]
  },
  {
   "cell_type": "code",
   "execution_count": 12,
   "id": "e665b775",
   "metadata": {},
   "outputs": [
    {
     "name": "stdout",
     "output_type": "stream",
     "text": [
      "start fitting\n",
      "Fitting 3 folds for each of 26 candidates, totalling 78 fits\n",
      "[CV 2/3] END knn__metric=euclidean, knn__n_neighbors=9;, score=-3.987 total time= 6.1min\n",
      "[CV 1/3] END knn__metric=euclidean, knn__n_neighbors=21;, score=-3.487 total time= 8.3min\n",
      "[CV 2/3] END knn__metric=euclidean, knn__n_neighbors=31;, score=-3.915 total time= 8.7min\n",
      "[CV 3/3] END knn__metric=euclidean, knn__n_neighbors=41;, score=-3.744 total time= 9.3min\n",
      "[CV 1/3] END knn__metric=euclidean, knn__n_neighbors=11;, score=-3.546 total time= 6.6min\n",
      "[CV 2/3] END knn__metric=euclidean, knn__n_neighbors=21;, score=-3.921 total time= 8.3min\n",
      "[CV 3/3] END knn__metric=euclidean, knn__n_neighbors=31;, score=-3.751 total time= 8.6min\n",
      "[CV 1/3] END knn__metric=euclidean, knn__n_neighbors=43;, score=-3.462 total time= 9.5min\n",
      "best_score: -3.706170218238256\n",
      "best_params: {'knn__metric': 'euclidean', 'knn__n_neighbors': 51}\n",
      "[CV 2/3] END knn__metric=euclidean, knn__n_neighbors=1;, score=-5.067 total time= 2.5min\n",
      "[CV 3/3] END knn__metric=euclidean, knn__n_neighbors=11;, score=-3.811 total time= 6.5min\n",
      "[CV 3/3] END knn__metric=euclidean, knn__n_neighbors=21;, score=-3.761 total time= 8.0min\n",
      "[CV 1/3] END knn__metric=euclidean, knn__n_neighbors=33;, score=-3.466 total time= 8.7min\n",
      "[CV 2/3] END knn__metric=euclidean, knn__n_neighbors=43;, score=-3.917 total time= 9.2min\n",
      "[CV 3/3] END knn__metric=euclidean, knn__n_neighbors=1;, score=-4.838 total time= 2.5min\n",
      "[CV 2/3] END knn__metric=euclidean, knn__n_neighbors=11;, score=-3.967 total time= 6.6min\n",
      "[CV 1/3] END knn__metric=euclidean, knn__n_neighbors=23;, score=-3.481 total time= 8.3min\n",
      "[CV 2/3] END knn__metric=euclidean, knn__n_neighbors=33;, score=-3.915 total time= 8.8min\n",
      "[CV 3/3] END knn__metric=euclidean, knn__n_neighbors=43;, score=-3.743 total time= 9.1min\n",
      "[CV 1/3] END knn__metric=euclidean, knn__n_neighbors=1;, score=-4.736 total time= 2.5min\n",
      "[CV 1/3] END knn__metric=euclidean, knn__n_neighbors=13;, score=-3.528 total time= 7.0min\n",
      "[CV 2/3] END knn__metric=euclidean, knn__n_neighbors=23;, score=-3.918 total time= 8.3min\n",
      "[CV 3/3] END knn__metric=euclidean, knn__n_neighbors=33;, score=-3.750 total time= 8.7min\n",
      "[CV 1/3] END knn__metric=euclidean, knn__n_neighbors=45;, score=-3.462 total time= 9.3min\n",
      "[CV 2/3] END knn__metric=euclidean, knn__n_neighbors=3;, score=-4.264 total time= 3.9min\n",
      "[CV 3/3] END knn__metric=euclidean, knn__n_neighbors=13;, score=-3.790 total time= 6.9min\n",
      "[CV 3/3] END knn__metric=euclidean, knn__n_neighbors=23;, score=-3.756 total time= 8.1min\n",
      "[CV 1/3] END knn__metric=euclidean, knn__n_neighbors=35;, score=-3.465 total time= 8.9min\n",
      "[CV 2/3] END knn__metric=euclidean, knn__n_neighbors=45;, score=-3.917 total time= 8.9min\n",
      "[CV 3/3] END knn__metric=euclidean, knn__n_neighbors=3;, score=-4.150 total time= 3.9min\n",
      "[CV 2/3] END knn__metric=euclidean, knn__n_neighbors=13;, score=-3.951 total time= 7.0min\n",
      "[CV 1/3] END knn__metric=euclidean, knn__n_neighbors=25;, score=-3.476 total time= 8.4min\n",
      "[CV 2/3] END knn__metric=euclidean, knn__n_neighbors=35;, score=-3.914 total time= 8.9min\n",
      "[CV 3/3] END knn__metric=euclidean, knn__n_neighbors=45;, score=-3.744 total time= 8.8min\n",
      "[CV 1/3] END knn__metric=euclidean, knn__n_neighbors=3;, score=-3.889 total time= 4.0min\n",
      "[CV 1/3] END knn__metric=euclidean, knn__n_neighbors=15;, score=-3.506 total time= 7.4min\n",
      "[CV 2/3] END knn__metric=euclidean, knn__n_neighbors=25;, score=-3.915 total time= 8.3min\n",
      "[CV 3/3] END knn__metric=euclidean, knn__n_neighbors=35;, score=-3.747 total time= 8.8min\n",
      "[CV 1/3] END knn__metric=euclidean, knn__n_neighbors=47;, score=-3.462 total time= 8.8min\n",
      "[CV 2/3] END knn__metric=euclidean, knn__n_neighbors=5;, score=-4.095 total time= 4.8min\n",
      "[CV 3/3] END knn__metric=euclidean, knn__n_neighbors=15;, score=-3.774 total time= 7.3min\n",
      "[CV 3/3] END knn__metric=euclidean, knn__n_neighbors=25;, score=-3.754 total time= 8.2min\n",
      "[CV 1/3] END knn__metric=euclidean, knn__n_neighbors=37;, score=-3.464 total time= 9.1min\n",
      "[CV 2/3] END knn__metric=euclidean, knn__n_neighbors=47;, score=-3.917 total time= 8.4min\n",
      "[CV 3/3] END knn__metric=euclidean, knn__n_neighbors=5;, score=-3.945 total time= 4.8min\n",
      "[CV 2/3] END knn__metric=euclidean, knn__n_neighbors=15;, score=-3.941 total time= 7.3min\n",
      "[CV 1/3] END knn__metric=euclidean, knn__n_neighbors=27;, score=-3.473 total time= 8.6min\n",
      "[CV 2/3] END knn__metric=euclidean, knn__n_neighbors=37;, score=-3.915 total time= 9.0min\n",
      "[CV 3/3] END knn__metric=euclidean, knn__n_neighbors=47;, score=-3.744 total time= 8.2min\n",
      "[CV 1/3] END knn__metric=euclidean, knn__n_neighbors=5;, score=-3.710 total time= 4.8min\n",
      "[CV 1/3] END knn__metric=euclidean, knn__n_neighbors=17;, score=-3.498 total time= 7.7min\n",
      "[CV 2/3] END knn__metric=euclidean, knn__n_neighbors=27;, score=-3.915 total time= 8.5min\n",
      "[CV 3/3] END knn__metric=euclidean, knn__n_neighbors=37;, score=-3.745 total time= 8.9min\n",
      "[CV 1/3] END knn__metric=euclidean, knn__n_neighbors=49;, score=-3.461 total time= 8.2min\n",
      "[CV 2/3] END knn__metric=euclidean, knn__n_neighbors=7;, score=-4.021 total time= 5.5min\n",
      "[CV 3/3] END knn__metric=euclidean, knn__n_neighbors=17;, score=-3.767 total time= 7.6min\n",
      "[CV 3/3] END knn__metric=euclidean, knn__n_neighbors=27;, score=-3.753 total time= 8.4min\n",
      "[CV 1/3] END knn__metric=euclidean, knn__n_neighbors=39;, score=-3.463 total time= 9.2min\n",
      "[CV 2/3] END knn__metric=euclidean, knn__n_neighbors=49;, score=-3.916 total time= 7.8min\n",
      "[CV 3/3] END knn__metric=euclidean, knn__n_neighbors=7;, score=-3.875 total time= 5.4min\n",
      "[CV 2/3] END knn__metric=euclidean, knn__n_neighbors=17;, score=-3.932 total time= 7.7min\n",
      "[CV 1/3] END knn__metric=euclidean, knn__n_neighbors=29;, score=-3.472 total time= 8.7min\n",
      "[CV 2/3] END knn__metric=euclidean, knn__n_neighbors=39;, score=-3.915 total time= 9.2min\n",
      "[CV 3/3] END knn__metric=euclidean, knn__n_neighbors=49;, score=-3.743 total time= 7.6min\n",
      "[CV 1/3] END knn__metric=euclidean, knn__n_neighbors=7;, score=-3.631 total time= 5.5min\n",
      "[CV 1/3] END knn__metric=euclidean, knn__n_neighbors=19;, score=-3.493 total time= 8.0min\n",
      "[CV 2/3] END knn__metric=euclidean, knn__n_neighbors=29;, score=-3.913 total time= 8.7min\n",
      "[CV 3/3] END knn__metric=euclidean, knn__n_neighbors=39;, score=-3.745 total time= 9.2min\n",
      "[CV 1/3] END knn__metric=euclidean, knn__n_neighbors=51;, score=-3.459 total time= 7.5min\n",
      "[CV 3/3] END knn__metric=euclidean, knn__n_neighbors=9;, score=-3.835 total time= 6.0min\n",
      "[CV 2/3] END knn__metric=euclidean, knn__n_neighbors=19;, score=-3.926 total time= 8.0min\n",
      "[CV 3/3] END knn__metric=euclidean, knn__n_neighbors=29;, score=-3.750 total time= 8.5min\n",
      "[CV 1/3] END knn__metric=euclidean, knn__n_neighbors=41;, score=-3.463 total time= 9.4min\n",
      "[CV 2/3] END knn__metric=euclidean, knn__n_neighbors=51;, score=-3.916 total time= 7.1min\n",
      "[CV 1/3] END knn__metric=euclidean, knn__n_neighbors=9;, score=-3.577 total time= 6.1min\n",
      "[CV 3/3] END knn__metric=euclidean, knn__n_neighbors=19;, score=-3.760 total time= 7.9min\n",
      "[CV 1/3] END knn__metric=euclidean, knn__n_neighbors=31;, score=-3.468 total time= 8.8min\n",
      "[CV 2/3] END knn__metric=euclidean, knn__n_neighbors=41;, score=-3.916 total time= 9.4min\n",
      "[CV 3/3] END knn__metric=euclidean, knn__n_neighbors=51;, score=-3.743 total time= 6.9min\n"
     ]
    }
   ],
   "source": [
    "pipe = Pipeline(steps=[('ss', StandardScaler()), ('knn', KNeighborsRegressor())])\n",
    "\n",
    "grid_search = GridSearchCV(pipe,param_grid,\n",
    "                           n_jobs=-1,verbose=3,\n",
    "                           cv=KFold(3),scoring='neg_root_mean_squared_error')\n",
    "print(\"start fitting\")\n",
    "grid_search.fit(X_train,y_train)\n",
    "# print('Grid search result:',grid_search.cv_results_) \n",
    "print('best_score:',grid_search.best_score_) \n",
    "print('best_params:',grid_search.best_params_)  "
   ]
  },
  {
   "cell_type": "code",
   "execution_count": 13,
   "id": "3c6aacb4",
   "metadata": {},
   "outputs": [
    {
     "data": {
      "text/html": [
       "<style>#sk-container-id-1 {color: black;background-color: white;}#sk-container-id-1 pre{padding: 0;}#sk-container-id-1 div.sk-toggleable {background-color: white;}#sk-container-id-1 label.sk-toggleable__label {cursor: pointer;display: block;width: 100%;margin-bottom: 0;padding: 0.3em;box-sizing: border-box;text-align: center;}#sk-container-id-1 label.sk-toggleable__label-arrow:before {content: \"▸\";float: left;margin-right: 0.25em;color: #696969;}#sk-container-id-1 label.sk-toggleable__label-arrow:hover:before {color: black;}#sk-container-id-1 div.sk-estimator:hover label.sk-toggleable__label-arrow:before {color: black;}#sk-container-id-1 div.sk-toggleable__content {max-height: 0;max-width: 0;overflow: hidden;text-align: left;background-color: #f0f8ff;}#sk-container-id-1 div.sk-toggleable__content pre {margin: 0.2em;color: black;border-radius: 0.25em;background-color: #f0f8ff;}#sk-container-id-1 input.sk-toggleable__control:checked~div.sk-toggleable__content {max-height: 200px;max-width: 100%;overflow: auto;}#sk-container-id-1 input.sk-toggleable__control:checked~label.sk-toggleable__label-arrow:before {content: \"▾\";}#sk-container-id-1 div.sk-estimator input.sk-toggleable__control:checked~label.sk-toggleable__label {background-color: #d4ebff;}#sk-container-id-1 div.sk-label input.sk-toggleable__control:checked~label.sk-toggleable__label {background-color: #d4ebff;}#sk-container-id-1 input.sk-hidden--visually {border: 0;clip: rect(1px 1px 1px 1px);clip: rect(1px, 1px, 1px, 1px);height: 1px;margin: -1px;overflow: hidden;padding: 0;position: absolute;width: 1px;}#sk-container-id-1 div.sk-estimator {font-family: monospace;background-color: #f0f8ff;border: 1px dotted black;border-radius: 0.25em;box-sizing: border-box;margin-bottom: 0.5em;}#sk-container-id-1 div.sk-estimator:hover {background-color: #d4ebff;}#sk-container-id-1 div.sk-parallel-item::after {content: \"\";width: 100%;border-bottom: 1px solid gray;flex-grow: 1;}#sk-container-id-1 div.sk-label:hover label.sk-toggleable__label {background-color: #d4ebff;}#sk-container-id-1 div.sk-serial::before {content: \"\";position: absolute;border-left: 1px solid gray;box-sizing: border-box;top: 0;bottom: 0;left: 50%;z-index: 0;}#sk-container-id-1 div.sk-serial {display: flex;flex-direction: column;align-items: center;background-color: white;padding-right: 0.2em;padding-left: 0.2em;position: relative;}#sk-container-id-1 div.sk-item {position: relative;z-index: 1;}#sk-container-id-1 div.sk-parallel {display: flex;align-items: stretch;justify-content: center;background-color: white;position: relative;}#sk-container-id-1 div.sk-item::before, #sk-container-id-1 div.sk-parallel-item::before {content: \"\";position: absolute;border-left: 1px solid gray;box-sizing: border-box;top: 0;bottom: 0;left: 50%;z-index: -1;}#sk-container-id-1 div.sk-parallel-item {display: flex;flex-direction: column;z-index: 1;position: relative;background-color: white;}#sk-container-id-1 div.sk-parallel-item:first-child::after {align-self: flex-end;width: 50%;}#sk-container-id-1 div.sk-parallel-item:last-child::after {align-self: flex-start;width: 50%;}#sk-container-id-1 div.sk-parallel-item:only-child::after {width: 0;}#sk-container-id-1 div.sk-dashed-wrapped {border: 1px dashed gray;margin: 0 0.4em 0.5em 0.4em;box-sizing: border-box;padding-bottom: 0.4em;background-color: white;}#sk-container-id-1 div.sk-label label {font-family: monospace;font-weight: bold;display: inline-block;line-height: 1.2em;}#sk-container-id-1 div.sk-label-container {text-align: center;}#sk-container-id-1 div.sk-container {/* jupyter's `normalize.less` sets `[hidden] { display: none; }` but bootstrap.min.css set `[hidden] { display: none !important; }` so we also need the `!important` here to be able to override the default hidden behavior on the sphinx rendered scikit-learn.org. See: https://github.com/scikit-learn/scikit-learn/issues/21755 */display: inline-block !important;position: relative;}#sk-container-id-1 div.sk-text-repr-fallback {display: none;}</style><div id=\"sk-container-id-1\" class=\"sk-top-container\"><div class=\"sk-text-repr-fallback\"><pre>Pipeline(steps=[(&#x27;ss&#x27;, StandardScaler()),\n",
       "                (&#x27;knn&#x27;,\n",
       "                 KNeighborsRegressor(metric=&#x27;euclidean&#x27;, n_jobs=-1,\n",
       "                                     n_neighbors=51))])</pre><b>In a Jupyter environment, please rerun this cell to show the HTML representation or trust the notebook. <br />On GitHub, the HTML representation is unable to render, please try loading this page with nbviewer.org.</b></div><div class=\"sk-container\" hidden><div class=\"sk-item sk-dashed-wrapped\"><div class=\"sk-label-container\"><div class=\"sk-label sk-toggleable\"><input class=\"sk-toggleable__control sk-hidden--visually\" id=\"sk-estimator-id-1\" type=\"checkbox\" ><label for=\"sk-estimator-id-1\" class=\"sk-toggleable__label sk-toggleable__label-arrow\">Pipeline</label><div class=\"sk-toggleable__content\"><pre>Pipeline(steps=[(&#x27;ss&#x27;, StandardScaler()),\n",
       "                (&#x27;knn&#x27;,\n",
       "                 KNeighborsRegressor(metric=&#x27;euclidean&#x27;, n_jobs=-1,\n",
       "                                     n_neighbors=51))])</pre></div></div></div><div class=\"sk-serial\"><div class=\"sk-item\"><div class=\"sk-estimator sk-toggleable\"><input class=\"sk-toggleable__control sk-hidden--visually\" id=\"sk-estimator-id-2\" type=\"checkbox\" ><label for=\"sk-estimator-id-2\" class=\"sk-toggleable__label sk-toggleable__label-arrow\">StandardScaler</label><div class=\"sk-toggleable__content\"><pre>StandardScaler()</pre></div></div></div><div class=\"sk-item\"><div class=\"sk-estimator sk-toggleable\"><input class=\"sk-toggleable__control sk-hidden--visually\" id=\"sk-estimator-id-3\" type=\"checkbox\" ><label for=\"sk-estimator-id-3\" class=\"sk-toggleable__label sk-toggleable__label-arrow\">KNeighborsRegressor</label><div class=\"sk-toggleable__content\"><pre>KNeighborsRegressor(metric=&#x27;euclidean&#x27;, n_jobs=-1, n_neighbors=51)</pre></div></div></div></div></div></div></div>"
      ],
      "text/plain": [
       "Pipeline(steps=[('ss', StandardScaler()),\n",
       "                ('knn',\n",
       "                 KNeighborsRegressor(metric='euclidean', n_jobs=-1,\n",
       "                                     n_neighbors=51))])"
      ]
     },
     "execution_count": 13,
     "metadata": {},
     "output_type": "execute_result"
    }
   ],
   "source": [
    "# model = KNeighborsRegressor(metric='euclidean', n_neighbors=40, weights='distance', n_jobs=-1) # best paramater k[1:50]\n",
    "\n",
    "model = KNeighborsRegressor(metric='euclidean', n_neighbors=51, n_jobs=-1) # best paramater list(range(1, 52, 2))\n",
    "pipe = Pipeline(steps=[('ss', StandardScaler()), ('knn', model)])\n",
    "pipe.fit(X_train, y_train)"
   ]
  },
  {
   "cell_type": "code",
   "execution_count": 14,
   "id": "efd9df56",
   "metadata": {},
   "outputs": [
    {
     "name": "stdout",
     "output_type": "stream",
     "text": [
      "On training set: RMSE: 3.626017043422799 MAE 1.578559362745098\n",
      "On test set: RMSE: 4.3049023184677955 MAE 1.6339531372549019\n"
     ]
    }
   ],
   "source": [
    "\n",
    "y_pred_train = pipe.predict(X_train)\n",
    "y_pred_test  = pipe.predict(X_test)\n",
    "\n",
    "mae = mean_absolute_error(y_train, y_pred_train)\n",
    "mse = mean_squared_error(y_train, y_pred_train)\n",
    "rmse = np.sqrt(mse)\n",
    "print(\"On training set: RMSE:\", rmse, \"MAE\", mae)\n",
    "\n",
    "#Prediction(test) \n",
    "mae = mean_absolute_error(y_test, y_pred_test)\n",
    "mse = mean_squared_error(y_test, y_pred_test)\n",
    "rmse = np.sqrt(mse)\n",
    "print(\"On test set: RMSE:\", rmse, \"MAE\", mae)"
   ]
  },
  {
   "cell_type": "code",
   "execution_count": null,
   "id": "2d3fe8e1",
   "metadata": {},
   "outputs": [],
   "source": [
    "# The best knn__n_neighbors is 51 then test on the 51 - 70"
   ]
  },
  {
   "cell_type": "code",
   "execution_count": 15,
   "id": "a22110ac",
   "metadata": {},
   "outputs": [
    {
     "name": "stdout",
     "output_type": "stream",
     "text": [
      "{'knn__n_neighbors': [51, 53, 55, 57, 59, 61, 63, 65, 67, 69], 'knn__metric': ['euclidean']}\n"
     ]
    }
   ],
   "source": [
    "k_range = list(range(51, 70, 2))\n",
    "metric = ['euclidean']\n",
    "param_grid = {'knn__n_neighbors':k_range,'knn__metric':metric}  \n",
    "print(param_grid)\n",
    " "
   ]
  },
  {
   "cell_type": "code",
   "execution_count": 16,
   "id": "4620375a",
   "metadata": {},
   "outputs": [
    {
     "name": "stdout",
     "output_type": "stream",
     "text": [
      "start fitting\n",
      "Fitting 3 folds for each of 10 candidates, totalling 30 fits\n",
      "[CV 2/3] END knn__metric=euclidean, knn__n_neighbors=59;, score=-3.914 total time=12.2min\n",
      "[CV 1/3] END knn__metric=euclidean, knn__n_neighbors=61;, score=-3.459 total time=12.3min\n",
      "best_score: -3.7050443550636296\n",
      "best_params: {'knn__metric': 'euclidean', 'knn__n_neighbors': 57}\n"
     ]
    }
   ],
   "source": [
    "pipe = Pipeline(steps=[('ss', StandardScaler()), ('knn', KNeighborsRegressor())])\n",
    "\n",
    "grid_search = GridSearchCV(pipe,param_grid,\n",
    "                           n_jobs=-1,verbose=3,\n",
    "                           cv=KFold(3),scoring='neg_root_mean_squared_error')\n",
    "print(\"start fitting\")\n",
    "grid_search.fit(X_train,y_train)\n",
    "# print('Grid search result:',grid_search.cv_results_) \n",
    "print('best_score:',grid_search.best_score_) \n",
    "print('best_params:',grid_search.best_params_) "
   ]
  },
  {
   "cell_type": "code",
   "execution_count": 17,
   "id": "9be84f53",
   "metadata": {},
   "outputs": [
    {
     "data": {
      "text/html": [
       "<style>#sk-container-id-2 {color: black;background-color: white;}#sk-container-id-2 pre{padding: 0;}#sk-container-id-2 div.sk-toggleable {background-color: white;}#sk-container-id-2 label.sk-toggleable__label {cursor: pointer;display: block;width: 100%;margin-bottom: 0;padding: 0.3em;box-sizing: border-box;text-align: center;}#sk-container-id-2 label.sk-toggleable__label-arrow:before {content: \"▸\";float: left;margin-right: 0.25em;color: #696969;}#sk-container-id-2 label.sk-toggleable__label-arrow:hover:before {color: black;}#sk-container-id-2 div.sk-estimator:hover label.sk-toggleable__label-arrow:before {color: black;}#sk-container-id-2 div.sk-toggleable__content {max-height: 0;max-width: 0;overflow: hidden;text-align: left;background-color: #f0f8ff;}#sk-container-id-2 div.sk-toggleable__content pre {margin: 0.2em;color: black;border-radius: 0.25em;background-color: #f0f8ff;}#sk-container-id-2 input.sk-toggleable__control:checked~div.sk-toggleable__content {max-height: 200px;max-width: 100%;overflow: auto;}#sk-container-id-2 input.sk-toggleable__control:checked~label.sk-toggleable__label-arrow:before {content: \"▾\";}#sk-container-id-2 div.sk-estimator input.sk-toggleable__control:checked~label.sk-toggleable__label {background-color: #d4ebff;}#sk-container-id-2 div.sk-label input.sk-toggleable__control:checked~label.sk-toggleable__label {background-color: #d4ebff;}#sk-container-id-2 input.sk-hidden--visually {border: 0;clip: rect(1px 1px 1px 1px);clip: rect(1px, 1px, 1px, 1px);height: 1px;margin: -1px;overflow: hidden;padding: 0;position: absolute;width: 1px;}#sk-container-id-2 div.sk-estimator {font-family: monospace;background-color: #f0f8ff;border: 1px dotted black;border-radius: 0.25em;box-sizing: border-box;margin-bottom: 0.5em;}#sk-container-id-2 div.sk-estimator:hover {background-color: #d4ebff;}#sk-container-id-2 div.sk-parallel-item::after {content: \"\";width: 100%;border-bottom: 1px solid gray;flex-grow: 1;}#sk-container-id-2 div.sk-label:hover label.sk-toggleable__label {background-color: #d4ebff;}#sk-container-id-2 div.sk-serial::before {content: \"\";position: absolute;border-left: 1px solid gray;box-sizing: border-box;top: 0;bottom: 0;left: 50%;z-index: 0;}#sk-container-id-2 div.sk-serial {display: flex;flex-direction: column;align-items: center;background-color: white;padding-right: 0.2em;padding-left: 0.2em;position: relative;}#sk-container-id-2 div.sk-item {position: relative;z-index: 1;}#sk-container-id-2 div.sk-parallel {display: flex;align-items: stretch;justify-content: center;background-color: white;position: relative;}#sk-container-id-2 div.sk-item::before, #sk-container-id-2 div.sk-parallel-item::before {content: \"\";position: absolute;border-left: 1px solid gray;box-sizing: border-box;top: 0;bottom: 0;left: 50%;z-index: -1;}#sk-container-id-2 div.sk-parallel-item {display: flex;flex-direction: column;z-index: 1;position: relative;background-color: white;}#sk-container-id-2 div.sk-parallel-item:first-child::after {align-self: flex-end;width: 50%;}#sk-container-id-2 div.sk-parallel-item:last-child::after {align-self: flex-start;width: 50%;}#sk-container-id-2 div.sk-parallel-item:only-child::after {width: 0;}#sk-container-id-2 div.sk-dashed-wrapped {border: 1px dashed gray;margin: 0 0.4em 0.5em 0.4em;box-sizing: border-box;padding-bottom: 0.4em;background-color: white;}#sk-container-id-2 div.sk-label label {font-family: monospace;font-weight: bold;display: inline-block;line-height: 1.2em;}#sk-container-id-2 div.sk-label-container {text-align: center;}#sk-container-id-2 div.sk-container {/* jupyter's `normalize.less` sets `[hidden] { display: none; }` but bootstrap.min.css set `[hidden] { display: none !important; }` so we also need the `!important` here to be able to override the default hidden behavior on the sphinx rendered scikit-learn.org. See: https://github.com/scikit-learn/scikit-learn/issues/21755 */display: inline-block !important;position: relative;}#sk-container-id-2 div.sk-text-repr-fallback {display: none;}</style><div id=\"sk-container-id-2\" class=\"sk-top-container\"><div class=\"sk-text-repr-fallback\"><pre>Pipeline(steps=[(&#x27;ss&#x27;, StandardScaler()),\n",
       "                (&#x27;knn&#x27;,\n",
       "                 KNeighborsRegressor(metric=&#x27;euclidean&#x27;, n_jobs=-1,\n",
       "                                     n_neighbors=57))])</pre><b>In a Jupyter environment, please rerun this cell to show the HTML representation or trust the notebook. <br />On GitHub, the HTML representation is unable to render, please try loading this page with nbviewer.org.</b></div><div class=\"sk-container\" hidden><div class=\"sk-item sk-dashed-wrapped\"><div class=\"sk-label-container\"><div class=\"sk-label sk-toggleable\"><input class=\"sk-toggleable__control sk-hidden--visually\" id=\"sk-estimator-id-4\" type=\"checkbox\" ><label for=\"sk-estimator-id-4\" class=\"sk-toggleable__label sk-toggleable__label-arrow\">Pipeline</label><div class=\"sk-toggleable__content\"><pre>Pipeline(steps=[(&#x27;ss&#x27;, StandardScaler()),\n",
       "                (&#x27;knn&#x27;,\n",
       "                 KNeighborsRegressor(metric=&#x27;euclidean&#x27;, n_jobs=-1,\n",
       "                                     n_neighbors=57))])</pre></div></div></div><div class=\"sk-serial\"><div class=\"sk-item\"><div class=\"sk-estimator sk-toggleable\"><input class=\"sk-toggleable__control sk-hidden--visually\" id=\"sk-estimator-id-5\" type=\"checkbox\" ><label for=\"sk-estimator-id-5\" class=\"sk-toggleable__label sk-toggleable__label-arrow\">StandardScaler</label><div class=\"sk-toggleable__content\"><pre>StandardScaler()</pre></div></div></div><div class=\"sk-item\"><div class=\"sk-estimator sk-toggleable\"><input class=\"sk-toggleable__control sk-hidden--visually\" id=\"sk-estimator-id-6\" type=\"checkbox\" ><label for=\"sk-estimator-id-6\" class=\"sk-toggleable__label sk-toggleable__label-arrow\">KNeighborsRegressor</label><div class=\"sk-toggleable__content\"><pre>KNeighborsRegressor(metric=&#x27;euclidean&#x27;, n_jobs=-1, n_neighbors=57)</pre></div></div></div></div></div></div></div>"
      ],
      "text/plain": [
       "Pipeline(steps=[('ss', StandardScaler()),\n",
       "                ('knn',\n",
       "                 KNeighborsRegressor(metric='euclidean', n_jobs=-1,\n",
       "                                     n_neighbors=57))])"
      ]
     },
     "execution_count": 17,
     "metadata": {},
     "output_type": "execute_result"
    }
   ],
   "source": [
    "model = KNeighborsRegressor(metric='euclidean', n_neighbors=57, n_jobs=-1) # best paramater list(range(1, 52, 2))\n",
    "pipe = Pipeline(steps=[('ss', StandardScaler()), ('knn', model)])\n",
    "pipe.fit(X_train, y_train)"
   ]
  },
  {
   "cell_type": "code",
   "execution_count": 18,
   "id": "5579755b",
   "metadata": {},
   "outputs": [
    {
     "name": "stdout",
     "output_type": "stream",
     "text": [
      "[CV 3/3] END knn__metric=euclidean, knn__n_neighbors=51;, score=-3.743 total time=11.3min\n",
      "[CV 2/3] END knn__metric=euclidean, knn__n_neighbors=61;, score=-3.914 total time=12.1min\n",
      "[CV 2/3] END knn__metric=euclidean, knn__n_neighbors=51;, score=-3.916 total time=11.4min\n",
      "[CV 3/3] END knn__metric=euclidean, knn__n_neighbors=61;, score=-3.743 total time=11.9min\n",
      "[CV 1/3] END knn__metric=euclidean, knn__n_neighbors=51;, score=-3.459 total time=11.5min\n",
      "[CV 1/3] END knn__metric=euclidean, knn__n_neighbors=63;, score=-3.459 total time=12.2min\n",
      "[CV 3/3] END knn__metric=euclidean, knn__n_neighbors=53;, score=-3.743 total time=11.5min\n",
      "[CV 2/3] END knn__metric=euclidean, knn__n_neighbors=63;, score=-3.915 total time=12.1min\n",
      "[CV 1/3] END knn__metric=euclidean, knn__n_neighbors=53;, score=-3.460 total time=11.6min\n",
      "[CV 3/3] END knn__metric=euclidean, knn__n_neighbors=63;, score=-3.744 total time=12.0min\n",
      "[CV 2/3] END knn__metric=euclidean, knn__n_neighbors=53;, score=-3.915 total time=11.6min\n",
      "[CV 1/3] END knn__metric=euclidean, knn__n_neighbors=65;, score=-3.459 total time=12.2min\n",
      "[CV 2/3] END knn__metric=euclidean, knn__n_neighbors=55;, score=-3.915 total time=11.8min\n",
      "[CV 3/3] END knn__metric=euclidean, knn__n_neighbors=65;, score=-3.744 total time=12.1min\n",
      "[CV 3/3] END knn__metric=euclidean, knn__n_neighbors=55;, score=-3.742 total time=11.7min\n",
      "[CV 2/3] END knn__metric=euclidean, knn__n_neighbors=65;, score=-3.916 total time=12.1min\n",
      "[CV 1/3] END knn__metric=euclidean, knn__n_neighbors=55;, score=-3.459 total time=11.8min\n",
      "[CV 1/3] END knn__metric=euclidean, knn__n_neighbors=67;, score=-3.459 total time=12.1min\n",
      "[CV 2/3] END knn__metric=euclidean, knn__n_neighbors=57;, score=-3.914 total time=12.0min\n",
      "[CV 3/3] END knn__metric=euclidean, knn__n_neighbors=67;, score=-3.744 total time=12.0min\n",
      "[CV 3/3] END knn__metric=euclidean, knn__n_neighbors=57;, score=-3.742 total time=11.9min\n",
      "[CV 2/3] END knn__metric=euclidean, knn__n_neighbors=67;, score=-3.915 total time=12.1min\n",
      "[CV 1/3] END knn__metric=euclidean, knn__n_neighbors=57;, score=-3.459 total time=12.0min\n",
      "[CV 1/3] END knn__metric=euclidean, knn__n_neighbors=69;, score=-3.459 total time=12.1min\n",
      "[CV 3/3] END knn__metric=euclidean, knn__n_neighbors=59;, score=-3.743 total time=12.0min\n",
      "[CV 2/3] END knn__metric=euclidean, knn__n_neighbors=69;, score=-3.916 total time=12.0min\n",
      "[CV 1/3] END knn__metric=euclidean, knn__n_neighbors=59;, score=-3.459 total time=12.2min\n",
      "[CV 3/3] END knn__metric=euclidean, knn__n_neighbors=69;, score=-3.744 total time=11.9min\n",
      "On training set: RMSE: 3.6338720839780096 MAE 1.5801672368421051\n",
      "On test set: RMSE: 4.3050481662529725 MAE 1.632191403508772\n"
     ]
    }
   ],
   "source": [
    "y_pred_train = pipe.predict(X_train)\n",
    "y_pred_test  = pipe.predict(X_test)\n",
    "\n",
    "mae = mean_absolute_error(y_train, y_pred_train)\n",
    "mse = mean_squared_error(y_train, y_pred_train)\n",
    "rmse = np.sqrt(mse)\n",
    "print(\"On training set: RMSE:\", rmse, \"MAE\", mae)\n",
    "\n",
    "#Prediction(test) \n",
    "mae = mean_absolute_error(y_test, y_pred_test)\n",
    "mse = mean_squared_error(y_test, y_pred_test)\n",
    "rmse = np.sqrt(mse)\n",
    "print(\"On test set: RMSE:\", rmse, \"MAE\", mae)"
   ]
  },
  {
   "cell_type": "code",
   "execution_count": 19,
   "id": "a1788c73",
   "metadata": {},
   "outputs": [],
   "source": [
    "# Result of n_neighbors=57\n",
    "On training set: RMSE: 3.6338720839780096 MAE 1.5801672368421051\n",
    "On test set: RMSE: 4.3050481662529725 MAE 1.632191403508772\n",
    "\n",
    "# Result of n_neighbors=51\n",
    "On training set: RMSE: 3.626017043422799 MAE 1.578559362745098\n",
    "On test set: RMSE: 4.3049023184677955 MAE 1.6339531372549019     "
   ]
  },
  {
   "cell_type": "code",
   "execution_count": null,
   "id": "032ef4c7",
   "metadata": {},
   "outputs": [],
   "source": []
  }
 ],
 "metadata": {
  "kernelspec": {
   "display_name": "Python 3 (ipykernel)",
   "language": "python",
   "name": "python3"
  },
  "language_info": {
   "codemirror_mode": {
    "name": "ipython",
    "version": 3
   },
   "file_extension": ".py",
   "mimetype": "text/x-python",
   "name": "python",
   "nbconvert_exporter": "python",
   "pygments_lexer": "ipython3",
   "version": "3.9.12"
  }
 },
 "nbformat": 4,
 "nbformat_minor": 5
}
