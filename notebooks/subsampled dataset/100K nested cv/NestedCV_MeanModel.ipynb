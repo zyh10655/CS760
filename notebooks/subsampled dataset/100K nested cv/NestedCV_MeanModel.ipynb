{
 "cells": [
  {
   "cell_type": "code",
   "execution_count": 1,
   "metadata": {},
   "outputs": [],
   "source": [
    "import time\n",
    "from pathlib import Path\n",
    "import pandas as pd\n",
    "import numpy as np\n",
    "\n",
    "from sklearn.model_selection import KFold\n",
    "from sklearn.pipeline import Pipeline\n",
    "from sklearn.preprocessing import StandardScaler\n",
    "from sklearn.impute import SimpleImputer\n",
    "from sklearn.metrics import mean_absolute_error, mean_squared_error"
   ]
  },
  {
   "cell_type": "code",
   "execution_count": 2,
   "metadata": {},
   "outputs": [
    {
     "name": "stdout",
     "output_type": "stream",
     "text": [
      "Shape of the training data : (80000, 18)\n",
      "Shape of the test data : (20000, 18)\n"
     ]
    }
   ],
   "source": [
    "RANDOM_SEED = 760\n",
    "DATA_DIR = Path(\"../../../ready_data\")\n",
    "\n",
    "N_OPTUNA_TRIALS = 50\n",
    "K_FOLDS = 3 # for both outer and inner cv\n",
    "\n",
    "df_train = pd.read_parquet(DATA_DIR/\"100K18F_train_main.parquet.snappy\")\n",
    "df_test = pd.read_parquet(DATA_DIR/\"100K18F_test_main.parquet.snappy\")\n",
    "\n",
    "X_train, y_train = df_train.drop(['r_useful', 'r_id'], axis=1).values, df_train['r_useful'].values\n",
    "X_test, y_test = df_test.drop(['r_useful', 'r_id'], axis=1).values, df_test['r_useful'].values\n",
    "\n",
    "print(f\"Shape of the training data : {X_train.shape}\")\n",
    "print(f\"Shape of the test data : {X_test.shape}\")"
   ]
  },
  {
   "cell_type": "code",
   "execution_count": 3,
   "metadata": {},
   "outputs": [],
   "source": [
    "class MeanModel:\n",
    "    def __init__(self):\n",
    "        self.prediction = None\n",
    "    \n",
    "    def fit(self, X, y):\n",
    "        self.prediction = y.mean()\n",
    "    \n",
    "    def predict(self, X):\n",
    "        return np.full((X.shape[0],), self.prediction)\n",
    "\n",
    "# Mean imputation and standardisation\n",
    "model_pipe = Pipeline([\n",
    "    (\"imp\", SimpleImputer()),\n",
    "    (\"ss\", StandardScaler()),\n",
    "    (\"mm\", MeanModel())])"
   ]
  },
  {
   "cell_type": "code",
   "execution_count": 4,
   "metadata": {},
   "outputs": [],
   "source": [
    "out_cv = KFold(K_FOLDS)\n",
    "cv_results = {\n",
    "    \"rmse\": [],\n",
    "    \"mae\": []\n",
    "}\n",
    "\n",
    "# Single CV Loop. No nested CV Loop since no hyperparameters to tune\n",
    "for cv_train_ii, cv_val_ii in out_cv.split(X_train, y_train):\n",
    "    # extract cv data for this fold\n",
    "    cv_X_train, cv_y_train = X_train[cv_train_ii], y_train[cv_train_ii]\n",
    "    cv_X_val, cv_y_val = X_train[cv_val_ii], y_train[cv_val_ii]\n",
    "\n",
    "    # fit on all training data for this fold\n",
    "    model_pipe.fit(cv_X_train, cv_y_train)\n",
    "    # predict on all validation data for this fold\n",
    "    y_preds = model_pipe.predict(cv_X_val)\n",
    "\n",
    "    # calculate scores\n",
    "    rmse = mean_squared_error(cv_y_val, y_preds, squared=False)\n",
    "    mae = mean_absolute_error(cv_y_val, y_preds)\n",
    "\n",
    "    # save results for this iteration\n",
    "    cv_results[\"rmse\"].append(rmse)\n",
    "    cv_results[\"mae\"].append(mae)"
   ]
  },
  {
   "cell_type": "code",
   "execution_count": 5,
   "metadata": {},
   "outputs": [
    {
     "name": "stdout",
     "output_type": "stream",
     "text": [
      "{'rmse': [4.318820772647303, 4.064917076249376, 3.689184084034623], 'mae': [1.9020208467370534, 1.9028877044442598, 1.8866411304787063]}\n",
      "mean CV RMSE: 4.0243073109771\n",
      "mean CV MAE: 1.8971832272200064\n"
     ]
    }
   ],
   "source": [
    "print(cv_results)\n",
    "print(f\"mean CV RMSE: {np.mean(cv_results['rmse'])}\")\n",
    "print(f\"mean CV MAE: {np.mean(cv_results['mae'])}\")"
   ]
  }
 ],
 "metadata": {
  "kernelspec": {
   "display_name": "Python 3.10.6 ('CS760')",
   "language": "python",
   "name": "python3"
  },
  "language_info": {
   "codemirror_mode": {
    "name": "ipython",
    "version": 3
   },
   "file_extension": ".py",
   "mimetype": "text/x-python",
   "name": "python",
   "nbconvert_exporter": "python",
   "pygments_lexer": "ipython3",
   "version": "3.10.6"
  },
  "orig_nbformat": 4,
  "vscode": {
   "interpreter": {
    "hash": "d275a923d824725c8a5a1bac7b1c3fb204380710405e1dc55a9cc47165ea62c6"
   }
  }
 },
 "nbformat": 4,
 "nbformat_minor": 2
}
