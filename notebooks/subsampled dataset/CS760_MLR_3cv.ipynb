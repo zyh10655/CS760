{
 "cells": [
  {
   "cell_type": "markdown",
   "id": "53f82cda-4174-43e5-9f10-6ce62d5212d5",
   "metadata": {},
   "source": [
    "## Multiple linear regression(MLR) Stochastic Gradient Descent(SGD),\n",
    "### with optuna and StandardScaler\n",
    "on subsampled dataset with 3fold un shuffled cv\n",
    "20220927"
   ]
  },
  {
   "cell_type": "code",
   "execution_count": 1,
   "id": "48dc5731-3671-407c-876e-288e58666f62",
   "metadata": {},
   "outputs": [],
   "source": [
    "import pandas as pd\n",
    "import numpy as np\n",
    "import random\n",
    "import optuna as opt\n",
    "import time\n",
    "from sklearn.linear_model import SGDRegressor\n",
    "from sklearn.metrics import mean_absolute_error\n",
    "from sklearn.metrics import mean_squared_error\n",
    "from sklearn.preprocessing import StandardScaler\n",
    "from sklearn.model_selection import cross_val_score"
   ]
  },
  {
   "cell_type": "code",
   "execution_count": 2,
   "id": "a2595fd8-cb38-416e-814f-09fda1edba42",
   "metadata": {},
   "outputs": [],
   "source": [
    "#import data\n",
    "train_df = pd.read_parquet(\"train_main.parquet.snappy\")\n",
    "test_df = pd.read_parquet(\"test_main.parquet.snappy\")"
   ]
  },
  {
   "cell_type": "code",
   "execution_count": 3,
   "id": "ea4978ca-dcfe-4de3-92b4-79d4221113d3",
   "metadata": {},
   "outputs": [],
   "source": [
    "X_train = train_df.drop(['r_id','r_useful'],axis=1)\n",
    "y_train = train_df['r_useful']\n",
    "X_test = test_df.drop(['r_id','r_useful'],axis=1)\n",
    "y_test = test_df['r_useful']\n",
    "\n",
    "# standardise the features\n",
    "ss = StandardScaler()\n",
    "X_train = ss.fit_transform(X_train)\n",
    "X_test = ss.transform(X_test)"
   ]
  },
  {
   "cell_type": "code",
   "execution_count": 4,
   "id": "8703c5fb-8e43-4a8b-a870-7ce76cf33b25",
   "metadata": {},
   "outputs": [],
   "source": [
    "random.seed(760)"
   ]
  },
  {
   "cell_type": "code",
   "execution_count": 7,
   "id": "02017583-79b3-461b-b4b9-79ecf54dbf29",
   "metadata": {},
   "outputs": [],
   "source": [
    "def objective(trial):\n",
    "    start = time.time()\n",
    "    params = {\n",
    "        \"alpha\": trial.suggest_float('alpha', 0.00001, 0.005),\n",
    "        \"eta0\": trial.suggest_float('eta0', 0.005, 0.1),\n",
    "        \"power_t\": trial.suggest_float('power_t', 0.1, 0.5),\n",
    "        \"learning_rate\" : trial.suggest_categorical(\"learning_rate\", ['constant', 'optimal', 'invscaling', 'adaptive']),\n",
    "    }\n",
    "    print(\"Currently running with:\")\n",
    "    print(params)\n",
    "    \n",
    "    model = SGDRegressor(**params)\n",
    "    \n",
    "    # model.fit(X_train, y_train)\n",
    "    cvscore = np.sqrt(-np.mean(cross_val_score(model, X_train, y_train, scoring = \"neg_mean_squared_error\", cv=3)))\n",
    "    # y_pred = model.predict(X_val)\n",
    "    print(\"Time cost:\", time.time()-start)\n",
    "    # return mean_squared_error(y_val, y_pred, squared=False)\n",
    "    return cvscore"
   ]
  },
  {
   "cell_type": "code",
   "execution_count": 8,
   "id": "2459f49c-b30a-4348-90b5-c1ae51bcfc8b",
   "metadata": {},
   "outputs": [
    {
     "name": "stderr",
     "output_type": "stream",
     "text": [
      "\u001b[32m[I 2022-09-27 21:33:35,217]\u001b[0m A new study created in memory with name: no-name-b45570dd-3cee-47c4-846e-1ad3baa93d77\u001b[0m\n"
     ]
    },
    {
     "name": "stdout",
     "output_type": "stream",
     "text": [
      "Currently running with:\n",
      "{'alpha': 0.002060629794082939, 'eta0': 0.07648919656194379, 'power_t': 0.13385328671848573, 'learning_rate': 'optimal'}\n"
     ]
    },
    {
     "name": "stderr",
     "output_type": "stream",
     "text": [
      "\u001b[32m[I 2022-09-27 21:33:37,762]\u001b[0m Trial 0 finished with value: 3.811670953441106 and parameters: {'alpha': 0.002060629794082939, 'eta0': 0.07648919656194379, 'power_t': 0.13385328671848573, 'learning_rate': 'optimal'}. Best is trial 0 with value: 3.811670953441106.\u001b[0m\n"
     ]
    },
    {
     "name": "stdout",
     "output_type": "stream",
     "text": [
      "Time cost: 2.5436158180236816\n",
      "Currently running with:\n",
      "{'alpha': 0.0017801240633961682, 'eta0': 0.08510697029706524, 'power_t': 0.13294795654746583, 'learning_rate': 'invscaling'}\n"
     ]
    },
    {
     "name": "stderr",
     "output_type": "stream",
     "text": [
      "\u001b[32m[I 2022-09-27 21:33:39,681]\u001b[0m Trial 1 finished with value: 4.133560292674331 and parameters: {'alpha': 0.0017801240633961682, 'eta0': 0.08510697029706524, 'power_t': 0.13294795654746583, 'learning_rate': 'invscaling'}. Best is trial 0 with value: 3.811670953441106.\u001b[0m\n"
     ]
    },
    {
     "name": "stdout",
     "output_type": "stream",
     "text": [
      "Time cost: 1.9190051555633545\n",
      "Currently running with:\n",
      "{'alpha': 0.0012547667772409628, 'eta0': 0.06460459169239825, 'power_t': 0.14721840705186873, 'learning_rate': 'constant'}\n"
     ]
    },
    {
     "name": "stderr",
     "output_type": "stream",
     "text": [
      "\u001b[32m[I 2022-09-27 21:33:40,869]\u001b[0m Trial 2 finished with value: 71645859733.37494 and parameters: {'alpha': 0.0012547667772409628, 'eta0': 0.06460459169239825, 'power_t': 0.14721840705186873, 'learning_rate': 'constant'}. Best is trial 0 with value: 3.811670953441106.\u001b[0m\n"
     ]
    },
    {
     "name": "stdout",
     "output_type": "stream",
     "text": [
      "Time cost: 1.1855711936950684\n",
      "Currently running with:\n",
      "{'alpha': 0.004365033318647794, 'eta0': 0.008140201440448639, 'power_t': 0.3781755191136269, 'learning_rate': 'constant'}\n"
     ]
    },
    {
     "name": "stderr",
     "output_type": "stream",
     "text": [
      "\u001b[32m[I 2022-09-27 21:33:41,940]\u001b[0m Trial 3 finished with value: 4.037528751228446 and parameters: {'alpha': 0.004365033318647794, 'eta0': 0.008140201440448639, 'power_t': 0.3781755191136269, 'learning_rate': 'constant'}. Best is trial 0 with value: 3.811670953441106.\u001b[0m\n"
     ]
    },
    {
     "name": "stdout",
     "output_type": "stream",
     "text": [
      "Time cost: 1.0713386535644531\n",
      "Currently running with:\n",
      "{'alpha': 0.0005441054392776089, 'eta0': 0.0858479577108402, 'power_t': 0.3860804925524597, 'learning_rate': 'constant'}\n"
     ]
    },
    {
     "name": "stderr",
     "output_type": "stream",
     "text": [
      "\u001b[32m[I 2022-09-27 21:33:42,859]\u001b[0m Trial 4 finished with value: 29052486620.170174 and parameters: {'alpha': 0.0005441054392776089, 'eta0': 0.0858479577108402, 'power_t': 0.3860804925524597, 'learning_rate': 'constant'}. Best is trial 0 with value: 3.811670953441106.\u001b[0m\n"
     ]
    },
    {
     "name": "stdout",
     "output_type": "stream",
     "text": [
      "Time cost: 0.9189512729644775\n",
      "Currently running with:\n",
      "{'alpha': 0.001341980240720026, 'eta0': 0.015471640089214665, 'power_t': 0.3845965435015961, 'learning_rate': 'optimal'}\n"
     ]
    },
    {
     "name": "stderr",
     "output_type": "stream",
     "text": [
      "\u001b[32m[I 2022-09-27 21:33:45,353]\u001b[0m Trial 5 finished with value: 3.8124876223018984 and parameters: {'alpha': 0.001341980240720026, 'eta0': 0.015471640089214665, 'power_t': 0.3845965435015961, 'learning_rate': 'optimal'}. Best is trial 0 with value: 3.811670953441106.\u001b[0m\n"
     ]
    },
    {
     "name": "stdout",
     "output_type": "stream",
     "text": [
      "Time cost: 2.4929113388061523\n",
      "Currently running with:\n",
      "{'alpha': 0.000704474672816286, 'eta0': 0.08248525187634795, 'power_t': 0.43857171810987805, 'learning_rate': 'adaptive'}\n"
     ]
    },
    {
     "name": "stderr",
     "output_type": "stream",
     "text": [
      "\u001b[32m[I 2022-09-27 21:33:51,455]\u001b[0m Trial 6 finished with value: 3.8100230482207795 and parameters: {'alpha': 0.000704474672816286, 'eta0': 0.08248525187634795, 'power_t': 0.43857171810987805, 'learning_rate': 'adaptive'}. Best is trial 6 with value: 3.8100230482207795.\u001b[0m\n"
     ]
    },
    {
     "name": "stdout",
     "output_type": "stream",
     "text": [
      "Time cost: 6.102144002914429\n",
      "Currently running with:\n",
      "{'alpha': 0.0016750638057377828, 'eta0': 0.03204200352996582, 'power_t': 0.4010631889929801, 'learning_rate': 'constant'}\n"
     ]
    },
    {
     "name": "stderr",
     "output_type": "stream",
     "text": [
      "\u001b[32m[I 2022-09-27 21:33:52,286]\u001b[0m Trial 7 finished with value: 4.5775044846461235 and parameters: {'alpha': 0.0016750638057377828, 'eta0': 0.03204200352996582, 'power_t': 0.4010631889929801, 'learning_rate': 'constant'}. Best is trial 6 with value: 3.8100230482207795.\u001b[0m\n"
     ]
    },
    {
     "name": "stdout",
     "output_type": "stream",
     "text": [
      "Time cost: 0.8302726745605469\n",
      "Currently running with:\n",
      "{'alpha': 0.0013342763631496177, 'eta0': 0.05537517598637437, 'power_t': 0.2058235069701032, 'learning_rate': 'optimal'}\n"
     ]
    },
    {
     "name": "stderr",
     "output_type": "stream",
     "text": [
      "\u001b[32m[I 2022-09-27 21:33:54,864]\u001b[0m Trial 8 finished with value: 3.8113551053426162 and parameters: {'alpha': 0.0013342763631496177, 'eta0': 0.05537517598637437, 'power_t': 0.2058235069701032, 'learning_rate': 'optimal'}. Best is trial 6 with value: 3.8100230482207795.\u001b[0m\n"
     ]
    },
    {
     "name": "stdout",
     "output_type": "stream",
     "text": [
      "Time cost: 2.575916051864624\n",
      "Currently running with:\n",
      "{'alpha': 0.0011445233298311723, 'eta0': 0.04370986195717069, 'power_t': 0.29307451315945154, 'learning_rate': 'constant'}\n"
     ]
    },
    {
     "name": "stderr",
     "output_type": "stream",
     "text": [
      "\u001b[32m[I 2022-09-27 21:33:55,663]\u001b[0m Trial 9 finished with value: 6090193.664760735 and parameters: {'alpha': 0.0011445233298311723, 'eta0': 0.04370986195717069, 'power_t': 0.29307451315945154, 'learning_rate': 'constant'}. Best is trial 6 with value: 3.8100230482207795.\u001b[0m\n"
     ]
    },
    {
     "name": "stdout",
     "output_type": "stream",
     "text": [
      "Time cost: 0.7986555099487305\n",
      "Currently running with:\n",
      "{'alpha': 0.0033783284130177935, 'eta0': 0.09643050521210184, 'power_t': 0.4682757478028082, 'learning_rate': 'adaptive'}\n"
     ]
    },
    {
     "name": "stderr",
     "output_type": "stream",
     "text": [
      "\u001b[32m[I 2022-09-27 21:34:01,053]\u001b[0m Trial 10 finished with value: 3.810334823732801 and parameters: {'alpha': 0.0033783284130177935, 'eta0': 0.09643050521210184, 'power_t': 0.4682757478028082, 'learning_rate': 'adaptive'}. Best is trial 6 with value: 3.8100230482207795.\u001b[0m\n"
     ]
    },
    {
     "name": "stdout",
     "output_type": "stream",
     "text": [
      "Time cost: 5.389671802520752\n",
      "Currently running with:\n",
      "{'alpha': 0.003234339162329388, 'eta0': 0.0990504423260559, 'power_t': 0.47242342786589914, 'learning_rate': 'adaptive'}\n"
     ]
    },
    {
     "name": "stderr",
     "output_type": "stream",
     "text": [
      "\u001b[32m[I 2022-09-27 21:34:06,075]\u001b[0m Trial 11 finished with value: 3.8103091103615747 and parameters: {'alpha': 0.003234339162329388, 'eta0': 0.0990504423260559, 'power_t': 0.47242342786589914, 'learning_rate': 'adaptive'}. Best is trial 6 with value: 3.8100230482207795.\u001b[0m\n"
     ]
    },
    {
     "name": "stdout",
     "output_type": "stream",
     "text": [
      "Time cost: 5.020378112792969\n",
      "Currently running with:\n",
      "{'alpha': 0.0029451701297326036, 'eta0': 0.09846789491517675, 'power_t': 0.4878741183667104, 'learning_rate': 'adaptive'}\n"
     ]
    },
    {
     "name": "stderr",
     "output_type": "stream",
     "text": [
      "\u001b[32m[I 2022-09-27 21:34:11,590]\u001b[0m Trial 12 finished with value: 3.8102488793640488 and parameters: {'alpha': 0.0029451701297326036, 'eta0': 0.09846789491517675, 'power_t': 0.4878741183667104, 'learning_rate': 'adaptive'}. Best is trial 6 with value: 3.8100230482207795.\u001b[0m\n"
     ]
    },
    {
     "name": "stdout",
     "output_type": "stream",
     "text": [
      "Time cost: 5.51449179649353\n",
      "Currently running with:\n",
      "{'alpha': 1.4632804556385156e-05, 'eta0': 0.07138168112612864, 'power_t': 0.47267200273907894, 'learning_rate': 'adaptive'}\n"
     ]
    },
    {
     "name": "stderr",
     "output_type": "stream",
     "text": [
      "\u001b[32m[I 2022-09-27 21:34:17,650]\u001b[0m Trial 13 finished with value: 3.8100341236801754 and parameters: {'alpha': 1.4632804556385156e-05, 'eta0': 0.07138168112612864, 'power_t': 0.47267200273907894, 'learning_rate': 'adaptive'}. Best is trial 6 with value: 3.8100230482207795.\u001b[0m\n"
     ]
    },
    {
     "name": "stdout",
     "output_type": "stream",
     "text": [
      "Time cost: 6.059195041656494\n",
      "Currently running with:\n",
      "{'alpha': 6.87883896491611e-05, 'eta0': 0.06785334100393953, 'power_t': 0.2956242294161411, 'learning_rate': 'adaptive'}\n"
     ]
    },
    {
     "name": "stderr",
     "output_type": "stream",
     "text": [
      "\u001b[32m[I 2022-09-27 21:34:22,575]\u001b[0m Trial 14 finished with value: 3.810002325946345 and parameters: {'alpha': 6.87883896491611e-05, 'eta0': 0.06785334100393953, 'power_t': 0.2956242294161411, 'learning_rate': 'adaptive'}. Best is trial 14 with value: 3.810002325946345.\u001b[0m\n"
     ]
    },
    {
     "name": "stdout",
     "output_type": "stream",
     "text": [
      "Time cost: 4.924126386642456\n",
      "Currently running with:\n",
      "{'alpha': 1.2521166874394847e-05, 'eta0': 0.05802658690831372, 'power_t': 0.28578596574449044, 'learning_rate': 'adaptive'}\n"
     ]
    },
    {
     "name": "stderr",
     "output_type": "stream",
     "text": [
      "\u001b[32m[I 2022-09-27 21:34:28,488]\u001b[0m Trial 15 finished with value: 3.810003126320473 and parameters: {'alpha': 1.2521166874394847e-05, 'eta0': 0.05802658690831372, 'power_t': 0.28578596574449044, 'learning_rate': 'adaptive'}. Best is trial 14 with value: 3.810002325946345.\u001b[0m\n"
     ]
    },
    {
     "name": "stdout",
     "output_type": "stream",
     "text": [
      "Time cost: 5.913564205169678\n",
      "Currently running with:\n",
      "{'alpha': 4.074296586231916e-05, 'eta0': 0.04542310153300006, 'power_t': 0.28960341083929914, 'learning_rate': 'invscaling'}\n"
     ]
    },
    {
     "name": "stderr",
     "output_type": "stream",
     "text": [
      "\u001b[32m[I 2022-09-27 21:34:31,022]\u001b[0m Trial 16 finished with value: 3.8164931940350963 and parameters: {'alpha': 4.074296586231916e-05, 'eta0': 0.04542310153300006, 'power_t': 0.28960341083929914, 'learning_rate': 'invscaling'}. Best is trial 14 with value: 3.810002325946345.\u001b[0m\n"
     ]
    },
    {
     "name": "stdout",
     "output_type": "stream",
     "text": [
      "Time cost: 2.5329957008361816\n",
      "Currently running with:\n",
      "{'alpha': 0.004962870976477726, 'eta0': 0.05671244654501128, 'power_t': 0.24052706095541848, 'learning_rate': 'adaptive'}\n"
     ]
    },
    {
     "name": "stderr",
     "output_type": "stream",
     "text": [
      "\u001b[32m[I 2022-09-27 21:34:36,726]\u001b[0m Trial 17 finished with value: 3.81056461529066 and parameters: {'alpha': 0.004962870976477726, 'eta0': 0.05671244654501128, 'power_t': 0.24052706095541848, 'learning_rate': 'adaptive'}. Best is trial 14 with value: 3.810002325946345.\u001b[0m\n"
     ]
    },
    {
     "name": "stdout",
     "output_type": "stream",
     "text": [
      "Time cost: 5.702970266342163\n",
      "Currently running with:\n",
      "{'alpha': 0.0005971460913664461, 'eta0': 0.03023801622054243, 'power_t': 0.24563859864016108, 'learning_rate': 'adaptive'}\n"
     ]
    },
    {
     "name": "stderr",
     "output_type": "stream",
     "text": [
      "\u001b[32m[I 2022-09-27 21:34:41,833]\u001b[0m Trial 18 finished with value: 3.8100488140102136 and parameters: {'alpha': 0.0005971460913664461, 'eta0': 0.03023801622054243, 'power_t': 0.24563859864016108, 'learning_rate': 'adaptive'}. Best is trial 14 with value: 3.810002325946345.\u001b[0m\n"
     ]
    },
    {
     "name": "stdout",
     "output_type": "stream",
     "text": [
      "Time cost: 5.105737686157227\n",
      "Currently running with:\n",
      "{'alpha': 0.00043872106025595093, 'eta0': 0.06665196183340863, 'power_t': 0.3435671178262042, 'learning_rate': 'adaptive'}\n"
     ]
    },
    {
     "name": "stderr",
     "output_type": "stream",
     "text": [
      "\u001b[32m[I 2022-09-27 21:34:48,060]\u001b[0m Trial 19 finished with value: 3.8100202585237857 and parameters: {'alpha': 0.00043872106025595093, 'eta0': 0.06665196183340863, 'power_t': 0.3435671178262042, 'learning_rate': 'adaptive'}. Best is trial 14 with value: 3.810002325946345.\u001b[0m\n"
     ]
    },
    {
     "name": "stdout",
     "output_type": "stream",
     "text": [
      "Time cost: 6.227092981338501\n",
      "Currently running with:\n",
      "{'alpha': 0.002467846269821057, 'eta0': 0.044798156964347434, 'power_t': 0.33063220547364264, 'learning_rate': 'invscaling'}\n"
     ]
    },
    {
     "name": "stderr",
     "output_type": "stream",
     "text": [
      "\u001b[32m[I 2022-09-27 21:34:50,264]\u001b[0m Trial 20 finished with value: 3.819103109656988 and parameters: {'alpha': 0.002467846269821057, 'eta0': 0.044798156964347434, 'power_t': 0.33063220547364264, 'learning_rate': 'invscaling'}. Best is trial 14 with value: 3.810002325946345.\u001b[0m\n"
     ]
    },
    {
     "name": "stdout",
     "output_type": "stream",
     "text": [
      "Time cost: 2.2023587226867676\n",
      "Currently running with:\n",
      "{'alpha': 0.0003282705466782377, 'eta0': 0.06537761973620722, 'power_t': 0.33191274081022504, 'learning_rate': 'adaptive'}\n"
     ]
    },
    {
     "name": "stderr",
     "output_type": "stream",
     "text": [
      "\u001b[32m[I 2022-09-27 21:34:55,083]\u001b[0m Trial 21 finished with value: 3.8100183153453844 and parameters: {'alpha': 0.0003282705466782377, 'eta0': 0.06537761973620722, 'power_t': 0.33191274081022504, 'learning_rate': 'adaptive'}. Best is trial 14 with value: 3.810002325946345.\u001b[0m\n"
     ]
    },
    {
     "name": "stdout",
     "output_type": "stream",
     "text": [
      "Time cost: 4.818409442901611\n",
      "Currently running with:\n",
      "{'alpha': 1.281539060941112e-05, 'eta0': 0.06196375308331685, 'power_t': 0.2616102434212142, 'learning_rate': 'adaptive'}\n"
     ]
    },
    {
     "name": "stderr",
     "output_type": "stream",
     "text": [
      "\u001b[32m[I 2022-09-27 21:34:59,899]\u001b[0m Trial 22 finished with value: 3.810016935932415 and parameters: {'alpha': 1.281539060941112e-05, 'eta0': 0.06196375308331685, 'power_t': 0.2616102434212142, 'learning_rate': 'adaptive'}. Best is trial 14 with value: 3.810002325946345.\u001b[0m\n"
     ]
    },
    {
     "name": "stdout",
     "output_type": "stream",
     "text": [
      "Time cost: 4.815106153488159\n",
      "Currently running with:\n",
      "{'alpha': 0.0008853588565632129, 'eta0': 0.05739857354892941, 'power_t': 0.25215769363941837, 'learning_rate': 'adaptive'}\n"
     ]
    },
    {
     "name": "stderr",
     "output_type": "stream",
     "text": [
      "\u001b[32m[I 2022-09-27 21:35:04,378]\u001b[0m Trial 23 finished with value: 3.8100262916156957 and parameters: {'alpha': 0.0008853588565632129, 'eta0': 0.05739857354892941, 'power_t': 0.25215769363941837, 'learning_rate': 'adaptive'}. Best is trial 14 with value: 3.810002325946345.\u001b[0m\n"
     ]
    },
    {
     "name": "stdout",
     "output_type": "stream",
     "text": [
      "Time cost: 4.477515697479248\n",
      "Currently running with:\n",
      "{'alpha': 4.731286846075509e-05, 'eta0': 0.07392631510059561, 'power_t': 0.21739701616945972, 'learning_rate': 'adaptive'}\n"
     ]
    },
    {
     "name": "stderr",
     "output_type": "stream",
     "text": [
      "\u001b[32m[I 2022-09-27 21:35:09,436]\u001b[0m Trial 24 finished with value: 3.810022331060095 and parameters: {'alpha': 4.731286846075509e-05, 'eta0': 0.07392631510059561, 'power_t': 0.21739701616945972, 'learning_rate': 'adaptive'}. Best is trial 14 with value: 3.810002325946345.\u001b[0m\n"
     ]
    },
    {
     "name": "stdout",
     "output_type": "stream",
     "text": [
      "Time cost: 5.056739568710327\n",
      "Currently running with:\n",
      "{'alpha': 0.0009246796102144353, 'eta0': 0.036305742694659186, 'power_t': 0.17248032433770258, 'learning_rate': 'adaptive'}\n"
     ]
    },
    {
     "name": "stderr",
     "output_type": "stream",
     "text": [
      "\u001b[32m[I 2022-09-27 21:35:14,173]\u001b[0m Trial 25 finished with value: 3.8100201902003805 and parameters: {'alpha': 0.0009246796102144353, 'eta0': 0.036305742694659186, 'power_t': 0.17248032433770258, 'learning_rate': 'adaptive'}. Best is trial 14 with value: 3.810002325946345.\u001b[0m\n"
     ]
    },
    {
     "name": "stdout",
     "output_type": "stream",
     "text": [
      "Time cost: 4.736776828765869\n",
      "Currently running with:\n",
      "{'alpha': 0.0003507140897775417, 'eta0': 0.049766910458968264, 'power_t': 0.27780691334443763, 'learning_rate': 'adaptive'}\n"
     ]
    },
    {
     "name": "stderr",
     "output_type": "stream",
     "text": [
      "\u001b[32m[I 2022-09-27 21:35:19,472]\u001b[0m Trial 26 finished with value: 3.8099933784424187 and parameters: {'alpha': 0.0003507140897775417, 'eta0': 0.049766910458968264, 'power_t': 0.27780691334443763, 'learning_rate': 'adaptive'}. Best is trial 26 with value: 3.8099933784424187.\u001b[0m\n"
     ]
    },
    {
     "name": "stdout",
     "output_type": "stream",
     "text": [
      "Time cost: 5.298367023468018\n",
      "Currently running with:\n",
      "{'alpha': 0.0004487724580652581, 'eta0': 0.051183359745288856, 'power_t': 0.3132281428784741, 'learning_rate': 'adaptive'}\n"
     ]
    },
    {
     "name": "stderr",
     "output_type": "stream",
     "text": [
      "\u001b[32m[I 2022-09-27 21:35:25,718]\u001b[0m Trial 27 finished with value: 3.810012760294984 and parameters: {'alpha': 0.0004487724580652581, 'eta0': 0.051183359745288856, 'power_t': 0.3132281428784741, 'learning_rate': 'adaptive'}. Best is trial 26 with value: 3.8099933784424187.\u001b[0m\n"
     ]
    },
    {
     "name": "stdout",
     "output_type": "stream",
     "text": [
      "Time cost: 6.245042324066162\n",
      "Currently running with:\n",
      "{'alpha': 0.0009460112302753065, 'eta0': 0.022811538012456056, 'power_t': 0.28417866091897953, 'learning_rate': 'optimal'}\n"
     ]
    },
    {
     "name": "stderr",
     "output_type": "stream",
     "text": [
      "\u001b[32m[I 2022-09-27 21:35:28,459]\u001b[0m Trial 28 finished with value: 3.811889120170779 and parameters: {'alpha': 0.0009460112302753065, 'eta0': 0.022811538012456056, 'power_t': 0.28417866091897953, 'learning_rate': 'optimal'}. Best is trial 26 with value: 3.8099933784424187.\u001b[0m\n"
     ]
    },
    {
     "name": "stdout",
     "output_type": "stream",
     "text": [
      "Time cost: 2.7399215698242188\n",
      "Currently running with:\n",
      "{'alpha': 0.0023972543253416366, 'eta0': 0.04973023530811026, 'power_t': 0.20249702827052282, 'learning_rate': 'invscaling'}\n"
     ]
    },
    {
     "name": "stderr",
     "output_type": "stream",
     "text": [
      "\u001b[32m[I 2022-09-27 21:35:31,164]\u001b[0m Trial 29 finished with value: 3.8823564783525875 and parameters: {'alpha': 0.0023972543253416366, 'eta0': 0.04973023530811026, 'power_t': 0.20249702827052282, 'learning_rate': 'invscaling'}. Best is trial 26 with value: 3.8099933784424187.\u001b[0m\n"
     ]
    },
    {
     "name": "stdout",
     "output_type": "stream",
     "text": [
      "Time cost: 2.7044568061828613\n",
      "Currently running with:\n",
      "{'alpha': 0.0019503692017179572, 'eta0': 0.07773027347981648, 'power_t': 0.2726378209272056, 'learning_rate': 'optimal'}\n"
     ]
    },
    {
     "name": "stderr",
     "output_type": "stream",
     "text": [
      "\u001b[32m[I 2022-09-27 21:35:32,785]\u001b[0m Trial 30 finished with value: 3.812874795342675 and parameters: {'alpha': 0.0019503692017179572, 'eta0': 0.07773027347981648, 'power_t': 0.2726378209272056, 'learning_rate': 'optimal'}. Best is trial 26 with value: 3.8099933784424187.\u001b[0m\n"
     ]
    },
    {
     "name": "stdout",
     "output_type": "stream",
     "text": [
      "Time cost: 1.6196768283843994\n",
      "Currently running with:\n",
      "{'alpha': 0.00035892211298664295, 'eta0': 0.05095742384983504, 'power_t': 0.3182730597257874, 'learning_rate': 'adaptive'}\n"
     ]
    },
    {
     "name": "stderr",
     "output_type": "stream",
     "text": [
      "\u001b[32m[I 2022-09-27 21:35:39,265]\u001b[0m Trial 31 finished with value: 3.8100245227195098 and parameters: {'alpha': 0.00035892211298664295, 'eta0': 0.05095742384983504, 'power_t': 0.3182730597257874, 'learning_rate': 'adaptive'}. Best is trial 26 with value: 3.8099933784424187.\u001b[0m\n"
     ]
    },
    {
     "name": "stdout",
     "output_type": "stream",
     "text": [
      "Time cost: 6.4792468547821045\n",
      "Currently running with:\n",
      "{'alpha': 0.0003519652261567099, 'eta0': 0.03945267289657289, 'power_t': 0.35366855398729746, 'learning_rate': 'adaptive'}\n"
     ]
    },
    {
     "name": "stderr",
     "output_type": "stream",
     "text": [
      "\u001b[32m[I 2022-09-27 21:35:44,538]\u001b[0m Trial 32 finished with value: 3.809985308061949 and parameters: {'alpha': 0.0003519652261567099, 'eta0': 0.03945267289657289, 'power_t': 0.35366855398729746, 'learning_rate': 'adaptive'}. Best is trial 32 with value: 3.809985308061949.\u001b[0m\n"
     ]
    },
    {
     "name": "stdout",
     "output_type": "stream",
     "text": [
      "Time cost: 5.271732330322266\n",
      "Currently running with:\n",
      "{'alpha': 0.001513472229172357, 'eta0': 0.033010967114074204, 'power_t': 0.3547810888697708, 'learning_rate': 'adaptive'}\n"
     ]
    },
    {
     "name": "stderr",
     "output_type": "stream",
     "text": [
      "\u001b[32m[I 2022-09-27 21:35:49,052]\u001b[0m Trial 33 finished with value: 3.810111519561619 and parameters: {'alpha': 0.001513472229172357, 'eta0': 0.033010967114074204, 'power_t': 0.3547810888697708, 'learning_rate': 'adaptive'}. Best is trial 32 with value: 3.809985308061949.\u001b[0m\n"
     ]
    },
    {
     "name": "stdout",
     "output_type": "stream",
     "text": [
      "Time cost: 4.511677026748657\n",
      "Currently running with:\n",
      "{'alpha': 0.0008265295105081524, 'eta0': 0.03789766123597157, 'power_t': 0.3578369186202092, 'learning_rate': 'adaptive'}\n"
     ]
    },
    {
     "name": "stderr",
     "output_type": "stream",
     "text": [
      "\u001b[32m[I 2022-09-27 21:35:54,352]\u001b[0m Trial 34 finished with value: 3.8100308688339557 and parameters: {'alpha': 0.0008265295105081524, 'eta0': 0.03789766123597157, 'power_t': 0.3578369186202092, 'learning_rate': 'adaptive'}. Best is trial 32 with value: 3.809985308061949.\u001b[0m\n"
     ]
    },
    {
     "name": "stdout",
     "output_type": "stream",
     "text": [
      "Time cost: 5.300043821334839\n",
      "Currently running with:\n",
      "{'alpha': 0.00028970197578085603, 'eta0': 0.05958916399382424, 'power_t': 0.2987674028281959, 'learning_rate': 'adaptive'}\n"
     ]
    },
    {
     "name": "stderr",
     "output_type": "stream",
     "text": [
      "\u001b[32m[I 2022-09-27 21:36:00,118]\u001b[0m Trial 35 finished with value: 3.810025987483935 and parameters: {'alpha': 0.00028970197578085603, 'eta0': 0.05958916399382424, 'power_t': 0.2987674028281959, 'learning_rate': 'adaptive'}. Best is trial 32 with value: 3.809985308061949.\u001b[0m\n"
     ]
    },
    {
     "name": "stdout",
     "output_type": "stream",
     "text": [
      "Time cost: 5.764476776123047\n",
      "Currently running with:\n",
      "{'alpha': 0.0010756687646542745, 'eta0': 0.06875649586997633, 'power_t': 0.10715550101124272, 'learning_rate': 'invscaling'}\n"
     ]
    },
    {
     "name": "stderr",
     "output_type": "stream",
     "text": [
      "\u001b[32m[I 2022-09-27 21:36:01,713]\u001b[0m Trial 36 finished with value: 5.0192854834469305 and parameters: {'alpha': 0.0010756687646542745, 'eta0': 0.06875649586997633, 'power_t': 0.10715550101124272, 'learning_rate': 'invscaling'}. Best is trial 32 with value: 3.809985308061949.\u001b[0m\n"
     ]
    },
    {
     "name": "stdout",
     "output_type": "stream",
     "text": [
      "Time cost: 1.594069004058838\n",
      "Currently running with:\n",
      "{'alpha': 0.0038255150729309484, 'eta0': 0.04243245615183751, 'power_t': 0.40625332192117514, 'learning_rate': 'constant'}\n"
     ]
    },
    {
     "name": "stderr",
     "output_type": "stream",
     "text": [
      "\u001b[32m[I 2022-09-27 21:36:02,681]\u001b[0m Trial 37 finished with value: 34.0080360461544 and parameters: {'alpha': 0.0038255150729309484, 'eta0': 0.04243245615183751, 'power_t': 0.40625332192117514, 'learning_rate': 'constant'}. Best is trial 32 with value: 3.809985308061949.\u001b[0m\n"
     ]
    },
    {
     "name": "stdout",
     "output_type": "stream",
     "text": [
      "Time cost: 0.9677474498748779\n",
      "Currently running with:\n",
      "{'alpha': 0.0005961047426307718, 'eta0': 0.0894654056352403, 'power_t': 0.36690787524525725, 'learning_rate': 'adaptive'}\n"
     ]
    },
    {
     "name": "stderr",
     "output_type": "stream",
     "text": [
      "\u001b[32m[I 2022-09-27 21:36:08,706]\u001b[0m Trial 38 finished with value: 3.810021950670098 and parameters: {'alpha': 0.0005961047426307718, 'eta0': 0.0894654056352403, 'power_t': 0.36690787524525725, 'learning_rate': 'adaptive'}. Best is trial 32 with value: 3.809985308061949.\u001b[0m\n"
     ]
    },
    {
     "name": "stdout",
     "output_type": "stream",
     "text": [
      "Time cost: 6.024354934692383\n",
      "Currently running with:\n",
      "{'alpha': 0.002169087234824597, 'eta0': 0.025199640482677407, 'power_t': 0.21957249338417423, 'learning_rate': 'optimal'}\n"
     ]
    },
    {
     "name": "stderr",
     "output_type": "stream",
     "text": [
      "\u001b[32m[I 2022-09-27 21:36:11,169]\u001b[0m Trial 39 finished with value: 3.8123732643691937 and parameters: {'alpha': 0.002169087234824597, 'eta0': 0.025199640482677407, 'power_t': 0.21957249338417423, 'learning_rate': 'optimal'}. Best is trial 32 with value: 3.809985308061949.\u001b[0m\n"
     ]
    },
    {
     "name": "stdout",
     "output_type": "stream",
     "text": [
      "Time cost: 2.460538625717163\n",
      "Currently running with:\n",
      "{'alpha': 0.0015596716265496636, 'eta0': 0.011441897464021696, 'power_t': 0.31237500131149537, 'learning_rate': 'constant'}\n"
     ]
    },
    {
     "name": "stderr",
     "output_type": "stream",
     "text": [
      "\u001b[32m[I 2022-09-27 21:36:12,216]\u001b[0m Trial 40 finished with value: 4.179678975931879 and parameters: {'alpha': 0.0015596716265496636, 'eta0': 0.011441897464021696, 'power_t': 0.31237500131149537, 'learning_rate': 'constant'}. Best is trial 32 with value: 3.809985308061949.\u001b[0m\n"
     ]
    },
    {
     "name": "stdout",
     "output_type": "stream",
     "text": [
      "Time cost: 1.0454933643341064\n",
      "Currently running with:\n",
      "{'alpha': 0.00022749786943467896, 'eta0': 0.0517906444295112, 'power_t': 0.31259144598354305, 'learning_rate': 'adaptive'}\n"
     ]
    },
    {
     "name": "stderr",
     "output_type": "stream",
     "text": [
      "\u001b[32m[I 2022-09-27 21:36:18,544]\u001b[0m Trial 41 finished with value: 3.8099985843234494 and parameters: {'alpha': 0.00022749786943467896, 'eta0': 0.0517906444295112, 'power_t': 0.31259144598354305, 'learning_rate': 'adaptive'}. Best is trial 32 with value: 3.809985308061949.\u001b[0m\n"
     ]
    },
    {
     "name": "stdout",
     "output_type": "stream",
     "text": [
      "Time cost: 6.327896356582642\n",
      "Currently running with:\n",
      "{'alpha': 0.0002480554505383322, 'eta0': 0.047976866537168865, 'power_t': 0.2771201882271289, 'learning_rate': 'adaptive'}\n"
     ]
    },
    {
     "name": "stderr",
     "output_type": "stream",
     "text": [
      "\u001b[32m[I 2022-09-27 21:36:24,654]\u001b[0m Trial 42 finished with value: 3.8100314623268603 and parameters: {'alpha': 0.0002480554505383322, 'eta0': 0.047976866537168865, 'power_t': 0.2771201882271289, 'learning_rate': 'adaptive'}. Best is trial 32 with value: 3.809985308061949.\u001b[0m\n"
     ]
    },
    {
     "name": "stdout",
     "output_type": "stream",
     "text": [
      "Time cost: 6.108816146850586\n",
      "Currently running with:\n",
      "{'alpha': 0.0006309291343541124, 'eta0': 0.053856829883736065, 'power_t': 0.33426595219452665, 'learning_rate': 'adaptive'}\n"
     ]
    },
    {
     "name": "stderr",
     "output_type": "stream",
     "text": [
      "\u001b[32m[I 2022-09-27 21:36:29,617]\u001b[0m Trial 43 finished with value: 3.810052781046918 and parameters: {'alpha': 0.0006309291343541124, 'eta0': 0.053856829883736065, 'power_t': 0.33426595219452665, 'learning_rate': 'adaptive'}. Best is trial 32 with value: 3.809985308061949.\u001b[0m\n"
     ]
    },
    {
     "name": "stdout",
     "output_type": "stream",
     "text": [
      "Time cost: 4.960942029953003\n",
      "Currently running with:\n",
      "{'alpha': 0.00019598195398433035, 'eta0': 0.039803155110261536, 'power_t': 0.4343282673690171, 'learning_rate': 'adaptive'}\n"
     ]
    },
    {
     "name": "stderr",
     "output_type": "stream",
     "text": [
      "\u001b[32m[I 2022-09-27 21:36:35,053]\u001b[0m Trial 44 finished with value: 3.809979917232143 and parameters: {'alpha': 0.00019598195398433035, 'eta0': 0.039803155110261536, 'power_t': 0.4343282673690171, 'learning_rate': 'adaptive'}. Best is trial 44 with value: 3.809979917232143.\u001b[0m\n"
     ]
    },
    {
     "name": "stdout",
     "output_type": "stream",
     "text": [
      "Time cost: 5.435905933380127\n",
      "Currently running with:\n",
      "{'alpha': 0.0013342950028564535, 'eta0': 0.037902490693876745, 'power_t': 0.4216966391874498, 'learning_rate': 'adaptive'}\n"
     ]
    },
    {
     "name": "stderr",
     "output_type": "stream",
     "text": [
      "\u001b[32m[I 2022-09-27 21:36:40,278]\u001b[0m Trial 45 finished with value: 3.8100499454731027 and parameters: {'alpha': 0.0013342950028564535, 'eta0': 0.037902490693876745, 'power_t': 0.4216966391874498, 'learning_rate': 'adaptive'}. Best is trial 44 with value: 3.809979917232143.\u001b[0m\n"
     ]
    },
    {
     "name": "stdout",
     "output_type": "stream",
     "text": [
      "Time cost: 5.22333836555481\n",
      "Currently running with:\n",
      "{'alpha': 0.0007677964372978865, 'eta0': 0.03994817596390953, 'power_t': 0.3845825159886445, 'learning_rate': 'adaptive'}\n"
     ]
    },
    {
     "name": "stderr",
     "output_type": "stream",
     "text": [
      "\u001b[32m[I 2022-09-27 21:36:45,536]\u001b[0m Trial 46 finished with value: 3.8100258257990633 and parameters: {'alpha': 0.0007677964372978865, 'eta0': 0.03994817596390953, 'power_t': 0.3845825159886445, 'learning_rate': 'adaptive'}. Best is trial 44 with value: 3.809979917232143.\u001b[0m\n"
     ]
    },
    {
     "name": "stdout",
     "output_type": "stream",
     "text": [
      "Time cost: 5.257319688796997\n",
      "Currently running with:\n",
      "{'alpha': 0.00020015123397499484, 'eta0': 0.02469766827627199, 'power_t': 0.44855236027930123, 'learning_rate': 'adaptive'}\n"
     ]
    },
    {
     "name": "stderr",
     "output_type": "stream",
     "text": [
      "\u001b[32m[I 2022-09-27 21:36:50,852]\u001b[0m Trial 47 finished with value: 3.8099975274589326 and parameters: {'alpha': 0.00020015123397499484, 'eta0': 0.02469766827627199, 'power_t': 0.44855236027930123, 'learning_rate': 'adaptive'}. Best is trial 44 with value: 3.809979917232143.\u001b[0m\n"
     ]
    },
    {
     "name": "stdout",
     "output_type": "stream",
     "text": [
      "Time cost: 5.313875675201416\n",
      "Currently running with:\n",
      "{'alpha': 0.0011471265103583004, 'eta0': 0.021408364544379128, 'power_t': 0.44764898907939055, 'learning_rate': 'constant'}\n"
     ]
    },
    {
     "name": "stderr",
     "output_type": "stream",
     "text": [
      "\u001b[32m[I 2022-09-27 21:36:51,828]\u001b[0m Trial 48 finished with value: 38.52496437939304 and parameters: {'alpha': 0.0011471265103583004, 'eta0': 0.021408364544379128, 'power_t': 0.44764898907939055, 'learning_rate': 'constant'}. Best is trial 44 with value: 3.809979917232143.\u001b[0m\n"
     ]
    },
    {
     "name": "stdout",
     "output_type": "stream",
     "text": [
      "Time cost: 0.9758293628692627\n",
      "Currently running with:\n",
      "{'alpha': 0.00023518662879043914, 'eta0': 0.02900855276824999, 'power_t': 0.49986817848347476, 'learning_rate': 'adaptive'}\n"
     ]
    },
    {
     "name": "stderr",
     "output_type": "stream",
     "text": [
      "\u001b[32m[I 2022-09-27 21:36:57,404]\u001b[0m Trial 49 finished with value: 3.810008975738665 and parameters: {'alpha': 0.00023518662879043914, 'eta0': 0.02900855276824999, 'power_t': 0.49986817848347476, 'learning_rate': 'adaptive'}. Best is trial 44 with value: 3.809979917232143.\u001b[0m\n"
     ]
    },
    {
     "name": "stdout",
     "output_type": "stream",
     "text": [
      "Time cost: 5.574864864349365\n"
     ]
    },
    {
     "data": {
      "text/plain": [
       "{'alpha': 0.00019598195398433035,\n",
       " 'eta0': 0.039803155110261536,\n",
       " 'power_t': 0.4343282673690171,\n",
       " 'learning_rate': 'adaptive'}"
      ]
     },
     "execution_count": 8,
     "metadata": {},
     "output_type": "execute_result"
    }
   ],
   "source": [
    "study = opt.create_study(direction = 'minimize')\n",
    "study.optimize(objective, n_trials = 50)\n",
    "study.best_params"
   ]
  },
  {
   "cell_type": "code",
   "execution_count": null,
   "id": "204a1ac4-a7b7-4c3c-a0e5-d66ba04f402f",
   "metadata": {},
   "outputs": [],
   "source": []
  },
  {
   "cell_type": "code",
   "execution_count": 9,
   "id": "5b1bec1f-7561-4d0f-a03e-6fc4b056ca8b",
   "metadata": {},
   "outputs": [],
   "source": [
    "\n",
    "sgd = SGDRegressor(alpha = 0.00019598195398433035,\n",
    "                   eta0 = 0.039803155110261536, \n",
    "                   power_t = 0.4343282673690171,\n",
    "                   learning_rate =  'adaptive')\n",
    "model = sgd.fit(X_train, y_train)"
   ]
  },
  {
   "cell_type": "code",
   "execution_count": 10,
   "id": "e16c1f8f-528d-45a3-9e54-8d8653a5867f",
   "metadata": {},
   "outputs": [
    {
     "name": "stdout",
     "output_type": "stream",
     "text": [
      "On training set: RMSE: 3.8096539989920757 MAE 1.654152213257483\n",
      "On test set: RMSE: 4.421165491954065 MAE 1.6838440246716755\n"
     ]
    }
   ],
   "source": [
    "y_pred_train_sgd = sgd.predict(X_train)\n",
    "y_pred_test_sgd  = sgd.predict(X_test)\n",
    "\n",
    "\n",
    "mae = mean_absolute_error(y_train, y_pred_train_sgd)\n",
    "mse = mean_squared_error(y_train, y_pred_train_sgd)\n",
    "rmse = np.sqrt(mse)\n",
    "print(\"On training set: RMSE:\", rmse, \"MAE\", mae)\n",
    "\n",
    "#Prediction(test) \n",
    "mae = mean_absolute_error(y_test, y_pred_test_sgd)\n",
    "mse = mean_squared_error(y_test, y_pred_test_sgd)\n",
    "rmse = np.sqrt(mse)\n",
    "print(\"On test set: RMSE:\", rmse, \"MAE\", mae)"
   ]
  },
  {
   "cell_type": "code",
   "execution_count": 11,
   "id": "c2d651b4-bc7f-4d37-906f-683029e4441c",
   "metadata": {},
   "outputs": [
    {
     "data": {
      "image/png": "[encoded data removed]",
      "text/plain": [
       "<Figure size 432x288 with 1 Axes>"
      ]
     },
     "metadata": {
      "needs_background": "light"
     },
     "output_type": "display_data"
    }
   ],
   "source": [
    "import matplotlib.pyplot as plt\n",
    "plt.scatter(y_test,y_pred_test_sgd)\n",
    "plt.xlabel(\"Actual vote: $Y_i$\")\n",
    "plt.ylabel(\"Predicted vote: $\\hat{Y}_i$\")\n",
    "plt.title(\"Predicted vote vs Actual vote\")\n",
    "plt.show()"
   ]
  },
  {
   "cell_type": "code",
   "execution_count": null,
   "id": "e30ccd52-1bbb-4ed6-b41c-d5c3fd91bf35",
   "metadata": {},
   "outputs": [],
   "source": []
  },
  {
   "cell_type": "code",
   "execution_count": null,
   "id": "d43a7e7c-d88d-4b72-9d7d-8bbcfd784804",
   "metadata": {},
   "outputs": [],
   "source": []
  },
  {
   "cell_type": "code",
   "execution_count": null,
   "id": "ea8ebb82-1ac3-4997-bb40-cc49603c2582",
   "metadata": {},
   "outputs": [],
   "source": []
  },
  {
   "cell_type": "code",
   "execution_count": null,
   "id": "e7be6f13-c16e-495a-b42e-54a006bdf65e",
   "metadata": {},
   "outputs": [],
   "source": []
  },
  {
   "cell_type": "code",
   "execution_count": null,
   "id": "3daac928-21df-47dd-b1cd-d1194e610163",
   "metadata": {},
   "outputs": [],
   "source": []
  }
 ],
 "metadata": {
  "kernelspec": {
   "display_name": "Python 3 (ipykernel)",
   "language": "python",
   "name": "python3"
  },
  "language_info": {
   "codemirror_mode": {
    "name": "ipython",
    "version": 3
   },
   "file_extension": ".py",
   "mimetype": "text/x-python",
   "name": "python",
   "nbconvert_exporter": "python",
   "pygments_lexer": "ipython3",
   "version": "3.10.6"
  }
 },
 "nbformat": 4,
 "nbformat_minor": 5
}
