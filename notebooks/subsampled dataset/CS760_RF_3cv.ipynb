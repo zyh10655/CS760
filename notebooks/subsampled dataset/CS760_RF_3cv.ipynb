{
 "cells": [
  {
   "cell_type": "markdown",
   "id": "a95b897c-bceb-4382-871e-4406cf36a4f8",
   "metadata": {},
   "source": [
    "## Random Forest with 3-fold CV, StandardScaler and optuna on dataset3.0\n",
    "dataset: 11 features,  subsampled dataset\n",
    "\n",
    "20220926"
   ]
  },
  {
   "cell_type": "code",
   "execution_count": 2,
   "id": "ca0bb6c5-06da-4e15-a33f-aeb5baef7e01",
   "metadata": {},
   "outputs": [],
   "source": [
    "import pandas as pd\n",
    "import numpy as np\n",
    "from numpy import random\n",
    "from sklearn.metrics import mean_absolute_error\n",
    "from sklearn.metrics import mean_squared_error\n",
    "from sklearn.pipeline import make_pipeline\n",
    "from sklearn.preprocessing import StandardScaler\n",
    "from sklearn.ensemble import RandomForestRegressor\n",
    "import optuna as opt\n",
    "import warnings\n",
    "warnings.filterwarnings(\"ignore\")\n",
    "import time\n",
    "from sklearn.model_selection import cross_val_score"
   ]
  },
  {
   "cell_type": "code",
   "execution_count": 3,
   "id": "a720a5a3-bdbd-42f3-b396-82c5d5c77f59",
   "metadata": {},
   "outputs": [],
   "source": [
    "#import data\n",
    "train_df = pd.read_parquet(\"train_main.parquet.snappy\")\n",
    "test_df = pd.read_parquet(\"test_main.parquet.snappy\")"
   ]
  },
  {
   "cell_type": "code",
   "execution_count": 18,
   "id": "475e23c7-90ae-47b5-9cd9-8dc25275c85d",
   "metadata": {},
   "outputs": [],
   "source": [
    "X_train = train_df.drop(['r_id','r_useful'],axis=1)\n",
    "y_train = train_df['r_useful']\n",
    "X_test = test_df.drop(['r_id','r_useful'],axis=1)\n",
    "y_test = test_df['r_useful']\n",
    "\n",
    "# standardise the features\n",
    "ss = StandardScaler()\n",
    "X_train = ss.fit_transform(X_train)\n",
    "X_test = ss.transform(X_test)"
   ]
  },
  {
   "cell_type": "code",
   "execution_count": null,
   "id": "02987052-27ce-41fa-acb8-daea88666ac2",
   "metadata": {},
   "outputs": [],
   "source": []
  },
  {
   "cell_type": "code",
   "execution_count": null,
   "id": "711a8137-bac7-499d-b3e4-4b6c32e67e59",
   "metadata": {},
   "outputs": [],
   "source": []
  },
  {
   "cell_type": "code",
   "execution_count": 4,
   "id": "ab96f83e-d48e-4eab-8d14-88fc7440eb62",
   "metadata": {},
   "outputs": [],
   "source": [
    "def objective(trial):\n",
    "    start = time.time()\n",
    "    params = {\n",
    "        \"n_estimators\": trial.suggest_int('n_estimators', 1, 500, 50),\n",
    "        \"max_depth\": trial.suggest_int('max_depth', 1, 500, 50),\n",
    "        \"min_samples_split\": trial.suggest_int('min_samples_split', 2, 20),\n",
    "        \"max_features\" : trial.suggest_categorical(\"max_features\", ['sqrt', 'log2']),\n",
    "        \"min_samples_leaf\": trial.suggest_int('min_samples_leaf', 1, 20), \n",
    "        \"random_state\": 760, \n",
    "        \"n_jobs\": -1\n",
    "    }\n",
    "    print(\"Currently running with:\")\n",
    "    print(params)\n",
    "    \n",
    "    model = RandomForestRegressor(**params)\n",
    "    \n",
    "    # model.fit(X_train, y_train)\n",
    "    cvscore = np.sqrt(-np.mean(cross_val_score(model, X_train, y_train, scoring = \"neg_mean_squared_error\", cv=3)))\n",
    "    # y_pred = model.predict(X_val)\n",
    "    print(\"Time cost:\", time.time()-start)\n",
    "    # return mean_squared_error(y_val, y_pred, squared=False)\n",
    "    return cvscore"
   ]
  },
  {
   "cell_type": "code",
   "execution_count": 5,
   "id": "7de1454b-808f-4b9b-b111-9396c5ddee0c",
   "metadata": {},
   "outputs": [
    {
     "name": "stderr",
     "output_type": "stream",
     "text": [
      "\u001b[32m[I 2022-09-27 03:37:50,258]\u001b[0m A new study created in memory with name: no-name-cb859c65-3fd3-44f6-a15e-bd0cd41c6c10\u001b[0m\n"
     ]
    },
    {
     "name": "stdout",
     "output_type": "stream",
     "text": [
      "Currently running with:\n",
      "{'n_estimators': 51, 'max_depth': 201, 'min_samples_split': 10, 'max_features': 'sqrt', 'min_samples_leaf': 10, 'random_state': 760, 'n_jobs': -1}\n"
     ]
    },
    {
     "name": "stderr",
     "output_type": "stream",
     "text": [
      "\u001b[32m[I 2022-09-27 03:38:02,088]\u001b[0m Trial 0 finished with value: 3.607386181203533 and parameters: {'n_estimators': 51, 'max_depth': 201, 'min_samples_split': 10, 'max_features': 'sqrt', 'min_samples_leaf': 10}. Best is trial 0 with value: 3.607386181203533.\u001b[0m\n"
     ]
    },
    {
     "name": "stdout",
     "output_type": "stream",
     "text": [
      "Time cost: 11.827013969421387\n",
      "Currently running with:\n",
      "{'n_estimators': 251, 'max_depth': 51, 'min_samples_split': 12, 'max_features': 'sqrt', 'min_samples_leaf': 8, 'random_state': 760, 'n_jobs': -1}\n"
     ]
    },
    {
     "name": "stderr",
     "output_type": "stream",
     "text": [
      "\u001b[32m[I 2022-09-27 03:39:22,836]\u001b[0m Trial 1 finished with value: 3.5871712605659782 and parameters: {'n_estimators': 251, 'max_depth': 51, 'min_samples_split': 12, 'max_features': 'sqrt', 'min_samples_leaf': 8}. Best is trial 1 with value: 3.5871712605659782.\u001b[0m\n"
     ]
    },
    {
     "name": "stdout",
     "output_type": "stream",
     "text": [
      "Time cost: 80.74872422218323\n",
      "Currently running with:\n",
      "{'n_estimators': 401, 'max_depth': 51, 'min_samples_split': 13, 'max_features': 'sqrt', 'min_samples_leaf': 5, 'random_state': 760, 'n_jobs': -1}\n"
     ]
    },
    {
     "name": "stderr",
     "output_type": "stream",
     "text": [
      "\u001b[32m[I 2022-09-27 03:41:28,003]\u001b[0m Trial 2 finished with value: 3.572176007070439 and parameters: {'n_estimators': 401, 'max_depth': 51, 'min_samples_split': 13, 'max_features': 'sqrt', 'min_samples_leaf': 5}. Best is trial 2 with value: 3.572176007070439.\u001b[0m\n"
     ]
    },
    {
     "name": "stdout",
     "output_type": "stream",
     "text": [
      "Time cost: 125.16711783409119\n",
      "Currently running with:\n",
      "{'n_estimators': 1, 'max_depth': 251, 'min_samples_split': 13, 'max_features': 'log2', 'min_samples_leaf': 19, 'random_state': 760, 'n_jobs': -1}\n"
     ]
    },
    {
     "name": "stderr",
     "output_type": "stream",
     "text": [
      "\u001b[32m[I 2022-09-27 03:41:30,143]\u001b[0m Trial 3 finished with value: 3.93777713183662 and parameters: {'n_estimators': 1, 'max_depth': 251, 'min_samples_split': 13, 'max_features': 'log2', 'min_samples_leaf': 19}. Best is trial 2 with value: 3.572176007070439.\u001b[0m\n"
     ]
    },
    {
     "name": "stdout",
     "output_type": "stream",
     "text": [
      "Time cost: 2.1392438411712646\n",
      "Currently running with:\n",
      "{'n_estimators': 451, 'max_depth': 1, 'min_samples_split': 10, 'max_features': 'log2', 'min_samples_leaf': 14, 'random_state': 760, 'n_jobs': -1}\n"
     ]
    },
    {
     "name": "stderr",
     "output_type": "stream",
     "text": [
      "\u001b[32m[I 2022-09-27 03:41:46,548]\u001b[0m Trial 4 finished with value: 3.9613842179511067 and parameters: {'n_estimators': 451, 'max_depth': 1, 'min_samples_split': 10, 'max_features': 'log2', 'min_samples_leaf': 14}. Best is trial 2 with value: 3.572176007070439.\u001b[0m\n"
     ]
    },
    {
     "name": "stdout",
     "output_type": "stream",
     "text": [
      "Time cost: 16.40562891960144\n",
      "Currently running with:\n",
      "{'n_estimators': 251, 'max_depth': 451, 'min_samples_split': 2, 'max_features': 'sqrt', 'min_samples_leaf': 7, 'random_state': 760, 'n_jobs': -1}\n"
     ]
    },
    {
     "name": "stderr",
     "output_type": "stream",
     "text": [
      "\u001b[32m[I 2022-09-27 03:43:03,076]\u001b[0m Trial 5 finished with value: 3.580940966406305 and parameters: {'n_estimators': 251, 'max_depth': 451, 'min_samples_split': 2, 'max_features': 'sqrt', 'min_samples_leaf': 7}. Best is trial 2 with value: 3.572176007070439.\u001b[0m\n"
     ]
    },
    {
     "name": "stdout",
     "output_type": "stream",
     "text": [
      "Time cost: 76.52750015258789\n",
      "Currently running with:\n",
      "{'n_estimators': 101, 'max_depth': 251, 'min_samples_split': 19, 'max_features': 'log2', 'min_samples_leaf': 6, 'random_state': 760, 'n_jobs': -1}\n"
     ]
    },
    {
     "name": "stderr",
     "output_type": "stream",
     "text": [
      "\u001b[32m[I 2022-09-27 03:43:35,614]\u001b[0m Trial 6 finished with value: 3.5900176553212506 and parameters: {'n_estimators': 101, 'max_depth': 251, 'min_samples_split': 19, 'max_features': 'log2', 'min_samples_leaf': 6}. Best is trial 2 with value: 3.572176007070439.\u001b[0m\n"
     ]
    },
    {
     "name": "stdout",
     "output_type": "stream",
     "text": [
      "Time cost: 32.53167533874512\n",
      "Currently running with:\n",
      "{'n_estimators': 1, 'max_depth': 151, 'min_samples_split': 17, 'max_features': 'sqrt', 'min_samples_leaf': 12, 'random_state': 760, 'n_jobs': -1}\n"
     ]
    },
    {
     "name": "stderr",
     "output_type": "stream",
     "text": [
      "\u001b[32m[I 2022-09-27 03:43:37,823]\u001b[0m Trial 7 finished with value: 4.0399857618621935 and parameters: {'n_estimators': 1, 'max_depth': 151, 'min_samples_split': 17, 'max_features': 'sqrt', 'min_samples_leaf': 12}. Best is trial 2 with value: 3.572176007070439.\u001b[0m\n"
     ]
    },
    {
     "name": "stdout",
     "output_type": "stream",
     "text": [
      "Time cost: 2.2007627487182617\n",
      "Currently running with:\n",
      "{'n_estimators': 401, 'max_depth': 301, 'min_samples_split': 8, 'max_features': 'sqrt', 'min_samples_leaf': 9, 'random_state': 760, 'n_jobs': -1}\n"
     ]
    },
    {
     "name": "stderr",
     "output_type": "stream",
     "text": [
      "\u001b[32m[I 2022-09-27 03:45:42,356]\u001b[0m Trial 8 finished with value: 3.592786482594953 and parameters: {'n_estimators': 401, 'max_depth': 301, 'min_samples_split': 8, 'max_features': 'sqrt', 'min_samples_leaf': 9}. Best is trial 2 with value: 3.572176007070439.\u001b[0m\n"
     ]
    },
    {
     "name": "stdout",
     "output_type": "stream",
     "text": [
      "Time cost: 124.53281998634338\n",
      "Currently running with:\n",
      "{'n_estimators': 151, 'max_depth': 301, 'min_samples_split': 7, 'max_features': 'sqrt', 'min_samples_leaf': 6, 'random_state': 760, 'n_jobs': -1}\n"
     ]
    },
    {
     "name": "stderr",
     "output_type": "stream",
     "text": [
      "\u001b[32m[I 2022-09-27 03:46:31,848]\u001b[0m Trial 9 finished with value: 3.578120149302244 and parameters: {'n_estimators': 151, 'max_depth': 301, 'min_samples_split': 7, 'max_features': 'sqrt', 'min_samples_leaf': 6}. Best is trial 2 with value: 3.572176007070439.\u001b[0m\n"
     ]
    },
    {
     "name": "stdout",
     "output_type": "stream",
     "text": [
      "Time cost: 49.49263572692871\n",
      "Currently running with:\n",
      "{'n_estimators': 351, 'max_depth': 101, 'min_samples_split': 16, 'max_features': 'log2', 'min_samples_leaf': 3, 'random_state': 760, 'n_jobs': -1}\n"
     ]
    },
    {
     "name": "stderr",
     "output_type": "stream",
     "text": [
      "\u001b[32m[I 2022-09-27 03:48:26,322]\u001b[0m Trial 10 finished with value: 3.567739424587229 and parameters: {'n_estimators': 351, 'max_depth': 101, 'min_samples_split': 16, 'max_features': 'log2', 'min_samples_leaf': 3}. Best is trial 10 with value: 3.567739424587229.\u001b[0m\n"
     ]
    },
    {
     "name": "stdout",
     "output_type": "stream",
     "text": [
      "Time cost: 114.47299671173096\n",
      "Currently running with:\n",
      "{'n_estimators': 351, 'max_depth': 101, 'min_samples_split': 14, 'max_features': 'log2', 'min_samples_leaf': 1, 'random_state': 760, 'n_jobs': -1}\n"
     ]
    },
    {
     "name": "stderr",
     "output_type": "stream",
     "text": [
      "\u001b[32m[I 2022-09-27 03:50:32,188]\u001b[0m Trial 11 finished with value: 3.55912514463729 and parameters: {'n_estimators': 351, 'max_depth': 101, 'min_samples_split': 14, 'max_features': 'log2', 'min_samples_leaf': 1}. Best is trial 11 with value: 3.55912514463729.\u001b[0m\n"
     ]
    },
    {
     "name": "stdout",
     "output_type": "stream",
     "text": [
      "Time cost: 125.86395072937012\n",
      "Currently running with:\n",
      "{'n_estimators': 351, 'max_depth': 101, 'min_samples_split': 16, 'max_features': 'log2', 'min_samples_leaf': 1, 'random_state': 760, 'n_jobs': -1}\n"
     ]
    },
    {
     "name": "stderr",
     "output_type": "stream",
     "text": [
      "\u001b[32m[I 2022-09-27 03:52:33,287]\u001b[0m Trial 12 finished with value: 3.5623166035291356 and parameters: {'n_estimators': 351, 'max_depth': 101, 'min_samples_split': 16, 'max_features': 'log2', 'min_samples_leaf': 1}. Best is trial 11 with value: 3.55912514463729.\u001b[0m\n"
     ]
    },
    {
     "name": "stdout",
     "output_type": "stream",
     "text": [
      "Time cost: 121.09751296043396\n",
      "Currently running with:\n",
      "{'n_estimators': 301, 'max_depth': 151, 'min_samples_split': 16, 'max_features': 'log2', 'min_samples_leaf': 1, 'random_state': 760, 'n_jobs': -1}\n"
     ]
    },
    {
     "name": "stderr",
     "output_type": "stream",
     "text": [
      "\u001b[32m[I 2022-09-27 03:53:55,702]\u001b[0m Trial 13 finished with value: 3.5623412283330267 and parameters: {'n_estimators': 301, 'max_depth': 151, 'min_samples_split': 16, 'max_features': 'log2', 'min_samples_leaf': 1}. Best is trial 11 with value: 3.55912514463729.\u001b[0m\n"
     ]
    },
    {
     "name": "stdout",
     "output_type": "stream",
     "text": [
      "Time cost: 82.4152364730835\n",
      "Currently running with:\n",
      "{'n_estimators': 351, 'max_depth': 1, 'min_samples_split': 20, 'max_features': 'log2', 'min_samples_leaf': 2, 'random_state': 760, 'n_jobs': -1}\n"
     ]
    },
    {
     "name": "stderr",
     "output_type": "stream",
     "text": [
      "\u001b[32m[I 2022-09-27 03:54:06,488]\u001b[0m Trial 14 finished with value: 3.96148808546378 and parameters: {'n_estimators': 351, 'max_depth': 1, 'min_samples_split': 20, 'max_features': 'log2', 'min_samples_leaf': 2}. Best is trial 11 with value: 3.55912514463729.\u001b[0m\n"
     ]
    },
    {
     "name": "stdout",
     "output_type": "stream",
     "text": [
      "Time cost: 10.785862445831299\n",
      "Currently running with:\n",
      "{'n_estimators': 201, 'max_depth': 101, 'min_samples_split': 15, 'max_features': 'log2', 'min_samples_leaf': 4, 'random_state': 760, 'n_jobs': -1}\n"
     ]
    },
    {
     "name": "stderr",
     "output_type": "stream",
     "text": [
      "\u001b[32m[I 2022-09-27 03:54:58,539]\u001b[0m Trial 15 finished with value: 3.5710656456753878 and parameters: {'n_estimators': 201, 'max_depth': 101, 'min_samples_split': 15, 'max_features': 'log2', 'min_samples_leaf': 4}. Best is trial 11 with value: 3.55912514463729.\u001b[0m\n"
     ]
    },
    {
     "name": "stdout",
     "output_type": "stream",
     "text": [
      "Time cost: 52.05134129524231\n",
      "Currently running with:\n",
      "{'n_estimators': 451, 'max_depth': 451, 'min_samples_split': 18, 'max_features': 'log2', 'min_samples_leaf': 1, 'random_state': 760, 'n_jobs': -1}\n"
     ]
    },
    {
     "name": "stderr",
     "output_type": "stream",
     "text": [
      "\u001b[32m[I 2022-09-27 03:57:00,240]\u001b[0m Trial 16 finished with value: 3.563567054228524 and parameters: {'n_estimators': 451, 'max_depth': 451, 'min_samples_split': 18, 'max_features': 'log2', 'min_samples_leaf': 1}. Best is trial 11 with value: 3.55912514463729.\u001b[0m\n"
     ]
    },
    {
     "name": "stdout",
     "output_type": "stream",
     "text": [
      "Time cost: 121.70104598999023\n",
      "Currently running with:\n",
      "{'n_estimators': 301, 'max_depth': 151, 'min_samples_split': 14, 'max_features': 'log2', 'min_samples_leaf': 16, 'random_state': 760, 'n_jobs': -1}\n"
     ]
    },
    {
     "name": "stderr",
     "output_type": "stream",
     "text": [
      "\u001b[32m[I 2022-09-27 03:58:09,944]\u001b[0m Trial 17 finished with value: 3.6168135308438605 and parameters: {'n_estimators': 301, 'max_depth': 151, 'min_samples_split': 14, 'max_features': 'log2', 'min_samples_leaf': 16}. Best is trial 11 with value: 3.55912514463729.\u001b[0m\n"
     ]
    },
    {
     "name": "stdout",
     "output_type": "stream",
     "text": [
      "Time cost: 69.70356798171997\n",
      "Currently running with:\n",
      "{'n_estimators': 351, 'max_depth': 101, 'min_samples_split': 6, 'max_features': 'log2', 'min_samples_leaf': 4, 'random_state': 760, 'n_jobs': -1}\n"
     ]
    },
    {
     "name": "stderr",
     "output_type": "stream",
     "text": [
      "\u001b[32m[I 2022-09-27 03:59:44,935]\u001b[0m Trial 18 finished with value: 3.561316072495803 and parameters: {'n_estimators': 351, 'max_depth': 101, 'min_samples_split': 6, 'max_features': 'log2', 'min_samples_leaf': 4}. Best is trial 11 with value: 3.55912514463729.\u001b[0m\n"
     ]
    },
    {
     "name": "stdout",
     "output_type": "stream",
     "text": [
      "Time cost: 94.99118328094482\n",
      "Currently running with:\n",
      "{'n_estimators': 201, 'max_depth': 351, 'min_samples_split': 3, 'max_features': 'log2', 'min_samples_leaf': 4, 'random_state': 760, 'n_jobs': -1}\n"
     ]
    },
    {
     "name": "stderr",
     "output_type": "stream",
     "text": [
      "\u001b[32m[I 2022-09-27 04:00:40,001]\u001b[0m Trial 19 finished with value: 3.563712178910977 and parameters: {'n_estimators': 201, 'max_depth': 351, 'min_samples_split': 3, 'max_features': 'log2', 'min_samples_leaf': 4}. Best is trial 11 with value: 3.55912514463729.\u001b[0m\n"
     ]
    },
    {
     "name": "stdout",
     "output_type": "stream",
     "text": [
      "Time cost: 55.06561756134033\n",
      "Currently running with:\n",
      "{'n_estimators': 301, 'max_depth': 201, 'min_samples_split': 5, 'max_features': 'log2', 'min_samples_leaf': 12, 'random_state': 760, 'n_jobs': -1}\n"
     ]
    },
    {
     "name": "stderr",
     "output_type": "stream",
     "text": [
      "\u001b[32m[I 2022-09-27 04:01:50,756]\u001b[0m Trial 20 finished with value: 3.604085513868575 and parameters: {'n_estimators': 301, 'max_depth': 201, 'min_samples_split': 5, 'max_features': 'log2', 'min_samples_leaf': 12}. Best is trial 11 with value: 3.55912514463729.\u001b[0m\n"
     ]
    },
    {
     "name": "stdout",
     "output_type": "stream",
     "text": [
      "Time cost: 70.75526022911072\n",
      "Currently running with:\n",
      "{'n_estimators': 351, 'max_depth': 101, 'min_samples_split': 8, 'max_features': 'log2', 'min_samples_leaf': 1, 'random_state': 760, 'n_jobs': -1}\n"
     ]
    },
    {
     "name": "stderr",
     "output_type": "stream",
     "text": [
      "\u001b[32m[I 2022-09-27 04:03:34,918]\u001b[0m Trial 21 finished with value: 3.550118386726815 and parameters: {'n_estimators': 351, 'max_depth': 101, 'min_samples_split': 8, 'max_features': 'log2', 'min_samples_leaf': 1}. Best is trial 21 with value: 3.550118386726815.\u001b[0m\n"
     ]
    },
    {
     "name": "stdout",
     "output_type": "stream",
     "text": [
      "Time cost: 104.16209578514099\n",
      "Currently running with:\n",
      "{'n_estimators': 401, 'max_depth': 51, 'min_samples_split': 7, 'max_features': 'log2', 'min_samples_leaf': 3, 'random_state': 760, 'n_jobs': -1}\n"
     ]
    },
    {
     "name": "stderr",
     "output_type": "stream",
     "text": [
      "\u001b[32m[I 2022-09-27 04:05:28,051]\u001b[0m Trial 22 finished with value: 3.5535030724063543 and parameters: {'n_estimators': 401, 'max_depth': 51, 'min_samples_split': 7, 'max_features': 'log2', 'min_samples_leaf': 3}. Best is trial 21 with value: 3.550118386726815.\u001b[0m\n"
     ]
    },
    {
     "name": "stdout",
     "output_type": "stream",
     "text": [
      "Time cost: 113.1330955028534\n",
      "Currently running with:\n",
      "{'n_estimators': 401, 'max_depth': 51, 'min_samples_split': 9, 'max_features': 'log2', 'min_samples_leaf': 3, 'random_state': 760, 'n_jobs': -1}\n"
     ]
    },
    {
     "name": "stderr",
     "output_type": "stream",
     "text": [
      "\u001b[32m[I 2022-09-27 04:07:17,407]\u001b[0m Trial 23 finished with value: 3.5554866432670154 and parameters: {'n_estimators': 401, 'max_depth': 51, 'min_samples_split': 9, 'max_features': 'log2', 'min_samples_leaf': 3}. Best is trial 21 with value: 3.550118386726815.\u001b[0m\n"
     ]
    },
    {
     "name": "stdout",
     "output_type": "stream",
     "text": [
      "Time cost: 109.35558152198792\n",
      "Currently running with:\n",
      "{'n_estimators': 401, 'max_depth': 51, 'min_samples_split': 9, 'max_features': 'log2', 'min_samples_leaf': 3, 'random_state': 760, 'n_jobs': -1}\n"
     ]
    },
    {
     "name": "stderr",
     "output_type": "stream",
     "text": [
      "\u001b[32m[I 2022-09-27 04:09:09,161]\u001b[0m Trial 24 finished with value: 3.5554866432670154 and parameters: {'n_estimators': 401, 'max_depth': 51, 'min_samples_split': 9, 'max_features': 'log2', 'min_samples_leaf': 3}. Best is trial 21 with value: 3.550118386726815.\u001b[0m\n"
     ]
    },
    {
     "name": "stdout",
     "output_type": "stream",
     "text": [
      "Time cost: 111.75445532798767\n",
      "Currently running with:\n",
      "{'n_estimators': 451, 'max_depth': 1, 'min_samples_split': 5, 'max_features': 'log2', 'min_samples_leaf': 6, 'random_state': 760, 'n_jobs': -1}\n"
     ]
    },
    {
     "name": "stderr",
     "output_type": "stream",
     "text": [
      "\u001b[32m[I 2022-09-27 04:09:22,833]\u001b[0m Trial 25 finished with value: 3.9613842179511067 and parameters: {'n_estimators': 451, 'max_depth': 1, 'min_samples_split': 5, 'max_features': 'log2', 'min_samples_leaf': 6}. Best is trial 21 with value: 3.550118386726815.\u001b[0m\n"
     ]
    },
    {
     "name": "stdout",
     "output_type": "stream",
     "text": [
      "Time cost: 13.672052145004272\n",
      "Currently running with:\n",
      "{'n_estimators': 401, 'max_depth': 51, 'min_samples_split': 8, 'max_features': 'log2', 'min_samples_leaf': 20, 'random_state': 760, 'n_jobs': -1}\n"
     ]
    },
    {
     "name": "stderr",
     "output_type": "stream",
     "text": [
      "\u001b[32m[I 2022-09-27 04:10:51,972]\u001b[0m Trial 26 finished with value: 3.627610513754922 and parameters: {'n_estimators': 401, 'max_depth': 51, 'min_samples_split': 8, 'max_features': 'log2', 'min_samples_leaf': 20}. Best is trial 21 with value: 3.550118386726815.\u001b[0m\n"
     ]
    },
    {
     "name": "stdout",
     "output_type": "stream",
     "text": [
      "Time cost: 89.13894295692444\n",
      "Currently running with:\n",
      "{'n_estimators': 451, 'max_depth': 1, 'min_samples_split': 11, 'max_features': 'log2', 'min_samples_leaf': 3, 'random_state': 760, 'n_jobs': -1}\n"
     ]
    },
    {
     "name": "stderr",
     "output_type": "stream",
     "text": [
      "\u001b[32m[I 2022-09-27 04:11:05,475]\u001b[0m Trial 27 finished with value: 3.9613842179511067 and parameters: {'n_estimators': 451, 'max_depth': 1, 'min_samples_split': 11, 'max_features': 'log2', 'min_samples_leaf': 3}. Best is trial 21 with value: 3.550118386726815.\u001b[0m\n"
     ]
    },
    {
     "name": "stdout",
     "output_type": "stream",
     "text": [
      "Time cost: 13.502822160720825\n",
      "Currently running with:\n",
      "{'n_estimators': 301, 'max_depth': 51, 'min_samples_split': 4, 'max_features': 'log2', 'min_samples_leaf': 5, 'random_state': 760, 'n_jobs': -1}\n"
     ]
    },
    {
     "name": "stderr",
     "output_type": "stream",
     "text": [
      "\u001b[32m[I 2022-09-27 04:12:23,992]\u001b[0m Trial 28 finished with value: 3.571142076857727 and parameters: {'n_estimators': 301, 'max_depth': 51, 'min_samples_split': 4, 'max_features': 'log2', 'min_samples_leaf': 5}. Best is trial 21 with value: 3.550118386726815.\u001b[0m\n"
     ]
    },
    {
     "name": "stdout",
     "output_type": "stream",
     "text": [
      "Time cost: 78.5174970626831\n",
      "Currently running with:\n",
      "{'n_estimators': 401, 'max_depth': 201, 'min_samples_split': 10, 'max_features': 'log2', 'min_samples_leaf': 10, 'random_state': 760, 'n_jobs': -1}\n"
     ]
    },
    {
     "name": "stderr",
     "output_type": "stream",
     "text": [
      "\u001b[32m[I 2022-09-27 04:13:59,521]\u001b[0m Trial 29 finished with value: 3.5962525072119376 and parameters: {'n_estimators': 401, 'max_depth': 201, 'min_samples_split': 10, 'max_features': 'log2', 'min_samples_leaf': 10}. Best is trial 21 with value: 3.550118386726815.\u001b[0m\n"
     ]
    },
    {
     "name": "stdout",
     "output_type": "stream",
     "text": [
      "Time cost: 95.5287139415741\n",
      "Currently running with:\n",
      "{'n_estimators': 251, 'max_depth': 151, 'min_samples_split': 7, 'max_features': 'log2', 'min_samples_leaf': 2, 'random_state': 760, 'n_jobs': -1}\n"
     ]
    },
    {
     "name": "stderr",
     "output_type": "stream",
     "text": [
      "\u001b[32m[I 2022-09-27 04:15:13,579]\u001b[0m Trial 30 finished with value: 3.549789758925833 and parameters: {'n_estimators': 251, 'max_depth': 151, 'min_samples_split': 7, 'max_features': 'log2', 'min_samples_leaf': 2}. Best is trial 30 with value: 3.549789758925833.\u001b[0m\n"
     ]
    },
    {
     "name": "stdout",
     "output_type": "stream",
     "text": [
      "Time cost: 74.05802512168884\n",
      "Currently running with:\n",
      "{'n_estimators': 251, 'max_depth': 151, 'min_samples_split': 7, 'max_features': 'log2', 'min_samples_leaf': 2, 'random_state': 760, 'n_jobs': -1}\n"
     ]
    },
    {
     "name": "stderr",
     "output_type": "stream",
     "text": [
      "\u001b[32m[I 2022-09-27 04:16:26,722]\u001b[0m Trial 31 finished with value: 3.549789758925833 and parameters: {'n_estimators': 251, 'max_depth': 151, 'min_samples_split': 7, 'max_features': 'log2', 'min_samples_leaf': 2}. Best is trial 30 with value: 3.549789758925833.\u001b[0m\n"
     ]
    },
    {
     "name": "stdout",
     "output_type": "stream",
     "text": [
      "Time cost: 73.14272379875183\n",
      "Currently running with:\n",
      "{'n_estimators': 251, 'max_depth': 151, 'min_samples_split': 7, 'max_features': 'log2', 'min_samples_leaf': 2, 'random_state': 760, 'n_jobs': -1}\n"
     ]
    },
    {
     "name": "stderr",
     "output_type": "stream",
     "text": [
      "\u001b[32m[I 2022-09-27 04:17:39,161]\u001b[0m Trial 32 finished with value: 3.549789758925833 and parameters: {'n_estimators': 251, 'max_depth': 151, 'min_samples_split': 7, 'max_features': 'log2', 'min_samples_leaf': 2}. Best is trial 30 with value: 3.549789758925833.\u001b[0m\n"
     ]
    },
    {
     "name": "stdout",
     "output_type": "stream",
     "text": [
      "Time cost: 72.43899488449097\n",
      "Currently running with:\n",
      "{'n_estimators': 251, 'max_depth': 151, 'min_samples_split': 6, 'max_features': 'log2', 'min_samples_leaf': 8, 'random_state': 760, 'n_jobs': -1}\n"
     ]
    },
    {
     "name": "stderr",
     "output_type": "stream",
     "text": [
      "\u001b[32m[I 2022-09-27 04:18:40,419]\u001b[0m Trial 33 finished with value: 3.5871712605659782 and parameters: {'n_estimators': 251, 'max_depth': 151, 'min_samples_split': 6, 'max_features': 'log2', 'min_samples_leaf': 8}. Best is trial 30 with value: 3.549789758925833.\u001b[0m\n"
     ]
    },
    {
     "name": "stdout",
     "output_type": "stream",
     "text": [
      "Time cost: 61.25781989097595\n",
      "Currently running with:\n",
      "{'n_estimators': 151, 'max_depth': 201, 'min_samples_split': 8, 'max_features': 'sqrt', 'min_samples_leaf': 2, 'random_state': 760, 'n_jobs': -1}\n"
     ]
    },
    {
     "name": "stderr",
     "output_type": "stream",
     "text": [
      "\u001b[32m[I 2022-09-27 04:19:24,192]\u001b[0m Trial 34 finished with value: 3.555625218150807 and parameters: {'n_estimators': 151, 'max_depth': 201, 'min_samples_split': 8, 'max_features': 'sqrt', 'min_samples_leaf': 2}. Best is trial 30 with value: 3.549789758925833.\u001b[0m\n"
     ]
    },
    {
     "name": "stdout",
     "output_type": "stream",
     "text": [
      "Time cost: 43.771947145462036\n",
      "Currently running with:\n",
      "{'n_estimators': 201, 'max_depth': 151, 'min_samples_split': 11, 'max_features': 'log2', 'min_samples_leaf': 2, 'random_state': 760, 'n_jobs': -1}\n"
     ]
    },
    {
     "name": "stderr",
     "output_type": "stream",
     "text": [
      "\u001b[32m[I 2022-09-27 04:20:20,513]\u001b[0m Trial 35 finished with value: 3.560121023772295 and parameters: {'n_estimators': 201, 'max_depth': 151, 'min_samples_split': 11, 'max_features': 'log2', 'min_samples_leaf': 2}. Best is trial 30 with value: 3.549789758925833.\u001b[0m\n"
     ]
    },
    {
     "name": "stdout",
     "output_type": "stream",
     "text": [
      "Time cost: 56.32056188583374\n",
      "Currently running with:\n",
      "{'n_estimators': 251, 'max_depth': 251, 'min_samples_split': 6, 'max_features': 'log2', 'min_samples_leaf': 5, 'random_state': 760, 'n_jobs': -1}\n"
     ]
    },
    {
     "name": "stderr",
     "output_type": "stream",
     "text": [
      "\u001b[32m[I 2022-09-27 04:21:28,017]\u001b[0m Trial 36 finished with value: 3.5706889192368867 and parameters: {'n_estimators': 251, 'max_depth': 251, 'min_samples_split': 6, 'max_features': 'log2', 'min_samples_leaf': 5}. Best is trial 30 with value: 3.549789758925833.\u001b[0m\n"
     ]
    },
    {
     "name": "stdout",
     "output_type": "stream",
     "text": [
      "Time cost: 67.50422143936157\n",
      "Currently running with:\n",
      "{'n_estimators': 151, 'max_depth': 201, 'min_samples_split': 4, 'max_features': 'sqrt', 'min_samples_leaf': 16, 'random_state': 760, 'n_jobs': -1}\n"
     ]
    },
    {
     "name": "stderr",
     "output_type": "stream",
     "text": [
      "\u001b[32m[I 2022-09-27 04:22:03,368]\u001b[0m Trial 37 finished with value: 3.618379810510208 and parameters: {'n_estimators': 151, 'max_depth': 201, 'min_samples_split': 4, 'max_features': 'sqrt', 'min_samples_leaf': 16}. Best is trial 30 with value: 3.549789758925833.\u001b[0m\n"
     ]
    },
    {
     "name": "stdout",
     "output_type": "stream",
     "text": [
      "Time cost: 35.350539684295654\n",
      "Currently running with:\n",
      "{'n_estimators': 251, 'max_depth': 151, 'min_samples_split': 12, 'max_features': 'log2', 'min_samples_leaf': 7, 'random_state': 760, 'n_jobs': -1}\n"
     ]
    },
    {
     "name": "stderr",
     "output_type": "stream",
     "text": [
      "\u001b[32m[I 2022-09-27 04:23:06,044]\u001b[0m Trial 38 finished with value: 3.580940966406305 and parameters: {'n_estimators': 251, 'max_depth': 151, 'min_samples_split': 12, 'max_features': 'log2', 'min_samples_leaf': 7}. Best is trial 30 with value: 3.549789758925833.\u001b[0m\n"
     ]
    },
    {
     "name": "stdout",
     "output_type": "stream",
     "text": [
      "Time cost: 62.67566156387329\n",
      "Currently running with:\n",
      "{'n_estimators': 101, 'max_depth': 201, 'min_samples_split': 9, 'max_features': 'sqrt', 'min_samples_leaf': 2, 'random_state': 760, 'n_jobs': -1}\n"
     ]
    },
    {
     "name": "stderr",
     "output_type": "stream",
     "text": [
      "\u001b[32m[I 2022-09-27 04:23:35,206]\u001b[0m Trial 39 finished with value: 3.558606944491809 and parameters: {'n_estimators': 101, 'max_depth': 201, 'min_samples_split': 9, 'max_features': 'sqrt', 'min_samples_leaf': 2}. Best is trial 30 with value: 3.549789758925833.\u001b[0m\n"
     ]
    },
    {
     "name": "stdout",
     "output_type": "stream",
     "text": [
      "Time cost: 29.161722660064697\n",
      "Currently running with:\n",
      "{'n_estimators': 201, 'max_depth': 301, 'min_samples_split': 2, 'max_features': 'log2', 'min_samples_leaf': 5, 'random_state': 760, 'n_jobs': -1}\n"
     ]
    },
    {
     "name": "stderr",
     "output_type": "stream",
     "text": [
      "\u001b[32m[I 2022-09-27 04:24:28,605]\u001b[0m Trial 40 finished with value: 3.5703696165891197 and parameters: {'n_estimators': 201, 'max_depth': 301, 'min_samples_split': 2, 'max_features': 'log2', 'min_samples_leaf': 5}. Best is trial 30 with value: 3.549789758925833.\u001b[0m\n"
     ]
    },
    {
     "name": "stdout",
     "output_type": "stream",
     "text": [
      "Time cost: 53.3978545665741\n",
      "Currently running with:\n",
      "{'n_estimators': 301, 'max_depth': 101, 'min_samples_split': 7, 'max_features': 'log2', 'min_samples_leaf': 1, 'random_state': 760, 'n_jobs': -1}\n"
     ]
    },
    {
     "name": "stderr",
     "output_type": "stream",
     "text": [
      "\u001b[32m[I 2022-09-27 04:25:57,742]\u001b[0m Trial 41 finished with value: 3.5474646810677157 and parameters: {'n_estimators': 301, 'max_depth': 101, 'min_samples_split': 7, 'max_features': 'log2', 'min_samples_leaf': 1}. Best is trial 41 with value: 3.5474646810677157.\u001b[0m\n"
     ]
    },
    {
     "name": "stdout",
     "output_type": "stream",
     "text": [
      "Time cost: 89.13703083992004\n",
      "Currently running with:\n",
      "{'n_estimators': 301, 'max_depth': 101, 'min_samples_split': 7, 'max_features': 'log2', 'min_samples_leaf': 1, 'random_state': 760, 'n_jobs': -1}\n"
     ]
    },
    {
     "name": "stderr",
     "output_type": "stream",
     "text": [
      "\u001b[32m[I 2022-09-27 04:27:28,115]\u001b[0m Trial 42 finished with value: 3.5474646810677153 and parameters: {'n_estimators': 301, 'max_depth': 101, 'min_samples_split': 7, 'max_features': 'log2', 'min_samples_leaf': 1}. Best is trial 42 with value: 3.5474646810677153.\u001b[0m\n"
     ]
    },
    {
     "name": "stdout",
     "output_type": "stream",
     "text": [
      "Time cost: 90.37242317199707\n",
      "Currently running with:\n",
      "{'n_estimators': 301, 'max_depth': 151, 'min_samples_split': 7, 'max_features': 'log2', 'min_samples_leaf': 2, 'random_state': 760, 'n_jobs': -1}\n"
     ]
    },
    {
     "name": "stderr",
     "output_type": "stream",
     "text": [
      "\u001b[32m[I 2022-09-27 04:28:54,947]\u001b[0m Trial 43 finished with value: 3.5487148903797694 and parameters: {'n_estimators': 301, 'max_depth': 151, 'min_samples_split': 7, 'max_features': 'log2', 'min_samples_leaf': 2}. Best is trial 42 with value: 3.5474646810677153.\u001b[0m\n"
     ]
    },
    {
     "name": "stdout",
     "output_type": "stream",
     "text": [
      "Time cost: 86.83271908760071\n",
      "Currently running with:\n",
      "{'n_estimators': 301, 'max_depth': 101, 'min_samples_split': 5, 'max_features': 'log2', 'min_samples_leaf': 4, 'random_state': 760, 'n_jobs': -1}\n"
     ]
    },
    {
     "name": "stderr",
     "output_type": "stream",
     "text": [
      "\u001b[32m[I 2022-09-27 04:30:16,410]\u001b[0m Trial 44 finished with value: 3.5612079878970864 and parameters: {'n_estimators': 301, 'max_depth': 101, 'min_samples_split': 5, 'max_features': 'log2', 'min_samples_leaf': 4}. Best is trial 42 with value: 3.5474646810677153.\u001b[0m\n"
     ]
    },
    {
     "name": "stdout",
     "output_type": "stream",
     "text": [
      "Time cost: 81.46231746673584\n",
      "Currently running with:\n",
      "{'n_estimators': 301, 'max_depth': 151, 'min_samples_split': 10, 'max_features': 'log2', 'min_samples_leaf': 1, 'random_state': 760, 'n_jobs': -1}\n"
     ]
    },
    {
     "name": "stderr",
     "output_type": "stream",
     "text": [
      "\u001b[32m[I 2022-09-27 04:31:42,838]\u001b[0m Trial 45 finished with value: 3.5522170392669365 and parameters: {'n_estimators': 301, 'max_depth': 151, 'min_samples_split': 10, 'max_features': 'log2', 'min_samples_leaf': 1}. Best is trial 42 with value: 3.5474646810677153.\u001b[0m\n"
     ]
    },
    {
     "name": "stdout",
     "output_type": "stream",
     "text": [
      "Time cost: 86.42827701568604\n",
      "Currently running with:\n",
      "{'n_estimators': 251, 'max_depth': 101, 'min_samples_split': 7, 'max_features': 'sqrt', 'min_samples_leaf': 2, 'random_state': 760, 'n_jobs': -1}\n"
     ]
    },
    {
     "name": "stderr",
     "output_type": "stream",
     "text": [
      "\u001b[32m[I 2022-09-27 04:32:56,677]\u001b[0m Trial 46 finished with value: 3.549789758925833 and parameters: {'n_estimators': 251, 'max_depth': 101, 'min_samples_split': 7, 'max_features': 'sqrt', 'min_samples_leaf': 2}. Best is trial 42 with value: 3.5474646810677153.\u001b[0m\n"
     ]
    },
    {
     "name": "stdout",
     "output_type": "stream",
     "text": [
      "Time cost: 73.83917427062988\n",
      "Currently running with:\n",
      "{'n_estimators': 301, 'max_depth': 101, 'min_samples_split': 4, 'max_features': 'sqrt', 'min_samples_leaf': 7, 'random_state': 760, 'n_jobs': -1}\n"
     ]
    },
    {
     "name": "stderr",
     "output_type": "stream",
     "text": [
      "\u001b[32m[I 2022-09-27 04:34:14,572]\u001b[0m Trial 47 finished with value: 3.5806216113253853 and parameters: {'n_estimators': 301, 'max_depth': 101, 'min_samples_split': 4, 'max_features': 'sqrt', 'min_samples_leaf': 7}. Best is trial 42 with value: 3.5474646810677153.\u001b[0m\n"
     ]
    },
    {
     "name": "stdout",
     "output_type": "stream",
     "text": [
      "Time cost: 77.89499521255493\n",
      "Currently running with:\n",
      "{'n_estimators': 251, 'max_depth': 101, 'min_samples_split': 6, 'max_features': 'sqrt', 'min_samples_leaf': 3, 'random_state': 760, 'n_jobs': -1}\n"
     ]
    },
    {
     "name": "stderr",
     "output_type": "stream",
     "text": [
      "\u001b[32m[I 2022-09-27 04:35:30,930]\u001b[0m Trial 48 finished with value: 3.5566728884756427 and parameters: {'n_estimators': 251, 'max_depth': 101, 'min_samples_split': 6, 'max_features': 'sqrt', 'min_samples_leaf': 3}. Best is trial 42 with value: 3.5474646810677153.\u001b[0m\n"
     ]
    },
    {
     "name": "stdout",
     "output_type": "stream",
     "text": [
      "Time cost: 76.34194278717041\n",
      "Currently running with:\n",
      "{'n_estimators': 201, 'max_depth': 51, 'min_samples_split': 3, 'max_features': 'sqrt', 'min_samples_leaf': 1, 'random_state': 760, 'n_jobs': -1}\n"
     ]
    },
    {
     "name": "stderr",
     "output_type": "stream",
     "text": [
      "\u001b[32m[I 2022-09-27 04:36:44,521]\u001b[0m Trial 49 finished with value: 3.549025828527312 and parameters: {'n_estimators': 201, 'max_depth': 51, 'min_samples_split': 3, 'max_features': 'sqrt', 'min_samples_leaf': 1}. Best is trial 42 with value: 3.5474646810677153.\u001b[0m\n"
     ]
    },
    {
     "name": "stdout",
     "output_type": "stream",
     "text": [
      "Time cost: 73.58997440338135\n"
     ]
    },
    {
     "data": {
      "text/plain": [
       "{'n_estimators': 301,\n",
       " 'max_depth': 101,\n",
       " 'min_samples_split': 7,\n",
       " 'max_features': 'log2',\n",
       " 'min_samples_leaf': 1}"
      ]
     },
     "execution_count": 5,
     "metadata": {},
     "output_type": "execute_result"
    }
   ],
   "source": [
    "study = opt.create_study(direction = 'minimize')\n",
    "study.optimize(objective, n_trials = 50)\n",
    "study.best_params"
   ]
  },
  {
   "cell_type": "code",
   "execution_count": 5,
   "id": "7dcc3827-99e7-4e12-b97f-5bfb7caf162a",
   "metadata": {},
   "outputs": [],
   "source": [
    "#optimal model\n",
    "# 'n_estimators': 301, 'max_depth': 101, 'min_samples_split': 7, 'max_features': 'log2', 'min_samples_leaf': 1\n",
    "omodel = RandomForestRegressor(n_estimators = 301, \n",
    "                               max_depth = 101, \n",
    "                               min_samples_leaf= 1,\n",
    "                               min_samples_split= 7,\n",
    "                               max_features= 'log2', random_state = 760, n_jobs=-1)\n",
    "\n",
    "\n",
    "omodel.fit(X_train, y_train)"
   ]
  },
  {
   "cell_type": "code",
   "execution_count": 6,
   "id": "2d6ff318-63b5-4b2c-85e5-d339982130f1",
   "metadata": {},
   "outputs": [
    {
     "name": "stdout",
     "output_type": "stream",
     "text": [
      "\n",
      " model train score -> RMSE: 2.0704855821728825 MAE: 0.8826368503630423\n",
      "\n",
      " model test score -> RMSE: 4.102792258442667 MAE: 1.6248397899885325\n"
     ]
    }
   ],
   "source": [
    "#predict train set results\n",
    "y_pred = omodel.predict(X_train)\n",
    "rmse = mean_squared_error(y_train, y_pred, squared=False)\n",
    "mae = mean_absolute_error(y_train, y_pred) \n",
    "print(f\"\\n model train score -> RMSE:\", rmse, \"MAE:\", mae)\n",
    "\n",
    "\n",
    "#predict test set results\n",
    "y_pred_test = omodel.predict(X_test)\n",
    "rmse = mean_squared_error(y_test, y_pred_test, squared=False)\n",
    "mae = mean_absolute_error(y_test, y_pred_test) \n",
    "print(f\"\\n model test score -> RMSE:\", rmse, \"MAE:\", mae)"
   ]
  },
  {
   "cell_type": "code",
   "execution_count": null,
   "id": "b0ef1c8b-bba7-45ea-a9dd-00c9cc67f681",
   "metadata": {},
   "outputs": [],
   "source": []
  }
 ],
 "metadata": {
  "kernelspec": {
   "display_name": "Python 3 (ipykernel)",
   "language": "python",
   "name": "python3"
  },
  "language_info": {
   "codemirror_mode": {
    "name": "ipython",
    "version": 3
   },
   "file_extension": ".py",
   "mimetype": "text/x-python",
   "name": "python",
   "nbconvert_exporter": "python",
   "pygments_lexer": "ipython3",
   "version": "3.10.6"
  }
 },
 "nbformat": 4,
 "nbformat_minor": 5
}
