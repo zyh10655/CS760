{
 "cells": [
  {
   "cell_type": "code",
   "execution_count": null,
   "id": "b1ee1278-48fc-45b8-b9e3-b573cecf1560",
   "metadata": {
    "id": "b1ee1278-48fc-45b8-b9e3-b573cecf1560"
   },
   "outputs": [],
   "source": [
    "!pip install --quiet transformers"
   ]
  },
  {
   "cell_type": "code",
   "execution_count": null,
   "id": "96f1972c-6ff4-424a-8dd7-2d6669dd77c0",
   "metadata": {
    "colab": {
     "base_uri": "https://localhost:8080/"
    },
    "id": "96f1972c-6ff4-424a-8dd7-2d6669dd77c0",
    "outputId": "17a8ec64-45c3-4e70-fcc9-f1ee2d3e1c03"
   },
   "outputs": [],
   "source": [
    "!pip install --quiet pytorch-lightning"
   ]
  },
  {
   "cell_type": "code",
   "execution_count": null,
   "id": "8d1c6514-ca31-40b2-8ef8-c158a0a5dd4c",
   "metadata": {
    "colab": {
     "base_uri": "https://localhost:8080/",
     "height": 581
    },
    "id": "8d1c6514-ca31-40b2-8ef8-c158a0a5dd4c",
    "outputId": "f99605be-c74e-48ea-c382-871f8b92dd5e"
   },
   "outputs": [],
   "source": [
    "import numpy as np\n",
    "import pandas as pd\n",
    "import torch\n",
    "import torch.utils.data as dt\n",
    "import matplotlib.pyplot as plt\n",
    "import pytorch_lightning as pl\n",
    "import wandb\n",
    "import sys\n",
    "import os\n",
    "\n",
    "sys.path.append(\"..\")\n",
    "\n",
    "from transformers import DistilBertTokenizerFast, DistilBertConfig\n",
    "from pytorch_lightning.callbacks import ModelCheckpoint, EarlyStopping\n",
    "from pytorch_lightning.loggers import WandbLogger\n",
    "from scripts.distilbert_reg import DistilBERTRegressor\n",
    "from scripts.data_module import YelpDataset, YelpDataModule\n",
    "\n",
    "\n",
    "pl.seed_everything(seed=42)\n",
    "wandb.login()"
   ]
  },
  {
   "cell_type": "markdown",
   "id": "d95429cd-b32d-43f4-8763-1c77bdc84da2",
   "metadata": {
    "id": "d95429cd-b32d-43f4-8763-1c77bdc84da2"
   },
   "source": [
    "# Load the Dataset"
   ]
  },
  {
   "cell_type": "code",
   "execution_count": null,
   "id": "218f5371-3b4f-448f-b27e-51d3089aa8fc",
   "metadata": {
    "id": "218f5371-3b4f-448f-b27e-51d3089aa8fc"
   },
   "outputs": [],
   "source": [
    "df_train_text = pd.read_parquet(\"../data/new_data/train_text.parquet.snappy\")\n",
    "df_test_text = pd.read_parquet(\"../data/new_data/test_text.parquet.snappy\")\n",
    "\n",
    "df_train_main = pd.read_parquet(\"../data/new_data/train_main.parquet.snappy\")\n",
    "df_test_main = pd.read_parquet(\"../data/new_data/test_main.parquet.snappy\")\n",
    "\n",
    "\n",
    "print(f\"Shape of the training dataset : {df_train_text.shape}\")\n",
    "print(f\"Shape of the test dataset : {df_test_text.shape}\")\n",
    "\n",
    "print(\"-\"*20)\n",
    "\n",
    "\n",
    "print(f\"Shape of the training dataset : {df_train_main.shape}\")\n",
    "print(f\"Shape of the test dataset : {df_test_main.shape}\")"
   ]
  },
  {
   "cell_type": "code",
   "execution_count": null,
   "id": "31ae12b7-88b7-48c1-8a65-6eef89fc5475",
   "metadata": {
    "id": "31ae12b7-88b7-48c1-8a65-6eef89fc5475"
   },
   "outputs": [],
   "source": [
    "def merge_data(df1:pd.DataFrame, df2:pd.DataFrame, on:str, suffixes:tuple=None) -> pd.DataFrame:\n",
    "    \"\"\" Function to merge the dataframe \"\"\"\n",
    "  \n",
    "    if suffixes is None:\n",
    "        suffixes = ('_x', '_y')\n",
    "    df_merge = pd.merge(df1, df2, on=on, suffixes=suffixes)\n",
    "    df_merge = df_merge[['r_text', 'r_useful']]\n",
    "\n",
    "    return df_merge\n",
    "\n",
    "df_train = merge_data(df_train_text, df_train_main, \"r_id\", suffixes=('_text', '_main'))\n",
    "df_test = merge_data(df_test_text, df_test_main, \"r_id\", suffixes=('_text', '_main'))"
   ]
  },
  {
   "cell_type": "code",
   "execution_count": null,
   "id": "ccc5b510-f3f7-4996-969c-730eb2d2760c",
   "metadata": {
    "id": "ccc5b510-f3f7-4996-969c-730eb2d2760c"
   },
   "outputs": [],
   "source": [
    "df_train.head()"
   ]
  },
  {
   "cell_type": "markdown",
   "id": "057c430e-5d45-4d4e-a960-8ac00c1c601d",
   "metadata": {
    "id": "057c430e-5d45-4d4e-a960-8ac00c1c601d"
   },
   "source": [
    "# Set Configuration"
   ]
  },
  {
   "cell_type": "code",
   "execution_count": null,
   "id": "8c55d059-7d24-4b71-96ed-9af2a9adfb48",
   "metadata": {
    "id": "8c55d059-7d24-4b71-96ed-9af2a9adfb48"
   },
   "outputs": [],
   "source": [
    "config = {\n",
    "    \"batch_sz\":128,\n",
    "    \"lr\":1e-4,\n",
    "    \"model_name\":\"distilbert-base-uncased\",\n",
    "    \"max_len\":300,\n",
    "    \"drop\": 0.2,\n",
    "    \"clip_val\":2,\n",
    "    \"schedule\":True,\n",
    "    \"n_epochs\" : 10,\n",
    "    \"bert_config\":DistilBertConfig.from_pretrained('distilbert-base-uncased'),\n",
    "    \"linear1\":128,\n",
    "    \"device\": torch.device(\"cuda\" if torch.cuda.is_available() else \"cpu\"),\n",
    "    \"criterion\":torch.nn.MSELoss(),\n",
    "    \"wandb\":True,\n",
    "    \"_wandb_kernel\":\"neuracort\",\n",
    "    \"num_workers\":4,\n",
    "    \"weight_decay\":1e-6,\n",
    "    \"checkpoint_dir_path\":\"./checkpoints/\",\n",
    "    \"pin_memory\":True\n",
    "}"
   ]
  },
  {
   "cell_type": "code",
   "execution_count": null,
   "id": "c90a6841",
   "metadata": {},
   "outputs": [],
   "source": [
    "wandb_logger = WandbLogger(project=\"Yelp-Review-Usefulness\", job_type=\"train\", anonymous='allow', config=config)"
   ]
  },
  {
   "cell_type": "markdown",
   "id": "d7656f32-51b1-4ca1-8a9e-91d97be62cd9",
   "metadata": {
    "id": "d7656f32-51b1-4ca1-8a9e-91d97be62cd9"
   },
   "source": [
    "# Tokenizer"
   ]
  },
  {
   "cell_type": "code",
   "execution_count": null,
   "id": "7514b822-999d-4a61-9728-90a999595cd2",
   "metadata": {
    "id": "7514b822-999d-4a61-9728-90a999595cd2"
   },
   "outputs": [],
   "source": [
    "tokenizer = DistilBertTokenizerFast.from_pretrained(config['model_name'])"
   ]
  },
  {
   "cell_type": "markdown",
   "id": "de9bf7c5-8891-4ab1-be91-8fd975c32807",
   "metadata": {
    "id": "de9bf7c5-8891-4ab1-be91-8fd975c32807"
   },
   "source": [
    "# Create DataLoaders"
   ]
  },
  {
   "cell_type": "code",
   "execution_count": null,
   "id": "98ae8c68-ec33-41dc-ad62-0b9e8976a28f",
   "metadata": {
    "id": "98ae8c68-ec33-41dc-ad62-0b9e8976a28f"
   },
   "outputs": [],
   "source": [
    "# train_dataset = YelpDataset(df_train['r_text'].values, df_train['r_useful'].values, tokenizer, config['max_len'])\n",
    "# test_dataset = YelpDataset(df_test['r_text'].values, df_test['r_useful'].values, tokenizer, config['max_len'])"
   ]
  },
  {
   "cell_type": "code",
   "execution_count": null,
   "id": "659e1185-3712-449b-bdf1-01760d112768",
   "metadata": {
    "id": "659e1185-3712-449b-bdf1-01760d112768"
   },
   "outputs": [],
   "source": [
    "# train_dl = dt.DataLoader(train_dataset, batch_size=config['batch_sz'], shuffle=True, num_workers=4)\n",
    "# test_dataset = dt.DataLoader(test_dataset, batch_size=config['batch_sz'], shuffle=False, num_workers=4) "
   ]
  },
  {
   "cell_type": "markdown",
   "id": "327cb38c-b666-44ad-96f3-19ee6c0905a4",
   "metadata": {
    "id": "327cb38c-b666-44ad-96f3-19ee6c0905a4"
   },
   "source": [
    "# Cross-Validation"
   ]
  },
  {
   "cell_type": "code",
   "execution_count": null,
   "id": "YNPZFEUzifmi",
   "metadata": {
    "id": "YNPZFEUzifmi"
   },
   "outputs": [],
   "source": [
    "config['steps_per_epoch'] = df_train.shape[0] // config['batch_sz']"
   ]
  },
  {
   "cell_type": "code",
   "execution_count": null,
   "id": "1c3fb38a",
   "metadata": {},
   "outputs": [],
   "source": [
    "# temp_dl = YelpDataModule(df_train, tokenizer, config[\"max_len\"], k=1, num_splits=3, batch_size=config['batch_sz'], num_workers=4)\n",
    "# temp_dl.setup(stage=\"cv\")\n",
    "# ttrain_dl = temp_dl.train_dataloader()\n",
    "# tval_dl = temp_dl.val_dataloader()\n",
    "\n",
    "# next(iter(ttrain_dl))"
   ]
  },
  {
   "cell_type": "code",
   "execution_count": null,
   "id": "2e8801b4-73e0-4597-b358-90a2f4abb591",
   "metadata": {
    "id": "2e8801b4-73e0-4597-b358-90a2f4abb591"
   },
   "outputs": [],
   "source": [
    "for k in range(3):\n",
    "    print(f'Fold : {k}')\n",
    "    dl = YelpDataModule(df_train, tokenizer, config[\"max_len\"], k=1, num_splits=3, batch_size=config['batch_sz'], num_workers=config[\"num_workers\"], pin_memory=config[\"pin_memory\"])\n",
    "    dl.setup(stage=\"cv\")\n",
    "    train_dl = dl.train_dataloader()\n",
    "    val_dl = dl.val_dataloader()\n",
    "\n",
    "    checkpoint = ModelCheckpoint(\n",
    "        dirpath=config[\"checkpoint_dir_path\"],\n",
    "        filename=f\"fold_{k}_distilbert_base\",\n",
    "        save_top_k=1,\n",
    "        verbose=True,\n",
    "        monitor=\"val_loss\",\n",
    "        mode=\"min\"\n",
    "    )\n",
    "\n",
    "\n",
    "    early_stop = EarlyStopping(\n",
    "        monitor=\"val_loss\",\n",
    "        patience=2,\n",
    "        verbose=True,\n",
    "        mode=\"min\"\n",
    "    )\n",
    "\n",
    "    model = DistilBERTRegressor(config)\n",
    "    trainer = pl.Trainer(gpus=-1, deterministic=True, max_epochs=config['n_epochs'], callbacks=[checkpoint, early_stop],\n",
    "                        precision=16,\n",
    "                        logger=wandb_logger,\n",
    "                        gradient_clip_val=config['clip_val']\n",
    "                        # strategy='ddp' #activate for Multi-GPU\n",
    "                        )\n",
    "    trainer.fit(model, train_dataloaders=train_dl, val_dataloaders=val_dl)"
   ]
  },
  {
   "cell_type": "code",
   "execution_count": null,
   "id": "0834d8b5",
   "metadata": {},
   "outputs": [],
   "source": []
  }
 ],
 "metadata": {
  "accelerator": "GPU",
  "colab": {
   "collapsed_sections": [],
   "provenance": []
  },
  "kernelspec": {
   "display_name": "Python 3 (ipykernel)",
   "language": "python",
   "name": "python3"
  },
  "language_info": {
   "codemirror_mode": {
    "name": "ipython",
    "version": 3
   },
   "file_extension": ".py",
   "mimetype": "text/x-python",
   "name": "python",
   "nbconvert_exporter": "python",
   "pygments_lexer": "ipython3",
   "version": "3.8.12"
  },
  "vscode": {
   "interpreter": {
    "hash": "760fca5d588eb2c39c635c32cb34b0b0f2f32b7df7078160d234b0fd0a521ead"
   }
  }
 },
 "nbformat": 4,
 "nbformat_minor": 5
}
