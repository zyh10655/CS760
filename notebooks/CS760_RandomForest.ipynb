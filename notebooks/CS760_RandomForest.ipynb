{
 "cells": [
  {
   "cell_type": "code",
   "execution_count": 14,
   "id": "6ed30ea2",
   "metadata": {},
   "outputs": [],
   "source": [
    "import pandas as pd\n",
    "import numpy as np\n",
    "import re\n",
    "from sklearn.ensemble import RandomForestRegressor\n",
    "from sklearn.model_selection import GridSearchCV\n",
    "from sklearn.metrics import mean_absolute_error\n",
    "from sklearn.metrics import mean_squared_error\n",
    "from sklearn.model_selection import ParameterGrid"
   ]
  },
  {
   "cell_type": "code",
   "execution_count": 18,
   "id": "ea48898d",
   "metadata": {},
   "outputs": [],
   "source": [
    "#set seed value\n",
    "SEED = 7\n",
    "\n",
    "#import the train, validation and test datasets\n",
    "train_df=pd.read_parquet('/Users/Sheffin/Downloads/760Data/train.parquet',engine='fastparquet')\n",
    "val_df=pd.read_parquet('/Users/Sheffin/Downloads/760Data/val.parquet',engine='fastparquet')\n",
    "test_df=pd.read_parquet('/Users/Sheffin/Downloads/760Data/test.parquet',engine='fastparquet')"
   ]
  },
  {
   "cell_type": "code",
   "execution_count": 8,
   "id": "7c7cee27",
   "metadata": {},
   "outputs": [],
   "source": [
    "#split the datasets\n",
    "X_train=train_df.drop(['r_id','r_useful'],axis=1)\n",
    "y_train=train_df['r_useful']\n",
    "X_val=val_df.drop(['r_id','r_useful'],axis=1)\n",
    "y_val=val_df['r_useful']\n",
    "X_test=test_df.drop(['r_id','r_useful'],axis=1)\n",
    "y_test=test_df['r_useful']"
   ]
  },
  {
   "cell_type": "code",
   "execution_count": 16,
   "id": "968748de",
   "metadata": {},
   "outputs": [],
   "source": [
    "#function to find the best parameters \n",
    "def experiment(parameters):\n",
    "    grid = ParameterGrid(parameters)\n",
    "\n",
    "    for i, parameters in enumerate(grid):\n",
    "        print(f\"\\n{i+1}th model:\")\n",
    "        print(\"\\n parameters used in model\",parameters)\n",
    "        randomforest = RandomForestRegressor(random_state = SEED)\n",
    "        randomforest.set_params(**parameters)\n",
    "        randomforest.fit(X_train, y_train)\n",
    "               \n",
    "        y_pred = randomforest.predict(X_val)\n",
    "        rmse = mean_squared_error(y_val, y_pred, squared=False)\n",
    "        mae = mean_absolute_error(y_val, y_pred) \n",
    "        print(f\"{i+1}th model scores -> RMSE:\", rmse, \"MAE:\", mae)\n",
    "        "
   ]
  },
  {
   "cell_type": "code",
   "execution_count": 20,
   "id": "85228c61",
   "metadata": {},
   "outputs": [
    {
     "name": "stdout",
     "output_type": "stream",
     "text": [
      "1th model:\n",
      "\n",
      " parameters used in model {'bootstrap': True, 'max_depth': None, 'max_features': 'auto', 'min_samples_leaf': 1, 'n_estimators': 20}\n",
      "1th model scores -> RMSE: 12.86403129049243 MAE: 0.23599776167293995\n",
      "2th model:\n",
      "\n",
      " parameters used in model {'bootstrap': True, 'max_depth': None, 'max_features': 'auto', 'min_samples_leaf': 1, 'n_estimators': 50}\n",
      "2th model scores -> RMSE: 12.367259409572226 MAE: 0.22844275233126396\n",
      "3th model:\n",
      "\n",
      " parameters used in model {'bootstrap': True, 'max_depth': None, 'max_features': 'auto', 'min_samples_leaf': 1, 'n_estimators': 70}\n",
      "3th model scores -> RMSE: 12.397391783330594 MAE: 0.22749873440560037\n",
      "4th model:\n",
      "\n",
      " parameters used in model {'bootstrap': True, 'max_depth': None, 'max_features': 'auto', 'min_samples_leaf': 1, 'n_estimators': 100}\n",
      "4th model scores -> RMSE: 12.436233056160098 MAE: 0.22621447777595993\n"
     ]
    }
   ],
   "source": [
    "#n_estimators = n of trees\n",
    "#max_features = max number of features considered for splitting a node\n",
    "#max_depth = max number of levels in each decision tree\n",
    "#min_samples_leaf = min number of data points allowed in a leaf node\n",
    "#bootstrap = method for sampling data points (with or without replacement)\n",
    "#ccp_alpha = cost complexity pruning\n",
    "\n",
    "hyperparams = {\n",
    "     'n_estimators': [20, 50, 70, 100], \n",
    "     'max_features': ['auto'], \n",
    "     'max_depth': [None], \n",
    "     'bootstrap': [True],\n",
    "     'min_samples_leaf': [1]}\n",
    "\n",
    "experiment(hyperparams)"
   ]
  },
  {
   "cell_type": "code",
   "execution_count": 29,
   "id": "9403b45f",
   "metadata": {},
   "outputs": [
    {
     "name": "stdout",
     "output_type": "stream",
     "text": [
      "\n",
      " model train score -> RMSE: 3.091398881803236 MAE: 0.07756503772926586\n",
      "\n",
      " model val score -> RMSE: 12.278492543419416 MAE: 0.22593024166907016\n",
      "\n",
      " model test score -> RMSE: 6.04689950763364 MAE: 0.19814207477258228\n"
     ]
    }
   ],
   "source": [
    "#model\n",
    "randomforest = RandomForestRegressor(random_state = SEED, bootstrap=True, max_depth=None,max_features='auto', \n",
    "                                     min_samples_leaf=1, n_estimators=100, n_jobs=-1)\n",
    "#fit the model on the train set\n",
    "randomforest.fit(X_train, y_train)\n",
    "\n",
    "#predict train set results\n",
    "y_pred = randomforest.predict(X_train)\n",
    "rmse = mean_squared_error(y_train, y_pred, squared=False)\n",
    "mae = mean_absolute_error(y_train, y_pred) \n",
    "print(f\"\\n model train score -> RMSE:\", rmse, \"MAE:\", mae)\n",
    "\n",
    "#predict validation set results\n",
    "y_pred_val = randomforest.predict(X_val)\n",
    "rmse = mean_squared_error(y_val, y_pred_val, squared=False)\n",
    "mae = mean_absolute_error(y_val, y_pred_val) \n",
    "print(f\"\\n model val score -> RMSE:\", rmse, \"MAE:\", mae)\n",
    "\n",
    "#predict test set results\n",
    "y_pred_test = randomforest.predict(X_test)\n",
    "rmse = mean_squared_error(y_test, y_pred_test, squared=False)\n",
    "mae = mean_absolute_error(y_test, y_pred_test) \n",
    "print(f\"\\n model test score -> RMSE:\", rmse, \"MAE:\", mae)"
   ]
  }
 ],
 "metadata": {
  "kernelspec": {
   "display_name": "Python 3 (ipykernel)",
   "language": "python",
   "name": "python3"
  },
  "language_info": {
   "codemirror_mode": {
    "name": "ipython",
    "version": 3
   },
   "file_extension": ".py",
   "mimetype": "text/x-python",
   "name": "python",
   "nbconvert_exporter": "python",
   "pygments_lexer": "ipython3",
   "version": "3.9.12"
  }
 },
 "nbformat": 4,
 "nbformat_minor": 5
}
