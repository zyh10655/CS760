{
 "cells": [
  {
   "cell_type": "code",
   "execution_count": 1,
   "metadata": {},
   "outputs": [
    {
     "name": "stderr",
     "output_type": "stream",
     "text": [
      "/home/monsoon/miniconda3/envs/CS760/lib/python3.10/site-packages/tqdm/auto.py:22: TqdmWarning: IProgress not found. Please update jupyter and ipywidgets. See https://ipywidgets.readthedocs.io/en/stable/user_install.html\n",
      "  from .autonotebook import tqdm as notebook_tqdm\n"
     ]
    }
   ],
   "source": [
    "import time\n",
    "from pathlib import Path\n",
    "import pandas as pd\n",
    "import numpy as np\n",
    "\n",
    "import optuna as opt\n",
    "from optuna.samplers import TPESampler\n",
    "# suppress info logs\n",
    "opt.logging.set_verbosity(opt.logging.WARNING)\n",
    "\n",
    "from sklearn.model_selection import KFold, cross_val_score\n",
    "from sklearn.pipeline import Pipeline\n",
    "from sklearn.preprocessing import StandardScaler\n",
    "from sklearn.impute import SimpleImputer\n",
    "from sklearn.metrics import mean_absolute_error, mean_squared_error\n",
    "\n",
    "from xgboost import XGBRegressor"
   ]
  },
  {
   "cell_type": "code",
   "execution_count": 2,
   "metadata": {},
   "outputs": [],
   "source": [
    "def extractArrays(df):\n",
    "    '''Extracts feature matrix X and label array y from dataframe.'''\n",
    "    return df.drop(['r_useful', 'r_id'], axis=1).values, df['r_useful'].values"
   ]
  },
  {
   "cell_type": "markdown",
   "metadata": {},
   "source": [
    "Settings, load dataset, and constants"
   ]
  },
  {
   "cell_type": "code",
   "execution_count": 3,
   "metadata": {},
   "outputs": [
    {
     "name": "stdout",
     "output_type": "stream",
     "text": [
      "Shape of the training data : (80000, 35)\n",
      "Shape of the val data : (10000, 35)\n",
      "Shape of the test data : (10000, 35)\n"
     ]
    }
   ],
   "source": [
    "RANDOM_SEED = 760\n",
    "DATA_DIR = Path(\"../../ready_data\")\n",
    "\n",
    "N_OPTUNA_TRIALS = 50\n",
    "N_FOLDS = 5\n",
    "N_REPS = 6 # number of repetitions of CV\n",
    "T_ES = 20 # threshold # consecutive non-improvement rounds for early stopping\n",
    "\n",
    "df_train = pd.read_parquet(DATA_DIR/\"100K35F_train_main.parquet.snappy\")\n",
    "df_val = pd.read_parquet(DATA_DIR/\"100K35F_val_main.parquet.snappy\")\n",
    "df_test = pd.read_parquet(DATA_DIR/\"100K35F_test_main.parquet.snappy\")\n",
    "\n",
    "X_train, y_train = extractArrays(df_train)\n",
    "X_val, y_val = extractArrays(df_val)\n",
    "X_test, y_test = extractArrays(df_test)\n",
    "\n",
    "print(f\"Shape of the training data : {X_train.shape}\")\n",
    "print(f\"Shape of the val data : {X_val.shape}\")\n",
    "print(f\"Shape of the test data : {X_test.shape}\")"
   ]
  },
  {
   "cell_type": "markdown",
   "metadata": {},
   "source": [
    "Define model"
   ]
  },
  {
   "cell_type": "code",
   "execution_count": 4,
   "metadata": {},
   "outputs": [],
   "source": [
    "MODEL_PREFIX = \"mm\"\n",
    "class MeanModel:\n",
    "    def __init__(self):\n",
    "        self.prediction = None\n",
    "    \n",
    "    def fit(self, X, y):\n",
    "        self.prediction = y.mean()\n",
    "    \n",
    "    def predict(self, X):\n",
    "        return np.full((X.shape[0],), self.prediction)\n",
    "\n",
    "# Mean imputation and standardisation\n",
    "model_pipe = Pipeline([\n",
    "    (\"imp\", SimpleImputer()),\n",
    "    (\"ss\", StandardScaler()),\n",
    "    (MODEL_PREFIX, MeanModel())])\n",
    "\n",
    "# needed for setting parameters correctly in pipe\n",
    "def hp_appender(hp_dict):\n",
    "    '''Return dictionary where every key has the MODEL_PREFIX__ appended.'''\n",
    "    new_dict = {}\n",
    "    for key, val in hp_dict.items():\n",
    "        new_dict[MODEL_PREFIX + \"__\" + key] = val\n",
    "    return new_dict"
   ]
  },
  {
   "cell_type": "markdown",
   "metadata": {},
   "source": [
    "Implement experiment procedure"
   ]
  },
  {
   "cell_type": "code",
   "execution_count": 5,
   "metadata": {},
   "outputs": [],
   "source": [
    "def fit_and_score(model, hps, X_train, y_train, X_test, y_test):\n",
    "    model.set_params(**hp_appender(hps))\n",
    "    model.fit(X_train, y_train)\n",
    "    y_preds = model.predict(X_test)\n",
    "\n",
    "    # calculate scores\n",
    "    rmse = mean_squared_error(y_test, y_preds, squared=False)\n",
    "    mae = mean_absolute_error(y_test, y_preds)\n",
    "    return rmse, mae"
   ]
  },
  {
   "cell_type": "markdown",
   "metadata": {},
   "source": [
    "Obtain model test results"
   ]
  },
  {
   "cell_type": "code",
   "execution_count": 6,
   "metadata": {},
   "outputs": [
    {
     "name": "stdout",
     "output_type": "stream",
     "text": [
      "(90000, 35)\n",
      "(90000,)\n"
     ]
    }
   ],
   "source": [
    "# combine train and val sets\n",
    "# https://stackoverflow.com/questions/33356442/when-should-i-use-hstack-vstack-vs-append-vs-concatenate-vs-column-stack\n",
    "X_train_val = np.vstack((X_train, X_val))\n",
    "y_train_val = np.hstack((y_train, y_val))\n",
    "print(X_train_val.shape)\n",
    "print(y_train_val.shape)"
   ]
  },
  {
   "cell_type": "code",
   "execution_count": 7,
   "metadata": {},
   "outputs": [
    {
     "name": "stdout",
     "output_type": "stream",
     "text": [
      "overall RMSE: 3.729\n",
      "overall MAE: 1.873\n"
     ]
    }
   ],
   "source": [
    "rmse, mae = fit_and_score(model_pipe, {},\n",
    "    X_train_val, y_train_val, X_test, y_test)\n",
    "\n",
    "print(f\"overall RMSE: {rmse:.4}\")\n",
    "print(f\"overall MAE: {mae:.4}\")"
   ]
  },
  {
   "cell_type": "markdown",
   "metadata": {},
   "source": [
    "Obtain model validation results"
   ]
  },
  {
   "cell_type": "code",
   "execution_count": 8,
   "metadata": {},
   "outputs": [
    {
     "name": "stdout",
     "output_type": "stream",
     "text": [
      "validation RMSE: 4.052\n",
      "validation MAE: 1.914\n"
     ]
    }
   ],
   "source": [
    "rmse, mae = fit_and_score(model_pipe, {},\n",
    "    X_train, y_train, X_val, y_val)\n",
    "\n",
    "print(f\"validation RMSE: {rmse:.4}\")\n",
    "print(f\"validation MAE: {mae:.4}\")"
   ]
  }
 ],
 "metadata": {
  "kernelspec": {
   "display_name": "Python 3.10.6 ('CS760')",
   "language": "python",
   "name": "python3"
  },
  "language_info": {
   "codemirror_mode": {
    "name": "ipython",
    "version": 3
   },
   "file_extension": ".py",
   "mimetype": "text/x-python",
   "name": "python",
   "nbconvert_exporter": "python",
   "pygments_lexer": "ipython3",
   "version": "3.10.6"
  },
  "orig_nbformat": 4,
  "vscode": {
   "interpreter": {
    "hash": "d275a923d824725c8a5a1bac7b1c3fb204380710405e1dc55a9cc47165ea62c6"
   }
  }
 },
 "nbformat": 4,
 "nbformat_minor": 2
}
