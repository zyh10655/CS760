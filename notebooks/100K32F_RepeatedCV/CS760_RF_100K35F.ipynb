{
 "cells": [
  {
   "cell_type": "markdown",
   "id": "33959f0e-268a-4573-a67f-98739aba2f16",
   "metadata": {},
   "source": [
    "## Random Forest with 5-fold CV, 6 repitition on 100k35F dataset\n",
    "dataset: 35 features, 100k row subsampled dataset, 80:10:10 train:val:test split \n",
    "\n",
    "with optuna early stopping\n",
    "\n",
    "20221011"
   ]
  },
  {
   "cell_type": "code",
   "execution_count": 1,
   "id": "88662a83-26c1-43f3-bdab-15287d5146b6",
   "metadata": {},
   "outputs": [],
   "source": [
    "import pandas as pd\n",
    "import numpy as np\n",
    "from numpy import random\n",
    "from sklearn.metrics import mean_absolute_error\n",
    "from sklearn.metrics import mean_squared_error\n",
    "from sklearn.pipeline import Pipeline\n",
    "from sklearn.preprocessing import StandardScaler\n",
    "from sklearn.ensemble import RandomForestRegressor\n",
    "import optuna as opt\n",
    "import warnings\n",
    "warnings.filterwarnings(\"ignore\")\n",
    "import time\n",
    "from sklearn.model_selection import cross_val_score, KFold\n",
    "from sklearn.impute import SimpleImputer\n",
    "from optuna.samplers import TPESampler"
   ]
  },
  {
   "cell_type": "code",
   "execution_count": 2,
   "id": "67a0172f-2427-4dc9-941d-0cdb8dffc5c8",
   "metadata": {},
   "outputs": [
    {
     "data": {
      "text/html": [
       "<div>\n",
       "<style scoped>\n",
       "    .dataframe tbody tr th:only-of-type {\n",
       "        vertical-align: middle;\n",
       "    }\n",
       "\n",
       "    .dataframe tbody tr th {\n",
       "        vertical-align: top;\n",
       "    }\n",
       "\n",
       "    .dataframe thead th {\n",
       "        text-align: right;\n",
       "    }\n",
       "</style>\n",
       "<table border=\"1\" class=\"dataframe\">\n",
       "  <thead>\n",
       "    <tr style=\"text-align: right;\">\n",
       "      <th></th>\n",
       "      <th>r_id</th>\n",
       "      <th>r_stars</th>\n",
       "      <th>r_stars_square</th>\n",
       "      <th>r_length</th>\n",
       "      <th>u_friends_count</th>\n",
       "      <th>u_review_count</th>\n",
       "      <th>u_month_age</th>\n",
       "      <th>u_comp_avg</th>\n",
       "      <th>u_n_elite_yrs</th>\n",
       "      <th>u_fans</th>\n",
       "      <th>...</th>\n",
       "      <th>r_stopwords/words</th>\n",
       "      <th>r_digit_cnt</th>\n",
       "      <th>r_noun_cnt</th>\n",
       "      <th>r_Adj_cnt</th>\n",
       "      <th>r_Adv_cnt</th>\n",
       "      <th>r_capital_word_cnt</th>\n",
       "      <th>r_quoted_word_cnt</th>\n",
       "      <th>r_hashtag_cnt</th>\n",
       "      <th>r_exclam_cnt</th>\n",
       "      <th>r_useful</th>\n",
       "    </tr>\n",
       "  </thead>\n",
       "  <tbody>\n",
       "    <tr>\n",
       "      <th>0</th>\n",
       "      <td>1340676</td>\n",
       "      <td>1</td>\n",
       "      <td>1</td>\n",
       "      <td>305</td>\n",
       "      <td>1</td>\n",
       "      <td>1</td>\n",
       "      <td>37.547287</td>\n",
       "      <td>0.000000</td>\n",
       "      <td>0</td>\n",
       "      <td>0</td>\n",
       "      <td>...</td>\n",
       "      <td>0.42</td>\n",
       "      <td>1</td>\n",
       "      <td>59</td>\n",
       "      <td>17</td>\n",
       "      <td>27</td>\n",
       "      <td>12</td>\n",
       "      <td>0</td>\n",
       "      <td>0</td>\n",
       "      <td>0</td>\n",
       "      <td>1</td>\n",
       "    </tr>\n",
       "    <tr>\n",
       "      <th>1</th>\n",
       "      <td>941404</td>\n",
       "      <td>4</td>\n",
       "      <td>16</td>\n",
       "      <td>20</td>\n",
       "      <td>2</td>\n",
       "      <td>96</td>\n",
       "      <td>40.146040</td>\n",
       "      <td>0.135417</td>\n",
       "      <td>0</td>\n",
       "      <td>4</td>\n",
       "      <td>...</td>\n",
       "      <td>0.32</td>\n",
       "      <td>0</td>\n",
       "      <td>3</td>\n",
       "      <td>4</td>\n",
       "      <td>4</td>\n",
       "      <td>0</td>\n",
       "      <td>0</td>\n",
       "      <td>0</td>\n",
       "      <td>1</td>\n",
       "      <td>1</td>\n",
       "    </tr>\n",
       "    <tr>\n",
       "      <th>2</th>\n",
       "      <td>1312730</td>\n",
       "      <td>1</td>\n",
       "      <td>1</td>\n",
       "      <td>285</td>\n",
       "      <td>333</td>\n",
       "      <td>24</td>\n",
       "      <td>39.063471</td>\n",
       "      <td>0.083333</td>\n",
       "      <td>0</td>\n",
       "      <td>2</td>\n",
       "      <td>...</td>\n",
       "      <td>0.49</td>\n",
       "      <td>4</td>\n",
       "      <td>40</td>\n",
       "      <td>10</td>\n",
       "      <td>28</td>\n",
       "      <td>14</td>\n",
       "      <td>0</td>\n",
       "      <td>0</td>\n",
       "      <td>0</td>\n",
       "      <td>3</td>\n",
       "    </tr>\n",
       "    <tr>\n",
       "      <th>3</th>\n",
       "      <td>5155149</td>\n",
       "      <td>4</td>\n",
       "      <td>16</td>\n",
       "      <td>139</td>\n",
       "      <td>273</td>\n",
       "      <td>374</td>\n",
       "      <td>7.853903</td>\n",
       "      <td>2.077540</td>\n",
       "      <td>7</td>\n",
       "      <td>37</td>\n",
       "      <td>...</td>\n",
       "      <td>0.43</td>\n",
       "      <td>2</td>\n",
       "      <td>32</td>\n",
       "      <td>8</td>\n",
       "      <td>9</td>\n",
       "      <td>4</td>\n",
       "      <td>0</td>\n",
       "      <td>0</td>\n",
       "      <td>0</td>\n",
       "      <td>4</td>\n",
       "    </tr>\n",
       "    <tr>\n",
       "      <th>4</th>\n",
       "      <td>3706898</td>\n",
       "      <td>4</td>\n",
       "      <td>16</td>\n",
       "      <td>41</td>\n",
       "      <td>1</td>\n",
       "      <td>5</td>\n",
       "      <td>11.606999</td>\n",
       "      <td>0.000000</td>\n",
       "      <td>0</td>\n",
       "      <td>0</td>\n",
       "      <td>...</td>\n",
       "      <td>0.45</td>\n",
       "      <td>1</td>\n",
       "      <td>6</td>\n",
       "      <td>5</td>\n",
       "      <td>5</td>\n",
       "      <td>1</td>\n",
       "      <td>0</td>\n",
       "      <td>0</td>\n",
       "      <td>0</td>\n",
       "      <td>2</td>\n",
       "    </tr>\n",
       "    <tr>\n",
       "      <th>...</th>\n",
       "      <td>...</td>\n",
       "      <td>...</td>\n",
       "      <td>...</td>\n",
       "      <td>...</td>\n",
       "      <td>...</td>\n",
       "      <td>...</td>\n",
       "      <td>...</td>\n",
       "      <td>...</td>\n",
       "      <td>...</td>\n",
       "      <td>...</td>\n",
       "      <td>...</td>\n",
       "      <td>...</td>\n",
       "      <td>...</td>\n",
       "      <td>...</td>\n",
       "      <td>...</td>\n",
       "      <td>...</td>\n",
       "      <td>...</td>\n",
       "      <td>...</td>\n",
       "      <td>...</td>\n",
       "      <td>...</td>\n",
       "      <td>...</td>\n",
       "    </tr>\n",
       "    <tr>\n",
       "      <th>9995</th>\n",
       "      <td>4134229</td>\n",
       "      <td>5</td>\n",
       "      <td>25</td>\n",
       "      <td>95</td>\n",
       "      <td>1</td>\n",
       "      <td>12</td>\n",
       "      <td>34.229801</td>\n",
       "      <td>0.000000</td>\n",
       "      <td>0</td>\n",
       "      <td>0</td>\n",
       "      <td>...</td>\n",
       "      <td>0.48</td>\n",
       "      <td>0</td>\n",
       "      <td>15</td>\n",
       "      <td>8</td>\n",
       "      <td>8</td>\n",
       "      <td>0</td>\n",
       "      <td>0</td>\n",
       "      <td>0</td>\n",
       "      <td>0</td>\n",
       "      <td>1</td>\n",
       "    </tr>\n",
       "    <tr>\n",
       "      <th>9996</th>\n",
       "      <td>4059522</td>\n",
       "      <td>3</td>\n",
       "      <td>9</td>\n",
       "      <td>454</td>\n",
       "      <td>149</td>\n",
       "      <td>361</td>\n",
       "      <td>101.389702</td>\n",
       "      <td>0.883657</td>\n",
       "      <td>8</td>\n",
       "      <td>49</td>\n",
       "      <td>...</td>\n",
       "      <td>0.42</td>\n",
       "      <td>0</td>\n",
       "      <td>92</td>\n",
       "      <td>37</td>\n",
       "      <td>23</td>\n",
       "      <td>27</td>\n",
       "      <td>0</td>\n",
       "      <td>0</td>\n",
       "      <td>0</td>\n",
       "      <td>3</td>\n",
       "    </tr>\n",
       "    <tr>\n",
       "      <th>9997</th>\n",
       "      <td>5567999</td>\n",
       "      <td>3</td>\n",
       "      <td>9</td>\n",
       "      <td>347</td>\n",
       "      <td>352</td>\n",
       "      <td>286</td>\n",
       "      <td>92.625418</td>\n",
       "      <td>0.527972</td>\n",
       "      <td>5</td>\n",
       "      <td>36</td>\n",
       "      <td>...</td>\n",
       "      <td>0.46</td>\n",
       "      <td>2</td>\n",
       "      <td>71</td>\n",
       "      <td>26</td>\n",
       "      <td>28</td>\n",
       "      <td>10</td>\n",
       "      <td>0</td>\n",
       "      <td>0</td>\n",
       "      <td>3</td>\n",
       "      <td>2</td>\n",
       "    </tr>\n",
       "    <tr>\n",
       "      <th>9998</th>\n",
       "      <td>2980845</td>\n",
       "      <td>4</td>\n",
       "      <td>16</td>\n",
       "      <td>175</td>\n",
       "      <td>217</td>\n",
       "      <td>219</td>\n",
       "      <td>54.729315</td>\n",
       "      <td>1.205479</td>\n",
       "      <td>4</td>\n",
       "      <td>17</td>\n",
       "      <td>...</td>\n",
       "      <td>0.45</td>\n",
       "      <td>0</td>\n",
       "      <td>33</td>\n",
       "      <td>17</td>\n",
       "      <td>11</td>\n",
       "      <td>8</td>\n",
       "      <td>0</td>\n",
       "      <td>0</td>\n",
       "      <td>0</td>\n",
       "      <td>2</td>\n",
       "    </tr>\n",
       "    <tr>\n",
       "      <th>9999</th>\n",
       "      <td>2920162</td>\n",
       "      <td>2</td>\n",
       "      <td>4</td>\n",
       "      <td>256</td>\n",
       "      <td>15</td>\n",
       "      <td>4</td>\n",
       "      <td>36.109048</td>\n",
       "      <td>0.250000</td>\n",
       "      <td>0</td>\n",
       "      <td>0</td>\n",
       "      <td>...</td>\n",
       "      <td>0.46</td>\n",
       "      <td>1</td>\n",
       "      <td>29</td>\n",
       "      <td>12</td>\n",
       "      <td>29</td>\n",
       "      <td>11</td>\n",
       "      <td>0</td>\n",
       "      <td>0</td>\n",
       "      <td>4</td>\n",
       "      <td>2</td>\n",
       "    </tr>\n",
       "  </tbody>\n",
       "</table>\n",
       "<p>10000 rows × 37 columns</p>\n",
       "</div>"
      ],
      "text/plain": [
       "         r_id  r_stars  r_stars_square  r_length  u_friends_count  \\\n",
       "0     1340676        1               1       305                1   \n",
       "1      941404        4              16        20                2   \n",
       "2     1312730        1               1       285              333   \n",
       "3     5155149        4              16       139              273   \n",
       "4     3706898        4              16        41                1   \n",
       "...       ...      ...             ...       ...              ...   \n",
       "9995  4134229        5              25        95                1   \n",
       "9996  4059522        3               9       454              149   \n",
       "9997  5567999        3               9       347              352   \n",
       "9998  2980845        4              16       175              217   \n",
       "9999  2920162        2               4       256               15   \n",
       "\n",
       "      u_review_count  u_month_age  u_comp_avg  u_n_elite_yrs  u_fans  ...  \\\n",
       "0                  1    37.547287    0.000000              0       0  ...   \n",
       "1                 96    40.146040    0.135417              0       4  ...   \n",
       "2                 24    39.063471    0.083333              0       2  ...   \n",
       "3                374     7.853903    2.077540              7      37  ...   \n",
       "4                  5    11.606999    0.000000              0       0  ...   \n",
       "...              ...          ...         ...            ...     ...  ...   \n",
       "9995              12    34.229801    0.000000              0       0  ...   \n",
       "9996             361   101.389702    0.883657              8      49  ...   \n",
       "9997             286    92.625418    0.527972              5      36  ...   \n",
       "9998             219    54.729315    1.205479              4      17  ...   \n",
       "9999               4    36.109048    0.250000              0       0  ...   \n",
       "\n",
       "      r_stopwords/words  r_digit_cnt  r_noun_cnt  r_Adj_cnt  r_Adv_cnt  \\\n",
       "0                  0.42            1          59         17         27   \n",
       "1                  0.32            0           3          4          4   \n",
       "2                  0.49            4          40         10         28   \n",
       "3                  0.43            2          32          8          9   \n",
       "4                  0.45            1           6          5          5   \n",
       "...                 ...          ...         ...        ...        ...   \n",
       "9995               0.48            0          15          8          8   \n",
       "9996               0.42            0          92         37         23   \n",
       "9997               0.46            2          71         26         28   \n",
       "9998               0.45            0          33         17         11   \n",
       "9999               0.46            1          29         12         29   \n",
       "\n",
       "      r_capital_word_cnt  r_quoted_word_cnt  r_hashtag_cnt  r_exclam_cnt  \\\n",
       "0                     12                  0              0             0   \n",
       "1                      0                  0              0             1   \n",
       "2                     14                  0              0             0   \n",
       "3                      4                  0              0             0   \n",
       "4                      1                  0              0             0   \n",
       "...                  ...                ...            ...           ...   \n",
       "9995                   0                  0              0             0   \n",
       "9996                  27                  0              0             0   \n",
       "9997                  10                  0              0             3   \n",
       "9998                   8                  0              0             0   \n",
       "9999                  11                  0              0             4   \n",
       "\n",
       "      r_useful  \n",
       "0            1  \n",
       "1            1  \n",
       "2            3  \n",
       "3            4  \n",
       "4            2  \n",
       "...        ...  \n",
       "9995         1  \n",
       "9996         3  \n",
       "9997         2  \n",
       "9998         2  \n",
       "9999         2  \n",
       "\n",
       "[10000 rows x 37 columns]"
      ]
     },
     "execution_count": 2,
     "metadata": {},
     "output_type": "execute_result"
    }
   ],
   "source": [
    "#import data\n",
    "train_df = pd.read_parquet(\"100K35F_train_main.parquet.snappy\")\n",
    "val_df = pd.read_parquet(\"100K35F_val_main.parquet.snappy\")\n",
    "test_df = pd.read_parquet(\"100K35F_test_main.parquet.snappy\")\n",
    "test_df"
   ]
  },
  {
   "cell_type": "code",
   "execution_count": 3,
   "id": "63c1dca9-f1df-4068-9025-38f404fef5e8",
   "metadata": {},
   "outputs": [],
   "source": [
    "X_train, y_train = train_df.drop(['r_useful', 'r_id'], axis=1).values, train_df['r_useful'].values\n",
    "X_val, y_val = val_df.drop(['r_useful', 'r_id'], axis=1).values, val_df['r_useful'].values\n",
    "X_test, y_test = test_df.drop(['r_useful', 'r_id'], axis=1).values, test_df['r_useful'].values"
   ]
  },
  {
   "cell_type": "code",
   "execution_count": null,
   "id": "674e7da9-aca7-4e9d-aec1-579566ada4f8",
   "metadata": {},
   "outputs": [],
   "source": []
  },
  {
   "cell_type": "code",
   "execution_count": null,
   "id": "3eed9f2f-0278-4a83-9c5d-d8efc8ecb96e",
   "metadata": {},
   "outputs": [],
   "source": [
    "# Code reference: With many thx to Brian's XGBboost notebook: 100K32F_XGBoost.ipynb"
   ]
  },
  {
   "cell_type": "code",
   "execution_count": 4,
   "id": "01a4726e-0b02-4451-b03e-5cd2a8267e1c",
   "metadata": {},
   "outputs": [],
   "source": [
    "N_OPTUNA_TRIALS = 50\n",
    "K_FOLDS = 5 \n",
    "N_REPS = 6\n",
    "# early stopping threshold\n",
    "T_ES = 20 \n",
    "MODEL_PREFIX = \"RF\"\n",
    "\n",
    "# Mean imputation and standardisation\n",
    "model_pipe = Pipeline([\n",
    "    (\"imp\", SimpleImputer()),\n",
    "    (\"ss\", StandardScaler()),\n",
    "    (MODEL_PREFIX, RandomForestRegressor())])"
   ]
  },
  {
   "cell_type": "code",
   "execution_count": 5,
   "id": "68e5749d-2eb7-4298-84a8-6c588363c05a",
   "metadata": {},
   "outputs": [],
   "source": [
    "def hp_appender(hp_dict):\n",
    "    '''Return dictionary where every key has the MODEL_PREFIX__ appended.'''\n",
    "    new_dict = {}\n",
    "    for key, val in hp_dict.items():\n",
    "        new_dict[MODEL_PREFIX + \"__\" + key] = val\n",
    "    return new_dict"
   ]
  },
  {
   "cell_type": "code",
   "execution_count": 6,
   "id": "d2088a87-c0ae-4af0-94d3-3b4e76614116",
   "metadata": {},
   "outputs": [],
   "source": [
    "def optuna_objective(trial, model, X, y):\n",
    "    print(f\"{time.strftime('%H:%M:%S', time.localtime())} | Running Optuna Trial: {trial.number}\")\n",
    "    \n",
    "    \n",
    "    hyperparams = {\n",
    "        \"n_estimators\": trial.suggest_int('n_estimators', 1, 500, 25),\n",
    "        \"max_depth\": trial.suggest_int('max_depth', 1, 500, 25),\n",
    "        \"min_samples_split\": trial.suggest_int('min_samples_split', 2, 20),\n",
    "        \"max_features\" : trial.suggest_categorical(\"max_features\", ['sqrt', 'log2']),\n",
    "        \"min_samples_leaf\": trial.suggest_int('min_samples_leaf', 1, 20), \n",
    "        \"random_state\": 760, \n",
    "        \"n_jobs\": -1\n",
    "    }\n",
    "    \n",
    "    print(f\"with hyperparameters: {hyperparams}\")\n",
    "    hyperparams = hp_appender(hyperparams)\n",
    "    model.set_params(**hyperparams)\n",
    "    \n",
    "    \n",
    "    # Inner CV Loop\n",
    "    avg_score = -cross_val_score(model, X, y,\n",
    "        scoring=\"neg_root_mean_squared_error\", cv=KFold(K_FOLDS)).mean()\n",
    "    print(f\"complete! average cv RMSE: {avg_score}\")\n",
    "    return avg_score"
   ]
  },
  {
   "cell_type": "code",
   "execution_count": 7,
   "id": "ce33c3fe-16a0-410d-8695-8343f4e009b4",
   "metadata": {},
   "outputs": [],
   "source": [
    "class early_stopping_check_callback:\n",
    "    def __init__(self, threshold):\n",
    "        self.threshold = threshold\n",
    "\n",
    "    def __call__(self, study, trial):\n",
    "        # stop study if the number of consecutive trials with no improvement is\n",
    "        # at least the threshold.\n",
    "        if trial.number - study.best_trial.number >= self.threshold:\n",
    "            print(\"==== EARLY STOPPING ACTIVATED ====\")\n",
    "            study.stop()"
   ]
  },
  {
   "cell_type": "code",
   "execution_count": 8,
   "id": "690d8e23-d612-4aca-a1b2-80e4ac7f49ea",
   "metadata": {},
   "outputs": [],
   "source": [
    "def get_best_model(X, y):\n",
    "    '''Obtains best hyperparameters using TPE sampling and cross-validation.'''\n",
    "    study = opt.create_study(direction='minimize', sampler=TPESampler(seed=760))\n",
    "    study.optimize(\n",
    "        lambda trial: optuna_objective(trial, model_pipe, X, y),\n",
    "        n_trials=N_OPTUNA_TRIALS,\n",
    "        callbacks=[early_stopping_check_callback(T_ES)]) # early stopping\n",
    "    return study.best_params"
   ]
  },
  {
   "cell_type": "code",
   "execution_count": 9,
   "id": "0523b0b9-5664-4b27-bf67-f46e7183a397",
   "metadata": {},
   "outputs": [],
   "source": [
    "def fit_and_score(model, hps, X_train, y_train, X_test, y_test):\n",
    "    model.set_params(**hp_appender(hps))\n",
    "    model.fit(X_train, y_train)\n",
    "    y_preds = model.predict(X_test)\n",
    "\n",
    "    # calculate scores\n",
    "    rmse = mean_squared_error(y_test, y_preds, squared=False)\n",
    "    mae = mean_absolute_error(y_test, y_preds)\n",
    "    return rmse, mae"
   ]
  },
  {
   "cell_type": "code",
   "execution_count": 10,
   "id": "dc53b387-8c41-45bc-ac3c-f82ed9bf7e2e",
   "metadata": {},
   "outputs": [
    {
     "name": "stderr",
     "output_type": "stream",
     "text": [
      "\u001b[32m[I 2022-10-11 22:20:42,824]\u001b[0m A new study created in memory with name: no-name-71da7892-4467-4541-bb79-45c972f763bd\u001b[0m\n"
     ]
    },
    {
     "name": "stdout",
     "output_type": "stream",
     "text": [
      "====== Running repetition: 0 ======\n",
      "22:20:42 | Running Optuna Trial: 0\n",
      "with hyperparameters: {'n_estimators': 51, 'max_depth': 51, 'min_samples_split': 5, 'max_features': 'log2', 'min_samples_leaf': 18, 'random_state': 760, 'n_jobs': -1}\n"
     ]
    },
    {
     "name": "stderr",
     "output_type": "stream",
     "text": [
      "\u001b[32m[I 2022-10-11 22:20:48,081]\u001b[0m Trial 0 finished with value: 3.5844660070761094 and parameters: {'n_estimators': 51, 'max_depth': 51, 'min_samples_split': 5, 'max_features': 'log2', 'min_samples_leaf': 18}. Best is trial 0 with value: 3.5844660070761094.\u001b[0m\n"
     ]
    },
    {
     "name": "stdout",
     "output_type": "stream",
     "text": [
      "complete! average cv RMSE: 3.5844660070761094\n",
      "22:20:48 | Running Optuna Trial: 1\n",
      "with hyperparameters: {'n_estimators': 76, 'max_depth': 451, 'min_samples_split': 14, 'max_features': 'sqrt', 'min_samples_leaf': 14, 'random_state': 760, 'n_jobs': -1}\n"
     ]
    },
    {
     "name": "stderr",
     "output_type": "stream",
     "text": [
      "\u001b[32m[I 2022-10-11 22:20:52,809]\u001b[0m Trial 1 finished with value: 3.5723312077282223 and parameters: {'n_estimators': 76, 'max_depth': 451, 'min_samples_split': 14, 'max_features': 'sqrt', 'min_samples_leaf': 14}. Best is trial 1 with value: 3.5723312077282223.\u001b[0m\n"
     ]
    },
    {
     "name": "stdout",
     "output_type": "stream",
     "text": [
      "complete! average cv RMSE: 3.5723312077282223\n",
      "22:20:52 | Running Optuna Trial: 2\n",
      "with hyperparameters: {'n_estimators': 201, 'max_depth': 126, 'min_samples_split': 20, 'max_features': 'log2', 'min_samples_leaf': 14, 'random_state': 760, 'n_jobs': -1}\n"
     ]
    },
    {
     "name": "stderr",
     "output_type": "stream",
     "text": [
      "\u001b[32m[I 2022-10-11 22:21:03,645]\u001b[0m Trial 2 finished with value: 3.5634694215952107 and parameters: {'n_estimators': 201, 'max_depth': 126, 'min_samples_split': 20, 'max_features': 'log2', 'min_samples_leaf': 14}. Best is trial 2 with value: 3.5634694215952107.\u001b[0m\n"
     ]
    },
    {
     "name": "stdout",
     "output_type": "stream",
     "text": [
      "complete! average cv RMSE: 3.5634694215952107\n",
      "22:21:03 | Running Optuna Trial: 3\n",
      "with hyperparameters: {'n_estimators': 126, 'max_depth': 326, 'min_samples_split': 11, 'max_features': 'sqrt', 'min_samples_leaf': 19, 'random_state': 760, 'n_jobs': -1}\n"
     ]
    },
    {
     "name": "stderr",
     "output_type": "stream",
     "text": [
      "\u001b[32m[I 2022-10-11 22:21:10,472]\u001b[0m Trial 3 finished with value: 3.586347745257959 and parameters: {'n_estimators': 126, 'max_depth': 326, 'min_samples_split': 11, 'max_features': 'sqrt', 'min_samples_leaf': 19}. Best is trial 2 with value: 3.5634694215952107.\u001b[0m\n"
     ]
    },
    {
     "name": "stdout",
     "output_type": "stream",
     "text": [
      "complete! average cv RMSE: 3.586347745257959\n",
      "22:21:10 | Running Optuna Trial: 4\n",
      "with hyperparameters: {'n_estimators': 276, 'max_depth': 376, 'min_samples_split': 15, 'max_features': 'log2', 'min_samples_leaf': 7, 'random_state': 760, 'n_jobs': -1}\n"
     ]
    },
    {
     "name": "stderr",
     "output_type": "stream",
     "text": [
      "\u001b[32m[I 2022-10-11 22:21:26,030]\u001b[0m Trial 4 finished with value: 3.5252647277857263 and parameters: {'n_estimators': 276, 'max_depth': 376, 'min_samples_split': 15, 'max_features': 'log2', 'min_samples_leaf': 7}. Best is trial 4 with value: 3.5252647277857263.\u001b[0m\n"
     ]
    },
    {
     "name": "stdout",
     "output_type": "stream",
     "text": [
      "complete! average cv RMSE: 3.5252647277857263\n",
      "22:21:26 | Running Optuna Trial: 5\n",
      "with hyperparameters: {'n_estimators': 151, 'max_depth': 401, 'min_samples_split': 17, 'max_features': 'sqrt', 'min_samples_leaf': 11, 'random_state': 760, 'n_jobs': -1}\n"
     ]
    },
    {
     "name": "stderr",
     "output_type": "stream",
     "text": [
      "\u001b[32m[I 2022-10-11 22:21:34,894]\u001b[0m Trial 5 finished with value: 3.5573726873670664 and parameters: {'n_estimators': 151, 'max_depth': 401, 'min_samples_split': 17, 'max_features': 'sqrt', 'min_samples_leaf': 11}. Best is trial 4 with value: 3.5252647277857263.\u001b[0m\n"
     ]
    },
    {
     "name": "stdout",
     "output_type": "stream",
     "text": [
      "complete! average cv RMSE: 3.5573726873670664\n",
      "22:21:34 | Running Optuna Trial: 6\n",
      "with hyperparameters: {'n_estimators': 201, 'max_depth': 276, 'min_samples_split': 4, 'max_features': 'sqrt', 'min_samples_leaf': 11, 'random_state': 760, 'n_jobs': -1}\n"
     ]
    },
    {
     "name": "stderr",
     "output_type": "stream",
     "text": [
      "\u001b[32m[I 2022-10-11 22:21:47,127]\u001b[0m Trial 6 finished with value: 3.555287968654806 and parameters: {'n_estimators': 201, 'max_depth': 276, 'min_samples_split': 4, 'max_features': 'sqrt', 'min_samples_leaf': 11}. Best is trial 4 with value: 3.5252647277857263.\u001b[0m\n"
     ]
    },
    {
     "name": "stdout",
     "output_type": "stream",
     "text": [
      "complete! average cv RMSE: 3.555287968654806\n",
      "22:21:47 | Running Optuna Trial: 7\n",
      "with hyperparameters: {'n_estimators': 126, 'max_depth': 401, 'min_samples_split': 7, 'max_features': 'log2', 'min_samples_leaf': 12, 'random_state': 760, 'n_jobs': -1}\n"
     ]
    },
    {
     "name": "stderr",
     "output_type": "stream",
     "text": [
      "\u001b[32m[I 2022-10-11 22:21:54,834]\u001b[0m Trial 7 finished with value: 3.56217881790583 and parameters: {'n_estimators': 126, 'max_depth': 401, 'min_samples_split': 7, 'max_features': 'log2', 'min_samples_leaf': 12}. Best is trial 4 with value: 3.5252647277857263.\u001b[0m\n"
     ]
    },
    {
     "name": "stdout",
     "output_type": "stream",
     "text": [
      "complete! average cv RMSE: 3.56217881790583\n",
      "22:21:54 | Running Optuna Trial: 8\n",
      "with hyperparameters: {'n_estimators': 476, 'max_depth': 476, 'min_samples_split': 10, 'max_features': 'log2', 'min_samples_leaf': 13, 'random_state': 760, 'n_jobs': -1}\n"
     ]
    },
    {
     "name": "stderr",
     "output_type": "stream",
     "text": [
      "\u001b[32m[I 2022-10-11 22:22:19,669]\u001b[0m Trial 8 finished with value: 3.5591071163461123 and parameters: {'n_estimators': 476, 'max_depth': 476, 'min_samples_split': 10, 'max_features': 'log2', 'min_samples_leaf': 13}. Best is trial 4 with value: 3.5252647277857263.\u001b[0m\n"
     ]
    },
    {
     "name": "stdout",
     "output_type": "stream",
     "text": [
      "complete! average cv RMSE: 3.5591071163461123\n",
      "22:22:19 | Running Optuna Trial: 9\n",
      "with hyperparameters: {'n_estimators': 301, 'max_depth': 251, 'min_samples_split': 15, 'max_features': 'log2', 'min_samples_leaf': 2, 'random_state': 760, 'n_jobs': -1}\n"
     ]
    },
    {
     "name": "stderr",
     "output_type": "stream",
     "text": [
      "\u001b[32m[I 2022-10-11 22:22:37,838]\u001b[0m Trial 9 finished with value: 3.50049848189197 and parameters: {'n_estimators': 301, 'max_depth': 251, 'min_samples_split': 15, 'max_features': 'log2', 'min_samples_leaf': 2}. Best is trial 9 with value: 3.50049848189197.\u001b[0m\n"
     ]
    },
    {
     "name": "stdout",
     "output_type": "stream",
     "text": [
      "complete! average cv RMSE: 3.50049848189197\n",
      "22:22:37 | Running Optuna Trial: 10\n",
      "with hyperparameters: {'n_estimators': 351, 'max_depth': 176, 'min_samples_split': 20, 'max_features': 'log2', 'min_samples_leaf': 1, 'random_state': 760, 'n_jobs': -1}\n"
     ]
    },
    {
     "name": "stderr",
     "output_type": "stream",
     "text": [
      "\u001b[32m[I 2022-10-11 22:22:58,552]\u001b[0m Trial 10 finished with value: 3.4984107463909195 and parameters: {'n_estimators': 351, 'max_depth': 176, 'min_samples_split': 20, 'max_features': 'log2', 'min_samples_leaf': 1}. Best is trial 10 with value: 3.4984107463909195.\u001b[0m\n"
     ]
    },
    {
     "name": "stdout",
     "output_type": "stream",
     "text": [
      "complete! average cv RMSE: 3.4984107463909195\n",
      "22:22:58 | Running Optuna Trial: 11\n",
      "with hyperparameters: {'n_estimators': 351, 'max_depth': 176, 'min_samples_split': 19, 'max_features': 'log2', 'min_samples_leaf': 1, 'random_state': 760, 'n_jobs': -1}\n"
     ]
    },
    {
     "name": "stderr",
     "output_type": "stream",
     "text": [
      "\u001b[32m[I 2022-10-11 22:23:19,845]\u001b[0m Trial 11 finished with value: 3.5000643760026713 and parameters: {'n_estimators': 351, 'max_depth': 176, 'min_samples_split': 19, 'max_features': 'log2', 'min_samples_leaf': 1}. Best is trial 10 with value: 3.4984107463909195.\u001b[0m\n"
     ]
    },
    {
     "name": "stdout",
     "output_type": "stream",
     "text": [
      "complete! average cv RMSE: 3.5000643760026713\n",
      "22:23:19 | Running Optuna Trial: 12\n",
      "with hyperparameters: {'n_estimators': 376, 'max_depth': 151, 'min_samples_split': 20, 'max_features': 'log2', 'min_samples_leaf': 1, 'random_state': 760, 'n_jobs': -1}\n"
     ]
    },
    {
     "name": "stderr",
     "output_type": "stream",
     "text": [
      "\u001b[32m[I 2022-10-11 22:23:41,998]\u001b[0m Trial 12 finished with value: 3.4992830715678522 and parameters: {'n_estimators': 376, 'max_depth': 151, 'min_samples_split': 20, 'max_features': 'log2', 'min_samples_leaf': 1}. Best is trial 10 with value: 3.4984107463909195.\u001b[0m\n"
     ]
    },
    {
     "name": "stdout",
     "output_type": "stream",
     "text": [
      "complete! average cv RMSE: 3.4992830715678522\n",
      "22:23:41 | Running Optuna Trial: 13\n",
      "with hyperparameters: {'n_estimators': 401, 'max_depth': 1, 'min_samples_split': 20, 'max_features': 'log2', 'min_samples_leaf': 5, 'random_state': 760, 'n_jobs': -1}\n"
     ]
    },
    {
     "name": "stderr",
     "output_type": "stream",
     "text": [
      "\u001b[32m[I 2022-10-11 22:23:46,432]\u001b[0m Trial 13 finished with value: 3.999938171127842 and parameters: {'n_estimators': 401, 'max_depth': 1, 'min_samples_split': 20, 'max_features': 'log2', 'min_samples_leaf': 5}. Best is trial 10 with value: 3.4984107463909195.\u001b[0m\n"
     ]
    },
    {
     "name": "stdout",
     "output_type": "stream",
     "text": [
      "complete! average cv RMSE: 3.999938171127842\n",
      "22:23:46 | Running Optuna Trial: 14\n",
      "with hyperparameters: {'n_estimators': 451, 'max_depth': 176, 'min_samples_split': 18, 'max_features': 'log2', 'min_samples_leaf': 5, 'random_state': 760, 'n_jobs': -1}\n"
     ]
    },
    {
     "name": "stderr",
     "output_type": "stream",
     "text": [
      "\u001b[32m[I 2022-10-11 22:24:10,331]\u001b[0m Trial 14 finished with value: 3.51917369920265 and parameters: {'n_estimators': 451, 'max_depth': 176, 'min_samples_split': 18, 'max_features': 'log2', 'min_samples_leaf': 5}. Best is trial 10 with value: 3.4984107463909195.\u001b[0m\n"
     ]
    },
    {
     "name": "stdout",
     "output_type": "stream",
     "text": [
      "complete! average cv RMSE: 3.51917369920265\n",
      "22:24:10 | Running Optuna Trial: 15\n",
      "with hyperparameters: {'n_estimators': 351, 'max_depth': 101, 'min_samples_split': 13, 'max_features': 'log2', 'min_samples_leaf': 4, 'random_state': 760, 'n_jobs': -1}\n"
     ]
    },
    {
     "name": "stderr",
     "output_type": "stream",
     "text": [
      "\u001b[32m[I 2022-10-11 22:24:29,959]\u001b[0m Trial 15 finished with value: 3.5100053040074664 and parameters: {'n_estimators': 351, 'max_depth': 101, 'min_samples_split': 13, 'max_features': 'log2', 'min_samples_leaf': 4}. Best is trial 10 with value: 3.4984107463909195.\u001b[0m\n"
     ]
    },
    {
     "name": "stdout",
     "output_type": "stream",
     "text": [
      "complete! average cv RMSE: 3.5100053040074664\n",
      "22:24:29 | Running Optuna Trial: 16\n",
      "with hyperparameters: {'n_estimators': 401, 'max_depth': 151, 'min_samples_split': 17, 'max_features': 'log2', 'min_samples_leaf': 8, 'random_state': 760, 'n_jobs': -1}\n"
     ]
    },
    {
     "name": "stderr",
     "output_type": "stream",
     "text": [
      "\u001b[32m[I 2022-10-11 22:24:50,340]\u001b[0m Trial 16 finished with value: 3.534844411944492 and parameters: {'n_estimators': 401, 'max_depth': 151, 'min_samples_split': 17, 'max_features': 'log2', 'min_samples_leaf': 8}. Best is trial 10 with value: 3.4984107463909195.\u001b[0m\n"
     ]
    },
    {
     "name": "stdout",
     "output_type": "stream",
     "text": [
      "complete! average cv RMSE: 3.534844411944492\n",
      "22:24:50 | Running Optuna Trial: 17\n",
      "with hyperparameters: {'n_estimators': 326, 'max_depth': 226, 'min_samples_split': 8, 'max_features': 'log2', 'min_samples_leaf': 1, 'random_state': 760, 'n_jobs': -1}\n"
     ]
    },
    {
     "name": "stderr",
     "output_type": "stream",
     "text": [
      "\u001b[32m[I 2022-10-11 22:25:11,745]\u001b[0m Trial 17 finished with value: 3.4851960433955553 and parameters: {'n_estimators': 326, 'max_depth': 226, 'min_samples_split': 8, 'max_features': 'log2', 'min_samples_leaf': 1}. Best is trial 17 with value: 3.4851960433955553.\u001b[0m\n"
     ]
    },
    {
     "name": "stdout",
     "output_type": "stream",
     "text": [
      "complete! average cv RMSE: 3.4851960433955553\n",
      "22:25:11 | Running Optuna Trial: 18\n",
      "with hyperparameters: {'n_estimators': 276, 'max_depth': 226, 'min_samples_split': 8, 'max_features': 'sqrt', 'min_samples_leaf': 8, 'random_state': 760, 'n_jobs': -1}\n"
     ]
    },
    {
     "name": "stderr",
     "output_type": "stream",
     "text": [
      "\u001b[32m[I 2022-10-11 22:25:26,977]\u001b[0m Trial 18 finished with value: 3.5321593331778507 and parameters: {'n_estimators': 276, 'max_depth': 226, 'min_samples_split': 8, 'max_features': 'sqrt', 'min_samples_leaf': 8}. Best is trial 17 with value: 3.4851960433955553.\u001b[0m\n"
     ]
    },
    {
     "name": "stdout",
     "output_type": "stream",
     "text": [
      "complete! average cv RMSE: 3.5321593331778507\n",
      "22:25:26 | Running Optuna Trial: 19\n",
      "with hyperparameters: {'n_estimators': 326, 'max_depth': 301, 'min_samples_split': 8, 'max_features': 'log2', 'min_samples_leaf': 3, 'random_state': 760, 'n_jobs': -1}\n"
     ]
    },
    {
     "name": "stderr",
     "output_type": "stream",
     "text": [
      "\u001b[32m[I 2022-10-11 22:25:46,599]\u001b[0m Trial 19 finished with value: 3.4958273400510165 and parameters: {'n_estimators': 326, 'max_depth': 301, 'min_samples_split': 8, 'max_features': 'log2', 'min_samples_leaf': 3}. Best is trial 17 with value: 3.4851960433955553.\u001b[0m\n"
     ]
    },
    {
     "name": "stdout",
     "output_type": "stream",
     "text": [
      "complete! average cv RMSE: 3.4958273400510165\n",
      "22:25:46 | Running Optuna Trial: 20\n",
      "with hyperparameters: {'n_estimators': 1, 'max_depth': 276, 'min_samples_split': 2, 'max_features': 'log2', 'min_samples_leaf': 3, 'random_state': 760, 'n_jobs': -1}\n"
     ]
    },
    {
     "name": "stderr",
     "output_type": "stream",
     "text": [
      "\u001b[32m[I 2022-10-11 22:25:48,217]\u001b[0m Trial 20 finished with value: 4.458652934881681 and parameters: {'n_estimators': 1, 'max_depth': 276, 'min_samples_split': 2, 'max_features': 'log2', 'min_samples_leaf': 3}. Best is trial 17 with value: 3.4851960433955553.\u001b[0m\n"
     ]
    },
    {
     "name": "stdout",
     "output_type": "stream",
     "text": [
      "complete! average cv RMSE: 4.458652934881681\n",
      "22:25:48 | Running Optuna Trial: 21\n",
      "with hyperparameters: {'n_estimators': 326, 'max_depth': 326, 'min_samples_split': 9, 'max_features': 'log2', 'min_samples_leaf': 3, 'random_state': 760, 'n_jobs': -1}\n"
     ]
    },
    {
     "name": "stderr",
     "output_type": "stream",
     "text": [
      "\u001b[32m[I 2022-10-11 22:26:07,366]\u001b[0m Trial 21 finished with value: 3.4958133959550866 and parameters: {'n_estimators': 326, 'max_depth': 326, 'min_samples_split': 9, 'max_features': 'log2', 'min_samples_leaf': 3}. Best is trial 17 with value: 3.4851960433955553.\u001b[0m\n"
     ]
    },
    {
     "name": "stdout",
     "output_type": "stream",
     "text": [
      "complete! average cv RMSE: 3.4958133959550866\n",
      "22:26:07 | Running Optuna Trial: 22\n",
      "with hyperparameters: {'n_estimators': 301, 'max_depth': 351, 'min_samples_split': 9, 'max_features': 'log2', 'min_samples_leaf': 6, 'random_state': 760, 'n_jobs': -1}\n"
     ]
    },
    {
     "name": "stderr",
     "output_type": "stream",
     "text": [
      "\u001b[32m[I 2022-10-11 22:26:23,849]\u001b[0m Trial 22 finished with value: 3.5172116295483535 and parameters: {'n_estimators': 301, 'max_depth': 351, 'min_samples_split': 9, 'max_features': 'log2', 'min_samples_leaf': 6}. Best is trial 17 with value: 3.4851960433955553.\u001b[0m\n"
     ]
    },
    {
     "name": "stdout",
     "output_type": "stream",
     "text": [
      "complete! average cv RMSE: 3.5172116295483535\n",
      "22:26:23 | Running Optuna Trial: 23\n",
      "with hyperparameters: {'n_estimators': 226, 'max_depth': 301, 'min_samples_split': 6, 'max_features': 'log2', 'min_samples_leaf': 3, 'random_state': 760, 'n_jobs': -1}\n"
     ]
    },
    {
     "name": "stderr",
     "output_type": "stream",
     "text": [
      "\u001b[32m[I 2022-10-11 22:26:38,414]\u001b[0m Trial 23 finished with value: 3.495877645358708 and parameters: {'n_estimators': 226, 'max_depth': 301, 'min_samples_split': 6, 'max_features': 'log2', 'min_samples_leaf': 3}. Best is trial 17 with value: 3.4851960433955553.\u001b[0m\n"
     ]
    },
    {
     "name": "stdout",
     "output_type": "stream",
     "text": [
      "complete! average cv RMSE: 3.495877645358708\n",
      "22:26:38 | Running Optuna Trial: 24\n",
      "with hyperparameters: {'n_estimators': 301, 'max_depth': 226, 'min_samples_split': 11, 'max_features': 'log2', 'min_samples_leaf': 3, 'random_state': 760, 'n_jobs': -1}\n"
     ]
    },
    {
     "name": "stderr",
     "output_type": "stream",
     "text": [
      "\u001b[32m[I 2022-10-11 22:26:56,870]\u001b[0m Trial 24 finished with value: 3.497440620670056 and parameters: {'n_estimators': 301, 'max_depth': 226, 'min_samples_split': 11, 'max_features': 'log2', 'min_samples_leaf': 3}. Best is trial 17 with value: 3.4851960433955553.\u001b[0m\n"
     ]
    },
    {
     "name": "stdout",
     "output_type": "stream",
     "text": [
      "complete! average cv RMSE: 3.497440620670056\n",
      "22:26:56 | Running Optuna Trial: 25\n",
      "with hyperparameters: {'n_estimators': 426, 'max_depth': 326, 'min_samples_split': 8, 'max_features': 'log2', 'min_samples_leaf': 9, 'random_state': 760, 'n_jobs': -1}\n"
     ]
    },
    {
     "name": "stderr",
     "output_type": "stream",
     "text": [
      "\u001b[32m[I 2022-10-11 22:27:18,759]\u001b[0m Trial 25 finished with value: 3.539330747562913 and parameters: {'n_estimators': 426, 'max_depth': 326, 'min_samples_split': 8, 'max_features': 'log2', 'min_samples_leaf': 9}. Best is trial 17 with value: 3.4851960433955553.\u001b[0m\n"
     ]
    },
    {
     "name": "stdout",
     "output_type": "stream",
     "text": [
      "complete! average cv RMSE: 3.539330747562913\n",
      "22:27:18 | Running Optuna Trial: 26\n",
      "with hyperparameters: {'n_estimators': 251, 'max_depth': 226, 'min_samples_split': 12, 'max_features': 'sqrt', 'min_samples_leaf': 5, 'random_state': 760, 'n_jobs': -1}\n"
     ]
    },
    {
     "name": "stderr",
     "output_type": "stream",
     "text": [
      "\u001b[32m[I 2022-10-11 22:27:33,476]\u001b[0m Trial 26 finished with value: 3.5130025131656444 and parameters: {'n_estimators': 251, 'max_depth': 226, 'min_samples_split': 12, 'max_features': 'sqrt', 'min_samples_leaf': 5}. Best is trial 17 with value: 3.4851960433955553.\u001b[0m\n"
     ]
    },
    {
     "name": "stdout",
     "output_type": "stream",
     "text": [
      "complete! average cv RMSE: 3.5130025131656444\n",
      "22:27:33 | Running Optuna Trial: 27\n",
      "with hyperparameters: {'n_estimators': 326, 'max_depth': 276, 'min_samples_split': 3, 'max_features': 'log2', 'min_samples_leaf': 3, 'random_state': 760, 'n_jobs': -1}\n"
     ]
    },
    {
     "name": "stderr",
     "output_type": "stream",
     "text": [
      "\u001b[32m[I 2022-10-11 22:27:54,816]\u001b[0m Trial 27 finished with value: 3.489337230205148 and parameters: {'n_estimators': 326, 'max_depth': 276, 'min_samples_split': 3, 'max_features': 'log2', 'min_samples_leaf': 3}. Best is trial 17 with value: 3.4851960433955553.\u001b[0m\n"
     ]
    },
    {
     "name": "stdout",
     "output_type": "stream",
     "text": [
      "complete! average cv RMSE: 3.489337230205148\n",
      "22:27:54 | Running Optuna Trial: 28\n",
      "with hyperparameters: {'n_estimators': 251, 'max_depth': 426, 'min_samples_split': 2, 'max_features': 'log2', 'min_samples_leaf': 16, 'random_state': 760, 'n_jobs': -1}\n"
     ]
    },
    {
     "name": "stderr",
     "output_type": "stream",
     "text": [
      "\u001b[32m[I 2022-10-11 22:28:07,334]\u001b[0m Trial 28 finished with value: 3.5702260769334067 and parameters: {'n_estimators': 251, 'max_depth': 426, 'min_samples_split': 2, 'max_features': 'log2', 'min_samples_leaf': 16}. Best is trial 17 with value: 3.4851960433955553.\u001b[0m\n"
     ]
    },
    {
     "name": "stdout",
     "output_type": "stream",
     "text": [
      "complete! average cv RMSE: 3.5702260769334067\n",
      "22:28:07 | Running Optuna Trial: 29\n",
      "with hyperparameters: {'n_estimators': 401, 'max_depth': 76, 'min_samples_split': 4, 'max_features': 'log2', 'min_samples_leaf': 6, 'random_state': 760, 'n_jobs': -1}\n"
     ]
    },
    {
     "name": "stderr",
     "output_type": "stream",
     "text": [
      "\u001b[32m[I 2022-10-11 22:28:30,902]\u001b[0m Trial 29 finished with value: 3.5176930851813877 and parameters: {'n_estimators': 401, 'max_depth': 76, 'min_samples_split': 4, 'max_features': 'log2', 'min_samples_leaf': 6}. Best is trial 17 with value: 3.4851960433955553.\u001b[0m\n"
     ]
    },
    {
     "name": "stdout",
     "output_type": "stream",
     "text": [
      "complete! average cv RMSE: 3.5176930851813877\n",
      "22:28:30 | Running Optuna Trial: 30\n",
      "with hyperparameters: {'n_estimators': 326, 'max_depth': 351, 'min_samples_split': 5, 'max_features': 'log2', 'min_samples_leaf': 2, 'random_state': 760, 'n_jobs': -1}\n"
     ]
    },
    {
     "name": "stderr",
     "output_type": "stream",
     "text": [
      "\u001b[32m[I 2022-10-11 22:28:52,343]\u001b[0m Trial 30 finished with value: 3.4871731685826113 and parameters: {'n_estimators': 326, 'max_depth': 351, 'min_samples_split': 5, 'max_features': 'log2', 'min_samples_leaf': 2}. Best is trial 17 with value: 3.4851960433955553.\u001b[0m\n"
     ]
    },
    {
     "name": "stdout",
     "output_type": "stream",
     "text": [
      "complete! average cv RMSE: 3.4871731685826113\n",
      "22:28:52 | Running Optuna Trial: 31\n",
      "with hyperparameters: {'n_estimators': 326, 'max_depth': 351, 'min_samples_split': 5, 'max_features': 'log2', 'min_samples_leaf': 2, 'random_state': 760, 'n_jobs': -1}\n"
     ]
    },
    {
     "name": "stderr",
     "output_type": "stream",
     "text": [
      "\u001b[32m[I 2022-10-11 22:29:14,062]\u001b[0m Trial 31 finished with value: 3.4871731685826113 and parameters: {'n_estimators': 326, 'max_depth': 351, 'min_samples_split': 5, 'max_features': 'log2', 'min_samples_leaf': 2}. Best is trial 17 with value: 3.4851960433955553.\u001b[0m\n"
     ]
    },
    {
     "name": "stdout",
     "output_type": "stream",
     "text": [
      "complete! average cv RMSE: 3.4871731685826113\n",
      "22:29:14 | Running Optuna Trial: 32\n",
      "with hyperparameters: {'n_estimators': 376, 'max_depth': 351, 'min_samples_split': 5, 'max_features': 'log2', 'min_samples_leaf': 1, 'random_state': 760, 'n_jobs': -1}\n"
     ]
    },
    {
     "name": "stderr",
     "output_type": "stream",
     "text": [
      "\u001b[32m[I 2022-10-11 22:29:39,808]\u001b[0m Trial 32 finished with value: 3.4808440260573166 and parameters: {'n_estimators': 376, 'max_depth': 351, 'min_samples_split': 5, 'max_features': 'log2', 'min_samples_leaf': 1}. Best is trial 32 with value: 3.4808440260573166.\u001b[0m\n"
     ]
    },
    {
     "name": "stdout",
     "output_type": "stream",
     "text": [
      "complete! average cv RMSE: 3.4808440260573166\n",
      "22:29:39 | Running Optuna Trial: 33\n",
      "with hyperparameters: {'n_estimators': 376, 'max_depth': 376, 'min_samples_split': 5, 'max_features': 'log2', 'min_samples_leaf': 1, 'random_state': 760, 'n_jobs': -1}\n"
     ]
    },
    {
     "name": "stderr",
     "output_type": "stream",
     "text": [
      "\u001b[32m[I 2022-10-11 22:30:05,717]\u001b[0m Trial 33 finished with value: 3.4808440260573166 and parameters: {'n_estimators': 376, 'max_depth': 376, 'min_samples_split': 5, 'max_features': 'log2', 'min_samples_leaf': 1}. Best is trial 32 with value: 3.4808440260573166.\u001b[0m\n"
     ]
    },
    {
     "name": "stdout",
     "output_type": "stream",
     "text": [
      "complete! average cv RMSE: 3.4808440260573166\n",
      "22:30:05 | Running Optuna Trial: 34\n",
      "with hyperparameters: {'n_estimators': 451, 'max_depth': 451, 'min_samples_split': 6, 'max_features': 'sqrt', 'min_samples_leaf': 1, 'random_state': 760, 'n_jobs': -1}\n"
     ]
    },
    {
     "name": "stderr",
     "output_type": "stream",
     "text": [
      "\u001b[32m[I 2022-10-11 22:30:36,658]\u001b[0m Trial 34 finished with value: 3.4803262133504083 and parameters: {'n_estimators': 451, 'max_depth': 451, 'min_samples_split': 6, 'max_features': 'sqrt', 'min_samples_leaf': 1}. Best is trial 34 with value: 3.4803262133504083.\u001b[0m\n"
     ]
    },
    {
     "name": "stdout",
     "output_type": "stream",
     "text": [
      "complete! average cv RMSE: 3.4803262133504083\n",
      "22:30:36 | Running Optuna Trial: 35\n",
      "with hyperparameters: {'n_estimators': 476, 'max_depth': 476, 'min_samples_split': 6, 'max_features': 'sqrt', 'min_samples_leaf': 1, 'random_state': 760, 'n_jobs': -1}\n"
     ]
    },
    {
     "name": "stderr",
     "output_type": "stream",
     "text": [
      "\u001b[32m[I 2022-10-11 22:31:07,714]\u001b[0m Trial 35 finished with value: 3.4812578769305924 and parameters: {'n_estimators': 476, 'max_depth': 476, 'min_samples_split': 6, 'max_features': 'sqrt', 'min_samples_leaf': 1}. Best is trial 34 with value: 3.4803262133504083.\u001b[0m\n"
     ]
    },
    {
     "name": "stdout",
     "output_type": "stream",
     "text": [
      "complete! average cv RMSE: 3.4812578769305924\n",
      "22:31:07 | Running Optuna Trial: 36\n",
      "with hyperparameters: {'n_estimators': 476, 'max_depth': 476, 'min_samples_split': 6, 'max_features': 'sqrt', 'min_samples_leaf': 17, 'random_state': 760, 'n_jobs': -1}\n"
     ]
    },
    {
     "name": "stderr",
     "output_type": "stream",
     "text": [
      "\u001b[32m[I 2022-10-11 22:31:30,392]\u001b[0m Trial 36 finished with value: 3.5745628028905116 and parameters: {'n_estimators': 476, 'max_depth': 476, 'min_samples_split': 6, 'max_features': 'sqrt', 'min_samples_leaf': 17}. Best is trial 34 with value: 3.4803262133504083.\u001b[0m\n"
     ]
    },
    {
     "name": "stdout",
     "output_type": "stream",
     "text": [
      "complete! average cv RMSE: 3.5745628028905116\n",
      "22:31:30 | Running Optuna Trial: 37\n",
      "with hyperparameters: {'n_estimators': 426, 'max_depth': 426, 'min_samples_split': 6, 'max_features': 'sqrt', 'min_samples_leaf': 4, 'random_state': 760, 'n_jobs': -1}\n"
     ]
    },
    {
     "name": "stderr",
     "output_type": "stream",
     "text": [
      "\u001b[32m[I 2022-10-11 22:31:56,875]\u001b[0m Trial 37 finished with value: 3.504343809029515 and parameters: {'n_estimators': 426, 'max_depth': 426, 'min_samples_split': 6, 'max_features': 'sqrt', 'min_samples_leaf': 4}. Best is trial 34 with value: 3.4803262133504083.\u001b[0m\n"
     ]
    },
    {
     "name": "stdout",
     "output_type": "stream",
     "text": [
      "complete! average cv RMSE: 3.504343809029515\n",
      "22:31:56 | Running Optuna Trial: 38\n",
      "with hyperparameters: {'n_estimators': 476, 'max_depth': 451, 'min_samples_split': 4, 'max_features': 'sqrt', 'min_samples_leaf': 20, 'random_state': 760, 'n_jobs': -1}\n"
     ]
    },
    {
     "name": "stderr",
     "output_type": "stream",
     "text": [
      "\u001b[32m[I 2022-10-11 22:32:19,575]\u001b[0m Trial 38 finished with value: 3.582651438391359 and parameters: {'n_estimators': 476, 'max_depth': 451, 'min_samples_split': 4, 'max_features': 'sqrt', 'min_samples_leaf': 20}. Best is trial 34 with value: 3.4803262133504083.\u001b[0m\n"
     ]
    },
    {
     "name": "stdout",
     "output_type": "stream",
     "text": [
      "complete! average cv RMSE: 3.582651438391359\n",
      "22:32:19 | Running Optuna Trial: 39\n",
      "with hyperparameters: {'n_estimators': 451, 'max_depth': 401, 'min_samples_split': 3, 'max_features': 'sqrt', 'min_samples_leaf': 1, 'random_state': 760, 'n_jobs': -1}\n"
     ]
    },
    {
     "name": "stderr",
     "output_type": "stream",
     "text": [
      "\u001b[32m[I 2022-10-11 22:32:51,634]\u001b[0m Trial 39 finished with value: 3.4813656549452134 and parameters: {'n_estimators': 451, 'max_depth': 401, 'min_samples_split': 3, 'max_features': 'sqrt', 'min_samples_leaf': 1}. Best is trial 34 with value: 3.4803262133504083.\u001b[0m\n"
     ]
    },
    {
     "name": "stdout",
     "output_type": "stream",
     "text": [
      "complete! average cv RMSE: 3.4813656549452134\n",
      "22:32:51 | Running Optuna Trial: 40\n",
      "with hyperparameters: {'n_estimators': 426, 'max_depth': 451, 'min_samples_split': 7, 'max_features': 'sqrt', 'min_samples_leaf': 4, 'random_state': 760, 'n_jobs': -1}\n"
     ]
    },
    {
     "name": "stderr",
     "output_type": "stream",
     "text": [
      "\u001b[32m[I 2022-10-11 22:33:18,028]\u001b[0m Trial 40 finished with value: 3.504343809029515 and parameters: {'n_estimators': 426, 'max_depth': 451, 'min_samples_split': 7, 'max_features': 'sqrt', 'min_samples_leaf': 4}. Best is trial 34 with value: 3.4803262133504083.\u001b[0m\n"
     ]
    },
    {
     "name": "stdout",
     "output_type": "stream",
     "text": [
      "complete! average cv RMSE: 3.504343809029515\n",
      "22:33:18 | Running Optuna Trial: 41\n",
      "with hyperparameters: {'n_estimators': 451, 'max_depth': 401, 'min_samples_split': 3, 'max_features': 'sqrt', 'min_samples_leaf': 1, 'random_state': 760, 'n_jobs': -1}\n"
     ]
    },
    {
     "name": "stderr",
     "output_type": "stream",
     "text": [
      "\u001b[32m[I 2022-10-11 22:33:49,425]\u001b[0m Trial 41 finished with value: 3.4813656549452134 and parameters: {'n_estimators': 451, 'max_depth': 401, 'min_samples_split': 3, 'max_features': 'sqrt', 'min_samples_leaf': 1}. Best is trial 34 with value: 3.4803262133504083.\u001b[0m\n"
     ]
    },
    {
     "name": "stdout",
     "output_type": "stream",
     "text": [
      "complete! average cv RMSE: 3.4813656549452134\n",
      "22:33:49 | Running Optuna Trial: 42\n",
      "with hyperparameters: {'n_estimators': 451, 'max_depth': 376, 'min_samples_split': 4, 'max_features': 'sqrt', 'min_samples_leaf': 2, 'random_state': 760, 'n_jobs': -1}\n"
     ]
    },
    {
     "name": "stderr",
     "output_type": "stream",
     "text": [
      "\u001b[32m[I 2022-10-11 22:34:19,644]\u001b[0m Trial 42 finished with value: 3.4859896025507275 and parameters: {'n_estimators': 451, 'max_depth': 376, 'min_samples_split': 4, 'max_features': 'sqrt', 'min_samples_leaf': 2}. Best is trial 34 with value: 3.4803262133504083.\u001b[0m\n"
     ]
    },
    {
     "name": "stdout",
     "output_type": "stream",
     "text": [
      "complete! average cv RMSE: 3.4859896025507275\n",
      "22:34:19 | Running Optuna Trial: 43\n",
      "with hyperparameters: {'n_estimators': 376, 'max_depth': 426, 'min_samples_split': 3, 'max_features': 'sqrt', 'min_samples_leaf': 1, 'random_state': 760, 'n_jobs': -1}\n"
     ]
    },
    {
     "name": "stderr",
     "output_type": "stream",
     "text": [
      "\u001b[32m[I 2022-10-11 22:34:46,931]\u001b[0m Trial 43 finished with value: 3.481063369845606 and parameters: {'n_estimators': 376, 'max_depth': 426, 'min_samples_split': 3, 'max_features': 'sqrt', 'min_samples_leaf': 1}. Best is trial 34 with value: 3.4803262133504083.\u001b[0m\n"
     ]
    },
    {
     "name": "stdout",
     "output_type": "stream",
     "text": [
      "complete! average cv RMSE: 3.481063369845606\n",
      "22:34:46 | Running Optuna Trial: 44\n",
      "with hyperparameters: {'n_estimators': 376, 'max_depth': 476, 'min_samples_split': 5, 'max_features': 'sqrt', 'min_samples_leaf': 2, 'random_state': 760, 'n_jobs': -1}\n"
     ]
    },
    {
     "name": "stderr",
     "output_type": "stream",
     "text": [
      "\u001b[32m[I 2022-10-11 22:35:11,467]\u001b[0m Trial 44 finished with value: 3.486967724378707 and parameters: {'n_estimators': 376, 'max_depth': 476, 'min_samples_split': 5, 'max_features': 'sqrt', 'min_samples_leaf': 2}. Best is trial 34 with value: 3.4803262133504083.\u001b[0m\n"
     ]
    },
    {
     "name": "stdout",
     "output_type": "stream",
     "text": [
      "complete! average cv RMSE: 3.486967724378707\n",
      "22:35:11 | Running Optuna Trial: 45\n",
      "with hyperparameters: {'n_estimators': 376, 'max_depth': 426, 'min_samples_split': 7, 'max_features': 'sqrt', 'min_samples_leaf': 1, 'random_state': 760, 'n_jobs': -1}\n"
     ]
    },
    {
     "name": "stderr",
     "output_type": "stream",
     "text": [
      "\u001b[32m[I 2022-10-11 22:35:35,843]\u001b[0m Trial 45 finished with value: 3.481663942061297 and parameters: {'n_estimators': 376, 'max_depth': 426, 'min_samples_split': 7, 'max_features': 'sqrt', 'min_samples_leaf': 1}. Best is trial 34 with value: 3.4803262133504083.\u001b[0m\n"
     ]
    },
    {
     "name": "stdout",
     "output_type": "stream",
     "text": [
      "complete! average cv RMSE: 3.481663942061297\n",
      "22:35:35 | Running Optuna Trial: 46\n",
      "with hyperparameters: {'n_estimators': 401, 'max_depth': 376, 'min_samples_split': 6, 'max_features': 'sqrt', 'min_samples_leaf': 4, 'random_state': 760, 'n_jobs': -1}\n"
     ]
    },
    {
     "name": "stderr",
     "output_type": "stream",
     "text": [
      "\u001b[32m[I 2022-10-11 22:36:01,289]\u001b[0m Trial 46 finished with value: 3.5047638050561525 and parameters: {'n_estimators': 401, 'max_depth': 376, 'min_samples_split': 6, 'max_features': 'sqrt', 'min_samples_leaf': 4}. Best is trial 34 with value: 3.4803262133504083.\u001b[0m\n"
     ]
    },
    {
     "name": "stdout",
     "output_type": "stream",
     "text": [
      "complete! average cv RMSE: 3.5047638050561525\n",
      "22:36:01 | Running Optuna Trial: 47\n",
      "with hyperparameters: {'n_estimators': 176, 'max_depth': 451, 'min_samples_split': 2, 'max_features': 'sqrt', 'min_samples_leaf': 15, 'random_state': 760, 'n_jobs': -1}\n"
     ]
    },
    {
     "name": "stderr",
     "output_type": "stream",
     "text": [
      "\u001b[32m[I 2022-10-11 22:36:11,388]\u001b[0m Trial 47 finished with value: 3.5661019418691224 and parameters: {'n_estimators': 176, 'max_depth': 451, 'min_samples_split': 2, 'max_features': 'sqrt', 'min_samples_leaf': 15}. Best is trial 34 with value: 3.4803262133504083.\u001b[0m\n"
     ]
    },
    {
     "name": "stdout",
     "output_type": "stream",
     "text": [
      "complete! average cv RMSE: 3.5661019418691224\n",
      "22:36:11 | Running Optuna Trial: 48\n",
      "with hyperparameters: {'n_estimators': 476, 'max_depth': 476, 'min_samples_split': 4, 'max_features': 'sqrt', 'min_samples_leaf': 10, 'random_state': 760, 'n_jobs': -1}\n"
     ]
    },
    {
     "name": "stderr",
     "output_type": "stream",
     "text": [
      "\u001b[32m[I 2022-10-11 22:36:35,207]\u001b[0m Trial 48 finished with value: 3.5435776860646158 and parameters: {'n_estimators': 476, 'max_depth': 476, 'min_samples_split': 4, 'max_features': 'sqrt', 'min_samples_leaf': 10}. Best is trial 34 with value: 3.4803262133504083.\u001b[0m\n"
     ]
    },
    {
     "name": "stdout",
     "output_type": "stream",
     "text": [
      "complete! average cv RMSE: 3.5435776860646158\n",
      "22:36:35 | Running Optuna Trial: 49\n",
      "with hyperparameters: {'n_estimators': 101, 'max_depth': 426, 'min_samples_split': 7, 'max_features': 'sqrt', 'min_samples_leaf': 2, 'random_state': 760, 'n_jobs': -1}\n"
     ]
    },
    {
     "name": "stderr",
     "output_type": "stream",
     "text": [
      "\u001b[32m[I 2022-10-11 22:36:42,449]\u001b[0m Trial 49 finished with value: 3.5054327229523365 and parameters: {'n_estimators': 101, 'max_depth': 426, 'min_samples_split': 7, 'max_features': 'sqrt', 'min_samples_leaf': 2}. Best is trial 34 with value: 3.4803262133504083.\u001b[0m\n"
     ]
    },
    {
     "name": "stdout",
     "output_type": "stream",
     "text": [
      "complete! average cv RMSE: 3.5054327229523365\n"
     ]
    },
    {
     "name": "stderr",
     "output_type": "stream",
     "text": [
      "\u001b[32m[I 2022-10-11 22:36:49,015]\u001b[0m A new study created in memory with name: no-name-07f0a4c8-dbfc-495a-8035-0346546c91d0\u001b[0m\n"
     ]
    },
    {
     "name": "stdout",
     "output_type": "stream",
     "text": [
      "====== Running repetition: 1 ======\n",
      "22:36:49 | Running Optuna Trial: 0\n",
      "with hyperparameters: {'n_estimators': 51, 'max_depth': 51, 'min_samples_split': 5, 'max_features': 'log2', 'min_samples_leaf': 18, 'random_state': 760, 'n_jobs': -1}\n"
     ]
    },
    {
     "name": "stderr",
     "output_type": "stream",
     "text": [
      "\u001b[32m[I 2022-10-11 22:36:52,757]\u001b[0m Trial 0 finished with value: 3.5689096927293624 and parameters: {'n_estimators': 51, 'max_depth': 51, 'min_samples_split': 5, 'max_features': 'log2', 'min_samples_leaf': 18}. Best is trial 0 with value: 3.5689096927293624.\u001b[0m\n"
     ]
    },
    {
     "name": "stdout",
     "output_type": "stream",
     "text": [
      "complete! average cv RMSE: 3.5689096927293624\n",
      "22:36:52 | Running Optuna Trial: 1\n",
      "with hyperparameters: {'n_estimators': 76, 'max_depth': 451, 'min_samples_split': 14, 'max_features': 'sqrt', 'min_samples_leaf': 14, 'random_state': 760, 'n_jobs': -1}\n"
     ]
    },
    {
     "name": "stderr",
     "output_type": "stream",
     "text": [
      "\u001b[32m[I 2022-10-11 22:36:57,446]\u001b[0m Trial 1 finished with value: 3.561278867827627 and parameters: {'n_estimators': 76, 'max_depth': 451, 'min_samples_split': 14, 'max_features': 'sqrt', 'min_samples_leaf': 14}. Best is trial 1 with value: 3.561278867827627.\u001b[0m\n"
     ]
    },
    {
     "name": "stdout",
     "output_type": "stream",
     "text": [
      "complete! average cv RMSE: 3.561278867827627\n",
      "22:36:57 | Running Optuna Trial: 2\n",
      "with hyperparameters: {'n_estimators': 201, 'max_depth': 126, 'min_samples_split': 20, 'max_features': 'log2', 'min_samples_leaf': 14, 'random_state': 760, 'n_jobs': -1}\n"
     ]
    },
    {
     "name": "stderr",
     "output_type": "stream",
     "text": [
      "\u001b[32m[I 2022-10-11 22:37:07,687]\u001b[0m Trial 2 finished with value: 3.549737225639455 and parameters: {'n_estimators': 201, 'max_depth': 126, 'min_samples_split': 20, 'max_features': 'log2', 'min_samples_leaf': 14}. Best is trial 2 with value: 3.549737225639455.\u001b[0m\n"
     ]
    },
    {
     "name": "stdout",
     "output_type": "stream",
     "text": [
      "complete! average cv RMSE: 3.549737225639455\n",
      "22:37:07 | Running Optuna Trial: 3\n",
      "with hyperparameters: {'n_estimators': 126, 'max_depth': 326, 'min_samples_split': 11, 'max_features': 'sqrt', 'min_samples_leaf': 19, 'random_state': 760, 'n_jobs': -1}\n"
     ]
    },
    {
     "name": "stderr",
     "output_type": "stream",
     "text": [
      "\u001b[32m[I 2022-10-11 22:37:14,373]\u001b[0m Trial 3 finished with value: 3.5697460044140312 and parameters: {'n_estimators': 126, 'max_depth': 326, 'min_samples_split': 11, 'max_features': 'sqrt', 'min_samples_leaf': 19}. Best is trial 2 with value: 3.549737225639455.\u001b[0m\n"
     ]
    },
    {
     "name": "stdout",
     "output_type": "stream",
     "text": [
      "complete! average cv RMSE: 3.5697460044140312\n",
      "22:37:14 | Running Optuna Trial: 4\n",
      "with hyperparameters: {'n_estimators': 276, 'max_depth': 376, 'min_samples_split': 15, 'max_features': 'log2', 'min_samples_leaf': 7, 'random_state': 760, 'n_jobs': -1}\n"
     ]
    },
    {
     "name": "stderr",
     "output_type": "stream",
     "text": [
      "\u001b[32m[I 2022-10-11 22:37:29,283]\u001b[0m Trial 4 finished with value: 3.505509696615737 and parameters: {'n_estimators': 276, 'max_depth': 376, 'min_samples_split': 15, 'max_features': 'log2', 'min_samples_leaf': 7}. Best is trial 4 with value: 3.505509696615737.\u001b[0m\n"
     ]
    },
    {
     "name": "stdout",
     "output_type": "stream",
     "text": [
      "complete! average cv RMSE: 3.505509696615737\n",
      "22:37:29 | Running Optuna Trial: 5\n",
      "with hyperparameters: {'n_estimators': 151, 'max_depth': 401, 'min_samples_split': 17, 'max_features': 'sqrt', 'min_samples_leaf': 11, 'random_state': 760, 'n_jobs': -1}\n"
     ]
    },
    {
     "name": "stderr",
     "output_type": "stream",
     "text": [
      "\u001b[32m[I 2022-10-11 22:37:37,564]\u001b[0m Trial 5 finished with value: 3.533674864549398 and parameters: {'n_estimators': 151, 'max_depth': 401, 'min_samples_split': 17, 'max_features': 'sqrt', 'min_samples_leaf': 11}. Best is trial 4 with value: 3.505509696615737.\u001b[0m\n"
     ]
    },
    {
     "name": "stdout",
     "output_type": "stream",
     "text": [
      "complete! average cv RMSE: 3.533674864549398\n",
      "22:37:37 | Running Optuna Trial: 6\n",
      "with hyperparameters: {'n_estimators': 201, 'max_depth': 276, 'min_samples_split': 4, 'max_features': 'sqrt', 'min_samples_leaf': 11, 'random_state': 760, 'n_jobs': -1}\n"
     ]
    },
    {
     "name": "stderr",
     "output_type": "stream",
     "text": [
      "\u001b[32m[I 2022-10-11 22:37:48,345]\u001b[0m Trial 6 finished with value: 3.533206897012377 and parameters: {'n_estimators': 201, 'max_depth': 276, 'min_samples_split': 4, 'max_features': 'sqrt', 'min_samples_leaf': 11}. Best is trial 4 with value: 3.505509696615737.\u001b[0m\n"
     ]
    },
    {
     "name": "stdout",
     "output_type": "stream",
     "text": [
      "complete! average cv RMSE: 3.533206897012377\n",
      "22:37:48 | Running Optuna Trial: 7\n",
      "with hyperparameters: {'n_estimators': 126, 'max_depth': 401, 'min_samples_split': 7, 'max_features': 'log2', 'min_samples_leaf': 12, 'random_state': 760, 'n_jobs': -1}\n"
     ]
    },
    {
     "name": "stderr",
     "output_type": "stream",
     "text": [
      "\u001b[32m[I 2022-10-11 22:37:55,517]\u001b[0m Trial 7 finished with value: 3.5487284636497334 and parameters: {'n_estimators': 126, 'max_depth': 401, 'min_samples_split': 7, 'max_features': 'log2', 'min_samples_leaf': 12}. Best is trial 4 with value: 3.505509696615737.\u001b[0m\n"
     ]
    },
    {
     "name": "stdout",
     "output_type": "stream",
     "text": [
      "complete! average cv RMSE: 3.5487284636497334\n",
      "22:37:55 | Running Optuna Trial: 8\n",
      "with hyperparameters: {'n_estimators': 476, 'max_depth': 476, 'min_samples_split': 10, 'max_features': 'log2', 'min_samples_leaf': 13, 'random_state': 760, 'n_jobs': -1}\n"
     ]
    },
    {
     "name": "stderr",
     "output_type": "stream",
     "text": [
      "\u001b[32m[I 2022-10-11 22:38:17,732]\u001b[0m Trial 8 finished with value: 3.5417372840403187 and parameters: {'n_estimators': 476, 'max_depth': 476, 'min_samples_split': 10, 'max_features': 'log2', 'min_samples_leaf': 13}. Best is trial 4 with value: 3.505509696615737.\u001b[0m\n"
     ]
    },
    {
     "name": "stdout",
     "output_type": "stream",
     "text": [
      "complete! average cv RMSE: 3.5417372840403187\n",
      "22:38:17 | Running Optuna Trial: 9\n",
      "with hyperparameters: {'n_estimators': 301, 'max_depth': 251, 'min_samples_split': 15, 'max_features': 'log2', 'min_samples_leaf': 2, 'random_state': 760, 'n_jobs': -1}\n"
     ]
    },
    {
     "name": "stderr",
     "output_type": "stream",
     "text": [
      "\u001b[32m[I 2022-10-11 22:38:35,945]\u001b[0m Trial 9 finished with value: 3.4635566175459958 and parameters: {'n_estimators': 301, 'max_depth': 251, 'min_samples_split': 15, 'max_features': 'log2', 'min_samples_leaf': 2}. Best is trial 9 with value: 3.4635566175459958.\u001b[0m\n"
     ]
    },
    {
     "name": "stdout",
     "output_type": "stream",
     "text": [
      "complete! average cv RMSE: 3.4635566175459958\n",
      "22:38:35 | Running Optuna Trial: 10\n",
      "with hyperparameters: {'n_estimators': 351, 'max_depth': 176, 'min_samples_split': 20, 'max_features': 'log2', 'min_samples_leaf': 1, 'random_state': 760, 'n_jobs': -1}\n"
     ]
    },
    {
     "name": "stderr",
     "output_type": "stream",
     "text": [
      "\u001b[32m[I 2022-10-11 22:38:56,368]\u001b[0m Trial 10 finished with value: 3.4543746383432095 and parameters: {'n_estimators': 351, 'max_depth': 176, 'min_samples_split': 20, 'max_features': 'log2', 'min_samples_leaf': 1}. Best is trial 10 with value: 3.4543746383432095.\u001b[0m\n"
     ]
    },
    {
     "name": "stdout",
     "output_type": "stream",
     "text": [
      "complete! average cv RMSE: 3.4543746383432095\n",
      "22:38:56 | Running Optuna Trial: 11\n",
      "with hyperparameters: {'n_estimators': 351, 'max_depth': 176, 'min_samples_split': 19, 'max_features': 'log2', 'min_samples_leaf': 1, 'random_state': 760, 'n_jobs': -1}\n"
     ]
    },
    {
     "name": "stderr",
     "output_type": "stream",
     "text": [
      "\u001b[32m[I 2022-10-11 22:39:17,015]\u001b[0m Trial 11 finished with value: 3.446804050421234 and parameters: {'n_estimators': 351, 'max_depth': 176, 'min_samples_split': 19, 'max_features': 'log2', 'min_samples_leaf': 1}. Best is trial 11 with value: 3.446804050421234.\u001b[0m\n"
     ]
    },
    {
     "name": "stdout",
     "output_type": "stream",
     "text": [
      "complete! average cv RMSE: 3.446804050421234\n",
      "22:39:17 | Running Optuna Trial: 12\n",
      "with hyperparameters: {'n_estimators': 376, 'max_depth': 151, 'min_samples_split': 20, 'max_features': 'log2', 'min_samples_leaf': 1, 'random_state': 760, 'n_jobs': -1}\n"
     ]
    },
    {
     "name": "stderr",
     "output_type": "stream",
     "text": [
      "\u001b[32m[I 2022-10-11 22:39:39,317]\u001b[0m Trial 12 finished with value: 3.454055625102247 and parameters: {'n_estimators': 376, 'max_depth': 151, 'min_samples_split': 20, 'max_features': 'log2', 'min_samples_leaf': 1}. Best is trial 11 with value: 3.446804050421234.\u001b[0m\n"
     ]
    },
    {
     "name": "stdout",
     "output_type": "stream",
     "text": [
      "complete! average cv RMSE: 3.454055625102247\n",
      "22:39:39 | Running Optuna Trial: 13\n",
      "with hyperparameters: {'n_estimators': 401, 'max_depth': 1, 'min_samples_split': 17, 'max_features': 'log2', 'min_samples_leaf': 5, 'random_state': 760, 'n_jobs': -1}\n"
     ]
    },
    {
     "name": "stderr",
     "output_type": "stream",
     "text": [
      "\u001b[32m[I 2022-10-11 22:39:44,315]\u001b[0m Trial 13 finished with value: 3.9926662248637173 and parameters: {'n_estimators': 401, 'max_depth': 1, 'min_samples_split': 17, 'max_features': 'log2', 'min_samples_leaf': 5}. Best is trial 11 with value: 3.446804050421234.\u001b[0m\n"
     ]
    },
    {
     "name": "stdout",
     "output_type": "stream",
     "text": [
      "complete! average cv RMSE: 3.9926662248637173\n",
      "22:39:44 | Running Optuna Trial: 14\n",
      "with hyperparameters: {'n_estimators': 451, 'max_depth': 176, 'min_samples_split': 18, 'max_features': 'log2', 'min_samples_leaf': 5, 'random_state': 760, 'n_jobs': -1}\n"
     ]
    },
    {
     "name": "stderr",
     "output_type": "stream",
     "text": [
      "\u001b[32m[I 2022-10-11 22:40:08,482]\u001b[0m Trial 14 finished with value: 3.4973244145388827 and parameters: {'n_estimators': 451, 'max_depth': 176, 'min_samples_split': 18, 'max_features': 'log2', 'min_samples_leaf': 5}. Best is trial 11 with value: 3.446804050421234.\u001b[0m\n"
     ]
    },
    {
     "name": "stdout",
     "output_type": "stream",
     "text": [
      "complete! average cv RMSE: 3.4973244145388827\n",
      "22:40:08 | Running Optuna Trial: 15\n",
      "with hyperparameters: {'n_estimators': 351, 'max_depth': 101, 'min_samples_split': 13, 'max_features': 'log2', 'min_samples_leaf': 4, 'random_state': 760, 'n_jobs': -1}\n"
     ]
    },
    {
     "name": "stderr",
     "output_type": "stream",
     "text": [
      "\u001b[32m[I 2022-10-11 22:40:28,436]\u001b[0m Trial 15 finished with value: 3.484994995217204 and parameters: {'n_estimators': 351, 'max_depth': 101, 'min_samples_split': 13, 'max_features': 'log2', 'min_samples_leaf': 4}. Best is trial 11 with value: 3.446804050421234.\u001b[0m\n"
     ]
    },
    {
     "name": "stdout",
     "output_type": "stream",
     "text": [
      "complete! average cv RMSE: 3.484994995217204\n",
      "22:40:28 | Running Optuna Trial: 16\n",
      "with hyperparameters: {'n_estimators': 401, 'max_depth': 151, 'min_samples_split': 20, 'max_features': 'log2', 'min_samples_leaf': 8, 'random_state': 760, 'n_jobs': -1}\n"
     ]
    },
    {
     "name": "stderr",
     "output_type": "stream",
     "text": [
      "\u001b[32m[I 2022-10-11 22:40:49,310]\u001b[0m Trial 16 finished with value: 3.5152766630628003 and parameters: {'n_estimators': 401, 'max_depth': 151, 'min_samples_split': 20, 'max_features': 'log2', 'min_samples_leaf': 8}. Best is trial 11 with value: 3.446804050421234.\u001b[0m\n"
     ]
    },
    {
     "name": "stdout",
     "output_type": "stream",
     "text": [
      "complete! average cv RMSE: 3.5152766630628003\n",
      "22:40:49 | Running Optuna Trial: 17\n",
      "with hyperparameters: {'n_estimators': 326, 'max_depth': 226, 'min_samples_split': 8, 'max_features': 'log2', 'min_samples_leaf': 1, 'random_state': 760, 'n_jobs': -1}\n"
     ]
    },
    {
     "name": "stderr",
     "output_type": "stream",
     "text": [
      "\u001b[32m[I 2022-10-11 22:41:10,348]\u001b[0m Trial 17 finished with value: 3.4353620448029547 and parameters: {'n_estimators': 326, 'max_depth': 226, 'min_samples_split': 8, 'max_features': 'log2', 'min_samples_leaf': 1}. Best is trial 17 with value: 3.4353620448029547.\u001b[0m\n"
     ]
    },
    {
     "name": "stdout",
     "output_type": "stream",
     "text": [
      "complete! average cv RMSE: 3.4353620448029547\n",
      "22:41:10 | Running Optuna Trial: 18\n",
      "with hyperparameters: {'n_estimators': 276, 'max_depth': 226, 'min_samples_split': 8, 'max_features': 'sqrt', 'min_samples_leaf': 8, 'random_state': 760, 'n_jobs': -1}\n"
     ]
    },
    {
     "name": "stderr",
     "output_type": "stream",
     "text": [
      "\u001b[32m[I 2022-10-11 22:41:24,806]\u001b[0m Trial 18 finished with value: 3.508982877601965 and parameters: {'n_estimators': 276, 'max_depth': 226, 'min_samples_split': 8, 'max_features': 'sqrt', 'min_samples_leaf': 8}. Best is trial 17 with value: 3.4353620448029547.\u001b[0m\n"
     ]
    },
    {
     "name": "stdout",
     "output_type": "stream",
     "text": [
      "complete! average cv RMSE: 3.508982877601965\n",
      "22:41:24 | Running Optuna Trial: 19\n",
      "with hyperparameters: {'n_estimators': 326, 'max_depth': 301, 'min_samples_split': 9, 'max_features': 'log2', 'min_samples_leaf': 3, 'random_state': 760, 'n_jobs': -1}\n"
     ]
    },
    {
     "name": "stderr",
     "output_type": "stream",
     "text": [
      "\u001b[32m[I 2022-10-11 22:41:43,843]\u001b[0m Trial 19 finished with value: 3.4631416422280346 and parameters: {'n_estimators': 326, 'max_depth': 301, 'min_samples_split': 9, 'max_features': 'log2', 'min_samples_leaf': 3}. Best is trial 17 with value: 3.4353620448029547.\u001b[0m\n"
     ]
    },
    {
     "name": "stdout",
     "output_type": "stream",
     "text": [
      "complete! average cv RMSE: 3.4631416422280346\n",
      "22:41:43 | Running Optuna Trial: 20\n",
      "with hyperparameters: {'n_estimators': 1, 'max_depth': 226, 'min_samples_split': 2, 'max_features': 'log2', 'min_samples_leaf': 6, 'random_state': 760, 'n_jobs': -1}\n"
     ]
    },
    {
     "name": "stderr",
     "output_type": "stream",
     "text": [
      "\u001b[32m[I 2022-10-11 22:41:45,450]\u001b[0m Trial 20 finished with value: 4.170238735785023 and parameters: {'n_estimators': 1, 'max_depth': 226, 'min_samples_split': 2, 'max_features': 'log2', 'min_samples_leaf': 6}. Best is trial 17 with value: 3.4353620448029547.\u001b[0m\n"
     ]
    },
    {
     "name": "stdout",
     "output_type": "stream",
     "text": [
      "complete! average cv RMSE: 4.170238735785023\n",
      "22:41:45 | Running Optuna Trial: 21\n",
      "with hyperparameters: {'n_estimators': 401, 'max_depth': 101, 'min_samples_split': 12, 'max_features': 'log2', 'min_samples_leaf': 1, 'random_state': 760, 'n_jobs': -1}\n"
     ]
    },
    {
     "name": "stderr",
     "output_type": "stream",
     "text": [
      "\u001b[32m[I 2022-10-11 22:42:09,874]\u001b[0m Trial 21 finished with value: 3.435825423455694 and parameters: {'n_estimators': 401, 'max_depth': 101, 'min_samples_split': 12, 'max_features': 'log2', 'min_samples_leaf': 1}. Best is trial 17 with value: 3.4353620448029547.\u001b[0m\n"
     ]
    },
    {
     "name": "stdout",
     "output_type": "stream",
     "text": [
      "complete! average cv RMSE: 3.435825423455694\n",
      "22:42:09 | Running Optuna Trial: 22\n",
      "with hyperparameters: {'n_estimators': 426, 'max_depth': 76, 'min_samples_split': 12, 'max_features': 'log2', 'min_samples_leaf': 3, 'random_state': 760, 'n_jobs': -1}\n"
     ]
    },
    {
     "name": "stderr",
     "output_type": "stream",
     "text": [
      "\u001b[32m[I 2022-10-11 22:42:33,894]\u001b[0m Trial 22 finished with value: 3.472969838254744 and parameters: {'n_estimators': 426, 'max_depth': 76, 'min_samples_split': 12, 'max_features': 'log2', 'min_samples_leaf': 3}. Best is trial 17 with value: 3.4353620448029547.\u001b[0m\n"
     ]
    },
    {
     "name": "stdout",
     "output_type": "stream",
     "text": [
      "complete! average cv RMSE: 3.472969838254744\n",
      "22:42:33 | Running Optuna Trial: 23\n",
      "with hyperparameters: {'n_estimators': 251, 'max_depth': 26, 'min_samples_split': 6, 'max_features': 'log2', 'min_samples_leaf': 1, 'random_state': 760, 'n_jobs': -1}\n"
     ]
    },
    {
     "name": "stderr",
     "output_type": "stream",
     "text": [
      "\u001b[32m[I 2022-10-11 22:42:49,950]\u001b[0m Trial 23 finished with value: 3.4380540359473515 and parameters: {'n_estimators': 251, 'max_depth': 26, 'min_samples_split': 6, 'max_features': 'log2', 'min_samples_leaf': 1}. Best is trial 17 with value: 3.4353620448029547.\u001b[0m\n"
     ]
    },
    {
     "name": "stdout",
     "output_type": "stream",
     "text": [
      "complete! average cv RMSE: 3.4380540359473515\n",
      "22:42:49 | Running Optuna Trial: 24\n",
      "with hyperparameters: {'n_estimators': 226, 'max_depth': 1, 'min_samples_split': 6, 'max_features': 'log2', 'min_samples_leaf': 3, 'random_state': 760, 'n_jobs': -1}\n"
     ]
    },
    {
     "name": "stderr",
     "output_type": "stream",
     "text": [
      "\u001b[32m[I 2022-10-11 22:42:52,851]\u001b[0m Trial 24 finished with value: 3.9977502346366713 and parameters: {'n_estimators': 226, 'max_depth': 1, 'min_samples_split': 6, 'max_features': 'log2', 'min_samples_leaf': 3}. Best is trial 17 with value: 3.4353620448029547.\u001b[0m\n"
     ]
    },
    {
     "name": "stdout",
     "output_type": "stream",
     "text": [
      "complete! average cv RMSE: 3.9977502346366713\n",
      "22:42:52 | Running Optuna Trial: 25\n",
      "with hyperparameters: {'n_estimators': 251, 'max_depth': 51, 'min_samples_split': 9, 'max_features': 'log2', 'min_samples_leaf': 9, 'random_state': 760, 'n_jobs': -1}\n"
     ]
    },
    {
     "name": "stderr",
     "output_type": "stream",
     "text": [
      "\u001b[32m[I 2022-10-11 22:43:05,975]\u001b[0m Trial 25 finished with value: 3.521507621121072 and parameters: {'n_estimators': 251, 'max_depth': 51, 'min_samples_split': 9, 'max_features': 'log2', 'min_samples_leaf': 9}. Best is trial 17 with value: 3.4353620448029547.\u001b[0m\n"
     ]
    },
    {
     "name": "stdout",
     "output_type": "stream",
     "text": [
      "complete! average cv RMSE: 3.521507621121072\n",
      "22:43:05 | Running Optuna Trial: 26\n",
      "with hyperparameters: {'n_estimators': 301, 'max_depth': 51, 'min_samples_split': 3, 'max_features': 'sqrt', 'min_samples_leaf': 4, 'random_state': 760, 'n_jobs': -1}\n"
     ]
    },
    {
     "name": "stderr",
     "output_type": "stream",
     "text": [
      "\u001b[32m[I 2022-10-11 22:43:23,570]\u001b[0m Trial 26 finished with value: 3.479700469035444 and parameters: {'n_estimators': 301, 'max_depth': 51, 'min_samples_split': 3, 'max_features': 'sqrt', 'min_samples_leaf': 4}. Best is trial 17 with value: 3.4353620448029547.\u001b[0m\n"
     ]
    },
    {
     "name": "stdout",
     "output_type": "stream",
     "text": [
      "complete! average cv RMSE: 3.479700469035444\n",
      "22:43:23 | Running Optuna Trial: 27\n",
      "with hyperparameters: {'n_estimators': 426, 'max_depth': 101, 'min_samples_split': 7, 'max_features': 'log2', 'min_samples_leaf': 1, 'random_state': 760, 'n_jobs': -1}\n"
     ]
    },
    {
     "name": "stderr",
     "output_type": "stream",
     "text": [
      "\u001b[32m[I 2022-10-11 22:43:51,091]\u001b[0m Trial 27 finished with value: 3.4303892163397203 and parameters: {'n_estimators': 426, 'max_depth': 101, 'min_samples_split': 7, 'max_features': 'log2', 'min_samples_leaf': 1}. Best is trial 27 with value: 3.4303892163397203.\u001b[0m\n"
     ]
    },
    {
     "name": "stdout",
     "output_type": "stream",
     "text": [
      "complete! average cv RMSE: 3.4303892163397203\n",
      "22:43:51 | Running Optuna Trial: 28\n",
      "with hyperparameters: {'n_estimators': 451, 'max_depth': 101, 'min_samples_split': 11, 'max_features': 'log2', 'min_samples_leaf': 17, 'random_state': 760, 'n_jobs': -1}\n"
     ]
    },
    {
     "name": "stderr",
     "output_type": "stream",
     "text": [
      "\u001b[32m[I 2022-10-11 22:44:11,614]\u001b[0m Trial 28 finished with value: 3.559196675264886 and parameters: {'n_estimators': 451, 'max_depth': 101, 'min_samples_split': 11, 'max_features': 'log2', 'min_samples_leaf': 17}. Best is trial 27 with value: 3.4303892163397203.\u001b[0m\n"
     ]
    },
    {
     "name": "stdout",
     "output_type": "stream",
     "text": [
      "complete! average cv RMSE: 3.559196675264886\n",
      "22:44:11 | Running Optuna Trial: 29\n",
      "with hyperparameters: {'n_estimators': 476, 'max_depth': 101, 'min_samples_split': 5, 'max_features': 'log2', 'min_samples_leaf': 6, 'random_state': 760, 'n_jobs': -1}\n"
     ]
    },
    {
     "name": "stderr",
     "output_type": "stream",
     "text": [
      "\u001b[32m[I 2022-10-11 22:44:36,818]\u001b[0m Trial 29 finished with value: 3.4986920270763107 and parameters: {'n_estimators': 476, 'max_depth': 101, 'min_samples_split': 5, 'max_features': 'log2', 'min_samples_leaf': 6}. Best is trial 27 with value: 3.4303892163397203.\u001b[0m\n"
     ]
    },
    {
     "name": "stdout",
     "output_type": "stream",
     "text": [
      "complete! average cv RMSE: 3.4986920270763107\n",
      "22:44:36 | Running Optuna Trial: 30\n",
      "with hyperparameters: {'n_estimators': 401, 'max_depth': 201, 'min_samples_split': 8, 'max_features': 'log2', 'min_samples_leaf': 17, 'random_state': 760, 'n_jobs': -1}\n"
     ]
    },
    {
     "name": "stderr",
     "output_type": "stream",
     "text": [
      "\u001b[32m[I 2022-10-11 22:44:55,316]\u001b[0m Trial 30 finished with value: 3.5602328848874683 and parameters: {'n_estimators': 401, 'max_depth': 201, 'min_samples_split': 8, 'max_features': 'log2', 'min_samples_leaf': 17}. Best is trial 27 with value: 3.4303892163397203.\u001b[0m\n"
     ]
    },
    {
     "name": "stdout",
     "output_type": "stream",
     "text": [
      "complete! average cv RMSE: 3.5602328848874683\n",
      "22:44:55 | Running Optuna Trial: 31\n",
      "with hyperparameters: {'n_estimators': 326, 'max_depth': 26, 'min_samples_split': 6, 'max_features': 'log2', 'min_samples_leaf': 2, 'random_state': 760, 'n_jobs': -1}\n"
     ]
    },
    {
     "name": "stderr",
     "output_type": "stream",
     "text": [
      "\u001b[32m[I 2022-10-11 22:45:15,180]\u001b[0m Trial 31 finished with value: 3.4439670216563476 and parameters: {'n_estimators': 326, 'max_depth': 26, 'min_samples_split': 6, 'max_features': 'log2', 'min_samples_leaf': 2}. Best is trial 27 with value: 3.4303892163397203.\u001b[0m\n"
     ]
    },
    {
     "name": "stdout",
     "output_type": "stream",
     "text": [
      "complete! average cv RMSE: 3.4439670216563476\n",
      "22:45:15 | Running Optuna Trial: 32\n",
      "with hyperparameters: {'n_estimators': 426, 'max_depth': 76, 'min_samples_split': 7, 'max_features': 'log2', 'min_samples_leaf': 1, 'random_state': 760, 'n_jobs': -1}\n"
     ]
    },
    {
     "name": "stderr",
     "output_type": "stream",
     "text": [
      "\u001b[32m[I 2022-10-11 22:45:42,445]\u001b[0m Trial 32 finished with value: 3.4303892163397203 and parameters: {'n_estimators': 426, 'max_depth': 76, 'min_samples_split': 7, 'max_features': 'log2', 'min_samples_leaf': 1}. Best is trial 27 with value: 3.4303892163397203.\u001b[0m\n"
     ]
    },
    {
     "name": "stdout",
     "output_type": "stream",
     "text": [
      "complete! average cv RMSE: 3.4303892163397203\n",
      "22:45:42 | Running Optuna Trial: 33\n",
      "with hyperparameters: {'n_estimators': 426, 'max_depth': 126, 'min_samples_split': 8, 'max_features': 'log2', 'min_samples_leaf': 2, 'random_state': 760, 'n_jobs': -1}\n"
     ]
    },
    {
     "name": "stderr",
     "output_type": "stream",
     "text": [
      "\u001b[32m[I 2022-10-11 22:46:08,743]\u001b[0m Trial 33 finished with value: 3.4496282008442902 and parameters: {'n_estimators': 426, 'max_depth': 126, 'min_samples_split': 8, 'max_features': 'log2', 'min_samples_leaf': 2}. Best is trial 27 with value: 3.4303892163397203.\u001b[0m\n"
     ]
    },
    {
     "name": "stdout",
     "output_type": "stream",
     "text": [
      "complete! average cv RMSE: 3.4496282008442902\n",
      "22:46:08 | Running Optuna Trial: 34\n",
      "with hyperparameters: {'n_estimators': 376, 'max_depth': 76, 'min_samples_split': 10, 'max_features': 'sqrt', 'min_samples_leaf': 4, 'random_state': 760, 'n_jobs': -1}\n"
     ]
    },
    {
     "name": "stderr",
     "output_type": "stream",
     "text": [
      "\u001b[32m[I 2022-10-11 22:46:30,185]\u001b[0m Trial 34 finished with value: 3.476690823042349 and parameters: {'n_estimators': 376, 'max_depth': 76, 'min_samples_split': 10, 'max_features': 'sqrt', 'min_samples_leaf': 4}. Best is trial 27 with value: 3.4303892163397203.\u001b[0m\n"
     ]
    },
    {
     "name": "stdout",
     "output_type": "stream",
     "text": [
      "complete! average cv RMSE: 3.476690823042349\n",
      "22:46:30 | Running Optuna Trial: 35\n",
      "with hyperparameters: {'n_estimators': 426, 'max_depth': 76, 'min_samples_split': 12, 'max_features': 'log2', 'min_samples_leaf': 2, 'random_state': 760, 'n_jobs': -1}\n"
     ]
    },
    {
     "name": "stderr",
     "output_type": "stream",
     "text": [
      "\u001b[32m[I 2022-10-11 22:46:55,055]\u001b[0m Trial 35 finished with value: 3.459402759814492 and parameters: {'n_estimators': 426, 'max_depth': 76, 'min_samples_split': 12, 'max_features': 'log2', 'min_samples_leaf': 2}. Best is trial 27 with value: 3.4303892163397203.\u001b[0m\n"
     ]
    },
    {
     "name": "stdout",
     "output_type": "stream",
     "text": [
      "complete! average cv RMSE: 3.459402759814492\n",
      "22:46:55 | Running Optuna Trial: 36\n",
      "with hyperparameters: {'n_estimators': 376, 'max_depth': 351, 'min_samples_split': 4, 'max_features': 'log2', 'min_samples_leaf': 3, 'random_state': 760, 'n_jobs': -1}\n"
     ]
    },
    {
     "name": "stderr",
     "output_type": "stream",
     "text": [
      "\u001b[32m[I 2022-10-11 22:47:19,760]\u001b[0m Trial 36 finished with value: 3.463578355875184 and parameters: {'n_estimators': 376, 'max_depth': 351, 'min_samples_split': 4, 'max_features': 'log2', 'min_samples_leaf': 3}. Best is trial 27 with value: 3.4303892163397203.\u001b[0m\n"
     ]
    },
    {
     "name": "stdout",
     "output_type": "stream",
     "text": [
      "complete! average cv RMSE: 3.463578355875184\n",
      "22:47:19 | Running Optuna Trial: 37\n",
      "with hyperparameters: {'n_estimators': 451, 'max_depth': 126, 'min_samples_split': 7, 'max_features': 'sqrt', 'min_samples_leaf': 15, 'random_state': 760, 'n_jobs': -1}\n"
     ]
    },
    {
     "name": "stderr",
     "output_type": "stream",
     "text": [
      "\u001b[32m[I 2022-10-11 22:47:41,602]\u001b[0m Trial 37 finished with value: 3.5523044887134723 and parameters: {'n_estimators': 451, 'max_depth': 126, 'min_samples_split': 7, 'max_features': 'sqrt', 'min_samples_leaf': 15}. Best is trial 27 with value: 3.4303892163397203.\u001b[0m\n"
     ]
    },
    {
     "name": "stdout",
     "output_type": "stream",
     "text": [
      "complete! average cv RMSE: 3.5523044887134723\n",
      "22:47:41 | Running Optuna Trial: 38\n",
      "with hyperparameters: {'n_estimators': 476, 'max_depth': 276, 'min_samples_split': 10, 'max_features': 'log2', 'min_samples_leaf': 20, 'random_state': 760, 'n_jobs': -1}\n"
     ]
    },
    {
     "name": "stderr",
     "output_type": "stream",
     "text": [
      "\u001b[32m[I 2022-10-11 22:48:02,763]\u001b[0m Trial 38 finished with value: 3.5737406671195466 and parameters: {'n_estimators': 476, 'max_depth': 276, 'min_samples_split': 10, 'max_features': 'log2', 'min_samples_leaf': 20}. Best is trial 27 with value: 3.4303892163397203.\u001b[0m\n"
     ]
    },
    {
     "name": "stdout",
     "output_type": "stream",
     "text": [
      "complete! average cv RMSE: 3.5737406671195466\n",
      "22:48:02 | Running Optuna Trial: 39\n",
      "with hyperparameters: {'n_estimators': 326, 'max_depth': 151, 'min_samples_split': 14, 'max_features': 'log2', 'min_samples_leaf': 5, 'random_state': 760, 'n_jobs': -1}\n"
     ]
    },
    {
     "name": "stderr",
     "output_type": "stream",
     "text": [
      "\u001b[32m[I 2022-10-11 22:48:20,513]\u001b[0m Trial 39 finished with value: 3.4925620157695745 and parameters: {'n_estimators': 326, 'max_depth': 151, 'min_samples_split': 14, 'max_features': 'log2', 'min_samples_leaf': 5}. Best is trial 27 with value: 3.4303892163397203.\u001b[0m\n"
     ]
    },
    {
     "name": "stdout",
     "output_type": "stream",
     "text": [
      "complete! average cv RMSE: 3.4925620157695745\n",
      "22:48:20 | Running Optuna Trial: 40\n",
      "with hyperparameters: {'n_estimators': 401, 'max_depth': 201, 'min_samples_split': 7, 'max_features': 'sqrt', 'min_samples_leaf': 1, 'random_state': 760, 'n_jobs': -1}\n"
     ]
    },
    {
     "name": "stderr",
     "output_type": "stream",
     "text": [
      "\u001b[32m[I 2022-10-11 22:48:46,434]\u001b[0m Trial 40 finished with value: 3.4306435659180976 and parameters: {'n_estimators': 401, 'max_depth': 201, 'min_samples_split': 7, 'max_features': 'sqrt', 'min_samples_leaf': 1}. Best is trial 27 with value: 3.4303892163397203.\u001b[0m\n"
     ]
    },
    {
     "name": "stdout",
     "output_type": "stream",
     "text": [
      "complete! average cv RMSE: 3.4306435659180976\n",
      "22:48:46 | Running Optuna Trial: 41\n",
      "with hyperparameters: {'n_estimators': 401, 'max_depth': 201, 'min_samples_split': 7, 'max_features': 'sqrt', 'min_samples_leaf': 1, 'random_state': 760, 'n_jobs': -1}\n"
     ]
    },
    {
     "name": "stderr",
     "output_type": "stream",
     "text": [
      "\u001b[32m[I 2022-10-11 22:49:12,684]\u001b[0m Trial 41 finished with value: 3.4306435659180976 and parameters: {'n_estimators': 401, 'max_depth': 201, 'min_samples_split': 7, 'max_features': 'sqrt', 'min_samples_leaf': 1}. Best is trial 27 with value: 3.4303892163397203.\u001b[0m\n"
     ]
    },
    {
     "name": "stdout",
     "output_type": "stream",
     "text": [
      "complete! average cv RMSE: 3.4306435659180976\n",
      "22:49:12 | Running Optuna Trial: 42\n",
      "with hyperparameters: {'n_estimators': 426, 'max_depth': 251, 'min_samples_split': 7, 'max_features': 'sqrt', 'min_samples_leaf': 2, 'random_state': 760, 'n_jobs': -1}\n"
     ]
    },
    {
     "name": "stderr",
     "output_type": "stream",
     "text": [
      "\u001b[32m[I 2022-10-11 22:49:38,935]\u001b[0m Trial 42 finished with value: 3.453545065026612 and parameters: {'n_estimators': 426, 'max_depth': 251, 'min_samples_split': 7, 'max_features': 'sqrt', 'min_samples_leaf': 2}. Best is trial 27 with value: 3.4303892163397203.\u001b[0m\n"
     ]
    },
    {
     "name": "stdout",
     "output_type": "stream",
     "text": [
      "complete! average cv RMSE: 3.453545065026612\n",
      "22:49:38 | Running Optuna Trial: 43\n",
      "with hyperparameters: {'n_estimators': 376, 'max_depth': 201, 'min_samples_split': 5, 'max_features': 'sqrt', 'min_samples_leaf': 1, 'random_state': 760, 'n_jobs': -1}\n"
     ]
    },
    {
     "name": "stderr",
     "output_type": "stream",
     "text": [
      "\u001b[32m[I 2022-10-11 22:50:04,157]\u001b[0m Trial 43 finished with value: 3.425445202434692 and parameters: {'n_estimators': 376, 'max_depth': 201, 'min_samples_split': 5, 'max_features': 'sqrt', 'min_samples_leaf': 1}. Best is trial 43 with value: 3.425445202434692.\u001b[0m\n"
     ]
    },
    {
     "name": "stdout",
     "output_type": "stream",
     "text": [
      "complete! average cv RMSE: 3.425445202434692\n",
      "22:50:04 | Running Optuna Trial: 44\n",
      "with hyperparameters: {'n_estimators': 451, 'max_depth': 301, 'min_samples_split': 5, 'max_features': 'sqrt', 'min_samples_leaf': 3, 'random_state': 760, 'n_jobs': -1}\n"
     ]
    },
    {
     "name": "stderr",
     "output_type": "stream",
     "text": [
      "\u001b[32m[I 2022-10-11 22:50:33,249]\u001b[0m Trial 44 finished with value: 3.4633558911362896 and parameters: {'n_estimators': 451, 'max_depth': 301, 'min_samples_split': 5, 'max_features': 'sqrt', 'min_samples_leaf': 3}. Best is trial 43 with value: 3.425445202434692.\u001b[0m\n"
     ]
    },
    {
     "name": "stdout",
     "output_type": "stream",
     "text": [
      "complete! average cv RMSE: 3.4633558911362896\n",
      "22:50:33 | Running Optuna Trial: 45\n",
      "with hyperparameters: {'n_estimators': 376, 'max_depth': 201, 'min_samples_split': 4, 'max_features': 'sqrt', 'min_samples_leaf': 2, 'random_state': 760, 'n_jobs': -1}\n"
     ]
    },
    {
     "name": "stderr",
     "output_type": "stream",
     "text": [
      "\u001b[32m[I 2022-10-11 22:50:57,962]\u001b[0m Trial 45 finished with value: 3.4401083370070777 and parameters: {'n_estimators': 376, 'max_depth': 201, 'min_samples_split': 4, 'max_features': 'sqrt', 'min_samples_leaf': 2}. Best is trial 43 with value: 3.425445202434692.\u001b[0m\n"
     ]
    },
    {
     "name": "stdout",
     "output_type": "stream",
     "text": [
      "complete! average cv RMSE: 3.4401083370070777\n",
      "22:50:57 | Running Optuna Trial: 46\n",
      "with hyperparameters: {'n_estimators': 476, 'max_depth': 201, 'min_samples_split': 3, 'max_features': 'sqrt', 'min_samples_leaf': 4, 'random_state': 760, 'n_jobs': -1}\n"
     ]
    },
    {
     "name": "stderr",
     "output_type": "stream",
     "text": [
      "\u001b[32m[I 2022-10-11 22:51:25,428]\u001b[0m Trial 46 finished with value: 3.4781987053708816 and parameters: {'n_estimators': 476, 'max_depth': 201, 'min_samples_split': 3, 'max_features': 'sqrt', 'min_samples_leaf': 4}. Best is trial 43 with value: 3.425445202434692.\u001b[0m\n"
     ]
    },
    {
     "name": "stdout",
     "output_type": "stream",
     "text": [
      "complete! average cv RMSE: 3.4781987053708816\n",
      "22:51:25 | Running Optuna Trial: 47\n",
      "with hyperparameters: {'n_estimators': 176, 'max_depth': 176, 'min_samples_split': 6, 'max_features': 'sqrt', 'min_samples_leaf': 1, 'random_state': 760, 'n_jobs': -1}\n"
     ]
    },
    {
     "name": "stderr",
     "output_type": "stream",
     "text": [
      "\u001b[32m[I 2022-10-11 22:51:37,488]\u001b[0m Trial 47 finished with value: 3.4309183503277403 and parameters: {'n_estimators': 176, 'max_depth': 176, 'min_samples_split': 6, 'max_features': 'sqrt', 'min_samples_leaf': 1}. Best is trial 43 with value: 3.425445202434692.\u001b[0m\n"
     ]
    },
    {
     "name": "stdout",
     "output_type": "stream",
     "text": [
      "complete! average cv RMSE: 3.4309183503277403\n",
      "22:51:37 | Running Optuna Trial: 48\n",
      "with hyperparameters: {'n_estimators': 351, 'max_depth': 126, 'min_samples_split': 5, 'max_features': 'sqrt', 'min_samples_leaf': 10, 'random_state': 760, 'n_jobs': -1}\n"
     ]
    },
    {
     "name": "stderr",
     "output_type": "stream",
     "text": [
      "\u001b[32m[I 2022-10-11 22:51:54,374]\u001b[0m Trial 48 finished with value: 3.5261757587608757 and parameters: {'n_estimators': 351, 'max_depth': 126, 'min_samples_split': 5, 'max_features': 'sqrt', 'min_samples_leaf': 10}. Best is trial 43 with value: 3.425445202434692.\u001b[0m\n"
     ]
    },
    {
     "name": "stdout",
     "output_type": "stream",
     "text": [
      "complete! average cv RMSE: 3.5261757587608757\n",
      "22:51:54 | Running Optuna Trial: 49\n",
      "with hyperparameters: {'n_estimators': 101, 'max_depth': 251, 'min_samples_split': 7, 'max_features': 'sqrt', 'min_samples_leaf': 6, 'random_state': 760, 'n_jobs': -1}\n"
     ]
    },
    {
     "name": "stderr",
     "output_type": "stream",
     "text": [
      "\u001b[32m[I 2022-10-11 22:52:00,545]\u001b[0m Trial 49 finished with value: 3.506914714865245 and parameters: {'n_estimators': 101, 'max_depth': 251, 'min_samples_split': 7, 'max_features': 'sqrt', 'min_samples_leaf': 6}. Best is trial 43 with value: 3.425445202434692.\u001b[0m\n"
     ]
    },
    {
     "name": "stdout",
     "output_type": "stream",
     "text": [
      "complete! average cv RMSE: 3.506914714865245\n"
     ]
    },
    {
     "name": "stderr",
     "output_type": "stream",
     "text": [
      "\u001b[32m[I 2022-10-11 22:52:05,864]\u001b[0m A new study created in memory with name: no-name-1f6801f7-249f-4944-990b-83ade48f3b84\u001b[0m\n"
     ]
    },
    {
     "name": "stdout",
     "output_type": "stream",
     "text": [
      "====== Running repetition: 2 ======\n",
      "22:52:05 | Running Optuna Trial: 0\n",
      "with hyperparameters: {'n_estimators': 51, 'max_depth': 51, 'min_samples_split': 5, 'max_features': 'log2', 'min_samples_leaf': 18, 'random_state': 760, 'n_jobs': -1}\n"
     ]
    },
    {
     "name": "stderr",
     "output_type": "stream",
     "text": [
      "\u001b[32m[I 2022-10-11 22:52:09,168]\u001b[0m Trial 0 finished with value: 3.559545807150849 and parameters: {'n_estimators': 51, 'max_depth': 51, 'min_samples_split': 5, 'max_features': 'log2', 'min_samples_leaf': 18}. Best is trial 0 with value: 3.559545807150849.\u001b[0m\n"
     ]
    },
    {
     "name": "stdout",
     "output_type": "stream",
     "text": [
      "complete! average cv RMSE: 3.559545807150849\n",
      "22:52:09 | Running Optuna Trial: 1\n",
      "with hyperparameters: {'n_estimators': 76, 'max_depth': 451, 'min_samples_split': 14, 'max_features': 'sqrt', 'min_samples_leaf': 14, 'random_state': 760, 'n_jobs': -1}\n"
     ]
    },
    {
     "name": "stderr",
     "output_type": "stream",
     "text": [
      "\u001b[32m[I 2022-10-11 22:52:13,508]\u001b[0m Trial 1 finished with value: 3.550255895569721 and parameters: {'n_estimators': 76, 'max_depth': 451, 'min_samples_split': 14, 'max_features': 'sqrt', 'min_samples_leaf': 14}. Best is trial 1 with value: 3.550255895569721.\u001b[0m\n"
     ]
    },
    {
     "name": "stdout",
     "output_type": "stream",
     "text": [
      "complete! average cv RMSE: 3.550255895569721\n",
      "22:52:13 | Running Optuna Trial: 2\n",
      "with hyperparameters: {'n_estimators': 201, 'max_depth': 126, 'min_samples_split': 20, 'max_features': 'log2', 'min_samples_leaf': 14, 'random_state': 760, 'n_jobs': -1}\n"
     ]
    },
    {
     "name": "stderr",
     "output_type": "stream",
     "text": [
      "\u001b[32m[I 2022-10-11 22:52:23,067]\u001b[0m Trial 2 finished with value: 3.5397797498110166 and parameters: {'n_estimators': 201, 'max_depth': 126, 'min_samples_split': 20, 'max_features': 'log2', 'min_samples_leaf': 14}. Best is trial 2 with value: 3.5397797498110166.\u001b[0m\n"
     ]
    },
    {
     "name": "stdout",
     "output_type": "stream",
     "text": [
      "complete! average cv RMSE: 3.5397797498110166\n",
      "22:52:23 | Running Optuna Trial: 3\n",
      "with hyperparameters: {'n_estimators': 126, 'max_depth': 326, 'min_samples_split': 11, 'max_features': 'sqrt', 'min_samples_leaf': 19, 'random_state': 760, 'n_jobs': -1}\n"
     ]
    },
    {
     "name": "stderr",
     "output_type": "stream",
     "text": [
      "\u001b[32m[I 2022-10-11 22:52:29,233]\u001b[0m Trial 3 finished with value: 3.5647697001727083 and parameters: {'n_estimators': 126, 'max_depth': 326, 'min_samples_split': 11, 'max_features': 'sqrt', 'min_samples_leaf': 19}. Best is trial 2 with value: 3.5397797498110166.\u001b[0m\n"
     ]
    },
    {
     "name": "stdout",
     "output_type": "stream",
     "text": [
      "complete! average cv RMSE: 3.5647697001727083\n",
      "22:52:29 | Running Optuna Trial: 4\n",
      "with hyperparameters: {'n_estimators': 276, 'max_depth': 376, 'min_samples_split': 15, 'max_features': 'log2', 'min_samples_leaf': 7, 'random_state': 760, 'n_jobs': -1}\n"
     ]
    },
    {
     "name": "stderr",
     "output_type": "stream",
     "text": [
      "\u001b[32m[I 2022-10-11 22:52:42,870]\u001b[0m Trial 4 finished with value: 3.497260392222212 and parameters: {'n_estimators': 276, 'max_depth': 376, 'min_samples_split': 15, 'max_features': 'log2', 'min_samples_leaf': 7}. Best is trial 4 with value: 3.497260392222212.\u001b[0m\n"
     ]
    },
    {
     "name": "stdout",
     "output_type": "stream",
     "text": [
      "complete! average cv RMSE: 3.497260392222212\n",
      "22:52:42 | Running Optuna Trial: 5\n",
      "with hyperparameters: {'n_estimators': 151, 'max_depth': 401, 'min_samples_split': 17, 'max_features': 'sqrt', 'min_samples_leaf': 11, 'random_state': 760, 'n_jobs': -1}\n"
     ]
    },
    {
     "name": "stderr",
     "output_type": "stream",
     "text": [
      "\u001b[32m[I 2022-10-11 22:52:50,648]\u001b[0m Trial 5 finished with value: 3.528456086389194 and parameters: {'n_estimators': 151, 'max_depth': 401, 'min_samples_split': 17, 'max_features': 'sqrt', 'min_samples_leaf': 11}. Best is trial 4 with value: 3.497260392222212.\u001b[0m\n"
     ]
    },
    {
     "name": "stdout",
     "output_type": "stream",
     "text": [
      "complete! average cv RMSE: 3.528456086389194\n",
      "22:52:50 | Running Optuna Trial: 6\n",
      "with hyperparameters: {'n_estimators': 201, 'max_depth': 276, 'min_samples_split': 4, 'max_features': 'sqrt', 'min_samples_leaf': 11, 'random_state': 760, 'n_jobs': -1}\n"
     ]
    },
    {
     "name": "stderr",
     "output_type": "stream",
     "text": [
      "\u001b[32m[I 2022-10-11 22:53:00,448]\u001b[0m Trial 6 finished with value: 3.5276820960932147 and parameters: {'n_estimators': 201, 'max_depth': 276, 'min_samples_split': 4, 'max_features': 'sqrt', 'min_samples_leaf': 11}. Best is trial 4 with value: 3.497260392222212.\u001b[0m\n"
     ]
    },
    {
     "name": "stdout",
     "output_type": "stream",
     "text": [
      "complete! average cv RMSE: 3.5276820960932147\n",
      "22:53:00 | Running Optuna Trial: 7\n",
      "with hyperparameters: {'n_estimators': 126, 'max_depth': 401, 'min_samples_split': 7, 'max_features': 'log2', 'min_samples_leaf': 12, 'random_state': 760, 'n_jobs': -1}\n"
     ]
    },
    {
     "name": "stderr",
     "output_type": "stream",
     "text": [
      "\u001b[32m[I 2022-10-11 22:53:06,979]\u001b[0m Trial 7 finished with value: 3.53427011495877 and parameters: {'n_estimators': 126, 'max_depth': 401, 'min_samples_split': 7, 'max_features': 'log2', 'min_samples_leaf': 12}. Best is trial 4 with value: 3.497260392222212.\u001b[0m\n"
     ]
    },
    {
     "name": "stdout",
     "output_type": "stream",
     "text": [
      "complete! average cv RMSE: 3.53427011495877\n",
      "22:53:06 | Running Optuna Trial: 8\n",
      "with hyperparameters: {'n_estimators': 476, 'max_depth': 476, 'min_samples_split': 10, 'max_features': 'log2', 'min_samples_leaf': 13, 'random_state': 760, 'n_jobs': -1}\n"
     ]
    },
    {
     "name": "stderr",
     "output_type": "stream",
     "text": [
      "\u001b[32m[I 2022-10-11 22:53:27,574]\u001b[0m Trial 8 finished with value: 3.5328517980407157 and parameters: {'n_estimators': 476, 'max_depth': 476, 'min_samples_split': 10, 'max_features': 'log2', 'min_samples_leaf': 13}. Best is trial 4 with value: 3.497260392222212.\u001b[0m\n"
     ]
    },
    {
     "name": "stdout",
     "output_type": "stream",
     "text": [
      "complete! average cv RMSE: 3.5328517980407157\n",
      "22:53:27 | Running Optuna Trial: 9\n",
      "with hyperparameters: {'n_estimators': 301, 'max_depth': 251, 'min_samples_split': 15, 'max_features': 'log2', 'min_samples_leaf': 2, 'random_state': 760, 'n_jobs': -1}\n"
     ]
    },
    {
     "name": "stderr",
     "output_type": "stream",
     "text": [
      "\u001b[32m[I 2022-10-11 22:53:43,830]\u001b[0m Trial 9 finished with value: 3.4541826094083716 and parameters: {'n_estimators': 301, 'max_depth': 251, 'min_samples_split': 15, 'max_features': 'log2', 'min_samples_leaf': 2}. Best is trial 9 with value: 3.4541826094083716.\u001b[0m\n"
     ]
    },
    {
     "name": "stdout",
     "output_type": "stream",
     "text": [
      "complete! average cv RMSE: 3.4541826094083716\n",
      "22:53:43 | Running Optuna Trial: 10\n",
      "with hyperparameters: {'n_estimators': 351, 'max_depth': 176, 'min_samples_split': 20, 'max_features': 'log2', 'min_samples_leaf': 1, 'random_state': 760, 'n_jobs': -1}\n"
     ]
    },
    {
     "name": "stderr",
     "output_type": "stream",
     "text": [
      "\u001b[32m[I 2022-10-11 22:54:02,496]\u001b[0m Trial 10 finished with value: 3.4372242531812978 and parameters: {'n_estimators': 351, 'max_depth': 176, 'min_samples_split': 20, 'max_features': 'log2', 'min_samples_leaf': 1}. Best is trial 10 with value: 3.4372242531812978.\u001b[0m\n"
     ]
    },
    {
     "name": "stdout",
     "output_type": "stream",
     "text": [
      "complete! average cv RMSE: 3.4372242531812978\n",
      "22:54:02 | Running Optuna Trial: 11\n",
      "with hyperparameters: {'n_estimators': 351, 'max_depth': 176, 'min_samples_split': 19, 'max_features': 'log2', 'min_samples_leaf': 1, 'random_state': 760, 'n_jobs': -1}\n"
     ]
    },
    {
     "name": "stderr",
     "output_type": "stream",
     "text": [
      "\u001b[32m[I 2022-10-11 22:54:21,298]\u001b[0m Trial 11 finished with value: 3.4382501784376545 and parameters: {'n_estimators': 351, 'max_depth': 176, 'min_samples_split': 19, 'max_features': 'log2', 'min_samples_leaf': 1}. Best is trial 10 with value: 3.4372242531812978.\u001b[0m\n"
     ]
    },
    {
     "name": "stdout",
     "output_type": "stream",
     "text": [
      "complete! average cv RMSE: 3.4382501784376545\n",
      "22:54:21 | Running Optuna Trial: 12\n",
      "with hyperparameters: {'n_estimators': 376, 'max_depth': 151, 'min_samples_split': 20, 'max_features': 'log2', 'min_samples_leaf': 1, 'random_state': 760, 'n_jobs': -1}\n"
     ]
    },
    {
     "name": "stderr",
     "output_type": "stream",
     "text": [
      "\u001b[32m[I 2022-10-11 22:54:41,240]\u001b[0m Trial 12 finished with value: 3.4383611989776908 and parameters: {'n_estimators': 376, 'max_depth': 151, 'min_samples_split': 20, 'max_features': 'log2', 'min_samples_leaf': 1}. Best is trial 10 with value: 3.4372242531812978.\u001b[0m\n"
     ]
    },
    {
     "name": "stdout",
     "output_type": "stream",
     "text": [
      "complete! average cv RMSE: 3.4383611989776908\n",
      "22:54:41 | Running Optuna Trial: 13\n",
      "with hyperparameters: {'n_estimators': 401, 'max_depth': 176, 'min_samples_split': 18, 'max_features': 'log2', 'min_samples_leaf': 5, 'random_state': 760, 'n_jobs': -1}\n"
     ]
    },
    {
     "name": "stderr",
     "output_type": "stream",
     "text": [
      "\u001b[32m[I 2022-10-11 22:55:00,669]\u001b[0m Trial 13 finished with value: 3.4893669676163483 and parameters: {'n_estimators': 401, 'max_depth': 176, 'min_samples_split': 18, 'max_features': 'log2', 'min_samples_leaf': 5}. Best is trial 10 with value: 3.4372242531812978.\u001b[0m\n"
     ]
    },
    {
     "name": "stdout",
     "output_type": "stream",
     "text": [
      "complete! average cv RMSE: 3.4893669676163483\n",
      "22:55:00 | Running Optuna Trial: 14\n",
      "with hyperparameters: {'n_estimators': 351, 'max_depth': 1, 'min_samples_split': 18, 'max_features': 'log2', 'min_samples_leaf': 5, 'random_state': 760, 'n_jobs': -1}\n"
     ]
    },
    {
     "name": "stderr",
     "output_type": "stream",
     "text": [
      "\u001b[32m[I 2022-10-11 22:55:04,435]\u001b[0m Trial 14 finished with value: 3.980446879439289 and parameters: {'n_estimators': 351, 'max_depth': 1, 'min_samples_split': 18, 'max_features': 'log2', 'min_samples_leaf': 5}. Best is trial 10 with value: 3.4372242531812978.\u001b[0m\n"
     ]
    },
    {
     "name": "stdout",
     "output_type": "stream",
     "text": [
      "complete! average cv RMSE: 3.980446879439289\n",
      "22:55:04 | Running Optuna Trial: 15\n",
      "with hyperparameters: {'n_estimators': 426, 'max_depth': 201, 'min_samples_split': 13, 'max_features': 'log2', 'min_samples_leaf': 4, 'random_state': 760, 'n_jobs': -1}\n"
     ]
    },
    {
     "name": "stderr",
     "output_type": "stream",
     "text": [
      "\u001b[32m[I 2022-10-11 22:55:25,906]\u001b[0m Trial 15 finished with value: 3.4755255377145082 and parameters: {'n_estimators': 426, 'max_depth': 201, 'min_samples_split': 13, 'max_features': 'log2', 'min_samples_leaf': 4}. Best is trial 10 with value: 3.4372242531812978.\u001b[0m\n"
     ]
    },
    {
     "name": "stdout",
     "output_type": "stream",
     "text": [
      "complete! average cv RMSE: 3.4755255377145082\n",
      "22:55:25 | Running Optuna Trial: 16\n",
      "with hyperparameters: {'n_estimators': 326, 'max_depth': 101, 'min_samples_split': 20, 'max_features': 'log2', 'min_samples_leaf': 8, 'random_state': 760, 'n_jobs': -1}\n"
     ]
    },
    {
     "name": "stderr",
     "output_type": "stream",
     "text": [
      "\u001b[32m[I 2022-10-11 22:55:41,269]\u001b[0m Trial 16 finished with value: 3.507218009709124 and parameters: {'n_estimators': 326, 'max_depth': 101, 'min_samples_split': 20, 'max_features': 'log2', 'min_samples_leaf': 8}. Best is trial 10 with value: 3.4372242531812978.\u001b[0m\n"
     ]
    },
    {
     "name": "stdout",
     "output_type": "stream",
     "text": [
      "complete! average cv RMSE: 3.507218009709124\n",
      "22:55:41 | Running Optuna Trial: 17\n",
      "with hyperparameters: {'n_estimators': 476, 'max_depth': 226, 'min_samples_split': 8, 'max_features': 'log2', 'min_samples_leaf': 1, 'random_state': 760, 'n_jobs': -1}\n"
     ]
    },
    {
     "name": "stderr",
     "output_type": "stream",
     "text": [
      "\u001b[32m[I 2022-10-11 22:56:09,095]\u001b[0m Trial 17 finished with value: 3.414018633464817 and parameters: {'n_estimators': 476, 'max_depth': 226, 'min_samples_split': 8, 'max_features': 'log2', 'min_samples_leaf': 1}. Best is trial 17 with value: 3.414018633464817.\u001b[0m\n"
     ]
    },
    {
     "name": "stdout",
     "output_type": "stream",
     "text": [
      "complete! average cv RMSE: 3.414018633464817\n",
      "22:56:09 | Running Optuna Trial: 18\n",
      "with hyperparameters: {'n_estimators': 476, 'max_depth': 276, 'min_samples_split': 8, 'max_features': 'sqrt', 'min_samples_leaf': 8, 'random_state': 760, 'n_jobs': -1}\n"
     ]
    },
    {
     "name": "stderr",
     "output_type": "stream",
     "text": [
      "\u001b[32m[I 2022-10-11 22:56:31,239]\u001b[0m Trial 18 finished with value: 3.5031151942432075 and parameters: {'n_estimators': 476, 'max_depth': 276, 'min_samples_split': 8, 'max_features': 'sqrt', 'min_samples_leaf': 8}. Best is trial 17 with value: 3.414018633464817.\u001b[0m\n"
     ]
    },
    {
     "name": "stdout",
     "output_type": "stream",
     "text": [
      "complete! average cv RMSE: 3.5031151942432075\n",
      "22:56:31 | Running Optuna Trial: 19\n",
      "with hyperparameters: {'n_estimators': 426, 'max_depth': 76, 'min_samples_split': 8, 'max_features': 'log2', 'min_samples_leaf': 3, 'random_state': 760, 'n_jobs': -1}\n"
     ]
    },
    {
     "name": "stderr",
     "output_type": "stream",
     "text": [
      "\u001b[32m[I 2022-10-11 22:56:54,231]\u001b[0m Trial 19 finished with value: 3.460865763291231 and parameters: {'n_estimators': 426, 'max_depth': 76, 'min_samples_split': 8, 'max_features': 'log2', 'min_samples_leaf': 3}. Best is trial 17 with value: 3.414018633464817.\u001b[0m\n"
     ]
    },
    {
     "name": "stdout",
     "output_type": "stream",
     "text": [
      "complete! average cv RMSE: 3.460865763291231\n",
      "22:56:54 | Running Optuna Trial: 20\n",
      "with hyperparameters: {'n_estimators': 1, 'max_depth': 226, 'min_samples_split': 2, 'max_features': 'log2', 'min_samples_leaf': 6, 'random_state': 760, 'n_jobs': -1}\n"
     ]
    },
    {
     "name": "stderr",
     "output_type": "stream",
     "text": [
      "\u001b[32m[I 2022-10-11 22:56:55,792]\u001b[0m Trial 20 finished with value: 4.064509313000129 and parameters: {'n_estimators': 1, 'max_depth': 226, 'min_samples_split': 2, 'max_features': 'log2', 'min_samples_leaf': 6}. Best is trial 17 with value: 3.414018633464817.\u001b[0m\n"
     ]
    },
    {
     "name": "stdout",
     "output_type": "stream",
     "text": [
      "complete! average cv RMSE: 4.064509313000129\n",
      "22:56:55 | Running Optuna Trial: 21\n",
      "with hyperparameters: {'n_estimators': 251, 'max_depth': 176, 'min_samples_split': 12, 'max_features': 'log2', 'min_samples_leaf': 1, 'random_state': 760, 'n_jobs': -1}\n"
     ]
    },
    {
     "name": "stderr",
     "output_type": "stream",
     "text": [
      "\u001b[32m[I 2022-10-11 22:57:10,275]\u001b[0m Trial 21 finished with value: 3.4310788855537178 and parameters: {'n_estimators': 251, 'max_depth': 176, 'min_samples_split': 12, 'max_features': 'log2', 'min_samples_leaf': 1}. Best is trial 17 with value: 3.414018633464817.\u001b[0m\n"
     ]
    },
    {
     "name": "stdout",
     "output_type": "stream",
     "text": [
      "complete! average cv RMSE: 3.4310788855537178\n",
      "22:57:10 | Running Optuna Trial: 22\n",
      "with hyperparameters: {'n_estimators': 226, 'max_depth': 301, 'min_samples_split': 12, 'max_features': 'log2', 'min_samples_leaf': 3, 'random_state': 760, 'n_jobs': -1}\n"
     ]
    },
    {
     "name": "stderr",
     "output_type": "stream",
     "text": [
      "\u001b[32m[I 2022-10-11 22:57:22,704]\u001b[0m Trial 22 finished with value: 3.4664409031862533 and parameters: {'n_estimators': 226, 'max_depth': 301, 'min_samples_split': 12, 'max_features': 'log2', 'min_samples_leaf': 3}. Best is trial 17 with value: 3.414018633464817.\u001b[0m\n"
     ]
    },
    {
     "name": "stdout",
     "output_type": "stream",
     "text": [
      "complete! average cv RMSE: 3.4664409031862533\n",
      "22:57:22 | Running Optuna Trial: 23\n",
      "with hyperparameters: {'n_estimators': 301, 'max_depth': 201, 'min_samples_split': 6, 'max_features': 'log2', 'min_samples_leaf': 1, 'random_state': 760, 'n_jobs': -1}\n"
     ]
    },
    {
     "name": "stderr",
     "output_type": "stream",
     "text": [
      "\u001b[32m[I 2022-10-11 22:57:41,143]\u001b[0m Trial 23 finished with value: 3.4118042153423302 and parameters: {'n_estimators': 301, 'max_depth': 201, 'min_samples_split': 6, 'max_features': 'log2', 'min_samples_leaf': 1}. Best is trial 23 with value: 3.4118042153423302.\u001b[0m\n"
     ]
    },
    {
     "name": "stdout",
     "output_type": "stream",
     "text": [
      "complete! average cv RMSE: 3.4118042153423302\n",
      "22:57:41 | Running Optuna Trial: 24\n",
      "with hyperparameters: {'n_estimators': 276, 'max_depth': 326, 'min_samples_split': 10, 'max_features': 'log2', 'min_samples_leaf': 3, 'random_state': 760, 'n_jobs': -1}\n"
     ]
    },
    {
     "name": "stderr",
     "output_type": "stream",
     "text": [
      "\u001b[32m[I 2022-10-11 22:57:56,201]\u001b[0m Trial 24 finished with value: 3.4629470555838466 and parameters: {'n_estimators': 276, 'max_depth': 326, 'min_samples_split': 10, 'max_features': 'log2', 'min_samples_leaf': 3}. Best is trial 23 with value: 3.4118042153423302.\u001b[0m\n"
     ]
    },
    {
     "name": "stdout",
     "output_type": "stream",
     "text": [
      "complete! average cv RMSE: 3.4629470555838466\n",
      "22:57:56 | Running Optuna Trial: 25\n",
      "with hyperparameters: {'n_estimators': 251, 'max_depth': 226, 'min_samples_split': 5, 'max_features': 'log2', 'min_samples_leaf': 9, 'random_state': 760, 'n_jobs': -1}\n"
     ]
    },
    {
     "name": "stderr",
     "output_type": "stream",
     "text": [
      "\u001b[32m[I 2022-10-11 22:58:08,328]\u001b[0m Trial 25 finished with value: 3.5100167446039423 and parameters: {'n_estimators': 251, 'max_depth': 226, 'min_samples_split': 5, 'max_features': 'log2', 'min_samples_leaf': 9}. Best is trial 23 with value: 3.4118042153423302.\u001b[0m\n"
     ]
    },
    {
     "name": "stdout",
     "output_type": "stream",
     "text": [
      "complete! average cv RMSE: 3.5100167446039423\n",
      "22:58:08 | Running Optuna Trial: 26\n",
      "with hyperparameters: {'n_estimators': 176, 'max_depth': 126, 'min_samples_split': 7, 'max_features': 'sqrt', 'min_samples_leaf': 4, 'random_state': 760, 'n_jobs': -1}\n"
     ]
    },
    {
     "name": "stderr",
     "output_type": "stream",
     "text": [
      "\u001b[32m[I 2022-10-11 22:58:18,372]\u001b[0m Trial 26 finished with value: 3.464003513104482 and parameters: {'n_estimators': 176, 'max_depth': 126, 'min_samples_split': 7, 'max_features': 'sqrt', 'min_samples_leaf': 4}. Best is trial 23 with value: 3.4118042153423302.\u001b[0m\n"
     ]
    },
    {
     "name": "stdout",
     "output_type": "stream",
     "text": [
      "complete! average cv RMSE: 3.464003513104482\n",
      "22:58:18 | Running Optuna Trial: 27\n",
      "with hyperparameters: {'n_estimators': 301, 'max_depth': 226, 'min_samples_split': 9, 'max_features': 'log2', 'min_samples_leaf': 1, 'random_state': 760, 'n_jobs': -1}\n"
     ]
    },
    {
     "name": "stderr",
     "output_type": "stream",
     "text": [
      "\u001b[32m[I 2022-10-11 22:58:36,128]\u001b[0m Trial 27 finished with value: 3.417926103923361 and parameters: {'n_estimators': 301, 'max_depth': 226, 'min_samples_split': 9, 'max_features': 'log2', 'min_samples_leaf': 1}. Best is trial 23 with value: 3.4118042153423302.\u001b[0m\n"
     ]
    },
    {
     "name": "stdout",
     "output_type": "stream",
     "text": [
      "complete! average cv RMSE: 3.417926103923361\n",
      "22:58:36 | Running Optuna Trial: 28\n",
      "with hyperparameters: {'n_estimators': 451, 'max_depth': 251, 'min_samples_split': 9, 'max_features': 'log2', 'min_samples_leaf': 17, 'random_state': 760, 'n_jobs': -1}\n"
     ]
    },
    {
     "name": "stderr",
     "output_type": "stream",
     "text": [
      "\u001b[32m[I 2022-10-11 22:58:54,931]\u001b[0m Trial 28 finished with value: 3.550010145459711 and parameters: {'n_estimators': 451, 'max_depth': 251, 'min_samples_split': 9, 'max_features': 'log2', 'min_samples_leaf': 17}. Best is trial 23 with value: 3.4118042153423302.\u001b[0m\n"
     ]
    },
    {
     "name": "stdout",
     "output_type": "stream",
     "text": [
      "complete! average cv RMSE: 3.550010145459711\n",
      "22:58:54 | Running Optuna Trial: 29\n",
      "with hyperparameters: {'n_estimators': 401, 'max_depth': 26, 'min_samples_split': 5, 'max_features': 'log2', 'min_samples_leaf': 6, 'random_state': 760, 'n_jobs': -1}\n"
     ]
    },
    {
     "name": "stderr",
     "output_type": "stream",
     "text": [
      "\u001b[32m[I 2022-10-11 22:59:14,515]\u001b[0m Trial 29 finished with value: 3.4884878064984606 and parameters: {'n_estimators': 401, 'max_depth': 26, 'min_samples_split': 5, 'max_features': 'log2', 'min_samples_leaf': 6}. Best is trial 23 with value: 3.4118042153423302.\u001b[0m\n"
     ]
    },
    {
     "name": "stdout",
     "output_type": "stream",
     "text": [
      "complete! average cv RMSE: 3.4884878064984606\n",
      "22:59:14 | Running Optuna Trial: 30\n",
      "with hyperparameters: {'n_estimators': 301, 'max_depth': 351, 'min_samples_split': 6, 'max_features': 'log2', 'min_samples_leaf': 17, 'random_state': 760, 'n_jobs': -1}\n"
     ]
    },
    {
     "name": "stderr",
     "output_type": "stream",
     "text": [
      "\u001b[32m[I 2022-10-11 22:59:27,663]\u001b[0m Trial 30 finished with value: 3.5497056272570875 and parameters: {'n_estimators': 301, 'max_depth': 351, 'min_samples_split': 6, 'max_features': 'log2', 'min_samples_leaf': 17}. Best is trial 23 with value: 3.4118042153423302.\u001b[0m\n"
     ]
    },
    {
     "name": "stdout",
     "output_type": "stream",
     "text": [
      "complete! average cv RMSE: 3.5497056272570875\n",
      "22:59:27 | Running Optuna Trial: 31\n",
      "with hyperparameters: {'n_estimators': 226, 'max_depth': 201, 'min_samples_split': 3, 'max_features': 'log2', 'min_samples_leaf': 2, 'random_state': 760, 'n_jobs': -1}\n"
     ]
    },
    {
     "name": "stderr",
     "output_type": "stream",
     "text": [
      "\u001b[32m[I 2022-10-11 22:59:41,734]\u001b[0m Trial 31 finished with value: 3.438883952060288 and parameters: {'n_estimators': 226, 'max_depth': 201, 'min_samples_split': 3, 'max_features': 'log2', 'min_samples_leaf': 2}. Best is trial 23 with value: 3.4118042153423302.\u001b[0m\n"
     ]
    },
    {
     "name": "stdout",
     "output_type": "stream",
     "text": [
      "complete! average cv RMSE: 3.438883952060288\n",
      "22:59:41 | Running Optuna Trial: 32\n",
      "with hyperparameters: {'n_estimators': 276, 'max_depth': 201, 'min_samples_split': 11, 'max_features': 'log2', 'min_samples_leaf': 1, 'random_state': 760, 'n_jobs': -1}\n"
     ]
    },
    {
     "name": "stderr",
     "output_type": "stream",
     "text": [
      "\u001b[32m[I 2022-10-11 22:59:57,687]\u001b[0m Trial 32 finished with value: 3.4196331313471307 and parameters: {'n_estimators': 276, 'max_depth': 201, 'min_samples_split': 11, 'max_features': 'log2', 'min_samples_leaf': 1}. Best is trial 23 with value: 3.4118042153423302.\u001b[0m\n"
     ]
    },
    {
     "name": "stdout",
     "output_type": "stream",
     "text": [
      "complete! average cv RMSE: 3.4196331313471307\n",
      "22:59:57 | Running Optuna Trial: 33\n",
      "with hyperparameters: {'n_estimators': 301, 'max_depth': 276, 'min_samples_split': 9, 'max_features': 'log2', 'min_samples_leaf': 2, 'random_state': 760, 'n_jobs': -1}\n"
     ]
    },
    {
     "name": "stderr",
     "output_type": "stream",
     "text": [
      "\u001b[32m[I 2022-10-11 23:00:14,663]\u001b[0m Trial 33 finished with value: 3.4452875507044096 and parameters: {'n_estimators': 301, 'max_depth': 276, 'min_samples_split': 9, 'max_features': 'log2', 'min_samples_leaf': 2}. Best is trial 23 with value: 3.4118042153423302.\u001b[0m\n"
     ]
    },
    {
     "name": "stdout",
     "output_type": "stream",
     "text": [
      "complete! average cv RMSE: 3.4452875507044096\n",
      "23:00:14 | Running Optuna Trial: 34\n",
      "with hyperparameters: {'n_estimators': 326, 'max_depth': 126, 'min_samples_split': 7, 'max_features': 'sqrt', 'min_samples_leaf': 4, 'random_state': 760, 'n_jobs': -1}\n"
     ]
    },
    {
     "name": "stderr",
     "output_type": "stream",
     "text": [
      "\u001b[32m[I 2022-10-11 23:00:32,080]\u001b[0m Trial 34 finished with value: 3.464770508811545 and parameters: {'n_estimators': 326, 'max_depth': 126, 'min_samples_split': 7, 'max_features': 'sqrt', 'min_samples_leaf': 4}. Best is trial 23 with value: 3.4118042153423302.\u001b[0m\n"
     ]
    },
    {
     "name": "stdout",
     "output_type": "stream",
     "text": [
      "complete! average cv RMSE: 3.464770508811545\n",
      "23:00:32 | Running Optuna Trial: 35\n",
      "with hyperparameters: {'n_estimators': 76, 'max_depth': 226, 'min_samples_split': 10, 'max_features': 'log2', 'min_samples_leaf': 2, 'random_state': 760, 'n_jobs': -1}\n"
     ]
    },
    {
     "name": "stderr",
     "output_type": "stream",
     "text": [
      "\u001b[32m[I 2022-10-11 23:00:37,263]\u001b[0m Trial 35 finished with value: 3.4636024976476776 and parameters: {'n_estimators': 76, 'max_depth': 226, 'min_samples_split': 10, 'max_features': 'log2', 'min_samples_leaf': 2}. Best is trial 23 with value: 3.4118042153423302.\u001b[0m\n"
     ]
    },
    {
     "name": "stdout",
     "output_type": "stream",
     "text": [
      "complete! average cv RMSE: 3.4636024976476776\n",
      "23:00:37 | Running Optuna Trial: 36\n",
      "with hyperparameters: {'n_estimators': 276, 'max_depth': 201, 'min_samples_split': 11, 'max_features': 'log2', 'min_samples_leaf': 3, 'random_state': 760, 'n_jobs': -1}\n"
     ]
    },
    {
     "name": "stderr",
     "output_type": "stream",
     "text": [
      "\u001b[32m[I 2022-10-11 23:00:52,210]\u001b[0m Trial 36 finished with value: 3.462430666879128 and parameters: {'n_estimators': 276, 'max_depth': 201, 'min_samples_split': 11, 'max_features': 'log2', 'min_samples_leaf': 3}. Best is trial 23 with value: 3.4118042153423302.\u001b[0m\n"
     ]
    },
    {
     "name": "stdout",
     "output_type": "stream",
     "text": [
      "complete! average cv RMSE: 3.462430666879128\n",
      "23:00:52 | Running Optuna Trial: 37\n",
      "with hyperparameters: {'n_estimators': 201, 'max_depth': 151, 'min_samples_split': 8, 'max_features': 'sqrt', 'min_samples_leaf': 15, 'random_state': 760, 'n_jobs': -1}\n"
     ]
    },
    {
     "name": "stderr",
     "output_type": "stream",
     "text": [
      "\u001b[32m[I 2022-10-11 23:01:01,659]\u001b[0m Trial 37 finished with value: 3.542089838593204 and parameters: {'n_estimators': 201, 'max_depth': 151, 'min_samples_split': 8, 'max_features': 'sqrt', 'min_samples_leaf': 15}. Best is trial 23 with value: 3.4118042153423302.\u001b[0m\n"
     ]
    },
    {
     "name": "stdout",
     "output_type": "stream",
     "text": [
      "complete! average cv RMSE: 3.542089838593204\n",
      "23:01:01 | Running Optuna Trial: 38\n",
      "with hyperparameters: {'n_estimators': 376, 'max_depth': 301, 'min_samples_split': 6, 'max_features': 'log2', 'min_samples_leaf': 20, 'random_state': 760, 'n_jobs': -1}\n"
     ]
    },
    {
     "name": "stderr",
     "output_type": "stream",
     "text": [
      "\u001b[32m[I 2022-10-11 23:01:17,199]\u001b[0m Trial 38 finished with value: 3.5581600524689563 and parameters: {'n_estimators': 376, 'max_depth': 301, 'min_samples_split': 6, 'max_features': 'log2', 'min_samples_leaf': 20}. Best is trial 23 with value: 3.4118042153423302.\u001b[0m\n"
     ]
    },
    {
     "name": "stdout",
     "output_type": "stream",
     "text": [
      "complete! average cv RMSE: 3.5581600524689563\n",
      "23:01:17 | Running Optuna Trial: 39\n",
      "with hyperparameters: {'n_estimators': 176, 'max_depth': 251, 'min_samples_split': 14, 'max_features': 'log2', 'min_samples_leaf': 5, 'random_state': 760, 'n_jobs': -1}\n"
     ]
    },
    {
     "name": "stderr",
     "output_type": "stream",
     "text": [
      "\u001b[32m[I 2022-10-11 23:01:26,648]\u001b[0m Trial 39 finished with value: 3.486670411324957 and parameters: {'n_estimators': 176, 'max_depth': 251, 'min_samples_split': 14, 'max_features': 'log2', 'min_samples_leaf': 5}. Best is trial 23 with value: 3.4118042153423302.\u001b[0m\n"
     ]
    },
    {
     "name": "stdout",
     "output_type": "stream",
     "text": [
      "complete! average cv RMSE: 3.486670411324957\n",
      "23:01:26 | Running Optuna Trial: 40\n",
      "with hyperparameters: {'n_estimators': 76, 'max_depth': 101, 'min_samples_split': 4, 'max_features': 'sqrt', 'min_samples_leaf': 1, 'random_state': 760, 'n_jobs': -1}\n"
     ]
    },
    {
     "name": "stderr",
     "output_type": "stream",
     "text": [
      "\u001b[32m[I 2022-10-11 23:01:32,413]\u001b[0m Trial 40 finished with value: 3.4260345206281215 and parameters: {'n_estimators': 76, 'max_depth': 101, 'min_samples_split': 4, 'max_features': 'sqrt', 'min_samples_leaf': 1}. Best is trial 23 with value: 3.4118042153423302.\u001b[0m\n"
     ]
    },
    {
     "name": "stdout",
     "output_type": "stream",
     "text": [
      "complete! average cv RMSE: 3.4260345206281215\n",
      "23:01:32 | Running Optuna Trial: 41\n",
      "with hyperparameters: {'n_estimators': 76, 'max_depth': 76, 'min_samples_split': 4, 'max_features': 'sqrt', 'min_samples_leaf': 1, 'random_state': 760, 'n_jobs': -1}\n"
     ]
    },
    {
     "name": "stderr",
     "output_type": "stream",
     "text": [
      "\u001b[32m[I 2022-10-11 23:01:38,302]\u001b[0m Trial 41 finished with value: 3.4260345206281215 and parameters: {'n_estimators': 76, 'max_depth': 76, 'min_samples_split': 4, 'max_features': 'sqrt', 'min_samples_leaf': 1}. Best is trial 23 with value: 3.4118042153423302.\u001b[0m\n"
     ]
    },
    {
     "name": "stdout",
     "output_type": "stream",
     "text": [
      "complete! average cv RMSE: 3.4260345206281215\n",
      "23:01:38 | Running Optuna Trial: 42\n",
      "with hyperparameters: {'n_estimators': 26, 'max_depth': 151, 'min_samples_split': 4, 'max_features': 'sqrt', 'min_samples_leaf': 2, 'random_state': 760, 'n_jobs': -1}\n"
     ]
    },
    {
     "name": "stderr",
     "output_type": "stream",
     "text": [
      "\u001b[32m[I 2022-10-11 23:01:41,211]\u001b[0m Trial 42 finished with value: 3.4741350314826023 and parameters: {'n_estimators': 26, 'max_depth': 151, 'min_samples_split': 4, 'max_features': 'sqrt', 'min_samples_leaf': 2}. Best is trial 23 with value: 3.4118042153423302.\u001b[0m\n"
     ]
    },
    {
     "name": "stdout",
     "output_type": "stream",
     "text": [
      "complete! average cv RMSE: 3.4741350314826023\n",
      "23:01:41 | Running Optuna Trial: 43\n",
      "with hyperparameters: {'n_estimators': 126, 'max_depth': 101, 'min_samples_split': 6, 'max_features': 'sqrt', 'min_samples_leaf': 1, 'random_state': 760, 'n_jobs': -1}\n"
     ]
    },
    {
     "name": "stderr",
     "output_type": "stream",
     "text": [
      "\u001b[32m[I 2022-10-11 23:01:49,809]\u001b[0m Trial 43 finished with value: 3.4238525755417952 and parameters: {'n_estimators': 126, 'max_depth': 101, 'min_samples_split': 6, 'max_features': 'sqrt', 'min_samples_leaf': 1}. Best is trial 23 with value: 3.4118042153423302.\u001b[0m\n"
     ]
    },
    {
     "name": "stdout",
     "output_type": "stream",
     "text": [
      "complete! average cv RMSE: 3.4238525755417952\n",
      "==== EARLY STOPPING ACTIVATED ====\n"
     ]
    },
    {
     "name": "stderr",
     "output_type": "stream",
     "text": [
      "\u001b[32m[I 2022-10-11 23:01:54,076]\u001b[0m A new study created in memory with name: no-name-5f63fccc-687a-4c1d-aa92-75752e901f2c\u001b[0m\n"
     ]
    },
    {
     "name": "stdout",
     "output_type": "stream",
     "text": [
      "====== Running repetition: 3 ======\n",
      "23:01:54 | Running Optuna Trial: 0\n",
      "with hyperparameters: {'n_estimators': 51, 'max_depth': 51, 'min_samples_split': 5, 'max_features': 'log2', 'min_samples_leaf': 18, 'random_state': 760, 'n_jobs': -1}\n"
     ]
    },
    {
     "name": "stderr",
     "output_type": "stream",
     "text": [
      "\u001b[32m[I 2022-10-11 23:01:57,309]\u001b[0m Trial 0 finished with value: 3.5884942504284005 and parameters: {'n_estimators': 51, 'max_depth': 51, 'min_samples_split': 5, 'max_features': 'log2', 'min_samples_leaf': 18}. Best is trial 0 with value: 3.5884942504284005.\u001b[0m\n"
     ]
    },
    {
     "name": "stdout",
     "output_type": "stream",
     "text": [
      "complete! average cv RMSE: 3.5884942504284005\n",
      "23:01:57 | Running Optuna Trial: 1\n",
      "with hyperparameters: {'n_estimators': 76, 'max_depth': 451, 'min_samples_split': 14, 'max_features': 'sqrt', 'min_samples_leaf': 14, 'random_state': 760, 'n_jobs': -1}\n"
     ]
    },
    {
     "name": "stderr",
     "output_type": "stream",
     "text": [
      "\u001b[32m[I 2022-10-11 23:02:01,591]\u001b[0m Trial 1 finished with value: 3.5725459270453634 and parameters: {'n_estimators': 76, 'max_depth': 451, 'min_samples_split': 14, 'max_features': 'sqrt', 'min_samples_leaf': 14}. Best is trial 1 with value: 3.5725459270453634.\u001b[0m\n"
     ]
    },
    {
     "name": "stdout",
     "output_type": "stream",
     "text": [
      "complete! average cv RMSE: 3.5725459270453634\n",
      "23:02:01 | Running Optuna Trial: 2\n",
      "with hyperparameters: {'n_estimators': 201, 'max_depth': 126, 'min_samples_split': 20, 'max_features': 'log2', 'min_samples_leaf': 14, 'random_state': 760, 'n_jobs': -1}\n"
     ]
    },
    {
     "name": "stderr",
     "output_type": "stream",
     "text": [
      "\u001b[32m[I 2022-10-11 23:02:11,011]\u001b[0m Trial 2 finished with value: 3.5689347583925133 and parameters: {'n_estimators': 201, 'max_depth': 126, 'min_samples_split': 20, 'max_features': 'log2', 'min_samples_leaf': 14}. Best is trial 2 with value: 3.5689347583925133.\u001b[0m\n"
     ]
    },
    {
     "name": "stdout",
     "output_type": "stream",
     "text": [
      "complete! average cv RMSE: 3.5689347583925133\n",
      "23:02:11 | Running Optuna Trial: 3\n",
      "with hyperparameters: {'n_estimators': 126, 'max_depth': 326, 'min_samples_split': 11, 'max_features': 'sqrt', 'min_samples_leaf': 19, 'random_state': 760, 'n_jobs': -1}\n"
     ]
    },
    {
     "name": "stderr",
     "output_type": "stream",
     "text": [
      "\u001b[32m[I 2022-10-11 23:02:17,122]\u001b[0m Trial 3 finished with value: 3.5932032075855718 and parameters: {'n_estimators': 126, 'max_depth': 326, 'min_samples_split': 11, 'max_features': 'sqrt', 'min_samples_leaf': 19}. Best is trial 2 with value: 3.5689347583925133.\u001b[0m\n"
     ]
    },
    {
     "name": "stdout",
     "output_type": "stream",
     "text": [
      "complete! average cv RMSE: 3.5932032075855718\n",
      "23:02:17 | Running Optuna Trial: 4\n",
      "with hyperparameters: {'n_estimators': 276, 'max_depth': 376, 'min_samples_split': 15, 'max_features': 'log2', 'min_samples_leaf': 7, 'random_state': 760, 'n_jobs': -1}\n"
     ]
    },
    {
     "name": "stderr",
     "output_type": "stream",
     "text": [
      "\u001b[32m[I 2022-10-11 23:02:30,618]\u001b[0m Trial 4 finished with value: 3.5301543486597353 and parameters: {'n_estimators': 276, 'max_depth': 376, 'min_samples_split': 15, 'max_features': 'log2', 'min_samples_leaf': 7}. Best is trial 4 with value: 3.5301543486597353.\u001b[0m\n"
     ]
    },
    {
     "name": "stdout",
     "output_type": "stream",
     "text": [
      "complete! average cv RMSE: 3.5301543486597353\n",
      "23:02:30 | Running Optuna Trial: 5\n",
      "with hyperparameters: {'n_estimators': 151, 'max_depth': 401, 'min_samples_split': 17, 'max_features': 'sqrt', 'min_samples_leaf': 11, 'random_state': 760, 'n_jobs': -1}\n"
     ]
    },
    {
     "name": "stderr",
     "output_type": "stream",
     "text": [
      "\u001b[32m[I 2022-10-11 23:02:38,121]\u001b[0m Trial 5 finished with value: 3.5606396926731905 and parameters: {'n_estimators': 151, 'max_depth': 401, 'min_samples_split': 17, 'max_features': 'sqrt', 'min_samples_leaf': 11}. Best is trial 4 with value: 3.5301543486597353.\u001b[0m\n"
     ]
    },
    {
     "name": "stdout",
     "output_type": "stream",
     "text": [
      "complete! average cv RMSE: 3.5606396926731905\n",
      "23:02:38 | Running Optuna Trial: 6\n",
      "with hyperparameters: {'n_estimators': 201, 'max_depth': 276, 'min_samples_split': 4, 'max_features': 'sqrt', 'min_samples_leaf': 11, 'random_state': 760, 'n_jobs': -1}\n"
     ]
    },
    {
     "name": "stderr",
     "output_type": "stream",
     "text": [
      "\u001b[32m[I 2022-10-11 23:02:47,796]\u001b[0m Trial 6 finished with value: 3.5580461337486127 and parameters: {'n_estimators': 201, 'max_depth': 276, 'min_samples_split': 4, 'max_features': 'sqrt', 'min_samples_leaf': 11}. Best is trial 4 with value: 3.5301543486597353.\u001b[0m\n"
     ]
    },
    {
     "name": "stdout",
     "output_type": "stream",
     "text": [
      "complete! average cv RMSE: 3.5580461337486127\n",
      "23:02:47 | Running Optuna Trial: 7\n",
      "with hyperparameters: {'n_estimators': 126, 'max_depth': 401, 'min_samples_split': 7, 'max_features': 'log2', 'min_samples_leaf': 12, 'random_state': 760, 'n_jobs': -1}\n"
     ]
    },
    {
     "name": "stderr",
     "output_type": "stream",
     "text": [
      "\u001b[32m[I 2022-10-11 23:02:54,285]\u001b[0m Trial 7 finished with value: 3.5607770904284584 and parameters: {'n_estimators': 126, 'max_depth': 401, 'min_samples_split': 7, 'max_features': 'log2', 'min_samples_leaf': 12}. Best is trial 4 with value: 3.5301543486597353.\u001b[0m\n"
     ]
    },
    {
     "name": "stdout",
     "output_type": "stream",
     "text": [
      "complete! average cv RMSE: 3.5607770904284584\n",
      "23:02:54 | Running Optuna Trial: 8\n",
      "with hyperparameters: {'n_estimators': 476, 'max_depth': 476, 'min_samples_split': 10, 'max_features': 'log2', 'min_samples_leaf': 13, 'random_state': 760, 'n_jobs': -1}\n"
     ]
    },
    {
     "name": "stderr",
     "output_type": "stream",
     "text": [
      "\u001b[32m[I 2022-10-11 23:03:14,732]\u001b[0m Trial 8 finished with value: 3.5651162424350473 and parameters: {'n_estimators': 476, 'max_depth': 476, 'min_samples_split': 10, 'max_features': 'log2', 'min_samples_leaf': 13}. Best is trial 4 with value: 3.5301543486597353.\u001b[0m\n"
     ]
    },
    {
     "name": "stdout",
     "output_type": "stream",
     "text": [
      "complete! average cv RMSE: 3.5651162424350473\n",
      "23:03:14 | Running Optuna Trial: 9\n",
      "with hyperparameters: {'n_estimators': 301, 'max_depth': 251, 'min_samples_split': 15, 'max_features': 'log2', 'min_samples_leaf': 2, 'random_state': 760, 'n_jobs': -1}\n"
     ]
    },
    {
     "name": "stderr",
     "output_type": "stream",
     "text": [
      "\u001b[32m[I 2022-10-11 23:03:30,822]\u001b[0m Trial 9 finished with value: 3.4862264420337077 and parameters: {'n_estimators': 301, 'max_depth': 251, 'min_samples_split': 15, 'max_features': 'log2', 'min_samples_leaf': 2}. Best is trial 9 with value: 3.4862264420337077.\u001b[0m\n"
     ]
    },
    {
     "name": "stdout",
     "output_type": "stream",
     "text": [
      "complete! average cv RMSE: 3.4862264420337077\n",
      "23:03:30 | Running Optuna Trial: 10\n",
      "with hyperparameters: {'n_estimators': 351, 'max_depth': 176, 'min_samples_split': 20, 'max_features': 'log2', 'min_samples_leaf': 1, 'random_state': 760, 'n_jobs': -1}\n"
     ]
    },
    {
     "name": "stderr",
     "output_type": "stream",
     "text": [
      "\u001b[32m[I 2022-10-11 23:03:49,428]\u001b[0m Trial 10 finished with value: 3.4721301944943654 and parameters: {'n_estimators': 351, 'max_depth': 176, 'min_samples_split': 20, 'max_features': 'log2', 'min_samples_leaf': 1}. Best is trial 10 with value: 3.4721301944943654.\u001b[0m\n"
     ]
    },
    {
     "name": "stdout",
     "output_type": "stream",
     "text": [
      "complete! average cv RMSE: 3.4721301944943654\n",
      "23:03:49 | Running Optuna Trial: 11\n",
      "with hyperparameters: {'n_estimators': 351, 'max_depth': 176, 'min_samples_split': 19, 'max_features': 'log2', 'min_samples_leaf': 1, 'random_state': 760, 'n_jobs': -1}\n"
     ]
    },
    {
     "name": "stderr",
     "output_type": "stream",
     "text": [
      "\u001b[32m[I 2022-10-11 23:04:08,247]\u001b[0m Trial 11 finished with value: 3.4584112079160314 and parameters: {'n_estimators': 351, 'max_depth': 176, 'min_samples_split': 19, 'max_features': 'log2', 'min_samples_leaf': 1}. Best is trial 11 with value: 3.4584112079160314.\u001b[0m\n"
     ]
    },
    {
     "name": "stdout",
     "output_type": "stream",
     "text": [
      "complete! average cv RMSE: 3.4584112079160314\n",
      "23:04:08 | Running Optuna Trial: 12\n",
      "with hyperparameters: {'n_estimators': 376, 'max_depth': 151, 'min_samples_split': 20, 'max_features': 'log2', 'min_samples_leaf': 1, 'random_state': 760, 'n_jobs': -1}\n"
     ]
    },
    {
     "name": "stderr",
     "output_type": "stream",
     "text": [
      "\u001b[32m[I 2022-10-11 23:04:28,202]\u001b[0m Trial 12 finished with value: 3.471534356465969 and parameters: {'n_estimators': 376, 'max_depth': 151, 'min_samples_split': 20, 'max_features': 'log2', 'min_samples_leaf': 1}. Best is trial 11 with value: 3.4584112079160314.\u001b[0m\n"
     ]
    },
    {
     "name": "stdout",
     "output_type": "stream",
     "text": [
      "complete! average cv RMSE: 3.471534356465969\n",
      "23:04:28 | Running Optuna Trial: 13\n",
      "with hyperparameters: {'n_estimators': 401, 'max_depth': 1, 'min_samples_split': 17, 'max_features': 'log2', 'min_samples_leaf': 5, 'random_state': 760, 'n_jobs': -1}\n"
     ]
    },
    {
     "name": "stderr",
     "output_type": "stream",
     "text": [
      "\u001b[32m[I 2022-10-11 23:04:32,441]\u001b[0m Trial 13 finished with value: 4.006444262653211 and parameters: {'n_estimators': 401, 'max_depth': 1, 'min_samples_split': 17, 'max_features': 'log2', 'min_samples_leaf': 5}. Best is trial 11 with value: 3.4584112079160314.\u001b[0m\n"
     ]
    },
    {
     "name": "stdout",
     "output_type": "stream",
     "text": [
      "complete! average cv RMSE: 4.006444262653211\n",
      "23:04:32 | Running Optuna Trial: 14\n",
      "with hyperparameters: {'n_estimators': 451, 'max_depth': 176, 'min_samples_split': 18, 'max_features': 'log2', 'min_samples_leaf': 5, 'random_state': 760, 'n_jobs': -1}\n"
     ]
    },
    {
     "name": "stderr",
     "output_type": "stream",
     "text": [
      "\u001b[32m[I 2022-10-11 23:04:53,994]\u001b[0m Trial 14 finished with value: 3.5202799547793973 and parameters: {'n_estimators': 451, 'max_depth': 176, 'min_samples_split': 18, 'max_features': 'log2', 'min_samples_leaf': 5}. Best is trial 11 with value: 3.4584112079160314.\u001b[0m\n"
     ]
    },
    {
     "name": "stdout",
     "output_type": "stream",
     "text": [
      "complete! average cv RMSE: 3.5202799547793973\n",
      "23:04:53 | Running Optuna Trial: 15\n",
      "with hyperparameters: {'n_estimators': 351, 'max_depth': 101, 'min_samples_split': 13, 'max_features': 'log2', 'min_samples_leaf': 4, 'random_state': 760, 'n_jobs': -1}\n"
     ]
    },
    {
     "name": "stderr",
     "output_type": "stream",
     "text": [
      "\u001b[32m[I 2022-10-11 23:05:11,963]\u001b[0m Trial 15 finished with value: 3.5077686730165096 and parameters: {'n_estimators': 351, 'max_depth': 101, 'min_samples_split': 13, 'max_features': 'log2', 'min_samples_leaf': 4}. Best is trial 11 with value: 3.4584112079160314.\u001b[0m\n"
     ]
    },
    {
     "name": "stdout",
     "output_type": "stream",
     "text": [
      "complete! average cv RMSE: 3.5077686730165096\n",
      "23:05:11 | Running Optuna Trial: 16\n",
      "with hyperparameters: {'n_estimators': 401, 'max_depth': 151, 'min_samples_split': 20, 'max_features': 'log2', 'min_samples_leaf': 8, 'random_state': 760, 'n_jobs': -1}\n"
     ]
    },
    {
     "name": "stderr",
     "output_type": "stream",
     "text": [
      "\u001b[32m[I 2022-10-11 23:05:30,459]\u001b[0m Trial 16 finished with value: 3.538707854950912 and parameters: {'n_estimators': 401, 'max_depth': 151, 'min_samples_split': 20, 'max_features': 'log2', 'min_samples_leaf': 8}. Best is trial 11 with value: 3.4584112079160314.\u001b[0m\n"
     ]
    },
    {
     "name": "stdout",
     "output_type": "stream",
     "text": [
      "complete! average cv RMSE: 3.538707854950912\n",
      "23:05:30 | Running Optuna Trial: 17\n",
      "with hyperparameters: {'n_estimators': 326, 'max_depth': 226, 'min_samples_split': 8, 'max_features': 'log2', 'min_samples_leaf': 1, 'random_state': 760, 'n_jobs': -1}\n"
     ]
    },
    {
     "name": "stderr",
     "output_type": "stream",
     "text": [
      "\u001b[32m[I 2022-10-11 23:05:49,627]\u001b[0m Trial 17 finished with value: 3.44427161804997 and parameters: {'n_estimators': 326, 'max_depth': 226, 'min_samples_split': 8, 'max_features': 'log2', 'min_samples_leaf': 1}. Best is trial 17 with value: 3.44427161804997.\u001b[0m\n"
     ]
    },
    {
     "name": "stdout",
     "output_type": "stream",
     "text": [
      "complete! average cv RMSE: 3.44427161804997\n",
      "23:05:49 | Running Optuna Trial: 18\n",
      "with hyperparameters: {'n_estimators': 276, 'max_depth': 226, 'min_samples_split': 8, 'max_features': 'sqrt', 'min_samples_leaf': 8, 'random_state': 760, 'n_jobs': -1}\n"
     ]
    },
    {
     "name": "stderr",
     "output_type": "stream",
     "text": [
      "\u001b[32m[I 2022-10-11 23:06:03,037]\u001b[0m Trial 18 finished with value: 3.5344209999529026 and parameters: {'n_estimators': 276, 'max_depth': 226, 'min_samples_split': 8, 'max_features': 'sqrt', 'min_samples_leaf': 8}. Best is trial 17 with value: 3.44427161804997.\u001b[0m\n"
     ]
    },
    {
     "name": "stdout",
     "output_type": "stream",
     "text": [
      "complete! average cv RMSE: 3.5344209999529026\n",
      "23:06:03 | Running Optuna Trial: 19\n",
      "with hyperparameters: {'n_estimators': 326, 'max_depth': 301, 'min_samples_split': 9, 'max_features': 'log2', 'min_samples_leaf': 3, 'random_state': 760, 'n_jobs': -1}\n"
     ]
    },
    {
     "name": "stderr",
     "output_type": "stream",
     "text": [
      "\u001b[32m[I 2022-10-11 23:06:20,690]\u001b[0m Trial 19 finished with value: 3.4918318734158325 and parameters: {'n_estimators': 326, 'max_depth': 301, 'min_samples_split': 9, 'max_features': 'log2', 'min_samples_leaf': 3}. Best is trial 17 with value: 3.44427161804997.\u001b[0m\n"
     ]
    },
    {
     "name": "stdout",
     "output_type": "stream",
     "text": [
      "complete! average cv RMSE: 3.4918318734158325\n",
      "23:06:20 | Running Optuna Trial: 20\n",
      "with hyperparameters: {'n_estimators': 1, 'max_depth': 226, 'min_samples_split': 2, 'max_features': 'log2', 'min_samples_leaf': 6, 'random_state': 760, 'n_jobs': -1}\n"
     ]
    },
    {
     "name": "stderr",
     "output_type": "stream",
     "text": [
      "\u001b[32m[I 2022-10-11 23:06:22,175]\u001b[0m Trial 20 finished with value: 4.302983769102902 and parameters: {'n_estimators': 1, 'max_depth': 226, 'min_samples_split': 2, 'max_features': 'log2', 'min_samples_leaf': 6}. Best is trial 17 with value: 3.44427161804997.\u001b[0m\n"
     ]
    },
    {
     "name": "stdout",
     "output_type": "stream",
     "text": [
      "complete! average cv RMSE: 4.302983769102902\n",
      "23:06:22 | Running Optuna Trial: 21\n",
      "with hyperparameters: {'n_estimators': 401, 'max_depth': 101, 'min_samples_split': 12, 'max_features': 'log2', 'min_samples_leaf': 1, 'random_state': 760, 'n_jobs': -1}\n"
     ]
    },
    {
     "name": "stderr",
     "output_type": "stream",
     "text": [
      "\u001b[32m[I 2022-10-11 23:06:44,383]\u001b[0m Trial 21 finished with value: 3.4571333653866914 and parameters: {'n_estimators': 401, 'max_depth': 101, 'min_samples_split': 12, 'max_features': 'log2', 'min_samples_leaf': 1}. Best is trial 17 with value: 3.44427161804997.\u001b[0m\n"
     ]
    },
    {
     "name": "stdout",
     "output_type": "stream",
     "text": [
      "complete! average cv RMSE: 3.4571333653866914\n",
      "23:06:44 | Running Optuna Trial: 22\n",
      "with hyperparameters: {'n_estimators': 426, 'max_depth': 76, 'min_samples_split': 12, 'max_features': 'log2', 'min_samples_leaf': 3, 'random_state': 760, 'n_jobs': -1}\n"
     ]
    },
    {
     "name": "stderr",
     "output_type": "stream",
     "text": [
      "\u001b[32m[I 2022-10-11 23:07:06,290]\u001b[0m Trial 22 finished with value: 3.4952852875040485 and parameters: {'n_estimators': 426, 'max_depth': 76, 'min_samples_split': 12, 'max_features': 'log2', 'min_samples_leaf': 3}. Best is trial 17 with value: 3.44427161804997.\u001b[0m\n"
     ]
    },
    {
     "name": "stdout",
     "output_type": "stream",
     "text": [
      "complete! average cv RMSE: 3.4952852875040485\n",
      "23:07:06 | Running Optuna Trial: 23\n",
      "with hyperparameters: {'n_estimators': 251, 'max_depth': 26, 'min_samples_split': 6, 'max_features': 'log2', 'min_samples_leaf': 1, 'random_state': 760, 'n_jobs': -1}\n"
     ]
    },
    {
     "name": "stderr",
     "output_type": "stream",
     "text": [
      "\u001b[32m[I 2022-10-11 23:07:20,935]\u001b[0m Trial 23 finished with value: 3.443898661730959 and parameters: {'n_estimators': 251, 'max_depth': 26, 'min_samples_split': 6, 'max_features': 'log2', 'min_samples_leaf': 1}. Best is trial 23 with value: 3.443898661730959.\u001b[0m\n"
     ]
    },
    {
     "name": "stdout",
     "output_type": "stream",
     "text": [
      "complete! average cv RMSE: 3.443898661730959\n",
      "23:07:20 | Running Optuna Trial: 24\n",
      "with hyperparameters: {'n_estimators': 226, 'max_depth': 1, 'min_samples_split': 6, 'max_features': 'log2', 'min_samples_leaf': 3, 'random_state': 760, 'n_jobs': -1}\n"
     ]
    },
    {
     "name": "stderr",
     "output_type": "stream",
     "text": [
      "\u001b[32m[I 2022-10-11 23:07:23,672]\u001b[0m Trial 24 finished with value: 4.010117729801104 and parameters: {'n_estimators': 226, 'max_depth': 1, 'min_samples_split': 6, 'max_features': 'log2', 'min_samples_leaf': 3}. Best is trial 23 with value: 3.443898661730959.\u001b[0m\n"
     ]
    },
    {
     "name": "stdout",
     "output_type": "stream",
     "text": [
      "complete! average cv RMSE: 4.010117729801104\n",
      "23:07:23 | Running Optuna Trial: 25\n",
      "with hyperparameters: {'n_estimators': 251, 'max_depth': 51, 'min_samples_split': 9, 'max_features': 'log2', 'min_samples_leaf': 9, 'random_state': 760, 'n_jobs': -1}\n"
     ]
    },
    {
     "name": "stderr",
     "output_type": "stream",
     "text": [
      "\u001b[32m[I 2022-10-11 23:07:35,738]\u001b[0m Trial 25 finished with value: 3.544680179295022 and parameters: {'n_estimators': 251, 'max_depth': 51, 'min_samples_split': 9, 'max_features': 'log2', 'min_samples_leaf': 9}. Best is trial 23 with value: 3.443898661730959.\u001b[0m\n"
     ]
    },
    {
     "name": "stdout",
     "output_type": "stream",
     "text": [
      "complete! average cv RMSE: 3.544680179295022\n",
      "23:07:35 | Running Optuna Trial: 26\n",
      "with hyperparameters: {'n_estimators': 301, 'max_depth': 51, 'min_samples_split': 3, 'max_features': 'sqrt', 'min_samples_leaf': 4, 'random_state': 760, 'n_jobs': -1}\n"
     ]
    },
    {
     "name": "stderr",
     "output_type": "stream",
     "text": [
      "\u001b[32m[I 2022-10-11 23:07:51,949]\u001b[0m Trial 26 finished with value: 3.500871637763346 and parameters: {'n_estimators': 301, 'max_depth': 51, 'min_samples_split': 3, 'max_features': 'sqrt', 'min_samples_leaf': 4}. Best is trial 23 with value: 3.443898661730959.\u001b[0m\n"
     ]
    },
    {
     "name": "stdout",
     "output_type": "stream",
     "text": [
      "complete! average cv RMSE: 3.500871637763346\n",
      "23:07:51 | Running Optuna Trial: 27\n",
      "with hyperparameters: {'n_estimators': 426, 'max_depth': 101, 'min_samples_split': 7, 'max_features': 'log2', 'min_samples_leaf': 1, 'random_state': 760, 'n_jobs': -1}\n"
     ]
    },
    {
     "name": "stderr",
     "output_type": "stream",
     "text": [
      "\u001b[32m[I 2022-10-11 23:08:17,098]\u001b[0m Trial 27 finished with value: 3.4464441841735813 and parameters: {'n_estimators': 426, 'max_depth': 101, 'min_samples_split': 7, 'max_features': 'log2', 'min_samples_leaf': 1}. Best is trial 23 with value: 3.443898661730959.\u001b[0m\n"
     ]
    },
    {
     "name": "stdout",
     "output_type": "stream",
     "text": [
      "complete! average cv RMSE: 3.4464441841735813\n",
      "23:08:17 | Running Optuna Trial: 28\n",
      "with hyperparameters: {'n_estimators': 176, 'max_depth': 1, 'min_samples_split': 6, 'max_features': 'log2', 'min_samples_leaf': 17, 'random_state': 760, 'n_jobs': -1}\n"
     ]
    },
    {
     "name": "stderr",
     "output_type": "stream",
     "text": [
      "\u001b[32m[I 2022-10-11 23:08:19,397]\u001b[0m Trial 28 finished with value: 4.005823448394023 and parameters: {'n_estimators': 176, 'max_depth': 1, 'min_samples_split': 6, 'max_features': 'log2', 'min_samples_leaf': 17}. Best is trial 23 with value: 3.443898661730959.\u001b[0m\n"
     ]
    },
    {
     "name": "stdout",
     "output_type": "stream",
     "text": [
      "complete! average cv RMSE: 4.005823448394023\n",
      "23:08:19 | Running Optuna Trial: 29\n",
      "with hyperparameters: {'n_estimators': 476, 'max_depth': 51, 'min_samples_split': 5, 'max_features': 'log2', 'min_samples_leaf': 6, 'random_state': 760, 'n_jobs': -1}\n"
     ]
    },
    {
     "name": "stderr",
     "output_type": "stream",
     "text": [
      "\u001b[32m[I 2022-10-11 23:08:42,501]\u001b[0m Trial 29 finished with value: 3.5193953055381235 and parameters: {'n_estimators': 476, 'max_depth': 51, 'min_samples_split': 5, 'max_features': 'log2', 'min_samples_leaf': 6}. Best is trial 23 with value: 3.443898661730959.\u001b[0m\n"
     ]
    },
    {
     "name": "stdout",
     "output_type": "stream",
     "text": [
      "complete! average cv RMSE: 3.5193953055381235\n",
      "23:08:42 | Running Optuna Trial: 30\n",
      "with hyperparameters: {'n_estimators': 301, 'max_depth': 26, 'min_samples_split': 7, 'max_features': 'log2', 'min_samples_leaf': 17, 'random_state': 760, 'n_jobs': -1}\n"
     ]
    },
    {
     "name": "stderr",
     "output_type": "stream",
     "text": [
      "\u001b[32m[I 2022-10-11 23:08:55,629]\u001b[0m Trial 30 finished with value: 3.582255267113716 and parameters: {'n_estimators': 301, 'max_depth': 26, 'min_samples_split': 7, 'max_features': 'log2', 'min_samples_leaf': 17}. Best is trial 23 with value: 3.443898661730959.\u001b[0m\n"
     ]
    },
    {
     "name": "stdout",
     "output_type": "stream",
     "text": [
      "complete! average cv RMSE: 3.582255267113716\n",
      "23:08:55 | Running Optuna Trial: 31\n",
      "with hyperparameters: {'n_estimators': 426, 'max_depth': 76, 'min_samples_split': 10, 'max_features': 'log2', 'min_samples_leaf': 2, 'random_state': 760, 'n_jobs': -1}\n"
     ]
    },
    {
     "name": "stderr",
     "output_type": "stream",
     "text": [
      "\u001b[32m[I 2022-10-11 23:09:18,569]\u001b[0m Trial 31 finished with value: 3.478377877456959 and parameters: {'n_estimators': 426, 'max_depth': 76, 'min_samples_split': 10, 'max_features': 'log2', 'min_samples_leaf': 2}. Best is trial 23 with value: 3.443898661730959.\u001b[0m\n"
     ]
    },
    {
     "name": "stdout",
     "output_type": "stream",
     "text": [
      "complete! average cv RMSE: 3.478377877456959\n",
      "23:09:18 | Running Optuna Trial: 32\n",
      "with hyperparameters: {'n_estimators': 376, 'max_depth': 101, 'min_samples_split': 8, 'max_features': 'log2', 'min_samples_leaf': 1, 'random_state': 760, 'n_jobs': -1}\n"
     ]
    },
    {
     "name": "stderr",
     "output_type": "stream",
     "text": [
      "\u001b[32m[I 2022-10-11 23:09:40,520]\u001b[0m Trial 32 finished with value: 3.443675878089909 and parameters: {'n_estimators': 376, 'max_depth': 101, 'min_samples_split': 8, 'max_features': 'log2', 'min_samples_leaf': 1}. Best is trial 32 with value: 3.443675878089909.\u001b[0m\n"
     ]
    },
    {
     "name": "stdout",
     "output_type": "stream",
     "text": [
      "complete! average cv RMSE: 3.443675878089909\n",
      "23:09:40 | Running Optuna Trial: 33\n",
      "with hyperparameters: {'n_estimators': 376, 'max_depth': 126, 'min_samples_split': 5, 'max_features': 'log2', 'min_samples_leaf': 2, 'random_state': 760, 'n_jobs': -1}\n"
     ]
    },
    {
     "name": "stderr",
     "output_type": "stream",
     "text": [
      "\u001b[32m[I 2022-10-11 23:10:02,391]\u001b[0m Trial 33 finished with value: 3.4656917865300167 and parameters: {'n_estimators': 376, 'max_depth': 126, 'min_samples_split': 5, 'max_features': 'log2', 'min_samples_leaf': 2}. Best is trial 32 with value: 3.443675878089909.\u001b[0m\n"
     ]
    },
    {
     "name": "stdout",
     "output_type": "stream",
     "text": [
      "complete! average cv RMSE: 3.4656917865300167\n",
      "23:10:02 | Running Optuna Trial: 34\n",
      "with hyperparameters: {'n_estimators': 251, 'max_depth': 201, 'min_samples_split': 8, 'max_features': 'sqrt', 'min_samples_leaf': 4, 'random_state': 760, 'n_jobs': -1}\n"
     ]
    },
    {
     "name": "stderr",
     "output_type": "stream",
     "text": [
      "\u001b[32m[I 2022-10-11 23:10:16,117]\u001b[0m Trial 34 finished with value: 3.5020711298809317 and parameters: {'n_estimators': 251, 'max_depth': 201, 'min_samples_split': 8, 'max_features': 'sqrt', 'min_samples_leaf': 4}. Best is trial 32 with value: 3.443675878089909.\u001b[0m\n"
     ]
    },
    {
     "name": "stdout",
     "output_type": "stream",
     "text": [
      "complete! average cv RMSE: 3.5020711298809317\n",
      "23:10:16 | Running Optuna Trial: 35\n",
      "with hyperparameters: {'n_estimators': 326, 'max_depth': 101, 'min_samples_split': 7, 'max_features': 'log2', 'min_samples_leaf': 2, 'random_state': 760, 'n_jobs': -1}\n"
     ]
    },
    {
     "name": "stderr",
     "output_type": "stream",
     "text": [
      "\u001b[32m[I 2022-10-11 23:10:34,676]\u001b[0m Trial 35 finished with value: 3.4720028134860206 and parameters: {'n_estimators': 326, 'max_depth': 101, 'min_samples_split': 7, 'max_features': 'log2', 'min_samples_leaf': 2}. Best is trial 32 with value: 3.443675878089909.\u001b[0m\n"
     ]
    },
    {
     "name": "stdout",
     "output_type": "stream",
     "text": [
      "complete! average cv RMSE: 3.4720028134860206\n",
      "23:10:34 | Running Optuna Trial: 36\n",
      "with hyperparameters: {'n_estimators': 451, 'max_depth': 351, 'min_samples_split': 4, 'max_features': 'log2', 'min_samples_leaf': 3, 'random_state': 760, 'n_jobs': -1}\n"
     ]
    },
    {
     "name": "stderr",
     "output_type": "stream",
     "text": [
      "\u001b[32m[I 2022-10-11 23:10:59,505]\u001b[0m Trial 36 finished with value: 3.482244893178715 and parameters: {'n_estimators': 451, 'max_depth': 351, 'min_samples_split': 4, 'max_features': 'log2', 'min_samples_leaf': 3}. Best is trial 32 with value: 3.443675878089909.\u001b[0m\n"
     ]
    },
    {
     "name": "stdout",
     "output_type": "stream",
     "text": [
      "complete! average cv RMSE: 3.482244893178715\n",
      "23:10:59 | Running Optuna Trial: 37\n",
      "with hyperparameters: {'n_estimators': 226, 'max_depth': 126, 'min_samples_split': 9, 'max_features': 'sqrt', 'min_samples_leaf': 15, 'random_state': 760, 'n_jobs': -1}\n"
     ]
    },
    {
     "name": "stderr",
     "output_type": "stream",
     "text": [
      "\u001b[32m[I 2022-10-11 23:11:09,946]\u001b[0m Trial 37 finished with value: 3.577754206245848 and parameters: {'n_estimators': 226, 'max_depth': 126, 'min_samples_split': 9, 'max_features': 'sqrt', 'min_samples_leaf': 15}. Best is trial 32 with value: 3.443675878089909.\u001b[0m\n"
     ]
    },
    {
     "name": "stdout",
     "output_type": "stream",
     "text": [
      "complete! average cv RMSE: 3.577754206245848\n",
      "23:11:09 | Running Optuna Trial: 38\n",
      "with hyperparameters: {'n_estimators': 276, 'max_depth': 26, 'min_samples_split': 6, 'max_features': 'log2', 'min_samples_leaf': 20, 'random_state': 760, 'n_jobs': -1}\n"
     ]
    },
    {
     "name": "stderr",
     "output_type": "stream",
     "text": [
      "\u001b[32m[I 2022-10-11 23:11:21,631]\u001b[0m Trial 38 finished with value: 3.5956405602517307 and parameters: {'n_estimators': 276, 'max_depth': 26, 'min_samples_split': 6, 'max_features': 'log2', 'min_samples_leaf': 20}. Best is trial 32 with value: 3.443675878089909.\u001b[0m\n"
     ]
    },
    {
     "name": "stdout",
     "output_type": "stream",
     "text": [
      "complete! average cv RMSE: 3.5956405602517307\n",
      "23:11:21 | Running Optuna Trial: 39\n",
      "with hyperparameters: {'n_estimators': 376, 'max_depth': 76, 'min_samples_split': 8, 'max_features': 'log2', 'min_samples_leaf': 5, 'random_state': 760, 'n_jobs': -1}\n"
     ]
    },
    {
     "name": "stderr",
     "output_type": "stream",
     "text": [
      "\u001b[32m[I 2022-10-11 23:11:40,673]\u001b[0m Trial 39 finished with value: 3.508953297541473 and parameters: {'n_estimators': 376, 'max_depth': 76, 'min_samples_split': 8, 'max_features': 'log2', 'min_samples_leaf': 5}. Best is trial 32 with value: 3.443675878089909.\u001b[0m\n"
     ]
    },
    {
     "name": "stdout",
     "output_type": "stream",
     "text": [
      "complete! average cv RMSE: 3.508953297541473\n",
      "23:11:40 | Running Optuna Trial: 40\n",
      "with hyperparameters: {'n_estimators': 326, 'max_depth': 276, 'min_samples_split': 11, 'max_features': 'sqrt', 'min_samples_leaf': 1, 'random_state': 760, 'n_jobs': -1}\n"
     ]
    },
    {
     "name": "stderr",
     "output_type": "stream",
     "text": [
      "\u001b[32m[I 2022-10-11 23:11:59,270]\u001b[0m Trial 40 finished with value: 3.450297826499946 and parameters: {'n_estimators': 326, 'max_depth': 276, 'min_samples_split': 11, 'max_features': 'sqrt', 'min_samples_leaf': 1}. Best is trial 32 with value: 3.443675878089909.\u001b[0m\n"
     ]
    },
    {
     "name": "stdout",
     "output_type": "stream",
     "text": [
      "complete! average cv RMSE: 3.450297826499946\n",
      "23:11:59 | Running Optuna Trial: 41\n",
      "with hyperparameters: {'n_estimators': 351, 'max_depth': 301, 'min_samples_split': 11, 'max_features': 'sqrt', 'min_samples_leaf': 1, 'random_state': 760, 'n_jobs': -1}\n"
     ]
    },
    {
     "name": "stderr",
     "output_type": "stream",
     "text": [
      "\u001b[32m[I 2022-10-11 23:12:19,028]\u001b[0m Trial 41 finished with value: 3.45106461711662 and parameters: {'n_estimators': 351, 'max_depth': 301, 'min_samples_split': 11, 'max_features': 'sqrt', 'min_samples_leaf': 1}. Best is trial 32 with value: 3.443675878089909.\u001b[0m\n"
     ]
    },
    {
     "name": "stdout",
     "output_type": "stream",
     "text": [
      "complete! average cv RMSE: 3.45106461711662\n",
      "23:12:19 | Running Optuna Trial: 42\n",
      "with hyperparameters: {'n_estimators': 326, 'max_depth': 301, 'min_samples_split': 10, 'max_features': 'sqrt', 'min_samples_leaf': 2, 'random_state': 760, 'n_jobs': -1}\n"
     ]
    },
    {
     "name": "stderr",
     "output_type": "stream",
     "text": [
      "\u001b[32m[I 2022-10-11 23:12:37,019]\u001b[0m Trial 42 finished with value: 3.4764646519017455 and parameters: {'n_estimators': 326, 'max_depth': 301, 'min_samples_split': 10, 'max_features': 'sqrt', 'min_samples_leaf': 2}. Best is trial 32 with value: 3.443675878089909.\u001b[0m\n"
     ]
    },
    {
     "name": "stdout",
     "output_type": "stream",
     "text": [
      "complete! average cv RMSE: 3.4764646519017455\n",
      "23:12:37 | Running Optuna Trial: 43\n",
      "with hyperparameters: {'n_estimators': 76, 'max_depth': 251, 'min_samples_split': 4, 'max_features': 'sqrt', 'min_samples_leaf': 1, 'random_state': 760, 'n_jobs': -1}\n"
     ]
    },
    {
     "name": "stderr",
     "output_type": "stream",
     "text": [
      "\u001b[32m[I 2022-10-11 23:12:42,813]\u001b[0m Trial 43 finished with value: 3.4548615313757884 and parameters: {'n_estimators': 76, 'max_depth': 251, 'min_samples_split': 4, 'max_features': 'sqrt', 'min_samples_leaf': 1}. Best is trial 32 with value: 3.443675878089909.\u001b[0m\n"
     ]
    },
    {
     "name": "stdout",
     "output_type": "stream",
     "text": [
      "complete! average cv RMSE: 3.4548615313757884\n",
      "23:12:42 | Running Optuna Trial: 44\n",
      "with hyperparameters: {'n_estimators': 201, 'max_depth': 426, 'min_samples_split': 14, 'max_features': 'sqrt', 'min_samples_leaf': 3, 'random_state': 760, 'n_jobs': -1}\n"
     ]
    },
    {
     "name": "stderr",
     "output_type": "stream",
     "text": [
      "\u001b[32m[I 2022-10-11 23:12:53,944]\u001b[0m Trial 44 finished with value: 3.5030483820872234 and parameters: {'n_estimators': 201, 'max_depth': 426, 'min_samples_split': 14, 'max_features': 'sqrt', 'min_samples_leaf': 3}. Best is trial 32 with value: 3.443675878089909.\u001b[0m\n"
     ]
    },
    {
     "name": "stdout",
     "output_type": "stream",
     "text": [
      "complete! average cv RMSE: 3.5030483820872234\n",
      "23:12:53 | Running Optuna Trial: 45\n",
      "with hyperparameters: {'n_estimators': 426, 'max_depth': 326, 'min_samples_split': 11, 'max_features': 'sqrt', 'min_samples_leaf': 2, 'random_state': 760, 'n_jobs': -1}\n"
     ]
    },
    {
     "name": "stderr",
     "output_type": "stream",
     "text": [
      "\u001b[32m[I 2022-10-11 23:13:16,633]\u001b[0m Trial 45 finished with value: 3.47961982574211 and parameters: {'n_estimators': 426, 'max_depth': 326, 'min_samples_split': 11, 'max_features': 'sqrt', 'min_samples_leaf': 2}. Best is trial 32 with value: 3.443675878089909.\u001b[0m\n"
     ]
    },
    {
     "name": "stdout",
     "output_type": "stream",
     "text": [
      "complete! average cv RMSE: 3.47961982574211\n",
      "23:13:16 | Running Optuna Trial: 46\n",
      "with hyperparameters: {'n_estimators': 301, 'max_depth': 276, 'min_samples_split': 7, 'max_features': 'log2', 'min_samples_leaf': 4, 'random_state': 760, 'n_jobs': -1}\n"
     ]
    },
    {
     "name": "stderr",
     "output_type": "stream",
     "text": [
      "\u001b[32m[I 2022-10-11 23:13:32,847]\u001b[0m Trial 46 finished with value: 3.5008565065443817 and parameters: {'n_estimators': 301, 'max_depth': 276, 'min_samples_split': 7, 'max_features': 'log2', 'min_samples_leaf': 4}. Best is trial 32 with value: 3.443675878089909.\u001b[0m\n"
     ]
    },
    {
     "name": "stdout",
     "output_type": "stream",
     "text": [
      "complete! average cv RMSE: 3.5008565065443817\n",
      "23:13:32 | Running Optuna Trial: 47\n",
      "with hyperparameters: {'n_estimators': 376, 'max_depth': 201, 'min_samples_split': 8, 'max_features': 'sqrt', 'min_samples_leaf': 1, 'random_state': 760, 'n_jobs': -1}\n"
     ]
    },
    {
     "name": "stderr",
     "output_type": "stream",
     "text": [
      "\u001b[32m[I 2022-10-11 23:13:54,603]\u001b[0m Trial 47 finished with value: 3.443675878089909 and parameters: {'n_estimators': 376, 'max_depth': 201, 'min_samples_split': 8, 'max_features': 'sqrt', 'min_samples_leaf': 1}. Best is trial 32 with value: 3.443675878089909.\u001b[0m\n"
     ]
    },
    {
     "name": "stdout",
     "output_type": "stream",
     "text": [
      "complete! average cv RMSE: 3.443675878089909\n",
      "23:13:54 | Running Optuna Trial: 48\n",
      "with hyperparameters: {'n_estimators': 376, 'max_depth': 201, 'min_samples_split': 8, 'max_features': 'log2', 'min_samples_leaf': 10, 'random_state': 760, 'n_jobs': -1}\n"
     ]
    },
    {
     "name": "stderr",
     "output_type": "stream",
     "text": [
      "\u001b[32m[I 2022-10-11 23:14:11,809]\u001b[0m Trial 48 finished with value: 3.5472363419556325 and parameters: {'n_estimators': 376, 'max_depth': 201, 'min_samples_split': 8, 'max_features': 'log2', 'min_samples_leaf': 10}. Best is trial 32 with value: 3.443675878089909.\u001b[0m\n"
     ]
    },
    {
     "name": "stdout",
     "output_type": "stream",
     "text": [
      "complete! average cv RMSE: 3.5472363419556325\n",
      "23:14:11 | Running Optuna Trial: 49\n",
      "with hyperparameters: {'n_estimators': 451, 'max_depth': 151, 'min_samples_split': 6, 'max_features': 'log2', 'min_samples_leaf': 6, 'random_state': 760, 'n_jobs': -1}\n"
     ]
    },
    {
     "name": "stderr",
     "output_type": "stream",
     "text": [
      "\u001b[32m[I 2022-10-11 23:14:33,889]\u001b[0m Trial 49 finished with value: 3.5192798338563565 and parameters: {'n_estimators': 451, 'max_depth': 151, 'min_samples_split': 6, 'max_features': 'log2', 'min_samples_leaf': 6}. Best is trial 32 with value: 3.443675878089909.\u001b[0m\n"
     ]
    },
    {
     "name": "stdout",
     "output_type": "stream",
     "text": [
      "complete! average cv RMSE: 3.5192798338563565\n"
     ]
    },
    {
     "name": "stderr",
     "output_type": "stream",
     "text": [
      "\u001b[32m[I 2022-10-11 23:14:39,095]\u001b[0m A new study created in memory with name: no-name-9ef949a6-eb8e-4c87-853c-3cab21ad81cf\u001b[0m\n"
     ]
    },
    {
     "name": "stdout",
     "output_type": "stream",
     "text": [
      "====== Running repetition: 4 ======\n",
      "23:14:39 | Running Optuna Trial: 0\n",
      "with hyperparameters: {'n_estimators': 51, 'max_depth': 51, 'min_samples_split': 5, 'max_features': 'log2', 'min_samples_leaf': 18, 'random_state': 760, 'n_jobs': -1}\n"
     ]
    },
    {
     "name": "stderr",
     "output_type": "stream",
     "text": [
      "\u001b[32m[I 2022-10-11 23:14:42,454]\u001b[0m Trial 0 finished with value: 3.588479001747391 and parameters: {'n_estimators': 51, 'max_depth': 51, 'min_samples_split': 5, 'max_features': 'log2', 'min_samples_leaf': 18}. Best is trial 0 with value: 3.588479001747391.\u001b[0m\n"
     ]
    },
    {
     "name": "stdout",
     "output_type": "stream",
     "text": [
      "complete! average cv RMSE: 3.588479001747391\n",
      "23:14:42 | Running Optuna Trial: 1\n",
      "with hyperparameters: {'n_estimators': 76, 'max_depth': 451, 'min_samples_split': 14, 'max_features': 'sqrt', 'min_samples_leaf': 14, 'random_state': 760, 'n_jobs': -1}\n"
     ]
    },
    {
     "name": "stderr",
     "output_type": "stream",
     "text": [
      "\u001b[32m[I 2022-10-11 23:14:46,712]\u001b[0m Trial 1 finished with value: 3.570560657013453 and parameters: {'n_estimators': 76, 'max_depth': 451, 'min_samples_split': 14, 'max_features': 'sqrt', 'min_samples_leaf': 14}. Best is trial 1 with value: 3.570560657013453.\u001b[0m\n"
     ]
    },
    {
     "name": "stdout",
     "output_type": "stream",
     "text": [
      "complete! average cv RMSE: 3.570560657013453\n",
      "23:14:46 | Running Optuna Trial: 2\n",
      "with hyperparameters: {'n_estimators': 201, 'max_depth': 126, 'min_samples_split': 20, 'max_features': 'log2', 'min_samples_leaf': 14, 'random_state': 760, 'n_jobs': -1}\n"
     ]
    },
    {
     "name": "stderr",
     "output_type": "stream",
     "text": [
      "\u001b[32m[I 2022-10-11 23:14:56,091]\u001b[0m Trial 2 finished with value: 3.565669947849681 and parameters: {'n_estimators': 201, 'max_depth': 126, 'min_samples_split': 20, 'max_features': 'log2', 'min_samples_leaf': 14}. Best is trial 2 with value: 3.565669947849681.\u001b[0m\n"
     ]
    },
    {
     "name": "stdout",
     "output_type": "stream",
     "text": [
      "complete! average cv RMSE: 3.565669947849681\n",
      "23:14:56 | Running Optuna Trial: 3\n",
      "with hyperparameters: {'n_estimators': 126, 'max_depth': 326, 'min_samples_split': 11, 'max_features': 'sqrt', 'min_samples_leaf': 19, 'random_state': 760, 'n_jobs': -1}\n"
     ]
    },
    {
     "name": "stderr",
     "output_type": "stream",
     "text": [
      "\u001b[32m[I 2022-10-11 23:15:02,246]\u001b[0m Trial 3 finished with value: 3.586813596288773 and parameters: {'n_estimators': 126, 'max_depth': 326, 'min_samples_split': 11, 'max_features': 'sqrt', 'min_samples_leaf': 19}. Best is trial 2 with value: 3.565669947849681.\u001b[0m\n"
     ]
    },
    {
     "name": "stdout",
     "output_type": "stream",
     "text": [
      "complete! average cv RMSE: 3.586813596288773\n",
      "23:15:02 | Running Optuna Trial: 4\n",
      "with hyperparameters: {'n_estimators': 276, 'max_depth': 376, 'min_samples_split': 15, 'max_features': 'log2', 'min_samples_leaf': 7, 'random_state': 760, 'n_jobs': -1}\n"
     ]
    },
    {
     "name": "stderr",
     "output_type": "stream",
     "text": [
      "\u001b[32m[I 2022-10-11 23:15:15,727]\u001b[0m Trial 4 finished with value: 3.5263785977279922 and parameters: {'n_estimators': 276, 'max_depth': 376, 'min_samples_split': 15, 'max_features': 'log2', 'min_samples_leaf': 7}. Best is trial 4 with value: 3.5263785977279922.\u001b[0m\n"
     ]
    },
    {
     "name": "stdout",
     "output_type": "stream",
     "text": [
      "complete! average cv RMSE: 3.5263785977279922\n",
      "23:15:15 | Running Optuna Trial: 5\n",
      "with hyperparameters: {'n_estimators': 151, 'max_depth': 401, 'min_samples_split': 17, 'max_features': 'sqrt', 'min_samples_leaf': 11, 'random_state': 760, 'n_jobs': -1}\n"
     ]
    },
    {
     "name": "stderr",
     "output_type": "stream",
     "text": [
      "\u001b[32m[I 2022-10-11 23:15:23,431]\u001b[0m Trial 5 finished with value: 3.5511023105366606 and parameters: {'n_estimators': 151, 'max_depth': 401, 'min_samples_split': 17, 'max_features': 'sqrt', 'min_samples_leaf': 11}. Best is trial 4 with value: 3.5263785977279922.\u001b[0m\n"
     ]
    },
    {
     "name": "stdout",
     "output_type": "stream",
     "text": [
      "complete! average cv RMSE: 3.5511023105366606\n",
      "23:15:23 | Running Optuna Trial: 6\n",
      "with hyperparameters: {'n_estimators': 201, 'max_depth': 276, 'min_samples_split': 4, 'max_features': 'sqrt', 'min_samples_leaf': 11, 'random_state': 760, 'n_jobs': -1}\n"
     ]
    },
    {
     "name": "stderr",
     "output_type": "stream",
     "text": [
      "\u001b[32m[I 2022-10-11 23:15:33,115]\u001b[0m Trial 6 finished with value: 3.5494733420184685 and parameters: {'n_estimators': 201, 'max_depth': 276, 'min_samples_split': 4, 'max_features': 'sqrt', 'min_samples_leaf': 11}. Best is trial 4 with value: 3.5263785977279922.\u001b[0m\n"
     ]
    },
    {
     "name": "stdout",
     "output_type": "stream",
     "text": [
      "complete! average cv RMSE: 3.5494733420184685\n",
      "23:15:33 | Running Optuna Trial: 7\n",
      "with hyperparameters: {'n_estimators': 126, 'max_depth': 401, 'min_samples_split': 7, 'max_features': 'log2', 'min_samples_leaf': 12, 'random_state': 760, 'n_jobs': -1}\n"
     ]
    },
    {
     "name": "stderr",
     "output_type": "stream",
     "text": [
      "\u001b[32m[I 2022-10-11 23:15:39,605]\u001b[0m Trial 7 finished with value: 3.5630671878539517 and parameters: {'n_estimators': 126, 'max_depth': 401, 'min_samples_split': 7, 'max_features': 'log2', 'min_samples_leaf': 12}. Best is trial 4 with value: 3.5263785977279922.\u001b[0m\n"
     ]
    },
    {
     "name": "stdout",
     "output_type": "stream",
     "text": [
      "complete! average cv RMSE: 3.5630671878539517\n",
      "23:15:39 | Running Optuna Trial: 8\n",
      "with hyperparameters: {'n_estimators': 476, 'max_depth': 476, 'min_samples_split': 10, 'max_features': 'log2', 'min_samples_leaf': 13, 'random_state': 760, 'n_jobs': -1}\n"
     ]
    },
    {
     "name": "stderr",
     "output_type": "stream",
     "text": [
      "\u001b[32m[I 2022-10-11 23:16:00,069]\u001b[0m Trial 8 finished with value: 3.559377157426212 and parameters: {'n_estimators': 476, 'max_depth': 476, 'min_samples_split': 10, 'max_features': 'log2', 'min_samples_leaf': 13}. Best is trial 4 with value: 3.5263785977279922.\u001b[0m\n"
     ]
    },
    {
     "name": "stdout",
     "output_type": "stream",
     "text": [
      "complete! average cv RMSE: 3.559377157426212\n",
      "23:16:00 | Running Optuna Trial: 9\n",
      "with hyperparameters: {'n_estimators': 301, 'max_depth': 251, 'min_samples_split': 15, 'max_features': 'log2', 'min_samples_leaf': 2, 'random_state': 760, 'n_jobs': -1}\n"
     ]
    },
    {
     "name": "stderr",
     "output_type": "stream",
     "text": [
      "\u001b[32m[I 2022-10-11 23:16:16,156]\u001b[0m Trial 9 finished with value: 3.485878989163819 and parameters: {'n_estimators': 301, 'max_depth': 251, 'min_samples_split': 15, 'max_features': 'log2', 'min_samples_leaf': 2}. Best is trial 9 with value: 3.485878989163819.\u001b[0m\n"
     ]
    },
    {
     "name": "stdout",
     "output_type": "stream",
     "text": [
      "complete! average cv RMSE: 3.485878989163819\n",
      "23:16:16 | Running Optuna Trial: 10\n",
      "with hyperparameters: {'n_estimators': 351, 'max_depth': 176, 'min_samples_split': 20, 'max_features': 'log2', 'min_samples_leaf': 1, 'random_state': 760, 'n_jobs': -1}\n"
     ]
    },
    {
     "name": "stderr",
     "output_type": "stream",
     "text": [
      "\u001b[32m[I 2022-10-11 23:16:34,691]\u001b[0m Trial 10 finished with value: 3.471516238461723 and parameters: {'n_estimators': 351, 'max_depth': 176, 'min_samples_split': 20, 'max_features': 'log2', 'min_samples_leaf': 1}. Best is trial 10 with value: 3.471516238461723.\u001b[0m\n"
     ]
    },
    {
     "name": "stdout",
     "output_type": "stream",
     "text": [
      "complete! average cv RMSE: 3.471516238461723\n",
      "23:16:34 | Running Optuna Trial: 11\n",
      "with hyperparameters: {'n_estimators': 351, 'max_depth': 176, 'min_samples_split': 19, 'max_features': 'log2', 'min_samples_leaf': 1, 'random_state': 760, 'n_jobs': -1}\n"
     ]
    },
    {
     "name": "stderr",
     "output_type": "stream",
     "text": [
      "\u001b[32m[I 2022-10-11 23:16:53,346]\u001b[0m Trial 11 finished with value: 3.4687764793073987 and parameters: {'n_estimators': 351, 'max_depth': 176, 'min_samples_split': 19, 'max_features': 'log2', 'min_samples_leaf': 1}. Best is trial 11 with value: 3.4687764793073987.\u001b[0m\n"
     ]
    },
    {
     "name": "stdout",
     "output_type": "stream",
     "text": [
      "complete! average cv RMSE: 3.4687764793073987\n",
      "23:16:53 | Running Optuna Trial: 12\n",
      "with hyperparameters: {'n_estimators': 376, 'max_depth': 151, 'min_samples_split': 20, 'max_features': 'log2', 'min_samples_leaf': 1, 'random_state': 760, 'n_jobs': -1}\n"
     ]
    },
    {
     "name": "stderr",
     "output_type": "stream",
     "text": [
      "\u001b[32m[I 2022-10-11 23:17:13,203]\u001b[0m Trial 12 finished with value: 3.4724915859529815 and parameters: {'n_estimators': 376, 'max_depth': 151, 'min_samples_split': 20, 'max_features': 'log2', 'min_samples_leaf': 1}. Best is trial 11 with value: 3.4687764793073987.\u001b[0m\n"
     ]
    },
    {
     "name": "stdout",
     "output_type": "stream",
     "text": [
      "complete! average cv RMSE: 3.4724915859529815\n",
      "23:17:13 | Running Optuna Trial: 13\n",
      "with hyperparameters: {'n_estimators': 401, 'max_depth': 176, 'min_samples_split': 18, 'max_features': 'log2', 'min_samples_leaf': 5, 'random_state': 760, 'n_jobs': -1}\n"
     ]
    },
    {
     "name": "stderr",
     "output_type": "stream",
     "text": [
      "\u001b[32m[I 2022-10-11 23:17:32,568]\u001b[0m Trial 13 finished with value: 3.5157097544708664 and parameters: {'n_estimators': 401, 'max_depth': 176, 'min_samples_split': 18, 'max_features': 'log2', 'min_samples_leaf': 5}. Best is trial 11 with value: 3.4687764793073987.\u001b[0m\n"
     ]
    },
    {
     "name": "stdout",
     "output_type": "stream",
     "text": [
      "complete! average cv RMSE: 3.5157097544708664\n",
      "23:17:32 | Running Optuna Trial: 14\n",
      "with hyperparameters: {'n_estimators': 351, 'max_depth': 1, 'min_samples_split': 18, 'max_features': 'log2', 'min_samples_leaf': 5, 'random_state': 760, 'n_jobs': -1}\n"
     ]
    },
    {
     "name": "stderr",
     "output_type": "stream",
     "text": [
      "\u001b[32m[I 2022-10-11 23:17:35,929]\u001b[0m Trial 14 finished with value: 3.995108968953842 and parameters: {'n_estimators': 351, 'max_depth': 1, 'min_samples_split': 18, 'max_features': 'log2', 'min_samples_leaf': 5}. Best is trial 11 with value: 3.4687764793073987.\u001b[0m\n"
     ]
    },
    {
     "name": "stdout",
     "output_type": "stream",
     "text": [
      "complete! average cv RMSE: 3.995108968953842\n",
      "23:17:35 | Running Optuna Trial: 15\n",
      "with hyperparameters: {'n_estimators': 426, 'max_depth': 201, 'min_samples_split': 13, 'max_features': 'log2', 'min_samples_leaf': 4, 'random_state': 760, 'n_jobs': -1}\n"
     ]
    },
    {
     "name": "stderr",
     "output_type": "stream",
     "text": [
      "\u001b[32m[I 2022-10-11 23:17:57,423]\u001b[0m Trial 15 finished with value: 3.501610098854333 and parameters: {'n_estimators': 426, 'max_depth': 201, 'min_samples_split': 13, 'max_features': 'log2', 'min_samples_leaf': 4}. Best is trial 11 with value: 3.4687764793073987.\u001b[0m\n"
     ]
    },
    {
     "name": "stdout",
     "output_type": "stream",
     "text": [
      "complete! average cv RMSE: 3.501610098854333\n",
      "23:17:57 | Running Optuna Trial: 16\n",
      "with hyperparameters: {'n_estimators': 326, 'max_depth': 101, 'min_samples_split': 20, 'max_features': 'log2', 'min_samples_leaf': 8, 'random_state': 760, 'n_jobs': -1}\n"
     ]
    },
    {
     "name": "stderr",
     "output_type": "stream",
     "text": [
      "\u001b[32m[I 2022-10-11 23:18:12,792]\u001b[0m Trial 16 finished with value: 3.5363624633117183 and parameters: {'n_estimators': 326, 'max_depth': 101, 'min_samples_split': 20, 'max_features': 'log2', 'min_samples_leaf': 8}. Best is trial 11 with value: 3.4687764793073987.\u001b[0m\n"
     ]
    },
    {
     "name": "stdout",
     "output_type": "stream",
     "text": [
      "complete! average cv RMSE: 3.5363624633117183\n",
      "23:18:12 | Running Optuna Trial: 17\n",
      "with hyperparameters: {'n_estimators': 476, 'max_depth': 226, 'min_samples_split': 8, 'max_features': 'log2', 'min_samples_leaf': 1, 'random_state': 760, 'n_jobs': -1}\n"
     ]
    },
    {
     "name": "stderr",
     "output_type": "stream",
     "text": [
      "\u001b[32m[I 2022-10-11 23:18:40,161]\u001b[0m Trial 17 finished with value: 3.4538109916973125 and parameters: {'n_estimators': 476, 'max_depth': 226, 'min_samples_split': 8, 'max_features': 'log2', 'min_samples_leaf': 1}. Best is trial 17 with value: 3.4538109916973125.\u001b[0m\n"
     ]
    },
    {
     "name": "stdout",
     "output_type": "stream",
     "text": [
      "complete! average cv RMSE: 3.4538109916973125\n",
      "23:18:40 | Running Optuna Trial: 18\n",
      "with hyperparameters: {'n_estimators': 476, 'max_depth': 276, 'min_samples_split': 8, 'max_features': 'sqrt', 'min_samples_leaf': 8, 'random_state': 760, 'n_jobs': -1}\n"
     ]
    },
    {
     "name": "stderr",
     "output_type": "stream",
     "text": [
      "\u001b[32m[I 2022-10-11 23:19:02,151]\u001b[0m Trial 18 finished with value: 3.5292417053633436 and parameters: {'n_estimators': 476, 'max_depth': 276, 'min_samples_split': 8, 'max_features': 'sqrt', 'min_samples_leaf': 8}. Best is trial 17 with value: 3.4538109916973125.\u001b[0m\n"
     ]
    },
    {
     "name": "stdout",
     "output_type": "stream",
     "text": [
      "complete! average cv RMSE: 3.5292417053633436\n",
      "23:19:02 | Running Optuna Trial: 19\n",
      "with hyperparameters: {'n_estimators': 426, 'max_depth': 76, 'min_samples_split': 9, 'max_features': 'log2', 'min_samples_leaf': 3, 'random_state': 760, 'n_jobs': -1}\n"
     ]
    },
    {
     "name": "stderr",
     "output_type": "stream",
     "text": [
      "\u001b[32m[I 2022-10-11 23:19:24,950]\u001b[0m Trial 19 finished with value: 3.4855853564312818 and parameters: {'n_estimators': 426, 'max_depth': 76, 'min_samples_split': 9, 'max_features': 'log2', 'min_samples_leaf': 3}. Best is trial 17 with value: 3.4538109916973125.\u001b[0m\n"
     ]
    },
    {
     "name": "stdout",
     "output_type": "stream",
     "text": [
      "complete! average cv RMSE: 3.4855853564312818\n",
      "23:19:24 | Running Optuna Trial: 20\n",
      "with hyperparameters: {'n_estimators': 1, 'max_depth': 226, 'min_samples_split': 2, 'max_features': 'log2', 'min_samples_leaf': 6, 'random_state': 760, 'n_jobs': -1}\n"
     ]
    },
    {
     "name": "stderr",
     "output_type": "stream",
     "text": [
      "\u001b[32m[I 2022-10-11 23:19:26,467]\u001b[0m Trial 20 finished with value: 4.135950047013536 and parameters: {'n_estimators': 1, 'max_depth': 226, 'min_samples_split': 2, 'max_features': 'log2', 'min_samples_leaf': 6}. Best is trial 17 with value: 3.4538109916973125.\u001b[0m\n"
     ]
    },
    {
     "name": "stdout",
     "output_type": "stream",
     "text": [
      "complete! average cv RMSE: 4.135950047013536\n",
      "23:19:26 | Running Optuna Trial: 21\n",
      "with hyperparameters: {'n_estimators': 251, 'max_depth': 176, 'min_samples_split': 12, 'max_features': 'log2', 'min_samples_leaf': 1, 'random_state': 760, 'n_jobs': -1}\n"
     ]
    },
    {
     "name": "stderr",
     "output_type": "stream",
     "text": [
      "\u001b[32m[I 2022-10-11 23:19:40,875]\u001b[0m Trial 21 finished with value: 3.4678181060205575 and parameters: {'n_estimators': 251, 'max_depth': 176, 'min_samples_split': 12, 'max_features': 'log2', 'min_samples_leaf': 1}. Best is trial 17 with value: 3.4538109916973125.\u001b[0m\n"
     ]
    },
    {
     "name": "stdout",
     "output_type": "stream",
     "text": [
      "complete! average cv RMSE: 3.4678181060205575\n",
      "23:19:40 | Running Optuna Trial: 22\n",
      "with hyperparameters: {'n_estimators': 226, 'max_depth': 301, 'min_samples_split': 12, 'max_features': 'log2', 'min_samples_leaf': 3, 'random_state': 760, 'n_jobs': -1}\n"
     ]
    },
    {
     "name": "stderr",
     "output_type": "stream",
     "text": [
      "\u001b[32m[I 2022-10-11 23:19:53,359]\u001b[0m Trial 22 finished with value: 3.4911818721866616 and parameters: {'n_estimators': 226, 'max_depth': 301, 'min_samples_split': 12, 'max_features': 'log2', 'min_samples_leaf': 3}. Best is trial 17 with value: 3.4538109916973125.\u001b[0m\n"
     ]
    },
    {
     "name": "stdout",
     "output_type": "stream",
     "text": [
      "complete! average cv RMSE: 3.4911818721866616\n",
      "23:19:53 | Running Optuna Trial: 23\n",
      "with hyperparameters: {'n_estimators': 301, 'max_depth': 201, 'min_samples_split': 6, 'max_features': 'log2', 'min_samples_leaf': 1, 'random_state': 760, 'n_jobs': -1}\n"
     ]
    },
    {
     "name": "stderr",
     "output_type": "stream",
     "text": [
      "\u001b[32m[I 2022-10-11 23:20:11,686]\u001b[0m Trial 23 finished with value: 3.449486103669183 and parameters: {'n_estimators': 301, 'max_depth': 201, 'min_samples_split': 6, 'max_features': 'log2', 'min_samples_leaf': 1}. Best is trial 23 with value: 3.449486103669183.\u001b[0m\n"
     ]
    },
    {
     "name": "stdout",
     "output_type": "stream",
     "text": [
      "complete! average cv RMSE: 3.449486103669183\n",
      "23:20:11 | Running Optuna Trial: 24\n",
      "with hyperparameters: {'n_estimators': 276, 'max_depth': 326, 'min_samples_split': 6, 'max_features': 'log2', 'min_samples_leaf': 3, 'random_state': 760, 'n_jobs': -1}\n"
     ]
    },
    {
     "name": "stderr",
     "output_type": "stream",
     "text": [
      "\u001b[32m[I 2022-10-11 23:20:27,261]\u001b[0m Trial 24 finished with value: 3.478928759126659 and parameters: {'n_estimators': 276, 'max_depth': 326, 'min_samples_split': 6, 'max_features': 'log2', 'min_samples_leaf': 3}. Best is trial 23 with value: 3.449486103669183.\u001b[0m\n"
     ]
    },
    {
     "name": "stdout",
     "output_type": "stream",
     "text": [
      "complete! average cv RMSE: 3.478928759126659\n",
      "23:20:27 | Running Optuna Trial: 25\n",
      "with hyperparameters: {'n_estimators': 251, 'max_depth': 226, 'min_samples_split': 9, 'max_features': 'log2', 'min_samples_leaf': 9, 'random_state': 760, 'n_jobs': -1}\n"
     ]
    },
    {
     "name": "stderr",
     "output_type": "stream",
     "text": [
      "\u001b[32m[I 2022-10-11 23:20:39,311]\u001b[0m Trial 25 finished with value: 3.539451516869389 and parameters: {'n_estimators': 251, 'max_depth': 226, 'min_samples_split': 9, 'max_features': 'log2', 'min_samples_leaf': 9}. Best is trial 23 with value: 3.449486103669183.\u001b[0m\n"
     ]
    },
    {
     "name": "stdout",
     "output_type": "stream",
     "text": [
      "complete! average cv RMSE: 3.539451516869389\n",
      "23:20:39 | Running Optuna Trial: 26\n",
      "with hyperparameters: {'n_estimators': 176, 'max_depth': 126, 'min_samples_split': 3, 'max_features': 'sqrt', 'min_samples_leaf': 4, 'random_state': 760, 'n_jobs': -1}\n"
     ]
    },
    {
     "name": "stderr",
     "output_type": "stream",
     "text": [
      "\u001b[32m[I 2022-10-11 23:20:49,187]\u001b[0m Trial 26 finished with value: 3.4980286867693984 and parameters: {'n_estimators': 176, 'max_depth': 126, 'min_samples_split': 3, 'max_features': 'sqrt', 'min_samples_leaf': 4}. Best is trial 23 with value: 3.449486103669183.\u001b[0m\n"
     ]
    },
    {
     "name": "stdout",
     "output_type": "stream",
     "text": [
      "complete! average cv RMSE: 3.4980286867693984\n",
      "23:20:49 | Running Optuna Trial: 27\n",
      "with hyperparameters: {'n_estimators': 301, 'max_depth': 226, 'min_samples_split': 7, 'max_features': 'log2', 'min_samples_leaf': 1, 'random_state': 760, 'n_jobs': -1}\n"
     ]
    },
    {
     "name": "stderr",
     "output_type": "stream",
     "text": [
      "\u001b[32m[I 2022-10-11 23:21:07,102]\u001b[0m Trial 27 finished with value: 3.454311191476158 and parameters: {'n_estimators': 301, 'max_depth': 226, 'min_samples_split': 7, 'max_features': 'log2', 'min_samples_leaf': 1}. Best is trial 23 with value: 3.449486103669183.\u001b[0m\n"
     ]
    },
    {
     "name": "stdout",
     "output_type": "stream",
     "text": [
      "complete! average cv RMSE: 3.454311191476158\n",
      "23:21:07 | Running Optuna Trial: 28\n",
      "with hyperparameters: {'n_estimators': 451, 'max_depth': 251, 'min_samples_split': 6, 'max_features': 'log2', 'min_samples_leaf': 17, 'random_state': 760, 'n_jobs': -1}\n"
     ]
    },
    {
     "name": "stderr",
     "output_type": "stream",
     "text": [
      "\u001b[32m[I 2022-10-11 23:21:25,937]\u001b[0m Trial 28 finished with value: 3.5744335926740924 and parameters: {'n_estimators': 451, 'max_depth': 251, 'min_samples_split': 6, 'max_features': 'log2', 'min_samples_leaf': 17}. Best is trial 23 with value: 3.449486103669183.\u001b[0m\n"
     ]
    },
    {
     "name": "stdout",
     "output_type": "stream",
     "text": [
      "complete! average cv RMSE: 3.5744335926740924\n",
      "23:21:25 | Running Optuna Trial: 29\n",
      "with hyperparameters: {'n_estimators': 401, 'max_depth': 26, 'min_samples_split': 5, 'max_features': 'log2', 'min_samples_leaf': 6, 'random_state': 760, 'n_jobs': -1}\n"
     ]
    },
    {
     "name": "stderr",
     "output_type": "stream",
     "text": [
      "\u001b[32m[I 2022-10-11 23:21:45,290]\u001b[0m Trial 29 finished with value: 3.5159101776706203 and parameters: {'n_estimators': 401, 'max_depth': 26, 'min_samples_split': 5, 'max_features': 'log2', 'min_samples_leaf': 6}. Best is trial 23 with value: 3.449486103669183.\u001b[0m\n"
     ]
    },
    {
     "name": "stdout",
     "output_type": "stream",
     "text": [
      "complete! average cv RMSE: 3.5159101776706203\n",
      "23:21:45 | Running Optuna Trial: 30\n",
      "with hyperparameters: {'n_estimators': 301, 'max_depth': 351, 'min_samples_split': 7, 'max_features': 'log2', 'min_samples_leaf': 17, 'random_state': 760, 'n_jobs': -1}\n"
     ]
    },
    {
     "name": "stderr",
     "output_type": "stream",
     "text": [
      "\u001b[32m[I 2022-10-11 23:21:58,403]\u001b[0m Trial 30 finished with value: 3.5759984323656253 and parameters: {'n_estimators': 301, 'max_depth': 351, 'min_samples_split': 7, 'max_features': 'log2', 'min_samples_leaf': 17}. Best is trial 23 with value: 3.449486103669183.\u001b[0m\n"
     ]
    },
    {
     "name": "stdout",
     "output_type": "stream",
     "text": [
      "complete! average cv RMSE: 3.5759984323656253\n",
      "23:21:58 | Running Optuna Trial: 31\n",
      "with hyperparameters: {'n_estimators': 226, 'max_depth': 201, 'min_samples_split': 10, 'max_features': 'log2', 'min_samples_leaf': 2, 'random_state': 760, 'n_jobs': -1}\n"
     ]
    },
    {
     "name": "stderr",
     "output_type": "stream",
     "text": [
      "\u001b[32m[I 2022-10-11 23:22:11,421]\u001b[0m Trial 31 finished with value: 3.4816052249470735 and parameters: {'n_estimators': 226, 'max_depth': 201, 'min_samples_split': 10, 'max_features': 'log2', 'min_samples_leaf': 2}. Best is trial 23 with value: 3.449486103669183.\u001b[0m\n"
     ]
    },
    {
     "name": "stdout",
     "output_type": "stream",
     "text": [
      "complete! average cv RMSE: 3.4816052249470735\n",
      "23:22:11 | Running Optuna Trial: 32\n",
      "with hyperparameters: {'n_estimators': 276, 'max_depth': 201, 'min_samples_split': 8, 'max_features': 'log2', 'min_samples_leaf': 1, 'random_state': 760, 'n_jobs': -1}\n"
     ]
    },
    {
     "name": "stderr",
     "output_type": "stream",
     "text": [
      "\u001b[32m[I 2022-10-11 23:22:27,809]\u001b[0m Trial 32 finished with value: 3.45967844894287 and parameters: {'n_estimators': 276, 'max_depth': 201, 'min_samples_split': 8, 'max_features': 'log2', 'min_samples_leaf': 1}. Best is trial 23 with value: 3.449486103669183.\u001b[0m\n"
     ]
    },
    {
     "name": "stdout",
     "output_type": "stream",
     "text": [
      "complete! average cv RMSE: 3.45967844894287\n",
      "23:22:27 | Running Optuna Trial: 33\n",
      "with hyperparameters: {'n_estimators': 301, 'max_depth': 276, 'min_samples_split': 5, 'max_features': 'log2', 'min_samples_leaf': 2, 'random_state': 760, 'n_jobs': -1}\n"
     ]
    },
    {
     "name": "stderr",
     "output_type": "stream",
     "text": [
      "\u001b[32m[I 2022-10-11 23:22:45,800]\u001b[0m Trial 33 finished with value: 3.4710526652015483 and parameters: {'n_estimators': 301, 'max_depth': 276, 'min_samples_split': 5, 'max_features': 'log2', 'min_samples_leaf': 2}. Best is trial 23 with value: 3.449486103669183.\u001b[0m\n"
     ]
    },
    {
     "name": "stdout",
     "output_type": "stream",
     "text": [
      "complete! average cv RMSE: 3.4710526652015483\n",
      "23:22:45 | Running Optuna Trial: 34\n",
      "with hyperparameters: {'n_estimators': 326, 'max_depth': 126, 'min_samples_split': 8, 'max_features': 'sqrt', 'min_samples_leaf': 4, 'random_state': 760, 'n_jobs': -1}\n"
     ]
    },
    {
     "name": "stderr",
     "output_type": "stream",
     "text": [
      "\u001b[32m[I 2022-10-11 23:23:03,175]\u001b[0m Trial 34 finished with value: 3.4941553532871423 and parameters: {'n_estimators': 326, 'max_depth': 126, 'min_samples_split': 8, 'max_features': 'sqrt', 'min_samples_leaf': 4}. Best is trial 23 with value: 3.449486103669183.\u001b[0m\n"
     ]
    },
    {
     "name": "stdout",
     "output_type": "stream",
     "text": [
      "complete! average cv RMSE: 3.4941553532871423\n",
      "23:23:03 | Running Optuna Trial: 35\n",
      "with hyperparameters: {'n_estimators': 76, 'max_depth': 226, 'min_samples_split': 7, 'max_features': 'log2', 'min_samples_leaf': 2, 'random_state': 760, 'n_jobs': -1}\n"
     ]
    },
    {
     "name": "stderr",
     "output_type": "stream",
     "text": [
      "\u001b[32m[I 2022-10-11 23:23:08,472]\u001b[0m Trial 35 finished with value: 3.4853043110473507 and parameters: {'n_estimators': 76, 'max_depth': 226, 'min_samples_split': 7, 'max_features': 'log2', 'min_samples_leaf': 2}. Best is trial 23 with value: 3.449486103669183.\u001b[0m\n"
     ]
    },
    {
     "name": "stdout",
     "output_type": "stream",
     "text": [
      "complete! average cv RMSE: 3.4853043110473507\n",
      "23:23:08 | Running Optuna Trial: 36\n",
      "with hyperparameters: {'n_estimators': 276, 'max_depth': 201, 'min_samples_split': 4, 'max_features': 'log2', 'min_samples_leaf': 3, 'random_state': 760, 'n_jobs': -1}\n"
     ]
    },
    {
     "name": "stderr",
     "output_type": "stream",
     "text": [
      "\u001b[32m[I 2022-10-11 23:23:24,107]\u001b[0m Trial 36 finished with value: 3.478928759126659 and parameters: {'n_estimators': 276, 'max_depth': 201, 'min_samples_split': 4, 'max_features': 'log2', 'min_samples_leaf': 3}. Best is trial 23 with value: 3.449486103669183.\u001b[0m\n"
     ]
    },
    {
     "name": "stdout",
     "output_type": "stream",
     "text": [
      "complete! average cv RMSE: 3.478928759126659\n",
      "23:23:24 | Running Optuna Trial: 37\n",
      "with hyperparameters: {'n_estimators': 201, 'max_depth': 151, 'min_samples_split': 9, 'max_features': 'sqrt', 'min_samples_leaf': 15, 'random_state': 760, 'n_jobs': -1}\n"
     ]
    },
    {
     "name": "stderr",
     "output_type": "stream",
     "text": [
      "\u001b[32m[I 2022-10-11 23:23:33,432]\u001b[0m Trial 37 finished with value: 3.5661455086545644 and parameters: {'n_estimators': 201, 'max_depth': 151, 'min_samples_split': 9, 'max_features': 'sqrt', 'min_samples_leaf': 15}. Best is trial 23 with value: 3.449486103669183.\u001b[0m\n"
     ]
    },
    {
     "name": "stdout",
     "output_type": "stream",
     "text": [
      "complete! average cv RMSE: 3.5661455086545644\n",
      "23:23:33 | Running Optuna Trial: 38\n",
      "with hyperparameters: {'n_estimators': 376, 'max_depth': 301, 'min_samples_split': 6, 'max_features': 'log2', 'min_samples_leaf': 20, 'random_state': 760, 'n_jobs': -1}\n"
     ]
    },
    {
     "name": "stderr",
     "output_type": "stream",
     "text": [
      "\u001b[32m[I 2022-10-11 23:23:48,894]\u001b[0m Trial 38 finished with value: 3.586487687938752 and parameters: {'n_estimators': 376, 'max_depth': 301, 'min_samples_split': 6, 'max_features': 'log2', 'min_samples_leaf': 20}. Best is trial 23 with value: 3.449486103669183.\u001b[0m\n"
     ]
    },
    {
     "name": "stdout",
     "output_type": "stream",
     "text": [
      "complete! average cv RMSE: 3.586487687938752\n",
      "23:23:48 | Running Optuna Trial: 39\n",
      "with hyperparameters: {'n_estimators': 176, 'max_depth': 251, 'min_samples_split': 8, 'max_features': 'log2', 'min_samples_leaf': 5, 'random_state': 760, 'n_jobs': -1}\n"
     ]
    },
    {
     "name": "stderr",
     "output_type": "stream",
     "text": [
      "\u001b[32m[I 2022-10-11 23:23:58,498]\u001b[0m Trial 39 finished with value: 3.5085207962374625 and parameters: {'n_estimators': 176, 'max_depth': 251, 'min_samples_split': 8, 'max_features': 'log2', 'min_samples_leaf': 5}. Best is trial 23 with value: 3.449486103669183.\u001b[0m\n"
     ]
    },
    {
     "name": "stdout",
     "output_type": "stream",
     "text": [
      "complete! average cv RMSE: 3.5085207962374625\n",
      "23:23:58 | Running Optuna Trial: 40\n",
      "with hyperparameters: {'n_estimators': 76, 'max_depth': 101, 'min_samples_split': 11, 'max_features': 'sqrt', 'min_samples_leaf': 1, 'random_state': 760, 'n_jobs': -1}\n"
     ]
    },
    {
     "name": "stderr",
     "output_type": "stream",
     "text": [
      "\u001b[32m[I 2022-10-11 23:24:03,831]\u001b[0m Trial 40 finished with value: 3.4668140556851093 and parameters: {'n_estimators': 76, 'max_depth': 101, 'min_samples_split': 11, 'max_features': 'sqrt', 'min_samples_leaf': 1}. Best is trial 23 with value: 3.449486103669183.\u001b[0m\n"
     ]
    },
    {
     "name": "stdout",
     "output_type": "stream",
     "text": [
      "complete! average cv RMSE: 3.4668140556851093\n",
      "23:24:03 | Running Optuna Trial: 41\n",
      "with hyperparameters: {'n_estimators': 76, 'max_depth': 76, 'min_samples_split': 11, 'max_features': 'sqrt', 'min_samples_leaf': 1, 'random_state': 760, 'n_jobs': -1}\n"
     ]
    },
    {
     "name": "stderr",
     "output_type": "stream",
     "text": [
      "\u001b[32m[I 2022-10-11 23:24:09,094]\u001b[0m Trial 41 finished with value: 3.4668140556851093 and parameters: {'n_estimators': 76, 'max_depth': 76, 'min_samples_split': 11, 'max_features': 'sqrt', 'min_samples_leaf': 1}. Best is trial 23 with value: 3.449486103669183.\u001b[0m\n"
     ]
    },
    {
     "name": "stdout",
     "output_type": "stream",
     "text": [
      "complete! average cv RMSE: 3.4668140556851093\n",
      "23:24:09 | Running Optuna Trial: 42\n",
      "with hyperparameters: {'n_estimators': 26, 'max_depth': 151, 'min_samples_split': 10, 'max_features': 'sqrt', 'min_samples_leaf': 2, 'random_state': 760, 'n_jobs': -1}\n"
     ]
    },
    {
     "name": "stderr",
     "output_type": "stream",
     "text": [
      "\u001b[32m[I 2022-10-11 23:24:11,795]\u001b[0m Trial 42 finished with value: 3.523444004530662 and parameters: {'n_estimators': 26, 'max_depth': 151, 'min_samples_split': 10, 'max_features': 'sqrt', 'min_samples_leaf': 2}. Best is trial 23 with value: 3.449486103669183.\u001b[0m\n"
     ]
    },
    {
     "name": "stdout",
     "output_type": "stream",
     "text": [
      "complete! average cv RMSE: 3.523444004530662\n",
      "23:24:11 | Running Optuna Trial: 43\n",
      "with hyperparameters: {'n_estimators': 126, 'max_depth': 101, 'min_samples_split': 4, 'max_features': 'sqrt', 'min_samples_leaf': 1, 'random_state': 760, 'n_jobs': -1}\n"
     ]
    },
    {
     "name": "stderr",
     "output_type": "stream",
     "text": [
      "\u001b[32m[I 2022-10-11 23:24:20,604]\u001b[0m Trial 43 finished with value: 3.4614190233671365 and parameters: {'n_estimators': 126, 'max_depth': 101, 'min_samples_split': 4, 'max_features': 'sqrt', 'min_samples_leaf': 1}. Best is trial 23 with value: 3.449486103669183.\u001b[0m\n"
     ]
    },
    {
     "name": "stdout",
     "output_type": "stream",
     "text": [
      "complete! average cv RMSE: 3.4614190233671365\n",
      "==== EARLY STOPPING ACTIVATED ====\n"
     ]
    },
    {
     "name": "stderr",
     "output_type": "stream",
     "text": [
      "\u001b[32m[I 2022-10-11 23:24:24,982]\u001b[0m A new study created in memory with name: no-name-ee61fee9-6fc8-402e-b0b8-59f72cd04fe8\u001b[0m\n"
     ]
    },
    {
     "name": "stdout",
     "output_type": "stream",
     "text": [
      "====== Running repetition: 5 ======\n",
      "23:24:24 | Running Optuna Trial: 0\n",
      "with hyperparameters: {'n_estimators': 51, 'max_depth': 51, 'min_samples_split': 5, 'max_features': 'log2', 'min_samples_leaf': 18, 'random_state': 760, 'n_jobs': -1}\n"
     ]
    },
    {
     "name": "stderr",
     "output_type": "stream",
     "text": [
      "\u001b[32m[I 2022-10-11 23:24:28,343]\u001b[0m Trial 0 finished with value: 3.5505756087333773 and parameters: {'n_estimators': 51, 'max_depth': 51, 'min_samples_split': 5, 'max_features': 'log2', 'min_samples_leaf': 18}. Best is trial 0 with value: 3.5505756087333773.\u001b[0m\n"
     ]
    },
    {
     "name": "stdout",
     "output_type": "stream",
     "text": [
      "complete! average cv RMSE: 3.5505756087333773\n",
      "23:24:28 | Running Optuna Trial: 1\n",
      "with hyperparameters: {'n_estimators': 76, 'max_depth': 451, 'min_samples_split': 14, 'max_features': 'sqrt', 'min_samples_leaf': 14, 'random_state': 760, 'n_jobs': -1}\n"
     ]
    },
    {
     "name": "stderr",
     "output_type": "stream",
     "text": [
      "\u001b[32m[I 2022-10-11 23:24:32,663]\u001b[0m Trial 1 finished with value: 3.529895529132859 and parameters: {'n_estimators': 76, 'max_depth': 451, 'min_samples_split': 14, 'max_features': 'sqrt', 'min_samples_leaf': 14}. Best is trial 1 with value: 3.529895529132859.\u001b[0m\n"
     ]
    },
    {
     "name": "stdout",
     "output_type": "stream",
     "text": [
      "complete! average cv RMSE: 3.529895529132859\n",
      "23:24:32 | Running Optuna Trial: 2\n",
      "with hyperparameters: {'n_estimators': 201, 'max_depth': 126, 'min_samples_split': 20, 'max_features': 'log2', 'min_samples_leaf': 14, 'random_state': 760, 'n_jobs': -1}\n"
     ]
    },
    {
     "name": "stderr",
     "output_type": "stream",
     "text": [
      "\u001b[32m[I 2022-10-11 23:24:42,153]\u001b[0m Trial 2 finished with value: 3.5267403851873405 and parameters: {'n_estimators': 201, 'max_depth': 126, 'min_samples_split': 20, 'max_features': 'log2', 'min_samples_leaf': 14}. Best is trial 2 with value: 3.5267403851873405.\u001b[0m\n"
     ]
    },
    {
     "name": "stdout",
     "output_type": "stream",
     "text": [
      "complete! average cv RMSE: 3.5267403851873405\n",
      "23:24:42 | Running Optuna Trial: 3\n",
      "with hyperparameters: {'n_estimators': 126, 'max_depth': 326, 'min_samples_split': 11, 'max_features': 'sqrt', 'min_samples_leaf': 19, 'random_state': 760, 'n_jobs': -1}\n"
     ]
    },
    {
     "name": "stderr",
     "output_type": "stream",
     "text": [
      "\u001b[32m[I 2022-10-11 23:24:48,343]\u001b[0m Trial 3 finished with value: 3.547271356544441 and parameters: {'n_estimators': 126, 'max_depth': 326, 'min_samples_split': 11, 'max_features': 'sqrt', 'min_samples_leaf': 19}. Best is trial 2 with value: 3.5267403851873405.\u001b[0m\n"
     ]
    },
    {
     "name": "stdout",
     "output_type": "stream",
     "text": [
      "complete! average cv RMSE: 3.547271356544441\n",
      "23:24:48 | Running Optuna Trial: 4\n",
      "with hyperparameters: {'n_estimators': 276, 'max_depth': 376, 'min_samples_split': 15, 'max_features': 'log2', 'min_samples_leaf': 7, 'random_state': 760, 'n_jobs': -1}\n"
     ]
    },
    {
     "name": "stderr",
     "output_type": "stream",
     "text": [
      "\u001b[32m[I 2022-10-11 23:25:01,938]\u001b[0m Trial 4 finished with value: 3.4977928169048176 and parameters: {'n_estimators': 276, 'max_depth': 376, 'min_samples_split': 15, 'max_features': 'log2', 'min_samples_leaf': 7}. Best is trial 4 with value: 3.4977928169048176.\u001b[0m\n"
     ]
    },
    {
     "name": "stdout",
     "output_type": "stream",
     "text": [
      "complete! average cv RMSE: 3.4977928169048176\n",
      "23:25:01 | Running Optuna Trial: 5\n",
      "with hyperparameters: {'n_estimators': 151, 'max_depth': 401, 'min_samples_split': 17, 'max_features': 'sqrt', 'min_samples_leaf': 11, 'random_state': 760, 'n_jobs': -1}\n"
     ]
    },
    {
     "name": "stderr",
     "output_type": "stream",
     "text": [
      "\u001b[32m[I 2022-10-11 23:25:09,571]\u001b[0m Trial 5 finished with value: 3.5175009365245318 and parameters: {'n_estimators': 151, 'max_depth': 401, 'min_samples_split': 17, 'max_features': 'sqrt', 'min_samples_leaf': 11}. Best is trial 4 with value: 3.4977928169048176.\u001b[0m\n"
     ]
    },
    {
     "name": "stdout",
     "output_type": "stream",
     "text": [
      "complete! average cv RMSE: 3.5175009365245318\n",
      "23:25:09 | Running Optuna Trial: 6\n",
      "with hyperparameters: {'n_estimators': 201, 'max_depth': 276, 'min_samples_split': 4, 'max_features': 'sqrt', 'min_samples_leaf': 11, 'random_state': 760, 'n_jobs': -1}\n"
     ]
    },
    {
     "name": "stderr",
     "output_type": "stream",
     "text": [
      "\u001b[32m[I 2022-10-11 23:25:19,334]\u001b[0m Trial 6 finished with value: 3.5159211799258143 and parameters: {'n_estimators': 201, 'max_depth': 276, 'min_samples_split': 4, 'max_features': 'sqrt', 'min_samples_leaf': 11}. Best is trial 4 with value: 3.4977928169048176.\u001b[0m\n"
     ]
    },
    {
     "name": "stdout",
     "output_type": "stream",
     "text": [
      "complete! average cv RMSE: 3.5159211799258143\n",
      "23:25:19 | Running Optuna Trial: 7\n",
      "with hyperparameters: {'n_estimators': 126, 'max_depth': 401, 'min_samples_split': 7, 'max_features': 'log2', 'min_samples_leaf': 12, 'random_state': 760, 'n_jobs': -1}\n"
     ]
    },
    {
     "name": "stderr",
     "output_type": "stream",
     "text": [
      "\u001b[32m[I 2022-10-11 23:25:25,858]\u001b[0m Trial 7 finished with value: 3.5231914441044525 and parameters: {'n_estimators': 126, 'max_depth': 401, 'min_samples_split': 7, 'max_features': 'log2', 'min_samples_leaf': 12}. Best is trial 4 with value: 3.4977928169048176.\u001b[0m\n"
     ]
    },
    {
     "name": "stdout",
     "output_type": "stream",
     "text": [
      "complete! average cv RMSE: 3.5231914441044525\n",
      "23:25:25 | Running Optuna Trial: 8\n",
      "with hyperparameters: {'n_estimators': 476, 'max_depth': 476, 'min_samples_split': 10, 'max_features': 'log2', 'min_samples_leaf': 13, 'random_state': 760, 'n_jobs': -1}\n"
     ]
    },
    {
     "name": "stderr",
     "output_type": "stream",
     "text": [
      "\u001b[32m[I 2022-10-11 23:25:46,370]\u001b[0m Trial 8 finished with value: 3.5248530535098235 and parameters: {'n_estimators': 476, 'max_depth': 476, 'min_samples_split': 10, 'max_features': 'log2', 'min_samples_leaf': 13}. Best is trial 4 with value: 3.4977928169048176.\u001b[0m\n"
     ]
    },
    {
     "name": "stdout",
     "output_type": "stream",
     "text": [
      "complete! average cv RMSE: 3.5248530535098235\n",
      "23:25:46 | Running Optuna Trial: 9\n",
      "with hyperparameters: {'n_estimators': 301, 'max_depth': 251, 'min_samples_split': 15, 'max_features': 'log2', 'min_samples_leaf': 2, 'random_state': 760, 'n_jobs': -1}\n"
     ]
    },
    {
     "name": "stderr",
     "output_type": "stream",
     "text": [
      "\u001b[32m[I 2022-10-11 23:26:02,555]\u001b[0m Trial 9 finished with value: 3.470085623557284 and parameters: {'n_estimators': 301, 'max_depth': 251, 'min_samples_split': 15, 'max_features': 'log2', 'min_samples_leaf': 2}. Best is trial 9 with value: 3.470085623557284.\u001b[0m\n"
     ]
    },
    {
     "name": "stdout",
     "output_type": "stream",
     "text": [
      "complete! average cv RMSE: 3.470085623557284\n",
      "23:26:02 | Running Optuna Trial: 10\n",
      "with hyperparameters: {'n_estimators': 351, 'max_depth': 176, 'min_samples_split': 20, 'max_features': 'log2', 'min_samples_leaf': 1, 'random_state': 760, 'n_jobs': -1}\n"
     ]
    },
    {
     "name": "stderr",
     "output_type": "stream",
     "text": [
      "\u001b[32m[I 2022-10-11 23:26:21,217]\u001b[0m Trial 10 finished with value: 3.4687651582603367 and parameters: {'n_estimators': 351, 'max_depth': 176, 'min_samples_split': 20, 'max_features': 'log2', 'min_samples_leaf': 1}. Best is trial 10 with value: 3.4687651582603367.\u001b[0m\n"
     ]
    },
    {
     "name": "stdout",
     "output_type": "stream",
     "text": [
      "complete! average cv RMSE: 3.4687651582603367\n",
      "23:26:21 | Running Optuna Trial: 11\n",
      "with hyperparameters: {'n_estimators': 351, 'max_depth': 176, 'min_samples_split': 19, 'max_features': 'log2', 'min_samples_leaf': 1, 'random_state': 760, 'n_jobs': -1}\n"
     ]
    },
    {
     "name": "stderr",
     "output_type": "stream",
     "text": [
      "\u001b[32m[I 2022-10-11 23:26:39,982]\u001b[0m Trial 11 finished with value: 3.4709537734903093 and parameters: {'n_estimators': 351, 'max_depth': 176, 'min_samples_split': 19, 'max_features': 'log2', 'min_samples_leaf': 1}. Best is trial 10 with value: 3.4687651582603367.\u001b[0m\n"
     ]
    },
    {
     "name": "stdout",
     "output_type": "stream",
     "text": [
      "complete! average cv RMSE: 3.4709537734903093\n",
      "23:26:39 | Running Optuna Trial: 12\n",
      "with hyperparameters: {'n_estimators': 351, 'max_depth': 176, 'min_samples_split': 15, 'max_features': 'log2', 'min_samples_leaf': 1, 'random_state': 760, 'n_jobs': -1}\n"
     ]
    },
    {
     "name": "stderr",
     "output_type": "stream",
     "text": [
      "\u001b[32m[I 2022-10-11 23:26:59,320]\u001b[0m Trial 12 finished with value: 3.464695519176786 and parameters: {'n_estimators': 351, 'max_depth': 176, 'min_samples_split': 15, 'max_features': 'log2', 'min_samples_leaf': 1}. Best is trial 12 with value: 3.464695519176786.\u001b[0m\n"
     ]
    },
    {
     "name": "stdout",
     "output_type": "stream",
     "text": [
      "complete! average cv RMSE: 3.464695519176786\n",
      "23:26:59 | Running Optuna Trial: 13\n",
      "with hyperparameters: {'n_estimators': 401, 'max_depth': 151, 'min_samples_split': 18, 'max_features': 'log2', 'min_samples_leaf': 5, 'random_state': 760, 'n_jobs': -1}\n"
     ]
    },
    {
     "name": "stderr",
     "output_type": "stream",
     "text": [
      "\u001b[32m[I 2022-10-11 23:27:19,551]\u001b[0m Trial 13 finished with value: 3.4892724212507544 and parameters: {'n_estimators': 401, 'max_depth': 151, 'min_samples_split': 18, 'max_features': 'log2', 'min_samples_leaf': 5}. Best is trial 12 with value: 3.464695519176786.\u001b[0m\n"
     ]
    },
    {
     "name": "stdout",
     "output_type": "stream",
     "text": [
      "complete! average cv RMSE: 3.4892724212507544\n",
      "23:27:19 | Running Optuna Trial: 14\n",
      "with hyperparameters: {'n_estimators': 401, 'max_depth': 1, 'min_samples_split': 14, 'max_features': 'log2', 'min_samples_leaf': 5, 'random_state': 760, 'n_jobs': -1}\n"
     ]
    },
    {
     "name": "stderr",
     "output_type": "stream",
     "text": [
      "\u001b[32m[I 2022-10-11 23:27:24,097]\u001b[0m Trial 14 finished with value: 3.965961145076497 and parameters: {'n_estimators': 401, 'max_depth': 1, 'min_samples_split': 14, 'max_features': 'log2', 'min_samples_leaf': 5}. Best is trial 12 with value: 3.464695519176786.\u001b[0m\n"
     ]
    },
    {
     "name": "stdout",
     "output_type": "stream",
     "text": [
      "complete! average cv RMSE: 3.965961145076497\n",
      "23:27:24 | Running Optuna Trial: 15\n",
      "with hyperparameters: {'n_estimators': 351, 'max_depth': 201, 'min_samples_split': 17, 'max_features': 'log2', 'min_samples_leaf': 4, 'random_state': 760, 'n_jobs': -1}\n"
     ]
    },
    {
     "name": "stderr",
     "output_type": "stream",
     "text": [
      "\u001b[32m[I 2022-10-11 23:27:42,148]\u001b[0m Trial 15 finished with value: 3.485912273246291 and parameters: {'n_estimators': 351, 'max_depth': 201, 'min_samples_split': 17, 'max_features': 'log2', 'min_samples_leaf': 4}. Best is trial 12 with value: 3.464695519176786.\u001b[0m\n"
     ]
    },
    {
     "name": "stdout",
     "output_type": "stream",
     "text": [
      "complete! average cv RMSE: 3.485912273246291\n",
      "23:27:42 | Running Optuna Trial: 16\n",
      "with hyperparameters: {'n_estimators': 476, 'max_depth': 101, 'min_samples_split': 9, 'max_features': 'log2', 'min_samples_leaf': 8, 'random_state': 760, 'n_jobs': -1}\n"
     ]
    },
    {
     "name": "stderr",
     "output_type": "stream",
     "text": [
      "\u001b[32m[I 2022-10-11 23:28:04,600]\u001b[0m Trial 16 finished with value: 3.4986915230782865 and parameters: {'n_estimators': 476, 'max_depth': 101, 'min_samples_split': 9, 'max_features': 'log2', 'min_samples_leaf': 8}. Best is trial 12 with value: 3.464695519176786.\u001b[0m\n"
     ]
    },
    {
     "name": "stdout",
     "output_type": "stream",
     "text": [
      "complete! average cv RMSE: 3.4986915230782865\n",
      "23:28:04 | Running Optuna Trial: 17\n",
      "with hyperparameters: {'n_estimators': 301, 'max_depth': 226, 'min_samples_split': 13, 'max_features': 'log2', 'min_samples_leaf': 1, 'random_state': 760, 'n_jobs': -1}\n"
     ]
    },
    {
     "name": "stderr",
     "output_type": "stream",
     "text": [
      "\u001b[32m[I 2022-10-11 23:28:22,052]\u001b[0m Trial 17 finished with value: 3.4639030108511784 and parameters: {'n_estimators': 301, 'max_depth': 226, 'min_samples_split': 13, 'max_features': 'log2', 'min_samples_leaf': 1}. Best is trial 17 with value: 3.4639030108511784.\u001b[0m\n"
     ]
    },
    {
     "name": "stdout",
     "output_type": "stream",
     "text": [
      "complete! average cv RMSE: 3.4639030108511784\n",
      "23:28:22 | Running Optuna Trial: 18\n",
      "with hyperparameters: {'n_estimators': 251, 'max_depth': 276, 'min_samples_split': 12, 'max_features': 'sqrt', 'min_samples_leaf': 8, 'random_state': 760, 'n_jobs': -1}\n"
     ]
    },
    {
     "name": "stderr",
     "output_type": "stream",
     "text": [
      "\u001b[32m[I 2022-10-11 23:28:34,584]\u001b[0m Trial 18 finished with value: 3.5016254205078874 and parameters: {'n_estimators': 251, 'max_depth': 276, 'min_samples_split': 12, 'max_features': 'sqrt', 'min_samples_leaf': 8}. Best is trial 17 with value: 3.4639030108511784.\u001b[0m\n"
     ]
    },
    {
     "name": "stdout",
     "output_type": "stream",
     "text": [
      "complete! average cv RMSE: 3.5016254205078874\n",
      "23:28:34 | Running Optuna Trial: 19\n",
      "with hyperparameters: {'n_estimators': 426, 'max_depth': 76, 'min_samples_split': 12, 'max_features': 'log2', 'min_samples_leaf': 3, 'random_state': 760, 'n_jobs': -1}\n"
     ]
    },
    {
     "name": "stderr",
     "output_type": "stream",
     "text": [
      "\u001b[32m[I 2022-10-11 23:28:56,973]\u001b[0m Trial 19 finished with value: 3.469865518067162 and parameters: {'n_estimators': 426, 'max_depth': 76, 'min_samples_split': 12, 'max_features': 'log2', 'min_samples_leaf': 3}. Best is trial 17 with value: 3.4639030108511784.\u001b[0m\n"
     ]
    },
    {
     "name": "stdout",
     "output_type": "stream",
     "text": [
      "complete! average cv RMSE: 3.469865518067162\n",
      "23:28:56 | Running Optuna Trial: 20\n",
      "with hyperparameters: {'n_estimators': 1, 'max_depth': 226, 'min_samples_split': 2, 'max_features': 'log2', 'min_samples_leaf': 6, 'random_state': 760, 'n_jobs': -1}\n"
     ]
    },
    {
     "name": "stderr",
     "output_type": "stream",
     "text": [
      "\u001b[32m[I 2022-10-11 23:28:58,513]\u001b[0m Trial 20 finished with value: 4.1024310428931905 and parameters: {'n_estimators': 1, 'max_depth': 226, 'min_samples_split': 2, 'max_features': 'log2', 'min_samples_leaf': 6}. Best is trial 17 with value: 3.4639030108511784.\u001b[0m\n"
     ]
    },
    {
     "name": "stdout",
     "output_type": "stream",
     "text": [
      "complete! average cv RMSE: 4.1024310428931905\n",
      "23:28:58 | Running Optuna Trial: 21\n",
      "with hyperparameters: {'n_estimators': 326, 'max_depth': 176, 'min_samples_split': 16, 'max_features': 'log2', 'min_samples_leaf': 1, 'random_state': 760, 'n_jobs': -1}\n"
     ]
    },
    {
     "name": "stderr",
     "output_type": "stream",
     "text": [
      "\u001b[32m[I 2022-10-11 23:29:16,388]\u001b[0m Trial 21 finished with value: 3.4653539365956676 and parameters: {'n_estimators': 326, 'max_depth': 176, 'min_samples_split': 16, 'max_features': 'log2', 'min_samples_leaf': 1}. Best is trial 17 with value: 3.4639030108511784.\u001b[0m\n"
     ]
    },
    {
     "name": "stdout",
     "output_type": "stream",
     "text": [
      "complete! average cv RMSE: 3.4653539365956676\n",
      "23:29:16 | Running Optuna Trial: 22\n",
      "with hyperparameters: {'n_estimators': 301, 'max_depth': 301, 'min_samples_split': 16, 'max_features': 'log2', 'min_samples_leaf': 3, 'random_state': 760, 'n_jobs': -1}\n"
     ]
    },
    {
     "name": "stderr",
     "output_type": "stream",
     "text": [
      "\u001b[32m[I 2022-10-11 23:29:32,139]\u001b[0m Trial 22 finished with value: 3.475919875140589 and parameters: {'n_estimators': 301, 'max_depth': 301, 'min_samples_split': 16, 'max_features': 'log2', 'min_samples_leaf': 3}. Best is trial 17 with value: 3.4639030108511784.\u001b[0m\n"
     ]
    },
    {
     "name": "stdout",
     "output_type": "stream",
     "text": [
      "complete! average cv RMSE: 3.475919875140589\n",
      "23:29:32 | Running Optuna Trial: 23\n",
      "with hyperparameters: {'n_estimators': 326, 'max_depth': 201, 'min_samples_split': 13, 'max_features': 'log2', 'min_samples_leaf': 1, 'random_state': 760, 'n_jobs': -1}\n"
     ]
    },
    {
     "name": "stderr",
     "output_type": "stream",
     "text": [
      "\u001b[32m[I 2022-10-11 23:29:50,583]\u001b[0m Trial 23 finished with value: 3.4626090739731503 and parameters: {'n_estimators': 326, 'max_depth': 201, 'min_samples_split': 13, 'max_features': 'log2', 'min_samples_leaf': 1}. Best is trial 23 with value: 3.4626090739731503.\u001b[0m\n"
     ]
    },
    {
     "name": "stdout",
     "output_type": "stream",
     "text": [
      "complete! average cv RMSE: 3.4626090739731503\n",
      "23:29:50 | Running Optuna Trial: 24\n",
      "with hyperparameters: {'n_estimators': 251, 'max_depth': 226, 'min_samples_split': 13, 'max_features': 'log2', 'min_samples_leaf': 3, 'random_state': 760, 'n_jobs': -1}\n"
     ]
    },
    {
     "name": "stderr",
     "output_type": "stream",
     "text": [
      "\u001b[32m[I 2022-10-11 23:30:04,302]\u001b[0m Trial 24 finished with value: 3.4737932568376713 and parameters: {'n_estimators': 251, 'max_depth': 226, 'min_samples_split': 13, 'max_features': 'log2', 'min_samples_leaf': 3}. Best is trial 23 with value: 3.4626090739731503.\u001b[0m\n"
     ]
    },
    {
     "name": "stdout",
     "output_type": "stream",
     "text": [
      "complete! average cv RMSE: 3.4737932568376713\n",
      "23:30:04 | Running Optuna Trial: 25\n",
      "with hyperparameters: {'n_estimators': 401, 'max_depth': 326, 'min_samples_split': 9, 'max_features': 'log2', 'min_samples_leaf': 9, 'random_state': 760, 'n_jobs': -1}\n"
     ]
    },
    {
     "name": "stderr",
     "output_type": "stream",
     "text": [
      "\u001b[32m[I 2022-10-11 23:30:22,999]\u001b[0m Trial 25 finished with value: 3.506158804221326 and parameters: {'n_estimators': 401, 'max_depth': 326, 'min_samples_split': 9, 'max_features': 'log2', 'min_samples_leaf': 9}. Best is trial 23 with value: 3.4626090739731503.\u001b[0m\n"
     ]
    },
    {
     "name": "stdout",
     "output_type": "stream",
     "text": [
      "complete! average cv RMSE: 3.506158804221326\n",
      "23:30:22 | Running Optuna Trial: 26\n",
      "with hyperparameters: {'n_estimators': 201, 'max_depth': 126, 'min_samples_split': 13, 'max_features': 'sqrt', 'min_samples_leaf': 4, 'random_state': 760, 'n_jobs': -1}\n"
     ]
    },
    {
     "name": "stderr",
     "output_type": "stream",
     "text": [
      "\u001b[32m[I 2022-10-11 23:30:34,074]\u001b[0m Trial 26 finished with value: 3.4817470520812286 and parameters: {'n_estimators': 201, 'max_depth': 126, 'min_samples_split': 13, 'max_features': 'sqrt', 'min_samples_leaf': 4}. Best is trial 23 with value: 3.4626090739731503.\u001b[0m\n"
     ]
    },
    {
     "name": "stdout",
     "output_type": "stream",
     "text": [
      "complete! average cv RMSE: 3.4817470520812286\n",
      "23:30:34 | Running Optuna Trial: 27\n",
      "with hyperparameters: {'n_estimators': 301, 'max_depth': 226, 'min_samples_split': 11, 'max_features': 'log2', 'min_samples_leaf': 1, 'random_state': 760, 'n_jobs': -1}\n"
     ]
    },
    {
     "name": "stderr",
     "output_type": "stream",
     "text": [
      "\u001b[32m[I 2022-10-11 23:30:51,362]\u001b[0m Trial 27 finished with value: 3.4568780413589244 and parameters: {'n_estimators': 301, 'max_depth': 226, 'min_samples_split': 11, 'max_features': 'log2', 'min_samples_leaf': 1}. Best is trial 27 with value: 3.4568780413589244.\u001b[0m\n"
     ]
    },
    {
     "name": "stdout",
     "output_type": "stream",
     "text": [
      "complete! average cv RMSE: 3.4568780413589244\n",
      "23:30:51 | Running Optuna Trial: 28\n",
      "with hyperparameters: {'n_estimators': 301, 'max_depth': 251, 'min_samples_split': 8, 'max_features': 'log2', 'min_samples_leaf': 17, 'random_state': 760, 'n_jobs': -1}\n"
     ]
    },
    {
     "name": "stderr",
     "output_type": "stream",
     "text": [
      "\u001b[32m[I 2022-10-11 23:31:04,498]\u001b[0m Trial 28 finished with value: 3.5406881482121357 and parameters: {'n_estimators': 301, 'max_depth': 251, 'min_samples_split': 8, 'max_features': 'log2', 'min_samples_leaf': 17}. Best is trial 27 with value: 3.4568780413589244.\u001b[0m\n"
     ]
    },
    {
     "name": "stdout",
     "output_type": "stream",
     "text": [
      "complete! average cv RMSE: 3.5406881482121357\n",
      "23:31:04 | Running Optuna Trial: 29\n",
      "with hyperparameters: {'n_estimators': 226, 'max_depth': 26, 'min_samples_split': 6, 'max_features': 'log2', 'min_samples_leaf': 6, 'random_state': 760, 'n_jobs': -1}\n"
     ]
    },
    {
     "name": "stderr",
     "output_type": "stream",
     "text": [
      "\u001b[32m[I 2022-10-11 23:31:16,200]\u001b[0m Trial 29 finished with value: 3.4908244460273807 and parameters: {'n_estimators': 226, 'max_depth': 26, 'min_samples_split': 6, 'max_features': 'log2', 'min_samples_leaf': 6}. Best is trial 27 with value: 3.4568780413589244.\u001b[0m\n"
     ]
    },
    {
     "name": "stdout",
     "output_type": "stream",
     "text": [
      "complete! average cv RMSE: 3.4908244460273807\n",
      "23:31:16 | Running Optuna Trial: 30\n",
      "with hyperparameters: {'n_estimators': 276, 'max_depth': 351, 'min_samples_split': 10, 'max_features': 'log2', 'min_samples_leaf': 17, 'random_state': 760, 'n_jobs': -1}\n"
     ]
    },
    {
     "name": "stderr",
     "output_type": "stream",
     "text": [
      "\u001b[32m[I 2022-10-11 23:31:28,283]\u001b[0m Trial 30 finished with value: 3.5402803578638973 and parameters: {'n_estimators': 276, 'max_depth': 351, 'min_samples_split': 10, 'max_features': 'log2', 'min_samples_leaf': 17}. Best is trial 27 with value: 3.4568780413589244.\u001b[0m\n"
     ]
    },
    {
     "name": "stdout",
     "output_type": "stream",
     "text": [
      "complete! average cv RMSE: 3.5402803578638973\n",
      "23:31:28 | Running Optuna Trial: 31\n",
      "with hyperparameters: {'n_estimators': 351, 'max_depth': 201, 'min_samples_split': 12, 'max_features': 'log2', 'min_samples_leaf': 2, 'random_state': 760, 'n_jobs': -1}\n"
     ]
    },
    {
     "name": "stderr",
     "output_type": "stream",
     "text": [
      "\u001b[32m[I 2022-10-11 23:31:47,319]\u001b[0m Trial 31 finished with value: 3.462557957000308 and parameters: {'n_estimators': 351, 'max_depth': 201, 'min_samples_split': 12, 'max_features': 'log2', 'min_samples_leaf': 2}. Best is trial 27 with value: 3.4568780413589244.\u001b[0m\n"
     ]
    },
    {
     "name": "stdout",
     "output_type": "stream",
     "text": [
      "complete! average cv RMSE: 3.462557957000308\n",
      "23:31:47 | Running Optuna Trial: 32\n",
      "with hyperparameters: {'n_estimators': 376, 'max_depth': 226, 'min_samples_split': 11, 'max_features': 'log2', 'min_samples_leaf': 2, 'random_state': 760, 'n_jobs': -1}\n"
     ]
    },
    {
     "name": "stderr",
     "output_type": "stream",
     "text": [
      "\u001b[32m[I 2022-10-11 23:32:07,997]\u001b[0m Trial 32 finished with value: 3.4640259047502697 and parameters: {'n_estimators': 376, 'max_depth': 226, 'min_samples_split': 11, 'max_features': 'log2', 'min_samples_leaf': 2}. Best is trial 27 with value: 3.4568780413589244.\u001b[0m\n"
     ]
    },
    {
     "name": "stdout",
     "output_type": "stream",
     "text": [
      "complete! average cv RMSE: 3.4640259047502697\n",
      "23:32:08 | Running Optuna Trial: 33\n",
      "with hyperparameters: {'n_estimators': 326, 'max_depth': 201, 'min_samples_split': 13, 'max_features': 'log2', 'min_samples_leaf': 2, 'random_state': 760, 'n_jobs': -1}\n"
     ]
    },
    {
     "name": "stderr",
     "output_type": "stream",
     "text": [
      "\u001b[32m[I 2022-10-11 23:32:25,646]\u001b[0m Trial 33 finished with value: 3.46531249148671 and parameters: {'n_estimators': 326, 'max_depth': 201, 'min_samples_split': 13, 'max_features': 'log2', 'min_samples_leaf': 2}. Best is trial 27 with value: 3.4568780413589244.\u001b[0m\n"
     ]
    },
    {
     "name": "stdout",
     "output_type": "stream",
     "text": [
      "complete! average cv RMSE: 3.46531249148671\n",
      "23:32:25 | Running Optuna Trial: 34\n",
      "with hyperparameters: {'n_estimators': 426, 'max_depth': 126, 'min_samples_split': 12, 'max_features': 'sqrt', 'min_samples_leaf': 4, 'random_state': 760, 'n_jobs': -1}\n"
     ]
    },
    {
     "name": "stderr",
     "output_type": "stream",
     "text": [
      "\u001b[32m[I 2022-10-11 23:32:47,298]\u001b[0m Trial 34 finished with value: 3.478179982084743 and parameters: {'n_estimators': 426, 'max_depth': 126, 'min_samples_split': 12, 'max_features': 'sqrt', 'min_samples_leaf': 4}. Best is trial 27 with value: 3.4568780413589244.\u001b[0m\n"
     ]
    },
    {
     "name": "stdout",
     "output_type": "stream",
     "text": [
      "complete! average cv RMSE: 3.478179982084743\n",
      "23:32:47 | Running Optuna Trial: 35\n",
      "with hyperparameters: {'n_estimators': 276, 'max_depth': 276, 'min_samples_split': 10, 'max_features': 'log2', 'min_samples_leaf': 2, 'random_state': 760, 'n_jobs': -1}\n"
     ]
    },
    {
     "name": "stderr",
     "output_type": "stream",
     "text": [
      "\u001b[32m[I 2022-10-11 23:33:02,797]\u001b[0m Trial 35 finished with value: 3.460896160124277 and parameters: {'n_estimators': 276, 'max_depth': 276, 'min_samples_split': 10, 'max_features': 'log2', 'min_samples_leaf': 2}. Best is trial 27 with value: 3.4568780413589244.\u001b[0m\n"
     ]
    },
    {
     "name": "stdout",
     "output_type": "stream",
     "text": [
      "complete! average cv RMSE: 3.460896160124277\n",
      "23:33:02 | Running Optuna Trial: 36\n",
      "with hyperparameters: {'n_estimators': 226, 'max_depth': 276, 'min_samples_split': 10, 'max_features': 'log2', 'min_samples_leaf': 3, 'random_state': 760, 'n_jobs': -1}\n"
     ]
    },
    {
     "name": "stderr",
     "output_type": "stream",
     "text": [
      "\u001b[32m[I 2022-10-11 23:33:15,450]\u001b[0m Trial 36 finished with value: 3.475039052298478 and parameters: {'n_estimators': 226, 'max_depth': 276, 'min_samples_split': 10, 'max_features': 'log2', 'min_samples_leaf': 3}. Best is trial 27 with value: 3.4568780413589244.\u001b[0m\n"
     ]
    },
    {
     "name": "stdout",
     "output_type": "stream",
     "text": [
      "complete! average cv RMSE: 3.475039052298478\n",
      "23:33:15 | Running Optuna Trial: 37\n",
      "with hyperparameters: {'n_estimators': 151, 'max_depth': 301, 'min_samples_split': 8, 'max_features': 'sqrt', 'min_samples_leaf': 15, 'random_state': 760, 'n_jobs': -1}\n"
     ]
    },
    {
     "name": "stderr",
     "output_type": "stream",
     "text": [
      "\u001b[32m[I 2022-10-11 23:33:22,825]\u001b[0m Trial 37 finished with value: 3.534091778086418 and parameters: {'n_estimators': 151, 'max_depth': 301, 'min_samples_split': 8, 'max_features': 'sqrt', 'min_samples_leaf': 15}. Best is trial 27 with value: 3.4568780413589244.\u001b[0m\n"
     ]
    },
    {
     "name": "stdout",
     "output_type": "stream",
     "text": [
      "complete! average cv RMSE: 3.534091778086418\n",
      "23:33:22 | Running Optuna Trial: 38\n",
      "with hyperparameters: {'n_estimators': 276, 'max_depth': 326, 'min_samples_split': 11, 'max_features': 'log2', 'min_samples_leaf': 20, 'random_state': 760, 'n_jobs': -1}\n"
     ]
    },
    {
     "name": "stderr",
     "output_type": "stream",
     "text": [
      "\u001b[32m[I 2022-10-11 23:33:34,705]\u001b[0m Trial 38 finished with value: 3.5476105669753877 and parameters: {'n_estimators': 276, 'max_depth': 326, 'min_samples_split': 11, 'max_features': 'log2', 'min_samples_leaf': 20}. Best is trial 27 with value: 3.4568780413589244.\u001b[0m\n"
     ]
    },
    {
     "name": "stdout",
     "output_type": "stream",
     "text": [
      "complete! average cv RMSE: 3.5476105669753877\n",
      "23:33:34 | Running Optuna Trial: 39\n",
      "with hyperparameters: {'n_estimators': 176, 'max_depth': 151, 'min_samples_split': 9, 'max_features': 'log2', 'min_samples_leaf': 5, 'random_state': 760, 'n_jobs': -1}\n"
     ]
    },
    {
     "name": "stderr",
     "output_type": "stream",
     "text": [
      "\u001b[32m[I 2022-10-11 23:33:44,416]\u001b[0m Trial 39 finished with value: 3.480875184869723 and parameters: {'n_estimators': 176, 'max_depth': 151, 'min_samples_split': 9, 'max_features': 'log2', 'min_samples_leaf': 5}. Best is trial 27 with value: 3.4568780413589244.\u001b[0m\n"
     ]
    },
    {
     "name": "stdout",
     "output_type": "stream",
     "text": [
      "complete! average cv RMSE: 3.480875184869723\n",
      "23:33:44 | Running Optuna Trial: 40\n",
      "with hyperparameters: {'n_estimators': 326, 'max_depth': 76, 'min_samples_split': 5, 'max_features': 'sqrt', 'min_samples_leaf': 2, 'random_state': 760, 'n_jobs': -1}\n"
     ]
    },
    {
     "name": "stderr",
     "output_type": "stream",
     "text": [
      "\u001b[32m[I 2022-10-11 23:34:03,900]\u001b[0m Trial 40 finished with value: 3.452933018339876 and parameters: {'n_estimators': 326, 'max_depth': 76, 'min_samples_split': 5, 'max_features': 'sqrt', 'min_samples_leaf': 2}. Best is trial 40 with value: 3.452933018339876.\u001b[0m\n"
     ]
    },
    {
     "name": "stdout",
     "output_type": "stream",
     "text": [
      "complete! average cv RMSE: 3.452933018339876\n",
      "23:34:03 | Running Optuna Trial: 41\n",
      "with hyperparameters: {'n_estimators': 326, 'max_depth': 76, 'min_samples_split': 5, 'max_features': 'sqrt', 'min_samples_leaf': 2, 'random_state': 760, 'n_jobs': -1}\n"
     ]
    },
    {
     "name": "stderr",
     "output_type": "stream",
     "text": [
      "\u001b[32m[I 2022-10-11 23:34:23,273]\u001b[0m Trial 41 finished with value: 3.452933018339876 and parameters: {'n_estimators': 326, 'max_depth': 76, 'min_samples_split': 5, 'max_features': 'sqrt', 'min_samples_leaf': 2}. Best is trial 40 with value: 3.452933018339876.\u001b[0m\n"
     ]
    },
    {
     "name": "stdout",
     "output_type": "stream",
     "text": [
      "complete! average cv RMSE: 3.452933018339876\n",
      "23:34:23 | Running Optuna Trial: 42\n",
      "with hyperparameters: {'n_estimators': 276, 'max_depth': 51, 'min_samples_split': 4, 'max_features': 'sqrt', 'min_samples_leaf': 2, 'random_state': 760, 'n_jobs': -1}\n"
     ]
    },
    {
     "name": "stderr",
     "output_type": "stream",
     "text": [
      "\u001b[32m[I 2022-10-11 23:34:40,245]\u001b[0m Trial 42 finished with value: 3.458075575572816 and parameters: {'n_estimators': 276, 'max_depth': 51, 'min_samples_split': 4, 'max_features': 'sqrt', 'min_samples_leaf': 2}. Best is trial 40 with value: 3.452933018339876.\u001b[0m\n"
     ]
    },
    {
     "name": "stdout",
     "output_type": "stream",
     "text": [
      "complete! average cv RMSE: 3.458075575572816\n",
      "23:34:40 | Running Optuna Trial: 43\n",
      "with hyperparameters: {'n_estimators': 251, 'max_depth': 51, 'min_samples_split': 4, 'max_features': 'sqrt', 'min_samples_leaf': 4, 'random_state': 760, 'n_jobs': -1}\n"
     ]
    },
    {
     "name": "stderr",
     "output_type": "stream",
     "text": [
      "\u001b[32m[I 2022-10-11 23:34:54,081]\u001b[0m Trial 43 finished with value: 3.4756257693078987 and parameters: {'n_estimators': 251, 'max_depth': 51, 'min_samples_split': 4, 'max_features': 'sqrt', 'min_samples_leaf': 4}. Best is trial 40 with value: 3.452933018339876.\u001b[0m\n"
     ]
    },
    {
     "name": "stdout",
     "output_type": "stream",
     "text": [
      "complete! average cv RMSE: 3.4756257693078987\n",
      "23:34:54 | Running Optuna Trial: 44\n",
      "with hyperparameters: {'n_estimators': 276, 'max_depth': 76, 'min_samples_split': 2, 'max_features': 'sqrt', 'min_samples_leaf': 2, 'random_state': 760, 'n_jobs': -1}\n"
     ]
    },
    {
     "name": "stderr",
     "output_type": "stream",
     "text": [
      "\u001b[32m[I 2022-10-11 23:35:11,036]\u001b[0m Trial 44 finished with value: 3.4583658522151643 and parameters: {'n_estimators': 276, 'max_depth': 76, 'min_samples_split': 2, 'max_features': 'sqrt', 'min_samples_leaf': 2}. Best is trial 40 with value: 3.452933018339876.\u001b[0m\n"
     ]
    },
    {
     "name": "stdout",
     "output_type": "stream",
     "text": [
      "complete! average cv RMSE: 3.4583658522151643\n",
      "23:35:11 | Running Optuna Trial: 45\n",
      "with hyperparameters: {'n_estimators': 326, 'max_depth': 76, 'min_samples_split': 2, 'max_features': 'sqrt', 'min_samples_leaf': 6, 'random_state': 760, 'n_jobs': -1}\n"
     ]
    },
    {
     "name": "stderr",
     "output_type": "stream",
     "text": [
      "\u001b[32m[I 2022-10-11 23:35:27,589]\u001b[0m Trial 45 finished with value: 3.4862251085082177 and parameters: {'n_estimators': 326, 'max_depth': 76, 'min_samples_split': 2, 'max_features': 'sqrt', 'min_samples_leaf': 6}. Best is trial 40 with value: 3.452933018339876.\u001b[0m\n"
     ]
    },
    {
     "name": "stdout",
     "output_type": "stream",
     "text": [
      "complete! average cv RMSE: 3.4862251085082177\n",
      "23:35:27 | Running Optuna Trial: 46\n",
      "with hyperparameters: {'n_estimators': 376, 'max_depth': 1, 'min_samples_split': 4, 'max_features': 'sqrt', 'min_samples_leaf': 3, 'random_state': 760, 'n_jobs': -1}\n"
     ]
    },
    {
     "name": "stderr",
     "output_type": "stream",
     "text": [
      "\u001b[32m[I 2022-10-11 23:35:31,427]\u001b[0m Trial 46 finished with value: 3.9699448339836145 and parameters: {'n_estimators': 376, 'max_depth': 1, 'min_samples_split': 4, 'max_features': 'sqrt', 'min_samples_leaf': 3}. Best is trial 40 with value: 3.452933018339876.\u001b[0m\n"
     ]
    },
    {
     "name": "stdout",
     "output_type": "stream",
     "text": [
      "complete! average cv RMSE: 3.9699448339836145\n",
      "23:35:31 | Running Optuna Trial: 47\n",
      "with hyperparameters: {'n_estimators': 226, 'max_depth': 51, 'min_samples_split': 3, 'max_features': 'sqrt', 'min_samples_leaf': 2, 'random_state': 760, 'n_jobs': -1}\n"
     ]
    },
    {
     "name": "stderr",
     "output_type": "stream",
     "text": [
      "\u001b[32m[I 2022-10-11 23:35:45,479]\u001b[0m Trial 47 finished with value: 3.462754262743631 and parameters: {'n_estimators': 226, 'max_depth': 51, 'min_samples_split': 3, 'max_features': 'sqrt', 'min_samples_leaf': 2}. Best is trial 40 with value: 3.452933018339876.\u001b[0m\n"
     ]
    },
    {
     "name": "stdout",
     "output_type": "stream",
     "text": [
      "complete! average cv RMSE: 3.462754262743631\n",
      "23:35:45 | Running Optuna Trial: 48\n",
      "with hyperparameters: {'n_estimators': 276, 'max_depth': 76, 'min_samples_split': 5, 'max_features': 'sqrt', 'min_samples_leaf': 10, 'random_state': 760, 'n_jobs': -1}\n"
     ]
    },
    {
     "name": "stderr",
     "output_type": "stream",
     "text": [
      "\u001b[32m[I 2022-10-11 23:35:58,505]\u001b[0m Trial 48 finished with value: 3.5105131389554125 and parameters: {'n_estimators': 276, 'max_depth': 76, 'min_samples_split': 5, 'max_features': 'sqrt', 'min_samples_leaf': 10}. Best is trial 40 with value: 3.452933018339876.\u001b[0m\n"
     ]
    },
    {
     "name": "stdout",
     "output_type": "stream",
     "text": [
      "complete! average cv RMSE: 3.5105131389554125\n",
      "23:35:58 | Running Optuna Trial: 49\n",
      "with hyperparameters: {'n_estimators': 101, 'max_depth': 26, 'min_samples_split': 6, 'max_features': 'sqrt', 'min_samples_leaf': 5, 'random_state': 760, 'n_jobs': -1}\n"
     ]
    },
    {
     "name": "stderr",
     "output_type": "stream",
     "text": [
      "\u001b[32m[I 2022-10-11 23:36:04,699]\u001b[0m Trial 49 finished with value: 3.4933728597555826 and parameters: {'n_estimators': 101, 'max_depth': 26, 'min_samples_split': 6, 'max_features': 'sqrt', 'min_samples_leaf': 5}. Best is trial 40 with value: 3.452933018339876.\u001b[0m\n"
     ]
    },
    {
     "name": "stdout",
     "output_type": "stream",
     "text": [
      "complete! average cv RMSE: 3.4933728597555826\n"
     ]
    }
   ],
   "source": [
    "# actual repeated CV loop\n",
    "\n",
    "repetition_results = {\n",
    "    \"hp\": [],\n",
    "    \"rmse\": [],\n",
    "    \"mae\": []\n",
    "}\n",
    "\n",
    "for rep_i in range(N_REPS):\n",
    "    print(f\"====== Running repetition: {rep_i} ======\")\n",
    "    # shuffle training data. Make sure each iteration uses different seed\n",
    "    cv_train = train_df.sample(frac=1, random_state=760+rep_i)\n",
    "    # extract X and y arrays\n",
    "    cv_X_train, cv_y_train = cv_train.drop(['r_useful', 'r_id'], axis=1).values, cv_train['r_useful'].values\n",
    "    \n",
    "    # obtain best hyperparameters via cross-validation and TPE sampling.\n",
    "    best_params = get_best_model(cv_X_train, cv_y_train)\n",
    "    \n",
    "    rmse, mae = fit_and_score(\n",
    "        model_pipe, best_params,\n",
    "        cv_X_train, cv_y_train,\n",
    "        X_val, y_val)\n",
    "\n",
    "    # save results for this iteration\n",
    "    repetition_results[\"rmse\"].append(rmse)\n",
    "    repetition_results[\"mae\"].append(mae)\n",
    "    repetition_results[\"hp\"].append(best_params)"
   ]
  },
  {
   "cell_type": "code",
   "execution_count": 11,
   "id": "1dd8a222-eda7-43f0-8c85-c4a85df71de1",
   "metadata": {},
   "outputs": [
    {
     "name": "stdout",
     "output_type": "stream",
     "text": [
      "(90000, 35)\n",
      "(90000,)\n",
      "Best overall HP:{'n_estimators': 376, 'max_depth': 201, 'min_samples_split': 5, 'max_features': 'sqrt', 'min_samples_leaf': 1}\n",
      "Best overall RMSE: 3.045\n",
      "Best overall MAE: 1.452\n"
     ]
    }
   ],
   "source": [
    "#final model performance on train+val\n",
    "X_train_val = np.vstack((X_train, X_val))\n",
    "y_train_val = np.hstack((y_train, y_val))\n",
    "print(X_train_val.shape)\n",
    "print(y_train_val.shape)\n",
    "\n",
    "rmse = repetition_results['rmse']\n",
    "best_best_i = np.argmin(rmse) # best = minimum RMSE\n",
    "hp = repetition_results['hp']\n",
    "best_best_hp = hp[best_best_i]\n",
    "\n",
    "rmse, mae = fit_and_score(model_pipe, best_best_hp,\n",
    "    X_train_val, y_train_val, X_test, y_test)\n",
    "\n",
    "print(f\"Best overall HP:{best_best_hp}\")\n",
    "print(f\"Best overall RMSE: {rmse:.4}\")\n",
    "print(f\"Best overall MAE: {mae:.4}\")"
   ]
  },
  {
   "cell_type": "markdown",
   "id": "272dfb45-009b-43b7-b950-ccbb29f29471",
   "metadata": {},
   "source": [
    "Obtain mean and stdev statistics across the repetitions"
   ]
  },
  {
   "cell_type": "code",
   "execution_count": 16,
   "id": "539f98f8-a036-41d9-b896-d833d4935539",
   "metadata": {},
   "outputs": [
    {
     "name": "stdout",
     "output_type": "stream",
     "text": [
      "{'hp': [{'n_estimators': 451, 'max_depth': 451, 'min_samples_split': 6, 'max_features': 'sqrt', 'min_samples_leaf': 1}, {'n_estimators': 376, 'max_depth': 201, 'min_samples_split': 5, 'max_features': 'sqrt', 'min_samples_leaf': 1}, {'n_estimators': 301, 'max_depth': 201, 'min_samples_split': 6, 'max_features': 'log2', 'min_samples_leaf': 1}, {'n_estimators': 376, 'max_depth': 101, 'min_samples_split': 8, 'max_features': 'log2', 'min_samples_leaf': 1}, {'n_estimators': 301, 'max_depth': 201, 'min_samples_split': 6, 'max_features': 'log2', 'min_samples_leaf': 1}, {'n_estimators': 326, 'max_depth': 76, 'min_samples_split': 5, 'max_features': 'sqrt', 'min_samples_leaf': 2}], 'rmse': [3.056026001750922, 3.0383367837412973, 3.0408979709172463, 3.045340648097417, 3.052460707132541, 3.0618777699985866], 'mae': [1.4885044849832474, 1.4890241261301798, 1.4854463588046913, 1.4863651813869234, 1.486576233917567, 1.4700901030661768]}\n",
      "\n",
      "RMSE\n",
      "mean: 3.049, stdev: 0.008364\n",
      "MAE\n",
      "mean: 1.484, stdev: 0.006489\n"
     ]
    }
   ],
   "source": [
    "print(repetition_results)\n",
    "\n",
    "print(\"\\nRMSE\")\n",
    "rmse = repetition_results['rmse']\n",
    "print(f\"mean: {np.mean(rmse):.4}, stdev: {np.std(rmse):.4}\")\n",
    "\n",
    "print(\"MAE\")\n",
    "mae = repetition_results['mae']\n",
    "print(f\"mean: {np.mean(mae):.4}, stdev: {np.std(mae):.4}\")"
   ]
  },
  {
   "cell_type": "code",
   "execution_count": null,
   "id": "81b519d5-4e5a-46e1-a556-da0e67b20433",
   "metadata": {},
   "outputs": [],
   "source": []
  },
  {
   "cell_type": "code",
   "execution_count": null,
   "id": "fc390fca-c078-46e1-a272-d5c057cc0daf",
   "metadata": {},
   "outputs": [],
   "source": []
  },
  {
   "cell_type": "code",
   "execution_count": null,
   "id": "81d69d02-eb66-4f43-8b07-0f528d3072eb",
   "metadata": {},
   "outputs": [],
   "source": []
  }
 ],
 "metadata": {
  "kernelspec": {
   "display_name": "Python 3 (ipykernel)",
   "language": "python",
   "name": "python3"
  },
  "language_info": {
   "codemirror_mode": {
    "name": "ipython",
    "version": 3
   },
   "file_extension": ".py",
   "mimetype": "text/x-python",
   "name": "python",
   "nbconvert_exporter": "python",
   "pygments_lexer": "ipython3",
   "version": "3.10.6"
  }
 },
 "nbformat": 4,
 "nbformat_minor": 5
}
