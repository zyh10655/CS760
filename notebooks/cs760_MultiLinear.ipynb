{
  "nbformat": 4,
  "nbformat_minor": 0,
  "metadata": {
    "colab": {
      "name": "cs760_linear_trans.ipynb",
      "provenance": [],
      "collapsed_sections": []
    },
    "kernelspec": {
      "name": "python3",
      "display_name": "Python 3"
    },
    "language_info": {
      "name": "python"
    }
  },
  "cells": [
    {
      "cell_type": "code",
      "source": [
        "!pip install fastparquet"
      ],
      "metadata": {
        "colab": {
          "base_uri": "https://localhost:8080/"
        },
        "id": "07_DfWWLibd_",
        "outputId": "0b9b0acc-75a7-4436-e3b4-00c13975b222"
      },
      "execution_count": 1,
      "outputs": [
        {
          "output_type": "stream",
          "name": "stdout",
          "text": [
            "Looking in indexes: https://pypi.org/simple, https://us-python.pkg.dev/colab-wheels/public/simple/\n",
            "Collecting fastparquet\n",
            "  Downloading fastparquet-0.8.1-cp37-cp37m-manylinux_2_17_x86_64.manylinux2014_x86_64.whl (1.5 MB)\n",
            "\u001b[K     |████████████████████████████████| 1.5 MB 15.1 MB/s \n",
            "\u001b[?25hRequirement already satisfied: numpy>=1.18 in /usr/local/lib/python3.7/dist-packages (from fastparquet) (1.21.6)\n",
            "Requirement already satisfied: fsspec in /usr/local/lib/python3.7/dist-packages (from fastparquet) (2022.7.1)\n",
            "Collecting cramjam>=2.3.0\n",
            "  Downloading cramjam-2.5.0-cp37-cp37m-manylinux_2_5_x86_64.manylinux1_x86_64.whl (1.6 MB)\n",
            "\u001b[K     |████████████████████████████████| 1.6 MB 69.5 MB/s \n",
            "\u001b[?25hRequirement already satisfied: pandas>=1.1.0 in /usr/local/lib/python3.7/dist-packages (from fastparquet) (1.3.5)\n",
            "Requirement already satisfied: python-dateutil>=2.7.3 in /usr/local/lib/python3.7/dist-packages (from pandas>=1.1.0->fastparquet) (2.8.2)\n",
            "Requirement already satisfied: pytz>=2017.3 in /usr/local/lib/python3.7/dist-packages (from pandas>=1.1.0->fastparquet) (2022.2.1)\n",
            "Requirement already satisfied: six>=1.5 in /usr/local/lib/python3.7/dist-packages (from python-dateutil>=2.7.3->pandas>=1.1.0->fastparquet) (1.15.0)\n",
            "Installing collected packages: cramjam, fastparquet\n",
            "Successfully installed cramjam-2.5.0 fastparquet-0.8.1\n"
          ]
        }
      ]
    },
    {
      "cell_type": "code",
      "execution_count": 2,
      "metadata": {
        "id": "-KGYElZigcFd"
      },
      "outputs": [],
      "source": [
        "import pandas as pd\n",
        "import numpy as np\n",
        "from sklearn import linear_model\n",
        "from sklearn.model_selection import KFold\n",
        "from sklearn.metrics import mean_absolute_error, mean_squared_error\n",
        "from sklearn.model_selection import cross_val_score"
      ]
    },
    {
      "cell_type": "code",
      "source": [
        "train_df = pd.read_parquet(\"train.parquet\", engine = \"fastparquet\")\n",
        "val_df = pd.read_parquet(\"val.parquet\", engine = \"fastparquet\")\n",
        "test_df = pd.read_parquet(\"test.parquet\", engine = \"fastparquet\")\n"
      ],
      "metadata": {
        "id": "GVxCzq7YiHzr"
      },
      "execution_count": 4,
      "outputs": []
    },
    {
      "cell_type": "code",
      "source": [
        "X_train = train_df.drop([\"r_id\", \"r_useful\"], axis=1)\n",
        "y_train = train_df[\"r_useful\"]\n",
        "X_test = test_df.drop([\"r_id\", \"r_useful\"], axis=1)\n",
        "y_test = test_df[\"r_useful\"]"
      ],
      "metadata": {
        "id": "sOyFsz9xlV8U"
      },
      "execution_count": 17,
      "outputs": []
    },
    {
      "cell_type": "code",
      "source": [
        "lr = linear_model.LinearRegression()"
      ],
      "metadata": {
        "id": "ROYDHmBemSdI"
      },
      "execution_count": 18,
      "outputs": []
    },
    {
      "cell_type": "code",
      "source": [
        "model = lr.fit(X_train, y_train)"
      ],
      "metadata": {
        "id": "NIjeLzdDpJiC"
      },
      "execution_count": 19,
      "outputs": []
    },
    {
      "cell_type": "code",
      "source": [
        "#Training \n",
        "mae = mean_absolute_error(y_train, model.predict(X_train))\n",
        "mse = mean_squared_error(y_train, model.predict(X_train))\n",
        "rmse = np.sqrt(mse)\n",
        "print(\"On training set: RMSE:\", rmse, \"MAE\", mae)"
      ],
      "metadata": {
        "colab": {
          "base_uri": "https://localhost:8080/"
        },
        "id": "N3wkyjKorWVL",
        "outputId": "68b57a1b-5077-4f8b-a4dc-89ffe46e612b"
      },
      "execution_count": 20,
      "outputs": [
        {
          "output_type": "stream",
          "name": "stdout",
          "text": [
            "On training set: RMSE: 7.885028359349299 MAE 0.23448256708930962\n"
          ]
        }
      ]
    },
    {
      "cell_type": "code",
      "source": [
        "y_pred = model.predict(X_test)"
      ],
      "metadata": {
        "id": "Xs19aIX2qPbM"
      },
      "execution_count": 9,
      "outputs": []
    },
    {
      "cell_type": "code",
      "source": [
        "#Prediction(test) \n",
        "mae = mean_absolute_error(y_test, y_pred)\n",
        "mse = mean_squared_error(y_test, y_pred)\n",
        "rmse = np.sqrt(mse)\n",
        "print(\"On test set: RMSE:\", rmse, \"MAE\", mae)"
      ],
      "metadata": {
        "colab": {
          "base_uri": "https://localhost:8080/"
        },
        "id": "GxZ7y-v1pOUe",
        "outputId": "7da5b360-bc37-4968-9feb-0c7aa1dfd4f4"
      },
      "execution_count": 10,
      "outputs": [
        {
          "output_type": "stream",
          "name": "stdout",
          "text": [
            "On test set: RMSE: 3.040492381090529 MAE 0.2116022505132479\n"
          ]
        }
      ]
    },
    {
      "cell_type": "code",
      "source": [
        "#on validation set\n",
        "X_val = val_df.drop([\"r_id\", \"r_useful\"], axis=1)\n",
        "y_val = val_df[\"r_useful\"]\n",
        "mae = mean_absolute_error(y_val, model.predict(X_val))\n",
        "mse = mean_squared_error(y_val, model.predict(X_val))\n",
        "rmse = np.sqrt(mse)\n",
        "print(\"On validation set: RMSE:\", rmse, \"MAE\", mae)"
      ],
      "metadata": {
        "colab": {
          "base_uri": "https://localhost:8080/"
        },
        "id": "PZ8UWUs0LEi2",
        "outputId": "e4bc21f0-8537-4376-a951-49de4bda3b77"
      },
      "execution_count": 21,
      "outputs": [
        {
          "output_type": "stream",
          "name": "stdout",
          "text": [
            "On validation set: RMSE: 11.727788011063634 MAE 0.24165889749754704\n"
          ]
        }
      ]
    }
  ]
}