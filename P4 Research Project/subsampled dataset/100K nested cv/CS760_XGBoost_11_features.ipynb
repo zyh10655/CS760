{
  "cells": [
    {
      "cell_type": "code",
      "execution_count": 1,
      "metadata": {
        "id": "8Rxxyk2ChCkF",
        "colab": {
          "base_uri": "https://localhost:8080/"
        },
        "outputId": "613352d7-c9f1-42b4-cca2-e65370da8dbf"
      },
      "outputs": [
        {
          "output_type": "stream",
          "name": "stdout",
          "text": [
            "\u001b[K     |████████████████████████████████| 348 kB 8.1 MB/s \n",
            "\u001b[K     |████████████████████████████████| 81 kB 10.0 MB/s \n",
            "\u001b[K     |████████████████████████████████| 209 kB 66.8 MB/s \n",
            "\u001b[K     |████████████████████████████████| 78 kB 7.1 MB/s \n",
            "\u001b[K     |████████████████████████████████| 49 kB 6.7 MB/s \n",
            "\u001b[K     |████████████████████████████████| 112 kB 71.9 MB/s \n",
            "\u001b[K     |████████████████████████████████| 147 kB 76.1 MB/s \n",
            "\u001b[?25h  Building wheel for pyperclip (setup.py) ... \u001b[?25l\u001b[?25hdone\n"
          ]
        }
      ],
      "source": [
        "!pip install --quiet optuna"
      ]
    },
    {
      "cell_type": "code",
      "execution_count": 2,
      "metadata": {
        "id": "HEMXBJChhLrP"
      },
      "outputs": [],
      "source": [
        "import numpy as np\n",
        "import pandas as pd\n",
        "import optuna as opt\n",
        "import xgboost as xgb\n",
        "from optuna.samplers import TPESampler\n",
        "from sklearn.pipeline import make_pipeline\n",
        "from sklearn.preprocessing import StandardScaler\n",
        "from sklearn.model_selection import KFold, cross_val_score\n",
        "from pathlib import Path\n",
        "import gc\n",
        "\n",
        "from sklearn.metrics import mean_absolute_error, mean_squared_error"
      ]
    },
    {
      "cell_type": "code",
      "execution_count": 3,
      "metadata": {
        "id": "Gk1DTpCxhSDs",
        "colab": {
          "base_uri": "https://localhost:8080/"
        },
        "outputId": "90ec7eeb-223c-4c4e-94b6-585bc71d2704"
      },
      "outputs": [
        {
          "output_type": "stream",
          "name": "stdout",
          "text": [
            "Mounted at /content/drive\n"
          ]
        }
      ],
      "source": [
        "from google.colab import drive\n",
        "drive.mount('/content/drive')"
      ]
    },
    {
      "cell_type": "code",
      "source": [
        "RANDOM_SEED = 2\n",
        "DATA_DIR = Path(\"/content/drive/MyDrive/CS760\")"
      ],
      "metadata": {
        "id": "_f0yPV0biLTV"
      },
      "execution_count": 4,
      "outputs": []
    },
    {
      "cell_type": "code",
      "source": [
        "df_train = pd.read_parquet(DATA_DIR/\"train_main.parquet.snappy\")\n",
        "df_test = pd.read_parquet(DATA_DIR/\"test_main.parquet.snappy\")\n",
        "\n",
        "print(f\"Shape of the training data : {df_train.shape}\")\n",
        "print(f\"Shape of the test data : {df_test.shape}\")"
      ],
      "metadata": {
        "id": "yxtSLd7GieIK",
        "colab": {
          "base_uri": "https://localhost:8080/"
        },
        "outputId": "b5a7215e-e7bf-4686-c631-2d8ff2e15c62"
      },
      "execution_count": 5,
      "outputs": [
        {
          "output_type": "stream",
          "name": "stdout",
          "text": [
            "Shape of the training data : (400000, 13)\n",
            "Shape of the test data : (100000, 13)\n"
          ]
        }
      ]
    },
    {
      "cell_type": "code",
      "source": [
        "df_train.describe().T"
      ],
      "metadata": {
        "id": "-QWAvNuoixc1",
        "colab": {
          "base_uri": "https://localhost:8080/",
          "height": 457
        },
        "outputId": "2c053727-3c89-4d79-b075-330b973d8872"
      },
      "execution_count": 6,
      "outputs": [
        {
          "output_type": "execute_result",
          "data": {
            "text/plain": [
              "                    count          mean           std           min  \\\n",
              "r_id             400000.0  3.525889e+06  2.018260e+06  1.900000e+01   \n",
              "r_stars          400000.0  3.607683e+00  1.539312e+00  1.000000e+00   \n",
              "r_stars_square   400000.0  1.538485e+01  9.625009e+00  1.000000e+00   \n",
              "r_length         400000.0  1.332325e+02  1.149695e+02  0.000000e+00   \n",
              "u_friends_count  400000.0  1.899421e+02  5.735422e+02  1.000000e+00   \n",
              "u_review_count   400000.0  1.915879e+02  5.024456e+02  0.000000e+00   \n",
              "u_month_age      400000.0  4.277618e+01  3.456388e+01  3.802649e-07   \n",
              "b_stars          400000.0  3.744636e+00  7.930024e-01  1.000000e+00   \n",
              "b_review_count   400000.0  3.346235e+02  6.589277e+02  5.000000e+00   \n",
              "r_sen            400000.0  1.821748e-01  1.927162e-01 -1.000000e+00   \n",
              "r_sub            400000.0  4.444842e-01  1.468345e-01  0.000000e+00   \n",
              "r_rea            400000.0  8.004173e+01  1.089027e+01 -4.695200e+02   \n",
              "r_useful         400000.0  2.639448e+00  4.087445e+00  1.000000e+00   \n",
              "\n",
              "                          25%           50%           75%           max  \n",
              "r_id             1.807686e+06  3.486237e+06  5.294850e+06  6.990280e+06  \n",
              "r_stars          2.000000e+00  4.000000e+00  5.000000e+00  5.000000e+00  \n",
              "r_stars_square   4.000000e+00  1.600000e+01  2.500000e+01  2.500000e+01  \n",
              "r_length         5.700000e+01  1.010000e+02  1.700000e+02  1.068000e+03  \n",
              "u_friends_count  2.000000e+00  4.000000e+01  1.680000e+02  1.499500e+04  \n",
              "u_review_count   1.100000e+01  4.400000e+01  1.760000e+02  1.747300e+04  \n",
              "u_month_age      1.362863e+01  3.651231e+01  6.514719e+01  2.017248e+02  \n",
              "b_stars          3.500000e+00  4.000000e+00  4.500000e+00  5.000000e+00  \n",
              "b_review_count   3.900000e+01  1.250000e+02  3.410000e+02  7.568000e+03  \n",
              "r_sen            6.000000e-02  1.805560e-01  3.001218e-01  1.000000e+00  \n",
              "r_sub            3.480770e-01  4.412410e-01  5.375000e-01  1.000000e+00  \n",
              "r_rea            7.442000e+01  8.102000e+01  8.640000e+01  2.068400e+02  \n",
              "r_useful         1.000000e+00  2.000000e+00  3.000000e+00  3.990000e+02  "
            ],
            "text/html": [
              "\n",
              "  <div id=\"df-93acf16c-f2c6-4c0a-aece-af56a4688494\">\n",
              "    <div class=\"colab-df-container\">\n",
              "      <div>\n",
              "<style scoped>\n",
              "    .dataframe tbody tr th:only-of-type {\n",
              "        vertical-align: middle;\n",
              "    }\n",
              "\n",
              "    .dataframe tbody tr th {\n",
              "        vertical-align: top;\n",
              "    }\n",
              "\n",
              "    .dataframe thead th {\n",
              "        text-align: right;\n",
              "    }\n",
              "</style>\n",
              "<table border=\"1\" class=\"dataframe\">\n",
              "  <thead>\n",
              "    <tr style=\"text-align: right;\">\n",
              "      <th></th>\n",
              "      <th>count</th>\n",
              "      <th>mean</th>\n",
              "      <th>std</th>\n",
              "      <th>min</th>\n",
              "      <th>25%</th>\n",
              "      <th>50%</th>\n",
              "      <th>75%</th>\n",
              "      <th>max</th>\n",
              "    </tr>\n",
              "  </thead>\n",
              "  <tbody>\n",
              "    <tr>\n",
              "      <th>r_id</th>\n",
              "      <td>400000.0</td>\n",
              "      <td>3.525889e+06</td>\n",
              "      <td>2.018260e+06</td>\n",
              "      <td>1.900000e+01</td>\n",
              "      <td>1.807686e+06</td>\n",
              "      <td>3.486237e+06</td>\n",
              "      <td>5.294850e+06</td>\n",
              "      <td>6.990280e+06</td>\n",
              "    </tr>\n",
              "    <tr>\n",
              "      <th>r_stars</th>\n",
              "      <td>400000.0</td>\n",
              "      <td>3.607683e+00</td>\n",
              "      <td>1.539312e+00</td>\n",
              "      <td>1.000000e+00</td>\n",
              "      <td>2.000000e+00</td>\n",
              "      <td>4.000000e+00</td>\n",
              "      <td>5.000000e+00</td>\n",
              "      <td>5.000000e+00</td>\n",
              "    </tr>\n",
              "    <tr>\n",
              "      <th>r_stars_square</th>\n",
              "      <td>400000.0</td>\n",
              "      <td>1.538485e+01</td>\n",
              "      <td>9.625009e+00</td>\n",
              "      <td>1.000000e+00</td>\n",
              "      <td>4.000000e+00</td>\n",
              "      <td>1.600000e+01</td>\n",
              "      <td>2.500000e+01</td>\n",
              "      <td>2.500000e+01</td>\n",
              "    </tr>\n",
              "    <tr>\n",
              "      <th>r_length</th>\n",
              "      <td>400000.0</td>\n",
              "      <td>1.332325e+02</td>\n",
              "      <td>1.149695e+02</td>\n",
              "      <td>0.000000e+00</td>\n",
              "      <td>5.700000e+01</td>\n",
              "      <td>1.010000e+02</td>\n",
              "      <td>1.700000e+02</td>\n",
              "      <td>1.068000e+03</td>\n",
              "    </tr>\n",
              "    <tr>\n",
              "      <th>u_friends_count</th>\n",
              "      <td>400000.0</td>\n",
              "      <td>1.899421e+02</td>\n",
              "      <td>5.735422e+02</td>\n",
              "      <td>1.000000e+00</td>\n",
              "      <td>2.000000e+00</td>\n",
              "      <td>4.000000e+01</td>\n",
              "      <td>1.680000e+02</td>\n",
              "      <td>1.499500e+04</td>\n",
              "    </tr>\n",
              "    <tr>\n",
              "      <th>u_review_count</th>\n",
              "      <td>400000.0</td>\n",
              "      <td>1.915879e+02</td>\n",
              "      <td>5.024456e+02</td>\n",
              "      <td>0.000000e+00</td>\n",
              "      <td>1.100000e+01</td>\n",
              "      <td>4.400000e+01</td>\n",
              "      <td>1.760000e+02</td>\n",
              "      <td>1.747300e+04</td>\n",
              "    </tr>\n",
              "    <tr>\n",
              "      <th>u_month_age</th>\n",
              "      <td>400000.0</td>\n",
              "      <td>4.277618e+01</td>\n",
              "      <td>3.456388e+01</td>\n",
              "      <td>3.802649e-07</td>\n",
              "      <td>1.362863e+01</td>\n",
              "      <td>3.651231e+01</td>\n",
              "      <td>6.514719e+01</td>\n",
              "      <td>2.017248e+02</td>\n",
              "    </tr>\n",
              "    <tr>\n",
              "      <th>b_stars</th>\n",
              "      <td>400000.0</td>\n",
              "      <td>3.744636e+00</td>\n",
              "      <td>7.930024e-01</td>\n",
              "      <td>1.000000e+00</td>\n",
              "      <td>3.500000e+00</td>\n",
              "      <td>4.000000e+00</td>\n",
              "      <td>4.500000e+00</td>\n",
              "      <td>5.000000e+00</td>\n",
              "    </tr>\n",
              "    <tr>\n",
              "      <th>b_review_count</th>\n",
              "      <td>400000.0</td>\n",
              "      <td>3.346235e+02</td>\n",
              "      <td>6.589277e+02</td>\n",
              "      <td>5.000000e+00</td>\n",
              "      <td>3.900000e+01</td>\n",
              "      <td>1.250000e+02</td>\n",
              "      <td>3.410000e+02</td>\n",
              "      <td>7.568000e+03</td>\n",
              "    </tr>\n",
              "    <tr>\n",
              "      <th>r_sen</th>\n",
              "      <td>400000.0</td>\n",
              "      <td>1.821748e-01</td>\n",
              "      <td>1.927162e-01</td>\n",
              "      <td>-1.000000e+00</td>\n",
              "      <td>6.000000e-02</td>\n",
              "      <td>1.805560e-01</td>\n",
              "      <td>3.001218e-01</td>\n",
              "      <td>1.000000e+00</td>\n",
              "    </tr>\n",
              "    <tr>\n",
              "      <th>r_sub</th>\n",
              "      <td>400000.0</td>\n",
              "      <td>4.444842e-01</td>\n",
              "      <td>1.468345e-01</td>\n",
              "      <td>0.000000e+00</td>\n",
              "      <td>3.480770e-01</td>\n",
              "      <td>4.412410e-01</td>\n",
              "      <td>5.375000e-01</td>\n",
              "      <td>1.000000e+00</td>\n",
              "    </tr>\n",
              "    <tr>\n",
              "      <th>r_rea</th>\n",
              "      <td>400000.0</td>\n",
              "      <td>8.004173e+01</td>\n",
              "      <td>1.089027e+01</td>\n",
              "      <td>-4.695200e+02</td>\n",
              "      <td>7.442000e+01</td>\n",
              "      <td>8.102000e+01</td>\n",
              "      <td>8.640000e+01</td>\n",
              "      <td>2.068400e+02</td>\n",
              "    </tr>\n",
              "    <tr>\n",
              "      <th>r_useful</th>\n",
              "      <td>400000.0</td>\n",
              "      <td>2.639448e+00</td>\n",
              "      <td>4.087445e+00</td>\n",
              "      <td>1.000000e+00</td>\n",
              "      <td>1.000000e+00</td>\n",
              "      <td>2.000000e+00</td>\n",
              "      <td>3.000000e+00</td>\n",
              "      <td>3.990000e+02</td>\n",
              "    </tr>\n",
              "  </tbody>\n",
              "</table>\n",
              "</div>\n",
              "      <button class=\"colab-df-convert\" onclick=\"convertToInteractive('df-93acf16c-f2c6-4c0a-aece-af56a4688494')\"\n",
              "              title=\"Convert this dataframe to an interactive table.\"\n",
              "              style=\"display:none;\">\n",
              "        \n",
              "  <svg xmlns=\"http://www.w3.org/2000/svg\" height=\"24px\"viewBox=\"0 0 24 24\"\n",
              "       width=\"24px\">\n",
              "    <path d=\"M0 0h24v24H0V0z\" fill=\"none\"/>\n",
              "    <path d=\"M18.56 5.44l.94 2.06.94-2.06 2.06-.94-2.06-.94-.94-2.06-.94 2.06-2.06.94zm-11 1L8.5 8.5l.94-2.06 2.06-.94-2.06-.94L8.5 2.5l-.94 2.06-2.06.94zm10 10l.94 2.06.94-2.06 2.06-.94-2.06-.94-.94-2.06-.94 2.06-2.06.94z\"/><path d=\"M17.41 7.96l-1.37-1.37c-.4-.4-.92-.59-1.43-.59-.52 0-1.04.2-1.43.59L10.3 9.45l-7.72 7.72c-.78.78-.78 2.05 0 2.83L4 21.41c.39.39.9.59 1.41.59.51 0 1.02-.2 1.41-.59l7.78-7.78 2.81-2.81c.8-.78.8-2.07 0-2.86zM5.41 20L4 18.59l7.72-7.72 1.47 1.35L5.41 20z\"/>\n",
              "  </svg>\n",
              "      </button>\n",
              "      \n",
              "  <style>\n",
              "    .colab-df-container {\n",
              "      display:flex;\n",
              "      flex-wrap:wrap;\n",
              "      gap: 12px;\n",
              "    }\n",
              "\n",
              "    .colab-df-convert {\n",
              "      background-color: #E8F0FE;\n",
              "      border: none;\n",
              "      border-radius: 50%;\n",
              "      cursor: pointer;\n",
              "      display: none;\n",
              "      fill: #1967D2;\n",
              "      height: 32px;\n",
              "      padding: 0 0 0 0;\n",
              "      width: 32px;\n",
              "    }\n",
              "\n",
              "    .colab-df-convert:hover {\n",
              "      background-color: #E2EBFA;\n",
              "      box-shadow: 0px 1px 2px rgba(60, 64, 67, 0.3), 0px 1px 3px 1px rgba(60, 64, 67, 0.15);\n",
              "      fill: #174EA6;\n",
              "    }\n",
              "\n",
              "    [theme=dark] .colab-df-convert {\n",
              "      background-color: #3B4455;\n",
              "      fill: #D2E3FC;\n",
              "    }\n",
              "\n",
              "    [theme=dark] .colab-df-convert:hover {\n",
              "      background-color: #434B5C;\n",
              "      box-shadow: 0px 1px 3px 1px rgba(0, 0, 0, 0.15);\n",
              "      filter: drop-shadow(0px 1px 2px rgba(0, 0, 0, 0.3));\n",
              "      fill: #FFFFFF;\n",
              "    }\n",
              "  </style>\n",
              "\n",
              "      <script>\n",
              "        const buttonEl =\n",
              "          document.querySelector('#df-93acf16c-f2c6-4c0a-aece-af56a4688494 button.colab-df-convert');\n",
              "        buttonEl.style.display =\n",
              "          google.colab.kernel.accessAllowed ? 'block' : 'none';\n",
              "\n",
              "        async function convertToInteractive(key) {\n",
              "          const element = document.querySelector('#df-93acf16c-f2c6-4c0a-aece-af56a4688494');\n",
              "          const dataTable =\n",
              "            await google.colab.kernel.invokeFunction('convertToInteractive',\n",
              "                                                     [key], {});\n",
              "          if (!dataTable) return;\n",
              "\n",
              "          const docLinkHtml = 'Like what you see? Visit the ' +\n",
              "            '<a target=\"_blank\" href=https://colab.research.google.com/notebooks/data_table.ipynb>data table notebook</a>'\n",
              "            + ' to learn more about interactive tables.';\n",
              "          element.innerHTML = '';\n",
              "          dataTable['output_type'] = 'display_data';\n",
              "          await google.colab.output.renderOutput(dataTable, element);\n",
              "          const docLink = document.createElement('div');\n",
              "          docLink.innerHTML = docLinkHtml;\n",
              "          element.appendChild(docLink);\n",
              "        }\n",
              "      </script>\n",
              "    </div>\n",
              "  </div>\n",
              "  "
            ]
          },
          "metadata": {},
          "execution_count": 6
        }
      ]
    },
    {
      "cell_type": "code",
      "source": [
        "X_train, y_train = df_train.drop(['r_useful', 'r_id'], axis=1).values, df_train['r_useful'].values\n",
        "X_test, y_test = df_test.drop(['r_useful', 'r_id'], axis=1).values, df_test['r_useful'].values"
      ],
      "metadata": {
        "id": "JoK7iekTi7BK"
      },
      "execution_count": 7,
      "outputs": []
    },
    {
      "cell_type": "code",
      "source": [
        "def objective(trial):\n",
        "  \"\"\" Function to tune parameters \"\"\"\n",
        "  gc.collect()\n",
        "  params = {\n",
        "      \"n_estimators\":trial.suggest_int('n_estimators', 1, 1001, step=50),\n",
        "      \"max_depth\" : trial.suggest_int(\"max_depth\", 2, 20),\n",
        "      \"learning_rate\" : trial.suggest_float('learning_rate', 0.001, 0.5, log=True),\n",
        "      \"subsample \": trial.suggest_float(\"subsample\", 0.4, 1, step=0.1),\n",
        "      \"colsample_bytree\": trial.suggest_float(\"colsample_bytree\", 0.4, 1, step=0.1),\n",
        "      \"gamma\": trial.suggest_float(\"gamma\", 0, 1),\n",
        "      \"min_child_weight\": trial.suggest_int(\"min_child_weight\", 1, 31, step=2)\n",
        "  }\n",
        "\n",
        "  print(\"Currently running with:\")\n",
        "  print(params)\n",
        "\n",
        "  model = xgb.XGBRegressor(objective=\"reg:squarederror\",\n",
        "                            n_jobs=-1,\n",
        "                            grow_policy='lossguide',\n",
        "                            tree_method=\"gpu_hist\",\n",
        "                            predictor=\"gpu_predictor\",\n",
        "                            booster='gbtree',\n",
        "                            sampling_method='gradient_based',\n",
        "                            eval_metrics=['rmse'],\n",
        "                            random_state=RANDOM_SEED,\n",
        "                            enable_categorical=False,\n",
        "                            **params)\n",
        "  pipe = make_pipeline(StandardScaler(), model)\n",
        "\n",
        "  scores = cross_val_score(pipe, X_train, y_train,\n",
        "    scoring=\"neg_root_mean_squared_error\", cv=KFold(3))\n",
        "\n",
        "  return -scores.mean()\n",
        "\n",
        "study = opt.create_study(direction='minimize', sampler=TPESampler(seed=RANDOM_SEED))\n",
        "study.optimize(objective, n_trials=50)\n",
        "print(\"Final best parameters:\")\n",
        "study.best_params"
      ],
      "metadata": {
        "colab": {
          "base_uri": "https://localhost:8080/"
        },
        "id": "fiiBJsqwE_tS",
        "outputId": "a963c295-9d2b-41cf-9146-f474a0e92d74"
      },
      "execution_count": 8,
      "outputs": [
        {
          "output_type": "stream",
          "name": "stderr",
          "text": [
            "\u001b[32m[I 2022-10-01 00:20:06,849]\u001b[0m A new study created in memory with name: no-name-e6887848-4f54-4901-88c8-8badddd76115\u001b[0m\n"
          ]
        },
        {
          "output_type": "stream",
          "name": "stdout",
          "text": [
            "Currently running with:\n",
            "{'n_estimators': 451, 'max_depth': 2, 'learning_rate': 0.030445460008040798, 'subsample ': 0.7000000000000001, 'colsample_bytree': 0.6000000000000001, 'gamma': 0.3303348210038741, 'min_child_weight': 7}\n"
          ]
        },
        {
          "output_type": "stream",
          "name": "stderr",
          "text": [
            "\u001b[32m[I 2022-10-01 00:20:17,491]\u001b[0m Trial 0 finished with value: 3.7135762047750642 and parameters: {'n_estimators': 451, 'max_depth': 2, 'learning_rate': 0.030445460008040798, 'subsample': 0.7000000000000001, 'colsample_bytree': 0.6000000000000001, 'gamma': 0.3303348210038741, 'min_child_weight': 7}. Best is trial 0 with value: 3.7135762047750642.\u001b[0m\n"
          ]
        },
        {
          "output_type": "stream",
          "name": "stdout",
          "text": [
            "Currently running with:\n",
            "{'n_estimators': 651, 'max_depth': 7, 'learning_rate': 0.005249994057689375, 'subsample ': 0.8, 'colsample_bytree': 0.7000000000000001, 'gamma': 0.13457994534493356, 'min_child_weight': 17}\n"
          ]
        },
        {
          "output_type": "stream",
          "name": "stderr",
          "text": [
            "\u001b[32m[I 2022-10-01 00:20:40,447]\u001b[0m Trial 1 finished with value: 3.5931423895160304 and parameters: {'n_estimators': 651, 'max_depth': 7, 'learning_rate': 0.005249994057689375, 'subsample': 0.8, 'colsample_bytree': 0.7000000000000001, 'gamma': 0.13457994534493356, 'min_child_weight': 17}. Best is trial 1 with value: 3.5931423895160304.\u001b[0m\n"
          ]
        },
        {
          "output_type": "stream",
          "name": "stdout",
          "text": [
            "Currently running with:\n",
            "{'n_estimators': 151, 'max_depth': 16, 'learning_rate': 0.20176865513948422, 'subsample ': 0.7000000000000001, 'colsample_bytree': 0.9, 'gamma': 0.079645477009061, 'min_child_weight': 17}\n"
          ]
        },
        {
          "output_type": "stream",
          "name": "stderr",
          "text": [
            "\u001b[32m[I 2022-10-01 00:21:30,075]\u001b[0m Trial 2 finished with value: 3.651840959381204 and parameters: {'n_estimators': 151, 'max_depth': 16, 'learning_rate': 0.20176865513948422, 'subsample': 0.7000000000000001, 'colsample_bytree': 0.9, 'gamma': 0.079645477009061, 'min_child_weight': 17}. Best is trial 1 with value: 3.5931423895160304.\u001b[0m\n"
          ]
        },
        {
          "output_type": "stream",
          "name": "stdout",
          "text": [
            "Currently running with:\n",
            "{'n_estimators': 51, 'max_depth': 10, 'learning_rate': 0.001821939895716244, 'subsample ': 0.4, 'colsample_bytree': 0.8, 'gamma': 0.22601200060423587, 'min_child_weight': 3}\n"
          ]
        },
        {
          "output_type": "stream",
          "name": "stderr",
          "text": [
            "\u001b[32m[I 2022-10-01 00:21:37,286]\u001b[0m Trial 3 finished with value: 4.469772396004045 and parameters: {'n_estimators': 51, 'max_depth': 10, 'learning_rate': 0.001821939895716244, 'subsample': 0.4, 'colsample_bytree': 0.8, 'gamma': 0.22601200060423587, 'min_child_weight': 3}. Best is trial 1 with value: 3.5931423895160304.\u001b[0m\n"
          ]
        },
        {
          "output_type": "stream",
          "name": "stdout",
          "text": [
            "Currently running with:\n",
            "{'n_estimators': 201, 'max_depth': 8, 'learning_rate': 0.01830393181458461, 'subsample ': 0.5, 'colsample_bytree': 0.8, 'gamma': 0.48306983555175165, 'min_child_weight': 17}\n"
          ]
        },
        {
          "output_type": "stream",
          "name": "stderr",
          "text": [
            "\u001b[32m[I 2022-10-01 00:21:47,754]\u001b[0m Trial 4 finished with value: 3.5580437954548816 and parameters: {'n_estimators': 201, 'max_depth': 8, 'learning_rate': 0.01830393181458461, 'subsample': 0.5, 'colsample_bytree': 0.8, 'gamma': 0.48306983555175165, 'min_child_weight': 17}. Best is trial 4 with value: 3.5580437954548816.\u001b[0m\n"
          ]
        },
        {
          "output_type": "stream",
          "name": "stdout",
          "text": [
            "Currently running with:\n",
            "{'n_estimators': 401, 'max_depth': 17, 'learning_rate': 0.036763248613166925, 'subsample ': 0.5, 'colsample_bytree': 0.8, 'gamma': 0.9645510800892552, 'min_child_weight': 17}\n"
          ]
        },
        {
          "output_type": "stream",
          "name": "stderr",
          "text": [
            "\u001b[32m[I 2022-10-01 00:24:36,730]\u001b[0m Trial 5 finished with value: 3.518328293138739 and parameters: {'n_estimators': 401, 'max_depth': 17, 'learning_rate': 0.036763248613166925, 'subsample': 0.5, 'colsample_bytree': 0.8, 'gamma': 0.9645510800892552, 'min_child_weight': 17}. Best is trial 5 with value: 3.518328293138739.\u001b[0m\n"
          ]
        },
        {
          "output_type": "stream",
          "name": "stdout",
          "text": [
            "Currently running with:\n",
            "{'n_estimators': 901, 'max_depth': 8, 'learning_rate': 0.0339394647270345, 'subsample ': 0.6000000000000001, 'colsample_bytree': 0.7000000000000001, 'gamma': 0.7765591849971003, 'min_child_weight': 17}\n"
          ]
        },
        {
          "output_type": "stream",
          "name": "stderr",
          "text": [
            "\u001b[32m[I 2022-10-01 00:25:11,797]\u001b[0m Trial 6 finished with value: 3.507886179055921 and parameters: {'n_estimators': 901, 'max_depth': 8, 'learning_rate': 0.0339394647270345, 'subsample': 0.6000000000000001, 'colsample_bytree': 0.7000000000000001, 'gamma': 0.7765591849971003, 'min_child_weight': 17}. Best is trial 6 with value: 3.507886179055921.\u001b[0m\n"
          ]
        },
        {
          "output_type": "stream",
          "name": "stdout",
          "text": [
            "Currently running with:\n",
            "{'n_estimators': 1001, 'max_depth': 12, 'learning_rate': 0.0016656039140499094, 'subsample ': 0.6000000000000001, 'colsample_bytree': 0.9, 'gamma': 0.4062750430479508, 'min_child_weight': 1}\n"
          ]
        },
        {
          "output_type": "stream",
          "name": "stderr",
          "text": [
            "\u001b[32m[I 2022-10-01 00:31:13,498]\u001b[0m Trial 7 finished with value: 3.639383994191077 and parameters: {'n_estimators': 1001, 'max_depth': 12, 'learning_rate': 0.0016656039140499094, 'subsample': 0.6000000000000001, 'colsample_bytree': 0.9, 'gamma': 0.4062750430479508, 'min_child_weight': 1}. Best is trial 6 with value: 3.507886179055921.\u001b[0m\n"
          ]
        },
        {
          "output_type": "stream",
          "name": "stdout",
          "text": [
            "Currently running with:\n",
            "{'n_estimators': 251, 'max_depth': 3, 'learning_rate': 0.4812566765285445, 'subsample ': 1.0, 'colsample_bytree': 0.9, 'gamma': 0.6018171214054674, 'min_child_weight': 25}\n"
          ]
        },
        {
          "output_type": "stream",
          "name": "stderr",
          "text": [
            "\u001b[32m[I 2022-10-01 00:31:18,386]\u001b[0m Trial 8 finished with value: 3.594779923836087 and parameters: {'n_estimators': 251, 'max_depth': 3, 'learning_rate': 0.4812566765285445, 'subsample': 1.0, 'colsample_bytree': 0.9, 'gamma': 0.6018171214054674, 'min_child_weight': 25}. Best is trial 6 with value: 3.507886179055921.\u001b[0m\n"
          ]
        },
        {
          "output_type": "stream",
          "name": "stdout",
          "text": [
            "Currently running with:\n",
            "{'n_estimators': 151, 'max_depth': 7, 'learning_rate': 0.025968135983975103, 'subsample ': 0.6000000000000001, 'colsample_bytree': 0.4, 'gamma': 0.9831534453572127, 'min_child_weight': 15}\n"
          ]
        },
        {
          "output_type": "stream",
          "name": "stderr",
          "text": [
            "\u001b[32m[I 2022-10-01 00:31:24,224]\u001b[0m Trial 9 finished with value: 3.6701687086872634 and parameters: {'n_estimators': 151, 'max_depth': 7, 'learning_rate': 0.025968135983975103, 'subsample': 0.6000000000000001, 'colsample_bytree': 0.4, 'gamma': 0.9831534453572127, 'min_child_weight': 15}. Best is trial 6 with value: 3.507886179055921.\u001b[0m\n"
          ]
        },
        {
          "output_type": "stream",
          "name": "stdout",
          "text": [
            "Currently running with:\n",
            "{'n_estimators': 1001, 'max_depth': 14, 'learning_rate': 0.15680282430784281, 'subsample ': 0.9, 'colsample_bytree': 0.5, 'gamma': 0.7116842635242707, 'min_child_weight': 31}\n"
          ]
        },
        {
          "output_type": "stream",
          "name": "stderr",
          "text": [
            "\u001b[32m[I 2022-10-01 00:33:53,440]\u001b[0m Trial 10 finished with value: 3.674980414734135 and parameters: {'n_estimators': 1001, 'max_depth': 14, 'learning_rate': 0.15680282430784281, 'subsample': 0.9, 'colsample_bytree': 0.5, 'gamma': 0.7116842635242707, 'min_child_weight': 31}. Best is trial 6 with value: 3.507886179055921.\u001b[0m\n"
          ]
        },
        {
          "output_type": "stream",
          "name": "stdout",
          "text": [
            "Currently running with:\n",
            "{'n_estimators': 701, 'max_depth': 19, 'learning_rate': 0.05692887856923461, 'subsample ': 0.4, 'colsample_bytree': 0.7000000000000001, 'gamma': 0.9937515940326105, 'min_child_weight': 11}\n"
          ]
        },
        {
          "output_type": "stream",
          "name": "stderr",
          "text": [
            "\u001b[32m[I 2022-10-01 00:42:40,051]\u001b[0m Trial 11 finished with value: 3.5673228792110745 and parameters: {'n_estimators': 701, 'max_depth': 19, 'learning_rate': 0.05692887856923461, 'subsample': 0.4, 'colsample_bytree': 0.7000000000000001, 'gamma': 0.9937515940326105, 'min_child_weight': 11}. Best is trial 6 with value: 3.507886179055921.\u001b[0m\n"
          ]
        },
        {
          "output_type": "stream",
          "name": "stdout",
          "text": [
            "Currently running with:\n",
            "{'n_estimators': 501, 'max_depth': 20, 'learning_rate': 0.011061224050569278, 'subsample ': 0.5, 'colsample_bytree': 1.0, 'gamma': 0.7970280938251975, 'min_child_weight': 23}\n"
          ]
        },
        {
          "output_type": "stream",
          "name": "stderr",
          "text": [
            "\u001b[32m[I 2022-10-01 00:49:32,307]\u001b[0m Trial 12 finished with value: 3.5382774502078393 and parameters: {'n_estimators': 501, 'max_depth': 20, 'learning_rate': 0.011061224050569278, 'subsample': 0.5, 'colsample_bytree': 1.0, 'gamma': 0.7970280938251975, 'min_child_weight': 23}. Best is trial 6 with value: 3.507886179055921.\u001b[0m\n"
          ]
        },
        {
          "output_type": "stream",
          "name": "stdout",
          "text": [
            "Currently running with:\n",
            "{'n_estimators': 801, 'max_depth': 16, 'learning_rate': 0.052856633324468924, 'subsample ': 0.6000000000000001, 'colsample_bytree': 0.6000000000000001, 'gamma': 0.8261663652334822, 'min_child_weight': 23}\n"
          ]
        },
        {
          "output_type": "stream",
          "name": "stderr",
          "text": [
            "\u001b[32m[I 2022-10-01 00:52:53,176]\u001b[0m Trial 13 finished with value: 3.5515010280175354 and parameters: {'n_estimators': 801, 'max_depth': 16, 'learning_rate': 0.052856633324468924, 'subsample': 0.6000000000000001, 'colsample_bytree': 0.6000000000000001, 'gamma': 0.8261663652334822, 'min_child_weight': 23}. Best is trial 6 with value: 3.507886179055921.\u001b[0m\n"
          ]
        },
        {
          "output_type": "stream",
          "name": "stdout",
          "text": [
            "Currently running with:\n",
            "{'n_estimators': 351, 'max_depth': 5, 'learning_rate': 0.007750464561034602, 'subsample ': 0.5, 'colsample_bytree': 0.8, 'gamma': 0.8628545916121056, 'min_child_weight': 11}\n"
          ]
        },
        {
          "output_type": "stream",
          "name": "stderr",
          "text": [
            "\u001b[32m[I 2022-10-01 00:53:01,590]\u001b[0m Trial 14 finished with value: 3.6574547644286532 and parameters: {'n_estimators': 351, 'max_depth': 5, 'learning_rate': 0.007750464561034602, 'subsample': 0.5, 'colsample_bytree': 0.8, 'gamma': 0.8628545916121056, 'min_child_weight': 11}. Best is trial 6 with value: 3.507886179055921.\u001b[0m\n"
          ]
        },
        {
          "output_type": "stream",
          "name": "stdout",
          "text": [
            "Currently running with:\n",
            "{'n_estimators': 851, 'max_depth': 11, 'learning_rate': 0.07527900038113386, 'subsample ': 0.8, 'colsample_bytree': 0.6000000000000001, 'gamma': 0.7273681546988874, 'min_child_weight': 21}\n"
          ]
        },
        {
          "output_type": "stream",
          "name": "stderr",
          "text": [
            "\u001b[32m[I 2022-10-01 00:54:10,529]\u001b[0m Trial 15 finished with value: 3.5433285974237223 and parameters: {'n_estimators': 851, 'max_depth': 11, 'learning_rate': 0.07527900038113386, 'subsample': 0.8, 'colsample_bytree': 0.6000000000000001, 'gamma': 0.7273681546988874, 'min_child_weight': 21}. Best is trial 6 with value: 3.507886179055921.\u001b[0m\n"
          ]
        },
        {
          "output_type": "stream",
          "name": "stdout",
          "text": [
            "Currently running with:\n",
            "{'n_estimators': 601, 'max_depth': 17, 'learning_rate': 0.003760428342417725, 'subsample ': 0.5, 'colsample_bytree': 1.0, 'gamma': 0.5931703198526505, 'min_child_weight': 11}\n"
          ]
        },
        {
          "output_type": "stream",
          "name": "stderr",
          "text": [
            "\u001b[32m[I 2022-10-01 01:04:55,586]\u001b[0m Trial 16 finished with value: 3.572468203361586 and parameters: {'n_estimators': 601, 'max_depth': 17, 'learning_rate': 0.003760428342417725, 'subsample': 0.5, 'colsample_bytree': 1.0, 'gamma': 0.5931703198526505, 'min_child_weight': 11}. Best is trial 6 with value: 3.507886179055921.\u001b[0m\n"
          ]
        },
        {
          "output_type": "stream",
          "name": "stdout",
          "text": [
            "Currently running with:\n",
            "{'n_estimators': 351, 'max_depth': 13, 'learning_rate': 0.16096040602900347, 'subsample ': 0.6000000000000001, 'colsample_bytree': 0.7000000000000001, 'gamma': 0.8986338046158237, 'min_child_weight': 29}\n"
          ]
        },
        {
          "output_type": "stream",
          "name": "stderr",
          "text": [
            "\u001b[32m[I 2022-10-01 01:05:38,876]\u001b[0m Trial 17 finished with value: 3.605215093738984 and parameters: {'n_estimators': 351, 'max_depth': 13, 'learning_rate': 0.16096040602900347, 'subsample': 0.6000000000000001, 'colsample_bytree': 0.7000000000000001, 'gamma': 0.8986338046158237, 'min_child_weight': 29}. Best is trial 6 with value: 3.507886179055921.\u001b[0m\n"
          ]
        },
        {
          "output_type": "stream",
          "name": "stdout",
          "text": [
            "Currently running with:\n",
            "{'n_estimators': 801, 'max_depth': 9, 'learning_rate': 0.012542901308559886, 'subsample ': 0.7000000000000001, 'colsample_bytree': 0.5, 'gamma': 0.6767613105732481, 'min_child_weight': 13}\n"
          ]
        },
        {
          "output_type": "stream",
          "name": "stderr",
          "text": [
            "\u001b[32m[I 2022-10-01 01:06:30,593]\u001b[0m Trial 18 finished with value: 3.5323810701144875 and parameters: {'n_estimators': 801, 'max_depth': 9, 'learning_rate': 0.012542901308559886, 'subsample': 0.7000000000000001, 'colsample_bytree': 0.5, 'gamma': 0.6767613105732481, 'min_child_weight': 13}. Best is trial 6 with value: 3.507886179055921.\u001b[0m\n"
          ]
        },
        {
          "output_type": "stream",
          "name": "stdout",
          "text": [
            "Currently running with:\n",
            "{'n_estimators': 401, 'max_depth': 14, 'learning_rate': 0.09267336307592426, 'subsample ': 0.4, 'colsample_bytree': 0.8, 'gamma': 0.923712977494248, 'min_child_weight': 7}\n"
          ]
        },
        {
          "output_type": "stream",
          "name": "stderr",
          "text": [
            "\u001b[32m[I 2022-10-01 01:08:26,902]\u001b[0m Trial 19 finished with value: 3.5637819347480924 and parameters: {'n_estimators': 401, 'max_depth': 14, 'learning_rate': 0.09267336307592426, 'subsample': 0.4, 'colsample_bytree': 0.8, 'gamma': 0.923712977494248, 'min_child_weight': 7}. Best is trial 6 with value: 3.507886179055921.\u001b[0m\n"
          ]
        },
        {
          "output_type": "stream",
          "name": "stdout",
          "text": [
            "Currently running with:\n",
            "{'n_estimators': 551, 'max_depth': 18, 'learning_rate': 0.03632109454704993, 'subsample ': 0.8, 'colsample_bytree': 0.5, 'gamma': 0.5802743584904809, 'min_child_weight': 21}\n"
          ]
        },
        {
          "output_type": "stream",
          "name": "stderr",
          "text": [
            "\u001b[32m[I 2022-10-01 01:12:55,627]\u001b[0m Trial 20 finished with value: 3.546030619343243 and parameters: {'n_estimators': 551, 'max_depth': 18, 'learning_rate': 0.03632109454704993, 'subsample': 0.8, 'colsample_bytree': 0.5, 'gamma': 0.5802743584904809, 'min_child_weight': 21}. Best is trial 6 with value: 3.507886179055921.\u001b[0m\n"
          ]
        },
        {
          "output_type": "stream",
          "name": "stdout",
          "text": [
            "Currently running with:\n",
            "{'n_estimators': 801, 'max_depth': 9, 'learning_rate': 0.01623435446148913, 'subsample ': 0.7000000000000001, 'colsample_bytree': 0.4, 'gamma': 0.7304443665729523, 'min_child_weight': 13}\n"
          ]
        },
        {
          "output_type": "stream",
          "name": "stderr",
          "text": [
            "\u001b[32m[I 2022-10-01 01:13:47,563]\u001b[0m Trial 21 finished with value: 3.5522838470166413 and parameters: {'n_estimators': 801, 'max_depth': 9, 'learning_rate': 0.01623435446148913, 'subsample': 0.7000000000000001, 'colsample_bytree': 0.4, 'gamma': 0.7304443665729523, 'min_child_weight': 13}. Best is trial 6 with value: 3.507886179055921.\u001b[0m\n"
          ]
        },
        {
          "output_type": "stream",
          "name": "stdout",
          "text": [
            "Currently running with:\n",
            "{'n_estimators': 901, 'max_depth': 4, 'learning_rate': 0.01214787084037558, 'subsample ': 0.6000000000000001, 'colsample_bytree': 0.5, 'gamma': 0.6851463559142934, 'min_child_weight': 19}\n"
          ]
        },
        {
          "output_type": "stream",
          "name": "stderr",
          "text": [
            "\u001b[32m[I 2022-10-01 01:14:05,474]\u001b[0m Trial 22 finished with value: 3.640592712137782 and parameters: {'n_estimators': 901, 'max_depth': 4, 'learning_rate': 0.01214787084037558, 'subsample': 0.6000000000000001, 'colsample_bytree': 0.5, 'gamma': 0.6851463559142934, 'min_child_weight': 19}. Best is trial 6 with value: 3.507886179055921.\u001b[0m\n"
          ]
        },
        {
          "output_type": "stream",
          "name": "stdout",
          "text": [
            "Currently running with:\n",
            "{'n_estimators': 751, 'max_depth': 6, 'learning_rate': 0.0035090669444661424, 'subsample ': 0.7000000000000001, 'colsample_bytree': 0.7000000000000001, 'gamma': 0.7869262980558853, 'min_child_weight': 7}\n"
          ]
        },
        {
          "output_type": "stream",
          "name": "stderr",
          "text": [
            "\u001b[32m[I 2022-10-01 01:14:26,113]\u001b[0m Trial 23 finished with value: 3.6420541321206223 and parameters: {'n_estimators': 751, 'max_depth': 6, 'learning_rate': 0.0035090669444661424, 'subsample': 0.7000000000000001, 'colsample_bytree': 0.7000000000000001, 'gamma': 0.7869262980558853, 'min_child_weight': 7}. Best is trial 6 with value: 3.507886179055921.\u001b[0m\n"
          ]
        },
        {
          "output_type": "stream",
          "name": "stdout",
          "text": [
            "Currently running with:\n",
            "{'n_estimators': 901, 'max_depth': 10, 'learning_rate': 0.0386603104300518, 'subsample ': 0.5, 'colsample_bytree': 0.6000000000000001, 'gamma': 0.6599403724939518, 'min_child_weight': 13}\n"
          ]
        },
        {
          "output_type": "stream",
          "name": "stderr",
          "text": [
            "\u001b[32m[I 2022-10-01 01:15:29,518]\u001b[0m Trial 24 finished with value: 3.5121650746021746 and parameters: {'n_estimators': 901, 'max_depth': 10, 'learning_rate': 0.0386603104300518, 'subsample': 0.5, 'colsample_bytree': 0.6000000000000001, 'gamma': 0.6599403724939518, 'min_child_weight': 13}. Best is trial 6 with value: 3.507886179055921.\u001b[0m\n"
          ]
        },
        {
          "output_type": "stream",
          "name": "stdout",
          "text": [
            "Currently running with:\n",
            "{'n_estimators': 901, 'max_depth': 12, 'learning_rate': 0.04188426567294114, 'subsample ': 0.5, 'colsample_bytree': 0.6000000000000001, 'gamma': 0.9208538002108441, 'min_child_weight': 15}\n"
          ]
        },
        {
          "output_type": "stream",
          "name": "stderr",
          "text": [
            "\u001b[32m[I 2022-10-01 01:17:18,955]\u001b[0m Trial 25 finished with value: 3.520401726952729 and parameters: {'n_estimators': 901, 'max_depth': 12, 'learning_rate': 0.04188426567294114, 'subsample': 0.5, 'colsample_bytree': 0.6000000000000001, 'gamma': 0.9208538002108441, 'min_child_weight': 15}. Best is trial 6 with value: 3.507886179055921.\u001b[0m\n"
          ]
        },
        {
          "output_type": "stream",
          "name": "stdout",
          "text": [
            "Currently running with:\n",
            "{'n_estimators': 951, 'max_depth': 10, 'learning_rate': 0.023268243404161684, 'subsample ': 0.4, 'colsample_bytree': 0.8, 'gamma': 0.5189682603347857, 'min_child_weight': 19}\n"
          ]
        },
        {
          "output_type": "stream",
          "name": "stderr",
          "text": [
            "\u001b[32m[I 2022-10-01 01:18:21,536]\u001b[0m Trial 26 finished with value: 3.501533369641274 and parameters: {'n_estimators': 951, 'max_depth': 10, 'learning_rate': 0.023268243404161684, 'subsample': 0.4, 'colsample_bytree': 0.8, 'gamma': 0.5189682603347857, 'min_child_weight': 19}. Best is trial 26 with value: 3.501533369641274.\u001b[0m\n"
          ]
        },
        {
          "output_type": "stream",
          "name": "stdout",
          "text": [
            "Currently running with:\n",
            "{'n_estimators': 951, 'max_depth': 10, 'learning_rate': 0.09521200203499576, 'subsample ': 0.4, 'colsample_bytree': 0.6000000000000001, 'gamma': 0.5278850019930392, 'min_child_weight': 27}\n"
          ]
        },
        {
          "output_type": "stream",
          "name": "stderr",
          "text": [
            "\u001b[32m[I 2022-10-01 01:19:18,715]\u001b[0m Trial 27 finished with value: 3.5590415034710055 and parameters: {'n_estimators': 951, 'max_depth': 10, 'learning_rate': 0.09521200203499576, 'subsample': 0.4, 'colsample_bytree': 0.6000000000000001, 'gamma': 0.5278850019930392, 'min_child_weight': 27}. Best is trial 26 with value: 3.501533369641274.\u001b[0m\n"
          ]
        },
        {
          "output_type": "stream",
          "name": "stdout",
          "text": [
            "Currently running with:\n",
            "{'n_estimators': 901, 'max_depth': 8, 'learning_rate': 0.026441384700136517, 'subsample ': 0.4, 'colsample_bytree': 0.7000000000000001, 'gamma': 0.40681961413424406, 'min_child_weight': 21}\n"
          ]
        },
        {
          "output_type": "stream",
          "name": "stderr",
          "text": [
            "\u001b[32m[I 2022-10-01 01:19:53,373]\u001b[0m Trial 28 finished with value: 3.5128077503646975 and parameters: {'n_estimators': 901, 'max_depth': 8, 'learning_rate': 0.026441384700136517, 'subsample': 0.4, 'colsample_bytree': 0.7000000000000001, 'gamma': 0.40681961413424406, 'min_child_weight': 21}. Best is trial 26 with value: 3.501533369641274.\u001b[0m\n"
          ]
        },
        {
          "output_type": "stream",
          "name": "stdout",
          "text": [
            "Currently running with:\n",
            "{'n_estimators': 701, 'max_depth': 2, 'learning_rate': 0.007735799848547443, 'subsample ': 0.5, 'colsample_bytree': 0.7000000000000001, 'gamma': 0.27399903792019653, 'min_child_weight': 9}\n"
          ]
        },
        {
          "output_type": "stream",
          "name": "stderr",
          "text": [
            "\u001b[32m[I 2022-10-01 01:20:05,380]\u001b[0m Trial 29 finished with value: 3.738876980417221 and parameters: {'n_estimators': 701, 'max_depth': 2, 'learning_rate': 0.007735799848547443, 'subsample': 0.5, 'colsample_bytree': 0.7000000000000001, 'gamma': 0.27399903792019653, 'min_child_weight': 9}. Best is trial 26 with value: 3.501533369641274.\u001b[0m\n"
          ]
        },
        {
          "output_type": "stream",
          "name": "stdout",
          "text": [
            "Currently running with:\n",
            "{'n_estimators': 1001, 'max_depth': 11, 'learning_rate': 0.023144114223317223, 'subsample ': 0.4, 'colsample_bytree': 0.9, 'gamma': 0.46102495804552274, 'min_child_weight': 19}\n"
          ]
        },
        {
          "output_type": "stream",
          "name": "stderr",
          "text": [
            "\u001b[32m[I 2022-10-01 01:21:30,714]\u001b[0m Trial 30 finished with value: 3.5074769792540157 and parameters: {'n_estimators': 1001, 'max_depth': 11, 'learning_rate': 0.023144114223317223, 'subsample': 0.4, 'colsample_bytree': 0.9, 'gamma': 0.46102495804552274, 'min_child_weight': 19}. Best is trial 26 with value: 3.501533369641274.\u001b[0m\n"
          ]
        },
        {
          "output_type": "stream",
          "name": "stdout",
          "text": [
            "Currently running with:\n",
            "{'n_estimators': 1001, 'max_depth': 11, 'learning_rate': 0.02221939135762398, 'subsample ': 0.4, 'colsample_bytree': 0.9, 'gamma': 0.4262977146433733, 'min_child_weight': 19}\n"
          ]
        },
        {
          "output_type": "stream",
          "name": "stderr",
          "text": [
            "\u001b[32m[I 2022-10-01 01:22:56,666]\u001b[0m Trial 31 finished with value: 3.510062613151844 and parameters: {'n_estimators': 1001, 'max_depth': 11, 'learning_rate': 0.02221939135762398, 'subsample': 0.4, 'colsample_bytree': 0.9, 'gamma': 0.4262977146433733, 'min_child_weight': 19}. Best is trial 26 with value: 3.501533369641274.\u001b[0m\n"
          ]
        },
        {
          "output_type": "stream",
          "name": "stdout",
          "text": [
            "Currently running with:\n",
            "{'n_estimators': 1001, 'max_depth': 12, 'learning_rate': 0.021975025631227604, 'subsample ': 0.4, 'colsample_bytree': 0.9, 'gamma': 0.3739012343330726, 'min_child_weight': 19}\n"
          ]
        },
        {
          "output_type": "stream",
          "name": "stderr",
          "text": [
            "\u001b[32m[I 2022-10-01 01:24:48,646]\u001b[0m Trial 32 finished with value: 3.509825854578043 and parameters: {'n_estimators': 1001, 'max_depth': 12, 'learning_rate': 0.021975025631227604, 'subsample': 0.4, 'colsample_bytree': 0.9, 'gamma': 0.3739012343330726, 'min_child_weight': 19}. Best is trial 26 with value: 3.501533369641274.\u001b[0m\n"
          ]
        },
        {
          "output_type": "stream",
          "name": "stdout",
          "text": [
            "Currently running with:\n",
            "{'n_estimators': 951, 'max_depth': 14, 'learning_rate': 0.017062907165480538, 'subsample ': 0.4, 'colsample_bytree': 0.9, 'gamma': 0.32608899090635013, 'min_child_weight': 19}\n"
          ]
        },
        {
          "output_type": "stream",
          "name": "stderr",
          "text": [
            "\u001b[32m[I 2022-10-01 01:27:58,939]\u001b[0m Trial 33 finished with value: 3.5108737115653845 and parameters: {'n_estimators': 951, 'max_depth': 14, 'learning_rate': 0.017062907165480538, 'subsample': 0.4, 'colsample_bytree': 0.9, 'gamma': 0.32608899090635013, 'min_child_weight': 19}. Best is trial 26 with value: 3.501533369641274.\u001b[0m\n"
          ]
        },
        {
          "output_type": "stream",
          "name": "stdout",
          "text": [
            "Currently running with:\n",
            "{'n_estimators': 1001, 'max_depth': 12, 'learning_rate': 0.007985873748854417, 'subsample ': 0.4, 'colsample_bytree': 1.0, 'gamma': 0.13146642809440884, 'min_child_weight': 25}\n"
          ]
        },
        {
          "output_type": "stream",
          "name": "stderr",
          "text": [
            "\u001b[32m[I 2022-10-01 01:30:04,388]\u001b[0m Trial 34 finished with value: 3.5212538155752817 and parameters: {'n_estimators': 1001, 'max_depth': 12, 'learning_rate': 0.007985873748854417, 'subsample': 0.4, 'colsample_bytree': 1.0, 'gamma': 0.13146642809440884, 'min_child_weight': 25}. Best is trial 26 with value: 3.501533369641274.\u001b[0m\n"
          ]
        },
        {
          "output_type": "stream",
          "name": "stdout",
          "text": [
            "Currently running with:\n",
            "{'n_estimators': 851, 'max_depth': 7, 'learning_rate': 0.06437779166650809, 'subsample ': 0.4, 'colsample_bytree': 0.9, 'gamma': 0.22236381134339966, 'min_child_weight': 19}\n"
          ]
        },
        {
          "output_type": "stream",
          "name": "stderr",
          "text": [
            "\u001b[32m[I 2022-10-01 01:30:30,077]\u001b[0m Trial 35 finished with value: 3.5201125937248015 and parameters: {'n_estimators': 851, 'max_depth': 7, 'learning_rate': 0.06437779166650809, 'subsample': 0.4, 'colsample_bytree': 0.9, 'gamma': 0.22236381134339966, 'min_child_weight': 19}. Best is trial 26 with value: 3.501533369641274.\u001b[0m\n"
          ]
        },
        {
          "output_type": "stream",
          "name": "stdout",
          "text": [
            "Currently running with:\n",
            "{'n_estimators': 951, 'max_depth': 9, 'learning_rate': 0.023091581622119967, 'subsample ': 0.9, 'colsample_bytree': 0.8, 'gamma': 0.003436398555185294, 'min_child_weight': 15}\n"
          ]
        },
        {
          "output_type": "stream",
          "name": "stderr",
          "text": [
            "\u001b[32m[I 2022-10-01 01:31:18,882]\u001b[0m Trial 36 finished with value: 3.502258029184302 and parameters: {'n_estimators': 951, 'max_depth': 9, 'learning_rate': 0.023091581622119967, 'subsample': 0.9, 'colsample_bytree': 0.8, 'gamma': 0.003436398555185294, 'min_child_weight': 15}. Best is trial 26 with value: 3.501533369641274.\u001b[0m\n"
          ]
        },
        {
          "output_type": "stream",
          "name": "stdout",
          "text": [
            "Currently running with:\n",
            "{'n_estimators': 1, 'max_depth': 8, 'learning_rate': 0.005452133100357476, 'subsample ': 0.9, 'colsample_bytree': 0.8, 'gamma': 0.09506024247718184, 'min_child_weight': 17}\n"
          ]
        },
        {
          "output_type": "stream",
          "name": "stderr",
          "text": [
            "\u001b[32m[I 2022-10-01 01:31:19,499]\u001b[0m Trial 37 finished with value: 4.602341127632708 and parameters: {'n_estimators': 1, 'max_depth': 8, 'learning_rate': 0.005452133100357476, 'subsample': 0.9, 'colsample_bytree': 0.8, 'gamma': 0.09506024247718184, 'min_child_weight': 17}. Best is trial 26 with value: 3.501533369641274.\u001b[0m\n"
          ]
        },
        {
          "output_type": "stream",
          "name": "stdout",
          "text": [
            "Currently running with:\n",
            "{'n_estimators': 701, 'max_depth': 9, 'learning_rate': 0.028996104305410636, 'subsample ': 1.0, 'colsample_bytree': 0.8, 'gamma': 0.009994101004452107, 'min_child_weight': 15}\n"
          ]
        },
        {
          "output_type": "stream",
          "name": "stderr",
          "text": [
            "\u001b[32m[I 2022-10-01 01:31:56,009]\u001b[0m Trial 38 finished with value: 3.504147301726642 and parameters: {'n_estimators': 701, 'max_depth': 9, 'learning_rate': 0.028996104305410636, 'subsample': 1.0, 'colsample_bytree': 0.8, 'gamma': 0.009994101004452107, 'min_child_weight': 15}. Best is trial 26 with value: 3.501533369641274.\u001b[0m\n"
          ]
        },
        {
          "output_type": "stream",
          "name": "stdout",
          "text": [
            "Currently running with:\n",
            "{'n_estimators': 651, 'max_depth': 9, 'learning_rate': 0.0010480285112053228, 'subsample ': 1.0, 'colsample_bytree': 0.8, 'gamma': 0.04715823832423002, 'min_child_weight': 15}\n"
          ]
        },
        {
          "output_type": "stream",
          "name": "stderr",
          "text": [
            "\u001b[32m[I 2022-10-01 01:32:45,868]\u001b[0m Trial 39 finished with value: 3.9318544561266493 and parameters: {'n_estimators': 651, 'max_depth': 9, 'learning_rate': 0.0010480285112053228, 'subsample': 1.0, 'colsample_bytree': 0.8, 'gamma': 0.04715823832423002, 'min_child_weight': 15}. Best is trial 26 with value: 3.501533369641274.\u001b[0m\n"
          ]
        },
        {
          "output_type": "stream",
          "name": "stdout",
          "text": [
            "Currently running with:\n",
            "{'n_estimators': 751, 'max_depth': 6, 'learning_rate': 0.016097937344511263, 'subsample ': 0.9, 'colsample_bytree': 0.8, 'gamma': 0.012750525449224798, 'min_child_weight': 23}\n"
          ]
        },
        {
          "output_type": "stream",
          "name": "stderr",
          "text": [
            "\u001b[32m[I 2022-10-01 01:33:05,364]\u001b[0m Trial 40 finished with value: 3.562052517060725 and parameters: {'n_estimators': 751, 'max_depth': 6, 'learning_rate': 0.016097937344511263, 'subsample': 0.9, 'colsample_bytree': 0.8, 'gamma': 0.012750525449224798, 'min_child_weight': 23}. Best is trial 26 with value: 3.501533369641274.\u001b[0m\n"
          ]
        },
        {
          "output_type": "stream",
          "name": "stdout",
          "text": [
            "Currently running with:\n",
            "{'n_estimators': 951, 'max_depth': 10, 'learning_rate': 0.03112261015653241, 'subsample ': 1.0, 'colsample_bytree': 0.8, 'gamma': 0.19397492464597604, 'min_child_weight': 15}\n"
          ]
        },
        {
          "output_type": "stream",
          "name": "stderr",
          "text": [
            "\u001b[32m[I 2022-10-01 01:34:09,306]\u001b[0m Trial 41 finished with value: 3.499705821324427 and parameters: {'n_estimators': 951, 'max_depth': 10, 'learning_rate': 0.03112261015653241, 'subsample': 1.0, 'colsample_bytree': 0.8, 'gamma': 0.19397492464597604, 'min_child_weight': 15}. Best is trial 41 with value: 3.499705821324427.\u001b[0m\n"
          ]
        },
        {
          "output_type": "stream",
          "name": "stdout",
          "text": [
            "Currently running with:\n",
            "{'n_estimators': 951, 'max_depth': 10, 'learning_rate': 0.02840272934427539, 'subsample ': 1.0, 'colsample_bytree': 0.8, 'gamma': 0.19626848711678702, 'min_child_weight': 15}\n"
          ]
        },
        {
          "output_type": "stream",
          "name": "stderr",
          "text": [
            "\u001b[32m[I 2022-10-01 01:35:13,399]\u001b[0m Trial 42 finished with value: 3.5012527918761465 and parameters: {'n_estimators': 951, 'max_depth': 10, 'learning_rate': 0.02840272934427539, 'subsample': 1.0, 'colsample_bytree': 0.8, 'gamma': 0.19626848711678702, 'min_child_weight': 15}. Best is trial 41 with value: 3.499705821324427.\u001b[0m\n"
          ]
        },
        {
          "output_type": "stream",
          "name": "stdout",
          "text": [
            "Currently running with:\n",
            "{'n_estimators': 851, 'max_depth': 10, 'learning_rate': 0.02893335267090464, 'subsample ': 1.0, 'colsample_bytree': 0.8, 'gamma': 0.1878311586368674, 'min_child_weight': 15}\n"
          ]
        },
        {
          "output_type": "stream",
          "name": "stderr",
          "text": [
            "\u001b[32m[I 2022-10-01 01:36:12,025]\u001b[0m Trial 43 finished with value: 3.5006021918883246 and parameters: {'n_estimators': 851, 'max_depth': 10, 'learning_rate': 0.02893335267090464, 'subsample': 1.0, 'colsample_bytree': 0.8, 'gamma': 0.1878311586368674, 'min_child_weight': 15}. Best is trial 41 with value: 3.499705821324427.\u001b[0m\n"
          ]
        },
        {
          "output_type": "stream",
          "name": "stdout",
          "text": [
            "Currently running with:\n",
            "{'n_estimators': 951, 'max_depth': 10, 'learning_rate': 0.046022914369668474, 'subsample ': 0.9, 'colsample_bytree': 0.8, 'gamma': 0.19069748553010604, 'min_child_weight': 13}\n"
          ]
        },
        {
          "output_type": "stream",
          "name": "stderr",
          "text": [
            "\u001b[32m[I 2022-10-01 01:37:16,936]\u001b[0m Trial 44 finished with value: 3.5122359960361442 and parameters: {'n_estimators': 951, 'max_depth': 10, 'learning_rate': 0.046022914369668474, 'subsample': 0.9, 'colsample_bytree': 0.8, 'gamma': 0.19069748553010604, 'min_child_weight': 13}. Best is trial 41 with value: 3.499705821324427.\u001b[0m\n"
          ]
        },
        {
          "output_type": "stream",
          "name": "stdout",
          "text": [
            "Currently running with:\n",
            "{'n_estimators': 851, 'max_depth': 11, 'learning_rate': 0.1071377104242406, 'subsample ': 1.0, 'colsample_bytree': 0.8, 'gamma': 0.18879762423950344, 'min_child_weight': 9}\n"
          ]
        },
        {
          "output_type": "stream",
          "name": "stderr",
          "text": [
            "\u001b[32m[I 2022-10-01 01:38:45,562]\u001b[0m Trial 45 finished with value: 3.569191180054778 and parameters: {'n_estimators': 851, 'max_depth': 11, 'learning_rate': 0.1071377104242406, 'subsample': 1.0, 'colsample_bytree': 0.8, 'gamma': 0.18879762423950344, 'min_child_weight': 9}. Best is trial 41 with value: 3.499705821324427.\u001b[0m\n"
          ]
        },
        {
          "output_type": "stream",
          "name": "stdout",
          "text": [
            "Currently running with:\n",
            "{'n_estimators': 951, 'max_depth': 13, 'learning_rate': 0.030880723700413927, 'subsample ': 1.0, 'colsample_bytree': 0.8, 'gamma': 0.2627245014321159, 'min_child_weight': 17}\n"
          ]
        },
        {
          "output_type": "stream",
          "name": "stderr",
          "text": [
            "\u001b[32m[I 2022-10-01 01:41:06,055]\u001b[0m Trial 46 finished with value: 3.5116870731902705 and parameters: {'n_estimators': 951, 'max_depth': 13, 'learning_rate': 0.030880723700413927, 'subsample': 1.0, 'colsample_bytree': 0.8, 'gamma': 0.2627245014321159, 'min_child_weight': 17}. Best is trial 41 with value: 3.499705821324427.\u001b[0m\n"
          ]
        },
        {
          "output_type": "stream",
          "name": "stdout",
          "text": [
            "Currently running with:\n",
            "{'n_estimators': 851, 'max_depth': 10, 'learning_rate': 0.009707298411215315, 'subsample ': 1.0, 'colsample_bytree': 0.7000000000000001, 'gamma': 0.1156516446044036, 'min_child_weight': 3}\n"
          ]
        },
        {
          "output_type": "stream",
          "name": "stderr",
          "text": [
            "\u001b[32m[I 2022-10-01 01:42:38,677]\u001b[0m Trial 47 finished with value: 3.4898353435661043 and parameters: {'n_estimators': 851, 'max_depth': 10, 'learning_rate': 0.009707298411215315, 'subsample': 1.0, 'colsample_bytree': 0.7000000000000001, 'gamma': 0.1156516446044036, 'min_child_weight': 3}. Best is trial 47 with value: 3.4898353435661043.\u001b[0m\n"
          ]
        },
        {
          "output_type": "stream",
          "name": "stdout",
          "text": [
            "Currently running with:\n",
            "{'n_estimators': 851, 'max_depth': 10, 'learning_rate': 0.005580914718472491, 'subsample ': 1.0, 'colsample_bytree': 0.7000000000000001, 'gamma': 0.12364625880766489, 'min_child_weight': 3}\n"
          ]
        },
        {
          "output_type": "stream",
          "name": "stderr",
          "text": [
            "\u001b[32m[I 2022-10-01 01:44:20,728]\u001b[0m Trial 48 finished with value: 3.5160827346546153 and parameters: {'n_estimators': 851, 'max_depth': 10, 'learning_rate': 0.005580914718472491, 'subsample': 1.0, 'colsample_bytree': 0.7000000000000001, 'gamma': 0.12364625880766489, 'min_child_weight': 3}. Best is trial 47 with value: 3.4898353435661043.\u001b[0m\n"
          ]
        },
        {
          "output_type": "stream",
          "name": "stdout",
          "text": [
            "Currently running with:\n",
            "{'n_estimators': 751, 'max_depth': 7, 'learning_rate': 0.36190245986996133, 'subsample ': 1.0, 'colsample_bytree': 0.7000000000000001, 'gamma': 0.17899549479454283, 'min_child_weight': 1}\n"
          ]
        },
        {
          "output_type": "stream",
          "name": "stderr",
          "text": [
            "\u001b[32m[I 2022-10-01 01:44:45,865]\u001b[0m Trial 49 finished with value: 3.714591373764179 and parameters: {'n_estimators': 751, 'max_depth': 7, 'learning_rate': 0.36190245986996133, 'subsample': 1.0, 'colsample_bytree': 0.7000000000000001, 'gamma': 0.17899549479454283, 'min_child_weight': 1}. Best is trial 47 with value: 3.4898353435661043.\u001b[0m\n"
          ]
        },
        {
          "output_type": "stream",
          "name": "stdout",
          "text": [
            "Final best parameters:\n"
          ]
        },
        {
          "output_type": "execute_result",
          "data": {
            "text/plain": [
              "{'n_estimators': 851,\n",
              " 'max_depth': 10,\n",
              " 'learning_rate': 0.009707298411215315,\n",
              " 'subsample': 1.0,\n",
              " 'colsample_bytree': 0.7000000000000001,\n",
              " 'gamma': 0.1156516446044036,\n",
              " 'min_child_weight': 3}"
            ]
          },
          "metadata": {},
          "execution_count": 8
        }
      ]
    },
    {
      "cell_type": "code",
      "source": [
        "best_params = study.best_params.copy()\n",
        "\n",
        "model = xgb.XGBRegressor(objective=\"reg:squarederror\",\n",
        "                          n_jobs=-1,\n",
        "                          grow_policy='lossguide',\n",
        "                          tree_method=\"gpu_hist\",\n",
        "                          predictor=\"gpu_predictor\",\n",
        "                          booster='gbtree',\n",
        "                          sampling_method='gradient_based',\n",
        "                          eval_metrics=['rmse'],\n",
        "                          random_state=RANDOM_SEED,\n",
        "                          enable_categorical=False,\n",
        "                          **best_params)\n",
        "pipe = make_pipeline(StandardScaler(), model)\n",
        "pipe.fit(X_train, y_train)"
      ],
      "metadata": {
        "id": "9BCwlu6b6FcI",
        "colab": {
          "base_uri": "https://localhost:8080/"
        },
        "outputId": "6722feda-8d69-4d31-f97d-44736f5fa752"
      },
      "execution_count": 9,
      "outputs": [
        {
          "output_type": "execute_result",
          "data": {
            "text/plain": [
              "Pipeline(steps=[('standardscaler', StandardScaler()),\n",
              "                ('xgbregressor',\n",
              "                 XGBRegressor(colsample_bytree=0.7000000000000001,\n",
              "                              enable_categorical=False, eval_metrics=['rmse'],\n",
              "                              gamma=0.1156516446044036, grow_policy='lossguide',\n",
              "                              learning_rate=0.009707298411215315, max_depth=10,\n",
              "                              min_child_weight=3, n_estimators=851, n_jobs=-1,\n",
              "                              objective='reg:squarederror',\n",
              "                              predictor='gpu_predictor', random_state=2,\n",
              "                              sampling_method='gradient_based', subsample=1.0,\n",
              "                              tree_method='gpu_hist'))])"
            ]
          },
          "metadata": {},
          "execution_count": 9
        }
      ]
    },
    {
      "cell_type": "code",
      "source": [
        "train_pred = pipe.predict(X_train)\n",
        "test_pred = pipe.predict(X_test)\n",
        "print(f\"train results - RMSE: {mean_squared_error(y_train, train_pred, squared=False)}, MAE: {mean_absolute_error(y_train, train_pred)}\")\n",
        "print(f\"test results - RMSE: {mean_squared_error(y_test, test_pred, squared=False)}, MAE: {mean_absolute_error(y_test, test_pred)}\")"
      ],
      "metadata": {
        "id": "0XY6-CnD6NjS",
        "colab": {
          "base_uri": "https://localhost:8080/"
        },
        "outputId": "25f5b7fc-eb05-4db3-80c2-a54855c6145c"
      },
      "execution_count": 10,
      "outputs": [
        {
          "output_type": "stream",
          "name": "stdout",
          "text": [
            "train results - RMSE: 2.724727213443903, MAE: 1.3795214108377696\n",
            "test results - RMSE: 4.063300824538348, MAE: 1.5649167010754348\n"
          ]
        }
      ]
    },
    {
      "cell_type": "code",
      "source": [
        "mean_train = np.mean(y_train)\n",
        "print(f\"Baseline mean model - test RMSE: {np.sqrt(np.mean((y_test - mean_train)**2))}\")\n",
        "print(f\"Baseline mean model - test MAE: {np.mean(np.abs(y_test - mean_train))}\")"
      ],
      "metadata": {
        "id": "tQFXGvewRYIY",
        "colab": {
          "base_uri": "https://localhost:8080/"
        },
        "outputId": "9d9b15ac-a7c1-4f7c-9b3b-3570eae7cc5a"
      },
      "execution_count": 11,
      "outputs": [
        {
          "output_type": "stream",
          "name": "stdout",
          "text": [
            "Baseline mean model - test RMSE: 4.685317144421096\n",
            "Baseline mean model - test MAE: 1.9206922705000002\n"
          ]
        }
      ]
    }
  ],
  "metadata": {
    "accelerator": "GPU",
    "colab": {
      "collapsed_sections": [],
      "provenance": []
    },
    "gpuClass": "standard",
    "kernelspec": {
      "display_name": "Python 3",
      "name": "python3"
    },
    "language_info": {
      "name": "python"
    }
  },
  "nbformat": 4,
  "nbformat_minor": 0
}