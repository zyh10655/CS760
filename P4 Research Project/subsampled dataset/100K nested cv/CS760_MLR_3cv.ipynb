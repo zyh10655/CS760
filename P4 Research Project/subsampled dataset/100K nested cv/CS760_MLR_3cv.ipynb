{
 "cells": [
  {
   "cell_type": "markdown",
   "id": "53f82cda-4174-43e5-9f10-6ce62d5212d5",
   "metadata": {},
   "source": [
    "## Multiple linear regression(MLR) Stochastic Gradient Descent(SGD),\n",
    "### with optuna and StandardScaler\n",
    "on subsampled dataset with 3fold un shuffled cv\n",
    "20220927"
   ]
  },
  {
   "cell_type": "code",
   "execution_count": 1,
   "id": "48dc5731-3671-407c-876e-288e58666f62",
   "metadata": {},
   "outputs": [],
   "source": [
    "import pandas as pd\n",
    "import numpy as np\n",
    "import random\n",
    "import optuna as opt\n",
    "import time\n",
    "from sklearn.linear_model import SGDRegressor\n",
    "from sklearn.metrics import mean_absolute_error\n",
    "from sklearn.metrics import mean_squared_error\n",
    "from sklearn.preprocessing import StandardScaler\n",
    "from sklearn.model_selection import cross_val_score\n",
    "from sklearn.pipeline import make_pipeline"
   ]
  },
  {
   "cell_type": "code",
   "execution_count": 2,
   "id": "a2595fd8-cb38-416e-814f-09fda1edba42",
   "metadata": {},
   "outputs": [
    {
     "data": {
      "text/html": [
       "<div>\n",
       "<style scoped>\n",
       "    .dataframe tbody tr th:only-of-type {\n",
       "        vertical-align: middle;\n",
       "    }\n",
       "\n",
       "    .dataframe tbody tr th {\n",
       "        vertical-align: top;\n",
       "    }\n",
       "\n",
       "    .dataframe thead th {\n",
       "        text-align: right;\n",
       "    }\n",
       "</style>\n",
       "<table border=\"1\" class=\"dataframe\">\n",
       "  <thead>\n",
       "    <tr style=\"text-align: right;\">\n",
       "      <th></th>\n",
       "      <th>r_id</th>\n",
       "      <th>r_stars</th>\n",
       "      <th>r_stars_square</th>\n",
       "      <th>r_length</th>\n",
       "      <th>u_friends_count</th>\n",
       "      <th>u_review_count</th>\n",
       "      <th>u_month_age</th>\n",
       "      <th>b_stars</th>\n",
       "      <th>b_review_count</th>\n",
       "      <th>r_sen</th>\n",
       "      <th>r_sub</th>\n",
       "      <th>r_rea</th>\n",
       "      <th>r_useful</th>\n",
       "    </tr>\n",
       "  </thead>\n",
       "  <tbody>\n",
       "    <tr>\n",
       "      <th>0</th>\n",
       "      <td>4195320</td>\n",
       "      <td>4</td>\n",
       "      <td>16</td>\n",
       "      <td>86</td>\n",
       "      <td>163</td>\n",
       "      <td>40</td>\n",
       "      <td>27.298941</td>\n",
       "      <td>4.0</td>\n",
       "      <td>445</td>\n",
       "      <td>0.117031</td>\n",
       "      <td>0.361875</td>\n",
       "      <td>86.10</td>\n",
       "      <td>1</td>\n",
       "    </tr>\n",
       "    <tr>\n",
       "      <th>1</th>\n",
       "      <td>4406379</td>\n",
       "      <td>5</td>\n",
       "      <td>25</td>\n",
       "      <td>28</td>\n",
       "      <td>18</td>\n",
       "      <td>115</td>\n",
       "      <td>0.001011</td>\n",
       "      <td>4.0</td>\n",
       "      <td>636</td>\n",
       "      <td>-0.140000</td>\n",
       "      <td>0.133333</td>\n",
       "      <td>96.48</td>\n",
       "      <td>3</td>\n",
       "    </tr>\n",
       "    <tr>\n",
       "      <th>2</th>\n",
       "      <td>1172072</td>\n",
       "      <td>5</td>\n",
       "      <td>25</td>\n",
       "      <td>76</td>\n",
       "      <td>69</td>\n",
       "      <td>1</td>\n",
       "      <td>0.000002</td>\n",
       "      <td>2.5</td>\n",
       "      <td>15</td>\n",
       "      <td>0.256723</td>\n",
       "      <td>0.355398</td>\n",
       "      <td>69.07</td>\n",
       "      <td>1</td>\n",
       "    </tr>\n",
       "    <tr>\n",
       "      <th>3</th>\n",
       "      <td>1949778</td>\n",
       "      <td>1</td>\n",
       "      <td>1</td>\n",
       "      <td>186</td>\n",
       "      <td>23</td>\n",
       "      <td>6</td>\n",
       "      <td>23.288288</td>\n",
       "      <td>3.5</td>\n",
       "      <td>185</td>\n",
       "      <td>-0.209252</td>\n",
       "      <td>0.378994</td>\n",
       "      <td>82.54</td>\n",
       "      <td>1</td>\n",
       "    </tr>\n",
       "    <tr>\n",
       "      <th>4</th>\n",
       "      <td>4377517</td>\n",
       "      <td>5</td>\n",
       "      <td>25</td>\n",
       "      <td>57</td>\n",
       "      <td>1</td>\n",
       "      <td>25</td>\n",
       "      <td>48.728723</td>\n",
       "      <td>4.5</td>\n",
       "      <td>227</td>\n",
       "      <td>0.295040</td>\n",
       "      <td>0.454762</td>\n",
       "      <td>91.11</td>\n",
       "      <td>1</td>\n",
       "    </tr>\n",
       "    <tr>\n",
       "      <th>...</th>\n",
       "      <td>...</td>\n",
       "      <td>...</td>\n",
       "      <td>...</td>\n",
       "      <td>...</td>\n",
       "      <td>...</td>\n",
       "      <td>...</td>\n",
       "      <td>...</td>\n",
       "      <td>...</td>\n",
       "      <td>...</td>\n",
       "      <td>...</td>\n",
       "      <td>...</td>\n",
       "      <td>...</td>\n",
       "      <td>...</td>\n",
       "    </tr>\n",
       "    <tr>\n",
       "      <th>99995</th>\n",
       "      <td>5373252</td>\n",
       "      <td>5</td>\n",
       "      <td>25</td>\n",
       "      <td>25</td>\n",
       "      <td>288</td>\n",
       "      <td>2</td>\n",
       "      <td>24.026242</td>\n",
       "      <td>3.5</td>\n",
       "      <td>117</td>\n",
       "      <td>0.775000</td>\n",
       "      <td>0.662500</td>\n",
       "      <td>64.04</td>\n",
       "      <td>1</td>\n",
       "    </tr>\n",
       "    <tr>\n",
       "      <th>99996</th>\n",
       "      <td>4500278</td>\n",
       "      <td>5</td>\n",
       "      <td>25</td>\n",
       "      <td>76</td>\n",
       "      <td>21</td>\n",
       "      <td>59</td>\n",
       "      <td>44.444338</td>\n",
       "      <td>4.0</td>\n",
       "      <td>532</td>\n",
       "      <td>0.325664</td>\n",
       "      <td>0.561008</td>\n",
       "      <td>71.48</td>\n",
       "      <td>1</td>\n",
       "    </tr>\n",
       "    <tr>\n",
       "      <th>99997</th>\n",
       "      <td>4981139</td>\n",
       "      <td>5</td>\n",
       "      <td>25</td>\n",
       "      <td>65</td>\n",
       "      <td>236</td>\n",
       "      <td>143</td>\n",
       "      <td>4.868817</td>\n",
       "      <td>4.0</td>\n",
       "      <td>7568</td>\n",
       "      <td>0.097821</td>\n",
       "      <td>0.502692</td>\n",
       "      <td>83.66</td>\n",
       "      <td>2</td>\n",
       "    </tr>\n",
       "    <tr>\n",
       "      <th>99998</th>\n",
       "      <td>3032513</td>\n",
       "      <td>1</td>\n",
       "      <td>1</td>\n",
       "      <td>33</td>\n",
       "      <td>2</td>\n",
       "      <td>28</td>\n",
       "      <td>0.002720</td>\n",
       "      <td>3.0</td>\n",
       "      <td>80</td>\n",
       "      <td>0.300000</td>\n",
       "      <td>0.306250</td>\n",
       "      <td>100.04</td>\n",
       "      <td>3</td>\n",
       "    </tr>\n",
       "    <tr>\n",
       "      <th>99999</th>\n",
       "      <td>4839479</td>\n",
       "      <td>3</td>\n",
       "      <td>9</td>\n",
       "      <td>65</td>\n",
       "      <td>1</td>\n",
       "      <td>5</td>\n",
       "      <td>0.760154</td>\n",
       "      <td>4.0</td>\n",
       "      <td>18</td>\n",
       "      <td>0.317217</td>\n",
       "      <td>0.397006</td>\n",
       "      <td>60.35</td>\n",
       "      <td>2</td>\n",
       "    </tr>\n",
       "  </tbody>\n",
       "</table>\n",
       "<p>100000 rows × 13 columns</p>\n",
       "</div>"
      ],
      "text/plain": [
       "          r_id  r_stars  r_stars_square  r_length  u_friends_count  \\\n",
       "0      4195320        4              16        86              163   \n",
       "1      4406379        5              25        28               18   \n",
       "2      1172072        5              25        76               69   \n",
       "3      1949778        1               1       186               23   \n",
       "4      4377517        5              25        57                1   \n",
       "...        ...      ...             ...       ...              ...   \n",
       "99995  5373252        5              25        25              288   \n",
       "99996  4500278        5              25        76               21   \n",
       "99997  4981139        5              25        65              236   \n",
       "99998  3032513        1               1        33                2   \n",
       "99999  4839479        3               9        65                1   \n",
       "\n",
       "       u_review_count  u_month_age  b_stars  b_review_count     r_sen  \\\n",
       "0                  40    27.298941      4.0             445  0.117031   \n",
       "1                 115     0.001011      4.0             636 -0.140000   \n",
       "2                   1     0.000002      2.5              15  0.256723   \n",
       "3                   6    23.288288      3.5             185 -0.209252   \n",
       "4                  25    48.728723      4.5             227  0.295040   \n",
       "...               ...          ...      ...             ...       ...   \n",
       "99995               2    24.026242      3.5             117  0.775000   \n",
       "99996              59    44.444338      4.0             532  0.325664   \n",
       "99997             143     4.868817      4.0            7568  0.097821   \n",
       "99998              28     0.002720      3.0              80  0.300000   \n",
       "99999               5     0.760154      4.0              18  0.317217   \n",
       "\n",
       "          r_sub   r_rea  r_useful  \n",
       "0      0.361875   86.10         1  \n",
       "1      0.133333   96.48         3  \n",
       "2      0.355398   69.07         1  \n",
       "3      0.378994   82.54         1  \n",
       "4      0.454762   91.11         1  \n",
       "...         ...     ...       ...  \n",
       "99995  0.662500   64.04         1  \n",
       "99996  0.561008   71.48         1  \n",
       "99997  0.502692   83.66         2  \n",
       "99998  0.306250  100.04         3  \n",
       "99999  0.397006   60.35         2  \n",
       "\n",
       "[100000 rows x 13 columns]"
      ]
     },
     "execution_count": 2,
     "metadata": {},
     "output_type": "execute_result"
    }
   ],
   "source": [
    "#import data\n",
    "train_df = pd.read_parquet(\"train_main.parquet.snappy\")\n",
    "test_df = pd.read_parquet(\"test_main.parquet.snappy\")\n",
    "test_df"
   ]
  },
  {
   "cell_type": "code",
   "execution_count": 3,
   "id": "ea4978ca-dcfe-4de3-92b4-79d4221113d3",
   "metadata": {},
   "outputs": [],
   "source": [
    "X_train = train_df.drop(['r_id','r_useful'],axis=1)\n",
    "y_train = train_df['r_useful']\n",
    "X_test = test_df.drop(['r_id','r_useful'],axis=1)\n",
    "y_test = test_df['r_useful']"
   ]
  },
  {
   "cell_type": "code",
   "execution_count": 4,
   "id": "8703c5fb-8e43-4a8b-a870-7ce76cf33b25",
   "metadata": {},
   "outputs": [],
   "source": [
    "random.seed(760)"
   ]
  },
  {
   "cell_type": "code",
   "execution_count": 5,
   "id": "02017583-79b3-461b-b4b9-79ecf54dbf29",
   "metadata": {},
   "outputs": [],
   "source": [
    "def objective(trial):\n",
    "    start = time.time()\n",
    "    params = {\n",
    "        \"alpha\": trial.suggest_float('alpha', 0.00001, 0.005),\n",
    "        \"eta0\": trial.suggest_float('eta0', 0.005, 0.1),\n",
    "        \"power_t\": trial.suggest_float('power_t', 0.1, 0.5),\n",
    "        \"learning_rate\" : trial.suggest_categorical(\"learning_rate\", ['constant', 'optimal', 'invscaling', 'adaptive']),\n",
    "    }\n",
    "    print(\"Currently running with:\")\n",
    "    print(params)\n",
    "    \n",
    "    model = SGDRegressor(**params)\n",
    "    pipe = make_pipeline(StandardScaler(), model)\n",
    "    \n",
    "    # model.fit(X_train, y_train)\n",
    "    cvscore = np.sqrt(-np.mean(cross_val_score(pipe, X_train, y_train, scoring = \"neg_mean_squared_error\", cv=3)))\n",
    "    # y_pred = model.predict(X_val)\n",
    "    print(\"Time cost:\", time.time()-start)\n",
    "    # return mean_squared_error(y_val, y_pred, squared=False)\n",
    "    return cvscore"
   ]
  },
  {
   "cell_type": "code",
   "execution_count": 6,
   "id": "2459f49c-b30a-4348-90b5-c1ae51bcfc8b",
   "metadata": {},
   "outputs": [
    {
     "name": "stderr",
     "output_type": "stream",
     "text": [
      "\u001b[32m[I 2022-09-30 19:10:28,629]\u001b[0m A new study created in memory with name: no-name-97be952a-9dcf-460f-ab0b-68cc61cfef33\u001b[0m\n"
     ]
    },
    {
     "name": "stdout",
     "output_type": "stream",
     "text": [
      "Currently running with:\n",
      "{'alpha': 0.0023735246057542446, 'eta0': 0.09733128411230535, 'power_t': 0.1503521337382667, 'learning_rate': 'optimal'}\n"
     ]
    },
    {
     "name": "stderr",
     "output_type": "stream",
     "text": [
      "\u001b[32m[I 2022-09-30 19:10:30,356]\u001b[0m Trial 0 finished with value: 3.811365864495445 and parameters: {'alpha': 0.0023735246057542446, 'eta0': 0.09733128411230535, 'power_t': 0.1503521337382667, 'learning_rate': 'optimal'}. Best is trial 0 with value: 3.811365864495445.\u001b[0m\n"
     ]
    },
    {
     "name": "stdout",
     "output_type": "stream",
     "text": [
      "Time cost: 1.7249977588653564\n",
      "Currently running with:\n",
      "{'alpha': 0.004969887245317473, 'eta0': 0.05666339709148893, 'power_t': 0.4482867033818969, 'learning_rate': 'invscaling'}\n"
     ]
    },
    {
     "name": "stderr",
     "output_type": "stream",
     "text": [
      "\u001b[32m[I 2022-09-30 19:10:31,598]\u001b[0m Trial 1 finished with value: 3.8123673938219507 and parameters: {'alpha': 0.004969887245317473, 'eta0': 0.05666339709148893, 'power_t': 0.4482867033818969, 'learning_rate': 'invscaling'}. Best is trial 0 with value: 3.811365864495445.\u001b[0m\n"
     ]
    },
    {
     "name": "stdout",
     "output_type": "stream",
     "text": [
      "Time cost: 1.2410013675689697\n",
      "Currently running with:\n",
      "{'alpha': 0.0019350561495570927, 'eta0': 0.09798993229063857, 'power_t': 0.17629085558224944, 'learning_rate': 'invscaling'}\n"
     ]
    },
    {
     "name": "stderr",
     "output_type": "stream",
     "text": [
      "\u001b[32m[I 2022-09-30 19:10:33,699]\u001b[0m Trial 2 finished with value: 3.982576205939738 and parameters: {'alpha': 0.0019350561495570927, 'eta0': 0.09798993229063857, 'power_t': 0.17629085558224944, 'learning_rate': 'invscaling'}. Best is trial 0 with value: 3.811365864495445.\u001b[0m\n"
     ]
    },
    {
     "name": "stdout",
     "output_type": "stream",
     "text": [
      "Time cost: 2.100001096725464\n",
      "Currently running with:\n",
      "{'alpha': 0.0009709513059068512, 'eta0': 0.0675226558167289, 'power_t': 0.1465088811728512, 'learning_rate': 'invscaling'}\n"
     ]
    },
    {
     "name": "stderr",
     "output_type": "stream",
     "text": [
      "\u001b[32m[I 2022-09-30 19:10:36,207]\u001b[0m Trial 3 finished with value: 3.986077567299359 and parameters: {'alpha': 0.0009709513059068512, 'eta0': 0.0675226558167289, 'power_t': 0.1465088811728512, 'learning_rate': 'invscaling'}. Best is trial 0 with value: 3.811365864495445.\u001b[0m\n"
     ]
    },
    {
     "name": "stdout",
     "output_type": "stream",
     "text": [
      "Time cost: 2.508043050765991\n",
      "Currently running with:\n",
      "{'alpha': 0.001569264149338265, 'eta0': 0.05728093188246178, 'power_t': 0.4930904270069295, 'learning_rate': 'invscaling'}\n"
     ]
    },
    {
     "name": "stderr",
     "output_type": "stream",
     "text": [
      "\u001b[32m[I 2022-09-30 19:10:37,817]\u001b[0m Trial 4 finished with value: 3.8106601205189583 and parameters: {'alpha': 0.001569264149338265, 'eta0': 0.05728093188246178, 'power_t': 0.4930904270069295, 'learning_rate': 'invscaling'}. Best is trial 4 with value: 3.8106601205189583.\u001b[0m\n"
     ]
    },
    {
     "name": "stdout",
     "output_type": "stream",
     "text": [
      "Time cost: 1.6090006828308105\n",
      "Currently running with:\n",
      "{'alpha': 0.0014228052055957386, 'eta0': 0.08682191920650685, 'power_t': 0.32577174740981074, 'learning_rate': 'optimal'}\n"
     ]
    },
    {
     "name": "stderr",
     "output_type": "stream",
     "text": [
      "\u001b[32m[I 2022-09-30 19:10:40,773]\u001b[0m Trial 5 finished with value: 3.8120117110316087 and parameters: {'alpha': 0.0014228052055957386, 'eta0': 0.08682191920650685, 'power_t': 0.32577174740981074, 'learning_rate': 'optimal'}. Best is trial 4 with value: 3.8106601205189583.\u001b[0m\n"
     ]
    },
    {
     "name": "stdout",
     "output_type": "stream",
     "text": [
      "Time cost: 2.955047369003296\n",
      "Currently running with:\n",
      "{'alpha': 0.0001917435858073897, 'eta0': 0.02522580866907971, 'power_t': 0.34687803791938726, 'learning_rate': 'constant'}\n"
     ]
    },
    {
     "name": "stderr",
     "output_type": "stream",
     "text": [
      "\u001b[32m[I 2022-09-30 19:10:41,741]\u001b[0m Trial 6 finished with value: 4.175456859016824 and parameters: {'alpha': 0.0001917435858073897, 'eta0': 0.02522580866907971, 'power_t': 0.34687803791938726, 'learning_rate': 'constant'}. Best is trial 4 with value: 3.8106601205189583.\u001b[0m\n"
     ]
    },
    {
     "name": "stdout",
     "output_type": "stream",
     "text": [
      "Time cost: 0.9670004844665527\n",
      "Currently running with:\n",
      "{'alpha': 0.0026184985056626735, 'eta0': 0.0706580134525886, 'power_t': 0.4067468364480423, 'learning_rate': 'invscaling'}\n"
     ]
    },
    {
     "name": "stderr",
     "output_type": "stream",
     "text": [
      "\u001b[32m[I 2022-09-30 19:10:44,184]\u001b[0m Trial 7 finished with value: 3.8133881753534413 and parameters: {'alpha': 0.0026184985056626735, 'eta0': 0.0706580134525886, 'power_t': 0.4067468364480423, 'learning_rate': 'invscaling'}. Best is trial 4 with value: 3.8106601205189583.\u001b[0m\n"
     ]
    },
    {
     "name": "stdout",
     "output_type": "stream",
     "text": [
      "Time cost: 2.4429988861083984\n",
      "Currently running with:\n",
      "{'alpha': 0.004246082264479113, 'eta0': 0.07705201394908123, 'power_t': 0.1317532962560383, 'learning_rate': 'adaptive'}\n"
     ]
    },
    {
     "name": "stderr",
     "output_type": "stream",
     "text": [
      "\u001b[32m[I 2022-09-30 19:10:50,168]\u001b[0m Trial 8 finished with value: 3.8104509960948474 and parameters: {'alpha': 0.004246082264479113, 'eta0': 0.07705201394908123, 'power_t': 0.1317532962560383, 'learning_rate': 'adaptive'}. Best is trial 8 with value: 3.8104509960948474.\u001b[0m\n"
     ]
    },
    {
     "name": "stdout",
     "output_type": "stream",
     "text": [
      "Time cost: 5.983000755310059\n",
      "Currently running with:\n",
      "{'alpha': 0.004796584062556008, 'eta0': 0.026104584685636235, 'power_t': 0.4809337882345779, 'learning_rate': 'optimal'}\n"
     ]
    },
    {
     "name": "stderr",
     "output_type": "stream",
     "text": [
      "\u001b[32m[I 2022-09-30 19:10:51,817]\u001b[0m Trial 9 finished with value: 3.8115895870833465 and parameters: {'alpha': 0.004796584062556008, 'eta0': 0.026104584685636235, 'power_t': 0.4809337882345779, 'learning_rate': 'optimal'}. Best is trial 8 with value: 3.8104509960948474.\u001b[0m\n"
     ]
    },
    {
     "name": "stdout",
     "output_type": "stream",
     "text": [
      "Time cost: 1.6480493545532227\n",
      "Currently running with:\n",
      "{'alpha': 0.0037263465304587665, 'eta0': 0.04097174684841561, 'power_t': 0.23776028134577298, 'learning_rate': 'adaptive'}\n"
     ]
    },
    {
     "name": "stderr",
     "output_type": "stream",
     "text": [
      "\u001b[32m[I 2022-09-30 19:10:56,683]\u001b[0m Trial 10 finished with value: 3.8103775045692676 and parameters: {'alpha': 0.0037263465304587665, 'eta0': 0.04097174684841561, 'power_t': 0.23776028134577298, 'learning_rate': 'adaptive'}. Best is trial 10 with value: 3.8103775045692676.\u001b[0m\n"
     ]
    },
    {
     "name": "stdout",
     "output_type": "stream",
     "text": [
      "Time cost: 4.86409592628479\n",
      "Currently running with:\n",
      "{'alpha': 0.0036973896658959024, 'eta0': 0.03912069585709113, 'power_t': 0.2390120977403089, 'learning_rate': 'adaptive'}\n"
     ]
    },
    {
     "name": "stderr",
     "output_type": "stream",
     "text": [
      "\u001b[32m[I 2022-09-30 19:11:01,666]\u001b[0m Trial 11 finished with value: 3.8103615156037587 and parameters: {'alpha': 0.0036973896658959024, 'eta0': 0.03912069585709113, 'power_t': 0.2390120977403089, 'learning_rate': 'adaptive'}. Best is trial 11 with value: 3.8103615156037587.\u001b[0m\n"
     ]
    },
    {
     "name": "stdout",
     "output_type": "stream",
     "text": [
      "Time cost: 4.982046127319336\n",
      "Currently running with:\n",
      "{'alpha': 0.0035530389277502773, 'eta0': 0.038733333552272174, 'power_t': 0.24238379035417842, 'learning_rate': 'adaptive'}\n"
     ]
    },
    {
     "name": "stderr",
     "output_type": "stream",
     "text": [
      "\u001b[32m[I 2022-09-30 19:11:06,869]\u001b[0m Trial 12 finished with value: 3.810362427260658 and parameters: {'alpha': 0.0035530389277502773, 'eta0': 0.038733333552272174, 'power_t': 0.24238379035417842, 'learning_rate': 'adaptive'}. Best is trial 11 with value: 3.8103615156037587.\u001b[0m\n"
     ]
    },
    {
     "name": "stdout",
     "output_type": "stream",
     "text": [
      "Time cost: 5.203000068664551\n",
      "Currently running with:\n",
      "{'alpha': 0.0032632538692572016, 'eta0': 0.039699250380646346, 'power_t': 0.2424544901038123, 'learning_rate': 'adaptive'}\n"
     ]
    },
    {
     "name": "stderr",
     "output_type": "stream",
     "text": [
      "\u001b[32m[I 2022-09-30 19:11:12,192]\u001b[0m Trial 13 finished with value: 3.8103169096948815 and parameters: {'alpha': 0.0032632538692572016, 'eta0': 0.039699250380646346, 'power_t': 0.2424544901038123, 'learning_rate': 'adaptive'}. Best is trial 13 with value: 3.8103169096948815.\u001b[0m\n"
     ]
    },
    {
     "name": "stdout",
     "output_type": "stream",
     "text": [
      "Time cost: 5.322144985198975\n",
      "Currently running with:\n",
      "{'alpha': 0.0032391491957162693, 'eta0': 0.006195601691943192, 'power_t': 0.2520590985369289, 'learning_rate': 'adaptive'}\n"
     ]
    },
    {
     "name": "stderr",
     "output_type": "stream",
     "text": [
      "\u001b[32m[I 2022-09-30 19:11:16,959]\u001b[0m Trial 14 finished with value: 3.8103032059588666 and parameters: {'alpha': 0.0032391491957162693, 'eta0': 0.006195601691943192, 'power_t': 0.2520590985369289, 'learning_rate': 'adaptive'}. Best is trial 14 with value: 3.8103032059588666.\u001b[0m\n"
     ]
    },
    {
     "name": "stdout",
     "output_type": "stream",
     "text": [
      "Time cost: 4.764998435974121\n",
      "Currently running with:\n",
      "{'alpha': 0.002947504763058355, 'eta0': 0.005627395536122383, 'power_t': 0.2696982095678011, 'learning_rate': 'adaptive'}\n"
     ]
    },
    {
     "name": "stderr",
     "output_type": "stream",
     "text": [
      "\u001b[32m[I 2022-09-30 19:11:20,738]\u001b[0m Trial 15 finished with value: 3.8102459352107068 and parameters: {'alpha': 0.002947504763058355, 'eta0': 0.005627395536122383, 'power_t': 0.2696982095678011, 'learning_rate': 'adaptive'}. Best is trial 15 with value: 3.8102459352107068.\u001b[0m\n"
     ]
    },
    {
     "name": "stdout",
     "output_type": "stream",
     "text": [
      "Time cost: 3.777998924255371\n",
      "Currently running with:\n",
      "{'alpha': 0.002892867762707617, 'eta0': 0.006329954336120616, 'power_t': 0.28877342256005656, 'learning_rate': 'constant'}\n"
     ]
    },
    {
     "name": "stderr",
     "output_type": "stream",
     "text": [
      "\u001b[32m[I 2022-09-30 19:11:21,994]\u001b[0m Trial 16 finished with value: 4.093584470506525 and parameters: {'alpha': 0.002892867762707617, 'eta0': 0.006329954336120616, 'power_t': 0.28877342256005656, 'learning_rate': 'constant'}. Best is trial 15 with value: 3.8102459352107068.\u001b[0m\n"
     ]
    },
    {
     "name": "stdout",
     "output_type": "stream",
     "text": [
      "Time cost: 1.2559990882873535\n",
      "Currently running with:\n",
      "{'alpha': 0.004223544572901145, 'eta0': 0.0073808659423707885, 'power_t': 0.37338218475344925, 'learning_rate': 'adaptive'}\n"
     ]
    },
    {
     "name": "stderr",
     "output_type": "stream",
     "text": [
      "\u001b[32m[I 2022-09-30 19:11:26,230]\u001b[0m Trial 17 finished with value: 3.8104508383470423 and parameters: {'alpha': 0.004223544572901145, 'eta0': 0.0073808659423707885, 'power_t': 0.37338218475344925, 'learning_rate': 'adaptive'}. Best is trial 15 with value: 3.8102459352107068.\u001b[0m\n"
     ]
    },
    {
     "name": "stdout",
     "output_type": "stream",
     "text": [
      "Time cost: 4.2340004444122314\n",
      "Currently running with:\n",
      "{'alpha': 0.0030928590137539705, 'eta0': 0.017936693630455455, 'power_t': 0.3036618174157849, 'learning_rate': 'adaptive'}\n"
     ]
    },
    {
     "name": "stderr",
     "output_type": "stream",
     "text": [
      "\u001b[32m[I 2022-09-30 19:11:31,045]\u001b[0m Trial 18 finished with value: 3.8102902191477543 and parameters: {'alpha': 0.0030928590137539705, 'eta0': 0.017936693630455455, 'power_t': 0.3036618174157849, 'learning_rate': 'adaptive'}. Best is trial 15 with value: 3.8102459352107068.\u001b[0m\n"
     ]
    },
    {
     "name": "stdout",
     "output_type": "stream",
     "text": [
      "Time cost: 4.813999176025391\n",
      "Currently running with:\n",
      "{'alpha': 0.0022556908985325442, 'eta0': 0.017967074956689207, 'power_t': 0.2981974979822599, 'learning_rate': 'adaptive'}\n"
     ]
    },
    {
     "name": "stderr",
     "output_type": "stream",
     "text": [
      "\u001b[32m[I 2022-09-30 19:11:36,306]\u001b[0m Trial 19 finished with value: 3.810208626637869 and parameters: {'alpha': 0.0022556908985325442, 'eta0': 0.017967074956689207, 'power_t': 0.2981974979822599, 'learning_rate': 'adaptive'}. Best is trial 19 with value: 3.810208626637869.\u001b[0m\n"
     ]
    },
    {
     "name": "stdout",
     "output_type": "stream",
     "text": [
      "Time cost: 5.261001348495483\n",
      "Currently running with:\n",
      "{'alpha': 0.002156237817848848, 'eta0': 0.0183846478257986, 'power_t': 0.19770028973090376, 'learning_rate': 'constant'}\n"
     ]
    },
    {
     "name": "stderr",
     "output_type": "stream",
     "text": [
      "\u001b[32m[I 2022-09-30 19:11:37,601]\u001b[0m Trial 20 finished with value: 7.652109557320821 and parameters: {'alpha': 0.002156237817848848, 'eta0': 0.0183846478257986, 'power_t': 0.19770028973090376, 'learning_rate': 'constant'}. Best is trial 19 with value: 3.810208626637869.\u001b[0m\n"
     ]
    },
    {
     "name": "stdout",
     "output_type": "stream",
     "text": [
      "Time cost: 1.2929987907409668\n",
      "Currently running with:\n",
      "{'alpha': 0.002800154388307271, 'eta0': 0.018076221409965926, 'power_t': 0.29896989071404184, 'learning_rate': 'adaptive'}\n"
     ]
    },
    {
     "name": "stderr",
     "output_type": "stream",
     "text": [
      "\u001b[32m[I 2022-09-30 19:11:42,330]\u001b[0m Trial 21 finished with value: 3.810235549033766 and parameters: {'alpha': 0.002800154388307271, 'eta0': 0.018076221409965926, 'power_t': 0.29896989071404184, 'learning_rate': 'adaptive'}. Best is trial 19 with value: 3.810208626637869.\u001b[0m\n"
     ]
    },
    {
     "name": "stdout",
     "output_type": "stream",
     "text": [
      "Time cost: 4.729000568389893\n",
      "Currently running with:\n",
      "{'alpha': 0.002757905532537319, 'eta0': 0.018473416517391057, 'power_t': 0.2835830946117242, 'learning_rate': 'adaptive'}\n"
     ]
    },
    {
     "name": "stderr",
     "output_type": "stream",
     "text": [
      "\u001b[32m[I 2022-09-30 19:11:46,562]\u001b[0m Trial 22 finished with value: 3.81023461962592 and parameters: {'alpha': 0.002757905532537319, 'eta0': 0.018473416517391057, 'power_t': 0.2835830946117242, 'learning_rate': 'adaptive'}. Best is trial 19 with value: 3.810208626637869.\u001b[0m\n"
     ]
    },
    {
     "name": "stdout",
     "output_type": "stream",
     "text": [
      "Time cost: 4.231148958206177\n",
      "Currently running with:\n",
      "{'alpha': 0.0018509434357032713, 'eta0': 0.029139973276651177, 'power_t': 0.37407237371270957, 'learning_rate': 'adaptive'}\n"
     ]
    },
    {
     "name": "stderr",
     "output_type": "stream",
     "text": [
      "\u001b[32m[I 2022-09-30 19:11:51,761]\u001b[0m Trial 23 finished with value: 3.8101065153033886 and parameters: {'alpha': 0.0018509434357032713, 'eta0': 0.029139973276651177, 'power_t': 0.37407237371270957, 'learning_rate': 'adaptive'}. Best is trial 23 with value: 3.8101065153033886.\u001b[0m\n"
     ]
    },
    {
     "name": "stdout",
     "output_type": "stream",
     "text": [
      "Time cost: 5.196998119354248\n",
      "Currently running with:\n",
      "{'alpha': 0.0010376840780983872, 'eta0': 0.025477486312702163, 'power_t': 0.39119166033764047, 'learning_rate': 'adaptive'}\n"
     ]
    },
    {
     "name": "stderr",
     "output_type": "stream",
     "text": [
      "\u001b[32m[I 2022-09-30 19:11:56,408]\u001b[0m Trial 24 finished with value: 3.8100616337440236 and parameters: {'alpha': 0.0010376840780983872, 'eta0': 0.025477486312702163, 'power_t': 0.39119166033764047, 'learning_rate': 'adaptive'}. Best is trial 24 with value: 3.8100616337440236.\u001b[0m\n"
     ]
    },
    {
     "name": "stdout",
     "output_type": "stream",
     "text": [
      "Time cost: 4.647001266479492\n",
      "Currently running with:\n",
      "{'alpha': 0.0006919298221874935, 'eta0': 0.030286052912284294, 'power_t': 0.40365329567537894, 'learning_rate': 'adaptive'}\n"
     ]
    },
    {
     "name": "stderr",
     "output_type": "stream",
     "text": [
      "\u001b[32m[I 2022-09-30 19:12:02,212]\u001b[0m Trial 25 finished with value: 3.810024135182614 and parameters: {'alpha': 0.0006919298221874935, 'eta0': 0.030286052912284294, 'power_t': 0.40365329567537894, 'learning_rate': 'adaptive'}. Best is trial 25 with value: 3.810024135182614.\u001b[0m\n"
     ]
    },
    {
     "name": "stdout",
     "output_type": "stream",
     "text": [
      "Time cost: 5.804048538208008\n",
      "Currently running with:\n",
      "{'alpha': 0.0003910924920211014, 'eta0': 0.029238689881671734, 'power_t': 0.4040602257664556, 'learning_rate': 'adaptive'}\n"
     ]
    },
    {
     "name": "stderr",
     "output_type": "stream",
     "text": [
      "\u001b[32m[I 2022-09-30 19:12:07,414]\u001b[0m Trial 26 finished with value: 3.810025822606776 and parameters: {'alpha': 0.0003910924920211014, 'eta0': 0.029238689881671734, 'power_t': 0.4040602257664556, 'learning_rate': 'adaptive'}. Best is trial 25 with value: 3.810024135182614.\u001b[0m\n"
     ]
    },
    {
     "name": "stdout",
     "output_type": "stream",
     "text": [
      "Time cost: 5.201000928878784\n",
      "Currently running with:\n",
      "{'alpha': 1.1476835085270747e-05, 'eta0': 0.04860747849614859, 'power_t': 0.42774278244631747, 'learning_rate': 'adaptive'}\n"
     ]
    },
    {
     "name": "stderr",
     "output_type": "stream",
     "text": [
      "\u001b[32m[I 2022-09-30 19:12:12,080]\u001b[0m Trial 27 finished with value: 3.8100209856936296 and parameters: {'alpha': 1.1476835085270747e-05, 'eta0': 0.04860747849614859, 'power_t': 0.42774278244631747, 'learning_rate': 'adaptive'}. Best is trial 27 with value: 3.8100209856936296.\u001b[0m\n"
     ]
    },
    {
     "name": "stdout",
     "output_type": "stream",
     "text": [
      "Time cost: 4.665198087692261\n",
      "Currently running with:\n",
      "{'alpha': 0.00020546736823817734, 'eta0': 0.05013410612908265, 'power_t': 0.43874177749895904, 'learning_rate': 'optimal'}\n"
     ]
    },
    {
     "name": "stderr",
     "output_type": "stream",
     "text": [
      "\u001b[32m[I 2022-09-30 19:12:16,979]\u001b[0m Trial 28 finished with value: 3.813796654942239 and parameters: {'alpha': 0.00020546736823817734, 'eta0': 0.05013410612908265, 'power_t': 0.43874177749895904, 'learning_rate': 'optimal'}. Best is trial 27 with value: 3.8100209856936296.\u001b[0m\n"
     ]
    },
    {
     "name": "stdout",
     "output_type": "stream",
     "text": [
      "Time cost: 4.898147106170654\n",
      "Currently running with:\n",
      "{'alpha': 0.0005084331215804354, 'eta0': 0.04816128663456677, 'power_t': 0.42290519990692527, 'learning_rate': 'constant'}\n"
     ]
    },
    {
     "name": "stderr",
     "output_type": "stream",
     "text": [
      "\u001b[32m[I 2022-09-30 19:12:17,986]\u001b[0m Trial 29 finished with value: 368143.1206509969 and parameters: {'alpha': 0.0005084331215804354, 'eta0': 0.04816128663456677, 'power_t': 0.42290519990692527, 'learning_rate': 'constant'}. Best is trial 27 with value: 3.8100209856936296.\u001b[0m\n"
     ]
    },
    {
     "name": "stdout",
     "output_type": "stream",
     "text": [
      "Time cost: 1.0060522556304932\n",
      "Currently running with:\n",
      "{'alpha': 0.0008182405411965715, 'eta0': 0.03257253228568421, 'power_t': 0.46368355609285233, 'learning_rate': 'optimal'}\n"
     ]
    },
    {
     "name": "stderr",
     "output_type": "stream",
     "text": [
      "\u001b[32m[I 2022-09-30 19:12:20,734]\u001b[0m Trial 30 finished with value: 3.813865011166823 and parameters: {'alpha': 0.0008182405411965715, 'eta0': 0.03257253228568421, 'power_t': 0.46368355609285233, 'learning_rate': 'optimal'}. Best is trial 27 with value: 3.8100209856936296.\u001b[0m\n"
     ]
    },
    {
     "name": "stdout",
     "output_type": "stream",
     "text": [
      "Time cost: 2.747000217437744\n",
      "Currently running with:\n",
      "{'alpha': 0.0009790727178892495, 'eta0': 0.032075800067157344, 'power_t': 0.39828230472296355, 'learning_rate': 'adaptive'}\n"
     ]
    },
    {
     "name": "stderr",
     "output_type": "stream",
     "text": [
      "\u001b[32m[I 2022-09-30 19:12:26,464]\u001b[0m Trial 31 finished with value: 3.810049553379792 and parameters: {'alpha': 0.0009790727178892495, 'eta0': 0.032075800067157344, 'power_t': 0.39828230472296355, 'learning_rate': 'adaptive'}. Best is trial 27 with value: 3.8100209856936296.\u001b[0m\n"
     ]
    },
    {
     "name": "stdout",
     "output_type": "stream",
     "text": [
      "Time cost: 5.728564023971558\n",
      "Currently running with:\n",
      "{'alpha': 0.0005440417150174662, 'eta0': 0.033212992734761616, 'power_t': 0.4091341401357147, 'learning_rate': 'adaptive'}\n"
     ]
    },
    {
     "name": "stderr",
     "output_type": "stream",
     "text": [
      "\u001b[32m[I 2022-09-30 19:12:31,711]\u001b[0m Trial 32 finished with value: 3.810030302831512 and parameters: {'alpha': 0.0005440417150174662, 'eta0': 0.033212992734761616, 'power_t': 0.4091341401357147, 'learning_rate': 'adaptive'}. Best is trial 27 with value: 3.8100209856936296.\u001b[0m\n"
     ]
    },
    {
     "name": "stdout",
     "output_type": "stream",
     "text": [
      "Time cost: 5.245999574661255\n",
      "Currently running with:\n",
      "{'alpha': 0.0006104113853519437, 'eta0': 0.04579485936508879, 'power_t': 0.4506046923942704, 'learning_rate': 'adaptive'}\n"
     ]
    },
    {
     "name": "stderr",
     "output_type": "stream",
     "text": [
      "\u001b[32m[I 2022-09-30 19:12:36,603]\u001b[0m Trial 33 finished with value: 3.8100225033168624 and parameters: {'alpha': 0.0006104113853519437, 'eta0': 0.04579485936508879, 'power_t': 0.4506046923942704, 'learning_rate': 'adaptive'}. Best is trial 27 with value: 3.8100209856936296.\u001b[0m\n"
     ]
    },
    {
     "name": "stdout",
     "output_type": "stream",
     "text": [
      "Time cost: 4.8912413120269775\n",
      "Currently running with:\n",
      "{'alpha': 9.838686550410125e-05, 'eta0': 0.05723801399573817, 'power_t': 0.45049185913787376, 'learning_rate': 'adaptive'}\n"
     ]
    },
    {
     "name": "stderr",
     "output_type": "stream",
     "text": [
      "\u001b[32m[I 2022-09-30 19:12:41,657]\u001b[0m Trial 34 finished with value: 3.810005473445607 and parameters: {'alpha': 9.838686550410125e-05, 'eta0': 0.05723801399573817, 'power_t': 0.45049185913787376, 'learning_rate': 'adaptive'}. Best is trial 34 with value: 3.810005473445607.\u001b[0m\n"
     ]
    },
    {
     "name": "stdout",
     "output_type": "stream",
     "text": [
      "Time cost: 5.053328514099121\n",
      "Currently running with:\n",
      "{'alpha': 6.136879480172366e-05, 'eta0': 0.056338078779123155, 'power_t': 0.45684773284386276, 'learning_rate': 'invscaling'}\n"
     ]
    },
    {
     "name": "stderr",
     "output_type": "stream",
     "text": [
      "\u001b[32m[I 2022-09-30 19:12:43,283]\u001b[0m Trial 35 finished with value: 3.8121786909491036 and parameters: {'alpha': 6.136879480172366e-05, 'eta0': 0.056338078779123155, 'power_t': 0.45684773284386276, 'learning_rate': 'invscaling'}. Best is trial 34 with value: 3.810005473445607.\u001b[0m\n"
     ]
    },
    {
     "name": "stdout",
     "output_type": "stream",
     "text": [
      "Time cost: 1.624098300933838\n",
      "Currently running with:\n",
      "{'alpha': 0.0007732371981956224, 'eta0': 0.062213071165176985, 'power_t': 0.49957217658730546, 'learning_rate': 'adaptive'}\n"
     ]
    },
    {
     "name": "stderr",
     "output_type": "stream",
     "text": [
      "\u001b[32m[I 2022-09-30 19:12:48,372]\u001b[0m Trial 36 finished with value: 3.8100298438855797 and parameters: {'alpha': 0.0007732371981956224, 'eta0': 0.062213071165176985, 'power_t': 0.49957217658730546, 'learning_rate': 'adaptive'}. Best is trial 34 with value: 3.810005473445607.\u001b[0m\n"
     ]
    },
    {
     "name": "stdout",
     "output_type": "stream",
     "text": [
      "Time cost: 5.089048624038696\n",
      "Currently running with:\n",
      "{'alpha': 0.0012225777214573642, 'eta0': 0.06326960788968748, 'power_t': 0.4378712376662159, 'learning_rate': 'adaptive'}\n"
     ]
    },
    {
     "name": "stderr",
     "output_type": "stream",
     "text": [
      "\u001b[32m[I 2022-09-30 19:12:53,889]\u001b[0m Trial 37 finished with value: 3.8100904520960865 and parameters: {'alpha': 0.0012225777214573642, 'eta0': 0.06326960788968748, 'power_t': 0.4378712376662159, 'learning_rate': 'adaptive'}. Best is trial 34 with value: 3.810005473445607.\u001b[0m\n"
     ]
    },
    {
     "name": "stdout",
     "output_type": "stream",
     "text": [
      "Time cost: 5.516057252883911\n",
      "Currently running with:\n",
      "{'alpha': 0.0014900899558472178, 'eta0': 0.04826341757164738, 'power_t': 0.46899153446812425, 'learning_rate': 'invscaling'}\n"
     ]
    },
    {
     "name": "stderr",
     "output_type": "stream",
     "text": [
      "\u001b[32m[I 2022-09-30 19:12:55,497]\u001b[0m Trial 38 finished with value: 3.811265344537272 and parameters: {'alpha': 0.0014900899558472178, 'eta0': 0.04826341757164738, 'power_t': 0.46899153446812425, 'learning_rate': 'invscaling'}. Best is trial 34 with value: 3.810005473445607.\u001b[0m\n"
     ]
    },
    {
     "name": "stdout",
     "output_type": "stream",
     "text": [
      "Time cost: 1.6060466766357422\n",
      "Currently running with:\n",
      "{'alpha': 6.233620492007743e-05, 'eta0': 0.04439647508786579, 'power_t': 0.3357473466250478, 'learning_rate': 'optimal'}\n"
     ]
    },
    {
     "name": "stderr",
     "output_type": "stream",
     "text": [
      "\u001b[32m[I 2022-09-30 19:13:00,752]\u001b[0m Trial 39 finished with value: 3.8376233695801876 and parameters: {'alpha': 6.233620492007743e-05, 'eta0': 0.04439647508786579, 'power_t': 0.3357473466250478, 'learning_rate': 'optimal'}. Best is trial 34 with value: 3.810005473445607.\u001b[0m\n"
     ]
    },
    {
     "name": "stdout",
     "output_type": "stream",
     "text": [
      "Time cost: 5.254109144210815\n",
      "Currently running with:\n",
      "{'alpha': 0.0006735875746729395, 'eta0': 0.0762224005694225, 'power_t': 0.35918340784935243, 'learning_rate': 'constant'}\n"
     ]
    },
    {
     "name": "stderr",
     "output_type": "stream",
     "text": [
      "\u001b[32m[I 2022-09-30 19:13:01,894]\u001b[0m Trial 40 finished with value: 102827709217.85022 and parameters: {'alpha': 0.0006735875746729395, 'eta0': 0.0762224005694225, 'power_t': 0.35918340784935243, 'learning_rate': 'constant'}. Best is trial 34 with value: 3.810005473445607.\u001b[0m\n"
     ]
    },
    {
     "name": "stdout",
     "output_type": "stream",
     "text": [
      "Time cost: 1.140956163406372\n",
      "Currently running with:\n",
      "{'alpha': 0.00034920469323820516, 'eta0': 0.056464941843021754, 'power_t': 0.425411604406203, 'learning_rate': 'adaptive'}\n"
     ]
    },
    {
     "name": "stderr",
     "output_type": "stream",
     "text": [
      "\u001b[32m[I 2022-09-30 19:13:07,885]\u001b[0m Trial 41 finished with value: 3.8099997542300836 and parameters: {'alpha': 0.00034920469323820516, 'eta0': 0.056464941843021754, 'power_t': 0.425411604406203, 'learning_rate': 'adaptive'}. Best is trial 41 with value: 3.8099997542300836.\u001b[0m\n"
     ]
    },
    {
     "name": "stdout",
     "output_type": "stream",
     "text": [
      "Time cost: 5.989100933074951\n",
      "Currently running with:\n",
      "{'alpha': 0.0003606794525693537, 'eta0': 0.05662158018232523, 'power_t': 0.4293272620152351, 'learning_rate': 'adaptive'}\n"
     ]
    },
    {
     "name": "stderr",
     "output_type": "stream",
     "text": [
      "\u001b[32m[I 2022-09-30 19:13:13,864]\u001b[0m Trial 42 finished with value: 3.8100218691907646 and parameters: {'alpha': 0.0003606794525693537, 'eta0': 0.05662158018232523, 'power_t': 0.4293272620152351, 'learning_rate': 'adaptive'}. Best is trial 41 with value: 3.8099997542300836.\u001b[0m\n"
     ]
    },
    {
     "name": "stdout",
     "output_type": "stream",
     "text": [
      "Time cost: 5.979146718978882\n",
      "Currently running with:\n",
      "{'alpha': 0.0003189549140111054, 'eta0': 0.056184227209197905, 'power_t': 0.4314495991570061, 'learning_rate': 'adaptive'}\n"
     ]
    },
    {
     "name": "stderr",
     "output_type": "stream",
     "text": [
      "\u001b[32m[I 2022-09-30 19:13:18,955]\u001b[0m Trial 43 finished with value: 3.8100233280495677 and parameters: {'alpha': 0.0003189549140111054, 'eta0': 0.056184227209197905, 'power_t': 0.4314495991570061, 'learning_rate': 'adaptive'}. Best is trial 41 with value: 3.8099997542300836.\u001b[0m\n"
     ]
    },
    {
     "name": "stdout",
     "output_type": "stream",
     "text": [
      "Time cost: 5.091102361679077\n",
      "Currently running with:\n",
      "{'alpha': 0.00039717540865998925, 'eta0': 0.06457219490139048, 'power_t': 0.4766509188074318, 'learning_rate': 'adaptive'}\n"
     ]
    },
    {
     "name": "stderr",
     "output_type": "stream",
     "text": [
      "\u001b[32m[I 2022-09-30 19:13:23,958]\u001b[0m Trial 44 finished with value: 3.810037273147091 and parameters: {'alpha': 0.00039717540865998925, 'eta0': 0.06457219490139048, 'power_t': 0.4766509188074318, 'learning_rate': 'adaptive'}. Best is trial 41 with value: 3.8099997542300836.\u001b[0m\n"
     ]
    },
    {
     "name": "stdout",
     "output_type": "stream",
     "text": [
      "Time cost: 5.002046346664429\n",
      "Currently running with:\n",
      "{'alpha': 0.0013346025351339721, 'eta0': 0.07069351969440699, 'power_t': 0.4510063752126931, 'learning_rate': 'invscaling'}\n"
     ]
    },
    {
     "name": "stderr",
     "output_type": "stream",
     "text": [
      "\u001b[32m[I 2022-09-30 19:13:25,767]\u001b[0m Trial 45 finished with value: 3.811742227291665 and parameters: {'alpha': 0.0013346025351339721, 'eta0': 0.07069351969440699, 'power_t': 0.4510063752126931, 'learning_rate': 'invscaling'}. Best is trial 41 with value: 3.8099997542300836.\u001b[0m\n"
     ]
    },
    {
     "name": "stdout",
     "output_type": "stream",
     "text": [
      "Time cost: 1.8080523014068604\n",
      "Currently running with:\n",
      "{'alpha': 0.0017436611289235618, 'eta0': 0.05913613299276054, 'power_t': 0.4231238906281969, 'learning_rate': 'adaptive'}\n"
     ]
    },
    {
     "name": "stderr",
     "output_type": "stream",
     "text": [
      "\u001b[32m[I 2022-09-30 19:13:30,624]\u001b[0m Trial 46 finished with value: 3.810132877428045 and parameters: {'alpha': 0.0017436611289235618, 'eta0': 0.05913613299276054, 'power_t': 0.4231238906281969, 'learning_rate': 'adaptive'}. Best is trial 41 with value: 3.8099997542300836.\u001b[0m\n"
     ]
    },
    {
     "name": "stdout",
     "output_type": "stream",
     "text": [
      "Time cost: 4.85715389251709\n",
      "Currently running with:\n",
      "{'alpha': 2.9671813100225382e-05, 'eta0': 0.05246711783284723, 'power_t': 0.4806128368359273, 'learning_rate': 'adaptive'}\n"
     ]
    },
    {
     "name": "stderr",
     "output_type": "stream",
     "text": [
      "\u001b[32m[I 2022-09-30 19:13:36,398]\u001b[0m Trial 47 finished with value: 3.810019001706713 and parameters: {'alpha': 2.9671813100225382e-05, 'eta0': 0.05246711783284723, 'power_t': 0.4806128368359273, 'learning_rate': 'adaptive'}. Best is trial 41 with value: 3.8099997542300836.\u001b[0m\n"
     ]
    },
    {
     "name": "stdout",
     "output_type": "stream",
     "text": [
      "Time cost: 5.772051095962524\n",
      "Currently running with:\n",
      "{'alpha': 2.8425769203812e-05, 'eta0': 0.05231979912282871, 'power_t': 0.4835030245411053, 'learning_rate': 'adaptive'}\n"
     ]
    },
    {
     "name": "stderr",
     "output_type": "stream",
     "text": [
      "\u001b[32m[I 2022-09-30 19:13:41,692]\u001b[0m Trial 48 finished with value: 3.809999271692633 and parameters: {'alpha': 2.8425769203812e-05, 'eta0': 0.05231979912282871, 'power_t': 0.4835030245411053, 'learning_rate': 'adaptive'}. Best is trial 48 with value: 3.809999271692633.\u001b[0m\n"
     ]
    },
    {
     "name": "stdout",
     "output_type": "stream",
     "text": [
      "Time cost: 5.294192314147949\n",
      "Currently running with:\n",
      "{'alpha': 4.763329122271678e-05, 'eta0': 0.052905106730899126, 'power_t': 0.4814033100630773, 'learning_rate': 'adaptive'}\n"
     ]
    },
    {
     "name": "stderr",
     "output_type": "stream",
     "text": [
      "\u001b[32m[I 2022-09-30 19:13:47,663]\u001b[0m Trial 49 finished with value: 3.8100094942490705 and parameters: {'alpha': 4.763329122271678e-05, 'eta0': 0.052905106730899126, 'power_t': 0.4814033100630773, 'learning_rate': 'adaptive'}. Best is trial 48 with value: 3.809999271692633.\u001b[0m\n"
     ]
    },
    {
     "name": "stdout",
     "output_type": "stream",
     "text": [
      "Time cost: 5.970196008682251\n"
     ]
    },
    {
     "data": {
      "text/plain": [
       "{'alpha': 2.8425769203812e-05,\n",
       " 'eta0': 0.05231979912282871,\n",
       " 'power_t': 0.4835030245411053,\n",
       " 'learning_rate': 'adaptive'}"
      ]
     },
     "execution_count": 6,
     "metadata": {},
     "output_type": "execute_result"
    }
   ],
   "source": [
    "study = opt.create_study(direction = 'minimize')\n",
    "study.optimize(objective, n_trials = 50)\n",
    "study.best_params"
   ]
  },
  {
   "cell_type": "code",
   "execution_count": null,
   "id": "204a1ac4-a7b7-4c3c-a0e5-d66ba04f402f",
   "metadata": {},
   "outputs": [],
   "source": []
  },
  {
   "cell_type": "code",
   "execution_count": 9,
   "id": "5b1bec1f-7561-4d0f-a03e-6fc4b056ca8b",
   "metadata": {},
   "outputs": [],
   "source": [
    "# optimal {'alpha': 2.8425769203812e-05, 'eta0': 0.05231979912282871, 'power_t': 0.4835030245411053, 'learning_rate': 'adaptive'}\n",
    "sgd = make_pipeline(StandardScaler(), SGDRegressor(alpha = 2.8425769203812e-05,\n",
    "                                                    eta0 = 0.05231979912282871, \n",
    "                                                    power_t = 0.4835030245411053,\n",
    "                                                    learning_rate =  'adaptive'))\n",
    "model = sgd.fit(X_train, y_train)"
   ]
  },
  {
   "cell_type": "code",
   "execution_count": 10,
   "id": "e16c1f8f-528d-45a3-9e54-8d8653a5867f",
   "metadata": {},
   "outputs": [
    {
     "name": "stdout",
     "output_type": "stream",
     "text": [
      "On training set: RMSE: 3.8096531033541603 MAE 1.6539590908426793\n",
      "On test set: RMSE: 4.42119949053948 MAE 1.6836392232864197\n"
     ]
    }
   ],
   "source": [
    "y_pred_train_sgd = sgd.predict(X_train)\n",
    "y_pred_test_sgd  = sgd.predict(X_test)\n",
    "\n",
    "\n",
    "mae = mean_absolute_error(y_train, y_pred_train_sgd)\n",
    "mse = mean_squared_error(y_train, y_pred_train_sgd)\n",
    "rmse = np.sqrt(mse)\n",
    "print(\"On training set: RMSE:\", rmse, \"MAE\", mae)\n",
    "\n",
    "#Prediction(test) \n",
    "mae = mean_absolute_error(y_test, y_pred_test_sgd)\n",
    "mse = mean_squared_error(y_test, y_pred_test_sgd)\n",
    "rmse = np.sqrt(mse)\n",
    "print(\"On test set: RMSE:\", rmse, \"MAE\", mae)"
   ]
  },
  {
   "cell_type": "code",
   "execution_count": 11,
   "id": "c2d651b4-bc7f-4d37-906f-683029e4441c",
   "metadata": {},
   "outputs": [
    {
     "data": {
      "image/png": "[encoded data removed]",
      "text/plain": [
       "<Figure size 432x288 with 1 Axes>"
      ]
     },
     "metadata": {
      "needs_background": "light"
     },
     "output_type": "display_data"
    }
   ],
   "source": [
    "import matplotlib.pyplot as plt\n",
    "plt.scatter(y_test,y_pred_test_sgd)\n",
    "plt.xlabel(\"Actual vote: $Y_i$\")\n",
    "plt.ylabel(\"Predicted vote: $\\hat{Y}_i$\")\n",
    "plt.title(\"Predicted vote vs Actual vote\")\n",
    "plt.show()"
   ]
  },
  {
   "cell_type": "code",
   "execution_count": null,
   "id": "e30ccd52-1bbb-4ed6-b41c-d5c3fd91bf35",
   "metadata": {},
   "outputs": [],
   "source": []
  },
  {
   "cell_type": "code",
   "execution_count": null,
   "id": "d43a7e7c-d88d-4b72-9d7d-8bbcfd784804",
   "metadata": {},
   "outputs": [],
   "source": []
  },
  {
   "cell_type": "code",
   "execution_count": null,
   "id": "ea8ebb82-1ac3-4997-bb40-cc49603c2582",
   "metadata": {},
   "outputs": [],
   "source": []
  },
  {
   "cell_type": "code",
   "execution_count": null,
   "id": "e7be6f13-c16e-495a-b42e-54a006bdf65e",
   "metadata": {},
   "outputs": [],
   "source": []
  },
  {
   "cell_type": "code",
   "execution_count": null,
   "id": "3daac928-21df-47dd-b1cd-d1194e610163",
   "metadata": {},
   "outputs": [],
   "source": []
  }
 ],
 "metadata": {
  "kernelspec": {
   "display_name": "Python 3 (ipykernel)",
   "language": "python",
   "name": "python3"
  },
  "language_info": {
   "codemirror_mode": {
    "name": "ipython",
    "version": 3
   },
   "file_extension": ".py",
   "mimetype": "text/x-python",
   "name": "python",
   "nbconvert_exporter": "python",
   "pygments_lexer": "ipython3",
   "version": "3.10.6"
  }
 },
 "nbformat": 4,
 "nbformat_minor": 5
}
