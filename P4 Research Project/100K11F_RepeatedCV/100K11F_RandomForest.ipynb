{
 "cells": [
  {
   "cell_type": "markdown",
   "id": "c24d0f8a-86fa-4bba-8c7c-2d7b1109848d",
   "metadata": {},
   "source": [
    "## Random Forest with 5-fold CV, 6 repitition on 100k11F dataset\n",
    "dataset: 11 features, 100k row subsampled dataset, 80:10:10 train:val:test split \n",
    "\n",
    "with optuna early stopping\n",
    "\n",
    "20221015"
   ]
  },
  {
   "cell_type": "code",
   "execution_count": 1,
   "id": "b4eff695-c8a0-474e-b9f3-a3a2644c0c2e",
   "metadata": {},
   "outputs": [],
   "source": [
    "import pandas as pd\n",
    "import numpy as np\n",
    "from numpy import random\n",
    "from sklearn.metrics import mean_absolute_error\n",
    "from sklearn.metrics import mean_squared_error\n",
    "from sklearn.pipeline import Pipeline\n",
    "from sklearn.preprocessing import StandardScaler\n",
    "from sklearn.ensemble import RandomForestRegressor\n",
    "import optuna as opt\n",
    "import warnings\n",
    "warnings.filterwarnings(\"ignore\")\n",
    "import time\n",
    "from sklearn.model_selection import cross_val_score, KFold\n",
    "from sklearn.impute import SimpleImputer\n",
    "from optuna.samplers import TPESampler"
   ]
  },
  {
   "cell_type": "code",
   "execution_count": 2,
   "id": "5a2cae2e-4ec6-419d-87ea-be7f5155a2b0",
   "metadata": {},
   "outputs": [
    {
     "data": {
      "text/html": [
       "<div>\n",
       "<style scoped>\n",
       "    .dataframe tbody tr th:only-of-type {\n",
       "        vertical-align: middle;\n",
       "    }\n",
       "\n",
       "    .dataframe tbody tr th {\n",
       "        vertical-align: top;\n",
       "    }\n",
       "\n",
       "    .dataframe thead th {\n",
       "        text-align: right;\n",
       "    }\n",
       "</style>\n",
       "<table border=\"1\" class=\"dataframe\">\n",
       "  <thead>\n",
       "    <tr style=\"text-align: right;\">\n",
       "      <th></th>\n",
       "      <th>r_id</th>\n",
       "      <th>r_stars</th>\n",
       "      <th>r_stars_square</th>\n",
       "      <th>r_length</th>\n",
       "      <th>u_friends_count</th>\n",
       "      <th>u_review_count</th>\n",
       "      <th>u_month_age</th>\n",
       "      <th>b_stars</th>\n",
       "      <th>b_review_count</th>\n",
       "      <th>r_sen</th>\n",
       "      <th>r_sub</th>\n",
       "      <th>r_rea</th>\n",
       "      <th>r_useful</th>\n",
       "    </tr>\n",
       "  </thead>\n",
       "  <tbody>\n",
       "    <tr>\n",
       "      <th>0</th>\n",
       "      <td>1340676</td>\n",
       "      <td>1</td>\n",
       "      <td>1</td>\n",
       "      <td>305</td>\n",
       "      <td>1</td>\n",
       "      <td>1</td>\n",
       "      <td>37.547287</td>\n",
       "      <td>1.5</td>\n",
       "      <td>19</td>\n",
       "      <td>-0.146854</td>\n",
       "      <td>0.439109</td>\n",
       "      <td>77.13</td>\n",
       "      <td>1</td>\n",
       "    </tr>\n",
       "    <tr>\n",
       "      <th>1</th>\n",
       "      <td>941404</td>\n",
       "      <td>4</td>\n",
       "      <td>16</td>\n",
       "      <td>20</td>\n",
       "      <td>2</td>\n",
       "      <td>96</td>\n",
       "      <td>40.146040</td>\n",
       "      <td>4.0</td>\n",
       "      <td>120</td>\n",
       "      <td>0.455000</td>\n",
       "      <td>0.452500</td>\n",
       "      <td>83.52</td>\n",
       "      <td>1</td>\n",
       "    </tr>\n",
       "    <tr>\n",
       "      <th>2</th>\n",
       "      <td>1312730</td>\n",
       "      <td>1</td>\n",
       "      <td>1</td>\n",
       "      <td>285</td>\n",
       "      <td>333</td>\n",
       "      <td>24</td>\n",
       "      <td>39.063471</td>\n",
       "      <td>4.0</td>\n",
       "      <td>601</td>\n",
       "      <td>-0.096634</td>\n",
       "      <td>0.519085</td>\n",
       "      <td>79.30</td>\n",
       "      <td>3</td>\n",
       "    </tr>\n",
       "    <tr>\n",
       "      <th>3</th>\n",
       "      <td>5155149</td>\n",
       "      <td>4</td>\n",
       "      <td>16</td>\n",
       "      <td>139</td>\n",
       "      <td>273</td>\n",
       "      <td>374</td>\n",
       "      <td>7.853903</td>\n",
       "      <td>2.0</td>\n",
       "      <td>17</td>\n",
       "      <td>0.028750</td>\n",
       "      <td>0.298333</td>\n",
       "      <td>82.95</td>\n",
       "      <td>4</td>\n",
       "    </tr>\n",
       "    <tr>\n",
       "      <th>4</th>\n",
       "      <td>3706898</td>\n",
       "      <td>4</td>\n",
       "      <td>16</td>\n",
       "      <td>41</td>\n",
       "      <td>1</td>\n",
       "      <td>5</td>\n",
       "      <td>11.606999</td>\n",
       "      <td>2.5</td>\n",
       "      <td>19</td>\n",
       "      <td>0.447917</td>\n",
       "      <td>0.700000</td>\n",
       "      <td>86.71</td>\n",
       "      <td>2</td>\n",
       "    </tr>\n",
       "    <tr>\n",
       "      <th>...</th>\n",
       "      <td>...</td>\n",
       "      <td>...</td>\n",
       "      <td>...</td>\n",
       "      <td>...</td>\n",
       "      <td>...</td>\n",
       "      <td>...</td>\n",
       "      <td>...</td>\n",
       "      <td>...</td>\n",
       "      <td>...</td>\n",
       "      <td>...</td>\n",
       "      <td>...</td>\n",
       "      <td>...</td>\n",
       "      <td>...</td>\n",
       "    </tr>\n",
       "    <tr>\n",
       "      <th>9995</th>\n",
       "      <td>4134229</td>\n",
       "      <td>5</td>\n",
       "      <td>25</td>\n",
       "      <td>95</td>\n",
       "      <td>1</td>\n",
       "      <td>12</td>\n",
       "      <td>34.229801</td>\n",
       "      <td>3.5</td>\n",
       "      <td>58</td>\n",
       "      <td>0.145525</td>\n",
       "      <td>0.305864</td>\n",
       "      <td>89.58</td>\n",
       "      <td>1</td>\n",
       "    </tr>\n",
       "    <tr>\n",
       "      <th>9996</th>\n",
       "      <td>4059522</td>\n",
       "      <td>3</td>\n",
       "      <td>9</td>\n",
       "      <td>454</td>\n",
       "      <td>149</td>\n",
       "      <td>361</td>\n",
       "      <td>101.389702</td>\n",
       "      <td>4.0</td>\n",
       "      <td>176</td>\n",
       "      <td>0.009922</td>\n",
       "      <td>0.398143</td>\n",
       "      <td>92.02</td>\n",
       "      <td>3</td>\n",
       "    </tr>\n",
       "    <tr>\n",
       "      <th>9997</th>\n",
       "      <td>5567999</td>\n",
       "      <td>3</td>\n",
       "      <td>9</td>\n",
       "      <td>347</td>\n",
       "      <td>352</td>\n",
       "      <td>286</td>\n",
       "      <td>92.625418</td>\n",
       "      <td>2.5</td>\n",
       "      <td>20</td>\n",
       "      <td>0.075301</td>\n",
       "      <td>0.390278</td>\n",
       "      <td>70.16</td>\n",
       "      <td>2</td>\n",
       "    </tr>\n",
       "    <tr>\n",
       "      <th>9998</th>\n",
       "      <td>2980845</td>\n",
       "      <td>4</td>\n",
       "      <td>16</td>\n",
       "      <td>175</td>\n",
       "      <td>217</td>\n",
       "      <td>219</td>\n",
       "      <td>54.729315</td>\n",
       "      <td>4.0</td>\n",
       "      <td>70</td>\n",
       "      <td>0.161314</td>\n",
       "      <td>0.429562</td>\n",
       "      <td>89.28</td>\n",
       "      <td>2</td>\n",
       "    </tr>\n",
       "    <tr>\n",
       "      <th>9999</th>\n",
       "      <td>2920162</td>\n",
       "      <td>2</td>\n",
       "      <td>4</td>\n",
       "      <td>256</td>\n",
       "      <td>15</td>\n",
       "      <td>4</td>\n",
       "      <td>36.109048</td>\n",
       "      <td>2.5</td>\n",
       "      <td>46</td>\n",
       "      <td>0.153125</td>\n",
       "      <td>0.452976</td>\n",
       "      <td>77.37</td>\n",
       "      <td>2</td>\n",
       "    </tr>\n",
       "  </tbody>\n",
       "</table>\n",
       "<p>10000 rows × 13 columns</p>\n",
       "</div>"
      ],
      "text/plain": [
       "         r_id  r_stars  r_stars_square  r_length  u_friends_count  \\\n",
       "0     1340676        1               1       305                1   \n",
       "1      941404        4              16        20                2   \n",
       "2     1312730        1               1       285              333   \n",
       "3     5155149        4              16       139              273   \n",
       "4     3706898        4              16        41                1   \n",
       "...       ...      ...             ...       ...              ...   \n",
       "9995  4134229        5              25        95                1   \n",
       "9996  4059522        3               9       454              149   \n",
       "9997  5567999        3               9       347              352   \n",
       "9998  2980845        4              16       175              217   \n",
       "9999  2920162        2               4       256               15   \n",
       "\n",
       "      u_review_count  u_month_age  b_stars  b_review_count     r_sen  \\\n",
       "0                  1    37.547287      1.5              19 -0.146854   \n",
       "1                 96    40.146040      4.0             120  0.455000   \n",
       "2                 24    39.063471      4.0             601 -0.096634   \n",
       "3                374     7.853903      2.0              17  0.028750   \n",
       "4                  5    11.606999      2.5              19  0.447917   \n",
       "...              ...          ...      ...             ...       ...   \n",
       "9995              12    34.229801      3.5              58  0.145525   \n",
       "9996             361   101.389702      4.0             176  0.009922   \n",
       "9997             286    92.625418      2.5              20  0.075301   \n",
       "9998             219    54.729315      4.0              70  0.161314   \n",
       "9999               4    36.109048      2.5              46  0.153125   \n",
       "\n",
       "         r_sub  r_rea  r_useful  \n",
       "0     0.439109  77.13         1  \n",
       "1     0.452500  83.52         1  \n",
       "2     0.519085  79.30         3  \n",
       "3     0.298333  82.95         4  \n",
       "4     0.700000  86.71         2  \n",
       "...        ...    ...       ...  \n",
       "9995  0.305864  89.58         1  \n",
       "9996  0.398143  92.02         3  \n",
       "9997  0.390278  70.16         2  \n",
       "9998  0.429562  89.28         2  \n",
       "9999  0.452976  77.37         2  \n",
       "\n",
       "[10000 rows x 13 columns]"
      ]
     },
     "execution_count": 2,
     "metadata": {},
     "output_type": "execute_result"
    }
   ],
   "source": [
    "#import data\n",
    "train_df = pd.read_parquet(\"100K11F_test_main.parquet.snappy\")\n",
    "val_df = pd.read_parquet(\"100K11F_val_main.parquet.snappy\")\n",
    "test_df = pd.read_parquet(\"100K11F_test_main.parquet.snappy\")\n",
    "test_df"
   ]
  },
  {
   "cell_type": "code",
   "execution_count": 3,
   "id": "0fb12089-3b81-4484-b757-9256f87a9834",
   "metadata": {},
   "outputs": [],
   "source": [
    "X_train, y_train = train_df.drop(['r_useful', 'r_id'], axis=1).values, train_df['r_useful'].values\n",
    "X_val, y_val = val_df.drop(['r_useful', 'r_id'], axis=1).values, val_df['r_useful'].values\n",
    "X_test, y_test = test_df.drop(['r_useful', 'r_id'], axis=1).values, test_df['r_useful'].values"
   ]
  },
  {
   "cell_type": "code",
   "execution_count": null,
   "id": "bd08f978-077c-49f7-9b9e-8cc87b785413",
   "metadata": {},
   "outputs": [],
   "source": []
  },
  {
   "cell_type": "code",
   "execution_count": 4,
   "id": "7aa55b46-43b4-4b6a-b062-32facb073ff2",
   "metadata": {},
   "outputs": [],
   "source": [
    "# Code reference: With many thx to Brian's XGBboost notebook: 100K32F_XGBoost.ipynb"
   ]
  },
  {
   "cell_type": "code",
   "execution_count": 5,
   "id": "58a31c0e-99ee-47b6-bac1-713b2be0e7fe",
   "metadata": {},
   "outputs": [],
   "source": [
    "N_OPTUNA_TRIALS = 50\n",
    "K_FOLDS = 5 \n",
    "N_REPS = 6\n",
    "# early stopping threshold\n",
    "T_ES = 20 \n",
    "MODEL_PREFIX = \"RF\"\n",
    "\n",
    "# Mean imputation and standardisation\n",
    "model_pipe = Pipeline([\n",
    "    (\"imp\", SimpleImputer()),\n",
    "    (\"ss\", StandardScaler()),\n",
    "    (MODEL_PREFIX, RandomForestRegressor())])"
   ]
  },
  {
   "cell_type": "code",
   "execution_count": 6,
   "id": "eef27e59-a19b-4504-870d-3d4a0d754ae5",
   "metadata": {},
   "outputs": [],
   "source": [
    "def hp_appender(hp_dict):\n",
    "    '''Return dictionary where every key has the MODEL_PREFIX__ appended.'''\n",
    "    new_dict = {}\n",
    "    for key, val in hp_dict.items():\n",
    "        new_dict[MODEL_PREFIX + \"__\" + key] = val\n",
    "    return new_dict"
   ]
  },
  {
   "cell_type": "code",
   "execution_count": 7,
   "id": "f64292f3-0c78-453b-858b-b484f830e53c",
   "metadata": {},
   "outputs": [],
   "source": [
    "def optuna_objective(trial, model, X, y):\n",
    "    print(f\"{time.strftime('%H:%M:%S', time.localtime())} | Running Optuna Trial: {trial.number}\")\n",
    "    \n",
    "    \n",
    "    hyperparams = {\n",
    "        \"n_estimators\": trial.suggest_int('n_estimators', 1, 500, 25),\n",
    "        \"max_depth\": trial.suggest_int('max_depth', 1, 500, 25),\n",
    "        \"min_samples_split\": trial.suggest_int('min_samples_split', 2, 20),\n",
    "        \"max_features\" : trial.suggest_categorical(\"max_features\", ['sqrt', 'log2']),\n",
    "        \"min_samples_leaf\": trial.suggest_int('min_samples_leaf', 1, 20), \n",
    "        \"random_state\": 760, \n",
    "        \"n_jobs\": -1\n",
    "    }\n",
    "    \n",
    "    print(f\"with hyperparameters: {hyperparams}\")\n",
    "    hyperparams = hp_appender(hyperparams)\n",
    "    model.set_params(**hyperparams)\n",
    "    \n",
    "    \n",
    "    # Inner CV Loop\n",
    "    avg_score = -cross_val_score(model, X, y,\n",
    "        scoring=\"neg_root_mean_squared_error\", cv=KFold(K_FOLDS)).mean()\n",
    "    print(f\"complete! average cv RMSE: {avg_score}\")\n",
    "    return avg_score"
   ]
  },
  {
   "cell_type": "code",
   "execution_count": 8,
   "id": "5ef2784b-9dd5-4327-b912-3529a7b30951",
   "metadata": {},
   "outputs": [],
   "source": [
    "class early_stopping_check_callback:\n",
    "    def __init__(self, threshold):\n",
    "        self.threshold = threshold\n",
    "\n",
    "    def __call__(self, study, trial):\n",
    "        # stop study if the number of consecutive trials with no improvement is\n",
    "        # at least the threshold.\n",
    "        if trial.number - study.best_trial.number >= self.threshold:\n",
    "            print(\"==== EARLY STOPPING ACTIVATED ====\")\n",
    "            study.stop()"
   ]
  },
  {
   "cell_type": "code",
   "execution_count": 9,
   "id": "9e3b3078-ae21-416d-bc0a-f5d3ac66b084",
   "metadata": {},
   "outputs": [],
   "source": [
    "def get_best_model(X, y):\n",
    "    '''Obtains best hyperparameters using TPE sampling and cross-validation.'''\n",
    "    study = opt.create_study(direction='minimize', sampler=TPESampler(seed=760))\n",
    "    study.optimize(\n",
    "        lambda trial: optuna_objective(trial, model_pipe, X, y),\n",
    "        n_trials=N_OPTUNA_TRIALS,\n",
    "        callbacks=[early_stopping_check_callback(T_ES)]) # early stopping\n",
    "    return study.best_params"
   ]
  },
  {
   "cell_type": "code",
   "execution_count": 10,
   "id": "63b6bc88-942d-4de5-969f-1984c8b1c48e",
   "metadata": {},
   "outputs": [],
   "source": [
    "def fit_and_score(model, hps, X_train, y_train, X_test, y_test):\n",
    "    model.set_params(**hp_appender(hps))\n",
    "    model.fit(X_train, y_train)\n",
    "    y_preds = model.predict(X_test)\n",
    "\n",
    "    # calculate scores\n",
    "    rmse = mean_squared_error(y_test, y_preds, squared=False)\n",
    "    mae = mean_absolute_error(y_test, y_preds)\n",
    "    return rmse, mae"
   ]
  },
  {
   "cell_type": "code",
   "execution_count": 11,
   "id": "625291d8-ff03-435d-a8c1-0cced6c6d460",
   "metadata": {},
   "outputs": [
    {
     "name": "stderr",
     "output_type": "stream",
     "text": [
      "\u001b[32m[I 2022-10-15 18:21:26,250]\u001b[0m A new study created in memory with name: no-name-ee3661b0-b0df-4129-aa06-961336a9a5d2\u001b[0m\n"
     ]
    },
    {
     "name": "stdout",
     "output_type": "stream",
     "text": [
      "====== Running repetition: 0 ======\n",
      "18:21:26 | Running Optuna Trial: 0\n",
      "with hyperparameters: {'n_estimators': 51, 'max_depth': 51, 'min_samples_split': 5, 'max_features': 'log2', 'min_samples_leaf': 18, 'random_state': 760, 'n_jobs': -1}\n"
     ]
    },
    {
     "name": "stderr",
     "output_type": "stream",
     "text": [
      "\u001b[32m[I 2022-10-15 18:21:28,370]\u001b[0m Trial 0 finished with value: 3.3832933490043535 and parameters: {'n_estimators': 51, 'max_depth': 51, 'min_samples_split': 5, 'max_features': 'log2', 'min_samples_leaf': 18}. Best is trial 0 with value: 3.3832933490043535.\u001b[0m\n"
     ]
    },
    {
     "name": "stdout",
     "output_type": "stream",
     "text": [
      "complete! average cv RMSE: 3.3832933490043535\n",
      "18:21:28 | Running Optuna Trial: 1\n",
      "with hyperparameters: {'n_estimators': 76, 'max_depth': 451, 'min_samples_split': 14, 'max_features': 'sqrt', 'min_samples_leaf': 14, 'random_state': 760, 'n_jobs': -1}\n"
     ]
    },
    {
     "name": "stderr",
     "output_type": "stream",
     "text": [
      "\u001b[32m[I 2022-10-15 18:21:28,968]\u001b[0m Trial 1 finished with value: 3.384130386431658 and parameters: {'n_estimators': 76, 'max_depth': 451, 'min_samples_split': 14, 'max_features': 'sqrt', 'min_samples_leaf': 14}. Best is trial 0 with value: 3.3832933490043535.\u001b[0m\n"
     ]
    },
    {
     "name": "stdout",
     "output_type": "stream",
     "text": [
      "complete! average cv RMSE: 3.384130386431658\n",
      "18:21:28 | Running Optuna Trial: 2\n",
      "with hyperparameters: {'n_estimators': 201, 'max_depth': 126, 'min_samples_split': 20, 'max_features': 'log2', 'min_samples_leaf': 14, 'random_state': 760, 'n_jobs': -1}\n"
     ]
    },
    {
     "name": "stderr",
     "output_type": "stream",
     "text": [
      "\u001b[32m[I 2022-10-15 18:21:30,072]\u001b[0m Trial 2 finished with value: 3.3811196883478942 and parameters: {'n_estimators': 201, 'max_depth': 126, 'min_samples_split': 20, 'max_features': 'log2', 'min_samples_leaf': 14}. Best is trial 2 with value: 3.3811196883478942.\u001b[0m\n"
     ]
    },
    {
     "name": "stdout",
     "output_type": "stream",
     "text": [
      "complete! average cv RMSE: 3.3811196883478942\n",
      "18:21:30 | Running Optuna Trial: 3\n",
      "with hyperparameters: {'n_estimators': 126, 'max_depth': 326, 'min_samples_split': 11, 'max_features': 'sqrt', 'min_samples_leaf': 19, 'random_state': 760, 'n_jobs': -1}\n"
     ]
    },
    {
     "name": "stderr",
     "output_type": "stream",
     "text": [
      "\u001b[32m[I 2022-10-15 18:21:30,849]\u001b[0m Trial 3 finished with value: 3.382965941068137 and parameters: {'n_estimators': 126, 'max_depth': 326, 'min_samples_split': 11, 'max_features': 'sqrt', 'min_samples_leaf': 19}. Best is trial 2 with value: 3.3811196883478942.\u001b[0m\n"
     ]
    },
    {
     "name": "stdout",
     "output_type": "stream",
     "text": [
      "complete! average cv RMSE: 3.382965941068137\n",
      "18:21:30 | Running Optuna Trial: 4\n",
      "with hyperparameters: {'n_estimators': 276, 'max_depth': 376, 'min_samples_split': 15, 'max_features': 'log2', 'min_samples_leaf': 7, 'random_state': 760, 'n_jobs': -1}\n"
     ]
    },
    {
     "name": "stderr",
     "output_type": "stream",
     "text": [
      "\u001b[32m[I 2022-10-15 18:21:32,587]\u001b[0m Trial 4 finished with value: 3.384506304498431 and parameters: {'n_estimators': 276, 'max_depth': 376, 'min_samples_split': 15, 'max_features': 'log2', 'min_samples_leaf': 7}. Best is trial 2 with value: 3.3811196883478942.\u001b[0m\n"
     ]
    },
    {
     "name": "stdout",
     "output_type": "stream",
     "text": [
      "complete! average cv RMSE: 3.384506304498431\n",
      "18:21:32 | Running Optuna Trial: 5\n",
      "with hyperparameters: {'n_estimators': 151, 'max_depth': 401, 'min_samples_split': 17, 'max_features': 'sqrt', 'min_samples_leaf': 11, 'random_state': 760, 'n_jobs': -1}\n"
     ]
    },
    {
     "name": "stderr",
     "output_type": "stream",
     "text": [
      "\u001b[32m[I 2022-10-15 18:21:33,621]\u001b[0m Trial 5 finished with value: 3.3783512867815033 and parameters: {'n_estimators': 151, 'max_depth': 401, 'min_samples_split': 17, 'max_features': 'sqrt', 'min_samples_leaf': 11}. Best is trial 5 with value: 3.3783512867815033.\u001b[0m\n"
     ]
    },
    {
     "name": "stdout",
     "output_type": "stream",
     "text": [
      "complete! average cv RMSE: 3.3783512867815033\n",
      "18:21:33 | Running Optuna Trial: 6\n",
      "with hyperparameters: {'n_estimators': 201, 'max_depth': 276, 'min_samples_split': 4, 'max_features': 'sqrt', 'min_samples_leaf': 11, 'random_state': 760, 'n_jobs': -1}\n"
     ]
    },
    {
     "name": "stderr",
     "output_type": "stream",
     "text": [
      "\u001b[32m[I 2022-10-15 18:21:35,350]\u001b[0m Trial 6 finished with value: 3.3803149495003764 and parameters: {'n_estimators': 201, 'max_depth': 276, 'min_samples_split': 4, 'max_features': 'sqrt', 'min_samples_leaf': 11}. Best is trial 5 with value: 3.3783512867815033.\u001b[0m\n"
     ]
    },
    {
     "name": "stdout",
     "output_type": "stream",
     "text": [
      "complete! average cv RMSE: 3.3803149495003764\n",
      "18:21:35 | Running Optuna Trial: 7\n",
      "with hyperparameters: {'n_estimators': 126, 'max_depth': 401, 'min_samples_split': 7, 'max_features': 'log2', 'min_samples_leaf': 12, 'random_state': 760, 'n_jobs': -1}\n"
     ]
    },
    {
     "name": "stderr",
     "output_type": "stream",
     "text": [
      "\u001b[32m[I 2022-10-15 18:21:36,640]\u001b[0m Trial 7 finished with value: 3.380877264345725 and parameters: {'n_estimators': 126, 'max_depth': 401, 'min_samples_split': 7, 'max_features': 'log2', 'min_samples_leaf': 12}. Best is trial 5 with value: 3.3783512867815033.\u001b[0m\n"
     ]
    },
    {
     "name": "stdout",
     "output_type": "stream",
     "text": [
      "complete! average cv RMSE: 3.380877264345725\n",
      "18:21:36 | Running Optuna Trial: 8\n",
      "with hyperparameters: {'n_estimators': 476, 'max_depth': 476, 'min_samples_split': 10, 'max_features': 'log2', 'min_samples_leaf': 13, 'random_state': 760, 'n_jobs': -1}\n"
     ]
    },
    {
     "name": "stderr",
     "output_type": "stream",
     "text": [
      "\u001b[32m[I 2022-10-15 18:21:41,267]\u001b[0m Trial 8 finished with value: 3.382211524462778 and parameters: {'n_estimators': 476, 'max_depth': 476, 'min_samples_split': 10, 'max_features': 'log2', 'min_samples_leaf': 13}. Best is trial 5 with value: 3.3783512867815033.\u001b[0m\n"
     ]
    },
    {
     "name": "stdout",
     "output_type": "stream",
     "text": [
      "complete! average cv RMSE: 3.382211524462778\n",
      "18:21:41 | Running Optuna Trial: 9\n",
      "with hyperparameters: {'n_estimators': 301, 'max_depth': 251, 'min_samples_split': 15, 'max_features': 'log2', 'min_samples_leaf': 2, 'random_state': 760, 'n_jobs': -1}\n"
     ]
    },
    {
     "name": "stderr",
     "output_type": "stream",
     "text": [
      "\u001b[32m[I 2022-10-15 18:21:44,979]\u001b[0m Trial 9 finished with value: 3.394586213994573 and parameters: {'n_estimators': 301, 'max_depth': 251, 'min_samples_split': 15, 'max_features': 'log2', 'min_samples_leaf': 2}. Best is trial 5 with value: 3.3783512867815033.\u001b[0m\n"
     ]
    },
    {
     "name": "stdout",
     "output_type": "stream",
     "text": [
      "complete! average cv RMSE: 3.394586213994573\n",
      "18:21:44 | Running Optuna Trial: 10\n",
      "with hyperparameters: {'n_estimators': 376, 'max_depth': 176, 'min_samples_split': 20, 'max_features': 'sqrt', 'min_samples_leaf': 6, 'random_state': 760, 'n_jobs': -1}\n"
     ]
    },
    {
     "name": "stderr",
     "output_type": "stream",
     "text": [
      "\u001b[32m[I 2022-10-15 18:21:49,049]\u001b[0m Trial 10 finished with value: 3.3807989186308944 and parameters: {'n_estimators': 376, 'max_depth': 176, 'min_samples_split': 20, 'max_features': 'sqrt', 'min_samples_leaf': 6}. Best is trial 5 with value: 3.3783512867815033.\u001b[0m\n"
     ]
    },
    {
     "name": "stdout",
     "output_type": "stream",
     "text": [
      "complete! average cv RMSE: 3.3807989186308944\n",
      "18:21:49 | Running Optuna Trial: 11\n",
      "with hyperparameters: {'n_estimators': 201, 'max_depth': 276, 'min_samples_split': 2, 'max_features': 'sqrt', 'min_samples_leaf': 8, 'random_state': 760, 'n_jobs': -1}\n"
     ]
    },
    {
     "name": "stderr",
     "output_type": "stream",
     "text": [
      "\u001b[32m[I 2022-10-15 18:21:51,359]\u001b[0m Trial 11 finished with value: 3.38146947312987 and parameters: {'n_estimators': 201, 'max_depth': 276, 'min_samples_split': 2, 'max_features': 'sqrt', 'min_samples_leaf': 8}. Best is trial 5 with value: 3.3783512867815033.\u001b[0m\n",
      "\u001b[32m[I 2022-10-15 18:21:51,442]\u001b[0m Trial 12 finished with value: 3.8280499289694747 and parameters: {'n_estimators': 1, 'max_depth': 351, 'min_samples_split': 7, 'max_features': 'sqrt', 'min_samples_leaf': 9}. Best is trial 5 with value: 3.3783512867815033.\u001b[0m\n"
     ]
    },
    {
     "name": "stdout",
     "output_type": "stream",
     "text": [
      "complete! average cv RMSE: 3.38146947312987\n",
      "18:21:51 | Running Optuna Trial: 12\n",
      "with hyperparameters: {'n_estimators': 1, 'max_depth': 351, 'min_samples_split': 7, 'max_features': 'sqrt', 'min_samples_leaf': 9, 'random_state': 760, 'n_jobs': -1}\n",
      "complete! average cv RMSE: 3.8280499289694747\n",
      "18:21:51 | Running Optuna Trial: 13\n",
      "with hyperparameters: {'n_estimators': 176, 'max_depth': 176, 'min_samples_split': 2, 'max_features': 'sqrt', 'min_samples_leaf': 16, 'random_state': 760, 'n_jobs': -1}\n"
     ]
    },
    {
     "name": "stderr",
     "output_type": "stream",
     "text": [
      "\u001b[32m[I 2022-10-15 18:21:53,209]\u001b[0m Trial 13 finished with value: 3.3783398815376025 and parameters: {'n_estimators': 176, 'max_depth': 176, 'min_samples_split': 2, 'max_features': 'sqrt', 'min_samples_leaf': 16}. Best is trial 13 with value: 3.3783398815376025.\u001b[0m\n"
     ]
    },
    {
     "name": "stdout",
     "output_type": "stream",
     "text": [
      "complete! average cv RMSE: 3.3783398815376025\n",
      "18:21:53 | Running Optuna Trial: 14\n",
      "with hyperparameters: {'n_estimators': 126, 'max_depth': 176, 'min_samples_split': 18, 'max_features': 'sqrt', 'min_samples_leaf': 17, 'random_state': 760, 'n_jobs': -1}\n"
     ]
    },
    {
     "name": "stderr",
     "output_type": "stream",
     "text": [
      "\u001b[32m[I 2022-10-15 18:21:54,498]\u001b[0m Trial 14 finished with value: 3.383676510885485 and parameters: {'n_estimators': 126, 'max_depth': 176, 'min_samples_split': 18, 'max_features': 'sqrt', 'min_samples_leaf': 17}. Best is trial 13 with value: 3.3783398815376025.\u001b[0m\n"
     ]
    },
    {
     "name": "stdout",
     "output_type": "stream",
     "text": [
      "complete! average cv RMSE: 3.383676510885485\n",
      "18:21:54 | Running Optuna Trial: 15\n",
      "with hyperparameters: {'n_estimators': 326, 'max_depth': 1, 'min_samples_split': 13, 'max_features': 'sqrt', 'min_samples_leaf': 16, 'random_state': 760, 'n_jobs': -1}\n"
     ]
    },
    {
     "name": "stderr",
     "output_type": "stream",
     "text": [
      "\u001b[32m[I 2022-10-15 18:21:55,918]\u001b[0m Trial 15 finished with value: 3.572577180603883 and parameters: {'n_estimators': 326, 'max_depth': 1, 'min_samples_split': 13, 'max_features': 'sqrt', 'min_samples_leaf': 16}. Best is trial 13 with value: 3.3783398815376025.\u001b[0m\n"
     ]
    },
    {
     "name": "stdout",
     "output_type": "stream",
     "text": [
      "complete! average cv RMSE: 3.572577180603883\n",
      "18:21:55 | Running Optuna Trial: 16\n",
      "with hyperparameters: {'n_estimators': 226, 'max_depth': 176, 'min_samples_split': 17, 'max_features': 'sqrt', 'min_samples_leaf': 5, 'random_state': 760, 'n_jobs': -1}\n"
     ]
    },
    {
     "name": "stderr",
     "output_type": "stream",
     "text": [
      "\u001b[32m[I 2022-10-15 18:21:58,478]\u001b[0m Trial 16 finished with value: 3.3857825881623484 and parameters: {'n_estimators': 226, 'max_depth': 176, 'min_samples_split': 17, 'max_features': 'sqrt', 'min_samples_leaf': 5}. Best is trial 13 with value: 3.3783398815376025.\u001b[0m\n"
     ]
    },
    {
     "name": "stdout",
     "output_type": "stream",
     "text": [
      "complete! average cv RMSE: 3.3857825881623484\n",
      "18:21:58 | Running Optuna Trial: 17\n",
      "with hyperparameters: {'n_estimators': 151, 'max_depth': 76, 'min_samples_split': 8, 'max_features': 'sqrt', 'min_samples_leaf': 15, 'random_state': 760, 'n_jobs': -1}\n"
     ]
    },
    {
     "name": "stderr",
     "output_type": "stream",
     "text": [
      "\u001b[32m[I 2022-10-15 18:22:00,088]\u001b[0m Trial 17 finished with value: 3.381511401232731 and parameters: {'n_estimators': 151, 'max_depth': 76, 'min_samples_split': 8, 'max_features': 'sqrt', 'min_samples_leaf': 15}. Best is trial 13 with value: 3.3783398815376025.\u001b[0m\n"
     ]
    },
    {
     "name": "stdout",
     "output_type": "stream",
     "text": [
      "complete! average cv RMSE: 3.381511401232731\n",
      "18:22:00 | Running Optuna Trial: 18\n",
      "with hyperparameters: {'n_estimators': 376, 'max_depth': 426, 'min_samples_split': 2, 'max_features': 'sqrt', 'min_samples_leaf': 10, 'random_state': 760, 'n_jobs': -1}\n"
     ]
    },
    {
     "name": "stderr",
     "output_type": "stream",
     "text": [
      "\u001b[32m[I 2022-10-15 18:22:03,798]\u001b[0m Trial 18 finished with value: 3.380665329135243 and parameters: {'n_estimators': 376, 'max_depth': 426, 'min_samples_split': 2, 'max_features': 'sqrt', 'min_samples_leaf': 10}. Best is trial 13 with value: 3.3783398815376025.\u001b[0m\n"
     ]
    },
    {
     "name": "stdout",
     "output_type": "stream",
     "text": [
      "complete! average cv RMSE: 3.380665329135243\n",
      "18:22:03 | Running Optuna Trial: 19\n",
      "with hyperparameters: {'n_estimators': 76, 'max_depth': 201, 'min_samples_split': 11, 'max_features': 'sqrt', 'min_samples_leaf': 20, 'random_state': 760, 'n_jobs': -1}\n"
     ]
    },
    {
     "name": "stderr",
     "output_type": "stream",
     "text": [
      "\u001b[32m[I 2022-10-15 18:22:04,657]\u001b[0m Trial 19 finished with value: 3.387600161831608 and parameters: {'n_estimators': 76, 'max_depth': 201, 'min_samples_split': 11, 'max_features': 'sqrt', 'min_samples_leaf': 20}. Best is trial 13 with value: 3.3783398815376025.\u001b[0m\n",
      "\u001b[32m[I 2022-10-15 18:22:04,758]\u001b[0m Trial 20 finished with value: 4.042607958427777 and parameters: {'n_estimators': 1, 'max_depth': 326, 'min_samples_split': 18, 'max_features': 'sqrt', 'min_samples_leaf': 3}. Best is trial 13 with value: 3.3783398815376025.\u001b[0m\n"
     ]
    },
    {
     "name": "stdout",
     "output_type": "stream",
     "text": [
      "complete! average cv RMSE: 3.387600161831608\n",
      "18:22:04 | Running Optuna Trial: 20\n",
      "with hyperparameters: {'n_estimators': 1, 'max_depth': 326, 'min_samples_split': 18, 'max_features': 'sqrt', 'min_samples_leaf': 3, 'random_state': 760, 'n_jobs': -1}\n",
      "complete! average cv RMSE: 4.042607958427777\n",
      "18:22:04 | Running Optuna Trial: 21\n",
      "with hyperparameters: {'n_estimators': 176, 'max_depth': 276, 'min_samples_split': 4, 'max_features': 'sqrt', 'min_samples_leaf': 11, 'random_state': 760, 'n_jobs': -1}\n"
     ]
    },
    {
     "name": "stderr",
     "output_type": "stream",
     "text": [
      "\u001b[32m[I 2022-10-15 18:22:06,624]\u001b[0m Trial 21 finished with value: 3.379007518349437 and parameters: {'n_estimators': 176, 'max_depth': 276, 'min_samples_split': 4, 'max_features': 'sqrt', 'min_samples_leaf': 11}. Best is trial 13 with value: 3.3783398815376025.\u001b[0m\n"
     ]
    },
    {
     "name": "stdout",
     "output_type": "stream",
     "text": [
      "complete! average cv RMSE: 3.379007518349437\n",
      "18:22:06 | Running Optuna Trial: 22\n",
      "with hyperparameters: {'n_estimators': 176, 'max_depth': 226, 'min_samples_split': 4, 'max_features': 'sqrt', 'min_samples_leaf': 11, 'random_state': 760, 'n_jobs': -1}\n"
     ]
    },
    {
     "name": "stderr",
     "output_type": "stream",
     "text": [
      "\u001b[32m[I 2022-10-15 18:22:08,454]\u001b[0m Trial 22 finished with value: 3.379007518349437 and parameters: {'n_estimators': 176, 'max_depth': 226, 'min_samples_split': 4, 'max_features': 'sqrt', 'min_samples_leaf': 11}. Best is trial 13 with value: 3.3783398815376025.\u001b[0m\n"
     ]
    },
    {
     "name": "stdout",
     "output_type": "stream",
     "text": [
      "complete! average cv RMSE: 3.379007518349437\n",
      "18:22:08 | Running Optuna Trial: 23\n",
      "with hyperparameters: {'n_estimators': 276, 'max_depth': 126, 'min_samples_split': 4, 'max_features': 'sqrt', 'min_samples_leaf': 9, 'random_state': 760, 'n_jobs': -1}\n"
     ]
    },
    {
     "name": "stderr",
     "output_type": "stream",
     "text": [
      "\u001b[32m[I 2022-10-15 18:22:11,388]\u001b[0m Trial 23 finished with value: 3.3808469632533273 and parameters: {'n_estimators': 276, 'max_depth': 126, 'min_samples_split': 4, 'max_features': 'sqrt', 'min_samples_leaf': 9}. Best is trial 13 with value: 3.3783398815376025.\u001b[0m\n"
     ]
    },
    {
     "name": "stdout",
     "output_type": "stream",
     "text": [
      "complete! average cv RMSE: 3.3808469632533273\n",
      "18:22:11 | Running Optuna Trial: 24\n",
      "with hyperparameters: {'n_estimators': 251, 'max_depth': 276, 'min_samples_split': 9, 'max_features': 'sqrt', 'min_samples_leaf': 13, 'random_state': 760, 'n_jobs': -1}\n"
     ]
    },
    {
     "name": "stderr",
     "output_type": "stream",
     "text": [
      "\u001b[32m[I 2022-10-15 18:22:13,952]\u001b[0m Trial 24 finished with value: 3.382221749385656 and parameters: {'n_estimators': 251, 'max_depth': 276, 'min_samples_split': 9, 'max_features': 'sqrt', 'min_samples_leaf': 13}. Best is trial 13 with value: 3.3783398815376025.\u001b[0m\n"
     ]
    },
    {
     "name": "stdout",
     "output_type": "stream",
     "text": [
      "complete! average cv RMSE: 3.382221749385656\n",
      "18:22:13 | Running Optuna Trial: 25\n",
      "with hyperparameters: {'n_estimators': 151, 'max_depth': 226, 'min_samples_split': 2, 'max_features': 'sqrt', 'min_samples_leaf': 15, 'random_state': 760, 'n_jobs': -1}\n"
     ]
    },
    {
     "name": "stderr",
     "output_type": "stream",
     "text": [
      "\u001b[32m[I 2022-10-15 18:22:15,607]\u001b[0m Trial 25 finished with value: 3.381511401232731 and parameters: {'n_estimators': 151, 'max_depth': 226, 'min_samples_split': 2, 'max_features': 'sqrt', 'min_samples_leaf': 15}. Best is trial 13 with value: 3.3783398815376025.\u001b[0m\n"
     ]
    },
    {
     "name": "stdout",
     "output_type": "stream",
     "text": [
      "complete! average cv RMSE: 3.381511401232731\n",
      "18:22:15 | Running Optuna Trial: 26\n",
      "with hyperparameters: {'n_estimators': 76, 'max_depth': 126, 'min_samples_split': 6, 'max_features': 'sqrt', 'min_samples_leaf': 4, 'random_state': 760, 'n_jobs': -1}\n"
     ]
    },
    {
     "name": "stderr",
     "output_type": "stream",
     "text": [
      "\u001b[32m[I 2022-10-15 18:22:16,658]\u001b[0m Trial 26 finished with value: 3.3954711878793638 and parameters: {'n_estimators': 76, 'max_depth': 126, 'min_samples_split': 6, 'max_features': 'sqrt', 'min_samples_leaf': 4}. Best is trial 13 with value: 3.3783398815376025.\u001b[0m\n"
     ]
    },
    {
     "name": "stdout",
     "output_type": "stream",
     "text": [
      "complete! average cv RMSE: 3.3954711878793638\n",
      "18:22:16 | Running Optuna Trial: 27\n",
      "with hyperparameters: {'n_estimators': 226, 'max_depth': 226, 'min_samples_split': 12, 'max_features': 'sqrt', 'min_samples_leaf': 17, 'random_state': 760, 'n_jobs': -1}\n"
     ]
    },
    {
     "name": "stderr",
     "output_type": "stream",
     "text": [
      "\u001b[32m[I 2022-10-15 18:22:18,829]\u001b[0m Trial 27 finished with value: 3.383031723551592 and parameters: {'n_estimators': 226, 'max_depth': 226, 'min_samples_split': 12, 'max_features': 'sqrt', 'min_samples_leaf': 17}. Best is trial 13 with value: 3.3783398815376025.\u001b[0m\n"
     ]
    },
    {
     "name": "stdout",
     "output_type": "stream",
     "text": [
      "complete! average cv RMSE: 3.383031723551592\n",
      "18:22:18 | Running Optuna Trial: 28\n",
      "with hyperparameters: {'n_estimators': 151, 'max_depth': 326, 'min_samples_split': 5, 'max_features': 'sqrt', 'min_samples_leaf': 12, 'random_state': 760, 'n_jobs': -1}\n"
     ]
    },
    {
     "name": "stderr",
     "output_type": "stream",
     "text": [
      "\u001b[32m[I 2022-10-15 18:22:20,429]\u001b[0m Trial 28 finished with value: 3.3799368509277437 and parameters: {'n_estimators': 151, 'max_depth': 326, 'min_samples_split': 5, 'max_features': 'sqrt', 'min_samples_leaf': 12}. Best is trial 13 with value: 3.3783398815376025.\u001b[0m\n"
     ]
    },
    {
     "name": "stdout",
     "output_type": "stream",
     "text": [
      "complete! average cv RMSE: 3.3799368509277437\n",
      "18:22:20 | Running Optuna Trial: 29\n",
      "with hyperparameters: {'n_estimators': 51, 'max_depth': 76, 'min_samples_split': 3, 'max_features': 'log2', 'min_samples_leaf': 18, 'random_state': 760, 'n_jobs': -1}\n"
     ]
    },
    {
     "name": "stderr",
     "output_type": "stream",
     "text": [
      "\u001b[32m[I 2022-10-15 18:22:21,008]\u001b[0m Trial 29 finished with value: 3.3832933490043535 and parameters: {'n_estimators': 51, 'max_depth': 76, 'min_samples_split': 3, 'max_features': 'log2', 'min_samples_leaf': 18}. Best is trial 13 with value: 3.3783398815376025.\u001b[0m\n"
     ]
    },
    {
     "name": "stdout",
     "output_type": "stream",
     "text": [
      "complete! average cv RMSE: 3.3832933490043535\n",
      "18:22:21 | Running Optuna Trial: 30\n",
      "with hyperparameters: {'n_estimators': 101, 'max_depth': 401, 'min_samples_split': 6, 'max_features': 'sqrt', 'min_samples_leaf': 10, 'random_state': 760, 'n_jobs': -1}\n"
     ]
    },
    {
     "name": "stderr",
     "output_type": "stream",
     "text": [
      "\u001b[32m[I 2022-10-15 18:22:22,192]\u001b[0m Trial 30 finished with value: 3.3858856949595166 and parameters: {'n_estimators': 101, 'max_depth': 401, 'min_samples_split': 6, 'max_features': 'sqrt', 'min_samples_leaf': 10}. Best is trial 13 with value: 3.3783398815376025.\u001b[0m\n"
     ]
    },
    {
     "name": "stdout",
     "output_type": "stream",
     "text": [
      "complete! average cv RMSE: 3.3858856949595166\n",
      "18:22:22 | Running Optuna Trial: 31\n",
      "with hyperparameters: {'n_estimators': 176, 'max_depth': 301, 'min_samples_split': 4, 'max_features': 'sqrt', 'min_samples_leaf': 11, 'random_state': 760, 'n_jobs': -1}\n"
     ]
    },
    {
     "name": "stderr",
     "output_type": "stream",
     "text": [
      "\u001b[32m[I 2022-10-15 18:22:24,078]\u001b[0m Trial 31 finished with value: 3.379007518349437 and parameters: {'n_estimators': 176, 'max_depth': 301, 'min_samples_split': 4, 'max_features': 'sqrt', 'min_samples_leaf': 11}. Best is trial 13 with value: 3.3783398815376025.\u001b[0m\n"
     ]
    },
    {
     "name": "stdout",
     "output_type": "stream",
     "text": [
      "complete! average cv RMSE: 3.379007518349437\n",
      "18:22:24 | Running Optuna Trial: 32\n",
      "with hyperparameters: {'n_estimators': 176, 'max_depth': 301, 'min_samples_split': 5, 'max_features': 'sqrt', 'min_samples_leaf': 7, 'random_state': 760, 'n_jobs': -1}\n"
     ]
    },
    {
     "name": "stderr",
     "output_type": "stream",
     "text": [
      "\u001b[32m[I 2022-10-15 18:22:26,019]\u001b[0m Trial 32 finished with value: 3.381495294691812 and parameters: {'n_estimators': 176, 'max_depth': 301, 'min_samples_split': 5, 'max_features': 'sqrt', 'min_samples_leaf': 7}. Best is trial 13 with value: 3.3783398815376025.\u001b[0m\n"
     ]
    },
    {
     "name": "stdout",
     "output_type": "stream",
     "text": [
      "complete! average cv RMSE: 3.381495294691812\n",
      "18:22:26 | Running Optuna Trial: 33\n",
      "with hyperparameters: {'n_estimators': 176, 'max_depth': 451, 'min_samples_split': 3, 'max_features': 'sqrt', 'min_samples_leaf': 13, 'random_state': 760, 'n_jobs': -1}\n"
     ]
    },
    {
     "name": "stderr",
     "output_type": "stream",
     "text": [
      "\u001b[32m[I 2022-10-15 18:22:27,873]\u001b[0m Trial 33 finished with value: 3.3824437144169615 and parameters: {'n_estimators': 176, 'max_depth': 451, 'min_samples_split': 3, 'max_features': 'sqrt', 'min_samples_leaf': 13}. Best is trial 13 with value: 3.3783398815376025.\u001b[0m\n"
     ]
    },
    {
     "name": "stdout",
     "output_type": "stream",
     "text": [
      "complete! average cv RMSE: 3.3824437144169615\n",
      "==== EARLY STOPPING ACTIVATED ====\n"
     ]
    },
    {
     "name": "stderr",
     "output_type": "stream",
     "text": [
      "\u001b[32m[I 2022-10-15 18:22:28,447]\u001b[0m A new study created in memory with name: no-name-e6364bd5-0f57-4b4d-87e3-0be608208e08\u001b[0m\n"
     ]
    },
    {
     "name": "stdout",
     "output_type": "stream",
     "text": [
      "====== Running repetition: 1 ======\n",
      "18:22:28 | Running Optuna Trial: 0\n",
      "with hyperparameters: {'n_estimators': 51, 'max_depth': 51, 'min_samples_split': 5, 'max_features': 'log2', 'min_samples_leaf': 18, 'random_state': 760, 'n_jobs': -1}\n"
     ]
    },
    {
     "name": "stderr",
     "output_type": "stream",
     "text": [
      "\u001b[32m[I 2022-10-15 18:22:29,069]\u001b[0m Trial 0 finished with value: 3.3588504527135057 and parameters: {'n_estimators': 51, 'max_depth': 51, 'min_samples_split': 5, 'max_features': 'log2', 'min_samples_leaf': 18}. Best is trial 0 with value: 3.3588504527135057.\u001b[0m\n"
     ]
    },
    {
     "name": "stdout",
     "output_type": "stream",
     "text": [
      "complete! average cv RMSE: 3.3588504527135057\n",
      "18:22:29 | Running Optuna Trial: 1\n",
      "with hyperparameters: {'n_estimators': 76, 'max_depth': 451, 'min_samples_split': 14, 'max_features': 'sqrt', 'min_samples_leaf': 14, 'random_state': 760, 'n_jobs': -1}\n"
     ]
    },
    {
     "name": "stderr",
     "output_type": "stream",
     "text": [
      "\u001b[32m[I 2022-10-15 18:22:29,993]\u001b[0m Trial 1 finished with value: 3.355994532133381 and parameters: {'n_estimators': 76, 'max_depth': 451, 'min_samples_split': 14, 'max_features': 'sqrt', 'min_samples_leaf': 14}. Best is trial 1 with value: 3.355994532133381.\u001b[0m\n"
     ]
    },
    {
     "name": "stdout",
     "output_type": "stream",
     "text": [
      "complete! average cv RMSE: 3.355994532133381\n",
      "18:22:29 | Running Optuna Trial: 2\n",
      "with hyperparameters: {'n_estimators': 201, 'max_depth': 126, 'min_samples_split': 20, 'max_features': 'log2', 'min_samples_leaf': 14, 'random_state': 760, 'n_jobs': -1}\n"
     ]
    },
    {
     "name": "stderr",
     "output_type": "stream",
     "text": [
      "\u001b[32m[I 2022-10-15 18:22:32,338]\u001b[0m Trial 2 finished with value: 3.3526904536075706 and parameters: {'n_estimators': 201, 'max_depth': 126, 'min_samples_split': 20, 'max_features': 'log2', 'min_samples_leaf': 14}. Best is trial 2 with value: 3.3526904536075706.\u001b[0m\n"
     ]
    },
    {
     "name": "stdout",
     "output_type": "stream",
     "text": [
      "complete! average cv RMSE: 3.3526904536075706\n",
      "18:22:32 | Running Optuna Trial: 3\n",
      "with hyperparameters: {'n_estimators': 126, 'max_depth': 326, 'min_samples_split': 11, 'max_features': 'sqrt', 'min_samples_leaf': 19, 'random_state': 760, 'n_jobs': -1}\n"
     ]
    },
    {
     "name": "stderr",
     "output_type": "stream",
     "text": [
      "\u001b[32m[I 2022-10-15 18:22:33,506]\u001b[0m Trial 3 finished with value: 3.3540860862684 and parameters: {'n_estimators': 126, 'max_depth': 326, 'min_samples_split': 11, 'max_features': 'sqrt', 'min_samples_leaf': 19}. Best is trial 2 with value: 3.3526904536075706.\u001b[0m\n"
     ]
    },
    {
     "name": "stdout",
     "output_type": "stream",
     "text": [
      "complete! average cv RMSE: 3.3540860862684\n",
      "18:22:33 | Running Optuna Trial: 4\n",
      "with hyperparameters: {'n_estimators': 276, 'max_depth': 376, 'min_samples_split': 15, 'max_features': 'log2', 'min_samples_leaf': 7, 'random_state': 760, 'n_jobs': -1}\n"
     ]
    },
    {
     "name": "stderr",
     "output_type": "stream",
     "text": [
      "\u001b[32m[I 2022-10-15 18:22:36,600]\u001b[0m Trial 4 finished with value: 3.3503086271012323 and parameters: {'n_estimators': 276, 'max_depth': 376, 'min_samples_split': 15, 'max_features': 'log2', 'min_samples_leaf': 7}. Best is trial 4 with value: 3.3503086271012323.\u001b[0m\n"
     ]
    },
    {
     "name": "stdout",
     "output_type": "stream",
     "text": [
      "complete! average cv RMSE: 3.3503086271012323\n",
      "18:22:36 | Running Optuna Trial: 5\n",
      "with hyperparameters: {'n_estimators': 151, 'max_depth': 401, 'min_samples_split': 17, 'max_features': 'sqrt', 'min_samples_leaf': 11, 'random_state': 760, 'n_jobs': -1}\n"
     ]
    },
    {
     "name": "stderr",
     "output_type": "stream",
     "text": [
      "\u001b[32m[I 2022-10-15 18:22:38,255]\u001b[0m Trial 5 finished with value: 3.3534265279767355 and parameters: {'n_estimators': 151, 'max_depth': 401, 'min_samples_split': 17, 'max_features': 'sqrt', 'min_samples_leaf': 11}. Best is trial 4 with value: 3.3503086271012323.\u001b[0m\n"
     ]
    },
    {
     "name": "stdout",
     "output_type": "stream",
     "text": [
      "complete! average cv RMSE: 3.3534265279767355\n",
      "18:22:38 | Running Optuna Trial: 6\n",
      "with hyperparameters: {'n_estimators': 201, 'max_depth': 276, 'min_samples_split': 4, 'max_features': 'sqrt', 'min_samples_leaf': 11, 'random_state': 760, 'n_jobs': -1}\n"
     ]
    },
    {
     "name": "stderr",
     "output_type": "stream",
     "text": [
      "\u001b[32m[I 2022-10-15 18:22:40,238]\u001b[0m Trial 6 finished with value: 3.352207694422556 and parameters: {'n_estimators': 201, 'max_depth': 276, 'min_samples_split': 4, 'max_features': 'sqrt', 'min_samples_leaf': 11}. Best is trial 4 with value: 3.3503086271012323.\u001b[0m\n"
     ]
    },
    {
     "name": "stdout",
     "output_type": "stream",
     "text": [
      "complete! average cv RMSE: 3.352207694422556\n",
      "18:22:40 | Running Optuna Trial: 7\n",
      "with hyperparameters: {'n_estimators': 126, 'max_depth': 401, 'min_samples_split': 7, 'max_features': 'log2', 'min_samples_leaf': 12, 'random_state': 760, 'n_jobs': -1}\n"
     ]
    },
    {
     "name": "stderr",
     "output_type": "stream",
     "text": [
      "\u001b[32m[I 2022-10-15 18:22:41,537]\u001b[0m Trial 7 finished with value: 3.3506675519772076 and parameters: {'n_estimators': 126, 'max_depth': 401, 'min_samples_split': 7, 'max_features': 'log2', 'min_samples_leaf': 12}. Best is trial 4 with value: 3.3503086271012323.\u001b[0m\n"
     ]
    },
    {
     "name": "stdout",
     "output_type": "stream",
     "text": [
      "complete! average cv RMSE: 3.3506675519772076\n",
      "18:22:41 | Running Optuna Trial: 8\n",
      "with hyperparameters: {'n_estimators': 476, 'max_depth': 476, 'min_samples_split': 10, 'max_features': 'log2', 'min_samples_leaf': 13, 'random_state': 760, 'n_jobs': -1}\n"
     ]
    },
    {
     "name": "stderr",
     "output_type": "stream",
     "text": [
      "\u001b[32m[I 2022-10-15 18:22:45,908]\u001b[0m Trial 8 finished with value: 3.3530461546385792 and parameters: {'n_estimators': 476, 'max_depth': 476, 'min_samples_split': 10, 'max_features': 'log2', 'min_samples_leaf': 13}. Best is trial 4 with value: 3.3503086271012323.\u001b[0m\n"
     ]
    },
    {
     "name": "stdout",
     "output_type": "stream",
     "text": [
      "complete! average cv RMSE: 3.3530461546385792\n",
      "18:22:45 | Running Optuna Trial: 9\n",
      "with hyperparameters: {'n_estimators': 301, 'max_depth': 251, 'min_samples_split': 15, 'max_features': 'log2', 'min_samples_leaf': 2, 'random_state': 760, 'n_jobs': -1}\n"
     ]
    },
    {
     "name": "stderr",
     "output_type": "stream",
     "text": [
      "\u001b[32m[I 2022-10-15 18:22:49,419]\u001b[0m Trial 9 finished with value: 3.3552226053391174 and parameters: {'n_estimators': 301, 'max_depth': 251, 'min_samples_split': 15, 'max_features': 'log2', 'min_samples_leaf': 2}. Best is trial 4 with value: 3.3503086271012323.\u001b[0m\n"
     ]
    },
    {
     "name": "stdout",
     "output_type": "stream",
     "text": [
      "complete! average cv RMSE: 3.3552226053391174\n",
      "18:22:49 | Running Optuna Trial: 10\n",
      "with hyperparameters: {'n_estimators': 326, 'max_depth': 176, 'min_samples_split': 20, 'max_features': 'log2', 'min_samples_leaf': 5, 'random_state': 760, 'n_jobs': -1}\n"
     ]
    },
    {
     "name": "stderr",
     "output_type": "stream",
     "text": [
      "\u001b[32m[I 2022-10-15 18:22:52,619]\u001b[0m Trial 10 finished with value: 3.352253616015293 and parameters: {'n_estimators': 326, 'max_depth': 176, 'min_samples_split': 20, 'max_features': 'log2', 'min_samples_leaf': 5}. Best is trial 4 with value: 3.3503086271012323.\u001b[0m\n"
     ]
    },
    {
     "name": "stdout",
     "output_type": "stream",
     "text": [
      "complete! average cv RMSE: 3.352253616015293\n",
      "18:22:52 | Running Optuna Trial: 11\n",
      "with hyperparameters: {'n_estimators': 326, 'max_depth': 376, 'min_samples_split': 8, 'max_features': 'log2', 'min_samples_leaf': 7, 'random_state': 760, 'n_jobs': -1}\n"
     ]
    },
    {
     "name": "stderr",
     "output_type": "stream",
     "text": [
      "\u001b[32m[I 2022-10-15 18:22:56,119]\u001b[0m Trial 11 finished with value: 3.3503645755218505 and parameters: {'n_estimators': 326, 'max_depth': 376, 'min_samples_split': 8, 'max_features': 'log2', 'min_samples_leaf': 7}. Best is trial 4 with value: 3.3503086271012323.\u001b[0m\n"
     ]
    },
    {
     "name": "stdout",
     "output_type": "stream",
     "text": [
      "complete! average cv RMSE: 3.3503645755218505\n",
      "18:22:56 | Running Optuna Trial: 12\n",
      "with hyperparameters: {'n_estimators': 401, 'max_depth': 351, 'min_samples_split': 8, 'max_features': 'log2', 'min_samples_leaf': 6, 'random_state': 760, 'n_jobs': -1}\n"
     ]
    },
    {
     "name": "stderr",
     "output_type": "stream",
     "text": [
      "\u001b[32m[I 2022-10-15 18:23:00,464]\u001b[0m Trial 12 finished with value: 3.3475459314371436 and parameters: {'n_estimators': 401, 'max_depth': 351, 'min_samples_split': 8, 'max_features': 'log2', 'min_samples_leaf': 6}. Best is trial 12 with value: 3.3475459314371436.\u001b[0m\n"
     ]
    },
    {
     "name": "stdout",
     "output_type": "stream",
     "text": [
      "complete! average cv RMSE: 3.3475459314371436\n",
      "18:23:00 | Running Optuna Trial: 13\n",
      "with hyperparameters: {'n_estimators': 451, 'max_depth': 326, 'min_samples_split': 2, 'max_features': 'log2', 'min_samples_leaf': 7, 'random_state': 760, 'n_jobs': -1}\n"
     ]
    },
    {
     "name": "stderr",
     "output_type": "stream",
     "text": [
      "\u001b[32m[I 2022-10-15 18:23:05,164]\u001b[0m Trial 13 finished with value: 3.3502960059944256 and parameters: {'n_estimators': 451, 'max_depth': 326, 'min_samples_split': 2, 'max_features': 'log2', 'min_samples_leaf': 7}. Best is trial 12 with value: 3.3475459314371436.\u001b[0m\n"
     ]
    },
    {
     "name": "stdout",
     "output_type": "stream",
     "text": [
      "complete! average cv RMSE: 3.3502960059944256\n",
      "18:23:05 | Running Optuna Trial: 14\n",
      "with hyperparameters: {'n_estimators': 451, 'max_depth': 301, 'min_samples_split': 2, 'max_features': 'log2', 'min_samples_leaf': 2, 'random_state': 760, 'n_jobs': -1}\n"
     ]
    },
    {
     "name": "stderr",
     "output_type": "stream",
     "text": [
      "\u001b[32m[I 2022-10-15 18:23:10,991]\u001b[0m Trial 14 finished with value: 3.3555631833822503 and parameters: {'n_estimators': 451, 'max_depth': 301, 'min_samples_split': 2, 'max_features': 'log2', 'min_samples_leaf': 2}. Best is trial 12 with value: 3.3475459314371436.\u001b[0m\n"
     ]
    },
    {
     "name": "stdout",
     "output_type": "stream",
     "text": [
      "complete! average cv RMSE: 3.3555631833822503\n",
      "18:23:10 | Running Optuna Trial: 15\n",
      "with hyperparameters: {'n_estimators': 401, 'max_depth': 226, 'min_samples_split': 2, 'max_features': 'log2', 'min_samples_leaf': 7, 'random_state': 760, 'n_jobs': -1}\n"
     ]
    },
    {
     "name": "stderr",
     "output_type": "stream",
     "text": [
      "\u001b[32m[I 2022-10-15 18:23:15,102]\u001b[0m Trial 15 finished with value: 3.3494008676958615 and parameters: {'n_estimators': 401, 'max_depth': 226, 'min_samples_split': 2, 'max_features': 'log2', 'min_samples_leaf': 7}. Best is trial 12 with value: 3.3475459314371436.\u001b[0m\n"
     ]
    },
    {
     "name": "stdout",
     "output_type": "stream",
     "text": [
      "complete! average cv RMSE: 3.3494008676958615\n",
      "18:23:15 | Running Optuna Trial: 16\n",
      "with hyperparameters: {'n_estimators': 376, 'max_depth': 201, 'min_samples_split': 6, 'max_features': 'log2', 'min_samples_leaf': 5, 'random_state': 760, 'n_jobs': -1}\n"
     ]
    },
    {
     "name": "stderr",
     "output_type": "stream",
     "text": [
      "\u001b[32m[I 2022-10-15 18:23:19,154]\u001b[0m Trial 16 finished with value: 3.3478517458567 and parameters: {'n_estimators': 376, 'max_depth': 201, 'min_samples_split': 6, 'max_features': 'log2', 'min_samples_leaf': 5}. Best is trial 12 with value: 3.3475459314371436.\u001b[0m\n"
     ]
    },
    {
     "name": "stdout",
     "output_type": "stream",
     "text": [
      "complete! average cv RMSE: 3.3478517458567\n",
      "18:23:19 | Running Optuna Trial: 17\n",
      "with hyperparameters: {'n_estimators': 376, 'max_depth': 1, 'min_samples_split': 8, 'max_features': 'log2', 'min_samples_leaf': 4, 'random_state': 760, 'n_jobs': -1}\n"
     ]
    },
    {
     "name": "stderr",
     "output_type": "stream",
     "text": [
      "\u001b[32m[I 2022-10-15 18:23:20,782]\u001b[0m Trial 17 finished with value: 3.5474079665550358 and parameters: {'n_estimators': 376, 'max_depth': 1, 'min_samples_split': 8, 'max_features': 'log2', 'min_samples_leaf': 4}. Best is trial 12 with value: 3.3475459314371436.\u001b[0m\n"
     ]
    },
    {
     "name": "stdout",
     "output_type": "stream",
     "text": [
      "complete! average cv RMSE: 3.5474079665550358\n",
      "18:23:20 | Running Optuna Trial: 18\n",
      "with hyperparameters: {'n_estimators': 376, 'max_depth': 176, 'min_samples_split': 6, 'max_features': 'sqrt', 'min_samples_leaf': 9, 'random_state': 760, 'n_jobs': -1}\n"
     ]
    },
    {
     "name": "stderr",
     "output_type": "stream",
     "text": [
      "\u001b[32m[I 2022-10-15 18:23:24,642]\u001b[0m Trial 18 finished with value: 3.349547694221594 and parameters: {'n_estimators': 376, 'max_depth': 176, 'min_samples_split': 6, 'max_features': 'sqrt', 'min_samples_leaf': 9}. Best is trial 12 with value: 3.3475459314371436.\u001b[0m\n"
     ]
    },
    {
     "name": "stdout",
     "output_type": "stream",
     "text": [
      "complete! average cv RMSE: 3.349547694221594\n",
      "18:23:24 | Running Optuna Trial: 19\n",
      "with hyperparameters: {'n_estimators': 401, 'max_depth': 101, 'min_samples_split': 10, 'max_features': 'log2', 'min_samples_leaf': 4, 'random_state': 760, 'n_jobs': -1}\n"
     ]
    },
    {
     "name": "stderr",
     "output_type": "stream",
     "text": [
      "\u001b[32m[I 2022-10-15 18:23:29,197]\u001b[0m Trial 19 finished with value: 3.348627294673258 and parameters: {'n_estimators': 401, 'max_depth': 101, 'min_samples_split': 10, 'max_features': 'log2', 'min_samples_leaf': 4}. Best is trial 12 with value: 3.3475459314371436.\u001b[0m\n",
      "\u001b[32m[I 2022-10-15 18:23:29,294]\u001b[0m Trial 20 finished with value: 4.12595540781127 and parameters: {'n_estimators': 1, 'max_depth': 201, 'min_samples_split': 12, 'max_features': 'log2', 'min_samples_leaf': 1}. Best is trial 12 with value: 3.3475459314371436.\u001b[0m\n"
     ]
    },
    {
     "name": "stdout",
     "output_type": "stream",
     "text": [
      "complete! average cv RMSE: 3.348627294673258\n",
      "18:23:29 | Running Optuna Trial: 20\n",
      "with hyperparameters: {'n_estimators': 1, 'max_depth': 201, 'min_samples_split': 12, 'max_features': 'log2', 'min_samples_leaf': 1, 'random_state': 760, 'n_jobs': -1}\n",
      "complete! average cv RMSE: 4.12595540781127\n",
      "18:23:29 | Running Optuna Trial: 21\n",
      "with hyperparameters: {'n_estimators': 401, 'max_depth': 126, 'min_samples_split': 9, 'max_features': 'log2', 'min_samples_leaf': 5, 'random_state': 760, 'n_jobs': -1}\n"
     ]
    },
    {
     "name": "stderr",
     "output_type": "stream",
     "text": [
      "\u001b[32m[I 2022-10-15 18:23:33,874]\u001b[0m Trial 21 finished with value: 3.3476769925896606 and parameters: {'n_estimators': 401, 'max_depth': 126, 'min_samples_split': 9, 'max_features': 'log2', 'min_samples_leaf': 5}. Best is trial 12 with value: 3.3475459314371436.\u001b[0m\n"
     ]
    },
    {
     "name": "stdout",
     "output_type": "stream",
     "text": [
      "complete! average cv RMSE: 3.3476769925896606\n",
      "18:23:33 | Running Optuna Trial: 22\n",
      "with hyperparameters: {'n_estimators': 426, 'max_depth': 126, 'min_samples_split': 9, 'max_features': 'log2', 'min_samples_leaf': 9, 'random_state': 760, 'n_jobs': -1}\n"
     ]
    },
    {
     "name": "stderr",
     "output_type": "stream",
     "text": [
      "\u001b[32m[I 2022-10-15 18:23:38,394]\u001b[0m Trial 22 finished with value: 3.3492438176727135 and parameters: {'n_estimators': 426, 'max_depth': 126, 'min_samples_split': 9, 'max_features': 'log2', 'min_samples_leaf': 9}. Best is trial 12 with value: 3.3475459314371436.\u001b[0m\n"
     ]
    },
    {
     "name": "stdout",
     "output_type": "stream",
     "text": [
      "complete! average cv RMSE: 3.3492438176727135\n",
      "18:23:38 | Running Optuna Trial: 23\n",
      "with hyperparameters: {'n_estimators': 351, 'max_depth': 76, 'min_samples_split': 4, 'max_features': 'log2', 'min_samples_leaf': 5, 'random_state': 760, 'n_jobs': -1}\n"
     ]
    },
    {
     "name": "stderr",
     "output_type": "stream",
     "text": [
      "\u001b[32m[I 2022-10-15 18:23:42,255]\u001b[0m Trial 23 finished with value: 3.349367456094202 and parameters: {'n_estimators': 351, 'max_depth': 76, 'min_samples_split': 4, 'max_features': 'log2', 'min_samples_leaf': 5}. Best is trial 12 with value: 3.3475459314371436.\u001b[0m\n"
     ]
    },
    {
     "name": "stdout",
     "output_type": "stream",
     "text": [
      "complete! average cv RMSE: 3.349367456094202\n",
      "18:23:42 | Running Optuna Trial: 24\n",
      "with hyperparameters: {'n_estimators': 476, 'max_depth': 151, 'min_samples_split': 12, 'max_features': 'log2', 'min_samples_leaf': 9, 'random_state': 760, 'n_jobs': -1}\n"
     ]
    },
    {
     "name": "stderr",
     "output_type": "stream",
     "text": [
      "\u001b[32m[I 2022-10-15 18:23:46,687]\u001b[0m Trial 24 finished with value: 3.3494520156089336 and parameters: {'n_estimators': 476, 'max_depth': 151, 'min_samples_split': 12, 'max_features': 'log2', 'min_samples_leaf': 9}. Best is trial 12 with value: 3.3475459314371436.\u001b[0m\n"
     ]
    },
    {
     "name": "stdout",
     "output_type": "stream",
     "text": [
      "complete! average cv RMSE: 3.3494520156089336\n",
      "18:23:46 | Running Optuna Trial: 25\n",
      "with hyperparameters: {'n_estimators': 251, 'max_depth': 226, 'min_samples_split': 6, 'max_features': 'log2', 'min_samples_leaf': 3, 'random_state': 760, 'n_jobs': -1}\n"
     ]
    },
    {
     "name": "stderr",
     "output_type": "stream",
     "text": [
      "\u001b[32m[I 2022-10-15 18:23:49,782]\u001b[0m Trial 25 finished with value: 3.3533328766385124 and parameters: {'n_estimators': 251, 'max_depth': 226, 'min_samples_split': 6, 'max_features': 'log2', 'min_samples_leaf': 3}. Best is trial 12 with value: 3.3475459314371436.\u001b[0m\n"
     ]
    },
    {
     "name": "stdout",
     "output_type": "stream",
     "text": [
      "complete! average cv RMSE: 3.3533328766385124\n",
      "18:23:49 | Running Optuna Trial: 26\n",
      "with hyperparameters: {'n_estimators': 351, 'max_depth': 26, 'min_samples_split': 8, 'max_features': 'sqrt', 'min_samples_leaf': 5, 'random_state': 760, 'n_jobs': -1}\n"
     ]
    },
    {
     "name": "stderr",
     "output_type": "stream",
     "text": [
      "\u001b[32m[I 2022-10-15 18:23:53,534]\u001b[0m Trial 26 finished with value: 3.3496238461786043 and parameters: {'n_estimators': 351, 'max_depth': 26, 'min_samples_split': 8, 'max_features': 'sqrt', 'min_samples_leaf': 5}. Best is trial 12 with value: 3.3475459314371436.\u001b[0m\n"
     ]
    },
    {
     "name": "stdout",
     "output_type": "stream",
     "text": [
      "complete! average cv RMSE: 3.3496238461786043\n",
      "18:23:53 | Running Optuna Trial: 27\n",
      "with hyperparameters: {'n_estimators': 426, 'max_depth': 251, 'min_samples_split': 4, 'max_features': 'log2', 'min_samples_leaf': 6, 'random_state': 760, 'n_jobs': -1}\n"
     ]
    },
    {
     "name": "stderr",
     "output_type": "stream",
     "text": [
      "\u001b[32m[I 2022-10-15 18:23:58,274]\u001b[0m Trial 27 finished with value: 3.347750168727452 and parameters: {'n_estimators': 426, 'max_depth': 251, 'min_samples_split': 4, 'max_features': 'log2', 'min_samples_leaf': 6}. Best is trial 12 with value: 3.3475459314371436.\u001b[0m\n"
     ]
    },
    {
     "name": "stdout",
     "output_type": "stream",
     "text": [
      "complete! average cv RMSE: 3.347750168727452\n",
      "18:23:58 | Running Optuna Trial: 28\n",
      "with hyperparameters: {'n_estimators': 426, 'max_depth': 276, 'min_samples_split': 4, 'max_features': 'log2', 'min_samples_leaf': 8, 'random_state': 760, 'n_jobs': -1}\n"
     ]
    },
    {
     "name": "stderr",
     "output_type": "stream",
     "text": [
      "\u001b[32m[I 2022-10-15 18:24:02,591]\u001b[0m Trial 28 finished with value: 3.3473917319698656 and parameters: {'n_estimators': 426, 'max_depth': 276, 'min_samples_split': 4, 'max_features': 'log2', 'min_samples_leaf': 8}. Best is trial 28 with value: 3.3473917319698656.\u001b[0m\n"
     ]
    },
    {
     "name": "stdout",
     "output_type": "stream",
     "text": [
      "complete! average cv RMSE: 3.3473917319698656\n",
      "18:24:02 | Running Optuna Trial: 29\n",
      "with hyperparameters: {'n_estimators': 301, 'max_depth': 326, 'min_samples_split': 5, 'max_features': 'log2', 'min_samples_leaf': 9, 'random_state': 760, 'n_jobs': -1}\n"
     ]
    },
    {
     "name": "stderr",
     "output_type": "stream",
     "text": [
      "\u001b[32m[I 2022-10-15 18:24:05,613]\u001b[0m Trial 29 finished with value: 3.3494063872910944 and parameters: {'n_estimators': 301, 'max_depth': 326, 'min_samples_split': 5, 'max_features': 'log2', 'min_samples_leaf': 9}. Best is trial 28 with value: 3.3473917319698656.\u001b[0m\n"
     ]
    },
    {
     "name": "stdout",
     "output_type": "stream",
     "text": [
      "complete! average cv RMSE: 3.3494063872910944\n",
      "18:24:05 | Running Optuna Trial: 30\n",
      "with hyperparameters: {'n_estimators': 426, 'max_depth': 276, 'min_samples_split': 13, 'max_features': 'log2', 'min_samples_leaf': 17, 'random_state': 760, 'n_jobs': -1}\n"
     ]
    },
    {
     "name": "stderr",
     "output_type": "stream",
     "text": [
      "\u001b[32m[I 2022-10-15 18:24:09,476]\u001b[0m Trial 30 finished with value: 3.3546035901129883 and parameters: {'n_estimators': 426, 'max_depth': 276, 'min_samples_split': 13, 'max_features': 'log2', 'min_samples_leaf': 17}. Best is trial 28 with value: 3.3473917319698656.\u001b[0m\n"
     ]
    },
    {
     "name": "stdout",
     "output_type": "stream",
     "text": [
      "complete! average cv RMSE: 3.3546035901129883\n",
      "18:24:09 | Running Optuna Trial: 31\n",
      "with hyperparameters: {'n_estimators': 426, 'max_depth': 276, 'min_samples_split': 4, 'max_features': 'log2', 'min_samples_leaf': 6, 'random_state': 760, 'n_jobs': -1}\n"
     ]
    },
    {
     "name": "stderr",
     "output_type": "stream",
     "text": [
      "\u001b[32m[I 2022-10-15 18:24:15,736]\u001b[0m Trial 31 finished with value: 3.347750168727452 and parameters: {'n_estimators': 426, 'max_depth': 276, 'min_samples_split': 4, 'max_features': 'log2', 'min_samples_leaf': 6}. Best is trial 28 with value: 3.3473917319698656.\u001b[0m\n"
     ]
    },
    {
     "name": "stdout",
     "output_type": "stream",
     "text": [
      "complete! average cv RMSE: 3.347750168727452\n",
      "18:24:15 | Running Optuna Trial: 32\n",
      "with hyperparameters: {'n_estimators': 476, 'max_depth': 351, 'min_samples_split': 3, 'max_features': 'log2', 'min_samples_leaf': 8, 'random_state': 760, 'n_jobs': -1}\n"
     ]
    },
    {
     "name": "stderr",
     "output_type": "stream",
     "text": [
      "\u001b[32m[I 2022-10-15 18:24:21,909]\u001b[0m Trial 32 finished with value: 3.34737217285465 and parameters: {'n_estimators': 476, 'max_depth': 351, 'min_samples_split': 3, 'max_features': 'log2', 'min_samples_leaf': 8}. Best is trial 32 with value: 3.34737217285465.\u001b[0m\n"
     ]
    },
    {
     "name": "stdout",
     "output_type": "stream",
     "text": [
      "complete! average cv RMSE: 3.34737217285465\n",
      "18:24:21 | Running Optuna Trial: 33\n",
      "with hyperparameters: {'n_estimators': 476, 'max_depth': 351, 'min_samples_split': 3, 'max_features': 'log2', 'min_samples_leaf': 8, 'random_state': 760, 'n_jobs': -1}\n"
     ]
    },
    {
     "name": "stderr",
     "output_type": "stream",
     "text": [
      "\u001b[32m[I 2022-10-15 18:24:26,496]\u001b[0m Trial 33 finished with value: 3.34737217285465 and parameters: {'n_estimators': 476, 'max_depth': 351, 'min_samples_split': 3, 'max_features': 'log2', 'min_samples_leaf': 8}. Best is trial 32 with value: 3.34737217285465.\u001b[0m\n"
     ]
    },
    {
     "name": "stdout",
     "output_type": "stream",
     "text": [
      "complete! average cv RMSE: 3.34737217285465\n",
      "18:24:26 | Running Optuna Trial: 34\n",
      "with hyperparameters: {'n_estimators': 476, 'max_depth': 351, 'min_samples_split': 3, 'max_features': 'sqrt', 'min_samples_leaf': 10, 'random_state': 760, 'n_jobs': -1}\n"
     ]
    },
    {
     "name": "stderr",
     "output_type": "stream",
     "text": [
      "\u001b[32m[I 2022-10-15 18:24:31,233]\u001b[0m Trial 34 finished with value: 3.351757828910862 and parameters: {'n_estimators': 476, 'max_depth': 351, 'min_samples_split': 3, 'max_features': 'sqrt', 'min_samples_leaf': 10}. Best is trial 32 with value: 3.34737217285465.\u001b[0m\n"
     ]
    },
    {
     "name": "stdout",
     "output_type": "stream",
     "text": [
      "complete! average cv RMSE: 3.351757828910862\n",
      "18:24:31 | Running Optuna Trial: 35\n",
      "with hyperparameters: {'n_estimators': 451, 'max_depth': 426, 'min_samples_split': 3, 'max_features': 'log2', 'min_samples_leaf': 8, 'random_state': 760, 'n_jobs': -1}\n"
     ]
    },
    {
     "name": "stderr",
     "output_type": "stream",
     "text": [
      "\u001b[32m[I 2022-10-15 18:24:35,762]\u001b[0m Trial 35 finished with value: 3.347305793583884 and parameters: {'n_estimators': 451, 'max_depth': 426, 'min_samples_split': 3, 'max_features': 'log2', 'min_samples_leaf': 8}. Best is trial 35 with value: 3.347305793583884.\u001b[0m\n"
     ]
    },
    {
     "name": "stdout",
     "output_type": "stream",
     "text": [
      "complete! average cv RMSE: 3.347305793583884\n",
      "18:24:35 | Running Optuna Trial: 36\n",
      "with hyperparameters: {'n_estimators': 451, 'max_depth': 451, 'min_samples_split': 3, 'max_features': 'log2', 'min_samples_leaf': 15, 'random_state': 760, 'n_jobs': -1}\n"
     ]
    },
    {
     "name": "stderr",
     "output_type": "stream",
     "text": [
      "\u001b[32m[I 2022-10-15 18:24:39,838]\u001b[0m Trial 36 finished with value: 3.354687252054677 and parameters: {'n_estimators': 451, 'max_depth': 451, 'min_samples_split': 3, 'max_features': 'log2', 'min_samples_leaf': 15}. Best is trial 35 with value: 3.347305793583884.\u001b[0m\n"
     ]
    },
    {
     "name": "stdout",
     "output_type": "stream",
     "text": [
      "complete! average cv RMSE: 3.354687252054677\n",
      "18:24:39 | Running Optuna Trial: 37\n",
      "with hyperparameters: {'n_estimators': 476, 'max_depth': 426, 'min_samples_split': 5, 'max_features': 'sqrt', 'min_samples_leaf': 8, 'random_state': 760, 'n_jobs': -1}\n"
     ]
    },
    {
     "name": "stderr",
     "output_type": "stream",
     "text": [
      "\u001b[32m[I 2022-10-15 18:24:44,573]\u001b[0m Trial 37 finished with value: 3.3473721728546506 and parameters: {'n_estimators': 476, 'max_depth': 426, 'min_samples_split': 5, 'max_features': 'sqrt', 'min_samples_leaf': 8}. Best is trial 35 with value: 3.347305793583884.\u001b[0m\n"
     ]
    },
    {
     "name": "stdout",
     "output_type": "stream",
     "text": [
      "complete! average cv RMSE: 3.3473721728546506\n",
      "18:24:44 | Running Optuna Trial: 38\n",
      "with hyperparameters: {'n_estimators': 476, 'max_depth': 426, 'min_samples_split': 5, 'max_features': 'sqrt', 'min_samples_leaf': 12, 'random_state': 760, 'n_jobs': -1}\n"
     ]
    },
    {
     "name": "stderr",
     "output_type": "stream",
     "text": [
      "\u001b[32m[I 2022-10-15 18:24:48,905]\u001b[0m Trial 38 finished with value: 3.349492065045839 and parameters: {'n_estimators': 476, 'max_depth': 426, 'min_samples_split': 5, 'max_features': 'sqrt', 'min_samples_leaf': 12}. Best is trial 35 with value: 3.347305793583884.\u001b[0m\n"
     ]
    },
    {
     "name": "stdout",
     "output_type": "stream",
     "text": [
      "complete! average cv RMSE: 3.349492065045839\n",
      "18:24:48 | Running Optuna Trial: 39\n",
      "with hyperparameters: {'n_estimators': 201, 'max_depth': 476, 'min_samples_split': 3, 'max_features': 'sqrt', 'min_samples_leaf': 10, 'random_state': 760, 'n_jobs': -1}\n"
     ]
    },
    {
     "name": "stderr",
     "output_type": "stream",
     "text": [
      "\u001b[32m[I 2022-10-15 18:24:51,025]\u001b[0m Trial 39 finished with value: 3.3515720651564083 and parameters: {'n_estimators': 201, 'max_depth': 476, 'min_samples_split': 3, 'max_features': 'sqrt', 'min_samples_leaf': 10}. Best is trial 35 with value: 3.347305793583884.\u001b[0m\n"
     ]
    },
    {
     "name": "stdout",
     "output_type": "stream",
     "text": [
      "complete! average cv RMSE: 3.3515720651564083\n",
      "18:24:51 | Running Optuna Trial: 40\n",
      "with hyperparameters: {'n_estimators': 476, 'max_depth': 426, 'min_samples_split': 3, 'max_features': 'sqrt', 'min_samples_leaf': 8, 'random_state': 760, 'n_jobs': -1}\n"
     ]
    },
    {
     "name": "stderr",
     "output_type": "stream",
     "text": [
      "\u001b[32m[I 2022-10-15 18:24:55,715]\u001b[0m Trial 40 finished with value: 3.34737217285465 and parameters: {'n_estimators': 476, 'max_depth': 426, 'min_samples_split': 3, 'max_features': 'sqrt', 'min_samples_leaf': 8}. Best is trial 35 with value: 3.347305793583884.\u001b[0m\n"
     ]
    },
    {
     "name": "stdout",
     "output_type": "stream",
     "text": [
      "complete! average cv RMSE: 3.34737217285465\n",
      "18:24:55 | Running Optuna Trial: 41\n",
      "with hyperparameters: {'n_estimators': 476, 'max_depth': 426, 'min_samples_split': 2, 'max_features': 'sqrt', 'min_samples_leaf': 8, 'random_state': 760, 'n_jobs': -1}\n"
     ]
    },
    {
     "name": "stderr",
     "output_type": "stream",
     "text": [
      "\u001b[32m[I 2022-10-15 18:25:00,415]\u001b[0m Trial 41 finished with value: 3.34737217285465 and parameters: {'n_estimators': 476, 'max_depth': 426, 'min_samples_split': 2, 'max_features': 'sqrt', 'min_samples_leaf': 8}. Best is trial 35 with value: 3.347305793583884.\u001b[0m\n"
     ]
    },
    {
     "name": "stdout",
     "output_type": "stream",
     "text": [
      "complete! average cv RMSE: 3.34737217285465\n",
      "18:25:00 | Running Optuna Trial: 42\n",
      "with hyperparameters: {'n_estimators': 451, 'max_depth': 401, 'min_samples_split': 2, 'max_features': 'sqrt', 'min_samples_leaf': 8, 'random_state': 760, 'n_jobs': -1}\n"
     ]
    },
    {
     "name": "stderr",
     "output_type": "stream",
     "text": [
      "\u001b[32m[I 2022-10-15 18:25:04,787]\u001b[0m Trial 42 finished with value: 3.347305793583884 and parameters: {'n_estimators': 451, 'max_depth': 401, 'min_samples_split': 2, 'max_features': 'sqrt', 'min_samples_leaf': 8}. Best is trial 35 with value: 3.347305793583884.\u001b[0m\n"
     ]
    },
    {
     "name": "stdout",
     "output_type": "stream",
     "text": [
      "complete! average cv RMSE: 3.347305793583884\n",
      "18:25:04 | Running Optuna Trial: 43\n",
      "with hyperparameters: {'n_estimators': 451, 'max_depth': 376, 'min_samples_split': 3, 'max_features': 'sqrt', 'min_samples_leaf': 12, 'random_state': 760, 'n_jobs': -1}\n"
     ]
    },
    {
     "name": "stderr",
     "output_type": "stream",
     "text": [
      "\u001b[32m[I 2022-10-15 18:25:08,803]\u001b[0m Trial 43 finished with value: 3.34981085249415 and parameters: {'n_estimators': 451, 'max_depth': 376, 'min_samples_split': 3, 'max_features': 'sqrt', 'min_samples_leaf': 12}. Best is trial 35 with value: 3.347305793583884.\u001b[0m\n"
     ]
    },
    {
     "name": "stdout",
     "output_type": "stream",
     "text": [
      "complete! average cv RMSE: 3.34981085249415\n",
      "18:25:08 | Running Optuna Trial: 44\n",
      "with hyperparameters: {'n_estimators': 451, 'max_depth': 426, 'min_samples_split': 2, 'max_features': 'sqrt', 'min_samples_leaf': 10, 'random_state': 760, 'n_jobs': -1}\n"
     ]
    },
    {
     "name": "stderr",
     "output_type": "stream",
     "text": [
      "\u001b[32m[I 2022-10-15 18:25:14,041]\u001b[0m Trial 44 finished with value: 3.351770158638152 and parameters: {'n_estimators': 451, 'max_depth': 426, 'min_samples_split': 2, 'max_features': 'sqrt', 'min_samples_leaf': 10}. Best is trial 35 with value: 3.347305793583884.\u001b[0m\n"
     ]
    },
    {
     "name": "stdout",
     "output_type": "stream",
     "text": [
      "complete! average cv RMSE: 3.351770158638152\n",
      "18:25:14 | Running Optuna Trial: 45\n",
      "with hyperparameters: {'n_estimators': 451, 'max_depth': 401, 'min_samples_split': 2, 'max_features': 'sqrt', 'min_samples_leaf': 11, 'random_state': 760, 'n_jobs': -1}\n"
     ]
    },
    {
     "name": "stderr",
     "output_type": "stream",
     "text": [
      "\u001b[32m[I 2022-10-15 18:25:18,143]\u001b[0m Trial 45 finished with value: 3.350577690645038 and parameters: {'n_estimators': 451, 'max_depth': 401, 'min_samples_split': 2, 'max_features': 'sqrt', 'min_samples_leaf': 11}. Best is trial 35 with value: 3.347305793583884.\u001b[0m\n"
     ]
    },
    {
     "name": "stdout",
     "output_type": "stream",
     "text": [
      "complete! average cv RMSE: 3.350577690645038\n",
      "18:25:18 | Running Optuna Trial: 46\n",
      "with hyperparameters: {'n_estimators': 151, 'max_depth': 451, 'min_samples_split': 6, 'max_features': 'sqrt', 'min_samples_leaf': 7, 'random_state': 760, 'n_jobs': -1}\n"
     ]
    },
    {
     "name": "stderr",
     "output_type": "stream",
     "text": [
      "\u001b[32m[I 2022-10-15 18:25:19,828]\u001b[0m Trial 46 finished with value: 3.352652382731894 and parameters: {'n_estimators': 151, 'max_depth': 451, 'min_samples_split': 6, 'max_features': 'sqrt', 'min_samples_leaf': 7}. Best is trial 35 with value: 3.347305793583884.\u001b[0m\n"
     ]
    },
    {
     "name": "stdout",
     "output_type": "stream",
     "text": [
      "complete! average cv RMSE: 3.352652382731894\n",
      "18:25:19 | Running Optuna Trial: 47\n",
      "with hyperparameters: {'n_estimators': 476, 'max_depth': 376, 'min_samples_split': 2, 'max_features': 'sqrt', 'min_samples_leaf': 8, 'random_state': 760, 'n_jobs': -1}\n"
     ]
    },
    {
     "name": "stderr",
     "output_type": "stream",
     "text": [
      "\u001b[32m[I 2022-10-15 18:25:24,815]\u001b[0m Trial 47 finished with value: 3.3473721728546506 and parameters: {'n_estimators': 476, 'max_depth': 376, 'min_samples_split': 2, 'max_features': 'sqrt', 'min_samples_leaf': 8}. Best is trial 35 with value: 3.347305793583884.\u001b[0m\n"
     ]
    },
    {
     "name": "stdout",
     "output_type": "stream",
     "text": [
      "complete! average cv RMSE: 3.3473721728546506\n",
      "18:25:24 | Running Optuna Trial: 48\n",
      "with hyperparameters: {'n_estimators': 401, 'max_depth': 476, 'min_samples_split': 18, 'max_features': 'sqrt', 'min_samples_leaf': 20, 'random_state': 760, 'n_jobs': -1}\n"
     ]
    },
    {
     "name": "stderr",
     "output_type": "stream",
     "text": [
      "\u001b[32m[I 2022-10-15 18:25:28,653]\u001b[0m Trial 48 finished with value: 3.354508338452901 and parameters: {'n_estimators': 401, 'max_depth': 476, 'min_samples_split': 18, 'max_features': 'sqrt', 'min_samples_leaf': 20}. Best is trial 35 with value: 3.347305793583884.\u001b[0m\n"
     ]
    },
    {
     "name": "stdout",
     "output_type": "stream",
     "text": [
      "complete! average cv RMSE: 3.354508338452901\n",
      "18:25:28 | Running Optuna Trial: 49\n",
      "with hyperparameters: {'n_estimators': 101, 'max_depth': 351, 'min_samples_split': 3, 'max_features': 'sqrt', 'min_samples_leaf': 11, 'random_state': 760, 'n_jobs': -1}\n"
     ]
    },
    {
     "name": "stderr",
     "output_type": "stream",
     "text": [
      "\u001b[32m[I 2022-10-15 18:25:30,030]\u001b[0m Trial 49 finished with value: 3.355712248752964 and parameters: {'n_estimators': 101, 'max_depth': 351, 'min_samples_split': 3, 'max_features': 'sqrt', 'min_samples_leaf': 11}. Best is trial 35 with value: 3.347305793583884.\u001b[0m\n"
     ]
    },
    {
     "name": "stdout",
     "output_type": "stream",
     "text": [
      "complete! average cv RMSE: 3.355712248752964\n"
     ]
    },
    {
     "name": "stderr",
     "output_type": "stream",
     "text": [
      "\u001b[32m[I 2022-10-15 18:25:31,443]\u001b[0m A new study created in memory with name: no-name-08ce87b0-092f-4ee8-88ac-f266d14e7994\u001b[0m\n"
     ]
    },
    {
     "name": "stdout",
     "output_type": "stream",
     "text": [
      "====== Running repetition: 2 ======\n",
      "18:25:31 | Running Optuna Trial: 0\n",
      "with hyperparameters: {'n_estimators': 51, 'max_depth': 51, 'min_samples_split': 5, 'max_features': 'log2', 'min_samples_leaf': 18, 'random_state': 760, 'n_jobs': -1}\n"
     ]
    },
    {
     "name": "stderr",
     "output_type": "stream",
     "text": [
      "\u001b[32m[I 2022-10-15 18:25:31,983]\u001b[0m Trial 0 finished with value: 3.405846900205438 and parameters: {'n_estimators': 51, 'max_depth': 51, 'min_samples_split': 5, 'max_features': 'log2', 'min_samples_leaf': 18}. Best is trial 0 with value: 3.405846900205438.\u001b[0m\n"
     ]
    },
    {
     "name": "stdout",
     "output_type": "stream",
     "text": [
      "complete! average cv RMSE: 3.405846900205438\n",
      "18:25:31 | Running Optuna Trial: 1\n",
      "with hyperparameters: {'n_estimators': 76, 'max_depth': 451, 'min_samples_split': 14, 'max_features': 'sqrt', 'min_samples_leaf': 14, 'random_state': 760, 'n_jobs': -1}\n"
     ]
    },
    {
     "name": "stderr",
     "output_type": "stream",
     "text": [
      "\u001b[32m[I 2022-10-15 18:25:32,912]\u001b[0m Trial 1 finished with value: 3.402410906150699 and parameters: {'n_estimators': 76, 'max_depth': 451, 'min_samples_split': 14, 'max_features': 'sqrt', 'min_samples_leaf': 14}. Best is trial 1 with value: 3.402410906150699.\u001b[0m\n"
     ]
    },
    {
     "name": "stdout",
     "output_type": "stream",
     "text": [
      "complete! average cv RMSE: 3.402410906150699\n",
      "18:25:32 | Running Optuna Trial: 2\n",
      "with hyperparameters: {'n_estimators': 201, 'max_depth': 126, 'min_samples_split': 20, 'max_features': 'log2', 'min_samples_leaf': 14, 'random_state': 760, 'n_jobs': -1}\n"
     ]
    },
    {
     "name": "stderr",
     "output_type": "stream",
     "text": [
      "\u001b[32m[I 2022-10-15 18:25:35,230]\u001b[0m Trial 2 finished with value: 3.401965216006075 and parameters: {'n_estimators': 201, 'max_depth': 126, 'min_samples_split': 20, 'max_features': 'log2', 'min_samples_leaf': 14}. Best is trial 2 with value: 3.401965216006075.\u001b[0m\n"
     ]
    },
    {
     "name": "stdout",
     "output_type": "stream",
     "text": [
      "complete! average cv RMSE: 3.401965216006075\n",
      "18:25:35 | Running Optuna Trial: 3\n",
      "with hyperparameters: {'n_estimators': 126, 'max_depth': 326, 'min_samples_split': 11, 'max_features': 'sqrt', 'min_samples_leaf': 19, 'random_state': 760, 'n_jobs': -1}\n"
     ]
    },
    {
     "name": "stderr",
     "output_type": "stream",
     "text": [
      "\u001b[32m[I 2022-10-15 18:25:36,694]\u001b[0m Trial 3 finished with value: 3.4023279421244093 and parameters: {'n_estimators': 126, 'max_depth': 326, 'min_samples_split': 11, 'max_features': 'sqrt', 'min_samples_leaf': 19}. Best is trial 2 with value: 3.401965216006075.\u001b[0m\n"
     ]
    },
    {
     "name": "stdout",
     "output_type": "stream",
     "text": [
      "complete! average cv RMSE: 3.4023279421244093\n",
      "18:25:36 | Running Optuna Trial: 4\n",
      "with hyperparameters: {'n_estimators': 276, 'max_depth': 376, 'min_samples_split': 15, 'max_features': 'log2', 'min_samples_leaf': 7, 'random_state': 760, 'n_jobs': -1}\n"
     ]
    },
    {
     "name": "stderr",
     "output_type": "stream",
     "text": [
      "\u001b[32m[I 2022-10-15 18:25:39,881]\u001b[0m Trial 4 finished with value: 3.4000417034200856 and parameters: {'n_estimators': 276, 'max_depth': 376, 'min_samples_split': 15, 'max_features': 'log2', 'min_samples_leaf': 7}. Best is trial 4 with value: 3.4000417034200856.\u001b[0m\n"
     ]
    },
    {
     "name": "stdout",
     "output_type": "stream",
     "text": [
      "complete! average cv RMSE: 3.4000417034200856\n",
      "18:25:39 | Running Optuna Trial: 5\n",
      "with hyperparameters: {'n_estimators': 151, 'max_depth': 401, 'min_samples_split': 17, 'max_features': 'sqrt', 'min_samples_leaf': 11, 'random_state': 760, 'n_jobs': -1}\n"
     ]
    },
    {
     "name": "stderr",
     "output_type": "stream",
     "text": [
      "\u001b[32m[I 2022-10-15 18:25:41,542]\u001b[0m Trial 5 finished with value: 3.3995400092242547 and parameters: {'n_estimators': 151, 'max_depth': 401, 'min_samples_split': 17, 'max_features': 'sqrt', 'min_samples_leaf': 11}. Best is trial 5 with value: 3.3995400092242547.\u001b[0m\n"
     ]
    },
    {
     "name": "stdout",
     "output_type": "stream",
     "text": [
      "complete! average cv RMSE: 3.3995400092242547\n",
      "18:25:41 | Running Optuna Trial: 6\n",
      "with hyperparameters: {'n_estimators': 201, 'max_depth': 276, 'min_samples_split': 4, 'max_features': 'sqrt', 'min_samples_leaf': 11, 'random_state': 760, 'n_jobs': -1}\n"
     ]
    },
    {
     "name": "stderr",
     "output_type": "stream",
     "text": [
      "\u001b[32m[I 2022-10-15 18:25:43,858]\u001b[0m Trial 6 finished with value: 3.4010164584203166 and parameters: {'n_estimators': 201, 'max_depth': 276, 'min_samples_split': 4, 'max_features': 'sqrt', 'min_samples_leaf': 11}. Best is trial 5 with value: 3.3995400092242547.\u001b[0m\n"
     ]
    },
    {
     "name": "stdout",
     "output_type": "stream",
     "text": [
      "complete! average cv RMSE: 3.4010164584203166\n",
      "18:25:43 | Running Optuna Trial: 7\n",
      "with hyperparameters: {'n_estimators': 126, 'max_depth': 401, 'min_samples_split': 7, 'max_features': 'log2', 'min_samples_leaf': 12, 'random_state': 760, 'n_jobs': -1}\n"
     ]
    },
    {
     "name": "stderr",
     "output_type": "stream",
     "text": [
      "\u001b[32m[I 2022-10-15 18:25:45,378]\u001b[0m Trial 7 finished with value: 3.3991778068596106 and parameters: {'n_estimators': 126, 'max_depth': 401, 'min_samples_split': 7, 'max_features': 'log2', 'min_samples_leaf': 12}. Best is trial 7 with value: 3.3991778068596106.\u001b[0m\n"
     ]
    },
    {
     "name": "stdout",
     "output_type": "stream",
     "text": [
      "complete! average cv RMSE: 3.3991778068596106\n",
      "18:25:45 | Running Optuna Trial: 8\n",
      "with hyperparameters: {'n_estimators': 476, 'max_depth': 476, 'min_samples_split': 10, 'max_features': 'log2', 'min_samples_leaf': 13, 'random_state': 760, 'n_jobs': -1}\n"
     ]
    },
    {
     "name": "stderr",
     "output_type": "stream",
     "text": [
      "\u001b[32m[I 2022-10-15 18:25:51,522]\u001b[0m Trial 8 finished with value: 3.4018718042307596 and parameters: {'n_estimators': 476, 'max_depth': 476, 'min_samples_split': 10, 'max_features': 'log2', 'min_samples_leaf': 13}. Best is trial 7 with value: 3.3991778068596106.\u001b[0m\n"
     ]
    },
    {
     "name": "stdout",
     "output_type": "stream",
     "text": [
      "complete! average cv RMSE: 3.4018718042307596\n",
      "18:25:51 | Running Optuna Trial: 9\n",
      "with hyperparameters: {'n_estimators': 301, 'max_depth': 251, 'min_samples_split': 15, 'max_features': 'log2', 'min_samples_leaf': 2, 'random_state': 760, 'n_jobs': -1}\n"
     ]
    },
    {
     "name": "stderr",
     "output_type": "stream",
     "text": [
      "\u001b[32m[I 2022-10-15 18:25:55,512]\u001b[0m Trial 9 finished with value: 3.4026811277836986 and parameters: {'n_estimators': 301, 'max_depth': 251, 'min_samples_split': 15, 'max_features': 'log2', 'min_samples_leaf': 2}. Best is trial 7 with value: 3.3991778068596106.\u001b[0m\n"
     ]
    },
    {
     "name": "stdout",
     "output_type": "stream",
     "text": [
      "complete! average cv RMSE: 3.4026811277836986\n",
      "18:25:55 | Running Optuna Trial: 10\n",
      "with hyperparameters: {'n_estimators': 376, 'max_depth': 176, 'min_samples_split': 8, 'max_features': 'log2', 'min_samples_leaf': 6, 'random_state': 760, 'n_jobs': -1}\n"
     ]
    },
    {
     "name": "stderr",
     "output_type": "stream",
     "text": [
      "\u001b[32m[I 2022-10-15 18:25:59,667]\u001b[0m Trial 10 finished with value: 3.398849290238173 and parameters: {'n_estimators': 376, 'max_depth': 176, 'min_samples_split': 8, 'max_features': 'log2', 'min_samples_leaf': 6}. Best is trial 10 with value: 3.398849290238173.\u001b[0m\n"
     ]
    },
    {
     "name": "stdout",
     "output_type": "stream",
     "text": [
      "complete! average cv RMSE: 3.398849290238173\n",
      "18:25:59 | Running Optuna Trial: 11\n",
      "with hyperparameters: {'n_estimators': 401, 'max_depth': 176, 'min_samples_split': 7, 'max_features': 'log2', 'min_samples_leaf': 5, 'random_state': 760, 'n_jobs': -1}\n"
     ]
    },
    {
     "name": "stderr",
     "output_type": "stream",
     "text": [
      "\u001b[32m[I 2022-10-15 18:26:04,501]\u001b[0m Trial 11 finished with value: 3.4001488034713234 and parameters: {'n_estimators': 401, 'max_depth': 176, 'min_samples_split': 7, 'max_features': 'log2', 'min_samples_leaf': 5}. Best is trial 10 with value: 3.398849290238173.\u001b[0m\n",
      "\u001b[32m[I 2022-10-15 18:26:04,602]\u001b[0m Trial 12 finished with value: 3.931145993684228 and parameters: {'n_estimators': 1, 'max_depth': 176, 'min_samples_split': 7, 'max_features': 'log2', 'min_samples_leaf': 7}. Best is trial 10 with value: 3.398849290238173.\u001b[0m\n"
     ]
    },
    {
     "name": "stdout",
     "output_type": "stream",
     "text": [
      "complete! average cv RMSE: 3.4001488034713234\n",
      "18:26:04 | Running Optuna Trial: 12\n",
      "with hyperparameters: {'n_estimators': 1, 'max_depth': 176, 'min_samples_split': 7, 'max_features': 'log2', 'min_samples_leaf': 7, 'random_state': 760, 'n_jobs': -1}\n",
      "complete! average cv RMSE: 3.931145993684228\n",
      "18:26:04 | Running Optuna Trial: 13\n",
      "with hyperparameters: {'n_estimators': 351, 'max_depth': 26, 'min_samples_split': 2, 'max_features': 'log2', 'min_samples_leaf': 1, 'random_state': 760, 'n_jobs': -1}\n"
     ]
    },
    {
     "name": "stderr",
     "output_type": "stream",
     "text": [
      "\u001b[32m[I 2022-10-15 18:26:10,582]\u001b[0m Trial 13 finished with value: 3.4247015464747603 and parameters: {'n_estimators': 351, 'max_depth': 26, 'min_samples_split': 2, 'max_features': 'log2', 'min_samples_leaf': 1}. Best is trial 10 with value: 3.398849290238173.\u001b[0m\n"
     ]
    },
    {
     "name": "stdout",
     "output_type": "stream",
     "text": [
      "complete! average cv RMSE: 3.4247015464747603\n",
      "18:26:10 | Running Optuna Trial: 14\n",
      "with hyperparameters: {'n_estimators': 401, 'max_depth': 326, 'min_samples_split': 9, 'max_features': 'log2', 'min_samples_leaf': 8, 'random_state': 760, 'n_jobs': -1}\n"
     ]
    },
    {
     "name": "stderr",
     "output_type": "stream",
     "text": [
      "\u001b[32m[I 2022-10-15 18:26:14,736]\u001b[0m Trial 14 finished with value: 3.398775327126441 and parameters: {'n_estimators': 401, 'max_depth': 326, 'min_samples_split': 9, 'max_features': 'log2', 'min_samples_leaf': 8}. Best is trial 14 with value: 3.398775327126441.\u001b[0m\n"
     ]
    },
    {
     "name": "stdout",
     "output_type": "stream",
     "text": [
      "complete! average cv RMSE: 3.398775327126441\n",
      "18:26:14 | Running Optuna Trial: 15\n",
      "with hyperparameters: {'n_estimators': 426, 'max_depth': 301, 'min_samples_split': 9, 'max_features': 'log2', 'min_samples_leaf': 8, 'random_state': 760, 'n_jobs': -1}\n"
     ]
    },
    {
     "name": "stderr",
     "output_type": "stream",
     "text": [
      "\u001b[32m[I 2022-10-15 18:26:19,910]\u001b[0m Trial 15 finished with value: 3.398779296302007 and parameters: {'n_estimators': 426, 'max_depth': 301, 'min_samples_split': 9, 'max_features': 'log2', 'min_samples_leaf': 8}. Best is trial 14 with value: 3.398775327126441.\u001b[0m\n"
     ]
    },
    {
     "name": "stdout",
     "output_type": "stream",
     "text": [
      "complete! average cv RMSE: 3.398779296302007\n",
      "18:26:19 | Running Optuna Trial: 16\n",
      "with hyperparameters: {'n_estimators': 476, 'max_depth': 326, 'min_samples_split': 12, 'max_features': 'log2', 'min_samples_leaf': 9, 'random_state': 760, 'n_jobs': -1}\n"
     ]
    },
    {
     "name": "stderr",
     "output_type": "stream",
     "text": [
      "\u001b[32m[I 2022-10-15 18:26:25,177]\u001b[0m Trial 16 finished with value: 3.400071385778402 and parameters: {'n_estimators': 476, 'max_depth': 326, 'min_samples_split': 12, 'max_features': 'log2', 'min_samples_leaf': 9}. Best is trial 14 with value: 3.398775327126441.\u001b[0m\n"
     ]
    },
    {
     "name": "stdout",
     "output_type": "stream",
     "text": [
      "complete! average cv RMSE: 3.400071385778402\n",
      "18:26:25 | Running Optuna Trial: 17\n",
      "with hyperparameters: {'n_estimators': 401, 'max_depth': 301, 'min_samples_split': 10, 'max_features': 'log2', 'min_samples_leaf': 4, 'random_state': 760, 'n_jobs': -1}\n"
     ]
    },
    {
     "name": "stderr",
     "output_type": "stream",
     "text": [
      "\u001b[32m[I 2022-10-15 18:26:30,915]\u001b[0m Trial 17 finished with value: 3.4036385142422745 and parameters: {'n_estimators': 401, 'max_depth': 301, 'min_samples_split': 10, 'max_features': 'log2', 'min_samples_leaf': 4}. Best is trial 14 with value: 3.398775327126441.\u001b[0m\n"
     ]
    },
    {
     "name": "stdout",
     "output_type": "stream",
     "text": [
      "complete! average cv RMSE: 3.4036385142422745\n",
      "18:26:30 | Running Optuna Trial: 18\n",
      "with hyperparameters: {'n_estimators': 326, 'max_depth': 226, 'min_samples_split': 13, 'max_features': 'sqrt', 'min_samples_leaf': 9, 'random_state': 760, 'n_jobs': -1}\n"
     ]
    },
    {
     "name": "stderr",
     "output_type": "stream",
     "text": [
      "\u001b[32m[I 2022-10-15 18:26:34,762]\u001b[0m Trial 18 finished with value: 3.3999105031760566 and parameters: {'n_estimators': 326, 'max_depth': 226, 'min_samples_split': 13, 'max_features': 'sqrt', 'min_samples_leaf': 9}. Best is trial 14 with value: 3.398775327126441.\u001b[0m\n"
     ]
    },
    {
     "name": "stdout",
     "output_type": "stream",
     "text": [
      "complete! average cv RMSE: 3.3999105031760566\n",
      "18:26:34 | Running Optuna Trial: 19\n",
      "with hyperparameters: {'n_estimators': 426, 'max_depth': 351, 'min_samples_split': 9, 'max_features': 'log2', 'min_samples_leaf': 16, 'random_state': 760, 'n_jobs': -1}\n"
     ]
    },
    {
     "name": "stderr",
     "output_type": "stream",
     "text": [
      "\u001b[32m[I 2022-10-15 18:26:39,496]\u001b[0m Trial 19 finished with value: 3.403181350453741 and parameters: {'n_estimators': 426, 'max_depth': 351, 'min_samples_split': 9, 'max_features': 'log2', 'min_samples_leaf': 16}. Best is trial 14 with value: 3.398775327126441.\u001b[0m\n"
     ]
    },
    {
     "name": "stdout",
     "output_type": "stream",
     "text": [
      "complete! average cv RMSE: 3.403181350453741\n",
      "18:26:39 | Running Optuna Trial: 20\n",
      "with hyperparameters: {'n_estimators': 251, 'max_depth': 226, 'min_samples_split': 5, 'max_features': 'log2', 'min_samples_leaf': 9, 'random_state': 760, 'n_jobs': -1}\n"
     ]
    },
    {
     "name": "stderr",
     "output_type": "stream",
     "text": [
      "\u001b[32m[I 2022-10-15 18:26:42,468]\u001b[0m Trial 20 finished with value: 3.400363139232762 and parameters: {'n_estimators': 251, 'max_depth': 226, 'min_samples_split': 5, 'max_features': 'log2', 'min_samples_leaf': 9}. Best is trial 14 with value: 3.398775327126441.\u001b[0m\n"
     ]
    },
    {
     "name": "stdout",
     "output_type": "stream",
     "text": [
      "complete! average cv RMSE: 3.400363139232762\n",
      "18:26:42 | Running Optuna Trial: 21\n",
      "with hyperparameters: {'n_estimators': 376, 'max_depth': 126, 'min_samples_split': 8, 'max_features': 'log2', 'min_samples_leaf': 6, 'random_state': 760, 'n_jobs': -1}\n"
     ]
    },
    {
     "name": "stderr",
     "output_type": "stream",
     "text": [
      "\u001b[32m[I 2022-10-15 18:26:47,374]\u001b[0m Trial 21 finished with value: 3.398849290238173 and parameters: {'n_estimators': 376, 'max_depth': 126, 'min_samples_split': 8, 'max_features': 'log2', 'min_samples_leaf': 6}. Best is trial 14 with value: 3.398775327126441.\u001b[0m\n"
     ]
    },
    {
     "name": "stdout",
     "output_type": "stream",
     "text": [
      "complete! average cv RMSE: 3.398849290238173\n",
      "18:26:47 | Running Optuna Trial: 22\n",
      "with hyperparameters: {'n_estimators': 451, 'max_depth': 176, 'min_samples_split': 9, 'max_features': 'log2', 'min_samples_leaf': 3, 'random_state': 760, 'n_jobs': -1}\n"
     ]
    },
    {
     "name": "stderr",
     "output_type": "stream",
     "text": [
      "\u001b[32m[I 2022-10-15 18:26:53,496]\u001b[0m Trial 22 finished with value: 3.403125016208075 and parameters: {'n_estimators': 451, 'max_depth': 176, 'min_samples_split': 9, 'max_features': 'log2', 'min_samples_leaf': 3}. Best is trial 14 with value: 3.398775327126441.\u001b[0m\n"
     ]
    },
    {
     "name": "stdout",
     "output_type": "stream",
     "text": [
      "complete! average cv RMSE: 3.403125016208075\n",
      "18:26:53 | Running Optuna Trial: 23\n",
      "with hyperparameters: {'n_estimators': 351, 'max_depth': 126, 'min_samples_split': 12, 'max_features': 'log2', 'min_samples_leaf': 8, 'random_state': 760, 'n_jobs': -1}\n"
     ]
    },
    {
     "name": "stderr",
     "output_type": "stream",
     "text": [
      "\u001b[32m[I 2022-10-15 18:26:57,697]\u001b[0m Trial 23 finished with value: 3.3985226996918563 and parameters: {'n_estimators': 351, 'max_depth': 126, 'min_samples_split': 12, 'max_features': 'log2', 'min_samples_leaf': 8}. Best is trial 23 with value: 3.3985226996918563.\u001b[0m\n"
     ]
    },
    {
     "name": "stdout",
     "output_type": "stream",
     "text": [
      "complete! average cv RMSE: 3.3985226996918563\n",
      "18:26:57 | Running Optuna Trial: 24\n",
      "with hyperparameters: {'n_estimators': 326, 'max_depth': 76, 'min_samples_split': 12, 'max_features': 'log2', 'min_samples_leaf': 8, 'random_state': 760, 'n_jobs': -1}\n"
     ]
    },
    {
     "name": "stderr",
     "output_type": "stream",
     "text": [
      "\u001b[32m[I 2022-10-15 18:27:01,342]\u001b[0m Trial 24 finished with value: 3.398439793824622 and parameters: {'n_estimators': 326, 'max_depth': 76, 'min_samples_split': 12, 'max_features': 'log2', 'min_samples_leaf': 8}. Best is trial 24 with value: 3.398439793824622.\u001b[0m\n"
     ]
    },
    {
     "name": "stdout",
     "output_type": "stream",
     "text": [
      "complete! average cv RMSE: 3.398439793824622\n",
      "18:27:01 | Running Optuna Trial: 25\n",
      "with hyperparameters: {'n_estimators': 326, 'max_depth': 76, 'min_samples_split': 17, 'max_features': 'log2', 'min_samples_leaf': 9, 'random_state': 760, 'n_jobs': -1}\n"
     ]
    },
    {
     "name": "stderr",
     "output_type": "stream",
     "text": [
      "\u001b[32m[I 2022-10-15 18:27:04,861]\u001b[0m Trial 25 finished with value: 3.3999105031760566 and parameters: {'n_estimators': 326, 'max_depth': 76, 'min_samples_split': 17, 'max_features': 'log2', 'min_samples_leaf': 9}. Best is trial 24 with value: 3.398439793824622.\u001b[0m\n"
     ]
    },
    {
     "name": "stdout",
     "output_type": "stream",
     "text": [
      "complete! average cv RMSE: 3.3999105031760566\n",
      "18:27:04 | Running Optuna Trial: 26\n",
      "with hyperparameters: {'n_estimators': 276, 'max_depth': 1, 'min_samples_split': 12, 'max_features': 'sqrt', 'min_samples_leaf': 5, 'random_state': 760, 'n_jobs': -1}\n"
     ]
    },
    {
     "name": "stderr",
     "output_type": "stream",
     "text": [
      "\u001b[32m[I 2022-10-15 18:27:06,369]\u001b[0m Trial 26 finished with value: 3.591108506318277 and parameters: {'n_estimators': 276, 'max_depth': 1, 'min_samples_split': 12, 'max_features': 'sqrt', 'min_samples_leaf': 5}. Best is trial 24 with value: 3.398439793824622.\u001b[0m\n"
     ]
    },
    {
     "name": "stdout",
     "output_type": "stream",
     "text": [
      "complete! average cv RMSE: 3.591108506318277\n",
      "18:27:06 | Running Optuna Trial: 27\n",
      "with hyperparameters: {'n_estimators': 351, 'max_depth': 101, 'min_samples_split': 12, 'max_features': 'log2', 'min_samples_leaf': 10, 'random_state': 760, 'n_jobs': -1}\n"
     ]
    },
    {
     "name": "stderr",
     "output_type": "stream",
     "text": [
      "\u001b[32m[I 2022-10-15 18:27:10,719]\u001b[0m Trial 27 finished with value: 3.399102738564681 and parameters: {'n_estimators': 351, 'max_depth': 101, 'min_samples_split': 12, 'max_features': 'log2', 'min_samples_leaf': 10}. Best is trial 24 with value: 3.398439793824622.\u001b[0m\n"
     ]
    },
    {
     "name": "stdout",
     "output_type": "stream",
     "text": [
      "complete! average cv RMSE: 3.399102738564681\n",
      "18:27:10 | Running Optuna Trial: 28\n",
      "with hyperparameters: {'n_estimators': 226, 'max_depth': 76, 'min_samples_split': 17, 'max_features': 'log2', 'min_samples_leaf': 7, 'random_state': 760, 'n_jobs': -1}\n"
     ]
    },
    {
     "name": "stderr",
     "output_type": "stream",
     "text": [
      "\u001b[32m[I 2022-10-15 18:27:13,452]\u001b[0m Trial 28 finished with value: 3.4000718487166095 and parameters: {'n_estimators': 226, 'max_depth': 76, 'min_samples_split': 17, 'max_features': 'log2', 'min_samples_leaf': 7}. Best is trial 24 with value: 3.398439793824622.\u001b[0m\n"
     ]
    },
    {
     "name": "stdout",
     "output_type": "stream",
     "text": [
      "complete! average cv RMSE: 3.4000718487166095\n",
      "18:27:13 | Running Optuna Trial: 29\n",
      "with hyperparameters: {'n_estimators': 301, 'max_depth': 51, 'min_samples_split': 14, 'max_features': 'log2', 'min_samples_leaf': 16, 'random_state': 760, 'n_jobs': -1}\n"
     ]
    },
    {
     "name": "stderr",
     "output_type": "stream",
     "text": [
      "\u001b[32m[I 2022-10-15 18:27:16,681]\u001b[0m Trial 29 finished with value: 3.402643672209095 and parameters: {'n_estimators': 301, 'max_depth': 51, 'min_samples_split': 14, 'max_features': 'log2', 'min_samples_leaf': 16}. Best is trial 24 with value: 3.398439793824622.\u001b[0m\n"
     ]
    },
    {
     "name": "stdout",
     "output_type": "stream",
     "text": [
      "complete! average cv RMSE: 3.402643672209095\n",
      "18:27:16 | Running Optuna Trial: 30\n",
      "with hyperparameters: {'n_estimators': 351, 'max_depth': 126, 'min_samples_split': 11, 'max_features': 'log2', 'min_samples_leaf': 4, 'random_state': 760, 'n_jobs': -1}\n"
     ]
    },
    {
     "name": "stderr",
     "output_type": "stream",
     "text": [
      "\u001b[32m[I 2022-10-15 18:27:20,935]\u001b[0m Trial 30 finished with value: 3.3986199784361597 and parameters: {'n_estimators': 351, 'max_depth': 126, 'min_samples_split': 11, 'max_features': 'log2', 'min_samples_leaf': 4}. Best is trial 24 with value: 3.398439793824622.\u001b[0m\n"
     ]
    },
    {
     "name": "stdout",
     "output_type": "stream",
     "text": [
      "complete! average cv RMSE: 3.3986199784361597\n",
      "18:27:20 | Running Optuna Trial: 31\n",
      "with hyperparameters: {'n_estimators': 351, 'max_depth': 126, 'min_samples_split': 10, 'max_features': 'log2', 'min_samples_leaf': 4, 'random_state': 760, 'n_jobs': -1}\n"
     ]
    },
    {
     "name": "stderr",
     "output_type": "stream",
     "text": [
      "\u001b[32m[I 2022-10-15 18:27:25,037]\u001b[0m Trial 31 finished with value: 3.402494206030782 and parameters: {'n_estimators': 351, 'max_depth': 126, 'min_samples_split': 10, 'max_features': 'log2', 'min_samples_leaf': 4}. Best is trial 24 with value: 3.398439793824622.\u001b[0m\n"
     ]
    },
    {
     "name": "stdout",
     "output_type": "stream",
     "text": [
      "complete! average cv RMSE: 3.402494206030782\n",
      "18:27:25 | Running Optuna Trial: 32\n",
      "with hyperparameters: {'n_estimators': 401, 'max_depth': 51, 'min_samples_split': 11, 'max_features': 'log2', 'min_samples_leaf': 3, 'random_state': 760, 'n_jobs': -1}\n"
     ]
    },
    {
     "name": "stderr",
     "output_type": "stream",
     "text": [
      "\u001b[32m[I 2022-10-15 18:27:30,247]\u001b[0m Trial 32 finished with value: 3.4022817961681247 and parameters: {'n_estimators': 401, 'max_depth': 51, 'min_samples_split': 11, 'max_features': 'log2', 'min_samples_leaf': 3}. Best is trial 24 with value: 3.398439793824622.\u001b[0m\n"
     ]
    },
    {
     "name": "stdout",
     "output_type": "stream",
     "text": [
      "complete! average cv RMSE: 3.4022817961681247\n",
      "18:27:30 | Running Optuna Trial: 33\n",
      "with hyperparameters: {'n_estimators': 326, 'max_depth': 151, 'min_samples_split': 13, 'max_features': 'log2', 'min_samples_leaf': 8, 'random_state': 760, 'n_jobs': -1}\n"
     ]
    },
    {
     "name": "stderr",
     "output_type": "stream",
     "text": [
      "\u001b[32m[I 2022-10-15 18:27:34,627]\u001b[0m Trial 33 finished with value: 3.398439793824622 and parameters: {'n_estimators': 326, 'max_depth': 151, 'min_samples_split': 13, 'max_features': 'log2', 'min_samples_leaf': 8}. Best is trial 24 with value: 3.398439793824622.\u001b[0m\n"
     ]
    },
    {
     "name": "stdout",
     "output_type": "stream",
     "text": [
      "complete! average cv RMSE: 3.398439793824622\n",
      "18:27:34 | Running Optuna Trial: 34\n",
      "with hyperparameters: {'n_estimators': 301, 'max_depth': 151, 'min_samples_split': 14, 'max_features': 'sqrt', 'min_samples_leaf': 6, 'random_state': 760, 'n_jobs': -1}\n"
     ]
    },
    {
     "name": "stderr",
     "output_type": "stream",
     "text": [
      "\u001b[32m[I 2022-10-15 18:27:38,730]\u001b[0m Trial 34 finished with value: 3.400623361462235 and parameters: {'n_estimators': 301, 'max_depth': 151, 'min_samples_split': 14, 'max_features': 'sqrt', 'min_samples_leaf': 6}. Best is trial 24 with value: 3.398439793824622.\u001b[0m\n"
     ]
    },
    {
     "name": "stdout",
     "output_type": "stream",
     "text": [
      "complete! average cv RMSE: 3.400623361462235\n",
      "18:27:38 | Running Optuna Trial: 35\n",
      "with hyperparameters: {'n_estimators': 251, 'max_depth': 101, 'min_samples_split': 15, 'max_features': 'log2', 'min_samples_leaf': 10, 'random_state': 760, 'n_jobs': -1}\n"
     ]
    },
    {
     "name": "stderr",
     "output_type": "stream",
     "text": [
      "\u001b[32m[I 2022-10-15 18:27:41,535]\u001b[0m Trial 35 finished with value: 3.398876974563342 and parameters: {'n_estimators': 251, 'max_depth': 101, 'min_samples_split': 15, 'max_features': 'log2', 'min_samples_leaf': 10}. Best is trial 24 with value: 3.398439793824622.\u001b[0m\n"
     ]
    },
    {
     "name": "stdout",
     "output_type": "stream",
     "text": [
      "complete! average cv RMSE: 3.398876974563342\n",
      "18:27:41 | Running Optuna Trial: 36\n",
      "with hyperparameters: {'n_estimators': 326, 'max_depth': 1, 'min_samples_split': 20, 'max_features': 'log2', 'min_samples_leaf': 12, 'random_state': 760, 'n_jobs': -1}\n"
     ]
    },
    {
     "name": "stderr",
     "output_type": "stream",
     "text": [
      "\u001b[32m[I 2022-10-15 18:27:43,109]\u001b[0m Trial 36 finished with value: 3.591749369356664 and parameters: {'n_estimators': 326, 'max_depth': 1, 'min_samples_split': 20, 'max_features': 'log2', 'min_samples_leaf': 12}. Best is trial 24 with value: 3.398439793824622.\u001b[0m\n"
     ]
    },
    {
     "name": "stdout",
     "output_type": "stream",
     "text": [
      "complete! average cv RMSE: 3.591749369356664\n",
      "18:27:43 | Running Optuna Trial: 37\n",
      "with hyperparameters: {'n_estimators': 276, 'max_depth': 201, 'min_samples_split': 13, 'max_features': 'sqrt', 'min_samples_leaf': 8, 'random_state': 760, 'n_jobs': -1}\n"
     ]
    },
    {
     "name": "stderr",
     "output_type": "stream",
     "text": [
      "\u001b[32m[I 2022-10-15 18:27:46,508]\u001b[0m Trial 37 finished with value: 3.3981523962468416 and parameters: {'n_estimators': 276, 'max_depth': 201, 'min_samples_split': 13, 'max_features': 'sqrt', 'min_samples_leaf': 8}. Best is trial 37 with value: 3.3981523962468416.\u001b[0m\n"
     ]
    },
    {
     "name": "stdout",
     "output_type": "stream",
     "text": [
      "complete! average cv RMSE: 3.3981523962468416\n",
      "18:27:46 | Running Optuna Trial: 38\n",
      "with hyperparameters: {'n_estimators': 226, 'max_depth': 201, 'min_samples_split': 16, 'max_features': 'sqrt', 'min_samples_leaf': 20, 'random_state': 760, 'n_jobs': -1}\n"
     ]
    },
    {
     "name": "stderr",
     "output_type": "stream",
     "text": [
      "\u001b[32m[I 2022-10-15 18:27:49,312]\u001b[0m Trial 38 finished with value: 3.404926209940405 and parameters: {'n_estimators': 226, 'max_depth': 201, 'min_samples_split': 16, 'max_features': 'sqrt', 'min_samples_leaf': 20}. Best is trial 37 with value: 3.3981523962468416.\u001b[0m\n"
     ]
    },
    {
     "name": "stdout",
     "output_type": "stream",
     "text": [
      "complete! average cv RMSE: 3.404926209940405\n",
      "18:27:49 | Running Optuna Trial: 39\n",
      "with hyperparameters: {'n_estimators': 176, 'max_depth': 151, 'min_samples_split': 13, 'max_features': 'sqrt', 'min_samples_leaf': 8, 'random_state': 760, 'n_jobs': -1}\n"
     ]
    },
    {
     "name": "stderr",
     "output_type": "stream",
     "text": [
      "\u001b[32m[I 2022-10-15 18:27:52,044]\u001b[0m Trial 39 finished with value: 3.3972227200832825 and parameters: {'n_estimators': 176, 'max_depth': 151, 'min_samples_split': 13, 'max_features': 'sqrt', 'min_samples_leaf': 8}. Best is trial 39 with value: 3.3972227200832825.\u001b[0m\n"
     ]
    },
    {
     "name": "stdout",
     "output_type": "stream",
     "text": [
      "complete! average cv RMSE: 3.3972227200832825\n",
      "18:27:52 | Running Optuna Trial: 40\n",
      "with hyperparameters: {'n_estimators': 176, 'max_depth': 251, 'min_samples_split': 13, 'max_features': 'sqrt', 'min_samples_leaf': 12, 'random_state': 760, 'n_jobs': -1}\n"
     ]
    },
    {
     "name": "stderr",
     "output_type": "stream",
     "text": [
      "\u001b[32m[I 2022-10-15 18:27:54,521]\u001b[0m Trial 40 finished with value: 3.4002406917427237 and parameters: {'n_estimators': 176, 'max_depth': 251, 'min_samples_split': 13, 'max_features': 'sqrt', 'min_samples_leaf': 12}. Best is trial 39 with value: 3.3972227200832825.\u001b[0m\n"
     ]
    },
    {
     "name": "stdout",
     "output_type": "stream",
     "text": [
      "complete! average cv RMSE: 3.4002406917427237\n",
      "18:27:54 | Running Optuna Trial: 41\n",
      "with hyperparameters: {'n_estimators': 176, 'max_depth': 201, 'min_samples_split': 13, 'max_features': 'sqrt', 'min_samples_leaf': 8, 'random_state': 760, 'n_jobs': -1}\n"
     ]
    },
    {
     "name": "stderr",
     "output_type": "stream",
     "text": [
      "\u001b[32m[I 2022-10-15 18:27:56,758]\u001b[0m Trial 41 finished with value: 3.3972227200832825 and parameters: {'n_estimators': 176, 'max_depth': 201, 'min_samples_split': 13, 'max_features': 'sqrt', 'min_samples_leaf': 8}. Best is trial 39 with value: 3.3972227200832825.\u001b[0m\n"
     ]
    },
    {
     "name": "stdout",
     "output_type": "stream",
     "text": [
      "complete! average cv RMSE: 3.3972227200832825\n",
      "18:27:56 | Running Optuna Trial: 42\n",
      "with hyperparameters: {'n_estimators': 101, 'max_depth': 201, 'min_samples_split': 13, 'max_features': 'sqrt', 'min_samples_leaf': 7, 'random_state': 760, 'n_jobs': -1}\n"
     ]
    },
    {
     "name": "stderr",
     "output_type": "stream",
     "text": [
      "\u001b[32m[I 2022-10-15 18:27:58,054]\u001b[0m Trial 42 finished with value: 3.3996549012049755 and parameters: {'n_estimators': 101, 'max_depth': 201, 'min_samples_split': 13, 'max_features': 'sqrt', 'min_samples_leaf': 7}. Best is trial 39 with value: 3.3972227200832825.\u001b[0m\n"
     ]
    },
    {
     "name": "stdout",
     "output_type": "stream",
     "text": [
      "complete! average cv RMSE: 3.3996549012049755\n",
      "18:27:58 | Running Optuna Trial: 43\n",
      "with hyperparameters: {'n_estimators': 176, 'max_depth': 151, 'min_samples_split': 15, 'max_features': 'sqrt', 'min_samples_leaf': 10, 'random_state': 760, 'n_jobs': -1}\n"
     ]
    },
    {
     "name": "stderr",
     "output_type": "stream",
     "text": [
      "\u001b[32m[I 2022-10-15 18:28:00,154]\u001b[0m Trial 43 finished with value: 3.3977349197955933 and parameters: {'n_estimators': 176, 'max_depth': 151, 'min_samples_split': 15, 'max_features': 'sqrt', 'min_samples_leaf': 10}. Best is trial 39 with value: 3.3972227200832825.\u001b[0m\n"
     ]
    },
    {
     "name": "stdout",
     "output_type": "stream",
     "text": [
      "complete! average cv RMSE: 3.3977349197955933\n",
      "18:28:00 | Running Optuna Trial: 44\n",
      "with hyperparameters: {'n_estimators': 176, 'max_depth': 201, 'min_samples_split': 16, 'max_features': 'sqrt', 'min_samples_leaf': 10, 'random_state': 760, 'n_jobs': -1}\n"
     ]
    },
    {
     "name": "stderr",
     "output_type": "stream",
     "text": [
      "\u001b[32m[I 2022-10-15 18:28:02,175]\u001b[0m Trial 44 finished with value: 3.3977349197955933 and parameters: {'n_estimators': 176, 'max_depth': 201, 'min_samples_split': 16, 'max_features': 'sqrt', 'min_samples_leaf': 10}. Best is trial 39 with value: 3.3972227200832825.\u001b[0m\n"
     ]
    },
    {
     "name": "stdout",
     "output_type": "stream",
     "text": [
      "complete! average cv RMSE: 3.3977349197955933\n",
      "18:28:02 | Running Optuna Trial: 45\n",
      "with hyperparameters: {'n_estimators': 151, 'max_depth': 201, 'min_samples_split': 19, 'max_features': 'sqrt', 'min_samples_leaf': 11, 'random_state': 760, 'n_jobs': -1}\n"
     ]
    },
    {
     "name": "stderr",
     "output_type": "stream",
     "text": [
      "\u001b[32m[I 2022-10-15 18:28:03,935]\u001b[0m Trial 45 finished with value: 3.3995400092242547 and parameters: {'n_estimators': 151, 'max_depth': 201, 'min_samples_split': 19, 'max_features': 'sqrt', 'min_samples_leaf': 11}. Best is trial 39 with value: 3.3972227200832825.\u001b[0m\n"
     ]
    },
    {
     "name": "stdout",
     "output_type": "stream",
     "text": [
      "complete! average cv RMSE: 3.3995400092242547\n",
      "18:28:03 | Running Optuna Trial: 46\n",
      "with hyperparameters: {'n_estimators': 176, 'max_depth': 251, 'min_samples_split': 16, 'max_features': 'sqrt', 'min_samples_leaf': 14, 'random_state': 760, 'n_jobs': -1}\n"
     ]
    },
    {
     "name": "stderr",
     "output_type": "stream",
     "text": [
      "\u001b[32m[I 2022-10-15 18:28:05,913]\u001b[0m Trial 46 finished with value: 3.401072317926997 and parameters: {'n_estimators': 176, 'max_depth': 251, 'min_samples_split': 16, 'max_features': 'sqrt', 'min_samples_leaf': 14}. Best is trial 39 with value: 3.3972227200832825.\u001b[0m\n"
     ]
    },
    {
     "name": "stdout",
     "output_type": "stream",
     "text": [
      "complete! average cv RMSE: 3.401072317926997\n",
      "18:28:05 | Running Optuna Trial: 47\n",
      "with hyperparameters: {'n_estimators': 201, 'max_depth': 151, 'min_samples_split': 18, 'max_features': 'sqrt', 'min_samples_leaf': 11, 'random_state': 760, 'n_jobs': -1}\n"
     ]
    },
    {
     "name": "stderr",
     "output_type": "stream",
     "text": [
      "\u001b[32m[I 2022-10-15 18:28:08,139]\u001b[0m Trial 47 finished with value: 3.4010164584203166 and parameters: {'n_estimators': 201, 'max_depth': 151, 'min_samples_split': 18, 'max_features': 'sqrt', 'min_samples_leaf': 11}. Best is trial 39 with value: 3.3972227200832825.\u001b[0m\n"
     ]
    },
    {
     "name": "stdout",
     "output_type": "stream",
     "text": [
      "complete! average cv RMSE: 3.4010164584203166\n",
      "18:28:08 | Running Optuna Trial: 48\n",
      "with hyperparameters: {'n_estimators': 101, 'max_depth': 276, 'min_samples_split': 14, 'max_features': 'sqrt', 'min_samples_leaf': 10, 'random_state': 760, 'n_jobs': -1}\n"
     ]
    },
    {
     "name": "stderr",
     "output_type": "stream",
     "text": [
      "\u001b[32m[I 2022-10-15 18:28:09,379]\u001b[0m Trial 48 finished with value: 3.398289992381504 and parameters: {'n_estimators': 101, 'max_depth': 276, 'min_samples_split': 14, 'max_features': 'sqrt', 'min_samples_leaf': 10}. Best is trial 39 with value: 3.3972227200832825.\u001b[0m\n"
     ]
    },
    {
     "name": "stdout",
     "output_type": "stream",
     "text": [
      "complete! average cv RMSE: 3.398289992381504\n",
      "18:28:09 | Running Optuna Trial: 49\n",
      "with hyperparameters: {'n_estimators': 151, 'max_depth': 226, 'min_samples_split': 16, 'max_features': 'sqrt', 'min_samples_leaf': 13, 'random_state': 760, 'n_jobs': -1}\n"
     ]
    },
    {
     "name": "stderr",
     "output_type": "stream",
     "text": [
      "\u001b[32m[I 2022-10-15 18:28:10,981]\u001b[0m Trial 49 finished with value: 3.4005575260655987 and parameters: {'n_estimators': 151, 'max_depth': 226, 'min_samples_split': 16, 'max_features': 'sqrt', 'min_samples_leaf': 13}. Best is trial 39 with value: 3.3972227200832825.\u001b[0m\n"
     ]
    },
    {
     "name": "stdout",
     "output_type": "stream",
     "text": [
      "complete! average cv RMSE: 3.4005575260655987\n"
     ]
    },
    {
     "name": "stderr",
     "output_type": "stream",
     "text": [
      "\u001b[32m[I 2022-10-15 18:28:11,550]\u001b[0m A new study created in memory with name: no-name-4622e11e-0b5a-42b9-8fe2-b5c40a201526\u001b[0m\n"
     ]
    },
    {
     "name": "stdout",
     "output_type": "stream",
     "text": [
      "====== Running repetition: 3 ======\n",
      "18:28:11 | Running Optuna Trial: 0\n",
      "with hyperparameters: {'n_estimators': 51, 'max_depth': 51, 'min_samples_split': 5, 'max_features': 'log2', 'min_samples_leaf': 18, 'random_state': 760, 'n_jobs': -1}\n"
     ]
    },
    {
     "name": "stderr",
     "output_type": "stream",
     "text": [
      "\u001b[32m[I 2022-10-15 18:28:12,159]\u001b[0m Trial 0 finished with value: 3.3946580269639335 and parameters: {'n_estimators': 51, 'max_depth': 51, 'min_samples_split': 5, 'max_features': 'log2', 'min_samples_leaf': 18}. Best is trial 0 with value: 3.3946580269639335.\u001b[0m\n"
     ]
    },
    {
     "name": "stdout",
     "output_type": "stream",
     "text": [
      "complete! average cv RMSE: 3.3946580269639335\n",
      "18:28:12 | Running Optuna Trial: 1\n",
      "with hyperparameters: {'n_estimators': 76, 'max_depth': 451, 'min_samples_split': 14, 'max_features': 'sqrt', 'min_samples_leaf': 14, 'random_state': 760, 'n_jobs': -1}\n"
     ]
    },
    {
     "name": "stderr",
     "output_type": "stream",
     "text": [
      "\u001b[32m[I 2022-10-15 18:28:13,167]\u001b[0m Trial 1 finished with value: 3.3886098365360953 and parameters: {'n_estimators': 76, 'max_depth': 451, 'min_samples_split': 14, 'max_features': 'sqrt', 'min_samples_leaf': 14}. Best is trial 1 with value: 3.3886098365360953.\u001b[0m\n"
     ]
    },
    {
     "name": "stdout",
     "output_type": "stream",
     "text": [
      "complete! average cv RMSE: 3.3886098365360953\n",
      "18:28:13 | Running Optuna Trial: 2\n",
      "with hyperparameters: {'n_estimators': 201, 'max_depth': 126, 'min_samples_split': 20, 'max_features': 'log2', 'min_samples_leaf': 14, 'random_state': 760, 'n_jobs': -1}\n"
     ]
    },
    {
     "name": "stderr",
     "output_type": "stream",
     "text": [
      "\u001b[32m[I 2022-10-15 18:28:15,094]\u001b[0m Trial 2 finished with value: 3.3860392912812705 and parameters: {'n_estimators': 201, 'max_depth': 126, 'min_samples_split': 20, 'max_features': 'log2', 'min_samples_leaf': 14}. Best is trial 2 with value: 3.3860392912812705.\u001b[0m\n"
     ]
    },
    {
     "name": "stdout",
     "output_type": "stream",
     "text": [
      "complete! average cv RMSE: 3.3860392912812705\n",
      "18:28:15 | Running Optuna Trial: 3\n",
      "with hyperparameters: {'n_estimators': 126, 'max_depth': 326, 'min_samples_split': 11, 'max_features': 'sqrt', 'min_samples_leaf': 19, 'random_state': 760, 'n_jobs': -1}\n"
     ]
    },
    {
     "name": "stderr",
     "output_type": "stream",
     "text": [
      "\u001b[32m[I 2022-10-15 18:28:16,376]\u001b[0m Trial 3 finished with value: 3.3893352790533555 and parameters: {'n_estimators': 126, 'max_depth': 326, 'min_samples_split': 11, 'max_features': 'sqrt', 'min_samples_leaf': 19}. Best is trial 2 with value: 3.3860392912812705.\u001b[0m\n"
     ]
    },
    {
     "name": "stdout",
     "output_type": "stream",
     "text": [
      "complete! average cv RMSE: 3.3893352790533555\n",
      "18:28:16 | Running Optuna Trial: 4\n",
      "with hyperparameters: {'n_estimators': 276, 'max_depth': 376, 'min_samples_split': 15, 'max_features': 'log2', 'min_samples_leaf': 7, 'random_state': 760, 'n_jobs': -1}\n"
     ]
    },
    {
     "name": "stderr",
     "output_type": "stream",
     "text": [
      "\u001b[32m[I 2022-10-15 18:28:19,520]\u001b[0m Trial 4 finished with value: 3.3875015607702297 and parameters: {'n_estimators': 276, 'max_depth': 376, 'min_samples_split': 15, 'max_features': 'log2', 'min_samples_leaf': 7}. Best is trial 2 with value: 3.3860392912812705.\u001b[0m\n"
     ]
    },
    {
     "name": "stdout",
     "output_type": "stream",
     "text": [
      "complete! average cv RMSE: 3.3875015607702297\n",
      "18:28:19 | Running Optuna Trial: 5\n",
      "with hyperparameters: {'n_estimators': 151, 'max_depth': 401, 'min_samples_split': 17, 'max_features': 'sqrt', 'min_samples_leaf': 11, 'random_state': 760, 'n_jobs': -1}\n"
     ]
    },
    {
     "name": "stderr",
     "output_type": "stream",
     "text": [
      "\u001b[32m[I 2022-10-15 18:28:21,247]\u001b[0m Trial 5 finished with value: 3.3852624715971666 and parameters: {'n_estimators': 151, 'max_depth': 401, 'min_samples_split': 17, 'max_features': 'sqrt', 'min_samples_leaf': 11}. Best is trial 5 with value: 3.3852624715971666.\u001b[0m\n"
     ]
    },
    {
     "name": "stdout",
     "output_type": "stream",
     "text": [
      "complete! average cv RMSE: 3.3852624715971666\n",
      "18:28:21 | Running Optuna Trial: 6\n",
      "with hyperparameters: {'n_estimators': 201, 'max_depth': 276, 'min_samples_split': 4, 'max_features': 'sqrt', 'min_samples_leaf': 11, 'random_state': 760, 'n_jobs': -1}\n"
     ]
    },
    {
     "name": "stderr",
     "output_type": "stream",
     "text": [
      "\u001b[32m[I 2022-10-15 18:28:23,299]\u001b[0m Trial 6 finished with value: 3.3843212005915317 and parameters: {'n_estimators': 201, 'max_depth': 276, 'min_samples_split': 4, 'max_features': 'sqrt', 'min_samples_leaf': 11}. Best is trial 6 with value: 3.3843212005915317.\u001b[0m\n"
     ]
    },
    {
     "name": "stdout",
     "output_type": "stream",
     "text": [
      "complete! average cv RMSE: 3.3843212005915317\n",
      "18:28:23 | Running Optuna Trial: 7\n",
      "with hyperparameters: {'n_estimators': 126, 'max_depth': 401, 'min_samples_split': 7, 'max_features': 'log2', 'min_samples_leaf': 12, 'random_state': 760, 'n_jobs': -1}\n"
     ]
    },
    {
     "name": "stderr",
     "output_type": "stream",
     "text": [
      "\u001b[32m[I 2022-10-15 18:28:24,670]\u001b[0m Trial 7 finished with value: 3.3896524870914186 and parameters: {'n_estimators': 126, 'max_depth': 401, 'min_samples_split': 7, 'max_features': 'log2', 'min_samples_leaf': 12}. Best is trial 6 with value: 3.3843212005915317.\u001b[0m\n"
     ]
    },
    {
     "name": "stdout",
     "output_type": "stream",
     "text": [
      "complete! average cv RMSE: 3.3896524870914186\n",
      "18:28:24 | Running Optuna Trial: 8\n",
      "with hyperparameters: {'n_estimators': 476, 'max_depth': 476, 'min_samples_split': 10, 'max_features': 'log2', 'min_samples_leaf': 13, 'random_state': 760, 'n_jobs': -1}\n"
     ]
    },
    {
     "name": "stderr",
     "output_type": "stream",
     "text": [
      "\u001b[32m[I 2022-10-15 18:28:29,262]\u001b[0m Trial 8 finished with value: 3.384415683260781 and parameters: {'n_estimators': 476, 'max_depth': 476, 'min_samples_split': 10, 'max_features': 'log2', 'min_samples_leaf': 13}. Best is trial 6 with value: 3.3843212005915317.\u001b[0m\n"
     ]
    },
    {
     "name": "stdout",
     "output_type": "stream",
     "text": [
      "complete! average cv RMSE: 3.384415683260781\n",
      "18:28:29 | Running Optuna Trial: 9\n",
      "with hyperparameters: {'n_estimators': 301, 'max_depth': 251, 'min_samples_split': 15, 'max_features': 'log2', 'min_samples_leaf': 2, 'random_state': 760, 'n_jobs': -1}\n"
     ]
    },
    {
     "name": "stderr",
     "output_type": "stream",
     "text": [
      "\u001b[32m[I 2022-10-15 18:28:32,530]\u001b[0m Trial 9 finished with value: 3.395873489610706 and parameters: {'n_estimators': 301, 'max_depth': 251, 'min_samples_split': 15, 'max_features': 'log2', 'min_samples_leaf': 2}. Best is trial 6 with value: 3.3843212005915317.\u001b[0m\n"
     ]
    },
    {
     "name": "stdout",
     "output_type": "stream",
     "text": [
      "complete! average cv RMSE: 3.395873489610706\n",
      "18:28:32 | Running Optuna Trial: 10\n",
      "with hyperparameters: {'n_estimators': 376, 'max_depth': 201, 'min_samples_split': 2, 'max_features': 'sqrt', 'min_samples_leaf': 6, 'random_state': 760, 'n_jobs': -1}\n"
     ]
    },
    {
     "name": "stderr",
     "output_type": "stream",
     "text": [
      "\u001b[32m[I 2022-10-15 18:28:36,515]\u001b[0m Trial 10 finished with value: 3.3861292628936646 and parameters: {'n_estimators': 376, 'max_depth': 201, 'min_samples_split': 2, 'max_features': 'sqrt', 'min_samples_leaf': 6}. Best is trial 6 with value: 3.3843212005915317.\u001b[0m\n"
     ]
    },
    {
     "name": "stdout",
     "output_type": "stream",
     "text": [
      "complete! average cv RMSE: 3.3861292628936646\n",
      "18:28:36 | Running Optuna Trial: 11\n",
      "with hyperparameters: {'n_estimators': 401, 'max_depth': 276, 'min_samples_split': 9, 'max_features': 'sqrt', 'min_samples_leaf': 8, 'random_state': 760, 'n_jobs': -1}\n"
     ]
    },
    {
     "name": "stderr",
     "output_type": "stream",
     "text": [
      "\u001b[32m[I 2022-10-15 18:28:40,658]\u001b[0m Trial 11 finished with value: 3.385580233423879 and parameters: {'n_estimators': 401, 'max_depth': 276, 'min_samples_split': 9, 'max_features': 'sqrt', 'min_samples_leaf': 8}. Best is trial 6 with value: 3.3843212005915317.\u001b[0m\n"
     ]
    },
    {
     "name": "stdout",
     "output_type": "stream",
     "text": [
      "complete! average cv RMSE: 3.385580233423879\n",
      "18:28:40 | Running Optuna Trial: 12\n",
      "with hyperparameters: {'n_estimators': 426, 'max_depth': 476, 'min_samples_split': 2, 'max_features': 'log2', 'min_samples_leaf': 15, 'random_state': 760, 'n_jobs': -1}\n"
     ]
    },
    {
     "name": "stderr",
     "output_type": "stream",
     "text": [
      "\u001b[32m[I 2022-10-15 18:28:44,835]\u001b[0m Trial 12 finished with value: 3.3860736424308917 and parameters: {'n_estimators': 426, 'max_depth': 476, 'min_samples_split': 2, 'max_features': 'log2', 'min_samples_leaf': 15}. Best is trial 6 with value: 3.3843212005915317.\u001b[0m\n"
     ]
    },
    {
     "name": "stdout",
     "output_type": "stream",
     "text": [
      "complete! average cv RMSE: 3.3860736424308917\n",
      "18:28:44 | Running Optuna Trial: 13\n",
      "with hyperparameters: {'n_estimators': 476, 'max_depth': 1, 'min_samples_split': 6, 'max_features': 'sqrt', 'min_samples_leaf': 10, 'random_state': 760, 'n_jobs': -1}\n"
     ]
    },
    {
     "name": "stderr",
     "output_type": "stream",
     "text": [
      "\u001b[32m[I 2022-10-15 18:28:46,721]\u001b[0m Trial 13 finished with value: 3.572609735399406 and parameters: {'n_estimators': 476, 'max_depth': 1, 'min_samples_split': 6, 'max_features': 'sqrt', 'min_samples_leaf': 10}. Best is trial 6 with value: 3.3843212005915317.\u001b[0m\n",
      "\u001b[32m[I 2022-10-15 18:28:46,808]\u001b[0m Trial 14 finished with value: 4.0290931935377285 and parameters: {'n_estimators': 1, 'max_depth': 201, 'min_samples_split': 10, 'max_features': 'log2', 'min_samples_leaf': 3}. Best is trial 6 with value: 3.3843212005915317.\u001b[0m\n"
     ]
    },
    {
     "name": "stdout",
     "output_type": "stream",
     "text": [
      "complete! average cv RMSE: 3.572609735399406\n",
      "18:28:46 | Running Optuna Trial: 14\n",
      "with hyperparameters: {'n_estimators': 1, 'max_depth': 201, 'min_samples_split': 10, 'max_features': 'log2', 'min_samples_leaf': 3, 'random_state': 760, 'n_jobs': -1}\n",
      "complete! average cv RMSE: 4.0290931935377285\n",
      "18:28:46 | Running Optuna Trial: 15\n",
      "with hyperparameters: {'n_estimators': 326, 'max_depth': 126, 'min_samples_split': 4, 'max_features': 'sqrt', 'min_samples_leaf': 16, 'random_state': 760, 'n_jobs': -1}\n"
     ]
    },
    {
     "name": "stderr",
     "output_type": "stream",
     "text": [
      "\u001b[32m[I 2022-10-15 18:28:50,060]\u001b[0m Trial 15 finished with value: 3.386587626347095 and parameters: {'n_estimators': 326, 'max_depth': 126, 'min_samples_split': 4, 'max_features': 'sqrt', 'min_samples_leaf': 16}. Best is trial 6 with value: 3.3843212005915317.\u001b[0m\n"
     ]
    },
    {
     "name": "stdout",
     "output_type": "stream",
     "text": [
      "complete! average cv RMSE: 3.386587626347095\n",
      "18:28:50 | Running Optuna Trial: 16\n",
      "with hyperparameters: {'n_estimators': 226, 'max_depth': 326, 'min_samples_split': 8, 'max_features': 'sqrt', 'min_samples_leaf': 9, 'random_state': 760, 'n_jobs': -1}\n"
     ]
    },
    {
     "name": "stderr",
     "output_type": "stream",
     "text": [
      "\u001b[32m[I 2022-10-15 18:28:52,529]\u001b[0m Trial 16 finished with value: 3.3868727504692204 and parameters: {'n_estimators': 226, 'max_depth': 326, 'min_samples_split': 8, 'max_features': 'sqrt', 'min_samples_leaf': 9}. Best is trial 6 with value: 3.3843212005915317.\u001b[0m\n"
     ]
    },
    {
     "name": "stdout",
     "output_type": "stream",
     "text": [
      "complete! average cv RMSE: 3.3868727504692204\n",
      "18:28:52 | Running Optuna Trial: 17\n",
      "with hyperparameters: {'n_estimators': 476, 'max_depth': 301, 'min_samples_split': 13, 'max_features': 'log2', 'min_samples_leaf': 5, 'random_state': 760, 'n_jobs': -1}\n"
     ]
    },
    {
     "name": "stderr",
     "output_type": "stream",
     "text": [
      "\u001b[32m[I 2022-10-15 18:28:57,866]\u001b[0m Trial 17 finished with value: 3.3852579212580842 and parameters: {'n_estimators': 476, 'max_depth': 301, 'min_samples_split': 13, 'max_features': 'log2', 'min_samples_leaf': 5}. Best is trial 6 with value: 3.3843212005915317.\u001b[0m\n"
     ]
    },
    {
     "name": "stdout",
     "output_type": "stream",
     "text": [
      "complete! average cv RMSE: 3.3852579212580842\n",
      "18:28:57 | Running Optuna Trial: 18\n",
      "with hyperparameters: {'n_estimators': 351, 'max_depth': 151, 'min_samples_split': 12, 'max_features': 'log2', 'min_samples_leaf': 12, 'random_state': 760, 'n_jobs': -1}\n"
     ]
    },
    {
     "name": "stderr",
     "output_type": "stream",
     "text": [
      "\u001b[32m[I 2022-10-15 18:29:01,385]\u001b[0m Trial 18 finished with value: 3.386174437603605 and parameters: {'n_estimators': 351, 'max_depth': 151, 'min_samples_split': 12, 'max_features': 'log2', 'min_samples_leaf': 12}. Best is trial 6 with value: 3.3843212005915317.\u001b[0m\n"
     ]
    },
    {
     "name": "stdout",
     "output_type": "stream",
     "text": [
      "complete! average cv RMSE: 3.386174437603605\n",
      "18:29:01 | Running Optuna Trial: 19\n",
      "with hyperparameters: {'n_estimators': 251, 'max_depth': 426, 'min_samples_split': 4, 'max_features': 'sqrt', 'min_samples_leaf': 17, 'random_state': 760, 'n_jobs': -1}\n"
     ]
    },
    {
     "name": "stderr",
     "output_type": "stream",
     "text": [
      "\u001b[32m[I 2022-10-15 18:29:03,967]\u001b[0m Trial 19 finished with value: 3.3858257854087292 and parameters: {'n_estimators': 251, 'max_depth': 426, 'min_samples_split': 4, 'max_features': 'sqrt', 'min_samples_leaf': 17}. Best is trial 6 with value: 3.3843212005915317.\u001b[0m\n"
     ]
    },
    {
     "name": "stdout",
     "output_type": "stream",
     "text": [
      "complete! average cv RMSE: 3.3858257854087292\n",
      "18:29:03 | Running Optuna Trial: 20\n",
      "with hyperparameters: {'n_estimators': 176, 'max_depth': 351, 'min_samples_split': 18, 'max_features': 'log2', 'min_samples_leaf': 13, 'random_state': 760, 'n_jobs': -1}\n"
     ]
    },
    {
     "name": "stderr",
     "output_type": "stream",
     "text": [
      "\u001b[32m[I 2022-10-15 18:29:05,756]\u001b[0m Trial 20 finished with value: 3.384119722298317 and parameters: {'n_estimators': 176, 'max_depth': 351, 'min_samples_split': 18, 'max_features': 'log2', 'min_samples_leaf': 13}. Best is trial 20 with value: 3.384119722298317.\u001b[0m\n"
     ]
    },
    {
     "name": "stdout",
     "output_type": "stream",
     "text": [
      "complete! average cv RMSE: 3.384119722298317\n",
      "18:29:05 | Running Optuna Trial: 21\n",
      "with hyperparameters: {'n_estimators': 201, 'max_depth': 376, 'min_samples_split': 20, 'max_features': 'log2', 'min_samples_leaf': 13, 'random_state': 760, 'n_jobs': -1}\n"
     ]
    },
    {
     "name": "stderr",
     "output_type": "stream",
     "text": [
      "\u001b[32m[I 2022-10-15 18:29:07,810]\u001b[0m Trial 21 finished with value: 3.3845437573322137 and parameters: {'n_estimators': 201, 'max_depth': 376, 'min_samples_split': 20, 'max_features': 'log2', 'min_samples_leaf': 13}. Best is trial 20 with value: 3.384119722298317.\u001b[0m\n"
     ]
    },
    {
     "name": "stdout",
     "output_type": "stream",
     "text": [
      "complete! average cv RMSE: 3.3845437573322137\n",
      "18:29:07 | Running Optuna Trial: 22\n",
      "with hyperparameters: {'n_estimators': 176, 'max_depth': 351, 'min_samples_split': 17, 'max_features': 'log2', 'min_samples_leaf': 10, 'random_state': 760, 'n_jobs': -1}\n"
     ]
    },
    {
     "name": "stderr",
     "output_type": "stream",
     "text": [
      "\u001b[32m[I 2022-10-15 18:29:09,745]\u001b[0m Trial 22 finished with value: 3.3875876572498074 and parameters: {'n_estimators': 176, 'max_depth': 351, 'min_samples_split': 17, 'max_features': 'log2', 'min_samples_leaf': 10}. Best is trial 20 with value: 3.384119722298317.\u001b[0m\n"
     ]
    },
    {
     "name": "stdout",
     "output_type": "stream",
     "text": [
      "complete! average cv RMSE: 3.3875876572498074\n",
      "18:29:09 | Running Optuna Trial: 23\n",
      "with hyperparameters: {'n_estimators': 251, 'max_depth': 476, 'min_samples_split': 18, 'max_features': 'log2', 'min_samples_leaf': 16, 'random_state': 760, 'n_jobs': -1}\n"
     ]
    },
    {
     "name": "stderr",
     "output_type": "stream",
     "text": [
      "\u001b[32m[I 2022-10-15 18:29:12,248]\u001b[0m Trial 23 finished with value: 3.3865875119782687 and parameters: {'n_estimators': 251, 'max_depth': 476, 'min_samples_split': 18, 'max_features': 'log2', 'min_samples_leaf': 16}. Best is trial 20 with value: 3.384119722298317.\u001b[0m\n"
     ]
    },
    {
     "name": "stdout",
     "output_type": "stream",
     "text": [
      "complete! average cv RMSE: 3.3865875119782687\n",
      "18:29:12 | Running Optuna Trial: 24\n",
      "with hyperparameters: {'n_estimators': 126, 'max_depth': 251, 'min_samples_split': 9, 'max_features': 'log2', 'min_samples_leaf': 12, 'random_state': 760, 'n_jobs': -1}\n"
     ]
    },
    {
     "name": "stderr",
     "output_type": "stream",
     "text": [
      "\u001b[32m[I 2022-10-15 18:29:13,621]\u001b[0m Trial 24 finished with value: 3.3896524870914186 and parameters: {'n_estimators': 126, 'max_depth': 251, 'min_samples_split': 9, 'max_features': 'log2', 'min_samples_leaf': 12}. Best is trial 20 with value: 3.384119722298317.\u001b[0m\n"
     ]
    },
    {
     "name": "stdout",
     "output_type": "stream",
     "text": [
      "complete! average cv RMSE: 3.3896524870914186\n",
      "18:29:13 | Running Optuna Trial: 25\n",
      "with hyperparameters: {'n_estimators': 301, 'max_depth': 201, 'min_samples_split': 11, 'max_features': 'log2', 'min_samples_leaf': 14, 'random_state': 760, 'n_jobs': -1}\n"
     ]
    },
    {
     "name": "stderr",
     "output_type": "stream",
     "text": [
      "\u001b[32m[I 2022-10-15 18:29:16,437]\u001b[0m Trial 25 finished with value: 3.386110610995496 and parameters: {'n_estimators': 301, 'max_depth': 201, 'min_samples_split': 11, 'max_features': 'log2', 'min_samples_leaf': 14}. Best is trial 20 with value: 3.384119722298317.\u001b[0m\n"
     ]
    },
    {
     "name": "stdout",
     "output_type": "stream",
     "text": [
      "complete! average cv RMSE: 3.386110610995496\n",
      "18:29:16 | Running Optuna Trial: 26\n",
      "with hyperparameters: {'n_estimators': 51, 'max_depth': 301, 'min_samples_split': 7, 'max_features': 'sqrt', 'min_samples_leaf': 20, 'random_state': 760, 'n_jobs': -1}\n"
     ]
    },
    {
     "name": "stderr",
     "output_type": "stream",
     "text": [
      "\u001b[32m[I 2022-10-15 18:29:17,116]\u001b[0m Trial 26 finished with value: 3.3978076015152263 and parameters: {'n_estimators': 51, 'max_depth': 301, 'min_samples_split': 7, 'max_features': 'sqrt', 'min_samples_leaf': 20}. Best is trial 20 with value: 3.384119722298317.\u001b[0m\n"
     ]
    },
    {
     "name": "stdout",
     "output_type": "stream",
     "text": [
      "complete! average cv RMSE: 3.3978076015152263\n",
      "18:29:17 | Running Optuna Trial: 27\n",
      "with hyperparameters: {'n_estimators': 176, 'max_depth': 426, 'min_samples_split': 13, 'max_features': 'log2', 'min_samples_leaf': 9, 'random_state': 760, 'n_jobs': -1}\n"
     ]
    },
    {
     "name": "stderr",
     "output_type": "stream",
     "text": [
      "\u001b[32m[I 2022-10-15 18:29:19,091]\u001b[0m Trial 27 finished with value: 3.3879360528113986 and parameters: {'n_estimators': 176, 'max_depth': 426, 'min_samples_split': 13, 'max_features': 'log2', 'min_samples_leaf': 9}. Best is trial 20 with value: 3.384119722298317.\u001b[0m\n"
     ]
    },
    {
     "name": "stdout",
     "output_type": "stream",
     "text": [
      "complete! average cv RMSE: 3.3879360528113986\n",
      "18:29:19 | Running Optuna Trial: 28\n",
      "with hyperparameters: {'n_estimators': 226, 'max_depth': 351, 'min_samples_split': 18, 'max_features': 'sqrt', 'min_samples_leaf': 11, 'random_state': 760, 'n_jobs': -1}\n"
     ]
    },
    {
     "name": "stderr",
     "output_type": "stream",
     "text": [
      "\u001b[32m[I 2022-10-15 18:29:21,500]\u001b[0m Trial 28 finished with value: 3.3835577892837643 and parameters: {'n_estimators': 226, 'max_depth': 351, 'min_samples_split': 18, 'max_features': 'sqrt', 'min_samples_leaf': 11}. Best is trial 28 with value: 3.3835577892837643.\u001b[0m\n"
     ]
    },
    {
     "name": "stdout",
     "output_type": "stream",
     "text": [
      "complete! average cv RMSE: 3.3835577892837643\n",
      "18:29:21 | Running Optuna Trial: 29\n",
      "with hyperparameters: {'n_estimators': 226, 'max_depth': 351, 'min_samples_split': 18, 'max_features': 'sqrt', 'min_samples_leaf': 5, 'random_state': 760, 'n_jobs': -1}\n"
     ]
    },
    {
     "name": "stderr",
     "output_type": "stream",
     "text": [
      "\u001b[32m[I 2022-10-15 18:29:24,007]\u001b[0m Trial 29 finished with value: 3.389404624816894 and parameters: {'n_estimators': 226, 'max_depth': 351, 'min_samples_split': 18, 'max_features': 'sqrt', 'min_samples_leaf': 5}. Best is trial 28 with value: 3.3835577892837643.\u001b[0m\n"
     ]
    },
    {
     "name": "stdout",
     "output_type": "stream",
     "text": [
      "complete! average cv RMSE: 3.389404624816894\n",
      "18:29:24 | Running Optuna Trial: 30\n",
      "with hyperparameters: {'n_estimators': 76, 'max_depth': 276, 'min_samples_split': 16, 'max_features': 'sqrt', 'min_samples_leaf': 11, 'random_state': 760, 'n_jobs': -1}\n"
     ]
    },
    {
     "name": "stderr",
     "output_type": "stream",
     "text": [
      "\u001b[32m[I 2022-10-15 18:29:24,973]\u001b[0m Trial 30 finished with value: 3.38711865090428 and parameters: {'n_estimators': 76, 'max_depth': 276, 'min_samples_split': 16, 'max_features': 'sqrt', 'min_samples_leaf': 11}. Best is trial 28 with value: 3.3835577892837643.\u001b[0m\n"
     ]
    },
    {
     "name": "stdout",
     "output_type": "stream",
     "text": [
      "complete! average cv RMSE: 3.38711865090428\n",
      "18:29:24 | Running Optuna Trial: 31\n",
      "with hyperparameters: {'n_estimators': 176, 'max_depth': 351, 'min_samples_split': 19, 'max_features': 'sqrt', 'min_samples_leaf': 13, 'random_state': 760, 'n_jobs': -1}\n"
     ]
    },
    {
     "name": "stderr",
     "output_type": "stream",
     "text": [
      "\u001b[32m[I 2022-10-15 18:29:26,887]\u001b[0m Trial 31 finished with value: 3.384119722298317 and parameters: {'n_estimators': 176, 'max_depth': 351, 'min_samples_split': 19, 'max_features': 'sqrt', 'min_samples_leaf': 13}. Best is trial 28 with value: 3.3835577892837643.\u001b[0m\n"
     ]
    },
    {
     "name": "stdout",
     "output_type": "stream",
     "text": [
      "complete! average cv RMSE: 3.384119722298317\n",
      "18:29:26 | Running Optuna Trial: 32\n",
      "with hyperparameters: {'n_estimators': 176, 'max_depth': 326, 'min_samples_split': 19, 'max_features': 'sqrt', 'min_samples_leaf': 13, 'random_state': 760, 'n_jobs': -1}\n"
     ]
    },
    {
     "name": "stderr",
     "output_type": "stream",
     "text": [
      "\u001b[32m[I 2022-10-15 18:29:28,764]\u001b[0m Trial 32 finished with value: 3.384119722298317 and parameters: {'n_estimators': 176, 'max_depth': 326, 'min_samples_split': 19, 'max_features': 'sqrt', 'min_samples_leaf': 13}. Best is trial 28 with value: 3.3835577892837643.\u001b[0m\n"
     ]
    },
    {
     "name": "stdout",
     "output_type": "stream",
     "text": [
      "complete! average cv RMSE: 3.384119722298317\n",
      "18:29:28 | Running Optuna Trial: 33\n",
      "with hyperparameters: {'n_estimators': 76, 'max_depth': 351, 'min_samples_split': 19, 'max_features': 'sqrt', 'min_samples_leaf': 15, 'random_state': 760, 'n_jobs': -1}\n"
     ]
    },
    {
     "name": "stderr",
     "output_type": "stream",
     "text": [
      "\u001b[32m[I 2022-10-15 18:29:29,713]\u001b[0m Trial 33 finished with value: 3.39039449812431 and parameters: {'n_estimators': 76, 'max_depth': 351, 'min_samples_split': 19, 'max_features': 'sqrt', 'min_samples_leaf': 15}. Best is trial 28 with value: 3.3835577892837643.\u001b[0m\n"
     ]
    },
    {
     "name": "stdout",
     "output_type": "stream",
     "text": [
      "complete! average cv RMSE: 3.39039449812431\n",
      "18:29:29 | Running Optuna Trial: 34\n",
      "with hyperparameters: {'n_estimators': 151, 'max_depth': 326, 'min_samples_split': 20, 'max_features': 'sqrt', 'min_samples_leaf': 18, 'random_state': 760, 'n_jobs': -1}\n"
     ]
    },
    {
     "name": "stderr",
     "output_type": "stream",
     "text": [
      "\u001b[32m[I 2022-10-15 18:29:31,275]\u001b[0m Trial 34 finished with value: 3.386972386865021 and parameters: {'n_estimators': 151, 'max_depth': 326, 'min_samples_split': 20, 'max_features': 'sqrt', 'min_samples_leaf': 18}. Best is trial 28 with value: 3.3835577892837643.\u001b[0m\n"
     ]
    },
    {
     "name": "stdout",
     "output_type": "stream",
     "text": [
      "complete! average cv RMSE: 3.386972386865021\n",
      "18:29:31 | Running Optuna Trial: 35\n",
      "with hyperparameters: {'n_estimators': 101, 'max_depth': 376, 'min_samples_split': 18, 'max_features': 'sqrt', 'min_samples_leaf': 13, 'random_state': 760, 'n_jobs': -1}\n"
     ]
    },
    {
     "name": "stderr",
     "output_type": "stream",
     "text": [
      "\u001b[32m[I 2022-10-15 18:29:32,489]\u001b[0m Trial 35 finished with value: 3.3837863263064754 and parameters: {'n_estimators': 101, 'max_depth': 376, 'min_samples_split': 18, 'max_features': 'sqrt', 'min_samples_leaf': 13}. Best is trial 28 with value: 3.3835577892837643.\u001b[0m\n"
     ]
    },
    {
     "name": "stdout",
     "output_type": "stream",
     "text": [
      "complete! average cv RMSE: 3.3837863263064754\n",
      "18:29:32 | Running Optuna Trial: 36\n",
      "with hyperparameters: {'n_estimators': 101, 'max_depth': 401, 'min_samples_split': 16, 'max_features': 'sqrt', 'min_samples_leaf': 15, 'random_state': 760, 'n_jobs': -1}\n"
     ]
    },
    {
     "name": "stderr",
     "output_type": "stream",
     "text": [
      "\u001b[32m[I 2022-10-15 18:29:33,599]\u001b[0m Trial 36 finished with value: 3.3890672565431075 and parameters: {'n_estimators': 101, 'max_depth': 401, 'min_samples_split': 16, 'max_features': 'sqrt', 'min_samples_leaf': 15}. Best is trial 28 with value: 3.3835577892837643.\u001b[0m\n",
      "\u001b[32m[I 2022-10-15 18:29:33,707]\u001b[0m Trial 37 finished with value: 3.7827793918102763 and parameters: {'n_estimators': 1, 'max_depth': 426, 'min_samples_split': 18, 'max_features': 'sqrt', 'min_samples_leaf': 9}. Best is trial 28 with value: 3.3835577892837643.\u001b[0m\n"
     ]
    },
    {
     "name": "stdout",
     "output_type": "stream",
     "text": [
      "complete! average cv RMSE: 3.3890672565431075\n",
      "18:29:33 | Running Optuna Trial: 37\n",
      "with hyperparameters: {'n_estimators': 1, 'max_depth': 426, 'min_samples_split': 18, 'max_features': 'sqrt', 'min_samples_leaf': 9, 'random_state': 760, 'n_jobs': -1}\n",
      "complete! average cv RMSE: 3.7827793918102763\n",
      "18:29:33 | Running Optuna Trial: 38\n",
      "with hyperparameters: {'n_estimators': 101, 'max_depth': 376, 'min_samples_split': 19, 'max_features': 'sqrt', 'min_samples_leaf': 14, 'random_state': 760, 'n_jobs': -1}\n"
     ]
    },
    {
     "name": "stderr",
     "output_type": "stream",
     "text": [
      "\u001b[32m[I 2022-10-15 18:29:34,819]\u001b[0m Trial 38 finished with value: 3.387375552308245 and parameters: {'n_estimators': 101, 'max_depth': 376, 'min_samples_split': 19, 'max_features': 'sqrt', 'min_samples_leaf': 14}. Best is trial 28 with value: 3.3835577892837643.\u001b[0m\n"
     ]
    },
    {
     "name": "stdout",
     "output_type": "stream",
     "text": [
      "complete! average cv RMSE: 3.387375552308245\n",
      "18:29:34 | Running Optuna Trial: 39\n",
      "with hyperparameters: {'n_estimators': 151, 'max_depth': 301, 'min_samples_split': 15, 'max_features': 'sqrt', 'min_samples_leaf': 12, 'random_state': 760, 'n_jobs': -1}\n"
     ]
    },
    {
     "name": "stderr",
     "output_type": "stream",
     "text": [
      "\u001b[32m[I 2022-10-15 18:29:36,463]\u001b[0m Trial 39 finished with value: 3.3891987126874534 and parameters: {'n_estimators': 151, 'max_depth': 301, 'min_samples_split': 15, 'max_features': 'sqrt', 'min_samples_leaf': 12}. Best is trial 28 with value: 3.3835577892837643.\u001b[0m\n"
     ]
    },
    {
     "name": "stdout",
     "output_type": "stream",
     "text": [
      "complete! average cv RMSE: 3.3891987126874534\n",
      "18:29:36 | Running Optuna Trial: 40\n",
      "with hyperparameters: {'n_estimators': 276, 'max_depth': 401, 'min_samples_split': 17, 'max_features': 'sqrt', 'min_samples_leaf': 17, 'random_state': 760, 'n_jobs': -1}\n"
     ]
    },
    {
     "name": "stderr",
     "output_type": "stream",
     "text": [
      "\u001b[32m[I 2022-10-15 18:29:39,116]\u001b[0m Trial 40 finished with value: 3.3868035371001546 and parameters: {'n_estimators': 276, 'max_depth': 401, 'min_samples_split': 17, 'max_features': 'sqrt', 'min_samples_leaf': 17}. Best is trial 28 with value: 3.3835577892837643.\u001b[0m\n"
     ]
    },
    {
     "name": "stdout",
     "output_type": "stream",
     "text": [
      "complete! average cv RMSE: 3.3868035371001546\n",
      "18:29:39 | Running Optuna Trial: 41\n",
      "with hyperparameters: {'n_estimators': 176, 'max_depth': 326, 'min_samples_split': 19, 'max_features': 'sqrt', 'min_samples_leaf': 14, 'random_state': 760, 'n_jobs': -1}\n"
     ]
    },
    {
     "name": "stderr",
     "output_type": "stream",
     "text": [
      "\u001b[32m[I 2022-10-15 18:29:40,979]\u001b[0m Trial 41 finished with value: 3.386041353878113 and parameters: {'n_estimators': 176, 'max_depth': 326, 'min_samples_split': 19, 'max_features': 'sqrt', 'min_samples_leaf': 14}. Best is trial 28 with value: 3.3835577892837643.\u001b[0m\n"
     ]
    },
    {
     "name": "stdout",
     "output_type": "stream",
     "text": [
      "complete! average cv RMSE: 3.386041353878113\n",
      "18:29:40 | Running Optuna Trial: 42\n",
      "with hyperparameters: {'n_estimators': 201, 'max_depth': 351, 'min_samples_split': 20, 'max_features': 'sqrt', 'min_samples_leaf': 13, 'random_state': 760, 'n_jobs': -1}\n"
     ]
    },
    {
     "name": "stderr",
     "output_type": "stream",
     "text": [
      "\u001b[32m[I 2022-10-15 18:29:43,040]\u001b[0m Trial 42 finished with value: 3.3845437573322137 and parameters: {'n_estimators': 201, 'max_depth': 351, 'min_samples_split': 20, 'max_features': 'sqrt', 'min_samples_leaf': 13}. Best is trial 28 with value: 3.3835577892837643.\u001b[0m\n"
     ]
    },
    {
     "name": "stdout",
     "output_type": "stream",
     "text": [
      "complete! average cv RMSE: 3.3845437573322137\n",
      "18:29:43 | Running Optuna Trial: 43\n",
      "with hyperparameters: {'n_estimators': 126, 'max_depth': 376, 'min_samples_split': 16, 'max_features': 'sqrt', 'min_samples_leaf': 11, 'random_state': 760, 'n_jobs': -1}\n"
     ]
    },
    {
     "name": "stderr",
     "output_type": "stream",
     "text": [
      "\u001b[32m[I 2022-10-15 18:29:44,491]\u001b[0m Trial 43 finished with value: 3.385808304585498 and parameters: {'n_estimators': 126, 'max_depth': 376, 'min_samples_split': 16, 'max_features': 'sqrt', 'min_samples_leaf': 11}. Best is trial 28 with value: 3.3835577892837643.\u001b[0m\n"
     ]
    },
    {
     "name": "stdout",
     "output_type": "stream",
     "text": [
      "complete! average cv RMSE: 3.385808304585498\n",
      "18:29:44 | Running Optuna Trial: 44\n",
      "with hyperparameters: {'n_estimators': 226, 'max_depth': 451, 'min_samples_split': 17, 'max_features': 'sqrt', 'min_samples_leaf': 13, 'random_state': 760, 'n_jobs': -1}\n"
     ]
    },
    {
     "name": "stderr",
     "output_type": "stream",
     "text": [
      "\u001b[32m[I 2022-10-15 18:29:46,682]\u001b[0m Trial 44 finished with value: 3.3838944596318776 and parameters: {'n_estimators': 226, 'max_depth': 451, 'min_samples_split': 17, 'max_features': 'sqrt', 'min_samples_leaf': 13}. Best is trial 28 with value: 3.3835577892837643.\u001b[0m\n"
     ]
    },
    {
     "name": "stdout",
     "output_type": "stream",
     "text": [
      "complete! average cv RMSE: 3.3838944596318776\n",
      "18:29:46 | Running Optuna Trial: 45\n",
      "with hyperparameters: {'n_estimators': 226, 'max_depth': 451, 'min_samples_split': 19, 'max_features': 'sqrt', 'min_samples_leaf': 13, 'random_state': 760, 'n_jobs': -1}\n"
     ]
    },
    {
     "name": "stderr",
     "output_type": "stream",
     "text": [
      "\u001b[32m[I 2022-10-15 18:29:48,962]\u001b[0m Trial 45 finished with value: 3.3838944596318776 and parameters: {'n_estimators': 226, 'max_depth': 451, 'min_samples_split': 19, 'max_features': 'sqrt', 'min_samples_leaf': 13}. Best is trial 28 with value: 3.3835577892837643.\u001b[0m\n"
     ]
    },
    {
     "name": "stdout",
     "output_type": "stream",
     "text": [
      "complete! average cv RMSE: 3.3838944596318776\n",
      "18:29:48 | Running Optuna Trial: 46\n",
      "with hyperparameters: {'n_estimators': 276, 'max_depth': 451, 'min_samples_split': 14, 'max_features': 'sqrt', 'min_samples_leaf': 11, 'random_state': 760, 'n_jobs': -1}\n"
     ]
    },
    {
     "name": "stderr",
     "output_type": "stream",
     "text": [
      "\u001b[32m[I 2022-10-15 18:29:51,887]\u001b[0m Trial 46 finished with value: 3.3845473768126526 and parameters: {'n_estimators': 276, 'max_depth': 451, 'min_samples_split': 14, 'max_features': 'sqrt', 'min_samples_leaf': 11}. Best is trial 28 with value: 3.3835577892837643.\u001b[0m\n"
     ]
    },
    {
     "name": "stdout",
     "output_type": "stream",
     "text": [
      "complete! average cv RMSE: 3.3845473768126526\n",
      "18:29:51 | Running Optuna Trial: 47\n",
      "with hyperparameters: {'n_estimators': 226, 'max_depth': 451, 'min_samples_split': 17, 'max_features': 'sqrt', 'min_samples_leaf': 10, 'random_state': 760, 'n_jobs': -1}\n"
     ]
    },
    {
     "name": "stderr",
     "output_type": "stream",
     "text": [
      "\u001b[32m[I 2022-10-15 18:29:54,252]\u001b[0m Trial 47 finished with value: 3.3872527227326 and parameters: {'n_estimators': 226, 'max_depth': 451, 'min_samples_split': 17, 'max_features': 'sqrt', 'min_samples_leaf': 10}. Best is trial 28 with value: 3.3835577892837643.\u001b[0m\n"
     ]
    },
    {
     "name": "stdout",
     "output_type": "stream",
     "text": [
      "complete! average cv RMSE: 3.3872527227326\n",
      "18:29:54 | Running Optuna Trial: 48\n",
      "with hyperparameters: {'n_estimators': 251, 'max_depth': 451, 'min_samples_split': 18, 'max_features': 'sqrt', 'min_samples_leaf': 7, 'random_state': 760, 'n_jobs': -1}\n"
     ]
    },
    {
     "name": "stderr",
     "output_type": "stream",
     "text": [
      "\u001b[32m[I 2022-10-15 18:29:56,862]\u001b[0m Trial 48 finished with value: 3.385264276478375 and parameters: {'n_estimators': 251, 'max_depth': 451, 'min_samples_split': 18, 'max_features': 'sqrt', 'min_samples_leaf': 7}. Best is trial 28 with value: 3.3835577892837643.\u001b[0m\n"
     ]
    },
    {
     "name": "stdout",
     "output_type": "stream",
     "text": [
      "complete! average cv RMSE: 3.385264276478375\n",
      "==== EARLY STOPPING ACTIVATED ====\n"
     ]
    },
    {
     "name": "stderr",
     "output_type": "stream",
     "text": [
      "\u001b[32m[I 2022-10-15 18:29:57,561]\u001b[0m A new study created in memory with name: no-name-964c6c02-9bd1-4f66-a323-065f6129ac4a\u001b[0m\n"
     ]
    },
    {
     "name": "stdout",
     "output_type": "stream",
     "text": [
      "====== Running repetition: 4 ======\n",
      "18:29:57 | Running Optuna Trial: 0\n",
      "with hyperparameters: {'n_estimators': 51, 'max_depth': 51, 'min_samples_split': 5, 'max_features': 'log2', 'min_samples_leaf': 18, 'random_state': 760, 'n_jobs': -1}\n"
     ]
    },
    {
     "name": "stderr",
     "output_type": "stream",
     "text": [
      "\u001b[32m[I 2022-10-15 18:29:58,120]\u001b[0m Trial 0 finished with value: 3.365620324539781 and parameters: {'n_estimators': 51, 'max_depth': 51, 'min_samples_split': 5, 'max_features': 'log2', 'min_samples_leaf': 18}. Best is trial 0 with value: 3.365620324539781.\u001b[0m\n"
     ]
    },
    {
     "name": "stdout",
     "output_type": "stream",
     "text": [
      "complete! average cv RMSE: 3.365620324539781\n",
      "18:29:58 | Running Optuna Trial: 1\n",
      "with hyperparameters: {'n_estimators': 76, 'max_depth': 451, 'min_samples_split': 14, 'max_features': 'sqrt', 'min_samples_leaf': 14, 'random_state': 760, 'n_jobs': -1}\n"
     ]
    },
    {
     "name": "stderr",
     "output_type": "stream",
     "text": [
      "\u001b[32m[I 2022-10-15 18:29:59,069]\u001b[0m Trial 1 finished with value: 3.365633920687098 and parameters: {'n_estimators': 76, 'max_depth': 451, 'min_samples_split': 14, 'max_features': 'sqrt', 'min_samples_leaf': 14}. Best is trial 0 with value: 3.365620324539781.\u001b[0m\n"
     ]
    },
    {
     "name": "stdout",
     "output_type": "stream",
     "text": [
      "complete! average cv RMSE: 3.365633920687098\n",
      "18:29:59 | Running Optuna Trial: 2\n",
      "with hyperparameters: {'n_estimators': 201, 'max_depth': 126, 'min_samples_split': 20, 'max_features': 'log2', 'min_samples_leaf': 14, 'random_state': 760, 'n_jobs': -1}\n"
     ]
    },
    {
     "name": "stderr",
     "output_type": "stream",
     "text": [
      "\u001b[32m[I 2022-10-15 18:30:01,021]\u001b[0m Trial 2 finished with value: 3.365557559890349 and parameters: {'n_estimators': 201, 'max_depth': 126, 'min_samples_split': 20, 'max_features': 'log2', 'min_samples_leaf': 14}. Best is trial 2 with value: 3.365557559890349.\u001b[0m\n"
     ]
    },
    {
     "name": "stdout",
     "output_type": "stream",
     "text": [
      "complete! average cv RMSE: 3.365557559890349\n",
      "18:30:01 | Running Optuna Trial: 3\n",
      "with hyperparameters: {'n_estimators': 126, 'max_depth': 326, 'min_samples_split': 11, 'max_features': 'sqrt', 'min_samples_leaf': 19, 'random_state': 760, 'n_jobs': -1}\n"
     ]
    },
    {
     "name": "stderr",
     "output_type": "stream",
     "text": [
      "\u001b[32m[I 2022-10-15 18:30:02,272]\u001b[0m Trial 3 finished with value: 3.369118771509657 and parameters: {'n_estimators': 126, 'max_depth': 326, 'min_samples_split': 11, 'max_features': 'sqrt', 'min_samples_leaf': 19}. Best is trial 2 with value: 3.365557559890349.\u001b[0m\n"
     ]
    },
    {
     "name": "stdout",
     "output_type": "stream",
     "text": [
      "complete! average cv RMSE: 3.369118771509657\n",
      "18:30:02 | Running Optuna Trial: 4\n",
      "with hyperparameters: {'n_estimators': 276, 'max_depth': 376, 'min_samples_split': 15, 'max_features': 'log2', 'min_samples_leaf': 7, 'random_state': 760, 'n_jobs': -1}\n"
     ]
    },
    {
     "name": "stderr",
     "output_type": "stream",
     "text": [
      "\u001b[32m[I 2022-10-15 18:30:05,376]\u001b[0m Trial 4 finished with value: 3.3628703509074027 and parameters: {'n_estimators': 276, 'max_depth': 376, 'min_samples_split': 15, 'max_features': 'log2', 'min_samples_leaf': 7}. Best is trial 4 with value: 3.3628703509074027.\u001b[0m\n"
     ]
    },
    {
     "name": "stdout",
     "output_type": "stream",
     "text": [
      "complete! average cv RMSE: 3.3628703509074027\n",
      "18:30:05 | Running Optuna Trial: 5\n",
      "with hyperparameters: {'n_estimators': 151, 'max_depth': 401, 'min_samples_split': 17, 'max_features': 'sqrt', 'min_samples_leaf': 11, 'random_state': 760, 'n_jobs': -1}\n"
     ]
    },
    {
     "name": "stderr",
     "output_type": "stream",
     "text": [
      "\u001b[32m[I 2022-10-15 18:30:06,971]\u001b[0m Trial 5 finished with value: 3.363853781834686 and parameters: {'n_estimators': 151, 'max_depth': 401, 'min_samples_split': 17, 'max_features': 'sqrt', 'min_samples_leaf': 11}. Best is trial 4 with value: 3.3628703509074027.\u001b[0m\n"
     ]
    },
    {
     "name": "stdout",
     "output_type": "stream",
     "text": [
      "complete! average cv RMSE: 3.363853781834686\n",
      "18:30:06 | Running Optuna Trial: 6\n",
      "with hyperparameters: {'n_estimators': 201, 'max_depth': 276, 'min_samples_split': 4, 'max_features': 'sqrt', 'min_samples_leaf': 11, 'random_state': 760, 'n_jobs': -1}\n"
     ]
    },
    {
     "name": "stderr",
     "output_type": "stream",
     "text": [
      "\u001b[32m[I 2022-10-15 18:30:09,076]\u001b[0m Trial 6 finished with value: 3.3633651271732887 and parameters: {'n_estimators': 201, 'max_depth': 276, 'min_samples_split': 4, 'max_features': 'sqrt', 'min_samples_leaf': 11}. Best is trial 4 with value: 3.3628703509074027.\u001b[0m\n"
     ]
    },
    {
     "name": "stdout",
     "output_type": "stream",
     "text": [
      "complete! average cv RMSE: 3.3633651271732887\n",
      "18:30:09 | Running Optuna Trial: 7\n",
      "with hyperparameters: {'n_estimators': 126, 'max_depth': 401, 'min_samples_split': 7, 'max_features': 'log2', 'min_samples_leaf': 12, 'random_state': 760, 'n_jobs': -1}\n"
     ]
    },
    {
     "name": "stderr",
     "output_type": "stream",
     "text": [
      "\u001b[32m[I 2022-10-15 18:30:10,403]\u001b[0m Trial 7 finished with value: 3.3660847661807565 and parameters: {'n_estimators': 126, 'max_depth': 401, 'min_samples_split': 7, 'max_features': 'log2', 'min_samples_leaf': 12}. Best is trial 4 with value: 3.3628703509074027.\u001b[0m\n"
     ]
    },
    {
     "name": "stdout",
     "output_type": "stream",
     "text": [
      "complete! average cv RMSE: 3.3660847661807565\n",
      "18:30:10 | Running Optuna Trial: 8\n",
      "with hyperparameters: {'n_estimators': 476, 'max_depth': 476, 'min_samples_split': 10, 'max_features': 'log2', 'min_samples_leaf': 13, 'random_state': 760, 'n_jobs': -1}\n"
     ]
    },
    {
     "name": "stderr",
     "output_type": "stream",
     "text": [
      "\u001b[32m[I 2022-10-15 18:30:14,879]\u001b[0m Trial 8 finished with value: 3.3637092482058955 and parameters: {'n_estimators': 476, 'max_depth': 476, 'min_samples_split': 10, 'max_features': 'log2', 'min_samples_leaf': 13}. Best is trial 4 with value: 3.3628703509074027.\u001b[0m\n"
     ]
    },
    {
     "name": "stdout",
     "output_type": "stream",
     "text": [
      "complete! average cv RMSE: 3.3637092482058955\n",
      "18:30:14 | Running Optuna Trial: 9\n",
      "with hyperparameters: {'n_estimators': 301, 'max_depth': 251, 'min_samples_split': 15, 'max_features': 'log2', 'min_samples_leaf': 2, 'random_state': 760, 'n_jobs': -1}\n"
     ]
    },
    {
     "name": "stderr",
     "output_type": "stream",
     "text": [
      "\u001b[32m[I 2022-10-15 18:30:18,355]\u001b[0m Trial 9 finished with value: 3.3674856805224636 and parameters: {'n_estimators': 301, 'max_depth': 251, 'min_samples_split': 15, 'max_features': 'log2', 'min_samples_leaf': 2}. Best is trial 4 with value: 3.3628703509074027.\u001b[0m\n"
     ]
    },
    {
     "name": "stdout",
     "output_type": "stream",
     "text": [
      "complete! average cv RMSE: 3.3674856805224636\n",
      "18:30:18 | Running Optuna Trial: 10\n",
      "with hyperparameters: {'n_estimators': 326, 'max_depth': 176, 'min_samples_split': 20, 'max_features': 'log2', 'min_samples_leaf': 5, 'random_state': 760, 'n_jobs': -1}\n"
     ]
    },
    {
     "name": "stderr",
     "output_type": "stream",
     "text": [
      "\u001b[32m[I 2022-10-15 18:30:21,806]\u001b[0m Trial 10 finished with value: 3.3644753401019662 and parameters: {'n_estimators': 326, 'max_depth': 176, 'min_samples_split': 20, 'max_features': 'log2', 'min_samples_leaf': 5}. Best is trial 4 with value: 3.3628703509074027.\u001b[0m\n"
     ]
    },
    {
     "name": "stdout",
     "output_type": "stream",
     "text": [
      "complete! average cv RMSE: 3.3644753401019662\n",
      "18:30:21 | Running Optuna Trial: 11\n",
      "with hyperparameters: {'n_estimators': 276, 'max_depth': 301, 'min_samples_split': 2, 'max_features': 'sqrt', 'min_samples_leaf': 7, 'random_state': 760, 'n_jobs': -1}\n"
     ]
    },
    {
     "name": "stderr",
     "output_type": "stream",
     "text": [
      "\u001b[32m[I 2022-10-15 18:30:24,761]\u001b[0m Trial 11 finished with value: 3.3620694347928484 and parameters: {'n_estimators': 276, 'max_depth': 301, 'min_samples_split': 2, 'max_features': 'sqrt', 'min_samples_leaf': 7}. Best is trial 11 with value: 3.3620694347928484.\u001b[0m\n"
     ]
    },
    {
     "name": "stdout",
     "output_type": "stream",
     "text": [
      "complete! average cv RMSE: 3.3620694347928484\n",
      "18:30:24 | Running Optuna Trial: 12\n",
      "with hyperparameters: {'n_estimators': 351, 'max_depth': 351, 'min_samples_split': 8, 'max_features': 'sqrt', 'min_samples_leaf': 6, 'random_state': 760, 'n_jobs': -1}\n"
     ]
    },
    {
     "name": "stderr",
     "output_type": "stream",
     "text": [
      "\u001b[32m[I 2022-10-15 18:30:28,497]\u001b[0m Trial 12 finished with value: 3.3630844075906503 and parameters: {'n_estimators': 351, 'max_depth': 351, 'min_samples_split': 8, 'max_features': 'sqrt', 'min_samples_leaf': 6}. Best is trial 11 with value: 3.3620694347928484.\u001b[0m\n"
     ]
    },
    {
     "name": "stdout",
     "output_type": "stream",
     "text": [
      "complete! average cv RMSE: 3.3630844075906503\n",
      "18:30:28 | Running Optuna Trial: 13\n",
      "with hyperparameters: {'n_estimators': 426, 'max_depth': 201, 'min_samples_split': 2, 'max_features': 'sqrt', 'min_samples_leaf': 7, 'random_state': 760, 'n_jobs': -1}\n"
     ]
    },
    {
     "name": "stderr",
     "output_type": "stream",
     "text": [
      "\u001b[32m[I 2022-10-15 18:30:33,174]\u001b[0m Trial 13 finished with value: 3.3601888957441863 and parameters: {'n_estimators': 426, 'max_depth': 201, 'min_samples_split': 2, 'max_features': 'sqrt', 'min_samples_leaf': 7}. Best is trial 13 with value: 3.3601888957441863.\u001b[0m\n"
     ]
    },
    {
     "name": "stdout",
     "output_type": "stream",
     "text": [
      "complete! average cv RMSE: 3.3601888957441863\n",
      "18:30:33 | Running Optuna Trial: 14\n",
      "with hyperparameters: {'n_estimators': 426, 'max_depth': 201, 'min_samples_split': 2, 'max_features': 'sqrt', 'min_samples_leaf': 8, 'random_state': 760, 'n_jobs': -1}\n"
     ]
    },
    {
     "name": "stderr",
     "output_type": "stream",
     "text": [
      "\u001b[32m[I 2022-10-15 18:30:37,942]\u001b[0m Trial 14 finished with value: 3.3642380809891974 and parameters: {'n_estimators': 426, 'max_depth': 201, 'min_samples_split': 2, 'max_features': 'sqrt', 'min_samples_leaf': 8}. Best is trial 13 with value: 3.3601888957441863.\u001b[0m\n"
     ]
    },
    {
     "name": "stdout",
     "output_type": "stream",
     "text": [
      "complete! average cv RMSE: 3.3642380809891974\n",
      "18:30:37 | Running Optuna Trial: 15\n",
      "with hyperparameters: {'n_estimators': 401, 'max_depth': 101, 'min_samples_split': 2, 'max_features': 'sqrt', 'min_samples_leaf': 2, 'random_state': 760, 'n_jobs': -1}\n"
     ]
    },
    {
     "name": "stderr",
     "output_type": "stream",
     "text": [
      "\u001b[32m[I 2022-10-15 18:30:43,863]\u001b[0m Trial 15 finished with value: 3.3707772727257392 and parameters: {'n_estimators': 401, 'max_depth': 101, 'min_samples_split': 2, 'max_features': 'sqrt', 'min_samples_leaf': 2}. Best is trial 13 with value: 3.3601888957441863.\u001b[0m\n"
     ]
    },
    {
     "name": "stdout",
     "output_type": "stream",
     "text": [
      "complete! average cv RMSE: 3.3707772727257392\n",
      "18:30:43 | Running Optuna Trial: 16\n",
      "with hyperparameters: {'n_estimators': 476, 'max_depth': 276, 'min_samples_split': 6, 'max_features': 'sqrt', 'min_samples_leaf': 9, 'random_state': 760, 'n_jobs': -1}\n"
     ]
    },
    {
     "name": "stderr",
     "output_type": "stream",
     "text": [
      "\u001b[32m[I 2022-10-15 18:30:48,391]\u001b[0m Trial 16 finished with value: 3.3620332944663374 and parameters: {'n_estimators': 476, 'max_depth': 276, 'min_samples_split': 6, 'max_features': 'sqrt', 'min_samples_leaf': 9}. Best is trial 13 with value: 3.3601888957441863.\u001b[0m\n"
     ]
    },
    {
     "name": "stdout",
     "output_type": "stream",
     "text": [
      "complete! average cv RMSE: 3.3620332944663374\n",
      "18:30:48 | Running Optuna Trial: 17\n",
      "with hyperparameters: {'n_estimators': 476, 'max_depth': 201, 'min_samples_split': 6, 'max_features': 'sqrt', 'min_samples_leaf': 9, 'random_state': 760, 'n_jobs': -1}\n"
     ]
    },
    {
     "name": "stderr",
     "output_type": "stream",
     "text": [
      "\u001b[32m[I 2022-10-15 18:30:52,828]\u001b[0m Trial 17 finished with value: 3.3620332944663374 and parameters: {'n_estimators': 476, 'max_depth': 201, 'min_samples_split': 6, 'max_features': 'sqrt', 'min_samples_leaf': 9}. Best is trial 13 with value: 3.3601888957441863.\u001b[0m\n"
     ]
    },
    {
     "name": "stdout",
     "output_type": "stream",
     "text": [
      "complete! average cv RMSE: 3.3620332944663374\n",
      "18:30:52 | Running Optuna Trial: 18\n",
      "with hyperparameters: {'n_estimators': 376, 'max_depth': 1, 'min_samples_split': 8, 'max_features': 'sqrt', 'min_samples_leaf': 4, 'random_state': 760, 'n_jobs': -1}\n"
     ]
    },
    {
     "name": "stderr",
     "output_type": "stream",
     "text": [
      "\u001b[32m[I 2022-10-15 18:30:54,412]\u001b[0m Trial 18 finished with value: 3.561224117896163 and parameters: {'n_estimators': 376, 'max_depth': 1, 'min_samples_split': 8, 'max_features': 'sqrt', 'min_samples_leaf': 4}. Best is trial 13 with value: 3.3601888957441863.\u001b[0m\n"
     ]
    },
    {
     "name": "stdout",
     "output_type": "stream",
     "text": [
      "complete! average cv RMSE: 3.561224117896163\n",
      "18:30:54 | Running Optuna Trial: 19\n",
      "with hyperparameters: {'n_estimators': 426, 'max_depth': 151, 'min_samples_split': 4, 'max_features': 'sqrt', 'min_samples_leaf': 16, 'random_state': 760, 'n_jobs': -1}\n"
     ]
    },
    {
     "name": "stderr",
     "output_type": "stream",
     "text": [
      "\u001b[32m[I 2022-10-15 18:30:58,401]\u001b[0m Trial 19 finished with value: 3.3649608748225255 and parameters: {'n_estimators': 426, 'max_depth': 151, 'min_samples_split': 4, 'max_features': 'sqrt', 'min_samples_leaf': 16}. Best is trial 13 with value: 3.3601888957441863.\u001b[0m\n",
      "\u001b[32m[I 2022-10-15 18:30:58,494]\u001b[0m Trial 20 finished with value: 3.686729798900152 and parameters: {'n_estimators': 1, 'max_depth': 201, 'min_samples_split': 11, 'max_features': 'sqrt', 'min_samples_leaf': 10}. Best is trial 13 with value: 3.3601888957441863.\u001b[0m\n"
     ]
    },
    {
     "name": "stdout",
     "output_type": "stream",
     "text": [
      "complete! average cv RMSE: 3.3649608748225255\n",
      "18:30:58 | Running Optuna Trial: 20\n",
      "with hyperparameters: {'n_estimators': 1, 'max_depth': 201, 'min_samples_split': 11, 'max_features': 'sqrt', 'min_samples_leaf': 10, 'random_state': 760, 'n_jobs': -1}\n",
      "complete! average cv RMSE: 3.686729798900152\n",
      "18:30:58 | Running Optuna Trial: 21\n",
      "with hyperparameters: {'n_estimators': 476, 'max_depth': 226, 'min_samples_split': 6, 'max_features': 'sqrt', 'min_samples_leaf': 9, 'random_state': 760, 'n_jobs': -1}\n"
     ]
    },
    {
     "name": "stderr",
     "output_type": "stream",
     "text": [
      "\u001b[32m[I 2022-10-15 18:31:02,932]\u001b[0m Trial 21 finished with value: 3.3620332944663374 and parameters: {'n_estimators': 476, 'max_depth': 226, 'min_samples_split': 6, 'max_features': 'sqrt', 'min_samples_leaf': 9}. Best is trial 13 with value: 3.3601888957441863.\u001b[0m\n"
     ]
    },
    {
     "name": "stdout",
     "output_type": "stream",
     "text": [
      "complete! average cv RMSE: 3.3620332944663374\n",
      "18:31:02 | Running Optuna Trial: 22\n",
      "with hyperparameters: {'n_estimators': 476, 'max_depth': 226, 'min_samples_split': 4, 'max_features': 'sqrt', 'min_samples_leaf': 9, 'random_state': 760, 'n_jobs': -1}\n"
     ]
    },
    {
     "name": "stderr",
     "output_type": "stream",
     "text": [
      "\u001b[32m[I 2022-10-15 18:31:07,637]\u001b[0m Trial 22 finished with value: 3.3620332944663374 and parameters: {'n_estimators': 476, 'max_depth': 226, 'min_samples_split': 4, 'max_features': 'sqrt', 'min_samples_leaf': 9}. Best is trial 13 with value: 3.3601888957441863.\u001b[0m\n"
     ]
    },
    {
     "name": "stdout",
     "output_type": "stream",
     "text": [
      "complete! average cv RMSE: 3.3620332944663374\n",
      "18:31:07 | Running Optuna Trial: 23\n",
      "with hyperparameters: {'n_estimators': 426, 'max_depth': 76, 'min_samples_split': 4, 'max_features': 'sqrt', 'min_samples_leaf': 4, 'random_state': 760, 'n_jobs': -1}\n"
     ]
    },
    {
     "name": "stderr",
     "output_type": "stream",
     "text": [
      "\u001b[32m[I 2022-10-15 18:31:12,797]\u001b[0m Trial 23 finished with value: 3.365324149616523 and parameters: {'n_estimators': 426, 'max_depth': 76, 'min_samples_split': 4, 'max_features': 'sqrt', 'min_samples_leaf': 4}. Best is trial 13 with value: 3.3601888957441863.\u001b[0m\n"
     ]
    },
    {
     "name": "stdout",
     "output_type": "stream",
     "text": [
      "complete! average cv RMSE: 3.365324149616523\n",
      "18:31:12 | Running Optuna Trial: 24\n",
      "with hyperparameters: {'n_estimators': 376, 'max_depth': 151, 'min_samples_split': 6, 'max_features': 'sqrt', 'min_samples_leaf': 9, 'random_state': 760, 'n_jobs': -1}\n"
     ]
    },
    {
     "name": "stderr",
     "output_type": "stream",
     "text": [
      "\u001b[32m[I 2022-10-15 18:31:16,502]\u001b[0m Trial 24 finished with value: 3.3630454457428494 and parameters: {'n_estimators': 376, 'max_depth': 151, 'min_samples_split': 6, 'max_features': 'sqrt', 'min_samples_leaf': 9}. Best is trial 13 with value: 3.3601888957441863.\u001b[0m\n"
     ]
    },
    {
     "name": "stdout",
     "output_type": "stream",
     "text": [
      "complete! average cv RMSE: 3.3630454457428494\n",
      "18:31:16 | Running Optuna Trial: 25\n",
      "with hyperparameters: {'n_estimators': 451, 'max_depth': 226, 'min_samples_split': 9, 'max_features': 'sqrt', 'min_samples_leaf': 6, 'random_state': 760, 'n_jobs': -1}\n"
     ]
    },
    {
     "name": "stderr",
     "output_type": "stream",
     "text": [
      "\u001b[32m[I 2022-10-15 18:31:21,249]\u001b[0m Trial 25 finished with value: 3.362265569350722 and parameters: {'n_estimators': 451, 'max_depth': 226, 'min_samples_split': 9, 'max_features': 'sqrt', 'min_samples_leaf': 6}. Best is trial 13 with value: 3.3601888957441863.\u001b[0m\n"
     ]
    },
    {
     "name": "stdout",
     "output_type": "stream",
     "text": [
      "complete! average cv RMSE: 3.362265569350722\n",
      "18:31:21 | Running Optuna Trial: 26\n",
      "with hyperparameters: {'n_estimators': 376, 'max_depth': 251, 'min_samples_split': 3, 'max_features': 'sqrt', 'min_samples_leaf': 8, 'random_state': 760, 'n_jobs': -1}\n"
     ]
    },
    {
     "name": "stderr",
     "output_type": "stream",
     "text": [
      "\u001b[32m[I 2022-10-15 18:31:25,163]\u001b[0m Trial 26 finished with value: 3.364047993197692 and parameters: {'n_estimators': 376, 'max_depth': 251, 'min_samples_split': 3, 'max_features': 'sqrt', 'min_samples_leaf': 8}. Best is trial 13 with value: 3.3601888957441863.\u001b[0m\n"
     ]
    },
    {
     "name": "stdout",
     "output_type": "stream",
     "text": [
      "complete! average cv RMSE: 3.364047993197692\n",
      "18:31:25 | Running Optuna Trial: 27\n",
      "with hyperparameters: {'n_estimators': 451, 'max_depth': 301, 'min_samples_split': 4, 'max_features': 'sqrt', 'min_samples_leaf': 4, 'random_state': 760, 'n_jobs': -1}\n"
     ]
    },
    {
     "name": "stderr",
     "output_type": "stream",
     "text": [
      "\u001b[32m[I 2022-10-15 18:31:30,111]\u001b[0m Trial 27 finished with value: 3.36535808782766 and parameters: {'n_estimators': 451, 'max_depth': 301, 'min_samples_split': 4, 'max_features': 'sqrt', 'min_samples_leaf': 4}. Best is trial 13 with value: 3.3601888957441863.\u001b[0m\n"
     ]
    },
    {
     "name": "stdout",
     "output_type": "stream",
     "text": [
      "complete! average cv RMSE: 3.36535808782766\n",
      "18:31:30 | Running Optuna Trial: 28\n",
      "with hyperparameters: {'n_estimators': 401, 'max_depth': 276, 'min_samples_split': 7, 'max_features': 'sqrt', 'min_samples_leaf': 10, 'random_state': 760, 'n_jobs': -1}\n"
     ]
    },
    {
     "name": "stderr",
     "output_type": "stream",
     "text": [
      "\u001b[32m[I 2022-10-15 18:31:34,117]\u001b[0m Trial 28 finished with value: 3.3609229362891035 and parameters: {'n_estimators': 401, 'max_depth': 276, 'min_samples_split': 7, 'max_features': 'sqrt', 'min_samples_leaf': 10}. Best is trial 13 with value: 3.3601888957441863.\u001b[0m\n"
     ]
    },
    {
     "name": "stdout",
     "output_type": "stream",
     "text": [
      "complete! average cv RMSE: 3.3609229362891035\n",
      "18:31:34 | Running Optuna Trial: 29\n",
      "with hyperparameters: {'n_estimators': 326, 'max_depth': 26, 'min_samples_split': 5, 'max_features': 'sqrt', 'min_samples_leaf': 16, 'random_state': 760, 'n_jobs': -1}\n"
     ]
    },
    {
     "name": "stderr",
     "output_type": "stream",
     "text": [
      "\u001b[32m[I 2022-10-15 18:31:37,109]\u001b[0m Trial 29 finished with value: 3.3650594838941466 and parameters: {'n_estimators': 326, 'max_depth': 26, 'min_samples_split': 5, 'max_features': 'sqrt', 'min_samples_leaf': 16}. Best is trial 13 with value: 3.3601888957441863.\u001b[0m\n"
     ]
    },
    {
     "name": "stdout",
     "output_type": "stream",
     "text": [
      "complete! average cv RMSE: 3.3650594838941466\n",
      "18:31:37 | Running Optuna Trial: 30\n",
      "with hyperparameters: {'n_estimators': 401, 'max_depth': 176, 'min_samples_split': 8, 'max_features': 'sqrt', 'min_samples_leaf': 12, 'random_state': 760, 'n_jobs': -1}\n"
     ]
    },
    {
     "name": "stderr",
     "output_type": "stream",
     "text": [
      "\u001b[32m[I 2022-10-15 18:31:41,051]\u001b[0m Trial 30 finished with value: 3.3633713410769004 and parameters: {'n_estimators': 401, 'max_depth': 176, 'min_samples_split': 8, 'max_features': 'sqrt', 'min_samples_leaf': 12}. Best is trial 13 with value: 3.3601888957441863.\u001b[0m\n"
     ]
    },
    {
     "name": "stdout",
     "output_type": "stream",
     "text": [
      "complete! average cv RMSE: 3.3633713410769004\n",
      "18:31:41 | Running Optuna Trial: 31\n",
      "with hyperparameters: {'n_estimators': 451, 'max_depth': 201, 'min_samples_split': 5, 'max_features': 'sqrt', 'min_samples_leaf': 10, 'random_state': 760, 'n_jobs': -1}\n"
     ]
    },
    {
     "name": "stderr",
     "output_type": "stream",
     "text": [
      "\u001b[32m[I 2022-10-15 18:31:45,411]\u001b[0m Trial 31 finished with value: 3.3611422501760218 and parameters: {'n_estimators': 451, 'max_depth': 201, 'min_samples_split': 5, 'max_features': 'sqrt', 'min_samples_leaf': 10}. Best is trial 13 with value: 3.3601888957441863.\u001b[0m\n"
     ]
    },
    {
     "name": "stdout",
     "output_type": "stream",
     "text": [
      "complete! average cv RMSE: 3.3611422501760218\n",
      "18:31:45 | Running Optuna Trial: 32\n",
      "with hyperparameters: {'n_estimators': 426, 'max_depth': 276, 'min_samples_split': 6, 'max_features': 'sqrt', 'min_samples_leaf': 10, 'random_state': 760, 'n_jobs': -1}\n"
     ]
    },
    {
     "name": "stderr",
     "output_type": "stream",
     "text": [
      "\u001b[32m[I 2022-10-15 18:31:49,781]\u001b[0m Trial 32 finished with value: 3.3609541184435074 and parameters: {'n_estimators': 426, 'max_depth': 276, 'min_samples_split': 6, 'max_features': 'sqrt', 'min_samples_leaf': 10}. Best is trial 13 with value: 3.3601888957441863.\u001b[0m\n"
     ]
    },
    {
     "name": "stdout",
     "output_type": "stream",
     "text": [
      "complete! average cv RMSE: 3.3609541184435074\n",
      "18:31:49 | Running Optuna Trial: 33\n",
      "with hyperparameters: {'n_estimators': 401, 'max_depth': 276, 'min_samples_split': 5, 'max_features': 'sqrt', 'min_samples_leaf': 14, 'random_state': 760, 'n_jobs': -1}\n"
     ]
    },
    {
     "name": "stderr",
     "output_type": "stream",
     "text": [
      "\u001b[32m[I 2022-10-15 18:31:53,708]\u001b[0m Trial 33 finished with value: 3.3649514237505374 and parameters: {'n_estimators': 401, 'max_depth': 276, 'min_samples_split': 5, 'max_features': 'sqrt', 'min_samples_leaf': 14}. Best is trial 13 with value: 3.3601888957441863.\u001b[0m\n"
     ]
    },
    {
     "name": "stdout",
     "output_type": "stream",
     "text": [
      "complete! average cv RMSE: 3.3649514237505374\n",
      "==== EARLY STOPPING ACTIVATED ====\n"
     ]
    },
    {
     "name": "stderr",
     "output_type": "stream",
     "text": [
      "\u001b[32m[I 2022-10-15 18:31:54,961]\u001b[0m A new study created in memory with name: no-name-a9cdbdaa-6793-4d8e-be18-1a2dc9e73109\u001b[0m\n"
     ]
    },
    {
     "name": "stdout",
     "output_type": "stream",
     "text": [
      "====== Running repetition: 5 ======\n",
      "18:31:54 | Running Optuna Trial: 0\n",
      "with hyperparameters: {'n_estimators': 51, 'max_depth': 51, 'min_samples_split': 5, 'max_features': 'log2', 'min_samples_leaf': 18, 'random_state': 760, 'n_jobs': -1}\n"
     ]
    },
    {
     "name": "stderr",
     "output_type": "stream",
     "text": [
      "\u001b[32m[I 2022-10-15 18:31:55,572]\u001b[0m Trial 0 finished with value: 3.3794771948539086 and parameters: {'n_estimators': 51, 'max_depth': 51, 'min_samples_split': 5, 'max_features': 'log2', 'min_samples_leaf': 18}. Best is trial 0 with value: 3.3794771948539086.\u001b[0m\n"
     ]
    },
    {
     "name": "stdout",
     "output_type": "stream",
     "text": [
      "complete! average cv RMSE: 3.3794771948539086\n",
      "18:31:55 | Running Optuna Trial: 1\n",
      "with hyperparameters: {'n_estimators': 76, 'max_depth': 451, 'min_samples_split': 14, 'max_features': 'sqrt', 'min_samples_leaf': 14, 'random_state': 760, 'n_jobs': -1}\n"
     ]
    },
    {
     "name": "stderr",
     "output_type": "stream",
     "text": [
      "\u001b[32m[I 2022-10-15 18:31:56,505]\u001b[0m Trial 1 finished with value: 3.3719246809652064 and parameters: {'n_estimators': 76, 'max_depth': 451, 'min_samples_split': 14, 'max_features': 'sqrt', 'min_samples_leaf': 14}. Best is trial 1 with value: 3.3719246809652064.\u001b[0m\n"
     ]
    },
    {
     "name": "stdout",
     "output_type": "stream",
     "text": [
      "complete! average cv RMSE: 3.3719246809652064\n",
      "18:31:56 | Running Optuna Trial: 2\n",
      "with hyperparameters: {'n_estimators': 201, 'max_depth': 126, 'min_samples_split': 20, 'max_features': 'log2', 'min_samples_leaf': 14, 'random_state': 760, 'n_jobs': -1}\n"
     ]
    },
    {
     "name": "stderr",
     "output_type": "stream",
     "text": [
      "\u001b[32m[I 2022-10-15 18:31:58,488]\u001b[0m Trial 2 finished with value: 3.3686695511756817 and parameters: {'n_estimators': 201, 'max_depth': 126, 'min_samples_split': 20, 'max_features': 'log2', 'min_samples_leaf': 14}. Best is trial 2 with value: 3.3686695511756817.\u001b[0m\n"
     ]
    },
    {
     "name": "stdout",
     "output_type": "stream",
     "text": [
      "complete! average cv RMSE: 3.3686695511756817\n",
      "18:31:58 | Running Optuna Trial: 3\n",
      "with hyperparameters: {'n_estimators': 126, 'max_depth': 326, 'min_samples_split': 11, 'max_features': 'sqrt', 'min_samples_leaf': 19, 'random_state': 760, 'n_jobs': -1}\n"
     ]
    },
    {
     "name": "stderr",
     "output_type": "stream",
     "text": [
      "\u001b[32m[I 2022-10-15 18:31:59,872]\u001b[0m Trial 3 finished with value: 3.3686231194193788 and parameters: {'n_estimators': 126, 'max_depth': 326, 'min_samples_split': 11, 'max_features': 'sqrt', 'min_samples_leaf': 19}. Best is trial 3 with value: 3.3686231194193788.\u001b[0m\n"
     ]
    },
    {
     "name": "stdout",
     "output_type": "stream",
     "text": [
      "complete! average cv RMSE: 3.3686231194193788\n",
      "18:31:59 | Running Optuna Trial: 4\n",
      "with hyperparameters: {'n_estimators': 276, 'max_depth': 376, 'min_samples_split': 15, 'max_features': 'log2', 'min_samples_leaf': 7, 'random_state': 760, 'n_jobs': -1}\n"
     ]
    },
    {
     "name": "stderr",
     "output_type": "stream",
     "text": [
      "\u001b[32m[I 2022-10-15 18:32:02,899]\u001b[0m Trial 4 finished with value: 3.3687630447478893 and parameters: {'n_estimators': 276, 'max_depth': 376, 'min_samples_split': 15, 'max_features': 'log2', 'min_samples_leaf': 7}. Best is trial 3 with value: 3.3686231194193788.\u001b[0m\n"
     ]
    },
    {
     "name": "stdout",
     "output_type": "stream",
     "text": [
      "complete! average cv RMSE: 3.3687630447478893\n",
      "18:32:02 | Running Optuna Trial: 5\n",
      "with hyperparameters: {'n_estimators': 151, 'max_depth': 401, 'min_samples_split': 17, 'max_features': 'sqrt', 'min_samples_leaf': 11, 'random_state': 760, 'n_jobs': -1}\n"
     ]
    },
    {
     "name": "stderr",
     "output_type": "stream",
     "text": [
      "\u001b[32m[I 2022-10-15 18:32:04,481]\u001b[0m Trial 5 finished with value: 3.3680767026410043 and parameters: {'n_estimators': 151, 'max_depth': 401, 'min_samples_split': 17, 'max_features': 'sqrt', 'min_samples_leaf': 11}. Best is trial 5 with value: 3.3680767026410043.\u001b[0m\n"
     ]
    },
    {
     "name": "stdout",
     "output_type": "stream",
     "text": [
      "complete! average cv RMSE: 3.3680767026410043\n",
      "18:32:04 | Running Optuna Trial: 6\n",
      "with hyperparameters: {'n_estimators': 201, 'max_depth': 276, 'min_samples_split': 4, 'max_features': 'sqrt', 'min_samples_leaf': 11, 'random_state': 760, 'n_jobs': -1}\n"
     ]
    },
    {
     "name": "stderr",
     "output_type": "stream",
     "text": [
      "\u001b[32m[I 2022-10-15 18:32:06,653]\u001b[0m Trial 6 finished with value: 3.367984190528939 and parameters: {'n_estimators': 201, 'max_depth': 276, 'min_samples_split': 4, 'max_features': 'sqrt', 'min_samples_leaf': 11}. Best is trial 6 with value: 3.367984190528939.\u001b[0m\n"
     ]
    },
    {
     "name": "stdout",
     "output_type": "stream",
     "text": [
      "complete! average cv RMSE: 3.367984190528939\n",
      "18:32:06 | Running Optuna Trial: 7\n",
      "with hyperparameters: {'n_estimators': 126, 'max_depth': 401, 'min_samples_split': 7, 'max_features': 'log2', 'min_samples_leaf': 12, 'random_state': 760, 'n_jobs': -1}\n"
     ]
    },
    {
     "name": "stderr",
     "output_type": "stream",
     "text": [
      "\u001b[32m[I 2022-10-15 18:32:07,966]\u001b[0m Trial 7 finished with value: 3.364611662488349 and parameters: {'n_estimators': 126, 'max_depth': 401, 'min_samples_split': 7, 'max_features': 'log2', 'min_samples_leaf': 12}. Best is trial 7 with value: 3.364611662488349.\u001b[0m\n"
     ]
    },
    {
     "name": "stdout",
     "output_type": "stream",
     "text": [
      "complete! average cv RMSE: 3.364611662488349\n",
      "18:32:07 | Running Optuna Trial: 8\n",
      "with hyperparameters: {'n_estimators': 476, 'max_depth': 476, 'min_samples_split': 10, 'max_features': 'log2', 'min_samples_leaf': 13, 'random_state': 760, 'n_jobs': -1}\n"
     ]
    },
    {
     "name": "stderr",
     "output_type": "stream",
     "text": [
      "\u001b[32m[I 2022-10-15 18:32:12,349]\u001b[0m Trial 8 finished with value: 3.366874144513141 and parameters: {'n_estimators': 476, 'max_depth': 476, 'min_samples_split': 10, 'max_features': 'log2', 'min_samples_leaf': 13}. Best is trial 7 with value: 3.364611662488349.\u001b[0m\n"
     ]
    },
    {
     "name": "stdout",
     "output_type": "stream",
     "text": [
      "complete! average cv RMSE: 3.366874144513141\n",
      "18:32:12 | Running Optuna Trial: 9\n",
      "with hyperparameters: {'n_estimators': 301, 'max_depth': 251, 'min_samples_split': 15, 'max_features': 'log2', 'min_samples_leaf': 2, 'random_state': 760, 'n_jobs': -1}\n"
     ]
    },
    {
     "name": "stderr",
     "output_type": "stream",
     "text": [
      "\u001b[32m[I 2022-10-15 18:32:15,732]\u001b[0m Trial 9 finished with value: 3.371650472651789 and parameters: {'n_estimators': 301, 'max_depth': 251, 'min_samples_split': 15, 'max_features': 'log2', 'min_samples_leaf': 2}. Best is trial 7 with value: 3.364611662488349.\u001b[0m\n"
     ]
    },
    {
     "name": "stdout",
     "output_type": "stream",
     "text": [
      "complete! average cv RMSE: 3.371650472651789\n",
      "18:32:15 | Running Optuna Trial: 10\n",
      "with hyperparameters: {'n_estimators': 376, 'max_depth': 176, 'min_samples_split': 8, 'max_features': 'log2', 'min_samples_leaf': 6, 'random_state': 760, 'n_jobs': -1}\n"
     ]
    },
    {
     "name": "stderr",
     "output_type": "stream",
     "text": [
      "\u001b[32m[I 2022-10-15 18:32:19,808]\u001b[0m Trial 10 finished with value: 3.36726785123129 and parameters: {'n_estimators': 376, 'max_depth': 176, 'min_samples_split': 8, 'max_features': 'log2', 'min_samples_leaf': 6}. Best is trial 7 with value: 3.364611662488349.\u001b[0m\n"
     ]
    },
    {
     "name": "stdout",
     "output_type": "stream",
     "text": [
      "complete! average cv RMSE: 3.36726785123129\n",
      "18:32:19 | Running Optuna Trial: 11\n",
      "with hyperparameters: {'n_estimators': 401, 'max_depth': 451, 'min_samples_split': 9, 'max_features': 'log2', 'min_samples_leaf': 14, 'random_state': 760, 'n_jobs': -1}\n"
     ]
    },
    {
     "name": "stderr",
     "output_type": "stream",
     "text": [
      "\u001b[32m[I 2022-10-15 18:32:23,864]\u001b[0m Trial 11 finished with value: 3.3677594889390248 and parameters: {'n_estimators': 401, 'max_depth': 451, 'min_samples_split': 9, 'max_features': 'log2', 'min_samples_leaf': 14}. Best is trial 7 with value: 3.364611662488349.\u001b[0m\n",
      "\u001b[32m[I 2022-10-15 18:32:23,952]\u001b[0m Trial 12 finished with value: 3.870988113292384 and parameters: {'n_estimators': 1, 'max_depth': 476, 'min_samples_split': 7, 'max_features': 'log2', 'min_samples_leaf': 8}. Best is trial 7 with value: 3.364611662488349.\u001b[0m\n"
     ]
    },
    {
     "name": "stdout",
     "output_type": "stream",
     "text": [
      "complete! average cv RMSE: 3.3677594889390248\n",
      "18:32:23 | Running Optuna Trial: 12\n",
      "with hyperparameters: {'n_estimators': 1, 'max_depth': 476, 'min_samples_split': 7, 'max_features': 'log2', 'min_samples_leaf': 8, 'random_state': 760, 'n_jobs': -1}\n",
      "complete! average cv RMSE: 3.870988113292384\n",
      "18:32:23 | Running Optuna Trial: 13\n",
      "with hyperparameters: {'n_estimators': 476, 'max_depth': 351, 'min_samples_split': 2, 'max_features': 'log2', 'min_samples_leaf': 15, 'random_state': 760, 'n_jobs': -1}\n"
     ]
    },
    {
     "name": "stderr",
     "output_type": "stream",
     "text": [
      "\u001b[32m[I 2022-10-15 18:32:28,195]\u001b[0m Trial 13 finished with value: 3.3687993142306576 and parameters: {'n_estimators': 476, 'max_depth': 351, 'min_samples_split': 2, 'max_features': 'log2', 'min_samples_leaf': 15}. Best is trial 7 with value: 3.364611662488349.\u001b[0m\n"
     ]
    },
    {
     "name": "stdout",
     "output_type": "stream",
     "text": [
      "complete! average cv RMSE: 3.3687993142306576\n",
      "18:32:28 | Running Optuna Trial: 14\n",
      "with hyperparameters: {'n_estimators': 376, 'max_depth': 476, 'min_samples_split': 11, 'max_features': 'log2', 'min_samples_leaf': 10, 'random_state': 760, 'n_jobs': -1}\n"
     ]
    },
    {
     "name": "stderr",
     "output_type": "stream",
     "text": [
      "\u001b[32m[I 2022-10-15 18:32:32,036]\u001b[0m Trial 14 finished with value: 3.3683145495534115 and parameters: {'n_estimators': 376, 'max_depth': 476, 'min_samples_split': 11, 'max_features': 'log2', 'min_samples_leaf': 10}. Best is trial 7 with value: 3.364611662488349.\u001b[0m\n"
     ]
    },
    {
     "name": "stdout",
     "output_type": "stream",
     "text": [
      "complete! average cv RMSE: 3.3683145495534115\n",
      "18:32:32 | Running Optuna Trial: 15\n",
      "with hyperparameters: {'n_estimators': 251, 'max_depth': 301, 'min_samples_split': 6, 'max_features': 'log2', 'min_samples_leaf': 17, 'random_state': 760, 'n_jobs': -1}\n"
     ]
    },
    {
     "name": "stderr",
     "output_type": "stream",
     "text": [
      "\u001b[32m[I 2022-10-15 18:32:34,482]\u001b[0m Trial 15 finished with value: 3.371422421080004 and parameters: {'n_estimators': 251, 'max_depth': 301, 'min_samples_split': 6, 'max_features': 'log2', 'min_samples_leaf': 17}. Best is trial 7 with value: 3.364611662488349.\u001b[0m\n"
     ]
    },
    {
     "name": "stdout",
     "output_type": "stream",
     "text": [
      "complete! average cv RMSE: 3.371422421080004\n",
      "18:32:34 | Running Optuna Trial: 16\n",
      "with hyperparameters: {'n_estimators': 476, 'max_depth': 401, 'min_samples_split': 10, 'max_features': 'log2', 'min_samples_leaf': 1, 'random_state': 760, 'n_jobs': -1}\n"
     ]
    },
    {
     "name": "stderr",
     "output_type": "stream",
     "text": [
      "\u001b[32m[I 2022-10-15 18:32:40,332]\u001b[0m Trial 16 finished with value: 3.3808967564431947 and parameters: {'n_estimators': 476, 'max_depth': 401, 'min_samples_split': 10, 'max_features': 'log2', 'min_samples_leaf': 1}. Best is trial 7 with value: 3.364611662488349.\u001b[0m\n"
     ]
    },
    {
     "name": "stdout",
     "output_type": "stream",
     "text": [
      "complete! average cv RMSE: 3.3808967564431947\n",
      "18:32:40 | Running Optuna Trial: 17\n",
      "with hyperparameters: {'n_estimators': 326, 'max_depth': 201, 'min_samples_split': 13, 'max_features': 'log2', 'min_samples_leaf': 4, 'random_state': 760, 'n_jobs': -1}\n"
     ]
    },
    {
     "name": "stderr",
     "output_type": "stream",
     "text": [
      "\u001b[32m[I 2022-10-15 18:32:44,432]\u001b[0m Trial 17 finished with value: 3.3707088392093296 and parameters: {'n_estimators': 326, 'max_depth': 201, 'min_samples_split': 13, 'max_features': 'log2', 'min_samples_leaf': 4}. Best is trial 7 with value: 3.364611662488349.\u001b[0m\n"
     ]
    },
    {
     "name": "stdout",
     "output_type": "stream",
     "text": [
      "complete! average cv RMSE: 3.3707088392093296\n",
      "18:32:44 | Running Optuna Trial: 18\n",
      "with hyperparameters: {'n_estimators': 126, 'max_depth': 401, 'min_samples_split': 2, 'max_features': 'sqrt', 'min_samples_leaf': 12, 'random_state': 760, 'n_jobs': -1}\n"
     ]
    },
    {
     "name": "stderr",
     "output_type": "stream",
     "text": [
      "\u001b[32m[I 2022-10-15 18:32:45,910]\u001b[0m Trial 18 finished with value: 3.364611662488348 and parameters: {'n_estimators': 126, 'max_depth': 401, 'min_samples_split': 2, 'max_features': 'sqrt', 'min_samples_leaf': 12}. Best is trial 18 with value: 3.364611662488348.\u001b[0m\n"
     ]
    },
    {
     "name": "stdout",
     "output_type": "stream",
     "text": [
      "complete! average cv RMSE: 3.364611662488348\n",
      "18:32:45 | Running Optuna Trial: 19\n",
      "with hyperparameters: {'n_estimators': 126, 'max_depth': 401, 'min_samples_split': 3, 'max_features': 'sqrt', 'min_samples_leaf': 10, 'random_state': 760, 'n_jobs': -1}\n"
     ]
    },
    {
     "name": "stderr",
     "output_type": "stream",
     "text": [
      "\u001b[32m[I 2022-10-15 18:32:47,468]\u001b[0m Trial 19 finished with value: 3.370837738020838 and parameters: {'n_estimators': 126, 'max_depth': 401, 'min_samples_split': 3, 'max_features': 'sqrt', 'min_samples_leaf': 10}. Best is trial 18 with value: 3.364611662488348.\u001b[0m\n"
     ]
    },
    {
     "name": "stdout",
     "output_type": "stream",
     "text": [
      "complete! average cv RMSE: 3.370837738020838\n",
      "18:32:47 | Running Optuna Trial: 20\n",
      "with hyperparameters: {'n_estimators': 76, 'max_depth': 26, 'min_samples_split': 2, 'max_features': 'sqrt', 'min_samples_leaf': 17, 'random_state': 760, 'n_jobs': -1}\n"
     ]
    },
    {
     "name": "stderr",
     "output_type": "stream",
     "text": [
      "\u001b[32m[I 2022-10-15 18:32:48,362]\u001b[0m Trial 20 finished with value: 3.374854769406211 and parameters: {'n_estimators': 76, 'max_depth': 26, 'min_samples_split': 2, 'max_features': 'sqrt', 'min_samples_leaf': 17}. Best is trial 18 with value: 3.364611662488348.\u001b[0m\n"
     ]
    },
    {
     "name": "stdout",
     "output_type": "stream",
     "text": [
      "complete! average cv RMSE: 3.374854769406211\n",
      "18:32:48 | Running Optuna Trial: 21\n",
      "with hyperparameters: {'n_estimators': 176, 'max_depth': 426, 'min_samples_split': 7, 'max_features': 'sqrt', 'min_samples_leaf': 12, 'random_state': 760, 'n_jobs': -1}\n"
     ]
    },
    {
     "name": "stderr",
     "output_type": "stream",
     "text": [
      "\u001b[32m[I 2022-10-15 18:32:50,337]\u001b[0m Trial 21 finished with value: 3.36512990312315 and parameters: {'n_estimators': 176, 'max_depth': 426, 'min_samples_split': 7, 'max_features': 'sqrt', 'min_samples_leaf': 12}. Best is trial 18 with value: 3.364611662488348.\u001b[0m\n"
     ]
    },
    {
     "name": "stdout",
     "output_type": "stream",
     "text": [
      "complete! average cv RMSE: 3.36512990312315\n",
      "18:32:50 | Running Optuna Trial: 22\n",
      "with hyperparameters: {'n_estimators': 176, 'max_depth': 351, 'min_samples_split': 6, 'max_features': 'sqrt', 'min_samples_leaf': 12, 'random_state': 760, 'n_jobs': -1}\n"
     ]
    },
    {
     "name": "stderr",
     "output_type": "stream",
     "text": [
      "\u001b[32m[I 2022-10-15 18:32:52,233]\u001b[0m Trial 22 finished with value: 3.36512990312315 and parameters: {'n_estimators': 176, 'max_depth': 351, 'min_samples_split': 6, 'max_features': 'sqrt', 'min_samples_leaf': 12}. Best is trial 18 with value: 3.364611662488348.\u001b[0m\n"
     ]
    },
    {
     "name": "stdout",
     "output_type": "stream",
     "text": [
      "complete! average cv RMSE: 3.36512990312315\n",
      "18:32:52 | Running Optuna Trial: 23\n",
      "with hyperparameters: {'n_estimators': 101, 'max_depth': 326, 'min_samples_split': 5, 'max_features': 'sqrt', 'min_samples_leaf': 9, 'random_state': 760, 'n_jobs': -1}\n"
     ]
    },
    {
     "name": "stderr",
     "output_type": "stream",
     "text": [
      "\u001b[32m[I 2022-10-15 18:32:53,381]\u001b[0m Trial 23 finished with value: 3.370910442005669 and parameters: {'n_estimators': 101, 'max_depth': 326, 'min_samples_split': 5, 'max_features': 'sqrt', 'min_samples_leaf': 9}. Best is trial 18 with value: 3.364611662488348.\u001b[0m\n",
      "\u001b[32m[I 2022-10-15 18:32:53,482]\u001b[0m Trial 24 finished with value: 3.6178734372331705 and parameters: {'n_estimators': 1, 'max_depth': 426, 'min_samples_split': 8, 'max_features': 'sqrt', 'min_samples_leaf': 16}. Best is trial 18 with value: 3.364611662488348.\u001b[0m\n"
     ]
    },
    {
     "name": "stdout",
     "output_type": "stream",
     "text": [
      "complete! average cv RMSE: 3.370910442005669\n",
      "18:32:53 | Running Optuna Trial: 24\n",
      "with hyperparameters: {'n_estimators': 1, 'max_depth': 426, 'min_samples_split': 8, 'max_features': 'sqrt', 'min_samples_leaf': 16, 'random_state': 760, 'n_jobs': -1}\n",
      "complete! average cv RMSE: 3.6178734372331705\n",
      "18:32:53 | Running Optuna Trial: 25\n",
      "with hyperparameters: {'n_estimators': 226, 'max_depth': 376, 'min_samples_split': 4, 'max_features': 'sqrt', 'min_samples_leaf': 12, 'random_state': 760, 'n_jobs': -1}\n"
     ]
    },
    {
     "name": "stderr",
     "output_type": "stream",
     "text": [
      "\u001b[32m[I 2022-10-15 18:32:55,865]\u001b[0m Trial 25 finished with value: 3.3648580059741606 and parameters: {'n_estimators': 226, 'max_depth': 376, 'min_samples_split': 4, 'max_features': 'sqrt', 'min_samples_leaf': 12}. Best is trial 18 with value: 3.364611662488348.\u001b[0m\n"
     ]
    },
    {
     "name": "stdout",
     "output_type": "stream",
     "text": [
      "complete! average cv RMSE: 3.3648580059741606\n",
      "18:32:55 | Running Optuna Trial: 26\n",
      "with hyperparameters: {'n_estimators': 226, 'max_depth': 351, 'min_samples_split': 4, 'max_features': 'sqrt', 'min_samples_leaf': 20, 'random_state': 760, 'n_jobs': -1}\n"
     ]
    },
    {
     "name": "stderr",
     "output_type": "stream",
     "text": [
      "\u001b[32m[I 2022-10-15 18:32:57,963]\u001b[0m Trial 26 finished with value: 3.371052300394979 and parameters: {'n_estimators': 226, 'max_depth': 351, 'min_samples_split': 4, 'max_features': 'sqrt', 'min_samples_leaf': 20}. Best is trial 18 with value: 3.364611662488348.\u001b[0m\n"
     ]
    },
    {
     "name": "stdout",
     "output_type": "stream",
     "text": [
      "complete! average cv RMSE: 3.371052300394979\n",
      "18:32:57 | Running Optuna Trial: 27\n",
      "with hyperparameters: {'n_estimators': 151, 'max_depth': 226, 'min_samples_split': 3, 'max_features': 'sqrt', 'min_samples_leaf': 6, 'random_state': 760, 'n_jobs': -1}\n"
     ]
    },
    {
     "name": "stderr",
     "output_type": "stream",
     "text": [
      "\u001b[32m[I 2022-10-15 18:32:59,758]\u001b[0m Trial 27 finished with value: 3.3688265103731174 and parameters: {'n_estimators': 151, 'max_depth': 226, 'min_samples_split': 3, 'max_features': 'sqrt', 'min_samples_leaf': 6}. Best is trial 18 with value: 3.364611662488348.\u001b[0m\n"
     ]
    },
    {
     "name": "stdout",
     "output_type": "stream",
     "text": [
      "complete! average cv RMSE: 3.3688265103731174\n",
      "18:32:59 | Running Optuna Trial: 28\n",
      "with hyperparameters: {'n_estimators': 226, 'max_depth': 276, 'min_samples_split': 4, 'max_features': 'sqrt', 'min_samples_leaf': 9, 'random_state': 760, 'n_jobs': -1}\n"
     ]
    },
    {
     "name": "stderr",
     "output_type": "stream",
     "text": [
      "\u001b[32m[I 2022-10-15 18:33:02,272]\u001b[0m Trial 28 finished with value: 3.3699125313366736 and parameters: {'n_estimators': 226, 'max_depth': 276, 'min_samples_split': 4, 'max_features': 'sqrt', 'min_samples_leaf': 9}. Best is trial 18 with value: 3.364611662488348.\u001b[0m\n"
     ]
    },
    {
     "name": "stdout",
     "output_type": "stream",
     "text": [
      "complete! average cv RMSE: 3.3699125313366736\n",
      "18:33:02 | Running Optuna Trial: 29\n",
      "with hyperparameters: {'n_estimators': 51, 'max_depth': 376, 'min_samples_split': 5, 'max_features': 'sqrt', 'min_samples_leaf': 12, 'random_state': 760, 'n_jobs': -1}\n"
     ]
    },
    {
     "name": "stderr",
     "output_type": "stream",
     "text": [
      "\u001b[32m[I 2022-10-15 18:33:02,863]\u001b[0m Trial 29 finished with value: 3.372647135082063 and parameters: {'n_estimators': 51, 'max_depth': 376, 'min_samples_split': 5, 'max_features': 'sqrt', 'min_samples_leaf': 12}. Best is trial 18 with value: 3.364611662488348.\u001b[0m\n"
     ]
    },
    {
     "name": "stdout",
     "output_type": "stream",
     "text": [
      "complete! average cv RMSE: 3.372647135082063\n",
      "18:33:02 | Running Optuna Trial: 30\n",
      "with hyperparameters: {'n_estimators': 51, 'max_depth': 301, 'min_samples_split': 2, 'max_features': 'sqrt', 'min_samples_leaf': 16, 'random_state': 760, 'n_jobs': -1}\n"
     ]
    },
    {
     "name": "stderr",
     "output_type": "stream",
     "text": [
      "\u001b[32m[I 2022-10-15 18:33:03,484]\u001b[0m Trial 30 finished with value: 3.3808009594562973 and parameters: {'n_estimators': 51, 'max_depth': 301, 'min_samples_split': 2, 'max_features': 'sqrt', 'min_samples_leaf': 16}. Best is trial 18 with value: 3.364611662488348.\u001b[0m\n"
     ]
    },
    {
     "name": "stdout",
     "output_type": "stream",
     "text": [
      "complete! average cv RMSE: 3.3808009594562973\n",
      "18:33:03 | Running Optuna Trial: 31\n",
      "with hyperparameters: {'n_estimators': 176, 'max_depth': 351, 'min_samples_split': 6, 'max_features': 'sqrt', 'min_samples_leaf': 12, 'random_state': 760, 'n_jobs': -1}\n"
     ]
    },
    {
     "name": "stderr",
     "output_type": "stream",
     "text": [
      "\u001b[32m[I 2022-10-15 18:33:05,330]\u001b[0m Trial 31 finished with value: 3.36512990312315 and parameters: {'n_estimators': 176, 'max_depth': 351, 'min_samples_split': 6, 'max_features': 'sqrt', 'min_samples_leaf': 12}. Best is trial 18 with value: 3.364611662488348.\u001b[0m\n"
     ]
    },
    {
     "name": "stdout",
     "output_type": "stream",
     "text": [
      "complete! average cv RMSE: 3.36512990312315\n",
      "18:33:05 | Running Optuna Trial: 32\n",
      "with hyperparameters: {'n_estimators': 101, 'max_depth': 376, 'min_samples_split': 6, 'max_features': 'sqrt', 'min_samples_leaf': 13, 'random_state': 760, 'n_jobs': -1}\n"
     ]
    },
    {
     "name": "stderr",
     "output_type": "stream",
     "text": [
      "\u001b[32m[I 2022-10-15 18:33:06,476]\u001b[0m Trial 32 finished with value: 3.369390829869809 and parameters: {'n_estimators': 101, 'max_depth': 376, 'min_samples_split': 6, 'max_features': 'sqrt', 'min_samples_leaf': 13}. Best is trial 18 with value: 3.364611662488348.\u001b[0m\n"
     ]
    },
    {
     "name": "stdout",
     "output_type": "stream",
     "text": [
      "complete! average cv RMSE: 3.369390829869809\n",
      "18:33:06 | Running Optuna Trial: 33\n",
      "with hyperparameters: {'n_estimators': 176, 'max_depth': 426, 'min_samples_split': 3, 'max_features': 'sqrt', 'min_samples_leaf': 13, 'random_state': 760, 'n_jobs': -1}\n"
     ]
    },
    {
     "name": "stderr",
     "output_type": "stream",
     "text": [
      "\u001b[32m[I 2022-10-15 18:33:08,373]\u001b[0m Trial 33 finished with value: 3.3692064783764204 and parameters: {'n_estimators': 176, 'max_depth': 426, 'min_samples_split': 3, 'max_features': 'sqrt', 'min_samples_leaf': 13}. Best is trial 18 with value: 3.364611662488348.\u001b[0m\n"
     ]
    },
    {
     "name": "stdout",
     "output_type": "stream",
     "text": [
      "complete! average cv RMSE: 3.3692064783764204\n",
      "18:33:08 | Running Optuna Trial: 34\n",
      "with hyperparameters: {'n_estimators': 126, 'max_depth': 326, 'min_samples_split': 7, 'max_features': 'sqrt', 'min_samples_leaf': 15, 'random_state': 760, 'n_jobs': -1}\n"
     ]
    },
    {
     "name": "stderr",
     "output_type": "stream",
     "text": [
      "\u001b[32m[I 2022-10-15 18:33:09,666]\u001b[0m Trial 34 finished with value: 3.3699853227548338 and parameters: {'n_estimators': 126, 'max_depth': 326, 'min_samples_split': 7, 'max_features': 'sqrt', 'min_samples_leaf': 15}. Best is trial 18 with value: 3.364611662488348.\u001b[0m\n"
     ]
    },
    {
     "name": "stdout",
     "output_type": "stream",
     "text": [
      "complete! average cv RMSE: 3.3699853227548338\n",
      "18:33:09 | Running Optuna Trial: 35\n",
      "with hyperparameters: {'n_estimators': 251, 'max_depth': 426, 'min_samples_split': 8, 'max_features': 'sqrt', 'min_samples_leaf': 9, 'random_state': 760, 'n_jobs': -1}\n"
     ]
    },
    {
     "name": "stderr",
     "output_type": "stream",
     "text": [
      "\u001b[32m[I 2022-10-15 18:33:12,390]\u001b[0m Trial 35 finished with value: 3.3704207040623957 and parameters: {'n_estimators': 251, 'max_depth': 426, 'min_samples_split': 8, 'max_features': 'sqrt', 'min_samples_leaf': 9}. Best is trial 18 with value: 3.364611662488348.\u001b[0m\n"
     ]
    },
    {
     "name": "stdout",
     "output_type": "stream",
     "text": [
      "complete! average cv RMSE: 3.3704207040623957\n",
      "18:33:12 | Running Optuna Trial: 36\n",
      "with hyperparameters: {'n_estimators': 201, 'max_depth': 76, 'min_samples_split': 20, 'max_features': 'sqrt', 'min_samples_leaf': 11, 'random_state': 760, 'n_jobs': -1}\n"
     ]
    },
    {
     "name": "stderr",
     "output_type": "stream",
     "text": [
      "\u001b[32m[I 2022-10-15 18:33:14,518]\u001b[0m Trial 36 finished with value: 3.367984190528939 and parameters: {'n_estimators': 201, 'max_depth': 76, 'min_samples_split': 20, 'max_features': 'sqrt', 'min_samples_leaf': 11}. Best is trial 18 with value: 3.364611662488348.\u001b[0m\n"
     ]
    },
    {
     "name": "stdout",
     "output_type": "stream",
     "text": [
      "complete! average cv RMSE: 3.367984190528939\n",
      "18:33:14 | Running Optuna Trial: 37\n",
      "with hyperparameters: {'n_estimators': 151, 'max_depth': 376, 'min_samples_split': 5, 'max_features': 'sqrt', 'min_samples_leaf': 15, 'random_state': 760, 'n_jobs': -1}\n"
     ]
    },
    {
     "name": "stderr",
     "output_type": "stream",
     "text": [
      "\u001b[32m[I 2022-10-15 18:33:16,106]\u001b[0m Trial 37 finished with value: 3.370630952924631 and parameters: {'n_estimators': 151, 'max_depth': 376, 'min_samples_split': 5, 'max_features': 'sqrt', 'min_samples_leaf': 15}. Best is trial 18 with value: 3.364611662488348.\u001b[0m\n"
     ]
    },
    {
     "name": "stdout",
     "output_type": "stream",
     "text": [
      "complete! average cv RMSE: 3.370630952924631\n",
      "18:33:16 | Running Optuna Trial: 38\n",
      "with hyperparameters: {'n_estimators': 101, 'max_depth': 451, 'min_samples_split': 12, 'max_features': 'sqrt', 'min_samples_leaf': 14, 'random_state': 760, 'n_jobs': -1}\n"
     ]
    },
    {
     "name": "stderr",
     "output_type": "stream",
     "text": [
      "\u001b[32m[I 2022-10-15 18:33:17,301]\u001b[0m Trial 38 finished with value: 3.3706018239423825 and parameters: {'n_estimators': 101, 'max_depth': 451, 'min_samples_split': 12, 'max_features': 'sqrt', 'min_samples_leaf': 14}. Best is trial 18 with value: 3.364611662488348.\u001b[0m\n"
     ]
    },
    {
     "name": "stdout",
     "output_type": "stream",
     "text": [
      "complete! average cv RMSE: 3.3706018239423825\n",
      "==== EARLY STOPPING ACTIVATED ====\n"
     ]
    }
   ],
   "source": [
    "# actual repeated CV loop\n",
    "\n",
    "repetition_results = {\n",
    "    \"hp\": [],\n",
    "    \"rmse\": [],\n",
    "    \"mae\": []\n",
    "}\n",
    "\n",
    "for rep_i in range(N_REPS):\n",
    "    print(f\"====== Running repetition: {rep_i} ======\")\n",
    "    # shuffle training data. Make sure each iteration uses different seed\n",
    "    cv_train = train_df.sample(frac=1, random_state=760+rep_i)\n",
    "    # extract X and y arrays\n",
    "    cv_X_train, cv_y_train = cv_train.drop(['r_useful', 'r_id'], axis=1).values, cv_train['r_useful'].values\n",
    "    \n",
    "    # obtain best hyperparameters via cross-validation and TPE sampling.\n",
    "    best_params = get_best_model(cv_X_train, cv_y_train)\n",
    "    \n",
    "    rmse, mae = fit_and_score(\n",
    "        model_pipe, best_params,\n",
    "        cv_X_train, cv_y_train,\n",
    "        X_val, y_val)\n",
    "\n",
    "    # save results for this iteration\n",
    "    repetition_results[\"rmse\"].append(rmse)\n",
    "    repetition_results[\"mae\"].append(mae)\n",
    "    repetition_results[\"hp\"].append(best_params)"
   ]
  },
  {
   "cell_type": "code",
   "execution_count": 12,
   "id": "88e47611-a56a-4f97-bbac-df6a8c6c6150",
   "metadata": {},
   "outputs": [
    {
     "name": "stdout",
     "output_type": "stream",
     "text": [
      "(20000, 11)\n",
      "(20000,)\n",
      "Best overall HP:{'n_estimators': 426, 'max_depth': 201, 'min_samples_split': 2, 'max_features': 'sqrt', 'min_samples_leaf': 7}\n",
      "Best overall RMSE: 2.88\n",
      "Best overall MAE: 1.278\n"
     ]
    }
   ],
   "source": [
    "#final model performance on train+val\n",
    "X_train_val = np.vstack((X_train, X_val))\n",
    "y_train_val = np.hstack((y_train, y_val))\n",
    "print(X_train_val.shape)\n",
    "print(y_train_val.shape)\n",
    "\n",
    "rmse = repetition_results['rmse']\n",
    "best_best_i = np.argmin(rmse) # best = minimum RMSE\n",
    "hp = repetition_results['hp']\n",
    "best_best_hp = hp[best_best_i]\n",
    "\n",
    "rmse, mae = fit_and_score(model_pipe, best_best_hp,\n",
    "    X_train_val, y_train_val, X_test, y_test)\n",
    "\n",
    "print(f\"Best overall HP:{best_best_hp}\")\n",
    "print(f\"Best overall RMSE: {rmse:.4}\")\n",
    "print(f\"Best overall MAE: {mae:.4}\")"
   ]
  },
  {
   "cell_type": "code",
   "execution_count": 13,
   "id": "59e2b79f-0e23-468d-96ea-d3b562122abf",
   "metadata": {},
   "outputs": [
    {
     "name": "stdout",
     "output_type": "stream",
     "text": [
      "{'hp': [{'n_estimators': 176, 'max_depth': 176, 'min_samples_split': 2, 'max_features': 'sqrt', 'min_samples_leaf': 16}, {'n_estimators': 451, 'max_depth': 426, 'min_samples_split': 3, 'max_features': 'log2', 'min_samples_leaf': 8}, {'n_estimators': 176, 'max_depth': 151, 'min_samples_split': 13, 'max_features': 'sqrt', 'min_samples_leaf': 8}, {'n_estimators': 226, 'max_depth': 351, 'min_samples_split': 18, 'max_features': 'sqrt', 'min_samples_leaf': 11}, {'n_estimators': 426, 'max_depth': 201, 'min_samples_split': 2, 'max_features': 'sqrt', 'min_samples_leaf': 7}, {'n_estimators': 126, 'max_depth': 401, 'min_samples_split': 2, 'max_features': 'sqrt', 'min_samples_leaf': 12}], 'rmse': [3.7176528093285253, 3.7107826313562025, 3.7056255569524446, 3.719016626993414, 3.7043785929107456, 3.7158577854068704], 'mae': [1.651091622713409, 1.6534310217257444, 1.6512384505671764, 1.6527416356475277, 1.6532190938779396, 1.652887767120092]}\n",
      "\n",
      "RMSE\n",
      "mean: 3.712, stdev: 0.005715\n",
      "MAE\n",
      "mean: 1.652, stdev: 0.0009258\n"
     ]
    }
   ],
   "source": [
    "print(repetition_results)\n",
    "\n",
    "print(\"\\nRMSE\")\n",
    "rmse = repetition_results['rmse']\n",
    "print(f\"mean: {np.mean(rmse):.4}, stdev: {np.std(rmse):.4}\")\n",
    "\n",
    "print(\"MAE\")\n",
    "mae = repetition_results['mae']\n",
    "print(f\"mean: {np.mean(mae):.4}, stdev: {np.std(mae):.4}\")"
   ]
  },
  {
   "cell_type": "code",
   "execution_count": null,
   "id": "82ae3dcc-aca6-4240-af30-9d88a81111f8",
   "metadata": {},
   "outputs": [],
   "source": []
  },
  {
   "cell_type": "code",
   "execution_count": 1,
   "id": "af3e1c49-10e6-434c-b445-081473f07031",
   "metadata": {},
   "outputs": [
    {
     "name": "stdout",
     "output_type": "stream",
     "text": [
      "4\n"
     ]
    }
   ],
   "source": [
    "k = [4]\n",
    "for i in k:\n",
    "    print(i)"
   ]
  }
 ],
 "metadata": {
  "kernelspec": {
   "display_name": "Python 3 (ipykernel)",
   "language": "python",
   "name": "python3"
  },
  "language_info": {
   "codemirror_mode": {
    "name": "ipython",
    "version": 3
   },
   "file_extension": ".py",
   "mimetype": "text/x-python",
   "name": "python",
   "nbconvert_exporter": "python",
   "pygments_lexer": "ipython3",
   "version": "3.10.6"
  }
 },
 "nbformat": 4,
 "nbformat_minor": 5
}
